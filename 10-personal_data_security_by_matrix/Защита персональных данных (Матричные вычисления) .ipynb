{
 "cells": [
  {
   "cell_type": "markdown",
   "metadata": {
    "toc": true
   },
   "source": [
    "<h1>Содержание<span class=\"tocSkip\"></span></h1>\n",
    "<div class=\"toc\"><ul class=\"toc-item\"><li><span><a href=\"#Загрузка-данных\" data-toc-modified-id=\"Загрузка-данных-1\"><span class=\"toc-item-num\">1&nbsp;&nbsp;</span>Загрузка данных</a></span></li><li><span><a href=\"#Умножение-матриц\" data-toc-modified-id=\"Умножение-матриц-2\"><span class=\"toc-item-num\">2&nbsp;&nbsp;</span>Умножение матриц</a></span></li><li><span><a href=\"#Алгоритм-преобразования\" data-toc-modified-id=\"Алгоритм-преобразования-3\"><span class=\"toc-item-num\">3&nbsp;&nbsp;</span>Алгоритм преобразования</a></span></li><li><span><a href=\"#Проверка-алгоритма\" data-toc-modified-id=\"Проверка-алгоритма-4\"><span class=\"toc-item-num\">4&nbsp;&nbsp;</span>Проверка алгоритма</a></span></li><li><span><a href=\"#Чек-лист-проверки\" data-toc-modified-id=\"Чек-лист-проверки-5\"><span class=\"toc-item-num\">5&nbsp;&nbsp;</span>Чек-лист проверки</a></span></li></ul></div>"
   ]
  },
  {
   "cell_type": "markdown",
   "metadata": {},
   "source": [
    "# Защита персональных данных клиентов"
   ]
  },
  {
   "cell_type": "markdown",
   "metadata": {},
   "source": [
    "Нам нужно защитить данные клиентов страховой компании «Хоть потоп». Разработаем такой метод преобразования данных, чтобы по ним было сложно восстановить персональную информацию. Обоснуем корректность его работы.\n",
    "\n",
    "Нужно защитить данные, чтобы при преобразовании качество моделей машинного обучения не ухудшилось. Подбирать наилучшую модель не требуется."
   ]
  },
  {
   "cell_type": "markdown",
   "metadata": {},
   "source": [
    "## Загрузка данных"
   ]
  },
  {
   "cell_type": "code",
   "execution_count": 1,
   "metadata": {},
   "outputs": [],
   "source": [
    "#Импорт библиотек и фиксирование random_state\n",
    "import pandas as pd\n",
    "import matplotlib.pyplot as plt\n",
    "import numpy as np\n",
    "from sklearn.metrics import r2_score\n",
    "p_random_state=12345"
   ]
  },
  {
   "cell_type": "code",
   "execution_count": 2,
   "metadata": {},
   "outputs": [
    {
     "data": {
      "text/html": [
       "<div>\n",
       "<style scoped>\n",
       "    .dataframe tbody tr th:only-of-type {\n",
       "        vertical-align: middle;\n",
       "    }\n",
       "\n",
       "    .dataframe tbody tr th {\n",
       "        vertical-align: top;\n",
       "    }\n",
       "\n",
       "    .dataframe thead th {\n",
       "        text-align: right;\n",
       "    }\n",
       "</style>\n",
       "<table border=\"1\" class=\"dataframe\">\n",
       "  <thead>\n",
       "    <tr style=\"text-align: right;\">\n",
       "      <th></th>\n",
       "      <th>Пол</th>\n",
       "      <th>Возраст</th>\n",
       "      <th>Зарплата</th>\n",
       "      <th>Члены семьи</th>\n",
       "      <th>Страховые выплаты</th>\n",
       "    </tr>\n",
       "  </thead>\n",
       "  <tbody>\n",
       "    <tr>\n",
       "      <th>0</th>\n",
       "      <td>1</td>\n",
       "      <td>41.0</td>\n",
       "      <td>49600.0</td>\n",
       "      <td>1</td>\n",
       "      <td>0</td>\n",
       "    </tr>\n",
       "    <tr>\n",
       "      <th>1</th>\n",
       "      <td>0</td>\n",
       "      <td>46.0</td>\n",
       "      <td>38000.0</td>\n",
       "      <td>1</td>\n",
       "      <td>1</td>\n",
       "    </tr>\n",
       "    <tr>\n",
       "      <th>2</th>\n",
       "      <td>0</td>\n",
       "      <td>29.0</td>\n",
       "      <td>21000.0</td>\n",
       "      <td>0</td>\n",
       "      <td>0</td>\n",
       "    </tr>\n",
       "    <tr>\n",
       "      <th>3</th>\n",
       "      <td>0</td>\n",
       "      <td>21.0</td>\n",
       "      <td>41700.0</td>\n",
       "      <td>2</td>\n",
       "      <td>0</td>\n",
       "    </tr>\n",
       "    <tr>\n",
       "      <th>4</th>\n",
       "      <td>1</td>\n",
       "      <td>28.0</td>\n",
       "      <td>26100.0</td>\n",
       "      <td>0</td>\n",
       "      <td>0</td>\n",
       "    </tr>\n",
       "    <tr>\n",
       "      <th>...</th>\n",
       "      <td>...</td>\n",
       "      <td>...</td>\n",
       "      <td>...</td>\n",
       "      <td>...</td>\n",
       "      <td>...</td>\n",
       "    </tr>\n",
       "    <tr>\n",
       "      <th>4995</th>\n",
       "      <td>0</td>\n",
       "      <td>28.0</td>\n",
       "      <td>35700.0</td>\n",
       "      <td>2</td>\n",
       "      <td>0</td>\n",
       "    </tr>\n",
       "    <tr>\n",
       "      <th>4996</th>\n",
       "      <td>0</td>\n",
       "      <td>34.0</td>\n",
       "      <td>52400.0</td>\n",
       "      <td>1</td>\n",
       "      <td>0</td>\n",
       "    </tr>\n",
       "    <tr>\n",
       "      <th>4997</th>\n",
       "      <td>0</td>\n",
       "      <td>20.0</td>\n",
       "      <td>33900.0</td>\n",
       "      <td>2</td>\n",
       "      <td>0</td>\n",
       "    </tr>\n",
       "    <tr>\n",
       "      <th>4998</th>\n",
       "      <td>1</td>\n",
       "      <td>22.0</td>\n",
       "      <td>32700.0</td>\n",
       "      <td>3</td>\n",
       "      <td>0</td>\n",
       "    </tr>\n",
       "    <tr>\n",
       "      <th>4999</th>\n",
       "      <td>1</td>\n",
       "      <td>28.0</td>\n",
       "      <td>40600.0</td>\n",
       "      <td>1</td>\n",
       "      <td>0</td>\n",
       "    </tr>\n",
       "  </tbody>\n",
       "</table>\n",
       "<p>5000 rows × 5 columns</p>\n",
       "</div>"
      ],
      "text/plain": [
       "      Пол  Возраст  Зарплата  Члены семьи  Страховые выплаты\n",
       "0       1     41.0   49600.0            1                  0\n",
       "1       0     46.0   38000.0            1                  1\n",
       "2       0     29.0   21000.0            0                  0\n",
       "3       0     21.0   41700.0            2                  0\n",
       "4       1     28.0   26100.0            0                  0\n",
       "...   ...      ...       ...          ...                ...\n",
       "4995    0     28.0   35700.0            2                  0\n",
       "4996    0     34.0   52400.0            1                  0\n",
       "4997    0     20.0   33900.0            2                  0\n",
       "4998    1     22.0   32700.0            3                  0\n",
       "4999    1     28.0   40600.0            1                  0\n",
       "\n",
       "[5000 rows x 5 columns]"
      ]
     },
     "execution_count": 2,
     "metadata": {},
     "output_type": "execute_result"
    }
   ],
   "source": [
    "#Загрузка данных\n",
    "data= pd.read_csv('.../insurance.csv')\n",
    "data"
   ]
  },
  {
   "cell_type": "code",
   "execution_count": 3,
   "metadata": {
    "scrolled": true
   },
   "outputs": [
    {
     "name": "stdout",
     "output_type": "stream",
     "text": [
      "<class 'pandas.core.frame.DataFrame'>\n",
      "RangeIndex: 5000 entries, 0 to 4999\n",
      "Data columns (total 5 columns):\n",
      " #   Column             Non-Null Count  Dtype  \n",
      "---  ------             --------------  -----  \n",
      " 0   Пол                5000 non-null   int64  \n",
      " 1   Возраст            5000 non-null   float64\n",
      " 2   Зарплата           5000 non-null   float64\n",
      " 3   Члены семьи        5000 non-null   int64  \n",
      " 4   Страховые выплаты  5000 non-null   int64  \n",
      "dtypes: float64(2), int64(3)\n",
      "memory usage: 195.4 KB\n"
     ]
    }
   ],
   "source": [
    "data.info()"
   ]
  },
  {
   "cell_type": "code",
   "execution_count": 4,
   "metadata": {},
   "outputs": [
    {
     "data": {
      "text/html": [
       "<div>\n",
       "<style scoped>\n",
       "    .dataframe tbody tr th:only-of-type {\n",
       "        vertical-align: middle;\n",
       "    }\n",
       "\n",
       "    .dataframe tbody tr th {\n",
       "        vertical-align: top;\n",
       "    }\n",
       "\n",
       "    .dataframe thead th {\n",
       "        text-align: right;\n",
       "    }\n",
       "</style>\n",
       "<table border=\"1\" class=\"dataframe\">\n",
       "  <thead>\n",
       "    <tr style=\"text-align: right;\">\n",
       "      <th></th>\n",
       "      <th>Пол</th>\n",
       "      <th>Возраст</th>\n",
       "      <th>Зарплата</th>\n",
       "      <th>Члены семьи</th>\n",
       "      <th>Страховые выплаты</th>\n",
       "    </tr>\n",
       "  </thead>\n",
       "  <tbody>\n",
       "    <tr>\n",
       "      <th>count</th>\n",
       "      <td>5000.000000</td>\n",
       "      <td>5000.000000</td>\n",
       "      <td>5000.000000</td>\n",
       "      <td>5000.000000</td>\n",
       "      <td>5000.000000</td>\n",
       "    </tr>\n",
       "    <tr>\n",
       "      <th>mean</th>\n",
       "      <td>0.499000</td>\n",
       "      <td>30.952800</td>\n",
       "      <td>39916.360000</td>\n",
       "      <td>1.194200</td>\n",
       "      <td>0.148000</td>\n",
       "    </tr>\n",
       "    <tr>\n",
       "      <th>std</th>\n",
       "      <td>0.500049</td>\n",
       "      <td>8.440807</td>\n",
       "      <td>9900.083569</td>\n",
       "      <td>1.091387</td>\n",
       "      <td>0.463183</td>\n",
       "    </tr>\n",
       "    <tr>\n",
       "      <th>min</th>\n",
       "      <td>0.000000</td>\n",
       "      <td>18.000000</td>\n",
       "      <td>5300.000000</td>\n",
       "      <td>0.000000</td>\n",
       "      <td>0.000000</td>\n",
       "    </tr>\n",
       "    <tr>\n",
       "      <th>25%</th>\n",
       "      <td>0.000000</td>\n",
       "      <td>24.000000</td>\n",
       "      <td>33300.000000</td>\n",
       "      <td>0.000000</td>\n",
       "      <td>0.000000</td>\n",
       "    </tr>\n",
       "    <tr>\n",
       "      <th>50%</th>\n",
       "      <td>0.000000</td>\n",
       "      <td>30.000000</td>\n",
       "      <td>40200.000000</td>\n",
       "      <td>1.000000</td>\n",
       "      <td>0.000000</td>\n",
       "    </tr>\n",
       "    <tr>\n",
       "      <th>75%</th>\n",
       "      <td>1.000000</td>\n",
       "      <td>37.000000</td>\n",
       "      <td>46600.000000</td>\n",
       "      <td>2.000000</td>\n",
       "      <td>0.000000</td>\n",
       "    </tr>\n",
       "    <tr>\n",
       "      <th>max</th>\n",
       "      <td>1.000000</td>\n",
       "      <td>65.000000</td>\n",
       "      <td>79000.000000</td>\n",
       "      <td>6.000000</td>\n",
       "      <td>5.000000</td>\n",
       "    </tr>\n",
       "  </tbody>\n",
       "</table>\n",
       "</div>"
      ],
      "text/plain": [
       "               Пол      Возраст      Зарплата  Члены семьи  Страховые выплаты\n",
       "count  5000.000000  5000.000000   5000.000000  5000.000000        5000.000000\n",
       "mean      0.499000    30.952800  39916.360000     1.194200           0.148000\n",
       "std       0.500049     8.440807   9900.083569     1.091387           0.463183\n",
       "min       0.000000    18.000000   5300.000000     0.000000           0.000000\n",
       "25%       0.000000    24.000000  33300.000000     0.000000           0.000000\n",
       "50%       0.000000    30.000000  40200.000000     1.000000           0.000000\n",
       "75%       1.000000    37.000000  46600.000000     2.000000           0.000000\n",
       "max       1.000000    65.000000  79000.000000     6.000000           5.000000"
      ]
     },
     "execution_count": 4,
     "metadata": {},
     "output_type": "execute_result"
    }
   ],
   "source": [
    "data.describe()"
   ]
  },
  {
   "cell_type": "code",
   "execution_count": 5,
   "metadata": {
    "scrolled": true
   },
   "outputs": [
    {
     "data": {
      "text/plain": [
       "153"
      ]
     },
     "execution_count": 5,
     "metadata": {},
     "output_type": "execute_result"
    }
   ],
   "source": [
    "data.duplicated().sum()"
   ]
  },
  {
   "cell_type": "code",
   "execution_count": 6,
   "metadata": {},
   "outputs": [
    {
     "data": {
      "image/png": "[encoded data removed]",
      "text/plain": [
       "<Figure size 1000x1000 with 6 Axes>"
      ]
     },
     "metadata": {},
     "output_type": "display_data"
    }
   ],
   "source": [
    "data.hist(figsize=(10, 10), legend=False)\n",
    "plt.show()"
   ]
  },
  {
   "cell_type": "markdown",
   "metadata": {},
   "source": [
    "По представленным данным видим:\n",
    "- таблица состоит из 5 колонок: 4 описательных признака и 1 целевой признак\n",
    "- пропусков в таблице нет\n",
    "- типы данных в целом соответствуют содержащимся данным (возраст можно преобразовать в int)\n",
    "- в данных есть 153 дубликата (это меньше 0.5%), но удалять их нельзя, т.к. данные в целом неуникальны - разные застрахованные могут совпадать по полу, возрасту, уровню дохода и т.д.\n",
    "- по гистограммам видим распределение признаков: средний возраст застрахованных - от 20 до 30лет (среднее - 30.9), медиана по зарплате - около 40тыс., количество членов семьи - наиболее часто 0 или 1.\n",
    "- среднее по страховым выплатам - 0,148, то есть в среднем за 5 лет приходится 1 выплата на 6-7 застрахованных. (1/0.148 = 6.75). По бОльшей доле застрахованных (свыше 4 тыс человек из 5 тыс) за последние 5 лет не было ни одной выплаты.\n"
   ]
  },
  {
   "cell_type": "markdown",
   "metadata": {},
   "source": [
    "## Умножение матриц"
   ]
  },
  {
   "cell_type": "markdown",
   "metadata": {},
   "source": [
    "В этом задании вы можете записывать формулы в *Jupyter Notebook.*\n",
    "\n",
    "Чтобы записать формулу внутри текста, окружите её символами доллара \\\\$; если снаружи —  двойными символами \\\\$\\\\$. Эти формулы записываются на языке вёрстки *LaTeX.* \n",
    "\n",
    "Для примера мы записали формулы линейной регрессии. Можете их скопировать и отредактировать, чтобы решить задачу.\n",
    "\n",
    "Работать в *LaTeX* необязательно."
   ]
  },
  {
   "cell_type": "markdown",
   "metadata": {},
   "source": [
    "Обозначения:\n",
    "\n",
    "- $X$ — матрица признаков (нулевой столбец состоит из единиц)\n",
    "\n",
    "- $y$ — вектор целевого признака\n",
    "\n",
    "- $P$ — матрица, на которую умножаются признаки\n",
    "\n",
    "- $w$ — вектор весов линейной регрессии (нулевой элемент равен сдвигу)"
   ]
  },
  {
   "cell_type": "markdown",
   "metadata": {},
   "source": [
    "Предсказания:\n",
    "\n",
    "$$\n",
    "a = Xw\n",
    "$$\n",
    "\n",
    "Задача обучения:\n",
    "\n",
    "$$\n",
    "w = \\arg\\min_w MSE(Xw, y)\n",
    "$$\n",
    "\n",
    "Формула обучения:\n",
    "\n",
    "$$\n",
    "w = (X^T X)^{-1} X^T y\n",
    "$$"
   ]
  },
  {
   "cell_type": "markdown",
   "metadata": {},
   "source": [
    "**Ответ:** не изменится, так как предсказания останутся идентичными.\n",
    "\n",
    "**Обоснование:** \n",
    "Шаг 1. Рассмотрим, как изменится вектор весов w после умножения на матрицу P:\n",
    "\n",
    "<br>\n",
    "$$\n",
    "w' = ((XP)^T (XP))^{-1} (XP)^T y = (P^T X^T X P)^{-1} P^T X^T y = (X^T X P)^{-1} (P^T)^{-1} P^T X^T y = (X^T X P)^{-1} E X^T y = P^{-1} (X^T X)^{-1} X^T y = P^{-1} w\n",
    "$$\n",
    "\n",
    "Шаг 2. Рассмотрим как изменятся предсказания:\n",
    "- было до умножения\n",
    "$$\n",
    "a = Xw\n",
    "$$\n",
    "- стало после умножения (подставим вместо X - X*P, вместо w' - P^(-1)*w):\n",
    "\n",
    "$$\n",
    "a' = XP w' = X P P^{-1} w = X E w  = Xw\n",
    "$$\n",
    "Таким образом, и до умножения, и после умножения предсказания равны Xw, это означает, что результат не изменится."
   ]
  },
  {
   "cell_type": "markdown",
   "metadata": {},
   "source": [
    "## Алгоритм преобразования"
   ]
  },
  {
   "cell_type": "markdown",
   "metadata": {},
   "source": [
    "**Алгоритм**\n",
    "\n",
    "1. Взять случайную обратимую матрицу P размерностью n*n, где n - количество признаков. Проверить, что матрица обратимая.\n",
    "2. Преобразовать матрицу признаков обучающей выборки (Х), умножив ее на P (назовем ее XP)\n",
    "3. Разработать класс LinearRegression, который будет обучать модель и предсказывать результаты. Создавать отдельный класс для зашифрованных данных нет необходимости, так как при шифровании меняться будут только подаваемые на вход параметры, а алгоритм остается тот же.\n",
    "4. Обучить модель (modelP) на преобразованной матрице признаков XP (целевой признак оставляем как есть).\n",
    "5. Получить предсказания по модели - сохраним их в predictionsP\n",
    "6. Вычислить меру R2 - сохраним меру в r2P\n",
    "\n",
    "<br>Для проверки корректности:\n",
    "\n",
    "7. Обучить модель (model) на исходной матрице признаков(X)\n",
    "8. Получить предсказания модели - сохраним их в predictions и сравним со значением predictionsP\n",
    "10. Вычислим меру R2 - сохраним ее в r2 и сравним со значением r2P\n",
    "11. Сделаем вывод о качестве регрессии с применением шифрования и без."
   ]
  },
  {
   "cell_type": "markdown",
   "metadata": {},
   "source": [
    "**Обоснование**\n",
    "\n",
    "Как было доказано в п.2, если исходная матрица признаков умножается на обратимую матрицу P, то изменяются веса линейной регрессии, но не меняется качество предсказания по модели. \n",
    "При создании класса LinearRegression в методе fit,подавая на вход разные матрицы (незашифрованную и зашифрованную), мы получим разные веса.\n",
    "Однако, при предсказании в методе predict мы подаем на вход также зашифрованную и незашифрованную матрицы.\n",
    "После шифрования в методе predict зашифрованная матрица XP умножается на веса, рассчитанные также по зашифрованной матрице (w'= P^{-1}w). В результате чего умножение P и P^{-1} дает единичную матрицу. По формуле ниже мы видим, что предсказания при этом должны получиться идентичны тем, что мы бы получили на данных без шифрования.\n",
    "$$\n",
    "a' = XP w' = X P P^{-1} w = X E w = Xw\n",
    "$$\n",
    "\n",
    "Таким образом, можно обучить модель на зашифрованных с помощью обратимой матрицы Р данных и применять данную модель для прогнозирования результатов."
   ]
  },
  {
   "cell_type": "markdown",
   "metadata": {},
   "source": [
    "## Проверка алгоритма"
   ]
  },
  {
   "cell_type": "code",
   "execution_count": 7,
   "metadata": {},
   "outputs": [
    {
     "data": {
      "text/plain": [
       "array([[0.22733602, 0.31675834, 0.79736546, 0.67625467],\n",
       "       [0.39110955, 0.33281393, 0.59830875, 0.18673419],\n",
       "       [0.67275604, 0.94180287, 0.24824571, 0.94888115],\n",
       "       [0.66723745, 0.09589794, 0.44183967, 0.88647992]])"
      ]
     },
     "execution_count": 7,
     "metadata": {},
     "output_type": "execute_result"
    }
   ],
   "source": [
    "#1.Создадим случайную матрицу P размерностью 4х4\n",
    "rng = np.random.default_rng(seed=p_random_state)\n",
    "P = rng.random((4, 4))\n",
    "P"
   ]
  },
  {
   "cell_type": "code",
   "execution_count": 8,
   "metadata": {
    "scrolled": true
   },
   "outputs": [
    {
     "data": {
      "text/plain": [
       "array([[-1.97240014,  1.76004024, -0.08309671,  1.22285233],\n",
       "       [ 0.14111106,  0.32873452,  1.02824721, -1.27752175],\n",
       "       [ 0.8908452 ,  0.90302415, -0.59501472, -0.23290483],\n",
       "       [ 1.02530945, -1.81039816,  0.24787878,  0.46192295]])"
      ]
     },
     "execution_count": 8,
     "metadata": {},
     "output_type": "execute_result"
    }
   ],
   "source": [
    "#Проверим, что матрица P обратимая\n",
    "Pinv = np.linalg.inv(P)\n",
    "Pinv"
   ]
  },
  {
   "cell_type": "code",
   "execution_count": 9,
   "metadata": {},
   "outputs": [
    {
     "name": "stdout",
     "output_type": "stream",
     "text": [
      "[[1.00e+00 4.10e+01 4.96e+04 1.00e+00]\n",
      " [0.00e+00 4.60e+01 3.80e+04 1.00e+00]\n",
      " [0.00e+00 2.90e+01 2.10e+04 0.00e+00]\n",
      " ...\n",
      " [0.00e+00 2.00e+01 3.39e+04 2.00e+00]\n",
      " [1.00e+00 2.20e+01 3.27e+04 3.00e+00]\n",
      " [1.00e+00 2.80e+01 4.06e+04 1.00e+00]]\n",
      "[0 1 0 ... 0 0 0]\n"
     ]
    }
   ],
   "source": [
    "#Определим фичи и таргет\n",
    "X = np.array(data.drop('Страховые выплаты', axis=1))\n",
    "y = np.array(data['Страховые выплаты'])\n",
    "print(X)\n",
    "print(y)"
   ]
  },
  {
   "cell_type": "code",
   "execution_count": 10,
   "metadata": {
    "scrolled": true
   },
   "outputs": [
    {
     "data": {
      "text/plain": [
       "array([[33385.62984818, 46727.48014471, 12338.75730965, 47073.72396713],\n",
       "       [25583.38794934, 35803.91421888,  9461.30119825, 36066.96002212],\n",
       "       [14139.21910127, 19787.51177458,  5230.51096108, 19931.91947988],\n",
       "       ...,\n",
       "       [22815.58655801, 31933.96520708,  8428.37958035, 32172.5786907 ],\n",
       "       [22009.95609777, 30804.88005289,  8132.92054542, 31035.85751146],\n",
       "       [27325.74102789, 38246.92777622, 10096.76786418, 38531.36605622]])"
      ]
     },
     "execution_count": 10,
     "metadata": {},
     "output_type": "execute_result"
    }
   ],
   "source": [
    "#2.Преобразуем матрицу признаков обучающей выборки (Х), умножив ее на P (назовем ее XP)\n",
    "XP = X.dot(P)\n",
    "XP"
   ]
  },
  {
   "cell_type": "code",
   "execution_count": 11,
   "metadata": {},
   "outputs": [
    {
     "name": "stdout",
     "output_type": "stream",
     "text": [
      "(5000, 4)\n",
      "[[ 3.34594430e-03 -4.85083831e-04 -1.42822712e-03 -1.51714885e-03]\n",
      " [-4.85083923e-04  2.82743558e-04  1.58866627e-04  2.17290793e-05]\n",
      " [-1.42822710e-03  1.58866584e-04  6.25545348e-04  6.91270305e-04]\n",
      " [-1.51714876e-03  2.17290251e-05  6.91270277e-04  8.73235950e-04]]\n",
      "(4, 4)\n"
     ]
    }
   ],
   "source": [
    "print(XP.shape)\n",
    "print(np.linalg.inv(XP.T.dot(XP)))\n",
    "m1=XP.T.dot(XP)\n",
    "print(m1.shape)"
   ]
  },
  {
   "cell_type": "markdown",
   "metadata": {},
   "source": [
    "Видим, что признаки в матрице Х теперь зашифрованы и неинтерпретируемы."
   ]
  },
  {
   "cell_type": "code",
   "execution_count": 12,
   "metadata": {},
   "outputs": [],
   "source": [
    "#3.Разработаем класс LinearRegression для обучения и предсказания\n",
    "class LinearRegression:\n",
    "    def fit(self, train_features, train_target):\n",
    "        X = np.concatenate((np.ones((train_features.shape[0], 1)), train_features), axis=1)\n",
    "        y = train_target\n",
    "        w = np.linalg.inv(X.T.dot(X)).dot(X.T).dot(y)\n",
    "        self.w = w[1:]\n",
    "        self.w0 = w[0]\n",
    "\n",
    "    def predict(self, test_features):\n",
    "        return test_features.dot(self.w) + self.w0"
   ]
  },
  {
   "cell_type": "code",
   "execution_count": 13,
   "metadata": {},
   "outputs": [
    {
     "name": "stdout",
     "output_type": "stream",
     "text": [
      "Пример первых 5 предсказаний: [ 0.51172749  0.68431614  0.09373389 -0.22258844  0.06508396]\n",
      "Мера R2 на данных с шифрованием: 0.4249455028661825\n"
     ]
    }
   ],
   "source": [
    "#4.Обучим модель (modelP) на преобразованной матрице признаков XP (целевой признак оставляем как есть).\n",
    "modelP = LinearRegression()\n",
    "modelP.fit(XP, y)\n",
    "predictionsP = modelP.predict(XP )\n",
    "print('Пример первых 5 предсказаний:',predictionsP[:5]) #посмотрим часть предсказаний\n",
    "r2P = r2_score(y, predictionsP) #посчитаем меру R2\n",
    "print('Мера R2 на данных с шифрованием:',r2P)"
   ]
  },
  {
   "cell_type": "markdown",
   "metadata": {},
   "source": [
    "**Сравним полученные результаты с результатами без шифрования:**"
   ]
  },
  {
   "cell_type": "code",
   "execution_count": 14,
   "metadata": {},
   "outputs": [
    {
     "name": "stdout",
     "output_type": "stream",
     "text": [
      "Пример первых 5 предсказаний: [ 0.51172715  0.68431581  0.09373365 -0.22258878  0.06508374]\n",
      "Мера R2 на данных с шифрованием: 0.4249455028666801\n"
     ]
    }
   ],
   "source": [
    "#7.Обучим модель (model) на исходной матрице признаков X (целевой признак оставляем как есть).\n",
    "model = LinearRegression()\n",
    "model.fit(X, y)\n",
    "predictions = model.predict(X)\n",
    "print('Пример первых 5 предсказаний:',predictions[:5]) #посмотрим часть предсказаний\n",
    "r2 = r2_score(y, predictions) #посчитаем меру R2\n",
    "print('Мера R2 на данных с шифрованием:', r2)"
   ]
  },
  {
   "cell_type": "markdown",
   "metadata": {},
   "source": [
    "Видим, что данные действительно получились идентичные. Таким образом, чтобы защитить персональные данные клиентов, можно перед обучением модели линейной регрессии умножать их на обратимую матрицу."
   ]
  }
 ],
 "metadata": {
  "ExecuteTimeLog": [
   {
    "duration": 45,
    "start_time": "2023-11-14T19:18:50.005Z"
   },
   {
    "duration": 371,
    "start_time": "2023-11-14T19:18:56.994Z"
   },
   {
    "duration": 91,
    "start_time": "2023-11-14T19:18:58.307Z"
   },
   {
    "duration": 433,
    "start_time": "2023-11-15T11:16:33.155Z"
   },
   {
    "duration": 70,
    "start_time": "2023-11-15T12:18:49.367Z"
   },
   {
    "duration": 2,
    "start_time": "2023-11-15T12:18:54.039Z"
   },
   {
    "duration": 94,
    "start_time": "2023-11-15T12:18:55.639Z"
   },
   {
    "duration": 7,
    "start_time": "2023-11-15T12:19:00.286Z"
   },
   {
    "duration": 5,
    "start_time": "2023-11-15T12:19:22.778Z"
   },
   {
    "duration": 5,
    "start_time": "2023-11-15T12:19:30.376Z"
   },
   {
    "duration": 2,
    "start_time": "2023-11-15T12:19:38.826Z"
   },
   {
    "duration": 6,
    "start_time": "2023-11-15T12:19:43.088Z"
   },
   {
    "duration": 5,
    "start_time": "2023-11-15T12:19:46.688Z"
   },
   {
    "duration": 2,
    "start_time": "2023-11-15T12:19:55.938Z"
   },
   {
    "duration": 5,
    "start_time": "2023-11-15T12:20:00.219Z"
   },
   {
    "duration": 16,
    "start_time": "2023-11-15T12:32:55.443Z"
   },
   {
    "duration": 6,
    "start_time": "2023-11-15T12:33:01.582Z"
   },
   {
    "duration": 6,
    "start_time": "2023-11-15T12:33:25.126Z"
   },
   {
    "duration": 132,
    "start_time": "2023-11-15T12:36:02.026Z"
   },
   {
    "duration": 5,
    "start_time": "2023-11-15T12:42:05.169Z"
   },
   {
    "duration": 5,
    "start_time": "2023-11-15T12:42:07.763Z"
   },
   {
    "duration": 7,
    "start_time": "2023-11-15T12:42:28.715Z"
   },
   {
    "duration": 7,
    "start_time": "2023-11-15T12:43:46.943Z"
   },
   {
    "duration": 4,
    "start_time": "2023-11-15T12:44:16.377Z"
   },
   {
    "duration": 4,
    "start_time": "2023-11-15T12:44:22.035Z"
   },
   {
    "duration": 754,
    "start_time": "2023-11-15T12:55:31.551Z"
   },
   {
    "duration": 9,
    "start_time": "2023-11-15T12:57:11.113Z"
   },
   {
    "duration": 70,
    "start_time": "2023-11-15T12:57:33.594Z"
   },
   {
    "duration": 5,
    "start_time": "2023-11-15T12:57:36.612Z"
   },
   {
    "duration": 28,
    "start_time": "2023-11-15T12:57:38.663Z"
   },
   {
    "duration": 14,
    "start_time": "2023-11-15T13:04:55.398Z"
   },
   {
    "duration": 132,
    "start_time": "2023-11-15T13:05:03.103Z"
   },
   {
    "duration": 7,
    "start_time": "2023-11-15T13:05:07.889Z"
   },
   {
    "duration": 16,
    "start_time": "2023-11-15T13:05:10.959Z"
   },
   {
    "duration": 11,
    "start_time": "2023-11-15T13:18:19.949Z"
   },
   {
    "duration": 11,
    "start_time": "2023-11-15T13:19:06.454Z"
   },
   {
    "duration": 8,
    "start_time": "2023-11-15T13:19:09.251Z"
   },
   {
    "duration": 8,
    "start_time": "2023-11-15T13:20:38.875Z"
   },
   {
    "duration": 7,
    "start_time": "2023-11-15T13:21:30.714Z"
   },
   {
    "duration": 10,
    "start_time": "2023-11-15T13:22:03.729Z"
   },
   {
    "duration": 10,
    "start_time": "2023-11-15T13:22:07.124Z"
   },
   {
    "duration": 9,
    "start_time": "2023-11-15T14:07:31.402Z"
   },
   {
    "duration": 12,
    "start_time": "2023-11-15T14:08:11.276Z"
   },
   {
    "duration": 1141,
    "start_time": "2023-11-15T14:14:35.548Z"
   },
   {
    "duration": 45,
    "start_time": "2023-11-15T14:14:36.691Z"
   },
   {
    "duration": 6,
    "start_time": "2023-11-15T14:14:36.738Z"
   },
   {
    "duration": 7,
    "start_time": "2023-11-15T14:14:36.746Z"
   },
   {
    "duration": 8,
    "start_time": "2023-11-15T14:14:36.757Z"
   },
   {
    "duration": 89,
    "start_time": "2023-11-15T14:14:36.767Z"
   },
   {
    "duration": 6,
    "start_time": "2023-11-15T14:14:36.858Z"
   },
   {
    "duration": 91,
    "start_time": "2023-11-15T14:14:36.866Z"
   },
   {
    "duration": 97,
    "start_time": "2023-11-15T14:14:36.959Z"
   },
   {
    "duration": 1123,
    "start_time": "2023-11-15T14:14:53.881Z"
   },
   {
    "duration": 48,
    "start_time": "2023-11-15T14:14:55.006Z"
   },
   {
    "duration": 6,
    "start_time": "2023-11-15T14:14:55.056Z"
   },
   {
    "duration": 29,
    "start_time": "2023-11-15T14:14:55.064Z"
   },
   {
    "duration": 63,
    "start_time": "2023-11-15T14:14:55.096Z"
   },
   {
    "duration": 14,
    "start_time": "2023-11-15T14:14:55.162Z"
   },
   {
    "duration": 101,
    "start_time": "2023-11-15T14:14:55.178Z"
   },
   {
    "duration": 31,
    "start_time": "2023-11-15T14:14:55.280Z"
   },
   {
    "duration": 140,
    "start_time": "2023-11-15T14:14:55.316Z"
   },
   {
    "duration": 1784,
    "start_time": "2023-11-15T15:12:03.808Z"
   },
   {
    "duration": 54,
    "start_time": "2023-11-15T15:12:05.594Z"
   },
   {
    "duration": 5,
    "start_time": "2023-11-15T15:12:05.649Z"
   },
   {
    "duration": 31,
    "start_time": "2023-11-15T15:12:05.656Z"
   },
   {
    "duration": 69,
    "start_time": "2023-11-15T15:12:05.689Z"
   },
   {
    "duration": 96,
    "start_time": "2023-11-15T15:12:05.760Z"
   },
   {
    "duration": 4,
    "start_time": "2023-11-15T15:12:05.858Z"
   },
   {
    "duration": 38,
    "start_time": "2023-11-15T15:12:05.864Z"
   },
   {
    "duration": 159,
    "start_time": "2023-11-15T15:12:05.904Z"
   },
   {
    "duration": 1882,
    "start_time": "2023-11-15T15:20:54.669Z"
   },
   {
    "duration": 43,
    "start_time": "2023-11-15T15:20:56.553Z"
   },
   {
    "duration": 4,
    "start_time": "2023-11-15T15:20:56.597Z"
   },
   {
    "duration": 19,
    "start_time": "2023-11-15T15:20:56.603Z"
   },
   {
    "duration": 36,
    "start_time": "2023-11-15T15:20:56.624Z"
   },
   {
    "duration": 98,
    "start_time": "2023-11-15T15:20:56.661Z"
   },
   {
    "duration": 4,
    "start_time": "2023-11-15T15:20:56.760Z"
   },
   {
    "duration": 36,
    "start_time": "2023-11-15T15:20:56.765Z"
   },
   {
    "duration": 166,
    "start_time": "2023-11-15T15:20:56.803Z"
   },
   {
    "duration": 55,
    "start_time": "2023-11-15T16:20:35.179Z"
   },
   {
    "duration": 7,
    "start_time": "2023-11-15T16:20:35.422Z"
   },
   {
    "duration": 1061,
    "start_time": "2023-11-15T16:24:42.503Z"
   },
   {
    "duration": 93,
    "start_time": "2023-11-15T16:24:43.566Z"
   },
   {
    "duration": 5,
    "start_time": "2023-11-15T16:24:43.660Z"
   },
   {
    "duration": 6,
    "start_time": "2023-11-15T16:24:43.666Z"
   },
   {
    "duration": 14,
    "start_time": "2023-11-15T16:24:43.673Z"
   },
   {
    "duration": 69,
    "start_time": "2023-11-15T16:24:56.663Z"
   },
   {
    "duration": 6,
    "start_time": "2023-11-15T16:24:58.822Z"
   },
   {
    "duration": 4,
    "start_time": "2023-11-15T16:25:00.388Z"
   },
   {
    "duration": 4,
    "start_time": "2023-11-15T18:49:22.895Z"
   },
   {
    "duration": 67,
    "start_time": "2023-11-15T18:49:22.911Z"
   },
   {
    "duration": 6,
    "start_time": "2023-11-15T18:49:22.980Z"
   },
   {
    "duration": 39,
    "start_time": "2023-11-15T18:49:22.987Z"
   },
   {
    "duration": 39,
    "start_time": "2023-11-15T18:49:23.028Z"
   },
   {
    "duration": 98,
    "start_time": "2023-11-15T18:49:23.070Z"
   },
   {
    "duration": 4,
    "start_time": "2023-11-15T18:49:23.169Z"
   },
   {
    "duration": 28,
    "start_time": "2023-11-15T18:49:23.174Z"
   },
   {
    "duration": 14,
    "start_time": "2023-11-15T18:49:47.756Z"
   },
   {
    "duration": 4,
    "start_time": "2023-11-15T18:49:51.311Z"
   },
   {
    "duration": 9,
    "start_time": "2023-11-15T18:49:56.941Z"
   },
   {
    "duration": 87,
    "start_time": "2023-11-15T19:33:48.606Z"
   },
   {
    "duration": 5318,
    "start_time": "2023-11-15T20:05:23.892Z"
   },
   {
    "duration": 50,
    "start_time": "2023-11-16T09:13:13.358Z"
   },
   {
    "duration": 1328,
    "start_time": "2023-11-16T09:13:18.605Z"
   },
   {
    "duration": 94,
    "start_time": "2023-11-16T09:13:19.934Z"
   },
   {
    "duration": 6,
    "start_time": "2023-11-16T09:13:20.029Z"
   },
   {
    "duration": 16,
    "start_time": "2023-11-16T09:13:20.037Z"
   },
   {
    "duration": 12,
    "start_time": "2023-11-16T09:13:20.056Z"
   },
   {
    "duration": 8,
    "start_time": "2023-11-16T09:13:20.070Z"
   },
   {
    "duration": 4,
    "start_time": "2023-11-16T09:13:26.999Z"
   },
   {
    "duration": 7101,
    "start_time": "2023-11-16T09:13:27.907Z"
   },
   {
    "duration": 5,
    "start_time": "2023-11-16T09:14:10.865Z"
   },
   {
    "duration": 7,
    "start_time": "2023-11-16T09:14:47.017Z"
   },
   {
    "duration": 77,
    "start_time": "2023-11-16T10:22:20.290Z"
   },
   {
    "duration": 12,
    "start_time": "2023-11-16T10:23:01.170Z"
   },
   {
    "duration": 17,
    "start_time": "2023-11-16T10:23:06.530Z"
   },
   {
    "duration": 35,
    "start_time": "2023-11-16T10:23:21.456Z"
   },
   {
    "duration": 9,
    "start_time": "2023-11-16T10:28:50.687Z"
   },
   {
    "duration": 10,
    "start_time": "2023-11-16T10:29:02.268Z"
   },
   {
    "duration": 1147,
    "start_time": "2023-11-16T10:35:21.815Z"
   },
   {
    "duration": 599,
    "start_time": "2023-11-16T10:35:31.278Z"
   },
   {
    "duration": 607,
    "start_time": "2023-11-16T10:35:38.576Z"
   },
   {
    "duration": 1418,
    "start_time": "2023-11-16T10:52:29.382Z"
   },
   {
    "duration": 43,
    "start_time": "2023-11-16T10:52:30.802Z"
   },
   {
    "duration": 32,
    "start_time": "2023-11-16T10:52:30.847Z"
   },
   {
    "duration": 79,
    "start_time": "2023-11-16T10:52:30.882Z"
   },
   {
    "duration": 21,
    "start_time": "2023-11-16T10:52:30.963Z"
   },
   {
    "duration": 640,
    "start_time": "2023-11-16T10:52:30.987Z"
   },
   {
    "duration": 5,
    "start_time": "2023-11-16T10:52:31.629Z"
   },
   {
    "duration": 35,
    "start_time": "2023-11-16T10:52:31.636Z"
   },
   {
    "duration": 9,
    "start_time": "2023-11-16T10:52:31.674Z"
   },
   {
    "duration": 102,
    "start_time": "2023-11-16T10:52:31.685Z"
   },
   {
    "duration": 5,
    "start_time": "2023-11-16T10:52:31.789Z"
   },
   {
    "duration": 99,
    "start_time": "2023-11-16T10:52:31.868Z"
   },
   {
    "duration": 20,
    "start_time": "2023-11-16T10:52:31.968Z"
   },
   {
    "duration": 177,
    "start_time": "2023-11-16T10:52:31.991Z"
   },
   {
    "duration": 2455,
    "start_time": "2023-11-16T11:08:17.932Z"
   },
   {
    "duration": 93,
    "start_time": "2023-11-16T11:08:20.389Z"
   },
   {
    "duration": 29,
    "start_time": "2023-11-16T11:08:20.485Z"
   },
   {
    "duration": 46,
    "start_time": "2023-11-16T11:08:20.517Z"
   },
   {
    "duration": 8,
    "start_time": "2023-11-16T11:08:20.565Z"
   },
   {
    "duration": 683,
    "start_time": "2023-11-16T11:08:20.575Z"
   },
   {
    "duration": 6,
    "start_time": "2023-11-16T11:08:21.260Z"
   },
   {
    "duration": 7,
    "start_time": "2023-11-16T11:08:21.269Z"
   },
   {
    "duration": 8,
    "start_time": "2023-11-16T11:08:21.311Z"
   },
   {
    "duration": 88,
    "start_time": "2023-11-16T11:08:21.322Z"
   },
   {
    "duration": 6,
    "start_time": "2023-11-16T11:08:21.413Z"
   },
   {
    "duration": 92,
    "start_time": "2023-11-16T11:08:21.421Z"
   },
   {
    "duration": 103,
    "start_time": "2023-11-16T11:08:21.516Z"
   },
   {
    "duration": 104,
    "start_time": "2023-11-16T11:08:21.621Z"
   },
   {
    "duration": 2095,
    "start_time": "2023-11-16T11:23:23.847Z"
   },
   {
    "duration": 46,
    "start_time": "2023-11-16T11:23:25.944Z"
   },
   {
    "duration": 12,
    "start_time": "2023-11-16T11:23:25.992Z"
   },
   {
    "duration": 35,
    "start_time": "2023-11-16T11:23:26.007Z"
   },
   {
    "duration": 7,
    "start_time": "2023-11-16T11:23:26.044Z"
   },
   {
    "duration": 644,
    "start_time": "2023-11-16T11:23:26.052Z"
   },
   {
    "duration": 5,
    "start_time": "2023-11-16T11:23:26.698Z"
   },
   {
    "duration": 11,
    "start_time": "2023-11-16T11:23:26.712Z"
   },
   {
    "duration": 11,
    "start_time": "2023-11-16T11:23:26.725Z"
   },
   {
    "duration": 76,
    "start_time": "2023-11-16T11:23:26.739Z"
   },
   {
    "duration": 11,
    "start_time": "2023-11-16T11:23:26.817Z"
   },
   {
    "duration": 13,
    "start_time": "2023-11-16T11:23:26.911Z"
   },
   {
    "duration": 185,
    "start_time": "2023-11-16T11:23:26.926Z"
   },
   {
    "duration": 105,
    "start_time": "2023-11-16T11:23:27.113Z"
   },
   {
    "duration": 7,
    "start_time": "2023-11-16T11:27:46.357Z"
   }
  ],
  "kernelspec": {
   "display_name": "Python 3 (ipykernel)",
   "language": "python",
   "name": "python3"
  },
  "language_info": {
   "codemirror_mode": {
    "name": "ipython",
    "version": 3
   },
   "file_extension": ".py",
   "mimetype": "text/x-python",
   "name": "python",
   "nbconvert_exporter": "python",
   "pygments_lexer": "ipython3",
   "version": "3.11.5"
  },
  "toc": {
   "base_numbering": 1,
   "nav_menu": {},
   "number_sections": true,
   "sideBar": true,
   "skip_h1_title": true,
   "title_cell": "Содержание",
   "title_sidebar": "Contents",
   "toc_cell": true,
   "toc_position": {},
   "toc_section_display": true,
   "toc_window_display": true
  }
 },
 "nbformat": 4,
 "nbformat_minor": 4
}
