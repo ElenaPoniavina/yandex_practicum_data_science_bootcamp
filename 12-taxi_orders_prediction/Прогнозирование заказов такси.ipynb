{
 "cells": [
  {
   "cell_type": "markdown",
   "metadata": {},
   "source": [
    "#  Прогнозирование заказов такси"
   ]
  },
  {
   "cell_type": "markdown",
   "metadata": {},
   "source": [
    "Компания «Чётенькое такси» собрала исторические данные о заказах такси в аэропортах. Чтобы привлекать больше водителей в период пиковой нагрузки, нужно спрогнозировать количество заказов такси на следующий час. Постройте модель для такого предсказания.\n",
    "\n",
    "Значение метрики *RMSE* на тестовой выборке должно быть не больше 48.\n",
    "\n",
    "Вам нужно:\n",
    "\n",
    "1. Загрузить данные и выполнить их ресемплирование по одному часу.\n",
    "2. Проанализировать данные.\n",
    "3. Обучить разные модели с различными гиперпараметрами. Сделать тестовую выборку размером 10% от исходных данных.\n",
    "4. Проверить данные на тестовой выборке и сделать выводы.\n",
    "\n",
    "\n",
    "Данные лежат в файле `taxi.csv`. Количество заказов находится в столбце `num_orders` (от англ. *number of orders*, «число заказов»)."
   ]
  },
  {
   "cell_type": "markdown",
   "metadata": {},
   "source": [
    "## Подготовка"
   ]
  },
  {
   "cell_type": "code",
   "execution_count": 1,
   "metadata": {},
   "outputs": [],
   "source": [
    "import time \n",
    "import pandas as pd\n",
    "import numpy as np\n",
    "import matplotlib.pyplot as plt\n",
    "\n",
    "from statsmodels.tsa.seasonal import seasonal_decompose\n",
    "#from statsmodels.tsa.api import ExponentialSmoothing\n",
    "from statsmodels.tsa.stattools import adfuller\n",
    "\n",
    "from sklearn.model_selection import train_test_split, cross_val_score, TimeSeriesSplit, GridSearchCV\n",
    "from sklearn.preprocessing import StandardScaler\n",
    "from sklearn.metrics import mean_squared_error, make_scorer\n",
    "from sklearn.linear_model import LinearRegression\n",
    "from sklearn.tree import DecisionTreeRegressor\n",
    "from sklearn.ensemble import RandomForestRegressor\n",
    "from sklearn.dummy import DummyRegressor\n",
    "\n",
    "from scipy.stats import boxcox \n",
    "\n",
    "# Константы\n",
    "RANDOM_STATE = 12345"
   ]
  },
  {
   "cell_type": "code",
   "execution_count": 2,
   "metadata": {},
   "outputs": [
    {
     "data": {
      "text/html": [
       "<div>\n",
       "<style scoped>\n",
       "    .dataframe tbody tr th:only-of-type {\n",
       "        vertical-align: middle;\n",
       "    }\n",
       "\n",
       "    .dataframe tbody tr th {\n",
       "        vertical-align: top;\n",
       "    }\n",
       "\n",
       "    .dataframe thead th {\n",
       "        text-align: right;\n",
       "    }\n",
       "</style>\n",
       "<table border=\"1\" class=\"dataframe\">\n",
       "  <thead>\n",
       "    <tr style=\"text-align: right;\">\n",
       "      <th></th>\n",
       "      <th>num_orders</th>\n",
       "    </tr>\n",
       "    <tr>\n",
       "      <th>datetime</th>\n",
       "      <th></th>\n",
       "    </tr>\n",
       "  </thead>\n",
       "  <tbody>\n",
       "    <tr>\n",
       "      <th>2018-03-01 00:00:00</th>\n",
       "      <td>9</td>\n",
       "    </tr>\n",
       "    <tr>\n",
       "      <th>2018-03-01 00:10:00</th>\n",
       "      <td>14</td>\n",
       "    </tr>\n",
       "    <tr>\n",
       "      <th>2018-03-01 00:20:00</th>\n",
       "      <td>28</td>\n",
       "    </tr>\n",
       "  </tbody>\n",
       "</table>\n",
       "</div>"
      ],
      "text/plain": [
       "                     num_orders\n",
       "datetime                       \n",
       "2018-03-01 00:00:00           9\n",
       "2018-03-01 00:10:00          14\n",
       "2018-03-01 00:20:00          28"
      ]
     },
     "execution_count": 2,
     "metadata": {},
     "output_type": "execute_result"
    }
   ],
   "source": [
    "data = pd.read_csv('...',index_col=[0], parse_dates=[0])\n",
    "data.head(3)"
   ]
  },
  {
   "cell_type": "code",
   "execution_count": 3,
   "metadata": {},
   "outputs": [
    {
     "name": "stdout",
     "output_type": "stream",
     "text": [
      "2018-03-01 00:00:00\n",
      "2018-08-31 23:50:00\n"
     ]
    }
   ],
   "source": [
    "print(data.index.min())\n",
    "print(data.index.max())"
   ]
  },
  {
   "cell_type": "markdown",
   "metadata": {},
   "source": [
    "Видм, что таблица состоит из поля num_orders, индексируется по датам и содержит данные с 1марта по 31 декабря 2018года.\n",
    "<br>Переименование колонок не требуется."
   ]
  },
  {
   "cell_type": "code",
   "execution_count": 4,
   "metadata": {},
   "outputs": [
    {
     "name": "stdout",
     "output_type": "stream",
     "text": [
      "<class 'pandas.core.frame.DataFrame'>\n",
      "DatetimeIndex: 26496 entries, 2018-03-01 00:00:00 to 2018-08-31 23:50:00\n",
      "Data columns (total 1 columns):\n",
      " #   Column      Non-Null Count  Dtype\n",
      "---  ------      --------------  -----\n",
      " 0   num_orders  26496 non-null  int64\n",
      "dtypes: int64(1)\n",
      "memory usage: 414.0 KB\n",
      "None\n"
     ]
    }
   ],
   "source": [
    "print(data.info())"
   ]
  },
  {
   "cell_type": "markdown",
   "metadata": {},
   "source": [
    "Исправление типов данных не требуется.\n",
    "<br>Проверим монотонность(упорядоченность) индекса."
   ]
  },
  {
   "cell_type": "code",
   "execution_count": 5,
   "metadata": {},
   "outputs": [
    {
     "name": "stdout",
     "output_type": "stream",
     "text": [
      "True\n"
     ]
    }
   ],
   "source": [
    "print(data.index.is_monotonic)"
   ]
  },
  {
   "cell_type": "markdown",
   "metadata": {},
   "source": [
    "Индекс упорядоченный, дополнительных действий не требуется.\n",
    "<br> Проверим таблицу на пропуски значений."
   ]
  },
  {
   "cell_type": "code",
   "execution_count": 6,
   "metadata": {},
   "outputs": [
    {
     "data": {
      "text/html": [
       "<div>\n",
       "<style scoped>\n",
       "    .dataframe tbody tr th:only-of-type {\n",
       "        vertical-align: middle;\n",
       "    }\n",
       "\n",
       "    .dataframe tbody tr th {\n",
       "        vertical-align: top;\n",
       "    }\n",
       "\n",
       "    .dataframe thead th {\n",
       "        text-align: right;\n",
       "    }\n",
       "</style>\n",
       "<table border=\"1\" class=\"dataframe\">\n",
       "  <thead>\n",
       "    <tr style=\"text-align: right;\">\n",
       "      <th></th>\n",
       "      <th>num_orders</th>\n",
       "    </tr>\n",
       "    <tr>\n",
       "      <th>datetime</th>\n",
       "      <th></th>\n",
       "    </tr>\n",
       "  </thead>\n",
       "  <tbody>\n",
       "  </tbody>\n",
       "</table>\n",
       "</div>"
      ],
      "text/plain": [
       "Empty DataFrame\n",
       "Columns: [num_orders]\n",
       "Index: []"
      ]
     },
     "execution_count": 6,
     "metadata": {},
     "output_type": "execute_result"
    }
   ],
   "source": [
    "data[data['num_orders'].isna()]"
   ]
  },
  {
   "cell_type": "markdown",
   "metadata": {},
   "source": [
    "Пропусков в таблице нет.\n",
    "<br>Проверим индекс на дубликаты (поверять колонку num_orders на дубликаты не имеет смысла, так как по смыслу они возможны и допустимы)."
   ]
  },
  {
   "cell_type": "code",
   "execution_count": 7,
   "metadata": {},
   "outputs": [
    {
     "data": {
      "text/html": [
       "<div>\n",
       "<style scoped>\n",
       "    .dataframe tbody tr th:only-of-type {\n",
       "        vertical-align: middle;\n",
       "    }\n",
       "\n",
       "    .dataframe tbody tr th {\n",
       "        vertical-align: top;\n",
       "    }\n",
       "\n",
       "    .dataframe thead th {\n",
       "        text-align: right;\n",
       "    }\n",
       "</style>\n",
       "<table border=\"1\" class=\"dataframe\">\n",
       "  <thead>\n",
       "    <tr style=\"text-align: right;\">\n",
       "      <th></th>\n",
       "      <th>num_orders</th>\n",
       "    </tr>\n",
       "    <tr>\n",
       "      <th>datetime</th>\n",
       "      <th></th>\n",
       "    </tr>\n",
       "  </thead>\n",
       "  <tbody>\n",
       "  </tbody>\n",
       "</table>\n",
       "</div>"
      ],
      "text/plain": [
       "Empty DataFrame\n",
       "Columns: [num_orders]\n",
       "Index: []"
      ]
     },
     "execution_count": 7,
     "metadata": {},
     "output_type": "execute_result"
    }
   ],
   "source": [
    "data[data.index.duplicated()]"
   ]
  },
  {
   "cell_type": "markdown",
   "metadata": {},
   "source": [
    "**Вывод:**\n",
    "- Таблица состоит из поля num_orders, индексируется по датам и содержит данные с 1марта по 31 декабря 2018года.\n",
    "- Переименование колонок не требуется\n",
    "- Исправление типов данных не требуется\n",
    "- Индекс упорядоченный\n",
    "- Пропущенных значений нет\n",
    "- Дубликатов по индексу нет"
   ]
  },
  {
   "cell_type": "markdown",
   "metadata": {},
   "source": [
    "## Анализ"
   ]
  },
  {
   "cell_type": "markdown",
   "metadata": {},
   "source": [
    "### Общий анализ"
   ]
  },
  {
   "cell_type": "markdown",
   "metadata": {},
   "source": [
    "Посмотрим описательную статистику по показателю num_orders."
   ]
  },
  {
   "cell_type": "code",
   "execution_count": 8,
   "metadata": {},
   "outputs": [
    {
     "data": {
      "text/html": [
       "<div>\n",
       "<style scoped>\n",
       "    .dataframe tbody tr th:only-of-type {\n",
       "        vertical-align: middle;\n",
       "    }\n",
       "\n",
       "    .dataframe tbody tr th {\n",
       "        vertical-align: top;\n",
       "    }\n",
       "\n",
       "    .dataframe thead th {\n",
       "        text-align: right;\n",
       "    }\n",
       "</style>\n",
       "<table border=\"1\" class=\"dataframe\">\n",
       "  <thead>\n",
       "    <tr style=\"text-align: right;\">\n",
       "      <th></th>\n",
       "      <th>num_orders</th>\n",
       "    </tr>\n",
       "  </thead>\n",
       "  <tbody>\n",
       "    <tr>\n",
       "      <th>count</th>\n",
       "      <td>26496.000000</td>\n",
       "    </tr>\n",
       "    <tr>\n",
       "      <th>mean</th>\n",
       "      <td>14.070463</td>\n",
       "    </tr>\n",
       "    <tr>\n",
       "      <th>std</th>\n",
       "      <td>9.211330</td>\n",
       "    </tr>\n",
       "    <tr>\n",
       "      <th>min</th>\n",
       "      <td>0.000000</td>\n",
       "    </tr>\n",
       "    <tr>\n",
       "      <th>25%</th>\n",
       "      <td>8.000000</td>\n",
       "    </tr>\n",
       "    <tr>\n",
       "      <th>50%</th>\n",
       "      <td>13.000000</td>\n",
       "    </tr>\n",
       "    <tr>\n",
       "      <th>75%</th>\n",
       "      <td>19.000000</td>\n",
       "    </tr>\n",
       "    <tr>\n",
       "      <th>max</th>\n",
       "      <td>119.000000</td>\n",
       "    </tr>\n",
       "  </tbody>\n",
       "</table>\n",
       "</div>"
      ],
      "text/plain": [
       "         num_orders\n",
       "count  26496.000000\n",
       "mean      14.070463\n",
       "std        9.211330\n",
       "min        0.000000\n",
       "25%        8.000000\n",
       "50%       13.000000\n",
       "75%       19.000000\n",
       "max      119.000000"
      ]
     },
     "execution_count": 8,
     "metadata": {},
     "output_type": "execute_result"
    }
   ],
   "source": [
    "data.describe()"
   ]
  },
  {
   "cell_type": "code",
   "execution_count": 9,
   "metadata": {},
   "outputs": [
    {
     "data": {
      "text/html": [
       "<div>\n",
       "<style scoped>\n",
       "    .dataframe tbody tr th:only-of-type {\n",
       "        vertical-align: middle;\n",
       "    }\n",
       "\n",
       "    .dataframe tbody tr th {\n",
       "        vertical-align: top;\n",
       "    }\n",
       "\n",
       "    .dataframe thead th {\n",
       "        text-align: right;\n",
       "    }\n",
       "</style>\n",
       "<table border=\"1\" class=\"dataframe\">\n",
       "  <thead>\n",
       "    <tr style=\"text-align: right;\">\n",
       "      <th></th>\n",
       "      <th>num_orders</th>\n",
       "    </tr>\n",
       "    <tr>\n",
       "      <th>datetime</th>\n",
       "      <th></th>\n",
       "    </tr>\n",
       "  </thead>\n",
       "  <tbody>\n",
       "    <tr>\n",
       "      <th>2018-08-13 02:20:00</th>\n",
       "      <td>119</td>\n",
       "    </tr>\n",
       "    <tr>\n",
       "      <th>2018-08-27 02:10:00</th>\n",
       "      <td>119</td>\n",
       "    </tr>\n",
       "  </tbody>\n",
       "</table>\n",
       "</div>"
      ],
      "text/plain": [
       "                     num_orders\n",
       "datetime                       \n",
       "2018-08-13 02:20:00         119\n",
       "2018-08-27 02:10:00         119"
      ]
     },
     "execution_count": 9,
     "metadata": {},
     "output_type": "execute_result"
    }
   ],
   "source": [
    "data[data['num_orders']==119]"
   ]
  },
  {
   "cell_type": "code",
   "execution_count": 10,
   "metadata": {},
   "outputs": [
    {
     "data": {
      "image/png": "[encoded data removed]",
      "text/plain": [
       "<Figure size 1080x360 with 1 Axes>"
      ]
     },
     "metadata": {
      "needs_background": "light"
     },
     "output_type": "display_data"
    }
   ],
   "source": [
    "plt.figure(figsize=(15, 5))\n",
    "data.boxplot(vert=0)\n",
    "plt.title('Диграмма размаха по количеству заказов (за 10 мин)')\n",
    "plt.xlabel('Количество заказов')\n",
    "plt.show()"
   ]
  },
  {
   "cell_type": "markdown",
   "metadata": {},
   "source": [
    "- Среденее количество заказов - 14 заказов каждые 10 минут (т.к. данные предоставлены по 10минутным промежуткам), медиана примерно такая же - 13 заказов.\n",
    "- Стандартное отклонение 9 и также по 25%- и 75% квантилям видим, что количество заказов в 10-минутные промежутки колебелется от 8 до 19. \n",
    "- Максимальное количество заказов - 119, оно наблюдалось 13августа в 2.20 ночи и 27августа в 2.10 ночи. Выглядит немного странно, если учесть ночное время в ночь на понедельник, но данное максимальное значение не сильно отличается от остальных выбросов (видим на боксплоте, что наблюдений с количеством заказов свыше 70 единичное количество), так что поверим данным."
   ]
  },
  {
   "cell_type": "markdown",
   "metadata": {},
   "source": [
    "Построим график временного ряда."
   ]
  },
  {
   "cell_type": "code",
   "execution_count": 11,
   "metadata": {},
   "outputs": [
    {
     "data": {
      "image/png": "[encoded data removed]",
      "text/plain": [
       "<Figure size 1080x360 with 1 Axes>"
      ]
     },
     "metadata": {
      "needs_background": "light"
     },
     "output_type": "display_data"
    }
   ],
   "source": [
    "#plt.figure(figsize=(15, 5))\n",
    "data['weekly_rolling_mean'] = data.shift(1).rolling(1176).mean()\n",
    "data['weekly_std'] = data['num_orders'].shift(1).rolling(1176).std() \n",
    "data.plot(figsize=(15, 5))\n",
    "plt.title('Временной ряд по количеству заказов (за 10 мин)')\n",
    "plt.xlabel('Время')\n",
    "plt.ylabel('Количество заказов')\n",
    "plt.show();\n"
   ]
  },
  {
   "cell_type": "markdown",
   "metadata": {},
   "source": [
    "Видим, что дисперсия (и вероятно, среднее) со временем немного возрастает в августе. То есть, временной ряд нестационарный."
   ]
  },
  {
   "cell_type": "markdown",
   "metadata": {},
   "source": [
    "### Оценка станционарности (тест Дики-Фуллера)"
   ]
  },
  {
   "cell_type": "markdown",
   "metadata": {},
   "source": [
    "Оценим, насколько верно предположение о нестационарности ряда с помощью теста Дики-Фуллера.\n",
    "<br>Нулевая гипотеза: ряд не стационарен.\n",
    "<br>Альтернативная гипотеза: ряд стационарен."
   ]
  },
  {
   "cell_type": "code",
   "execution_count": 12,
   "metadata": {},
   "outputs": [],
   "source": [
    "#Удалим уже ненужные колонки\n",
    "data = data.drop(['weekly_rolling_mean','weekly_std'],axis=1)"
   ]
  },
  {
   "cell_type": "code",
   "execution_count": 13,
   "metadata": {},
   "outputs": [
    {
     "name": "stdout",
     "output_type": "stream",
     "text": [
      "adf:  -12.548885000267546\n",
      "p-value:  2.2286378815479297e-23\n",
      "Critical values:  {'1%': -3.430597284562216, '5%': -2.861649292553069, '10%': -2.566828173184574}\n",
      "Для p-value=5%: Единичных корней нет, ряд стационарен\n",
      "Для p-value=1%: Единичных корней нет, ряд стационарен\n"
     ]
    }
   ],
   "source": [
    "test = adfuller(data['num_orders'])\n",
    "print ('adf: ', test[0] )\n",
    "print ('p-value: ', test[1])\n",
    "print ('Critical values: ', test[4])\n",
    "if test[0]> test[4]['5%']: \n",
    "    print ('Для p-value=5%: Есть единичные корни, ряд не стационарен')\n",
    "else:\n",
    "    print ('Для p-value=5%: Единичных корней нет, ряд стационарен')\n",
    "if test[0]> test[4]['1%']: \n",
    "    print ('Для p-value=1%: Есть единичные корни, ряд не стационарен')\n",
    "else:\n",
    "    print ('Для p-value=1%: Единичных корней нет, ряд стационарен')"
   ]
  },
  {
   "cell_type": "markdown",
   "metadata": {},
   "source": [
    "Проведенный теcт подтвердил гипотезу о стационарности ряда (и опроверг исходные предположения, что ряд нестационарен), ряд стационарен при обоих уровнях значимости."
   ]
  },
  {
   "cell_type": "markdown",
   "metadata": {},
   "source": [
    "### Сезонность по дням часам и дням недели"
   ]
  },
  {
   "cell_type": "markdown",
   "metadata": {},
   "source": [
    "Так как таблица данные только за один год, нет возможности оценить сезонность по временам года, то есть например, сравнить лето текущего года с летом прошлого года. Но мы можем сделать ресемплирование и посмотреть сезонность по часам, дням и месяцам."
   ]
  },
  {
   "cell_type": "markdown",
   "metadata": {},
   "source": [
    "Рассмотрим сезонность по дням недели для месяца март (с понедельника - 5го числа)."
   ]
  },
  {
   "cell_type": "code",
   "execution_count": 14,
   "metadata": {},
   "outputs": [
    {
     "data": {
      "image/png": "[encoded data removed]",
      "text/plain": [
       "<Figure size 1080x216 with 1 Axes>"
      ]
     },
     "metadata": {
      "needs_background": "light"
     },
     "output_type": "display_data"
    }
   ],
   "source": [
    "data_1d = data.resample('1D').sum()\n",
    "data_1d['day_of_week'] = data_1d.index.dayofweek\n",
    "decomposed = seasonal_decompose(data_1d['num_orders']) \n",
    "plt.figure(figsize=(15, 3))\n",
    "decomposed.seasonal['2018-03-05':'2018-03-30'].plot(grid=True)\n",
    "plt.title('Сезонность по дням')\n",
    "plt.ylabel('Коэффициент сезонности')\n",
    "plt.show()"
   ]
  },
  {
   "cell_type": "markdown",
   "metadata": {},
   "source": [
    "Видим, что:\n",
    "- наименьшее количество заказов во вторники (6,13числа) и воскресенья (11,18числа).\n",
    "- наибольшее количество заказов в пятницу (9,16числа) и понедельник (12,19 числа)."
   ]
  },
  {
   "cell_type": "code",
   "execution_count": 15,
   "metadata": {},
   "outputs": [
    {
     "data": {
      "image/png": "[encoded data removed]",
      "text/plain": [
       "<Figure size 1080x216 with 1 Axes>"
      ]
     },
     "metadata": {
      "needs_background": "light"
     },
     "output_type": "display_data"
    }
   ],
   "source": [
    "data_1h = data.resample('1H').sum()\n",
    "data_1h['hour'] = data_1h.index.hour\n",
    "decomposed = seasonal_decompose(data_1h['num_orders']) \n",
    "plt.figure(figsize=(15, 3))\n",
    "decomposed.seasonal['2018-03-05':'2018-03-06'].plot(grid=True)\n",
    "plt.title('Сезонность по часам');\n",
    "plt.ylabel('Коэффициент сезонности')\n",
    "plt.show()"
   ]
  },
  {
   "cell_type": "markdown",
   "metadata": {},
   "source": [
    "Видим, что:\n",
    "- часы максимальной нагрузки - c 21 до 4 утра (пик в 12 ночи), а также локальные пики в 10 утра и 16 часов\n",
    "- часы минимальной нагрузки - после 4 утра (минимум в 6 утра), а также локальные минимумы в 12 и в 18 часов"
   ]
  },
  {
   "cell_type": "markdown",
   "metadata": {},
   "source": [
    "Таким образом, существует часовая сезонность и дневная. \n",
    "<br> Обусловлено это, скорее всего тем, что в ночное время общественный транспорт ходит реже. Соответственно, люди чаще используют такси, чтобы добраться в аэропорт. Также, вероятно, в нерабочее время может быть больше рейсов (или, скажем, такие рейсы могут быть более популярны), соответственно, нагрузка на такси в аэропорт также увеличивается. "
   ]
  },
  {
   "cell_type": "markdown",
   "metadata": {},
   "source": [
    "**Вывод:**\n",
    "- Среденее количество заказов - 14 заказов каждые 10 минут (т.к. данные предоставлены по 10минутным промежуткам), медиана примерно такая же - 13 заказов.\n",
    "- Стандартное отклонение 9 и также по 25%- и 75% квантилям видим, что количество заказов в 10-минутные промежутки колебелется от 8 до 19. \n",
    "- Максимальное количество заказов - 119, оно наблюдалось 13августа в 2.20 ночи и 27августа в 2.10 ночи. Выглядит немного странно, если учесть ночное время в ночь на понедельник, но данное максимальное значение не сильно отличается от остальных выбросов (видим на боксплоте, что наблюдений с количеством заказов свыше 70 единичное количество), так что поверим данным.\n",
    "- Дисперсия ряда со временем немного возрастает в августе. То есть, временной ряд нестационарный.\n",
    "- Наименьшее количество заказов во вторники (6,13числа) и воскресенья (11,18числа)\n",
    "- Наибольшее количество заказов в пятницу (9,16числа) и понедельник (12,19 числа)\n",
    "- Часы максимальной нагрузки - c 21 до 4 утра (пик в 12 ночи), а также локальные пики в 10 утра и 16 часов\n",
    "- Часы минимальной нагрузки - после 4 утра (минимум в 6 утра), а также локальные минимумы в 12 и в 18 часов\n",
    "<br> Таким образом, существует часовая сезонность и дневная. <br> Обусловлено это, скорее всего тем, что в ночное время общественный транспорт ходит реже. Соответственно, люди чаще используют такси, чтобы добраться в аэропорт. Также, вероятно, в нерабочее время может быть больше рейсов (или, скажем, такие рейсы могут быть более популярны), соответственно, нагрузка на такси в аэропорт также увеличивается. "
   ]
  },
  {
   "cell_type": "markdown",
   "metadata": {},
   "source": [
    "## Обучение"
   ]
  },
  {
   "cell_type": "markdown",
   "metadata": {},
   "source": [
    "### Добавление признаков"
   ]
  },
  {
   "cell_type": "markdown",
   "metadata": {},
   "source": [
    "Так как для дальнейшего моделирования будем использовать набор, ресемплированный по 1часу (data_1h), то удалим ненужные датафреймы (data, data_1d)."
   ]
  },
  {
   "cell_type": "code",
   "execution_count": 16,
   "metadata": {},
   "outputs": [],
   "source": [
    "del data, data_1d"
   ]
  },
  {
   "cell_type": "markdown",
   "metadata": {},
   "source": [
    "Добавим признаки:\n",
    "- Календарные:\n",
    "    - месяц\n",
    "    - день недели\n",
    "    - час уже есть в выборке\n",
    "- Отстающие значения: лаги на 1-5 значений\n",
    "- Скользящее среднее на 2-5 значений"
   ]
  },
  {
   "cell_type": "code",
   "execution_count": 17,
   "metadata": {},
   "outputs": [],
   "source": [
    "# Календарные признаки\n",
    "data_1h['dayofweek'] = data_1h.index.dayofweek"
   ]
  },
  {
   "cell_type": "code",
   "execution_count": 18,
   "metadata": {},
   "outputs": [],
   "source": [
    "lags = [1,2,3,4,5,24,168]\n",
    "\n",
    "for lag in lags:\n",
    "        data_1h['lag_{}'.format(lag)] = data_1h['num_orders'].shift(lag)\n",
    "        data_1h['rolling_mean_{}'.format(lag)]=data_1h['num_orders'].shift(1).rolling(lag).mean()\n"
   ]
  },
  {
   "cell_type": "code",
   "execution_count": 19,
   "metadata": {},
   "outputs": [
    {
     "data": {
      "text/html": [
       "<div>\n",
       "<style scoped>\n",
       "    .dataframe tbody tr th:only-of-type {\n",
       "        vertical-align: middle;\n",
       "    }\n",
       "\n",
       "    .dataframe tbody tr th {\n",
       "        vertical-align: top;\n",
       "    }\n",
       "\n",
       "    .dataframe thead th {\n",
       "        text-align: right;\n",
       "    }\n",
       "</style>\n",
       "<table border=\"1\" class=\"dataframe\">\n",
       "  <thead>\n",
       "    <tr style=\"text-align: right;\">\n",
       "      <th></th>\n",
       "      <th>num_orders</th>\n",
       "      <th>hour</th>\n",
       "      <th>dayofweek</th>\n",
       "      <th>lag_1</th>\n",
       "      <th>rolling_mean_1</th>\n",
       "      <th>lag_2</th>\n",
       "      <th>rolling_mean_2</th>\n",
       "      <th>lag_3</th>\n",
       "      <th>rolling_mean_3</th>\n",
       "      <th>lag_4</th>\n",
       "      <th>rolling_mean_4</th>\n",
       "      <th>lag_5</th>\n",
       "      <th>rolling_mean_5</th>\n",
       "      <th>lag_24</th>\n",
       "      <th>rolling_mean_24</th>\n",
       "      <th>lag_168</th>\n",
       "      <th>rolling_mean_168</th>\n",
       "    </tr>\n",
       "    <tr>\n",
       "      <th>datetime</th>\n",
       "      <th></th>\n",
       "      <th></th>\n",
       "      <th></th>\n",
       "      <th></th>\n",
       "      <th></th>\n",
       "      <th></th>\n",
       "      <th></th>\n",
       "      <th></th>\n",
       "      <th></th>\n",
       "      <th></th>\n",
       "      <th></th>\n",
       "      <th></th>\n",
       "      <th></th>\n",
       "      <th></th>\n",
       "      <th></th>\n",
       "      <th></th>\n",
       "      <th></th>\n",
       "    </tr>\n",
       "  </thead>\n",
       "  <tbody>\n",
       "    <tr>\n",
       "      <th>2018-03-01 00:00:00</th>\n",
       "      <td>124</td>\n",
       "      <td>0</td>\n",
       "      <td>3</td>\n",
       "      <td>NaN</td>\n",
       "      <td>NaN</td>\n",
       "      <td>NaN</td>\n",
       "      <td>NaN</td>\n",
       "      <td>NaN</td>\n",
       "      <td>NaN</td>\n",
       "      <td>NaN</td>\n",
       "      <td>NaN</td>\n",
       "      <td>NaN</td>\n",
       "      <td>NaN</td>\n",
       "      <td>NaN</td>\n",
       "      <td>NaN</td>\n",
       "      <td>NaN</td>\n",
       "      <td>NaN</td>\n",
       "    </tr>\n",
       "    <tr>\n",
       "      <th>2018-03-01 01:00:00</th>\n",
       "      <td>85</td>\n",
       "      <td>1</td>\n",
       "      <td>3</td>\n",
       "      <td>124.0</td>\n",
       "      <td>124.0</td>\n",
       "      <td>NaN</td>\n",
       "      <td>NaN</td>\n",
       "      <td>NaN</td>\n",
       "      <td>NaN</td>\n",
       "      <td>NaN</td>\n",
       "      <td>NaN</td>\n",
       "      <td>NaN</td>\n",
       "      <td>NaN</td>\n",
       "      <td>NaN</td>\n",
       "      <td>NaN</td>\n",
       "      <td>NaN</td>\n",
       "      <td>NaN</td>\n",
       "    </tr>\n",
       "  </tbody>\n",
       "</table>\n",
       "</div>"
      ],
      "text/plain": [
       "                     num_orders  hour  dayofweek  lag_1  rolling_mean_1  \\\n",
       "datetime                                                                  \n",
       "2018-03-01 00:00:00         124     0          3    NaN             NaN   \n",
       "2018-03-01 01:00:00          85     1          3  124.0           124.0   \n",
       "\n",
       "                     lag_2  rolling_mean_2  lag_3  rolling_mean_3  lag_4  \\\n",
       "datetime                                                                   \n",
       "2018-03-01 00:00:00    NaN             NaN    NaN             NaN    NaN   \n",
       "2018-03-01 01:00:00    NaN             NaN    NaN             NaN    NaN   \n",
       "\n",
       "                     rolling_mean_4  lag_5  rolling_mean_5  lag_24  \\\n",
       "datetime                                                             \n",
       "2018-03-01 00:00:00             NaN    NaN             NaN     NaN   \n",
       "2018-03-01 01:00:00             NaN    NaN             NaN     NaN   \n",
       "\n",
       "                     rolling_mean_24  lag_168  rolling_mean_168  \n",
       "datetime                                                         \n",
       "2018-03-01 00:00:00              NaN      NaN               NaN  \n",
       "2018-03-01 01:00:00              NaN      NaN               NaN  "
      ]
     },
     "execution_count": 19,
     "metadata": {},
     "output_type": "execute_result"
    }
   ],
   "source": [
    "data_1h.head(2)"
   ]
  },
  {
   "cell_type": "markdown",
   "metadata": {},
   "source": [
    "### Создание подвыборок"
   ]
  },
  {
   "cell_type": "markdown",
   "metadata": {},
   "source": [
    "Создадим тестовую подвыборку 10% от общего набора."
   ]
  },
  {
   "cell_type": "code",
   "execution_count": 20,
   "metadata": {},
   "outputs": [
    {
     "name": "stdout",
     "output_type": "stream",
     "text": [
      "Исходный набор: (4416, 17) 2018-03-01 00:00:00 - 2018-08-31 23:00:00\n",
      "Train+Valid: (3974, 17) 2018-03-01 00:00:00 - 2018-08-13 13:00:00\n",
      "Test (442, 17) 2018-08-13 14:00:00 - 2018-08-31 23:00:00\n"
     ]
    }
   ],
   "source": [
    "train_valid, test = train_test_split(data_1h, test_size=0.1, random_state=RANDOM_STATE,shuffle=False)\n",
    "print('Исходный набор:',data_1h.shape,data_1h.index.min(),'-',data_1h.index.max() )\n",
    "print('Train+Valid:',train_valid.shape,train_valid.index.min(),'-',train_valid.index.max())\n",
    "print('Test',test.shape,test.index.min(),'-',test.index.max())"
   ]
  },
  {
   "cell_type": "markdown",
   "metadata": {},
   "source": [
    "Данные разделились корректно."
   ]
  },
  {
   "cell_type": "markdown",
   "metadata": {},
   "source": [
    "Отделим от набора train_valid валидационную подвыборку в соотношении 9:1 (также как с тестовой выборкой)."
   ]
  },
  {
   "cell_type": "code",
   "execution_count": 21,
   "metadata": {},
   "outputs": [
    {
     "name": "stdout",
     "output_type": "stream",
     "text": [
      "Train: (3576, 17) 2018-03-01 00:00:00 - 2018-07-27 23:00:00\n",
      "Valid: (398, 17) 2018-07-28 00:00:00 - 2018-08-13 13:00:00\n"
     ]
    }
   ],
   "source": [
    "train, valid = train_test_split(train_valid, test_size=0.1, random_state=RANDOM_STATE,shuffle=False)\n",
    "print('Train:',train.shape,train.index.min(),'-',train.index.max())\n",
    "print('Valid:',valid.shape,valid.index.min(),'-',valid.index.max())"
   ]
  },
  {
   "cell_type": "markdown",
   "metadata": {},
   "source": [
    "Данные также разделились корректно."
   ]
  },
  {
   "cell_type": "code",
   "execution_count": 22,
   "metadata": {},
   "outputs": [],
   "source": [
    "train_valid = train_valid.dropna()"
   ]
  },
  {
   "cell_type": "code",
   "execution_count": 23,
   "metadata": {
    "scrolled": true
   },
   "outputs": [
    {
     "name": "stdout",
     "output_type": "stream",
     "text": [
      "features_test: (442, 16)\n",
      "target_test: (442,)\n",
      "\n",
      "Наборы для кроссвалидации и обучения перед финальным тестированием:\n",
      "features_trainvalid: (3806, 16)\n",
      "target_trainvalid: (3806,)\n"
     ]
    }
   ],
   "source": [
    "features_test = test.drop('num_orders',axis=1)\n",
    "target_test = test['num_orders']\n",
    "print('features_test:',features_test.shape)\n",
    "print('target_test:',target_test.shape)\n",
    "print()\n",
    "print('Наборы для кроссвалидации и обучения перед финальным тестированием:')\n",
    "features_trainvalid = train_valid.drop('num_orders',axis=1)\n",
    "target_trainvalid = train_valid['num_orders']\n",
    "print('features_trainvalid:',features_trainvalid.shape)\n",
    "print('target_trainvalid:',target_trainvalid.shape)"
   ]
  },
  {
   "cell_type": "code",
   "execution_count": 24,
   "metadata": {},
   "outputs": [
    {
     "data": {
      "text/html": [
       "<div>\n",
       "<style scoped>\n",
       "    .dataframe tbody tr th:only-of-type {\n",
       "        vertical-align: middle;\n",
       "    }\n",
       "\n",
       "    .dataframe tbody tr th {\n",
       "        vertical-align: top;\n",
       "    }\n",
       "\n",
       "    .dataframe thead th {\n",
       "        text-align: right;\n",
       "    }\n",
       "</style>\n",
       "<table border=\"1\" class=\"dataframe\">\n",
       "  <thead>\n",
       "    <tr style=\"text-align: right;\">\n",
       "      <th></th>\n",
       "      <th>hour</th>\n",
       "      <th>dayofweek</th>\n",
       "      <th>lag_1</th>\n",
       "      <th>rolling_mean_1</th>\n",
       "      <th>lag_2</th>\n",
       "      <th>rolling_mean_2</th>\n",
       "      <th>lag_3</th>\n",
       "      <th>rolling_mean_3</th>\n",
       "      <th>lag_4</th>\n",
       "      <th>rolling_mean_4</th>\n",
       "      <th>lag_5</th>\n",
       "      <th>rolling_mean_5</th>\n",
       "      <th>lag_24</th>\n",
       "      <th>rolling_mean_24</th>\n",
       "      <th>lag_168</th>\n",
       "      <th>rolling_mean_168</th>\n",
       "    </tr>\n",
       "    <tr>\n",
       "      <th>datetime</th>\n",
       "      <th></th>\n",
       "      <th></th>\n",
       "      <th></th>\n",
       "      <th></th>\n",
       "      <th></th>\n",
       "      <th></th>\n",
       "      <th></th>\n",
       "      <th></th>\n",
       "      <th></th>\n",
       "      <th></th>\n",
       "      <th></th>\n",
       "      <th></th>\n",
       "      <th></th>\n",
       "      <th></th>\n",
       "      <th></th>\n",
       "      <th></th>\n",
       "    </tr>\n",
       "  </thead>\n",
       "  <tbody>\n",
       "    <tr>\n",
       "      <th>2018-03-08 00:00:00</th>\n",
       "      <td>0</td>\n",
       "      <td>3</td>\n",
       "      <td>94.0</td>\n",
       "      <td>94.0</td>\n",
       "      <td>127.0</td>\n",
       "      <td>110.5</td>\n",
       "      <td>108.0</td>\n",
       "      <td>109.666667</td>\n",
       "      <td>76.0</td>\n",
       "      <td>101.25</td>\n",
       "      <td>50.0</td>\n",
       "      <td>91.0</td>\n",
       "      <td>100.0</td>\n",
       "      <td>60.041667</td>\n",
       "      <td>124.0</td>\n",
       "      <td>54.226190</td>\n",
       "    </tr>\n",
       "    <tr>\n",
       "      <th>2018-03-08 01:00:00</th>\n",
       "      <td>1</td>\n",
       "      <td>3</td>\n",
       "      <td>143.0</td>\n",
       "      <td>143.0</td>\n",
       "      <td>94.0</td>\n",
       "      <td>118.5</td>\n",
       "      <td>127.0</td>\n",
       "      <td>121.333333</td>\n",
       "      <td>108.0</td>\n",
       "      <td>118.00</td>\n",
       "      <td>76.0</td>\n",
       "      <td>109.6</td>\n",
       "      <td>121.0</td>\n",
       "      <td>61.833333</td>\n",
       "      <td>85.0</td>\n",
       "      <td>54.339286</td>\n",
       "    </tr>\n",
       "    <tr>\n",
       "      <th>2018-03-08 02:00:00</th>\n",
       "      <td>2</td>\n",
       "      <td>3</td>\n",
       "      <td>78.0</td>\n",
       "      <td>78.0</td>\n",
       "      <td>143.0</td>\n",
       "      <td>110.5</td>\n",
       "      <td>94.0</td>\n",
       "      <td>105.000000</td>\n",
       "      <td>127.0</td>\n",
       "      <td>110.50</td>\n",
       "      <td>108.0</td>\n",
       "      <td>110.0</td>\n",
       "      <td>24.0</td>\n",
       "      <td>60.041667</td>\n",
       "      <td>71.0</td>\n",
       "      <td>54.297619</td>\n",
       "    </tr>\n",
       "  </tbody>\n",
       "</table>\n",
       "</div>"
      ],
      "text/plain": [
       "                     hour  dayofweek  lag_1  rolling_mean_1  lag_2  \\\n",
       "datetime                                                             \n",
       "2018-03-08 00:00:00     0          3   94.0            94.0  127.0   \n",
       "2018-03-08 01:00:00     1          3  143.0           143.0   94.0   \n",
       "2018-03-08 02:00:00     2          3   78.0            78.0  143.0   \n",
       "\n",
       "                     rolling_mean_2  lag_3  rolling_mean_3  lag_4  \\\n",
       "datetime                                                            \n",
       "2018-03-08 00:00:00           110.5  108.0      109.666667   76.0   \n",
       "2018-03-08 01:00:00           118.5  127.0      121.333333  108.0   \n",
       "2018-03-08 02:00:00           110.5   94.0      105.000000  127.0   \n",
       "\n",
       "                     rolling_mean_4  lag_5  rolling_mean_5  lag_24  \\\n",
       "datetime                                                             \n",
       "2018-03-08 00:00:00          101.25   50.0            91.0   100.0   \n",
       "2018-03-08 01:00:00          118.00   76.0           109.6   121.0   \n",
       "2018-03-08 02:00:00          110.50  108.0           110.0    24.0   \n",
       "\n",
       "                     rolling_mean_24  lag_168  rolling_mean_168  \n",
       "datetime                                                         \n",
       "2018-03-08 00:00:00        60.041667    124.0         54.226190  \n",
       "2018-03-08 01:00:00        61.833333     85.0         54.339286  \n",
       "2018-03-08 02:00:00        60.041667     71.0         54.297619  "
      ]
     },
     "execution_count": 24,
     "metadata": {},
     "output_type": "execute_result"
    }
   ],
   "source": [
    "features_trainvalid.head(3)"
   ]
  },
  {
   "cell_type": "markdown",
   "metadata": {},
   "source": [
    "### Масштабирование признаков"
   ]
  },
  {
   "cell_type": "code",
   "execution_count": 25,
   "metadata": {},
   "outputs": [
    {
     "name": "stdout",
     "output_type": "stream",
     "text": [
      "                     hour  dayofweek     lag_1  rolling_mean_1     lag_2  \\\n",
      "datetime                                                                   \n",
      "2018-03-08 00:00:00     0  -0.013391  0.378907            94.0  1.231736   \n",
      "2018-03-08 01:00:00     1  -0.013391  1.645921           143.0  0.378599   \n",
      "2018-03-08 02:00:00     2  -0.013391 -0.034812            78.0  1.645378   \n",
      "2018-03-08 03:00:00     3  -0.013391 -0.370958            65.0 -0.035043   \n",
      "2018-03-08 04:00:00     4  -0.013391 -0.293386            68.0 -0.371127   \n",
      "\n",
      "                     rolling_mean_2     lag_3  rolling_mean_3     lag_4  \\\n",
      "datetime                                                                  \n",
      "2018-03-08 00:00:00        0.912430  0.740999        0.960649 -0.086030   \n",
      "2018-03-08 01:00:00        1.146768  1.232344        1.330323  0.741925   \n",
      "2018-03-08 02:00:00        0.912430  0.378955        0.812779  1.233524   \n",
      "2018-03-08 03:00:00       -0.229971  1.646108        0.506477  0.379695   \n",
      "2018-03-08 04:00:00       -0.376432 -0.034809       -0.285683  1.647501   \n",
      "\n",
      "                     rolling_mean_4     lag_5  rolling_mean_5    lag_24  \\\n",
      "datetime                                                                  \n",
      "2018-03-08 00:00:00        0.742328 -0.758317        0.419530  0.556263   \n",
      "2018-03-08 01:00:00        1.309914 -0.085457        1.088477  1.108787   \n",
      "2018-03-08 02:00:00        1.055771  0.742678        1.102863 -1.443345   \n",
      "2018-03-08 03:00:00        0.530542  1.234383        0.793565 -0.338298   \n",
      "2018-03-08 04:00:00        0.310285  0.380369        0.369180 -0.154124   \n",
      "\n",
      "                     rolling_mean_24   lag_168  rolling_mean_168  \n",
      "datetime                                                          \n",
      "2018-03-08 00:00:00        -1.005876  1.270605         -1.390794  \n",
      "2018-03-08 01:00:00        -0.911401  0.222851         -1.384150  \n",
      "2018-03-08 02:00:00        -1.005876 -0.153266         -1.386598  \n",
      "2018-03-08 03:00:00        -0.915795 -0.287593         -1.388696  \n",
      "2018-03-08 04:00:00        -0.911401 -0.905499         -1.387997  \n",
      "                     hour  dayofweek     lag_1  rolling_mean_1     lag_2  \\\n",
      "datetime                                                                   \n",
      "2018-08-13 14:00:00    14  -1.512443  1.025343           119.0  0.326894   \n",
      "2018-08-13 15:00:00    15  -1.512443  0.585767           102.0  1.024915   \n",
      "2018-08-13 16:00:00    16  -1.512443  2.473359           175.0  0.585420   \n",
      "2018-08-13 17:00:00    17  -1.512443  1.671779           144.0  2.472663   \n",
      "2018-08-13 18:00:00    18  -1.512443  1.878638           152.0  1.671231   \n",
      "\n",
      "                     rolling_mean_2     lag_3  rolling_mean_3     lag_4  \\\n",
      "datetime                                                                  \n",
      "2018-08-13 14:00:00        0.765968  1.671969        1.235264  1.983858   \n",
      "2018-08-13 15:00:00        0.912430  0.327235        0.791655  1.673375   \n",
      "2018-08-13 16:00:00        1.732615  1.025462        1.668311  0.327948   \n",
      "2018-08-13 17:00:00        2.347753  0.585838        1.932364  1.026535   \n",
      "2018-08-13 18:00:00        2.010892  2.473637        2.460471  0.586684   \n",
      "\n",
      "                     rolling_mean_4     lag_5  rolling_mean_5    lag_24  \\\n",
      "datetime                                                                  \n",
      "2018-08-13 14:00:00        1.640300  1.493175        1.807775  0.661506   \n",
      "2018-08-13 15:00:00        1.182843  1.984880        1.556020  1.845485   \n",
      "2018-08-13 16:00:00        1.445457  1.674330        1.692687  1.950728   \n",
      "2018-08-13 17:00:00        1.885972  0.328610        1.692687  0.950923   \n",
      "2018-08-13 18:00:00        2.165529  1.027349        2.124265 -0.022571   \n",
      "\n",
      "                     rolling_mean_24   lag_168  rolling_mean_168  \n",
      "datetime                                                          \n",
      "2018-08-13 14:00:00         3.133459  0.572102          2.133102  \n",
      "2018-08-13 15:00:00         3.129065  1.082546          2.134501  \n",
      "2018-08-13 16:00:00         3.186190  3.419843          2.154781  \n",
      "2018-08-13 17:00:00         3.166416  1.512394          2.133802  \n",
      "2018-08-13 18:00:00         3.247709  0.222851          2.140445  \n"
     ]
    }
   ],
   "source": [
    "numeric = ['dayofweek','lag_1', 'lag_2', 'lag_3', 'lag_4','lag_5','lag_24','lag_168','rolling_mean_2',\\\n",
    "          'rolling_mean_3','rolling_mean_4','rolling_mean_5','rolling_mean_24','rolling_mean_168']\n",
    "\n",
    "scaler = StandardScaler()\n",
    "scaler.fit(features_trainvalid[numeric])\n",
    "features_trainvalid[numeric] = scaler.transform(features_trainvalid[numeric])\n",
    "features_test[numeric] = scaler.transform(features_test[numeric])\n",
    "(print(features_trainvalid.head(5)))\n",
    "(print(features_test.head(5)))"
   ]
  },
  {
   "cell_type": "markdown",
   "metadata": {},
   "source": [
    "Масштабирование проведено."
   ]
  },
  {
   "cell_type": "markdown",
   "metadata": {},
   "source": [
    "### Линейная регрессия CV"
   ]
  },
  {
   "cell_type": "code",
   "execution_count": 30,
   "metadata": {},
   "outputs": [],
   "source": [
    "tscv = TimeSeriesSplit(n_splits=6)\n",
    "\n",
    "def get_rmse (target,predict):\n",
    "    return mean_squared_error(target, predict)**0.5\n",
    "\n",
    "scorer = make_scorer(get_rmse, greater_is_better=False)"
   ]
  },
  {
   "cell_type": "code",
   "execution_count": 31,
   "metadata": {},
   "outputs": [],
   "source": [
    "model_linreg_cv = LinearRegression() \n",
    "params_grid = { }"
   ]
  },
  {
   "cell_type": "code",
   "execution_count": 32,
   "metadata": {},
   "outputs": [
    {
     "name": "stdout",
     "output_type": "stream",
     "text": [
      "RMSE линейной регрессии с кроссвалидацией: 22.976083177110237\n"
     ]
    }
   ],
   "source": [
    "msearch = GridSearchCV(model_linreg_cv, params_grid, scoring=scorer, cv=tscv)\n",
    "msearch.fit(features_trainvalid, target_trainvalid)\n",
    "rmse_linear_valid = abs(msearch.best_score_)\n",
    "print('RMSE линейной регрессии с кроссвалидацией:',rmse_linear_valid)"
   ]
  },
  {
   "cell_type": "code",
   "execution_count": 33,
   "metadata": {},
   "outputs": [
    {
     "data": {
      "text/html": [
       "<style  type=\"text/css\" >\n",
       "#T_4a544_row0_col1{\n",
       "            background-color:  #f7fbff;\n",
       "            color:  #000000;\n",
       "        }</style><table id=\"T_4a544_\" ><thead>    <tr>        <th class=\"blank level0\" ></th>        <th class=\"col_heading level0 col0\" >model</th>        <th class=\"col_heading level0 col1\" >RMSE_valid</th>    </tr></thead><tbody>\n",
       "                <tr>\n",
       "                        <th id=\"T_4a544_level0_row0\" class=\"row_heading level0 row0\" >0</th>\n",
       "                        <td id=\"T_4a544_row0_col0\" class=\"data row0 col0\" >LinearRegression</td>\n",
       "                        <td id=\"T_4a544_row0_col1\" class=\"data row0 col1\" >22.976083</td>\n",
       "            </tr>\n",
       "    </tbody></table>"
      ],
      "text/plain": [
       "<pandas.io.formats.style.Styler at 0x7f973ce1f160>"
      ]
     },
     "metadata": {},
     "output_type": "display_data"
    }
   ],
   "source": [
    "models_results = pd.DataFrame(columns=['model', 'RMSE_valid'])\n",
    "row1 = pd.DataFrame({'model': ['LinearRegression'], 'RMSE_valid': [rmse_linear_valid]})\n",
    "\n",
    "models_results = models_results.append(row1,ignore_index = True)\n",
    "\n",
    "display(models_results.sort_values(by='RMSE_valid').style.background_gradient(cmap='Blues', axis=0,subset=['RMSE_valid']))"
   ]
  },
  {
   "cell_type": "markdown",
   "metadata": {},
   "source": [
    "### Дерево решений CV"
   ]
  },
  {
   "cell_type": "code",
   "execution_count": 35,
   "metadata": {},
   "outputs": [],
   "source": [
    "model_tree_cv = DecisionTreeRegressor() \n",
    "params_grid = {#'criterion':['squared_error', 'friedman_mse', 'absolute_error', 'poisson'],\n",
    "               'splitter':['best', 'random'],\n",
    "               'max_depth': range(1,10),\n",
    "               'random_state':[RANDOM_STATE],\n",
    "               'max_features':['auto', 'sqrt', 'log2']\n",
    "               }"
   ]
  },
  {
   "cell_type": "code",
   "execution_count": 36,
   "metadata": {},
   "outputs": [
    {
     "name": "stdout",
     "output_type": "stream",
     "text": [
      "RMSE дерева решений с кроссвалидацией: 25.22679939714729\n"
     ]
    }
   ],
   "source": [
    "msearch = GridSearchCV(model_tree_cv, params_grid, scoring=scorer, cv=tscv)\n",
    "msearch.fit(features_trainvalid, target_trainvalid)\n",
    "\n",
    "#print(msearch.best_estimator_)\n",
    "#print(msearch.best_params_)\n",
    "rmse_tree = abs(msearch.best_score_)\n",
    "print('RMSE дерева решений с кроссвалидацией:',rmse_tree)"
   ]
  },
  {
   "cell_type": "markdown",
   "metadata": {},
   "source": [
    "Дерево решений немного улучшило метрику - до 25 единиц. При этом глубина получилась небольшая - 4 уровня."
   ]
  },
  {
   "cell_type": "code",
   "execution_count": 37,
   "metadata": {},
   "outputs": [
    {
     "data": {
      "text/html": [
       "<style  type=\"text/css\" >\n",
       "#T_aff5d_row0_col1{\n",
       "            background-color:  #f7fbff;\n",
       "            color:  #000000;\n",
       "        }#T_aff5d_row1_col1{\n",
       "            background-color:  #08306b;\n",
       "            color:  #f1f1f1;\n",
       "        }</style><table id=\"T_aff5d_\" ><thead>    <tr>        <th class=\"blank level0\" ></th>        <th class=\"col_heading level0 col0\" >model</th>        <th class=\"col_heading level0 col1\" >RMSE_valid</th>    </tr></thead><tbody>\n",
       "                <tr>\n",
       "                        <th id=\"T_aff5d_level0_row0\" class=\"row_heading level0 row0\" >0</th>\n",
       "                        <td id=\"T_aff5d_row0_col0\" class=\"data row0 col0\" >LinearRegression</td>\n",
       "                        <td id=\"T_aff5d_row0_col1\" class=\"data row0 col1\" >22.976083</td>\n",
       "            </tr>\n",
       "            <tr>\n",
       "                        <th id=\"T_aff5d_level0_row1\" class=\"row_heading level0 row1\" >1</th>\n",
       "                        <td id=\"T_aff5d_row1_col0\" class=\"data row1 col0\" >DecisionTreeRegressor</td>\n",
       "                        <td id=\"T_aff5d_row1_col1\" class=\"data row1 col1\" >25.226799</td>\n",
       "            </tr>\n",
       "    </tbody></table>"
      ],
      "text/plain": [
       "<pandas.io.formats.style.Styler at 0x7f973cfaf640>"
      ]
     },
     "metadata": {},
     "output_type": "display_data"
    }
   ],
   "source": [
    "row1 = pd.DataFrame({'model': ['DecisionTreeRegressor'], 'RMSE_valid': [rmse_tree]})\n",
    "models_results = models_results.append(row1,ignore_index = True)\n",
    "display(models_results.sort_values(by='RMSE_valid').style.background_gradient(cmap='Blues', axis=0,subset=['RMSE_valid']))"
   ]
  },
  {
   "cell_type": "markdown",
   "metadata": {},
   "source": [
    "Модель дерева выдала метрику чуть похуже и при этом работает немного дольше (хотя в данном случае доли секунд незаметны)."
   ]
  },
  {
   "cell_type": "markdown",
   "metadata": {},
   "source": [
    "### Случайный лес CV"
   ]
  },
  {
   "cell_type": "code",
   "execution_count": 39,
   "metadata": {
    "scrolled": true
   },
   "outputs": [
    {
     "name": "stdout",
     "output_type": "stream",
     "text": [
      "Лучшие параметры: {'max_depth': 8, 'max_features': 'sqrt', 'n_estimators': 90, 'random_state': 12345}\n",
      "RMSE случайного леса с кроссвалидацией: 22.849667548650615\n"
     ]
    }
   ],
   "source": [
    "model_forest_cv = RandomForestRegressor() \n",
    "params_grid = {'max_depth': range(1,10),\n",
    "               'n_estimators':range(10,100,10),\n",
    "               'random_state':[RANDOM_STATE],\n",
    "               'max_features':['auto', 'sqrt', 'log2']\n",
    "               }\n",
    "msearch_tree = GridSearchCV(model_forest_cv, params_grid, scoring=scorer, cv=tscv)\n",
    "msearch_tree.fit(features_trainvalid, target_trainvalid)\n",
    "\n",
    "#print(msearch_tree.best_estimator_)\n",
    "print('Лучшие параметры:',msearch_tree.best_params_)\n",
    "rmse_forest = abs(msearch_tree.best_score_)\n",
    "print('RMSE случайного леса с кроссвалидацией:',rmse_forest)"
   ]
  },
  {
   "cell_type": "markdown",
   "metadata": {},
   "source": [
    "Случайный лес еще немного улучшил метрику - до 22,8."
   ]
  },
  {
   "cell_type": "code",
   "execution_count": 40,
   "metadata": {
    "scrolled": true
   },
   "outputs": [
    {
     "data": {
      "text/html": [
       "<style  type=\"text/css\" >\n",
       "#T_2bdad_row0_col1{\n",
       "            background-color:  #f7fbff;\n",
       "            color:  #000000;\n",
       "        }#T_2bdad_row1_col1{\n",
       "            background-color:  #edf4fc;\n",
       "            color:  #000000;\n",
       "        }#T_2bdad_row2_col1{\n",
       "            background-color:  #08306b;\n",
       "            color:  #f1f1f1;\n",
       "        }</style><table id=\"T_2bdad_\" ><thead>    <tr>        <th class=\"blank level0\" ></th>        <th class=\"col_heading level0 col0\" >model</th>        <th class=\"col_heading level0 col1\" >RMSE_valid</th>    </tr></thead><tbody>\n",
       "                <tr>\n",
       "                        <th id=\"T_2bdad_level0_row0\" class=\"row_heading level0 row0\" >2</th>\n",
       "                        <td id=\"T_2bdad_row0_col0\" class=\"data row0 col0\" >RandomForestRegressor</td>\n",
       "                        <td id=\"T_2bdad_row0_col1\" class=\"data row0 col1\" >22.849668</td>\n",
       "            </tr>\n",
       "            <tr>\n",
       "                        <th id=\"T_2bdad_level0_row1\" class=\"row_heading level0 row1\" >0</th>\n",
       "                        <td id=\"T_2bdad_row1_col0\" class=\"data row1 col0\" >LinearRegression</td>\n",
       "                        <td id=\"T_2bdad_row1_col1\" class=\"data row1 col1\" >22.976083</td>\n",
       "            </tr>\n",
       "            <tr>\n",
       "                        <th id=\"T_2bdad_level0_row2\" class=\"row_heading level0 row2\" >1</th>\n",
       "                        <td id=\"T_2bdad_row2_col0\" class=\"data row2 col0\" >DecisionTreeRegressor</td>\n",
       "                        <td id=\"T_2bdad_row2_col1\" class=\"data row2 col1\" >25.226799</td>\n",
       "            </tr>\n",
       "    </tbody></table>"
      ],
      "text/plain": [
       "<pandas.io.formats.style.Styler at 0x7f973cf0ef70>"
      ]
     },
     "metadata": {},
     "output_type": "display_data"
    }
   ],
   "source": [
    "row1 = pd.DataFrame({'model': ['RandomForestRegressor'], 'RMSE_valid': [rmse_forest]})\n",
    "models_results = models_results.append(row1,ignore_index = True)\n",
    "display(models_results.sort_values(by='RMSE_valid').style.background_gradient(cmap='Blues', axis=0,subset=['RMSE_valid']))"
   ]
  },
  {
   "cell_type": "markdown",
   "metadata": {},
   "source": [
    "Модель получилась на сотые доли rmse лучше, чем линейная регрессия."
   ]
  },
  {
   "cell_type": "markdown",
   "metadata": {},
   "source": [
    "**Вывод:**\n",
    "<br> В набор данных были добавлены следующие признаки признаки:\n",
    "- Календарные:\n",
    "    - месяц\n",
    "    - день недели\n",
    "    - час был добавлен ранее\n",
    "- Отстающие значения: лаги на 1-5 значений\n",
    "- Скользящее среднее на 2-5 значений\n",
    "\n",
    "<br>Разделение на обучающую и тестовую подвыборки проведено в соотношении 9:1:\n",
    "- Исходный набор: (4416, 13) 2018-03-01 00:00:00 - 2018-08-31 23:00:00\n",
    "- Train: (3974, 13) 2018-03-01 00:00:00 - 2018-08-13 13:00:00\n",
    "- Test (442, 13) 2018-08-13 14:00:00 - 2018-08-31 23:00:00\n",
    "<br>Также были добавены набор trainvalid, который использвался при кроссвалидации в линейной регрессии.\n",
    "\n",
    "<br>Были опробованы модели:\n",
    "- модель линейной регрессии с кроссвалидацией\n",
    "- модель дерева решений с кроссвалидацией\n",
    "- модель случайного леса с кроссвалидацией\n",
    "\n",
    "Модели показали следующие результаты:"
   ]
  },
  {
   "cell_type": "code",
   "execution_count": 44,
   "metadata": {
    "scrolled": true
   },
   "outputs": [
    {
     "data": {
      "text/html": [
       "<style  type=\"text/css\" >\n",
       "#T_40ed7_row0_col1{\n",
       "            background-color:  #f7fbff;\n",
       "            color:  #000000;\n",
       "        }#T_40ed7_row1_col1{\n",
       "            background-color:  #edf4fc;\n",
       "            color:  #000000;\n",
       "        }#T_40ed7_row2_col1{\n",
       "            background-color:  #08306b;\n",
       "            color:  #f1f1f1;\n",
       "        }</style><table id=\"T_40ed7_\" ><thead>    <tr>        <th class=\"blank level0\" ></th>        <th class=\"col_heading level0 col0\" >model</th>        <th class=\"col_heading level0 col1\" >RMSE_valid</th>    </tr></thead><tbody>\n",
       "                <tr>\n",
       "                        <th id=\"T_40ed7_level0_row0\" class=\"row_heading level0 row0\" >2</th>\n",
       "                        <td id=\"T_40ed7_row0_col0\" class=\"data row0 col0\" >RandomForestRegressor</td>\n",
       "                        <td id=\"T_40ed7_row0_col1\" class=\"data row0 col1\" >22.849668</td>\n",
       "            </tr>\n",
       "            <tr>\n",
       "                        <th id=\"T_40ed7_level0_row1\" class=\"row_heading level0 row1\" >0</th>\n",
       "                        <td id=\"T_40ed7_row1_col0\" class=\"data row1 col0\" >LinearRegression</td>\n",
       "                        <td id=\"T_40ed7_row1_col1\" class=\"data row1 col1\" >22.976083</td>\n",
       "            </tr>\n",
       "            <tr>\n",
       "                        <th id=\"T_40ed7_level0_row2\" class=\"row_heading level0 row2\" >1</th>\n",
       "                        <td id=\"T_40ed7_row2_col0\" class=\"data row2 col0\" >DecisionTreeRegressor</td>\n",
       "                        <td id=\"T_40ed7_row2_col1\" class=\"data row2 col1\" >25.226799</td>\n",
       "            </tr>\n",
       "    </tbody></table>"
      ],
      "text/plain": [
       "<pandas.io.formats.style.Styler at 0x7f973ce9d9d0>"
      ]
     },
     "metadata": {},
     "output_type": "display_data"
    }
   ],
   "source": [
    "display(models_results.sort_values(by='RMSE_valid').style.background_gradient(cmap='Blues', axis=0,subset=['RMSE_valid']))"
   ]
  },
  {
   "cell_type": "markdown",
   "metadata": {},
   "source": [
    "Как видим, лучший результат у модели случайного леса.\n",
    "Возьмем в эту модель с наилучшими найденными параметрами качестве финальной модели."
   ]
  },
  {
   "cell_type": "markdown",
   "metadata": {},
   "source": [
    "## Тестирование"
   ]
  },
  {
   "cell_type": "markdown",
   "metadata": {},
   "source": [
    "### Модель случайного леса на тестовой выборке"
   ]
  },
  {
   "cell_type": "code",
   "execution_count": 47,
   "metadata": {},
   "outputs": [
    {
     "name": "stdout",
     "output_type": "stream",
     "text": [
      "RMSE модели случайного леса на тестовой выборке: 41.09119656378111\n"
     ]
    }
   ],
   "source": [
    "model = msearch_tree.best_estimator_ # инициализируйте модель RandomForestRegressor с параметрами random_state=12345, n_estimators=est и max_depth=depth\n",
    "model.fit(features_trainvalid,target_trainvalid) # обучите модель на тренировочной выборке\n",
    "predictions_test = model.predict(features_test) # получите предсказания модели на валидационной выборке\n",
    "rmse_result = (mean_squared_error(target_test,predictions_test))**0.5# посчитайте значение метрики rmse на валидационной выборке\n",
    "print('RMSE модели случайного леса на тестовой выборке:',rmse_result )"
   ]
  },
  {
   "cell_type": "markdown",
   "metadata": {},
   "source": [
    "Построим график предсказаний модели в сравнении с фактическими данными."
   ]
  },
  {
   "cell_type": "code",
   "execution_count": 48,
   "metadata": {},
   "outputs": [
    {
     "data": {
      "image/png": "[encoded data removed]",
      "text/plain": [
       "<Figure size 1080x360 with 1 Axes>"
      ]
     },
     "metadata": {
      "needs_background": "light"
     },
     "output_type": "display_data"
    }
   ],
   "source": [
    "predictions_test = pd.Series(predictions_test, index=features_test.index)\n",
    "plt.figure(figsize=(15, 5))\n",
    "plt.plot(target_test.tail(168), label='Target')\n",
    "plt.plot(predictions_test.tail(168), label='Модель случайного леса')\n",
    "plt.legend()\n",
    "plt.title('Предсказания модели случайного леса в сравнении с фактическими данными (последняя неделя)')\n",
    "plt.xlabel('Время')\n",
    "plt.ylabel('Кол-во заказов')\n",
    "plt.show();"
   ]
  },
  {
   "cell_type": "markdown",
   "metadata": {},
   "source": [
    "На графике видно, что в целом модель неплохо угадывает общие тенденции графика, но все же ошибается в детальных колебаниях. Связано это, возможно, с авторегрессией и сезонностью временого ряда, которые модель леса плохо просчитывает."
   ]
  },
  {
   "cell_type": "markdown",
   "metadata": {},
   "source": [
    "### Проверка модели на адекватность."
   ]
  },
  {
   "cell_type": "markdown",
   "metadata": {},
   "source": [
    "Проверим модель на адекватность против дамми-модели и модели, которая предсказывает среднее."
   ]
  },
  {
   "cell_type": "code",
   "execution_count": 51,
   "metadata": {},
   "outputs": [
    {
     "name": "stdout",
     "output_type": "stream",
     "text": [
      "Оценка RMSE на модели dummy: 83.97941361168559\n"
     ]
    }
   ],
   "source": [
    "dummy_regr = DummyRegressor(strategy=\"mean\")\n",
    "dummy_regr.fit(features_trainvalid, target_trainvalid)\n",
    "dummy_predict = dummy_regr.predict(features_test)\n",
    "dummy_test_rmse = mean_squared_error(target_test,dummy_predict)**0.5\n",
    "print('Оценка RMSE на модели dummy:',dummy_test_rmse)\n"
   ]
  },
  {
   "cell_type": "code",
   "execution_count": 52,
   "metadata": {},
   "outputs": [
    {
     "name": "stdout",
     "output_type": "stream",
     "text": [
      "Оценка RMSE на модели dummy: 83.97941361168559\n"
     ]
    }
   ],
   "source": [
    "avg_predict = pd.Series(target_trainvalid.mean(), index=features_test.index)\n",
    "avg_test_rmse = mean_squared_error(target_test,avg_predict)**0.5\n",
    "print('Оценка RMSE на модели dummy:',avg_test_rmse)"
   ]
  },
  {
   "cell_type": "markdown",
   "metadata": {},
   "source": [
    "**Вывод:** Видим, что обе модели выдали результат хуже, чем модель линейной регрессии и экспоненциального сглаживания. Значит, выбранные модели рабочие."
   ]
  },
  {
   "cell_type": "markdown",
   "metadata": {},
   "source": [
    "### Анализ влияния признаков"
   ]
  },
  {
   "cell_type": "markdown",
   "metadata": {},
   "source": [
    "Проверим, какие из признаков оказались наиболее важными при моделировании линейной регрессии."
   ]
  },
  {
   "cell_type": "code",
   "execution_count": 53,
   "metadata": {},
   "outputs": [
    {
     "name": "stdout",
     "output_type": "stream",
     "text": [
      "lag_168             0.368180\n",
      "lag_24              0.153744\n",
      "hour                0.080724\n",
      "lag_1               0.079972\n",
      "rolling_mean_1      0.060696\n",
      "rolling_mean_2      0.052053\n",
      "rolling_mean_168    0.039338\n",
      "rolling_mean_24     0.038693\n",
      "rolling_mean_3      0.031057\n",
      "rolling_mean_4      0.028857\n",
      "rolling_mean_5      0.017203\n",
      "lag_5               0.012632\n",
      "lag_2               0.012597\n",
      "lag_4               0.009974\n",
      "lag_3               0.009960\n",
      "dayofweek           0.004319\n",
      "dtype: float64\n"
     ]
    },
    {
     "data": {
      "image/png": "[encoded data removed]",
      "text/plain": [
       "<Figure size 720x432 with 1 Axes>"
      ]
     },
     "metadata": {
      "needs_background": "light"
     },
     "output_type": "display_data"
    }
   ],
   "source": [
    "model = msearch_tree.best_estimator_\n",
    "model.fit(features_trainvalid, target_trainvalid)\n",
    "\n",
    "feature_importance = pd.Series(model.feature_importances_,\n",
    "                         features_trainvalid.columns).sort_values(ascending=False)\n",
    "\n",
    "fig, ax = plt.subplots(figsize=(10,6))\n",
    "feature_importance.plot.bar(ax=ax)\n",
    "ax.set_title(\"Важность признаков\")\n",
    "ax.set_ylabel('Важность')\n",
    "fig.tight_layout()\n",
    "\n",
    "print(feature_importance)"
   ]
  },
  {
   "cell_type": "markdown",
   "metadata": {},
   "source": [
    "Наиболее важными оказались признаки:\n",
    "- lag_168 - спрос на такси в аналогичный день и час на прошлой неделе.\n",
    "- lag_24 - в аналогичный час предыдущего дня\n",
    "- hour - значение текущего часа\n",
    "- lag_1 - спрос на такси в предыдущий час\n",
    "\n",
    "Наименее важные признаки: день недели и спрос на такси в предыдущие 2-5 часов.\n"
   ]
  },
  {
   "cell_type": "markdown",
   "metadata": {},
   "source": [
    "## Вывод"
   ]
  },
  {
   "cell_type": "code",
   "execution_count": null,
   "metadata": {},
   "outputs": [],
   "source": [
    "display(models_results.sort_values(by='RMSE_valid').style.background_gradient(cmap='Blues', axis=0,subset=['RMSE_valid']))"
   ]
  },
  {
   "cell_type": "markdown",
   "metadata": {},
   "source": [
    "Как видим, лучший результат у модели случайного леса с кроссвалидацией (и очень близкий результат у линейной регрессии с кроссвалидацией).\n",
    "<br>В качестве финальной модели была выбрана модель случайного леса.\n",
    "<br>**Модель случайного леса на тестовой выборке показала результат RMSE = 41,1**\n",
    "\n",
    "**Анализ адекватности модели:**\n",
    "Анализ адекватности показал, что dummy-модель и модель, предсказывающая среднее, работают гораздо хуже случайного леса, а значит, выбранная модель действительно помогает в предсказании заказов такси.\n",
    "\n",
    "**Анализ важности признаков:**\n",
    "Наиболее важными оказались признаки:\n",
    "- lag_168 - спрос на такси в аналогичный день и час на прошлой неделе.\n",
    "- lag_24 - в аналогичный час предыдущего дня\n",
    "- hour - значение текущего часа\n",
    "- lag_1 - спрос на такси в предыдущий час\n",
    "\n",
    "Наименее важные признаки: день недели и спрос на такси в предыдущие 2-5 часов."
   ]
  },
  {
   "cell_type": "code",
   "execution_count": null,
   "metadata": {},
   "outputs": [],
   "source": []
  }
 ],
 "metadata": {
  "ExecuteTimeLog": [
   {
    "duration": 51,
    "start_time": "2023-12-06T13:08:05.969Z"
   },
   {
    "duration": 371,
    "start_time": "2023-12-06T13:08:16.331Z"
   },
   {
    "duration": 149,
    "start_time": "2023-12-06T13:08:17.616Z"
   },
   {
    "duration": 47,
    "start_time": "2023-12-06T13:08:37.367Z"
   },
   {
    "duration": 47,
    "start_time": "2023-12-07T10:49:16.838Z"
   },
   {
    "duration": 357,
    "start_time": "2023-12-07T10:49:21.619Z"
   },
   {
    "duration": 120,
    "start_time": "2023-12-07T10:49:22.081Z"
   },
   {
    "duration": 582,
    "start_time": "2023-12-07T10:49:23.829Z"
   },
   {
    "duration": 172,
    "start_time": "2023-12-07T10:49:29.711Z"
   },
   {
    "duration": 42,
    "start_time": "2023-12-07T10:49:38.122Z"
   },
   {
    "duration": 48,
    "start_time": "2023-12-07T10:50:24.994Z"
   },
   {
    "duration": 165,
    "start_time": "2023-12-07T10:50:35.264Z"
   },
   {
    "duration": 48,
    "start_time": "2023-12-07T10:51:12.869Z"
   },
   {
    "duration": 51,
    "start_time": "2023-12-07T10:51:56.028Z"
   },
   {
    "duration": 623,
    "start_time": "2023-12-07T10:52:05.589Z"
   },
   {
    "duration": 195,
    "start_time": "2023-12-07T10:52:09.326Z"
   },
   {
    "duration": 43,
    "start_time": "2024-01-03T23:15:31.013Z"
   },
   {
    "duration": 392,
    "start_time": "2024-01-03T23:15:51.053Z"
   },
   {
    "duration": 123,
    "start_time": "2024-01-03T23:15:51.812Z"
   },
   {
    "duration": 2,
    "start_time": "2024-01-03T23:16:04.804Z"
   },
   {
    "duration": 49,
    "start_time": "2024-01-03T23:16:07.744Z"
   },
   {
    "duration": 54,
    "start_time": "2024-01-03T23:16:25.351Z"
   },
   {
    "duration": 49,
    "start_time": "2024-01-03T23:16:44.603Z"
   },
   {
    "duration": 10,
    "start_time": "2024-01-03T23:16:58.546Z"
   },
   {
    "duration": 50,
    "start_time": "2024-01-03T23:18:09.638Z"
   },
   {
    "duration": 60,
    "start_time": "2024-01-03T23:18:11.853Z"
   },
   {
    "duration": 60,
    "start_time": "2024-01-03T23:18:19.590Z"
   },
   {
    "duration": 10,
    "start_time": "2024-01-03T23:19:21.127Z"
   },
   {
    "duration": 10,
    "start_time": "2024-01-03T23:19:30.771Z"
   },
   {
    "duration": 5,
    "start_time": "2024-01-03T23:19:34.333Z"
   },
   {
    "duration": 555,
    "start_time": "2024-01-03T23:20:44.707Z"
   },
   {
    "duration": 33,
    "start_time": "2024-01-03T23:20:50.042Z"
   },
   {
    "duration": 47,
    "start_time": "2024-01-09T12:25:47.911Z"
   },
   {
    "duration": 6,
    "start_time": "2024-01-09T12:27:47.090Z"
   },
   {
    "duration": 381,
    "start_time": "2024-01-09T12:27:50.605Z"
   },
   {
    "duration": 150,
    "start_time": "2024-01-09T12:27:52.096Z"
   },
   {
    "duration": 9,
    "start_time": "2024-01-09T12:27:55.719Z"
   },
   {
    "duration": 4,
    "start_time": "2024-01-09T12:29:08.060Z"
   },
   {
    "duration": 1015,
    "start_time": "2024-01-09T12:29:10.972Z"
   },
   {
    "duration": 89,
    "start_time": "2024-01-09T12:34:51.123Z"
   },
   {
    "duration": 7,
    "start_time": "2024-01-09T12:40:08.729Z"
   },
   {
    "duration": 46,
    "start_time": "2024-01-09T12:41:26.813Z"
   },
   {
    "duration": 3,
    "start_time": "2024-01-09T12:43:02.634Z"
   },
   {
    "duration": 7,
    "start_time": "2024-01-09T13:01:50.947Z"
   },
   {
    "duration": 4,
    "start_time": "2024-01-09T13:03:41.948Z"
   },
   {
    "duration": 6,
    "start_time": "2024-01-09T13:04:51.586Z"
   },
   {
    "duration": 111,
    "start_time": "2024-01-09T13:06:06.926Z"
   },
   {
    "duration": 21,
    "start_time": "2024-01-09T13:08:01.133Z"
   },
   {
    "duration": 14,
    "start_time": "2024-01-09T13:10:50.298Z"
   },
   {
    "duration": 3,
    "start_time": "2024-01-09T13:15:28.748Z"
   },
   {
    "duration": 3,
    "start_time": "2024-01-09T13:15:41.051Z"
   },
   {
    "duration": 16,
    "start_time": "2024-01-09T13:21:23.155Z"
   },
   {
    "duration": 1452,
    "start_time": "2024-01-09T13:25:08.462Z"
   },
   {
    "duration": 7,
    "start_time": "2024-01-09T13:25:16.325Z"
   },
   {
    "duration": 116,
    "start_time": "2024-01-09T13:28:14.199Z"
   },
   {
    "duration": 50,
    "start_time": "2024-01-09T13:28:28.177Z"
   },
   {
    "duration": 105,
    "start_time": "2024-01-09T13:28:36.242Z"
   },
   {
    "duration": 11,
    "start_time": "2024-01-09T13:32:32.380Z"
   },
   {
    "duration": 116,
    "start_time": "2024-01-09T13:34:04.551Z"
   },
   {
    "duration": 117,
    "start_time": "2024-01-09T13:34:07.426Z"
   },
   {
    "duration": 105,
    "start_time": "2024-01-09T13:34:21.195Z"
   },
   {
    "duration": 8,
    "start_time": "2024-01-09T13:39:08.811Z"
   },
   {
    "duration": 3,
    "start_time": "2024-01-09T13:39:23.595Z"
   },
   {
    "duration": 101,
    "start_time": "2024-01-09T13:39:35.635Z"
   },
   {
    "duration": 107,
    "start_time": "2024-01-09T13:39:38.932Z"
   },
   {
    "duration": 502,
    "start_time": "2024-01-09T13:39:57.900Z"
   },
   {
    "duration": 126,
    "start_time": "2024-01-09T13:40:04.641Z"
   },
   {
    "duration": 3,
    "start_time": "2024-01-09T13:40:37.208Z"
   },
   {
    "duration": 13,
    "start_time": "2024-01-09T13:40:50.549Z"
   },
   {
    "duration": 11,
    "start_time": "2024-01-09T13:42:50.640Z"
   },
   {
    "duration": 11,
    "start_time": "2024-01-09T13:57:51.651Z"
   },
   {
    "duration": 914,
    "start_time": "2024-01-09T13:57:59.808Z"
   },
   {
    "duration": 767,
    "start_time": "2024-01-09T13:58:51.388Z"
   },
   {
    "duration": 9,
    "start_time": "2024-01-09T13:58:57.817Z"
   },
   {
    "duration": 766,
    "start_time": "2024-01-09T13:59:07.816Z"
   },
   {
    "duration": 253,
    "start_time": "2024-01-09T14:01:17.974Z"
   },
   {
    "duration": 769,
    "start_time": "2024-01-09T14:01:35.833Z"
   },
   {
    "duration": 9,
    "start_time": "2024-01-09T14:01:44.278Z"
   },
   {
    "duration": 772,
    "start_time": "2024-01-09T14:01:49.616Z"
   },
   {
    "duration": 551,
    "start_time": "2024-01-09T14:02:17.183Z"
   },
   {
    "duration": 634,
    "start_time": "2024-01-09T14:06:24.405Z"
   },
   {
    "duration": 599,
    "start_time": "2024-01-09T14:06:31.567Z"
   },
   {
    "duration": 223,
    "start_time": "2024-01-09T14:28:32.102Z"
   },
   {
    "duration": 105,
    "start_time": "2024-01-09T14:28:56.314Z"
   },
   {
    "duration": 104,
    "start_time": "2024-01-09T14:30:04.772Z"
   },
   {
    "duration": 112,
    "start_time": "2024-01-09T14:30:19.358Z"
   },
   {
    "duration": 13,
    "start_time": "2024-01-09T14:30:29.020Z"
   },
   {
    "duration": 197,
    "start_time": "2024-01-09T14:32:39.442Z"
   },
   {
    "duration": 18,
    "start_time": "2024-01-09T14:37:27.044Z"
   },
   {
    "duration": 19,
    "start_time": "2024-01-09T14:37:53.139Z"
   },
   {
    "duration": 18,
    "start_time": "2024-01-09T14:38:42.038Z"
   },
   {
    "duration": 184,
    "start_time": "2024-01-09T14:39:06.807Z"
   },
   {
    "duration": 210,
    "start_time": "2024-01-09T14:41:19.636Z"
   },
   {
    "duration": 14,
    "start_time": "2024-01-09T14:41:41.144Z"
   },
   {
    "duration": 205,
    "start_time": "2024-01-09T14:43:16.187Z"
   },
   {
    "duration": 194,
    "start_time": "2024-01-09T15:09:32.884Z"
   },
   {
    "duration": 199,
    "start_time": "2024-01-09T15:09:47.522Z"
   },
   {
    "duration": 198,
    "start_time": "2024-01-09T15:10:06.915Z"
   },
   {
    "duration": 12,
    "start_time": "2024-01-09T15:13:42.903Z"
   },
   {
    "duration": 232,
    "start_time": "2024-01-09T15:15:54.406Z"
   },
   {
    "duration": 158,
    "start_time": "2024-01-09T15:16:18.470Z"
   },
   {
    "duration": 256,
    "start_time": "2024-01-09T15:16:25.075Z"
   },
   {
    "duration": 132,
    "start_time": "2024-01-09T15:16:34.675Z"
   },
   {
    "duration": 131,
    "start_time": "2024-01-09T15:17:06.296Z"
   },
   {
    "duration": 138,
    "start_time": "2024-01-09T15:17:43.138Z"
   },
   {
    "duration": 202,
    "start_time": "2024-01-09T15:18:32.874Z"
   },
   {
    "duration": 163,
    "start_time": "2024-01-09T15:18:46.949Z"
   },
   {
    "duration": 231,
    "start_time": "2024-01-09T15:19:45.136Z"
   },
   {
    "duration": 148,
    "start_time": "2024-01-09T15:19:56.116Z"
   },
   {
    "duration": 231,
    "start_time": "2024-01-09T15:20:10.452Z"
   },
   {
    "duration": 200,
    "start_time": "2024-01-09T15:20:16.645Z"
   },
   {
    "duration": 193,
    "start_time": "2024-01-09T15:20:26.555Z"
   },
   {
    "duration": 181,
    "start_time": "2024-01-09T15:20:43.576Z"
   },
   {
    "duration": 212,
    "start_time": "2024-01-09T15:20:58.633Z"
   },
   {
    "duration": 234,
    "start_time": "2024-01-09T15:21:06.899Z"
   },
   {
    "duration": 239,
    "start_time": "2024-01-09T15:21:14.627Z"
   },
   {
    "duration": 224,
    "start_time": "2024-01-09T15:21:26.566Z"
   },
   {
    "duration": 269,
    "start_time": "2024-01-09T15:21:42.776Z"
   },
   {
    "duration": 166,
    "start_time": "2024-01-09T15:23:29.893Z"
   },
   {
    "duration": 232,
    "start_time": "2024-01-09T15:23:47.130Z"
   },
   {
    "duration": 564,
    "start_time": "2024-01-09T15:27:04.372Z"
   },
   {
    "duration": 549,
    "start_time": "2024-01-09T15:27:26.368Z"
   },
   {
    "duration": 359,
    "start_time": "2024-01-09T15:27:53.358Z"
   },
   {
    "duration": 152,
    "start_time": "2024-01-09T15:28:01.637Z"
   },
   {
    "duration": 45,
    "start_time": "2024-01-11T01:56:22.642Z"
   },
   {
    "duration": 1336,
    "start_time": "2024-01-11T01:56:30.613Z"
   },
   {
    "duration": 117,
    "start_time": "2024-01-11T01:56:31.951Z"
   },
   {
    "duration": 4,
    "start_time": "2024-01-11T01:56:32.070Z"
   },
   {
    "duration": 61,
    "start_time": "2024-01-11T01:56:32.077Z"
   },
   {
    "duration": 101,
    "start_time": "2024-01-11T01:56:32.140Z"
   },
   {
    "duration": 132,
    "start_time": "2024-01-11T01:56:32.242Z"
   },
   {
    "duration": 22,
    "start_time": "2024-01-11T01:56:32.375Z"
   },
   {
    "duration": 34,
    "start_time": "2024-01-11T01:56:32.398Z"
   },
   {
    "duration": 7,
    "start_time": "2024-01-11T01:56:32.433Z"
   },
   {
    "duration": 123,
    "start_time": "2024-01-11T01:56:32.442Z"
   },
   {
    "duration": 606,
    "start_time": "2024-01-11T01:56:32.566Z"
   },
   {
    "duration": 250,
    "start_time": "2024-01-11T01:56:33.174Z"
   },
   {
    "duration": 186,
    "start_time": "2024-01-11T01:56:33.425Z"
   },
   {
    "duration": 3,
    "start_time": "2024-01-11T01:56:36.591Z"
   },
   {
    "duration": 2,
    "start_time": "2024-01-11T02:03:49.063Z"
   },
   {
    "duration": 53,
    "start_time": "2024-01-11T02:03:49.067Z"
   },
   {
    "duration": 3,
    "start_time": "2024-01-11T02:03:49.121Z"
   },
   {
    "duration": 13,
    "start_time": "2024-01-11T02:03:49.125Z"
   },
   {
    "duration": 3,
    "start_time": "2024-01-11T02:03:49.140Z"
   },
   {
    "duration": 10,
    "start_time": "2024-01-11T02:03:49.144Z"
   },
   {
    "duration": 7,
    "start_time": "2024-01-11T02:03:49.155Z"
   },
   {
    "duration": 14,
    "start_time": "2024-01-11T02:03:49.163Z"
   },
   {
    "duration": 6,
    "start_time": "2024-01-11T02:03:49.178Z"
   },
   {
    "duration": 127,
    "start_time": "2024-01-11T02:03:49.185Z"
   },
   {
    "duration": 680,
    "start_time": "2024-01-11T02:03:49.314Z"
   },
   {
    "duration": 233,
    "start_time": "2024-01-11T02:03:49.996Z"
   },
   {
    "duration": 157,
    "start_time": "2024-01-11T02:03:50.231Z"
   },
   {
    "duration": 2,
    "start_time": "2024-01-11T02:03:52.695Z"
   },
   {
    "duration": 63,
    "start_time": "2024-01-11T02:04:18.897Z"
   },
   {
    "duration": 12,
    "start_time": "2024-01-11T02:05:21.187Z"
   },
   {
    "duration": 16,
    "start_time": "2024-01-11T02:06:34.090Z"
   },
   {
    "duration": 33,
    "start_time": "2024-01-11T02:07:51.448Z"
   },
   {
    "duration": 13,
    "start_time": "2024-01-11T02:09:21.883Z"
   },
   {
    "duration": 27,
    "start_time": "2024-01-11T02:09:42.653Z"
   },
   {
    "duration": 28,
    "start_time": "2024-01-11T02:11:58.189Z"
   },
   {
    "duration": 29,
    "start_time": "2024-01-11T02:17:46.631Z"
   },
   {
    "duration": 10,
    "start_time": "2024-01-11T02:21:39.302Z"
   },
   {
    "duration": 264,
    "start_time": "2024-01-11T02:21:56.533Z"
   },
   {
    "duration": 6,
    "start_time": "2024-01-11T02:22:02.261Z"
   },
   {
    "duration": 5,
    "start_time": "2024-01-11T02:22:21.015Z"
   },
   {
    "duration": 8,
    "start_time": "2024-01-11T02:24:19.624Z"
   },
   {
    "duration": 23,
    "start_time": "2024-01-11T03:26:42.453Z"
   },
   {
    "duration": 31,
    "start_time": "2024-01-11T03:26:48.242Z"
   },
   {
    "duration": 23,
    "start_time": "2024-01-11T03:26:53.404Z"
   },
   {
    "duration": 134,
    "start_time": "2024-01-11T03:27:47.016Z"
   },
   {
    "duration": 3,
    "start_time": "2024-01-11T03:28:08.782Z"
   },
   {
    "duration": 3,
    "start_time": "2024-01-11T03:28:11.263Z"
   },
   {
    "duration": 54,
    "start_time": "2024-01-11T03:28:16.790Z"
   },
   {
    "duration": 4,
    "start_time": "2024-01-11T03:31:44.082Z"
   },
   {
    "duration": 19,
    "start_time": "2024-01-11T03:32:20.514Z"
   },
   {
    "duration": 35,
    "start_time": "2024-01-11T03:39:16.816Z"
   },
   {
    "duration": 4,
    "start_time": "2024-01-11T03:43:03.073Z"
   },
   {
    "duration": 38,
    "start_time": "2024-01-11T03:49:13.804Z"
   },
   {
    "duration": 88,
    "start_time": "2024-01-11T03:49:25.756Z"
   },
   {
    "duration": 41,
    "start_time": "2024-01-11T03:49:43.002Z"
   },
   {
    "duration": 5,
    "start_time": "2024-01-11T04:14:27.580Z"
   },
   {
    "duration": 113,
    "start_time": "2024-01-11T04:14:33.143Z"
   },
   {
    "duration": 23,
    "start_time": "2024-01-11T04:15:20.509Z"
   },
   {
    "duration": 8,
    "start_time": "2024-01-11T04:18:52.068Z"
   },
   {
    "duration": 7,
    "start_time": "2024-01-11T04:20:42.137Z"
   },
   {
    "duration": 10,
    "start_time": "2024-01-11T04:21:44.329Z"
   },
   {
    "duration": 7,
    "start_time": "2024-01-11T04:21:46.803Z"
   },
   {
    "duration": 12,
    "start_time": "2024-01-11T04:24:26.453Z"
   },
   {
    "duration": 76,
    "start_time": "2024-01-11T04:27:44.167Z"
   },
   {
    "duration": 14,
    "start_time": "2024-01-11T04:29:01.905Z"
   },
   {
    "duration": 13,
    "start_time": "2024-01-11T04:30:19.382Z"
   },
   {
    "duration": 1438,
    "start_time": "2024-01-11T04:36:41.286Z"
   },
   {
    "duration": 4749,
    "start_time": "2024-01-11T04:37:00.157Z"
   },
   {
    "duration": 1421,
    "start_time": "2024-01-11T04:45:50.172Z"
   },
   {
    "duration": 1394,
    "start_time": "2024-01-11T04:49:06.249Z"
   },
   {
    "duration": 9748,
    "start_time": "2024-01-11T04:49:38.760Z"
   },
   {
    "duration": 9902,
    "start_time": "2024-01-11T04:51:01.811Z"
   },
   {
    "duration": 1165,
    "start_time": "2024-01-11T04:51:29.610Z"
   },
   {
    "duration": 3,
    "start_time": "2024-01-11T05:06:43.785Z"
   },
   {
    "duration": 16,
    "start_time": "2024-01-11T05:21:50.299Z"
   },
   {
    "duration": 72,
    "start_time": "2024-01-11T05:25:45.555Z"
   },
   {
    "duration": 14,
    "start_time": "2024-01-11T05:25:49.853Z"
   },
   {
    "duration": 13,
    "start_time": "2024-01-11T05:28:16.430Z"
   },
   {
    "duration": 22,
    "start_time": "2024-01-11T05:29:19.306Z"
   },
   {
    "duration": 28,
    "start_time": "2024-01-11T05:31:15.191Z"
   },
   {
    "duration": 18,
    "start_time": "2024-01-11T05:33:10.456Z"
   },
   {
    "duration": 13,
    "start_time": "2024-01-11T05:33:44.880Z"
   },
   {
    "duration": 11,
    "start_time": "2024-01-11T05:34:31.511Z"
   },
   {
    "duration": 10,
    "start_time": "2024-01-11T05:34:58.579Z"
   },
   {
    "duration": 9,
    "start_time": "2024-01-11T05:35:21.326Z"
   },
   {
    "duration": 8,
    "start_time": "2024-01-11T05:35:34.673Z"
   },
   {
    "duration": 7,
    "start_time": "2024-01-11T05:35:36.655Z"
   },
   {
    "duration": 8,
    "start_time": "2024-01-11T05:35:45.317Z"
   },
   {
    "duration": 12,
    "start_time": "2024-01-11T05:35:47.092Z"
   },
   {
    "duration": 15,
    "start_time": "2024-01-11T05:35:51.289Z"
   },
   {
    "duration": 15,
    "start_time": "2024-01-11T05:36:20.992Z"
   },
   {
    "duration": 11,
    "start_time": "2024-01-11T05:37:27.630Z"
   },
   {
    "duration": 16,
    "start_time": "2024-01-11T05:50:37.278Z"
   },
   {
    "duration": 5,
    "start_time": "2024-01-11T05:51:12.740Z"
   },
   {
    "duration": 16,
    "start_time": "2024-01-11T05:51:28.232Z"
   },
   {
    "duration": 16,
    "start_time": "2024-01-11T05:51:46.135Z"
   },
   {
    "duration": 13,
    "start_time": "2024-01-11T05:51:50.933Z"
   },
   {
    "duration": 16,
    "start_time": "2024-01-11T05:52:16.913Z"
   },
   {
    "duration": 56,
    "start_time": "2024-01-11T05:53:20.143Z"
   },
   {
    "duration": 13,
    "start_time": "2024-01-11T05:54:49.551Z"
   },
   {
    "duration": 18,
    "start_time": "2024-01-11T05:56:49.835Z"
   },
   {
    "duration": 10,
    "start_time": "2024-01-11T05:56:57.916Z"
   },
   {
    "duration": 15,
    "start_time": "2024-01-11T05:58:00.240Z"
   },
   {
    "duration": 15,
    "start_time": "2024-01-11T06:01:31.689Z"
   },
   {
    "duration": 10,
    "start_time": "2024-01-11T06:04:04.578Z"
   },
   {
    "duration": 17,
    "start_time": "2024-01-11T06:11:59.804Z"
   },
   {
    "duration": 21,
    "start_time": "2024-01-11T06:13:15.833Z"
   },
   {
    "duration": 14,
    "start_time": "2024-01-11T06:13:26.366Z"
   },
   {
    "duration": 13,
    "start_time": "2024-01-11T06:14:19.525Z"
   },
   {
    "duration": 32,
    "start_time": "2024-01-11T06:18:48.988Z"
   },
   {
    "duration": 23,
    "start_time": "2024-01-11T06:19:03.814Z"
   },
   {
    "duration": 20,
    "start_time": "2024-01-11T06:19:39.145Z"
   },
   {
    "duration": 21,
    "start_time": "2024-01-11T07:27:52.624Z"
   },
   {
    "duration": 23,
    "start_time": "2024-01-11T07:29:23.498Z"
   },
   {
    "duration": 1288,
    "start_time": "2024-01-11T07:29:39.679Z"
   },
   {
    "duration": 121,
    "start_time": "2024-01-11T07:39:16.517Z"
   },
   {
    "duration": 18,
    "start_time": "2024-01-11T07:41:53.690Z"
   },
   {
    "duration": 25,
    "start_time": "2024-01-11T07:42:08.820Z"
   },
   {
    "duration": 20,
    "start_time": "2024-01-11T07:42:56.165Z"
   },
   {
    "duration": 23,
    "start_time": "2024-01-11T07:43:32.027Z"
   },
   {
    "duration": 40,
    "start_time": "2024-01-11T07:44:08.589Z"
   },
   {
    "duration": 29,
    "start_time": "2024-01-11T07:44:40.001Z"
   },
   {
    "duration": 178,
    "start_time": "2024-01-11T07:45:32.778Z"
   },
   {
    "duration": 159,
    "start_time": "2024-01-11T07:48:35.002Z"
   },
   {
    "duration": 199,
    "start_time": "2024-01-11T07:48:50.562Z"
   },
   {
    "duration": 244,
    "start_time": "2024-01-11T07:49:54.018Z"
   },
   {
    "duration": 4,
    "start_time": "2024-01-11T07:50:14.122Z"
   },
   {
    "duration": 109,
    "start_time": "2024-01-11T07:50:26.562Z"
   },
   {
    "duration": 129,
    "start_time": "2024-01-11T08:01:08.247Z"
   },
   {
    "duration": 100,
    "start_time": "2024-01-11T08:03:16.055Z"
   },
   {
    "duration": 72,
    "start_time": "2024-01-11T08:05:00.214Z"
   },
   {
    "duration": 31,
    "start_time": "2024-01-11T08:08:27.218Z"
   },
   {
    "duration": 21,
    "start_time": "2024-01-11T08:10:23.527Z"
   },
   {
    "duration": 13,
    "start_time": "2024-01-11T08:11:03.187Z"
   },
   {
    "duration": 12,
    "start_time": "2024-01-11T08:16:23.717Z"
   },
   {
    "duration": 14,
    "start_time": "2024-01-11T08:20:32.197Z"
   },
   {
    "duration": 68,
    "start_time": "2024-01-11T08:26:06.390Z"
   },
   {
    "duration": 1165,
    "start_time": "2024-01-11T08:29:46.002Z"
   },
   {
    "duration": 104,
    "start_time": "2024-01-11T08:34:24.358Z"
   },
   {
    "duration": 10087,
    "start_time": "2024-01-11T08:36:45.369Z"
   },
   {
    "duration": 10106,
    "start_time": "2024-01-11T08:38:01.671Z"
   },
   {
    "duration": 9940,
    "start_time": "2024-01-11T08:39:22.475Z"
   },
   {
    "duration": 86,
    "start_time": "2024-01-11T08:39:49.924Z"
   },
   {
    "duration": 10045,
    "start_time": "2024-01-11T08:39:54.040Z"
   },
   {
    "duration": 40,
    "start_time": "2024-01-11T08:46:18.326Z"
   },
   {
    "duration": 18,
    "start_time": "2024-01-11T09:11:16.880Z"
   },
   {
    "duration": 2215,
    "start_time": "2024-01-11T09:19:09.789Z"
   },
   {
    "duration": 13,
    "start_time": "2024-01-11T09:19:39.458Z"
   },
   {
    "duration": 24,
    "start_time": "2024-01-11T09:28:01.721Z"
   },
   {
    "duration": 600,
    "start_time": "2024-01-11T09:37:46.590Z"
   },
   {
    "duration": 5,
    "start_time": "2024-01-11T09:43:04.466Z"
   },
   {
    "duration": 15,
    "start_time": "2024-01-11T09:43:52.795Z"
   },
   {
    "duration": 19,
    "start_time": "2024-01-11T09:44:14.594Z"
   },
   {
    "duration": 14,
    "start_time": "2024-01-11T09:44:37.396Z"
   },
   {
    "duration": 13,
    "start_time": "2024-01-11T09:44:44.808Z"
   },
   {
    "duration": 8,
    "start_time": "2024-01-11T09:44:53.046Z"
   },
   {
    "duration": 17,
    "start_time": "2024-01-11T09:44:59.934Z"
   },
   {
    "duration": 71,
    "start_time": "2024-01-11T09:46:54.024Z"
   },
   {
    "duration": 21,
    "start_time": "2024-01-11T09:47:05.208Z"
   },
   {
    "duration": 4,
    "start_time": "2024-01-11T09:49:21.286Z"
   },
   {
    "duration": 6,
    "start_time": "2024-01-11T09:49:33.099Z"
   },
   {
    "duration": 13,
    "start_time": "2024-01-11T09:49:42.474Z"
   },
   {
    "duration": 1547,
    "start_time": "2024-01-11T09:50:16.044Z"
   },
   {
    "duration": 1693,
    "start_time": "2024-01-11T09:52:03.238Z"
   },
   {
    "duration": 6,
    "start_time": "2024-01-11T09:52:24.177Z"
   },
   {
    "duration": 635,
    "start_time": "2024-01-11T09:52:44.354Z"
   },
   {
    "duration": 598,
    "start_time": "2024-01-11T09:53:36.329Z"
   },
   {
    "duration": 4,
    "start_time": "2024-01-11T09:54:01.778Z"
   },
   {
    "duration": 593,
    "start_time": "2024-01-11T10:01:03.300Z"
   },
   {
    "duration": 671,
    "start_time": "2024-01-11T10:02:19.988Z"
   },
   {
    "duration": 2,
    "start_time": "2024-01-11T10:02:23.693Z"
   },
   {
    "duration": 622,
    "start_time": "2024-01-11T10:02:38.806Z"
   },
   {
    "duration": 651,
    "start_time": "2024-01-11T10:03:54.506Z"
   },
   {
    "duration": 3,
    "start_time": "2024-01-11T10:04:30.739Z"
   },
   {
    "duration": 8,
    "start_time": "2024-01-11T10:04:37.716Z"
   },
   {
    "duration": 612,
    "start_time": "2024-01-11T10:09:32.657Z"
   },
   {
    "duration": 592,
    "start_time": "2024-01-11T10:10:19.539Z"
   },
   {
    "duration": 630,
    "start_time": "2024-01-11T10:10:39.603Z"
   },
   {
    "duration": 596,
    "start_time": "2024-01-11T10:11:23.336Z"
   },
   {
    "duration": 621,
    "start_time": "2024-01-11T10:11:48.478Z"
   },
   {
    "duration": 592,
    "start_time": "2024-01-11T10:12:05.757Z"
   },
   {
    "duration": 3,
    "start_time": "2024-01-11T10:12:10.824Z"
   },
   {
    "duration": 578,
    "start_time": "2024-01-11T10:12:15.894Z"
   },
   {
    "duration": 650,
    "start_time": "2024-01-11T10:44:45.970Z"
   },
   {
    "duration": 549,
    "start_time": "2024-01-11T10:45:09.968Z"
   },
   {
    "duration": 604,
    "start_time": "2024-01-11T10:45:26.901Z"
   },
   {
    "duration": 610,
    "start_time": "2024-01-11T10:45:34.862Z"
   },
   {
    "duration": 78,
    "start_time": "2024-01-11T10:46:02.407Z"
   },
   {
    "duration": 576,
    "start_time": "2024-01-11T10:46:07.094Z"
   },
   {
    "duration": 588,
    "start_time": "2024-01-11T10:46:51.955Z"
   },
   {
    "duration": 619,
    "start_time": "2024-01-11T10:46:59.926Z"
   },
   {
    "duration": 1087,
    "start_time": "2024-01-11T10:47:22.198Z"
   },
   {
    "duration": 595,
    "start_time": "2024-01-11T10:47:29.166Z"
   },
   {
    "duration": 580,
    "start_time": "2024-01-11T10:47:33.029Z"
   },
   {
    "duration": 9,
    "start_time": "2024-01-11T10:58:28.253Z"
   },
   {
    "duration": 13,
    "start_time": "2024-01-11T10:59:40.579Z"
   },
   {
    "duration": 17,
    "start_time": "2024-01-11T11:00:22.088Z"
   },
   {
    "duration": 11,
    "start_time": "2024-01-11T11:00:28.311Z"
   },
   {
    "duration": 13,
    "start_time": "2024-01-11T11:00:39.427Z"
   },
   {
    "duration": 10,
    "start_time": "2024-01-11T11:01:15.899Z"
   },
   {
    "duration": 11,
    "start_time": "2024-01-11T11:01:48.081Z"
   },
   {
    "duration": 22,
    "start_time": "2024-01-11T11:03:37.821Z"
   },
   {
    "duration": 19,
    "start_time": "2024-01-11T11:03:55.857Z"
   },
   {
    "duration": 316,
    "start_time": "2024-01-11T11:06:09.530Z"
   },
   {
    "duration": 8,
    "start_time": "2024-01-11T11:06:32.624Z"
   },
   {
    "duration": 18,
    "start_time": "2024-01-11T11:06:51.541Z"
   },
   {
    "duration": 12,
    "start_time": "2024-01-11T11:07:04.700Z"
   },
   {
    "duration": 11,
    "start_time": "2024-01-11T11:09:29.892Z"
   },
   {
    "duration": 13,
    "start_time": "2024-01-11T11:12:03.980Z"
   },
   {
    "duration": 21,
    "start_time": "2024-01-11T11:12:13.530Z"
   },
   {
    "duration": 15,
    "start_time": "2024-01-11T11:12:33.923Z"
   },
   {
    "duration": 13,
    "start_time": "2024-01-11T11:12:38.420Z"
   },
   {
    "duration": 10,
    "start_time": "2024-01-11T11:12:56.680Z"
   },
   {
    "duration": 12,
    "start_time": "2024-01-11T11:13:01.094Z"
   },
   {
    "duration": 9,
    "start_time": "2024-01-11T11:13:47.910Z"
   },
   {
    "duration": 8,
    "start_time": "2024-01-11T11:15:09.762Z"
   },
   {
    "duration": 9,
    "start_time": "2024-01-11T11:15:38.904Z"
   },
   {
    "duration": 74,
    "start_time": "2024-01-11T11:16:25.705Z"
   },
   {
    "duration": 53,
    "start_time": "2024-01-11T11:16:46.943Z"
   },
   {
    "duration": 12,
    "start_time": "2024-01-11T11:17:21.266Z"
   },
   {
    "duration": 9,
    "start_time": "2024-01-11T11:18:19.488Z"
   },
   {
    "duration": 9048,
    "start_time": "2024-01-11T11:23:40.957Z"
   },
   {
    "duration": 48590,
    "start_time": "2024-01-11T11:24:02.400Z"
   },
   {
    "duration": 563933,
    "start_time": "2024-01-11T11:24:52.835Z"
   },
   {
    "duration": 572,
    "start_time": "2024-01-11T11:34:16.770Z"
   },
   {
    "duration": 572,
    "start_time": "2024-01-11T11:35:05.952Z"
   },
   {
    "duration": 578,
    "start_time": "2024-01-11T11:35:34.375Z"
   },
   {
    "duration": 1643,
    "start_time": "2024-01-12T07:31:41.432Z"
   },
   {
    "duration": 130,
    "start_time": "2024-01-12T07:31:43.077Z"
   },
   {
    "duration": 4,
    "start_time": "2024-01-12T07:31:43.208Z"
   },
   {
    "duration": 13,
    "start_time": "2024-01-12T07:31:43.214Z"
   },
   {
    "duration": 3,
    "start_time": "2024-01-12T07:31:43.228Z"
   },
   {
    "duration": 6,
    "start_time": "2024-01-12T07:31:43.232Z"
   },
   {
    "duration": 6,
    "start_time": "2024-01-12T07:31:43.240Z"
   },
   {
    "duration": 12,
    "start_time": "2024-01-12T07:31:43.247Z"
   },
   {
    "duration": 28,
    "start_time": "2024-01-12T07:31:43.260Z"
   },
   {
    "duration": 134,
    "start_time": "2024-01-12T07:31:43.290Z"
   },
   {
    "duration": 697,
    "start_time": "2024-01-12T07:31:43.425Z"
   },
   {
    "duration": 252,
    "start_time": "2024-01-12T07:31:44.123Z"
   },
   {
    "duration": 176,
    "start_time": "2024-01-12T07:31:44.376Z"
   },
   {
    "duration": 3,
    "start_time": "2024-01-12T07:31:44.553Z"
   },
   {
    "duration": 1782,
    "start_time": "2024-01-12T18:00:58.063Z"
   },
   {
    "duration": 162,
    "start_time": "2024-01-12T18:00:59.847Z"
   },
   {
    "duration": 4,
    "start_time": "2024-01-12T18:01:00.011Z"
   },
   {
    "duration": 57,
    "start_time": "2024-01-12T18:01:00.017Z"
   },
   {
    "duration": 48,
    "start_time": "2024-01-12T18:01:00.076Z"
   },
   {
    "duration": 79,
    "start_time": "2024-01-12T18:01:00.125Z"
   },
   {
    "duration": 82,
    "start_time": "2024-01-12T18:01:00.205Z"
   },
   {
    "duration": 82,
    "start_time": "2024-01-12T18:01:00.289Z"
   },
   {
    "duration": 76,
    "start_time": "2024-01-12T18:01:00.372Z"
   },
   {
    "duration": 187,
    "start_time": "2024-01-12T18:01:00.450Z"
   },
   {
    "duration": 762,
    "start_time": "2024-01-12T18:01:00.639Z"
   },
   {
    "duration": 266,
    "start_time": "2024-01-12T18:01:01.403Z"
   },
   {
    "duration": 194,
    "start_time": "2024-01-12T18:01:01.671Z"
   },
   {
    "duration": 3,
    "start_time": "2024-01-12T18:01:01.866Z"
   },
   {
    "duration": 641,
    "start_time": "2024-01-12T18:01:01.872Z"
   },
   {
    "duration": 48,
    "start_time": "2024-01-12T18:01:02.515Z"
   },
   {
    "duration": 54,
    "start_time": "2024-01-12T18:01:02.564Z"
   },
   {
    "duration": 19,
    "start_time": "2024-01-12T18:01:02.620Z"
   },
   {
    "duration": 27,
    "start_time": "2024-01-12T18:01:02.641Z"
   },
   {
    "duration": 37,
    "start_time": "2024-01-12T18:01:02.670Z"
   },
   {
    "duration": 170,
    "start_time": "2024-01-12T18:05:11.945Z"
   },
   {
    "duration": 4,
    "start_time": "2024-01-12T18:06:04.704Z"
   },
   {
    "duration": 81,
    "start_time": "2024-01-12T18:06:10.786Z"
   },
   {
    "duration": 78,
    "start_time": "2024-01-12T18:07:47.733Z"
   },
   {
    "duration": 16,
    "start_time": "2024-01-12T18:07:52.937Z"
   },
   {
    "duration": 279,
    "start_time": "2024-01-12T18:07:59.123Z"
   },
   {
    "duration": 13,
    "start_time": "2024-01-12T18:08:11.752Z"
   },
   {
    "duration": 52,
    "start_time": "2024-01-12T18:08:43.334Z"
   },
   {
    "duration": 1557,
    "start_time": "2024-01-12T18:08:47.732Z"
   },
   {
    "duration": 12,
    "start_time": "2024-01-12T18:09:07.717Z"
   },
   {
    "duration": 433150,
    "start_time": "2024-01-12T18:09:15.323Z"
   },
   {
    "duration": 12,
    "start_time": "2024-01-12T18:16:47.022Z"
   },
   {
    "duration": 635,
    "start_time": "2024-01-12T18:17:08.093Z"
   },
   {
    "duration": 13,
    "start_time": "2024-01-12T18:17:32.855Z"
   },
   {
    "duration": 10,
    "start_time": "2024-01-12T18:17:43.324Z"
   },
   {
    "duration": 10,
    "start_time": "2024-01-12T18:20:46.166Z"
   },
   {
    "duration": 1772,
    "start_time": "2024-01-12T19:41:14.778Z"
   },
   {
    "duration": 5,
    "start_time": "2024-01-12T19:41:27.768Z"
   },
   {
    "duration": 125,
    "start_time": "2024-01-12T19:42:00.524Z"
   },
   {
    "duration": 4,
    "start_time": "2024-01-12T19:42:10.414Z"
   },
   {
    "duration": 126,
    "start_time": "2024-01-12T19:42:10.436Z"
   },
   {
    "duration": 3,
    "start_time": "2024-01-12T19:42:10.564Z"
   },
   {
    "duration": 12,
    "start_time": "2024-01-12T19:42:10.570Z"
   },
   {
    "duration": 3,
    "start_time": "2024-01-12T19:42:10.584Z"
   },
   {
    "duration": 11,
    "start_time": "2024-01-12T19:42:10.589Z"
   },
   {
    "duration": 23,
    "start_time": "2024-01-12T19:42:10.601Z"
   },
   {
    "duration": 15,
    "start_time": "2024-01-12T19:42:10.626Z"
   },
   {
    "duration": 8,
    "start_time": "2024-01-12T19:42:10.642Z"
   },
   {
    "duration": 179,
    "start_time": "2024-01-12T19:42:10.652Z"
   },
   {
    "duration": 741,
    "start_time": "2024-01-12T19:42:10.832Z"
   },
   {
    "duration": 260,
    "start_time": "2024-01-12T19:42:11.574Z"
   },
   {
    "duration": 181,
    "start_time": "2024-01-12T19:42:11.836Z"
   },
   {
    "duration": 3,
    "start_time": "2024-01-12T19:42:12.022Z"
   },
   {
    "duration": 39,
    "start_time": "2024-01-12T19:42:12.028Z"
   },
   {
    "duration": 11,
    "start_time": "2024-01-12T19:42:12.068Z"
   },
   {
    "duration": 12,
    "start_time": "2024-01-12T19:42:12.081Z"
   },
   {
    "duration": 9,
    "start_time": "2024-01-12T19:42:12.123Z"
   },
   {
    "duration": 11,
    "start_time": "2024-01-12T19:42:12.134Z"
   },
   {
    "duration": 20,
    "start_time": "2024-01-12T19:42:12.146Z"
   },
   {
    "duration": 93,
    "start_time": "2024-01-12T19:42:12.168Z"
   },
   {
    "duration": 165,
    "start_time": "2024-01-12T19:42:12.263Z"
   },
   {
    "duration": 12,
    "start_time": "2024-01-12T19:42:12.429Z"
   },
   {
    "duration": 301,
    "start_time": "2024-01-12T19:42:12.442Z"
   },
   {
    "duration": 20,
    "start_time": "2024-01-12T19:42:12.823Z"
   },
   {
    "duration": 53,
    "start_time": "2024-01-12T19:42:12.923Z"
   },
   {
    "duration": 1585,
    "start_time": "2024-01-12T19:42:12.978Z"
   },
   {
    "duration": 11,
    "start_time": "2024-01-12T19:42:14.564Z"
   },
   {
    "duration": 424460,
    "start_time": "2024-01-12T19:42:14.577Z"
   },
   {
    "duration": 12,
    "start_time": "2024-01-12T19:49:19.038Z"
   },
   {
    "duration": 643,
    "start_time": "2024-01-12T19:49:19.051Z"
   },
   {
    "duration": 11,
    "start_time": "2024-01-12T19:49:19.696Z"
   },
   {
    "duration": 19,
    "start_time": "2024-01-12T19:49:19.708Z"
   },
   {
    "duration": 641,
    "start_time": "2024-01-12T19:49:19.729Z"
   },
   {
    "duration": 0,
    "start_time": "2024-01-12T19:49:20.371Z"
   },
   {
    "duration": 0,
    "start_time": "2024-01-12T19:49:20.372Z"
   },
   {
    "duration": 11,
    "start_time": "2024-01-12T19:54:28.905Z"
   },
   {
    "duration": 5,
    "start_time": "2024-01-12T19:54:54.527Z"
   },
   {
    "duration": 12,
    "start_time": "2024-01-12T19:55:44.733Z"
   },
   {
    "duration": 10,
    "start_time": "2024-01-12T19:56:05.298Z"
   },
   {
    "duration": 17,
    "start_time": "2024-01-12T19:56:14.962Z"
   },
   {
    "duration": 5,
    "start_time": "2024-01-12T19:57:06.070Z"
   },
   {
    "duration": 618,
    "start_time": "2024-01-12T19:57:33.214Z"
   },
   {
    "duration": 602,
    "start_time": "2024-01-12T19:57:46.174Z"
   },
   {
    "duration": 21,
    "start_time": "2024-01-12T20:01:28.026Z"
   },
   {
    "duration": 18,
    "start_time": "2024-01-12T20:01:46.629Z"
   },
   {
    "duration": 5,
    "start_time": "2024-01-12T20:03:18.186Z"
   },
   {
    "duration": 15,
    "start_time": "2024-01-12T20:03:25.537Z"
   },
   {
    "duration": 463,
    "start_time": "2024-01-12T20:03:46.198Z"
   },
   {
    "duration": 11,
    "start_time": "2024-01-12T20:11:01.955Z"
   },
   {
    "duration": 11,
    "start_time": "2024-01-12T20:14:19.524Z"
   },
   {
    "duration": 19,
    "start_time": "2024-01-12T20:15:36.913Z"
   },
   {
    "duration": 16,
    "start_time": "2024-01-12T20:15:50.478Z"
   },
   {
    "duration": 17,
    "start_time": "2024-01-12T20:16:01.086Z"
   },
   {
    "duration": 15,
    "start_time": "2024-01-12T20:17:21.095Z"
   },
   {
    "duration": 11,
    "start_time": "2024-01-12T20:17:30.765Z"
   },
   {
    "duration": 12,
    "start_time": "2024-01-12T20:17:56.185Z"
   },
   {
    "duration": 13,
    "start_time": "2024-01-12T20:18:04.205Z"
   },
   {
    "duration": 13,
    "start_time": "2024-01-12T20:18:19.813Z"
   },
   {
    "duration": 4,
    "start_time": "2024-01-12T20:20:35.978Z"
   },
   {
    "duration": 62,
    "start_time": "2024-01-12T20:20:35.984Z"
   },
   {
    "duration": 3,
    "start_time": "2024-01-12T20:20:36.047Z"
   },
   {
    "duration": 16,
    "start_time": "2024-01-12T20:20:36.052Z"
   },
   {
    "duration": 4,
    "start_time": "2024-01-12T20:20:36.071Z"
   },
   {
    "duration": 10,
    "start_time": "2024-01-12T20:20:36.077Z"
   },
   {
    "duration": 7,
    "start_time": "2024-01-12T20:20:36.088Z"
   },
   {
    "duration": 33,
    "start_time": "2024-01-12T20:20:36.097Z"
   },
   {
    "duration": 6,
    "start_time": "2024-01-12T20:20:36.132Z"
   },
   {
    "duration": 135,
    "start_time": "2024-01-12T20:20:36.140Z"
   },
   {
    "duration": 619,
    "start_time": "2024-01-12T20:20:36.277Z"
   },
   {
    "duration": 245,
    "start_time": "2024-01-12T20:20:36.898Z"
   },
   {
    "duration": 183,
    "start_time": "2024-01-12T20:20:37.145Z"
   },
   {
    "duration": 3,
    "start_time": "2024-01-12T20:20:37.331Z"
   },
   {
    "duration": 142,
    "start_time": "2024-01-12T20:20:37.335Z"
   },
   {
    "duration": 20,
    "start_time": "2024-01-12T20:20:37.479Z"
   },
   {
    "duration": 8,
    "start_time": "2024-01-12T20:20:37.501Z"
   },
   {
    "duration": 16,
    "start_time": "2024-01-12T20:20:37.511Z"
   },
   {
    "duration": 15,
    "start_time": "2024-01-12T20:20:37.529Z"
   },
   {
    "duration": 32,
    "start_time": "2024-01-12T20:20:37.547Z"
   },
   {
    "duration": 85,
    "start_time": "2024-01-12T20:20:37.581Z"
   },
   {
    "duration": 64,
    "start_time": "2024-01-12T20:20:37.668Z"
   },
   {
    "duration": 14,
    "start_time": "2024-01-12T20:20:37.822Z"
   },
   {
    "duration": 207,
    "start_time": "2024-01-12T20:20:37.838Z"
   },
   {
    "duration": 14,
    "start_time": "2024-01-12T20:20:38.123Z"
   },
   {
    "duration": 92,
    "start_time": "2024-01-12T20:20:38.140Z"
   },
   {
    "duration": 1539,
    "start_time": "2024-01-12T20:20:38.233Z"
   },
   {
    "duration": 11,
    "start_time": "2024-01-12T20:20:39.773Z"
   },
   {
    "duration": 434545,
    "start_time": "2024-01-12T20:20:39.785Z"
   },
   {
    "duration": 12,
    "start_time": "2024-01-12T20:27:54.331Z"
   },
   {
    "duration": 617,
    "start_time": "2024-01-12T20:27:54.344Z"
   },
   {
    "duration": 11,
    "start_time": "2024-01-12T20:27:54.962Z"
   },
   {
    "duration": 18,
    "start_time": "2024-01-12T20:27:54.975Z"
   },
   {
    "duration": 611,
    "start_time": "2024-01-12T20:27:54.995Z"
   },
   {
    "duration": 17,
    "start_time": "2024-01-12T20:27:55.607Z"
   },
   {
    "duration": 7,
    "start_time": "2024-01-12T20:27:55.626Z"
   },
   {
    "duration": 7,
    "start_time": "2024-01-12T20:27:55.635Z"
   },
   {
    "duration": 515,
    "start_time": "2024-01-12T20:27:55.723Z"
   },
   {
    "duration": 11,
    "start_time": "2024-01-12T20:31:19.985Z"
   },
   {
    "duration": 1986,
    "start_time": "2024-01-14T08:20:38.990Z"
   },
   {
    "duration": 128,
    "start_time": "2024-01-14T08:20:40.978Z"
   },
   {
    "duration": 5,
    "start_time": "2024-01-14T08:20:41.108Z"
   },
   {
    "duration": 20,
    "start_time": "2024-01-14T08:20:41.115Z"
   },
   {
    "duration": 3,
    "start_time": "2024-01-14T08:20:41.138Z"
   },
   {
    "duration": 12,
    "start_time": "2024-01-14T08:20:41.142Z"
   },
   {
    "duration": 7,
    "start_time": "2024-01-14T08:20:41.156Z"
   },
   {
    "duration": 16,
    "start_time": "2024-01-14T08:20:41.165Z"
   },
   {
    "duration": 10,
    "start_time": "2024-01-14T08:20:41.183Z"
   },
   {
    "duration": 272,
    "start_time": "2024-01-14T08:20:41.195Z"
   },
   {
    "duration": 806,
    "start_time": "2024-01-14T08:20:41.469Z"
   },
   {
    "duration": 270,
    "start_time": "2024-01-14T08:20:42.277Z"
   },
   {
    "duration": 186,
    "start_time": "2024-01-14T08:20:42.549Z"
   },
   {
    "duration": 3,
    "start_time": "2024-01-14T08:20:42.738Z"
   },
   {
    "duration": 7,
    "start_time": "2024-01-14T08:20:42.743Z"
   },
   {
    "duration": 21,
    "start_time": "2024-01-14T08:20:42.752Z"
   },
   {
    "duration": 48,
    "start_time": "2024-01-14T08:20:42.775Z"
   },
   {
    "duration": 9,
    "start_time": "2024-01-14T08:20:42.825Z"
   },
   {
    "duration": 16,
    "start_time": "2024-01-14T08:20:42.836Z"
   },
   {
    "duration": 24,
    "start_time": "2024-01-14T08:20:42.854Z"
   },
   {
    "duration": 14,
    "start_time": "2024-01-14T08:20:42.880Z"
   },
   {
    "duration": 37,
    "start_time": "2024-01-14T08:20:42.896Z"
   },
   {
    "duration": 91,
    "start_time": "2024-01-14T08:20:42.936Z"
   },
   {
    "duration": 198,
    "start_time": "2024-01-14T08:20:43.029Z"
   },
   {
    "duration": 90,
    "start_time": "2024-01-14T08:20:43.233Z"
   },
   {
    "duration": 68,
    "start_time": "2024-01-14T08:20:43.326Z"
   },
   {
    "duration": 338,
    "start_time": "2024-01-14T08:20:43.396Z"
   },
   {
    "duration": 105,
    "start_time": "2024-01-14T08:20:43.736Z"
   },
   {
    "duration": 16,
    "start_time": "2024-01-14T08:20:43.922Z"
   },
   {
    "duration": 1623,
    "start_time": "2024-01-14T08:20:43.940Z"
   },
   {
    "duration": 13,
    "start_time": "2024-01-14T08:20:45.565Z"
   },
   {
    "duration": 55,
    "start_time": "2024-01-14T10:05:39.763Z"
   },
   {
    "duration": 1738,
    "start_time": "2024-01-14T10:05:45.391Z"
   },
   {
    "duration": 127,
    "start_time": "2024-01-14T10:05:47.131Z"
   },
   {
    "duration": 4,
    "start_time": "2024-01-14T10:05:47.259Z"
   },
   {
    "duration": 35,
    "start_time": "2024-01-14T10:05:47.266Z"
   },
   {
    "duration": 4,
    "start_time": "2024-01-14T10:05:47.302Z"
   },
   {
    "duration": 15,
    "start_time": "2024-01-14T10:05:47.308Z"
   },
   {
    "duration": 12,
    "start_time": "2024-01-14T10:05:47.324Z"
   },
   {
    "duration": 25,
    "start_time": "2024-01-14T10:05:47.338Z"
   },
   {
    "duration": 18,
    "start_time": "2024-01-14T10:05:47.365Z"
   },
   {
    "duration": 151,
    "start_time": "2024-01-14T10:05:51.414Z"
   },
   {
    "duration": 195,
    "start_time": "2024-01-14T10:08:12.514Z"
   },
   {
    "duration": 147,
    "start_time": "2024-01-14T10:08:22.126Z"
   },
   {
    "duration": 149,
    "start_time": "2024-01-14T10:08:52.599Z"
   },
   {
    "duration": 161,
    "start_time": "2024-01-14T10:09:12.429Z"
   },
   {
    "duration": 126,
    "start_time": "2024-01-14T10:09:56.487Z"
   },
   {
    "duration": 676,
    "start_time": "2024-01-14T10:12:20.272Z"
   },
   {
    "duration": 833,
    "start_time": "2024-01-14T10:13:15.327Z"
   },
   {
    "duration": 618,
    "start_time": "2024-01-14T10:13:28.023Z"
   },
   {
    "duration": 703,
    "start_time": "2024-01-14T10:13:33.842Z"
   },
   {
    "duration": 611,
    "start_time": "2024-01-14T10:13:47.081Z"
   },
   {
    "duration": 87,
    "start_time": "2024-01-14T10:14:06.377Z"
   },
   {
    "duration": 619,
    "start_time": "2024-01-14T10:14:20.583Z"
   },
   {
    "duration": 819,
    "start_time": "2024-01-14T10:18:51.657Z"
   },
   {
    "duration": 881,
    "start_time": "2024-01-14T10:20:27.522Z"
   },
   {
    "duration": 168,
    "start_time": "2024-01-14T10:20:47.527Z"
   },
   {
    "duration": 4,
    "start_time": "2024-01-14T10:21:00.812Z"
   },
   {
    "duration": 7,
    "start_time": "2024-01-14T10:21:00.865Z"
   },
   {
    "duration": 19,
    "start_time": "2024-01-14T10:21:00.874Z"
   },
   {
    "duration": 30,
    "start_time": "2024-01-14T10:21:00.895Z"
   },
   {
    "duration": 40,
    "start_time": "2024-01-14T10:21:00.927Z"
   },
   {
    "duration": 31,
    "start_time": "2024-01-14T10:21:00.969Z"
   },
   {
    "duration": 44,
    "start_time": "2024-01-14T10:21:01.001Z"
   },
   {
    "duration": 36,
    "start_time": "2024-01-14T10:21:01.047Z"
   },
   {
    "duration": 176,
    "start_time": "2024-01-14T10:21:03.213Z"
   },
   {
    "duration": 63,
    "start_time": "2024-01-14T10:21:27.433Z"
   },
   {
    "duration": 175,
    "start_time": "2024-01-14T10:21:34.716Z"
   },
   {
    "duration": 6,
    "start_time": "2024-01-14T10:23:22.510Z"
   },
   {
    "duration": 100,
    "start_time": "2024-01-14T10:23:22.518Z"
   },
   {
    "duration": 4,
    "start_time": "2024-01-14T10:23:22.620Z"
   },
   {
    "duration": 46,
    "start_time": "2024-01-14T10:23:22.626Z"
   },
   {
    "duration": 38,
    "start_time": "2024-01-14T10:23:22.678Z"
   },
   {
    "duration": 39,
    "start_time": "2024-01-14T10:23:22.718Z"
   },
   {
    "duration": 34,
    "start_time": "2024-01-14T10:23:22.759Z"
   },
   {
    "duration": 52,
    "start_time": "2024-01-14T10:23:22.794Z"
   },
   {
    "duration": 22,
    "start_time": "2024-01-14T10:23:22.848Z"
   },
   {
    "duration": 198,
    "start_time": "2024-01-14T10:23:22.873Z"
   },
   {
    "duration": 816,
    "start_time": "2024-01-14T10:23:25.005Z"
   },
   {
    "duration": 4,
    "start_time": "2024-01-14T10:25:14.157Z"
   },
   {
    "duration": 70,
    "start_time": "2024-01-14T10:25:14.162Z"
   },
   {
    "duration": 4,
    "start_time": "2024-01-14T10:25:14.234Z"
   },
   {
    "duration": 14,
    "start_time": "2024-01-14T10:25:14.239Z"
   },
   {
    "duration": 11,
    "start_time": "2024-01-14T10:25:14.256Z"
   },
   {
    "duration": 11,
    "start_time": "2024-01-14T10:25:14.277Z"
   },
   {
    "duration": 8,
    "start_time": "2024-01-14T10:25:14.291Z"
   },
   {
    "duration": 16,
    "start_time": "2024-01-14T10:25:14.300Z"
   },
   {
    "duration": 7,
    "start_time": "2024-01-14T10:25:14.318Z"
   },
   {
    "duration": 208,
    "start_time": "2024-01-14T10:25:14.327Z"
   },
   {
    "duration": 910,
    "start_time": "2024-01-14T10:25:16.207Z"
   },
   {
    "duration": 1148,
    "start_time": "2024-01-14T10:27:54.272Z"
   },
   {
    "duration": 4,
    "start_time": "2024-01-14T10:28:02.134Z"
   },
   {
    "duration": 64,
    "start_time": "2024-01-14T10:28:02.140Z"
   },
   {
    "duration": 4,
    "start_time": "2024-01-14T10:28:02.206Z"
   },
   {
    "duration": 16,
    "start_time": "2024-01-14T10:28:02.211Z"
   },
   {
    "duration": 12,
    "start_time": "2024-01-14T10:28:02.229Z"
   },
   {
    "duration": 16,
    "start_time": "2024-01-14T10:28:02.243Z"
   },
   {
    "duration": 29,
    "start_time": "2024-01-14T10:28:02.261Z"
   },
   {
    "duration": 30,
    "start_time": "2024-01-14T10:28:02.292Z"
   },
   {
    "duration": 26,
    "start_time": "2024-01-14T10:28:02.324Z"
   },
   {
    "duration": 153,
    "start_time": "2024-01-14T10:28:02.352Z"
   },
   {
    "duration": 1541,
    "start_time": "2024-01-14T10:28:03.830Z"
   },
   {
    "duration": 1215,
    "start_time": "2024-01-14T11:25:36.692Z"
   },
   {
    "duration": 873,
    "start_time": "2024-01-14T11:26:06.142Z"
   },
   {
    "duration": 4,
    "start_time": "2024-01-14T11:31:41.139Z"
   },
   {
    "duration": 14,
    "start_time": "2024-01-14T11:32:14.950Z"
   },
   {
    "duration": 20114,
    "start_time": "2024-01-14T11:32:56.460Z"
   },
   {
    "duration": 87,
    "start_time": "2024-01-14T11:36:46.153Z"
   },
   {
    "duration": 1432,
    "start_time": "2024-01-14T11:37:24.646Z"
   },
   {
    "duration": 1527,
    "start_time": "2024-01-14T11:38:14.977Z"
   },
   {
    "duration": 4,
    "start_time": "2024-01-14T11:38:21.053Z"
   },
   {
    "duration": 17,
    "start_time": "2024-01-14T11:39:19.079Z"
   },
   {
    "duration": 4,
    "start_time": "2024-01-14T11:39:27.990Z"
   },
   {
    "duration": 64,
    "start_time": "2024-01-14T11:39:27.996Z"
   },
   {
    "duration": 3,
    "start_time": "2024-01-14T11:39:28.061Z"
   },
   {
    "duration": 12,
    "start_time": "2024-01-14T11:39:28.066Z"
   },
   {
    "duration": 3,
    "start_time": "2024-01-14T11:39:28.080Z"
   },
   {
    "duration": 11,
    "start_time": "2024-01-14T11:39:28.084Z"
   },
   {
    "duration": 9,
    "start_time": "2024-01-14T11:39:28.097Z"
   },
   {
    "duration": 15,
    "start_time": "2024-01-14T11:39:28.108Z"
   },
   {
    "duration": 5,
    "start_time": "2024-01-14T11:39:28.125Z"
   },
   {
    "duration": 168,
    "start_time": "2024-01-14T11:39:28.132Z"
   },
   {
    "duration": 882,
    "start_time": "2024-01-14T11:39:28.302Z"
   },
   {
    "duration": 13,
    "start_time": "2024-01-14T11:39:31.309Z"
   },
   {
    "duration": 7,
    "start_time": "2024-01-14T11:39:51.819Z"
   },
   {
    "duration": 12,
    "start_time": "2024-01-14T11:40:10.090Z"
   },
   {
    "duration": 80,
    "start_time": "2024-01-14T11:40:19.031Z"
   },
   {
    "duration": 8,
    "start_time": "2024-01-14T11:41:04.631Z"
   },
   {
    "duration": 18026,
    "start_time": "2024-01-14T11:41:12.640Z"
   },
   {
    "duration": 17948,
    "start_time": "2024-01-14T11:42:22.026Z"
   },
   {
    "duration": 94,
    "start_time": "2024-01-14T11:43:48.796Z"
   },
   {
    "duration": 15,
    "start_time": "2024-01-14T11:46:48.833Z"
   },
   {
    "duration": 18058,
    "start_time": "2024-01-14T11:49:44.009Z"
   },
   {
    "duration": 14,
    "start_time": "2024-01-14T12:13:14.930Z"
   },
   {
    "duration": 1508,
    "start_time": "2024-01-14T12:13:35.446Z"
   },
   {
    "duration": 57,
    "start_time": "2024-01-14T12:13:36.956Z"
   },
   {
    "duration": 3,
    "start_time": "2024-01-14T12:13:37.015Z"
   },
   {
    "duration": 13,
    "start_time": "2024-01-14T12:13:37.020Z"
   },
   {
    "duration": 3,
    "start_time": "2024-01-14T12:13:37.035Z"
   },
   {
    "duration": 8,
    "start_time": "2024-01-14T12:13:37.039Z"
   },
   {
    "duration": 6,
    "start_time": "2024-01-14T12:13:37.049Z"
   },
   {
    "duration": 14,
    "start_time": "2024-01-14T12:13:37.057Z"
   },
   {
    "duration": 9,
    "start_time": "2024-01-14T12:13:37.072Z"
   },
   {
    "duration": 169,
    "start_time": "2024-01-14T12:13:37.083Z"
   },
   {
    "duration": 872,
    "start_time": "2024-01-14T12:13:37.253Z"
   },
   {
    "duration": 4,
    "start_time": "2024-01-14T12:13:38.127Z"
   },
   {
    "duration": 20434,
    "start_time": "2024-01-14T12:13:38.133Z"
   },
   {
    "duration": 314,
    "start_time": "2024-01-14T12:13:58.570Z"
   },
   {
    "duration": 159,
    "start_time": "2024-01-14T12:13:58.885Z"
   },
   {
    "duration": 3,
    "start_time": "2024-01-14T12:13:59.046Z"
   },
   {
    "duration": 15,
    "start_time": "2024-01-14T12:13:59.050Z"
   },
   {
    "duration": 1670,
    "start_time": "2024-01-14T14:46:56.633Z"
   },
   {
    "duration": 146,
    "start_time": "2024-01-14T14:46:58.306Z"
   },
   {
    "duration": 3,
    "start_time": "2024-01-14T14:46:58.454Z"
   },
   {
    "duration": 11,
    "start_time": "2024-01-14T14:46:58.459Z"
   },
   {
    "duration": 5,
    "start_time": "2024-01-14T14:46:58.471Z"
   },
   {
    "duration": 17,
    "start_time": "2024-01-14T14:46:58.477Z"
   },
   {
    "duration": 13,
    "start_time": "2024-01-14T14:46:58.496Z"
   },
   {
    "duration": 12,
    "start_time": "2024-01-14T14:46:58.510Z"
   },
   {
    "duration": 7,
    "start_time": "2024-01-14T14:46:58.524Z"
   },
   {
    "duration": 152,
    "start_time": "2024-01-14T14:46:58.533Z"
   },
   {
    "duration": 882,
    "start_time": "2024-01-14T14:46:58.686Z"
   },
   {
    "duration": 4,
    "start_time": "2024-01-14T14:46:59.570Z"
   },
   {
    "duration": 19485,
    "start_time": "2024-01-14T14:46:59.575Z"
   },
   {
    "duration": 316,
    "start_time": "2024-01-14T14:47:19.062Z"
   },
   {
    "duration": 161,
    "start_time": "2024-01-14T14:47:19.380Z"
   },
   {
    "duration": 2,
    "start_time": "2024-01-14T14:47:19.543Z"
   },
   {
    "duration": 9,
    "start_time": "2024-01-14T14:47:19.547Z"
   },
   {
    "duration": 115,
    "start_time": "2024-01-14T14:47:25.547Z"
   },
   {
    "duration": 20,
    "start_time": "2024-01-14T14:47:39.093Z"
   },
   {
    "duration": 21,
    "start_time": "2024-01-14T14:47:56.533Z"
   },
   {
    "duration": 14,
    "start_time": "2024-01-14T14:48:45.426Z"
   },
   {
    "duration": 9,
    "start_time": "2024-01-14T14:56:39.912Z"
   },
   {
    "duration": 6,
    "start_time": "2024-01-14T14:56:41.981Z"
   },
   {
    "duration": 8,
    "start_time": "2024-01-14T14:56:55.595Z"
   },
   {
    "duration": 11,
    "start_time": "2024-01-14T14:56:56.725Z"
   },
   {
    "duration": 17,
    "start_time": "2024-01-14T14:57:03.668Z"
   },
   {
    "duration": 17,
    "start_time": "2024-01-14T14:57:10.114Z"
   },
   {
    "duration": 64,
    "start_time": "2024-01-14T14:57:34.682Z"
   },
   {
    "duration": 16,
    "start_time": "2024-01-14T14:57:38.474Z"
   },
   {
    "duration": 8,
    "start_time": "2024-01-14T14:58:10.253Z"
   },
   {
    "duration": 7,
    "start_time": "2024-01-14T14:58:47.838Z"
   },
   {
    "duration": 3,
    "start_time": "2024-01-14T14:58:54.447Z"
   },
   {
    "duration": 46,
    "start_time": "2024-01-14T15:00:39.687Z"
   },
   {
    "duration": 136,
    "start_time": "2024-01-14T15:00:46.634Z"
   },
   {
    "duration": 1737,
    "start_time": "2024-01-14T17:18:27.071Z"
   },
   {
    "duration": 123,
    "start_time": "2024-01-14T17:18:28.810Z"
   },
   {
    "duration": 3,
    "start_time": "2024-01-14T17:18:28.934Z"
   },
   {
    "duration": 16,
    "start_time": "2024-01-14T17:18:28.939Z"
   },
   {
    "duration": 4,
    "start_time": "2024-01-14T17:18:28.958Z"
   },
   {
    "duration": 11,
    "start_time": "2024-01-14T17:18:28.964Z"
   },
   {
    "duration": 13,
    "start_time": "2024-01-14T17:18:28.977Z"
   },
   {
    "duration": 41,
    "start_time": "2024-01-14T17:18:28.992Z"
   },
   {
    "duration": 15,
    "start_time": "2024-01-14T17:18:29.035Z"
   },
   {
    "duration": 206,
    "start_time": "2024-01-14T17:18:29.052Z"
   },
   {
    "duration": 998,
    "start_time": "2024-01-14T17:18:29.259Z"
   },
   {
    "duration": 5,
    "start_time": "2024-01-14T17:18:30.259Z"
   },
   {
    "duration": 22556,
    "start_time": "2024-01-14T17:18:30.266Z"
   },
   {
    "duration": 348,
    "start_time": "2024-01-14T17:18:52.826Z"
   },
   {
    "duration": 181,
    "start_time": "2024-01-14T17:18:53.176Z"
   },
   {
    "duration": 3,
    "start_time": "2024-01-14T17:18:53.359Z"
   },
   {
    "duration": 12,
    "start_time": "2024-01-14T17:18:53.363Z"
   },
   {
    "duration": 22,
    "start_time": "2024-01-14T17:18:53.376Z"
   },
   {
    "duration": 24,
    "start_time": "2024-01-14T17:18:53.399Z"
   },
   {
    "duration": 8,
    "start_time": "2024-01-14T17:18:53.425Z"
   },
   {
    "duration": 7,
    "start_time": "2024-01-14T17:18:53.435Z"
   },
   {
    "duration": 14,
    "start_time": "2024-01-14T17:18:53.444Z"
   },
   {
    "duration": 11,
    "start_time": "2024-01-14T17:18:53.460Z"
   },
   {
    "duration": 42,
    "start_time": "2024-01-14T17:18:53.472Z"
   },
   {
    "duration": 70,
    "start_time": "2024-01-14T17:18:53.516Z"
   },
   {
    "duration": 35,
    "start_time": "2024-01-14T17:18:53.588Z"
   },
   {
    "duration": 5,
    "start_time": "2024-01-14T17:18:53.624Z"
   },
   {
    "duration": 60,
    "start_time": "2024-01-14T17:18:57.911Z"
   },
   {
    "duration": 93,
    "start_time": "2024-01-14T17:19:03.243Z"
   },
   {
    "duration": 6,
    "start_time": "2024-01-14T17:19:43.540Z"
   },
   {
    "duration": 4,
    "start_time": "2024-01-14T17:20:03.297Z"
   },
   {
    "duration": 10,
    "start_time": "2024-01-14T17:41:51.510Z"
   },
   {
    "duration": 11,
    "start_time": "2024-01-14T17:42:25.337Z"
   },
   {
    "duration": 70,
    "start_time": "2024-01-14T17:43:25.580Z"
   },
   {
    "duration": 5,
    "start_time": "2024-01-14T17:43:31.734Z"
   },
   {
    "duration": 186,
    "start_time": "2024-01-14T17:43:38.342Z"
   },
   {
    "duration": 3,
    "start_time": "2024-01-14T17:43:50.177Z"
   },
   {
    "duration": 26,
    "start_time": "2024-01-14T17:43:55.546Z"
   },
   {
    "duration": 26,
    "start_time": "2024-01-14T17:44:44.234Z"
   },
   {
    "duration": 21,
    "start_time": "2024-01-14T17:44:59.638Z"
   },
   {
    "duration": 23,
    "start_time": "2024-01-14T17:49:12.533Z"
   },
   {
    "duration": 1625,
    "start_time": "2024-01-15T09:05:24.196Z"
   },
   {
    "duration": 125,
    "start_time": "2024-01-15T09:05:25.823Z"
   },
   {
    "duration": 4,
    "start_time": "2024-01-15T09:05:25.949Z"
   },
   {
    "duration": 18,
    "start_time": "2024-01-15T09:05:25.954Z"
   },
   {
    "duration": 3,
    "start_time": "2024-01-15T09:05:25.975Z"
   },
   {
    "duration": 17,
    "start_time": "2024-01-15T09:05:25.979Z"
   },
   {
    "duration": 18,
    "start_time": "2024-01-15T09:05:25.998Z"
   },
   {
    "duration": 37,
    "start_time": "2024-01-15T09:05:26.017Z"
   },
   {
    "duration": 8,
    "start_time": "2024-01-15T09:05:26.055Z"
   },
   {
    "duration": 160,
    "start_time": "2024-01-15T09:05:26.065Z"
   },
   {
    "duration": 886,
    "start_time": "2024-01-15T09:05:26.226Z"
   },
   {
    "duration": 4,
    "start_time": "2024-01-15T09:05:27.113Z"
   },
   {
    "duration": 19956,
    "start_time": "2024-01-15T09:05:27.118Z"
   },
   {
    "duration": 322,
    "start_time": "2024-01-15T09:05:47.168Z"
   },
   {
    "duration": 158,
    "start_time": "2024-01-15T09:05:47.491Z"
   },
   {
    "duration": 2,
    "start_time": "2024-01-15T09:05:47.651Z"
   },
   {
    "duration": 5,
    "start_time": "2024-01-15T09:05:47.665Z"
   },
   {
    "duration": 17,
    "start_time": "2024-01-15T09:05:47.672Z"
   },
   {
    "duration": 17,
    "start_time": "2024-01-15T09:05:47.690Z"
   },
   {
    "duration": 9,
    "start_time": "2024-01-15T09:05:47.708Z"
   },
   {
    "duration": 7,
    "start_time": "2024-01-15T09:05:51.058Z"
   },
   {
    "duration": 8,
    "start_time": "2024-01-15T09:05:57.577Z"
   },
   {
    "duration": 11,
    "start_time": "2024-01-15T09:05:58.348Z"
   },
   {
    "duration": 16,
    "start_time": "2024-01-15T09:06:01.966Z"
   },
   {
    "duration": 75,
    "start_time": "2024-01-15T09:06:08.906Z"
   },
   {
    "duration": 3,
    "start_time": "2024-01-15T09:07:40.610Z"
   },
   {
    "duration": 127,
    "start_time": "2024-01-15T09:16:01.995Z"
   },
   {
    "duration": 13,
    "start_time": "2024-01-15T10:48:27.291Z"
   },
   {
    "duration": 25,
    "start_time": "2024-01-15T11:21:09.969Z"
   },
   {
    "duration": 22,
    "start_time": "2024-01-15T11:26:05.250Z"
   },
   {
    "duration": 4,
    "start_time": "2024-01-15T11:26:22.898Z"
   },
   {
    "duration": 67,
    "start_time": "2024-01-15T11:26:22.904Z"
   },
   {
    "duration": 3,
    "start_time": "2024-01-15T11:26:22.973Z"
   },
   {
    "duration": 27,
    "start_time": "2024-01-15T11:26:22.978Z"
   },
   {
    "duration": 15,
    "start_time": "2024-01-15T11:26:23.007Z"
   },
   {
    "duration": 20,
    "start_time": "2024-01-15T11:26:23.024Z"
   },
   {
    "duration": 6,
    "start_time": "2024-01-15T11:26:23.045Z"
   },
   {
    "duration": 26,
    "start_time": "2024-01-15T11:26:23.053Z"
   },
   {
    "duration": 14,
    "start_time": "2024-01-15T11:26:23.081Z"
   },
   {
    "duration": 169,
    "start_time": "2024-01-15T11:26:23.096Z"
   },
   {
    "duration": 943,
    "start_time": "2024-01-15T11:26:23.266Z"
   },
   {
    "duration": 4,
    "start_time": "2024-01-15T11:26:24.210Z"
   },
   {
    "duration": 19451,
    "start_time": "2024-01-15T11:26:24.215Z"
   },
   {
    "duration": 322,
    "start_time": "2024-01-15T11:26:43.669Z"
   },
   {
    "duration": 166,
    "start_time": "2024-01-15T11:26:43.992Z"
   },
   {
    "duration": 6,
    "start_time": "2024-01-15T11:26:44.159Z"
   },
   {
    "duration": 4,
    "start_time": "2024-01-15T11:26:44.166Z"
   },
   {
    "duration": 23,
    "start_time": "2024-01-15T11:26:44.172Z"
   },
   {
    "duration": 14,
    "start_time": "2024-01-15T11:26:44.197Z"
   },
   {
    "duration": 26,
    "start_time": "2024-01-15T11:26:44.213Z"
   },
   {
    "duration": 12,
    "start_time": "2024-01-15T11:26:44.241Z"
   },
   {
    "duration": 14,
    "start_time": "2024-01-15T11:26:44.254Z"
   },
   {
    "duration": 12,
    "start_time": "2024-01-15T11:26:44.269Z"
   },
   {
    "duration": 17,
    "start_time": "2024-01-15T11:26:44.284Z"
   },
   {
    "duration": 86,
    "start_time": "2024-01-15T11:26:44.303Z"
   },
   {
    "duration": 9,
    "start_time": "2024-01-15T11:26:44.391Z"
   },
   {
    "duration": 66,
    "start_time": "2024-01-15T11:26:44.402Z"
   },
   {
    "duration": 0,
    "start_time": "2024-01-15T11:26:44.470Z"
   },
   {
    "duration": 4,
    "start_time": "2024-01-15T11:28:15.382Z"
   },
   {
    "duration": 4,
    "start_time": "2024-01-15T11:28:24.485Z"
   },
   {
    "duration": 49,
    "start_time": "2024-01-15T11:28:30.380Z"
   },
   {
    "duration": 3,
    "start_time": "2024-01-15T11:28:36.960Z"
   },
   {
    "duration": 22,
    "start_time": "2024-01-15T11:28:39.983Z"
   },
   {
    "duration": 21,
    "start_time": "2024-01-15T11:28:50.180Z"
   },
   {
    "duration": 5,
    "start_time": "2024-01-15T11:29:25.410Z"
   },
   {
    "duration": 23,
    "start_time": "2024-01-15T11:33:30.576Z"
   },
   {
    "duration": 2584,
    "start_time": "2024-01-15T11:35:18.702Z"
   },
   {
    "duration": 3,
    "start_time": "2024-01-15T11:36:34.044Z"
   },
   {
    "duration": 4,
    "start_time": "2024-01-15T11:36:35.578Z"
   },
   {
    "duration": 1790,
    "start_time": "2024-01-15T11:36:37.693Z"
   },
   {
    "duration": 3,
    "start_time": "2024-01-15T11:36:48.344Z"
   },
   {
    "duration": 4,
    "start_time": "2024-01-15T11:36:53.874Z"
   },
   {
    "duration": 1546,
    "start_time": "2024-01-15T11:36:55.221Z"
   },
   {
    "duration": 5,
    "start_time": "2024-01-15T17:51:42.316Z"
   },
   {
    "duration": 55,
    "start_time": "2024-01-15T17:51:42.323Z"
   },
   {
    "duration": 5,
    "start_time": "2024-01-15T17:51:42.380Z"
   },
   {
    "duration": 15,
    "start_time": "2024-01-15T17:51:42.387Z"
   },
   {
    "duration": 3,
    "start_time": "2024-01-15T17:51:42.405Z"
   },
   {
    "duration": 11,
    "start_time": "2024-01-15T17:51:42.409Z"
   },
   {
    "duration": 7,
    "start_time": "2024-01-15T17:51:42.422Z"
   },
   {
    "duration": 45,
    "start_time": "2024-01-15T17:51:42.430Z"
   },
   {
    "duration": 7,
    "start_time": "2024-01-15T17:51:42.476Z"
   },
   {
    "duration": 161,
    "start_time": "2024-01-15T17:51:42.484Z"
   },
   {
    "duration": 900,
    "start_time": "2024-01-15T17:51:42.647Z"
   },
   {
    "duration": 4,
    "start_time": "2024-01-15T17:51:43.548Z"
   },
   {
    "duration": 19903,
    "start_time": "2024-01-15T17:51:43.564Z"
   },
   {
    "duration": 318,
    "start_time": "2024-01-15T17:52:03.469Z"
   },
   {
    "duration": 160,
    "start_time": "2024-01-15T17:52:03.788Z"
   },
   {
    "duration": 3,
    "start_time": "2024-01-15T17:52:03.949Z"
   },
   {
    "duration": 13,
    "start_time": "2024-01-15T17:52:03.954Z"
   },
   {
    "duration": 27,
    "start_time": "2024-01-15T17:52:03.969Z"
   },
   {
    "duration": 14,
    "start_time": "2024-01-15T17:52:03.998Z"
   },
   {
    "duration": 8,
    "start_time": "2024-01-15T17:52:04.013Z"
   },
   {
    "duration": 5,
    "start_time": "2024-01-15T17:52:04.023Z"
   },
   {
    "duration": 12,
    "start_time": "2024-01-15T17:52:04.030Z"
   },
   {
    "duration": 26,
    "start_time": "2024-01-15T17:52:04.043Z"
   },
   {
    "duration": 19,
    "start_time": "2024-01-15T17:52:04.070Z"
   },
   {
    "duration": 75,
    "start_time": "2024-01-15T17:52:04.091Z"
   },
   {
    "duration": 8,
    "start_time": "2024-01-15T17:52:04.168Z"
   },
   {
    "duration": 5,
    "start_time": "2024-01-15T17:52:04.177Z"
   },
   {
    "duration": 88,
    "start_time": "2024-01-15T17:52:04.183Z"
   },
   {
    "duration": 3,
    "start_time": "2024-01-15T17:52:04.274Z"
   },
   {
    "duration": 4,
    "start_time": "2024-01-15T17:52:04.280Z"
   },
   {
    "duration": 2413,
    "start_time": "2024-01-15T17:52:04.365Z"
   },
   {
    "duration": 10,
    "start_time": "2024-01-15T17:52:07.643Z"
   },
   {
    "duration": 4,
    "start_time": "2024-01-15T17:52:46.649Z"
   },
   {
    "duration": 14,
    "start_time": "2024-01-15T17:53:00.474Z"
   },
   {
    "duration": 14,
    "start_time": "2024-01-15T17:54:42.857Z"
   },
   {
    "duration": 3183,
    "start_time": "2024-01-15T17:56:15.203Z"
   },
   {
    "duration": 5571,
    "start_time": "2024-01-15T17:57:41.602Z"
   },
   {
    "duration": 11737,
    "start_time": "2024-01-15T17:58:51.928Z"
   },
   {
    "duration": 10,
    "start_time": "2024-01-15T18:00:46.132Z"
   },
   {
    "duration": 1727,
    "start_time": "2024-01-16T09:07:22.123Z"
   },
   {
    "duration": 126,
    "start_time": "2024-01-16T09:07:23.852Z"
   },
   {
    "duration": 4,
    "start_time": "2024-01-16T09:07:23.980Z"
   },
   {
    "duration": 15,
    "start_time": "2024-01-16T09:07:23.986Z"
   },
   {
    "duration": 2,
    "start_time": "2024-01-16T09:07:24.003Z"
   },
   {
    "duration": 8,
    "start_time": "2024-01-16T09:07:24.007Z"
   },
   {
    "duration": 13,
    "start_time": "2024-01-16T09:07:24.016Z"
   },
   {
    "duration": 27,
    "start_time": "2024-01-16T09:07:24.031Z"
   },
   {
    "duration": 8,
    "start_time": "2024-01-16T09:07:24.066Z"
   },
   {
    "duration": 176,
    "start_time": "2024-01-16T09:07:24.077Z"
   },
   {
    "duration": 993,
    "start_time": "2024-01-16T09:07:24.254Z"
   },
   {
    "duration": 5,
    "start_time": "2024-01-16T09:07:25.248Z"
   },
   {
    "duration": 26320,
    "start_time": "2024-01-16T09:07:25.254Z"
   },
   {
    "duration": 429,
    "start_time": "2024-01-16T09:07:51.576Z"
   },
   {
    "duration": 172,
    "start_time": "2024-01-16T09:07:52.007Z"
   },
   {
    "duration": 4,
    "start_time": "2024-01-16T09:07:52.181Z"
   },
   {
    "duration": 17,
    "start_time": "2024-01-16T09:07:52.187Z"
   },
   {
    "duration": 36,
    "start_time": "2024-01-16T09:07:52.206Z"
   },
   {
    "duration": 30,
    "start_time": "2024-01-16T09:07:52.243Z"
   },
   {
    "duration": 27,
    "start_time": "2024-01-16T09:07:52.274Z"
   },
   {
    "duration": 36,
    "start_time": "2024-01-16T09:07:52.303Z"
   },
   {
    "duration": 29,
    "start_time": "2024-01-16T09:07:52.340Z"
   },
   {
    "duration": 37,
    "start_time": "2024-01-16T09:07:52.371Z"
   },
   {
    "duration": 41,
    "start_time": "2024-01-16T09:07:52.410Z"
   },
   {
    "duration": 79,
    "start_time": "2024-01-16T09:07:52.453Z"
   },
   {
    "duration": 2,
    "start_time": "2024-01-16T09:07:52.534Z"
   },
   {
    "duration": 23,
    "start_time": "2024-01-16T09:07:52.538Z"
   },
   {
    "duration": 31,
    "start_time": "2024-01-16T09:07:52.564Z"
   },
   {
    "duration": 23,
    "start_time": "2024-01-16T09:07:52.597Z"
   },
   {
    "duration": 12,
    "start_time": "2024-01-16T09:07:52.622Z"
   },
   {
    "duration": 14632,
    "start_time": "2024-01-16T09:07:52.636Z"
   },
   {
    "duration": 11,
    "start_time": "2024-01-16T09:08:16.220Z"
   },
   {
    "duration": 135,
    "start_time": "2024-01-16T09:08:21.740Z"
   },
   {
    "duration": 15,
    "start_time": "2024-01-16T09:08:39.328Z"
   },
   {
    "duration": 64,
    "start_time": "2024-01-16T09:08:46.670Z"
   },
   {
    "duration": 15,
    "start_time": "2024-01-16T09:08:59.945Z"
   },
   {
    "duration": 68,
    "start_time": "2024-01-16T10:55:38.291Z"
   },
   {
    "duration": 87,
    "start_time": "2024-01-16T10:55:43.197Z"
   },
   {
    "duration": 76,
    "start_time": "2024-01-16T10:56:14.887Z"
   },
   {
    "duration": 121,
    "start_time": "2024-01-16T10:57:02.977Z"
   },
   {
    "duration": 6354,
    "start_time": "2024-01-16T10:57:08.491Z"
   },
   {
    "duration": 2128,
    "start_time": "2024-01-16T10:57:31.352Z"
   },
   {
    "duration": 25,
    "start_time": "2024-01-16T11:01:45.789Z"
   },
   {
    "duration": 23,
    "start_time": "2024-01-16T11:03:00.598Z"
   },
   {
    "duration": 11,
    "start_time": "2024-01-16T11:03:25.434Z"
   },
   {
    "duration": 25,
    "start_time": "2024-01-16T11:09:09.408Z"
   },
   {
    "duration": 22,
    "start_time": "2024-01-16T11:09:24.612Z"
   },
   {
    "duration": 251766,
    "start_time": "2024-01-16T11:09:36.151Z"
   },
   {
    "duration": 489,
    "start_time": "2024-01-16T11:15:11.612Z"
   },
   {
    "duration": 12,
    "start_time": "2024-01-16T11:15:40.285Z"
   },
   {
    "duration": 500,
    "start_time": "2024-01-16T11:17:51.520Z"
   },
   {
    "duration": 542,
    "start_time": "2024-01-16T11:19:49.637Z"
   },
   {
    "duration": 12,
    "start_time": "2024-01-16T11:20:10.291Z"
   },
   {
    "duration": 624,
    "start_time": "2024-01-16T11:48:55.346Z"
   },
   {
    "duration": 11,
    "start_time": "2024-01-16T11:50:18.517Z"
   },
   {
    "duration": 715,
    "start_time": "2024-01-16T11:53:17.044Z"
   },
   {
    "duration": 723,
    "start_time": "2024-01-16T11:53:31.020Z"
   },
   {
    "duration": 10,
    "start_time": "2024-01-16T11:58:19.835Z"
   },
   {
    "duration": 700,
    "start_time": "2024-01-16T12:39:41.232Z"
   },
   {
    "duration": 231,
    "start_time": "2024-01-16T12:40:48.860Z"
   },
   {
    "duration": 9,
    "start_time": "2024-01-16T12:40:56.951Z"
   },
   {
    "duration": 687,
    "start_time": "2024-01-16T12:40:58.941Z"
   },
   {
    "duration": 157,
    "start_time": "2024-01-16T12:41:03.071Z"
   },
   {
    "duration": 16,
    "start_time": "2024-01-16T12:42:41.880Z"
   },
   {
    "duration": 11,
    "start_time": "2024-01-16T12:43:04.759Z"
   },
   {
    "duration": 11,
    "start_time": "2024-01-16T12:43:32.572Z"
   },
   {
    "duration": 205,
    "start_time": "2024-01-16T12:43:35.255Z"
   },
   {
    "duration": 212,
    "start_time": "2024-01-16T12:44:32.574Z"
   },
   {
    "duration": 232,
    "start_time": "2024-01-16T12:44:38.668Z"
   },
   {
    "duration": 223,
    "start_time": "2024-01-16T12:45:34.491Z"
   },
   {
    "duration": 245,
    "start_time": "2024-01-16T12:45:50.358Z"
   },
   {
    "duration": 578,
    "start_time": "2024-01-16T12:47:33.364Z"
   },
   {
    "duration": 446,
    "start_time": "2024-01-16T12:48:15.037Z"
   },
   {
    "duration": 446,
    "start_time": "2024-01-16T12:58:54.085Z"
   },
   {
    "duration": 468,
    "start_time": "2024-01-16T12:59:28.433Z"
   },
   {
    "duration": 489,
    "start_time": "2024-01-16T12:59:45.725Z"
   },
   {
    "duration": 238,
    "start_time": "2024-01-16T13:01:27.890Z"
   },
   {
    "duration": 5,
    "start_time": "2024-01-16T13:01:46.090Z"
   },
   {
    "duration": 5,
    "start_time": "2024-01-16T13:01:48.843Z"
   },
   {
    "duration": 5,
    "start_time": "2024-01-16T13:02:24.846Z"
   },
   {
    "duration": 1539,
    "start_time": "2024-01-16T13:02:54.931Z"
   },
   {
    "duration": 58,
    "start_time": "2024-01-16T13:02:56.472Z"
   },
   {
    "duration": 4,
    "start_time": "2024-01-16T13:02:56.532Z"
   },
   {
    "duration": 10,
    "start_time": "2024-01-16T13:02:56.538Z"
   },
   {
    "duration": 13,
    "start_time": "2024-01-16T13:02:56.550Z"
   },
   {
    "duration": 14,
    "start_time": "2024-01-16T13:02:56.565Z"
   },
   {
    "duration": 15,
    "start_time": "2024-01-16T13:02:56.582Z"
   },
   {
    "duration": 19,
    "start_time": "2024-01-16T13:02:56.598Z"
   },
   {
    "duration": 9,
    "start_time": "2024-01-16T13:02:56.618Z"
   },
   {
    "duration": 170,
    "start_time": "2024-01-16T13:02:56.631Z"
   },
   {
    "duration": 880,
    "start_time": "2024-01-16T13:02:56.803Z"
   },
   {
    "duration": 4,
    "start_time": "2024-01-16T13:02:57.685Z"
   },
   {
    "duration": 19675,
    "start_time": "2024-01-16T13:02:57.691Z"
   },
   {
    "duration": 324,
    "start_time": "2024-01-16T13:03:17.369Z"
   },
   {
    "duration": 163,
    "start_time": "2024-01-16T13:03:17.695Z"
   },
   {
    "duration": 5,
    "start_time": "2024-01-16T13:03:17.860Z"
   },
   {
    "duration": 34,
    "start_time": "2024-01-16T13:03:17.867Z"
   },
   {
    "duration": 28,
    "start_time": "2024-01-16T13:03:17.903Z"
   },
   {
    "duration": 37,
    "start_time": "2024-01-16T13:03:17.932Z"
   },
   {
    "duration": 49,
    "start_time": "2024-01-16T13:03:17.971Z"
   },
   {
    "duration": 17,
    "start_time": "2024-01-16T13:03:18.021Z"
   },
   {
    "duration": 27,
    "start_time": "2024-01-16T13:03:18.040Z"
   },
   {
    "duration": 39,
    "start_time": "2024-01-16T13:03:18.068Z"
   },
   {
    "duration": 34,
    "start_time": "2024-01-16T13:03:18.108Z"
   },
   {
    "duration": 92,
    "start_time": "2024-01-16T13:03:18.143Z"
   },
   {
    "duration": 3,
    "start_time": "2024-01-16T13:03:18.236Z"
   },
   {
    "duration": 47,
    "start_time": "2024-01-16T13:03:18.240Z"
   },
   {
    "duration": 31,
    "start_time": "2024-01-16T13:03:18.291Z"
   },
   {
    "duration": 6,
    "start_time": "2024-01-16T13:03:18.324Z"
   },
   {
    "duration": 4,
    "start_time": "2024-01-16T13:03:18.331Z"
   },
   {
    "duration": 13931,
    "start_time": "2024-01-16T13:03:18.336Z"
   },
   {
    "duration": 15,
    "start_time": "2024-01-16T13:03:32.269Z"
   },
   {
    "duration": 123,
    "start_time": "2024-01-16T13:03:32.286Z"
   },
   {
    "duration": 3,
    "start_time": "2024-01-16T13:03:32.410Z"
   },
   {
    "duration": 2184,
    "start_time": "2024-01-16T13:03:32.414Z"
   },
   {
    "duration": 19,
    "start_time": "2024-01-16T13:03:34.599Z"
   },
   {
    "duration": 14,
    "start_time": "2024-01-16T13:03:34.620Z"
   },
   {
    "duration": 22,
    "start_time": "2024-01-16T13:03:34.636Z"
   },
   {
    "duration": 275713,
    "start_time": "2024-01-16T13:03:34.659Z"
   },
   {
    "duration": 467,
    "start_time": "2024-01-16T13:08:10.374Z"
   },
   {
    "duration": 12,
    "start_time": "2024-01-16T13:08:10.843Z"
   },
   {
    "duration": 655,
    "start_time": "2024-01-16T13:08:10.866Z"
   },
   {
    "duration": 11,
    "start_time": "2024-01-16T13:08:11.523Z"
   },
   {
    "duration": 28,
    "start_time": "2024-01-16T13:08:11.535Z"
   },
   {
    "duration": 17,
    "start_time": "2024-01-16T13:08:11.564Z"
   },
   {
    "duration": 862,
    "start_time": "2024-01-16T13:08:11.583Z"
   },
   {
    "duration": 315,
    "start_time": "2024-01-16T13:08:12.447Z"
   },
   {
    "duration": 5,
    "start_time": "2024-01-16T13:08:12.763Z"
   },
   {
    "duration": 14,
    "start_time": "2024-01-16T13:08:12.769Z"
   },
   {
    "duration": 515,
    "start_time": "2024-01-16T13:08:12.784Z"
   },
   {
    "duration": 9,
    "start_time": "2024-01-16T13:08:13.301Z"
   },
   {
    "duration": 1631,
    "start_time": "2024-01-17T13:17:32.967Z"
   },
   {
    "duration": 123,
    "start_time": "2024-01-17T13:17:34.600Z"
   },
   {
    "duration": 4,
    "start_time": "2024-01-17T13:17:34.724Z"
   },
   {
    "duration": 15,
    "start_time": "2024-01-17T13:17:34.729Z"
   },
   {
    "duration": 14,
    "start_time": "2024-01-17T13:17:34.745Z"
   },
   {
    "duration": 9,
    "start_time": "2024-01-17T13:17:34.761Z"
   },
   {
    "duration": 30,
    "start_time": "2024-01-17T13:17:34.772Z"
   },
   {
    "duration": 12,
    "start_time": "2024-01-17T13:17:34.803Z"
   },
   {
    "duration": 8,
    "start_time": "2024-01-17T13:17:34.816Z"
   },
   {
    "duration": 155,
    "start_time": "2024-01-17T13:17:34.826Z"
   },
   {
    "duration": 430,
    "start_time": "2024-01-17T13:43:08.091Z"
   },
   {
    "duration": 227,
    "start_time": "2024-01-17T13:43:53.560Z"
   },
   {
    "duration": 172,
    "start_time": "2024-01-17T13:44:25.977Z"
   },
   {
    "duration": 77,
    "start_time": "2024-01-17T14:30:32.789Z"
   },
   {
    "duration": 5,
    "start_time": "2024-01-17T15:15:04.118Z"
   },
   {
    "duration": 64,
    "start_time": "2024-01-17T15:15:04.126Z"
   },
   {
    "duration": 3,
    "start_time": "2024-01-17T15:15:04.191Z"
   },
   {
    "duration": 16,
    "start_time": "2024-01-17T15:15:04.195Z"
   },
   {
    "duration": 6,
    "start_time": "2024-01-17T15:15:04.213Z"
   },
   {
    "duration": 14,
    "start_time": "2024-01-17T15:15:04.220Z"
   },
   {
    "duration": 12,
    "start_time": "2024-01-17T15:15:04.235Z"
   },
   {
    "duration": 16,
    "start_time": "2024-01-17T15:15:04.249Z"
   },
   {
    "duration": 6,
    "start_time": "2024-01-17T15:15:04.267Z"
   },
   {
    "duration": 144,
    "start_time": "2024-01-17T15:15:04.275Z"
   },
   {
    "duration": 873,
    "start_time": "2024-01-17T15:15:04.421Z"
   },
   {
    "duration": 4,
    "start_time": "2024-01-17T15:15:05.296Z"
   },
   {
    "duration": 18945,
    "start_time": "2024-01-17T15:15:05.302Z"
   },
   {
    "duration": 327,
    "start_time": "2024-01-17T15:15:24.249Z"
   },
   {
    "duration": 163,
    "start_time": "2024-01-17T15:15:24.577Z"
   },
   {
    "duration": 3,
    "start_time": "2024-01-17T15:15:24.744Z"
   },
   {
    "duration": 32,
    "start_time": "2024-01-17T15:15:24.748Z"
   },
   {
    "duration": 38,
    "start_time": "2024-01-17T15:15:24.782Z"
   },
   {
    "duration": 37,
    "start_time": "2024-01-17T15:15:24.821Z"
   },
   {
    "duration": 26,
    "start_time": "2024-01-17T15:15:24.860Z"
   },
   {
    "duration": 21,
    "start_time": "2024-01-17T15:15:24.888Z"
   },
   {
    "duration": 18,
    "start_time": "2024-01-17T15:15:24.910Z"
   },
   {
    "duration": 8,
    "start_time": "2024-01-17T15:15:27.742Z"
   },
   {
    "duration": 8,
    "start_time": "2024-01-17T15:15:29.357Z"
   },
   {
    "duration": 12,
    "start_time": "2024-01-17T15:16:46.446Z"
   },
   {
    "duration": 39,
    "start_time": "2024-01-17T15:26:21.013Z"
   },
   {
    "duration": 2,
    "start_time": "2024-01-17T15:32:41.755Z"
   },
   {
    "duration": 10,
    "start_time": "2024-01-17T15:33:57.846Z"
   },
   {
    "duration": 3,
    "start_time": "2024-01-17T15:34:25.247Z"
   },
   {
    "duration": 131,
    "start_time": "2024-01-17T15:34:28.835Z"
   },
   {
    "duration": 167,
    "start_time": "2024-01-17T15:40:58.281Z"
   },
   {
    "duration": 3,
    "start_time": "2024-01-17T15:41:46.714Z"
   },
   {
    "duration": 2,
    "start_time": "2024-01-17T15:41:48.539Z"
   },
   {
    "duration": 162,
    "start_time": "2024-01-17T15:41:50.683Z"
   },
   {
    "duration": 1620,
    "start_time": "2024-01-18T17:09:35.134Z"
   },
   {
    "duration": 115,
    "start_time": "2024-01-18T17:09:36.756Z"
   },
   {
    "duration": 4,
    "start_time": "2024-01-18T17:09:36.873Z"
   },
   {
    "duration": 12,
    "start_time": "2024-01-18T17:09:36.880Z"
   },
   {
    "duration": 3,
    "start_time": "2024-01-18T17:09:36.893Z"
   },
   {
    "duration": 8,
    "start_time": "2024-01-18T17:09:36.898Z"
   },
   {
    "duration": 9,
    "start_time": "2024-01-18T17:09:36.908Z"
   },
   {
    "duration": 16,
    "start_time": "2024-01-18T17:09:36.919Z"
   },
   {
    "duration": 9,
    "start_time": "2024-01-18T17:09:36.937Z"
   },
   {
    "duration": 171,
    "start_time": "2024-01-18T17:09:36.948Z"
   },
   {
    "duration": 883,
    "start_time": "2024-01-18T17:09:37.120Z"
   },
   {
    "duration": 4,
    "start_time": "2024-01-18T17:09:38.004Z"
   },
   {
    "duration": 20311,
    "start_time": "2024-01-18T17:09:38.010Z"
   },
   {
    "duration": 324,
    "start_time": "2024-01-18T17:09:58.326Z"
   },
   {
    "duration": 168,
    "start_time": "2024-01-18T17:09:58.651Z"
   },
   {
    "duration": 2,
    "start_time": "2024-01-18T17:09:58.821Z"
   },
   {
    "duration": 4,
    "start_time": "2024-01-18T17:09:58.825Z"
   },
   {
    "duration": 14,
    "start_time": "2024-01-18T17:09:58.830Z"
   },
   {
    "duration": 13,
    "start_time": "2024-01-18T17:09:58.846Z"
   },
   {
    "duration": 8,
    "start_time": "2024-01-18T17:09:58.860Z"
   },
   {
    "duration": 6,
    "start_time": "2024-01-18T17:09:58.869Z"
   },
   {
    "duration": 42,
    "start_time": "2024-01-18T17:09:58.876Z"
   },
   {
    "duration": 8,
    "start_time": "2024-01-18T17:09:58.920Z"
   },
   {
    "duration": 16,
    "start_time": "2024-01-18T17:09:58.929Z"
   },
   {
    "duration": 36,
    "start_time": "2024-01-18T17:09:58.946Z"
   },
   {
    "duration": 2,
    "start_time": "2024-01-18T17:09:58.984Z"
   },
   {
    "duration": 4,
    "start_time": "2024-01-18T17:09:58.988Z"
   },
   {
    "duration": 3,
    "start_time": "2024-01-18T17:09:59.021Z"
   },
   {
    "duration": 5,
    "start_time": "2024-01-18T17:09:59.026Z"
   },
   {
    "duration": 5,
    "start_time": "2024-01-18T17:09:59.033Z"
   },
   {
    "duration": 7,
    "start_time": "2024-01-18T17:09:59.040Z"
   },
   {
    "duration": 170,
    "start_time": "2024-01-18T17:09:59.048Z"
   },
   {
    "duration": 51,
    "start_time": "2024-01-18T17:10:08.323Z"
   },
   {
    "duration": 143,
    "start_time": "2024-01-18T17:11:00.742Z"
   },
   {
    "duration": 3,
    "start_time": "2024-01-18T17:11:07.048Z"
   },
   {
    "duration": 2202,
    "start_time": "2024-01-18T17:11:09.051Z"
   },
   {
    "duration": 15,
    "start_time": "2024-01-18T17:12:16.406Z"
   },
   {
    "duration": 276989,
    "start_time": "2024-01-18T17:12:56.435Z"
   },
   {
    "duration": 276802,
    "start_time": "2024-01-18T17:18:54.592Z"
   },
   {
    "duration": 13,
    "start_time": "2024-01-18T17:23:55.871Z"
   },
   {
    "duration": 11,
    "start_time": "2024-01-18T17:24:48.489Z"
   },
   {
    "duration": 10,
    "start_time": "2024-01-18T17:28:43.905Z"
   },
   {
    "duration": 75,
    "start_time": "2024-01-18T17:37:10.848Z"
   },
   {
    "duration": 11,
    "start_time": "2024-01-18T17:37:16.147Z"
   },
   {
    "duration": 15,
    "start_time": "2024-01-18T17:38:13.955Z"
   },
   {
    "duration": 12,
    "start_time": "2024-01-18T17:46:20.498Z"
   },
   {
    "duration": 12,
    "start_time": "2024-01-18T17:46:35.041Z"
   },
   {
    "duration": 17,
    "start_time": "2024-01-18T17:46:42.034Z"
   },
   {
    "duration": 17,
    "start_time": "2024-01-18T17:47:11.036Z"
   },
   {
    "duration": 19,
    "start_time": "2024-01-18T17:47:23.638Z"
   },
   {
    "duration": 3,
    "start_time": "2024-01-18T17:47:36.198Z"
   },
   {
    "duration": 2,
    "start_time": "2024-01-18T17:47:40.199Z"
   },
   {
    "duration": 2,
    "start_time": "2024-01-18T17:48:36.788Z"
   },
   {
    "duration": 9,
    "start_time": "2024-01-18T17:49:06.353Z"
   },
   {
    "duration": 2,
    "start_time": "2024-01-18T17:50:54.882Z"
   },
   {
    "duration": 270075,
    "start_time": "2024-01-18T17:53:02.061Z"
   },
   {
    "duration": 504,
    "start_time": "2024-01-18T18:03:41.599Z"
   },
   {
    "duration": 476,
    "start_time": "2024-01-18T18:03:49.529Z"
   },
   {
    "duration": 257,
    "start_time": "2024-01-18T18:04:45.343Z"
   },
   {
    "duration": 243,
    "start_time": "2024-01-18T18:05:40.039Z"
   },
   {
    "duration": 470,
    "start_time": "2024-01-18T18:15:15.801Z"
   },
   {
    "duration": 2,
    "start_time": "2024-01-18T18:15:40.976Z"
   },
   {
    "duration": 542,
    "start_time": "2024-01-18T18:20:31.480Z"
   },
   {
    "duration": 848,
    "start_time": "2024-01-18T18:20:46.227Z"
   },
   {
    "duration": 9,
    "start_time": "2024-01-18T18:24:15.244Z"
   },
   {
    "duration": 1557,
    "start_time": "2024-01-18T18:31:08.342Z"
   },
   {
    "duration": 55,
    "start_time": "2024-01-18T18:31:09.902Z"
   },
   {
    "duration": 4,
    "start_time": "2024-01-18T18:31:09.958Z"
   },
   {
    "duration": 15,
    "start_time": "2024-01-18T18:31:09.964Z"
   },
   {
    "duration": 3,
    "start_time": "2024-01-18T18:31:09.980Z"
   },
   {
    "duration": 5,
    "start_time": "2024-01-18T18:31:09.985Z"
   },
   {
    "duration": 15,
    "start_time": "2024-01-18T18:31:09.991Z"
   },
   {
    "duration": 17,
    "start_time": "2024-01-18T18:31:10.007Z"
   },
   {
    "duration": 11,
    "start_time": "2024-01-18T18:31:10.026Z"
   },
   {
    "duration": 160,
    "start_time": "2024-01-18T18:31:10.039Z"
   },
   {
    "duration": 892,
    "start_time": "2024-01-18T18:31:10.200Z"
   },
   {
    "duration": 4,
    "start_time": "2024-01-18T18:31:11.093Z"
   },
   {
    "duration": 19620,
    "start_time": "2024-01-18T18:31:11.099Z"
   },
   {
    "duration": 348,
    "start_time": "2024-01-18T18:31:30.721Z"
   },
   {
    "duration": 170,
    "start_time": "2024-01-18T18:31:31.070Z"
   },
   {
    "duration": 3,
    "start_time": "2024-01-18T18:31:31.241Z"
   },
   {
    "duration": 36,
    "start_time": "2024-01-18T18:31:31.246Z"
   },
   {
    "duration": 28,
    "start_time": "2024-01-18T18:31:31.284Z"
   },
   {
    "duration": 22,
    "start_time": "2024-01-18T18:31:31.313Z"
   },
   {
    "duration": 23,
    "start_time": "2024-01-18T18:31:31.337Z"
   },
   {
    "duration": 36,
    "start_time": "2024-01-18T18:31:31.361Z"
   },
   {
    "duration": 33,
    "start_time": "2024-01-18T18:31:31.398Z"
   },
   {
    "duration": 27,
    "start_time": "2024-01-18T18:31:31.433Z"
   },
   {
    "duration": 32,
    "start_time": "2024-01-18T18:31:31.461Z"
   },
   {
    "duration": 79,
    "start_time": "2024-01-18T18:31:31.495Z"
   },
   {
    "duration": 2,
    "start_time": "2024-01-18T18:31:31.576Z"
   },
   {
    "duration": 64,
    "start_time": "2024-01-18T18:31:31.580Z"
   },
   {
    "duration": 27,
    "start_time": "2024-01-18T18:31:31.648Z"
   },
   {
    "duration": 17,
    "start_time": "2024-01-18T18:31:31.677Z"
   },
   {
    "duration": 52,
    "start_time": "2024-01-18T18:31:31.695Z"
   },
   {
    "duration": 8,
    "start_time": "2024-01-18T18:31:31.748Z"
   },
   {
    "duration": 81,
    "start_time": "2024-01-18T18:31:31.757Z"
   },
   {
    "duration": 138,
    "start_time": "2024-01-18T18:31:31.918Z"
   },
   {
    "duration": 5,
    "start_time": "2024-01-18T18:31:32.063Z"
   },
   {
    "duration": 5,
    "start_time": "2024-01-18T18:31:32.070Z"
   },
   {
    "duration": 2213,
    "start_time": "2024-01-18T18:31:32.077Z"
   },
   {
    "duration": 10,
    "start_time": "2024-01-18T18:31:34.292Z"
   },
   {
    "duration": 14,
    "start_time": "2024-01-18T18:31:34.304Z"
   },
   {
    "duration": 272115,
    "start_time": "2024-01-18T18:31:34.319Z"
   },
   {
    "duration": 11,
    "start_time": "2024-01-18T18:36:06.435Z"
   },
   {
    "duration": 6,
    "start_time": "2024-01-18T18:36:06.447Z"
   },
   {
    "duration": 6,
    "start_time": "2024-01-18T18:36:06.454Z"
   },
   {
    "duration": 10,
    "start_time": "2024-01-18T18:36:06.461Z"
   },
   {
    "duration": 13,
    "start_time": "2024-01-18T18:36:06.472Z"
   },
   {
    "duration": 4,
    "start_time": "2024-01-18T18:36:06.486Z"
   },
   {
    "duration": 5,
    "start_time": "2024-01-18T18:36:06.491Z"
   },
   {
    "duration": 495,
    "start_time": "2024-01-18T18:36:06.497Z"
   },
   {
    "duration": 297,
    "start_time": "2024-01-18T18:36:06.994Z"
   },
   {
    "duration": 126,
    "start_time": "2024-01-18T18:36:07.293Z"
   },
   {
    "duration": 0,
    "start_time": "2024-01-18T18:36:07.420Z"
   },
   {
    "duration": 0,
    "start_time": "2024-01-18T18:36:07.421Z"
   },
   {
    "duration": 0,
    "start_time": "2024-01-18T18:36:07.422Z"
   },
   {
    "duration": 0,
    "start_time": "2024-01-18T18:36:07.423Z"
   },
   {
    "duration": 10,
    "start_time": "2024-01-18T18:41:47.790Z"
   },
   {
    "duration": 5,
    "start_time": "2024-01-18T18:42:04.895Z"
   },
   {
    "duration": 5,
    "start_time": "2024-01-18T18:42:11.568Z"
   },
   {
    "duration": 808,
    "start_time": "2024-01-18T18:42:18.715Z"
   }
  ],
  "kernelspec": {
   "display_name": "Python 3 (ipykernel)",
   "language": "python",
   "name": "python3"
  },
  "language_info": {
   "codemirror_mode": {
    "name": "ipython",
    "version": 3
   },
   "file_extension": ".py",
   "mimetype": "text/x-python",
   "name": "python",
   "nbconvert_exporter": "python",
   "pygments_lexer": "ipython3",
   "version": "3.11.5"
  },
  "toc": {
   "base_numbering": 1,
   "nav_menu": {},
   "number_sections": true,
   "sideBar": true,
   "skip_h1_title": true,
   "title_cell": "Содержание",
   "title_sidebar": "Contents",
   "toc_cell": true,
   "toc_position": {
    "height": "calc(100% - 180px)",
    "left": "10px",
    "top": "150px",
    "width": "231px"
   },
   "toc_section_display": true,
   "toc_window_display": true
  }
 },
 "nbformat": 4,
 "nbformat_minor": 4
}
