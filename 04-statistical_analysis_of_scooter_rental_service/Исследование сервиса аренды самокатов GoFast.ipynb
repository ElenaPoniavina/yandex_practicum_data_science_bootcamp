{
 "cells": [
  {
   "cell_type": "markdown",
   "id": "87636bf9",
   "metadata": {},
   "source": [
    "<div style=\"border:solid Chocolate 2px; padding: 40px\">\n",
    "\n",
    "<b>Елена, привет!</b>\n",
    "\n",
    "Меня зовут Евгений Головин, я буду ревьюером твоего проекта. Если ты не против, то предлагаю построить наше общение на \"ты\" ;) Если удобнее на \"вы\", то нет проблем, только скажи об этом. \n",
    "\n",
    "В ходе работы я оставил тебе комментарии <font color='green'>зеленого</font>, <font color='gold'>желтого</font> и <font color='red'>красного</font> цветов. Сейчас объясню, что они значат:\n",
    "\n",
    "<br/>\n",
    "\n",
    "<div class=\"alert alert-success\">\n",
    "<h2> Комментарий ревьюера <a class=\"tocSkip\"> </h2>\n",
    "\n",
    "<b>Все супер!👍:</b> Решение на этом шаге является полностью правильным.\n",
    "</div>\n",
    "\n",
    "<br/>\n",
    "\n",
    "<div class=\"alert alert-warning\">\n",
    "    <h2> Комментарий ревьюера <a class=\"tocSkip\"> </h2>\n",
    "    \n",
    "<b>Небольшие замечания и рекомендации💡:</b> Решение на этом шаге станет еще лучше, если внести небольшие коррективы.\n",
    "</div>\n",
    "\n",
    "\n",
    "<br/>\n",
    "<div class=\"alert alert-block alert-danger\">\n",
    "<h2> Комментарий ревьюера <a class=\"tocSkip\"></h2>\n",
    "\n",
    "    \n",
    "<b>На доработку🤔:</b>\n",
    " Решение на этом шаге требует существенной переработки и внесения правок. Напоминаю, что проект не может быть принят с первого раза, если ревью содержит комментарии, рекомендующие доработать шаги.\n",
    "</div>\n",
    "    \n",
    "Увидев мой комментарий, не удаляй его, он будет очень полезен в случае повторной проверки работы :)\n",
    "    \n",
    "<div class=\"alert alert-info\">\n",
    "<b>А свой помечай вот так, чтобы я его не потерял ;)</b> \n",
    "</div>\n",
    "    \n",
    "На мои комменатрии можно и нужно реагировать, только делать это стоит так, чтобы твои и мои комменты не смешались: выделяй свои цветами, сильно отличающимися от моих.\n",
    "    \n",
    "Увидев у тебя неточность, в первый раз я лишь укажу на ее наличие и дам тебе возможность самому найти и исправить ее. На реальной работе твой руководитель будет поступать также, и я пытаюсь подготовить тебя именно к работе аналитиком. Но если ты пока не справишься с такой задачей - при следующей проверке я дам более точную подсказку!"
   ]
  },
  {
   "cell_type": "markdown",
   "id": "35a77374",
   "metadata": {},
   "source": [
    "# Исследование сервиса аренды самокатов GoFast"
   ]
  },
  {
   "cell_type": "markdown",
   "id": "8623baaa",
   "metadata": {},
   "source": [
    "В наличие есть данные о некоторых пользователях сервиса аренды самокатов из нескольких городов, а также об их поездках. <br>**Необходимо:** проанализировать данные и проверить некоторые гипотезы, которые могут помочь бизнесу вырасти.\n",
    "Чтобы совершать поездки по городу, пользователи сервиса GoFast пользуются мобильным приложением. Сервисом можно пользоваться:\n",
    "-\tбез подписки \n",
    "    - абонентская плата отсутствует;\n",
    "    - стоимость одной минуты поездки — 8 рублей;\n",
    "    - стоимость старта (начала поездки) — 50 рублей;\n",
    "- с подпиской Ultra \n",
    "    - абонентская плата — 199 рублей в месяц;\n",
    "    - стоимость одной минуты поездки — 6 рублей;\n",
    "    - стоимость старта — бесплатно\n",
    "    \n",
    "**Имеющиеся данные:**\n",
    "- Данные о пользователях сервиса (таблица users):\n",
    "    - user_id - уникальный идентификатор пользователя\n",
    "    - name - имя пользователя\n",
    "    - age - возраст\n",
    "    - city - город\n",
    "    - subscription_type - тип подписки (free, ultra)\n",
    "- Данные о поездках пользователей (таблица rides):\n",
    "    - user_id - уникальный идентификатор пользователя\n",
    "    - distance - расстояние, которое пользователь проехал в текущей сессии (в метрах)\n",
    "    - duration - продолжительность сессии (в минутах) — время с того момента, как пользователь нажал кнопку «Начать поездку» до момента, как он нажал кнопку «Завершить поездку»\n",
    "    - date - дата совершения поездки\n",
    "- Данные о типах подписки (таблица subscriptions):\n",
    "    - subscription_type - тип подписки\n",
    "    - minute_price - стоимость одной минуты поездки по данной подписке\n",
    "    - start_ride_price - стоимость начала поездки\n",
    "    - subscription_fee - стоимость ежемесячного платежа\n"
   ]
  },
  {
   "cell_type": "markdown",
   "id": "d3639b00",
   "metadata": {},
   "source": [
    "**Содержание проекта:**\n",
    "<br>[1  Шаг 1. Загрузка данных](#ref1)\n",
    "\n",
    "<br>[2  Шаг 2. Предобработка данных](#ref2)\n",
    "<br>[2.1  Приведем столбец rides['date'] к типу данных datetime.](#ref2.1)\n",
    "<br>[2.2  Создадим новый столбец с номером месяца на основе столбца date.](#ref2.2)\n",
    "<br>[2.3  Проверим таблицы на наличие пропущенных значений и дубликатов.](#ref2.3)\n",
    "\n",
    "<br>[3  Шаг 3. Исследовательский анализ данных](#ref3)\n",
    "<br>[3.1  Проанализируем частоту встречаемости городов.](#ref3.1)\n",
    "<br>[3.2  Проанализируем соотношение пользователей с подпиской и без подписки.](#ref3.2)\n",
    "<br>[3.3  Проанализируем возраст пользователей.](#ref3.3)\n",
    "\n",
    "<br>[4  Шаг 4. Объединение данных](#ref4)\n",
    "<br>[4.1  Объединим данные о пользователях, поездках и подписках.](#ref4.1)\n",
    "<br>[4.2  Создайте ещё два датафрейма.](#ref4.2)\n",
    "<br>[4.3  Визуализируем информацию о расстоянии и времени поездок для пользователей обеих категорий.](#ref4.3)\n",
    "\n",
    "<br>[5  Шаг 5. Подсчёт выручки](#ref5)\n",
    "<br>[5.1  Создадим датафрейм с агрегированными данными о поездках.](#ref5.1)\n",
    "<br>[5.2  Добавим столбец с помесячной выручкой.](#ref5.2)\n",
    "\n",
    "\n",
    "<br>[6  Шаг 6. Проверка гипотез](#ref6)\n",
    "<br>[6.1  Тратят ли пользователи с подпиской больше времени на поездки?](#ref6.1)\n",
    "<br>[6.2  Среднее расстояние, которое проезжают пользователи с подпиской за одну поездку](#ref6.2)\n",
    "<br>[6.3  Помесячная выручка от пользователей](#ref6.3)\n",
    "<br>[6.4  Количество обращений в техподдержку](#ref6.4)\n",
    "\n",
    "<br>[7  Шаг 7. Распределения](#ref7)\n",
    "<br>[7.1  Акция с раздачей промокодов](#ref7.1)\n",
    "<br>[7.2  Push-уведомления](#ref7.2)\n"
   ]
  },
  {
   "cell_type": "markdown",
   "id": "674535d9",
   "metadata": {},
   "source": [
    "<div class=\"alert alert-warning\">\n",
    "    <h2> Комментарий ревьюера v1 <a class=\"tocSkip\"> </h2>\n",
    "    \n",
    "<b>Небольшие замечания и рекомендации💡:</b> Супер, что начинаешь с введения! Если добавим еще описание данных, то будет идеально!"
   ]
  },
  {
   "cell_type": "markdown",
   "id": "abd2cffa",
   "metadata": {},
   "source": [
    "<div class=\"alert alert-info\">\n",
    "<b>Done 👍</b> \n",
    "</div>"
   ]
  },
  {
   "cell_type": "markdown",
   "id": "9adca2a0",
   "metadata": {},
   "source": [
    "<div class=\"alert alert-success\">\n",
    "<h2> Комментарий ревьюера v2 <a class=\"tocSkip\"> </h2>\n",
    "\n",
    "<b>Все супер!👍:</b> Замечательно!"
   ]
  },
  {
   "cell_type": "code",
   "execution_count": 1,
   "id": "72576667",
   "metadata": {},
   "outputs": [],
   "source": [
    "import pandas as pd\n",
    "import seaborn as sns\n",
    "import matplotlib.pyplot as plt\n",
    "import numpy as np\n",
    "from scipy import stats as st\n",
    "from scipy.stats import binom, norm\n",
    "from math import sqrt"
   ]
  },
  {
   "cell_type": "markdown",
   "id": "44ad5744",
   "metadata": {},
   "source": [
    "<div class=\"alert alert-success\">\n",
    "<h2> Комментарий ревьюера v1 <a class=\"tocSkip\"> </h2>\n",
    "\n",
    "<b>Все супер!👍:</b> Лайк, что испортируешь библиотеки в отдельной ячейке "
   ]
  },
  {
   "cell_type": "markdown",
   "id": "c42cbe00",
   "metadata": {},
   "source": [
    "#### Шаг 1. Загрузка данных\n",
    "<a id='ref1'></a>"
   ]
  },
  {
   "cell_type": "markdown",
   "id": "86e105c2",
   "metadata": {},
   "source": [
    "Загрузим необходимые данные и изучим их."
   ]
  },
  {
   "cell_type": "code",
   "execution_count": 2,
   "id": "eff9f206",
   "metadata": {},
   "outputs": [
    {
     "name": "stdout",
     "output_type": "stream",
     "text": [
      "<class 'pandas.core.frame.DataFrame'>\n",
      "RangeIndex: 1565 entries, 0 to 1564\n",
      "Data columns (total 5 columns):\n",
      " #   Column             Non-Null Count  Dtype \n",
      "---  ------             --------------  ----- \n",
      " 0   user_id            1565 non-null   int64 \n",
      " 1   name               1565 non-null   object\n",
      " 2   age                1565 non-null   int64 \n",
      " 3   city               1565 non-null   object\n",
      " 4   subscription_type  1565 non-null   object\n",
      "dtypes: int64(2), object(3)\n",
      "memory usage: 61.3+ KB\n"
     ]
    },
    {
     "data": {
      "text/html": [
       "<div>\n",
       "<style scoped>\n",
       "    .dataframe tbody tr th:only-of-type {\n",
       "        vertical-align: middle;\n",
       "    }\n",
       "\n",
       "    .dataframe tbody tr th {\n",
       "        vertical-align: top;\n",
       "    }\n",
       "\n",
       "    .dataframe thead th {\n",
       "        text-align: right;\n",
       "    }\n",
       "</style>\n",
       "<table border=\"1\" class=\"dataframe\">\n",
       "  <thead>\n",
       "    <tr style=\"text-align: right;\">\n",
       "      <th></th>\n",
       "      <th>user_id</th>\n",
       "      <th>name</th>\n",
       "      <th>age</th>\n",
       "      <th>city</th>\n",
       "      <th>subscription_type</th>\n",
       "    </tr>\n",
       "  </thead>\n",
       "  <tbody>\n",
       "    <tr>\n",
       "      <th>0</th>\n",
       "      <td>1</td>\n",
       "      <td>Кира</td>\n",
       "      <td>22</td>\n",
       "      <td>Тюмень</td>\n",
       "      <td>ultra</td>\n",
       "    </tr>\n",
       "    <tr>\n",
       "      <th>1</th>\n",
       "      <td>2</td>\n",
       "      <td>Станислав</td>\n",
       "      <td>31</td>\n",
       "      <td>Омск</td>\n",
       "      <td>ultra</td>\n",
       "    </tr>\n",
       "    <tr>\n",
       "      <th>2</th>\n",
       "      <td>3</td>\n",
       "      <td>Алексей</td>\n",
       "      <td>20</td>\n",
       "      <td>Москва</td>\n",
       "      <td>ultra</td>\n",
       "    </tr>\n",
       "    <tr>\n",
       "      <th>3</th>\n",
       "      <td>4</td>\n",
       "      <td>Константин</td>\n",
       "      <td>26</td>\n",
       "      <td>Ростов-на-Дону</td>\n",
       "      <td>ultra</td>\n",
       "    </tr>\n",
       "    <tr>\n",
       "      <th>4</th>\n",
       "      <td>5</td>\n",
       "      <td>Адель</td>\n",
       "      <td>28</td>\n",
       "      <td>Омск</td>\n",
       "      <td>ultra</td>\n",
       "    </tr>\n",
       "  </tbody>\n",
       "</table>\n",
       "</div>"
      ],
      "text/plain": [
       "   user_id        name  age            city subscription_type\n",
       "0        1        Кира   22          Тюмень             ultra\n",
       "1        2   Станислав   31            Омск             ultra\n",
       "2        3     Алексей   20          Москва             ultra\n",
       "3        4  Константин   26  Ростов-на-Дону             ultra\n",
       "4        5       Адель   28            Омск             ultra"
      ]
     },
     "execution_count": 2,
     "metadata": {},
     "output_type": "execute_result"
    }
   ],
   "source": [
    "users = pd.read_csv('/datasets/users_go.csv') #загрузим данные\n",
    "users.info() #выведем общую информацию о датафрейме\n",
    "users.head() #выведем первые несколько строк"
   ]
  },
  {
   "cell_type": "code",
   "execution_count": 3,
   "id": "fad6dfba",
   "metadata": {},
   "outputs": [
    {
     "name": "stdout",
     "output_type": "stream",
     "text": [
      "<class 'pandas.core.frame.DataFrame'>\n",
      "RangeIndex: 18068 entries, 0 to 18067\n",
      "Data columns (total 4 columns):\n",
      " #   Column    Non-Null Count  Dtype  \n",
      "---  ------    --------------  -----  \n",
      " 0   user_id   18068 non-null  int64  \n",
      " 1   distance  18068 non-null  float64\n",
      " 2   duration  18068 non-null  float64\n",
      " 3   date      18068 non-null  object \n",
      "dtypes: float64(2), int64(1), object(1)\n",
      "memory usage: 564.8+ KB\n"
     ]
    },
    {
     "data": {
      "text/html": [
       "<div>\n",
       "<style scoped>\n",
       "    .dataframe tbody tr th:only-of-type {\n",
       "        vertical-align: middle;\n",
       "    }\n",
       "\n",
       "    .dataframe tbody tr th {\n",
       "        vertical-align: top;\n",
       "    }\n",
       "\n",
       "    .dataframe thead th {\n",
       "        text-align: right;\n",
       "    }\n",
       "</style>\n",
       "<table border=\"1\" class=\"dataframe\">\n",
       "  <thead>\n",
       "    <tr style=\"text-align: right;\">\n",
       "      <th></th>\n",
       "      <th>user_id</th>\n",
       "      <th>distance</th>\n",
       "      <th>duration</th>\n",
       "      <th>date</th>\n",
       "    </tr>\n",
       "  </thead>\n",
       "  <tbody>\n",
       "    <tr>\n",
       "      <th>0</th>\n",
       "      <td>1</td>\n",
       "      <td>4409.919140</td>\n",
       "      <td>25.599769</td>\n",
       "      <td>2021-01-01</td>\n",
       "    </tr>\n",
       "    <tr>\n",
       "      <th>1</th>\n",
       "      <td>1</td>\n",
       "      <td>2617.592153</td>\n",
       "      <td>15.816871</td>\n",
       "      <td>2021-01-18</td>\n",
       "    </tr>\n",
       "    <tr>\n",
       "      <th>2</th>\n",
       "      <td>1</td>\n",
       "      <td>754.159807</td>\n",
       "      <td>6.232113</td>\n",
       "      <td>2021-04-20</td>\n",
       "    </tr>\n",
       "  </tbody>\n",
       "</table>\n",
       "</div>"
      ],
      "text/plain": [
       "   user_id     distance   duration        date\n",
       "0        1  4409.919140  25.599769  2021-01-01\n",
       "1        1  2617.592153  15.816871  2021-01-18\n",
       "2        1   754.159807   6.232113  2021-04-20"
      ]
     },
     "execution_count": 3,
     "metadata": {},
     "output_type": "execute_result"
    }
   ],
   "source": [
    "rides = pd.read_csv('/datasets/rides_go.csv') #загрузим данные\n",
    "rides.info() #выведем общую информацию о датафрейме\n",
    "rides.head(3) #выведем первые несколько строк"
   ]
  },
  {
   "cell_type": "code",
   "execution_count": 4,
   "id": "e4ca9de2",
   "metadata": {
    "scrolled": true
   },
   "outputs": [
    {
     "name": "stdout",
     "output_type": "stream",
     "text": [
      "<class 'pandas.core.frame.DataFrame'>\n",
      "RangeIndex: 2 entries, 0 to 1\n",
      "Data columns (total 4 columns):\n",
      " #   Column             Non-Null Count  Dtype \n",
      "---  ------             --------------  ----- \n",
      " 0   subscription_type  2 non-null      object\n",
      " 1   minute_price       2 non-null      int64 \n",
      " 2   start_ride_price   2 non-null      int64 \n",
      " 3   subscription_fee   2 non-null      int64 \n",
      "dtypes: int64(3), object(1)\n",
      "memory usage: 192.0+ bytes\n"
     ]
    },
    {
     "data": {
      "text/html": [
       "<div>\n",
       "<style scoped>\n",
       "    .dataframe tbody tr th:only-of-type {\n",
       "        vertical-align: middle;\n",
       "    }\n",
       "\n",
       "    .dataframe tbody tr th {\n",
       "        vertical-align: top;\n",
       "    }\n",
       "\n",
       "    .dataframe thead th {\n",
       "        text-align: right;\n",
       "    }\n",
       "</style>\n",
       "<table border=\"1\" class=\"dataframe\">\n",
       "  <thead>\n",
       "    <tr style=\"text-align: right;\">\n",
       "      <th></th>\n",
       "      <th>subscription_type</th>\n",
       "      <th>minute_price</th>\n",
       "      <th>start_ride_price</th>\n",
       "      <th>subscription_fee</th>\n",
       "    </tr>\n",
       "  </thead>\n",
       "  <tbody>\n",
       "    <tr>\n",
       "      <th>0</th>\n",
       "      <td>free</td>\n",
       "      <td>8</td>\n",
       "      <td>50</td>\n",
       "      <td>0</td>\n",
       "    </tr>\n",
       "    <tr>\n",
       "      <th>1</th>\n",
       "      <td>ultra</td>\n",
       "      <td>6</td>\n",
       "      <td>0</td>\n",
       "      <td>199</td>\n",
       "    </tr>\n",
       "  </tbody>\n",
       "</table>\n",
       "</div>"
      ],
      "text/plain": [
       "  subscription_type  minute_price  start_ride_price  subscription_fee\n",
       "0              free             8                50                 0\n",
       "1             ultra             6                 0               199"
      ]
     },
     "execution_count": 4,
     "metadata": {},
     "output_type": "execute_result"
    }
   ],
   "source": [
    "subscriptions = pd.read_csv('/datasets/subscriptions_go.csv') #загрузим данные\n",
    "subscriptions.info() #выведем общую информацию о датафрейме\n",
    "subscriptions.head(3) #выведем первые несколько строк"
   ]
  },
  {
   "cell_type": "markdown",
   "id": "75e73072",
   "metadata": {},
   "source": [
    "Видим, что в представленных таблицах содержатся данные о пользователях, их поездках и их подпиcках. \n",
    "<br>Таблица пользователей и поездок могут быть соединены по полю user_id. \n",
    "<br>Таблица пользователей и подписок могут быть соединены по полю subscription_type. "
   ]
  },
  {
   "cell_type": "markdown",
   "id": "5a1bfc6d",
   "metadata": {},
   "source": [
    "<div class=\"alert alert-success\">\n",
    "<h2> Комментарий ревьюера v1 <a class=\"tocSkip\"> </h2>\n",
    "\n",
    "<b>Все супер!👍:</b> Обзор данных выполнен корректно!"
   ]
  },
  {
   "cell_type": "markdown",
   "id": "e95ebca7",
   "metadata": {},
   "source": [
    "#### Шаг 2. Предобработка данных\n",
    "<a id='ref2'></a>"
   ]
  },
  {
   "cell_type": "markdown",
   "id": "f4834a60",
   "metadata": {},
   "source": [
    "**2.1 Приведем столбец rides['date'] к типу данных datetime.** <a id='ref2.1'></a>"
   ]
  },
  {
   "cell_type": "code",
   "execution_count": 5,
   "id": "6c274890",
   "metadata": {
    "scrolled": true
   },
   "outputs": [
    {
     "data": {
      "text/plain": [
       "0       2021-01-01\n",
       "1       2021-01-18\n",
       "2       2021-04-20\n",
       "3       2021-08-11\n",
       "4       2021-08-28\n",
       "           ...    \n",
       "18063   2021-11-04\n",
       "18064   2021-11-16\n",
       "18065   2021-11-18\n",
       "18066   2021-11-27\n",
       "18067   2021-12-29\n",
       "Name: date, Length: 18068, dtype: datetime64[ns]"
      ]
     },
     "execution_count": 5,
     "metadata": {},
     "output_type": "execute_result"
    }
   ],
   "source": [
    "rides['date'] = pd.to_datetime(\n",
    "    rides['date'], format='%Y-%m-%d'\n",
    ") \n",
    "rides['date']"
   ]
  },
  {
   "cell_type": "markdown",
   "id": "c2bed8a0",
   "metadata": {},
   "source": [
    "<div class=\"alert alert-success\">\n",
    "<h2> Комментарий ревьюера v1 <a class=\"tocSkip\"> </h2>\n",
    "\n",
    "<b>Все супер!👍:</b> Верно, дата должна быть датой"
   ]
  },
  {
   "cell_type": "markdown",
   "id": "0468d18d",
   "metadata": {},
   "source": [
    "**2.2 Создадим новый столбец с номером месяца на основе столбца date.** <a id='ref2.2'></a>"
   ]
  },
  {
   "cell_type": "code",
   "execution_count": 6,
   "id": "ee0e1ed5",
   "metadata": {},
   "outputs": [
    {
     "data": {
      "text/plain": [
       "0         1\n",
       "1         1\n",
       "2         4\n",
       "3         8\n",
       "4         8\n",
       "         ..\n",
       "18063    11\n",
       "18064    11\n",
       "18065    11\n",
       "18066    11\n",
       "18067    12\n",
       "Name: ride_month, Length: 18068, dtype: int64"
      ]
     },
     "execution_count": 6,
     "metadata": {},
     "output_type": "execute_result"
    }
   ],
   "source": [
    "rides['ride_month'] = rides['date'].dt.month\n",
    "rides['ride_month']"
   ]
  },
  {
   "cell_type": "code",
   "execution_count": 7,
   "id": "e9d296ce",
   "metadata": {},
   "outputs": [
    {
     "data": {
      "text/html": [
       "<div>\n",
       "<style scoped>\n",
       "    .dataframe tbody tr th:only-of-type {\n",
       "        vertical-align: middle;\n",
       "    }\n",
       "\n",
       "    .dataframe tbody tr th {\n",
       "        vertical-align: top;\n",
       "    }\n",
       "\n",
       "    .dataframe thead th {\n",
       "        text-align: right;\n",
       "    }\n",
       "</style>\n",
       "<table border=\"1\" class=\"dataframe\">\n",
       "  <thead>\n",
       "    <tr style=\"text-align: right;\">\n",
       "      <th></th>\n",
       "      <th>user_id</th>\n",
       "      <th>distance</th>\n",
       "      <th>duration</th>\n",
       "      <th>date</th>\n",
       "      <th>ride_month</th>\n",
       "      <th>ride_month_year</th>\n",
       "    </tr>\n",
       "  </thead>\n",
       "  <tbody>\n",
       "    <tr>\n",
       "      <th>0</th>\n",
       "      <td>1</td>\n",
       "      <td>4409.919140</td>\n",
       "      <td>25.599769</td>\n",
       "      <td>2021-01-01</td>\n",
       "      <td>1</td>\n",
       "      <td>2021-01</td>\n",
       "    </tr>\n",
       "    <tr>\n",
       "      <th>1</th>\n",
       "      <td>1</td>\n",
       "      <td>2617.592153</td>\n",
       "      <td>15.816871</td>\n",
       "      <td>2021-01-18</td>\n",
       "      <td>1</td>\n",
       "      <td>2021-01</td>\n",
       "    </tr>\n",
       "    <tr>\n",
       "      <th>2</th>\n",
       "      <td>1</td>\n",
       "      <td>754.159807</td>\n",
       "      <td>6.232113</td>\n",
       "      <td>2021-04-20</td>\n",
       "      <td>4</td>\n",
       "      <td>2021-04</td>\n",
       "    </tr>\n",
       "    <tr>\n",
       "      <th>3</th>\n",
       "      <td>1</td>\n",
       "      <td>2694.783254</td>\n",
       "      <td>18.511000</td>\n",
       "      <td>2021-08-11</td>\n",
       "      <td>8</td>\n",
       "      <td>2021-08</td>\n",
       "    </tr>\n",
       "    <tr>\n",
       "      <th>4</th>\n",
       "      <td>1</td>\n",
       "      <td>4028.687306</td>\n",
       "      <td>26.265803</td>\n",
       "      <td>2021-08-28</td>\n",
       "      <td>8</td>\n",
       "      <td>2021-08</td>\n",
       "    </tr>\n",
       "    <tr>\n",
       "      <th>...</th>\n",
       "      <td>...</td>\n",
       "      <td>...</td>\n",
       "      <td>...</td>\n",
       "      <td>...</td>\n",
       "      <td>...</td>\n",
       "      <td>...</td>\n",
       "    </tr>\n",
       "    <tr>\n",
       "      <th>18063</th>\n",
       "      <td>1534</td>\n",
       "      <td>3781.098080</td>\n",
       "      <td>19.822962</td>\n",
       "      <td>2021-11-04</td>\n",
       "      <td>11</td>\n",
       "      <td>2021-11</td>\n",
       "    </tr>\n",
       "    <tr>\n",
       "      <th>18064</th>\n",
       "      <td>1534</td>\n",
       "      <td>2840.423057</td>\n",
       "      <td>21.409799</td>\n",
       "      <td>2021-11-16</td>\n",
       "      <td>11</td>\n",
       "      <td>2021-11</td>\n",
       "    </tr>\n",
       "    <tr>\n",
       "      <th>18065</th>\n",
       "      <td>1534</td>\n",
       "      <td>3826.185507</td>\n",
       "      <td>18.435051</td>\n",
       "      <td>2021-11-18</td>\n",
       "      <td>11</td>\n",
       "      <td>2021-11</td>\n",
       "    </tr>\n",
       "    <tr>\n",
       "      <th>18066</th>\n",
       "      <td>1534</td>\n",
       "      <td>2902.308661</td>\n",
       "      <td>16.674362</td>\n",
       "      <td>2021-11-27</td>\n",
       "      <td>11</td>\n",
       "      <td>2021-11</td>\n",
       "    </tr>\n",
       "    <tr>\n",
       "      <th>18067</th>\n",
       "      <td>1534</td>\n",
       "      <td>2371.711192</td>\n",
       "      <td>15.893917</td>\n",
       "      <td>2021-12-29</td>\n",
       "      <td>12</td>\n",
       "      <td>2021-12</td>\n",
       "    </tr>\n",
       "  </tbody>\n",
       "</table>\n",
       "<p>18068 rows × 6 columns</p>\n",
       "</div>"
      ],
      "text/plain": [
       "       user_id     distance   duration       date  ride_month ride_month_year\n",
       "0            1  4409.919140  25.599769 2021-01-01           1         2021-01\n",
       "1            1  2617.592153  15.816871 2021-01-18           1         2021-01\n",
       "2            1   754.159807   6.232113 2021-04-20           4         2021-04\n",
       "3            1  2694.783254  18.511000 2021-08-11           8         2021-08\n",
       "4            1  4028.687306  26.265803 2021-08-28           8         2021-08\n",
       "...        ...          ...        ...        ...         ...             ...\n",
       "18063     1534  3781.098080  19.822962 2021-11-04          11         2021-11\n",
       "18064     1534  2840.423057  21.409799 2021-11-16          11         2021-11\n",
       "18065     1534  3826.185507  18.435051 2021-11-18          11         2021-11\n",
       "18066     1534  2902.308661  16.674362 2021-11-27          11         2021-11\n",
       "18067     1534  2371.711192  15.893917 2021-12-29          12         2021-12\n",
       "\n",
       "[18068 rows x 6 columns]"
      ]
     },
     "execution_count": 7,
     "metadata": {},
     "output_type": "execute_result"
    }
   ],
   "source": [
    "#rides['ride_month_year'] = str(rides['ride_month'])+\"_\"+str(rides['ride_year'])\n",
    "# rides['ride_month_year'] = rides['date'].dt.month+'_'+rides['date'].dt.year\n",
    "rides['ride_month_year'] = pd.to_datetime(rides['date']).dt.strftime('%Y-%m')\n",
    "rides"
   ]
  },
  {
   "cell_type": "markdown",
   "id": "5c059347",
   "metadata": {},
   "source": [
    "<div class=\"alert alert-warning\">\n",
    "    <h2> Комментарий ревьюера v1<a class=\"tocSkip\"> </h2>\n",
    "    \n",
    "<b>Небольшие замечания и рекомендации💡:</b> Вопрос - в задании просили добавить месяц, мы это сделали, но давай проверим за сколько лет данные мы имеем? Провести такую проверку важно, чтобы данные за несколько лет не склеились при агрегации по месяцам.\n",
    "        "
   ]
  },
  {
   "cell_type": "code",
   "execution_count": null,
   "id": "9c74e83e",
   "metadata": {},
   "outputs": [],
   "source": []
  },
  {
   "cell_type": "markdown",
   "id": "91ae1f70",
   "metadata": {},
   "source": [
    "**2.3 Проверим таблицы на наличие пропущенных значений и дубликатов.** <a id='ref2.3'></a>"
   ]
  },
  {
   "cell_type": "code",
   "execution_count": 8,
   "id": "ce5aba5a",
   "metadata": {},
   "outputs": [
    {
     "data": {
      "text/plain": [
       "user_id              0\n",
       "name                 0\n",
       "age                  0\n",
       "city                 0\n",
       "subscription_type    0\n",
       "dtype: int64"
      ]
     },
     "execution_count": 8,
     "metadata": {},
     "output_type": "execute_result"
    }
   ],
   "source": [
    "users.isna().sum()"
   ]
  },
  {
   "cell_type": "code",
   "execution_count": 9,
   "id": "4d281b62",
   "metadata": {},
   "outputs": [
    {
     "data": {
      "text/plain": [
       "user_id            0\n",
       "distance           0\n",
       "duration           0\n",
       "date               0\n",
       "ride_month         0\n",
       "ride_month_year    0\n",
       "dtype: int64"
      ]
     },
     "execution_count": 9,
     "metadata": {},
     "output_type": "execute_result"
    }
   ],
   "source": [
    "rides.isna().sum()"
   ]
  },
  {
   "cell_type": "code",
   "execution_count": 10,
   "id": "c9a28c9d",
   "metadata": {},
   "outputs": [
    {
     "data": {
      "text/plain": [
       "subscription_type    0\n",
       "minute_price         0\n",
       "start_ride_price     0\n",
       "subscription_fee     0\n",
       "dtype: int64"
      ]
     },
     "execution_count": 10,
     "metadata": {},
     "output_type": "execute_result"
    }
   ],
   "source": [
    "subscriptions.isna().sum()"
   ]
  },
  {
   "cell_type": "markdown",
   "id": "a176ac6c",
   "metadata": {},
   "source": [
    "Пропущенных значений в таблице нет. Проверим на явные и неявные дубликаты."
   ]
  },
  {
   "cell_type": "markdown",
   "id": "fae532e7",
   "metadata": {},
   "source": [
    "<div class=\"alert alert-success\">\n",
    "<h2> Комментарий ревьюера v1 <a class=\"tocSkip\"> </h2>\n",
    "\n",
    "<b>Все супер!👍:</b> Отлично, пропусков нет\n",
    "    "
   ]
  },
  {
   "cell_type": "code",
   "execution_count": 11,
   "id": "17b33a8c",
   "metadata": {},
   "outputs": [
    {
     "data": {
      "text/plain": [
       "31"
      ]
     },
     "execution_count": 11,
     "metadata": {},
     "output_type": "execute_result"
    }
   ],
   "source": [
    "users.duplicated().sum()"
   ]
  },
  {
   "cell_type": "markdown",
   "id": "87c36216",
   "metadata": {},
   "source": [
    "Видим, что в таблице users 31 дублирующаяся строчка. Так как у нас в таблице rides ссылка на user_id(значение которого в первой строке и в строке-дубликате одинаково), то удаление дубликатов не должно повлиять на ссылочную целостность между таблицами.\n",
    "<br> Удалим дубликаты."
   ]
  },
  {
   "cell_type": "code",
   "execution_count": 12,
   "id": "0c236e42",
   "metadata": {},
   "outputs": [
    {
     "data": {
      "text/html": [
       "<div>\n",
       "<style scoped>\n",
       "    .dataframe tbody tr th:only-of-type {\n",
       "        vertical-align: middle;\n",
       "    }\n",
       "\n",
       "    .dataframe tbody tr th {\n",
       "        vertical-align: top;\n",
       "    }\n",
       "\n",
       "    .dataframe thead th {\n",
       "        text-align: right;\n",
       "    }\n",
       "</style>\n",
       "<table border=\"1\" class=\"dataframe\">\n",
       "  <thead>\n",
       "    <tr style=\"text-align: right;\">\n",
       "      <th></th>\n",
       "      <th>user_id</th>\n",
       "      <th>name</th>\n",
       "      <th>age</th>\n",
       "      <th>city</th>\n",
       "      <th>subscription_type</th>\n",
       "    </tr>\n",
       "  </thead>\n",
       "  <tbody>\n",
       "    <tr>\n",
       "      <th>0</th>\n",
       "      <td>1</td>\n",
       "      <td>Кира</td>\n",
       "      <td>22</td>\n",
       "      <td>Тюмень</td>\n",
       "      <td>ultra</td>\n",
       "    </tr>\n",
       "    <tr>\n",
       "      <th>1</th>\n",
       "      <td>2</td>\n",
       "      <td>Станислав</td>\n",
       "      <td>31</td>\n",
       "      <td>Омск</td>\n",
       "      <td>ultra</td>\n",
       "    </tr>\n",
       "    <tr>\n",
       "      <th>2</th>\n",
       "      <td>3</td>\n",
       "      <td>Алексей</td>\n",
       "      <td>20</td>\n",
       "      <td>Москва</td>\n",
       "      <td>ultra</td>\n",
       "    </tr>\n",
       "    <tr>\n",
       "      <th>3</th>\n",
       "      <td>4</td>\n",
       "      <td>Константин</td>\n",
       "      <td>26</td>\n",
       "      <td>Ростов-на-Дону</td>\n",
       "      <td>ultra</td>\n",
       "    </tr>\n",
       "    <tr>\n",
       "      <th>4</th>\n",
       "      <td>5</td>\n",
       "      <td>Адель</td>\n",
       "      <td>28</td>\n",
       "      <td>Омск</td>\n",
       "      <td>ultra</td>\n",
       "    </tr>\n",
       "    <tr>\n",
       "      <th>...</th>\n",
       "      <td>...</td>\n",
       "      <td>...</td>\n",
       "      <td>...</td>\n",
       "      <td>...</td>\n",
       "      <td>...</td>\n",
       "    </tr>\n",
       "    <tr>\n",
       "      <th>1529</th>\n",
       "      <td>1530</td>\n",
       "      <td>Ростислав</td>\n",
       "      <td>29</td>\n",
       "      <td>Сочи</td>\n",
       "      <td>free</td>\n",
       "    </tr>\n",
       "    <tr>\n",
       "      <th>1530</th>\n",
       "      <td>1531</td>\n",
       "      <td>Никита</td>\n",
       "      <td>25</td>\n",
       "      <td>Пятигорск</td>\n",
       "      <td>free</td>\n",
       "    </tr>\n",
       "    <tr>\n",
       "      <th>1531</th>\n",
       "      <td>1532</td>\n",
       "      <td>Алексей</td>\n",
       "      <td>26</td>\n",
       "      <td>Тюмень</td>\n",
       "      <td>free</td>\n",
       "    </tr>\n",
       "    <tr>\n",
       "      <th>1532</th>\n",
       "      <td>1533</td>\n",
       "      <td>Степан</td>\n",
       "      <td>22</td>\n",
       "      <td>Краснодар</td>\n",
       "      <td>free</td>\n",
       "    </tr>\n",
       "    <tr>\n",
       "      <th>1533</th>\n",
       "      <td>1534</td>\n",
       "      <td>Альберт</td>\n",
       "      <td>25</td>\n",
       "      <td>Краснодар</td>\n",
       "      <td>free</td>\n",
       "    </tr>\n",
       "  </tbody>\n",
       "</table>\n",
       "<p>1534 rows × 5 columns</p>\n",
       "</div>"
      ],
      "text/plain": [
       "      user_id        name  age            city subscription_type\n",
       "0           1        Кира   22          Тюмень             ultra\n",
       "1           2   Станислав   31            Омск             ultra\n",
       "2           3     Алексей   20          Москва             ultra\n",
       "3           4  Константин   26  Ростов-на-Дону             ultra\n",
       "4           5       Адель   28            Омск             ultra\n",
       "...       ...         ...  ...             ...               ...\n",
       "1529     1530   Ростислав   29            Сочи              free\n",
       "1530     1531      Никита   25       Пятигорск              free\n",
       "1531     1532     Алексей   26          Тюмень              free\n",
       "1532     1533      Степан   22       Краснодар              free\n",
       "1533     1534     Альберт   25       Краснодар              free\n",
       "\n",
       "[1534 rows x 5 columns]"
      ]
     },
     "execution_count": 12,
     "metadata": {},
     "output_type": "execute_result"
    }
   ],
   "source": [
    "users.drop_duplicates().reset_index(drop=True)"
   ]
  },
  {
   "cell_type": "code",
   "execution_count": 13,
   "id": "4e48410f",
   "metadata": {},
   "outputs": [
    {
     "data": {
      "text/plain": [
       "0"
      ]
     },
     "execution_count": 13,
     "metadata": {},
     "output_type": "execute_result"
    }
   ],
   "source": [
    "rides.duplicated().sum()"
   ]
  },
  {
   "cell_type": "code",
   "execution_count": 14,
   "id": "f89fedae",
   "metadata": {},
   "outputs": [
    {
     "data": {
      "text/plain": [
       "0"
      ]
     },
     "execution_count": 14,
     "metadata": {},
     "output_type": "execute_result"
    }
   ],
   "source": [
    "subscriptions.duplicated().sum()"
   ]
  },
  {
   "cell_type": "markdown",
   "id": "76ce1729",
   "metadata": {},
   "source": [
    "В таблицах rides и subscriptions дубликатов также нет."
   ]
  },
  {
   "cell_type": "markdown",
   "id": "a2f664cf",
   "metadata": {},
   "source": [
    "Проверим поле users['city'] на неявные дубликаты."
   ]
  },
  {
   "cell_type": "code",
   "execution_count": 15,
   "id": "c4961054",
   "metadata": {},
   "outputs": [
    {
     "data": {
      "text/plain": [
       "array(['Тюмень', 'Омск', 'Москва', 'Ростов-на-Дону', 'Краснодар',\n",
       "       'Пятигорск', 'Екатеринбург', 'Сочи'], dtype=object)"
      ]
     },
     "execution_count": 15,
     "metadata": {},
     "output_type": "execute_result"
    }
   ],
   "source": [
    "users['city'].unique()"
   ]
  },
  {
   "cell_type": "markdown",
   "id": "59d39759",
   "metadata": {},
   "source": [
    "Неявных дубликатов нет."
   ]
  },
  {
   "cell_type": "markdown",
   "id": "a19ad1fa",
   "metadata": {},
   "source": [
    "Проверим дополнительно, что в таблице rides нет ссылок на несуществующие в таблице users[user_id]"
   ]
  },
  {
   "cell_type": "code",
   "execution_count": 16,
   "id": "eeac1b65",
   "metadata": {
    "scrolled": true
   },
   "outputs": [
    {
     "data": {
      "text/html": [
       "<div>\n",
       "<style scoped>\n",
       "    .dataframe tbody tr th:only-of-type {\n",
       "        vertical-align: middle;\n",
       "    }\n",
       "\n",
       "    .dataframe tbody tr th {\n",
       "        vertical-align: top;\n",
       "    }\n",
       "\n",
       "    .dataframe thead th {\n",
       "        text-align: right;\n",
       "    }\n",
       "</style>\n",
       "<table border=\"1\" class=\"dataframe\">\n",
       "  <thead>\n",
       "    <tr style=\"text-align: right;\">\n",
       "      <th></th>\n",
       "      <th>user_id</th>\n",
       "      <th>distance</th>\n",
       "      <th>duration</th>\n",
       "      <th>date</th>\n",
       "      <th>ride_month</th>\n",
       "      <th>ride_month_year</th>\n",
       "    </tr>\n",
       "  </thead>\n",
       "  <tbody>\n",
       "  </tbody>\n",
       "</table>\n",
       "</div>"
      ],
      "text/plain": [
       "Empty DataFrame\n",
       "Columns: [user_id, distance, duration, date, ride_month, ride_month_year]\n",
       "Index: []"
      ]
     },
     "execution_count": 16,
     "metadata": {},
     "output_type": "execute_result"
    }
   ],
   "source": [
    "u_list=users['user_id'].unique()\n",
    "rides.query('user_id not in @u_list')"
   ]
  },
  {
   "cell_type": "markdown",
   "id": "c8942867",
   "metadata": {},
   "source": [
    "Таких случаев нет, можно переходить к исследовательскому анализу."
   ]
  },
  {
   "cell_type": "markdown",
   "id": "2fc25a2e",
   "metadata": {},
   "source": [
    "<div class=\"alert alert-success\">\n",
    "<h2> Комментарий ревьюера v1 <a class=\"tocSkip\"> </h2>\n",
    "\n",
    "<b>Все супер!👍:</b>Дубликаты нашли и удалили!\n",
    "    "
   ]
  },
  {
   "cell_type": "markdown",
   "id": "bd27bfa7",
   "metadata": {},
   "source": [
    "<div class=\"alert alert-block alert-danger\">\n",
    "<h2> Комментарий ревьюера v1 <a class=\"tocSkip\"></h2>\n",
    "\n",
    "<b>На доработку🤔:</b>  Давай сделаем небольшой вывод по обзору данных? "
   ]
  },
  {
   "cell_type": "markdown",
   "id": "1c885e1a",
   "metadata": {},
   "source": [
    "Таким образом, на этапе преобработки данных были выявлены и решены следующие проблемы:\n",
    "- столбец rides['date'] был типа objeсt, хотя содержал дату поездки. Преобразован в тип datetime\n",
    "- для дальнейшего помесячного анализа пользователей с подпиской и без не хватало данных о годе и месяце поездки. На основе столбца rides['date'] были рассчитаны недостающие  столбцы rides['ride_month'] и rides['ride_year']\n",
    "- в таблице users были обнаружены и удалены полные дубликаты строк (31 строка)\n",
    "- пропуски в столбцах всех трех таблиц не обнаружены"
   ]
  },
  {
   "cell_type": "markdown",
   "id": "4f061b2b",
   "metadata": {},
   "source": [
    "<div class=\"alert alert-info\">\n",
    "<b>Done 👍</b> \n",
    "</div>"
   ]
  },
  {
   "cell_type": "markdown",
   "id": "701686a8",
   "metadata": {},
   "source": [
    "<div class=\"alert alert-success\">\n",
    "<h2> Комментарий ревьюера v2 <a class=\"tocSkip\"> </h2>\n",
    "\n",
    "<b>Все супер!👍:</b> Хорошечно"
   ]
  },
  {
   "cell_type": "markdown",
   "id": "26808b95",
   "metadata": {},
   "source": [
    "#### Шаг 3. Исследовательский анализ данных\n",
    "<a id='ref2'></a>"
   ]
  },
  {
   "cell_type": "markdown",
   "id": "dfd7da46",
   "metadata": {},
   "source": [
    "**3.1 Проанализируем частоту встречаемости городов.** <a id='ref3.1'></a>"
   ]
  },
  {
   "cell_type": "code",
   "execution_count": 17,
   "id": "0bbc6e45",
   "metadata": {},
   "outputs": [
    {
     "data": {
      "image/png": "[encoded data removed]",
      "text/plain": [
       "<Figure size 432x288 with 1 Axes>"
      ]
     },
     "metadata": {
      "needs_background": "light"
     },
     "output_type": "display_data"
    }
   ],
   "source": [
    "city_count = users.groupby(by='city').count().sort_values(by='user_id',ascending=False)\n",
    "city_barplot = sns.barplot(data=city_count, x=city_count['user_id'], y = city_count.index, orient='h' )\n",
    "city_barplot.set(xlabel='Количество пользователей в городе',\n",
    " ylabel='Город',\n",
    " title='График распределения пользователей по городам.')\n",
    "plt.show()"
   ]
  },
  {
   "cell_type": "markdown",
   "id": "d52d693b",
   "metadata": {},
   "source": [
    "Видим, что число пользователей больше всего в Пятигорске, а меньше всего - в Москве (возможно, там популярны другие сервисы). \n",
    "<br>Однако важно помнить, что диаграмма показывает только количество зарегистрированных пользователей, но не активность использования ими самокатов.\n"
   ]
  },
  {
   "cell_type": "code",
   "execution_count": 18,
   "id": "c0f32670",
   "metadata": {},
   "outputs": [
    {
     "data": {
      "text/html": [
       "<style  type=\"text/css\" >\n",
       "#T_ceb8f_row0_col0,#T_ceb8f_row0_col1,#T_ceb8f_row0_col2{\n",
       "            background-color:  #08306b;\n",
       "            color:  #f1f1f1;\n",
       "        }#T_ceb8f_row1_col0{\n",
       "            background-color:  #4090c5;\n",
       "            color:  #000000;\n",
       "        }#T_ceb8f_row1_col1{\n",
       "            background-color:  #4493c7;\n",
       "            color:  #000000;\n",
       "        }#T_ceb8f_row1_col2{\n",
       "            background-color:  #3585bf;\n",
       "            color:  #000000;\n",
       "        }#T_ceb8f_row2_col0{\n",
       "            background-color:  #58a1cf;\n",
       "            color:  #000000;\n",
       "        }#T_ceb8f_row2_col1{\n",
       "            background-color:  #56a0ce;\n",
       "            color:  #000000;\n",
       "        }#T_ceb8f_row2_col2{\n",
       "            background-color:  #4997c9;\n",
       "            color:  #000000;\n",
       "        }#T_ceb8f_row3_col0{\n",
       "            background-color:  #82bbdb;\n",
       "            color:  #000000;\n",
       "        }#T_ceb8f_row3_col1{\n",
       "            background-color:  #89bedc;\n",
       "            color:  #000000;\n",
       "        }#T_ceb8f_row3_col2{\n",
       "            background-color:  #8dc1dd;\n",
       "            color:  #000000;\n",
       "        }#T_ceb8f_row4_col0{\n",
       "            background-color:  #a0cbe2;\n",
       "            color:  #000000;\n",
       "        }#T_ceb8f_row4_col1{\n",
       "            background-color:  #a6cee4;\n",
       "            color:  #000000;\n",
       "        }#T_ceb8f_row4_col2{\n",
       "            background-color:  #77b5d9;\n",
       "            color:  #000000;\n",
       "        }#T_ceb8f_row5_col0{\n",
       "            background-color:  #c3daee;\n",
       "            color:  #000000;\n",
       "        }#T_ceb8f_row5_col1{\n",
       "            background-color:  #d0e2f2;\n",
       "            color:  #000000;\n",
       "        }#T_ceb8f_row5_col2{\n",
       "            background-color:  #ccdff1;\n",
       "            color:  #000000;\n",
       "        }#T_ceb8f_row6_col0{\n",
       "            background-color:  #c8dcf0;\n",
       "            color:  #000000;\n",
       "        }#T_ceb8f_row6_col1{\n",
       "            background-color:  #cfe1f2;\n",
       "            color:  #000000;\n",
       "        }#T_ceb8f_row6_col2{\n",
       "            background-color:  #e8f1fa;\n",
       "            color:  #000000;\n",
       "        }#T_ceb8f_row7_col0,#T_ceb8f_row7_col1,#T_ceb8f_row7_col2{\n",
       "            background-color:  #f7fbff;\n",
       "            color:  #000000;\n",
       "        }</style><table id=\"T_ceb8f_\" ><thead>    <tr>        <th class=\"blank level0\" ></th>        <th class=\"col_heading level0 col0\" >Пользователей</th>        <th class=\"col_heading level0 col1\" >Суммарное расстояние</th>        <th class=\"col_heading level0 col2\" >Суммарное время</th>    </tr>    <tr>        <th class=\"index_name level0\" >city</th>        <th class=\"blank\" ></th>        <th class=\"blank\" ></th>        <th class=\"blank\" ></th>    </tr></thead><tbody>\n",
       "                <tr>\n",
       "                        <th id=\"T_ceb8f_level0_row0\" class=\"row_heading level0 row0\" >Пятигорск</th>\n",
       "                        <td id=\"T_ceb8f_row0_col0\" class=\"data row0 col0\" >226</td>\n",
       "                        <td id=\"T_ceb8f_row0_col1\" class=\"data row0 col1\" >706286.593578</td>\n",
       "                        <td id=\"T_ceb8f_row0_col2\" class=\"data row0 col2\" >4222.965999</td>\n",
       "            </tr>\n",
       "            <tr>\n",
       "                        <th id=\"T_ceb8f_level0_row1\" class=\"row_heading level0 row1\" >Екатеринбург</th>\n",
       "                        <td id=\"T_ceb8f_row1_col0\" class=\"data row1 col0\" >206</td>\n",
       "                        <td id=\"T_ceb8f_row1_col1\" class=\"data row1 col1\" >642521.288587</td>\n",
       "                        <td id=\"T_ceb8f_row1_col2\" class=\"data row1 col2\" >3872.437717</td>\n",
       "            </tr>\n",
       "            <tr>\n",
       "                        <th id=\"T_ceb8f_level0_row2\" class=\"row_heading level0 row2\" >Ростов-на-Дону</th>\n",
       "                        <td id=\"T_ceb8f_row2_col0\" class=\"data row2 col0\" >202</td>\n",
       "                        <td id=\"T_ceb8f_row2_col1\" class=\"data row2 col1\" >633373.286553</td>\n",
       "                        <td id=\"T_ceb8f_row2_col2\" class=\"data row2 col2\" >3798.613965</td>\n",
       "            </tr>\n",
       "            <tr>\n",
       "                        <th id=\"T_ceb8f_level0_row3\" class=\"row_heading level0 row3\" >Краснодар</th>\n",
       "                        <td id=\"T_ceb8f_row3_col0\" class=\"data row3 col0\" >196</td>\n",
       "                        <td id=\"T_ceb8f_row3_col1\" class=\"data row3 col1\" >610472.745358</td>\n",
       "                        <td id=\"T_ceb8f_row3_col2\" class=\"data row3 col2\" >3600.137781</td>\n",
       "            </tr>\n",
       "            <tr>\n",
       "                        <th id=\"T_ceb8f_level0_row4\" class=\"row_heading level0 row4\" >Сочи</th>\n",
       "                        <td id=\"T_ceb8f_row4_col0\" class=\"data row4 col0\" >192</td>\n",
       "                        <td id=\"T_ceb8f_row4_col1\" class=\"data row4 col1\" >597833.009783</td>\n",
       "                        <td id=\"T_ceb8f_row4_col2\" class=\"data row4 col2\" >3655.929538</td>\n",
       "            </tr>\n",
       "            <tr>\n",
       "                        <th id=\"T_ceb8f_level0_row5\" class=\"row_heading level0 row5\" >Омск</th>\n",
       "                        <td id=\"T_ceb8f_row5_col0\" class=\"data row5 col0\" >186</td>\n",
       "                        <td id=\"T_ceb8f_row5_col1\" class=\"data row5 col1\" >572188.923165</td>\n",
       "                        <td id=\"T_ceb8f_row5_col2\" class=\"data row5 col2\" >3392.399366</td>\n",
       "            </tr>\n",
       "            <tr>\n",
       "                        <th id=\"T_ceb8f_level0_row6\" class=\"row_heading level0 row6\" >Тюмень</th>\n",
       "                        <td id=\"T_ceb8f_row6_col0\" class=\"data row6 col0\" >185</td>\n",
       "                        <td id=\"T_ceb8f_row6_col1\" class=\"data row6 col1\" >573047.723181</td>\n",
       "                        <td id=\"T_ceb8f_row6_col2\" class=\"data row6 col2\" >3236.930120</td>\n",
       "            </tr>\n",
       "            <tr>\n",
       "                        <th id=\"T_ceb8f_level0_row7\" class=\"row_heading level0 row7\" >Москва</th>\n",
       "                        <td id=\"T_ceb8f_row7_col0\" class=\"data row7 col0\" >172</td>\n",
       "                        <td id=\"T_ceb8f_row7_col1\" class=\"data row7 col1\" >539035.010165</td>\n",
       "                        <td id=\"T_ceb8f_row7_col2\" class=\"data row7 col2\" >3154.664520</td>\n",
       "            </tr>\n",
       "    </tbody></table>"
      ],
      "text/plain": [
       "<pandas.io.formats.style.Styler at 0x7f2d663cfe80>"
      ]
     },
     "metadata": {},
     "output_type": "display_data"
    }
   ],
   "source": [
    "user_rides = users.join(rides, on='user_id', how='inner', rsuffix='_y')[['city','user_id','distance','duration']]\n",
    "user_rides = user_rides.groupby(by=['city']).agg({'user_id':['count'],'distance':['sum'],'duration':['sum']})#\n",
    "user_rides.columns = ['Пользователей','Суммарное расстояние','Суммарное время']\n",
    "user_rides = user_rides.sort_values(by=['Пользователей'],ascending=False)\n",
    "display(user_rides.style.background_gradient(cmap='Blues', axis=0))\n"
   ]
  },
  {
   "cell_type": "markdown",
   "id": "4ba6e68d",
   "metadata": {},
   "source": [
    "По таблице видим, что все-таки в Пятигорске не только больше всего пользователей, но и проезжаемое ими расстояние (и затраченное время) тоже самое высокое среди всех городов. "
   ]
  },
  {
   "cell_type": "markdown",
   "id": "e4b5ddd2",
   "metadata": {},
   "source": [
    "<div class=\"alert alert-success\">\n",
    "<h2> Комментарий ревьюера v1 <a class=\"tocSkip\"> </h2>\n",
    "\n",
    "<b>Все супер!👍:</b> График рассмотрен верно. Вывод хорош!"
   ]
  },
  {
   "cell_type": "markdown",
   "id": "d68b59d0",
   "metadata": {},
   "source": [
    "**3.2 Проанализируем соотношение пользователей с подпиской и без подписки.** <a id='ref3.2'></a>"
   ]
  },
  {
   "cell_type": "code",
   "execution_count": 19,
   "id": "3eb67e57",
   "metadata": {},
   "outputs": [
    {
     "data": {
      "image/png": "[encoded data removed]",
      "text/plain": [
       "<Figure size 432x288 with 1 Axes>"
      ]
     },
     "metadata": {},
     "output_type": "display_data"
    }
   ],
   "source": [
    "subscr_count = users.groupby(by='subscription_type').count().sort_values(by='user_id',ascending=False)\n",
    "#subscr_count\n",
    "#subscr_barplot = sns.barplot(data=subscr_count, x=subscr_count['user_id'], y = subscr_count.index, orient='h' )\n",
    "# subscr_barplot.set(xlabel='Количество пользователей в категории',\n",
    "#  ylabel='Тип подписки',\n",
    "#  title='График распределения пользователей по типам подписки.')\n",
    "labels = subscr_count.index\n",
    "plt.pie(data=subscr_count, labels=labels, x=subscr_count['user_id'], autopct='%.0f%%')\n",
    "plt.title('График распределения пользователей по типу подписки')\n",
    "plt.show()"
   ]
  },
  {
   "cell_type": "markdown",
   "id": "98dbbd52",
   "metadata": {},
   "source": [
    "Видим, что количество пользователей с платной подпиской немного меньше, чем пользователей с бесплатной подпиской."
   ]
  },
  {
   "cell_type": "markdown",
   "id": "bdce1173",
   "metadata": {},
   "source": [
    "<div class=\"alert alert-block alert-danger\">\n",
    "<h2> Комментарий ревьюера v1 <a class=\"tocSkip\"></h2>\n",
    "\n",
    "<b>На доработку🤔:</b>  Тут лучше выбрать круговую диаграмму и посчитать соотношение категорий пользователей в процентах или долях от целого)"
   ]
  },
  {
   "cell_type": "markdown",
   "id": "0e12395b",
   "metadata": {},
   "source": [
    "<div class=\"alert alert-info\">\n",
    "<b>Done 👍</b> \n",
    "</div>"
   ]
  },
  {
   "cell_type": "markdown",
   "id": "3123f433",
   "metadata": {},
   "source": [
    "<div class=\"alert alert-success\">\n",
    "<h2> Комментарий ревьюера v2 <a class=\"tocSkip\"> </h2>\n",
    "\n",
    "<b>Все супер!👍:</b> Так-то лучше!"
   ]
  },
  {
   "cell_type": "markdown",
   "id": "4a5d1bec",
   "metadata": {},
   "source": [
    "**3.3 Проанализируем возраст пользователей.** <a id='ref3.3'></a>"
   ]
  },
  {
   "cell_type": "markdown",
   "id": "ee207670",
   "metadata": {},
   "source": [
    "Рассмотрим, какие данные по возрасту есть в таблице Users:"
   ]
  },
  {
   "cell_type": "code",
   "execution_count": 20,
   "id": "2c364332",
   "metadata": {},
   "outputs": [
    {
     "data": {
      "text/plain": [
       "array([12, 13, 14, 15, 16, 17, 18, 19, 20, 21, 22, 23, 24, 25, 26, 27, 28,\n",
       "       29, 30, 31, 32, 33, 34, 35, 36, 37, 38, 39, 43])"
      ]
     },
     "execution_count": 20,
     "metadata": {},
     "output_type": "execute_result"
    }
   ],
   "source": [
    "users['age'].sort_values().unique()"
   ]
  },
  {
   "cell_type": "code",
   "execution_count": 21,
   "id": "978b2f70",
   "metadata": {},
   "outputs": [
    {
     "data": {
      "image/png": "[encoded data removed]",
      "text/plain": [
       "<Figure size 432x288 with 1 Axes>"
      ]
     },
     "metadata": {
      "needs_background": "light"
     },
     "output_type": "display_data"
    }
   ],
   "source": [
    "users['age'].hist(bins=30).set(xlabel='Возраст пользователей',\n",
    " ylabel='Количество пользователей',\n",
    " title='График распределения пользователей по возрастам.')\n",
    "plt.show()"
   ]
  },
  {
   "cell_type": "code",
   "execution_count": 22,
   "id": "a3837429",
   "metadata": {},
   "outputs": [
    {
     "data": {
      "text/plain": [
       "count    1565.000000\n",
       "mean       24.922045\n",
       "std         4.553496\n",
       "min        12.000000\n",
       "25%        22.000000\n",
       "50%        25.000000\n",
       "75%        28.000000\n",
       "max        43.000000\n",
       "Name: age, dtype: float64"
      ]
     },
     "execution_count": 22,
     "metadata": {},
     "output_type": "execute_result"
    }
   ],
   "source": [
    "users['age'].describe()"
   ]
  },
  {
   "cell_type": "markdown",
   "id": "2d401a5b",
   "metadata": {},
   "source": [
    "По гистограмме видно, что наибольшее количество пользователей приходится на возраст примерно 25 лет, именно в этом возрасте пользователи проявляют наибольший интерес (регистрируются на сервисе).\n",
    "<br>При этом распределение практически симметричное, то есть повышение интереса к самокатам с возраста 12 до 25лет происходит также, как и снижение интереса в последующие 15лет (с 25 до 40лет).\n",
    "<br>По описательной статистике видим, что медиана составляет 24года (что мы наблюдали на графике). При этом, квартили 25% и 75% равны 22 и 28годам соответственно. То есть, половина пользователей сервиса приходится именно на этот возраст.\n",
    "<br> Возраст самого молодого пользователя сервиса - 12лет.\n",
    "<br> Возраст самого старшего пользователя сервиса - 43 года."
   ]
  },
  {
   "cell_type": "markdown",
   "id": "25e4583a",
   "metadata": {},
   "source": [
    "**3.4 Проанализируем расстояние, которое пользователь преодолел за одну поездку.** <a id='ref3.4'></a>"
   ]
  },
  {
   "cell_type": "code",
   "execution_count": 23,
   "id": "dfa76099",
   "metadata": {},
   "outputs": [
    {
     "data": {
      "image/png": "[encoded data removed]",
      "text/plain": [
       "<Figure size 432x288 with 1 Axes>"
      ]
     },
     "metadata": {
      "needs_background": "light"
     },
     "output_type": "display_data"
    }
   ],
   "source": [
    "rides['distance'].hist(bins=50).set(xlabel='Расстояние одной поездки',\n",
    " ylabel='Количество поездок',\n",
    " title='График распределения расстояний на одну поездку.')\n",
    "plt.show()"
   ]
  },
  {
   "cell_type": "code",
   "execution_count": 24,
   "id": "c94bf4ed",
   "metadata": {},
   "outputs": [
    {
     "data": {
      "text/plain": [
       "count    18068.000000\n",
       "mean      3070.659976\n",
       "std       1116.831209\n",
       "min          0.855683\n",
       "25%       2543.226360\n",
       "50%       3133.609994\n",
       "75%       3776.222735\n",
       "max       7211.007745\n",
       "Name: distance, dtype: float64"
      ]
     },
     "execution_count": 24,
     "metadata": {},
     "output_type": "execute_result"
    }
   ],
   "source": [
    "rides['distance'].describe()"
   ]
  },
  {
   "cell_type": "markdown",
   "id": "da00d10b",
   "metadata": {},
   "source": [
    "Видим, что наиболее часто пользователи преодолевают за одну поездку около 3 км. \n",
    "<br>Также интересно, что есть и второй небольшой пик - около 600м, при этом поездки около 1,5км случаются редко.\n",
    "<br>Возможно, пользователи, проезжающие в среднем 600м используют самокат чтобы побыстрее добраться до необходимой точки (до или от метро например), в то время как поездки длиной 3км являются развлекательными.\n",
    "<br>По описательной статистике видим, что медиана составляет 3070м (что мы наблюдали на графике - пик в районе 3км.).\n",
    "<br>Также видим, что половина всех поездок приходится на интервал 2,5-3,8км.\n",
    "<br>Самая короткая зарегистрированная поездка - менее 1м, пользователь скорее всего просто разбирался как пользоваться сервисом.\n",
    "<br>Самая длинна зарегистрированная поездка - менее 7,2км. Похоже, пользователю понравилось кататься :)"
   ]
  },
  {
   "cell_type": "markdown",
   "id": "52b240b7",
   "metadata": {},
   "source": [
    "**3.5 Проанализируем продолжительность поездок.** <a id='ref3.5'></a>"
   ]
  },
  {
   "cell_type": "code",
   "execution_count": 25,
   "id": "dfe02758",
   "metadata": {},
   "outputs": [
    {
     "data": {
      "image/png": "[encoded data removed]",
      "text/plain": [
       "<Figure size 432x288 with 1 Axes>"
      ]
     },
     "metadata": {
      "needs_background": "light"
     },
     "output_type": "display_data"
    }
   ],
   "source": [
    "rides['duration'].hist(bins=50).set(xlabel='Проолжительность одной поездки',\n",
    " ylabel='Количество поездок',\n",
    " title='График распределения длительности поездок.')\n",
    "plt.show()"
   ]
  },
  {
   "cell_type": "code",
   "execution_count": 26,
   "id": "2cd33701",
   "metadata": {},
   "outputs": [
    {
     "data": {
      "text/plain": [
       "count    18068.000000\n",
       "mean        17.805011\n",
       "std          6.091051\n",
       "min          0.500000\n",
       "25%         13.597563\n",
       "50%         17.678395\n",
       "75%         21.724800\n",
       "max         40.823963\n",
       "Name: duration, dtype: float64"
      ]
     },
     "execution_count": 26,
     "metadata": {},
     "output_type": "execute_result"
    }
   ],
   "source": [
    "rides['duration'].describe()"
   ]
  },
  {
   "cell_type": "markdown",
   "id": "7e3e02b8",
   "metadata": {},
   "source": [
    "Видим, что чаще всего пользователи совершают поездки длиной 15-20 минут. \n",
    "<br>Интересно, что распределение отличается от распределения расстояний поездок - здесь не видно малого пика с левой стороны. Получается, что длительность поездки и расстояние не всегда связаны напрямую. Кто-то забирает самокат быстро и уверенно едет до необходимой точки, кто-то только пробует и затрачивает больше времени. Соответственно, скорость и время у всех разная, поэтому графики не повторяют друг друга.\n",
    "<br>Однако виден небольшой пик в районе длительности 1-2мин - это скорее всего, попытки новых пользователей разобраться с процессом взятия самоката, либо ошибочно взятые самокаты, когда пользователь передумал.\n",
    "<br>По описательной статистике видим, что медиана составляет 17мин - это наиболее среднее время использования самоката.\n",
    "<br>Половина всех поездок приходится на 13-22мин.\n",
    "<br>Самая короткая поездка - полминуты, как и в случае с расстоянием, пользователь скорее всего просто изучал сервис.\n",
    "<br> Самая длинная поездка - 40мин. Возможно, это тот самый пользователь, который проехал 7км."
   ]
  },
  {
   "cell_type": "markdown",
   "id": "8026f076",
   "metadata": {},
   "source": [
    "<div class=\"alert alert-warning\">\n",
    "    <h2> Комментарий ревьюера v1 <a class=\"tocSkip\"> </h2>\n",
    "    \n",
    "<b>Небольшие замечания и рекомендации💡:</b> Все хорошо, но модно выводы сделать более подробными, если подкрепить их статистикой, рассмотрев метод describe()"
   ]
  },
  {
   "cell_type": "markdown",
   "id": "eb8b5b9d",
   "metadata": {},
   "source": [
    "<div class=\"alert alert-info\">\n",
    "<b>Done 👍</b> \n",
    "</div>"
   ]
  },
  {
   "cell_type": "markdown",
   "id": "a3033d6d",
   "metadata": {},
   "source": [
    "<div class=\"alert alert-success\">\n",
    "<h2> Комментарий ревьюера v2 <a class=\"tocSkip\"> </h2>\n",
    "\n",
    "<b>Все супер!👍:</b> Теперь идеально!"
   ]
  },
  {
   "cell_type": "markdown",
   "id": "4ef51331",
   "metadata": {},
   "source": [
    "#### Шаг 4. Объединение данных\n",
    "<a id='ref4'></a>"
   ]
  },
  {
   "cell_type": "markdown",
   "id": "066866dc",
   "metadata": {},
   "source": [
    "**4.1 Объединим данные о пользователях, поездках и подписках.** <a id='ref4.1'></a>  "
   ]
  },
  {
   "cell_type": "markdown",
   "id": "521d85da",
   "metadata": {},
   "source": [
    "Объединим данные о пользователях, поездках и подписках в один датафрейм. Для этого воспользуемся методом merge().\n",
    "Чтобы захватить всех пользователей, используем параметр how='outer'."
   ]
  },
  {
   "cell_type": "code",
   "execution_count": 27,
   "id": "ced56941",
   "metadata": {
    "scrolled": true
   },
   "outputs": [
    {
     "data": {
      "text/html": [
       "<div>\n",
       "<style scoped>\n",
       "    .dataframe tbody tr th:only-of-type {\n",
       "        vertical-align: middle;\n",
       "    }\n",
       "\n",
       "    .dataframe tbody tr th {\n",
       "        vertical-align: top;\n",
       "    }\n",
       "\n",
       "    .dataframe thead th {\n",
       "        text-align: right;\n",
       "    }\n",
       "</style>\n",
       "<table border=\"1\" class=\"dataframe\">\n",
       "  <thead>\n",
       "    <tr style=\"text-align: right;\">\n",
       "      <th></th>\n",
       "      <th>user_id</th>\n",
       "      <th>name</th>\n",
       "      <th>age</th>\n",
       "      <th>city</th>\n",
       "      <th>subscription_type</th>\n",
       "      <th>distance</th>\n",
       "      <th>duration</th>\n",
       "      <th>date</th>\n",
       "      <th>ride_month</th>\n",
       "      <th>ride_month_year</th>\n",
       "      <th>minute_price</th>\n",
       "      <th>start_ride_price</th>\n",
       "      <th>subscription_fee</th>\n",
       "    </tr>\n",
       "  </thead>\n",
       "  <tbody>\n",
       "    <tr>\n",
       "      <th>0</th>\n",
       "      <td>1</td>\n",
       "      <td>Кира</td>\n",
       "      <td>22</td>\n",
       "      <td>Тюмень</td>\n",
       "      <td>ultra</td>\n",
       "      <td>4409.919140</td>\n",
       "      <td>25.599769</td>\n",
       "      <td>2021-01-01</td>\n",
       "      <td>1</td>\n",
       "      <td>2021-01</td>\n",
       "      <td>6</td>\n",
       "      <td>0</td>\n",
       "      <td>199</td>\n",
       "    </tr>\n",
       "    <tr>\n",
       "      <th>1</th>\n",
       "      <td>1</td>\n",
       "      <td>Кира</td>\n",
       "      <td>22</td>\n",
       "      <td>Тюмень</td>\n",
       "      <td>ultra</td>\n",
       "      <td>2617.592153</td>\n",
       "      <td>15.816871</td>\n",
       "      <td>2021-01-18</td>\n",
       "      <td>1</td>\n",
       "      <td>2021-01</td>\n",
       "      <td>6</td>\n",
       "      <td>0</td>\n",
       "      <td>199</td>\n",
       "    </tr>\n",
       "    <tr>\n",
       "      <th>2</th>\n",
       "      <td>1</td>\n",
       "      <td>Кира</td>\n",
       "      <td>22</td>\n",
       "      <td>Тюмень</td>\n",
       "      <td>ultra</td>\n",
       "      <td>754.159807</td>\n",
       "      <td>6.232113</td>\n",
       "      <td>2021-04-20</td>\n",
       "      <td>4</td>\n",
       "      <td>2021-04</td>\n",
       "      <td>6</td>\n",
       "      <td>0</td>\n",
       "      <td>199</td>\n",
       "    </tr>\n",
       "    <tr>\n",
       "      <th>3</th>\n",
       "      <td>1</td>\n",
       "      <td>Кира</td>\n",
       "      <td>22</td>\n",
       "      <td>Тюмень</td>\n",
       "      <td>ultra</td>\n",
       "      <td>2694.783254</td>\n",
       "      <td>18.511000</td>\n",
       "      <td>2021-08-11</td>\n",
       "      <td>8</td>\n",
       "      <td>2021-08</td>\n",
       "      <td>6</td>\n",
       "      <td>0</td>\n",
       "      <td>199</td>\n",
       "    </tr>\n",
       "    <tr>\n",
       "      <th>4</th>\n",
       "      <td>1</td>\n",
       "      <td>Кира</td>\n",
       "      <td>22</td>\n",
       "      <td>Тюмень</td>\n",
       "      <td>ultra</td>\n",
       "      <td>4028.687306</td>\n",
       "      <td>26.265803</td>\n",
       "      <td>2021-08-28</td>\n",
       "      <td>8</td>\n",
       "      <td>2021-08</td>\n",
       "      <td>6</td>\n",
       "      <td>0</td>\n",
       "      <td>199</td>\n",
       "    </tr>\n",
       "    <tr>\n",
       "      <th>...</th>\n",
       "      <td>...</td>\n",
       "      <td>...</td>\n",
       "      <td>...</td>\n",
       "      <td>...</td>\n",
       "      <td>...</td>\n",
       "      <td>...</td>\n",
       "      <td>...</td>\n",
       "      <td>...</td>\n",
       "      <td>...</td>\n",
       "      <td>...</td>\n",
       "      <td>...</td>\n",
       "      <td>...</td>\n",
       "      <td>...</td>\n",
       "    </tr>\n",
       "    <tr>\n",
       "      <th>18383</th>\n",
       "      <td>1534</td>\n",
       "      <td>Альберт</td>\n",
       "      <td>25</td>\n",
       "      <td>Краснодар</td>\n",
       "      <td>free</td>\n",
       "      <td>3781.098080</td>\n",
       "      <td>19.822962</td>\n",
       "      <td>2021-11-04</td>\n",
       "      <td>11</td>\n",
       "      <td>2021-11</td>\n",
       "      <td>8</td>\n",
       "      <td>50</td>\n",
       "      <td>0</td>\n",
       "    </tr>\n",
       "    <tr>\n",
       "      <th>18384</th>\n",
       "      <td>1534</td>\n",
       "      <td>Альберт</td>\n",
       "      <td>25</td>\n",
       "      <td>Краснодар</td>\n",
       "      <td>free</td>\n",
       "      <td>2840.423057</td>\n",
       "      <td>21.409799</td>\n",
       "      <td>2021-11-16</td>\n",
       "      <td>11</td>\n",
       "      <td>2021-11</td>\n",
       "      <td>8</td>\n",
       "      <td>50</td>\n",
       "      <td>0</td>\n",
       "    </tr>\n",
       "    <tr>\n",
       "      <th>18385</th>\n",
       "      <td>1534</td>\n",
       "      <td>Альберт</td>\n",
       "      <td>25</td>\n",
       "      <td>Краснодар</td>\n",
       "      <td>free</td>\n",
       "      <td>3826.185507</td>\n",
       "      <td>18.435051</td>\n",
       "      <td>2021-11-18</td>\n",
       "      <td>11</td>\n",
       "      <td>2021-11</td>\n",
       "      <td>8</td>\n",
       "      <td>50</td>\n",
       "      <td>0</td>\n",
       "    </tr>\n",
       "    <tr>\n",
       "      <th>18386</th>\n",
       "      <td>1534</td>\n",
       "      <td>Альберт</td>\n",
       "      <td>25</td>\n",
       "      <td>Краснодар</td>\n",
       "      <td>free</td>\n",
       "      <td>2902.308661</td>\n",
       "      <td>16.674362</td>\n",
       "      <td>2021-11-27</td>\n",
       "      <td>11</td>\n",
       "      <td>2021-11</td>\n",
       "      <td>8</td>\n",
       "      <td>50</td>\n",
       "      <td>0</td>\n",
       "    </tr>\n",
       "    <tr>\n",
       "      <th>18387</th>\n",
       "      <td>1534</td>\n",
       "      <td>Альберт</td>\n",
       "      <td>25</td>\n",
       "      <td>Краснодар</td>\n",
       "      <td>free</td>\n",
       "      <td>2371.711192</td>\n",
       "      <td>15.893917</td>\n",
       "      <td>2021-12-29</td>\n",
       "      <td>12</td>\n",
       "      <td>2021-12</td>\n",
       "      <td>8</td>\n",
       "      <td>50</td>\n",
       "      <td>0</td>\n",
       "    </tr>\n",
       "  </tbody>\n",
       "</table>\n",
       "<p>18388 rows × 13 columns</p>\n",
       "</div>"
      ],
      "text/plain": [
       "       user_id     name  age       city subscription_type     distance  \\\n",
       "0            1     Кира   22     Тюмень             ultra  4409.919140   \n",
       "1            1     Кира   22     Тюмень             ultra  2617.592153   \n",
       "2            1     Кира   22     Тюмень             ultra   754.159807   \n",
       "3            1     Кира   22     Тюмень             ultra  2694.783254   \n",
       "4            1     Кира   22     Тюмень             ultra  4028.687306   \n",
       "...        ...      ...  ...        ...               ...          ...   \n",
       "18383     1534  Альберт   25  Краснодар              free  3781.098080   \n",
       "18384     1534  Альберт   25  Краснодар              free  2840.423057   \n",
       "18385     1534  Альберт   25  Краснодар              free  3826.185507   \n",
       "18386     1534  Альберт   25  Краснодар              free  2902.308661   \n",
       "18387     1534  Альберт   25  Краснодар              free  2371.711192   \n",
       "\n",
       "        duration       date  ride_month ride_month_year  minute_price  \\\n",
       "0      25.599769 2021-01-01           1         2021-01             6   \n",
       "1      15.816871 2021-01-18           1         2021-01             6   \n",
       "2       6.232113 2021-04-20           4         2021-04             6   \n",
       "3      18.511000 2021-08-11           8         2021-08             6   \n",
       "4      26.265803 2021-08-28           8         2021-08             6   \n",
       "...          ...        ...         ...             ...           ...   \n",
       "18383  19.822962 2021-11-04          11         2021-11             8   \n",
       "18384  21.409799 2021-11-16          11         2021-11             8   \n",
       "18385  18.435051 2021-11-18          11         2021-11             8   \n",
       "18386  16.674362 2021-11-27          11         2021-11             8   \n",
       "18387  15.893917 2021-12-29          12         2021-12             8   \n",
       "\n",
       "       start_ride_price  subscription_fee  \n",
       "0                     0               199  \n",
       "1                     0               199  \n",
       "2                     0               199  \n",
       "3                     0               199  \n",
       "4                     0               199  \n",
       "...                 ...               ...  \n",
       "18383                50                 0  \n",
       "18384                50                 0  \n",
       "18385                50                 0  \n",
       "18386                50                 0  \n",
       "18387                50                 0  \n",
       "\n",
       "[18388 rows x 13 columns]"
      ]
     },
     "execution_count": 27,
     "metadata": {},
     "output_type": "execute_result"
    }
   ],
   "source": [
    "maindf = users.merge(rides, on='user_id',how='outer').merge(subscriptions, on='subscription_type',how='left') \n",
    "maindf"
   ]
  },
  {
   "cell_type": "markdown",
   "id": "f3fd85e4",
   "metadata": {},
   "source": [
    "<div class=\"alert alert-success\">\n",
    "<h2> Комментарий ревьюера v1 <a class=\"tocSkip\"> </h2>\n",
    "\n",
    "<b>Все супер!👍:</b> Объединение выполнено верно "
   ]
  },
  {
   "cell_type": "markdown",
   "id": "be105e01",
   "metadata": {},
   "source": [
    "**4.2 Создайте ещё два датафрейма.** <a id='ref4.2'></a>"
   ]
  },
  {
   "cell_type": "markdown",
   "id": "33c16f4d",
   "metadata": {},
   "source": [
    "Создадим ещё два датафрейма из датафрейма, созданного на этапе 4.1:\n",
    "- c данными о пользователях без подписки;\n",
    "- с данными о пользователях с подпиской.\n"
   ]
  },
  {
   "cell_type": "code",
   "execution_count": 28,
   "id": "feeb6901",
   "metadata": {
    "scrolled": true
   },
   "outputs": [
    {
     "data": {
      "text/html": [
       "<div>\n",
       "<style scoped>\n",
       "    .dataframe tbody tr th:only-of-type {\n",
       "        vertical-align: middle;\n",
       "    }\n",
       "\n",
       "    .dataframe tbody tr th {\n",
       "        vertical-align: top;\n",
       "    }\n",
       "\n",
       "    .dataframe thead th {\n",
       "        text-align: right;\n",
       "    }\n",
       "</style>\n",
       "<table border=\"1\" class=\"dataframe\">\n",
       "  <thead>\n",
       "    <tr style=\"text-align: right;\">\n",
       "      <th></th>\n",
       "      <th>user_id</th>\n",
       "      <th>name</th>\n",
       "      <th>age</th>\n",
       "      <th>city</th>\n",
       "      <th>subscription_type</th>\n",
       "      <th>distance</th>\n",
       "      <th>duration</th>\n",
       "      <th>date</th>\n",
       "      <th>ride_month</th>\n",
       "      <th>ride_month_year</th>\n",
       "      <th>minute_price</th>\n",
       "      <th>start_ride_price</th>\n",
       "      <th>subscription_fee</th>\n",
       "    </tr>\n",
       "  </thead>\n",
       "  <tbody>\n",
       "    <tr>\n",
       "      <th>0</th>\n",
       "      <td>1</td>\n",
       "      <td>Кира</td>\n",
       "      <td>22</td>\n",
       "      <td>Тюмень</td>\n",
       "      <td>ultra</td>\n",
       "      <td>4409.919140</td>\n",
       "      <td>25.599769</td>\n",
       "      <td>2021-01-01</td>\n",
       "      <td>1</td>\n",
       "      <td>2021-01</td>\n",
       "      <td>6</td>\n",
       "      <td>0</td>\n",
       "      <td>199</td>\n",
       "    </tr>\n",
       "    <tr>\n",
       "      <th>1</th>\n",
       "      <td>1</td>\n",
       "      <td>Кира</td>\n",
       "      <td>22</td>\n",
       "      <td>Тюмень</td>\n",
       "      <td>ultra</td>\n",
       "      <td>2617.592153</td>\n",
       "      <td>15.816871</td>\n",
       "      <td>2021-01-18</td>\n",
       "      <td>1</td>\n",
       "      <td>2021-01</td>\n",
       "      <td>6</td>\n",
       "      <td>0</td>\n",
       "      <td>199</td>\n",
       "    </tr>\n",
       "    <tr>\n",
       "      <th>2</th>\n",
       "      <td>1</td>\n",
       "      <td>Кира</td>\n",
       "      <td>22</td>\n",
       "      <td>Тюмень</td>\n",
       "      <td>ultra</td>\n",
       "      <td>754.159807</td>\n",
       "      <td>6.232113</td>\n",
       "      <td>2021-04-20</td>\n",
       "      <td>4</td>\n",
       "      <td>2021-04</td>\n",
       "      <td>6</td>\n",
       "      <td>0</td>\n",
       "      <td>199</td>\n",
       "    </tr>\n",
       "    <tr>\n",
       "      <th>3</th>\n",
       "      <td>1</td>\n",
       "      <td>Кира</td>\n",
       "      <td>22</td>\n",
       "      <td>Тюмень</td>\n",
       "      <td>ultra</td>\n",
       "      <td>2694.783254</td>\n",
       "      <td>18.511000</td>\n",
       "      <td>2021-08-11</td>\n",
       "      <td>8</td>\n",
       "      <td>2021-08</td>\n",
       "      <td>6</td>\n",
       "      <td>0</td>\n",
       "      <td>199</td>\n",
       "    </tr>\n",
       "    <tr>\n",
       "      <th>4</th>\n",
       "      <td>1</td>\n",
       "      <td>Кира</td>\n",
       "      <td>22</td>\n",
       "      <td>Тюмень</td>\n",
       "      <td>ultra</td>\n",
       "      <td>4028.687306</td>\n",
       "      <td>26.265803</td>\n",
       "      <td>2021-08-28</td>\n",
       "      <td>8</td>\n",
       "      <td>2021-08</td>\n",
       "      <td>6</td>\n",
       "      <td>0</td>\n",
       "      <td>199</td>\n",
       "    </tr>\n",
       "  </tbody>\n",
       "</table>\n",
       "</div>"
      ],
      "text/plain": [
       "   user_id  name  age    city subscription_type     distance   duration  \\\n",
       "0        1  Кира   22  Тюмень             ultra  4409.919140  25.599769   \n",
       "1        1  Кира   22  Тюмень             ultra  2617.592153  15.816871   \n",
       "2        1  Кира   22  Тюмень             ultra   754.159807   6.232113   \n",
       "3        1  Кира   22  Тюмень             ultra  2694.783254  18.511000   \n",
       "4        1  Кира   22  Тюмень             ultra  4028.687306  26.265803   \n",
       "\n",
       "        date  ride_month ride_month_year  minute_price  start_ride_price  \\\n",
       "0 2021-01-01           1         2021-01             6                 0   \n",
       "1 2021-01-18           1         2021-01             6                 0   \n",
       "2 2021-04-20           4         2021-04             6                 0   \n",
       "3 2021-08-11           8         2021-08             6                 0   \n",
       "4 2021-08-28           8         2021-08             6                 0   \n",
       "\n",
       "   subscription_fee  \n",
       "0               199  \n",
       "1               199  \n",
       "2               199  \n",
       "3               199  \n",
       "4               199  "
      ]
     },
     "execution_count": 28,
     "metadata": {},
     "output_type": "execute_result"
    }
   ],
   "source": [
    "maindf_free = maindf.query('subscription_type==\"free\"')\n",
    "maindf_ultra = maindf.query('subscription_type==\"ultra\"')\n",
    "maindf_ultra.head(5)"
   ]
  },
  {
   "cell_type": "code",
   "execution_count": 29,
   "id": "843ae0ec",
   "metadata": {},
   "outputs": [
    {
     "data": {
      "text/html": [
       "<div>\n",
       "<style scoped>\n",
       "    .dataframe tbody tr th:only-of-type {\n",
       "        vertical-align: middle;\n",
       "    }\n",
       "\n",
       "    .dataframe tbody tr th {\n",
       "        vertical-align: top;\n",
       "    }\n",
       "\n",
       "    .dataframe thead th {\n",
       "        text-align: right;\n",
       "    }\n",
       "</style>\n",
       "<table border=\"1\" class=\"dataframe\">\n",
       "  <thead>\n",
       "    <tr style=\"text-align: right;\">\n",
       "      <th></th>\n",
       "      <th>user_id</th>\n",
       "      <th>name</th>\n",
       "      <th>age</th>\n",
       "      <th>city</th>\n",
       "      <th>subscription_type</th>\n",
       "      <th>distance</th>\n",
       "      <th>duration</th>\n",
       "      <th>date</th>\n",
       "      <th>ride_month</th>\n",
       "      <th>ride_month_year</th>\n",
       "      <th>minute_price</th>\n",
       "      <th>start_ride_price</th>\n",
       "      <th>subscription_fee</th>\n",
       "    </tr>\n",
       "  </thead>\n",
       "  <tbody>\n",
       "    <tr>\n",
       "      <th>6672</th>\n",
       "      <td>700</td>\n",
       "      <td>Айдар</td>\n",
       "      <td>22</td>\n",
       "      <td>Омск</td>\n",
       "      <td>free</td>\n",
       "      <td>2515.690719</td>\n",
       "      <td>14.944286</td>\n",
       "      <td>2021-01-02</td>\n",
       "      <td>1</td>\n",
       "      <td>2021-01</td>\n",
       "      <td>8</td>\n",
       "      <td>50</td>\n",
       "      <td>0</td>\n",
       "    </tr>\n",
       "    <tr>\n",
       "      <th>6673</th>\n",
       "      <td>700</td>\n",
       "      <td>Айдар</td>\n",
       "      <td>22</td>\n",
       "      <td>Омск</td>\n",
       "      <td>free</td>\n",
       "      <td>846.932642</td>\n",
       "      <td>16.234663</td>\n",
       "      <td>2021-02-01</td>\n",
       "      <td>2</td>\n",
       "      <td>2021-02</td>\n",
       "      <td>8</td>\n",
       "      <td>50</td>\n",
       "      <td>0</td>\n",
       "    </tr>\n",
       "    <tr>\n",
       "      <th>6674</th>\n",
       "      <td>700</td>\n",
       "      <td>Айдар</td>\n",
       "      <td>22</td>\n",
       "      <td>Омск</td>\n",
       "      <td>free</td>\n",
       "      <td>4004.434142</td>\n",
       "      <td>20.016628</td>\n",
       "      <td>2021-02-04</td>\n",
       "      <td>2</td>\n",
       "      <td>2021-02</td>\n",
       "      <td>8</td>\n",
       "      <td>50</td>\n",
       "      <td>0</td>\n",
       "    </tr>\n",
       "    <tr>\n",
       "      <th>6675</th>\n",
       "      <td>700</td>\n",
       "      <td>Айдар</td>\n",
       "      <td>22</td>\n",
       "      <td>Омск</td>\n",
       "      <td>free</td>\n",
       "      <td>1205.911290</td>\n",
       "      <td>9.782872</td>\n",
       "      <td>2021-02-10</td>\n",
       "      <td>2</td>\n",
       "      <td>2021-02</td>\n",
       "      <td>8</td>\n",
       "      <td>50</td>\n",
       "      <td>0</td>\n",
       "    </tr>\n",
       "    <tr>\n",
       "      <th>6676</th>\n",
       "      <td>700</td>\n",
       "      <td>Айдар</td>\n",
       "      <td>22</td>\n",
       "      <td>Омск</td>\n",
       "      <td>free</td>\n",
       "      <td>3047.379435</td>\n",
       "      <td>17.427673</td>\n",
       "      <td>2021-02-14</td>\n",
       "      <td>2</td>\n",
       "      <td>2021-02</td>\n",
       "      <td>8</td>\n",
       "      <td>50</td>\n",
       "      <td>0</td>\n",
       "    </tr>\n",
       "  </tbody>\n",
       "</table>\n",
       "</div>"
      ],
      "text/plain": [
       "      user_id   name  age  city subscription_type     distance   duration  \\\n",
       "6672      700  Айдар   22  Омск              free  2515.690719  14.944286   \n",
       "6673      700  Айдар   22  Омск              free   846.932642  16.234663   \n",
       "6674      700  Айдар   22  Омск              free  4004.434142  20.016628   \n",
       "6675      700  Айдар   22  Омск              free  1205.911290   9.782872   \n",
       "6676      700  Айдар   22  Омск              free  3047.379435  17.427673   \n",
       "\n",
       "           date  ride_month ride_month_year  minute_price  start_ride_price  \\\n",
       "6672 2021-01-02           1         2021-01             8                50   \n",
       "6673 2021-02-01           2         2021-02             8                50   \n",
       "6674 2021-02-04           2         2021-02             8                50   \n",
       "6675 2021-02-10           2         2021-02             8                50   \n",
       "6676 2021-02-14           2         2021-02             8                50   \n",
       "\n",
       "      subscription_fee  \n",
       "6672                 0  \n",
       "6673                 0  \n",
       "6674                 0  \n",
       "6675                 0  \n",
       "6676                 0  "
      ]
     },
     "execution_count": 29,
     "metadata": {},
     "output_type": "execute_result"
    }
   ],
   "source": [
    "maindf_free.head(5)"
   ]
  },
  {
   "cell_type": "markdown",
   "id": "3e88a680",
   "metadata": {},
   "source": [
    "<div class=\"alert alert-warning\">\n",
    "    <h2> Комментарий ревьюера v1 <a class=\"tocSkip\"> </h2>\n",
    "    \n",
    "<b>Небольшие замечания и рекомендации💡:</b> А рассморим еще и датафрейм free?\n",
    "        "
   ]
  },
  {
   "cell_type": "markdown",
   "id": "b3c03834",
   "metadata": {},
   "source": [
    "<div class=\"alert alert-info\">\n",
    "<b>Done 👍</b> \n",
    "</div>"
   ]
  },
  {
   "cell_type": "markdown",
   "id": "7fbb5014",
   "metadata": {},
   "source": [
    "<div class=\"alert alert-success\">\n",
    "<h2> Комментарий ревьюера v2 <a class=\"tocSkip\"> </h2>\n",
    "\n",
    "<b>Все супер!👍:</b> +"
   ]
  },
  {
   "cell_type": "markdown",
   "id": "61db6082",
   "metadata": {},
   "source": [
    "**4.3 Визуализируем информацию о расстоянии и времени поездок для пользователей обеих категорий.** <a id='ref4.3'></a>"
   ]
  },
  {
   "cell_type": "code",
   "execution_count": 30,
   "id": "a46ead7f",
   "metadata": {},
   "outputs": [
    {
     "data": {
      "image/png": "[encoded data removed]",
      "text/plain": [
       "<Figure size 432x288 with 1 Axes>"
      ]
     },
     "metadata": {
      "needs_background": "light"
     },
     "output_type": "display_data"
    }
   ],
   "source": [
    "ax = maindf_free.plot(\n",
    "    kind='hist',\n",
    "    y='duration',\n",
    "    histtype='step',\n",
    "    range=(0, 50),\n",
    "    bins=15,\n",
    "    linewidth=5,\n",
    "    alpha=0.7,\n",
    "    label='Без подписки'\n",
    ")\n",
    "maindf_ultra.plot(\n",
    "    kind='hist',\n",
    "    y='duration',\n",
    "    histtype='step',\n",
    "    range=(0, 50),\n",
    "    bins=15,\n",
    "    linewidth=5,\n",
    "    alpha=0.7,\n",
    "    label='С подпиской',\n",
    "    ax=ax,\n",
    "    grid=True,\n",
    "    legend=True,\n",
    "    title = 'График распределния длительности поездок (пользователи с подпиской и без)'\n",
    ")\n",
    "plt.xlabel('Длительность поездки')\n",
    "plt.ylabel('Частота')\n",
    "plt.show()"
   ]
  },
  {
   "cell_type": "markdown",
   "id": "163641a9",
   "metadata": {},
   "source": [
    "Видим, что в целом тренд идентичен с той лишь разницей, что пользователей с подпиской немного меньше, поэтому оранжевый график расположен ниже. Но поведение графиков идентично, поэтому можно сказать, что наличие подписки не влияет на время аренды самоката."
   ]
  },
  {
   "cell_type": "code",
   "execution_count": 31,
   "id": "c432aab9",
   "metadata": {},
   "outputs": [
    {
     "data": {
      "image/png": "[encoded data removed]",
      "text/plain": [
       "<Figure size 432x288 with 1 Axes>"
      ]
     },
     "metadata": {
      "needs_background": "light"
     },
     "output_type": "display_data"
    }
   ],
   "source": [
    "ax = maindf_free.plot(\n",
    "    kind='hist',\n",
    "    y='distance',\n",
    "    histtype='step',\n",
    "    range=(0, 7000),\n",
    "    bins=15,\n",
    "    linewidth=5,\n",
    "    alpha=0.7,\n",
    "    label='Без подписки'\n",
    ")\n",
    "maindf_ultra.plot(\n",
    "    kind='hist',\n",
    "    y='distance',\n",
    "    histtype='step',\n",
    "    range=(0, 7000),\n",
    "    bins=15,\n",
    "    linewidth=5,\n",
    "    alpha=0.7,\n",
    "    label='С подпиской',\n",
    "    ax=ax,\n",
    "    grid=True,\n",
    "    legend=True,\n",
    "    xlabel='Частота',\n",
    "    title='График распределния расстояний поездок (пользователи с подпиской и без)'\n",
    ") \n",
    "plt.xlabel('Расстояние поездки')\n",
    "plt.ylabel('Частота')\n",
    "plt.show()"
   ]
  },
  {
   "cell_type": "markdown",
   "id": "f9bc93d3",
   "metadata": {},
   "source": [
    "Здесь видим, что графики также во многом повторяют друг друга, однако в районе 3км пользователи совершают гораздо больше поездок, нежели пользователи без подписки."
   ]
  },
  {
   "cell_type": "markdown",
   "id": "a4263195",
   "metadata": {},
   "source": [
    "<div class=\"alert alert-success\">\n",
    "<h2> Комментарий ревьюера v1 <a class=\"tocSkip\"> </h2>\n",
    "\n",
    "<b>Все супер!👍:</b> Отличнная работа! Молодец, что совместила графики, распределние наглядно и понятно!"
   ]
  },
  {
   "cell_type": "markdown",
   "id": "402d620f",
   "metadata": {},
   "source": [
    "#### Шаг 5. Подсчёт выручки\n",
    "<a id='ref5'></a>"
   ]
  },
  {
   "cell_type": "markdown",
   "id": "284650b8",
   "metadata": {},
   "source": [
    "**5.1 Создадим датафрейм с агрегированными данными о поездках.** <a id='ref5.1'></a>"
   ]
  },
  {
   "cell_type": "markdown",
   "id": "5d0b69b2",
   "metadata": {},
   "source": [
    "Создадим датафрейм с агрегированными данными о поездках на основе датафрейма с объединёнными данными из шага 4: найдем суммарное расстояние, количество поездок и суммарное время для каждого пользователя за каждый месяц."
   ]
  },
  {
   "cell_type": "code",
   "execution_count": 32,
   "id": "699d8620",
   "metadata": {
    "scrolled": true
   },
   "outputs": [
    {
     "data": {
      "text/html": [
       "<div>\n",
       "<style scoped>\n",
       "    .dataframe tbody tr th:only-of-type {\n",
       "        vertical-align: middle;\n",
       "    }\n",
       "\n",
       "    .dataframe tbody tr th {\n",
       "        vertical-align: top;\n",
       "    }\n",
       "\n",
       "    .dataframe thead th {\n",
       "        text-align: right;\n",
       "    }\n",
       "</style>\n",
       "<table border=\"1\" class=\"dataframe\">\n",
       "  <thead>\n",
       "    <tr style=\"text-align: right;\">\n",
       "      <th></th>\n",
       "      <th>user_id</th>\n",
       "      <th>ride_month_year</th>\n",
       "      <th>rides_count</th>\n",
       "      <th>duration_sum</th>\n",
       "      <th>distance_sum</th>\n",
       "    </tr>\n",
       "  </thead>\n",
       "  <tbody>\n",
       "    <tr>\n",
       "      <th>0</th>\n",
       "      <td>1</td>\n",
       "      <td>2021-01</td>\n",
       "      <td>2</td>\n",
       "      <td>41.416640</td>\n",
       "      <td>7027.511294</td>\n",
       "    </tr>\n",
       "    <tr>\n",
       "      <th>1</th>\n",
       "      <td>1</td>\n",
       "      <td>2021-04</td>\n",
       "      <td>1</td>\n",
       "      <td>6.232113</td>\n",
       "      <td>754.159807</td>\n",
       "    </tr>\n",
       "    <tr>\n",
       "      <th>2</th>\n",
       "      <td>1</td>\n",
       "      <td>2021-08</td>\n",
       "      <td>2</td>\n",
       "      <td>44.776802</td>\n",
       "      <td>6723.470560</td>\n",
       "    </tr>\n",
       "    <tr>\n",
       "      <th>3</th>\n",
       "      <td>1</td>\n",
       "      <td>2021-10</td>\n",
       "      <td>2</td>\n",
       "      <td>31.578017</td>\n",
       "      <td>5809.911100</td>\n",
       "    </tr>\n",
       "    <tr>\n",
       "      <th>4</th>\n",
       "      <td>1</td>\n",
       "      <td>2021-11</td>\n",
       "      <td>3</td>\n",
       "      <td>53.397424</td>\n",
       "      <td>7003.499363</td>\n",
       "    </tr>\n",
       "    <tr>\n",
       "      <th>5</th>\n",
       "      <td>1</td>\n",
       "      <td>2021-12</td>\n",
       "      <td>2</td>\n",
       "      <td>27.203912</td>\n",
       "      <td>6751.629942</td>\n",
       "    </tr>\n",
       "    <tr>\n",
       "      <th>6</th>\n",
       "      <td>2</td>\n",
       "      <td>2021-03</td>\n",
       "      <td>3</td>\n",
       "      <td>60.959959</td>\n",
       "      <td>10187.723006</td>\n",
       "    </tr>\n",
       "    <tr>\n",
       "      <th>7</th>\n",
       "      <td>2</td>\n",
       "      <td>2021-04</td>\n",
       "      <td>2</td>\n",
       "      <td>39.048633</td>\n",
       "      <td>6164.381824</td>\n",
       "    </tr>\n",
       "    <tr>\n",
       "      <th>8</th>\n",
       "      <td>2</td>\n",
       "      <td>2021-06</td>\n",
       "      <td>1</td>\n",
       "      <td>13.851127</td>\n",
       "      <td>3255.338202</td>\n",
       "    </tr>\n",
       "    <tr>\n",
       "      <th>9</th>\n",
       "      <td>2</td>\n",
       "      <td>2021-07</td>\n",
       "      <td>2</td>\n",
       "      <td>46.170157</td>\n",
       "      <td>6780.722964</td>\n",
       "    </tr>\n",
       "    <tr>\n",
       "      <th>10</th>\n",
       "      <td>2</td>\n",
       "      <td>2021-08</td>\n",
       "      <td>1</td>\n",
       "      <td>6.914760</td>\n",
       "      <td>923.007439</td>\n",
       "    </tr>\n",
       "    <tr>\n",
       "      <th>11</th>\n",
       "      <td>2</td>\n",
       "      <td>2021-10</td>\n",
       "      <td>1</td>\n",
       "      <td>18.779128</td>\n",
       "      <td>2824.636598</td>\n",
       "    </tr>\n",
       "    <tr>\n",
       "      <th>12</th>\n",
       "      <td>2</td>\n",
       "      <td>2021-12</td>\n",
       "      <td>1</td>\n",
       "      <td>11.920514</td>\n",
       "      <td>3828.248580</td>\n",
       "    </tr>\n",
       "    <tr>\n",
       "      <th>13</th>\n",
       "      <td>3</td>\n",
       "      <td>2021-01</td>\n",
       "      <td>1</td>\n",
       "      <td>12.654443</td>\n",
       "      <td>3061.777147</td>\n",
       "    </tr>\n",
       "    <tr>\n",
       "      <th>14</th>\n",
       "      <td>3</td>\n",
       "      <td>2021-02</td>\n",
       "      <td>2</td>\n",
       "      <td>37.568637</td>\n",
       "      <td>5421.152016</td>\n",
       "    </tr>\n",
       "  </tbody>\n",
       "</table>\n",
       "</div>"
      ],
      "text/plain": [
       "    user_id ride_month_year  rides_count  duration_sum  distance_sum\n",
       "0         1         2021-01            2     41.416640   7027.511294\n",
       "1         1         2021-04            1      6.232113    754.159807\n",
       "2         1         2021-08            2     44.776802   6723.470560\n",
       "3         1         2021-10            2     31.578017   5809.911100\n",
       "4         1         2021-11            3     53.397424   7003.499363\n",
       "5         1         2021-12            2     27.203912   6751.629942\n",
       "6         2         2021-03            3     60.959959  10187.723006\n",
       "7         2         2021-04            2     39.048633   6164.381824\n",
       "8         2         2021-06            1     13.851127   3255.338202\n",
       "9         2         2021-07            2     46.170157   6780.722964\n",
       "10        2         2021-08            1      6.914760    923.007439\n",
       "11        2         2021-10            1     18.779128   2824.636598\n",
       "12        2         2021-12            1     11.920514   3828.248580\n",
       "13        3         2021-01            1     12.654443   3061.777147\n",
       "14        3         2021-02            2     37.568637   5421.152016"
      ]
     },
     "execution_count": 32,
     "metadata": {},
     "output_type": "execute_result"
    }
   ],
   "source": [
    "maindf_grouped = maindf.groupby(['user_id','ride_month_year'],as_index=False).agg({'duration':['count','sum'],'distance':'sum'})\n",
    "maindf_grouped.columns = ['user_id','ride_month_year','rides_count','duration_sum','distance_sum']\n",
    "maindf_grouped.head(15)"
   ]
  },
  {
   "cell_type": "code",
   "execution_count": 33,
   "id": "a59b8315",
   "metadata": {
    "scrolled": true
   },
   "outputs": [
    {
     "data": {
      "text/plain": [
       "user_id            0\n",
       "ride_month_year    0\n",
       "rides_count        0\n",
       "duration_sum       0\n",
       "distance_sum       0\n",
       "dtype: int64"
      ]
     },
     "execution_count": 33,
     "metadata": {},
     "output_type": "execute_result"
    }
   ],
   "source": [
    "maindf_grouped.isna().sum()"
   ]
  },
  {
   "cell_type": "code",
   "execution_count": 34,
   "id": "413221c3",
   "metadata": {},
   "outputs": [
    {
     "data": {
      "text/html": [
       "<div>\n",
       "<style scoped>\n",
       "    .dataframe tbody tr th:only-of-type {\n",
       "        vertical-align: middle;\n",
       "    }\n",
       "\n",
       "    .dataframe tbody tr th {\n",
       "        vertical-align: top;\n",
       "    }\n",
       "\n",
       "    .dataframe thead th {\n",
       "        text-align: right;\n",
       "    }\n",
       "</style>\n",
       "<table border=\"1\" class=\"dataframe\">\n",
       "  <thead>\n",
       "    <tr style=\"text-align: right;\">\n",
       "      <th></th>\n",
       "      <th>user_id</th>\n",
       "      <th>ride_month_year</th>\n",
       "      <th>rides_count</th>\n",
       "      <th>duration_sum</th>\n",
       "      <th>distance_sum</th>\n",
       "    </tr>\n",
       "  </thead>\n",
       "  <tbody>\n",
       "  </tbody>\n",
       "</table>\n",
       "</div>"
      ],
      "text/plain": [
       "Empty DataFrame\n",
       "Columns: [user_id, ride_month_year, rides_count, duration_sum, distance_sum]\n",
       "Index: []"
      ]
     },
     "execution_count": 34,
     "metadata": {},
     "output_type": "execute_result"
    }
   ],
   "source": [
    "maindf_grouped[maindf_grouped['duration_sum'].isna()]"
   ]
  },
  {
   "cell_type": "code",
   "execution_count": 35,
   "id": "90734a6e",
   "metadata": {},
   "outputs": [
    {
     "data": {
      "text/html": [
       "<div>\n",
       "<style scoped>\n",
       "    .dataframe tbody tr th:only-of-type {\n",
       "        vertical-align: middle;\n",
       "    }\n",
       "\n",
       "    .dataframe tbody tr th {\n",
       "        vertical-align: top;\n",
       "    }\n",
       "\n",
       "    .dataframe thead th {\n",
       "        text-align: right;\n",
       "    }\n",
       "</style>\n",
       "<table border=\"1\" class=\"dataframe\">\n",
       "  <thead>\n",
       "    <tr style=\"text-align: right;\">\n",
       "      <th></th>\n",
       "      <th>user_id</th>\n",
       "      <th>ride_month_year</th>\n",
       "      <th>rides_count</th>\n",
       "      <th>duration_sum</th>\n",
       "      <th>distance_sum</th>\n",
       "    </tr>\n",
       "  </thead>\n",
       "  <tbody>\n",
       "  </tbody>\n",
       "</table>\n",
       "</div>"
      ],
      "text/plain": [
       "Empty DataFrame\n",
       "Columns: [user_id, ride_month_year, rides_count, duration_sum, distance_sum]\n",
       "Index: []"
      ]
     },
     "execution_count": 35,
     "metadata": {},
     "output_type": "execute_result"
    }
   ],
   "source": [
    "maindf_grouped[maindf_grouped['user_id'].isna()]"
   ]
  },
  {
   "cell_type": "markdown",
   "id": "82bf7ce2",
   "metadata": {},
   "source": [
    "<div class=\"alert alert-block alert-danger\">\n",
    "<h2> Комментарий ревьюера v1 <a class=\"tocSkip\"></h2>\n",
    "\n",
    "<b>На доработку🤔:</b> Нужно ли нам проверить на пропуски сводную таблицу?"
   ]
  },
  {
   "cell_type": "markdown",
   "id": "6245702e",
   "metadata": {},
   "source": [
    "<div class=\"alert alert-info\">\n",
    "<b> Пропусков в таблице не видать.. Но на всякий переопределила выше метод merge с использованием outer, теперь выручка должна посчитаться правильно, т.к. теперь должны войти пользователи, которые оплатили подписку, но не ездили. Однако таких пользователей, похоже нет. \n",
    "<br> Или имелось ввиду, на пропуски месяцев в течение года?    \n",
    "</b> \n",
    "</div>"
   ]
  },
  {
   "cell_type": "markdown",
   "id": "0ccefbdf",
   "metadata": {},
   "source": [
    "<div class=\"alert alert-success\">\n",
    "<h2> Комментарий ревьюера v2 <a class=\"tocSkip\"> </h2>\n",
    "\n",
    "<b>Все супер!👍:</b> Ты все правильно сделала) "
   ]
  },
  {
   "cell_type": "markdown",
   "id": "ca085d8a",
   "metadata": {},
   "source": [
    "**5.2 Добавим столбец с помесячной выручкой.** <a id='ref5.2'></a>"
   ]
  },
  {
   "cell_type": "markdown",
   "id": "67904bf0",
   "metadata": {},
   "source": [
    "Вспомним про стоимость тарифов:\n",
    "-\tбез подписки \n",
    "    - абонентская плата отсутствует;\n",
    "    - стоимость одной минуты поездки — 8 рублей;\n",
    "    - стоимость старта (начала поездки) — 50 рублей;\n",
    "- с подпиской Ultra \n",
    "    - абонентская плата — 199 рублей в месяц;\n",
    "    - стоимость одной минуты поездки — 6 рублей;\n",
    "    - стоимость старта — бесплатно\n",
    "\n",
    "<br>Обозначим:\n",
    "<br>cost_start_free, cost_start_ultra - стоимость старта\n",
    "<br>cost_subsription_free, cost_subsription_ultra - стоимость абонемента(подписки)\n",
    "<br>сost_minute_free, cost_minute_ultra - стоимость минуты\n",
    "<br><br>Помесячная выручка считается по формуле: \n",
    "<br>(стоимость старта поездки × количество поездок) + (стоимость одной минуты поездки × общая продолжительность всех поездок в минутах) + стоимость подписки."
   ]
  },
  {
   "cell_type": "code",
   "execution_count": 36,
   "id": "ce74851a",
   "metadata": {},
   "outputs": [
    {
     "data": {
      "text/html": [
       "<div>\n",
       "<style scoped>\n",
       "    .dataframe tbody tr th:only-of-type {\n",
       "        vertical-align: middle;\n",
       "    }\n",
       "\n",
       "    .dataframe tbody tr th {\n",
       "        vertical-align: top;\n",
       "    }\n",
       "\n",
       "    .dataframe thead th {\n",
       "        text-align: right;\n",
       "    }\n",
       "</style>\n",
       "<table border=\"1\" class=\"dataframe\">\n",
       "  <thead>\n",
       "    <tr style=\"text-align: right;\">\n",
       "      <th></th>\n",
       "      <th>subscription_type</th>\n",
       "      <th>minute_price</th>\n",
       "      <th>start_ride_price</th>\n",
       "      <th>subscription_fee</th>\n",
       "    </tr>\n",
       "  </thead>\n",
       "  <tbody>\n",
       "    <tr>\n",
       "      <th>0</th>\n",
       "      <td>free</td>\n",
       "      <td>8</td>\n",
       "      <td>50</td>\n",
       "      <td>0</td>\n",
       "    </tr>\n",
       "    <tr>\n",
       "      <th>1</th>\n",
       "      <td>ultra</td>\n",
       "      <td>6</td>\n",
       "      <td>0</td>\n",
       "      <td>199</td>\n",
       "    </tr>\n",
       "  </tbody>\n",
       "</table>\n",
       "</div>"
      ],
      "text/plain": [
       "  subscription_type  minute_price  start_ride_price  subscription_fee\n",
       "0              free             8                50                 0\n",
       "1             ultra             6                 0               199"
      ]
     },
     "execution_count": 36,
     "metadata": {},
     "output_type": "execute_result"
    }
   ],
   "source": [
    "subscriptions.head(3) "
   ]
  },
  {
   "cell_type": "markdown",
   "id": "f2cf9809",
   "metadata": {},
   "source": [
    "Для начала добавим необходимые для рассчета данные в таблицу."
   ]
  },
  {
   "cell_type": "code",
   "execution_count": 37,
   "id": "bd547b49",
   "metadata": {
    "scrolled": true
   },
   "outputs": [
    {
     "data": {
      "text/html": [
       "<div>\n",
       "<style scoped>\n",
       "    .dataframe tbody tr th:only-of-type {\n",
       "        vertical-align: middle;\n",
       "    }\n",
       "\n",
       "    .dataframe tbody tr th {\n",
       "        vertical-align: top;\n",
       "    }\n",
       "\n",
       "    .dataframe thead th {\n",
       "        text-align: right;\n",
       "    }\n",
       "</style>\n",
       "<table border=\"1\" class=\"dataframe\">\n",
       "  <thead>\n",
       "    <tr style=\"text-align: right;\">\n",
       "      <th></th>\n",
       "      <th>user_id</th>\n",
       "      <th>ride_month_year</th>\n",
       "      <th>rides_count</th>\n",
       "      <th>duration_sum</th>\n",
       "      <th>distance_sum</th>\n",
       "      <th>subscription_type</th>\n",
       "      <th>minute_price</th>\n",
       "      <th>start_ride_price</th>\n",
       "      <th>subscription_fee</th>\n",
       "    </tr>\n",
       "  </thead>\n",
       "  <tbody>\n",
       "    <tr>\n",
       "      <th>0</th>\n",
       "      <td>1</td>\n",
       "      <td>2021-01</td>\n",
       "      <td>2</td>\n",
       "      <td>42.0</td>\n",
       "      <td>7027.511294</td>\n",
       "      <td>ultra</td>\n",
       "      <td>6</td>\n",
       "      <td>0</td>\n",
       "      <td>199</td>\n",
       "    </tr>\n",
       "    <tr>\n",
       "      <th>1</th>\n",
       "      <td>1</td>\n",
       "      <td>2021-04</td>\n",
       "      <td>1</td>\n",
       "      <td>7.0</td>\n",
       "      <td>754.159807</td>\n",
       "      <td>ultra</td>\n",
       "      <td>6</td>\n",
       "      <td>0</td>\n",
       "      <td>199</td>\n",
       "    </tr>\n",
       "    <tr>\n",
       "      <th>2</th>\n",
       "      <td>1</td>\n",
       "      <td>2021-08</td>\n",
       "      <td>2</td>\n",
       "      <td>45.0</td>\n",
       "      <td>6723.470560</td>\n",
       "      <td>ultra</td>\n",
       "      <td>6</td>\n",
       "      <td>0</td>\n",
       "      <td>199</td>\n",
       "    </tr>\n",
       "    <tr>\n",
       "      <th>3</th>\n",
       "      <td>1</td>\n",
       "      <td>2021-10</td>\n",
       "      <td>2</td>\n",
       "      <td>32.0</td>\n",
       "      <td>5809.911100</td>\n",
       "      <td>ultra</td>\n",
       "      <td>6</td>\n",
       "      <td>0</td>\n",
       "      <td>199</td>\n",
       "    </tr>\n",
       "    <tr>\n",
       "      <th>4</th>\n",
       "      <td>1</td>\n",
       "      <td>2021-11</td>\n",
       "      <td>3</td>\n",
       "      <td>54.0</td>\n",
       "      <td>7003.499363</td>\n",
       "      <td>ultra</td>\n",
       "      <td>6</td>\n",
       "      <td>0</td>\n",
       "      <td>199</td>\n",
       "    </tr>\n",
       "  </tbody>\n",
       "</table>\n",
       "</div>"
      ],
      "text/plain": [
       "   user_id ride_month_year  rides_count  duration_sum  distance_sum  \\\n",
       "0        1         2021-01            2          42.0   7027.511294   \n",
       "1        1         2021-04            1           7.0    754.159807   \n",
       "2        1         2021-08            2          45.0   6723.470560   \n",
       "3        1         2021-10            2          32.0   5809.911100   \n",
       "4        1         2021-11            3          54.0   7003.499363   \n",
       "\n",
       "  subscription_type  minute_price  start_ride_price  subscription_fee  \n",
       "0             ultra             6                 0               199  \n",
       "1             ultra             6                 0               199  \n",
       "2             ultra             6                 0               199  \n",
       "3             ultra             6                 0               199  \n",
       "4             ultra             6                 0               199  "
      ]
     },
     "execution_count": 37,
     "metadata": {},
     "output_type": "execute_result"
    }
   ],
   "source": [
    "# cost_start_free = 50\n",
    "# cost_start_ultra = 0\n",
    "# cost_subsription_free = 0\n",
    "# cost_subsription_ultra = 199\n",
    "# сost_minute_free = 8\n",
    "# cost_minute_ultra = 6\n",
    "\n",
    "maindf_grouped['duration_sum']= np.ceil(maindf_grouped['duration_sum']) #округлим столбец\n",
    "\n",
    "#функция определения типа подписки\n",
    "def calc_subscriptin(row):\n",
    "        return users.loc[users['user_id']==row['user_id'],'subscription_type'].any()\n",
    "maindf_grouped['subscription_type'] = maindf_grouped.apply(calc_subscriptin, axis=1)\n",
    "\n",
    "maindf_grouped = maindf_grouped.merge(subscriptions, on='subscription_type',how='left')\n",
    "maindf_grouped.head(5)"
   ]
  },
  {
   "cell_type": "markdown",
   "id": "a430cb24",
   "metadata": {},
   "source": [
    "Теперь можно считать выручку."
   ]
  },
  {
   "cell_type": "code",
   "execution_count": 38,
   "id": "02ba0707",
   "metadata": {},
   "outputs": [
    {
     "data": {
      "text/html": [
       "<div>\n",
       "<style scoped>\n",
       "    .dataframe tbody tr th:only-of-type {\n",
       "        vertical-align: middle;\n",
       "    }\n",
       "\n",
       "    .dataframe tbody tr th {\n",
       "        vertical-align: top;\n",
       "    }\n",
       "\n",
       "    .dataframe thead th {\n",
       "        text-align: right;\n",
       "    }\n",
       "</style>\n",
       "<table border=\"1\" class=\"dataframe\">\n",
       "  <thead>\n",
       "    <tr style=\"text-align: right;\">\n",
       "      <th></th>\n",
       "      <th>user_id</th>\n",
       "      <th>ride_month_year</th>\n",
       "      <th>rides_count</th>\n",
       "      <th>duration_sum</th>\n",
       "      <th>distance_sum</th>\n",
       "      <th>subscription_type</th>\n",
       "      <th>minute_price</th>\n",
       "      <th>start_ride_price</th>\n",
       "      <th>subscription_fee</th>\n",
       "      <th>month_revenue</th>\n",
       "    </tr>\n",
       "  </thead>\n",
       "  <tbody>\n",
       "    <tr>\n",
       "      <th>0</th>\n",
       "      <td>1</td>\n",
       "      <td>2021-01</td>\n",
       "      <td>2</td>\n",
       "      <td>42.0</td>\n",
       "      <td>7027.511294</td>\n",
       "      <td>ultra</td>\n",
       "      <td>6</td>\n",
       "      <td>0</td>\n",
       "      <td>199</td>\n",
       "      <td>451.0</td>\n",
       "    </tr>\n",
       "    <tr>\n",
       "      <th>1</th>\n",
       "      <td>1</td>\n",
       "      <td>2021-04</td>\n",
       "      <td>1</td>\n",
       "      <td>7.0</td>\n",
       "      <td>754.159807</td>\n",
       "      <td>ultra</td>\n",
       "      <td>6</td>\n",
       "      <td>0</td>\n",
       "      <td>199</td>\n",
       "      <td>241.0</td>\n",
       "    </tr>\n",
       "    <tr>\n",
       "      <th>2</th>\n",
       "      <td>1</td>\n",
       "      <td>2021-08</td>\n",
       "      <td>2</td>\n",
       "      <td>45.0</td>\n",
       "      <td>6723.470560</td>\n",
       "      <td>ultra</td>\n",
       "      <td>6</td>\n",
       "      <td>0</td>\n",
       "      <td>199</td>\n",
       "      <td>469.0</td>\n",
       "    </tr>\n",
       "    <tr>\n",
       "      <th>3</th>\n",
       "      <td>1</td>\n",
       "      <td>2021-10</td>\n",
       "      <td>2</td>\n",
       "      <td>32.0</td>\n",
       "      <td>5809.911100</td>\n",
       "      <td>ultra</td>\n",
       "      <td>6</td>\n",
       "      <td>0</td>\n",
       "      <td>199</td>\n",
       "      <td>391.0</td>\n",
       "    </tr>\n",
       "    <tr>\n",
       "      <th>4</th>\n",
       "      <td>1</td>\n",
       "      <td>2021-11</td>\n",
       "      <td>3</td>\n",
       "      <td>54.0</td>\n",
       "      <td>7003.499363</td>\n",
       "      <td>ultra</td>\n",
       "      <td>6</td>\n",
       "      <td>0</td>\n",
       "      <td>199</td>\n",
       "      <td>523.0</td>\n",
       "    </tr>\n",
       "  </tbody>\n",
       "</table>\n",
       "</div>"
      ],
      "text/plain": [
       "   user_id ride_month_year  rides_count  duration_sum  distance_sum  \\\n",
       "0        1         2021-01            2          42.0   7027.511294   \n",
       "1        1         2021-04            1           7.0    754.159807   \n",
       "2        1         2021-08            2          45.0   6723.470560   \n",
       "3        1         2021-10            2          32.0   5809.911100   \n",
       "4        1         2021-11            3          54.0   7003.499363   \n",
       "\n",
       "  subscription_type  minute_price  start_ride_price  subscription_fee  \\\n",
       "0             ultra             6                 0               199   \n",
       "1             ultra             6                 0               199   \n",
       "2             ultra             6                 0               199   \n",
       "3             ultra             6                 0               199   \n",
       "4             ultra             6                 0               199   \n",
       "\n",
       "   month_revenue  \n",
       "0          451.0  \n",
       "1          241.0  \n",
       "2          469.0  \n",
       "3          391.0  \n",
       "4          523.0  "
      ]
     },
     "execution_count": 38,
     "metadata": {},
     "output_type": "execute_result"
    }
   ],
   "source": [
    "#функция рассчета месячной выручки с пользователя\n",
    "def calc_ride_revenue(row):\n",
    "    return row['rides_count']*row['start_ride_price'] + row['duration_sum']*row['minute_price']  + row['subscription_fee']\n",
    "\n",
    "maindf_grouped['month_revenue'] = maindf_grouped.apply(calc_ride_revenue, axis=1)\n",
    "maindf_grouped.head(5)"
   ]
  },
  {
   "cell_type": "markdown",
   "id": "a96f97cb",
   "metadata": {},
   "source": [
    "Выведем пользователя, по которому была самая большая месячная выручка за все время."
   ]
  },
  {
   "cell_type": "code",
   "execution_count": 39,
   "id": "e69e98d5",
   "metadata": {
    "scrolled": true
   },
   "outputs": [
    {
     "data": {
      "text/html": [
       "<div>\n",
       "<style scoped>\n",
       "    .dataframe tbody tr th:only-of-type {\n",
       "        vertical-align: middle;\n",
       "    }\n",
       "\n",
       "    .dataframe tbody tr th {\n",
       "        vertical-align: top;\n",
       "    }\n",
       "\n",
       "    .dataframe thead th {\n",
       "        text-align: right;\n",
       "    }\n",
       "</style>\n",
       "<table border=\"1\" class=\"dataframe\">\n",
       "  <thead>\n",
       "    <tr style=\"text-align: right;\">\n",
       "      <th></th>\n",
       "      <th>user_id</th>\n",
       "      <th>ride_month_year</th>\n",
       "      <th>rides_count</th>\n",
       "      <th>duration_sum</th>\n",
       "      <th>distance_sum</th>\n",
       "      <th>subscription_type_x</th>\n",
       "      <th>minute_price</th>\n",
       "      <th>start_ride_price</th>\n",
       "      <th>subscription_fee</th>\n",
       "      <th>month_revenue</th>\n",
       "      <th>name</th>\n",
       "      <th>age</th>\n",
       "      <th>city</th>\n",
       "      <th>subscription_type_y</th>\n",
       "    </tr>\n",
       "  </thead>\n",
       "  <tbody>\n",
       "    <tr>\n",
       "      <th>0</th>\n",
       "      <td>829</td>\n",
       "      <td>2021-12</td>\n",
       "      <td>8</td>\n",
       "      <td>193.0</td>\n",
       "      <td>34583.31457</td>\n",
       "      <td>free</td>\n",
       "      <td>8</td>\n",
       "      <td>50</td>\n",
       "      <td>0</td>\n",
       "      <td>1944.0</td>\n",
       "      <td>Федор</td>\n",
       "      <td>29</td>\n",
       "      <td>Пятигорск</td>\n",
       "      <td>free</td>\n",
       "    </tr>\n",
       "    <tr>\n",
       "      <th>1</th>\n",
       "      <td>829</td>\n",
       "      <td>2021-12</td>\n",
       "      <td>8</td>\n",
       "      <td>193.0</td>\n",
       "      <td>34583.31457</td>\n",
       "      <td>free</td>\n",
       "      <td>8</td>\n",
       "      <td>50</td>\n",
       "      <td>0</td>\n",
       "      <td>1944.0</td>\n",
       "      <td>Федор</td>\n",
       "      <td>29</td>\n",
       "      <td>Пятигорск</td>\n",
       "      <td>free</td>\n",
       "    </tr>\n",
       "  </tbody>\n",
       "</table>\n",
       "</div>"
      ],
      "text/plain": [
       "   user_id ride_month_year  rides_count  duration_sum  distance_sum  \\\n",
       "0      829         2021-12            8         193.0   34583.31457   \n",
       "1      829         2021-12            8         193.0   34583.31457   \n",
       "\n",
       "  subscription_type_x  minute_price  start_ride_price  subscription_fee  \\\n",
       "0                free             8                50                 0   \n",
       "1                free             8                50                 0   \n",
       "\n",
       "   month_revenue   name  age       city subscription_type_y  \n",
       "0         1944.0  Федор   29  Пятигорск                free  \n",
       "1         1944.0  Федор   29  Пятигорск                free  "
      ]
     },
     "execution_count": 39,
     "metadata": {},
     "output_type": "execute_result"
    }
   ],
   "source": [
    "good_user = maindf_grouped[maindf_grouped['month_revenue']==maindf_grouped['month_revenue'].max()].merge(users, on='user_id', how='left') #sort_values(by='month_revenue'),ascending=False)\n",
    "good_user\n",
    "#display(maindf_grouped.style.background_gradient(cmap='Blues', axis=0))\n"
   ]
  },
  {
   "cell_type": "markdown",
   "id": "63f9a6c1",
   "metadata": {},
   "source": [
    "И приз получает Федор из Пятигорска, 29лет, проехавший почти 35км за 8 поездок и затративший чуть больше 3 часов."
   ]
  },
  {
   "cell_type": "markdown",
   "id": "e877b408",
   "metadata": {},
   "source": [
    "<div class=\"alert alert-block alert-danger\">\n",
    "<h2> Комментарий ревьюера v1 <a class=\"tocSkip\"></h2>\n",
    "\n",
    "<b>На доработку🤔:</b>  А округлить столбец с продолжительностью каждой поездки? "
   ]
  },
  {
   "cell_type": "markdown",
   "id": "1d5d7e5e",
   "metadata": {},
   "source": [
    "<div class=\"alert alert-info\">\n",
    "<b> я его округляла в самом алгоритме расчета до этого, но не в исходной таблице maindf_grouped. Ок, округлила в таблице тоже)\n",
    "</b> \n",
    "</div>"
   ]
  },
  {
   "cell_type": "markdown",
   "id": "8a0fc888",
   "metadata": {},
   "source": [
    "<div class=\"alert alert-block alert-danger\">\n",
    "<h2> Комментарий ревьюера v1 <a class=\"tocSkip\"></h2>\n",
    "\n",
    "<b>На доработку🤔:</b>  в итоговом датафрейме не хватает столбца с типом подписки, проверить правильность расчета выручки затруднительно"
   ]
  },
  {
   "cell_type": "markdown",
   "id": "012c1783",
   "metadata": {},
   "source": [
    "<div class=\"alert alert-info\">\n",
    "<b> Оки, добавила столбец и переделала алгоритм без хардкодных переменных (использовала данные из subscriptions).  Удалять  поля для рассчета не стала.\n",
    "</b> \n",
    "</div>"
   ]
  },
  {
   "cell_type": "markdown",
   "id": "856e3b62",
   "metadata": {},
   "source": [
    "<div class=\"alert alert-success\">\n",
    "<h2> Комментарий ревьюера v2 <a class=\"tocSkip\"> </h2>\n",
    "\n",
    "<b>Все супер!👍:</b> Все замечания исправлены!"
   ]
  },
  {
   "cell_type": "markdown",
   "id": "41545ac0",
   "metadata": {},
   "source": [
    "#### Шаг 6. Проверка гипотез\n",
    "<a id='ref6'></a>"
   ]
  },
  {
   "cell_type": "markdown",
   "id": "03b044f5",
   "metadata": {},
   "source": [
    "**6.1 Тратят ли пользователи с подпиской больше времени на поездки?** <a id='ref6.1'></a>"
   ]
  },
  {
   "cell_type": "markdown",
   "id": "15af597c",
   "metadata": {},
   "source": [
    "Важно понять, тратят ли пользователи с подпиской больше времени на поездки? Если да, то пользователи с подпиской могут быть «выгоднее» для компании. Проверьте гипотезу. Используйте исходные данные о продолжительности каждой сессии — отдельно для подписчиков и тех, у кого нет подписки"
   ]
  },
  {
   "cell_type": "markdown",
   "id": "cf858c04",
   "metadata": {},
   "source": [
    "Нулевая гипотеза: пользователи с подписков и без тратят одинаковое время на поездки\n",
    "<br>Альтернативная гипотеза: пользователи без подписки тратят меньше времени"
   ]
  },
  {
   "cell_type": "markdown",
   "id": "602d24d9",
   "metadata": {},
   "source": [
    "<div class=\"alert alert-success\">\n",
    "<h2> Комментарий ревьюера v1 <a class=\"tocSkip\"> </h2>\n",
    "\n",
    "<b>Все супер!👍:</b> Гипотезы сформулированы верно "
   ]
  },
  {
   "cell_type": "code",
   "execution_count": 40,
   "id": "17ecb2e0",
   "metadata": {},
   "outputs": [
    {
     "name": "stdout",
     "output_type": "stream",
     "text": [
      "Среднее время (без подписки) : 17.39\n",
      "Среднее время (с подпиской) : 18.53\n",
      "p-значение: 1.6261032773552045e-34\n",
      "Отвергаем нулевую гипотезу о равенстве средних\n"
     ]
    }
   ],
   "source": [
    "alpha = 0.05 # уровень статистической значимости\n",
    "# если p-value окажется меньше него, отвергнем гипотезу\n",
    "\n",
    "maindf_free_duration = maindf_free['duration']\n",
    "maindf_ultra_duration = maindf_ultra['duration']\n",
    "\n",
    "results = st.ttest_ind(maindf_free_duration, maindf_ultra_duration,alternative='less')\n",
    "\n",
    "print('Среднее время (без подписки) :',round(maindf_free_duration.mean(),2))\n",
    "print('Среднее время (с подпиской) :',round(maindf_ultra_duration.mean(),2))\n",
    "print('p-значение:', results.pvalue)\n",
    "\n",
    "if results.pvalue < alpha:\n",
    "    print('Отвергаем нулевую гипотезу о равенстве средних')\n",
    "else:\n",
    "    print('Не получилось отвергнуть нулевую гипотезу') "
   ]
  },
  {
   "cell_type": "markdown",
   "id": "cf291d62",
   "metadata": {},
   "source": [
    "Так как нулевая гипотеза была отвергнута, то пользователи без подписки действительно в среднем тратят меньше времени на поездки. И даже если мы поставим уровень статистической значимости на 0,01, то нулевая гипотеза также будет отвергнута."
   ]
  },
  {
   "cell_type": "markdown",
   "id": "6d1503f5",
   "metadata": {},
   "source": [
    "<div class=\"alert alert-success\">\n",
    "<h2> Комментарий ревьюера v1 <a class=\"tocSkip\"> </h2>\n",
    "\n",
    "<b>Все супер!👍:</b> Верно!"
   ]
  },
  {
   "cell_type": "markdown",
   "id": "20eac6f2",
   "metadata": {},
   "source": [
    "**6.2 Среднее расстояние, которое проезжают пользователи с подпиской за одну поездку** <a id='ref6.2'></a>"
   ]
  },
  {
   "cell_type": "markdown",
   "id": "b5c8c5b8",
   "metadata": {},
   "source": [
    "Расстояние одной поездки в 3130 метров — оптимальное с точки зрения износа самоката. Можно ли сказать, что среднее расстояние, которое проезжают пользователи с подпиской за одну поездку, не превышает 3130 метров? Проверьте гипотезу и сделайте выводы."
   ]
  },
  {
   "cell_type": "markdown",
   "id": "85bef196",
   "metadata": {},
   "source": [
    "Нулевая гипотеза: среднее расстояние, которое проезжают пользователи с подпиской за одну поездку, не превышает 3130м\n",
    "<br>Альтернативная гипотеза: среднее проезжаемое расстояние скорее всего превышает оптимальное значение"
   ]
  },
  {
   "cell_type": "markdown",
   "id": "751c06b5",
   "metadata": {},
   "source": [
    "<div class=\"alert alert-success\">\n",
    "<h2> Комментарий ревьюера v1 <a class=\"tocSkip\"> </h2>\n",
    "\n",
    "<b>Все супер!👍:</b>Гипотезы сформулированы верно "
   ]
  },
  {
   "cell_type": "code",
   "execution_count": 41,
   "id": "fbab35e7",
   "metadata": {},
   "outputs": [
    {
     "name": "stdout",
     "output_type": "stream",
     "text": [
      "Среднее расстояние (с подпиской) : 3115.43\n",
      "p-значение: 0.07754742644919703\n",
      "Не получилось отвергнуть нулевую гипотезу: среднее расстояние не превышает 3130м\n"
     ]
    }
   ],
   "source": [
    "maindf_ultra_distance = maindf_ultra['distance']\n",
    "\n",
    "interested_value = 3130 #оптимальное рассточние с точки зрения износа\n",
    "\n",
    "alpha = 0.05 # укажите уровень статистической значимости\n",
    "\n",
    "results = st.ttest_1samp(maindf_ultra_distance,interested_value,alternative='less') \n",
    "\n",
    "print('Среднее расстояние (с подпиской) :',round(maindf_ultra_distance.mean(),2))\n",
    "print('p-значение:',results.pvalue ) # добавьте в аргумент p-value\n",
    "\n",
    "if results.pvalue < alpha: # сравните полученный p-value и уровень значимости):\n",
    "    print('Отвергаем нулевую гипотезу: среднее расстояние скорее всего превышает 3130м')\n",
    "else:\n",
    "    print('Не получилось отвергнуть нулевую гипотезу: среднее расстояние не превышает 3130м')"
   ]
  },
  {
   "cell_type": "markdown",
   "id": "9676afee",
   "metadata": {},
   "source": [
    "Уровень полученного p-value=8%, что говорит о том, что выборочное среднее находится в хвосте распределения, однако оно превышает уровень статистической значимости, а значит нельзя с увереностью говорить, что среднее проезжаемое расстояние меньше 3130м."
   ]
  },
  {
   "cell_type": "markdown",
   "id": "e571082e",
   "metadata": {},
   "source": [
    "<div class=\"alert alert-success\">\n",
    "<h2> Комментарий ревьюера v1 <a class=\"tocSkip\"> </h2>\n",
    "\n",
    "<b>Все супер!👍:</b> Вновь успех!"
   ]
  },
  {
   "cell_type": "markdown",
   "id": "d65cb74a",
   "metadata": {},
   "source": [
    "**6.3 Помесячная выручка от пользователей** <a id='ref6.3'></a>"
   ]
  },
  {
   "cell_type": "markdown",
   "id": "b646f6bc",
   "metadata": {},
   "source": [
    "Проверьте гипотезу о том, будет ли помесячная выручка от пользователей с подпиской по месяцам выше, чем выручка от пользователей без подписки. Сделайте вывод."
   ]
  },
  {
   "cell_type": "code",
   "execution_count": 42,
   "id": "35de86cd",
   "metadata": {
    "scrolled": true
   },
   "outputs": [],
   "source": [
    "# def calc_subscriptin(row):\n",
    "#         return users.loc[users['user_id']==row['user_id'],'subscription_type'].any()\n",
    "\n",
    "# maindf_grouped['subscription_type'] = maindf_grouped.apply(calc_subscriptin, axis=1)\n",
    "# maindf_grouped"
   ]
  },
  {
   "cell_type": "markdown",
   "id": "3dfdc266",
   "metadata": {},
   "source": [
    "Создадим отдельные датафреймы для пользователей с подпиской и без и проверим гипотезу."
   ]
  },
  {
   "cell_type": "markdown",
   "id": "d7edd734",
   "metadata": {},
   "source": [
    "<div class=\"alert alert-success\">\n",
    "<h2> Комментарий ревьюера v1 <a class=\"tocSkip\"> </h2>\n",
    "\n",
    "<b>Все супер!👍:</b> То, о чем говорил выше) "
   ]
  },
  {
   "cell_type": "markdown",
   "id": "4e7713b2",
   "metadata": {},
   "source": [
    "Нулевая гипотеза: истинное среднее помесячной выручки двух выборок равно.\n",
    "<br>Альтернативная гипотеза: помесячная выручка по пользователям без подписки меньше по пользователям с подпиской."
   ]
  },
  {
   "cell_type": "markdown",
   "id": "c9dc84c1",
   "metadata": {},
   "source": [
    "<div class=\"alert alert-success\">\n",
    "<h2> Комментарий ревьюера v1 <a class=\"tocSkip\"> </h2>\n",
    "\n",
    "<b>Все супер!👍:</b> Гипотезы сформулированы верно.\n",
    "    "
   ]
  },
  {
   "cell_type": "code",
   "execution_count": 43,
   "id": "0b41021a",
   "metadata": {},
   "outputs": [
    {
     "name": "stdout",
     "output_type": "stream",
     "text": [
      "Средняя выручка (без подписки) : 330.01\n",
      "Средняя выручка (с подпиской) : 365.62\n",
      "p-значение: 1.3600256840012913e-32\n",
      "Отвергаем нулевую гипотезу о равенстве средних\n"
     ]
    }
   ],
   "source": [
    "maindf_free_revenue = maindf_grouped.query('subscription_type==\"free\"')['month_revenue']\n",
    "maindf_ultra_revenue = maindf_grouped.query('subscription_type==\"ultra\"')['month_revenue']\n",
    "\n",
    "alpha = 0.05 # уровень статистической значимости\n",
    "# если p-value окажется меньше него, отвергнем гипотезу\n",
    "results = st.ttest_ind(maindf_free_revenue, maindf_ultra_revenue, alternative='less')\n",
    "\n",
    "print('Средняя выручка (без подписки) :',round(maindf_free_revenue.mean(),2))\n",
    "print('Средняя выручка (с подпиской) :',round(maindf_ultra_revenue.mean(),2))\n",
    "print('p-значение:', results.pvalue)\n",
    "\n",
    "if results.pvalue < alpha:\n",
    "    print('Отвергаем нулевую гипотезу о равенстве средних')\n",
    "else:\n",
    "    print('Не получилось отвергнуть нулевую гипотезу') \n"
   ]
  },
  {
   "cell_type": "markdown",
   "id": "c6d51c29",
   "metadata": {},
   "source": [
    "Нулевая гипотеза отвергнута, значит, выручка по пользователям с подпиской действительно больше."
   ]
  },
  {
   "cell_type": "markdown",
   "id": "53f552fd",
   "metadata": {},
   "source": [
    "<div class=\"alert alert-success\">\n",
    "<h2> Комментарий ревьюера v1 <a class=\"tocSkip\"> </h2>\n",
    "\n",
    "<b>Все супер!👍:</b> Хорошечно"
   ]
  },
  {
   "cell_type": "markdown",
   "id": "40977735",
   "metadata": {},
   "source": [
    "<div class=\"alert alert-warning\">\n",
    "    <h2> Комментарий ревьюера v1 <a class=\"tocSkip\"> </h2>\n",
    "    \n",
    "<b>Небольшие замечания и рекомендации💡:</b> Рекомендация ко всем гипотезам: Не забывай выводить средние оценки"
   ]
  },
  {
   "cell_type": "markdown",
   "id": "51fced73",
   "metadata": {},
   "source": [
    "<div class=\"alert alert-info\">\n",
    "<b> Done\n",
    "</b> \n",
    "</div>"
   ]
  },
  {
   "cell_type": "markdown",
   "id": "4ac29d91",
   "metadata": {},
   "source": [
    "<div class=\"alert alert-success\">\n",
    "<h2> Комментарий ревьюера v2 <a class=\"tocSkip\"> </h2>\n",
    "\n",
    "<b>Все супер!👍:</b> Топ"
   ]
  },
  {
   "cell_type": "markdown",
   "id": "1a70f338",
   "metadata": {},
   "source": [
    "**6.4 Количество обращений в техподдержку** <a id='ref6.4'></a>"
   ]
  },
  {
   "cell_type": "markdown",
   "id": "89e09d9b",
   "metadata": {},
   "source": [
    "Представьте такую ситуацию: техническая команда сервиса обновила сервера, с которыми взаимодействует мобильное приложение. Она надеется, что из-за этого количество обращений в техподдержку значимо снизилось. Некоторый файл содержит для каждого пользователя данные о количестве обращений до обновления и после него. Какой тест вам понадобился бы для проверки этой гипотезы?"
   ]
  },
  {
   "cell_type": "markdown",
   "id": "22ac8adf",
   "metadata": {},
   "source": [
    "Для решения данной задачи понадобился бы метод scipy.stats.ttest_rel для проверки гипотезы о равенстве двух средних для зависимых(парных) выборок, так как анализируется одна и та же совокупность данных до изменений и после."
   ]
  },
  {
   "cell_type": "markdown",
   "id": "51f800a7",
   "metadata": {},
   "source": [
    "<div class=\"alert alert-success\">\n",
    "<h2> Комментарий ревьюера v1 <a class=\"tocSkip\"> </h2>\n",
    "\n",
    "<b>Все супер!👍:</b> В точку!"
   ]
  },
  {
   "cell_type": "markdown",
   "id": "61213c5e",
   "metadata": {},
   "source": [
    "#### Шаг 7. Распределения\n",
    "<a id='ref7'></a>"
   ]
  },
  {
   "cell_type": "markdown",
   "id": "09db18d8",
   "metadata": {},
   "source": [
    "**7.1 Акция с раздачей промокодов** <a id='ref7.1'></a>"
   ]
  },
  {
   "cell_type": "markdown",
   "id": "def7f9c5",
   "metadata": {},
   "source": [
    "Отделу маркетинга GoFast поставили задачу: нужно провести акцию с раздачей промокодов на один бесплатный месяц подписки, в рамках которой как минимум 100 существующих клиентов должны продлить эту подписку. То есть по завершении периода действия подписки пользователь может либо отказаться от неё, либо продлить, совершив соответствующий платёж. \n",
    "Эта акция уже проводилась ранее и по итогу выяснилось, что после бесплатного пробного периода подписку продлевают 10 % пользователей. Выясните, какое минимальное количество промокодов нужно разослать, чтобы вероятность не выполнить план была примерно 5 %. Подберите параметры распределения, описывающего эту ситуацию, постройте график распределения и сформулируйте ответ на вопрос о количестве промокодов.\n"
   ]
  },
  {
   "cell_type": "markdown",
   "id": "9f641112",
   "metadata": {},
   "source": [
    "Необходимо использовать биномиальное распределение с параметром вероятности успеха p=0.1. \n",
    "<br>Далее подобрать такое минимальное количество N, при котором биномиальное распределение будет аппроксимироваться к нормальному, и при этом значение Percent Point Function для вероятности 95% будет не менее 100, т.е. мы получим не менее 100 успехов (пользователей, продливших подписку)."
   ]
  },
  {
   "cell_type": "code",
   "execution_count": 44,
   "id": "8448a097",
   "metadata": {},
   "outputs": [
    {
     "data": {
      "image/png": "[encoded data removed]",
      "text/plain": [
       "<Figure size 432x288 with 1 Axes>"
      ]
     },
     "metadata": {
      "needs_background": "light"
     },
     "output_type": "display_data"
    },
    {
     "name": "stdout",
     "output_type": "stream",
     "text": [
      "Условие аппроксимации выполняется\n",
      "100.03728048156961\n"
     ]
    }
   ],
   "source": [
    "# зададим функцию, которая выдаёт <num> чисел,\n",
    "# равномерно распределённых от <start> до <stop>\n",
    "# (понадобится для визуализации нормального распределения)\n",
    "def linspace(start, stop, num):\n",
    "    step = (stop - start) / (num - 1)\n",
    "    result = []\n",
    "    for i in range(num):\n",
    "        result.append(start + step * i)\n",
    "    return result\n",
    " \n",
    "# задаём параметры биномиального распределения\n",
    "n = 856\n",
    "p = 0.1\n",
    "\n",
    "# границы промежутка, в котором будем строить аппроксимацию -\n",
    "# от n*p минус 4 ст.отклонения бином.распределения\n",
    "# до n*p плюс 4 ст.отклонения бином.распределения\n",
    "# (там, где вероятности значений почти не равны нулю)\n",
    "left = int(n * p - 4 * sqrt(n * p * (1 - p)))\n",
    "right = int(n * p + 4 * sqrt(n * p * (1 - p)))\n",
    " \n",
    "# зададим набор значений биномиальной величины на выбранном промежутке:\n",
    "# все неотрицательные целые числа от left до right\n",
    "x = list(range(max(0, left), right))\n",
    "# рисуем график биномиального распределения\n",
    "ax = plt.subplot()\n",
    "# используем синие о-образные маркеры и размер маркера 5\n",
    "ax.plot(x, binom.pmf(x, n, p), 'bo', ms=5,\n",
    "\t      label='вероятности биномиального распределения')\n",
    "\n",
    "# зададим параметры нормального распределения равными\n",
    "# мат.ожиданию и дисперсии биномиального распределения\n",
    "mu = n * p\n",
    "sigma = sqrt(n * p * (1 - p))\n",
    " \n",
    "# рисуем график нормального распределения:\n",
    "# получим список из 100 чисел от left до right\n",
    "x = linspace(left, right, 100)\n",
    "# используем красную линию ширины 3 и прозрачности 0.3\n",
    "ax.plot(x, norm.pdf(x, mu, sigma), 'r-', lw=3, alpha=0.3, label='плотность вероятности нормального распределения')\n",
    " \n",
    "# зададим подписи по оси x в пределах ± 3 ст.отклонений от мат.ожидания\n",
    "# (последний аргумент в методе range - интервал между подписями)\n",
    "x_ticks = list(range(int(mu - 3 * sigma), int(mu + 3 * sigma), 10))\n",
    "ax.set_xticks(x_ticks)\n",
    "\n",
    "# настраиваем оптимальное расположение легенды и выводим график\n",
    "ax.legend(loc='best')\n",
    "plt.title('График распределения вероятности получения новых пользователей с подпиской')\n",
    "plt.ylabel('Вероятность')\n",
    "plt.xlabel('Количество новых польователей.')\n",
    "plt.show()\n",
    "\n",
    "# выводим, выполняется ли наше условие аппроксимации:\n",
    "# лежит ли mu ± 3 sigma в промежутке от 0 до n:\n",
    "if (mu - (3 * sigma) >= 0) and ((mu + (3 * sigma) <= n)):\n",
    "    print('Условие аппроксимации выполняется')\n",
    "else:\n",
    "    print('Условие аппроксимации не выполняется')\n",
    "    \n",
    "norm_distr = st.norm(mu, sigma) \n",
    "\n",
    "result = norm_distr.ppf(0.95)\n",
    "print(result)\n"
   ]
  },
  {
   "cell_type": "markdown",
   "id": "21bd8cdf",
   "metadata": {},
   "source": [
    "Мы построили биномиальное распределение, аппроксимировали его к нормальному и подобрали минимальное количество N,чтобы функция ppf выдала значение 100.\n",
    "Минимальное N равно 856, т.е. необходимо выдать не менее 856 промокодов, чтобы получить 100 новых пользователей с подпиской."
   ]
  },
  {
   "cell_type": "markdown",
   "id": "602ac23b",
   "metadata": {},
   "source": [
    "**7.2 Push-уведомления** <a id='ref7.2'></a>"
   ]
  },
  {
   "cell_type": "markdown",
   "id": "0800495c",
   "metadata": {},
   "source": [
    "Отдел маркетинга рассылает клиентам push-уведомления в мобильном приложении. Клиенты могут открыть его или не открывать. Известно, что уведомления открывают около 40 % получивших клиентов. Отдел планирует разослать 11 млн уведомлений. С помощью аппроксимации постройте примерный график распределения и оцените вероятность того, что уведомление откроют не более 399,5 тыс. пользователей."
   ]
  },
  {
   "cell_type": "code",
   "execution_count": 45,
   "id": "74986989",
   "metadata": {},
   "outputs": [
    {
     "name": "stdout",
     "output_type": "stream",
     "text": [
      "Вероятность того, что пуш-уведомления откроют менее 399,5тыс пользователей: 0.0 %\n"
     ]
    },
    {
     "data": {
      "image/png": "[encoded data removed]",
      "text/plain": [
       "<Figure size 432x288 with 1 Axes>"
      ]
     },
     "metadata": {
      "needs_background": "light"
     },
     "output_type": "display_data"
    }
   ],
   "source": [
    "# задаём параметры \n",
    "n = 11000000\n",
    "p = 0.4\n",
    "\n",
    "mu = n * p\n",
    "sigma = sqrt(n * p * (1 - p))\n",
    "\n",
    "distr = st.norm(mu, sigma)\n",
    "\n",
    "interested_value = 399500\n",
    "\n",
    "result = distr.cdf(interested_value)\n",
    "print('Вероятность того, что пуш-уведомления откроют менее 399,5тыс пользователей:',result,'%')\n",
    "\n",
    "############### рисуем примерные графики\n",
    "n = 11000  ##уменьшим значение до тысяч\n",
    "p = 0.4\n",
    "\n",
    "mu = n * p\n",
    "sigma = sqrt(n * p * (1 - p))\n",
    "\n",
    "def linspace(start, stop, num):\n",
    "    step = (stop - start) / (num - 1)\n",
    "    result = []\n",
    "    for i in range(num):\n",
    "        result.append(start + step * i)\n",
    "    return result\n",
    "# границы промежутка, в котором будем строить аппроксимацию -\n",
    "# от n*p минус 4 ст.отклонения бином.распределения\n",
    "# до n*p плюс 4 ст.отклонения бином.распределения\n",
    "# (там, где вероятности значений почти не равны нулю)\n",
    "left = int(n * p - 4 * sqrt(n * p * (1 - p)))\n",
    "right = int(n * p + 4 * sqrt(n * p * (1 - p)))\n",
    "# зададим набор значений биномиальной величины на выбранном промежутке:\n",
    "# все неотрицательные целые числа от left до right\n",
    "x = list(range(max(0, left), right))\n",
    "# рисуем график биномиального распределения\n",
    "ax = plt.subplot()\n",
    "# используем синие о-образные маркеры и размер маркера 5\n",
    "ax.plot(x, binom.pmf(x, n, p), 'bo', ms=5, label='вероятности биномиального распределения')\n",
    "\n",
    "# рисуем график нормального распределения:\n",
    "# получим список из 100 чисел от left до right\n",
    "x = linspace(left, right, 11000)\n",
    "# используем красную линию ширины 3 и прозрачности 0.3\n",
    "ax.plot(x, norm.pdf(x, mu, sigma), 'r-', lw=3, alpha=0.3, label='плотность вероятности нормального распределения')\n",
    " \n",
    "# зададим подписи по оси x в пределах ± 3 ст.отклонений от мат.ожидания\n",
    "# (последний аргумент в методе range - интервал между подписями)\n",
    "x_ticks = list(range(int(mu - 3 * sigma), int(mu + 3 * sigma), 100))\n",
    "ax.set_xticks(x_ticks)\n",
    "\n",
    "# настраиваем оптимальное расположение легенды и выводим график\n",
    "ax.legend(loc='best')\n",
    "plt.title('График распределения вероятности открытых пуш-уведомлений')\n",
    "plt.ylabel('Вероятность')\n",
    "plt.xlabel('Количество открытых пуш-уведомлений, тыс.')\n",
    "plt.show()\n"
   ]
  },
  {
   "cell_type": "markdown",
   "id": "2610b7f2",
   "metadata": {},
   "source": [
    "Вероятность того пуш-уведомления откроют не более 399,5 стремится к 0%.\n",
    "<br> Также видим, что матожидание примерно равно 4400тыс(n*p=11000000 * 0.4), т.е. 4,4млн новых пользователей, поэтому действительно веротяность получить не более 399,5тыс. крайне мала."
   ]
  },
  {
   "cell_type": "markdown",
   "id": "c6b444d6",
   "metadata": {},
   "source": [
    "<div class=\"alert alert-success\">\n",
    "<h2> Комментарий ревьюера v1 <a class=\"tocSkip\"> </h2>\n",
    "\n",
    "<b>Все супер!👍:</b> Отличная работа! Вопросов нет) "
   ]
  },
  {
   "cell_type": "markdown",
   "id": "41a3eca1",
   "metadata": {},
   "source": [
    "<div class=\"alert alert-block alert-danger\">\n",
    "<h2> Комментарий ревьюера v1 <a class=\"tocSkip\"></h2>\n",
    "\n",
    "<b>На доработку🤔:</b> Сделаем вывод по проделанной работе?"
   ]
  },
  {
   "cell_type": "markdown",
   "id": "837dfd73",
   "metadata": {},
   "source": [
    "**Итоговый вывод по проекту:**\n",
    "У на имелись данные по пользователям, их поездкам и подпискам сервиса проката самокатов GoFast.\n",
    "<br><br>**Этап предобработки данных:**\n",
    "На этапе предобработки данных были выявлены и решены следующие проблемы:\n",
    "- столбец rides['date'] был типа objeсt, хотя содержал дату поездки. Преобразован в тип datetime\n",
    "- для дальнейшего помесячного анализа пользователей с подпиской и без не хватало данных о годе и месяце поездки. На основе столбца rides['date'] были рассчитаны недостающие  столбцы rides['ride_month'] и rides['ride_year']\n",
    "- в таблице users были обнаружены и удалены полные дубликаты строк (31 строка)\n",
    "- пропуски в столбцах всех трех таблиц не обнаружены\n",
    "\n",
    "<br><br>**Исследовательский анализ данных:**\n",
    "<br>На этапе исследовательского анализа было выявлено:\n",
    "- наибольшее число пользователей (а также наибольшее суммарное расстояние и время) в городе Пятигорске. Второе и третье место занимают города Екатеринбург и Ростов-на-Дону\n",
    "- пользователей с подпиской - 46%, без подписки - 54% от общего числа. \n",
    "- Медиана по возрасту пользователей составляет 24года. При этом, половина пользователей сервиса приходится на возраст 22-28лет. Возраст самого молодого пользователя сервиса - 12лет. Возраст самого старшего пользователя сервиса - 43 года. Повышение интереса к самокатам с возраста 12 до 25лет происходит также, как и снижение интереса в последующие 15лет (с 25 до 40лет).\n",
    "- Медиана по расстояния составляет 3070м. Половина всех поездок приходится на интервал 2,5-3,8км. Самая короткая зарегистрированная поездка - менее 1м. Самая длинна зарегистрированная поездка - менее 7,2км. \n",
    "- Медиана по длительности поездки составляет 17мин - это наиболее среднее время использования самоката. Половина всех поездок приходится на 13-22мин. Самая короткая поездка - полминуты, как и в случае с расстоянием, пользователь скорее всего просто изучал сервис.  Самая длинная поездка - 40мин. Возможно, это тот самый пользователь, который проехал 7км.\n",
    "- Наличие подписки не влияет на время аренды самоката - поведение пользователей идентично. Учитывая также, что соотношение  пользователей с подпиской и без близко к 50\\50, можно сказать, что условия одинаково выгодны и по подписке и без нее.\n",
    "- Пользователи с подпиской гораздо чаще проезжают расстояние в районе 3км нежели пользователи без подписки. \n",
    "- Наибольшая выручка, которую принес пользователь в месяц - 1944 рубля. \n",
    "\n",
    "<br><br>**Проверка гипотез:**\n",
    "<br>Было проверено несколько гипотез:\n",
    "<br>**1) Тратят ли пользователи с подпиской больше времени на поездки?**\n",
    "<br>Нулевая гипотеза: среднее расстояние, которое проезжают пользователи с подпиской за одну поездку, не превышает 3130м\n",
    "<br>Альтернативная гипотеза: среднее проезжаемое расстояние скорее всего превышает оптимальное значение\n",
    "<br>**Вывод:** \n",
    "<br> Пользователи без подписки действительно в среднем тратят меньше времени на поездки. \n",
    "<br>**2) Можно ли сказать, что среднее расстояние, которое проезжают пользователи с подпиской за одну поездку, не превышает 3130 метров?**\n",
    "<br>Нулевая гипотеза: среднее расстояние, которое проезжают пользователи с подпиской за одну поездку, не превышает 3130м\n",
    "<br>Альтернативная гипотеза: среднее проезжаемое расстояние скорее всего превышает оптимальное значение\n",
    "<br>**Вывод:** \n",
    "<br>Нулевая гипотеза: среднее расстояние, которое проезжают пользователи с подпиской за одну поездку, не превышает 3130м\n",
    "<br>Альтернативная гипотеза: среднее проезжаемое расстояние скорее всего превышает оптимальное значение\n",
    "<br>Среднее проезжаемое расстояние для пользователей с подпиской : 3115.43м\n",
    "Однако не получилось отвергнуть нулевую гипотезу и нельзя с увереностью говорить, что среднее проезжаемое расстояние меньше 3130м, так как выбранный уровень статистической значимости позволяет говорить о том, что нам случайно попалась выборка со средним немного меньше, чем 3130м.\n",
    "<br>**3) Будет ли помесячная выручка от пользователей с подпиской по месяцам выше, чем выручка от пользователей без подписки?**\n",
    "<br>Нулевая гипотеза: истинное среднее помесячной выручки двух выборок равно.\n",
    "<br>Альтернативная гипотеза: помесячная выручка по пользователям без подписки меньше по пользователям с подпиской.\n",
    "<br>**Вывод:** \n",
    "<br>Средняя выручка (без подписки) : 330.01\n",
    "<br>Средняя выручка (с подпиской) : 365.62\n",
    "<br>Нулевая гипотеза отвергнута, значит, выручка по пользователям с подпиской действительно больше.\n",
    "\n",
    "<br><br>**Также дополнительно рассмотрели случаи:**\n",
    "<br>**1) По отделу маркетинга, который собирается запускать акцию с раздачей промокодов**\n",
    "<br>Выяснили, что при заданных условиях акции необходимо разослать не менее 856 промокодов.\n",
    "<br>**1) По отделу маркетинга, который собирается запускать push-уведомления:**\n",
    "<br>Выяснили, что при заданных условиях уведомления скорее откроют 4,4млн полбзователей, а вто время как вероятность, что их откроют 399,4 тыс. пользователей стремится к нулю.\n"
   ]
  },
  {
   "cell_type": "markdown",
   "id": "4b7be98b",
   "metadata": {},
   "source": [
    "<div class=\"alert alert-success\">\n",
    "<h2> Комментарий ревьюера v2 <a class=\"tocSkip\"> </h2>\n",
    "\n",
    "<b>Все супер!👍:</b> Вывод отражает проделанную работу!"
   ]
  },
  {
   "cell_type": "markdown",
   "id": "ddd29bf5",
   "metadata": {},
   "source": [
    "<div style=\"border:solid Chocolate 2px; padding: 40px\">\n",
    "    \n",
    "**Общий вывод по проекту ревьювера**:\n",
    "Елена, спасибо за  проект! Ты приложила много усилий, чтобы довести его до конца, проделана огромная работа, и это видно невооруженным глазом, ты большая молодец!\n",
    "    \n",
    "**Отмечу положительные моменты**:\n",
    "    \n",
    "    1. Все разложено по полочкам, всегда понятен ход твоих мыслей, приятно смотреть\n",
    "    \n",
    "    2. Отличные визуализации\n",
    "    \n",
    "    3. На разных шагах проекта ты предлагала очень интересные решения и методы для их реализации. Хорошая работа!\n",
    "    \n",
    "    \n",
    "**На что стоит обратить внимание**:\n",
    "    \n",
    "    1. Не округлен столбец с продолжительностью поездки\n",
    "    \n",
    "    2. Нет итогового вывода\n",
    "    \n",
    "    \n",
    "**Удачи и жду твой проект на повторное ревью!**"
   ]
  },
  {
   "cell_type": "markdown",
   "id": "1de773a8",
   "metadata": {},
   "source": [
    "<div class=\"alert alert-info\">\n",
    "<b> Спасибо за подробные комментарии! Постаралась все учесть.\n",
    "</b> \n",
    "</div>"
   ]
  },
  {
   "cell_type": "markdown",
   "id": "cf34cd5c",
   "metadata": {},
   "source": [
    "<div style=\"border:solid Chocolate 2px; padding: 40px\">\n",
    "    \n",
    "**Общий вывод по проекту ревьювера v2**:\n",
    "Елена, ошибки исправлены, проект принят, поздравляю тебя! Успешной учебы и еще увидимся в Практикуме!\n",
    "    "
   ]
  },
  {
   "cell_type": "code",
   "execution_count": null,
   "id": "6ddbdc1c",
   "metadata": {},
   "outputs": [],
   "source": []
  }
 ],
 "metadata": {
  "ExecuteTimeLog": [
   {
    "duration": 86,
    "start_time": "2023-09-18T12:00:12.664Z"
   },
   {
    "duration": 9,
    "start_time": "2023-09-18T12:00:18.299Z"
   },
   {
    "duration": 512,
    "start_time": "2023-09-18T12:00:22.893Z"
   },
   {
    "duration": 114,
    "start_time": "2023-09-18T12:00:24.630Z"
   },
   {
    "duration": 66,
    "start_time": "2023-09-18T12:00:42.604Z"
   },
   {
    "duration": 113,
    "start_time": "2023-09-18T12:01:11.752Z"
   },
   {
    "duration": 72,
    "start_time": "2023-09-18T12:01:49.430Z"
   },
   {
    "duration": 45,
    "start_time": "2023-09-18T12:21:17.853Z"
   },
   {
    "duration": 55,
    "start_time": "2023-09-18T12:23:28.489Z"
   },
   {
    "duration": 60,
    "start_time": "2023-09-18T12:23:33.993Z"
   },
   {
    "duration": 62,
    "start_time": "2023-09-18T12:23:40.985Z"
   },
   {
    "duration": 41,
    "start_time": "2023-09-18T12:23:48.828Z"
   },
   {
    "duration": 39,
    "start_time": "2023-09-18T12:25:28.662Z"
   },
   {
    "duration": 57,
    "start_time": "2023-09-18T12:43:43.798Z"
   },
   {
    "duration": 12,
    "start_time": "2023-09-18T12:55:09.245Z"
   },
   {
    "duration": 8,
    "start_time": "2023-09-18T12:57:24.274Z"
   },
   {
    "duration": 104,
    "start_time": "2023-09-18T12:58:10.931Z"
   },
   {
    "duration": 9,
    "start_time": "2023-09-18T13:00:20.032Z"
   },
   {
    "duration": 7,
    "start_time": "2023-09-18T13:00:44.849Z"
   },
   {
    "duration": 7,
    "start_time": "2023-09-18T13:00:55.365Z"
   },
   {
    "duration": 4,
    "start_time": "2023-09-18T13:03:57.336Z"
   },
   {
    "duration": 8,
    "start_time": "2023-09-18T13:04:13.729Z"
   },
   {
    "duration": 14,
    "start_time": "2023-09-18T13:04:33.348Z"
   },
   {
    "duration": 15,
    "start_time": "2023-09-18T13:07:20.158Z"
   },
   {
    "duration": 11,
    "start_time": "2023-09-18T13:08:13.275Z"
   },
   {
    "duration": 8,
    "start_time": "2023-09-18T13:09:11.879Z"
   },
   {
    "duration": 10,
    "start_time": "2023-09-18T13:10:05.089Z"
   },
   {
    "duration": 9,
    "start_time": "2023-09-18T13:10:13.904Z"
   },
   {
    "duration": 22,
    "start_time": "2023-09-18T13:12:52.026Z"
   },
   {
    "duration": 17,
    "start_time": "2023-09-18T13:27:45.157Z"
   },
   {
    "duration": 10,
    "start_time": "2023-09-18T13:28:14.036Z"
   },
   {
    "duration": 17,
    "start_time": "2023-09-18T13:28:22.605Z"
   },
   {
    "duration": 9,
    "start_time": "2023-09-18T13:29:04.775Z"
   },
   {
    "duration": 10,
    "start_time": "2023-09-18T13:31:54.055Z"
   },
   {
    "duration": 8,
    "start_time": "2023-09-18T13:32:09.343Z"
   },
   {
    "duration": 43,
    "start_time": "2023-09-18T13:35:39.130Z"
   },
   {
    "duration": 9,
    "start_time": "2023-09-18T13:35:44.096Z"
   },
   {
    "duration": 5,
    "start_time": "2023-09-18T13:36:00.887Z"
   },
   {
    "duration": 652,
    "start_time": "2023-09-18T13:49:00.183Z"
   },
   {
    "duration": 552,
    "start_time": "2023-09-18T14:05:45.643Z"
   },
   {
    "duration": 86,
    "start_time": "2023-09-18T14:06:45.276Z"
   },
   {
    "duration": 17,
    "start_time": "2023-09-18T14:06:54.248Z"
   },
   {
    "duration": 19,
    "start_time": "2023-09-18T14:08:44.330Z"
   },
   {
    "duration": 17,
    "start_time": "2023-09-18T14:09:09.462Z"
   },
   {
    "duration": 17,
    "start_time": "2023-09-18T14:09:14.035Z"
   },
   {
    "duration": 28,
    "start_time": "2023-09-18T14:10:51.709Z"
   },
   {
    "duration": 23,
    "start_time": "2023-09-18T14:11:12.951Z"
   },
   {
    "duration": 10,
    "start_time": "2023-09-18T14:12:41.696Z"
   },
   {
    "duration": 10,
    "start_time": "2023-09-18T14:12:47.164Z"
   },
   {
    "duration": 6,
    "start_time": "2023-09-18T14:13:14.455Z"
   },
   {
    "duration": 16,
    "start_time": "2023-09-18T14:14:13.832Z"
   },
   {
    "duration": 169,
    "start_time": "2023-09-18T14:15:00.804Z"
   },
   {
    "duration": 13,
    "start_time": "2023-09-18T14:18:04.848Z"
   },
   {
    "duration": 7,
    "start_time": "2023-09-18T14:18:15.613Z"
   },
   {
    "duration": 7,
    "start_time": "2023-09-18T14:18:21.068Z"
   },
   {
    "duration": 19,
    "start_time": "2023-09-18T14:18:56.011Z"
   },
   {
    "duration": 21,
    "start_time": "2023-09-18T14:19:02.274Z"
   },
   {
    "duration": 20,
    "start_time": "2023-09-18T14:19:10.336Z"
   },
   {
    "duration": 15,
    "start_time": "2023-09-18T14:19:41.293Z"
   },
   {
    "duration": 147,
    "start_time": "2023-09-18T14:21:43.244Z"
   },
   {
    "duration": 2430,
    "start_time": "2023-09-18T14:22:18.743Z"
   },
   {
    "duration": 5,
    "start_time": "2023-09-18T14:22:26.064Z"
   },
   {
    "duration": 12,
    "start_time": "2023-09-18T14:22:30.100Z"
   },
   {
    "duration": 170,
    "start_time": "2023-09-18T14:22:56.835Z"
   },
   {
    "duration": 198,
    "start_time": "2023-09-18T14:23:33.699Z"
   },
   {
    "duration": 215,
    "start_time": "2023-09-18T14:23:47.440Z"
   },
   {
    "duration": 241,
    "start_time": "2023-09-18T14:24:22.440Z"
   },
   {
    "duration": 20,
    "start_time": "2023-09-18T14:25:16.096Z"
   },
   {
    "duration": 251,
    "start_time": "2023-09-18T14:25:24.388Z"
   },
   {
    "duration": 15,
    "start_time": "2023-09-18T14:26:15.907Z"
   },
   {
    "duration": 196,
    "start_time": "2023-09-18T14:26:20.748Z"
   },
   {
    "duration": 2040,
    "start_time": "2023-09-18T14:33:43.032Z"
   },
   {
    "duration": 30,
    "start_time": "2023-09-18T14:33:52.627Z"
   },
   {
    "duration": 18,
    "start_time": "2023-09-18T14:35:20.170Z"
   },
   {
    "duration": 20,
    "start_time": "2023-09-18T14:35:44.328Z"
   },
   {
    "duration": 31,
    "start_time": "2023-09-18T14:37:16.404Z"
   },
   {
    "duration": 95,
    "start_time": "2023-09-18T14:39:54.195Z"
   },
   {
    "duration": 7,
    "start_time": "2023-09-18T14:40:58.562Z"
   },
   {
    "duration": 11,
    "start_time": "2023-09-18T14:41:02.955Z"
   },
   {
    "duration": 226,
    "start_time": "2023-09-18T14:41:44.347Z"
   },
   {
    "duration": 137,
    "start_time": "2023-09-18T14:42:46.732Z"
   },
   {
    "duration": 107,
    "start_time": "2023-09-18T14:44:27.458Z"
   },
   {
    "duration": 241,
    "start_time": "2023-09-18T14:49:00.444Z"
   },
   {
    "duration": 174,
    "start_time": "2023-09-18T14:49:41.833Z"
   },
   {
    "duration": 15,
    "start_time": "2023-09-18T14:51:12.245Z"
   },
   {
    "duration": 11,
    "start_time": "2023-09-18T14:51:21.476Z"
   },
   {
    "duration": 5,
    "start_time": "2023-09-18T14:51:32.472Z"
   },
   {
    "duration": 165,
    "start_time": "2023-09-18T14:59:10.481Z"
   },
   {
    "duration": 100,
    "start_time": "2023-09-18T15:01:10.384Z"
   },
   {
    "duration": 19,
    "start_time": "2023-09-18T15:29:34.872Z"
   },
   {
    "duration": 32,
    "start_time": "2023-09-18T15:30:15.904Z"
   },
   {
    "duration": 17,
    "start_time": "2023-09-18T15:32:27.677Z"
   },
   {
    "duration": 72,
    "start_time": "2023-09-18T15:32:36.159Z"
   },
   {
    "duration": 23,
    "start_time": "2023-09-18T15:38:17.547Z"
   },
   {
    "duration": 24,
    "start_time": "2023-09-18T15:38:48.374Z"
   },
   {
    "duration": 183,
    "start_time": "2023-09-18T15:40:34.283Z"
   },
   {
    "duration": 172,
    "start_time": "2023-09-18T15:43:20.630Z"
   },
   {
    "duration": 191,
    "start_time": "2023-09-18T15:43:28.824Z"
   },
   {
    "duration": 214,
    "start_time": "2023-09-18T15:44:08.481Z"
   },
   {
    "duration": 180,
    "start_time": "2023-09-18T15:45:27.534Z"
   },
   {
    "duration": 221,
    "start_time": "2023-09-18T15:46:21.626Z"
   },
   {
    "duration": 333,
    "start_time": "2023-09-18T15:46:54.624Z"
   },
   {
    "duration": 243,
    "start_time": "2023-09-18T15:47:15.066Z"
   },
   {
    "duration": 90,
    "start_time": "2023-09-18T15:52:12.738Z"
   },
   {
    "duration": 256,
    "start_time": "2023-09-18T15:53:20.009Z"
   },
   {
    "duration": 220,
    "start_time": "2023-09-18T15:53:47.176Z"
   },
   {
    "duration": 210,
    "start_time": "2023-09-18T15:53:52.028Z"
   },
   {
    "duration": 223,
    "start_time": "2023-09-18T15:53:55.931Z"
   },
   {
    "duration": 81,
    "start_time": "2023-09-18T16:10:16.227Z"
   },
   {
    "duration": 85,
    "start_time": "2023-09-18T16:10:48.856Z"
   },
   {
    "duration": 11,
    "start_time": "2023-09-18T16:29:34.329Z"
   },
   {
    "duration": 33,
    "start_time": "2023-09-18T16:29:39.860Z"
   },
   {
    "duration": 32,
    "start_time": "2023-09-18T16:31:02.774Z"
   },
   {
    "duration": 209,
    "start_time": "2023-09-18T16:32:46.713Z"
   },
   {
    "duration": 9,
    "start_time": "2023-09-18T16:36:29.703Z"
   },
   {
    "duration": 20,
    "start_time": "2023-09-18T16:37:06.282Z"
   },
   {
    "duration": 18,
    "start_time": "2023-09-18T16:37:20.669Z"
   },
   {
    "duration": 9,
    "start_time": "2023-09-18T16:37:45.896Z"
   },
   {
    "duration": 14,
    "start_time": "2023-09-18T16:37:49.115Z"
   },
   {
    "duration": 36,
    "start_time": "2023-09-18T16:37:52.449Z"
   },
   {
    "duration": 35,
    "start_time": "2023-09-18T16:38:01.474Z"
   },
   {
    "duration": 21,
    "start_time": "2023-09-18T16:38:21.623Z"
   },
   {
    "duration": 29,
    "start_time": "2023-09-18T16:38:32.301Z"
   },
   {
    "duration": 209,
    "start_time": "2023-09-18T16:43:38.565Z"
   },
   {
    "duration": 229,
    "start_time": "2023-09-18T17:00:00.003Z"
   },
   {
    "duration": 226,
    "start_time": "2023-09-18T17:00:16.900Z"
   },
   {
    "duration": 188,
    "start_time": "2023-09-18T17:01:36.666Z"
   },
   {
    "duration": 434,
    "start_time": "2023-09-18T17:02:39.709Z"
   },
   {
    "duration": 218,
    "start_time": "2023-09-18T17:03:09.553Z"
   },
   {
    "duration": 229,
    "start_time": "2023-09-18T17:03:28.671Z"
   },
   {
    "duration": 187,
    "start_time": "2023-09-18T17:03:34.679Z"
   },
   {
    "duration": 242,
    "start_time": "2023-09-18T17:03:38.536Z"
   },
   {
    "duration": 199,
    "start_time": "2023-09-18T17:05:52.083Z"
   },
   {
    "duration": 174,
    "start_time": "2023-09-18T17:06:08.306Z"
   },
   {
    "duration": 196,
    "start_time": "2023-09-18T17:16:27.648Z"
   },
   {
    "duration": 219,
    "start_time": "2023-09-18T17:20:14.073Z"
   },
   {
    "duration": 280,
    "start_time": "2023-09-18T17:21:13.836Z"
   },
   {
    "duration": 165,
    "start_time": "2023-09-18T17:21:19.604Z"
   },
   {
    "duration": 6,
    "start_time": "2023-09-18T17:21:25.907Z"
   },
   {
    "duration": 156,
    "start_time": "2023-09-18T17:21:35.822Z"
   },
   {
    "duration": 191,
    "start_time": "2023-09-18T17:21:48.453Z"
   },
   {
    "duration": 198,
    "start_time": "2023-09-18T17:21:53.734Z"
   },
   {
    "duration": 204,
    "start_time": "2023-09-18T17:22:32.279Z"
   },
   {
    "duration": 110,
    "start_time": "2023-09-18T17:24:00.161Z"
   },
   {
    "duration": 12,
    "start_time": "2023-09-18T17:26:33.050Z"
   },
   {
    "duration": 39,
    "start_time": "2023-09-18T17:26:40.719Z"
   },
   {
    "duration": 26,
    "start_time": "2023-09-18T17:28:07.830Z"
   },
   {
    "duration": 146,
    "start_time": "2023-09-18T17:29:00.894Z"
   },
   {
    "duration": 1704,
    "start_time": "2023-09-18T17:48:49.954Z"
   },
   {
    "duration": 2500,
    "start_time": "2023-09-18T17:49:15.418Z"
   },
   {
    "duration": 1766,
    "start_time": "2023-09-18T17:49:26.928Z"
   },
   {
    "duration": 3625,
    "start_time": "2023-09-18T17:50:00.896Z"
   },
   {
    "duration": 14,
    "start_time": "2023-09-18T17:50:24.331Z"
   },
   {
    "duration": 23,
    "start_time": "2023-09-18T17:50:58.552Z"
   },
   {
    "duration": 5,
    "start_time": "2023-09-18T17:52:35.962Z"
   },
   {
    "duration": 2271,
    "start_time": "2023-09-18T17:52:47.470Z"
   },
   {
    "duration": 3439,
    "start_time": "2023-09-18T17:53:34.617Z"
   },
   {
    "duration": 10,
    "start_time": "2023-09-18T17:53:46.664Z"
   },
   {
    "duration": 9,
    "start_time": "2023-09-18T17:55:17.824Z"
   },
   {
    "duration": 1934,
    "start_time": "2023-09-18T17:55:34.756Z"
   },
   {
    "duration": 1459,
    "start_time": "2023-09-18T17:55:42.123Z"
   },
   {
    "duration": 2292,
    "start_time": "2023-09-18T17:57:10.798Z"
   },
   {
    "duration": 16,
    "start_time": "2023-09-18T17:58:53.005Z"
   },
   {
    "duration": 18,
    "start_time": "2023-09-18T17:59:07.410Z"
   },
   {
    "duration": 6,
    "start_time": "2023-09-18T17:59:15.398Z"
   },
   {
    "duration": 1229,
    "start_time": "2023-09-18T17:59:58.647Z"
   },
   {
    "duration": 5,
    "start_time": "2023-09-18T18:01:03.435Z"
   },
   {
    "duration": 1780,
    "start_time": "2023-09-18T18:01:24.274Z"
   },
   {
    "duration": 10,
    "start_time": "2023-09-18T18:01:51.485Z"
   },
   {
    "duration": 7,
    "start_time": "2023-09-18T18:02:07.835Z"
   },
   {
    "duration": 7,
    "start_time": "2023-09-18T18:02:15.975Z"
   },
   {
    "duration": 10,
    "start_time": "2023-09-18T18:02:24.118Z"
   },
   {
    "duration": 6,
    "start_time": "2023-09-18T18:02:28.978Z"
   },
   {
    "duration": 22,
    "start_time": "2023-09-18T18:02:41.049Z"
   },
   {
    "duration": 7,
    "start_time": "2023-09-18T18:02:51.450Z"
   },
   {
    "duration": 7,
    "start_time": "2023-09-18T18:03:20.682Z"
   },
   {
    "duration": 6,
    "start_time": "2023-09-18T18:04:48.925Z"
   },
   {
    "duration": 7,
    "start_time": "2023-09-18T18:05:07.820Z"
   },
   {
    "duration": 1523,
    "start_time": "2023-09-18T18:06:06.469Z"
   },
   {
    "duration": 1719,
    "start_time": "2023-09-18T18:06:11.108Z"
   },
   {
    "duration": 1294,
    "start_time": "2023-09-18T18:06:38.295Z"
   },
   {
    "duration": 29,
    "start_time": "2023-09-18T18:06:45.924Z"
   },
   {
    "duration": 3,
    "start_time": "2023-09-18T18:07:50.501Z"
   },
   {
    "duration": 7,
    "start_time": "2023-09-18T18:07:56.283Z"
   },
   {
    "duration": 6,
    "start_time": "2023-09-18T18:08:12.368Z"
   },
   {
    "duration": 1746,
    "start_time": "2023-09-18T18:08:30.855Z"
   },
   {
    "duration": 11,
    "start_time": "2023-09-18T18:08:38.789Z"
   },
   {
    "duration": 97,
    "start_time": "2023-09-18T18:09:11.430Z"
   },
   {
    "duration": 18,
    "start_time": "2023-09-18T18:09:17.712Z"
   },
   {
    "duration": 16,
    "start_time": "2023-09-18T18:09:32.862Z"
   },
   {
    "duration": 7,
    "start_time": "2023-09-18T18:10:29.289Z"
   },
   {
    "duration": 2676,
    "start_time": "2023-09-18T18:11:13.808Z"
   },
   {
    "duration": 2306,
    "start_time": "2023-09-18T18:11:18.050Z"
   },
   {
    "duration": 98,
    "start_time": "2023-09-18T18:11:45.310Z"
   },
   {
    "duration": 112,
    "start_time": "2023-09-18T18:11:59.317Z"
   },
   {
    "duration": 126,
    "start_time": "2023-09-18T18:12:07.576Z"
   },
   {
    "duration": 14,
    "start_time": "2023-09-18T18:12:16.942Z"
   },
   {
    "duration": 8,
    "start_time": "2023-09-18T18:12:57.502Z"
   },
   {
    "duration": 6,
    "start_time": "2023-09-18T18:14:38.848Z"
   },
   {
    "duration": 2697,
    "start_time": "2023-09-18T18:15:03.432Z"
   },
   {
    "duration": 6,
    "start_time": "2023-09-18T18:15:30.401Z"
   },
   {
    "duration": 10,
    "start_time": "2023-09-18T18:16:15.312Z"
   },
   {
    "duration": 6,
    "start_time": "2023-09-18T18:17:03.960Z"
   },
   {
    "duration": 6,
    "start_time": "2023-09-18T18:17:12.969Z"
   },
   {
    "duration": 7,
    "start_time": "2023-09-18T18:19:26.138Z"
   },
   {
    "duration": 15,
    "start_time": "2023-09-18T18:19:29.509Z"
   },
   {
    "duration": 9,
    "start_time": "2023-09-18T18:19:32.130Z"
   },
   {
    "duration": 14,
    "start_time": "2023-09-18T18:19:38.173Z"
   },
   {
    "duration": 9,
    "start_time": "2023-09-18T18:19:40.524Z"
   },
   {
    "duration": 1538,
    "start_time": "2023-09-18T18:21:23.451Z"
   },
   {
    "duration": 109,
    "start_time": "2023-09-18T18:21:38.278Z"
   },
   {
    "duration": 1660,
    "start_time": "2023-09-18T18:21:41.998Z"
   },
   {
    "duration": 1392,
    "start_time": "2023-09-18T18:21:55.592Z"
   },
   {
    "duration": 9,
    "start_time": "2023-09-18T18:22:41.112Z"
   },
   {
    "duration": 8,
    "start_time": "2023-09-18T18:23:10.871Z"
   },
   {
    "duration": 6,
    "start_time": "2023-09-18T18:23:25.696Z"
   },
   {
    "duration": 17,
    "start_time": "2023-09-18T18:24:18.104Z"
   },
   {
    "duration": 7,
    "start_time": "2023-09-18T18:24:29.365Z"
   },
   {
    "duration": 2011,
    "start_time": "2023-09-18T18:25:10.517Z"
   },
   {
    "duration": 6,
    "start_time": "2023-09-18T18:25:27.500Z"
   },
   {
    "duration": 6,
    "start_time": "2023-09-18T18:25:31.960Z"
   },
   {
    "duration": 1850,
    "start_time": "2023-09-18T18:28:39.151Z"
   },
   {
    "duration": 9,
    "start_time": "2023-09-18T18:29:06.830Z"
   },
   {
    "duration": 10,
    "start_time": "2023-09-18T18:29:28.600Z"
   },
   {
    "duration": 1350,
    "start_time": "2023-09-18T18:30:46.324Z"
   },
   {
    "duration": 11,
    "start_time": "2023-09-18T18:31:41.439Z"
   },
   {
    "duration": 1263,
    "start_time": "2023-09-18T18:32:00.321Z"
   },
   {
    "duration": 1920,
    "start_time": "2023-09-18T18:33:21.688Z"
   },
   {
    "duration": 7,
    "start_time": "2023-09-18T18:43:08.147Z"
   },
   {
    "duration": 9,
    "start_time": "2023-09-18T18:43:21.520Z"
   },
   {
    "duration": 8,
    "start_time": "2023-09-18T18:43:31.885Z"
   },
   {
    "duration": 3,
    "start_time": "2023-09-18T18:43:45.640Z"
   },
   {
    "duration": 4,
    "start_time": "2023-09-18T18:43:48.904Z"
   },
   {
    "duration": 5,
    "start_time": "2023-09-18T18:43:58.277Z"
   },
   {
    "duration": 10,
    "start_time": "2023-09-18T18:44:20.025Z"
   },
   {
    "duration": 5,
    "start_time": "2023-09-18T18:44:22.847Z"
   },
   {
    "duration": 6,
    "start_time": "2023-09-18T18:44:27.176Z"
   },
   {
    "duration": 5,
    "start_time": "2023-09-18T18:44:33.363Z"
   },
   {
    "duration": 3,
    "start_time": "2023-09-18T18:44:44.998Z"
   },
   {
    "duration": 4,
    "start_time": "2023-09-18T18:44:46.326Z"
   },
   {
    "duration": 117,
    "start_time": "2023-09-18T18:45:19.533Z"
   },
   {
    "duration": 4,
    "start_time": "2023-09-18T18:45:26.759Z"
   },
   {
    "duration": 13,
    "start_time": "2023-09-18T18:45:31.383Z"
   },
   {
    "duration": 1535,
    "start_time": "2023-09-18T18:45:55.567Z"
   },
   {
    "duration": 4,
    "start_time": "2023-09-18T18:47:53.507Z"
   },
   {
    "duration": 1580,
    "start_time": "2023-09-18T18:51:53.804Z"
   },
   {
    "duration": 7,
    "start_time": "2023-09-18T18:51:57.900Z"
   },
   {
    "duration": 91,
    "start_time": "2023-09-18T18:52:12.611Z"
   },
   {
    "duration": 93,
    "start_time": "2023-09-18T18:52:16.730Z"
   },
   {
    "duration": 103,
    "start_time": "2023-09-18T18:52:45.749Z"
   },
   {
    "duration": 13,
    "start_time": "2023-09-18T18:52:50.389Z"
   },
   {
    "duration": 15,
    "start_time": "2023-09-18T18:53:40.077Z"
   },
   {
    "duration": 6,
    "start_time": "2023-09-18T18:53:44.733Z"
   },
   {
    "duration": 5,
    "start_time": "2023-09-18T18:54:33.225Z"
   },
   {
    "duration": 5,
    "start_time": "2023-09-18T18:54:45.628Z"
   },
   {
    "duration": 6,
    "start_time": "2023-09-18T18:54:56.661Z"
   },
   {
    "duration": 6,
    "start_time": "2023-09-18T18:55:43.920Z"
   },
   {
    "duration": 6,
    "start_time": "2023-09-18T18:56:01.999Z"
   },
   {
    "duration": 8,
    "start_time": "2023-09-18T18:58:00.559Z"
   },
   {
    "duration": 8,
    "start_time": "2023-09-18T18:58:16.500Z"
   },
   {
    "duration": 8,
    "start_time": "2023-09-18T19:02:18.327Z"
   },
   {
    "duration": 128,
    "start_time": "2023-09-18T19:04:39.620Z"
   },
   {
    "duration": 97,
    "start_time": "2023-09-18T19:04:50.901Z"
   },
   {
    "duration": 13,
    "start_time": "2023-09-18T19:05:25.264Z"
   },
   {
    "duration": 16,
    "start_time": "2023-09-18T19:05:42.308Z"
   },
   {
    "duration": 10,
    "start_time": "2023-09-18T19:05:47.726Z"
   },
   {
    "duration": 22,
    "start_time": "2023-09-18T19:07:09.224Z"
   },
   {
    "duration": 1822,
    "start_time": "2023-09-18T19:07:30.456Z"
   },
   {
    "duration": 16,
    "start_time": "2023-09-18T19:07:57.506Z"
   },
   {
    "duration": 11,
    "start_time": "2023-09-18T19:08:14.650Z"
   },
   {
    "duration": 12,
    "start_time": "2023-09-18T19:08:35.552Z"
   },
   {
    "duration": 14,
    "start_time": "2023-09-18T19:08:39.479Z"
   },
   {
    "duration": 16,
    "start_time": "2023-09-18T19:08:42.984Z"
   },
   {
    "duration": 84,
    "start_time": "2023-09-18T19:08:50.858Z"
   },
   {
    "duration": 17,
    "start_time": "2023-09-18T19:09:01.925Z"
   },
   {
    "duration": 28,
    "start_time": "2023-09-18T19:09:25.725Z"
   },
   {
    "duration": 16,
    "start_time": "2023-09-18T19:09:28.889Z"
   },
   {
    "duration": 8,
    "start_time": "2023-09-18T19:09:43.820Z"
   },
   {
    "duration": 12,
    "start_time": "2023-09-18T19:11:25.024Z"
   },
   {
    "duration": 13,
    "start_time": "2023-09-18T19:11:29.924Z"
   },
   {
    "duration": 11,
    "start_time": "2023-09-18T19:11:50.478Z"
   },
   {
    "duration": 10,
    "start_time": "2023-09-18T19:11:57.659Z"
   },
   {
    "duration": 11,
    "start_time": "2023-09-18T19:12:12.369Z"
   },
   {
    "duration": 465,
    "start_time": "2023-09-18T19:14:40.985Z"
   },
   {
    "duration": 22,
    "start_time": "2023-09-18T19:15:16.236Z"
   },
   {
    "duration": 1956,
    "start_time": "2023-09-18T19:16:21.535Z"
   },
   {
    "duration": 124,
    "start_time": "2023-09-18T19:17:17.596Z"
   },
   {
    "duration": 81,
    "start_time": "2023-09-18T19:17:23.134Z"
   },
   {
    "duration": 8,
    "start_time": "2023-09-18T19:17:28.026Z"
   },
   {
    "duration": 9,
    "start_time": "2023-09-18T19:18:07.430Z"
   },
   {
    "duration": 1948,
    "start_time": "2023-09-18T19:18:27.200Z"
   },
   {
    "duration": 6,
    "start_time": "2023-09-18T19:19:37.928Z"
   },
   {
    "duration": 1273,
    "start_time": "2023-09-18T19:19:54.121Z"
   },
   {
    "duration": 1338,
    "start_time": "2023-09-18T19:19:57.631Z"
   },
   {
    "duration": 8,
    "start_time": "2023-09-18T19:20:02.063Z"
   },
   {
    "duration": 11,
    "start_time": "2023-09-18T19:20:26.370Z"
   },
   {
    "duration": 6,
    "start_time": "2023-09-18T19:20:37.075Z"
   },
   {
    "duration": 1345,
    "start_time": "2023-09-18T19:24:26.498Z"
   },
   {
    "duration": 48,
    "start_time": "2023-09-18T19:24:27.845Z"
   },
   {
    "duration": 51,
    "start_time": "2023-09-18T19:24:27.895Z"
   },
   {
    "duration": 28,
    "start_time": "2023-09-18T19:24:27.949Z"
   },
   {
    "duration": 11,
    "start_time": "2023-09-18T19:24:27.979Z"
   },
   {
    "duration": 26,
    "start_time": "2023-09-18T19:24:27.992Z"
   },
   {
    "duration": 8,
    "start_time": "2023-09-18T19:24:28.020Z"
   },
   {
    "duration": 11,
    "start_time": "2023-09-18T19:24:28.030Z"
   },
   {
    "duration": 7,
    "start_time": "2023-09-18T19:24:28.043Z"
   },
   {
    "duration": 10,
    "start_time": "2023-09-18T19:24:28.053Z"
   },
   {
    "duration": 7,
    "start_time": "2023-09-18T19:24:28.065Z"
   },
   {
    "duration": 22,
    "start_time": "2023-09-18T19:24:28.074Z"
   },
   {
    "duration": 22,
    "start_time": "2023-09-18T19:24:28.097Z"
   },
   {
    "duration": 13,
    "start_time": "2023-09-18T19:24:28.120Z"
   },
   {
    "duration": 184,
    "start_time": "2023-09-18T19:24:28.135Z"
   },
   {
    "duration": 20,
    "start_time": "2023-09-18T19:24:28.321Z"
   },
   {
    "duration": 157,
    "start_time": "2023-09-18T19:24:28.342Z"
   },
   {
    "duration": 15,
    "start_time": "2023-09-18T19:24:28.501Z"
   },
   {
    "duration": 217,
    "start_time": "2023-09-18T19:24:28.517Z"
   },
   {
    "duration": 243,
    "start_time": "2023-09-18T19:24:28.736Z"
   },
   {
    "duration": 247,
    "start_time": "2023-09-18T19:24:28.981Z"
   },
   {
    "duration": 34,
    "start_time": "2023-09-18T19:24:29.230Z"
   },
   {
    "duration": 55,
    "start_time": "2023-09-18T19:24:29.267Z"
   },
   {
    "duration": 180,
    "start_time": "2023-09-18T19:24:29.324Z"
   },
   {
    "duration": 215,
    "start_time": "2023-09-18T19:24:29.505Z"
   },
   {
    "duration": 24,
    "start_time": "2023-09-18T19:24:29.723Z"
   },
   {
    "duration": 11,
    "start_time": "2023-09-18T19:24:29.749Z"
   },
   {
    "duration": 15,
    "start_time": "2023-09-18T19:24:29.763Z"
   },
   {
    "duration": 5,
    "start_time": "2023-09-18T19:24:29.779Z"
   },
   {
    "duration": 10,
    "start_time": "2023-09-18T19:24:29.786Z"
   },
   {
    "duration": 118,
    "start_time": "2023-09-18T19:24:29.810Z"
   },
   {
    "duration": 0,
    "start_time": "2023-09-18T19:24:29.930Z"
   },
   {
    "duration": 6,
    "start_time": "2023-09-18T19:24:45.769Z"
   },
   {
    "duration": 4,
    "start_time": "2023-09-18T19:25:15.727Z"
   },
   {
    "duration": 6,
    "start_time": "2023-09-18T19:25:29.828Z"
   },
   {
    "duration": 643,
    "start_time": "2023-09-18T19:25:41.402Z"
   },
   {
    "duration": 589,
    "start_time": "2023-09-18T19:25:50.187Z"
   },
   {
    "duration": 103,
    "start_time": "2023-09-18T19:31:41.676Z"
   },
   {
    "duration": 16,
    "start_time": "2023-09-18T19:31:45.148Z"
   },
   {
    "duration": 14,
    "start_time": "2023-09-18T19:33:27.440Z"
   },
   {
    "duration": 20,
    "start_time": "2023-09-18T19:33:33.440Z"
   },
   {
    "duration": 87,
    "start_time": "2023-09-18T19:34:07.146Z"
   },
   {
    "duration": 6,
    "start_time": "2023-09-18T19:43:02.860Z"
   },
   {
    "duration": 12,
    "start_time": "2023-09-18T19:43:20.038Z"
   },
   {
    "duration": 28,
    "start_time": "2023-09-18T19:43:30.995Z"
   },
   {
    "duration": 1473,
    "start_time": "2023-09-18T19:43:48.710Z"
   },
   {
    "duration": 11,
    "start_time": "2023-09-18T19:44:14.027Z"
   },
   {
    "duration": 14,
    "start_time": "2023-09-18T19:44:30.511Z"
   },
   {
    "duration": 8,
    "start_time": "2023-09-18T19:44:50.427Z"
   },
   {
    "duration": 11,
    "start_time": "2023-09-18T19:44:59.771Z"
   },
   {
    "duration": 30,
    "start_time": "2023-09-18T19:45:17.095Z"
   },
   {
    "duration": 7,
    "start_time": "2023-09-18T19:46:27.141Z"
   },
   {
    "duration": 11,
    "start_time": "2023-09-18T19:46:56.836Z"
   },
   {
    "duration": 23,
    "start_time": "2023-09-18T19:47:04.536Z"
   },
   {
    "duration": 19,
    "start_time": "2023-09-18T19:47:09.523Z"
   },
   {
    "duration": 26,
    "start_time": "2023-09-18T19:47:22.496Z"
   },
   {
    "duration": 14,
    "start_time": "2023-09-18T19:47:55.342Z"
   },
   {
    "duration": 28,
    "start_time": "2023-09-18T19:48:40.162Z"
   },
   {
    "duration": 19,
    "start_time": "2023-09-18T19:48:53.530Z"
   },
   {
    "duration": 36,
    "start_time": "2023-09-18T19:49:32.491Z"
   },
   {
    "duration": 29,
    "start_time": "2023-09-18T19:49:51.906Z"
   },
   {
    "duration": 24,
    "start_time": "2023-09-18T19:51:25.162Z"
   },
   {
    "duration": 14,
    "start_time": "2023-09-18T19:52:28.705Z"
   },
   {
    "duration": 14,
    "start_time": "2023-09-18T19:52:34.022Z"
   },
   {
    "duration": 8,
    "start_time": "2023-09-18T19:53:08.735Z"
   },
   {
    "duration": 4,
    "start_time": "2023-09-18T19:53:13.126Z"
   },
   {
    "duration": 26,
    "start_time": "2023-09-18T19:54:14.361Z"
   },
   {
    "duration": 4,
    "start_time": "2023-09-18T19:54:19.790Z"
   },
   {
    "duration": 8,
    "start_time": "2023-09-18T19:54:22.143Z"
   },
   {
    "duration": 4,
    "start_time": "2023-09-18T19:54:24.524Z"
   },
   {
    "duration": 35,
    "start_time": "2023-09-18T19:54:33.070Z"
   },
   {
    "duration": 20,
    "start_time": "2023-09-18T19:54:56.074Z"
   },
   {
    "duration": 1397,
    "start_time": "2023-09-18T20:06:58.044Z"
   },
   {
    "duration": 51,
    "start_time": "2023-09-18T20:06:59.444Z"
   },
   {
    "duration": 69,
    "start_time": "2023-09-18T20:06:59.497Z"
   },
   {
    "duration": 29,
    "start_time": "2023-09-18T20:06:59.571Z"
   },
   {
    "duration": 31,
    "start_time": "2023-09-18T20:06:59.603Z"
   },
   {
    "duration": 15,
    "start_time": "2023-09-18T20:06:59.640Z"
   },
   {
    "duration": 11,
    "start_time": "2023-09-18T20:06:59.658Z"
   },
   {
    "duration": 11,
    "start_time": "2023-09-18T20:06:59.672Z"
   },
   {
    "duration": 26,
    "start_time": "2023-09-18T20:06:59.686Z"
   },
   {
    "duration": 16,
    "start_time": "2023-09-18T20:06:59.714Z"
   },
   {
    "duration": 5,
    "start_time": "2023-09-18T20:07:05.370Z"
   },
   {
    "duration": 14,
    "start_time": "2023-09-18T20:07:07.930Z"
   },
   {
    "duration": 3,
    "start_time": "2023-09-18T20:07:22.501Z"
   },
   {
    "duration": 86,
    "start_time": "2023-09-18T20:07:22.507Z"
   },
   {
    "duration": 59,
    "start_time": "2023-09-18T20:07:22.595Z"
   },
   {
    "duration": 59,
    "start_time": "2023-09-18T20:07:22.657Z"
   },
   {
    "duration": 32,
    "start_time": "2023-09-18T20:07:22.718Z"
   },
   {
    "duration": 12,
    "start_time": "2023-09-18T20:07:22.753Z"
   },
   {
    "duration": 8,
    "start_time": "2023-09-18T20:07:22.767Z"
   },
   {
    "duration": 26,
    "start_time": "2023-09-18T20:07:22.777Z"
   },
   {
    "duration": 16,
    "start_time": "2023-09-18T20:07:22.807Z"
   },
   {
    "duration": 8,
    "start_time": "2023-09-18T20:07:22.829Z"
   },
   {
    "duration": 24,
    "start_time": "2023-09-18T20:07:22.839Z"
   },
   {
    "duration": 8,
    "start_time": "2023-09-18T20:07:22.865Z"
   },
   {
    "duration": 9,
    "start_time": "2023-09-18T20:07:22.875Z"
   },
   {
    "duration": 45,
    "start_time": "2023-09-18T20:07:22.886Z"
   },
   {
    "duration": 6,
    "start_time": "2023-09-18T20:07:22.933Z"
   },
   {
    "duration": 27,
    "start_time": "2023-09-18T20:07:22.941Z"
   },
   {
    "duration": 208,
    "start_time": "2023-09-18T20:07:22.970Z"
   },
   {
    "duration": 17,
    "start_time": "2023-09-18T20:07:23.179Z"
   },
   {
    "duration": 154,
    "start_time": "2023-09-18T20:07:23.208Z"
   },
   {
    "duration": 6,
    "start_time": "2023-09-18T20:07:23.363Z"
   },
   {
    "duration": 225,
    "start_time": "2023-09-18T20:07:23.371Z"
   },
   {
    "duration": 270,
    "start_time": "2023-09-18T20:07:23.598Z"
   },
   {
    "duration": 264,
    "start_time": "2023-09-18T20:07:23.869Z"
   },
   {
    "duration": 34,
    "start_time": "2023-09-18T20:07:24.137Z"
   },
   {
    "duration": 23,
    "start_time": "2023-09-18T20:07:24.173Z"
   },
   {
    "duration": 201,
    "start_time": "2023-09-18T20:07:24.214Z"
   },
   {
    "duration": 271,
    "start_time": "2023-09-18T20:07:24.418Z"
   },
   {
    "duration": 41,
    "start_time": "2023-09-18T20:07:24.691Z"
   },
   {
    "duration": 43,
    "start_time": "2023-09-18T20:08:40.892Z"
   },
   {
    "duration": 10,
    "start_time": "2023-09-18T20:09:25.928Z"
   },
   {
    "duration": 17,
    "start_time": "2023-09-18T20:10:21.741Z"
   },
   {
    "duration": 10,
    "start_time": "2023-09-18T20:10:47.596Z"
   },
   {
    "duration": 19,
    "start_time": "2023-09-18T20:11:14.326Z"
   },
   {
    "duration": 9,
    "start_time": "2023-09-18T20:13:01.735Z"
   },
   {
    "duration": 14,
    "start_time": "2023-09-18T20:13:24.161Z"
   },
   {
    "duration": 862,
    "start_time": "2023-09-18T20:13:54.942Z"
   },
   {
    "duration": 697,
    "start_time": "2023-09-18T20:14:34.504Z"
   },
   {
    "duration": 25,
    "start_time": "2023-09-18T20:14:53.428Z"
   },
   {
    "duration": 14,
    "start_time": "2023-09-18T20:15:54.964Z"
   },
   {
    "duration": 19,
    "start_time": "2023-09-18T20:20:52.864Z"
   },
   {
    "duration": 5,
    "start_time": "2023-09-18T20:21:48.649Z"
   },
   {
    "duration": 11,
    "start_time": "2023-09-18T20:22:59.685Z"
   },
   {
    "duration": 7,
    "start_time": "2023-09-18T20:23:01.442Z"
   },
   {
    "duration": 17,
    "start_time": "2023-09-18T20:26:58.477Z"
   },
   {
    "duration": 9,
    "start_time": "2023-09-18T20:28:47.364Z"
   },
   {
    "duration": 8,
    "start_time": "2023-09-18T20:29:09.524Z"
   },
   {
    "duration": 9,
    "start_time": "2023-09-18T20:29:49.739Z"
   },
   {
    "duration": 16,
    "start_time": "2023-09-18T20:30:04.414Z"
   },
   {
    "duration": 11,
    "start_time": "2023-09-18T20:30:14.751Z"
   },
   {
    "duration": 596,
    "start_time": "2023-09-18T20:30:53.055Z"
   },
   {
    "duration": 34,
    "start_time": "2023-09-18T20:31:33.526Z"
   },
   {
    "duration": 28,
    "start_time": "2023-09-18T20:32:26.737Z"
   },
   {
    "duration": 22,
    "start_time": "2023-09-18T20:34:06.315Z"
   },
   {
    "duration": 23,
    "start_time": "2023-09-18T20:34:13.125Z"
   },
   {
    "duration": 9,
    "start_time": "2023-09-18T20:34:20.338Z"
   },
   {
    "duration": 14,
    "start_time": "2023-09-18T20:34:37.308Z"
   },
   {
    "duration": 1138,
    "start_time": "2023-09-18T20:35:21.336Z"
   },
   {
    "duration": 1262,
    "start_time": "2023-09-18T20:35:51.345Z"
   },
   {
    "duration": 1071,
    "start_time": "2023-09-18T20:36:48.978Z"
   },
   {
    "duration": 1139,
    "start_time": "2023-09-18T20:36:55.699Z"
   },
   {
    "duration": 9,
    "start_time": "2023-09-18T20:37:04.892Z"
   },
   {
    "duration": 1113,
    "start_time": "2023-09-18T20:37:15.726Z"
   },
   {
    "duration": 8,
    "start_time": "2023-09-18T20:37:29.299Z"
   },
   {
    "duration": 1528,
    "start_time": "2023-09-18T20:37:39.809Z"
   },
   {
    "duration": 9,
    "start_time": "2023-09-18T20:38:03.342Z"
   },
   {
    "duration": 8,
    "start_time": "2023-09-18T20:38:11.328Z"
   },
   {
    "duration": 24,
    "start_time": "2023-09-18T20:39:16.652Z"
   },
   {
    "duration": 6,
    "start_time": "2023-09-18T20:40:33.867Z"
   },
   {
    "duration": 36,
    "start_time": "2023-09-18T20:40:39.092Z"
   },
   {
    "duration": 21,
    "start_time": "2023-09-18T20:40:54.386Z"
   },
   {
    "duration": 1070,
    "start_time": "2023-09-18T20:41:16.732Z"
   },
   {
    "duration": 20,
    "start_time": "2023-09-18T20:42:43.166Z"
   },
   {
    "duration": 21,
    "start_time": "2023-09-18T20:44:03.149Z"
   },
   {
    "duration": 23,
    "start_time": "2023-09-18T20:44:37.991Z"
   },
   {
    "duration": 30,
    "start_time": "2023-09-18T20:45:04.975Z"
   },
   {
    "duration": 6,
    "start_time": "2023-09-18T20:45:45.778Z"
   },
   {
    "duration": 6,
    "start_time": "2023-09-18T20:45:58.125Z"
   },
   {
    "duration": 23,
    "start_time": "2023-09-18T21:00:29.704Z"
   },
   {
    "duration": 24,
    "start_time": "2023-09-18T21:00:36.727Z"
   },
   {
    "duration": 11,
    "start_time": "2023-09-18T21:03:07.123Z"
   },
   {
    "duration": 8,
    "start_time": "2023-09-18T21:03:27.856Z"
   },
   {
    "duration": 4684,
    "start_time": "2023-09-18T21:04:49.045Z"
   },
   {
    "duration": 4546,
    "start_time": "2023-09-18T21:05:03.339Z"
   },
   {
    "duration": 16,
    "start_time": "2023-09-18T21:07:43.387Z"
   },
   {
    "duration": 13,
    "start_time": "2023-09-18T21:09:22.227Z"
   },
   {
    "duration": 4911,
    "start_time": "2023-09-18T21:11:24.079Z"
   },
   {
    "duration": 25,
    "start_time": "2023-09-18T21:11:30.800Z"
   },
   {
    "duration": 7,
    "start_time": "2023-09-18T21:12:05.399Z"
   },
   {
    "duration": 4470,
    "start_time": "2023-09-18T21:36:16.666Z"
   },
   {
    "duration": 3,
    "start_time": "2023-09-18T21:37:31.265Z"
   },
   {
    "duration": 5394,
    "start_time": "2023-09-18T21:38:38.522Z"
   },
   {
    "duration": 5036,
    "start_time": "2023-09-18T21:38:54.885Z"
   },
   {
    "duration": 91,
    "start_time": "2023-09-18T21:41:21.265Z"
   },
   {
    "duration": 3,
    "start_time": "2023-09-19T13:26:00.078Z"
   },
   {
    "duration": 7,
    "start_time": "2023-09-19T13:31:49.085Z"
   },
   {
    "duration": 6,
    "start_time": "2023-09-19T13:35:15.081Z"
   },
   {
    "duration": 6,
    "start_time": "2023-09-19T13:35:21.474Z"
   },
   {
    "duration": 101,
    "start_time": "2023-09-19T13:36:06.272Z"
   },
   {
    "duration": 6,
    "start_time": "2023-09-19T14:06:26.129Z"
   },
   {
    "duration": 79,
    "start_time": "2023-09-19T14:12:02.090Z"
   },
   {
    "duration": 4979,
    "start_time": "2023-09-19T15:55:33.037Z"
   },
   {
    "duration": 1355,
    "start_time": "2023-09-19T15:57:50.174Z"
   },
   {
    "duration": 8,
    "start_time": "2023-09-19T15:57:58.518Z"
   },
   {
    "duration": 14,
    "start_time": "2023-09-19T15:58:37.926Z"
   },
   {
    "duration": 6,
    "start_time": "2023-09-19T16:01:10.390Z"
   },
   {
    "duration": 6,
    "start_time": "2023-09-19T16:01:23.790Z"
   },
   {
    "duration": 6,
    "start_time": "2023-09-19T16:04:15.721Z"
   },
   {
    "duration": 7,
    "start_time": "2023-09-19T16:05:45.322Z"
   },
   {
    "duration": 7,
    "start_time": "2023-09-19T16:05:56.695Z"
   },
   {
    "duration": 6,
    "start_time": "2023-09-19T16:06:12.283Z"
   },
   {
    "duration": 15,
    "start_time": "2023-09-19T16:06:28.937Z"
   },
   {
    "duration": 7,
    "start_time": "2023-09-19T16:07:07.795Z"
   },
   {
    "duration": 6,
    "start_time": "2023-09-19T16:07:41.185Z"
   },
   {
    "duration": 6,
    "start_time": "2023-09-19T16:07:56.145Z"
   },
   {
    "duration": 6,
    "start_time": "2023-09-19T16:08:22.908Z"
   },
   {
    "duration": 6,
    "start_time": "2023-09-19T16:09:04.334Z"
   },
   {
    "duration": 9,
    "start_time": "2023-09-19T16:09:17.108Z"
   },
   {
    "duration": 149,
    "start_time": "2023-09-19T16:22:13.940Z"
   },
   {
    "duration": 14,
    "start_time": "2023-09-19T16:22:21.646Z"
   },
   {
    "duration": 11455,
    "start_time": "2023-09-19T16:31:26.593Z"
   },
   {
    "duration": 14,
    "start_time": "2023-09-19T16:32:29.150Z"
   },
   {
    "duration": 6,
    "start_time": "2023-09-19T16:33:34.885Z"
   },
   {
    "duration": 9,
    "start_time": "2023-09-19T16:34:12.914Z"
   },
   {
    "duration": 5,
    "start_time": "2023-09-19T16:35:22.978Z"
   },
   {
    "duration": 16,
    "start_time": "2023-09-19T16:35:29.221Z"
   },
   {
    "duration": 1749,
    "start_time": "2023-09-19T16:35:46.981Z"
   },
   {
    "duration": 14,
    "start_time": "2023-09-19T16:35:58.647Z"
   },
   {
    "duration": 10681,
    "start_time": "2023-09-19T16:36:41.699Z"
   },
   {
    "duration": 11628,
    "start_time": "2023-09-20T08:17:59.882Z"
   },
   {
    "duration": 26,
    "start_time": "2023-09-20T08:18:23.798Z"
   },
   {
    "duration": 21,
    "start_time": "2023-09-20T08:18:30.813Z"
   },
   {
    "duration": 11251,
    "start_time": "2023-09-20T08:18:51.427Z"
   },
   {
    "duration": 7,
    "start_time": "2023-09-20T08:20:03.761Z"
   },
   {
    "duration": 6,
    "start_time": "2023-09-20T08:20:21.773Z"
   },
   {
    "duration": 3614,
    "start_time": "2023-09-20T08:20:29.966Z"
   },
   {
    "duration": 12,
    "start_time": "2023-09-20T08:20:37.676Z"
   },
   {
    "duration": 6,
    "start_time": "2023-09-20T08:21:11.105Z"
   },
   {
    "duration": 4182,
    "start_time": "2023-09-20T08:21:26.858Z"
   },
   {
    "duration": 12,
    "start_time": "2023-09-20T08:21:33.451Z"
   },
   {
    "duration": 10,
    "start_time": "2023-09-20T08:21:44.445Z"
   },
   {
    "duration": 4929,
    "start_time": "2023-09-20T08:25:59.929Z"
   },
   {
    "duration": 2378,
    "start_time": "2023-09-20T08:28:44.875Z"
   },
   {
    "duration": 1559,
    "start_time": "2023-09-20T08:29:08.262Z"
   },
   {
    "duration": 1809,
    "start_time": "2023-09-20T08:29:30.562Z"
   },
   {
    "duration": 19,
    "start_time": "2023-09-20T08:30:12.896Z"
   },
   {
    "duration": 14,
    "start_time": "2023-09-20T08:30:19.958Z"
   },
   {
    "duration": 19,
    "start_time": "2023-09-20T08:30:30.339Z"
   },
   {
    "duration": 17,
    "start_time": "2023-09-20T08:30:38.988Z"
   },
   {
    "duration": 106,
    "start_time": "2023-09-20T08:38:22.180Z"
   },
   {
    "duration": 97,
    "start_time": "2023-09-20T08:38:58.853Z"
   },
   {
    "duration": 13,
    "start_time": "2023-09-20T09:00:40.184Z"
   },
   {
    "duration": 3,
    "start_time": "2023-09-20T09:00:59.165Z"
   },
   {
    "duration": 189,
    "start_time": "2023-09-20T09:01:04.001Z"
   },
   {
    "duration": 202,
    "start_time": "2023-09-20T09:08:45.249Z"
   },
   {
    "duration": 219,
    "start_time": "2023-09-20T09:09:42.108Z"
   },
   {
    "duration": 94,
    "start_time": "2023-09-20T09:22:02.936Z"
   },
   {
    "duration": 9,
    "start_time": "2023-09-20T09:22:35.828Z"
   },
   {
    "duration": 4,
    "start_time": "2023-09-20T09:22:55.679Z"
   },
   {
    "duration": 3,
    "start_time": "2023-09-20T09:22:59.689Z"
   },
   {
    "duration": 5,
    "start_time": "2023-09-20T09:23:07.764Z"
   },
   {
    "duration": 266,
    "start_time": "2023-09-20T09:23:30.638Z"
   },
   {
    "duration": 10,
    "start_time": "2023-09-20T09:24:04.382Z"
   },
   {
    "duration": 218,
    "start_time": "2023-09-20T09:29:35.243Z"
   },
   {
    "duration": 3,
    "start_time": "2023-09-20T09:30:04.614Z"
   },
   {
    "duration": 287,
    "start_time": "2023-09-20T09:30:08.887Z"
   },
   {
    "duration": 355,
    "start_time": "2023-09-20T09:30:20.677Z"
   },
   {
    "duration": 300,
    "start_time": "2023-09-20T09:30:27.483Z"
   },
   {
    "duration": 323,
    "start_time": "2023-09-20T09:30:37.509Z"
   },
   {
    "duration": 292,
    "start_time": "2023-09-20T09:30:42.298Z"
   },
   {
    "duration": 252,
    "start_time": "2023-09-20T09:30:48.068Z"
   },
   {
    "duration": 223,
    "start_time": "2023-09-20T09:30:53.077Z"
   },
   {
    "duration": 226,
    "start_time": "2023-09-20T09:30:58.358Z"
   },
   {
    "duration": 238,
    "start_time": "2023-09-20T09:31:02.662Z"
   },
   {
    "duration": 211,
    "start_time": "2023-09-20T09:31:06.939Z"
   },
   {
    "duration": 217,
    "start_time": "2023-09-20T09:34:28.658Z"
   },
   {
    "duration": 170,
    "start_time": "2023-09-20T09:34:55.927Z"
   },
   {
    "duration": 326,
    "start_time": "2023-09-20T09:35:20.197Z"
   },
   {
    "duration": 229,
    "start_time": "2023-09-20T09:35:39.199Z"
   },
   {
    "duration": 232,
    "start_time": "2023-09-20T09:36:08.588Z"
   },
   {
    "duration": 255,
    "start_time": "2023-09-20T09:37:25.602Z"
   },
   {
    "duration": 239,
    "start_time": "2023-09-20T09:37:40.596Z"
   },
   {
    "duration": 238,
    "start_time": "2023-09-20T09:37:57.726Z"
   },
   {
    "duration": 253,
    "start_time": "2023-09-20T09:38:03.428Z"
   },
   {
    "duration": 314,
    "start_time": "2023-09-20T09:39:12.639Z"
   },
   {
    "duration": 864,
    "start_time": "2023-09-20T09:39:20.363Z"
   },
   {
    "duration": 507,
    "start_time": "2023-09-20T09:39:37.239Z"
   },
   {
    "duration": 655,
    "start_time": "2023-09-20T09:39:44.036Z"
   },
   {
    "duration": 407,
    "start_time": "2023-09-20T09:39:50.733Z"
   },
   {
    "duration": 997,
    "start_time": "2023-09-20T09:40:06.805Z"
   },
   {
    "duration": 1338,
    "start_time": "2023-09-20T09:40:32.002Z"
   },
   {
    "duration": 1389,
    "start_time": "2023-09-20T09:41:51.876Z"
   },
   {
    "duration": 1373,
    "start_time": "2023-09-20T09:42:44.157Z"
   },
   {
    "duration": 242,
    "start_time": "2023-09-20T09:43:22.189Z"
   },
   {
    "duration": 268,
    "start_time": "2023-09-20T09:43:42.104Z"
   },
   {
    "duration": 1095,
    "start_time": "2023-09-20T09:43:47.401Z"
   },
   {
    "duration": 931,
    "start_time": "2023-09-20T09:43:56.230Z"
   },
   {
    "duration": 762,
    "start_time": "2023-09-20T09:44:03.659Z"
   },
   {
    "duration": 823,
    "start_time": "2023-09-20T09:44:10.423Z"
   },
   {
    "duration": 974,
    "start_time": "2023-09-20T09:44:15.948Z"
   },
   {
    "duration": 899,
    "start_time": "2023-09-20T09:44:25.269Z"
   },
   {
    "duration": 823,
    "start_time": "2023-09-20T09:44:31.068Z"
   },
   {
    "duration": 767,
    "start_time": "2023-09-20T09:44:36.886Z"
   },
   {
    "duration": 876,
    "start_time": "2023-09-20T09:44:42.231Z"
   },
   {
    "duration": 939,
    "start_time": "2023-09-20T09:44:49.991Z"
   },
   {
    "duration": 837,
    "start_time": "2023-09-20T09:44:56.023Z"
   },
   {
    "duration": 88,
    "start_time": "2023-09-20T09:49:50.899Z"
   },
   {
    "duration": 132892,
    "start_time": "2023-09-20T10:00:33.454Z"
   },
   {
    "duration": 131586,
    "start_time": "2023-09-20T10:03:26.611Z"
   },
   {
    "duration": 130273,
    "start_time": "2023-09-20T10:12:12.284Z"
   },
   {
    "duration": 6,
    "start_time": "2023-09-20T10:20:22.901Z"
   },
   {
    "duration": 7,
    "start_time": "2023-09-20T10:20:31.853Z"
   },
   {
    "duration": 1313,
    "start_time": "2023-09-20T10:27:33.187Z"
   },
   {
    "duration": 98,
    "start_time": "2023-09-20T10:27:34.502Z"
   },
   {
    "duration": 86,
    "start_time": "2023-09-20T10:27:34.602Z"
   },
   {
    "duration": 66,
    "start_time": "2023-09-20T10:27:34.691Z"
   },
   {
    "duration": 11,
    "start_time": "2023-09-20T10:27:34.759Z"
   },
   {
    "duration": 25,
    "start_time": "2023-09-20T10:27:34.772Z"
   },
   {
    "duration": 7,
    "start_time": "2023-09-20T10:27:34.799Z"
   },
   {
    "duration": 10,
    "start_time": "2023-09-20T10:27:34.808Z"
   },
   {
    "duration": 14,
    "start_time": "2023-09-20T10:27:34.820Z"
   },
   {
    "duration": 7,
    "start_time": "2023-09-20T10:27:34.836Z"
   },
   {
    "duration": 34,
    "start_time": "2023-09-20T10:27:34.844Z"
   },
   {
    "duration": 10,
    "start_time": "2023-09-20T10:27:34.880Z"
   },
   {
    "duration": 5,
    "start_time": "2023-09-20T10:27:34.892Z"
   },
   {
    "duration": 5,
    "start_time": "2023-09-20T10:27:34.910Z"
   },
   {
    "duration": 18,
    "start_time": "2023-09-20T10:27:34.916Z"
   },
   {
    "duration": 205,
    "start_time": "2023-09-20T10:27:34.936Z"
   },
   {
    "duration": 19,
    "start_time": "2023-09-20T10:27:35.143Z"
   },
   {
    "duration": 161,
    "start_time": "2023-09-20T10:27:35.164Z"
   },
   {
    "duration": 11,
    "start_time": "2023-09-20T10:27:35.326Z"
   },
   {
    "duration": 212,
    "start_time": "2023-09-20T10:27:35.339Z"
   },
   {
    "duration": 224,
    "start_time": "2023-09-20T10:27:35.553Z"
   },
   {
    "duration": 225,
    "start_time": "2023-09-20T10:27:35.779Z"
   },
   {
    "duration": 34,
    "start_time": "2023-09-20T10:27:36.006Z"
   },
   {
    "duration": 22,
    "start_time": "2023-09-20T10:27:36.041Z"
   },
   {
    "duration": 209,
    "start_time": "2023-09-20T10:27:36.064Z"
   },
   {
    "duration": 195,
    "start_time": "2023-09-20T10:27:36.276Z"
   },
   {
    "duration": 37,
    "start_time": "2023-09-20T10:27:36.473Z"
   },
   {
    "duration": 4819,
    "start_time": "2023-09-20T10:27:36.515Z"
   },
   {
    "duration": 6,
    "start_time": "2023-09-20T10:27:41.335Z"
   },
   {
    "duration": 32,
    "start_time": "2023-09-20T10:27:41.343Z"
   },
   {
    "duration": 4267,
    "start_time": "2023-09-20T10:27:41.376Z"
   },
   {
    "duration": 12,
    "start_time": "2023-09-20T10:27:45.645Z"
   },
   {
    "duration": 721,
    "start_time": "2023-09-20T10:27:45.659Z"
   },
   {
    "duration": 49308,
    "start_time": "2023-09-20T10:27:46.382Z"
   },
   {
    "duration": 36630,
    "start_time": "2023-09-20T10:28:39.153Z"
   },
   {
    "duration": 77,
    "start_time": "2023-09-20T10:38:53.151Z"
   },
   {
    "duration": 1386,
    "start_time": "2023-09-20T10:39:11.212Z"
   },
   {
    "duration": 107,
    "start_time": "2023-09-20T10:39:12.601Z"
   },
   {
    "duration": 89,
    "start_time": "2023-09-20T10:39:12.710Z"
   },
   {
    "duration": 69,
    "start_time": "2023-09-20T10:39:12.801Z"
   },
   {
    "duration": 12,
    "start_time": "2023-09-20T10:39:12.872Z"
   },
   {
    "duration": 11,
    "start_time": "2023-09-20T10:39:12.886Z"
   },
   {
    "duration": 7,
    "start_time": "2023-09-20T10:39:12.899Z"
   },
   {
    "duration": 12,
    "start_time": "2023-09-20T10:39:12.908Z"
   },
   {
    "duration": 7,
    "start_time": "2023-09-20T10:39:12.922Z"
   },
   {
    "duration": 8,
    "start_time": "2023-09-20T10:39:12.931Z"
   },
   {
    "duration": 17,
    "start_time": "2023-09-20T10:39:12.941Z"
   },
   {
    "duration": 9,
    "start_time": "2023-09-20T10:39:12.961Z"
   },
   {
    "duration": 5,
    "start_time": "2023-09-20T10:39:13.010Z"
   },
   {
    "duration": 10,
    "start_time": "2023-09-20T10:39:13.018Z"
   },
   {
    "duration": 13,
    "start_time": "2023-09-20T10:39:13.029Z"
   },
   {
    "duration": 202,
    "start_time": "2023-09-20T10:39:13.044Z"
   },
   {
    "duration": 18,
    "start_time": "2023-09-20T10:39:13.248Z"
   },
   {
    "duration": 149,
    "start_time": "2023-09-20T10:39:13.268Z"
   },
   {
    "duration": 6,
    "start_time": "2023-09-20T10:39:13.419Z"
   },
   {
    "duration": 208,
    "start_time": "2023-09-20T10:39:13.427Z"
   },
   {
    "duration": 249,
    "start_time": "2023-09-20T10:39:13.637Z"
   },
   {
    "duration": 236,
    "start_time": "2023-09-20T10:39:13.889Z"
   },
   {
    "duration": 34,
    "start_time": "2023-09-20T10:39:14.127Z"
   },
   {
    "duration": 23,
    "start_time": "2023-09-20T10:39:14.164Z"
   },
   {
    "duration": 210,
    "start_time": "2023-09-20T10:39:14.188Z"
   },
   {
    "duration": 210,
    "start_time": "2023-09-20T10:39:14.399Z"
   },
   {
    "duration": 29,
    "start_time": "2023-09-20T10:39:14.611Z"
   },
   {
    "duration": 5104,
    "start_time": "2023-09-20T10:39:14.642Z"
   },
   {
    "duration": 7,
    "start_time": "2023-09-20T10:39:19.748Z"
   },
   {
    "duration": 12,
    "start_time": "2023-09-20T10:39:19.758Z"
   },
   {
    "duration": 4541,
    "start_time": "2023-09-20T10:39:19.772Z"
   },
   {
    "duration": 12,
    "start_time": "2023-09-20T10:39:24.315Z"
   },
   {
    "duration": 775,
    "start_time": "2023-09-20T10:39:24.329Z"
   },
   {
    "duration": 3,
    "start_time": "2023-09-20T10:39:35.006Z"
   },
   {
    "duration": 70167,
    "start_time": "2023-09-20T10:39:41.763Z"
   },
   {
    "duration": 3,
    "start_time": "2023-09-20T10:44:07.232Z"
   },
   {
    "duration": 68680,
    "start_time": "2023-09-20T10:44:36.387Z"
   },
   {
    "duration": 75,
    "start_time": "2023-09-20T10:47:07.728Z"
   },
   {
    "duration": 74,
    "start_time": "2023-09-20T10:48:05.956Z"
   },
   {
    "duration": 74,
    "start_time": "2023-09-20T10:48:19.109Z"
   },
   {
    "duration": 72,
    "start_time": "2023-09-20T10:48:41.141Z"
   },
   {
    "duration": 100,
    "start_time": "2023-09-20T10:49:17.955Z"
   },
   {
    "duration": 1291,
    "start_time": "2023-09-20T10:49:39.399Z"
   },
   {
    "duration": 52,
    "start_time": "2023-09-20T10:49:40.692Z"
   },
   {
    "duration": 45,
    "start_time": "2023-09-20T10:49:40.746Z"
   },
   {
    "duration": 28,
    "start_time": "2023-09-20T10:49:40.793Z"
   },
   {
    "duration": 11,
    "start_time": "2023-09-20T10:49:40.823Z"
   },
   {
    "duration": 9,
    "start_time": "2023-09-20T10:49:40.835Z"
   },
   {
    "duration": 6,
    "start_time": "2023-09-20T10:49:40.846Z"
   },
   {
    "duration": 14,
    "start_time": "2023-09-20T10:49:40.854Z"
   },
   {
    "duration": 6,
    "start_time": "2023-09-20T10:49:40.870Z"
   },
   {
    "duration": 6,
    "start_time": "2023-09-20T10:49:40.911Z"
   },
   {
    "duration": 17,
    "start_time": "2023-09-20T10:49:40.919Z"
   },
   {
    "duration": 9,
    "start_time": "2023-09-20T10:49:40.938Z"
   },
   {
    "duration": 5,
    "start_time": "2023-09-20T10:49:40.949Z"
   },
   {
    "duration": 7,
    "start_time": "2023-09-20T10:49:40.956Z"
   },
   {
    "duration": 46,
    "start_time": "2023-09-20T10:49:40.965Z"
   },
   {
    "duration": 176,
    "start_time": "2023-09-20T10:49:41.013Z"
   },
   {
    "duration": 28,
    "start_time": "2023-09-20T10:49:41.191Z"
   },
   {
    "duration": 136,
    "start_time": "2023-09-20T10:49:41.221Z"
   },
   {
    "duration": 5,
    "start_time": "2023-09-20T10:49:41.358Z"
   },
   {
    "duration": 199,
    "start_time": "2023-09-20T10:49:41.365Z"
   },
   {
    "duration": 229,
    "start_time": "2023-09-20T10:49:41.565Z"
   },
   {
    "duration": 221,
    "start_time": "2023-09-20T10:49:41.795Z"
   },
   {
    "duration": 33,
    "start_time": "2023-09-20T10:49:42.017Z"
   },
   {
    "duration": 22,
    "start_time": "2023-09-20T10:49:42.051Z"
   },
   {
    "duration": 204,
    "start_time": "2023-09-20T10:49:42.075Z"
   },
   {
    "duration": 213,
    "start_time": "2023-09-20T10:49:42.280Z"
   },
   {
    "duration": 36,
    "start_time": "2023-09-20T10:49:42.495Z"
   },
   {
    "duration": 4860,
    "start_time": "2023-09-20T10:49:42.534Z"
   },
   {
    "duration": 14,
    "start_time": "2023-09-20T10:49:47.395Z"
   },
   {
    "duration": 6,
    "start_time": "2023-09-20T10:49:47.411Z"
   },
   {
    "duration": 4078,
    "start_time": "2023-09-20T10:49:47.418Z"
   },
   {
    "duration": 14,
    "start_time": "2023-09-20T10:49:51.497Z"
   },
   {
    "duration": 722,
    "start_time": "2023-09-20T10:49:51.513Z"
   },
   {
    "duration": 223,
    "start_time": "2023-09-20T10:49:52.236Z"
   },
   {
    "duration": 7,
    "start_time": "2023-09-20T10:51:04.494Z"
   },
   {
    "duration": 10,
    "start_time": "2023-09-20T10:52:48.791Z"
   },
   {
    "duration": 127,
    "start_time": "2023-09-20T10:52:56.756Z"
   },
   {
    "duration": 186,
    "start_time": "2023-09-20T10:59:56.632Z"
   },
   {
    "duration": 197,
    "start_time": "2023-09-20T11:00:46.004Z"
   },
   {
    "duration": 176,
    "start_time": "2023-09-20T11:01:21.179Z"
   },
   {
    "duration": 7,
    "start_time": "2023-09-20T11:01:40.763Z"
   },
   {
    "duration": 7,
    "start_time": "2023-09-20T11:02:32.612Z"
   },
   {
    "duration": 227,
    "start_time": "2023-09-20T11:02:47.675Z"
   },
   {
    "duration": 76,
    "start_time": "2023-09-20T11:03:03.830Z"
   },
   {
    "duration": 157,
    "start_time": "2023-09-20T11:06:22.830Z"
   },
   {
    "duration": 10,
    "start_time": "2023-09-20T11:06:48.533Z"
   },
   {
    "duration": 142,
    "start_time": "2023-09-20T11:08:11.677Z"
   },
   {
    "duration": 75,
    "start_time": "2023-09-20T11:12:13.813Z"
   },
   {
    "duration": 77,
    "start_time": "2023-09-20T11:12:25.556Z"
   },
   {
    "duration": 18,
    "start_time": "2023-09-20T11:14:10.566Z"
   },
   {
    "duration": 14,
    "start_time": "2023-09-20T11:19:36.008Z"
   },
   {
    "duration": 40,
    "start_time": "2023-09-20T11:19:49.337Z"
   },
   {
    "duration": 24,
    "start_time": "2023-09-20T11:20:03.608Z"
   },
   {
    "duration": 3,
    "start_time": "2023-09-20T11:21:48.347Z"
   },
   {
    "duration": 6,
    "start_time": "2023-09-20T11:21:53.089Z"
   },
   {
    "duration": 6,
    "start_time": "2023-09-20T11:22:47.358Z"
   },
   {
    "duration": 7,
    "start_time": "2023-09-20T11:23:02.220Z"
   },
   {
    "duration": 7,
    "start_time": "2023-09-20T11:23:09.050Z"
   },
   {
    "duration": 7,
    "start_time": "2023-09-20T11:24:30.046Z"
   },
   {
    "duration": 502,
    "start_time": "2023-09-20T11:25:01.734Z"
   },
   {
    "duration": 353,
    "start_time": "2023-09-20T11:26:21.760Z"
   },
   {
    "duration": 6,
    "start_time": "2023-09-20T11:27:07.575Z"
   },
   {
    "duration": 5,
    "start_time": "2023-09-20T11:28:07.992Z"
   },
   {
    "duration": 6,
    "start_time": "2023-09-20T11:28:32.727Z"
   },
   {
    "duration": 6,
    "start_time": "2023-09-20T11:28:40.765Z"
   },
   {
    "duration": 6,
    "start_time": "2023-09-20T11:29:46.672Z"
   },
   {
    "duration": 6,
    "start_time": "2023-09-20T11:31:58.210Z"
   },
   {
    "duration": 7,
    "start_time": "2023-09-20T11:32:11.463Z"
   },
   {
    "duration": 78998,
    "start_time": "2023-09-20T11:36:31.481Z"
   },
   {
    "duration": 74036,
    "start_time": "2023-09-20T11:37:51.848Z"
   },
   {
    "duration": 1228,
    "start_time": "2023-09-20T11:39:51.234Z"
   },
   {
    "duration": 1275,
    "start_time": "2023-09-20T11:40:34.207Z"
   },
   {
    "duration": 140,
    "start_time": "2023-09-20T11:40:47.553Z"
   },
   {
    "duration": 190,
    "start_time": "2023-09-20T11:41:40.593Z"
   },
   {
    "duration": 208,
    "start_time": "2023-09-20T11:41:53.713Z"
   },
   {
    "duration": 78,
    "start_time": "2023-09-20T11:44:17.154Z"
   },
   {
    "duration": 209,
    "start_time": "2023-09-20T11:44:33.263Z"
   },
   {
    "duration": 220,
    "start_time": "2023-09-20T11:45:54.546Z"
   },
   {
    "duration": 256,
    "start_time": "2023-09-20T11:47:07.607Z"
   },
   {
    "duration": 768,
    "start_time": "2023-09-20T11:48:06.996Z"
   },
   {
    "duration": 165,
    "start_time": "2023-09-20T11:51:15.621Z"
   },
   {
    "duration": 191,
    "start_time": "2023-09-20T11:51:20.233Z"
   },
   {
    "duration": 1227,
    "start_time": "2023-09-20T11:59:55.972Z"
   },
   {
    "duration": 55,
    "start_time": "2023-09-20T11:59:57.201Z"
   },
   {
    "duration": 45,
    "start_time": "2023-09-20T11:59:57.258Z"
   },
   {
    "duration": 28,
    "start_time": "2023-09-20T11:59:57.305Z"
   },
   {
    "duration": 10,
    "start_time": "2023-09-20T11:59:57.335Z"
   },
   {
    "duration": 17,
    "start_time": "2023-09-20T11:59:57.347Z"
   },
   {
    "duration": 21,
    "start_time": "2023-09-20T11:59:57.366Z"
   },
   {
    "duration": 14,
    "start_time": "2023-09-20T11:59:57.389Z"
   },
   {
    "duration": 6,
    "start_time": "2023-09-20T11:59:57.405Z"
   },
   {
    "duration": 9,
    "start_time": "2023-09-20T11:59:57.414Z"
   },
   {
    "duration": 15,
    "start_time": "2023-09-20T11:59:57.424Z"
   },
   {
    "duration": 11,
    "start_time": "2023-09-20T11:59:57.441Z"
   },
   {
    "duration": 6,
    "start_time": "2023-09-20T11:59:57.453Z"
   },
   {
    "duration": 35,
    "start_time": "2023-09-20T11:59:57.460Z"
   },
   {
    "duration": 26,
    "start_time": "2023-09-20T11:59:57.496Z"
   },
   {
    "duration": 173,
    "start_time": "2023-09-20T11:59:57.524Z"
   },
   {
    "duration": 19,
    "start_time": "2023-09-20T11:59:57.699Z"
   },
   {
    "duration": 140,
    "start_time": "2023-09-20T11:59:57.720Z"
   },
   {
    "duration": 4,
    "start_time": "2023-09-20T11:59:57.862Z"
   },
   {
    "duration": 203,
    "start_time": "2023-09-20T11:59:57.868Z"
   },
   {
    "duration": 233,
    "start_time": "2023-09-20T11:59:58.073Z"
   },
   {
    "duration": 223,
    "start_time": "2023-09-20T11:59:58.309Z"
   },
   {
    "duration": 34,
    "start_time": "2023-09-20T11:59:58.534Z"
   },
   {
    "duration": 49,
    "start_time": "2023-09-20T11:59:58.571Z"
   },
   {
    "duration": 190,
    "start_time": "2023-09-20T11:59:58.622Z"
   },
   {
    "duration": 201,
    "start_time": "2023-09-20T11:59:58.814Z"
   },
   {
    "duration": 27,
    "start_time": "2023-09-20T11:59:59.017Z"
   },
   {
    "duration": 5071,
    "start_time": "2023-09-20T11:59:59.048Z"
   },
   {
    "duration": 6,
    "start_time": "2023-09-20T12:00:04.121Z"
   },
   {
    "duration": 7,
    "start_time": "2023-09-20T12:00:04.129Z"
   },
   {
    "duration": 4377,
    "start_time": "2023-09-20T12:00:04.138Z"
   },
   {
    "duration": 11,
    "start_time": "2023-09-20T12:00:08.517Z"
   },
   {
    "duration": 242,
    "start_time": "2023-09-20T12:00:08.529Z"
   },
   {
    "duration": 250,
    "start_time": "2023-09-20T12:00:08.773Z"
   },
   {
    "duration": 23,
    "start_time": "2023-09-20T12:01:58.744Z"
   },
   {
    "duration": 1261,
    "start_time": "2023-09-20T18:54:40.792Z"
   },
   {
    "duration": 91,
    "start_time": "2023-09-20T18:54:42.055Z"
   },
   {
    "duration": 87,
    "start_time": "2023-09-20T18:54:42.147Z"
   },
   {
    "duration": 64,
    "start_time": "2023-09-20T18:54:42.237Z"
   },
   {
    "duration": 11,
    "start_time": "2023-09-20T18:54:42.303Z"
   },
   {
    "duration": 46,
    "start_time": "2023-09-20T18:54:42.315Z"
   },
   {
    "duration": 25,
    "start_time": "2023-09-20T18:54:42.362Z"
   },
   {
    "duration": 50,
    "start_time": "2023-09-20T18:54:42.388Z"
   },
   {
    "duration": 20,
    "start_time": "2023-09-20T18:54:42.439Z"
   },
   {
    "duration": 30,
    "start_time": "2023-09-20T18:54:42.461Z"
   },
   {
    "duration": 42,
    "start_time": "2023-09-20T18:54:42.492Z"
   },
   {
    "duration": 41,
    "start_time": "2023-09-20T18:54:42.536Z"
   },
   {
    "duration": 37,
    "start_time": "2023-09-20T18:54:42.579Z"
   },
   {
    "duration": 25,
    "start_time": "2023-09-20T18:54:42.618Z"
   },
   {
    "duration": 25,
    "start_time": "2023-09-20T18:54:42.645Z"
   },
   {
    "duration": 149,
    "start_time": "2023-09-20T18:54:42.672Z"
   },
   {
    "duration": 22,
    "start_time": "2023-09-20T18:54:42.822Z"
   },
   {
    "duration": 121,
    "start_time": "2023-09-20T18:54:42.846Z"
   },
   {
    "duration": 5,
    "start_time": "2023-09-20T18:54:42.968Z"
   },
   {
    "duration": 178,
    "start_time": "2023-09-20T18:54:42.975Z"
   },
   {
    "duration": 204,
    "start_time": "2023-09-20T18:54:43.155Z"
   },
   {
    "duration": 191,
    "start_time": "2023-09-20T18:54:43.361Z"
   },
   {
    "duration": 30,
    "start_time": "2023-09-20T18:54:43.554Z"
   },
   {
    "duration": 19,
    "start_time": "2023-09-20T18:54:43.586Z"
   },
   {
    "duration": 217,
    "start_time": "2023-09-20T18:54:43.606Z"
   },
   {
    "duration": 172,
    "start_time": "2023-09-20T18:54:43.825Z"
   },
   {
    "duration": 24,
    "start_time": "2023-09-20T18:54:43.998Z"
   },
   {
    "duration": 4476,
    "start_time": "2023-09-20T18:54:44.027Z"
   },
   {
    "duration": 7,
    "start_time": "2023-09-20T18:54:48.506Z"
   },
   {
    "duration": 26,
    "start_time": "2023-09-20T18:54:48.514Z"
   },
   {
    "duration": 4246,
    "start_time": "2023-09-20T18:54:48.542Z"
   },
   {
    "duration": 10,
    "start_time": "2023-09-20T18:54:52.790Z"
   },
   {
    "duration": 198,
    "start_time": "2023-09-20T18:54:52.802Z"
   },
   {
    "duration": 269,
    "start_time": "2023-09-20T18:54:53.003Z"
   },
   {
    "duration": 116,
    "start_time": "2023-09-20T19:40:37.585Z"
   },
   {
    "duration": 90,
    "start_time": "2023-09-21T06:25:37.932Z"
   },
   {
    "duration": 14,
    "start_time": "2023-09-21T07:12:39.776Z"
   },
   {
    "duration": 1147,
    "start_time": "2023-09-21T07:13:47.274Z"
   },
   {
    "duration": 123,
    "start_time": "2023-09-21T07:13:53.077Z"
   },
   {
    "duration": 15,
    "start_time": "2023-09-21T07:14:07.037Z"
   },
   {
    "duration": 151,
    "start_time": "2023-09-21T07:15:01.148Z"
   },
   {
    "duration": 30,
    "start_time": "2023-09-21T07:15:14.557Z"
   },
   {
    "duration": 17,
    "start_time": "2023-09-21T07:15:48.045Z"
   },
   {
    "duration": 18,
    "start_time": "2023-09-21T07:16:34.943Z"
   },
   {
    "duration": 21,
    "start_time": "2023-09-21T07:17:08.462Z"
   },
   {
    "duration": 18,
    "start_time": "2023-09-21T07:26:10.828Z"
   },
   {
    "duration": 19,
    "start_time": "2023-09-21T07:27:23.785Z"
   },
   {
    "duration": 13,
    "start_time": "2023-09-21T07:36:47.715Z"
   },
   {
    "duration": 18,
    "start_time": "2023-09-21T07:36:54.105Z"
   },
   {
    "duration": 20,
    "start_time": "2023-09-21T07:40:00.667Z"
   },
   {
    "duration": 3269,
    "start_time": "2023-09-21T08:12:16.428Z"
   },
   {
    "duration": 29,
    "start_time": "2023-09-21T08:12:36.262Z"
   },
   {
    "duration": 25,
    "start_time": "2023-09-21T08:13:34.439Z"
   },
   {
    "duration": 156,
    "start_time": "2023-09-21T08:13:56.129Z"
   },
   {
    "duration": 455,
    "start_time": "2023-09-21T08:14:22.760Z"
   },
   {
    "duration": 527,
    "start_time": "2023-09-21T08:15:56.926Z"
   },
   {
    "duration": 452,
    "start_time": "2023-09-21T08:17:03.742Z"
   },
   {
    "duration": 402,
    "start_time": "2023-09-21T08:18:51.522Z"
   },
   {
    "duration": 495,
    "start_time": "2023-09-21T08:20:31.908Z"
   },
   {
    "duration": 29,
    "start_time": "2023-09-21T08:22:29.347Z"
   },
   {
    "duration": 30,
    "start_time": "2023-09-21T08:24:01.911Z"
   },
   {
    "duration": 21,
    "start_time": "2023-09-21T08:24:33.290Z"
   },
   {
    "duration": 1377,
    "start_time": "2023-09-21T08:24:59.859Z"
   },
   {
    "duration": 50,
    "start_time": "2023-09-21T08:25:03.803Z"
   },
   {
    "duration": 71,
    "start_time": "2023-09-21T08:25:05.598Z"
   },
   {
    "duration": 41,
    "start_time": "2023-09-21T08:25:07.035Z"
   },
   {
    "duration": 14,
    "start_time": "2023-09-21T08:25:09.895Z"
   },
   {
    "duration": 10,
    "start_time": "2023-09-21T08:25:11.663Z"
   },
   {
    "duration": 8,
    "start_time": "2023-09-21T08:25:13.295Z"
   },
   {
    "duration": 124,
    "start_time": "2023-09-21T08:25:14.799Z"
   },
   {
    "duration": 8,
    "start_time": "2023-09-21T08:25:32.022Z"
   },
   {
    "duration": 8,
    "start_time": "2023-09-21T08:25:33.021Z"
   },
   {
    "duration": 7,
    "start_time": "2023-09-21T08:25:33.560Z"
   },
   {
    "duration": 8,
    "start_time": "2023-09-21T08:25:35.766Z"
   },
   {
    "duration": 21,
    "start_time": "2023-09-21T08:25:38.010Z"
   },
   {
    "duration": 12,
    "start_time": "2023-09-21T08:25:39.959Z"
   },
   {
    "duration": 6,
    "start_time": "2023-09-21T08:25:40.775Z"
   },
   {
    "duration": 6,
    "start_time": "2023-09-21T08:25:42.391Z"
   },
   {
    "duration": 10,
    "start_time": "2023-09-21T08:25:44.406Z"
   },
   {
    "duration": 200,
    "start_time": "2023-09-21T08:25:48.212Z"
   },
   {
    "duration": 27,
    "start_time": "2023-09-21T08:26:24.336Z"
   },
   {
    "duration": 35,
    "start_time": "2023-09-21T08:26:53.856Z"
   },
   {
    "duration": 38,
    "start_time": "2023-09-21T08:28:59.230Z"
   },
   {
    "duration": 31,
    "start_time": "2023-09-21T08:30:33.430Z"
   },
   {
    "duration": 32,
    "start_time": "2023-09-21T08:31:06.667Z"
   },
   {
    "duration": 35,
    "start_time": "2023-09-21T08:31:45.902Z"
   },
   {
    "duration": 25,
    "start_time": "2023-09-21T08:31:56.469Z"
   },
   {
    "duration": 3,
    "start_time": "2023-09-21T08:33:28.076Z"
   },
   {
    "duration": 485,
    "start_time": "2023-09-21T08:34:44.182Z"
   },
   {
    "duration": 21,
    "start_time": "2023-09-21T08:36:13.356Z"
   },
   {
    "duration": 38,
    "start_time": "2023-09-21T08:36:22.475Z"
   },
   {
    "duration": 20,
    "start_time": "2023-09-21T08:38:12.278Z"
   },
   {
    "duration": 19,
    "start_time": "2023-09-21T08:38:22.980Z"
   },
   {
    "duration": 24,
    "start_time": "2023-09-21T08:38:30.197Z"
   },
   {
    "duration": 3,
    "start_time": "2023-09-21T08:43:09.740Z"
   },
   {
    "duration": 183,
    "start_time": "2023-09-21T08:43:19.042Z"
   },
   {
    "duration": 24,
    "start_time": "2023-09-21T08:43:55.029Z"
   },
   {
    "duration": 175,
    "start_time": "2023-09-21T08:44:14.600Z"
   },
   {
    "duration": 17,
    "start_time": "2023-09-21T08:45:54.128Z"
   },
   {
    "duration": 102,
    "start_time": "2023-09-21T08:46:14.575Z"
   },
   {
    "duration": 229,
    "start_time": "2023-09-21T08:47:30.839Z"
   },
   {
    "duration": 2299,
    "start_time": "2023-09-21T08:48:25.001Z"
   },
   {
    "duration": 2555,
    "start_time": "2023-09-21T08:49:16.837Z"
   },
   {
    "duration": 116,
    "start_time": "2023-09-21T08:51:45.063Z"
   },
   {
    "duration": 149,
    "start_time": "2023-09-21T08:51:55.894Z"
   },
   {
    "duration": 7,
    "start_time": "2023-09-21T08:52:40.744Z"
   },
   {
    "duration": 257,
    "start_time": "2023-09-21T08:52:43.563Z"
   },
   {
    "duration": 15,
    "start_time": "2023-09-21T08:53:13.158Z"
   },
   {
    "duration": 4145,
    "start_time": "2023-09-21T08:57:06.762Z"
   },
   {
    "duration": 291,
    "start_time": "2023-09-21T08:57:14.255Z"
   },
   {
    "duration": 12,
    "start_time": "2023-09-21T08:57:23.338Z"
   },
   {
    "duration": 13,
    "start_time": "2023-09-21T09:01:50.674Z"
   },
   {
    "duration": 15,
    "start_time": "2023-09-21T09:02:07.862Z"
   },
   {
    "duration": 303,
    "start_time": "2023-09-21T09:02:08.969Z"
   },
   {
    "duration": 41,
    "start_time": "2023-09-21T09:05:28.237Z"
   },
   {
    "duration": 33,
    "start_time": "2023-09-21T09:05:30.797Z"
   },
   {
    "duration": 21,
    "start_time": "2023-09-21T09:05:44.521Z"
   },
   {
    "duration": 236,
    "start_time": "2023-09-21T09:06:22.092Z"
   },
   {
    "duration": 247,
    "start_time": "2023-09-21T09:06:24.483Z"
   },
   {
    "duration": 43,
    "start_time": "2023-09-21T09:07:04.305Z"
   },
   {
    "duration": 8,
    "start_time": "2023-09-21T09:25:24.445Z"
   },
   {
    "duration": 50,
    "start_time": "2023-09-21T09:30:15.338Z"
   },
   {
    "duration": 44,
    "start_time": "2023-09-21T09:30:21.143Z"
   },
   {
    "duration": 15,
    "start_time": "2023-09-21T09:30:23.386Z"
   },
   {
    "duration": 200,
    "start_time": "2023-09-21T09:30:28.345Z"
   },
   {
    "duration": 327,
    "start_time": "2023-09-21T09:30:30.648Z"
   },
   {
    "duration": 29,
    "start_time": "2023-09-21T09:30:37.931Z"
   },
   {
    "duration": 7,
    "start_time": "2023-09-21T09:30:48.744Z"
   },
   {
    "duration": 147,
    "start_time": "2023-09-21T09:31:44.844Z"
   },
   {
    "duration": 11,
    "start_time": "2023-09-21T09:33:56.893Z"
   },
   {
    "duration": 38,
    "start_time": "2023-09-21T09:36:52.374Z"
   },
   {
    "duration": 56,
    "start_time": "2023-09-21T09:37:01.697Z"
   },
   {
    "duration": 34,
    "start_time": "2023-09-21T09:37:38.168Z"
   },
   {
    "duration": 36,
    "start_time": "2023-09-21T09:38:27.259Z"
   },
   {
    "duration": 33,
    "start_time": "2023-09-21T09:38:33.256Z"
   },
   {
    "duration": 9,
    "start_time": "2023-09-21T09:39:55.380Z"
   },
   {
    "duration": 20,
    "start_time": "2023-09-21T09:42:57.904Z"
   },
   {
    "duration": 5452,
    "start_time": "2023-09-21T09:43:15.052Z"
   },
   {
    "duration": 9572,
    "start_time": "2023-09-21T09:46:02.370Z"
   },
   {
    "duration": 8,
    "start_time": "2023-09-21T09:49:23.089Z"
   },
   {
    "duration": 5103,
    "start_time": "2023-09-21T09:54:16.193Z"
   },
   {
    "duration": 8638,
    "start_time": "2023-09-21T09:57:54.976Z"
   },
   {
    "duration": 4983,
    "start_time": "2023-09-21T09:58:35.254Z"
   },
   {
    "duration": 1557,
    "start_time": "2023-09-21T09:59:13.836Z"
   },
   {
    "duration": 93,
    "start_time": "2023-09-21T09:59:15.396Z"
   },
   {
    "duration": 62,
    "start_time": "2023-09-21T09:59:15.494Z"
   },
   {
    "duration": 36,
    "start_time": "2023-09-21T09:59:15.558Z"
   },
   {
    "duration": 24,
    "start_time": "2023-09-21T09:59:15.597Z"
   },
   {
    "duration": 15,
    "start_time": "2023-09-21T09:59:15.628Z"
   },
   {
    "duration": 19,
    "start_time": "2023-09-21T09:59:15.646Z"
   },
   {
    "duration": 192,
    "start_time": "2023-09-21T09:59:15.668Z"
   },
   {
    "duration": 0,
    "start_time": "2023-09-21T09:59:15.864Z"
   },
   {
    "duration": 0,
    "start_time": "2023-09-21T09:59:15.866Z"
   },
   {
    "duration": 0,
    "start_time": "2023-09-21T09:59:15.867Z"
   },
   {
    "duration": 0,
    "start_time": "2023-09-21T09:59:15.869Z"
   },
   {
    "duration": 0,
    "start_time": "2023-09-21T09:59:15.870Z"
   },
   {
    "duration": 0,
    "start_time": "2023-09-21T09:59:15.872Z"
   },
   {
    "duration": 0,
    "start_time": "2023-09-21T09:59:15.873Z"
   },
   {
    "duration": 0,
    "start_time": "2023-09-21T09:59:15.874Z"
   },
   {
    "duration": 0,
    "start_time": "2023-09-21T09:59:15.875Z"
   },
   {
    "duration": 0,
    "start_time": "2023-09-21T09:59:15.877Z"
   },
   {
    "duration": 0,
    "start_time": "2023-09-21T09:59:15.878Z"
   },
   {
    "duration": 0,
    "start_time": "2023-09-21T09:59:15.880Z"
   },
   {
    "duration": 0,
    "start_time": "2023-09-21T09:59:15.914Z"
   },
   {
    "duration": 0,
    "start_time": "2023-09-21T09:59:15.914Z"
   },
   {
    "duration": 0,
    "start_time": "2023-09-21T09:59:15.915Z"
   },
   {
    "duration": 0,
    "start_time": "2023-09-21T09:59:15.916Z"
   },
   {
    "duration": 0,
    "start_time": "2023-09-21T09:59:15.919Z"
   },
   {
    "duration": 0,
    "start_time": "2023-09-21T09:59:15.919Z"
   },
   {
    "duration": 0,
    "start_time": "2023-09-21T09:59:15.928Z"
   },
   {
    "duration": 1,
    "start_time": "2023-09-21T09:59:15.928Z"
   },
   {
    "duration": 1,
    "start_time": "2023-09-21T09:59:15.936Z"
   },
   {
    "duration": 0,
    "start_time": "2023-09-21T09:59:15.938Z"
   },
   {
    "duration": 0,
    "start_time": "2023-09-21T09:59:15.939Z"
   },
   {
    "duration": 0,
    "start_time": "2023-09-21T09:59:15.939Z"
   },
   {
    "duration": 0,
    "start_time": "2023-09-21T09:59:15.941Z"
   },
   {
    "duration": 0,
    "start_time": "2023-09-21T09:59:15.944Z"
   },
   {
    "duration": 0,
    "start_time": "2023-09-21T09:59:15.945Z"
   },
   {
    "duration": 0,
    "start_time": "2023-09-21T09:59:15.947Z"
   },
   {
    "duration": 0,
    "start_time": "2023-09-21T09:59:15.949Z"
   },
   {
    "duration": 6,
    "start_time": "2023-09-21T09:59:47.837Z"
   },
   {
    "duration": 56,
    "start_time": "2023-09-21T09:59:47.845Z"
   },
   {
    "duration": 58,
    "start_time": "2023-09-21T09:59:47.903Z"
   },
   {
    "duration": 28,
    "start_time": "2023-09-21T09:59:47.964Z"
   },
   {
    "duration": 36,
    "start_time": "2023-09-21T09:59:47.993Z"
   },
   {
    "duration": 18,
    "start_time": "2023-09-21T09:59:48.031Z"
   },
   {
    "duration": 8,
    "start_time": "2023-09-21T09:59:48.051Z"
   },
   {
    "duration": 6,
    "start_time": "2023-09-21T09:59:48.061Z"
   },
   {
    "duration": 23,
    "start_time": "2023-09-21T09:59:48.068Z"
   },
   {
    "duration": 21,
    "start_time": "2023-09-21T09:59:48.094Z"
   },
   {
    "duration": 19,
    "start_time": "2023-09-21T09:59:48.118Z"
   },
   {
    "duration": 18,
    "start_time": "2023-09-21T09:59:48.138Z"
   },
   {
    "duration": 17,
    "start_time": "2023-09-21T09:59:48.160Z"
   },
   {
    "duration": 12,
    "start_time": "2023-09-21T09:59:48.179Z"
   },
   {
    "duration": 20,
    "start_time": "2023-09-21T09:59:48.193Z"
   },
   {
    "duration": 25,
    "start_time": "2023-09-21T09:59:48.224Z"
   },
   {
    "duration": 18,
    "start_time": "2023-09-21T09:59:48.251Z"
   },
   {
    "duration": 204,
    "start_time": "2023-09-21T09:59:48.272Z"
   },
   {
    "duration": 3,
    "start_time": "2023-09-21T09:59:48.478Z"
   },
   {
    "duration": 140,
    "start_time": "2023-09-21T09:59:48.484Z"
   },
   {
    "duration": 12,
    "start_time": "2023-09-21T09:59:48.626Z"
   },
   {
    "duration": 236,
    "start_time": "2023-09-21T09:59:48.640Z"
   },
   {
    "duration": 9,
    "start_time": "2023-09-21T09:59:48.878Z"
   },
   {
    "duration": 284,
    "start_time": "2023-09-21T09:59:48.889Z"
   },
   {
    "duration": 13,
    "start_time": "2023-09-21T09:59:49.175Z"
   },
   {
    "duration": 315,
    "start_time": "2023-09-21T09:59:49.190Z"
   },
   {
    "duration": 36,
    "start_time": "2023-09-21T09:59:49.507Z"
   },
   {
    "duration": 36,
    "start_time": "2023-09-21T09:59:49.548Z"
   },
   {
    "duration": 28,
    "start_time": "2023-09-21T09:59:49.585Z"
   },
   {
    "duration": 20,
    "start_time": "2023-09-21T09:59:49.615Z"
   },
   {
    "duration": 221,
    "start_time": "2023-09-21T09:59:49.637Z"
   },
   {
    "duration": 227,
    "start_time": "2023-09-21T09:59:49.860Z"
   },
   {
    "duration": 64,
    "start_time": "2023-09-21T09:59:50.089Z"
   },
   {
    "duration": 21,
    "start_time": "2023-09-21T09:59:50.156Z"
   },
   {
    "duration": 66,
    "start_time": "2023-09-21T09:59:50.182Z"
   },
   {
    "duration": 19,
    "start_time": "2023-09-21T09:59:50.250Z"
   },
   {
    "duration": 79,
    "start_time": "2023-09-21T09:59:50.271Z"
   },
   {
    "duration": 4914,
    "start_time": "2023-09-21T09:59:54.337Z"
   },
   {
    "duration": 313,
    "start_time": "2023-09-21T10:00:26.764Z"
   },
   {
    "duration": 269,
    "start_time": "2023-09-21T10:02:24.491Z"
   },
   {
    "duration": 4484,
    "start_time": "2023-09-21T10:02:45.019Z"
   },
   {
    "duration": 14,
    "start_time": "2023-09-21T10:03:17.913Z"
   },
   {
    "duration": 16,
    "start_time": "2023-09-21T10:03:27.642Z"
   },
   {
    "duration": 6,
    "start_time": "2023-09-21T10:03:49.592Z"
   },
   {
    "duration": 7,
    "start_time": "2023-09-21T10:04:08.793Z"
   },
   {
    "duration": 89,
    "start_time": "2023-09-21T10:12:20.544Z"
   },
   {
    "duration": 66,
    "start_time": "2023-09-21T10:13:32.595Z"
   },
   {
    "duration": 52,
    "start_time": "2023-09-21T10:15:14.375Z"
   },
   {
    "duration": 36,
    "start_time": "2023-09-21T10:15:36.154Z"
   },
   {
    "duration": 31,
    "start_time": "2023-09-21T10:16:59.268Z"
   },
   {
    "duration": 4829,
    "start_time": "2023-09-21T10:19:57.249Z"
   },
   {
    "duration": 3740,
    "start_time": "2023-09-21T10:20:09.459Z"
   },
   {
    "duration": 79,
    "start_time": "2023-09-21T10:21:00.314Z"
   },
   {
    "duration": 1455,
    "start_time": "2023-09-21T10:21:04.745Z"
   },
   {
    "duration": 67,
    "start_time": "2023-09-21T10:21:06.202Z"
   },
   {
    "duration": 49,
    "start_time": "2023-09-21T10:21:06.271Z"
   },
   {
    "duration": 45,
    "start_time": "2023-09-21T10:21:06.322Z"
   },
   {
    "duration": 19,
    "start_time": "2023-09-21T10:21:06.370Z"
   },
   {
    "duration": 14,
    "start_time": "2023-09-21T10:21:06.390Z"
   },
   {
    "duration": 22,
    "start_time": "2023-09-21T10:21:06.406Z"
   },
   {
    "duration": 15,
    "start_time": "2023-09-21T10:21:06.429Z"
   },
   {
    "duration": 17,
    "start_time": "2023-09-21T10:21:06.447Z"
   },
   {
    "duration": 30,
    "start_time": "2023-09-21T10:21:06.466Z"
   },
   {
    "duration": 13,
    "start_time": "2023-09-21T10:21:06.498Z"
   },
   {
    "duration": 30,
    "start_time": "2023-09-21T10:21:06.514Z"
   },
   {
    "duration": 18,
    "start_time": "2023-09-21T10:21:06.546Z"
   },
   {
    "duration": 12,
    "start_time": "2023-09-21T10:21:06.567Z"
   },
   {
    "duration": 20,
    "start_time": "2023-09-21T10:21:06.582Z"
   },
   {
    "duration": 18,
    "start_time": "2023-09-21T10:21:06.604Z"
   },
   {
    "duration": 23,
    "start_time": "2023-09-21T10:21:06.635Z"
   },
   {
    "duration": 205,
    "start_time": "2023-09-21T10:21:06.661Z"
   },
   {
    "duration": 97,
    "start_time": "2023-09-21T10:21:06.868Z"
   },
   {
    "duration": 106,
    "start_time": "2023-09-21T10:21:06.967Z"
   },
   {
    "duration": 6,
    "start_time": "2023-09-21T10:21:07.075Z"
   },
   {
    "duration": 258,
    "start_time": "2023-09-21T10:21:07.083Z"
   },
   {
    "duration": 12,
    "start_time": "2023-09-21T10:21:07.349Z"
   },
   {
    "duration": 281,
    "start_time": "2023-09-21T10:21:07.362Z"
   },
   {
    "duration": 12,
    "start_time": "2023-09-21T10:21:07.645Z"
   },
   {
    "duration": 276,
    "start_time": "2023-09-21T10:21:07.659Z"
   },
   {
    "duration": 15,
    "start_time": "2023-09-21T10:21:07.937Z"
   },
   {
    "duration": 36,
    "start_time": "2023-09-21T10:21:07.953Z"
   },
   {
    "duration": 54,
    "start_time": "2023-09-21T10:21:07.991Z"
   },
   {
    "duration": 14,
    "start_time": "2023-09-21T10:21:08.046Z"
   },
   {
    "duration": 241,
    "start_time": "2023-09-21T10:21:08.062Z"
   },
   {
    "duration": 377,
    "start_time": "2023-09-21T10:21:08.308Z"
   },
   {
    "duration": 54,
    "start_time": "2023-09-21T10:21:08.687Z"
   },
   {
    "duration": 10,
    "start_time": "2023-09-21T10:21:08.749Z"
   },
   {
    "duration": 20,
    "start_time": "2023-09-21T10:21:08.761Z"
   },
   {
    "duration": 11,
    "start_time": "2023-09-21T10:21:08.784Z"
   },
   {
    "duration": 24,
    "start_time": "2023-09-21T10:21:08.798Z"
   },
   {
    "duration": 4937,
    "start_time": "2023-09-21T10:21:08.825Z"
   },
   {
    "duration": 260,
    "start_time": "2023-09-21T10:21:17.339Z"
   },
   {
    "duration": 8,
    "start_time": "2023-09-21T10:21:33.656Z"
   },
   {
    "duration": 14,
    "start_time": "2023-09-21T10:23:54.002Z"
   },
   {
    "duration": 549,
    "start_time": "2023-09-21T10:24:04.053Z"
   },
   {
    "duration": 404,
    "start_time": "2023-09-21T10:24:15.741Z"
   },
   {
    "duration": 13,
    "start_time": "2023-09-21T10:24:18.809Z"
   },
   {
    "duration": 9,
    "start_time": "2023-09-21T10:25:05.028Z"
   },
   {
    "duration": 20,
    "start_time": "2023-09-21T10:25:22.909Z"
   },
   {
    "duration": 8,
    "start_time": "2023-09-21T10:27:03.483Z"
   },
   {
    "duration": 10,
    "start_time": "2023-09-21T10:27:40.999Z"
   },
   {
    "duration": 10,
    "start_time": "2023-09-21T10:28:03.605Z"
   },
   {
    "duration": 7,
    "start_time": "2023-09-21T10:28:31.551Z"
   },
   {
    "duration": 15,
    "start_time": "2023-09-21T10:29:58.680Z"
   },
   {
    "duration": 14,
    "start_time": "2023-09-21T10:30:24.071Z"
   },
   {
    "duration": 287,
    "start_time": "2023-09-21T10:31:22.938Z"
   },
   {
    "duration": 232,
    "start_time": "2023-09-21T10:32:15.769Z"
   },
   {
    "duration": 111,
    "start_time": "2023-09-21T10:55:07.740Z"
   },
   {
    "duration": 117,
    "start_time": "2023-09-21T10:55:16.355Z"
   },
   {
    "duration": 161,
    "start_time": "2023-09-21T10:55:21.526Z"
   },
   {
    "duration": 23,
    "start_time": "2023-09-21T10:56:50.762Z"
   },
   {
    "duration": 1478,
    "start_time": "2023-09-21T10:57:13.341Z"
   },
   {
    "duration": 73,
    "start_time": "2023-09-21T10:57:14.822Z"
   },
   {
    "duration": 62,
    "start_time": "2023-09-21T10:57:14.897Z"
   },
   {
    "duration": 44,
    "start_time": "2023-09-21T10:57:14.961Z"
   },
   {
    "duration": 32,
    "start_time": "2023-09-21T10:57:15.008Z"
   },
   {
    "duration": 23,
    "start_time": "2023-09-21T10:57:15.044Z"
   },
   {
    "duration": 232,
    "start_time": "2023-09-21T10:57:15.069Z"
   },
   {
    "duration": 17,
    "start_time": "2023-09-21T10:57:15.303Z"
   },
   {
    "duration": 48,
    "start_time": "2023-09-21T10:57:15.325Z"
   },
   {
    "duration": 20,
    "start_time": "2023-09-21T10:57:15.376Z"
   },
   {
    "duration": 191,
    "start_time": "2023-09-21T10:57:15.398Z"
   },
   {
    "duration": 49,
    "start_time": "2023-09-21T10:57:15.591Z"
   },
   {
    "duration": 26,
    "start_time": "2023-09-21T10:57:15.641Z"
   },
   {
    "duration": 25,
    "start_time": "2023-09-21T10:57:15.670Z"
   },
   {
    "duration": 40,
    "start_time": "2023-09-21T10:57:15.697Z"
   },
   {
    "duration": 39,
    "start_time": "2023-09-21T10:57:15.739Z"
   },
   {
    "duration": 249,
    "start_time": "2023-09-21T10:57:15.780Z"
   },
   {
    "duration": 117,
    "start_time": "2023-09-21T10:57:16.031Z"
   },
   {
    "duration": 103,
    "start_time": "2023-09-21T10:57:16.151Z"
   },
   {
    "duration": 7,
    "start_time": "2023-09-21T10:57:16.257Z"
   },
   {
    "duration": 241,
    "start_time": "2023-09-21T10:57:16.265Z"
   },
   {
    "duration": 16,
    "start_time": "2023-09-21T10:57:16.508Z"
   },
   {
    "duration": 359,
    "start_time": "2023-09-21T10:57:16.526Z"
   },
   {
    "duration": 24,
    "start_time": "2023-09-21T10:57:16.887Z"
   },
   {
    "duration": 278,
    "start_time": "2023-09-21T10:57:16.913Z"
   },
   {
    "duration": 20,
    "start_time": "2023-09-21T10:57:17.193Z"
   },
   {
    "duration": 48,
    "start_time": "2023-09-21T10:57:17.224Z"
   },
   {
    "duration": 115,
    "start_time": "2023-09-21T10:57:17.274Z"
   },
   {
    "duration": 33,
    "start_time": "2023-09-21T10:57:17.391Z"
   },
   {
    "duration": 230,
    "start_time": "2023-09-21T10:57:17.430Z"
   },
   {
    "duration": 228,
    "start_time": "2023-09-21T10:57:17.662Z"
   },
   {
    "duration": 50,
    "start_time": "2023-09-21T10:57:17.895Z"
   },
   {
    "duration": 10,
    "start_time": "2023-09-21T10:57:17.947Z"
   },
   {
    "duration": 38,
    "start_time": "2023-09-21T10:57:17.959Z"
   },
   {
    "duration": 44,
    "start_time": "2023-09-21T10:57:17.999Z"
   },
   {
    "duration": 15,
    "start_time": "2023-09-21T10:57:18.045Z"
   },
   {
    "duration": 5582,
    "start_time": "2023-09-21T10:57:18.062Z"
   },
   {
    "duration": 299,
    "start_time": "2023-09-21T10:57:23.646Z"
   },
   {
    "duration": 13,
    "start_time": "2023-09-21T10:57:23.947Z"
   },
   {
    "duration": 22,
    "start_time": "2023-09-21T10:57:23.962Z"
   },
   {
    "duration": 39,
    "start_time": "2023-09-21T10:57:23.988Z"
   },
   {
    "duration": 43,
    "start_time": "2023-09-21T10:57:24.029Z"
   },
   {
    "duration": 301,
    "start_time": "2023-09-21T10:57:24.075Z"
   },
   {
    "duration": 400,
    "start_time": "2023-09-21T10:57:24.379Z"
   },
   {
    "duration": 49,
    "start_time": "2023-09-21T10:58:38.168Z"
   },
   {
    "duration": 5091,
    "start_time": "2023-09-21T10:59:01.899Z"
   },
   {
    "duration": 272,
    "start_time": "2023-09-21T10:59:25.750Z"
   },
   {
    "duration": 220,
    "start_time": "2023-09-21T11:48:30.958Z"
   },
   {
    "duration": 158,
    "start_time": "2023-09-21T11:48:55.837Z"
   },
   {
    "duration": 151,
    "start_time": "2023-09-21T11:50:06.813Z"
   },
   {
    "duration": 115,
    "start_time": "2023-09-21T11:51:26.887Z"
   },
   {
    "duration": 32,
    "start_time": "2023-09-21T11:51:42.089Z"
   },
   {
    "duration": 13,
    "start_time": "2023-09-21T11:52:27.738Z"
   },
   {
    "duration": 10,
    "start_time": "2023-09-21T11:53:48.903Z"
   },
   {
    "duration": 20,
    "start_time": "2023-09-21T11:54:00.456Z"
   },
   {
    "duration": 8,
    "start_time": "2023-09-21T11:58:03.908Z"
   },
   {
    "duration": 19,
    "start_time": "2023-09-21T11:58:15.796Z"
   },
   {
    "duration": 1374,
    "start_time": "2023-09-21T12:20:31.771Z"
   },
   {
    "duration": 48,
    "start_time": "2023-09-21T12:20:33.146Z"
   },
   {
    "duration": 46,
    "start_time": "2023-09-21T12:20:33.196Z"
   },
   {
    "duration": 28,
    "start_time": "2023-09-21T12:20:33.244Z"
   },
   {
    "duration": 11,
    "start_time": "2023-09-21T12:20:33.274Z"
   },
   {
    "duration": 12,
    "start_time": "2023-09-21T12:20:33.287Z"
   },
   {
    "duration": 105,
    "start_time": "2023-09-21T12:20:33.308Z"
   },
   {
    "duration": 7,
    "start_time": "2023-09-21T12:20:33.415Z"
   },
   {
    "duration": 17,
    "start_time": "2023-09-21T12:20:33.424Z"
   },
   {
    "duration": 9,
    "start_time": "2023-09-21T12:20:33.443Z"
   },
   {
    "duration": 8,
    "start_time": "2023-09-21T12:20:33.454Z"
   },
   {
    "duration": 28,
    "start_time": "2023-09-21T12:20:33.464Z"
   },
   {
    "duration": 24,
    "start_time": "2023-09-21T12:20:33.494Z"
   },
   {
    "duration": 23,
    "start_time": "2023-09-21T12:20:33.519Z"
   },
   {
    "duration": 22,
    "start_time": "2023-09-21T12:20:33.544Z"
   },
   {
    "duration": 24,
    "start_time": "2023-09-21T12:20:33.568Z"
   },
   {
    "duration": 173,
    "start_time": "2023-09-21T12:20:33.593Z"
   },
   {
    "duration": 80,
    "start_time": "2023-09-21T12:20:33.768Z"
   },
   {
    "duration": 91,
    "start_time": "2023-09-21T12:20:33.849Z"
   },
   {
    "duration": 6,
    "start_time": "2023-09-21T12:20:33.942Z"
   },
   {
    "duration": 203,
    "start_time": "2023-09-21T12:20:33.950Z"
   },
   {
    "duration": 9,
    "start_time": "2023-09-21T12:20:34.154Z"
   },
   {
    "duration": 230,
    "start_time": "2023-09-21T12:20:34.164Z"
   },
   {
    "duration": 18,
    "start_time": "2023-09-21T12:20:34.395Z"
   },
   {
    "duration": 231,
    "start_time": "2023-09-21T12:20:34.414Z"
   },
   {
    "duration": 10,
    "start_time": "2023-09-21T12:20:34.646Z"
   },
   {
    "duration": 52,
    "start_time": "2023-09-21T12:20:34.658Z"
   },
   {
    "duration": 25,
    "start_time": "2023-09-21T12:20:34.714Z"
   },
   {
    "duration": 14,
    "start_time": "2023-09-21T12:20:34.740Z"
   },
   {
    "duration": 285,
    "start_time": "2023-09-21T12:20:34.756Z"
   },
   {
    "duration": 194,
    "start_time": "2023-09-21T12:20:35.043Z"
   },
   {
    "duration": 31,
    "start_time": "2023-09-21T12:20:35.239Z"
   },
   {
    "duration": 7,
    "start_time": "2023-09-21T12:20:35.272Z"
   },
   {
    "duration": 33,
    "start_time": "2023-09-21T12:20:35.281Z"
   },
   {
    "duration": 9,
    "start_time": "2023-09-21T12:20:35.316Z"
   },
   {
    "duration": 16,
    "start_time": "2023-09-21T12:20:35.327Z"
   },
   {
    "duration": 3988,
    "start_time": "2023-09-21T12:20:35.346Z"
   },
   {
    "duration": 220,
    "start_time": "2023-09-21T12:20:39.335Z"
   },
   {
    "duration": 21,
    "start_time": "2023-09-21T12:20:39.557Z"
   },
   {
    "duration": 32,
    "start_time": "2023-09-21T12:20:39.580Z"
   },
   {
    "duration": 28,
    "start_time": "2023-09-21T12:20:39.614Z"
   },
   {
    "duration": 15,
    "start_time": "2023-09-21T12:20:39.644Z"
   },
   {
    "duration": 30,
    "start_time": "2023-09-21T12:20:39.661Z"
   },
   {
    "duration": 198,
    "start_time": "2023-09-21T12:20:39.693Z"
   },
   {
    "duration": 254,
    "start_time": "2023-09-21T12:20:39.894Z"
   }
  ],
  "kernelspec": {
   "display_name": "Python 3 (ipykernel)",
   "language": "python",
   "name": "python3"
  },
  "language_info": {
   "codemirror_mode": {
    "name": "ipython",
    "version": 3
   },
   "file_extension": ".py",
   "mimetype": "text/x-python",
   "name": "python",
   "nbconvert_exporter": "python",
   "pygments_lexer": "ipython3",
   "version": "3.11.5"
  },
  "toc": {
   "base_numbering": 1,
   "nav_menu": {},
   "number_sections": true,
   "sideBar": true,
   "skip_h1_title": true,
   "title_cell": "Table of Contents",
   "title_sidebar": "Contents",
   "toc_cell": false,
   "toc_position": {},
   "toc_section_display": true,
   "toc_window_display": true
  }
 },
 "nbformat": 4,
 "nbformat_minor": 5
}
