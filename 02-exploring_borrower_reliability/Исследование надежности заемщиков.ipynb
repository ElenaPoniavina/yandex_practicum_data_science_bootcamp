{
 "cells": [
  {
   "cell_type": "markdown",
   "id": "5fcb8c1e",
   "metadata": {
    "deletable": false,
    "editable": false,
    "id": "c81daeeb"
   },
   "source": [
    "# Исследование надежности заемщиков\n"
   ]
  },
  {
   "cell_type": "markdown",
   "id": "53ce40a3",
   "metadata": {
    "deletable": false,
    "editable": true,
    "id": "827c20bf",
    "slideshow": {
     "slide_type": ""
    },
    "tags": []
   },
   "source": [
    " \n",
    "\n"
   ]
  },
  {
   "cell_type": "markdown",
   "id": "1d441c0d",
   "metadata": {
    "editable": true,
    "slideshow": {
     "slide_type": ""
    },
    "tags": []
   },
   "source": [
    "**Цель исследования**:  \n",
    "- Изучим представленные данные по заемщикам и оценить их надежность в зависимости от различных факторов: наличия детей, семейного положения, цели кредита, получаемого дохода, опыта работы и так далее. \n",
    "- Для повышения качества исследования предварительно проанализируем данные на полноту и качество, устраним недостоверные данные и дополним их, если данные неполные. Сделаем выводы о возможных причинах плохого качества входных данных. Если будем использовались методы дополнения данных, то обоснуем их.\n",
    "- Сформулируем общие закономмерности, влияющие на степень надежности заемщиков."
   ]
  },
  {
   "cell_type": "markdown",
   "id": "855958e2",
   "metadata": {
    "deletable": false,
    "id": "744d7639",
    "slideshow": {
     "slide_type": ""
    },
    "tags": []
   },
   "source": [
    "## Откроем таблицу и изучим общую информацию о данных"
   ]
  },
  {
   "cell_type": "markdown",
   "id": "43aead59",
   "metadata": {
    "deletable": false,
    "editable": true,
    "id": "e7a14c31",
    "slideshow": {
     "slide_type": ""
    },
    "tags": []
   },
   "source": [
    "**Задание 1. Импортируем необхдимые библиотеки. Загрузим данные из csv-файла в датафрейм и сохраним в переменную `data`.**"
   ]
  },
  {
   "cell_type": "code",
   "execution_count": 1,
   "id": "12470862",
   "metadata": {
    "deletable": false,
    "editable": true,
    "id": "7bcf75c9",
    "slideshow": {
     "slide_type": ""
    },
    "tags": []
   },
   "outputs": [],
   "source": [
    "import pandas as pd\n",
    "import seaborn as sns\n",
    "import matplotlib as plt\n",
    "\n",
    "try:\n",
    "    data = pd.read_csv('...')\n",
    "except:\n",
    "    data = pd.read_csv('...')"
   ]
  },
  {
   "cell_type": "markdown",
   "id": "3df37861",
   "metadata": {
    "deletable": false,
    "editable": true,
    "id": "b8038fe3",
    "slideshow": {
     "slide_type": ""
    },
    "tags": []
   },
   "source": [
    "**Задание 2. Выведем первые 20 строчек датафрейма `data` на экран.**"
   ]
  },
  {
   "cell_type": "code",
   "execution_count": 2,
   "id": "e7c06377",
   "metadata": {
    "deletable": false,
    "editable": true,
    "id": "2a7cab99",
    "outputId": "1a8f3ef2-d323-4ec2-ddf7-89670b5944c4",
    "slideshow": {
     "slide_type": ""
    },
    "tags": []
   },
   "outputs": [
    {
     "data": {
      "text/html": [
       "<div>\n",
       "<style scoped>\n",
       "    .dataframe tbody tr th:only-of-type {\n",
       "        vertical-align: middle;\n",
       "    }\n",
       "\n",
       "    .dataframe tbody tr th {\n",
       "        vertical-align: top;\n",
       "    }\n",
       "\n",
       "    .dataframe thead th {\n",
       "        text-align: right;\n",
       "    }\n",
       "</style>\n",
       "<table border=\"1\" class=\"dataframe\">\n",
       "  <thead>\n",
       "    <tr style=\"text-align: right;\">\n",
       "      <th></th>\n",
       "      <th>children</th>\n",
       "      <th>days_employed</th>\n",
       "      <th>dob_years</th>\n",
       "      <th>education</th>\n",
       "      <th>education_id</th>\n",
       "      <th>family_status</th>\n",
       "      <th>family_status_id</th>\n",
       "      <th>gender</th>\n",
       "      <th>income_type</th>\n",
       "      <th>debt</th>\n",
       "      <th>total_income</th>\n",
       "      <th>purpose</th>\n",
       "    </tr>\n",
       "  </thead>\n",
       "  <tbody>\n",
       "    <tr>\n",
       "      <th>0</th>\n",
       "      <td>1</td>\n",
       "      <td>-8437.673028</td>\n",
       "      <td>42</td>\n",
       "      <td>высшее</td>\n",
       "      <td>0</td>\n",
       "      <td>женат / замужем</td>\n",
       "      <td>0</td>\n",
       "      <td>F</td>\n",
       "      <td>сотрудник</td>\n",
       "      <td>0</td>\n",
       "      <td>253875.639453</td>\n",
       "      <td>покупка жилья</td>\n",
       "    </tr>\n",
       "    <tr>\n",
       "      <th>1</th>\n",
       "      <td>1</td>\n",
       "      <td>-4024.803754</td>\n",
       "      <td>36</td>\n",
       "      <td>среднее</td>\n",
       "      <td>1</td>\n",
       "      <td>женат / замужем</td>\n",
       "      <td>0</td>\n",
       "      <td>F</td>\n",
       "      <td>сотрудник</td>\n",
       "      <td>0</td>\n",
       "      <td>112080.014102</td>\n",
       "      <td>приобретение автомобиля</td>\n",
       "    </tr>\n",
       "    <tr>\n",
       "      <th>2</th>\n",
       "      <td>0</td>\n",
       "      <td>-5623.422610</td>\n",
       "      <td>33</td>\n",
       "      <td>Среднее</td>\n",
       "      <td>1</td>\n",
       "      <td>женат / замужем</td>\n",
       "      <td>0</td>\n",
       "      <td>M</td>\n",
       "      <td>сотрудник</td>\n",
       "      <td>0</td>\n",
       "      <td>145885.952297</td>\n",
       "      <td>покупка жилья</td>\n",
       "    </tr>\n",
       "    <tr>\n",
       "      <th>3</th>\n",
       "      <td>3</td>\n",
       "      <td>-4124.747207</td>\n",
       "      <td>32</td>\n",
       "      <td>среднее</td>\n",
       "      <td>1</td>\n",
       "      <td>женат / замужем</td>\n",
       "      <td>0</td>\n",
       "      <td>M</td>\n",
       "      <td>сотрудник</td>\n",
       "      <td>0</td>\n",
       "      <td>267628.550329</td>\n",
       "      <td>дополнительное образование</td>\n",
       "    </tr>\n",
       "    <tr>\n",
       "      <th>4</th>\n",
       "      <td>0</td>\n",
       "      <td>340266.072047</td>\n",
       "      <td>53</td>\n",
       "      <td>среднее</td>\n",
       "      <td>1</td>\n",
       "      <td>гражданский брак</td>\n",
       "      <td>1</td>\n",
       "      <td>F</td>\n",
       "      <td>пенсионер</td>\n",
       "      <td>0</td>\n",
       "      <td>158616.077870</td>\n",
       "      <td>сыграть свадьбу</td>\n",
       "    </tr>\n",
       "    <tr>\n",
       "      <th>5</th>\n",
       "      <td>0</td>\n",
       "      <td>-926.185831</td>\n",
       "      <td>27</td>\n",
       "      <td>высшее</td>\n",
       "      <td>0</td>\n",
       "      <td>гражданский брак</td>\n",
       "      <td>1</td>\n",
       "      <td>M</td>\n",
       "      <td>компаньон</td>\n",
       "      <td>0</td>\n",
       "      <td>255763.565419</td>\n",
       "      <td>покупка жилья</td>\n",
       "    </tr>\n",
       "    <tr>\n",
       "      <th>6</th>\n",
       "      <td>0</td>\n",
       "      <td>-2879.202052</td>\n",
       "      <td>43</td>\n",
       "      <td>высшее</td>\n",
       "      <td>0</td>\n",
       "      <td>женат / замужем</td>\n",
       "      <td>0</td>\n",
       "      <td>F</td>\n",
       "      <td>компаньон</td>\n",
       "      <td>0</td>\n",
       "      <td>240525.971920</td>\n",
       "      <td>операции с жильем</td>\n",
       "    </tr>\n",
       "    <tr>\n",
       "      <th>7</th>\n",
       "      <td>0</td>\n",
       "      <td>-152.779569</td>\n",
       "      <td>50</td>\n",
       "      <td>СРЕДНЕЕ</td>\n",
       "      <td>1</td>\n",
       "      <td>женат / замужем</td>\n",
       "      <td>0</td>\n",
       "      <td>M</td>\n",
       "      <td>сотрудник</td>\n",
       "      <td>0</td>\n",
       "      <td>135823.934197</td>\n",
       "      <td>образование</td>\n",
       "    </tr>\n",
       "    <tr>\n",
       "      <th>8</th>\n",
       "      <td>2</td>\n",
       "      <td>-6929.865299</td>\n",
       "      <td>35</td>\n",
       "      <td>ВЫСШЕЕ</td>\n",
       "      <td>0</td>\n",
       "      <td>гражданский брак</td>\n",
       "      <td>1</td>\n",
       "      <td>F</td>\n",
       "      <td>сотрудник</td>\n",
       "      <td>0</td>\n",
       "      <td>95856.832424</td>\n",
       "      <td>на проведение свадьбы</td>\n",
       "    </tr>\n",
       "    <tr>\n",
       "      <th>9</th>\n",
       "      <td>0</td>\n",
       "      <td>-2188.756445</td>\n",
       "      <td>41</td>\n",
       "      <td>среднее</td>\n",
       "      <td>1</td>\n",
       "      <td>женат / замужем</td>\n",
       "      <td>0</td>\n",
       "      <td>M</td>\n",
       "      <td>сотрудник</td>\n",
       "      <td>0</td>\n",
       "      <td>144425.938277</td>\n",
       "      <td>покупка жилья для семьи</td>\n",
       "    </tr>\n",
       "    <tr>\n",
       "      <th>10</th>\n",
       "      <td>2</td>\n",
       "      <td>-4171.483647</td>\n",
       "      <td>36</td>\n",
       "      <td>высшее</td>\n",
       "      <td>0</td>\n",
       "      <td>женат / замужем</td>\n",
       "      <td>0</td>\n",
       "      <td>M</td>\n",
       "      <td>компаньон</td>\n",
       "      <td>0</td>\n",
       "      <td>113943.491460</td>\n",
       "      <td>покупка недвижимости</td>\n",
       "    </tr>\n",
       "    <tr>\n",
       "      <th>11</th>\n",
       "      <td>0</td>\n",
       "      <td>-792.701887</td>\n",
       "      <td>40</td>\n",
       "      <td>среднее</td>\n",
       "      <td>1</td>\n",
       "      <td>женат / замужем</td>\n",
       "      <td>0</td>\n",
       "      <td>F</td>\n",
       "      <td>сотрудник</td>\n",
       "      <td>0</td>\n",
       "      <td>77069.234271</td>\n",
       "      <td>покупка коммерческой недвижимости</td>\n",
       "    </tr>\n",
       "    <tr>\n",
       "      <th>12</th>\n",
       "      <td>0</td>\n",
       "      <td>NaN</td>\n",
       "      <td>65</td>\n",
       "      <td>среднее</td>\n",
       "      <td>1</td>\n",
       "      <td>гражданский брак</td>\n",
       "      <td>1</td>\n",
       "      <td>M</td>\n",
       "      <td>пенсионер</td>\n",
       "      <td>0</td>\n",
       "      <td>NaN</td>\n",
       "      <td>сыграть свадьбу</td>\n",
       "    </tr>\n",
       "    <tr>\n",
       "      <th>13</th>\n",
       "      <td>0</td>\n",
       "      <td>-1846.641941</td>\n",
       "      <td>54</td>\n",
       "      <td>неоконченное высшее</td>\n",
       "      <td>2</td>\n",
       "      <td>женат / замужем</td>\n",
       "      <td>0</td>\n",
       "      <td>F</td>\n",
       "      <td>сотрудник</td>\n",
       "      <td>0</td>\n",
       "      <td>130458.228857</td>\n",
       "      <td>приобретение автомобиля</td>\n",
       "    </tr>\n",
       "    <tr>\n",
       "      <th>14</th>\n",
       "      <td>0</td>\n",
       "      <td>-1844.956182</td>\n",
       "      <td>56</td>\n",
       "      <td>высшее</td>\n",
       "      <td>0</td>\n",
       "      <td>гражданский брак</td>\n",
       "      <td>1</td>\n",
       "      <td>F</td>\n",
       "      <td>компаньон</td>\n",
       "      <td>1</td>\n",
       "      <td>165127.911772</td>\n",
       "      <td>покупка жилой недвижимости</td>\n",
       "    </tr>\n",
       "    <tr>\n",
       "      <th>15</th>\n",
       "      <td>1</td>\n",
       "      <td>-972.364419</td>\n",
       "      <td>26</td>\n",
       "      <td>среднее</td>\n",
       "      <td>1</td>\n",
       "      <td>женат / замужем</td>\n",
       "      <td>0</td>\n",
       "      <td>F</td>\n",
       "      <td>сотрудник</td>\n",
       "      <td>0</td>\n",
       "      <td>116820.904450</td>\n",
       "      <td>строительство собственной недвижимости</td>\n",
       "    </tr>\n",
       "    <tr>\n",
       "      <th>16</th>\n",
       "      <td>0</td>\n",
       "      <td>-1719.934226</td>\n",
       "      <td>35</td>\n",
       "      <td>среднее</td>\n",
       "      <td>1</td>\n",
       "      <td>женат / замужем</td>\n",
       "      <td>0</td>\n",
       "      <td>F</td>\n",
       "      <td>сотрудник</td>\n",
       "      <td>0</td>\n",
       "      <td>289202.704229</td>\n",
       "      <td>недвижимость</td>\n",
       "    </tr>\n",
       "    <tr>\n",
       "      <th>17</th>\n",
       "      <td>0</td>\n",
       "      <td>-2369.999720</td>\n",
       "      <td>33</td>\n",
       "      <td>высшее</td>\n",
       "      <td>0</td>\n",
       "      <td>гражданский брак</td>\n",
       "      <td>1</td>\n",
       "      <td>M</td>\n",
       "      <td>сотрудник</td>\n",
       "      <td>0</td>\n",
       "      <td>90410.586745</td>\n",
       "      <td>строительство недвижимости</td>\n",
       "    </tr>\n",
       "    <tr>\n",
       "      <th>18</th>\n",
       "      <td>0</td>\n",
       "      <td>400281.136913</td>\n",
       "      <td>53</td>\n",
       "      <td>среднее</td>\n",
       "      <td>1</td>\n",
       "      <td>вдовец / вдова</td>\n",
       "      <td>2</td>\n",
       "      <td>F</td>\n",
       "      <td>пенсионер</td>\n",
       "      <td>0</td>\n",
       "      <td>56823.777243</td>\n",
       "      <td>на покупку подержанного автомобиля</td>\n",
       "    </tr>\n",
       "    <tr>\n",
       "      <th>19</th>\n",
       "      <td>0</td>\n",
       "      <td>-10038.818549</td>\n",
       "      <td>48</td>\n",
       "      <td>СРЕДНЕЕ</td>\n",
       "      <td>1</td>\n",
       "      <td>в разводе</td>\n",
       "      <td>3</td>\n",
       "      <td>F</td>\n",
       "      <td>сотрудник</td>\n",
       "      <td>0</td>\n",
       "      <td>242831.107982</td>\n",
       "      <td>на покупку своего автомобиля</td>\n",
       "    </tr>\n",
       "  </tbody>\n",
       "</table>\n",
       "</div>"
      ],
      "text/plain": [
       "    children  days_employed  dob_years            education  education_id  \\\n",
       "0          1   -8437.673028         42               высшее             0   \n",
       "1          1   -4024.803754         36              среднее             1   \n",
       "2          0   -5623.422610         33              Среднее             1   \n",
       "3          3   -4124.747207         32              среднее             1   \n",
       "4          0  340266.072047         53              среднее             1   \n",
       "5          0    -926.185831         27               высшее             0   \n",
       "6          0   -2879.202052         43               высшее             0   \n",
       "7          0    -152.779569         50              СРЕДНЕЕ             1   \n",
       "8          2   -6929.865299         35               ВЫСШЕЕ             0   \n",
       "9          0   -2188.756445         41              среднее             1   \n",
       "10         2   -4171.483647         36               высшее             0   \n",
       "11         0    -792.701887         40              среднее             1   \n",
       "12         0            NaN         65              среднее             1   \n",
       "13         0   -1846.641941         54  неоконченное высшее             2   \n",
       "14         0   -1844.956182         56               высшее             0   \n",
       "15         1    -972.364419         26              среднее             1   \n",
       "16         0   -1719.934226         35              среднее             1   \n",
       "17         0   -2369.999720         33               высшее             0   \n",
       "18         0  400281.136913         53              среднее             1   \n",
       "19         0  -10038.818549         48              СРЕДНЕЕ             1   \n",
       "\n",
       "       family_status  family_status_id gender income_type  debt  \\\n",
       "0    женат / замужем                 0      F   сотрудник     0   \n",
       "1    женат / замужем                 0      F   сотрудник     0   \n",
       "2    женат / замужем                 0      M   сотрудник     0   \n",
       "3    женат / замужем                 0      M   сотрудник     0   \n",
       "4   гражданский брак                 1      F   пенсионер     0   \n",
       "5   гражданский брак                 1      M   компаньон     0   \n",
       "6    женат / замужем                 0      F   компаньон     0   \n",
       "7    женат / замужем                 0      M   сотрудник     0   \n",
       "8   гражданский брак                 1      F   сотрудник     0   \n",
       "9    женат / замужем                 0      M   сотрудник     0   \n",
       "10   женат / замужем                 0      M   компаньон     0   \n",
       "11   женат / замужем                 0      F   сотрудник     0   \n",
       "12  гражданский брак                 1      M   пенсионер     0   \n",
       "13   женат / замужем                 0      F   сотрудник     0   \n",
       "14  гражданский брак                 1      F   компаньон     1   \n",
       "15   женат / замужем                 0      F   сотрудник     0   \n",
       "16   женат / замужем                 0      F   сотрудник     0   \n",
       "17  гражданский брак                 1      M   сотрудник     0   \n",
       "18    вдовец / вдова                 2      F   пенсионер     0   \n",
       "19         в разводе                 3      F   сотрудник     0   \n",
       "\n",
       "     total_income                                 purpose  \n",
       "0   253875.639453                           покупка жилья  \n",
       "1   112080.014102                 приобретение автомобиля  \n",
       "2   145885.952297                           покупка жилья  \n",
       "3   267628.550329              дополнительное образование  \n",
       "4   158616.077870                         сыграть свадьбу  \n",
       "5   255763.565419                           покупка жилья  \n",
       "6   240525.971920                       операции с жильем  \n",
       "7   135823.934197                             образование  \n",
       "8    95856.832424                   на проведение свадьбы  \n",
       "9   144425.938277                 покупка жилья для семьи  \n",
       "10  113943.491460                    покупка недвижимости  \n",
       "11   77069.234271       покупка коммерческой недвижимости  \n",
       "12            NaN                         сыграть свадьбу  \n",
       "13  130458.228857                 приобретение автомобиля  \n",
       "14  165127.911772              покупка жилой недвижимости  \n",
       "15  116820.904450  строительство собственной недвижимости  \n",
       "16  289202.704229                            недвижимость  \n",
       "17   90410.586745              строительство недвижимости  \n",
       "18   56823.777243      на покупку подержанного автомобиля  \n",
       "19  242831.107982            на покупку своего автомобиля  "
      ]
     },
     "execution_count": 2,
     "metadata": {},
     "output_type": "execute_result"
    }
   ],
   "source": [
    "data.head(20)"
   ]
  },
  {
   "cell_type": "markdown",
   "id": "3bc32ede",
   "metadata": {
    "deletable": false,
    "id": "1c12e233",
    "slideshow": {
     "slide_type": ""
    },
    "tags": []
   },
   "source": [
    "**Задание 3. Выведем основную информацию о датафрейме с помощью метода `info()`.**"
   ]
  },
  {
   "cell_type": "code",
   "execution_count": 3,
   "id": "3866fcfb",
   "metadata": {
    "deletable": false,
    "editable": true,
    "id": "2b757bca",
    "outputId": "15376089-8dad-46c9-b520-c05248d43158",
    "slideshow": {
     "slide_type": ""
    },
    "tags": []
   },
   "outputs": [
    {
     "name": "stdout",
     "output_type": "stream",
     "text": [
      "<class 'pandas.core.frame.DataFrame'>\n",
      "RangeIndex: 21525 entries, 0 to 21524\n",
      "Data columns (total 12 columns):\n",
      " #   Column            Non-Null Count  Dtype  \n",
      "---  ------            --------------  -----  \n",
      " 0   children          21525 non-null  int64  \n",
      " 1   days_employed     19351 non-null  float64\n",
      " 2   dob_years         21525 non-null  int64  \n",
      " 3   education         21525 non-null  object \n",
      " 4   education_id      21525 non-null  int64  \n",
      " 5   family_status     21525 non-null  object \n",
      " 6   family_status_id  21525 non-null  int64  \n",
      " 7   gender            21525 non-null  object \n",
      " 8   income_type       21525 non-null  object \n",
      " 9   debt              21525 non-null  int64  \n",
      " 10  total_income      19351 non-null  float64\n",
      " 11  purpose           21525 non-null  object \n",
      "dtypes: float64(2), int64(5), object(5)\n",
      "memory usage: 2.0+ MB\n"
     ]
    }
   ],
   "source": [
    "data.info()"
   ]
  },
  {
   "cell_type": "markdown",
   "id": "05645482",
   "metadata": {
    "deletable": false,
    "editable": false,
    "id": "333ec665"
   },
   "source": [
    "## Предобработка данных"
   ]
  },
  {
   "cell_type": "markdown",
   "id": "92b8b961",
   "metadata": {
    "deletable": false,
    "editable": false,
    "id": "02d92d53",
    "slideshow": {
     "slide_type": ""
    },
    "tags": []
   },
   "source": [
    "### Удаление пропусков"
   ]
  },
  {
   "cell_type": "markdown",
   "id": "504d9e3d",
   "metadata": {
    "deletable": false,
    "id": "cd84967c",
    "slideshow": {
     "slide_type": ""
    },
    "tags": []
   },
   "source": [
    "**Задание 4. Выведем количество пропущенных значений для каждого столбца. Используем комбинацию двух методов.**"
   ]
  },
  {
   "cell_type": "code",
   "execution_count": 4,
   "id": "c182db81",
   "metadata": {
    "deletable": false,
    "editable": true,
    "id": "7f9b2309",
    "outputId": "81f4d817-781c-465c-ed15-91ce4446810d",
    "slideshow": {
     "slide_type": ""
    },
    "tags": []
   },
   "outputs": [
    {
     "data": {
      "text/plain": [
       "children               0\n",
       "days_employed       2174\n",
       "dob_years              0\n",
       "education              0\n",
       "education_id           0\n",
       "family_status          0\n",
       "family_status_id       0\n",
       "gender                 0\n",
       "income_type            0\n",
       "debt                   0\n",
       "total_income        2174\n",
       "purpose                0\n",
       "dtype: int64"
      ]
     },
     "execution_count": 4,
     "metadata": {},
     "output_type": "execute_result"
    }
   ],
   "source": [
    "data.isna().sum()"
   ]
  },
  {
   "cell_type": "markdown",
   "id": "f962a666",
   "metadata": {
    "deletable": false,
    "id": "db86e27b",
    "slideshow": {
     "slide_type": ""
    },
    "tags": []
   },
   "source": [
    "**Задание 5. В двух столбцах есть пропущенные значения. Один из них — `days_employed`. Пропуски в этом столбце обработаем на следующем этапе. Другой столбец с пропущенными значениями — `total_income` — хранит данные о доходах. На сумму дохода сильнее всего влияет тип занятости, поэтому заполним пропуски в этом столбце медианным значением по каждому типу из столбца `income_type`. Например, у человека с типом занятости `сотрудник` пропуск в столбце `total_income` заполним медианным доходом среди всех записей с тем же типом.**"
   ]
  },
  {
   "cell_type": "code",
   "execution_count": 5,
   "id": "bbc425b8",
   "metadata": {
    "deletable": false,
    "editable": true,
    "id": "42006a93",
    "slideshow": {
     "slide_type": ""
    },
    "tags": []
   },
   "outputs": [],
   "source": [
    "for t in data['income_type'].unique():\n",
    "    data.loc[(data['income_type'] == t) & (data['total_income'].isna()), 'total_income'] = \\\n",
    "    data.loc[(data['income_type'] == t), 'total_income'].median()"
   ]
  },
  {
   "cell_type": "markdown",
   "id": "53175f1b",
   "metadata": {
    "deletable": false,
    "editable": false,
    "id": "89da5ece"
   },
   "source": [
    "### Обработка аномальных значений"
   ]
  },
  {
   "cell_type": "markdown",
   "id": "954a2b53",
   "metadata": {
    "deletable": false,
    "id": "57964554",
    "slideshow": {
     "slide_type": ""
    },
    "tags": []
   },
   "source": [
    "**Задание 6. В данных могут встречаться артефакты (аномалии) — значения, которые не отражают действительность и появились по какой-то ошибке. таким артефактом будет отрицательное количество дней трудового стажа в столбце `days_employed`. Для реальных данных это нормально. Обработаем значения в этом столбце: заменим все отрицательные значения положительными с помощью метода `abs()`.**"
   ]
  },
  {
   "cell_type": "code",
   "execution_count": 6,
   "id": "d8cb877c",
   "metadata": {
    "deletable": false,
    "editable": true,
    "id": "f6f055bf",
    "slideshow": {
     "slide_type": ""
    },
    "tags": []
   },
   "outputs": [],
   "source": [
    "data['days_employed'] = data['days_employed'].abs()"
   ]
  },
  {
   "cell_type": "markdown",
   "id": "069979f5",
   "metadata": {
    "deletable": false,
    "id": "6107dd2f",
    "slideshow": {
     "slide_type": ""
    },
    "tags": []
   },
   "source": [
    "**Задание 7. Для каждого типа занятости выведем медианное значение трудового стажа `days_employed` в днях.**"
   ]
  },
  {
   "cell_type": "code",
   "execution_count": 7,
   "id": "37fe5c0f",
   "metadata": {
    "deletable": false,
    "editable": true,
    "id": "85a5faf6",
    "outputId": "801ef80e-522b-4668-f34e-565af7432bcf",
    "slideshow": {
     "slide_type": ""
    },
    "tags": []
   },
   "outputs": [
    {
     "data": {
      "text/plain": [
       "income_type\n",
       "безработный        366413.652744\n",
       "в декрете            3296.759962\n",
       "госслужащий          2689.368353\n",
       "компаньон            1547.382223\n",
       "пенсионер          365213.306266\n",
       "предприниматель       520.848083\n",
       "сотрудник            1574.202821\n",
       "студент               578.751554\n",
       "Name: days_employed, dtype: float64"
      ]
     },
     "execution_count": 7,
     "metadata": {},
     "output_type": "execute_result"
    }
   ],
   "source": [
    "data.groupby('income_type')['days_employed'].agg('median')"
   ]
  },
  {
   "cell_type": "markdown",
   "id": "d4250b76",
   "metadata": {
    "deletable": false,
    "editable": false,
    "id": "38d1a030"
   },
   "source": [
    "У двух типов (безработные и пенсионеры) получатся аномально большие значения. Исправить такие значения сложно, поэтому оставьте их как есть. Тем более этот столбец не понадобится вам для исследования."
   ]
  },
  {
   "cell_type": "markdown",
   "id": "cb37b810",
   "metadata": {
    "deletable": false,
    "id": "d8a9f147",
    "slideshow": {
     "slide_type": ""
    },
    "tags": []
   },
   "source": [
    "**Задание 8. Выведем перечень уникальных значений столбца `children`.**"
   ]
  },
  {
   "cell_type": "code",
   "execution_count": 8,
   "id": "789a8a62",
   "metadata": {
    "deletable": false,
    "editable": true,
    "id": "ef5056eb",
    "outputId": "6975b15c-7f95-4697-d16d-a0c79b657b03",
    "slideshow": {
     "slide_type": ""
    },
    "tags": []
   },
   "outputs": [
    {
     "data": {
      "text/plain": [
       "array([ 1,  0,  3,  2, -1,  4, 20,  5], dtype=int64)"
      ]
     },
     "execution_count": 8,
     "metadata": {},
     "output_type": "execute_result"
    }
   ],
   "source": [
    "data['children'].unique()"
   ]
  },
  {
   "cell_type": "markdown",
   "id": "31f08c69",
   "metadata": {
    "deletable": false,
    "id": "40b9ebf2",
    "slideshow": {
     "slide_type": ""
    },
    "tags": []
   },
   "source": [
    "**Задание 9. В столбце `children` есть два аномальных значения. Удалим строки, в которых встречаются такие аномальные значения из датафрейма `data`.**"
   ]
  },
  {
   "cell_type": "code",
   "execution_count": 9,
   "id": "ed4611d4",
   "metadata": {
    "deletable": false,
    "editable": true,
    "id": "3ff9801d",
    "slideshow": {
     "slide_type": ""
    },
    "tags": []
   },
   "outputs": [],
   "source": [
    "data = data[(data['children'] != -1) & (data['children'] != 20)]"
   ]
  },
  {
   "cell_type": "markdown",
   "id": "182dacf6",
   "metadata": {
    "deletable": false,
    "id": "bbc4d0ce",
    "slideshow": {
     "slide_type": ""
    },
    "tags": []
   },
   "source": [
    "**Задание 10. Ещё раз выведем перечень уникальных значений столбца `children`, чтобы убедиться, что артефакты удалены.**"
   ]
  },
  {
   "cell_type": "code",
   "execution_count": 10,
   "id": "42a5ce59",
   "metadata": {
    "deletable": false,
    "editable": true,
    "id": "ad4fa8b7",
    "outputId": "b2097101-d49d-44d9-901b-32a65c9463d1",
    "slideshow": {
     "slide_type": ""
    },
    "tags": []
   },
   "outputs": [
    {
     "data": {
      "text/plain": [
       "array([1, 0, 3, 2, 4, 5], dtype=int64)"
      ]
     },
     "execution_count": 10,
     "metadata": {},
     "output_type": "execute_result"
    }
   ],
   "source": [
    "data['children'].unique()"
   ]
  },
  {
   "cell_type": "markdown",
   "id": "869f589a",
   "metadata": {
    "deletable": false,
    "editable": false,
    "id": "75440b63"
   },
   "source": [
    "### Удаление пропусков (продолжение)"
   ]
  },
  {
   "cell_type": "markdown",
   "id": "62ae551a",
   "metadata": {
    "deletable": false,
    "id": "f4ea573f",
    "slideshow": {
     "slide_type": ""
    },
    "tags": []
   },
   "source": [
    "**Задание 11. Заполним пропуски в столбце `days_employed` медианными значениями по каждого типа занятости `income_type`.**"
   ]
  },
  {
   "cell_type": "code",
   "execution_count": 11,
   "id": "d9b3b464",
   "metadata": {
    "deletable": false,
    "editable": true,
    "id": "af6b1a7e",
    "slideshow": {
     "slide_type": ""
    },
    "tags": []
   },
   "outputs": [],
   "source": [
    "for t in data['income_type'].unique():\n",
    "    data.loc[(data['income_type'] == t) & (data['days_employed'].isna()), 'days_employed'] = \\\n",
    "    data.loc[(data['income_type'] == t), 'days_employed'].median()"
   ]
  },
  {
   "cell_type": "markdown",
   "id": "154897af",
   "metadata": {
    "deletable": false,
    "id": "2753f40d",
    "slideshow": {
     "slide_type": ""
    },
    "tags": []
   },
   "source": [
    "**Задание 12. Убедимся, что все пропуски заполнены. Проверим себя и ещё раз выведем количество пропущенных значений для каждого столбца с помощью двух методов.**"
   ]
  },
  {
   "cell_type": "code",
   "execution_count": 12,
   "id": "887151f6",
   "metadata": {
    "deletable": false,
    "editable": true,
    "id": "55f78bc2",
    "outputId": "8da1e4e1-358e-4e87-98c9-f261bce0a7b2",
    "slideshow": {
     "slide_type": ""
    },
    "tags": []
   },
   "outputs": [
    {
     "data": {
      "text/plain": [
       "children            0\n",
       "days_employed       0\n",
       "dob_years           0\n",
       "education           0\n",
       "education_id        0\n",
       "family_status       0\n",
       "family_status_id    0\n",
       "gender              0\n",
       "income_type         0\n",
       "debt                0\n",
       "total_income        0\n",
       "purpose             0\n",
       "dtype: int64"
      ]
     },
     "execution_count": 12,
     "metadata": {},
     "output_type": "execute_result"
    }
   ],
   "source": [
    "data.isna().sum()"
   ]
  },
  {
   "cell_type": "markdown",
   "id": "5ae25fc5",
   "metadata": {
    "deletable": false,
    "editable": false,
    "id": "ddc81e43"
   },
   "source": [
    "### Изменение типов данных"
   ]
  },
  {
   "cell_type": "markdown",
   "id": "478cc7de",
   "metadata": {
    "deletable": false,
    "id": "42d19d24",
    "slideshow": {
     "slide_type": ""
    },
    "tags": []
   },
   "source": [
    "**Задание 13. Заменим вещественный тип данных в столбце `total_income` на целочисленный с помощью метода `astype()`.**"
   ]
  },
  {
   "cell_type": "code",
   "execution_count": 13,
   "id": "312d8d66",
   "metadata": {
    "deletable": false,
    "editable": true,
    "id": "920b65ad",
    "slideshow": {
     "slide_type": ""
    },
    "tags": []
   },
   "outputs": [],
   "source": [
    "data['total_income'] = data['total_income'].astype(int)"
   ]
  },
  {
   "cell_type": "markdown",
   "id": "374b0911",
   "metadata": {
    "deletable": false,
    "editable": false,
    "id": "80c420ba"
   },
   "source": [
    "### Обработка дубликатов"
   ]
  },
  {
   "cell_type": "markdown",
   "id": "85bce38c",
   "metadata": {
    "deletable": false,
    "slideshow": {
     "slide_type": ""
    },
    "tags": []
   },
   "source": [
    "**Задание 14. Обработаем неявные дубликаты в столбце `education`. В этом столбце есть одни и те же значения, но записанные по-разному: с использованием заглавных и строчных букв. Приведем их к нижнему регистру. Проверим остальные столбцы.**"
   ]
  },
  {
   "cell_type": "code",
   "execution_count": 14,
   "id": "3dcc5e45",
   "metadata": {
    "deletable": false,
    "editable": true,
    "slideshow": {
     "slide_type": ""
    },
    "tags": []
   },
   "outputs": [],
   "source": [
    "data['education'] = data['education'].str.lower()"
   ]
  },
  {
   "cell_type": "markdown",
   "id": "47cd9131",
   "metadata": {
    "deletable": false,
    "id": "dc587695",
    "slideshow": {
     "slide_type": ""
    },
    "tags": []
   },
   "source": [
    "**Задание 15. Выведем на экран количество строк-дубликатов в данных. Если такие строки присутствуют, удалим их.**"
   ]
  },
  {
   "cell_type": "code",
   "execution_count": 15,
   "id": "b93ce23b",
   "metadata": {
    "deletable": false,
    "editable": true,
    "id": "3ee445e4",
    "outputId": "9684deba-1934-42d1-99e1-cda61740f822",
    "slideshow": {
     "slide_type": ""
    },
    "tags": []
   },
   "outputs": [
    {
     "data": {
      "text/plain": [
       "71"
      ]
     },
     "execution_count": 15,
     "metadata": {},
     "output_type": "execute_result"
    }
   ],
   "source": [
    "data.duplicated().sum()"
   ]
  },
  {
   "cell_type": "code",
   "execution_count": 16,
   "id": "72a6aa61",
   "metadata": {
    "deletable": false,
    "id": "8575fe05"
   },
   "outputs": [],
   "source": [
    "data = data.drop_duplicates()"
   ]
  },
  {
   "cell_type": "markdown",
   "id": "e87f78ef",
   "metadata": {
    "deletable": false,
    "editable": false,
    "id": "9904cf55"
   },
   "source": [
    "### Категоризация данных"
   ]
  },
  {
   "cell_type": "markdown",
   "id": "d1cbee07",
   "metadata": {
    "deletable": false,
    "id": "72fcc8a2",
    "slideshow": {
     "slide_type": ""
    },
    "tags": []
   },
   "source": [
    "**Задание 16. На основании диапазонов, указанных ниже, создадим в датафрейме `data` столбец `total_income_category` с категориями:**\n",
    "\n",
    "- 0–30000 — `'E'`;\n",
    "- 30001–50000 — `'D'`;\n",
    "- 50001–200000 — `'C'`;\n",
    "- 200001–1000000 — `'B'`;\n",
    "- 1000001 и выше — `'A'`.\n",
    "\n",
    "\n",
    "**Например, кредитополучателю с доходом 25000 нужно назначить категорию `'E'`, а клиенту, получающему 235000, — `'B'`. Используем собственную функцию с именем `categorize_income()` и метод `apply()`.**"
   ]
  },
  {
   "cell_type": "code",
   "execution_count": 17,
   "id": "ebd12756",
   "metadata": {
    "deletable": false,
    "editable": true,
    "id": "e1771346",
    "slideshow": {
     "slide_type": ""
    },
    "tags": []
   },
   "outputs": [],
   "source": [
    "def categorize_income(income):\n",
    "    try:\n",
    "        if 0 <= income <= 30000:\n",
    "            return 'E'\n",
    "        elif 30001 <= income <= 50000:\n",
    "            return 'D'\n",
    "        elif 50001 <= income <= 200000:\n",
    "            return 'C'\n",
    "        elif 200001 <= income <= 1000000:\n",
    "            return 'B'\n",
    "        elif income >= 1000001:\n",
    "            return 'A'\n",
    "    except:\n",
    "        pass"
   ]
  },
  {
   "cell_type": "code",
   "execution_count": 18,
   "id": "0048d64e",
   "metadata": {
    "deletable": false,
    "id": "d5f3586d"
   },
   "outputs": [],
   "source": [
    "data['total_income_category'] = data['total_income'].apply(categorize_income)"
   ]
  },
  {
   "cell_type": "markdown",
   "id": "f8736fe0",
   "metadata": {
    "deletable": false,
    "id": "dde49b5c",
    "slideshow": {
     "slide_type": ""
    },
    "tags": []
   },
   "source": [
    "**Задание 17. Выведем на экран перечень уникальных целей взятия кредита из столбца `purpose`.**"
   ]
  },
  {
   "cell_type": "code",
   "execution_count": 19,
   "id": "d9e22e13",
   "metadata": {
    "deletable": false,
    "editable": true,
    "id": "f67ce9b3",
    "outputId": "673c12d9-7d7e-4ae0-9812-c622c89dd244",
    "slideshow": {
     "slide_type": ""
    },
    "tags": []
   },
   "outputs": [
    {
     "data": {
      "text/plain": [
       "array(['покупка жилья', 'приобретение автомобиля',\n",
       "       'дополнительное образование', 'сыграть свадьбу',\n",
       "       'операции с жильем', 'образование', 'на проведение свадьбы',\n",
       "       'покупка жилья для семьи', 'покупка недвижимости',\n",
       "       'покупка коммерческой недвижимости', 'покупка жилой недвижимости',\n",
       "       'строительство собственной недвижимости', 'недвижимость',\n",
       "       'строительство недвижимости', 'на покупку подержанного автомобиля',\n",
       "       'на покупку своего автомобиля',\n",
       "       'операции с коммерческой недвижимостью',\n",
       "       'строительство жилой недвижимости', 'жилье',\n",
       "       'операции со своей недвижимостью', 'автомобили',\n",
       "       'заняться образованием', 'сделка с подержанным автомобилем',\n",
       "       'получение образования', 'автомобиль', 'свадьба',\n",
       "       'получение дополнительного образования', 'покупка своего жилья',\n",
       "       'операции с недвижимостью', 'получение высшего образования',\n",
       "       'свой автомобиль', 'сделка с автомобилем',\n",
       "       'профильное образование', 'высшее образование',\n",
       "       'покупка жилья для сдачи', 'на покупку автомобиля', 'ремонт жилью',\n",
       "       'заняться высшим образованием'], dtype=object)"
      ]
     },
     "execution_count": 19,
     "metadata": {},
     "output_type": "execute_result"
    }
   ],
   "source": [
    "data['purpose'].unique()"
   ]
  },
  {
   "cell_type": "markdown",
   "id": "14ac2084",
   "metadata": {
    "deletable": false,
    "id": "85d0aef0",
    "slideshow": {
     "slide_type": ""
    },
    "tags": []
   },
   "source": [
    "**Задание 18. Создадим функцию, которая на основании данных из столбца `purpose` сформирует новый столбец `purpose_category`, в который войдут следующие категории:**\n",
    "\n",
    "- `'операции с автомобилем'`,\n",
    "- `'операции с недвижимостью'`,\n",
    "- `'проведение свадьбы'`,\n",
    "- `'получение образования'`.\n",
    "\n",
    "**Например, если в столбце `purpose` находится подстрока `'на покупку автомобиля'`, то в столбце `purpose_category`  появится строка `'операции с автомобилем'`.**\n",
    "\n",
    "**Используем собственную функцию с именем `categorize_purpose()` и метод `apply()`. Изучим данные в столбце `purpose` и определим, какие подстроки помогут правильно определить категорию.**"
   ]
  },
  {
   "cell_type": "code",
   "execution_count": 20,
   "id": "416fb162",
   "metadata": {
    "deletable": false,
    "editable": true,
    "id": "e149fab4",
    "slideshow": {
     "slide_type": ""
    },
    "tags": []
   },
   "outputs": [],
   "source": [
    "def categorize_purpose(row):\n",
    "    try:\n",
    "        if 'автом' in row:\n",
    "            return 'операции с автомобилем'\n",
    "        elif 'жил' in row or 'недвиж' in row:\n",
    "            return 'операции с недвижимостью'\n",
    "        elif 'свад' in row:\n",
    "            return 'проведение свадьбы'\n",
    "        elif 'образов' in row:\n",
    "            return 'получение образования'\n",
    "    except:\n",
    "        return 'нет категории'"
   ]
  },
  {
   "cell_type": "code",
   "execution_count": 21,
   "id": "953316b8",
   "metadata": {
    "deletable": false,
    "id": "bf36e69b"
   },
   "outputs": [],
   "source": [
    "data['purpose_category'] = data['purpose'].apply(categorize_purpose)"
   ]
  },
  {
   "cell_type": "markdown",
   "id": "bef899fd",
   "metadata": {
    "deletable": false,
    "editable": true,
    "id": "09b242bf",
    "slideshow": {
     "slide_type": ""
    },
    "tags": []
   },
   "source": [
    "### Шаг 3. Исследуем данные и ответим на вопросы"
   ]
  },
  {
   "cell_type": "markdown",
   "id": "3e1707b3",
   "metadata": {
    "deletable": false,
    "editable": false,
    "id": "c5d66278",
    "slideshow": {
     "slide_type": ""
    },
    "tags": []
   },
   "source": [
    "#### 3.1 Есть ли зависимость между количеством детей и возвратом кредита в срок?"
   ]
  },
  {
   "cell_type": "code",
   "execution_count": 22,
   "id": "5d7136d8",
   "metadata": {
    "deletable": false,
    "editable": true,
    "id": "2cacfc4a",
    "slideshow": {
     "slide_type": ""
    },
    "tags": []
   },
   "outputs": [
    {
     "data": {
      "image/png": "[encoded data removed]",
      "text/plain": [
       "<Figure size 640x480 with 1 Axes>"
      ]
     },
     "metadata": {},
     "output_type": "display_data"
    }
   ],
   "source": [
    "#удаляем кривые данные\n",
    "#data = data.loc[(data['children']!=-1)&(data['children']!=20)] \n",
    "#группируем заемщиков по кол-ву детей\n",
    "child_groups = data.groupby(by='children').agg({'debt':['sum','count']}) \n",
    "\n",
    "#рассчитываем процент должников среди общего количества заемщиков\n",
    "child_groups['debt_pct'] = child_groups['debt']['sum'] / child_groups['debt']['count'] *100 \n",
    "\n",
    "data_temp = data.pivot_table(index='children', values='debt', aggfunc=['count', 'sum', 'mean'])\n",
    "data_temp.columns = ['Всего кредитополучателей', 'Всего должников', 'Доля должников']\n",
    "# Оформим таблицу цветным градиентом, но можно ее вывести и просто display(data_temp)\n",
    "#display(data_temp.style.format(\"{:.3f}\").background_gradient(cmap='Blues', axis=0))\n",
    "#print(data_groups.sort_values(by='debt_pct',ascending=False))\n",
    "\n",
    "#строим график по количеству заемщиков\n",
    "child_cnt_barplot = sns.barplot(data=child_groups,x=child_groups.index, y=child_groups['debt']['count']) \n",
    "child_cnt_barplot.set(xlabel='Количество детей',\n",
    " ylabel='Количество заемщиков',\n",
    " title='График распределения заемщиков по количеству детей в семье.');"
   ]
  },
  {
   "cell_type": "markdown",
   "id": "5b198ca4",
   "metadata": {
    "editable": true,
    "slideshow": {
     "slide_type": ""
    },
    "tags": []
   },
   "source": [
    "Перед основными выводами стоит заметить, что есть обратная зависимость между кол-вом детей и кол-вом заемщиков в данной категории. С одной стороны, это объсняется общей редкостью большого количества детей в семьях. С другой стороны, стоит учитывать разную степень репрезентативности групп. Репрезентативность выборки по группе без детей (14тыс.заемщиков) гораздо выше, чем репрезентативность выборки по группе с 5 детьми (9 человек). "
   ]
  },
  {
   "cell_type": "code",
   "execution_count": 23,
   "id": "99d3323c",
   "metadata": {
    "editable": true,
    "slideshow": {
     "slide_type": ""
    },
    "tags": []
   },
   "outputs": [
    {
     "data": {
      "text/html": [
       "<style type=\"text/css\">\n",
       "#T_4ce61_row0_col0, #T_4ce61_row0_col1, #T_4ce61_row4_col2 {\n",
       "  background-color: #08306b;\n",
       "  color: #f1f1f1;\n",
       "}\n",
       "#T_4ce61_row0_col2 {\n",
       "  background-color: #1c6bb0;\n",
       "  color: #f1f1f1;\n",
       "}\n",
       "#T_4ce61_row1_col0 {\n",
       "  background-color: #a9cfe5;\n",
       "  color: #000000;\n",
       "}\n",
       "#T_4ce61_row1_col1 {\n",
       "  background-color: #8dc1dd;\n",
       "  color: #000000;\n",
       "}\n",
       "#T_4ce61_row1_col2 {\n",
       "  background-color: #083d7f;\n",
       "  color: #f1f1f1;\n",
       "}\n",
       "#T_4ce61_row2_col0 {\n",
       "  background-color: #dae8f6;\n",
       "  color: #000000;\n",
       "}\n",
       "#T_4ce61_row2_col1 {\n",
       "  background-color: #d3e4f3;\n",
       "  color: #000000;\n",
       "}\n",
       "#T_4ce61_row2_col2 {\n",
       "  background-color: #083776;\n",
       "  color: #f1f1f1;\n",
       "}\n",
       "#T_4ce61_row3_col0 {\n",
       "  background-color: #f3f8fe;\n",
       "  color: #000000;\n",
       "}\n",
       "#T_4ce61_row3_col1 {\n",
       "  background-color: #f2f8fd;\n",
       "  color: #000000;\n",
       "}\n",
       "#T_4ce61_row3_col2 {\n",
       "  background-color: #0f5aa3;\n",
       "  color: #f1f1f1;\n",
       "}\n",
       "#T_4ce61_row4_col0, #T_4ce61_row4_col1, #T_4ce61_row5_col0, #T_4ce61_row5_col1, #T_4ce61_row5_col2 {\n",
       "  background-color: #f7fbff;\n",
       "  color: #000000;\n",
       "}\n",
       "</style>\n",
       "<table id=\"T_4ce61\">\n",
       "  <thead>\n",
       "    <tr>\n",
       "      <th class=\"blank level0\" >&nbsp;</th>\n",
       "      <th id=\"T_4ce61_level0_col0\" class=\"col_heading level0 col0\" >Всего кредитополучателей</th>\n",
       "      <th id=\"T_4ce61_level0_col1\" class=\"col_heading level0 col1\" >Всего должников</th>\n",
       "      <th id=\"T_4ce61_level0_col2\" class=\"col_heading level0 col2\" >Доля должников</th>\n",
       "    </tr>\n",
       "    <tr>\n",
       "      <th class=\"index_name level0\" >children</th>\n",
       "      <th class=\"blank col0\" >&nbsp;</th>\n",
       "      <th class=\"blank col1\" >&nbsp;</th>\n",
       "      <th class=\"blank col2\" >&nbsp;</th>\n",
       "    </tr>\n",
       "  </thead>\n",
       "  <tbody>\n",
       "    <tr>\n",
       "      <th id=\"T_4ce61_level0_row0\" class=\"row_heading level0 row0\" >0</th>\n",
       "      <td id=\"T_4ce61_row0_col0\" class=\"data row0 col0\" >14091.000</td>\n",
       "      <td id=\"T_4ce61_row0_col1\" class=\"data row0 col1\" >1063.000</td>\n",
       "      <td id=\"T_4ce61_row0_col2\" class=\"data row0 col2\" >0.075</td>\n",
       "    </tr>\n",
       "    <tr>\n",
       "      <th id=\"T_4ce61_level0_row1\" class=\"row_heading level0 row1\" >1</th>\n",
       "      <td id=\"T_4ce61_row1_col0\" class=\"data row1 col0\" >4808.000</td>\n",
       "      <td id=\"T_4ce61_row1_col1\" class=\"data row1 col1\" >444.000</td>\n",
       "      <td id=\"T_4ce61_row1_col2\" class=\"data row1 col2\" >0.092</td>\n",
       "    </tr>\n",
       "    <tr>\n",
       "      <th id=\"T_4ce61_level0_row2\" class=\"row_heading level0 row2\" >2</th>\n",
       "      <td id=\"T_4ce61_row2_col0\" class=\"data row2 col0\" >2052.000</td>\n",
       "      <td id=\"T_4ce61_row2_col1\" class=\"data row2 col1\" >194.000</td>\n",
       "      <td id=\"T_4ce61_row2_col2\" class=\"data row2 col2\" >0.095</td>\n",
       "    </tr>\n",
       "    <tr>\n",
       "      <th id=\"T_4ce61_level0_row3\" class=\"row_heading level0 row3\" >3</th>\n",
       "      <td id=\"T_4ce61_row3_col0\" class=\"data row3 col0\" >330.000</td>\n",
       "      <td id=\"T_4ce61_row3_col1\" class=\"data row3 col1\" >27.000</td>\n",
       "      <td id=\"T_4ce61_row3_col2\" class=\"data row3 col2\" >0.082</td>\n",
       "    </tr>\n",
       "    <tr>\n",
       "      <th id=\"T_4ce61_level0_row4\" class=\"row_heading level0 row4\" >4</th>\n",
       "      <td id=\"T_4ce61_row4_col0\" class=\"data row4 col0\" >41.000</td>\n",
       "      <td id=\"T_4ce61_row4_col1\" class=\"data row4 col1\" >4.000</td>\n",
       "      <td id=\"T_4ce61_row4_col2\" class=\"data row4 col2\" >0.098</td>\n",
       "    </tr>\n",
       "    <tr>\n",
       "      <th id=\"T_4ce61_level0_row5\" class=\"row_heading level0 row5\" >5</th>\n",
       "      <td id=\"T_4ce61_row5_col0\" class=\"data row5 col0\" >9.000</td>\n",
       "      <td id=\"T_4ce61_row5_col1\" class=\"data row5 col1\" >0.000</td>\n",
       "      <td id=\"T_4ce61_row5_col2\" class=\"data row5 col2\" >0.000</td>\n",
       "    </tr>\n",
       "  </tbody>\n",
       "</table>\n"
      ],
      "text/plain": [
       "<pandas.io.formats.style.Styler at 0x1bf9562c790>"
      ]
     },
     "metadata": {},
     "output_type": "display_data"
    }
   ],
   "source": [
    "# Создаем копию датасета, что бы не работать с исходным\n",
    "temp = data.copy()\n",
    "# Напишем функцию, так как все задачи аналогичны\n",
    "def que(category):\n",
    "    data_temp = temp.pivot_table(index=category, values='debt', aggfunc=['count', 'sum', 'mean'])\n",
    "    data_temp.columns = ['Всего кредитополучателей', 'Всего должников', 'Доля должников']\n",
    "    # Оформим таблицу цветным градиентом, но можно ее вывести и просто display(data_temp)\n",
    "    display(data_temp.style.format(\"{:.3f}\").background_gradient(cmap='Blues', axis=0))\n",
    "    \n",
    "que('children')"
   ]
  },
  {
   "cell_type": "code",
   "execution_count": 24,
   "id": "a876ca53",
   "metadata": {
    "editable": true,
    "slideshow": {
     "slide_type": ""
    },
    "tags": []
   },
   "outputs": [
    {
     "data": {
      "image/png": "[encoded data removed]",
      "text/plain": [
       "<Figure size 640x480 with 1 Axes>"
      ]
     },
     "metadata": {},
     "output_type": "display_data"
    }
   ],
   "source": [
    "#строим график по проценту должников\n",
    "\n",
    "child_barplot = sns.barplot(data=child_groups,x=child_groups.index, y=child_groups['debt_pct']) \n",
    "child_barplot.set (xlabel='Количество детей',\n",
    " ylabel='Процент должников,%',\n",
    " title='График процента должников в группах по количеству детей у заемщика.');"
   ]
  },
  {
   "cell_type": "markdown",
   "id": "04fa2ff9",
   "metadata": {
    "deletable": false,
    "editable": true,
    "id": "3a6b99ec",
    "slideshow": {
     "slide_type": ""
    },
    "tags": []
   },
   "source": [
    "**Вывод:** \n",
    "В целом, если рассматривать людей с 0,1,2 детьми, то можно заметить, что чем больше детей у заемщика, тем более он склонен к задолженности. Вероятно, с ростом количества детей, растет и финансовая нагрузка на заемщика, в связи с чем и возможны долги.\n",
    "Однако, для заемщиков с 3мя детьми ситуация отличается: по проценту задолженности они находятся между категорией \"без детей\" и категорией с 1 ребенком. Аналогично, для группы с 5 детьми (9заемщиков) - процент задолженности по группе нулевой, хотя в реальности маловероятно, что семьи с 5 детьми никогда не задерживают выплат.\n",
    "Поэтому я бы сделала следующие выводы:\n",
    "- для групп с 0-2 детьми есть прямая зависмость между кол-вом детей и риском задолженности. \n",
    "- на группы с 3 и более детьми стоит смотреть отдельно, т.к. группы небольшие и репрезентативность под вопросом. Но если верить представленным данным, то в этих категориях зависимости между количеством детей и риском задолженности нет."
   ]
  },
  {
   "cell_type": "markdown",
   "id": "9c94c14b",
   "metadata": {
    "deletable": false,
    "editable": false,
    "id": "97be82ca",
    "slideshow": {
     "slide_type": ""
    },
    "tags": []
   },
   "source": [
    "#### 3.2 Есть ли зависимость между семейным положением и возвратом кредита в срок?"
   ]
  },
  {
   "cell_type": "code",
   "execution_count": 25,
   "id": "96ac69e3",
   "metadata": {
    "deletable": false,
    "editable": true,
    "id": "dc3f7ee8",
    "slideshow": {
     "slide_type": ""
    },
    "tags": []
   },
   "outputs": [
    {
     "data": {
      "image/png": "[encoded data removed]",
      "text/plain": [
       "<Figure size 640x480 with 1 Axes>"
      ]
     },
     "metadata": {},
     "output_type": "display_data"
    }
   ],
   "source": [
    "#группируем заемщиков по кол-ву детей\n",
    "family_groups = data.groupby(by='family_status').agg({'debt':['sum','count']}) \n",
    "#рассчитываем процент должников среди общего количества заемщиков\n",
    "family_groups['debt_pct'] =  family_groups['debt']['sum'] / family_groups['debt']['count'] *100 \n",
    "#строим график по количеству заемщиков - смотрим на группы в целом\n",
    "family_barplot = sns.barplot(data=family_groups,x=family_groups['debt']['count'], y= family_groups.index )\n",
    "family_barplot.set (xlabel='Количество заемщиков в группе',\n",
    " ylabel='Семейное положение',\n",
    " title='График распределения заемщиков по семейному положению.');"
   ]
  },
  {
   "cell_type": "markdown",
   "id": "fb006fec",
   "metadata": {
    "editable": true,
    "slideshow": {
     "slide_type": ""
    },
    "tags": []
   },
   "source": [
    "Можно заметить, что наибольшую долю среди заемщиков составляют женатые, либо замужние люди. \n",
    "Посмотрим далее, каков процент должников в каждой из категорий."
   ]
  },
  {
   "cell_type": "code",
   "execution_count": 26,
   "id": "9df6c863",
   "metadata": {
    "editable": true,
    "slideshow": {
     "slide_type": ""
    },
    "tags": []
   },
   "outputs": [
    {
     "data": {
      "text/html": [
       "<style type=\"text/css\">\n",
       "#T_51af2_row0_col0 {\n",
       "  background-color: #d7e6f5;\n",
       "  color: #000000;\n",
       "}\n",
       "#T_51af2_row0_col1 {\n",
       "  background-color: #c7dcef;\n",
       "  color: #000000;\n",
       "}\n",
       "#T_51af2_row0_col2, #T_51af2_row4_col0, #T_51af2_row4_col1 {\n",
       "  background-color: #08306b;\n",
       "  color: #f1f1f1;\n",
       "}\n",
       "#T_51af2_row1_col0 {\n",
       "  background-color: #f3f8fe;\n",
       "  color: #000000;\n",
       "}\n",
       "#T_51af2_row1_col1 {\n",
       "  background-color: #f2f8fd;\n",
       "  color: #000000;\n",
       "}\n",
       "#T_51af2_row1_col2 {\n",
       "  background-color: #dce9f6;\n",
       "  color: #000000;\n",
       "}\n",
       "#T_51af2_row2_col0, #T_51af2_row2_col1, #T_51af2_row2_col2 {\n",
       "  background-color: #f7fbff;\n",
       "  color: #000000;\n",
       "}\n",
       "#T_51af2_row3_col0 {\n",
       "  background-color: #bcd7eb;\n",
       "  color: #000000;\n",
       "}\n",
       "#T_51af2_row3_col1 {\n",
       "  background-color: #9fcae1;\n",
       "  color: #000000;\n",
       "}\n",
       "#T_51af2_row3_col2 {\n",
       "  background-color: #0b559f;\n",
       "  color: #f1f1f1;\n",
       "}\n",
       "#T_51af2_row4_col2 {\n",
       "  background-color: #b7d4ea;\n",
       "  color: #000000;\n",
       "}\n",
       "</style>\n",
       "<table id=\"T_51af2\">\n",
       "  <thead>\n",
       "    <tr>\n",
       "      <th class=\"blank level0\" >&nbsp;</th>\n",
       "      <th id=\"T_51af2_level0_col0\" class=\"col_heading level0 col0\" >Всего кредитополучателей</th>\n",
       "      <th id=\"T_51af2_level0_col1\" class=\"col_heading level0 col1\" >Всего должников</th>\n",
       "      <th id=\"T_51af2_level0_col2\" class=\"col_heading level0 col2\" >Доля должников</th>\n",
       "    </tr>\n",
       "    <tr>\n",
       "      <th class=\"index_name level0\" >family_status</th>\n",
       "      <th class=\"blank col0\" >&nbsp;</th>\n",
       "      <th class=\"blank col1\" >&nbsp;</th>\n",
       "      <th class=\"blank col2\" >&nbsp;</th>\n",
       "    </tr>\n",
       "  </thead>\n",
       "  <tbody>\n",
       "    <tr>\n",
       "      <th id=\"T_51af2_level0_row0\" class=\"row_heading level0 row0\" >Не женат / не замужем</th>\n",
       "      <td id=\"T_51af2_row0_col0\" class=\"data row0 col0\" >2796.000</td>\n",
       "      <td id=\"T_51af2_row0_col1\" class=\"data row0 col1\" >273.000</td>\n",
       "      <td id=\"T_51af2_row0_col2\" class=\"data row0 col2\" >0.098</td>\n",
       "    </tr>\n",
       "    <tr>\n",
       "      <th id=\"T_51af2_level0_row1\" class=\"row_heading level0 row1\" >в разводе</th>\n",
       "      <td id=\"T_51af2_row1_col0\" class=\"data row1 col0\" >1189.000</td>\n",
       "      <td id=\"T_51af2_row1_col1\" class=\"data row1 col1\" >84.000</td>\n",
       "      <td id=\"T_51af2_row1_col2\" class=\"data row1 col2\" >0.071</td>\n",
       "    </tr>\n",
       "    <tr>\n",
       "      <th id=\"T_51af2_level0_row2\" class=\"row_heading level0 row2\" >вдовец / вдова</th>\n",
       "      <td id=\"T_51af2_row2_col0\" class=\"data row2 col0\" >951.000</td>\n",
       "      <td id=\"T_51af2_row2_col1\" class=\"data row2 col1\" >63.000</td>\n",
       "      <td id=\"T_51af2_row2_col2\" class=\"data row2 col2\" >0.066</td>\n",
       "    </tr>\n",
       "    <tr>\n",
       "      <th id=\"T_51af2_level0_row3\" class=\"row_heading level0 row3\" >гражданский брак</th>\n",
       "      <td id=\"T_51af2_row3_col0\" class=\"data row3 col0\" >4134.000</td>\n",
       "      <td id=\"T_51af2_row3_col1\" class=\"data row3 col1\" >385.000</td>\n",
       "      <td id=\"T_51af2_row3_col2\" class=\"data row3 col2\" >0.093</td>\n",
       "    </tr>\n",
       "    <tr>\n",
       "      <th id=\"T_51af2_level0_row4\" class=\"row_heading level0 row4\" >женат / замужем</th>\n",
       "      <td id=\"T_51af2_row4_col0\" class=\"data row4 col0\" >12261.000</td>\n",
       "      <td id=\"T_51af2_row4_col1\" class=\"data row4 col1\" >927.000</td>\n",
       "      <td id=\"T_51af2_row4_col2\" class=\"data row4 col2\" >0.076</td>\n",
       "    </tr>\n",
       "  </tbody>\n",
       "</table>\n"
      ],
      "text/plain": [
       "<pandas.io.formats.style.Styler at 0x1bf964980d0>"
      ]
     },
     "metadata": {},
     "output_type": "display_data"
    },
    {
     "data": {
      "image/png": "[encoded data removed]",
      "text/plain": [
       "<Figure size 640x480 with 1 Axes>"
      ]
     },
     "metadata": {},
     "output_type": "display_data"
    }
   ],
   "source": [
    "#print(data_groups.sort_values(by='debt_pct',ascending=False))\n",
    "que('family_status')\n",
    "\n",
    "#строим график по проценту должников\n",
    "family_barplot2 = sns.barplot(data=family_groups,x=family_groups['debt_pct'], y=family_groups.index)\n",
    "family_barplot2.set (xlabel='Процент должников в группе, %',\n",
    " ylabel='Семейное положение',\n",
    " title='График распределения должников по семейному положению.');"
   ]
  },
  {
   "cell_type": "markdown",
   "id": "5833ded8",
   "metadata": {
    "deletable": false,
    "editable": true,
    "id": "1cef7837",
    "slideshow": {
     "slide_type": ""
    },
    "tags": []
   },
   "source": [
    "**Вывод:** По приведенным данным можно сделать вывод, что замужние люди (либо побывавшие в официальном браке - вдовцы и в разводе), менее склонны к задолженности, чем те люди, которые \"не женаты\\не замужем\", либо находятся в гражданском браке. \n",
    "Хотя, стоит иметь ввиду, что логически категории могут пересекаться между собой - например, категории \"в разводе\" и \"не женат/не замужем\". Поэтому вывод, что побывавшие в официальнм браке платят ответственнее, может быть не совсем достоверным. Так как в группу \"не женат/не замужем\" могут попадать и люди,которые решили не указывать факт прошлого брака в заявке. "
   ]
  },
  {
   "cell_type": "markdown",
   "id": "5e15bb17",
   "metadata": {
    "deletable": false,
    "editable": false,
    "id": "1e8b2fca",
    "slideshow": {
     "slide_type": ""
    },
    "tags": []
   },
   "source": [
    "#### 3.3 Есть ли зависимость между уровнем дохода и возвратом кредита в срок?"
   ]
  },
  {
   "cell_type": "markdown",
   "id": "24548951-09fa-49e8-9608-f632d58f0f29",
   "metadata": {
    "deletable": false,
    "editable": true,
    "id": "cd7e3720",
    "slideshow": {
     "slide_type": ""
    },
    "tags": []
   },
   "source": [
    " "
   ]
  },
  {
   "cell_type": "markdown",
   "id": "ccf852fe",
   "metadata": {
    "editable": true,
    "slideshow": {
     "slide_type": ""
    },
    "tags": []
   },
   "source": [
    "Оценим общее воличество должников по категориям дохода:"
   ]
  },
  {
   "cell_type": "code",
   "execution_count": 27,
   "id": "724b820b",
   "metadata": {},
   "outputs": [
    {
     "data": {
      "text/html": [
       "<style type=\"text/css\">\n",
       "#T_11485_row0_col0, #T_11485_row0_col1, #T_11485_row3_col2, #T_11485_row4_col0, #T_11485_row4_col1 {\n",
       "  background-color: #f7fbff;\n",
       "  color: #000000;\n",
       "}\n",
       "#T_11485_row0_col2 {\n",
       "  background-color: #3c8cc3;\n",
       "  color: #f1f1f1;\n",
       "}\n",
       "#T_11485_row1_col0 {\n",
       "  background-color: #b2d2e8;\n",
       "  color: #000000;\n",
       "}\n",
       "#T_11485_row1_col1 {\n",
       "  background-color: #c3daee;\n",
       "  color: #000000;\n",
       "}\n",
       "#T_11485_row1_col2 {\n",
       "  background-color: #aacfe5;\n",
       "  color: #000000;\n",
       "}\n",
       "#T_11485_row2_col0, #T_11485_row2_col1, #T_11485_row4_col2 {\n",
       "  background-color: #08306b;\n",
       "  color: #f1f1f1;\n",
       "}\n",
       "#T_11485_row2_col2 {\n",
       "  background-color: #1562a9;\n",
       "  color: #f1f1f1;\n",
       "}\n",
       "#T_11485_row3_col0 {\n",
       "  background-color: #f3f8fe;\n",
       "  color: #000000;\n",
       "}\n",
       "#T_11485_row3_col1 {\n",
       "  background-color: #f5f9fe;\n",
       "  color: #000000;\n",
       "}\n",
       "</style>\n",
       "<table id=\"T_11485\">\n",
       "  <thead>\n",
       "    <tr>\n",
       "      <th class=\"blank level0\" >&nbsp;</th>\n",
       "      <th id=\"T_11485_level0_col0\" class=\"col_heading level0 col0\" >Всего кредитополучателей</th>\n",
       "      <th id=\"T_11485_level0_col1\" class=\"col_heading level0 col1\" >Всего должников</th>\n",
       "      <th id=\"T_11485_level0_col2\" class=\"col_heading level0 col2\" >Доля должников</th>\n",
       "    </tr>\n",
       "    <tr>\n",
       "      <th class=\"index_name level0\" >total_income_category</th>\n",
       "      <th class=\"blank col0\" >&nbsp;</th>\n",
       "      <th class=\"blank col1\" >&nbsp;</th>\n",
       "      <th class=\"blank col2\" >&nbsp;</th>\n",
       "    </tr>\n",
       "  </thead>\n",
       "  <tbody>\n",
       "    <tr>\n",
       "      <th id=\"T_11485_level0_row0\" class=\"row_heading level0 row0\" >A</th>\n",
       "      <td id=\"T_11485_row0_col0\" class=\"data row0 col0\" >25.000</td>\n",
       "      <td id=\"T_11485_row0_col1\" class=\"data row0 col1\" >2.000</td>\n",
       "      <td id=\"T_11485_row0_col2\" class=\"data row0 col2\" >0.080</td>\n",
       "    </tr>\n",
       "    <tr>\n",
       "      <th id=\"T_11485_level0_row1\" class=\"row_heading level0 row1\" >B</th>\n",
       "      <td id=\"T_11485_row1_col0\" class=\"data row1 col0\" >5014.000</td>\n",
       "      <td id=\"T_11485_row1_col1\" class=\"data row1 col1\" >354.000</td>\n",
       "      <td id=\"T_11485_row1_col2\" class=\"data row1 col2\" >0.071</td>\n",
       "    </tr>\n",
       "    <tr>\n",
       "      <th id=\"T_11485_level0_row2\" class=\"row_heading level0 row2\" >C</th>\n",
       "      <td id=\"T_11485_row2_col0\" class=\"data row2 col0\" >15921.000</td>\n",
       "      <td id=\"T_11485_row2_col1\" class=\"data row2 col1\" >1353.000</td>\n",
       "      <td id=\"T_11485_row2_col2\" class=\"data row2 col2\" >0.085</td>\n",
       "    </tr>\n",
       "    <tr>\n",
       "      <th id=\"T_11485_level0_row3\" class=\"row_heading level0 row3\" >D</th>\n",
       "      <td id=\"T_11485_row3_col0\" class=\"data row3 col0\" >349.000</td>\n",
       "      <td id=\"T_11485_row3_col1\" class=\"data row3 col1\" >21.000</td>\n",
       "      <td id=\"T_11485_row3_col2\" class=\"data row3 col2\" >0.060</td>\n",
       "    </tr>\n",
       "    <tr>\n",
       "      <th id=\"T_11485_level0_row4\" class=\"row_heading level0 row4\" >E</th>\n",
       "      <td id=\"T_11485_row4_col0\" class=\"data row4 col0\" >22.000</td>\n",
       "      <td id=\"T_11485_row4_col1\" class=\"data row4 col1\" >2.000</td>\n",
       "      <td id=\"T_11485_row4_col2\" class=\"data row4 col2\" >0.091</td>\n",
       "    </tr>\n",
       "  </tbody>\n",
       "</table>\n"
      ],
      "text/plain": [
       "<pandas.io.formats.style.Styler at 0x1bf964f50d0>"
      ]
     },
     "metadata": {},
     "output_type": "display_data"
    }
   ],
   "source": [
    "que('total_income_category')"
   ]
  },
  {
   "cell_type": "markdown",
   "id": "adbb819e",
   "metadata": {},
   "source": [
    "По столбцу \"доля должников\" видим, что данные распределены волнообразно: с повышением уровня дохода сначала доля должников повышается, затем снижается, потом опять повышается и снова снижается. Посмотрим более наглядно на графике:"
   ]
  },
  {
   "cell_type": "code",
   "execution_count": 28,
   "id": "6f6751b7",
   "metadata": {
    "editable": true,
    "slideshow": {
     "slide_type": ""
    },
    "tags": []
   },
   "outputs": [
    {
     "data": {
      "image/png": "[encoded data removed]",
      "text/plain": [
       "<Figure size 640x480 with 1 Axes>"
      ]
     },
     "metadata": {},
     "output_type": "display_data"
    }
   ],
   "source": [
    "temp_income = data.copy()\n",
    "\n",
    "#группируем заемщиков по категориям дохода\n",
    "income_groups = temp_income.groupby(by='total_income_category').agg({'debt':['sum','count']}) \n",
    "#рассчитываем процент должников среди общего количества заемщиков\n",
    "income_groups['debt_pct'] = income_groups['debt']['sum'] / income_groups['debt']['count'] *100 \n",
    "\n",
    "income_barplot = sns.barplot(data=income_groups,x=income_groups['debt_pct'], y=income_groups.index)\n",
    "income_barplot.set (xlabel='Процент должников в группе, %',\n",
    " ylabel='Категория дохода',\n",
    " title='График распределения должников по категории дохода.');"
   ]
  },
  {
   "cell_type": "markdown",
   "id": "4b67a2f0",
   "metadata": {
    "deletable": false,
    "editable": true,
    "id": "e8593def",
    "slideshow": {
     "slide_type": ""
    },
    "tags": []
   },
   "source": [
    "**Вывод:** по полученному графику видно, что между уровнем дохода и процентом должников есть зависмости. \n",
    "- пик процента должников приходится на уровни дохода до 30тыс.(категория Е). Очевидно, что минимальный уровень дохода ведет к высоким рискам задолженности по кредиту. \n",
    "- люди с доходом от 30 до 50тыс. являются наиболее дисциплинированны в выплатах - они уже обеспечены необходимым им доходом, но все еще аккуратно относятся к расходам и ведению бюджета, поэтому у них минимальный процент должников по группе. \n",
    "- далее с повышением дохода график в целом является волнообразным - и,похоже, это не случайно. Вероятно, при переходе на новый уровень дохода люди с одной стороны, имеют больше средств к выплатам (и поначалу снижают процент задолженности), но,с другой стороны, в какой-то момент люди начинают брать кредиты на бОльшие суммы (к сожалению, данных о сумме кредитов у нас нет, поэтому подтвердить гипотезу не можем), что ведет к новым задолженностям. Таким образом, происходит борьба двух факторов: повышение доходов и повышение потребительских аппетитов заемщиков. Поэтому, я бы сделала вывод, что зависимость есть, но она волнообразная. "
   ]
  },
  {
   "cell_type": "markdown",
   "id": "a884c68f",
   "metadata": {
    "deletable": false,
    "editable": false,
    "id": "99ecbd1f",
    "slideshow": {
     "slide_type": ""
    },
    "tags": []
   },
   "source": [
    "#### 3.4 Как разные цели кредита влияют на его возврат в срок?"
   ]
  },
  {
   "cell_type": "code",
   "execution_count": 29,
   "id": "55d9d18c",
   "metadata": {
    "deletable": false,
    "editable": true,
    "id": "2b687290",
    "slideshow": {
     "slide_type": ""
    },
    "tags": []
   },
   "outputs": [
    {
     "data": {
      "text/html": [
       "<style type=\"text/css\">\n",
       "#T_bfec0_row0_col0 {\n",
       "  background-color: #caddf0;\n",
       "  color: #000000;\n",
       "}\n",
       "#T_bfec0_row0_col1 {\n",
       "  background-color: #a1cbe2;\n",
       "  color: #000000;\n",
       "}\n",
       "#T_bfec0_row0_col2, #T_bfec0_row1_col0, #T_bfec0_row1_col1 {\n",
       "  background-color: #08306b;\n",
       "  color: #f1f1f1;\n",
       "}\n",
       "#T_bfec0_row1_col2, #T_bfec0_row3_col0, #T_bfec0_row3_col1 {\n",
       "  background-color: #f7fbff;\n",
       "  color: #000000;\n",
       "}\n",
       "#T_bfec0_row2_col0 {\n",
       "  background-color: #d0e2f2;\n",
       "  color: #000000;\n",
       "}\n",
       "#T_bfec0_row2_col1 {\n",
       "  background-color: #b3d3e8;\n",
       "  color: #000000;\n",
       "}\n",
       "#T_bfec0_row2_col2 {\n",
       "  background-color: #083b7c;\n",
       "  color: #f1f1f1;\n",
       "}\n",
       "#T_bfec0_row3_col2 {\n",
       "  background-color: #b2d2e8;\n",
       "  color: #000000;\n",
       "}\n",
       "</style>\n",
       "<table id=\"T_bfec0\">\n",
       "  <thead>\n",
       "    <tr>\n",
       "      <th class=\"blank level0\" >&nbsp;</th>\n",
       "      <th id=\"T_bfec0_level0_col0\" class=\"col_heading level0 col0\" >Всего кредитополучателей</th>\n",
       "      <th id=\"T_bfec0_level0_col1\" class=\"col_heading level0 col1\" >Всего должников</th>\n",
       "      <th id=\"T_bfec0_level0_col2\" class=\"col_heading level0 col2\" >Доля должников</th>\n",
       "    </tr>\n",
       "    <tr>\n",
       "      <th class=\"index_name level0\" >purpose_category</th>\n",
       "      <th class=\"blank col0\" >&nbsp;</th>\n",
       "      <th class=\"blank col1\" >&nbsp;</th>\n",
       "      <th class=\"blank col2\" >&nbsp;</th>\n",
       "    </tr>\n",
       "  </thead>\n",
       "  <tbody>\n",
       "    <tr>\n",
       "      <th id=\"T_bfec0_level0_row0\" class=\"row_heading level0 row0\" >операции с автомобилем</th>\n",
       "      <td id=\"T_bfec0_row0_col0\" class=\"data row0 col0\" >4279.000</td>\n",
       "      <td id=\"T_bfec0_row0_col1\" class=\"data row0 col1\" >400.000</td>\n",
       "      <td id=\"T_bfec0_row0_col2\" class=\"data row0 col2\" >0.093</td>\n",
       "    </tr>\n",
       "    <tr>\n",
       "      <th id=\"T_bfec0_level0_row1\" class=\"row_heading level0 row1\" >операции с недвижимостью</th>\n",
       "      <td id=\"T_bfec0_row1_col0\" class=\"data row1 col0\" >10751.000</td>\n",
       "      <td id=\"T_bfec0_row1_col1\" class=\"data row1 col1\" >780.000</td>\n",
       "      <td id=\"T_bfec0_row1_col2\" class=\"data row1 col2\" >0.073</td>\n",
       "    </tr>\n",
       "    <tr>\n",
       "      <th id=\"T_bfec0_level0_row2\" class=\"row_heading level0 row2\" >получение образования</th>\n",
       "      <td id=\"T_bfec0_row2_col0\" class=\"data row2 col0\" >3988.000</td>\n",
       "      <td id=\"T_bfec0_row2_col1\" class=\"data row2 col1\" >369.000</td>\n",
       "      <td id=\"T_bfec0_row2_col2\" class=\"data row2 col2\" >0.093</td>\n",
       "    </tr>\n",
       "    <tr>\n",
       "      <th id=\"T_bfec0_level0_row3\" class=\"row_heading level0 row3\" >проведение свадьбы</th>\n",
       "      <td id=\"T_bfec0_row3_col0\" class=\"data row3 col0\" >2313.000</td>\n",
       "      <td id=\"T_bfec0_row3_col1\" class=\"data row3 col1\" >183.000</td>\n",
       "      <td id=\"T_bfec0_row3_col2\" class=\"data row3 col2\" >0.079</td>\n",
       "    </tr>\n",
       "  </tbody>\n",
       "</table>\n"
      ],
      "text/plain": [
       "<pandas.io.formats.style.Styler at 0x1bf961971d0>"
      ]
     },
     "metadata": {},
     "output_type": "display_data"
    },
    {
     "data": {
      "image/png": "[encoded data removed]",
      "text/plain": [
       "<Figure size 640x480 with 1 Axes>"
      ]
     },
     "metadata": {},
     "output_type": "display_data"
    }
   ],
   "source": [
    "#изучаем табличные данные по категориям\n",
    "que('purpose_category')\n",
    "\n",
    "#группируем заемщиков по категориям\n",
    "purpose_groups = data.groupby(by='purpose_category').agg({'debt':['sum','count']}) \n",
    "#рассчитываем процент должников среди общего количества заемщиков\n",
    "purpose_groups['debt_pct'] = purpose_groups['debt']['sum'] / purpose_groups['debt']['count'] *100 \n",
    "\n",
    "#строим график\n",
    "purpose_barplot = sns.barplot(data=purpose_groups,x=purpose_groups['debt_pct'], y= purpose_groups.index)\n",
    "\n",
    "purpose_barplot.set (xlabel='Процент должников в группе, %',\n",
    " ylabel='Цель кредита',\n",
    " title='График распределения должников по целям кредитов.');"
   ]
  },
  {
   "cell_type": "markdown",
   "id": "f871d4bb",
   "metadata": {
    "deletable": false,
    "editable": true,
    "id": "b4bb2ce6",
    "slideshow": {
     "slide_type": ""
    },
    "tags": []
   },
   "source": [
    "**Вывод:** \n",
    "- Заемщики, берущие кредит на операции с недвижимостью или проведение свадьбы менее склонны к просрочке, чем заемщики, берущие кредит на оперции с автомобилем и получение образования.\n",
    "- процент должников в категориях \"операции с недвижимостью\" и \"получение образования\" практически идентичен\n",
    "- наименьший процент должников в категории \"операции с недвижимостью\""
   ]
  },
  {
   "cell_type": "markdown",
   "id": "f18da682",
   "metadata": {
    "deletable": false,
    "id": "09c3ac4c",
    "slideshow": {
     "slide_type": ""
    },
    "tags": []
   },
   "source": [
    "#### 3.5 Приведем возможные причины появления пропусков в исходных данных."
   ]
  },
  {
   "cell_type": "markdown",
   "id": "bc7cfa83",
   "metadata": {
    "editable": true,
    "slideshow": {
     "slide_type": ""
    },
    "tags": []
   },
   "source": [
    "Количество пропусков в столбцах \"days_employed\" и \"total_income\" совпадает, при этом мы знаем, что в таблице есть заемщики с категорией \"безработные\" и \"пенсионеры\". Проверим гипотезу, что все пропуски объясняются тем, что данные заемщики не указывают количество отработанных дней или не имеют официального дохода."
   ]
  },
  {
   "cell_type": "code",
   "execution_count": 30,
   "id": "89805930",
   "metadata": {
    "editable": true,
    "slideshow": {
     "slide_type": ""
    },
    "tags": []
   },
   "outputs": [
    {
     "data": {
      "text/html": [
       "<div>\n",
       "<style scoped>\n",
       "    .dataframe tbody tr th:only-of-type {\n",
       "        vertical-align: middle;\n",
       "    }\n",
       "\n",
       "    .dataframe tbody tr th {\n",
       "        vertical-align: top;\n",
       "    }\n",
       "\n",
       "    .dataframe thead tr th {\n",
       "        text-align: left;\n",
       "    }\n",
       "\n",
       "    .dataframe thead tr:last-of-type th {\n",
       "        text-align: right;\n",
       "    }\n",
       "</style>\n",
       "<table border=\"1\" class=\"dataframe\">\n",
       "  <thead>\n",
       "    <tr>\n",
       "      <th></th>\n",
       "      <th colspan=\"2\" halign=\"left\">empty_income</th>\n",
       "      <th colspan=\"2\" halign=\"left\">empty_days</th>\n",
       "    </tr>\n",
       "    <tr>\n",
       "      <th></th>\n",
       "      <th>sum</th>\n",
       "      <th>count</th>\n",
       "      <th>sum</th>\n",
       "      <th>count</th>\n",
       "    </tr>\n",
       "    <tr>\n",
       "      <th>income_type</th>\n",
       "      <th></th>\n",
       "      <th></th>\n",
       "      <th></th>\n",
       "      <th></th>\n",
       "    </tr>\n",
       "  </thead>\n",
       "  <tbody>\n",
       "    <tr>\n",
       "      <th>безработный</th>\n",
       "      <td>0</td>\n",
       "      <td>2</td>\n",
       "      <td>0</td>\n",
       "      <td>2</td>\n",
       "    </tr>\n",
       "    <tr>\n",
       "      <th>в декрете</th>\n",
       "      <td>0</td>\n",
       "      <td>1</td>\n",
       "      <td>0</td>\n",
       "      <td>1</td>\n",
       "    </tr>\n",
       "    <tr>\n",
       "      <th>госслужащий</th>\n",
       "      <td>147</td>\n",
       "      <td>1459</td>\n",
       "      <td>147</td>\n",
       "      <td>1459</td>\n",
       "    </tr>\n",
       "    <tr>\n",
       "      <th>компаньон</th>\n",
       "      <td>508</td>\n",
       "      <td>5085</td>\n",
       "      <td>508</td>\n",
       "      <td>5085</td>\n",
       "    </tr>\n",
       "    <tr>\n",
       "      <th>пенсионер</th>\n",
       "      <td>413</td>\n",
       "      <td>3856</td>\n",
       "      <td>413</td>\n",
       "      <td>3856</td>\n",
       "    </tr>\n",
       "    <tr>\n",
       "      <th>предприниматель</th>\n",
       "      <td>1</td>\n",
       "      <td>2</td>\n",
       "      <td>1</td>\n",
       "      <td>2</td>\n",
       "    </tr>\n",
       "    <tr>\n",
       "      <th>сотрудник</th>\n",
       "      <td>1105</td>\n",
       "      <td>11119</td>\n",
       "      <td>1105</td>\n",
       "      <td>11119</td>\n",
       "    </tr>\n",
       "    <tr>\n",
       "      <th>студент</th>\n",
       "      <td>0</td>\n",
       "      <td>1</td>\n",
       "      <td>0</td>\n",
       "      <td>1</td>\n",
       "    </tr>\n",
       "  </tbody>\n",
       "</table>\n",
       "</div>"
      ],
      "text/plain": [
       "                empty_income        empty_days       \n",
       "                         sum  count        sum  count\n",
       "income_type                                          \n",
       "безработный                0      2          0      2\n",
       "в декрете                  0      1          0      1\n",
       "госслужащий              147   1459        147   1459\n",
       "компаньон                508   5085        508   5085\n",
       "пенсионер                413   3856        413   3856\n",
       "предприниматель            1      2          1      2\n",
       "сотрудник               1105  11119       1105  11119\n",
       "студент                    0      1          0      1"
      ]
     },
     "execution_count": 30,
     "metadata": {},
     "output_type": "execute_result"
    }
   ],
   "source": [
    "try:\n",
    "    data_for_empties = pd.read_csv('...')\n",
    "except:\n",
    "    data_for_empties = pd.read_csv('...')\n",
    "\n",
    "data_for_empties['purpose_category'] = data_for_empties['purpose'].apply(categorize_purpose)\n",
    "\n",
    "data_for_empties['empty_income'] = 0\n",
    "data_for_empties['empty_days'] = 0\n",
    "data_for_empties.loc[(data_for_empties['total_income'].isna()), 'empty_income'] = 1\n",
    "data_for_empties.loc[(data_for_empties['days_employed'].isna()), 'empty_days'] = 1\n",
    "\n",
    "data_for_empties.groupby(by=['income_type'])[['empty_income','empty_days']].agg({'empty_income':['sum','count'],'empty_days':['sum','count']})\n",
    "#data_for_empties.columns = ['Income_total: пустых значений', 'Income_total: всего значений','Days_employed: пустых значений', 'Days_employed: всего значений' ]"
   ]
  },
  {
   "cell_type": "markdown",
   "id": "c40b51c8",
   "metadata": {
    "editable": true,
    "slideshow": {
     "slide_type": ""
    },
    "tags": []
   },
   "source": [
    "Хотя в данных с проусками действительно есть пенсионеры, но больше половины всех пропусков - это сотрудники, а также есть госслужащие, компаньоны и предприниматели. \n",
    "При этом нельзя сказать, что данные заполнены только для одной из категорий.\n",
    "Следовательно, пропуски в \"days_employed\" и \"total_income\" не зависят от рода деятельности заемщика (хотя, это было бы логично).\n",
    "При этом заметно, что доля пропусков по каждой группе составляет примерно 10% от общего количества записей по группе.\n",
    "Посмотрим данные в остальных разрезах."
   ]
  },
  {
   "cell_type": "code",
   "execution_count": 31,
   "id": "c1cf988b",
   "metadata": {
    "editable": true,
    "slideshow": {
     "slide_type": ""
    },
    "tags": []
   },
   "outputs": [
    {
     "data": {
      "text/html": [
       "<div>\n",
       "<style scoped>\n",
       "    .dataframe tbody tr th:only-of-type {\n",
       "        vertical-align: middle;\n",
       "    }\n",
       "\n",
       "    .dataframe tbody tr th {\n",
       "        vertical-align: top;\n",
       "    }\n",
       "\n",
       "    .dataframe thead tr th {\n",
       "        text-align: left;\n",
       "    }\n",
       "\n",
       "    .dataframe thead tr:last-of-type th {\n",
       "        text-align: right;\n",
       "    }\n",
       "</style>\n",
       "<table border=\"1\" class=\"dataframe\">\n",
       "  <thead>\n",
       "    <tr>\n",
       "      <th></th>\n",
       "      <th colspan=\"2\" halign=\"left\">empty_income</th>\n",
       "      <th colspan=\"2\" halign=\"left\">empty_days</th>\n",
       "    </tr>\n",
       "    <tr>\n",
       "      <th></th>\n",
       "      <th>sum</th>\n",
       "      <th>count</th>\n",
       "      <th>sum</th>\n",
       "      <th>count</th>\n",
       "    </tr>\n",
       "    <tr>\n",
       "      <th>purpose_category</th>\n",
       "      <th></th>\n",
       "      <th></th>\n",
       "      <th></th>\n",
       "      <th></th>\n",
       "    </tr>\n",
       "  </thead>\n",
       "  <tbody>\n",
       "    <tr>\n",
       "      <th>операции с автомобилем</th>\n",
       "      <td>418</td>\n",
       "      <td>4315</td>\n",
       "      <td>418</td>\n",
       "      <td>4315</td>\n",
       "    </tr>\n",
       "    <tr>\n",
       "      <th>операции с недвижимостью</th>\n",
       "      <td>1082</td>\n",
       "      <td>10840</td>\n",
       "      <td>1082</td>\n",
       "      <td>10840</td>\n",
       "    </tr>\n",
       "    <tr>\n",
       "      <th>получение образования</th>\n",
       "      <td>425</td>\n",
       "      <td>4022</td>\n",
       "      <td>425</td>\n",
       "      <td>4022</td>\n",
       "    </tr>\n",
       "    <tr>\n",
       "      <th>проведение свадьбы</th>\n",
       "      <td>249</td>\n",
       "      <td>2348</td>\n",
       "      <td>249</td>\n",
       "      <td>2348</td>\n",
       "    </tr>\n",
       "  </tbody>\n",
       "</table>\n",
       "</div>"
      ],
      "text/plain": [
       "                         empty_income        empty_days       \n",
       "                                  sum  count        sum  count\n",
       "purpose_category                                              \n",
       "операции с автомобилем            418   4315        418   4315\n",
       "операции с недвижимостью         1082  10840       1082  10840\n",
       "получение образования             425   4022        425   4022\n",
       "проведение свадьбы                249   2348        249   2348"
      ]
     },
     "execution_count": 31,
     "metadata": {},
     "output_type": "execute_result"
    }
   ],
   "source": [
    "data_for_empties.groupby(by=['purpose_category'])[['empty_income','empty_days']].agg({'empty_income':['sum','count'],'empty_days':['sum','count']})"
   ]
  },
  {
   "cell_type": "code",
   "execution_count": 32,
   "id": "0a661ef9",
   "metadata": {
    "editable": true,
    "slideshow": {
     "slide_type": ""
    },
    "tags": []
   },
   "outputs": [
    {
     "data": {
      "text/html": [
       "<div>\n",
       "<style scoped>\n",
       "    .dataframe tbody tr th:only-of-type {\n",
       "        vertical-align: middle;\n",
       "    }\n",
       "\n",
       "    .dataframe tbody tr th {\n",
       "        vertical-align: top;\n",
       "    }\n",
       "\n",
       "    .dataframe thead tr th {\n",
       "        text-align: left;\n",
       "    }\n",
       "\n",
       "    .dataframe thead tr:last-of-type th {\n",
       "        text-align: right;\n",
       "    }\n",
       "</style>\n",
       "<table border=\"1\" class=\"dataframe\">\n",
       "  <thead>\n",
       "    <tr>\n",
       "      <th></th>\n",
       "      <th colspan=\"2\" halign=\"left\">empty_income</th>\n",
       "      <th colspan=\"2\" halign=\"left\">empty_days</th>\n",
       "    </tr>\n",
       "    <tr>\n",
       "      <th></th>\n",
       "      <th>sum</th>\n",
       "      <th>count</th>\n",
       "      <th>sum</th>\n",
       "      <th>count</th>\n",
       "    </tr>\n",
       "    <tr>\n",
       "      <th>education_id</th>\n",
       "      <th></th>\n",
       "      <th></th>\n",
       "      <th></th>\n",
       "      <th></th>\n",
       "    </tr>\n",
       "  </thead>\n",
       "  <tbody>\n",
       "    <tr>\n",
       "      <th>0</th>\n",
       "      <td>544</td>\n",
       "      <td>5260</td>\n",
       "      <td>544</td>\n",
       "      <td>5260</td>\n",
       "    </tr>\n",
       "    <tr>\n",
       "      <th>1</th>\n",
       "      <td>1540</td>\n",
       "      <td>15233</td>\n",
       "      <td>1540</td>\n",
       "      <td>15233</td>\n",
       "    </tr>\n",
       "    <tr>\n",
       "      <th>2</th>\n",
       "      <td>69</td>\n",
       "      <td>744</td>\n",
       "      <td>69</td>\n",
       "      <td>744</td>\n",
       "    </tr>\n",
       "    <tr>\n",
       "      <th>3</th>\n",
       "      <td>21</td>\n",
       "      <td>282</td>\n",
       "      <td>21</td>\n",
       "      <td>282</td>\n",
       "    </tr>\n",
       "    <tr>\n",
       "      <th>4</th>\n",
       "      <td>0</td>\n",
       "      <td>6</td>\n",
       "      <td>0</td>\n",
       "      <td>6</td>\n",
       "    </tr>\n",
       "  </tbody>\n",
       "</table>\n",
       "</div>"
      ],
      "text/plain": [
       "             empty_income        empty_days       \n",
       "                      sum  count        sum  count\n",
       "education_id                                      \n",
       "0                     544   5260        544   5260\n",
       "1                    1540  15233       1540  15233\n",
       "2                      69    744         69    744\n",
       "3                      21    282         21    282\n",
       "4                       0      6          0      6"
      ]
     },
     "execution_count": 32,
     "metadata": {},
     "output_type": "execute_result"
    }
   ],
   "source": [
    "data_for_empties.groupby(by=['education_id'])[['empty_income','empty_days']].agg({'empty_income':['sum','count'],'empty_days':['sum','count']})"
   ]
  },
  {
   "cell_type": "code",
   "execution_count": 33,
   "id": "51a22c45",
   "metadata": {
    "editable": true,
    "slideshow": {
     "slide_type": ""
    },
    "tags": []
   },
   "outputs": [
    {
     "data": {
      "text/html": [
       "<div>\n",
       "<style scoped>\n",
       "    .dataframe tbody tr th:only-of-type {\n",
       "        vertical-align: middle;\n",
       "    }\n",
       "\n",
       "    .dataframe tbody tr th {\n",
       "        vertical-align: top;\n",
       "    }\n",
       "\n",
       "    .dataframe thead tr th {\n",
       "        text-align: left;\n",
       "    }\n",
       "\n",
       "    .dataframe thead tr:last-of-type th {\n",
       "        text-align: right;\n",
       "    }\n",
       "</style>\n",
       "<table border=\"1\" class=\"dataframe\">\n",
       "  <thead>\n",
       "    <tr>\n",
       "      <th></th>\n",
       "      <th colspan=\"2\" halign=\"left\">empty_income</th>\n",
       "      <th colspan=\"2\" halign=\"left\">empty_days</th>\n",
       "    </tr>\n",
       "    <tr>\n",
       "      <th></th>\n",
       "      <th>sum</th>\n",
       "      <th>count</th>\n",
       "      <th>sum</th>\n",
       "      <th>count</th>\n",
       "    </tr>\n",
       "    <tr>\n",
       "      <th>family_status</th>\n",
       "      <th></th>\n",
       "      <th></th>\n",
       "      <th></th>\n",
       "      <th></th>\n",
       "    </tr>\n",
       "  </thead>\n",
       "  <tbody>\n",
       "    <tr>\n",
       "      <th>Не женат / не замужем</th>\n",
       "      <td>288</td>\n",
       "      <td>2813</td>\n",
       "      <td>288</td>\n",
       "      <td>2813</td>\n",
       "    </tr>\n",
       "    <tr>\n",
       "      <th>в разводе</th>\n",
       "      <td>112</td>\n",
       "      <td>1195</td>\n",
       "      <td>112</td>\n",
       "      <td>1195</td>\n",
       "    </tr>\n",
       "    <tr>\n",
       "      <th>вдовец / вдова</th>\n",
       "      <td>95</td>\n",
       "      <td>960</td>\n",
       "      <td>95</td>\n",
       "      <td>960</td>\n",
       "    </tr>\n",
       "    <tr>\n",
       "      <th>гражданский брак</th>\n",
       "      <td>442</td>\n",
       "      <td>4177</td>\n",
       "      <td>442</td>\n",
       "      <td>4177</td>\n",
       "    </tr>\n",
       "    <tr>\n",
       "      <th>женат / замужем</th>\n",
       "      <td>1237</td>\n",
       "      <td>12380</td>\n",
       "      <td>1237</td>\n",
       "      <td>12380</td>\n",
       "    </tr>\n",
       "  </tbody>\n",
       "</table>\n",
       "</div>"
      ],
      "text/plain": [
       "                      empty_income        empty_days       \n",
       "                               sum  count        sum  count\n",
       "family_status                                              \n",
       "Не женат / не замужем          288   2813        288   2813\n",
       "в разводе                      112   1195        112   1195\n",
       "вдовец / вдова                  95    960         95    960\n",
       "гражданский брак               442   4177        442   4177\n",
       "женат / замужем               1237  12380       1237  12380"
      ]
     },
     "execution_count": 33,
     "metadata": {},
     "output_type": "execute_result"
    }
   ],
   "source": [
    "data_for_empties.groupby(by=['family_status'])[['empty_income','empty_days']].agg({'empty_income':['sum','count'],'empty_days':['sum','count']}) "
   ]
  },
  {
   "cell_type": "code",
   "execution_count": 34,
   "id": "69748814",
   "metadata": {
    "editable": true,
    "slideshow": {
     "slide_type": ""
    },
    "tags": []
   },
   "outputs": [
    {
     "data": {
      "text/html": [
       "<div>\n",
       "<style scoped>\n",
       "    .dataframe tbody tr th:only-of-type {\n",
       "        vertical-align: middle;\n",
       "    }\n",
       "\n",
       "    .dataframe tbody tr th {\n",
       "        vertical-align: top;\n",
       "    }\n",
       "\n",
       "    .dataframe thead tr th {\n",
       "        text-align: left;\n",
       "    }\n",
       "\n",
       "    .dataframe thead tr:last-of-type th {\n",
       "        text-align: right;\n",
       "    }\n",
       "</style>\n",
       "<table border=\"1\" class=\"dataframe\">\n",
       "  <thead>\n",
       "    <tr>\n",
       "      <th></th>\n",
       "      <th colspan=\"2\" halign=\"left\">empty_income</th>\n",
       "      <th colspan=\"2\" halign=\"left\">empty_days</th>\n",
       "    </tr>\n",
       "    <tr>\n",
       "      <th></th>\n",
       "      <th>sum</th>\n",
       "      <th>count</th>\n",
       "      <th>sum</th>\n",
       "      <th>count</th>\n",
       "    </tr>\n",
       "    <tr>\n",
       "      <th>gender</th>\n",
       "      <th></th>\n",
       "      <th></th>\n",
       "      <th></th>\n",
       "      <th></th>\n",
       "    </tr>\n",
       "  </thead>\n",
       "  <tbody>\n",
       "    <tr>\n",
       "      <th>F</th>\n",
       "      <td>1484</td>\n",
       "      <td>14236</td>\n",
       "      <td>1484</td>\n",
       "      <td>14236</td>\n",
       "    </tr>\n",
       "    <tr>\n",
       "      <th>M</th>\n",
       "      <td>690</td>\n",
       "      <td>7288</td>\n",
       "      <td>690</td>\n",
       "      <td>7288</td>\n",
       "    </tr>\n",
       "    <tr>\n",
       "      <th>XNA</th>\n",
       "      <td>0</td>\n",
       "      <td>1</td>\n",
       "      <td>0</td>\n",
       "      <td>1</td>\n",
       "    </tr>\n",
       "  </tbody>\n",
       "</table>\n",
       "</div>"
      ],
      "text/plain": [
       "       empty_income        empty_days       \n",
       "                sum  count        sum  count\n",
       "gender                                      \n",
       "F              1484  14236       1484  14236\n",
       "M               690   7288        690   7288\n",
       "XNA               0      1          0      1"
      ]
     },
     "execution_count": 34,
     "metadata": {},
     "output_type": "execute_result"
    }
   ],
   "source": [
    "data_for_empties.groupby(by=['gender'])[['empty_income','empty_days']].agg({'empty_income':['sum','count'],'empty_days':['sum','count']}) "
   ]
  },
  {
   "cell_type": "markdown",
   "id": "8ee74ce2",
   "metadata": {
    "deletable": false,
    "editable": true,
    "id": "9da2ceda",
    "slideshow": {
     "slide_type": ""
    },
    "tags": []
   },
   "source": [
    "*Ответ:* При анализе пропусков по всем остальным категорим выяснилось, что доля пропусков всегда примерно равна 10% от общего количества записей по группе. Примерно каждая десятая запись, вне зависимости от содержимого строки, одновременно теряет \"days_employed\" и \"total_income\". \n",
    "<br>\n",
    "Таким образом:\n",
    "- столбцы \"days_employed\" и \"total_income\" теряют свои значения в строке одновременно, то есть, существует некая взаимосвязь между этими двумя значениями. Потеря значения в одном столбце ведет к потере значения в другом. Возможно,они поставляются автоматически из одного источника.\n",
    "- при этом, если расссматривать два данных столбца как пару, то пропуски являются <b>полностью случайными</b>. То есть, потеря значений в двух этих столбцах не коррелирует со значениями в других (не зависит ни от рода деятельности, ни от целей кредита и так далее). Так как это данные, связанные с работой, стоит предположить, что система, поставляющая данные об опыте клиентов и их ежемесячном доходе, сбоит при поставке данных в каждом десятом случае.\n",
    "- \"days_employed\" и \"total_income\" - количественные переменные и в данном случае их можно заполнить медианными значениями по столбцу income_type, так как именно род деятельности заемщика статистически наиболее тесно связан с получаемым доходом и опытом работы в сфере."
   ]
  },
  {
   "cell_type": "markdown",
   "id": "9cf21164",
   "metadata": {
    "deletable": false,
    "id": "7b0487d6",
    "slideshow": {
     "slide_type": ""
    },
    "tags": []
   },
   "source": [
    "#### 3.6 Объясним, почему заполнить пропуски медианным значением — лучшее решение для количественных переменных."
   ]
  },
  {
   "cell_type": "markdown",
   "id": "59c1c041",
   "metadata": {
    "deletable": false,
    "editable": true,
    "id": "7ecf2b8e",
    "slideshow": {
     "slide_type": ""
    },
    "tags": []
   },
   "source": [
    "*Ответ:* потому что при заполнении их средним значением, один единственный выброс может очень сильно повлиять на среднее значение (чем сильнее выброс - тем сильнее изменится среднее). При заполнении медианным значением используется \"наиболее частое\" значение, а значит появление единственного выброса не повлияет на медианное значение.\n",
    "<br>Проверим на примере столбца days_employed:"
   ]
  },
  {
   "cell_type": "code",
   "execution_count": 35,
   "id": "6a038901",
   "metadata": {
    "editable": true,
    "slideshow": {
     "slide_type": ""
    },
    "tags": []
   },
   "outputs": [
    {
     "data": {
      "text/html": [
       "<style type=\"text/css\">\n",
       "#T_6d956_row0_col0, #T_6d956_row0_col1, #T_6d956_row4_col0, #T_6d956_row4_col1, #T_6d956_row6_col2 {\n",
       "  background-color: #08306b;\n",
       "  color: #f1f1f1;\n",
       "}\n",
       "#T_6d956_row0_col2, #T_6d956_row1_col2, #T_6d956_row5_col2, #T_6d956_row7_col2 {\n",
       "  background-color: #c4daee;\n",
       "  color: #000000;\n",
       "}\n",
       "#T_6d956_row1_col0, #T_6d956_row1_col1, #T_6d956_row2_col0, #T_6d956_row2_col1, #T_6d956_row3_col0, #T_6d956_row6_col0 {\n",
       "  background-color: #f6faff;\n",
       "  color: #000000;\n",
       "}\n",
       "#T_6d956_row2_col2 {\n",
       "  background-color: #083979;\n",
       "  color: #f1f1f1;\n",
       "}\n",
       "#T_6d956_row3_col1, #T_6d956_row4_col2, #T_6d956_row5_col0, #T_6d956_row5_col1, #T_6d956_row6_col1, #T_6d956_row7_col0, #T_6d956_row7_col1 {\n",
       "  background-color: #f7fbff;\n",
       "  color: #000000;\n",
       "}\n",
       "#T_6d956_row3_col2 {\n",
       "  background-color: #1561a9;\n",
       "  color: #f1f1f1;\n",
       "}\n",
       "</style>\n",
       "<table id=\"T_6d956\">\n",
       "  <thead>\n",
       "    <tr>\n",
       "      <th class=\"blank level0\" >&nbsp;</th>\n",
       "      <th id=\"T_6d956_level0_col0\" class=\"col_heading level0 col0\" >Среднее значение days_employed</th>\n",
       "      <th id=\"T_6d956_level0_col1\" class=\"col_heading level0 col1\" >Медианное значение days_employed</th>\n",
       "      <th id=\"T_6d956_level0_col2\" class=\"col_heading level0 col2\" >Разница</th>\n",
       "    </tr>\n",
       "    <tr>\n",
       "      <th class=\"index_name level0\" >income_type</th>\n",
       "      <th class=\"blank col0\" >&nbsp;</th>\n",
       "      <th class=\"blank col1\" >&nbsp;</th>\n",
       "      <th class=\"blank col2\" >&nbsp;</th>\n",
       "    </tr>\n",
       "  </thead>\n",
       "  <tbody>\n",
       "    <tr>\n",
       "      <th id=\"T_6d956_level0_row0\" class=\"row_heading level0 row0\" >безработный</th>\n",
       "      <td id=\"T_6d956_row0_col0\" class=\"data row0 col0\" >366413.653</td>\n",
       "      <td id=\"T_6d956_row0_col1\" class=\"data row0 col1\" >366413.653</td>\n",
       "      <td id=\"T_6d956_row0_col2\" class=\"data row0 col2\" >0.000</td>\n",
       "    </tr>\n",
       "    <tr>\n",
       "      <th id=\"T_6d956_level0_row1\" class=\"row_heading level0 row1\" >в декрете</th>\n",
       "      <td id=\"T_6d956_row1_col0\" class=\"data row1 col0\" >3296.760</td>\n",
       "      <td id=\"T_6d956_row1_col1\" class=\"data row1 col1\" >3296.760</td>\n",
       "      <td id=\"T_6d956_row1_col2\" class=\"data row1 col2\" >0.000</td>\n",
       "    </tr>\n",
       "    <tr>\n",
       "      <th id=\"T_6d956_level0_row2\" class=\"row_heading level0 row2\" >госслужащий</th>\n",
       "      <td id=\"T_6d956_row2_col0\" class=\"data row2 col0\" >3332.636</td>\n",
       "      <td id=\"T_6d956_row2_col1\" class=\"data row2 col1\" >2689.137</td>\n",
       "      <td id=\"T_6d956_row2_col2\" class=\"data row2 col2\" >643.499</td>\n",
       "    </tr>\n",
       "    <tr>\n",
       "      <th id=\"T_6d956_level0_row3\" class=\"row_heading level0 row3\" >компаньон</th>\n",
       "      <td id=\"T_6d956_row3_col0\" class=\"data row3 col0\" >2062.884</td>\n",
       "      <td id=\"T_6d956_row3_col1\" class=\"data row3 col1\" >1555.947</td>\n",
       "      <td id=\"T_6d956_row3_col2\" class=\"data row3 col2\" >506.937</td>\n",
       "    </tr>\n",
       "    <tr>\n",
       "      <th id=\"T_6d956_level0_row4\" class=\"row_heading level0 row4\" >пенсионер</th>\n",
       "      <td id=\"T_6d956_row4_col0\" class=\"data row4 col0\" >365051.369</td>\n",
       "      <td id=\"T_6d956_row4_col1\" class=\"data row4 col1\" >365286.623</td>\n",
       "      <td id=\"T_6d956_row4_col2\" class=\"data row4 col2\" >-235.254</td>\n",
       "    </tr>\n",
       "    <tr>\n",
       "      <th id=\"T_6d956_level0_row5\" class=\"row_heading level0 row5\" >предприниматель</th>\n",
       "      <td id=\"T_6d956_row5_col0\" class=\"data row5 col0\" >520.848</td>\n",
       "      <td id=\"T_6d956_row5_col1\" class=\"data row5 col1\" >520.848</td>\n",
       "      <td id=\"T_6d956_row5_col2\" class=\"data row5 col2\" >0.000</td>\n",
       "    </tr>\n",
       "    <tr>\n",
       "      <th id=\"T_6d956_level0_row6\" class=\"row_heading level0 row6\" >сотрудник</th>\n",
       "      <td id=\"T_6d956_row6_col0\" class=\"data row6 col0\" >2250.942</td>\n",
       "      <td id=\"T_6d956_row6_col1\" class=\"data row6 col1\" >1572.328</td>\n",
       "      <td id=\"T_6d956_row6_col2\" class=\"data row6 col2\" >678.614</td>\n",
       "    </tr>\n",
       "    <tr>\n",
       "      <th id=\"T_6d956_level0_row7\" class=\"row_heading level0 row7\" >студент</th>\n",
       "      <td id=\"T_6d956_row7_col0\" class=\"data row7 col0\" >578.752</td>\n",
       "      <td id=\"T_6d956_row7_col1\" class=\"data row7 col1\" >578.752</td>\n",
       "      <td id=\"T_6d956_row7_col2\" class=\"data row7 col2\" >0.000</td>\n",
       "    </tr>\n",
       "  </tbody>\n",
       "</table>\n"
      ],
      "text/plain": [
       "<pandas.io.formats.style.Styler at 0x1bf964b5ad0>"
      ]
     },
     "metadata": {},
     "output_type": "display_data"
    }
   ],
   "source": [
    "agg_temp = data.pivot_table(index='income_type', values='days_employed', aggfunc=['mean','median'])\n",
    "agg_temp['diff'] = agg_temp['mean'] - agg_temp['median'] \n",
    "agg_temp.columns = ['Среднее значение days_employed', 'Медианное значение days_employed','Разница']\n",
    "# Оформим таблицу цветным градиентом, но можно ее вывести и просто display(data_temp)\n",
    "display(agg_temp.style.format(\"{:.3f}\").background_gradient(cmap='Blues', axis=0))\n"
   ]
  },
  {
   "cell_type": "markdown",
   "id": "7aa872be",
   "metadata": {
    "editable": true,
    "slideshow": {
     "slide_type": ""
    },
    "tags": []
   },
   "source": [
    "Видим, что по категориям \"госслужащий\" и \"сотрудник\" наибольшая разница между средним и медианой. Значит, есть значительные выбросы в данных. Визуализируем это на графике:"
   ]
  },
  {
   "cell_type": "code",
   "execution_count": 36,
   "id": "3489ded8",
   "metadata": {
    "editable": true,
    "slideshow": {
     "slide_type": ""
    },
    "tags": []
   },
   "outputs": [
    {
     "data": {
      "image/png": "[encoded data removed]",
      "text/plain": [
       "<Figure size 640x480 with 1 Axes>"
      ]
     },
     "metadata": {},
     "output_type": "display_data"
    }
   ],
   "source": [
    "mean_data = data[data['income_type']=='госслужащий']\n",
    "sns.scatterplot(data=mean_data, x=mean_data.index, y = mean_data['days_employed']);"
   ]
  },
  {
   "cell_type": "markdown",
   "id": "a903f0c6",
   "metadata": {
    "editable": true,
    "slideshow": {
     "slide_type": ""
    },
    "tags": []
   },
   "source": [
    "Визуально на графике видно, что наиболее частое значение days_employed - в районе чуть выше 2тыс., но есть отдельные выбросы (значения, достигающие 14тыс.), которые и влияют на расчет среднего."
   ]
  },
  {
   "cell_type": "markdown",
   "id": "289e5a74",
   "metadata": {
    "deletable": false,
    "editable": false,
    "id": "6db5255a",
    "slideshow": {
     "slide_type": ""
    },
    "tags": []
   },
   "source": [
    "### Шаг 4: общий вывод."
   ]
  },
  {
   "cell_type": "markdown",
   "id": "4713892e",
   "metadata": {
    "deletable": false,
    "editable": true,
    "id": "bad65432",
    "slideshow": {
     "slide_type": ""
    },
    "tags": []
   },
   "source": [
    "В ходе анализа было проведено исследование надежности заемщиков.\n",
    "\n",
    "<br><b>Исходные данные </b> представлены выборкой в 21,5тыс.строк со следующими данными о заемщиках и их кредитах:\n",
    "- количество детей в семье\n",
    "- общий трудовой стаж в днях\n",
    "- возраст клиента в годах\n",
    "- уровень образования клиента\n",
    "- идентификатор уровня образования\n",
    "- семейное положение\n",
    "- идентификатор семейного положения\n",
    "- пол клиента\n",
    "- тип занятости\n",
    "- имел ли задолженность по возврату кредитов\n",
    "- ежемесячный доход\n",
    "- цель получения кредита\n",
    "\n",
    "<br><b>Анализ исходных данных выявил:</b>\n",
    "-   в двух столбцах (общий трудовой стаж в днях и ежемесячный доход) примерно в 10% случаев есть пропуски в данных. Данные пропуски являются полностью случайными по отношению к другим данным в таблице. Однако, во всех случаях оба столбца имеют пропуски одновременно, что говорит о тесной взаимосвязи двух данных столбцов. Для корректировки всех последующих выборок необходимо более поставить задачу техническому отделу: изучить источники, из которых данные столбцы заполняются (если автоматически из сторонней системы - проверить ее работу, если пользователь заполняет их самостоятельно в форме на сайте - проверить, нет ли сбоев в работе формы).\n",
    "- так как оба показателя количественные,а также в выборке есть информация о типе занятости заемщика, то пропуски могут быть заполнены медианным значением по каждому роду деятельности. Медианное значение в противовес среднему было выбрано в связи с тем, что медиана менее чувствительна к случайным выбросам в данных, а столбцы общий трудовой стаж в днях и ежемесячный доход как раз содержат подобные выбросы.\n",
    "- также в ходе предобработки данных были исправлены, либо удалены аномальные значения: отрицательный трудовой стаж, а также отрицательное либо подозрительно большое количество детей (20) у заемщика. Отрицательный стаж был преобразован в положительный. Строки с некорректным количеством детей были исключены из выборки.\n",
    "- типы и содержимое некоторых столбцов были приведены к наиболее удобным для исследования: ежемесячный доход преобразован в целое число, информация об уровне образования заемщика - стандартизирована (приведена к записи в нижнем регистре), что позволило исключить неявные дубликаты.\n",
    "<br><b>Рекомендации к улучшению сбора данных: в первую очередь проверить технические проблемы, ведущие к пропускам и отрицательным значениям в столбцах с уровнем дохода и стажем, а также стоит добавить ограничение на поле с количеством детей, чтобы исключить ввод аномальных значений. При обработке информации об уровне образования  можно сделать приведение к нижнему регистру сразу на уровне загрузки данных.</b>\n",
    "\n",
    "\n",
    "<br><b>Категоризация данных:</b>\n",
    "<br>Для повышения удобства анализа, данные по некоторым столбцам были категоризированы, то есть обобщены в группы:\n",
    "- по уровню ежемесячного дохода заемщики были распределены по группам: A,B,C,D,E\n",
    "- по цели кредита, заявки были сгруппированы в категории: 'операции с автомобилем', 'операции с недвижимостью', 'проведение свадьбы', 'получение образования'.\n",
    "\n",
    "<br><b>Исследовательский анализ выявил:</b>\n",
    "<br><b>1.существует зависимость надежности заемщика от количества имеющихся детей:</b>\n",
    "- для групп с 0-2 детьми есть прямая зависмость между кол-вом детей и риском задолженности.Вероятно, с ростом количества детей, растет и финансовая нагрузка на заемщика, в связи с чем и возможны долги. \n",
    "- на группы с 3 и более детьми стоит смотреть отдельно, т.к. группы небольшие и репрезентативность выборок под вопросом. Но если верить представленным данным, то в этих категориях зависимости между количеством детей и риском задолженности нет.\n",
    "\n",
    "<br><b>2.существует зависимость надежности заемщика от семейного положения:</b>    \n",
    "- замужние люди (либо побывавшие в официальном браке - вдовцы и в разводе), менее склонны к задолженности, чем те люди, которые \"не женаты\\не замужем\", либо находятся в гражданском браке. \n",
    "\n",
    "<br><b>3.существует зависимость надежности заемщика от уровня дохода:</b> \n",
    "- пик процента должников приходится на уровни дохода до 30тыс.(категория Е). Очевидно, что минимальный уровень дохода ведет к высоким рискам задолженности по кредиту.\n",
    "- 5люди с доходом от 30 до 50тыс. являются наиболее дисциплинированны в выплатах - они уже обеспечены необходимым им доходом, но все еще аккуратно относятся к расходам и ведению бюджета, поэтому у них минимальный процент должников по группе.\n",
    "- далее с повышением дохода зависимость волнообразная - процент должников по категориям сначала снижается, затем повышается. Вероятно, при переходе на новый уровень дохода люди с одной стороны, имеют больше средств к выплатам (и поначалу снижают процент задолженности), но,с другой стороны, в какой-то момент люди начинают брать кредиты на бОльшие суммы (к сожалению, данных о сумме кредитов у нас нет, поэтому подтвердить гипотезу не можем), что ведет к новым задолженностям. Таким образом, происходит борьба двух факторов: повышение доходов и повышение потребительских аппетитов заемщиков.\n",
    "\n",
    "<br><b>4.существует зависимость надежности заемщика от целей кредита:</b> \n",
    "- Заемщики, берущие кредит на операции с недвижимостью или проведение свадьбы менее склонны к просрочке, чем - заемщики, берущие кредит на оперции с автомобилем и получение образования.\n",
    "- процент должников в категориях \"операции с недвижимостью\" и \"получение образования\" практически идентичен\n",
    "- наименьший процент должников в категории \"операции с недвижимостью\"\n",
    "    \n",
    "<b>Таким образом, в целом можно сформулировать портрет добросовестного заемщика: это женатые и замужние без детей с уровнем дохода в категориях B и D, которые берут кредит на операции с недвижимостью.\n",
    "<br> При этом, наиболее рискованная группа заемщиков для банка - это незамужние с 2детьми и доходом в категориях E,C,A, берущие кредит на операции с автомобилем или получение образования. </b>"
   ]
  },
  {
   "cell_type": "code",
   "execution_count": null,
   "id": "2480f1dd-f899-4528-9f57-869b7423c87a",
   "metadata": {
    "editable": true,
    "slideshow": {
     "slide_type": ""
    },
    "tags": []
   },
   "outputs": [],
   "source": []
  }
 ],
 "metadata": {
  "ExecuteTimeLog": [
   {
    "duration": 473,
    "start_time": "2023-08-29T18:34:50.030Z"
   },
   {
    "duration": 22,
    "start_time": "2023-08-29T18:34:54.375Z"
   },
   {
    "duration": 19,
    "start_time": "2023-08-29T18:35:20.300Z"
   },
   {
    "duration": 7,
    "start_time": "2023-08-29T18:38:07.209Z"
   },
   {
    "duration": 75,
    "start_time": "2023-08-29T18:41:46.889Z"
   },
   {
    "duration": 9,
    "start_time": "2023-08-29T18:41:55.143Z"
   },
   {
    "duration": 6,
    "start_time": "2023-08-29T18:42:03.944Z"
   },
   {
    "duration": 6,
    "start_time": "2023-08-29T18:42:14.497Z"
   },
   {
    "duration": 8,
    "start_time": "2023-08-29T18:42:54.736Z"
   },
   {
    "duration": 6,
    "start_time": "2023-08-29T18:43:01.771Z"
   },
   {
    "duration": 4,
    "start_time": "2023-08-29T18:46:49.589Z"
   },
   {
    "duration": 8,
    "start_time": "2023-08-29T18:47:34.821Z"
   },
   {
    "duration": 7,
    "start_time": "2023-08-29T18:48:49.287Z"
   },
   {
    "duration": 1268,
    "start_time": "2023-08-29T18:51:21.801Z"
   },
   {
    "duration": 1267,
    "start_time": "2023-08-29T18:52:29.277Z"
   },
   {
    "duration": 22,
    "start_time": "2023-08-29T18:53:24.200Z"
   },
   {
    "duration": 26,
    "start_time": "2023-08-29T18:53:50.936Z"
   },
   {
    "duration": 17,
    "start_time": "2023-08-29T18:54:15.816Z"
   },
   {
    "duration": 15,
    "start_time": "2023-08-29T18:55:58.728Z"
   },
   {
    "duration": 73,
    "start_time": "2023-08-29T18:56:09.400Z"
   },
   {
    "duration": 13,
    "start_time": "2023-08-29T18:56:15.825Z"
   },
   {
    "duration": 956,
    "start_time": "2023-08-29T19:00:48.626Z"
   },
   {
    "duration": 26,
    "start_time": "2023-08-29T19:01:05.568Z"
   },
   {
    "duration": 24,
    "start_time": "2023-08-29T19:01:51.166Z"
   },
   {
    "duration": 20,
    "start_time": "2023-08-29T19:03:11.243Z"
   },
   {
    "duration": 25,
    "start_time": "2023-08-29T19:04:17.223Z"
   },
   {
    "duration": 28,
    "start_time": "2023-08-29T19:08:29.029Z"
   },
   {
    "duration": 152,
    "start_time": "2023-08-29T19:09:25.276Z"
   },
   {
    "duration": 65,
    "start_time": "2023-08-29T19:12:21.586Z"
   },
   {
    "duration": 218,
    "start_time": "2023-08-29T19:12:40.679Z"
   },
   {
    "duration": 147,
    "start_time": "2023-08-29T19:21:39.816Z"
   },
   {
    "duration": 151,
    "start_time": "2023-08-29T19:23:45.051Z"
   },
   {
    "duration": 215,
    "start_time": "2023-08-29T19:41:46.822Z"
   },
   {
    "duration": 187,
    "start_time": "2023-08-29T19:41:59.430Z"
   },
   {
    "duration": 170,
    "start_time": "2023-08-29T19:48:02.264Z"
   },
   {
    "duration": 67,
    "start_time": "2023-08-29T20:10:44.297Z"
   },
   {
    "duration": 226,
    "start_time": "2023-08-29T20:10:49.256Z"
   },
   {
    "duration": 142,
    "start_time": "2023-08-29T20:13:20.091Z"
   },
   {
    "duration": 144,
    "start_time": "2023-08-29T20:14:12.907Z"
   },
   {
    "duration": 148,
    "start_time": "2023-08-29T20:14:15.440Z"
   },
   {
    "duration": 146,
    "start_time": "2023-08-29T20:15:27.182Z"
   },
   {
    "duration": 21,
    "start_time": "2023-08-29T20:16:48.304Z"
   },
   {
    "duration": 154,
    "start_time": "2023-08-29T20:18:44.438Z"
   },
   {
    "duration": 141,
    "start_time": "2023-08-29T20:19:01.852Z"
   },
   {
    "duration": 13,
    "start_time": "2023-08-29T20:20:27.277Z"
   },
   {
    "duration": 27,
    "start_time": "2023-08-29T20:25:52.309Z"
   },
   {
    "duration": 174,
    "start_time": "2023-08-29T20:26:01.953Z"
   },
   {
    "duration": 188,
    "start_time": "2023-08-29T20:29:29.755Z"
   },
   {
    "duration": 1780,
    "start_time": "2023-08-29T20:36:19.470Z"
   },
   {
    "duration": 1407,
    "start_time": "2023-08-29T20:36:56.342Z"
   },
   {
    "duration": 38,
    "start_time": "2023-08-29T20:37:16.131Z"
   },
   {
    "duration": 170,
    "start_time": "2023-08-29T20:37:27.362Z"
   },
   {
    "duration": 165,
    "start_time": "2023-08-29T20:37:36.095Z"
   },
   {
    "duration": 15,
    "start_time": "2023-08-29T21:03:38.083Z"
   },
   {
    "duration": 14,
    "start_time": "2023-08-29T21:03:50.630Z"
   },
   {
    "duration": 3946,
    "start_time": "2023-08-29T21:04:04.086Z"
   },
   {
    "duration": 136,
    "start_time": "2023-08-29T21:04:44.796Z"
   },
   {
    "duration": 779,
    "start_time": "2023-08-29T21:06:21.324Z"
   },
   {
    "duration": 737,
    "start_time": "2023-08-29T21:08:59.603Z"
   },
   {
    "duration": 19,
    "start_time": "2023-08-29T21:10:15.107Z"
   },
   {
    "duration": 11,
    "start_time": "2023-08-29T21:10:34.333Z"
   },
   {
    "duration": 18,
    "start_time": "2023-08-29T21:11:10.701Z"
   },
   {
    "duration": 16,
    "start_time": "2023-08-29T21:30:00.050Z"
   },
   {
    "duration": 139,
    "start_time": "2023-08-29T21:31:24.408Z"
   },
   {
    "duration": 19,
    "start_time": "2023-08-29T21:31:30.201Z"
   },
   {
    "duration": 841,
    "start_time": "2023-08-29T21:34:02.636Z"
   },
   {
    "duration": 76,
    "start_time": "2023-08-29T21:37:33.886Z"
   },
   {
    "duration": 51,
    "start_time": "2023-08-29T21:38:25.487Z"
   },
   {
    "duration": 7,
    "start_time": "2023-08-29T21:40:29.275Z"
   },
   {
    "duration": 45,
    "start_time": "2023-08-29T21:40:31.852Z"
   },
   {
    "duration": 2,
    "start_time": "2023-08-29T21:41:35.952Z"
   },
   {
    "duration": 58,
    "start_time": "2023-08-29T21:41:37.836Z"
   },
   {
    "duration": 77,
    "start_time": "2023-08-29T21:43:00.858Z"
   },
   {
    "duration": 30,
    "start_time": "2023-08-29T21:43:26.676Z"
   },
   {
    "duration": 31,
    "start_time": "2023-08-29T21:43:37.658Z"
   },
   {
    "duration": 42,
    "start_time": "2023-08-29T21:45:26.679Z"
   },
   {
    "duration": 34,
    "start_time": "2023-08-29T21:46:43.957Z"
   },
   {
    "duration": 33,
    "start_time": "2023-08-29T21:47:19.864Z"
   },
   {
    "duration": 44,
    "start_time": "2023-08-29T21:47:56.809Z"
   },
   {
    "duration": 37,
    "start_time": "2023-08-29T21:48:08.386Z"
   },
   {
    "duration": 131,
    "start_time": "2023-08-29T21:51:07.509Z"
   },
   {
    "duration": 51,
    "start_time": "2023-08-29T21:51:19.594Z"
   },
   {
    "duration": 194,
    "start_time": "2023-08-29T21:56:47.543Z"
   },
   {
    "duration": 215,
    "start_time": "2023-08-29T21:57:05.315Z"
   },
   {
    "duration": 77,
    "start_time": "2023-08-29T21:57:28.493Z"
   },
   {
    "duration": 18,
    "start_time": "2023-08-29T21:57:28.573Z"
   },
   {
    "duration": 46,
    "start_time": "2023-08-29T21:57:28.592Z"
   },
   {
    "duration": 17,
    "start_time": "2023-08-29T21:57:28.640Z"
   },
   {
    "duration": 42,
    "start_time": "2023-08-29T21:57:28.660Z"
   },
   {
    "duration": 4,
    "start_time": "2023-08-29T21:57:28.703Z"
   },
   {
    "duration": 31,
    "start_time": "2023-08-29T21:57:28.708Z"
   },
   {
    "duration": 4,
    "start_time": "2023-08-29T21:57:28.741Z"
   },
   {
    "duration": 7,
    "start_time": "2023-08-29T21:57:28.747Z"
   },
   {
    "duration": 12,
    "start_time": "2023-08-29T21:57:28.755Z"
   },
   {
    "duration": 61,
    "start_time": "2023-08-29T21:57:28.768Z"
   },
   {
    "duration": 15,
    "start_time": "2023-08-29T21:57:28.831Z"
   },
   {
    "duration": 13,
    "start_time": "2023-08-29T21:57:28.848Z"
   },
   {
    "duration": 27,
    "start_time": "2023-08-29T21:57:28.864Z"
   },
   {
    "duration": 48,
    "start_time": "2023-08-29T21:57:28.892Z"
   },
   {
    "duration": 18,
    "start_time": "2023-08-29T21:57:28.942Z"
   },
   {
    "duration": 5,
    "start_time": "2023-08-29T21:57:28.961Z"
   },
   {
    "duration": 22,
    "start_time": "2023-08-29T21:57:28.968Z"
   },
   {
    "duration": 28,
    "start_time": "2023-08-29T21:57:28.991Z"
   },
   {
    "duration": 6,
    "start_time": "2023-08-29T21:57:29.026Z"
   },
   {
    "duration": 23,
    "start_time": "2023-08-29T21:57:29.033Z"
   },
   {
    "duration": 163,
    "start_time": "2023-08-29T21:57:29.058Z"
   },
   {
    "duration": 132,
    "start_time": "2023-08-29T21:57:29.223Z"
   },
   {
    "duration": 164,
    "start_time": "2023-08-29T21:57:29.356Z"
   },
   {
    "duration": 152,
    "start_time": "2023-08-29T21:57:29.522Z"
   },
   {
    "duration": 194,
    "start_time": "2023-08-29T21:57:31.149Z"
   },
   {
    "duration": 185,
    "start_time": "2023-08-29T21:58:35.873Z"
   },
   {
    "duration": 174,
    "start_time": "2023-08-29T21:59:07.709Z"
   },
   {
    "duration": 180,
    "start_time": "2023-08-29T21:59:38.935Z"
   },
   {
    "duration": 193,
    "start_time": "2023-08-29T22:00:16.491Z"
   },
   {
    "duration": 33,
    "start_time": "2023-08-29T22:03:11.954Z"
   },
   {
    "duration": 28,
    "start_time": "2023-08-29T22:03:52.035Z"
   },
   {
    "duration": 239,
    "start_time": "2023-08-29T22:05:25.629Z"
   },
   {
    "duration": 369,
    "start_time": "2023-08-29T22:07:49.691Z"
   },
   {
    "duration": 241,
    "start_time": "2023-08-29T22:09:13.435Z"
   },
   {
    "duration": 267,
    "start_time": "2023-08-29T22:10:32.194Z"
   },
   {
    "duration": 261,
    "start_time": "2023-08-29T22:13:22.983Z"
   },
   {
    "duration": 181,
    "start_time": "2023-08-29T22:18:18.175Z"
   },
   {
    "duration": 21,
    "start_time": "2023-08-29T22:22:33.599Z"
   },
   {
    "duration": 188,
    "start_time": "2023-08-29T22:23:07.421Z"
   },
   {
    "duration": 275,
    "start_time": "2023-08-29T22:36:12.848Z"
   },
   {
    "duration": 147,
    "start_time": "2023-08-29T22:59:55.036Z"
   },
   {
    "duration": 142,
    "start_time": "2023-08-29T23:00:00.846Z"
   },
   {
    "duration": 147,
    "start_time": "2023-08-29T23:03:16.996Z"
   },
   {
    "duration": 6,
    "start_time": "2023-08-29T23:15:58.652Z"
   },
   {
    "duration": 8,
    "start_time": "2023-08-29T23:16:17.819Z"
   },
   {
    "duration": 11,
    "start_time": "2023-08-29T23:16:29.520Z"
   },
   {
    "duration": 16,
    "start_time": "2023-08-29T23:16:45.143Z"
   },
   {
    "duration": 181,
    "start_time": "2023-08-29T23:17:54.792Z"
   },
   {
    "duration": 214,
    "start_time": "2023-08-29T23:17:54.975Z"
   },
   {
    "duration": 301,
    "start_time": "2023-08-29T23:17:55.191Z"
   },
   {
    "duration": 164,
    "start_time": "2023-08-29T23:17:55.494Z"
   },
   {
    "duration": 15,
    "start_time": "2023-08-29T23:17:55.660Z"
   },
   {
    "duration": 192,
    "start_time": "2023-08-29T23:18:05.340Z"
   },
   {
    "duration": 333,
    "start_time": "2023-08-29T23:18:17.157Z"
   },
   {
    "duration": 229,
    "start_time": "2023-08-29T23:18:44.222Z"
   },
   {
    "duration": 14,
    "start_time": "2023-08-29T23:19:28.754Z"
   },
   {
    "duration": 91,
    "start_time": "2023-08-29T23:20:24.179Z"
   },
   {
    "duration": 84,
    "start_time": "2023-08-29T23:21:40.639Z"
   },
   {
    "duration": 73,
    "start_time": "2023-08-29T23:23:08.607Z"
   },
   {
    "duration": 88,
    "start_time": "2023-08-29T23:24:07.206Z"
   },
   {
    "duration": 79,
    "start_time": "2023-08-29T23:24:36.270Z"
   },
   {
    "duration": 74,
    "start_time": "2023-08-29T23:26:35.624Z"
   },
   {
    "duration": 75,
    "start_time": "2023-08-29T23:26:56.724Z"
   },
   {
    "duration": 71,
    "start_time": "2023-08-29T23:28:57.527Z"
   },
   {
    "duration": 86,
    "start_time": "2023-08-29T23:36:58.266Z"
   },
   {
    "duration": 87,
    "start_time": "2023-08-29T23:37:25.474Z"
   },
   {
    "duration": 86,
    "start_time": "2023-08-29T23:37:53.289Z"
   },
   {
    "duration": 88,
    "start_time": "2023-08-29T23:39:30.501Z"
   },
   {
    "duration": 18,
    "start_time": "2023-08-29T23:47:48.074Z"
   },
   {
    "duration": 18,
    "start_time": "2023-08-29T23:49:13.085Z"
   },
   {
    "duration": 16,
    "start_time": "2023-08-29T23:52:07.374Z"
   },
   {
    "duration": 15,
    "start_time": "2023-08-29T23:52:47.578Z"
   },
   {
    "duration": 16,
    "start_time": "2023-08-29T23:53:36.584Z"
   },
   {
    "duration": 13,
    "start_time": "2023-08-29T23:57:03.268Z"
   },
   {
    "duration": 751,
    "start_time": "2023-08-30T10:45:30.066Z"
   },
   {
    "duration": 37,
    "start_time": "2023-08-30T10:45:30.820Z"
   },
   {
    "duration": 67,
    "start_time": "2023-08-30T10:45:30.859Z"
   },
   {
    "duration": 60,
    "start_time": "2023-08-30T10:45:30.928Z"
   },
   {
    "duration": 62,
    "start_time": "2023-08-30T10:45:30.992Z"
   },
   {
    "duration": 21,
    "start_time": "2023-08-30T10:45:31.056Z"
   },
   {
    "duration": 48,
    "start_time": "2023-08-30T10:45:31.079Z"
   },
   {
    "duration": 55,
    "start_time": "2023-08-30T10:45:31.128Z"
   },
   {
    "duration": 41,
    "start_time": "2023-08-30T10:45:31.185Z"
   },
   {
    "duration": 24,
    "start_time": "2023-08-30T10:45:31.228Z"
   },
   {
    "duration": 65,
    "start_time": "2023-08-30T10:45:31.253Z"
   },
   {
    "duration": 18,
    "start_time": "2023-08-30T10:45:31.320Z"
   },
   {
    "duration": 36,
    "start_time": "2023-08-30T10:45:31.339Z"
   },
   {
    "duration": 21,
    "start_time": "2023-08-30T10:45:31.380Z"
   },
   {
    "duration": 48,
    "start_time": "2023-08-30T10:45:31.405Z"
   },
   {
    "duration": 38,
    "start_time": "2023-08-30T10:45:31.457Z"
   },
   {
    "duration": 32,
    "start_time": "2023-08-30T10:45:31.498Z"
   },
   {
    "duration": 61,
    "start_time": "2023-08-30T10:45:31.531Z"
   },
   {
    "duration": 11,
    "start_time": "2023-08-30T10:45:31.594Z"
   },
   {
    "duration": 34,
    "start_time": "2023-08-30T10:45:31.607Z"
   },
   {
    "duration": 47,
    "start_time": "2023-08-30T10:45:31.643Z"
   },
   {
    "duration": 1318,
    "start_time": "2023-08-30T10:45:31.691Z"
   },
   {
    "duration": 145,
    "start_time": "2023-08-30T10:45:33.011Z"
   },
   {
    "duration": 168,
    "start_time": "2023-08-30T10:45:33.157Z"
   },
   {
    "duration": 156,
    "start_time": "2023-08-30T10:45:33.327Z"
   },
   {
    "duration": 184,
    "start_time": "2023-08-30T10:45:33.486Z"
   },
   {
    "duration": 232,
    "start_time": "2023-08-30T10:45:33.672Z"
   },
   {
    "duration": 265,
    "start_time": "2023-08-30T10:45:33.907Z"
   },
   {
    "duration": 200,
    "start_time": "2023-08-30T10:45:34.176Z"
   },
   {
    "duration": 106,
    "start_time": "2023-08-30T10:45:34.377Z"
   },
   {
    "duration": 42,
    "start_time": "2023-08-30T10:45:34.485Z"
   },
   {
    "duration": 71,
    "start_time": "2023-08-30T11:03:57.160Z"
   },
   {
    "duration": 467,
    "start_time": "2023-08-30T11:04:25.603Z"
   },
   {
    "duration": 36,
    "start_time": "2023-08-30T11:04:26.077Z"
   },
   {
    "duration": 19,
    "start_time": "2023-08-30T11:04:26.115Z"
   },
   {
    "duration": 11,
    "start_time": "2023-08-30T11:04:26.136Z"
   },
   {
    "duration": 50,
    "start_time": "2023-08-30T11:04:26.154Z"
   },
   {
    "duration": 4,
    "start_time": "2023-08-30T11:04:26.208Z"
   },
   {
    "duration": 13,
    "start_time": "2023-08-30T11:04:26.213Z"
   },
   {
    "duration": 5,
    "start_time": "2023-08-30T11:04:26.228Z"
   },
   {
    "duration": 12,
    "start_time": "2023-08-30T11:04:26.264Z"
   },
   {
    "duration": 16,
    "start_time": "2023-08-30T11:04:26.279Z"
   },
   {
    "duration": 37,
    "start_time": "2023-08-30T11:04:26.297Z"
   },
   {
    "duration": 12,
    "start_time": "2023-08-30T11:04:26.335Z"
   },
   {
    "duration": 11,
    "start_time": "2023-08-30T11:04:26.351Z"
   },
   {
    "duration": 28,
    "start_time": "2023-08-30T11:04:26.372Z"
   },
   {
    "duration": 26,
    "start_time": "2023-08-30T11:04:26.403Z"
   },
   {
    "duration": 19,
    "start_time": "2023-08-30T11:04:26.431Z"
   },
   {
    "duration": 9,
    "start_time": "2023-08-30T11:04:26.457Z"
   },
   {
    "duration": 14,
    "start_time": "2023-08-30T11:04:26.470Z"
   },
   {
    "duration": 12,
    "start_time": "2023-08-30T11:04:26.488Z"
   },
   {
    "duration": 11,
    "start_time": "2023-08-30T11:04:26.504Z"
   },
   {
    "duration": 19,
    "start_time": "2023-08-30T11:04:26.517Z"
   },
   {
    "duration": 957,
    "start_time": "2023-08-30T11:04:26.538Z"
   },
   {
    "duration": 84,
    "start_time": "2023-08-30T11:04:27.496Z"
   },
   {
    "duration": 143,
    "start_time": "2023-08-30T11:04:27.581Z"
   },
   {
    "duration": 160,
    "start_time": "2023-08-30T11:04:27.725Z"
   },
   {
    "duration": 151,
    "start_time": "2023-08-30T11:04:27.887Z"
   },
   {
    "duration": 183,
    "start_time": "2023-08-30T11:04:28.041Z"
   },
   {
    "duration": 244,
    "start_time": "2023-08-30T11:04:28.226Z"
   },
   {
    "duration": 244,
    "start_time": "2023-08-30T11:04:28.473Z"
   },
   {
    "duration": 281,
    "start_time": "2023-08-30T11:04:28.719Z"
   },
   {
    "duration": 256,
    "start_time": "2023-08-30T11:04:29.001Z"
   },
   {
    "duration": 98,
    "start_time": "2023-08-30T11:04:29.258Z"
   },
   {
    "duration": 1098,
    "start_time": "2023-08-30T20:47:37.969Z"
   },
   {
    "duration": 33,
    "start_time": "2023-08-30T20:47:39.070Z"
   },
   {
    "duration": 29,
    "start_time": "2023-08-30T20:47:39.106Z"
   },
   {
    "duration": 17,
    "start_time": "2023-08-30T20:47:39.137Z"
   },
   {
    "duration": 77,
    "start_time": "2023-08-30T20:47:39.157Z"
   },
   {
    "duration": 4,
    "start_time": "2023-08-30T20:47:39.237Z"
   },
   {
    "duration": 10,
    "start_time": "2023-08-30T20:47:39.242Z"
   },
   {
    "duration": 5,
    "start_time": "2023-08-30T20:47:39.253Z"
   },
   {
    "duration": 10,
    "start_time": "2023-08-30T20:47:39.281Z"
   },
   {
    "duration": 9,
    "start_time": "2023-08-30T20:47:39.293Z"
   },
   {
    "duration": 41,
    "start_time": "2023-08-30T20:47:39.304Z"
   },
   {
    "duration": 38,
    "start_time": "2023-08-30T20:47:39.347Z"
   },
   {
    "duration": 7,
    "start_time": "2023-08-30T20:47:39.387Z"
   },
   {
    "duration": 14,
    "start_time": "2023-08-30T20:47:39.398Z"
   },
   {
    "duration": 23,
    "start_time": "2023-08-30T20:47:39.413Z"
   },
   {
    "duration": 48,
    "start_time": "2023-08-30T20:47:39.438Z"
   },
   {
    "duration": 4,
    "start_time": "2023-08-30T20:47:39.488Z"
   },
   {
    "duration": 14,
    "start_time": "2023-08-30T20:47:39.493Z"
   },
   {
    "duration": 14,
    "start_time": "2023-08-30T20:47:39.509Z"
   },
   {
    "duration": 5,
    "start_time": "2023-08-30T20:47:39.525Z"
   },
   {
    "duration": 14,
    "start_time": "2023-08-30T20:47:39.532Z"
   },
   {
    "duration": 85,
    "start_time": "2023-08-30T20:50:41.673Z"
   },
   {
    "duration": 1283,
    "start_time": "2023-08-30T20:50:58.423Z"
   },
   {
    "duration": 102,
    "start_time": "2023-08-30T20:51:06.612Z"
   },
   {
    "duration": 179,
    "start_time": "2023-08-30T20:51:21.677Z"
   },
   {
    "duration": 152,
    "start_time": "2023-08-30T20:51:49.214Z"
   },
   {
    "duration": 217,
    "start_time": "2023-08-30T20:54:37.638Z"
   },
   {
    "duration": 174,
    "start_time": "2023-08-30T20:54:49.227Z"
   },
   {
    "duration": 169,
    "start_time": "2023-08-30T20:55:15.956Z"
   },
   {
    "duration": 274,
    "start_time": "2023-08-30T20:55:52.708Z"
   },
   {
    "duration": 191,
    "start_time": "2023-08-30T20:56:02.617Z"
   },
   {
    "duration": 161,
    "start_time": "2023-08-30T20:56:22.100Z"
   },
   {
    "duration": 188,
    "start_time": "2023-08-30T21:32:44.863Z"
   },
   {
    "duration": 167,
    "start_time": "2023-08-30T21:37:27.510Z"
   },
   {
    "duration": 175,
    "start_time": "2023-08-30T21:40:41.448Z"
   },
   {
    "duration": 3,
    "start_time": "2023-08-30T21:43:16.304Z"
   },
   {
    "duration": 3,
    "start_time": "2023-08-30T21:44:44.782Z"
   },
   {
    "duration": 4,
    "start_time": "2023-08-30T21:53:07.509Z"
   },
   {
    "duration": 32,
    "start_time": "2023-08-30T21:54:38.309Z"
   },
   {
    "duration": 181,
    "start_time": "2023-08-30T21:59:08.633Z"
   },
   {
    "duration": 40,
    "start_time": "2023-08-30T22:04:28.021Z"
   },
   {
    "duration": 1336,
    "start_time": "2023-08-30T22:15:05.192Z"
   },
   {
    "duration": 1096,
    "start_time": "2023-08-30T22:15:43.388Z"
   },
   {
    "duration": 148,
    "start_time": "2023-08-30T22:17:44.156Z"
   },
   {
    "duration": 45,
    "start_time": "2023-08-30T22:47:23.880Z"
   },
   {
    "duration": 184,
    "start_time": "2023-08-30T22:49:08.273Z"
   },
   {
    "duration": 678,
    "start_time": "2023-08-31T08:15:18.409Z"
   },
   {
    "duration": 21,
    "start_time": "2023-08-31T08:15:19.088Z"
   },
   {
    "duration": 15,
    "start_time": "2023-08-31T08:15:19.110Z"
   },
   {
    "duration": 12,
    "start_time": "2023-08-31T08:15:19.127Z"
   },
   {
    "duration": 37,
    "start_time": "2023-08-31T08:15:19.141Z"
   },
   {
    "duration": 3,
    "start_time": "2023-08-31T08:15:19.180Z"
   },
   {
    "duration": 16,
    "start_time": "2023-08-31T08:15:19.184Z"
   },
   {
    "duration": 7,
    "start_time": "2023-08-31T08:15:19.201Z"
   },
   {
    "duration": 8,
    "start_time": "2023-08-31T08:15:19.209Z"
   },
   {
    "duration": 5,
    "start_time": "2023-08-31T08:15:19.218Z"
   },
   {
    "duration": 44,
    "start_time": "2023-08-31T08:15:19.224Z"
   },
   {
    "duration": 8,
    "start_time": "2023-08-31T08:15:19.270Z"
   },
   {
    "duration": 5,
    "start_time": "2023-08-31T08:15:19.279Z"
   },
   {
    "duration": 12,
    "start_time": "2023-08-31T08:15:19.286Z"
   },
   {
    "duration": 17,
    "start_time": "2023-08-31T08:15:19.299Z"
   },
   {
    "duration": 37,
    "start_time": "2023-08-31T08:15:19.317Z"
   },
   {
    "duration": 3,
    "start_time": "2023-08-31T08:15:19.356Z"
   },
   {
    "duration": 11,
    "start_time": "2023-08-31T08:15:19.361Z"
   },
   {
    "duration": 5,
    "start_time": "2023-08-31T08:15:19.374Z"
   },
   {
    "duration": 3,
    "start_time": "2023-08-31T08:15:19.380Z"
   },
   {
    "duration": 21,
    "start_time": "2023-08-31T08:15:19.385Z"
   },
   {
    "duration": 1118,
    "start_time": "2023-08-31T08:15:19.407Z"
   },
   {
    "duration": 35,
    "start_time": "2023-08-31T08:15:20.527Z"
   },
   {
    "duration": 1329,
    "start_time": "2023-08-31T08:15:20.563Z"
   },
   {
    "duration": 72,
    "start_time": "2023-08-31T08:23:19.565Z"
   },
   {
    "duration": 17,
    "start_time": "2023-08-31T08:23:19.639Z"
   },
   {
    "duration": 14,
    "start_time": "2023-08-31T08:23:19.658Z"
   },
   {
    "duration": 10,
    "start_time": "2023-08-31T08:23:19.673Z"
   },
   {
    "duration": 34,
    "start_time": "2023-08-31T08:23:19.686Z"
   },
   {
    "duration": 4,
    "start_time": "2023-08-31T08:23:19.721Z"
   },
   {
    "duration": 34,
    "start_time": "2023-08-31T08:23:19.726Z"
   },
   {
    "duration": 4,
    "start_time": "2023-08-31T08:23:19.761Z"
   },
   {
    "duration": 16,
    "start_time": "2023-08-31T08:23:19.767Z"
   },
   {
    "duration": 8,
    "start_time": "2023-08-31T08:23:19.785Z"
   },
   {
    "duration": 51,
    "start_time": "2023-08-31T08:23:19.795Z"
   },
   {
    "duration": 14,
    "start_time": "2023-08-31T08:23:19.848Z"
   },
   {
    "duration": 10,
    "start_time": "2023-08-31T08:23:19.863Z"
   },
   {
    "duration": 14,
    "start_time": "2023-08-31T08:23:19.876Z"
   },
   {
    "duration": 22,
    "start_time": "2023-08-31T08:23:19.891Z"
   },
   {
    "duration": 16,
    "start_time": "2023-08-31T08:23:19.914Z"
   },
   {
    "duration": 19,
    "start_time": "2023-08-31T08:23:19.931Z"
   },
   {
    "duration": 21,
    "start_time": "2023-08-31T08:23:19.952Z"
   },
   {
    "duration": 7,
    "start_time": "2023-08-31T08:23:19.975Z"
   },
   {
    "duration": 7,
    "start_time": "2023-08-31T08:23:19.983Z"
   },
   {
    "duration": 11,
    "start_time": "2023-08-31T08:23:19.991Z"
   },
   {
    "duration": 186,
    "start_time": "2023-08-31T08:23:20.004Z"
   },
   {
    "duration": 1345,
    "start_time": "2023-08-31T08:23:53.924Z"
   },
   {
    "duration": 162,
    "start_time": "2023-08-31T08:24:56.365Z"
   },
   {
    "duration": 30,
    "start_time": "2023-08-31T08:25:03.066Z"
   },
   {
    "duration": 1828,
    "start_time": "2023-08-31T08:25:07.368Z"
   },
   {
    "duration": 125,
    "start_time": "2023-08-31T08:26:03.074Z"
   },
   {
    "duration": 143,
    "start_time": "2023-08-31T08:26:14.899Z"
   },
   {
    "duration": 170,
    "start_time": "2023-08-31T08:26:17.875Z"
   },
   {
    "duration": 30,
    "start_time": "2023-08-31T08:26:31.765Z"
   },
   {
    "duration": 127,
    "start_time": "2023-08-31T08:26:35.788Z"
   },
   {
    "duration": 31,
    "start_time": "2023-08-31T08:59:01.831Z"
   },
   {
    "duration": 42,
    "start_time": "2023-08-31T08:59:15.102Z"
   },
   {
    "duration": 46,
    "start_time": "2023-08-31T09:00:23.045Z"
   },
   {
    "duration": 68,
    "start_time": "2023-08-31T09:00:46.660Z"
   },
   {
    "duration": 14,
    "start_time": "2023-08-31T09:00:46.730Z"
   },
   {
    "duration": 34,
    "start_time": "2023-08-31T09:00:46.746Z"
   },
   {
    "duration": 15,
    "start_time": "2023-08-31T09:00:46.782Z"
   },
   {
    "duration": 34,
    "start_time": "2023-08-31T09:00:46.799Z"
   },
   {
    "duration": 3,
    "start_time": "2023-08-31T09:00:46.835Z"
   },
   {
    "duration": 14,
    "start_time": "2023-08-31T09:00:46.839Z"
   },
   {
    "duration": 17,
    "start_time": "2023-08-31T09:00:46.854Z"
   },
   {
    "duration": 29,
    "start_time": "2023-08-31T09:00:46.872Z"
   },
   {
    "duration": 13,
    "start_time": "2023-08-31T09:00:46.902Z"
   },
   {
    "duration": 37,
    "start_time": "2023-08-31T09:00:46.917Z"
   },
   {
    "duration": 10,
    "start_time": "2023-08-31T09:00:46.956Z"
   },
   {
    "duration": 12,
    "start_time": "2023-08-31T09:00:46.967Z"
   },
   {
    "duration": 17,
    "start_time": "2023-08-31T09:00:46.982Z"
   },
   {
    "duration": 49,
    "start_time": "2023-08-31T09:00:47.001Z"
   },
   {
    "duration": 19,
    "start_time": "2023-08-31T09:00:47.052Z"
   },
   {
    "duration": 4,
    "start_time": "2023-08-31T09:00:47.072Z"
   },
   {
    "duration": 58,
    "start_time": "2023-08-31T09:00:47.077Z"
   },
   {
    "duration": 16,
    "start_time": "2023-08-31T09:00:47.137Z"
   },
   {
    "duration": 26,
    "start_time": "2023-08-31T09:00:47.154Z"
   },
   {
    "duration": 56,
    "start_time": "2023-08-31T09:00:47.182Z"
   },
   {
    "duration": 215,
    "start_time": "2023-08-31T09:00:47.240Z"
   },
   {
    "duration": 28,
    "start_time": "2023-08-31T09:00:47.457Z"
   },
   {
    "duration": 165,
    "start_time": "2023-08-31T09:00:47.486Z"
   },
   {
    "duration": 152,
    "start_time": "2023-08-31T09:00:47.653Z"
   },
   {
    "duration": 163,
    "start_time": "2023-08-31T09:00:47.806Z"
   },
   {
    "duration": 3,
    "start_time": "2023-08-31T09:00:47.971Z"
   },
   {
    "duration": 46,
    "start_time": "2023-08-31T09:00:47.975Z"
   },
   {
    "duration": 39,
    "start_time": "2023-08-31T09:00:48.023Z"
   },
   {
    "duration": 68,
    "start_time": "2023-08-31T09:00:48.064Z"
   },
   {
    "duration": 155,
    "start_time": "2023-08-31T09:01:12.741Z"
   },
   {
    "duration": 168,
    "start_time": "2023-08-31T09:07:24.183Z"
   },
   {
    "duration": 90,
    "start_time": "2023-08-31T09:09:25.297Z"
   },
   {
    "duration": 15,
    "start_time": "2023-08-31T09:09:30.607Z"
   },
   {
    "duration": 25,
    "start_time": "2023-08-31T09:09:41.375Z"
   },
   {
    "duration": 27,
    "start_time": "2023-08-31T09:13:50.507Z"
   },
   {
    "duration": 25,
    "start_time": "2023-08-31T09:14:04.975Z"
   },
   {
    "duration": 23,
    "start_time": "2023-08-31T09:15:02.547Z"
   },
   {
    "duration": 1544,
    "start_time": "2023-08-31T09:17:23.736Z"
   },
   {
    "duration": 26,
    "start_time": "2023-08-31T09:18:05.212Z"
   },
   {
    "duration": 198,
    "start_time": "2023-08-31T09:22:21.874Z"
   },
   {
    "duration": 135,
    "start_time": "2023-08-31T09:25:06.774Z"
   },
   {
    "duration": 133,
    "start_time": "2023-08-31T09:25:37.229Z"
   },
   {
    "duration": 150,
    "start_time": "2023-08-31T09:25:47.127Z"
   },
   {
    "duration": 76,
    "start_time": "2023-08-31T10:31:52.248Z"
   },
   {
    "duration": 15,
    "start_time": "2023-08-31T10:31:52.326Z"
   },
   {
    "duration": 18,
    "start_time": "2023-08-31T10:31:52.342Z"
   },
   {
    "duration": 11,
    "start_time": "2023-08-31T10:31:52.361Z"
   },
   {
    "duration": 53,
    "start_time": "2023-08-31T10:31:52.374Z"
   },
   {
    "duration": 3,
    "start_time": "2023-08-31T10:31:52.429Z"
   },
   {
    "duration": 21,
    "start_time": "2023-08-31T10:31:52.433Z"
   },
   {
    "duration": 13,
    "start_time": "2023-08-31T10:31:52.456Z"
   },
   {
    "duration": 27,
    "start_time": "2023-08-31T10:31:52.471Z"
   },
   {
    "duration": 32,
    "start_time": "2023-08-31T10:31:52.500Z"
   },
   {
    "duration": 55,
    "start_time": "2023-08-31T10:31:52.533Z"
   },
   {
    "duration": 18,
    "start_time": "2023-08-31T10:31:52.590Z"
   },
   {
    "duration": 27,
    "start_time": "2023-08-31T10:31:52.610Z"
   },
   {
    "duration": 11,
    "start_time": "2023-08-31T10:31:55.179Z"
   },
   {
    "duration": 18,
    "start_time": "2023-08-31T10:31:57.190Z"
   },
   {
    "duration": 17,
    "start_time": "2023-08-31T10:32:01.471Z"
   },
   {
    "duration": 67,
    "start_time": "2023-08-31T10:55:45.027Z"
   },
   {
    "duration": 13,
    "start_time": "2023-08-31T10:55:45.096Z"
   },
   {
    "duration": 16,
    "start_time": "2023-08-31T10:55:45.111Z"
   },
   {
    "duration": 23,
    "start_time": "2023-08-31T10:55:45.129Z"
   },
   {
    "duration": 40,
    "start_time": "2023-08-31T10:55:45.154Z"
   },
   {
    "duration": 21,
    "start_time": "2023-08-31T10:55:45.195Z"
   },
   {
    "duration": 18,
    "start_time": "2023-08-31T10:55:45.217Z"
   },
   {
    "duration": 8,
    "start_time": "2023-08-31T10:55:45.236Z"
   },
   {
    "duration": 30,
    "start_time": "2023-08-31T10:55:45.245Z"
   },
   {
    "duration": 7,
    "start_time": "2023-08-31T10:55:45.276Z"
   },
   {
    "duration": 31,
    "start_time": "2023-08-31T10:55:45.284Z"
   },
   {
    "duration": 8,
    "start_time": "2023-08-31T10:55:45.316Z"
   },
   {
    "duration": 3,
    "start_time": "2023-08-31T10:55:45.325Z"
   },
   {
    "duration": 13,
    "start_time": "2023-08-31T10:55:45.330Z"
   },
   {
    "duration": 20,
    "start_time": "2023-08-31T10:55:45.344Z"
   },
   {
    "duration": 32,
    "start_time": "2023-08-31T10:55:45.365Z"
   },
   {
    "duration": 3,
    "start_time": "2023-08-31T10:55:45.399Z"
   },
   {
    "duration": 14,
    "start_time": "2023-08-31T10:55:45.404Z"
   },
   {
    "duration": 14,
    "start_time": "2023-08-31T10:55:45.420Z"
   },
   {
    "duration": 3,
    "start_time": "2023-08-31T10:55:45.436Z"
   },
   {
    "duration": 18,
    "start_time": "2023-08-31T10:55:45.440Z"
   },
   {
    "duration": 152,
    "start_time": "2023-08-31T10:55:45.459Z"
   },
   {
    "duration": 27,
    "start_time": "2023-08-31T10:55:45.612Z"
   },
   {
    "duration": 196,
    "start_time": "2023-08-31T10:55:45.649Z"
   },
   {
    "duration": 172,
    "start_time": "2023-08-31T10:55:45.850Z"
   },
   {
    "duration": 184,
    "start_time": "2023-08-31T10:55:46.024Z"
   },
   {
    "duration": 2,
    "start_time": "2023-08-31T10:55:46.210Z"
   },
   {
    "duration": 18,
    "start_time": "2023-08-31T10:55:46.214Z"
   },
   {
    "duration": 12,
    "start_time": "2023-08-31T10:55:46.233Z"
   },
   {
    "duration": 48,
    "start_time": "2023-08-31T10:55:46.246Z"
   },
   {
    "duration": 117,
    "start_time": "2023-08-31T10:55:46.296Z"
   },
   {
    "duration": 164,
    "start_time": "2023-08-31T10:55:46.415Z"
   },
   {
    "duration": 83,
    "start_time": "2023-08-31T10:55:46.581Z"
   },
   {
    "duration": 31,
    "start_time": "2023-08-31T10:55:46.666Z"
   },
   {
    "duration": 24,
    "start_time": "2023-08-31T10:55:46.698Z"
   },
   {
    "duration": 505,
    "start_time": "2023-08-31T17:21:22.922Z"
   },
   {
    "duration": 25,
    "start_time": "2023-08-31T17:21:23.429Z"
   },
   {
    "duration": 19,
    "start_time": "2023-08-31T17:21:23.456Z"
   },
   {
    "duration": 11,
    "start_time": "2023-08-31T17:21:23.477Z"
   },
   {
    "duration": 50,
    "start_time": "2023-08-31T17:21:23.510Z"
   },
   {
    "duration": 5,
    "start_time": "2023-08-31T17:21:23.562Z"
   },
   {
    "duration": 9,
    "start_time": "2023-08-31T17:21:23.568Z"
   },
   {
    "duration": 4,
    "start_time": "2023-08-31T17:21:23.579Z"
   },
   {
    "duration": 11,
    "start_time": "2023-08-31T17:21:23.613Z"
   },
   {
    "duration": 6,
    "start_time": "2023-08-31T17:21:23.627Z"
   },
   {
    "duration": 37,
    "start_time": "2023-08-31T17:21:23.635Z"
   },
   {
    "duration": 12,
    "start_time": "2023-08-31T17:21:23.674Z"
   },
   {
    "duration": 7,
    "start_time": "2023-08-31T17:21:23.717Z"
   },
   {
    "duration": 13,
    "start_time": "2023-08-31T17:21:23.729Z"
   },
   {
    "duration": 23,
    "start_time": "2023-08-31T17:21:23.744Z"
   },
   {
    "duration": 19,
    "start_time": "2023-08-31T17:21:23.768Z"
   },
   {
    "duration": 4,
    "start_time": "2023-08-31T17:21:23.789Z"
   },
   {
    "duration": 12,
    "start_time": "2023-08-31T17:21:23.823Z"
   },
   {
    "duration": 7,
    "start_time": "2023-08-31T17:21:23.836Z"
   },
   {
    "duration": 3,
    "start_time": "2023-08-31T17:21:23.844Z"
   },
   {
    "duration": 17,
    "start_time": "2023-08-31T17:21:23.849Z"
   },
   {
    "duration": 1028,
    "start_time": "2023-08-31T17:21:23.868Z"
   },
   {
    "duration": 0,
    "start_time": "2023-08-31T17:21:24.898Z"
   },
   {
    "duration": 0,
    "start_time": "2023-08-31T17:21:24.899Z"
   },
   {
    "duration": 0,
    "start_time": "2023-08-31T17:21:24.900Z"
   },
   {
    "duration": 0,
    "start_time": "2023-08-31T17:21:24.901Z"
   },
   {
    "duration": 0,
    "start_time": "2023-08-31T17:21:24.918Z"
   },
   {
    "duration": 0,
    "start_time": "2023-08-31T17:21:24.920Z"
   },
   {
    "duration": 0,
    "start_time": "2023-08-31T17:21:24.921Z"
   },
   {
    "duration": 0,
    "start_time": "2023-08-31T17:21:24.922Z"
   },
   {
    "duration": 0,
    "start_time": "2023-08-31T17:21:24.923Z"
   },
   {
    "duration": 0,
    "start_time": "2023-08-31T17:21:24.924Z"
   },
   {
    "duration": 0,
    "start_time": "2023-08-31T17:21:24.925Z"
   },
   {
    "duration": 0,
    "start_time": "2023-08-31T17:21:24.927Z"
   },
   {
    "duration": 0,
    "start_time": "2023-08-31T17:21:24.929Z"
   },
   {
    "duration": 0,
    "start_time": "2023-08-31T17:21:24.931Z"
   },
   {
    "duration": 565,
    "start_time": "2023-08-31T17:34:01.884Z"
   },
   {
    "duration": 25,
    "start_time": "2023-08-31T17:34:02.451Z"
   },
   {
    "duration": 22,
    "start_time": "2023-08-31T17:34:02.479Z"
   },
   {
    "duration": 53,
    "start_time": "2023-08-31T17:34:02.503Z"
   },
   {
    "duration": 41,
    "start_time": "2023-08-31T17:34:02.559Z"
   },
   {
    "duration": 3,
    "start_time": "2023-08-31T17:34:02.603Z"
   },
   {
    "duration": 21,
    "start_time": "2023-08-31T17:34:02.608Z"
   },
   {
    "duration": 16,
    "start_time": "2023-08-31T17:34:02.631Z"
   },
   {
    "duration": 37,
    "start_time": "2023-08-31T17:34:02.649Z"
   },
   {
    "duration": 22,
    "start_time": "2023-08-31T17:34:02.688Z"
   },
   {
    "duration": 46,
    "start_time": "2023-08-31T17:34:02.712Z"
   },
   {
    "duration": 10,
    "start_time": "2023-08-31T17:34:02.760Z"
   },
   {
    "duration": 23,
    "start_time": "2023-08-31T17:34:02.772Z"
   },
   {
    "duration": 33,
    "start_time": "2023-08-31T17:34:02.798Z"
   },
   {
    "duration": 55,
    "start_time": "2023-08-31T17:34:02.833Z"
   },
   {
    "duration": 19,
    "start_time": "2023-08-31T17:34:02.890Z"
   },
   {
    "duration": 4,
    "start_time": "2023-08-31T17:34:02.912Z"
   },
   {
    "duration": 19,
    "start_time": "2023-08-31T17:34:02.918Z"
   },
   {
    "duration": 24,
    "start_time": "2023-08-31T17:34:02.939Z"
   },
   {
    "duration": 4,
    "start_time": "2023-08-31T17:34:02.965Z"
   },
   {
    "duration": 19,
    "start_time": "2023-08-31T17:34:02.971Z"
   },
   {
    "duration": 1231,
    "start_time": "2023-08-31T17:34:07.694Z"
   },
   {
    "duration": 74,
    "start_time": "2023-08-31T17:34:35.874Z"
   },
   {
    "duration": 19,
    "start_time": "2023-08-31T17:34:35.950Z"
   },
   {
    "duration": 23,
    "start_time": "2023-08-31T17:34:35.971Z"
   },
   {
    "duration": 12,
    "start_time": "2023-08-31T17:34:35.996Z"
   },
   {
    "duration": 69,
    "start_time": "2023-08-31T17:34:36.011Z"
   },
   {
    "duration": 6,
    "start_time": "2023-08-31T17:34:36.082Z"
   },
   {
    "duration": 17,
    "start_time": "2023-08-31T17:34:36.089Z"
   },
   {
    "duration": 7,
    "start_time": "2023-08-31T17:34:36.108Z"
   },
   {
    "duration": 16,
    "start_time": "2023-08-31T17:34:36.117Z"
   },
   {
    "duration": 32,
    "start_time": "2023-08-31T17:34:36.135Z"
   },
   {
    "duration": 56,
    "start_time": "2023-08-31T17:34:36.168Z"
   },
   {
    "duration": 11,
    "start_time": "2023-08-31T17:34:36.226Z"
   },
   {
    "duration": 22,
    "start_time": "2023-08-31T17:34:36.239Z"
   },
   {
    "duration": 26,
    "start_time": "2023-08-31T17:34:36.265Z"
   },
   {
    "duration": 28,
    "start_time": "2023-08-31T17:34:36.293Z"
   },
   {
    "duration": 27,
    "start_time": "2023-08-31T17:34:36.324Z"
   },
   {
    "duration": 5,
    "start_time": "2023-08-31T17:34:36.358Z"
   },
   {
    "duration": 16,
    "start_time": "2023-08-31T17:34:36.365Z"
   },
   {
    "duration": 8,
    "start_time": "2023-08-31T17:34:36.383Z"
   },
   {
    "duration": 7,
    "start_time": "2023-08-31T17:34:36.393Z"
   },
   {
    "duration": 10,
    "start_time": "2023-08-31T17:34:40.066Z"
   },
   {
    "duration": 50,
    "start_time": "2023-08-31T17:34:43.077Z"
   },
   {
    "duration": 24,
    "start_time": "2023-08-31T17:40:13.429Z"
   },
   {
    "duration": 507,
    "start_time": "2023-08-31T17:40:38.558Z"
   },
   {
    "duration": 25,
    "start_time": "2023-08-31T17:40:39.067Z"
   },
   {
    "duration": 16,
    "start_time": "2023-08-31T17:40:39.094Z"
   },
   {
    "duration": 11,
    "start_time": "2023-08-31T17:40:39.112Z"
   },
   {
    "duration": 66,
    "start_time": "2023-08-31T17:40:39.126Z"
   },
   {
    "duration": 4,
    "start_time": "2023-08-31T17:40:39.194Z"
   },
   {
    "duration": 49,
    "start_time": "2023-08-31T17:40:39.199Z"
   },
   {
    "duration": 23,
    "start_time": "2023-08-31T17:40:39.250Z"
   },
   {
    "duration": 12,
    "start_time": "2023-08-31T17:40:39.275Z"
   },
   {
    "duration": 5,
    "start_time": "2023-08-31T17:40:39.289Z"
   },
   {
    "duration": 47,
    "start_time": "2023-08-31T17:40:39.295Z"
   },
   {
    "duration": 10,
    "start_time": "2023-08-31T17:40:39.344Z"
   },
   {
    "duration": 4,
    "start_time": "2023-08-31T17:40:39.359Z"
   },
   {
    "duration": 16,
    "start_time": "2023-08-31T17:40:39.366Z"
   },
   {
    "duration": 26,
    "start_time": "2023-08-31T17:40:39.384Z"
   },
   {
    "duration": 19,
    "start_time": "2023-08-31T17:40:39.413Z"
   },
   {
    "duration": 27,
    "start_time": "2023-08-31T17:40:39.434Z"
   },
   {
    "duration": 28,
    "start_time": "2023-08-31T17:40:39.463Z"
   },
   {
    "duration": 23,
    "start_time": "2023-08-31T17:40:39.493Z"
   },
   {
    "duration": 7,
    "start_time": "2023-08-31T17:40:39.518Z"
   },
   {
    "duration": 12,
    "start_time": "2023-08-31T17:40:39.527Z"
   },
   {
    "duration": 1005,
    "start_time": "2023-08-31T17:40:42.299Z"
   },
   {
    "duration": 299,
    "start_time": "2023-08-31T17:41:05.497Z"
   },
   {
    "duration": 195,
    "start_time": "2023-08-31T17:42:20.566Z"
   },
   {
    "duration": 167,
    "start_time": "2023-08-31T17:42:30.734Z"
   },
   {
    "duration": 178,
    "start_time": "2023-08-31T17:43:16.775Z"
   },
   {
    "duration": 17,
    "start_time": "2023-08-31T17:43:35.261Z"
   },
   {
    "duration": 456,
    "start_time": "2023-08-31T17:43:58.307Z"
   },
   {
    "duration": 25,
    "start_time": "2023-08-31T17:43:58.765Z"
   },
   {
    "duration": 21,
    "start_time": "2023-08-31T17:43:58.793Z"
   },
   {
    "duration": 11,
    "start_time": "2023-08-31T17:43:58.816Z"
   },
   {
    "duration": 60,
    "start_time": "2023-08-31T17:43:58.829Z"
   },
   {
    "duration": 4,
    "start_time": "2023-08-31T17:43:58.891Z"
   },
   {
    "duration": 21,
    "start_time": "2023-08-31T17:43:58.897Z"
   },
   {
    "duration": 7,
    "start_time": "2023-08-31T17:43:58.920Z"
   },
   {
    "duration": 52,
    "start_time": "2023-08-31T17:43:58.930Z"
   },
   {
    "duration": 6,
    "start_time": "2023-08-31T17:43:58.985Z"
   },
   {
    "duration": 54,
    "start_time": "2023-08-31T17:43:58.993Z"
   },
   {
    "duration": 14,
    "start_time": "2023-08-31T17:43:59.049Z"
   },
   {
    "duration": 11,
    "start_time": "2023-08-31T17:43:59.065Z"
   },
   {
    "duration": 14,
    "start_time": "2023-08-31T17:43:59.079Z"
   },
   {
    "duration": 33,
    "start_time": "2023-08-31T17:43:59.095Z"
   },
   {
    "duration": 32,
    "start_time": "2023-08-31T17:43:59.130Z"
   },
   {
    "duration": 5,
    "start_time": "2023-08-31T17:43:59.165Z"
   },
   {
    "duration": 31,
    "start_time": "2023-08-31T17:43:59.172Z"
   },
   {
    "duration": 16,
    "start_time": "2023-08-31T17:43:59.205Z"
   },
   {
    "duration": 19,
    "start_time": "2023-08-31T17:43:59.223Z"
   },
   {
    "duration": 13,
    "start_time": "2023-08-31T17:43:59.245Z"
   },
   {
    "duration": 1075,
    "start_time": "2023-08-31T17:43:59.260Z"
   },
   {
    "duration": 54,
    "start_time": "2023-08-31T17:44:00.337Z"
   },
   {
    "duration": 173,
    "start_time": "2023-08-31T17:44:00.393Z"
   },
   {
    "duration": 121,
    "start_time": "2023-08-31T17:44:00.568Z"
   },
   {
    "duration": 18,
    "start_time": "2023-08-31T17:44:05.184Z"
   },
   {
    "duration": 200,
    "start_time": "2023-08-31T17:44:54.022Z"
   },
   {
    "duration": 193,
    "start_time": "2023-08-31T17:45:03.768Z"
   },
   {
    "duration": 187,
    "start_time": "2023-08-31T17:46:29.022Z"
   },
   {
    "duration": 82,
    "start_time": "2023-08-31T17:46:38.187Z"
   },
   {
    "duration": 20,
    "start_time": "2023-08-31T17:46:38.271Z"
   },
   {
    "duration": 16,
    "start_time": "2023-08-31T17:46:38.293Z"
   },
   {
    "duration": 11,
    "start_time": "2023-08-31T17:46:38.311Z"
   },
   {
    "duration": 70,
    "start_time": "2023-08-31T17:46:38.323Z"
   },
   {
    "duration": 3,
    "start_time": "2023-08-31T17:46:38.395Z"
   },
   {
    "duration": 13,
    "start_time": "2023-08-31T17:46:38.400Z"
   },
   {
    "duration": 4,
    "start_time": "2023-08-31T17:46:38.416Z"
   },
   {
    "duration": 37,
    "start_time": "2023-08-31T17:46:38.422Z"
   },
   {
    "duration": 5,
    "start_time": "2023-08-31T17:46:38.462Z"
   },
   {
    "duration": 37,
    "start_time": "2023-08-31T17:46:38.469Z"
   },
   {
    "duration": 11,
    "start_time": "2023-08-31T17:46:38.508Z"
   },
   {
    "duration": 4,
    "start_time": "2023-08-31T17:46:38.521Z"
   },
   {
    "duration": 41,
    "start_time": "2023-08-31T17:46:38.526Z"
   },
   {
    "duration": 21,
    "start_time": "2023-08-31T17:46:38.569Z"
   },
   {
    "duration": 19,
    "start_time": "2023-08-31T17:46:38.592Z"
   },
   {
    "duration": 4,
    "start_time": "2023-08-31T17:46:38.613Z"
   },
   {
    "duration": 44,
    "start_time": "2023-08-31T17:46:38.619Z"
   },
   {
    "duration": 8,
    "start_time": "2023-08-31T17:46:38.665Z"
   },
   {
    "duration": 4,
    "start_time": "2023-08-31T17:46:38.674Z"
   },
   {
    "duration": 12,
    "start_time": "2023-08-31T17:46:38.680Z"
   },
   {
    "duration": 235,
    "start_time": "2023-08-31T17:46:38.694Z"
   },
   {
    "duration": 47,
    "start_time": "2023-08-31T17:46:38.931Z"
   },
   {
    "duration": 166,
    "start_time": "2023-08-31T17:46:38.980Z"
   },
   {
    "duration": 175,
    "start_time": "2023-08-31T17:46:39.148Z"
   },
   {
    "duration": 202,
    "start_time": "2023-08-31T17:46:39.325Z"
   },
   {
    "duration": 3,
    "start_time": "2023-08-31T17:46:39.528Z"
   },
   {
    "duration": 7,
    "start_time": "2023-08-31T17:46:39.535Z"
   },
   {
    "duration": 15,
    "start_time": "2023-08-31T17:46:39.544Z"
   },
   {
    "duration": 38,
    "start_time": "2023-08-31T17:46:39.561Z"
   },
   {
    "duration": 260,
    "start_time": "2023-08-31T17:46:39.601Z"
   },
   {
    "duration": 201,
    "start_time": "2023-08-31T17:46:39.864Z"
   },
   {
    "duration": 97,
    "start_time": "2023-08-31T17:46:40.067Z"
   },
   {
    "duration": 40,
    "start_time": "2023-08-31T17:46:40.166Z"
   },
   {
    "duration": 37,
    "start_time": "2023-08-31T17:46:40.208Z"
   },
   {
    "duration": 190,
    "start_time": "2023-08-31T17:46:40.247Z"
   },
   {
    "duration": 480,
    "start_time": "2023-08-31T17:48:34.486Z"
   },
   {
    "duration": 25,
    "start_time": "2023-08-31T17:48:34.969Z"
   },
   {
    "duration": 18,
    "start_time": "2023-08-31T17:48:34.996Z"
   },
   {
    "duration": 11,
    "start_time": "2023-08-31T17:48:35.016Z"
   },
   {
    "duration": 70,
    "start_time": "2023-08-31T17:48:35.029Z"
   },
   {
    "duration": 4,
    "start_time": "2023-08-31T17:48:35.101Z"
   },
   {
    "duration": 23,
    "start_time": "2023-08-31T17:48:35.107Z"
   },
   {
    "duration": 6,
    "start_time": "2023-08-31T17:48:35.131Z"
   },
   {
    "duration": 19,
    "start_time": "2023-08-31T17:48:35.139Z"
   },
   {
    "duration": 5,
    "start_time": "2023-08-31T17:48:35.160Z"
   },
   {
    "duration": 36,
    "start_time": "2023-08-31T17:48:35.166Z"
   },
   {
    "duration": 11,
    "start_time": "2023-08-31T17:48:35.205Z"
   },
   {
    "duration": 5,
    "start_time": "2023-08-31T17:48:35.218Z"
   },
   {
    "duration": 43,
    "start_time": "2023-08-31T17:48:35.226Z"
   },
   {
    "duration": 28,
    "start_time": "2023-08-31T17:48:35.271Z"
   },
   {
    "duration": 21,
    "start_time": "2023-08-31T17:48:35.302Z"
   },
   {
    "duration": 4,
    "start_time": "2023-08-31T17:48:35.325Z"
   },
   {
    "duration": 45,
    "start_time": "2023-08-31T17:48:35.331Z"
   },
   {
    "duration": 8,
    "start_time": "2023-08-31T17:48:35.378Z"
   },
   {
    "duration": 6,
    "start_time": "2023-08-31T17:48:35.388Z"
   },
   {
    "duration": 4,
    "start_time": "2023-08-31T17:48:51.511Z"
   },
   {
    "duration": 13,
    "start_time": "2023-08-31T17:48:52.242Z"
   },
   {
    "duration": 1025,
    "start_time": "2023-08-31T17:48:57.934Z"
   },
   {
    "duration": 35,
    "start_time": "2023-08-31T17:49:04.673Z"
   },
   {
    "duration": 13,
    "start_time": "2023-08-31T17:49:16.140Z"
   },
   {
    "duration": 208,
    "start_time": "2023-08-31T17:49:26.061Z"
   },
   {
    "duration": 39,
    "start_time": "2023-08-31T17:49:34.873Z"
   },
   {
    "duration": 152,
    "start_time": "2023-08-31T17:49:38.795Z"
   },
   {
    "duration": 157,
    "start_time": "2023-08-31T17:49:48.711Z"
   },
   {
    "duration": 223,
    "start_time": "2023-08-31T17:49:55.219Z"
   },
   {
    "duration": 3,
    "start_time": "2023-08-31T17:50:05.604Z"
   },
   {
    "duration": 2,
    "start_time": "2023-08-31T17:50:06.443Z"
   },
   {
    "duration": 33,
    "start_time": "2023-08-31T17:50:13.698Z"
   },
   {
    "duration": 141,
    "start_time": "2023-08-31T17:51:00.245Z"
   },
   {
    "duration": 177,
    "start_time": "2023-08-31T17:51:08.318Z"
   },
   {
    "duration": 94,
    "start_time": "2023-08-31T17:51:16.216Z"
   },
   {
    "duration": 90,
    "start_time": "2023-08-31T17:51:22.296Z"
   },
   {
    "duration": 39,
    "start_time": "2023-08-31T18:01:44.549Z"
   },
   {
    "duration": 45,
    "start_time": "2023-08-31T18:01:50.029Z"
   },
   {
    "duration": 36,
    "start_time": "2023-08-31T18:02:33.099Z"
   },
   {
    "duration": 154,
    "start_time": "2023-08-31T18:02:43.324Z"
   },
   {
    "duration": 5,
    "start_time": "2023-08-31T18:05:00.876Z"
   },
   {
    "duration": 227,
    "start_time": "2023-08-31T18:05:33.840Z"
   },
   {
    "duration": 484,
    "start_time": "2023-08-31T18:06:41.779Z"
   },
   {
    "duration": 27,
    "start_time": "2023-08-31T18:06:42.265Z"
   },
   {
    "duration": 16,
    "start_time": "2023-08-31T18:06:42.294Z"
   },
   {
    "duration": 13,
    "start_time": "2023-08-31T18:06:42.312Z"
   },
   {
    "duration": 59,
    "start_time": "2023-08-31T18:06:42.329Z"
   },
   {
    "duration": 4,
    "start_time": "2023-08-31T18:06:42.390Z"
   },
   {
    "duration": 22,
    "start_time": "2023-08-31T18:06:42.396Z"
   },
   {
    "duration": 8,
    "start_time": "2023-08-31T18:06:42.420Z"
   },
   {
    "duration": 11,
    "start_time": "2023-08-31T18:06:42.429Z"
   },
   {
    "duration": 20,
    "start_time": "2023-08-31T18:06:42.442Z"
   },
   {
    "duration": 40,
    "start_time": "2023-08-31T18:06:42.464Z"
   },
   {
    "duration": 11,
    "start_time": "2023-08-31T18:06:42.506Z"
   },
   {
    "duration": 5,
    "start_time": "2023-08-31T18:06:42.518Z"
   },
   {
    "duration": 44,
    "start_time": "2023-08-31T18:06:42.526Z"
   },
   {
    "duration": 27,
    "start_time": "2023-08-31T18:06:42.571Z"
   },
   {
    "duration": 19,
    "start_time": "2023-08-31T18:06:42.600Z"
   },
   {
    "duration": 4,
    "start_time": "2023-08-31T18:06:42.621Z"
   },
   {
    "duration": 40,
    "start_time": "2023-08-31T18:06:42.627Z"
   },
   {
    "duration": 6,
    "start_time": "2023-08-31T18:06:42.669Z"
   },
   {
    "duration": 7,
    "start_time": "2023-08-31T18:06:42.676Z"
   },
   {
    "duration": 15,
    "start_time": "2023-08-31T18:06:42.684Z"
   },
   {
    "duration": 1107,
    "start_time": "2023-08-31T18:06:42.700Z"
   },
   {
    "duration": 36,
    "start_time": "2023-08-31T18:06:43.809Z"
   },
   {
    "duration": 174,
    "start_time": "2023-08-31T18:06:43.858Z"
   },
   {
    "duration": 208,
    "start_time": "2023-08-31T18:06:44.034Z"
   },
   {
    "duration": 244,
    "start_time": "2023-08-31T18:06:44.245Z"
   },
   {
    "duration": 3,
    "start_time": "2023-08-31T18:06:44.491Z"
   },
   {
    "duration": 7,
    "start_time": "2023-08-31T18:06:44.496Z"
   },
   {
    "duration": 6,
    "start_time": "2023-08-31T18:06:44.504Z"
   },
   {
    "duration": 49,
    "start_time": "2023-08-31T18:06:44.512Z"
   },
   {
    "duration": 169,
    "start_time": "2023-08-31T18:06:44.563Z"
   },
   {
    "duration": 196,
    "start_time": "2023-08-31T18:06:44.734Z"
   },
   {
    "duration": 511,
    "start_time": "2023-08-31T18:08:02.020Z"
   },
   {
    "duration": 35,
    "start_time": "2023-08-31T18:08:02.533Z"
   },
   {
    "duration": 17,
    "start_time": "2023-08-31T18:08:02.571Z"
   },
   {
    "duration": 21,
    "start_time": "2023-08-31T18:08:02.590Z"
   },
   {
    "duration": 51,
    "start_time": "2023-08-31T18:08:02.614Z"
   },
   {
    "duration": 5,
    "start_time": "2023-08-31T18:08:02.666Z"
   },
   {
    "duration": 27,
    "start_time": "2023-08-31T18:08:02.673Z"
   },
   {
    "duration": 11,
    "start_time": "2023-08-31T18:08:02.702Z"
   },
   {
    "duration": 10,
    "start_time": "2023-08-31T18:08:02.716Z"
   },
   {
    "duration": 27,
    "start_time": "2023-08-31T18:08:02.728Z"
   },
   {
    "duration": 45,
    "start_time": "2023-08-31T18:08:02.756Z"
   },
   {
    "duration": 17,
    "start_time": "2023-08-31T18:08:02.803Z"
   },
   {
    "duration": 27,
    "start_time": "2023-08-31T18:08:02.822Z"
   },
   {
    "duration": 21,
    "start_time": "2023-08-31T18:08:02.852Z"
   },
   {
    "duration": 55,
    "start_time": "2023-08-31T18:08:02.875Z"
   },
   {
    "duration": 19,
    "start_time": "2023-08-31T18:08:02.932Z"
   },
   {
    "duration": 4,
    "start_time": "2023-08-31T18:08:02.953Z"
   },
   {
    "duration": 20,
    "start_time": "2023-08-31T18:08:02.958Z"
   },
   {
    "duration": 6,
    "start_time": "2023-08-31T18:08:02.980Z"
   },
   {
    "duration": 4,
    "start_time": "2023-08-31T18:08:02.988Z"
   },
   {
    "duration": 29,
    "start_time": "2023-08-31T18:08:02.993Z"
   },
   {
    "duration": 1100,
    "start_time": "2023-08-31T18:08:03.024Z"
   },
   {
    "duration": 59,
    "start_time": "2023-08-31T18:08:04.126Z"
   },
   {
    "duration": 205,
    "start_time": "2023-08-31T18:08:04.190Z"
   },
   {
    "duration": 184,
    "start_time": "2023-08-31T18:08:04.397Z"
   },
   {
    "duration": 200,
    "start_time": "2023-08-31T18:08:04.583Z"
   },
   {
    "duration": 4,
    "start_time": "2023-08-31T18:08:04.785Z"
   },
   {
    "duration": 8,
    "start_time": "2023-08-31T18:08:04.790Z"
   },
   {
    "duration": 5,
    "start_time": "2023-08-31T18:08:04.800Z"
   },
   {
    "duration": 53,
    "start_time": "2023-08-31T18:08:04.806Z"
   },
   {
    "duration": 155,
    "start_time": "2023-08-31T18:08:04.861Z"
   },
   {
    "duration": 198,
    "start_time": "2023-08-31T18:08:05.018Z"
   },
   {
    "duration": 24,
    "start_time": "2023-08-31T18:08:05.218Z"
   },
   {
    "duration": 44,
    "start_time": "2023-08-31T18:08:05.258Z"
   },
   {
    "duration": 32,
    "start_time": "2023-08-31T18:08:05.304Z"
   },
   {
    "duration": 167,
    "start_time": "2023-08-31T18:08:05.359Z"
   },
   {
    "duration": 473,
    "start_time": "2023-08-31T18:13:43.402Z"
   },
   {
    "duration": 24,
    "start_time": "2023-08-31T18:13:43.877Z"
   },
   {
    "duration": 16,
    "start_time": "2023-08-31T18:13:43.904Z"
   },
   {
    "duration": 10,
    "start_time": "2023-08-31T18:13:43.922Z"
   },
   {
    "duration": 64,
    "start_time": "2023-08-31T18:13:43.934Z"
   },
   {
    "duration": 6,
    "start_time": "2023-08-31T18:13:44.000Z"
   },
   {
    "duration": 14,
    "start_time": "2023-08-31T18:13:44.008Z"
   },
   {
    "duration": 6,
    "start_time": "2023-08-31T18:13:44.024Z"
   },
   {
    "duration": 13,
    "start_time": "2023-08-31T18:13:44.062Z"
   },
   {
    "duration": 6,
    "start_time": "2023-08-31T18:13:44.077Z"
   },
   {
    "duration": 47,
    "start_time": "2023-08-31T18:13:44.085Z"
   },
   {
    "duration": 14,
    "start_time": "2023-08-31T18:13:44.159Z"
   },
   {
    "duration": 8,
    "start_time": "2023-08-31T18:13:44.175Z"
   },
   {
    "duration": 15,
    "start_time": "2023-08-31T18:13:44.188Z"
   },
   {
    "duration": 55,
    "start_time": "2023-08-31T18:13:44.206Z"
   },
   {
    "duration": 27,
    "start_time": "2023-08-31T18:13:44.264Z"
   },
   {
    "duration": 4,
    "start_time": "2023-08-31T18:13:44.293Z"
   },
   {
    "duration": 13,
    "start_time": "2023-08-31T18:13:44.299Z"
   },
   {
    "duration": 8,
    "start_time": "2023-08-31T18:13:44.314Z"
   },
   {
    "duration": 36,
    "start_time": "2023-08-31T18:13:44.324Z"
   },
   {
    "duration": 15,
    "start_time": "2023-08-31T18:13:44.362Z"
   },
   {
    "duration": 1180,
    "start_time": "2023-08-31T18:13:44.379Z"
   },
   {
    "duration": 34,
    "start_time": "2023-08-31T18:13:45.561Z"
   },
   {
    "duration": 172,
    "start_time": "2023-08-31T18:13:45.597Z"
   },
   {
    "duration": 178,
    "start_time": "2023-08-31T18:13:45.771Z"
   },
   {
    "duration": 210,
    "start_time": "2023-08-31T18:13:45.951Z"
   },
   {
    "duration": 3,
    "start_time": "2023-08-31T18:13:46.163Z"
   },
   {
    "duration": 6,
    "start_time": "2023-08-31T18:13:46.168Z"
   },
   {
    "duration": 12,
    "start_time": "2023-08-31T18:13:46.176Z"
   },
   {
    "duration": 49,
    "start_time": "2023-08-31T18:13:46.190Z"
   },
   {
    "duration": 188,
    "start_time": "2023-08-31T18:13:46.241Z"
   },
   {
    "duration": 210,
    "start_time": "2023-08-31T18:13:46.432Z"
   },
   {
    "duration": 31,
    "start_time": "2023-08-31T18:13:46.644Z"
   },
   {
    "duration": 36,
    "start_time": "2023-08-31T18:13:46.677Z"
   },
   {
    "duration": 53,
    "start_time": "2023-08-31T18:13:46.714Z"
   },
   {
    "duration": 164,
    "start_time": "2023-08-31T18:13:46.769Z"
   },
   {
    "duration": 118,
    "start_time": "2023-08-31T18:17:16.094Z"
   },
   {
    "duration": 42,
    "start_time": "2023-08-31T18:17:20.099Z"
   },
   {
    "duration": 97,
    "start_time": "2023-08-31T18:19:27.145Z"
   },
   {
    "duration": 42,
    "start_time": "2023-08-31T18:19:30.828Z"
   },
   {
    "duration": 123,
    "start_time": "2023-08-31T18:19:43.918Z"
   },
   {
    "duration": 39,
    "start_time": "2023-08-31T18:20:00.437Z"
   },
   {
    "duration": 44,
    "start_time": "2023-08-31T18:20:37.887Z"
   },
   {
    "duration": 129,
    "start_time": "2023-08-31T18:22:19.914Z"
   },
   {
    "duration": 53,
    "start_time": "2023-08-31T18:22:23.040Z"
   },
   {
    "duration": 62,
    "start_time": "2023-08-31T18:22:32.125Z"
   },
   {
    "duration": 48,
    "start_time": "2023-08-31T18:23:24.289Z"
   },
   {
    "duration": 37,
    "start_time": "2023-08-31T18:24:51.475Z"
   },
   {
    "duration": 20,
    "start_time": "2023-08-31T18:25:10.951Z"
   },
   {
    "duration": 91,
    "start_time": "2023-08-31T18:25:26.241Z"
   },
   {
    "duration": 5,
    "start_time": "2023-08-31T18:25:43.771Z"
   },
   {
    "duration": 5,
    "start_time": "2023-08-31T18:25:52.985Z"
   },
   {
    "duration": 19,
    "start_time": "2023-08-31T18:26:35.284Z"
   },
   {
    "duration": 33,
    "start_time": "2023-08-31T18:27:06.834Z"
   },
   {
    "duration": 25,
    "start_time": "2023-08-31T18:27:20.199Z"
   },
   {
    "duration": 84,
    "start_time": "2023-08-31T18:28:31.460Z"
   },
   {
    "duration": 503,
    "start_time": "2023-08-31T18:32:30.220Z"
   },
   {
    "duration": 150,
    "start_time": "2023-08-31T18:33:10.837Z"
   },
   {
    "duration": 570,
    "start_time": "2023-08-31T18:35:09.105Z"
   },
   {
    "duration": 37,
    "start_time": "2023-08-31T18:35:09.678Z"
   },
   {
    "duration": 23,
    "start_time": "2023-08-31T18:35:09.717Z"
   },
   {
    "duration": 28,
    "start_time": "2023-08-31T18:35:09.742Z"
   },
   {
    "duration": 51,
    "start_time": "2023-08-31T18:35:09.774Z"
   },
   {
    "duration": 5,
    "start_time": "2023-08-31T18:35:09.827Z"
   },
   {
    "duration": 42,
    "start_time": "2023-08-31T18:35:09.834Z"
   },
   {
    "duration": 13,
    "start_time": "2023-08-31T18:35:09.882Z"
   },
   {
    "duration": 26,
    "start_time": "2023-08-31T18:35:09.898Z"
   },
   {
    "duration": 19,
    "start_time": "2023-08-31T18:35:09.926Z"
   },
   {
    "duration": 59,
    "start_time": "2023-08-31T18:35:09.948Z"
   },
   {
    "duration": 14,
    "start_time": "2023-08-31T18:35:10.009Z"
   },
   {
    "duration": 16,
    "start_time": "2023-08-31T18:35:10.026Z"
   },
   {
    "duration": 44,
    "start_time": "2023-08-31T18:35:10.046Z"
   },
   {
    "duration": 39,
    "start_time": "2023-08-31T18:35:10.093Z"
   },
   {
    "duration": 22,
    "start_time": "2023-08-31T18:35:10.134Z"
   },
   {
    "duration": 12,
    "start_time": "2023-08-31T18:35:10.158Z"
   },
   {
    "duration": 24,
    "start_time": "2023-08-31T18:35:10.179Z"
   },
   {
    "duration": 8,
    "start_time": "2023-08-31T18:35:10.205Z"
   },
   {
    "duration": 8,
    "start_time": "2023-08-31T18:35:10.216Z"
   },
   {
    "duration": 24,
    "start_time": "2023-08-31T18:35:10.227Z"
   },
   {
    "duration": 1348,
    "start_time": "2023-08-31T18:35:10.253Z"
   },
   {
    "duration": 42,
    "start_time": "2023-08-31T18:35:11.609Z"
   },
   {
    "duration": 208,
    "start_time": "2023-08-31T18:35:11.660Z"
   },
   {
    "duration": 236,
    "start_time": "2023-08-31T18:35:11.873Z"
   },
   {
    "duration": 270,
    "start_time": "2023-08-31T18:35:12.111Z"
   },
   {
    "duration": 13,
    "start_time": "2023-08-31T18:35:12.382Z"
   },
   {
    "duration": 3,
    "start_time": "2023-08-31T18:35:12.401Z"
   },
   {
    "duration": 11,
    "start_time": "2023-08-31T18:35:12.406Z"
   },
   {
    "duration": 79,
    "start_time": "2023-08-31T18:35:12.420Z"
   },
   {
    "duration": 198,
    "start_time": "2023-08-31T18:35:12.507Z"
   },
   {
    "duration": 232,
    "start_time": "2023-08-31T18:35:12.708Z"
   },
   {
    "duration": 1124,
    "start_time": "2023-08-31T18:35:12.942Z"
   },
   {
    "duration": 0,
    "start_time": "2023-08-31T18:35:14.071Z"
   },
   {
    "duration": 0,
    "start_time": "2023-08-31T18:35:14.078Z"
   },
   {
    "duration": 0,
    "start_time": "2023-08-31T18:35:14.082Z"
   },
   {
    "duration": 0,
    "start_time": "2023-08-31T18:35:14.085Z"
   },
   {
    "duration": 0,
    "start_time": "2023-08-31T18:35:14.087Z"
   },
   {
    "duration": 0,
    "start_time": "2023-08-31T18:35:14.089Z"
   },
   {
    "duration": 845,
    "start_time": "2023-08-31T18:35:37.007Z"
   },
   {
    "duration": 119,
    "start_time": "2023-08-31T18:36:18.457Z"
   },
   {
    "duration": 559,
    "start_time": "2023-08-31T18:36:36.068Z"
   },
   {
    "duration": 31,
    "start_time": "2023-08-31T18:36:36.629Z"
   },
   {
    "duration": 32,
    "start_time": "2023-08-31T18:36:36.663Z"
   },
   {
    "duration": 15,
    "start_time": "2023-08-31T18:36:36.697Z"
   },
   {
    "duration": 76,
    "start_time": "2023-08-31T18:36:36.716Z"
   },
   {
    "duration": 5,
    "start_time": "2023-08-31T18:36:36.794Z"
   },
   {
    "duration": 26,
    "start_time": "2023-08-31T18:36:36.802Z"
   },
   {
    "duration": 7,
    "start_time": "2023-08-31T18:36:36.830Z"
   },
   {
    "duration": 29,
    "start_time": "2023-08-31T18:36:36.839Z"
   },
   {
    "duration": 16,
    "start_time": "2023-08-31T18:36:36.870Z"
   },
   {
    "duration": 56,
    "start_time": "2023-08-31T18:36:36.889Z"
   },
   {
    "duration": 35,
    "start_time": "2023-08-31T18:36:36.948Z"
   },
   {
    "duration": 6,
    "start_time": "2023-08-31T18:36:36.987Z"
   },
   {
    "duration": 34,
    "start_time": "2023-08-31T18:36:36.998Z"
   },
   {
    "duration": 45,
    "start_time": "2023-08-31T18:36:37.035Z"
   },
   {
    "duration": 33,
    "start_time": "2023-08-31T18:36:37.082Z"
   },
   {
    "duration": 5,
    "start_time": "2023-08-31T18:36:37.118Z"
   },
   {
    "duration": 45,
    "start_time": "2023-08-31T18:36:37.125Z"
   },
   {
    "duration": 13,
    "start_time": "2023-08-31T18:36:37.173Z"
   },
   {
    "duration": 5,
    "start_time": "2023-08-31T18:36:37.188Z"
   },
   {
    "duration": 10,
    "start_time": "2023-08-31T18:36:37.195Z"
   },
   {
    "duration": 1127,
    "start_time": "2023-08-31T18:36:37.207Z"
   },
   {
    "duration": 52,
    "start_time": "2023-08-31T18:36:38.336Z"
   },
   {
    "duration": 176,
    "start_time": "2023-08-31T18:36:38.390Z"
   },
   {
    "duration": 212,
    "start_time": "2023-08-31T18:36:38.571Z"
   },
   {
    "duration": 256,
    "start_time": "2023-08-31T18:36:38.786Z"
   },
   {
    "duration": 2,
    "start_time": "2023-08-31T18:36:39.045Z"
   },
   {
    "duration": 16,
    "start_time": "2023-08-31T18:36:39.049Z"
   },
   {
    "duration": 12,
    "start_time": "2023-08-31T18:36:39.068Z"
   },
   {
    "duration": 37,
    "start_time": "2023-08-31T18:36:39.082Z"
   },
   {
    "duration": 199,
    "start_time": "2023-08-31T18:36:39.121Z"
   },
   {
    "duration": 282,
    "start_time": "2023-08-31T18:36:39.322Z"
   },
   {
    "duration": 113,
    "start_time": "2023-08-31T18:36:39.606Z"
   },
   {
    "duration": 20,
    "start_time": "2023-08-31T18:36:39.721Z"
   },
   {
    "duration": 37,
    "start_time": "2023-08-31T18:36:39.743Z"
   },
   {
    "duration": 19,
    "start_time": "2023-08-31T18:36:39.782Z"
   },
   {
    "duration": 28,
    "start_time": "2023-08-31T18:36:39.803Z"
   },
   {
    "duration": 79,
    "start_time": "2023-08-31T18:36:39.833Z"
   },
   {
    "duration": 187,
    "start_time": "2023-08-31T18:36:39.914Z"
   },
   {
    "duration": 649,
    "start_time": "2023-08-31T18:41:11.115Z"
   },
   {
    "duration": 30,
    "start_time": "2023-08-31T18:41:11.769Z"
   },
   {
    "duration": 16,
    "start_time": "2023-08-31T18:41:11.801Z"
   },
   {
    "duration": 11,
    "start_time": "2023-08-31T18:41:11.819Z"
   },
   {
    "duration": 69,
    "start_time": "2023-08-31T18:41:11.832Z"
   },
   {
    "duration": 4,
    "start_time": "2023-08-31T18:41:11.903Z"
   },
   {
    "duration": 17,
    "start_time": "2023-08-31T18:41:11.908Z"
   },
   {
    "duration": 6,
    "start_time": "2023-08-31T18:41:11.928Z"
   },
   {
    "duration": 36,
    "start_time": "2023-08-31T18:41:11.937Z"
   },
   {
    "duration": 21,
    "start_time": "2023-08-31T18:41:11.975Z"
   },
   {
    "duration": 36,
    "start_time": "2023-08-31T18:41:11.998Z"
   },
   {
    "duration": 13,
    "start_time": "2023-08-31T18:41:12.037Z"
   },
   {
    "duration": 12,
    "start_time": "2023-08-31T18:41:12.062Z"
   },
   {
    "duration": 21,
    "start_time": "2023-08-31T18:41:12.081Z"
   },
   {
    "duration": 26,
    "start_time": "2023-08-31T18:41:12.104Z"
   },
   {
    "duration": 35,
    "start_time": "2023-08-31T18:41:12.132Z"
   },
   {
    "duration": 10,
    "start_time": "2023-08-31T18:41:12.169Z"
   },
   {
    "duration": 22,
    "start_time": "2023-08-31T18:41:12.183Z"
   },
   {
    "duration": 11,
    "start_time": "2023-08-31T18:41:12.206Z"
   },
   {
    "duration": 4,
    "start_time": "2023-08-31T18:41:12.219Z"
   },
   {
    "duration": 12,
    "start_time": "2023-08-31T18:41:12.225Z"
   },
   {
    "duration": 1214,
    "start_time": "2023-08-31T18:41:12.240Z"
   },
   {
    "duration": 59,
    "start_time": "2023-08-31T18:41:13.456Z"
   },
   {
    "duration": 193,
    "start_time": "2023-08-31T18:41:13.517Z"
   },
   {
    "duration": 194,
    "start_time": "2023-08-31T18:41:13.713Z"
   },
   {
    "duration": 308,
    "start_time": "2023-08-31T18:41:13.909Z"
   },
   {
    "duration": 6,
    "start_time": "2023-08-31T18:41:14.219Z"
   },
   {
    "duration": 7,
    "start_time": "2023-08-31T18:41:14.229Z"
   },
   {
    "duration": 5,
    "start_time": "2023-08-31T18:41:14.239Z"
   },
   {
    "duration": 73,
    "start_time": "2023-08-31T18:41:14.246Z"
   },
   {
    "duration": 213,
    "start_time": "2023-08-31T18:41:14.322Z"
   },
   {
    "duration": 291,
    "start_time": "2023-08-31T18:41:14.537Z"
   },
   {
    "duration": 120,
    "start_time": "2023-08-31T18:41:14.830Z"
   },
   {
    "duration": 38,
    "start_time": "2023-08-31T18:41:14.951Z"
   },
   {
    "duration": 28,
    "start_time": "2023-08-31T18:41:14.995Z"
   },
   {
    "duration": 69,
    "start_time": "2023-08-31T18:41:15.026Z"
   },
   {
    "duration": 38,
    "start_time": "2023-08-31T18:41:15.098Z"
   },
   {
    "duration": 49,
    "start_time": "2023-08-31T18:41:15.138Z"
   },
   {
    "duration": 194,
    "start_time": "2023-08-31T18:41:15.188Z"
   },
   {
    "duration": 198,
    "start_time": "2023-08-31T18:42:14.743Z"
   },
   {
    "duration": 83,
    "start_time": "2023-08-31T18:44:42.907Z"
   },
   {
    "duration": 188,
    "start_time": "2023-08-31T18:45:30.750Z"
   },
   {
    "duration": 44,
    "start_time": "2023-08-31T18:45:45.266Z"
   },
   {
    "duration": 244,
    "start_time": "2023-08-31T18:45:47.594Z"
   },
   {
    "duration": 926,
    "start_time": "2023-08-31T18:46:11.204Z"
   },
   {
    "duration": 25,
    "start_time": "2023-08-31T18:46:12.132Z"
   },
   {
    "duration": 26,
    "start_time": "2023-08-31T18:46:12.159Z"
   },
   {
    "duration": 19,
    "start_time": "2023-08-31T18:46:12.187Z"
   },
   {
    "duration": 54,
    "start_time": "2023-08-31T18:46:12.209Z"
   },
   {
    "duration": 10,
    "start_time": "2023-08-31T18:46:12.268Z"
   },
   {
    "duration": 8,
    "start_time": "2023-08-31T18:46:12.280Z"
   },
   {
    "duration": 7,
    "start_time": "2023-08-31T18:46:12.290Z"
   },
   {
    "duration": 17,
    "start_time": "2023-08-31T18:46:12.299Z"
   },
   {
    "duration": 5,
    "start_time": "2023-08-31T18:46:12.317Z"
   },
   {
    "duration": 52,
    "start_time": "2023-08-31T18:46:12.323Z"
   },
   {
    "duration": 11,
    "start_time": "2023-08-31T18:46:12.377Z"
   },
   {
    "duration": 4,
    "start_time": "2023-08-31T18:46:12.389Z"
   },
   {
    "duration": 14,
    "start_time": "2023-08-31T18:46:12.396Z"
   },
   {
    "duration": 57,
    "start_time": "2023-08-31T18:46:12.412Z"
   },
   {
    "duration": 22,
    "start_time": "2023-08-31T18:46:12.474Z"
   },
   {
    "duration": 4,
    "start_time": "2023-08-31T18:46:12.498Z"
   },
   {
    "duration": 19,
    "start_time": "2023-08-31T18:46:12.503Z"
   },
   {
    "duration": 10,
    "start_time": "2023-08-31T18:46:12.524Z"
   },
   {
    "duration": 5,
    "start_time": "2023-08-31T18:46:12.535Z"
   },
   {
    "duration": 38,
    "start_time": "2023-08-31T18:46:12.541Z"
   },
   {
    "duration": 1654,
    "start_time": "2023-08-31T18:46:12.582Z"
   },
   {
    "duration": 96,
    "start_time": "2023-08-31T18:46:14.238Z"
   },
   {
    "duration": 208,
    "start_time": "2023-08-31T18:46:14.336Z"
   },
   {
    "duration": 181,
    "start_time": "2023-08-31T18:46:14.546Z"
   },
   {
    "duration": 206,
    "start_time": "2023-08-31T18:46:14.729Z"
   },
   {
    "duration": 3,
    "start_time": "2023-08-31T18:46:14.936Z"
   },
   {
    "duration": 8,
    "start_time": "2023-08-31T18:46:14.941Z"
   },
   {
    "duration": 16,
    "start_time": "2023-08-31T18:46:14.958Z"
   },
   {
    "duration": 53,
    "start_time": "2023-08-31T18:46:14.976Z"
   },
   {
    "duration": 179,
    "start_time": "2023-08-31T18:46:15.031Z"
   },
   {
    "duration": 200,
    "start_time": "2023-08-31T18:46:15.215Z"
   },
   {
    "duration": 108,
    "start_time": "2023-08-31T18:46:15.417Z"
   },
   {
    "duration": 17,
    "start_time": "2023-08-31T18:46:15.527Z"
   },
   {
    "duration": 35,
    "start_time": "2023-08-31T18:46:15.545Z"
   },
   {
    "duration": 35,
    "start_time": "2023-08-31T18:46:15.582Z"
   },
   {
    "duration": 17,
    "start_time": "2023-08-31T18:46:15.619Z"
   },
   {
    "duration": 50,
    "start_time": "2023-08-31T18:46:15.638Z"
   },
   {
    "duration": 185,
    "start_time": "2023-08-31T18:46:15.690Z"
   },
   {
    "duration": 819,
    "start_time": "2023-08-31T18:50:56.024Z"
   },
   {
    "duration": 36,
    "start_time": "2023-08-31T18:50:56.845Z"
   },
   {
    "duration": 32,
    "start_time": "2023-08-31T18:50:56.883Z"
   },
   {
    "duration": 10,
    "start_time": "2023-08-31T18:50:56.918Z"
   },
   {
    "duration": 52,
    "start_time": "2023-08-31T18:50:56.930Z"
   },
   {
    "duration": 7,
    "start_time": "2023-08-31T18:50:56.985Z"
   },
   {
    "duration": 15,
    "start_time": "2023-08-31T18:50:56.994Z"
   },
   {
    "duration": 5,
    "start_time": "2023-08-31T18:50:57.011Z"
   },
   {
    "duration": 40,
    "start_time": "2023-08-31T18:50:57.018Z"
   },
   {
    "duration": 71,
    "start_time": "2023-08-31T18:50:57.064Z"
   },
   {
    "duration": 41,
    "start_time": "2023-08-31T18:50:57.136Z"
   },
   {
    "duration": 10,
    "start_time": "2023-08-31T18:50:57.178Z"
   },
   {
    "duration": 84,
    "start_time": "2023-08-31T18:50:57.190Z"
   },
   {
    "duration": 32,
    "start_time": "2023-08-31T18:50:57.280Z"
   },
   {
    "duration": 25,
    "start_time": "2023-08-31T18:50:57.315Z"
   },
   {
    "duration": 27,
    "start_time": "2023-08-31T18:50:57.342Z"
   },
   {
    "duration": 11,
    "start_time": "2023-08-31T18:50:57.372Z"
   },
   {
    "duration": 12,
    "start_time": "2023-08-31T18:50:57.386Z"
   },
   {
    "duration": 44,
    "start_time": "2023-08-31T18:50:57.400Z"
   },
   {
    "duration": 4,
    "start_time": "2023-08-31T18:50:57.446Z"
   },
   {
    "duration": 15,
    "start_time": "2023-08-31T18:50:57.452Z"
   },
   {
    "duration": 1525,
    "start_time": "2023-08-31T18:50:57.468Z"
   },
   {
    "duration": 134,
    "start_time": "2023-08-31T18:50:58.997Z"
   },
   {
    "duration": 256,
    "start_time": "2023-08-31T18:50:59.133Z"
   },
   {
    "duration": 195,
    "start_time": "2023-08-31T18:50:59.392Z"
   },
   {
    "duration": 221,
    "start_time": "2023-08-31T18:50:59.589Z"
   },
   {
    "duration": 4,
    "start_time": "2023-08-31T18:50:59.812Z"
   },
   {
    "duration": 3,
    "start_time": "2023-08-31T18:50:59.820Z"
   },
   {
    "duration": 10,
    "start_time": "2023-08-31T18:50:59.825Z"
   },
   {
    "duration": 58,
    "start_time": "2023-08-31T18:50:59.837Z"
   },
   {
    "duration": 183,
    "start_time": "2023-08-31T18:50:59.898Z"
   },
   {
    "duration": 218,
    "start_time": "2023-08-31T18:51:00.083Z"
   },
   {
    "duration": 110,
    "start_time": "2023-08-31T18:51:00.305Z"
   },
   {
    "duration": 20,
    "start_time": "2023-08-31T18:51:00.417Z"
   },
   {
    "duration": 47,
    "start_time": "2023-08-31T18:51:00.439Z"
   },
   {
    "duration": 19,
    "start_time": "2023-08-31T18:51:00.488Z"
   },
   {
    "duration": 38,
    "start_time": "2023-08-31T18:51:00.510Z"
   },
   {
    "duration": 50,
    "start_time": "2023-08-31T18:51:00.550Z"
   },
   {
    "duration": 196,
    "start_time": "2023-08-31T18:51:00.602Z"
   },
   {
    "duration": 712,
    "start_time": "2023-08-31T20:05:25.084Z"
   },
   {
    "duration": 21,
    "start_time": "2023-08-31T20:05:25.797Z"
   },
   {
    "duration": 14,
    "start_time": "2023-08-31T20:05:25.820Z"
   },
   {
    "duration": 12,
    "start_time": "2023-08-31T20:05:25.836Z"
   },
   {
    "duration": 35,
    "start_time": "2023-08-31T20:05:25.849Z"
   },
   {
    "duration": 4,
    "start_time": "2023-08-31T20:05:25.886Z"
   },
   {
    "duration": 12,
    "start_time": "2023-08-31T20:05:25.892Z"
   },
   {
    "duration": 4,
    "start_time": "2023-08-31T20:05:25.906Z"
   },
   {
    "duration": 16,
    "start_time": "2023-08-31T20:05:25.912Z"
   },
   {
    "duration": 5,
    "start_time": "2023-08-31T20:05:25.950Z"
   },
   {
    "duration": 109,
    "start_time": "2023-08-31T20:05:25.956Z"
   },
   {
    "duration": 12,
    "start_time": "2023-08-31T20:05:26.066Z"
   },
   {
    "duration": 4,
    "start_time": "2023-08-31T20:05:26.080Z"
   },
   {
    "duration": 25,
    "start_time": "2023-08-31T20:05:26.086Z"
   },
   {
    "duration": 88,
    "start_time": "2023-08-31T20:05:26.113Z"
   },
   {
    "duration": 25,
    "start_time": "2023-08-31T20:05:26.202Z"
   },
   {
    "duration": 7,
    "start_time": "2023-08-31T20:05:26.229Z"
   },
   {
    "duration": 12,
    "start_time": "2023-08-31T20:05:26.238Z"
   },
   {
    "duration": 7,
    "start_time": "2023-08-31T20:05:26.252Z"
   },
   {
    "duration": 5,
    "start_time": "2023-08-31T20:05:26.261Z"
   },
   {
    "duration": 11,
    "start_time": "2023-08-31T20:05:26.268Z"
   },
   {
    "duration": 1203,
    "start_time": "2023-08-31T20:05:26.280Z"
   },
   {
    "duration": 70,
    "start_time": "2023-08-31T20:05:27.485Z"
   },
   {
    "duration": 167,
    "start_time": "2023-08-31T20:05:27.558Z"
   },
   {
    "duration": 164,
    "start_time": "2023-08-31T20:05:27.726Z"
   },
   {
    "duration": 198,
    "start_time": "2023-08-31T20:05:27.891Z"
   },
   {
    "duration": 3,
    "start_time": "2023-08-31T20:05:28.091Z"
   },
   {
    "duration": 6,
    "start_time": "2023-08-31T20:05:28.097Z"
   },
   {
    "duration": 7,
    "start_time": "2023-08-31T20:05:28.105Z"
   },
   {
    "duration": 58,
    "start_time": "2023-08-31T20:05:28.113Z"
   },
   {
    "duration": 168,
    "start_time": "2023-08-31T20:05:28.172Z"
   },
   {
    "duration": 191,
    "start_time": "2023-08-31T20:05:28.351Z"
   },
   {
    "duration": 115,
    "start_time": "2023-08-31T20:05:28.550Z"
   },
   {
    "duration": 20,
    "start_time": "2023-08-31T20:05:28.667Z"
   },
   {
    "duration": 13,
    "start_time": "2023-08-31T20:05:28.689Z"
   },
   {
    "duration": 97,
    "start_time": "2023-08-31T20:05:28.703Z"
   },
   {
    "duration": 14,
    "start_time": "2023-08-31T20:05:28.802Z"
   },
   {
    "duration": 49,
    "start_time": "2023-08-31T20:05:28.818Z"
   },
   {
    "duration": 159,
    "start_time": "2023-08-31T20:05:28.869Z"
   }
  ],
  "colab": {
   "name": "dpp_template_part2.ipynb",
   "provenance": []
  },
  "kernelspec": {
   "display_name": "Python 3 (ipykernel)",
   "language": "python",
   "name": "python3"
  },
  "language_info": {
   "codemirror_mode": {
    "name": "ipython",
    "version": 3
   },
   "file_extension": ".py",
   "mimetype": "text/x-python",
   "name": "python",
   "nbconvert_exporter": "python",
   "pygments_lexer": "ipython3",
   "version": "3.11.5"
  },
  "toc": {
   "base_numbering": 1,
   "nav_menu": {},
   "number_sections": true,
   "sideBar": true,
   "skip_h1_title": true,
   "title_cell": "Table of Contents",
   "title_sidebar": "Contents",
   "toc_cell": false,
   "toc_position": {
    "height": "calc(100% - 180px)",
    "left": "10px",
    "top": "150px",
    "width": "172.943px"
   },
   "toc_section_display": true,
   "toc_window_display": true
  }
 },
 "nbformat": 4,
 "nbformat_minor": 5
}
