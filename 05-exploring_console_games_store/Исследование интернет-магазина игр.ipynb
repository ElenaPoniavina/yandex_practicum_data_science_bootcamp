{
 "cells": [
  {
   "cell_type": "markdown",
   "metadata": {},
   "source": [
    "# Исследование интернет-магазина игр"
   ]
  },
  {
   "cell_type": "markdown",
   "metadata": {},
   "source": [
    "**Описание проекта**"
   ]
  },
  {
   "cell_type": "markdown",
   "metadata": {},
   "source": [
    "Имеется интернет-магазин «Стримчик», который продаёт по всему миру компьютерные игры. Из открытых источников доступны исторические данные о продажах игр, оценки пользователей и экспертов, жанры и платформы (например, Xbox или PlayStation). Необходимо выявить определяющие успешность игры закономерности. Это позволит сделать ставку на потенциально популярный продукт и спланировать рекламные кампании на следующий год."
   ]
  },
  {
   "cell_type": "markdown",
   "metadata": {},
   "source": [
    "**Имеющиеся данные:**\n",
    "- Данные об имеющихся играх (таблица games):\n",
    "    - Name - наименование игры\n",
    "    - Platform - платформа\n",
    "    - Year_of_Release - год выпуска\n",
    "    - Genre - жанр\n",
    "    - NA_sales - продажи в Северной Америке\n",
    "    - EU_sales - продажи в Европе\n",
    "    - JP_sales - продажи в Японии\n",
    "    - Other_sales - продажи в других регионах\n",
    "    - Critic_Score - оценка критиков (максимум 100)\n",
    "    - User_Score - оценка пользователей (максимум 10)\n",
    "    - Rating - рейтинг"
   ]
  },
  {
   "cell_type": "markdown",
   "metadata": {},
   "source": [
    "**Содержание проекта:**\n",
    "<br>[1. Загрузка данных](#ref1)\n",
    "\n",
    "<br>[2. Предобработка данных](#ref2)\n",
    "<br>[2.1  Переименуем столбцы в корректный формат.](#ref2.1)\n",
    "<br>[2.2  Преобразуем типы полей.](#ref2.2)\n",
    "<br>[2.3  Обработаем пропуски.](#ref2.3)\n",
    "<br>[2.4  Посчитаем суммарные продажи по каждому региону.](#ref2.4)\n",
    "\n",
    "<br>[3. Исследовательский анализ данных](#ref3)\n",
    "<br>[3.1  Оценим количество выпускаемых игр в разные года.](#ref3.1)\n",
    "<br>[3.2  Оценим продажи по платформам.](#ref3.2)\n",
    "<br>[3.3  Изучим суммарные продажи по играм.](#ref3.3)\n",
    "<br>[3.4  Изучим влияние отзывов на продажи.](#ref3.4)\n",
    "<br>[3.5  Изучим распределение игр по жанрам.](#ref3.5)\n",
    "\n",
    "<br>[4. Портрет пользователя каждого региона](#ref4)\n",
    "<br>[4.1  Самые популярные платформы.](#ref4.1)\n",
    "<br>[4.2  Самые популярные жанры.](#ref4.2)\n",
    "<br>[4.3  Влияние рейтинга ESRB на продажи.](#ref4.3)\n",
    "\n",
    "<br>[5. Проверим гипотезы](#ref5)\n",
    "<br>[5.1  Средние пользовательские рейтинги платформ Xbox One и PC одинаковые.](#ref5.1)\n",
    "<br>[5.5  Средние пользовательские рейтинги жанров Action и Sports разные.](#ref5.2)\n",
    "\n",
    "<br>[6. Общие выводы](#ref6)"
   ]
  },
  {
   "cell_type": "markdown",
   "metadata": {},
   "source": [
    "## Загрузка данных\n",
    "<a id='ref1'></a>"
   ]
  },
  {
   "cell_type": "markdown",
   "metadata": {},
   "source": [
    "Посмотрим на имеющиеся данные."
   ]
  },
  {
   "cell_type": "code",
   "execution_count": 1,
   "metadata": {},
   "outputs": [],
   "source": [
    "import pandas as pd\n",
    "import matplotlib.pyplot as plt\n",
    "import seaborn as sns\n",
    "from scipy import stats as st\n",
    "import warnings\n"
   ]
  },
  {
   "cell_type": "code",
   "execution_count": 2,
   "metadata": {},
   "outputs": [
    {
     "name": "stdout",
     "output_type": "stream",
     "text": [
      "<class 'pandas.core.frame.DataFrame'>\n",
      "RangeIndex: 16715 entries, 0 to 16714\n",
      "Data columns (total 11 columns):\n",
      " #   Column           Non-Null Count  Dtype  \n",
      "---  ------           --------------  -----  \n",
      " 0   Name             16713 non-null  object \n",
      " 1   Platform         16715 non-null  object \n",
      " 2   Year_of_Release  16446 non-null  float64\n",
      " 3   Genre            16713 non-null  object \n",
      " 4   NA_sales         16715 non-null  float64\n",
      " 5   EU_sales         16715 non-null  float64\n",
      " 6   JP_sales         16715 non-null  float64\n",
      " 7   Other_sales      16715 non-null  float64\n",
      " 8   Critic_Score     8137 non-null   float64\n",
      " 9   User_Score       10014 non-null  object \n",
      " 10  Rating           9949 non-null   object \n",
      "dtypes: float64(6), object(5)\n",
      "memory usage: 1.4+ MB\n"
     ]
    },
    {
     "data": {
      "text/html": [
       "<div>\n",
       "<style scoped>\n",
       "    .dataframe tbody tr th:only-of-type {\n",
       "        vertical-align: middle;\n",
       "    }\n",
       "\n",
       "    .dataframe tbody tr th {\n",
       "        vertical-align: top;\n",
       "    }\n",
       "\n",
       "    .dataframe thead th {\n",
       "        text-align: right;\n",
       "    }\n",
       "</style>\n",
       "<table border=\"1\" class=\"dataframe\">\n",
       "  <thead>\n",
       "    <tr style=\"text-align: right;\">\n",
       "      <th></th>\n",
       "      <th>Name</th>\n",
       "      <th>Platform</th>\n",
       "      <th>Year_of_Release</th>\n",
       "      <th>Genre</th>\n",
       "      <th>NA_sales</th>\n",
       "      <th>EU_sales</th>\n",
       "      <th>JP_sales</th>\n",
       "      <th>Other_sales</th>\n",
       "      <th>Critic_Score</th>\n",
       "      <th>User_Score</th>\n",
       "      <th>Rating</th>\n",
       "    </tr>\n",
       "  </thead>\n",
       "  <tbody>\n",
       "    <tr>\n",
       "      <th>0</th>\n",
       "      <td>Wii Sports</td>\n",
       "      <td>Wii</td>\n",
       "      <td>2006.0</td>\n",
       "      <td>Sports</td>\n",
       "      <td>41.36</td>\n",
       "      <td>28.96</td>\n",
       "      <td>3.77</td>\n",
       "      <td>8.45</td>\n",
       "      <td>76.0</td>\n",
       "      <td>8</td>\n",
       "      <td>E</td>\n",
       "    </tr>\n",
       "    <tr>\n",
       "      <th>1</th>\n",
       "      <td>Super Mario Bros.</td>\n",
       "      <td>NES</td>\n",
       "      <td>1985.0</td>\n",
       "      <td>Platform</td>\n",
       "      <td>29.08</td>\n",
       "      <td>3.58</td>\n",
       "      <td>6.81</td>\n",
       "      <td>0.77</td>\n",
       "      <td>NaN</td>\n",
       "      <td>NaN</td>\n",
       "      <td>NaN</td>\n",
       "    </tr>\n",
       "    <tr>\n",
       "      <th>2</th>\n",
       "      <td>Mario Kart Wii</td>\n",
       "      <td>Wii</td>\n",
       "      <td>2008.0</td>\n",
       "      <td>Racing</td>\n",
       "      <td>15.68</td>\n",
       "      <td>12.76</td>\n",
       "      <td>3.79</td>\n",
       "      <td>3.29</td>\n",
       "      <td>82.0</td>\n",
       "      <td>8.3</td>\n",
       "      <td>E</td>\n",
       "    </tr>\n",
       "    <tr>\n",
       "      <th>3</th>\n",
       "      <td>Wii Sports Resort</td>\n",
       "      <td>Wii</td>\n",
       "      <td>2009.0</td>\n",
       "      <td>Sports</td>\n",
       "      <td>15.61</td>\n",
       "      <td>10.93</td>\n",
       "      <td>3.28</td>\n",
       "      <td>2.95</td>\n",
       "      <td>80.0</td>\n",
       "      <td>8</td>\n",
       "      <td>E</td>\n",
       "    </tr>\n",
       "    <tr>\n",
       "      <th>4</th>\n",
       "      <td>Pokemon Red/Pokemon Blue</td>\n",
       "      <td>GB</td>\n",
       "      <td>1996.0</td>\n",
       "      <td>Role-Playing</td>\n",
       "      <td>11.27</td>\n",
       "      <td>8.89</td>\n",
       "      <td>10.22</td>\n",
       "      <td>1.00</td>\n",
       "      <td>NaN</td>\n",
       "      <td>NaN</td>\n",
       "      <td>NaN</td>\n",
       "    </tr>\n",
       "  </tbody>\n",
       "</table>\n",
       "</div>"
      ],
      "text/plain": [
       "                       Name Platform  Year_of_Release         Genre  NA_sales  \\\n",
       "0                Wii Sports      Wii           2006.0        Sports     41.36   \n",
       "1         Super Mario Bros.      NES           1985.0      Platform     29.08   \n",
       "2            Mario Kart Wii      Wii           2008.0        Racing     15.68   \n",
       "3         Wii Sports Resort      Wii           2009.0        Sports     15.61   \n",
       "4  Pokemon Red/Pokemon Blue       GB           1996.0  Role-Playing     11.27   \n",
       "\n",
       "   EU_sales  JP_sales  Other_sales  Critic_Score User_Score Rating  \n",
       "0     28.96      3.77         8.45          76.0          8      E  \n",
       "1      3.58      6.81         0.77           NaN        NaN    NaN  \n",
       "2     12.76      3.79         3.29          82.0        8.3      E  \n",
       "3     10.93      3.28         2.95          80.0          8      E  \n",
       "4      8.89     10.22         1.00           NaN        NaN    NaN  "
      ]
     },
     "execution_count": 2,
     "metadata": {},
     "output_type": "execute_result"
    }
   ],
   "source": [
    "try:\n",
    "    games = pd.read_csv('...')\n",
    "except:\n",
    "    games = pd.read_csv('...')\n",
    "games.info() #выведем общую информацию о датафрейме\n",
    "games.head() #выведем первые несколько строк"
   ]
  },
  {
   "cell_type": "markdown",
   "metadata": {},
   "source": [
    "По итогу знакомства с данными, видим, что у нас есть информация:\n",
    "- об игре (название, год выпуска, платформа, возрастной ценз)\n",
    "- о количествах продаж в каждом регионе (Северная Америка, Япония, Европа и остальные регионы)\n",
    "- о пользовательских и экспертных рейтингах игры\n",
    "\n",
    "<br> Видим, что наименования колонок необходимо привести к нижнему регистру.\n",
    "<br> Видим пропуски в следубщих полях: Name, Genre, Year_of_Release, Critic_Score, User_Score, Rating.\n",
    "<br> Также видим, что типы данных некоторых полей необходимо заменить:\n",
    "- Year_of_Release предствлен во float, хотя год не может быть дробным числом\n",
    "- User_Score представлен в object, хотя содержит дробное число"
   ]
  },
  {
   "cell_type": "markdown",
   "metadata": {},
   "source": [
    "## Предобработка данных\n",
    "<a id='ref2'></a>"
   ]
  },
  {
   "cell_type": "markdown",
   "metadata": {},
   "source": [
    "**2.1 Переименуем столбцы в корректный формат.** <a id='ref2.1'></a>"
   ]
  },
  {
   "cell_type": "code",
   "execution_count": 3,
   "metadata": {},
   "outputs": [
    {
     "data": {
      "text/html": [
       "<div>\n",
       "<style scoped>\n",
       "    .dataframe tbody tr th:only-of-type {\n",
       "        vertical-align: middle;\n",
       "    }\n",
       "\n",
       "    .dataframe tbody tr th {\n",
       "        vertical-align: top;\n",
       "    }\n",
       "\n",
       "    .dataframe thead th {\n",
       "        text-align: right;\n",
       "    }\n",
       "</style>\n",
       "<table border=\"1\" class=\"dataframe\">\n",
       "  <thead>\n",
       "    <tr style=\"text-align: right;\">\n",
       "      <th></th>\n",
       "      <th>name</th>\n",
       "      <th>platform</th>\n",
       "      <th>year_of_release</th>\n",
       "      <th>genre</th>\n",
       "      <th>na_sales</th>\n",
       "      <th>eu_sales</th>\n",
       "      <th>jp_sales</th>\n",
       "      <th>other_sales</th>\n",
       "      <th>critic_score</th>\n",
       "      <th>user_score</th>\n",
       "      <th>rating</th>\n",
       "    </tr>\n",
       "  </thead>\n",
       "  <tbody>\n",
       "    <tr>\n",
       "      <th>0</th>\n",
       "      <td>Wii Sports</td>\n",
       "      <td>Wii</td>\n",
       "      <td>2006.0</td>\n",
       "      <td>Sports</td>\n",
       "      <td>41.36</td>\n",
       "      <td>28.96</td>\n",
       "      <td>3.77</td>\n",
       "      <td>8.45</td>\n",
       "      <td>76.0</td>\n",
       "      <td>8</td>\n",
       "      <td>E</td>\n",
       "    </tr>\n",
       "    <tr>\n",
       "      <th>1</th>\n",
       "      <td>Super Mario Bros.</td>\n",
       "      <td>NES</td>\n",
       "      <td>1985.0</td>\n",
       "      <td>Platform</td>\n",
       "      <td>29.08</td>\n",
       "      <td>3.58</td>\n",
       "      <td>6.81</td>\n",
       "      <td>0.77</td>\n",
       "      <td>NaN</td>\n",
       "      <td>NaN</td>\n",
       "      <td>NaN</td>\n",
       "    </tr>\n",
       "  </tbody>\n",
       "</table>\n",
       "</div>"
      ],
      "text/plain": [
       "                name platform  year_of_release     genre  na_sales  eu_sales  \\\n",
       "0         Wii Sports      Wii           2006.0    Sports     41.36     28.96   \n",
       "1  Super Mario Bros.      NES           1985.0  Platform     29.08      3.58   \n",
       "\n",
       "   jp_sales  other_sales  critic_score user_score rating  \n",
       "0      3.77         8.45          76.0          8      E  \n",
       "1      6.81         0.77           NaN        NaN    NaN  "
      ]
     },
     "execution_count": 3,
     "metadata": {},
     "output_type": "execute_result"
    }
   ],
   "source": [
    "games.columns = games.columns.str.lower()\n",
    "games.head(2)"
   ]
  },
  {
   "cell_type": "markdown",
   "metadata": {},
   "source": [
    "**2.2 Преобразуем типы полей.** <a id='ref2.2'></a>"
   ]
  },
  {
   "cell_type": "markdown",
   "metadata": {},
   "source": [
    "Преобразуем типы следующих полей:\n",
    "- year_of_release: сейчас float, сделаем int, тк. год выпуска не может быть дробным числом. В качестве замены поставим год 1970, т.к. в этом году видеоигр еще не было (и мы будем понимать, что это значение для игр, у которых год не задан). \n",
    "- user_score: преобразуем в значение float, аналогично critic_score\n",
    "<br>Так как при преобразовании типов мешают значения NaN и tbd, заменим их на -1 и будем знать, что для этих значений год\\оценка не указаны."
   ]
  },
  {
   "cell_type": "code",
   "execution_count": 4,
   "metadata": {
    "scrolled": true
   },
   "outputs": [
    {
     "data": {
      "text/plain": [
       "array([2006, 1985, 2008, 2009, 1996, 1989, 1984, 2005, 1999, 2007, 2010,\n",
       "       2013, 2004, 1990, 1988, 2002, 2001, 2011, 1998, 2015, 2012, 2014,\n",
       "       1992, 1997, 1993, 1994, 1982, 2016, 2003, 1986, 2000, 1970, 1995,\n",
       "       1991, 1981, 1987, 1980, 1983])"
      ]
     },
     "execution_count": 4,
     "metadata": {},
     "output_type": "execute_result"
    }
   ],
   "source": [
    "games.loc[games['year_of_release'].isna(),'year_of_release'] = 1970 #т.к. Nan не преобразуется, заменим его на 0\n",
    "games['year_of_release'] = games['year_of_release'].astype(int) #преобразуем тип\n",
    "games['year_of_release'].unique() #проверим все уникальные значения"
   ]
  },
  {
   "cell_type": "markdown",
   "metadata": {},
   "source": [
    "Пропуски по year заполнились.\n",
    "<br>Посмотрим на уникальные значения поля user_score"
   ]
  },
  {
   "cell_type": "code",
   "execution_count": 5,
   "metadata": {},
   "outputs": [
    {
     "data": {
      "text/plain": [
       "array(['8', nan, '8.3', '8.5', '6.6', '8.4', '8.6', '7.7', '6.3', '7.4',\n",
       "       '8.2', '9', '7.9', '8.1', '8.7', '7.1', '3.4', '5.3', '4.8', '3.2',\n",
       "       '8.9', '6.4', '7.8', '7.5', '2.6', '7.2', '9.2', '7', '7.3', '4.3',\n",
       "       '7.6', '5.7', '5', '9.1', '6.5', 'tbd', '8.8', '6.9', '9.4', '6.8',\n",
       "       '6.1', '6.7', '5.4', '4', '4.9', '4.5', '9.3', '6.2', '4.2', '6',\n",
       "       '3.7', '4.1', '5.8', '5.6', '5.5', '4.4', '4.6', '5.9', '3.9',\n",
       "       '3.1', '2.9', '5.2', '3.3', '4.7', '5.1', '3.5', '2.5', '1.9', '3',\n",
       "       '2.7', '2.2', '2', '9.5', '2.1', '3.6', '2.8', '1.8', '3.8', '0',\n",
       "       '1.6', '9.6', '2.4', '1.7', '1.1', '0.3', '1.5', '0.7', '1.2',\n",
       "       '2.3', '0.5', '1.3', '0.2', '0.6', '1.4', '0.9', '1', '9.7'],\n",
       "      dtype=object)"
      ]
     },
     "execution_count": 5,
     "metadata": {},
     "output_type": "execute_result"
    }
   ],
   "source": [
    "games['user_score'].unique()"
   ]
  },
  {
   "cell_type": "markdown",
   "metadata": {},
   "source": [
    "Видим, что есть значения \"tbd\" (to be difined), значит, оценка еще будет проставлена, а пока что ее нет. \n",
    "Для целей преобразования заменим значения Nan и tbd на -1 и преобразуем тип данных."
   ]
  },
  {
   "cell_type": "code",
   "execution_count": 6,
   "metadata": {},
   "outputs": [
    {
     "data": {
      "text/plain": [
       "array(['8', '-1', '8.3', '8.5', '6.6', '8.4', '8.6', '7.7', '6.3', '7.4',\n",
       "       '8.2', '9', '7.9', '8.1', '8.7', '7.1', '3.4', '5.3', '4.8', '3.2',\n",
       "       '8.9', '6.4', '7.8', '7.5', '2.6', '7.2', '9.2', '7', '7.3', '4.3',\n",
       "       '7.6', '5.7', '5', '9.1', '6.5', '8.8', '6.9', '9.4', '6.8', '6.1',\n",
       "       '6.7', '5.4', '4', '4.9', '4.5', '9.3', '6.2', '4.2', '6', '3.7',\n",
       "       '4.1', '5.8', '5.6', '5.5', '4.4', '4.6', '5.9', '3.9', '3.1',\n",
       "       '2.9', '5.2', '3.3', '4.7', '5.1', '3.5', '2.5', '1.9', '3', '2.7',\n",
       "       '2.2', '2', '9.5', '2.1', '3.6', '2.8', '1.8', '3.8', '0', '1.6',\n",
       "       '9.6', '2.4', '1.7', '1.1', '0.3', '1.5', '0.7', '1.2', '2.3',\n",
       "       '0.5', '1.3', '0.2', '0.6', '1.4', '0.9', '1', '9.7'], dtype=object)"
      ]
     },
     "execution_count": 6,
     "metadata": {},
     "output_type": "execute_result"
    }
   ],
   "source": [
    "games.loc[(games['user_score'] =='tbd')|(games['user_score'].isna()),'user_score'] = '-1' #заменим на -1\n",
    "games['user_score'].unique() #проверим замену"
   ]
  },
  {
   "cell_type": "code",
   "execution_count": 7,
   "metadata": {},
   "outputs": [
    {
     "data": {
      "text/plain": [
       "array([ 8. , -1. ,  8.3,  8.5,  6.6,  8.4,  8.6,  7.7,  6.3,  7.4,  8.2,\n",
       "        9. ,  7.9,  8.1,  8.7,  7.1,  3.4,  5.3,  4.8,  3.2,  8.9,  6.4,\n",
       "        7.8,  7.5,  2.6,  7.2,  9.2,  7. ,  7.3,  4.3,  7.6,  5.7,  5. ,\n",
       "        9.1,  6.5,  8.8,  6.9,  9.4,  6.8,  6.1,  6.7,  5.4,  4. ,  4.9,\n",
       "        4.5,  9.3,  6.2,  4.2,  6. ,  3.7,  4.1,  5.8,  5.6,  5.5,  4.4,\n",
       "        4.6,  5.9,  3.9,  3.1,  2.9,  5.2,  3.3,  4.7,  5.1,  3.5,  2.5,\n",
       "        1.9,  3. ,  2.7,  2.2,  2. ,  9.5,  2.1,  3.6,  2.8,  1.8,  3.8,\n",
       "        0. ,  1.6,  9.6,  2.4,  1.7,  1.1,  0.3,  1.5,  0.7,  1.2,  2.3,\n",
       "        0.5,  1.3,  0.2,  0.6,  1.4,  0.9,  1. ,  9.7])"
      ]
     },
     "execution_count": 7,
     "metadata": {},
     "output_type": "execute_result"
    }
   ],
   "source": [
    "games['user_score'] = games['user_score'].astype(float)\n",
    "games['user_score'].unique()"
   ]
  },
  {
   "cell_type": "markdown",
   "metadata": {},
   "source": [
    "Проверим финально типы данных в таблице"
   ]
  },
  {
   "cell_type": "code",
   "execution_count": 8,
   "metadata": {
    "scrolled": true
   },
   "outputs": [
    {
     "name": "stdout",
     "output_type": "stream",
     "text": [
      "<class 'pandas.core.frame.DataFrame'>\n",
      "RangeIndex: 16715 entries, 0 to 16714\n",
      "Data columns (total 11 columns):\n",
      " #   Column           Non-Null Count  Dtype  \n",
      "---  ------           --------------  -----  \n",
      " 0   name             16713 non-null  object \n",
      " 1   platform         16715 non-null  object \n",
      " 2   year_of_release  16715 non-null  int32  \n",
      " 3   genre            16713 non-null  object \n",
      " 4   na_sales         16715 non-null  float64\n",
      " 5   eu_sales         16715 non-null  float64\n",
      " 6   jp_sales         16715 non-null  float64\n",
      " 7   other_sales      16715 non-null  float64\n",
      " 8   critic_score     8137 non-null   float64\n",
      " 9   user_score       16715 non-null  float64\n",
      " 10  rating           9949 non-null   object \n",
      "dtypes: float64(6), int32(1), object(4)\n",
      "memory usage: 1.3+ MB\n"
     ]
    }
   ],
   "source": [
    "games.info()"
   ]
  },
  {
   "cell_type": "markdown",
   "metadata": {},
   "source": [
    "Все корректно, можно переходить к заполнению пропусков."
   ]
  },
  {
   "cell_type": "markdown",
   "metadata": {},
   "source": [
    "**2.3 Обработаем пропуски.** <a id='ref2.3'></a>"
   ]
  },
  {
   "cell_type": "markdown",
   "metadata": {},
   "source": [
    "Посчитаем количество пропусков:"
   ]
  },
  {
   "cell_type": "code",
   "execution_count": 9,
   "metadata": {},
   "outputs": [
    {
     "data": {
      "text/plain": [
       "name                  2\n",
       "platform              0\n",
       "year_of_release       0\n",
       "genre                 2\n",
       "na_sales              0\n",
       "eu_sales              0\n",
       "jp_sales              0\n",
       "other_sales           0\n",
       "critic_score       8578\n",
       "user_score            0\n",
       "rating             6766\n",
       "dtype: int64"
      ]
     },
     "execution_count": 9,
     "metadata": {},
     "output_type": "execute_result"
    }
   ],
   "source": [
    "games.isna().sum()"
   ]
  },
  {
   "cell_type": "markdown",
   "metadata": {},
   "source": [
    "Обработаем пропуски для следующих полей:\n",
    "- name, genre - судя по тому что в полях по 2 пропуска, есть вероятность, что в одних и тех же строках\n",
    "- critic_score, user_score, rating - проверим, можно ли заполнить пропуски медианой/модой по каждой игре (если в таблице каждая игра встречается не единожды)"
   ]
  },
  {
   "cell_type": "code",
   "execution_count": 10,
   "metadata": {},
   "outputs": [
    {
     "data": {
      "text/html": [
       "<div>\n",
       "<style scoped>\n",
       "    .dataframe tbody tr th:only-of-type {\n",
       "        vertical-align: middle;\n",
       "    }\n",
       "\n",
       "    .dataframe tbody tr th {\n",
       "        vertical-align: top;\n",
       "    }\n",
       "\n",
       "    .dataframe thead th {\n",
       "        text-align: right;\n",
       "    }\n",
       "</style>\n",
       "<table border=\"1\" class=\"dataframe\">\n",
       "  <thead>\n",
       "    <tr style=\"text-align: right;\">\n",
       "      <th></th>\n",
       "      <th>name</th>\n",
       "      <th>platform</th>\n",
       "      <th>year_of_release</th>\n",
       "      <th>genre</th>\n",
       "      <th>na_sales</th>\n",
       "      <th>eu_sales</th>\n",
       "      <th>jp_sales</th>\n",
       "      <th>other_sales</th>\n",
       "      <th>critic_score</th>\n",
       "      <th>user_score</th>\n",
       "      <th>rating</th>\n",
       "    </tr>\n",
       "  </thead>\n",
       "  <tbody>\n",
       "    <tr>\n",
       "      <th>659</th>\n",
       "      <td>NaN</td>\n",
       "      <td>GEN</td>\n",
       "      <td>1993</td>\n",
       "      <td>NaN</td>\n",
       "      <td>1.78</td>\n",
       "      <td>0.53</td>\n",
       "      <td>0.00</td>\n",
       "      <td>0.08</td>\n",
       "      <td>NaN</td>\n",
       "      <td>-1.0</td>\n",
       "      <td>NaN</td>\n",
       "    </tr>\n",
       "    <tr>\n",
       "      <th>14244</th>\n",
       "      <td>NaN</td>\n",
       "      <td>GEN</td>\n",
       "      <td>1993</td>\n",
       "      <td>NaN</td>\n",
       "      <td>0.00</td>\n",
       "      <td>0.00</td>\n",
       "      <td>0.03</td>\n",
       "      <td>0.00</td>\n",
       "      <td>NaN</td>\n",
       "      <td>-1.0</td>\n",
       "      <td>NaN</td>\n",
       "    </tr>\n",
       "  </tbody>\n",
       "</table>\n",
       "</div>"
      ],
      "text/plain": [
       "      name platform  year_of_release genre  na_sales  eu_sales  jp_sales  \\\n",
       "659    NaN      GEN             1993   NaN      1.78      0.53      0.00   \n",
       "14244  NaN      GEN             1993   NaN      0.00      0.00      0.03   \n",
       "\n",
       "       other_sales  critic_score  user_score rating  \n",
       "659           0.08           NaN        -1.0    NaN  \n",
       "14244         0.00           NaN        -1.0    NaN  "
      ]
     },
     "execution_count": 10,
     "metadata": {},
     "output_type": "execute_result"
    }
   ],
   "source": [
    "games[games['name'].isna()]"
   ]
  },
  {
   "cell_type": "markdown",
   "metadata": {},
   "source": [
    "Действительно, у данных двух строк не указано ни название игры, ни жанр. Однако, есть данные по продажам, поэтому заменим пустые значения на \"Не указано\", чтобы в дальнейшем иметь возможность работать с этими данными."
   ]
  },
  {
   "cell_type": "code",
   "execution_count": 11,
   "metadata": {},
   "outputs": [
    {
     "data": {
      "text/html": [
       "<div>\n",
       "<style scoped>\n",
       "    .dataframe tbody tr th:only-of-type {\n",
       "        vertical-align: middle;\n",
       "    }\n",
       "\n",
       "    .dataframe tbody tr th {\n",
       "        vertical-align: top;\n",
       "    }\n",
       "\n",
       "    .dataframe thead th {\n",
       "        text-align: right;\n",
       "    }\n",
       "</style>\n",
       "<table border=\"1\" class=\"dataframe\">\n",
       "  <thead>\n",
       "    <tr style=\"text-align: right;\">\n",
       "      <th></th>\n",
       "      <th>name</th>\n",
       "      <th>platform</th>\n",
       "      <th>year_of_release</th>\n",
       "      <th>genre</th>\n",
       "      <th>na_sales</th>\n",
       "      <th>eu_sales</th>\n",
       "      <th>jp_sales</th>\n",
       "      <th>other_sales</th>\n",
       "      <th>critic_score</th>\n",
       "      <th>user_score</th>\n",
       "      <th>rating</th>\n",
       "    </tr>\n",
       "  </thead>\n",
       "  <tbody>\n",
       "    <tr>\n",
       "      <th>659</th>\n",
       "      <td>Не указано</td>\n",
       "      <td>GEN</td>\n",
       "      <td>1993</td>\n",
       "      <td>Не указано</td>\n",
       "      <td>1.78</td>\n",
       "      <td>0.53</td>\n",
       "      <td>0.00</td>\n",
       "      <td>0.08</td>\n",
       "      <td>NaN</td>\n",
       "      <td>-1.0</td>\n",
       "      <td>NaN</td>\n",
       "    </tr>\n",
       "    <tr>\n",
       "      <th>14244</th>\n",
       "      <td>Не указано</td>\n",
       "      <td>GEN</td>\n",
       "      <td>1993</td>\n",
       "      <td>Не указано</td>\n",
       "      <td>0.00</td>\n",
       "      <td>0.00</td>\n",
       "      <td>0.03</td>\n",
       "      <td>0.00</td>\n",
       "      <td>NaN</td>\n",
       "      <td>-1.0</td>\n",
       "      <td>NaN</td>\n",
       "    </tr>\n",
       "  </tbody>\n",
       "</table>\n",
       "</div>"
      ],
      "text/plain": [
       "             name platform  year_of_release       genre  na_sales  eu_sales  \\\n",
       "659    Не указано      GEN             1993  Не указано      1.78      0.53   \n",
       "14244  Не указано      GEN             1993  Не указано      0.00      0.00   \n",
       "\n",
       "       jp_sales  other_sales  critic_score  user_score rating  \n",
       "659        0.00         0.08           NaN        -1.0    NaN  \n",
       "14244      0.03         0.00           NaN        -1.0    NaN  "
      ]
     },
     "execution_count": 11,
     "metadata": {},
     "output_type": "execute_result"
    }
   ],
   "source": [
    "games.loc[games['name'].isna(),'name']='Не указано'\n",
    "games.loc[games['genre'].isna(),'genre']='Не указано'\n",
    "games[games['name']=='Не указано']"
   ]
  },
  {
   "cell_type": "markdown",
   "metadata": {},
   "source": [
    "Пропуски по name, genre заполнились. \n",
    "<br>Посмотрим на уникальные значения полей critic_score, rating. Значенеия user_score мы видели выше, когда заполняли пропуски."
   ]
  },
  {
   "cell_type": "code",
   "execution_count": 12,
   "metadata": {
    "scrolled": true
   },
   "outputs": [
    {
     "data": {
      "text/plain": [
       "array([76., nan, 82., 80., 89., 58., 87., 91., 61., 97., 95., 77., 88.,\n",
       "       83., 94., 93., 85., 86., 98., 96., 90., 84., 73., 74., 78., 92.,\n",
       "       71., 72., 68., 62., 49., 67., 81., 66., 56., 79., 70., 59., 64.,\n",
       "       75., 60., 63., 69., 50., 25., 42., 44., 55., 48., 57., 29., 47.,\n",
       "       65., 54., 20., 53., 37., 38., 33., 52., 30., 32., 43., 45., 51.,\n",
       "       40., 46., 39., 34., 35., 41., 36., 28., 31., 27., 26., 19., 23.,\n",
       "       24., 21., 17., 22., 13.])"
      ]
     },
     "execution_count": 12,
     "metadata": {},
     "output_type": "execute_result"
    }
   ],
   "source": [
    "games['critic_score'].unique()"
   ]
  },
  {
   "cell_type": "code",
   "execution_count": 13,
   "metadata": {},
   "outputs": [
    {
     "data": {
      "text/plain": [
       "array(['E', nan, 'M', 'T', 'E10+', 'K-A', 'AO', 'EC', 'RP'], dtype=object)"
      ]
     },
     "execution_count": 13,
     "metadata": {},
     "output_type": "execute_result"
    }
   ],
   "source": [
    "games['rating'].unique()"
   ]
  },
  {
   "cell_type": "markdown",
   "metadata": {},
   "source": [
    "Так как оценки достаточно субъективны по каждой игре, оставим это поле как есть. Тем более, что даже если заполнять проуски по critic_score медианой по каждой выбранной игре, количество заполненных пропусков будет очень небольшим."
   ]
  },
  {
   "cell_type": "markdown",
   "metadata": {},
   "source": [
    "Поле 'rating' категориальное, поэтому для него будем использовать моду.\n",
    "Заполним поле модой по названию игры."
   ]
  },
  {
   "cell_type": "code",
   "execution_count": 14,
   "metadata": {},
   "outputs": [],
   "source": [
    "#определим функцию, вычисляющую моду\n",
    "warnings.filterwarnings(\"ignore\")\n",
    "def calc_game_rating_mode(row):\n",
    "    if (pd.isna(row['rating']) & (games.loc[(games['name']==row['name']),['rating']].count()[0]>0)):\n",
    "        return games.loc[(games['name']==row['name']),['rating']]['rating'].mode(dropna=True)[0]\n",
    "    else:\n",
    "        return row['rating']\n",
    "#заполним значения\n",
    "games.loc[(pd.isna(games['rating'])),'rating'] = games.loc[(pd.isna(games['rating']))].apply(calc_game_rating_mode, axis=1)\n"
   ]
  },
  {
   "cell_type": "markdown",
   "metadata": {},
   "source": [
    "Посмотрим, сколько пропусков заполнилось."
   ]
  },
  {
   "cell_type": "code",
   "execution_count": 15,
   "metadata": {},
   "outputs": [
    {
     "data": {
      "text/plain": [
       "10386"
      ]
     },
     "execution_count": 15,
     "metadata": {},
     "output_type": "execute_result"
    }
   ],
   "source": [
    "games['rating'].count()"
   ]
  },
  {
   "cell_type": "markdown",
   "metadata": {},
   "source": [
    "Было 9949 заполненных значений, стало 10386. Итого заполнилось 437 строки."
   ]
  },
  {
   "cell_type": "markdown",
   "metadata": {},
   "source": [
    "Вывод по заоплнению пропусков:\n",
    "- пропуски по полям **name,genre** объяснить скорее всего можно только техническими причинами. Вероятно, возникли ошибки при выгрузке данных, так как если есть продажи по какой-либо игре, то игра должна иметь название (и скорее всего жанр). Также видим, что оба поля не заполнены по двум одни и тем же строкам, соответственно, можно сделать вывод, что данные поля загружались из одного источника, либо были как-то взаимосвязаны.\n",
    "<br> Эти пропуски были заполнены значением \"Не указано\", т.к. не хотелось бы потерять информацию о продажах в общем отчете.\n",
    "- пропуски в поле **critic_score** были оставлены \"как есть\", так как экспертная оценка субъективна и может отличаться даже в рамках одной игры на разных платформах.\n",
    "- пропуски по полю **rating** были заполнены модой, так как поле категориальное. Также как и в случае с critic_score заполнение производилось по каждой игре в отдельности. Причиной возникновения пропусков можно назвать организационный фактор: по определенным играм рейтинг игры мог не формироваться из-за недостаточности оценок например, либо игра очень старая, либо потому что игра только вышла и еще не успела получить оценку (в таком случае может быть значение tbd)."
   ]
  },
  {
   "cell_type": "markdown",
   "metadata": {},
   "source": [
    "**2.4 Посчитаем суммарные продажи по каждому региону.** <a id='ref2.4'></a>"
   ]
  },
  {
   "cell_type": "code",
   "execution_count": 16,
   "metadata": {
    "scrolled": true
   },
   "outputs": [
    {
     "data": {
      "text/html": [
       "<div>\n",
       "<style scoped>\n",
       "    .dataframe tbody tr th:only-of-type {\n",
       "        vertical-align: middle;\n",
       "    }\n",
       "\n",
       "    .dataframe tbody tr th {\n",
       "        vertical-align: top;\n",
       "    }\n",
       "\n",
       "    .dataframe thead th {\n",
       "        text-align: right;\n",
       "    }\n",
       "</style>\n",
       "<table border=\"1\" class=\"dataframe\">\n",
       "  <thead>\n",
       "    <tr style=\"text-align: right;\">\n",
       "      <th></th>\n",
       "      <th>name</th>\n",
       "      <th>platform</th>\n",
       "      <th>year_of_release</th>\n",
       "      <th>genre</th>\n",
       "      <th>na_sales</th>\n",
       "      <th>eu_sales</th>\n",
       "      <th>jp_sales</th>\n",
       "      <th>other_sales</th>\n",
       "      <th>critic_score</th>\n",
       "      <th>user_score</th>\n",
       "      <th>rating</th>\n",
       "      <th>total_sales</th>\n",
       "    </tr>\n",
       "  </thead>\n",
       "  <tbody>\n",
       "    <tr>\n",
       "      <th>0</th>\n",
       "      <td>Wii Sports</td>\n",
       "      <td>Wii</td>\n",
       "      <td>2006</td>\n",
       "      <td>Sports</td>\n",
       "      <td>41.36</td>\n",
       "      <td>28.96</td>\n",
       "      <td>3.77</td>\n",
       "      <td>8.45</td>\n",
       "      <td>76.0</td>\n",
       "      <td>8.0</td>\n",
       "      <td>E</td>\n",
       "      <td>82.54</td>\n",
       "    </tr>\n",
       "    <tr>\n",
       "      <th>1</th>\n",
       "      <td>Super Mario Bros.</td>\n",
       "      <td>NES</td>\n",
       "      <td>1985</td>\n",
       "      <td>Platform</td>\n",
       "      <td>29.08</td>\n",
       "      <td>3.58</td>\n",
       "      <td>6.81</td>\n",
       "      <td>0.77</td>\n",
       "      <td>NaN</td>\n",
       "      <td>-1.0</td>\n",
       "      <td>NaN</td>\n",
       "      <td>40.24</td>\n",
       "    </tr>\n",
       "    <tr>\n",
       "      <th>2</th>\n",
       "      <td>Mario Kart Wii</td>\n",
       "      <td>Wii</td>\n",
       "      <td>2008</td>\n",
       "      <td>Racing</td>\n",
       "      <td>15.68</td>\n",
       "      <td>12.76</td>\n",
       "      <td>3.79</td>\n",
       "      <td>3.29</td>\n",
       "      <td>82.0</td>\n",
       "      <td>8.3</td>\n",
       "      <td>E</td>\n",
       "      <td>35.52</td>\n",
       "    </tr>\n",
       "    <tr>\n",
       "      <th>3</th>\n",
       "      <td>Wii Sports Resort</td>\n",
       "      <td>Wii</td>\n",
       "      <td>2009</td>\n",
       "      <td>Sports</td>\n",
       "      <td>15.61</td>\n",
       "      <td>10.93</td>\n",
       "      <td>3.28</td>\n",
       "      <td>2.95</td>\n",
       "      <td>80.0</td>\n",
       "      <td>8.0</td>\n",
       "      <td>E</td>\n",
       "      <td>32.77</td>\n",
       "    </tr>\n",
       "    <tr>\n",
       "      <th>4</th>\n",
       "      <td>Pokemon Red/Pokemon Blue</td>\n",
       "      <td>GB</td>\n",
       "      <td>1996</td>\n",
       "      <td>Role-Playing</td>\n",
       "      <td>11.27</td>\n",
       "      <td>8.89</td>\n",
       "      <td>10.22</td>\n",
       "      <td>1.00</td>\n",
       "      <td>NaN</td>\n",
       "      <td>-1.0</td>\n",
       "      <td>NaN</td>\n",
       "      <td>31.38</td>\n",
       "    </tr>\n",
       "  </tbody>\n",
       "</table>\n",
       "</div>"
      ],
      "text/plain": [
       "                       name platform  year_of_release         genre  na_sales  \\\n",
       "0                Wii Sports      Wii             2006        Sports     41.36   \n",
       "1         Super Mario Bros.      NES             1985      Platform     29.08   \n",
       "2            Mario Kart Wii      Wii             2008        Racing     15.68   \n",
       "3         Wii Sports Resort      Wii             2009        Sports     15.61   \n",
       "4  Pokemon Red/Pokemon Blue       GB             1996  Role-Playing     11.27   \n",
       "\n",
       "   eu_sales  jp_sales  other_sales  critic_score  user_score rating  \\\n",
       "0     28.96      3.77         8.45          76.0         8.0      E   \n",
       "1      3.58      6.81         0.77           NaN        -1.0    NaN   \n",
       "2     12.76      3.79         3.29          82.0         8.3      E   \n",
       "3     10.93      3.28         2.95          80.0         8.0      E   \n",
       "4      8.89     10.22         1.00           NaN        -1.0    NaN   \n",
       "\n",
       "   total_sales  \n",
       "0        82.54  \n",
       "1        40.24  \n",
       "2        35.52  \n",
       "3        32.77  \n",
       "4        31.38  "
      ]
     },
     "execution_count": 16,
     "metadata": {},
     "output_type": "execute_result"
    }
   ],
   "source": [
    "games['total_sales'] = games[['na_sales', 'eu_sales', 'jp_sales','other_sales']].sum(axis=1)\n",
    "games.head(5)"
   ]
  },
  {
   "cell_type": "code",
   "execution_count": 17,
   "metadata": {},
   "outputs": [
    {
     "data": {
      "text/plain": [
       "0"
      ]
     },
     "execution_count": 17,
     "metadata": {},
     "output_type": "execute_result"
    }
   ],
   "source": [
    "games['total_sales'].isna().sum()"
   ]
  },
  {
   "cell_type": "code",
   "execution_count": 18,
   "metadata": {
    "scrolled": true
   },
   "outputs": [
    {
     "data": {
      "text/plain": [
       "count    16715.000000\n",
       "mean         0.533396\n",
       "std          1.548261\n",
       "min          0.000000\n",
       "25%          0.060000\n",
       "50%          0.170000\n",
       "75%          0.470000\n",
       "max         82.540000\n",
       "Name: total_sales, dtype: float64"
      ]
     },
     "execution_count": 18,
     "metadata": {},
     "output_type": "execute_result"
    }
   ],
   "source": [
    "games['total_sales'].describe()"
   ]
  },
  {
   "cell_type": "markdown",
   "metadata": {},
   "source": [
    "Поле с суммарными продажами добавлено. По описательной статистике поля видим, что среднее составляет примерно полмиллина проданных копий. Максимум - 82,5 миллиона. Минимум - без продаж.\n",
    "<br>Также интересно, что вычисленное среднее превышает даже 75% квартиль! (0.53>0.47). То есть, выбросы в сторону максимума настолько сильно повлияли, что среднее не только превышает медиану, но даже и 75% всех имеющихся строк. Получается, что данные очень неравномерно распределены: 75% строк скучковано внутри значений 0-0.47, но при этом остальные 25% растянуты аж до значения 82,5."
   ]
  },
  {
   "cell_type": "markdown",
   "metadata": {},
   "source": [
    "## Исследовательский анализ данных\n",
    "<a id='ref3'></a>"
   ]
  },
  {
   "cell_type": "markdown",
   "metadata": {},
   "source": [
    "**3.1 Оценим количество выпускаемых игр в разные года.** <a id='ref3.1'></a>"
   ]
  },
  {
   "cell_type": "code",
   "execution_count": 19,
   "metadata": {},
   "outputs": [
    {
     "data": {
      "text/plain": [
       "year_of_release\n",
       "1970    269\n",
       "1980      9\n",
       "1981     46\n",
       "1982     36\n",
       "1983     17\n",
       "Name: name, dtype: int64"
      ]
     },
     "execution_count": 19,
     "metadata": {},
     "output_type": "execute_result"
    }
   ],
   "source": [
    "years_releases = games.groupby('year_of_release')['name'].count()\n",
    "years_releases.head(5)"
   ]
  },
  {
   "cell_type": "code",
   "execution_count": 20,
   "metadata": {},
   "outputs": [
    {
     "data": {
      "image/png": "[encoded data removed]",
      "text/plain": [
       "<Figure size 640x480 with 1 Axes>"
      ]
     },
     "metadata": {},
     "output_type": "display_data"
    }
   ],
   "source": [
    "years_releases.plot(\n",
    "    kind='line',\n",
    "    y='year_of_release',\n",
    "    #histtype='step',\n",
    "    #range=(0, 30),\n",
    "    #bins=15,\n",
    "    linewidth=3,\n",
    "    alpha=0.7,\n",
    ")\n",
    "plt.xlabel('Год выпуска')\n",
    "plt.ylabel('Количество игр')\n",
    "plt.title('Количество выпускаемых игр по годам')\n",
    "plt.show()"
   ]
  },
  {
   "cell_type": "markdown",
   "metadata": {},
   "source": [
    "Айсберг. Айсберг в океане).\n",
    "<br> По диаграмме видно, что количество выпускаемых игр стремительно росло примерно до 2008-2010 года, а затем снизилось примерно до уровня 2000-го года. Возможно, объясняется это тем, что мобильные телефоны достигли достаточного уровня развития и пользователи переключились на мобильные игры (соответственно, игр на платформах в связи с уменьшившимся спросом тоже стало выпускаться меньше).\n",
    "Также помним, что левый хвост графика - это значения, где год выпуска был не указан и мы заполнили его значением 1970. Так мы можем на одном графике соотнести выпуск игр по годам и количество игр, по которым год не указан.\n",
    "Для нашей задачи нет смысла анализировать всю историю, можно смотреть данные с начала 2000г, например."
   ]
  },
  {
   "cell_type": "markdown",
   "metadata": {},
   "source": [
    "**3.2 Оценим продажи по платформам.** <a id='ref3.2'></a>"
   ]
  },
  {
   "cell_type": "markdown",
   "metadata": {},
   "source": [
    "Посмотрим, как менялись суммарные продажи по платформам с течением лет."
   ]
  },
  {
   "cell_type": "code",
   "execution_count": 21,
   "metadata": {},
   "outputs": [
    {
     "data": {
      "text/html": [
       "<style type=\"text/css\">\n",
       "#T_46eac_row0_col1 {\n",
       "  background-color: #08306b;\n",
       "  color: #f1f1f1;\n",
       "}\n",
       "#T_46eac_row1_col1 {\n",
       "  background-color: #1c6ab0;\n",
       "  color: #f1f1f1;\n",
       "}\n",
       "#T_46eac_row2_col1 {\n",
       "  background-color: #2171b5;\n",
       "  color: #f1f1f1;\n",
       "}\n",
       "#T_46eac_row3_col1 {\n",
       "  background-color: #2777b8;\n",
       "  color: #f1f1f1;\n",
       "}\n",
       "#T_46eac_row4_col1 {\n",
       "  background-color: #3d8dc4;\n",
       "  color: #f1f1f1;\n",
       "}\n",
       "#T_46eac_row5_col1 {\n",
       "  background-color: #519ccc;\n",
       "  color: #f1f1f1;\n",
       "}\n",
       "#T_46eac_row6_col1, #T_46eac_row7_col1 {\n",
       "  background-color: #c6dbef;\n",
       "  color: #000000;\n",
       "}\n",
       "#T_46eac_row8_col1 {\n",
       "  background-color: #caddf0;\n",
       "  color: #000000;\n",
       "}\n",
       "#T_46eac_row9_col1, #T_46eac_row10_col1, #T_46eac_row11_col1, #T_46eac_row12_col1 {\n",
       "  background-color: #cfe1f2;\n",
       "  color: #000000;\n",
       "}\n",
       "#T_46eac_row13_col1 {\n",
       "  background-color: #d0e1f2;\n",
       "  color: #000000;\n",
       "}\n",
       "#T_46eac_row14_col1 {\n",
       "  background-color: #d5e5f4;\n",
       "  color: #000000;\n",
       "}\n",
       "#T_46eac_row15_col1, #T_46eac_row16_col1 {\n",
       "  background-color: #d8e7f5;\n",
       "  color: #000000;\n",
       "}\n",
       "#T_46eac_row17_col1 {\n",
       "  background-color: #deebf7;\n",
       "  color: #000000;\n",
       "}\n",
       "#T_46eac_row18_col1 {\n",
       "  background-color: #e8f1fa;\n",
       "  color: #000000;\n",
       "}\n",
       "#T_46eac_row19_col1 {\n",
       "  background-color: #eaf3fb;\n",
       "  color: #000000;\n",
       "}\n",
       "#T_46eac_row20_col1 {\n",
       "  background-color: #eef5fc;\n",
       "  color: #000000;\n",
       "}\n",
       "#T_46eac_row21_col1, #T_46eac_row22_col1 {\n",
       "  background-color: #f2f8fd;\n",
       "  color: #000000;\n",
       "}\n",
       "#T_46eac_row23_col1 {\n",
       "  background-color: #f5f9fe;\n",
       "  color: #000000;\n",
       "}\n",
       "#T_46eac_row24_col1, #T_46eac_row25_col1, #T_46eac_row26_col1, #T_46eac_row27_col1, #T_46eac_row28_col1, #T_46eac_row29_col1, #T_46eac_row30_col1 {\n",
       "  background-color: #f7fbff;\n",
       "  color: #000000;\n",
       "}\n",
       "</style>\n",
       "<table id=\"T_46eac\">\n",
       "  <thead>\n",
       "    <tr>\n",
       "      <th class=\"blank level0\" >&nbsp;</th>\n",
       "      <th id=\"T_46eac_level0_col0\" class=\"col_heading level0 col0\" >platform</th>\n",
       "      <th id=\"T_46eac_level0_col1\" class=\"col_heading level0 col1\" >total_sales</th>\n",
       "    </tr>\n",
       "  </thead>\n",
       "  <tbody>\n",
       "    <tr>\n",
       "      <th id=\"T_46eac_level0_row0\" class=\"row_heading level0 row0\" >16</th>\n",
       "      <td id=\"T_46eac_row0_col0\" class=\"data row0 col0\" >PS2</td>\n",
       "      <td id=\"T_46eac_row0_col1\" class=\"data row0 col1\" >1255.770000</td>\n",
       "    </tr>\n",
       "    <tr>\n",
       "      <th id=\"T_46eac_level0_row1\" class=\"row_heading level0 row1\" >28</th>\n",
       "      <td id=\"T_46eac_row1_col0\" class=\"data row1 col0\" >X360</td>\n",
       "      <td id=\"T_46eac_row1_col1\" class=\"data row1 col1\" >971.420000</td>\n",
       "    </tr>\n",
       "    <tr>\n",
       "      <th id=\"T_46eac_level0_row2\" class=\"row_heading level0 row2\" >17</th>\n",
       "      <td id=\"T_46eac_row2_col0\" class=\"data row2 col0\" >PS3</td>\n",
       "      <td id=\"T_46eac_row2_col1\" class=\"data row2 col1\" >939.650000</td>\n",
       "    </tr>\n",
       "    <tr>\n",
       "      <th id=\"T_46eac_level0_row3\" class=\"row_heading level0 row3\" >26</th>\n",
       "      <td id=\"T_46eac_row3_col0\" class=\"data row3 col0\" >Wii</td>\n",
       "      <td id=\"T_46eac_row3_col1\" class=\"data row3 col1\" >907.510000</td>\n",
       "    </tr>\n",
       "    <tr>\n",
       "      <th id=\"T_46eac_level0_row4\" class=\"row_heading level0 row4\" >4</th>\n",
       "      <td id=\"T_46eac_row4_col0\" class=\"data row4 col0\" >DS</td>\n",
       "      <td id=\"T_46eac_row4_col1\" class=\"data row4 col1\" >806.120000</td>\n",
       "    </tr>\n",
       "    <tr>\n",
       "      <th id=\"T_46eac_level0_row5\" class=\"row_heading level0 row5\" >15</th>\n",
       "      <td id=\"T_46eac_row5_col0\" class=\"data row5 col0\" >PS</td>\n",
       "      <td id=\"T_46eac_row5_col1\" class=\"data row5 col1\" >730.860000</td>\n",
       "    </tr>\n",
       "    <tr>\n",
       "      <th id=\"T_46eac_level0_row6\" class=\"row_heading level0 row6\" >6</th>\n",
       "      <td id=\"T_46eac_row6_col0\" class=\"data row6 col0\" >GBA</td>\n",
       "      <td id=\"T_46eac_row6_col1\" class=\"data row6 col1\" >317.850000</td>\n",
       "    </tr>\n",
       "    <tr>\n",
       "      <th id=\"T_46eac_level0_row7\" class=\"row_heading level0 row7\" >18</th>\n",
       "      <td id=\"T_46eac_row7_col0\" class=\"data row7 col0\" >PS4</td>\n",
       "      <td id=\"T_46eac_row7_col1\" class=\"data row7 col1\" >314.140000</td>\n",
       "    </tr>\n",
       "    <tr>\n",
       "      <th id=\"T_46eac_level0_row8\" class=\"row_heading level0 row8\" >19</th>\n",
       "      <td id=\"T_46eac_row8_col0\" class=\"data row8 col0\" >PSP</td>\n",
       "      <td id=\"T_46eac_row8_col1\" class=\"data row8 col1\" >294.050000</td>\n",
       "    </tr>\n",
       "    <tr>\n",
       "      <th id=\"T_46eac_level0_row9\" class=\"row_heading level0 row9\" >13</th>\n",
       "      <td id=\"T_46eac_row9_col0\" class=\"data row9 col0\" >PC</td>\n",
       "      <td id=\"T_46eac_row9_col1\" class=\"data row9 col1\" >259.520000</td>\n",
       "    </tr>\n",
       "    <tr>\n",
       "      <th id=\"T_46eac_level0_row10\" class=\"row_heading level0 row10\" >2</th>\n",
       "      <td id=\"T_46eac_row10_col0\" class=\"data row10 col0\" >3DS</td>\n",
       "      <td id=\"T_46eac_row10_col1\" class=\"data row10 col1\" >259.000000</td>\n",
       "    </tr>\n",
       "    <tr>\n",
       "      <th id=\"T_46eac_level0_row11\" class=\"row_heading level0 row11\" >29</th>\n",
       "      <td id=\"T_46eac_row11_col0\" class=\"data row11 col0\" >XB</td>\n",
       "      <td id=\"T_46eac_row11_col1\" class=\"data row11 col1\" >257.740000</td>\n",
       "    </tr>\n",
       "    <tr>\n",
       "      <th id=\"T_46eac_level0_row12\" class=\"row_heading level0 row12\" >5</th>\n",
       "      <td id=\"T_46eac_row12_col0\" class=\"data row12 col0\" >GB</td>\n",
       "      <td id=\"T_46eac_row12_col1\" class=\"data row12 col1\" >255.460000</td>\n",
       "    </tr>\n",
       "    <tr>\n",
       "      <th id=\"T_46eac_level0_row13\" class=\"row_heading level0 row13\" >11</th>\n",
       "      <td id=\"T_46eac_row13_col0\" class=\"data row13 col0\" >NES</td>\n",
       "      <td id=\"T_46eac_row13_col1\" class=\"data row13 col1\" >251.050000</td>\n",
       "    </tr>\n",
       "    <tr>\n",
       "      <th id=\"T_46eac_level0_row14\" class=\"row_heading level0 row14\" >10</th>\n",
       "      <td id=\"T_46eac_row14_col0\" class=\"data row14 col0\" >N64</td>\n",
       "      <td id=\"T_46eac_row14_col1\" class=\"data row14 col1\" >218.680000</td>\n",
       "    </tr>\n",
       "    <tr>\n",
       "      <th id=\"T_46eac_level0_row15\" class=\"row_heading level0 row15\" >23</th>\n",
       "      <td id=\"T_46eac_row15_col0\" class=\"data row15 col0\" >SNES</td>\n",
       "      <td id=\"T_46eac_row15_col1\" class=\"data row15 col1\" >200.040000</td>\n",
       "    </tr>\n",
       "    <tr>\n",
       "      <th id=\"T_46eac_level0_row16\" class=\"row_heading level0 row16\" >7</th>\n",
       "      <td id=\"T_46eac_row16_col0\" class=\"data row16 col0\" >GC</td>\n",
       "      <td id=\"T_46eac_row16_col1\" class=\"data row16 col1\" >198.930000</td>\n",
       "    </tr>\n",
       "    <tr>\n",
       "      <th id=\"T_46eac_level0_row17\" class=\"row_heading level0 row17\" >30</th>\n",
       "      <td id=\"T_46eac_row17_col0\" class=\"data row17 col0\" >XOne</td>\n",
       "      <td id=\"T_46eac_row17_col1\" class=\"data row17 col1\" >159.320000</td>\n",
       "    </tr>\n",
       "    <tr>\n",
       "      <th id=\"T_46eac_level0_row18\" class=\"row_heading level0 row18\" >0</th>\n",
       "      <td id=\"T_46eac_row18_col0\" class=\"data row18 col0\" >2600</td>\n",
       "      <td id=\"T_46eac_row18_col1\" class=\"data row18 col1\" >96.980000</td>\n",
       "    </tr>\n",
       "    <tr>\n",
       "      <th id=\"T_46eac_level0_row19\" class=\"row_heading level0 row19\" >27</th>\n",
       "      <td id=\"T_46eac_row19_col0\" class=\"data row19 col0\" >WiiU</td>\n",
       "      <td id=\"T_46eac_row19_col1\" class=\"data row19 col1\" >82.190000</td>\n",
       "    </tr>\n",
       "    <tr>\n",
       "      <th id=\"T_46eac_level0_row20\" class=\"row_heading level0 row20\" >20</th>\n",
       "      <td id=\"T_46eac_row20_col0\" class=\"data row20 col0\" >PSV</td>\n",
       "      <td id=\"T_46eac_row20_col1\" class=\"data row20 col1\" >54.070000</td>\n",
       "    </tr>\n",
       "    <tr>\n",
       "      <th id=\"T_46eac_level0_row21\" class=\"row_heading level0 row21\" >21</th>\n",
       "      <td id=\"T_46eac_row21_col0\" class=\"data row21 col0\" >SAT</td>\n",
       "      <td id=\"T_46eac_row21_col1\" class=\"data row21 col1\" >33.590000</td>\n",
       "    </tr>\n",
       "    <tr>\n",
       "      <th id=\"T_46eac_level0_row22\" class=\"row_heading level0 row22\" >8</th>\n",
       "      <td id=\"T_46eac_row22_col0\" class=\"data row22 col0\" >GEN</td>\n",
       "      <td id=\"T_46eac_row22_col1\" class=\"data row22 col1\" >30.770000</td>\n",
       "    </tr>\n",
       "    <tr>\n",
       "      <th id=\"T_46eac_level0_row23\" class=\"row_heading level0 row23\" >3</th>\n",
       "      <td id=\"T_46eac_row23_col0\" class=\"data row23 col0\" >DC</td>\n",
       "      <td id=\"T_46eac_row23_col1\" class=\"data row23 col1\" >15.950000</td>\n",
       "    </tr>\n",
       "    <tr>\n",
       "      <th id=\"T_46eac_level0_row24\" class=\"row_heading level0 row24\" >22</th>\n",
       "      <td id=\"T_46eac_row24_col0\" class=\"data row24 col0\" >SCD</td>\n",
       "      <td id=\"T_46eac_row24_col1\" class=\"data row24 col1\" >1.860000</td>\n",
       "    </tr>\n",
       "    <tr>\n",
       "      <th id=\"T_46eac_level0_row25\" class=\"row_heading level0 row25\" >12</th>\n",
       "      <td id=\"T_46eac_row25_col0\" class=\"data row25 col0\" >NG</td>\n",
       "      <td id=\"T_46eac_row25_col1\" class=\"data row25 col1\" >1.440000</td>\n",
       "    </tr>\n",
       "    <tr>\n",
       "      <th id=\"T_46eac_level0_row26\" class=\"row_heading level0 row26\" >25</th>\n",
       "      <td id=\"T_46eac_row26_col0\" class=\"data row26 col0\" >WS</td>\n",
       "      <td id=\"T_46eac_row26_col1\" class=\"data row26 col1\" >1.420000</td>\n",
       "    </tr>\n",
       "    <tr>\n",
       "      <th id=\"T_46eac_level0_row27\" class=\"row_heading level0 row27\" >24</th>\n",
       "      <td id=\"T_46eac_row27_col0\" class=\"data row27 col0\" >TG16</td>\n",
       "      <td id=\"T_46eac_row27_col1\" class=\"data row27 col1\" >0.160000</td>\n",
       "    </tr>\n",
       "    <tr>\n",
       "      <th id=\"T_46eac_level0_row28\" class=\"row_heading level0 row28\" >1</th>\n",
       "      <td id=\"T_46eac_row28_col0\" class=\"data row28 col0\" >3DO</td>\n",
       "      <td id=\"T_46eac_row28_col1\" class=\"data row28 col1\" >0.100000</td>\n",
       "    </tr>\n",
       "    <tr>\n",
       "      <th id=\"T_46eac_level0_row29\" class=\"row_heading level0 row29\" >9</th>\n",
       "      <td id=\"T_46eac_row29_col0\" class=\"data row29 col0\" >GG</td>\n",
       "      <td id=\"T_46eac_row29_col1\" class=\"data row29 col1\" >0.040000</td>\n",
       "    </tr>\n",
       "    <tr>\n",
       "      <th id=\"T_46eac_level0_row30\" class=\"row_heading level0 row30\" >14</th>\n",
       "      <td id=\"T_46eac_row30_col0\" class=\"data row30 col0\" >PCFX</td>\n",
       "      <td id=\"T_46eac_row30_col1\" class=\"data row30 col1\" >0.030000</td>\n",
       "    </tr>\n",
       "  </tbody>\n",
       "</table>\n"
      ],
      "text/plain": [
       "<pandas.io.formats.style.Styler at 0x29b99c7e850>"
      ]
     },
     "metadata": {},
     "output_type": "display_data"
    }
   ],
   "source": [
    "platform_sales_total = games.groupby(by=['platform'],as_index=False)['total_sales'].sum()\n",
    "platform_sales_total = platform_sales_total.sort_values(by='total_sales',ascending=False)\n",
    "display(platform_sales_total.style.background_gradient(cmap='Blues', axis=0))"
   ]
  },
  {
   "cell_type": "markdown",
   "metadata": {},
   "source": [
    "Видим, что наиболее полпулярные платформы: PS2,X360, PS3,Wii,DS, PS. \n",
    "<br>Наименее популярная платформа - PCFX.\n",
    "<br>Рассмотрим продажи по самым популярным платформам с течением лет.\n",
    "<br>Отбросим год 1970, т.к. это заглушка для тех строк, где год не указан."
   ]
  },
  {
   "cell_type": "code",
   "execution_count": 22,
   "metadata": {},
   "outputs": [
    {
     "data": {
      "image/png": "[encoded data removed]",
      "text/plain": [
       "<Figure size 640x480 with 1 Axes>"
      ]
     },
     "metadata": {},
     "output_type": "display_data"
    }
   ],
   "source": [
    "platform_list = ['PS2','X360','PS3','Wii','DS','PS']\n",
    "platform_sales_by_year = games.query('platform in @platform_list and year_of_release!=1970 and total_sales!=0').groupby(by=['platform','year_of_release'],as_index=False)['total_sales'].sum()\n",
    "platform_sales_by_year\n",
    "sns.lineplot(data=platform_sales_by_year,x='year_of_release', y='total_sales',hue='platform')\n",
    "plt.xlabel('Год выпуска')\n",
    "plt.ylabel('Суммарные продажи')\n",
    "plt.title('Суммарные продажи разных платформ в разерез лет')\n",
    "plt.show()"
   ]
  },
  {
   "cell_type": "markdown",
   "metadata": {},
   "source": [
    "Видим, что:\n",
    "- некоторые платформы постепенно заменяли друг друга (например, PS->PS2->PS3: оранжевый, зеленый и красный графики). \n",
    "- платформа, выпустившая игру первой (если не брать в расчет игры без года выпуска) - DS, впервые выпустившая игру в 1985году (но, похоже, продаж от нее так и не получившая), однако затем она не выпускала игр вплоть до 2004года. Так что первым сильным лидером можно назвать платформу PS, которая имела хорошие продажи примерно c 1994 до 2004года, а затем была заменена более современной версией PS2\n",
    "- платформы, получавшие максимальные годовые продажи - PS2(2000-2005годы) и Wii(2009год).\n",
    "- за последние 5 лет (2010-2015годы) выделяются два лидера - X360 и PS3, продажи которых находились примерно на одном уровне.\n",
    "- по всем платформам в последние годы в основном наблюдается спад продаж\n",
    "<br>Рассмотрим продажи последних лет более подробно. В качестве актуального периода возьмем последние 3 года."
   ]
  },
  {
   "cell_type": "code",
   "execution_count": 23,
   "metadata": {},
   "outputs": [
    {
     "data": {
      "image/png": "[encoded data removed]",
      "text/plain": [
       "<Figure size 640x480 with 1 Axes>"
      ]
     },
     "metadata": {},
     "output_type": "display_data"
    },
    {
     "data": {
      "text/html": [
       "<style type=\"text/css\">\n",
       "#T_e2884_row0_col0, #T_e2884_row2_col1, #T_e2884_row2_col2, #T_e2884_row2_col3 {\n",
       "  background-color: #f7fbff;\n",
       "  color: #000000;\n",
       "}\n",
       "#T_e2884_row0_col1, #T_e2884_row0_col2, #T_e2884_row0_col3 {\n",
       "  background-color: #000000;\n",
       "  color: #f1f1f1;\n",
       "}\n",
       "#T_e2884_row1_col0, #T_e2884_row1_col1, #T_e2884_row1_col2, #T_e2884_row1_col3 {\n",
       "  background-color: #08306b;\n",
       "  color: #f1f1f1;\n",
       "}\n",
       "#T_e2884_row2_col0 {\n",
       "  background-color: #eaf3fb;\n",
       "  color: #000000;\n",
       "}\n",
       "#T_e2884_row3_col0 {\n",
       "  background-color: #1b69af;\n",
       "  color: #f1f1f1;\n",
       "}\n",
       "#T_e2884_row3_col1 {\n",
       "  background-color: #2d7dbb;\n",
       "  color: #f1f1f1;\n",
       "}\n",
       "#T_e2884_row3_col2 {\n",
       "  background-color: #3181bd;\n",
       "  color: #f1f1f1;\n",
       "}\n",
       "#T_e2884_row3_col3 {\n",
       "  background-color: #97c6df;\n",
       "  color: #000000;\n",
       "}\n",
       "</style>\n",
       "<table id=\"T_e2884\">\n",
       "  <thead>\n",
       "    <tr>\n",
       "      <th class=\"index_name level0\" >year_of_release</th>\n",
       "      <th id=\"T_e2884_level0_col0\" class=\"col_heading level0 col0\" >2013</th>\n",
       "      <th id=\"T_e2884_level0_col1\" class=\"col_heading level0 col1\" >2014</th>\n",
       "      <th id=\"T_e2884_level0_col2\" class=\"col_heading level0 col2\" >2015</th>\n",
       "      <th id=\"T_e2884_level0_col3\" class=\"col_heading level0 col3\" >2016</th>\n",
       "    </tr>\n",
       "    <tr>\n",
       "      <th class=\"index_name level0\" >platform</th>\n",
       "      <th class=\"blank col0\" >&nbsp;</th>\n",
       "      <th class=\"blank col1\" >&nbsp;</th>\n",
       "      <th class=\"blank col2\" >&nbsp;</th>\n",
       "      <th class=\"blank col3\" >&nbsp;</th>\n",
       "    </tr>\n",
       "  </thead>\n",
       "  <tbody>\n",
       "    <tr>\n",
       "      <th id=\"T_e2884_level0_row0\" class=\"row_heading level0 row0\" >DS</th>\n",
       "      <td id=\"T_e2884_row0_col0\" class=\"data row0 col0\" >1.540000</td>\n",
       "      <td id=\"T_e2884_row0_col1\" class=\"data row0 col1\" >nan</td>\n",
       "      <td id=\"T_e2884_row0_col2\" class=\"data row0 col2\" >nan</td>\n",
       "      <td id=\"T_e2884_row0_col3\" class=\"data row0 col3\" >nan</td>\n",
       "    </tr>\n",
       "    <tr>\n",
       "      <th id=\"T_e2884_level0_row1\" class=\"row_heading level0 row1\" >PS3</th>\n",
       "      <td id=\"T_e2884_row1_col0\" class=\"data row1 col0\" >113.250000</td>\n",
       "      <td id=\"T_e2884_row1_col1\" class=\"data row1 col1\" >47.760000</td>\n",
       "      <td id=\"T_e2884_row1_col2\" class=\"data row1 col2\" >16.820000</td>\n",
       "      <td id=\"T_e2884_row1_col3\" class=\"data row1 col3\" >3.600000</td>\n",
       "    </tr>\n",
       "    <tr>\n",
       "      <th id=\"T_e2884_level0_row2\" class=\"row_heading level0 row2\" >Wii</th>\n",
       "      <td id=\"T_e2884_row2_col0\" class=\"data row2 col0\" >8.590000</td>\n",
       "      <td id=\"T_e2884_row2_col1\" class=\"data row2 col1\" >3.750000</td>\n",
       "      <td id=\"T_e2884_row2_col2\" class=\"data row2 col2\" >1.140000</td>\n",
       "      <td id=\"T_e2884_row2_col3\" class=\"data row2 col3\" >0.180000</td>\n",
       "    </tr>\n",
       "    <tr>\n",
       "      <th id=\"T_e2884_level0_row3\" class=\"row_heading level0 row3\" >X360</th>\n",
       "      <td id=\"T_e2884_row3_col0\" class=\"data row3 col0\" >88.580000</td>\n",
       "      <td id=\"T_e2884_row3_col1\" class=\"data row3 col1\" >34.740000</td>\n",
       "      <td id=\"T_e2884_row3_col2\" class=\"data row3 col2\" >11.960000</td>\n",
       "      <td id=\"T_e2884_row3_col3\" class=\"data row3 col3\" >1.520000</td>\n",
       "    </tr>\n",
       "  </tbody>\n",
       "</table>\n"
      ],
      "text/plain": [
       "<pandas.io.formats.style.Styler at 0x29b9a776550>"
      ]
     },
     "metadata": {},
     "output_type": "display_data"
    }
   ],
   "source": [
    "platform_sales_by_year_last3 = platform_sales_by_year.query('year_of_release >=2013')\n",
    "sns.lineplot(data=platform_sales_by_year_last3,x='year_of_release', y='total_sales',hue='platform')\n",
    "plt.xlabel('Год выпуска')\n",
    "plt.ylabel('Суммарные продажи, млн.копий')\n",
    "plt.title('Суммарные продажи разных платформ в разерез лет')\n",
    "plt.show()\n",
    "platform_sales_by_year_last3 = platform_sales_by_year_last3.pivot(index='platform',columns='year_of_release', values='total_sales')\n",
    "display(platform_sales_by_year_last3.style.background_gradient(cmap='Blues', axis=0))"
   ]
  },
  {
   "cell_type": "markdown",
   "metadata": {},
   "source": [
    "В последние 3 года игры выпускают только 3 платформы: PS3, X360 и Wii  и на текущий момент их продажи находятся практически на одном уровне. Однако PS3, X360 в последние 3 года имели продажи гораздо выше (до 80-110 млн. копий игр) и затем постепенно снизили продажи практически до 1,5-3,5млн.копий, в то время как Wii постепенно сдала позиции уже в 2013 году и к 2016году продает не более 200тыс.копий игр.\n",
    "<br>Таким образом, последние три года потенциально прибыльными платформами игр явяются PS3 и X360, причем, несмотря на то, что падение продаж PS3 происходит быстрее, на конец 2016года PS3 продает почти вдвое больше игр, чем X360 - 3,6млн.копий против 1,5млн копий у X360. "
   ]
  },
  {
   "cell_type": "markdown",
   "metadata": {},
   "source": [
    "**3.3 Изучим суммарные продажи по играм.** <a id='ref3.3'></a> "
   ]
  },
  {
   "cell_type": "code",
   "execution_count": 24,
   "metadata": {},
   "outputs": [
    {
     "data": {
      "text/plain": [
       "count    16715.000000\n",
       "mean         0.533396\n",
       "std          1.548261\n",
       "min          0.000000\n",
       "25%          0.060000\n",
       "50%          0.170000\n",
       "75%          0.470000\n",
       "max         82.540000\n",
       "Name: total_sales, dtype: float64"
      ]
     },
     "execution_count": 24,
     "metadata": {},
     "output_type": "execute_result"
    }
   ],
   "source": [
    "games['total_sales'].describe()"
   ]
  },
  {
   "cell_type": "markdown",
   "metadata": {},
   "source": [
    "По описательной статистике видим, что суммарные продажи составляют в основном от 60тыс до 470тыс. копий.\n",
    "<br>При этом есть выбросы и одна из игр была продана более чем 82,5млн раз!\n",
    "Посмотрим, что это за игра, а также посмотрим топ-10 игр, имеющих наибольшие продажи."
   ]
  },
  {
   "cell_type": "code",
   "execution_count": 25,
   "metadata": {},
   "outputs": [
    {
     "data": {
      "text/html": [
       "<div>\n",
       "<style scoped>\n",
       "    .dataframe tbody tr th:only-of-type {\n",
       "        vertical-align: middle;\n",
       "    }\n",
       "\n",
       "    .dataframe tbody tr th {\n",
       "        vertical-align: top;\n",
       "    }\n",
       "\n",
       "    .dataframe thead th {\n",
       "        text-align: right;\n",
       "    }\n",
       "</style>\n",
       "<table border=\"1\" class=\"dataframe\">\n",
       "  <thead>\n",
       "    <tr style=\"text-align: right;\">\n",
       "      <th></th>\n",
       "      <th>name</th>\n",
       "      <th>platform</th>\n",
       "      <th>year_of_release</th>\n",
       "      <th>genre</th>\n",
       "      <th>na_sales</th>\n",
       "      <th>eu_sales</th>\n",
       "      <th>jp_sales</th>\n",
       "      <th>other_sales</th>\n",
       "      <th>critic_score</th>\n",
       "      <th>user_score</th>\n",
       "      <th>rating</th>\n",
       "      <th>total_sales</th>\n",
       "    </tr>\n",
       "  </thead>\n",
       "  <tbody>\n",
       "    <tr>\n",
       "      <th>0</th>\n",
       "      <td>Wii Sports</td>\n",
       "      <td>Wii</td>\n",
       "      <td>2006</td>\n",
       "      <td>Sports</td>\n",
       "      <td>41.36</td>\n",
       "      <td>28.96</td>\n",
       "      <td>3.77</td>\n",
       "      <td>8.45</td>\n",
       "      <td>76.0</td>\n",
       "      <td>8.0</td>\n",
       "      <td>E</td>\n",
       "      <td>82.54</td>\n",
       "    </tr>\n",
       "    <tr>\n",
       "      <th>1</th>\n",
       "      <td>Super Mario Bros.</td>\n",
       "      <td>NES</td>\n",
       "      <td>1985</td>\n",
       "      <td>Platform</td>\n",
       "      <td>29.08</td>\n",
       "      <td>3.58</td>\n",
       "      <td>6.81</td>\n",
       "      <td>0.77</td>\n",
       "      <td>NaN</td>\n",
       "      <td>-1.0</td>\n",
       "      <td>NaN</td>\n",
       "      <td>40.24</td>\n",
       "    </tr>\n",
       "    <tr>\n",
       "      <th>2</th>\n",
       "      <td>Mario Kart Wii</td>\n",
       "      <td>Wii</td>\n",
       "      <td>2008</td>\n",
       "      <td>Racing</td>\n",
       "      <td>15.68</td>\n",
       "      <td>12.76</td>\n",
       "      <td>3.79</td>\n",
       "      <td>3.29</td>\n",
       "      <td>82.0</td>\n",
       "      <td>8.3</td>\n",
       "      <td>E</td>\n",
       "      <td>35.52</td>\n",
       "    </tr>\n",
       "    <tr>\n",
       "      <th>3</th>\n",
       "      <td>Wii Sports Resort</td>\n",
       "      <td>Wii</td>\n",
       "      <td>2009</td>\n",
       "      <td>Sports</td>\n",
       "      <td>15.61</td>\n",
       "      <td>10.93</td>\n",
       "      <td>3.28</td>\n",
       "      <td>2.95</td>\n",
       "      <td>80.0</td>\n",
       "      <td>8.0</td>\n",
       "      <td>E</td>\n",
       "      <td>32.77</td>\n",
       "    </tr>\n",
       "    <tr>\n",
       "      <th>4</th>\n",
       "      <td>Pokemon Red/Pokemon Blue</td>\n",
       "      <td>GB</td>\n",
       "      <td>1996</td>\n",
       "      <td>Role-Playing</td>\n",
       "      <td>11.27</td>\n",
       "      <td>8.89</td>\n",
       "      <td>10.22</td>\n",
       "      <td>1.00</td>\n",
       "      <td>NaN</td>\n",
       "      <td>-1.0</td>\n",
       "      <td>NaN</td>\n",
       "      <td>31.38</td>\n",
       "    </tr>\n",
       "    <tr>\n",
       "      <th>5</th>\n",
       "      <td>Tetris</td>\n",
       "      <td>GB</td>\n",
       "      <td>1989</td>\n",
       "      <td>Puzzle</td>\n",
       "      <td>23.20</td>\n",
       "      <td>2.26</td>\n",
       "      <td>4.22</td>\n",
       "      <td>0.58</td>\n",
       "      <td>NaN</td>\n",
       "      <td>-1.0</td>\n",
       "      <td>NaN</td>\n",
       "      <td>30.26</td>\n",
       "    </tr>\n",
       "    <tr>\n",
       "      <th>6</th>\n",
       "      <td>New Super Mario Bros.</td>\n",
       "      <td>DS</td>\n",
       "      <td>2006</td>\n",
       "      <td>Platform</td>\n",
       "      <td>11.28</td>\n",
       "      <td>9.14</td>\n",
       "      <td>6.50</td>\n",
       "      <td>2.88</td>\n",
       "      <td>89.0</td>\n",
       "      <td>8.5</td>\n",
       "      <td>E</td>\n",
       "      <td>29.80</td>\n",
       "    </tr>\n",
       "    <tr>\n",
       "      <th>7</th>\n",
       "      <td>Wii Play</td>\n",
       "      <td>Wii</td>\n",
       "      <td>2006</td>\n",
       "      <td>Misc</td>\n",
       "      <td>13.96</td>\n",
       "      <td>9.18</td>\n",
       "      <td>2.93</td>\n",
       "      <td>2.84</td>\n",
       "      <td>58.0</td>\n",
       "      <td>6.6</td>\n",
       "      <td>E</td>\n",
       "      <td>28.91</td>\n",
       "    </tr>\n",
       "    <tr>\n",
       "      <th>8</th>\n",
       "      <td>New Super Mario Bros. Wii</td>\n",
       "      <td>Wii</td>\n",
       "      <td>2009</td>\n",
       "      <td>Platform</td>\n",
       "      <td>14.44</td>\n",
       "      <td>6.94</td>\n",
       "      <td>4.70</td>\n",
       "      <td>2.24</td>\n",
       "      <td>87.0</td>\n",
       "      <td>8.4</td>\n",
       "      <td>E</td>\n",
       "      <td>28.32</td>\n",
       "    </tr>\n",
       "    <tr>\n",
       "      <th>9</th>\n",
       "      <td>Duck Hunt</td>\n",
       "      <td>NES</td>\n",
       "      <td>1984</td>\n",
       "      <td>Shooter</td>\n",
       "      <td>26.93</td>\n",
       "      <td>0.63</td>\n",
       "      <td>0.28</td>\n",
       "      <td>0.47</td>\n",
       "      <td>NaN</td>\n",
       "      <td>-1.0</td>\n",
       "      <td>NaN</td>\n",
       "      <td>28.31</td>\n",
       "    </tr>\n",
       "  </tbody>\n",
       "</table>\n",
       "</div>"
      ],
      "text/plain": [
       "                        name platform  year_of_release         genre  \\\n",
       "0                 Wii Sports      Wii             2006        Sports   \n",
       "1          Super Mario Bros.      NES             1985      Platform   \n",
       "2             Mario Kart Wii      Wii             2008        Racing   \n",
       "3          Wii Sports Resort      Wii             2009        Sports   \n",
       "4   Pokemon Red/Pokemon Blue       GB             1996  Role-Playing   \n",
       "5                     Tetris       GB             1989        Puzzle   \n",
       "6      New Super Mario Bros.       DS             2006      Platform   \n",
       "7                   Wii Play      Wii             2006          Misc   \n",
       "8  New Super Mario Bros. Wii      Wii             2009      Platform   \n",
       "9                  Duck Hunt      NES             1984       Shooter   \n",
       "\n",
       "   na_sales  eu_sales  jp_sales  other_sales  critic_score  user_score rating  \\\n",
       "0     41.36     28.96      3.77         8.45          76.0         8.0      E   \n",
       "1     29.08      3.58      6.81         0.77           NaN        -1.0    NaN   \n",
       "2     15.68     12.76      3.79         3.29          82.0         8.3      E   \n",
       "3     15.61     10.93      3.28         2.95          80.0         8.0      E   \n",
       "4     11.27      8.89     10.22         1.00           NaN        -1.0    NaN   \n",
       "5     23.20      2.26      4.22         0.58           NaN        -1.0    NaN   \n",
       "6     11.28      9.14      6.50         2.88          89.0         8.5      E   \n",
       "7     13.96      9.18      2.93         2.84          58.0         6.6      E   \n",
       "8     14.44      6.94      4.70         2.24          87.0         8.4      E   \n",
       "9     26.93      0.63      0.28         0.47           NaN        -1.0    NaN   \n",
       "\n",
       "   total_sales  \n",
       "0        82.54  \n",
       "1        40.24  \n",
       "2        35.52  \n",
       "3        32.77  \n",
       "4        31.38  \n",
       "5        30.26  \n",
       "6        29.80  \n",
       "7        28.91  \n",
       "8        28.32  \n",
       "9        28.31  "
      ]
     },
     "execution_count": 25,
     "metadata": {},
     "output_type": "execute_result"
    }
   ],
   "source": [
    "games.sort_values(by='total_sales',ascending=False).head(10)"
   ]
  },
  {
   "cell_type": "markdown",
   "metadata": {},
   "source": [
    "Посмотрим продажи игр в разбивке по платфомам. Ограничим на графике значение total_sales до 2 (млн.проданных копий)."
   ]
  },
  {
   "cell_type": "code",
   "execution_count": 26,
   "metadata": {},
   "outputs": [
    {
     "data": {
      "image/png": "[encoded data removed]",
      "text/plain": [
       "<Figure size 1000x700 with 1 Axes>"
      ]
     },
     "metadata": {},
     "output_type": "display_data"
    }
   ],
   "source": [
    "platform_box_data = games.query('platform in @platform_list')\n",
    "plt.figure(figsize=(10,7))\n",
    "params = dict(data=platform_box_data ,x = platform_box_data['platform'] ,y = platform_box_data['total_sales'] ,hue=platform_box_data['platform'],dodge=True)\n",
    "sns.boxplot(**params ,linewidth=3)\n",
    "plt.ylim(0, 2)\n",
    "plt.show()"
   ]
  },
  {
   "cell_type": "markdown",
   "metadata": {},
   "source": [
    "По диаграмме размаха видим, что больше всего выделяются ящики компаний PS3 и X360 и они примерно одинаковы: у них на одном уровне медиана, 25% и 75%квартиль и одинаковый межквартальный размах. Получается, если не смотреть на количество выбросов, то по основной массе игр компании получают примерно одинаковый доход.\n",
    "На втором месте платформы PS и PS2, далее - Wii и DS.\n",
    "Отдельно посмотрим на выбросы по каждой популярной платформе (игры с продажами более 2млн.)"
   ]
  },
  {
   "cell_type": "code",
   "execution_count": 27,
   "metadata": {},
   "outputs": [
    {
     "name": "stdout",
     "output_type": "stream",
     "text": [
      "Всего игр с количеством установок более 2млн.: 852\n"
     ]
    },
    {
     "data": {
      "text/html": [
       "<style type=\"text/css\">\n",
       "#T_9bb5d_row0_col1, #T_9bb5d_row0_col2, #T_9bb5d_row1_col1 {\n",
       "  background-color: #08306b;\n",
       "  color: #f1f1f1;\n",
       "}\n",
       "#T_9bb5d_row1_col2 {\n",
       "  background-color: #1d6cb1;\n",
       "  color: #f1f1f1;\n",
       "}\n",
       "#T_9bb5d_row2_col1 {\n",
       "  background-color: #083c7d;\n",
       "  color: #f1f1f1;\n",
       "}\n",
       "#T_9bb5d_row2_col2 {\n",
       "  background-color: #e4eff9;\n",
       "  color: #000000;\n",
       "}\n",
       "#T_9bb5d_row3_col1 {\n",
       "  background-color: #3c8cc3;\n",
       "  color: #f1f1f1;\n",
       "}\n",
       "#T_9bb5d_row3_col2 {\n",
       "  background-color: #64a9d3;\n",
       "  color: #f1f1f1;\n",
       "}\n",
       "#T_9bb5d_row4_col1 {\n",
       "  background-color: #a4cce3;\n",
       "  color: #000000;\n",
       "}\n",
       "#T_9bb5d_row4_col2, #T_9bb5d_row5_col1 {\n",
       "  background-color: #f7fbff;\n",
       "  color: #000000;\n",
       "}\n",
       "#T_9bb5d_row5_col2 {\n",
       "  background-color: #e7f0fa;\n",
       "  color: #000000;\n",
       "}\n",
       "</style>\n",
       "<table id=\"T_9bb5d\">\n",
       "  <thead>\n",
       "    <tr>\n",
       "      <th class=\"blank level0\" >&nbsp;</th>\n",
       "      <th id=\"T_9bb5d_level0_col0\" class=\"col_heading level0 col0\" >platform</th>\n",
       "      <th id=\"T_9bb5d_level0_col1\" class=\"col_heading level0 col1\" >sum_sales_more2</th>\n",
       "      <th id=\"T_9bb5d_level0_col2\" class=\"col_heading level0 col2\" >count_sales_more2</th>\n",
       "    </tr>\n",
       "  </thead>\n",
       "  <tbody>\n",
       "    <tr>\n",
       "      <th id=\"T_9bb5d_level0_row0\" class=\"row_heading level0 row0\" >12</th>\n",
       "      <td id=\"T_9bb5d_row0_col0\" class=\"data row0 col0\" >PS2</td>\n",
       "      <td id=\"T_9bb5d_row0_col1\" class=\"data row0 col1\" >514.380000</td>\n",
       "      <td id=\"T_9bb5d_row0_col2\" class=\"data row0 col2\" >133</td>\n",
       "    </tr>\n",
       "    <tr>\n",
       "      <th id=\"T_9bb5d_level0_row1\" class=\"row_heading level0 row1\" >19</th>\n",
       "      <td id=\"T_9bb5d_row1_col0\" class=\"data row1 col0\" >X360</td>\n",
       "      <td id=\"T_9bb5d_row1_col1\" class=\"data row1 col1\" >514.370000</td>\n",
       "      <td id=\"T_9bb5d_row1_col2\" class=\"data row1 col2\" >116</td>\n",
       "    </tr>\n",
       "    <tr>\n",
       "      <th id=\"T_9bb5d_level0_row2\" class=\"row_heading level0 row2\" >17</th>\n",
       "      <td id=\"T_9bb5d_row2_col0\" class=\"data row2 col0\" >Wii</td>\n",
       "      <td id=\"T_9bb5d_row2_col1\" class=\"data row2 col1\" >502.390000</td>\n",
       "      <td id=\"T_9bb5d_row2_col2\" class=\"data row2 col2\" >67</td>\n",
       "    </tr>\n",
       "    <tr>\n",
       "      <th id=\"T_9bb5d_level0_row3\" class=\"row_heading level0 row3\" >13</th>\n",
       "      <td id=\"T_9bb5d_row3_col0\" class=\"data row3 col0\" >PS3</td>\n",
       "      <td id=\"T_9bb5d_row3_col1\" class=\"data row3 col1\" >428.670000</td>\n",
       "      <td id=\"T_9bb5d_row3_col2\" class=\"data row3 col2\" >98</td>\n",
       "    </tr>\n",
       "    <tr>\n",
       "      <th id=\"T_9bb5d_level0_row4\" class=\"row_heading level0 row4\" >3</th>\n",
       "      <td id=\"T_9bb5d_row4_col0\" class=\"data row4 col0\" >DS</td>\n",
       "      <td id=\"T_9bb5d_row4_col1\" class=\"data row4 col1\" >359.130000</td>\n",
       "      <td id=\"T_9bb5d_row4_col2\" class=\"data row4 col2\" >60</td>\n",
       "    </tr>\n",
       "    <tr>\n",
       "      <th id=\"T_9bb5d_level0_row5\" class=\"row_heading level0 row5\" >11</th>\n",
       "      <td id=\"T_9bb5d_row5_col0\" class=\"data row5 col0\" >PS</td>\n",
       "      <td id=\"T_9bb5d_row5_col1\" class=\"data row5 col1\" >272.600000</td>\n",
       "      <td id=\"T_9bb5d_row5_col2\" class=\"data row5 col2\" >66</td>\n",
       "    </tr>\n",
       "  </tbody>\n",
       "</table>\n"
      ],
      "text/plain": [
       "<pandas.io.formats.style.Styler at 0x29b9a02bd10>"
      ]
     },
     "metadata": {},
     "output_type": "display_data"
    }
   ],
   "source": [
    "print(\"Всего игр с количеством установок более 2млн.:\",games[games['total_sales']>2]['name'].count())\n",
    "platform_sales_more2 = games[games['total_sales']>2].groupby(by=['platform'],as_index=False).agg({'total_sales':['sum','count']})\n",
    "platform_sales_more2.columns = ['platform','sum_sales_more2','count_sales_more2']\n",
    "platform_sales_more2 = platform_sales_more2.sort_values(by='sum_sales_more2',ascending=False).head(6)\n",
    "display(platform_sales_more2.style.background_gradient(cmap='Blues', axis=0))"
   ]
  },
  {
   "cell_type": "markdown",
   "metadata": {},
   "source": [
    "В целом за всю историю, только 852 игры из всего списка в 16тыс. имеют более 2млн.установок.\n",
    "<br>При этом по таблице выбросов видим, что компании PS2 и X360 опять похожи даже по выбросам: практически одинаковые суммарные продажи по выбросам и примерно схожее количество игр."
   ]
  },
  {
   "cell_type": "markdown",
   "metadata": {},
   "source": [
    "Посмотрим продажи игр в разбивке по трем платфомам только за последние три года (year_of_release >=2014), так как на других плафтормах игры уже не выпускаются."
   ]
  },
  {
   "cell_type": "code",
   "execution_count": 28,
   "metadata": {
    "scrolled": true
   },
   "outputs": [
    {
     "data": {
      "image/png": "[encoded data removed]",
      "text/plain": [
       "<Figure size 800x400 with 1 Axes>"
      ]
     },
     "metadata": {},
     "output_type": "display_data"
    }
   ],
   "source": [
    "platform_box_data = games.query('platform in @platform_list and year_of_release >=2014')\n",
    "plt.figure(figsize=(8,4))\n",
    "params = dict(data=platform_box_data ,x = platform_box_data['platform'] ,y = platform_box_data['total_sales'] ,hue=platform_box_data['platform'],dodge=True)\n",
    "sns.boxplot(**params ,linewidth=3)\n",
    "plt.show()"
   ]
  },
  {
   "cell_type": "markdown",
   "metadata": {},
   "source": [
    "По данному графику видим стратегию каждой из компаний за последние 3 года:\n",
    "- у платформы PS3 больше всего игр-самородков, приносящих свервысокие продажи (максимально высокие выбросы), однако при этом и самый низкий 75% квартиль, что означает, что компания также выпускает много непопулярных игр. То есть, компания работает на количество: чем больше количество разнообразных игр, тем более вероятно, что какие-то из них станут мегапопулярными. При этом неудачные релизы снижают общую статистику по продажам.\n",
    "- у компании Wii противоположный подход: меньше всего выбросов, но самый высокий 75% квартиль, что говорит о том, что каждая выпущенная игра стабильно хорошо продается, но при этом мегапопулярной скорее всего не станет (мы видим только 1 выброс и он втрое ниже, чем максимальный выброс по PS3).\n",
    "- у компании X360 средний подход: есть и стабильно продаваемые игры, и при этом достаточное количество высоких выбросов."
   ]
  },
  {
   "cell_type": "markdown",
   "metadata": {},
   "source": [
    "**3.4 Изучим влияние отзывов на продажи.** <a id='ref3.4'></a> "
   ]
  },
  {
   "cell_type": "markdown",
   "metadata": {},
   "source": [
    "Рассмотрим влияние отзывов на продажи на примере платформы PS3, так как судя по сделанным вше выводам, у данной платформы есть как очень успешные игры, так и наоборот неуспешные."
   ]
  },
  {
   "cell_type": "markdown",
   "metadata": {},
   "source": [
    "Построим диаграмму рассеяния по отзывам критиков и по отзывам пользователей."
   ]
  },
  {
   "cell_type": "code",
   "execution_count": 29,
   "metadata": {},
   "outputs": [
    {
     "data": {
      "image/png": "[encoded data removed]",
      "text/plain": [
       "<Figure size 640x480 with 1 Axes>"
      ]
     },
     "metadata": {},
     "output_type": "display_data"
    },
    {
     "data": {
      "image/png": "[encoded data removed]",
      "text/plain": [
       "<Figure size 640x480 with 1 Axes>"
      ]
     },
     "metadata": {},
     "output_type": "display_data"
    }
   ],
   "source": [
    "ps3_scores = games.query('platform==\"PS3\" and user_score!=-1')[['critic_score','user_score','total_sales']]\n",
    "#fig, axes = plt.subplots(1,2)\n",
    "ps3_scores.plot(x='critic_score', y='total_sales', kind='scatter', alpha=0.5, xlabel='Оценка критиков',\n",
    " ylabel='Суммарные продажи',  title='Зависимость продаж от оценки критиков')\n",
    "plt.show()\n",
    "ps3_scores.plot(x='user_score', y='total_sales', kind='scatter', alpha=0.5, xlabel='Оценка пользователей',\n",
    " ylabel='Суммарные продажи',  title='Зависимость продаж от оценки пользователей')\n",
    "plt.show()"
   ]
  },
  {
   "cell_type": "markdown",
   "metadata": {},
   "source": [
    "Что можно заметить по графикам:\n",
    "- игры с высокой оценкой критиков могут как быть очень популярными, так и непопулярными. Однако, игры с низкой оценкой критиков не бывают сверхпопулярными - до оценки 70 нет даже единичных выбросов. Верхняя граница области разброса довольно четкая. \n",
    "- по оценкам пользователей зависмость менее однозначная: есть непопулярные игры с высокой оценкой и сверхпопулярные игры  со средней или даже низкой оценкой. Это логично, у разных пользователей разные вкусы и предпочтения и разное субъективное восприятие игр, поэтому оценки могут отличаться от оценок экспертов, которые могут оценивать только объективно по заданным критериям. Но так как продажи формируются именно пользователями (а не критиками), то и даже при высокой оценке критиков игра может стать как популярнй, так и наоборот.\n",
    "<br>Почему есть случаи низкой оценки пользователей и высокого уровны продаж? Тут скорее всего играют роль несколько факторов: \n",
    "- мы не знаем в какое время проставлялись оценки. Возможно, игра вышла например в начале 2000х годов, получила высокие оценки критиков и изначально хорошо продавалась, но со временем игра устаревала, а пользователи продолжали ее устанавливать и проставлять оценки, но из-за того, что игра уже не соответствует времени, итоговая оценка снижалась. \n",
    "- либо игра могла быть очень популярна в одном регионе и там формировать основной доход, но при этом вызвала негативные отклики в другом регионе, что вызвало ухудшение общей оценки. Такои случаи можно отдельно проанализировать.\n",
    "- также фактор, который может повлиять: не все пользователи, которые покупают ту или иную игру, могут проставлять оценки по ней. Скорее всего, есть большое количество людей, которые просто играют (и формируют продажи), но не оставляют ни оценок, ни отзывов.\n",
    "<br> Проверим, что покажут оценки корреляции."
   ]
  },
  {
   "cell_type": "code",
   "execution_count": 30,
   "metadata": {},
   "outputs": [
    {
     "data": {
      "text/html": [
       "<div>\n",
       "<style scoped>\n",
       "    .dataframe tbody tr th:only-of-type {\n",
       "        vertical-align: middle;\n",
       "    }\n",
       "\n",
       "    .dataframe tbody tr th {\n",
       "        vertical-align: top;\n",
       "    }\n",
       "\n",
       "    .dataframe thead th {\n",
       "        text-align: right;\n",
       "    }\n",
       "</style>\n",
       "<table border=\"1\" class=\"dataframe\">\n",
       "  <thead>\n",
       "    <tr style=\"text-align: right;\">\n",
       "      <th></th>\n",
       "      <th>critic_score</th>\n",
       "      <th>user_score</th>\n",
       "      <th>total_sales</th>\n",
       "    </tr>\n",
       "  </thead>\n",
       "  <tbody>\n",
       "    <tr>\n",
       "      <th>critic_score</th>\n",
       "      <td>1.000000</td>\n",
       "      <td>0.629005</td>\n",
       "      <td>0.427875</td>\n",
       "    </tr>\n",
       "    <tr>\n",
       "      <th>user_score</th>\n",
       "      <td>0.629005</td>\n",
       "      <td>1.000000</td>\n",
       "      <td>0.126691</td>\n",
       "    </tr>\n",
       "    <tr>\n",
       "      <th>total_sales</th>\n",
       "      <td>0.427875</td>\n",
       "      <td>0.126691</td>\n",
       "      <td>1.000000</td>\n",
       "    </tr>\n",
       "  </tbody>\n",
       "</table>\n",
       "</div>"
      ],
      "text/plain": [
       "              critic_score  user_score  total_sales\n",
       "critic_score      1.000000    0.629005     0.427875\n",
       "user_score        0.629005    1.000000     0.126691\n",
       "total_sales       0.427875    0.126691     1.000000"
      ]
     },
     "execution_count": 30,
     "metadata": {},
     "output_type": "execute_result"
    }
   ],
   "source": [
    "ps3_scores.corr()"
   ]
  },
  {
   "cell_type": "markdown",
   "metadata": {},
   "source": [
    "Матрица корреляции подветрждает выводы по графикам: коэффицицент корреляции продаж от оценки критиков равен 0,4 (средняя корреляция), в то время как корреляция от оценки пользователей равна 0,27 (слабая).\n",
    "Также прослеживается средняя корреляция оценки пользователей от оценки критиков на уровне 0,4, но это скорее говорит о частых случаях, когда мнения критиков и пользователей об игре совпадают, нежели о реальной зависимости оценки пользователей от критиков или наоборот."
   ]
  },
  {
   "cell_type": "markdown",
   "metadata": {},
   "source": [
    "Соотнесем с выводами о продажах на других платформах. Для этого рассмотрим аналогичные графики суммарно по 6 выбранным платформам."
   ]
  },
  {
   "cell_type": "code",
   "execution_count": 31,
   "metadata": {},
   "outputs": [
    {
     "data": {
      "image/png": "[encoded data removed]",
      "text/plain": [
       "<Figure size 640x480 with 1 Axes>"
      ]
     },
     "metadata": {},
     "output_type": "display_data"
    },
    {
     "data": {
      "image/png": "[encoded data removed]",
      "text/plain": [
       "<Figure size 640x480 with 1 Axes>"
      ]
     },
     "metadata": {},
     "output_type": "display_data"
    },
    {
     "data": {
      "text/html": [
       "<div>\n",
       "<style scoped>\n",
       "    .dataframe tbody tr th:only-of-type {\n",
       "        vertical-align: middle;\n",
       "    }\n",
       "\n",
       "    .dataframe tbody tr th {\n",
       "        vertical-align: top;\n",
       "    }\n",
       "\n",
       "    .dataframe thead th {\n",
       "        text-align: right;\n",
       "    }\n",
       "</style>\n",
       "<table border=\"1\" class=\"dataframe\">\n",
       "  <thead>\n",
       "    <tr style=\"text-align: right;\">\n",
       "      <th></th>\n",
       "      <th>critic_score</th>\n",
       "      <th>user_score</th>\n",
       "      <th>total_sales</th>\n",
       "    </tr>\n",
       "  </thead>\n",
       "  <tbody>\n",
       "    <tr>\n",
       "      <th>critic_score</th>\n",
       "      <td>1.000000</td>\n",
       "      <td>0.602382</td>\n",
       "      <td>0.272010</td>\n",
       "    </tr>\n",
       "    <tr>\n",
       "      <th>user_score</th>\n",
       "      <td>0.602382</td>\n",
       "      <td>1.000000</td>\n",
       "      <td>0.111782</td>\n",
       "    </tr>\n",
       "    <tr>\n",
       "      <th>total_sales</th>\n",
       "      <td>0.272010</td>\n",
       "      <td>0.111782</td>\n",
       "      <td>1.000000</td>\n",
       "    </tr>\n",
       "  </tbody>\n",
       "</table>\n",
       "</div>"
      ],
      "text/plain": [
       "              critic_score  user_score  total_sales\n",
       "critic_score      1.000000    0.602382     0.272010\n",
       "user_score        0.602382    1.000000     0.111782\n",
       "total_sales       0.272010    0.111782     1.000000"
      ]
     },
     "execution_count": 31,
     "metadata": {},
     "output_type": "execute_result"
    }
   ],
   "source": [
    "all_scores = games.query('platform in @platform_list and user_score!=-1')[['platform','critic_score','user_score','total_sales']]\n",
    "#fig, axes = plt.subplots(1,2)\n",
    "all_scores.plot(x='critic_score', y='total_sales', kind='scatter', alpha=0.5, xlabel='Оценка критиков',\n",
    " ylabel='Суммарные продажи',  title='Зависимость продаж от оценки критиков')\n",
    "plt.ylim(0,40)\n",
    "plt.show()\n",
    "all_scores.plot(x='user_score', y='total_sales', kind='scatter', alpha=0.5, xlabel='Оценка пользователей',\n",
    " ylabel='Суммарные продажи',  title='Зависимость продаж от оценки пользователей')\n",
    "plt.ylim(0,40)\n",
    "plt.show()\n",
    "all_scores.corr(numeric_only=True)"
   ]
  },
  {
   "cell_type": "markdown",
   "metadata": {},
   "source": [
    "Если смотреть в целом по всем платформам, то коэффициенты корреляции становятся еще меньше: 0,23 для оценки экспертов и 0,2 для оценки пользователей. Хаоса в данных стало больше. Возможно тут влияет тот факт, что среди наших платформ есть старые и новые поколения одной и той же платформы (PS, PS2, PS3). Также возможно, играет роль, что система оценок могла меняться со временем (мы не ограничивали игры по году выпуска), либо могло меняться общее количество пользовательских оценок (пользователей в 1990году скорее всего было меньше чем в 2014г), а значит и выборка была разного объема."
   ]
  },
  {
   "cell_type": "markdown",
   "metadata": {},
   "source": [
    "**3.5 Изучим распределение игр по жанрам.** <a id='ref3.5'></a> "
   ]
  },
  {
   "cell_type": "code",
   "execution_count": 32,
   "metadata": {},
   "outputs": [
    {
     "data": {
      "text/html": [
       "<style type=\"text/css\">\n",
       "#T_a091b_row0_col0, #T_a091b_row0_col2, #T_a091b_row12_col1 {\n",
       "  background-color: #f7fbff;\n",
       "  color: #000000;\n",
       "}\n",
       "#T_a091b_row0_col1, #T_a091b_row5_col0, #T_a091b_row5_col2 {\n",
       "  background-color: #08306b;\n",
       "  color: #f1f1f1;\n",
       "}\n",
       "#T_a091b_row1_col0 {\n",
       "  background-color: #75b4d8;\n",
       "  color: #000000;\n",
       "}\n",
       "#T_a091b_row1_col1 {\n",
       "  background-color: #d2e3f3;\n",
       "  color: #000000;\n",
       "}\n",
       "#T_a091b_row1_col2 {\n",
       "  background-color: #c2d9ee;\n",
       "  color: #000000;\n",
       "}\n",
       "#T_a091b_row2_col0 {\n",
       "  background-color: #4997c9;\n",
       "  color: #f1f1f1;\n",
       "}\n",
       "#T_a091b_row2_col1 {\n",
       "  background-color: #d7e6f5;\n",
       "  color: #000000;\n",
       "}\n",
       "#T_a091b_row2_col2 {\n",
       "  background-color: #97c6df;\n",
       "  color: #000000;\n",
       "}\n",
       "#T_a091b_row3_col0 {\n",
       "  background-color: #1e6db2;\n",
       "  color: #f1f1f1;\n",
       "}\n",
       "#T_a091b_row3_col1 {\n",
       "  background-color: #dae8f6;\n",
       "  color: #000000;\n",
       "}\n",
       "#T_a091b_row3_col2 {\n",
       "  background-color: #2f7fbc;\n",
       "  color: #f1f1f1;\n",
       "}\n",
       "#T_a091b_row4_col0 {\n",
       "  background-color: #c4daee;\n",
       "  color: #000000;\n",
       "}\n",
       "#T_a091b_row4_col1, #T_a091b_row10_col0 {\n",
       "  background-color: #dce9f6;\n",
       "  color: #000000;\n",
       "}\n",
       "#T_a091b_row4_col2 {\n",
       "  background-color: #c6dbef;\n",
       "  color: #000000;\n",
       "}\n",
       "#T_a091b_row5_col1, #T_a091b_row6_col1 {\n",
       "  background-color: #dfecf7;\n",
       "  color: #000000;\n",
       "}\n",
       "#T_a091b_row6_col0 {\n",
       "  background-color: #8dc1dd;\n",
       "  color: #000000;\n",
       "}\n",
       "#T_a091b_row6_col2 {\n",
       "  background-color: #a0cbe2;\n",
       "  color: #000000;\n",
       "}\n",
       "#T_a091b_row7_col0 {\n",
       "  background-color: #5fa6d1;\n",
       "  color: #f1f1f1;\n",
       "}\n",
       "#T_a091b_row7_col1 {\n",
       "  background-color: #e1edf8;\n",
       "  color: #000000;\n",
       "}\n",
       "#T_a091b_row7_col2 {\n",
       "  background-color: #82bbdb;\n",
       "  color: #000000;\n",
       "}\n",
       "#T_a091b_row8_col0 {\n",
       "  background-color: #7cb7da;\n",
       "  color: #000000;\n",
       "}\n",
       "#T_a091b_row8_col1 {\n",
       "  background-color: #e4eff9;\n",
       "  color: #000000;\n",
       "}\n",
       "#T_a091b_row8_col2 {\n",
       "  background-color: #65aad4;\n",
       "  color: #f1f1f1;\n",
       "}\n",
       "#T_a091b_row9_col0 {\n",
       "  background-color: #ccdff1;\n",
       "  color: #000000;\n",
       "}\n",
       "#T_a091b_row9_col1 {\n",
       "  background-color: #e6f0f9;\n",
       "  color: #000000;\n",
       "}\n",
       "#T_a091b_row9_col2 {\n",
       "  background-color: #c3daee;\n",
       "  color: #000000;\n",
       "}\n",
       "#T_a091b_row10_col1 {\n",
       "  background-color: #edf4fc;\n",
       "  color: #000000;\n",
       "}\n",
       "#T_a091b_row10_col2 {\n",
       "  background-color: #d6e5f4;\n",
       "  color: #000000;\n",
       "}\n",
       "#T_a091b_row11_col0 {\n",
       "  background-color: #e3eef9;\n",
       "  color: #000000;\n",
       "}\n",
       "#T_a091b_row11_col1 {\n",
       "  background-color: #eef5fc;\n",
       "  color: #000000;\n",
       "}\n",
       "#T_a091b_row11_col2 {\n",
       "  background-color: #d0e1f2;\n",
       "  color: #000000;\n",
       "}\n",
       "#T_a091b_row12_col0 {\n",
       "  background-color: #dceaf6;\n",
       "  color: #000000;\n",
       "}\n",
       "#T_a091b_row12_col2 {\n",
       "  background-color: #9ac8e0;\n",
       "  color: #000000;\n",
       "}\n",
       "</style>\n",
       "<table id=\"T_a091b\">\n",
       "  <thead>\n",
       "    <tr>\n",
       "      <th class=\"blank level0\" >&nbsp;</th>\n",
       "      <th id=\"T_a091b_level0_col0\" class=\"col_heading level0 col0\" >sales_sum</th>\n",
       "      <th id=\"T_a091b_level0_col1\" class=\"col_heading level0 col1\" >sales_median</th>\n",
       "      <th id=\"T_a091b_level0_col2\" class=\"col_heading level0 col2\" >games_count</th>\n",
       "    </tr>\n",
       "    <tr>\n",
       "      <th class=\"index_name level0\" >genre</th>\n",
       "      <th class=\"blank col0\" >&nbsp;</th>\n",
       "      <th class=\"blank col1\" >&nbsp;</th>\n",
       "      <th class=\"blank col2\" >&nbsp;</th>\n",
       "    </tr>\n",
       "  </thead>\n",
       "  <tbody>\n",
       "    <tr>\n",
       "      <th id=\"T_a091b_level0_row0\" class=\"row_heading level0 row0\" >Не указано</th>\n",
       "      <td id=\"T_a091b_row0_col0\" class=\"data row0 col0\" >2.42</td>\n",
       "      <td id=\"T_a091b_row0_col1\" class=\"data row0 col1\" >1.21</td>\n",
       "      <td id=\"T_a091b_row0_col2\" class=\"data row0 col2\" >2.00</td>\n",
       "    </tr>\n",
       "    <tr>\n",
       "      <th id=\"T_a091b_level0_row1\" class=\"row_heading level0 row1\" >Platform</th>\n",
       "      <td id=\"T_a091b_row1_col0\" class=\"data row1 col0\" >827.77</td>\n",
       "      <td id=\"T_a091b_row1_col1\" class=\"data row1 col1\" >0.27</td>\n",
       "      <td id=\"T_a091b_row1_col2\" class=\"data row1 col2\" >888.00</td>\n",
       "    </tr>\n",
       "    <tr>\n",
       "      <th id=\"T_a091b_level0_row2\" class=\"row_heading level0 row2\" >Shooter</th>\n",
       "      <td id=\"T_a091b_row2_col0\" class=\"data row2 col0\" >1052.45</td>\n",
       "      <td id=\"T_a091b_row2_col1\" class=\"data row2 col1\" >0.24</td>\n",
       "      <td id=\"T_a091b_row2_col2\" class=\"data row2 col2\" >1323.00</td>\n",
       "    </tr>\n",
       "    <tr>\n",
       "      <th id=\"T_a091b_level0_row3\" class=\"row_heading level0 row3\" >Sports</th>\n",
       "      <td id=\"T_a091b_row3_col0\" class=\"data row3 col0\" >1331.27</td>\n",
       "      <td id=\"T_a091b_row3_col1\" class=\"data row3 col1\" >0.22</td>\n",
       "      <td id=\"T_a091b_row3_col2\" class=\"data row3 col2\" >2348.00</td>\n",
       "    </tr>\n",
       "    <tr>\n",
       "      <th id=\"T_a091b_level0_row4\" class=\"row_heading level0 row4\" >Fighting</th>\n",
       "      <td id=\"T_a091b_row4_col0\" class=\"data row4 col0\" >447.53</td>\n",
       "      <td id=\"T_a091b_row4_col1\" class=\"data row4 col1\" >0.21</td>\n",
       "      <td id=\"T_a091b_row4_col2\" class=\"data row4 col2\" >849.00</td>\n",
       "    </tr>\n",
       "    <tr>\n",
       "      <th id=\"T_a091b_level0_row5\" class=\"row_heading level0 row5\" >Action</th>\n",
       "      <td id=\"T_a091b_row5_col0\" class=\"data row5 col0\" >1744.17</td>\n",
       "      <td id=\"T_a091b_row5_col1\" class=\"data row5 col1\" >0.19</td>\n",
       "      <td id=\"T_a091b_row5_col2\" class=\"data row5 col2\" >3369.00</td>\n",
       "    </tr>\n",
       "    <tr>\n",
       "      <th id=\"T_a091b_level0_row6\" class=\"row_heading level0 row6\" >Racing</th>\n",
       "      <td id=\"T_a091b_row6_col0\" class=\"data row6 col0\" >728.67</td>\n",
       "      <td id=\"T_a091b_row6_col1\" class=\"data row6 col1\" >0.19</td>\n",
       "      <td id=\"T_a091b_row6_col2\" class=\"data row6 col2\" >1249.00</td>\n",
       "    </tr>\n",
       "    <tr>\n",
       "      <th id=\"T_a091b_level0_row7\" class=\"row_heading level0 row7\" >Role-Playing</th>\n",
       "      <td id=\"T_a091b_row7_col0\" class=\"data row7 col0\" >934.56</td>\n",
       "      <td id=\"T_a091b_row7_col1\" class=\"data row7 col1\" >0.18</td>\n",
       "      <td id=\"T_a091b_row7_col2\" class=\"data row7 col2\" >1498.00</td>\n",
       "    </tr>\n",
       "    <tr>\n",
       "      <th id=\"T_a091b_level0_row8\" class=\"row_heading level0 row8\" >Misc</th>\n",
       "      <td id=\"T_a091b_row8_col0\" class=\"data row8 col0\" >802.51</td>\n",
       "      <td id=\"T_a091b_row8_col1\" class=\"data row8 col1\" >0.16</td>\n",
       "      <td id=\"T_a091b_row8_col2\" class=\"data row8 col2\" >1750.00</td>\n",
       "    </tr>\n",
       "    <tr>\n",
       "      <th id=\"T_a091b_level0_row9\" class=\"row_heading level0 row9\" >Simulation</th>\n",
       "      <td id=\"T_a091b_row9_col0\" class=\"data row9 col0\" >389.97</td>\n",
       "      <td id=\"T_a091b_row9_col1\" class=\"data row9 col1\" >0.15</td>\n",
       "      <td id=\"T_a091b_row9_col2\" class=\"data row9 col2\" >873.00</td>\n",
       "    </tr>\n",
       "    <tr>\n",
       "      <th id=\"T_a091b_level0_row10\" class=\"row_heading level0 row10\" >Puzzle</th>\n",
       "      <td id=\"T_a091b_row10_col0\" class=\"data row10 col0\" >242.57</td>\n",
       "      <td id=\"T_a091b_row10_col1\" class=\"data row10 col1\" >0.11</td>\n",
       "      <td id=\"T_a091b_row10_col2\" class=\"data row10 col2\" >580.00</td>\n",
       "    </tr>\n",
       "    <tr>\n",
       "      <th id=\"T_a091b_level0_row11\" class=\"row_heading level0 row11\" >Strategy</th>\n",
       "      <td id=\"T_a091b_row11_col0\" class=\"data row11 col0\" >174.23</td>\n",
       "      <td id=\"T_a091b_row11_col1\" class=\"data row11 col1\" >0.10</td>\n",
       "      <td id=\"T_a091b_row11_col2\" class=\"data row11 col2\" >683.00</td>\n",
       "    </tr>\n",
       "    <tr>\n",
       "      <th id=\"T_a091b_level0_row12\" class=\"row_heading level0 row12\" >Adventure</th>\n",
       "      <td id=\"T_a091b_row12_col0\" class=\"data row12 col0\" >237.59</td>\n",
       "      <td id=\"T_a091b_row12_col1\" class=\"data row12 col1\" >0.05</td>\n",
       "      <td id=\"T_a091b_row12_col2\" class=\"data row12 col2\" >1303.00</td>\n",
       "    </tr>\n",
       "  </tbody>\n",
       "</table>\n"
      ],
      "text/plain": [
       "<pandas.io.formats.style.Styler at 0x29b9ab294d0>"
      ]
     },
     "metadata": {},
     "output_type": "display_data"
    }
   ],
   "source": [
    "genres_data_all = games.groupby(by='genre').agg({'total_sales':['sum','median'],'name':'count'})\n",
    "genres_data_all.columns = ['sales_sum','sales_median','games_count']\n",
    "genres_data_all = genres_data_all.sort_values(by='sales_median',ascending=False)\n",
    "display(genres_data_all.style.format('{:.2f}').background_gradient(cmap='Blues', axis=0))"
   ]
  },
  {
   "cell_type": "markdown",
   "metadata": {},
   "source": [
    "<br>По медиане среди разных жанров видим, что наибольшее количество установок приносят платформенные игры, шутеры и спортивные игры. При этом, по количеству игры и суммарным продажам лидируют Action, Sports, Shooter."
   ]
  },
  {
   "cell_type": "markdown",
   "metadata": {},
   "source": [
    "## Портрет пользователя каждого региона\n",
    "<a id='ref4'></a>"
   ]
  },
  {
   "cell_type": "markdown",
   "metadata": {},
   "source": [
    "**4.1 Самые популярные платформы.** <a id='ref4.1'></a> "
   ]
  },
  {
   "cell_type": "markdown",
   "metadata": {},
   "source": [
    "Рассмотрим популярность платформ по регионам."
   ]
  },
  {
   "cell_type": "code",
   "execution_count": 33,
   "metadata": {},
   "outputs": [
    {
     "data": {
      "text/html": [
       "<style type=\"text/css\">\n",
       "#T_d5420_row0_col0, #T_d5420_row0_col2, #T_d5420_row0_col4, #T_d5420_row1_col1, #T_d5420_row4_col3 {\n",
       "  background-color: #08306b;\n",
       "  color: #f1f1f1;\n",
       "}\n",
       "#T_d5420_row0_col1 {\n",
       "  background-color: #083979;\n",
       "  color: #f1f1f1;\n",
       "}\n",
       "#T_d5420_row0_col3 {\n",
       "  background-color: #1966ad;\n",
       "  color: #f1f1f1;\n",
       "}\n",
       "#T_d5420_row1_col0 {\n",
       "  background-color: #2777b8;\n",
       "  color: #f1f1f1;\n",
       "}\n",
       "#T_d5420_row1_col2 {\n",
       "  background-color: #1a68ae;\n",
       "  color: #f1f1f1;\n",
       "}\n",
       "#T_d5420_row1_col3 {\n",
       "  background-color: #eaf2fb;\n",
       "  color: #000000;\n",
       "}\n",
       "#T_d5420_row1_col4 {\n",
       "  background-color: #87bddc;\n",
       "  color: #000000;\n",
       "}\n",
       "#T_d5420_row2_col0, #T_d5420_row2_col4 {\n",
       "  background-color: #3080bd;\n",
       "  color: #f1f1f1;\n",
       "}\n",
       "#T_d5420_row2_col1 {\n",
       "  background-color: #4b98ca;\n",
       "  color: #f1f1f1;\n",
       "}\n",
       "#T_d5420_row2_col2 {\n",
       "  background-color: #083776;\n",
       "  color: #f1f1f1;\n",
       "}\n",
       "#T_d5420_row2_col3 {\n",
       "  background-color: #7db8da;\n",
       "  color: #000000;\n",
       "}\n",
       "#T_d5420_row3_col0 {\n",
       "  background-color: #3787c0;\n",
       "  color: #f1f1f1;\n",
       "}\n",
       "#T_d5420_row3_col1, #T_d5420_row5_col3 {\n",
       "  background-color: #1865ac;\n",
       "  color: #f1f1f1;\n",
       "}\n",
       "#T_d5420_row3_col2 {\n",
       "  background-color: #206fb4;\n",
       "  color: #f1f1f1;\n",
       "}\n",
       "#T_d5420_row3_col3 {\n",
       "  background-color: #97c6df;\n",
       "  color: #000000;\n",
       "}\n",
       "#T_d5420_row3_col4 {\n",
       "  background-color: #95c5df;\n",
       "  color: #000000;\n",
       "}\n",
       "#T_d5420_row4_col0 {\n",
       "  background-color: #549fcd;\n",
       "  color: #f1f1f1;\n",
       "}\n",
       "#T_d5420_row4_col1 {\n",
       "  background-color: #529dcc;\n",
       "  color: #f1f1f1;\n",
       "}\n",
       "#T_d5420_row4_col2 {\n",
       "  background-color: #63a8d3;\n",
       "  color: #f1f1f1;\n",
       "}\n",
       "#T_d5420_row4_col4 {\n",
       "  background-color: #b9d6ea;\n",
       "  color: #000000;\n",
       "}\n",
       "#T_d5420_row5_col0 {\n",
       "  background-color: #6dafd7;\n",
       "  color: #f1f1f1;\n",
       "}\n",
       "#T_d5420_row5_col1 {\n",
       "  background-color: #71b1d7;\n",
       "  color: #f1f1f1;\n",
       "}\n",
       "#T_d5420_row5_col2 {\n",
       "  background-color: #4997c9;\n",
       "  color: #f1f1f1;\n",
       "}\n",
       "#T_d5420_row5_col4, #T_d5420_row14_col3 {\n",
       "  background-color: #d1e2f3;\n",
       "  color: #000000;\n",
       "}\n",
       "#T_d5420_row6_col0, #T_d5420_row9_col4 {\n",
       "  background-color: #e4eff9;\n",
       "  color: #000000;\n",
       "}\n",
       "#T_d5420_row6_col1 {\n",
       "  background-color: #d0e1f2;\n",
       "  color: #000000;\n",
       "}\n",
       "#T_d5420_row6_col2 {\n",
       "  background-color: #d6e5f4;\n",
       "  color: #000000;\n",
       "}\n",
       "#T_d5420_row6_col3 {\n",
       "  background-color: #c1d9ed;\n",
       "  color: #000000;\n",
       "}\n",
       "#T_d5420_row6_col4 {\n",
       "  background-color: #f4f9fe;\n",
       "  color: #000000;\n",
       "}\n",
       "#T_d5420_row7_col0, #T_d5420_row7_col3 {\n",
       "  background-color: #e5eff9;\n",
       "  color: #000000;\n",
       "}\n",
       "#T_d5420_row7_col1, #T_d5420_row8_col1, #T_d5420_row10_col4 {\n",
       "  background-color: #eef5fc;\n",
       "  color: #000000;\n",
       "}\n",
       "#T_d5420_row7_col2 {\n",
       "  background-color: #9dcae1;\n",
       "  color: #000000;\n",
       "}\n",
       "#T_d5420_row7_col4 {\n",
       "  background-color: #caddf0;\n",
       "  color: #000000;\n",
       "}\n",
       "#T_d5420_row8_col0 {\n",
       "  background-color: #e9f2fa;\n",
       "  color: #000000;\n",
       "}\n",
       "#T_d5420_row8_col2 {\n",
       "  background-color: #dbe9f6;\n",
       "  color: #000000;\n",
       "}\n",
       "#T_d5420_row8_col3 {\n",
       "  background-color: #85bcdc;\n",
       "  color: #000000;\n",
       "}\n",
       "#T_d5420_row8_col4, #T_d5420_row11_col1 {\n",
       "  background-color: #d0e2f2;\n",
       "  color: #000000;\n",
       "}\n",
       "#T_d5420_row9_col0 {\n",
       "  background-color: #eff6fc;\n",
       "  color: #000000;\n",
       "}\n",
       "#T_d5420_row9_col1, #T_d5420_row11_col4, #T_d5420_row12_col4 {\n",
       "  background-color: #f3f8fe;\n",
       "  color: #000000;\n",
       "}\n",
       "#T_d5420_row9_col2 {\n",
       "  background-color: #9cc9e1;\n",
       "  color: #000000;\n",
       "}\n",
       "#T_d5420_row9_col3, #T_d5420_row10_col1, #T_d5420_row13_col2, #T_d5420_row14_col0, #T_d5420_row14_col4 {\n",
       "  background-color: #f7fbff;\n",
       "  color: #000000;\n",
       "}\n",
       "#T_d5420_row10_col0, #T_d5420_row11_col0, #T_d5420_row12_col0 {\n",
       "  background-color: #f0f6fd;\n",
       "  color: #000000;\n",
       "}\n",
       "#T_d5420_row10_col2, #T_d5420_row11_col2 {\n",
       "  background-color: #deebf7;\n",
       "  color: #000000;\n",
       "}\n",
       "#T_d5420_row10_col3 {\n",
       "  background-color: #539ecd;\n",
       "  color: #f1f1f1;\n",
       "}\n",
       "#T_d5420_row11_col3, #T_d5420_row13_col4 {\n",
       "  background-color: #f6faff;\n",
       "  color: #000000;\n",
       "}\n",
       "#T_d5420_row12_col1 {\n",
       "  background-color: #ebf3fb;\n",
       "  color: #000000;\n",
       "}\n",
       "#T_d5420_row12_col2 {\n",
       "  background-color: #e7f0fa;\n",
       "  color: #000000;\n",
       "}\n",
       "#T_d5420_row12_col3 {\n",
       "  background-color: #72b2d8;\n",
       "  color: #f1f1f1;\n",
       "}\n",
       "#T_d5420_row13_col0 {\n",
       "  background-color: #f2f7fd;\n",
       "  color: #000000;\n",
       "}\n",
       "#T_d5420_row13_col1 {\n",
       "  background-color: #e7f1fa;\n",
       "  color: #000000;\n",
       "}\n",
       "#T_d5420_row13_col3 {\n",
       "  background-color: #57a0ce;\n",
       "  color: #f1f1f1;\n",
       "}\n",
       "#T_d5420_row14_col1 {\n",
       "  background-color: #e2edf8;\n",
       "  color: #000000;\n",
       "}\n",
       "#T_d5420_row14_col2 {\n",
       "  background-color: #eaf3fb;\n",
       "  color: #000000;\n",
       "}\n",
       "</style>\n",
       "<table id=\"T_d5420\">\n",
       "  <thead>\n",
       "    <tr>\n",
       "      <th class=\"blank level0\" >&nbsp;</th>\n",
       "      <th id=\"T_d5420_level0_col0\" class=\"col_heading level0 col0\" >total_sales</th>\n",
       "      <th id=\"T_d5420_level0_col1\" class=\"col_heading level0 col1\" >na_sales</th>\n",
       "      <th id=\"T_d5420_level0_col2\" class=\"col_heading level0 col2\" >eu_sales</th>\n",
       "      <th id=\"T_d5420_level0_col3\" class=\"col_heading level0 col3\" >jp_sales</th>\n",
       "      <th id=\"T_d5420_level0_col4\" class=\"col_heading level0 col4\" >other_sales</th>\n",
       "    </tr>\n",
       "    <tr>\n",
       "      <th class=\"index_name level0\" >platform</th>\n",
       "      <th class=\"blank col0\" >&nbsp;</th>\n",
       "      <th class=\"blank col1\" >&nbsp;</th>\n",
       "      <th class=\"blank col2\" >&nbsp;</th>\n",
       "      <th class=\"blank col3\" >&nbsp;</th>\n",
       "      <th class=\"blank col4\" >&nbsp;</th>\n",
       "    </tr>\n",
       "  </thead>\n",
       "  <tbody>\n",
       "    <tr>\n",
       "      <th id=\"T_d5420_level0_row0\" class=\"row_heading level0 row0\" >PS2</th>\n",
       "      <td id=\"T_d5420_row0_col0\" class=\"data row0 col0\" >1255.77</td>\n",
       "      <td id=\"T_d5420_row0_col1\" class=\"data row0 col1\" >583.84</td>\n",
       "      <td id=\"T_d5420_row0_col2\" class=\"data row0 col2\" >339.29</td>\n",
       "      <td id=\"T_d5420_row0_col3\" class=\"data row0 col3\" >139.20</td>\n",
       "      <td id=\"T_d5420_row0_col4\" class=\"data row0 col4\" >193.44</td>\n",
       "    </tr>\n",
       "    <tr>\n",
       "      <th id=\"T_d5420_level0_row1\" class=\"row_heading level0 row1\" >X360</th>\n",
       "      <td id=\"T_d5420_row1_col0\" class=\"data row1 col0\" >971.42</td>\n",
       "      <td id=\"T_d5420_row1_col1\" class=\"data row1 col1\" >602.47</td>\n",
       "      <td id=\"T_d5420_row1_col2\" class=\"data row1 col2\" >270.76</td>\n",
       "      <td id=\"T_d5420_row1_col3\" class=\"data row1 col3\" >12.43</td>\n",
       "      <td id=\"T_d5420_row1_col4\" class=\"data row1 col4\" >85.76</td>\n",
       "    </tr>\n",
       "    <tr>\n",
       "      <th id=\"T_d5420_level0_row2\" class=\"row_heading level0 row2\" >PS3</th>\n",
       "      <td id=\"T_d5420_row2_col0\" class=\"data row2 col0\" >939.65</td>\n",
       "      <td id=\"T_d5420_row2_col1\" class=\"data row2 col1\" >393.49</td>\n",
       "      <td id=\"T_d5420_row2_col2\" class=\"data row2 col2\" >330.29</td>\n",
       "      <td id=\"T_d5420_row2_col3\" class=\"data row2 col3\" >80.19</td>\n",
       "      <td id=\"T_d5420_row2_col4\" class=\"data row2 col4\" >135.68</td>\n",
       "    </tr>\n",
       "    <tr>\n",
       "      <th id=\"T_d5420_level0_row3\" class=\"row_heading level0 row3\" >Wii</th>\n",
       "      <td id=\"T_d5420_row3_col0\" class=\"data row3 col0\" >907.51</td>\n",
       "      <td id=\"T_d5420_row3_col1\" class=\"data row3 col1\" >496.90</td>\n",
       "      <td id=\"T_d5420_row3_col2\" class=\"data row3 col2\" >262.21</td>\n",
       "      <td id=\"T_d5420_row3_col3\" class=\"data row3 col3\" >69.33</td>\n",
       "      <td id=\"T_d5420_row3_col4\" class=\"data row3 col4\" >79.07</td>\n",
       "    </tr>\n",
       "    <tr>\n",
       "      <th id=\"T_d5420_level0_row4\" class=\"row_heading level0 row4\" >DS</th>\n",
       "      <td id=\"T_d5420_row4_col0\" class=\"data row4 col0\" >806.12</td>\n",
       "      <td id=\"T_d5420_row4_col1\" class=\"data row4 col1\" >382.40</td>\n",
       "      <td id=\"T_d5420_row4_col2\" class=\"data row4 col2\" >188.89</td>\n",
       "      <td id=\"T_d5420_row4_col3\" class=\"data row4 col3\" >175.57</td>\n",
       "      <td id=\"T_d5420_row4_col4\" class=\"data row4 col4\" >59.26</td>\n",
       "    </tr>\n",
       "    <tr>\n",
       "      <th id=\"T_d5420_level0_row5\" class=\"row_heading level0 row5\" >PS</th>\n",
       "      <td id=\"T_d5420_row5_col0\" class=\"data row5 col0\" >730.86</td>\n",
       "      <td id=\"T_d5420_row5_col1\" class=\"data row5 col1\" >336.52</td>\n",
       "      <td id=\"T_d5420_row5_col2\" class=\"data row5 col2\" >213.61</td>\n",
       "      <td id=\"T_d5420_row5_col3\" class=\"data row5 col3\" >139.82</td>\n",
       "      <td id=\"T_d5420_row5_col4\" class=\"data row5 col4\" >40.91</td>\n",
       "    </tr>\n",
       "    <tr>\n",
       "      <th id=\"T_d5420_level0_row6\" class=\"row_heading level0 row6\" >GBA</th>\n",
       "      <td id=\"T_d5420_row6_col0\" class=\"data row6 col0\" >317.85</td>\n",
       "      <td id=\"T_d5420_row6_col1\" class=\"data row6 col1\" >187.54</td>\n",
       "      <td id=\"T_d5420_row6_col2\" class=\"data row6 col2\" >75.25</td>\n",
       "      <td id=\"T_d5420_row6_col3\" class=\"data row6 col3\" >47.33</td>\n",
       "      <td id=\"T_d5420_row6_col4\" class=\"data row6 col4\" >7.73</td>\n",
       "    </tr>\n",
       "    <tr>\n",
       "      <th id=\"T_d5420_level0_row7\" class=\"row_heading level0 row7\" >PS4</th>\n",
       "      <td id=\"T_d5420_row7_col0\" class=\"data row7 col0\" >314.14</td>\n",
       "      <td id=\"T_d5420_row7_col1\" class=\"data row7 col1\" >108.74</td>\n",
       "      <td id=\"T_d5420_row7_col2\" class=\"data row7 col2\" >141.09</td>\n",
       "      <td id=\"T_d5420_row7_col3\" class=\"data row7 col3\" >15.96</td>\n",
       "      <td id=\"T_d5420_row7_col4\" class=\"data row7 col4\" >48.35</td>\n",
       "    </tr>\n",
       "    <tr>\n",
       "      <th id=\"T_d5420_level0_row8\" class=\"row_heading level0 row8\" >PSP</th>\n",
       "      <td id=\"T_d5420_row8_col0\" class=\"data row8 col0\" >294.05</td>\n",
       "      <td id=\"T_d5420_row8_col1\" class=\"data row8 col1\" >109.17</td>\n",
       "      <td id=\"T_d5420_row8_col2\" class=\"data row8 col2\" >66.68</td>\n",
       "      <td id=\"T_d5420_row8_col3\" class=\"data row8 col3\" >76.78</td>\n",
       "      <td id=\"T_d5420_row8_col4\" class=\"data row8 col4\" >41.42</td>\n",
       "    </tr>\n",
       "    <tr>\n",
       "      <th id=\"T_d5420_level0_row9\" class=\"row_heading level0 row9\" >PC</th>\n",
       "      <td id=\"T_d5420_row9_col0\" class=\"data row9 col0\" >259.52</td>\n",
       "      <td id=\"T_d5420_row9_col1\" class=\"data row9 col1\" >94.53</td>\n",
       "      <td id=\"T_d5420_row9_col2\" class=\"data row9 col2\" >142.44</td>\n",
       "      <td id=\"T_d5420_row9_col3\" class=\"data row9 col3\" >0.17</td>\n",
       "      <td id=\"T_d5420_row9_col4\" class=\"data row9 col4\" >22.38</td>\n",
       "    </tr>\n",
       "    <tr>\n",
       "      <th id=\"T_d5420_level0_row10\" class=\"row_heading level0 row10\" >3DS</th>\n",
       "      <td id=\"T_d5420_row10_col0\" class=\"data row10 col0\" >259.00</td>\n",
       "      <td id=\"T_d5420_row10_col1\" class=\"data row10 col1\" >83.49</td>\n",
       "      <td id=\"T_d5420_row10_col2\" class=\"data row10 col2\" >61.48</td>\n",
       "      <td id=\"T_d5420_row10_col3\" class=\"data row10 col3\" >100.67</td>\n",
       "      <td id=\"T_d5420_row10_col4\" class=\"data row10 col4\" >13.36</td>\n",
       "    </tr>\n",
       "    <tr>\n",
       "      <th id=\"T_d5420_level0_row11\" class=\"row_heading level0 row11\" >XB</th>\n",
       "      <td id=\"T_d5420_row11_col0\" class=\"data row11 col0\" >257.74</td>\n",
       "      <td id=\"T_d5420_row11_col1\" class=\"data row11 col1\" >186.69</td>\n",
       "      <td id=\"T_d5420_row11_col2\" class=\"data row11 col2\" >60.95</td>\n",
       "      <td id=\"T_d5420_row11_col3\" class=\"data row11 col3\" >1.38</td>\n",
       "      <td id=\"T_d5420_row11_col4\" class=\"data row11 col4\" >8.72</td>\n",
       "    </tr>\n",
       "    <tr>\n",
       "      <th id=\"T_d5420_level0_row12\" class=\"row_heading level0 row12\" >GB</th>\n",
       "      <td id=\"T_d5420_row12_col0\" class=\"data row12 col0\" >255.46</td>\n",
       "      <td id=\"T_d5420_row12_col1\" class=\"data row12 col1\" >114.32</td>\n",
       "      <td id=\"T_d5420_row12_col2\" class=\"data row12 col2\" >47.82</td>\n",
       "      <td id=\"T_d5420_row12_col3\" class=\"data row12 col3\" >85.12</td>\n",
       "      <td id=\"T_d5420_row12_col4\" class=\"data row12 col4\" >8.20</td>\n",
       "    </tr>\n",
       "    <tr>\n",
       "      <th id=\"T_d5420_level0_row13\" class=\"row_heading level0 row13\" >NES</th>\n",
       "      <td id=\"T_d5420_row13_col0\" class=\"data row13 col0\" >251.05</td>\n",
       "      <td id=\"T_d5420_row13_col1\" class=\"data row13 col1\" >125.94</td>\n",
       "      <td id=\"T_d5420_row13_col2\" class=\"data row13 col2\" >21.15</td>\n",
       "      <td id=\"T_d5420_row13_col3\" class=\"data row13 col3\" >98.65</td>\n",
       "      <td id=\"T_d5420_row13_col4\" class=\"data row13 col4\" >5.31</td>\n",
       "    </tr>\n",
       "    <tr>\n",
       "      <th id=\"T_d5420_level0_row14\" class=\"row_heading level0 row14\" >N64</th>\n",
       "      <td id=\"T_d5420_row14_col0\" class=\"data row14 col0\" >218.68</td>\n",
       "      <td id=\"T_d5420_row14_col1\" class=\"data row14 col1\" >139.02</td>\n",
       "      <td id=\"T_d5420_row14_col2\" class=\"data row14 col2\" >41.06</td>\n",
       "      <td id=\"T_d5420_row14_col3\" class=\"data row14 col3\" >34.22</td>\n",
       "      <td id=\"T_d5420_row14_col4\" class=\"data row14 col4\" >4.38</td>\n",
       "    </tr>\n",
       "  </tbody>\n",
       "</table>\n"
      ],
      "text/plain": [
       "<pandas.io.formats.style.Styler at 0x29b9ad23610>"
      ]
     },
     "metadata": {},
     "output_type": "display_data"
    },
    {
     "data": {
      "image/png": "[encoded data removed]",
      "text/plain": [
       "<Figure size 3000x3000 with 4 Axes>"
      ]
     },
     "metadata": {},
     "output_type": "display_data"
    }
   ],
   "source": [
    "platform_data = games.groupby(by='platform')[['total_sales','na_sales', 'eu_sales','jp_sales','other_sales']].agg('sum')\n",
    "platform_data = platform_data.sort_values(by='total_sales',ascending=False)\n",
    "display(platform_data.head(15).style.format('{:.2f}').background_gradient(cmap='Blues', axis=0))\n",
    "\n",
    "#рисуем пироги\n",
    "def top5_platforms_by_region(region):\n",
    "    if region=='na':\n",
    "        platform_data = games.groupby(by='platform',as_index=False)[['na_sales']].agg('sum')\n",
    "    elif region == 'eu':\n",
    "        platform_data = games.groupby(by='platform',as_index=False)[['eu_sales']].agg('sum')\n",
    "    elif region == 'jp':\n",
    "        platform_data = games.groupby(by='platform',as_index=False)[['jp_sales']].agg('sum')\n",
    "    elif region =='other':\n",
    "        platform_data = games.groupby(by='platform',as_index=False)[['other_sales']].agg('sum')\n",
    "    elif region == 'total':\n",
    "        platform_data = games.groupby(by='platform',as_index=False)[['total_sales']].agg('sum')\n",
    "    platform_data.columns = ['platform','sales']\n",
    "    platform_data = platform_data.sort_values(by='sales', ascending=False).reset_index(drop=True)\n",
    "    platform_data.loc[5:,'platform'] = 'Other'  #выделяем топ-5, а остальные - в Others\n",
    "    platform_data = platform_data.groupby(by='platform',as_index=False)[['sales']].agg('sum') #схлопываем Others\n",
    "    platform_data = platform_data.sort_values(by='sales', ascending=False).reset_index(drop=True)\n",
    "    return platform_data\n",
    "\n",
    "fig, axes = plt.subplots(nrows = 1, ncols=4, figsize = (30,30))\n",
    "k=0\n",
    "for i in ['na','eu','jp','other']:\n",
    "    data = top5_platforms_by_region(i).copy()\n",
    "    labels = data['platform']\n",
    "    axes[k].pie(data=data, labels=labels, x=data['sales'], autopct='%.0f%%')\n",
    "    axes[k].set_title(i.upper())\n",
    "    k+=1\n"
   ]
  },
  {
   "cell_type": "markdown",
   "metadata": {},
   "source": [
    "По каждому региону можно заметить отличительные особенности:\n",
    "- в Северной Америке:\n",
    "    - отличительная особенность - пользователи больше всего предпочитают X360 (во всех остальных регионах пользователи в основном предпочитают PS)\n",
    "    - платформа Wii гораздо более популярна, чем PS2, но не более популярна чем PS3\n",
    "    - суммарные продажи по большинству платформ выше, чем в остальных регионах\n",
    "- в Европе:\n",
    "    - пользователи больше всего предпочитают PS2 и PS3(продажи игр почти на них идентичны) и также одинаково благосклонно относятся к Wii и X360. Можно сказать, что европейские пользователи не гонятся за определенными платформами, а выбирают наиболее популярные мировые варианты.\n",
    "- в Японии:\n",
    "    - в этом регионе картина кардинально отличается от мировой. Наиболее популярной платформой является DS, вторыми популярности - PS и PS2. Таке пользуются спросом SNES, NES,3DS, GB. А вот популярные X360 и Wii в Японии совсем не популярны.\n",
    "- во всем остальном мире:\n",
    "    - наиболее популярны PS2 и PS3, второе место занимает X360 и далее с небольшим отрывом Wii. Остальные платформы не осбо популярны.\n",
    "\n",
    "<br> Получается, наиболее выгодной с точи зрения продаж является платформа PS2, а также с учетом больших продаж в Северной Америке - платформа X360."
   ]
  },
  {
   "cell_type": "markdown",
   "metadata": {},
   "source": [
    "**4.2 Самые популярные жанры.** <a id='ref4.2'></a> "
   ]
  },
  {
   "cell_type": "markdown",
   "metadata": {},
   "source": [
    "Рассмотрим популярность разных жанров по регионам."
   ]
  },
  {
   "cell_type": "code",
   "execution_count": 34,
   "metadata": {},
   "outputs": [
    {
     "data": {
      "text/html": [
       "<style type=\"text/css\">\n",
       "#T_23eff_row0_col0, #T_23eff_row0_col1, #T_23eff_row0_col2, #T_23eff_row0_col4, #T_23eff_row3_col3 {\n",
       "  background-color: #08306b;\n",
       "  color: #f1f1f1;\n",
       "}\n",
       "#T_23eff_row0_col3, #T_23eff_row6_col2 {\n",
       "  background-color: #7db8da;\n",
       "  color: #000000;\n",
       "}\n",
       "#T_23eff_row1_col0 {\n",
       "  background-color: #1e6db2;\n",
       "  color: #f1f1f1;\n",
       "}\n",
       "#T_23eff_row1_col1 {\n",
       "  background-color: #1b69af;\n",
       "  color: #f1f1f1;\n",
       "}\n",
       "#T_23eff_row1_col2 {\n",
       "  background-color: #2777b8;\n",
       "  color: #f1f1f1;\n",
       "}\n",
       "#T_23eff_row1_col3 {\n",
       "  background-color: #9cc9e1;\n",
       "  color: #000000;\n",
       "}\n",
       "#T_23eff_row1_col4 {\n",
       "  background-color: #2676b8;\n",
       "  color: #f1f1f1;\n",
       "}\n",
       "#T_23eff_row2_col0 {\n",
       "  background-color: #4997c9;\n",
       "  color: #f1f1f1;\n",
       "}\n",
       "#T_23eff_row2_col1 {\n",
       "  background-color: #3585bf;\n",
       "  color: #f1f1f1;\n",
       "}\n",
       "#T_23eff_row2_col2 {\n",
       "  background-color: #4695c8;\n",
       "  color: #f1f1f1;\n",
       "}\n",
       "#T_23eff_row2_col3 {\n",
       "  background-color: #e2edf8;\n",
       "  color: #000000;\n",
       "}\n",
       "#T_23eff_row2_col4 {\n",
       "  background-color: #56a0ce;\n",
       "  color: #f1f1f1;\n",
       "}\n",
       "#T_23eff_row3_col0 {\n",
       "  background-color: #5fa6d1;\n",
       "  color: #f1f1f1;\n",
       "}\n",
       "#T_23eff_row3_col1 {\n",
       "  background-color: #9dcae1;\n",
       "  color: #000000;\n",
       "}\n",
       "#T_23eff_row3_col2 {\n",
       "  background-color: #a3cce3;\n",
       "  color: #000000;\n",
       "}\n",
       "#T_23eff_row3_col4 {\n",
       "  background-color: #afd1e7;\n",
       "  color: #000000;\n",
       "}\n",
       "#T_23eff_row4_col0 {\n",
       "  background-color: #75b4d8;\n",
       "  color: #000000;\n",
       "}\n",
       "#T_23eff_row4_col1 {\n",
       "  background-color: #69add5;\n",
       "  color: #f1f1f1;\n",
       "}\n",
       "#T_23eff_row4_col2 {\n",
       "  background-color: #9ac8e0;\n",
       "  color: #000000;\n",
       "}\n",
       "#T_23eff_row4_col3 {\n",
       "  background-color: #a0cbe2;\n",
       "  color: #000000;\n",
       "}\n",
       "#T_23eff_row4_col4 {\n",
       "  background-color: #bed8ec;\n",
       "  color: #000000;\n",
       "}\n",
       "#T_23eff_row5_col0 {\n",
       "  background-color: #7cb7da;\n",
       "  color: #000000;\n",
       "}\n",
       "#T_23eff_row5_col1 {\n",
       "  background-color: #7ab6d9;\n",
       "  color: #000000;\n",
       "}\n",
       "#T_23eff_row5_col2, #T_23eff_row6_col1 {\n",
       "  background-color: #91c3de;\n",
       "  color: #000000;\n",
       "}\n",
       "#T_23eff_row5_col3 {\n",
       "  background-color: #b5d4e9;\n",
       "  color: #000000;\n",
       "}\n",
       "#T_23eff_row5_col4 {\n",
       "  background-color: #92c4de;\n",
       "  color: #000000;\n",
       "}\n",
       "#T_23eff_row6_col0 {\n",
       "  background-color: #8dc1dd;\n",
       "  color: #000000;\n",
       "}\n",
       "#T_23eff_row6_col3 {\n",
       "  background-color: #d8e7f5;\n",
       "  color: #000000;\n",
       "}\n",
       "#T_23eff_row6_col4 {\n",
       "  background-color: #8fc2de;\n",
       "  color: #000000;\n",
       "}\n",
       "#T_23eff_row7_col0 {\n",
       "  background-color: #c4daee;\n",
       "  color: #000000;\n",
       "}\n",
       "#T_23eff_row7_col1 {\n",
       "  background-color: #c6dbef;\n",
       "  color: #000000;\n",
       "}\n",
       "#T_23eff_row7_col2 {\n",
       "  background-color: #d1e2f3;\n",
       "  color: #000000;\n",
       "}\n",
       "#T_23eff_row7_col3 {\n",
       "  background-color: #c7dcef;\n",
       "  color: #000000;\n",
       "}\n",
       "#T_23eff_row7_col4 {\n",
       "  background-color: #d0e2f2;\n",
       "  color: #000000;\n",
       "}\n",
       "#T_23eff_row8_col0 {\n",
       "  background-color: #ccdff1;\n",
       "  color: #000000;\n",
       "}\n",
       "#T_23eff_row8_col1 {\n",
       "  background-color: #cfe1f2;\n",
       "  color: #000000;\n",
       "}\n",
       "#T_23eff_row8_col2 {\n",
       "  background-color: #cddff1;\n",
       "  color: #000000;\n",
       "}\n",
       "#T_23eff_row8_col3 {\n",
       "  background-color: #d4e4f4;\n",
       "  color: #000000;\n",
       "}\n",
       "#T_23eff_row8_col4 {\n",
       "  background-color: #d6e6f4;\n",
       "  color: #000000;\n",
       "}\n",
       "#T_23eff_row9_col0, #T_23eff_row9_col1, #T_23eff_row11_col3 {\n",
       "  background-color: #dce9f6;\n",
       "  color: #000000;\n",
       "}\n",
       "#T_23eff_row9_col2 {\n",
       "  background-color: #e4eff9;\n",
       "  color: #000000;\n",
       "}\n",
       "#T_23eff_row9_col3 {\n",
       "  background-color: #d7e6f5;\n",
       "  color: #000000;\n",
       "}\n",
       "#T_23eff_row9_col4 {\n",
       "  background-color: #eaf2fb;\n",
       "  color: #000000;\n",
       "}\n",
       "#T_23eff_row10_col0 {\n",
       "  background-color: #dceaf6;\n",
       "  color: #000000;\n",
       "}\n",
       "#T_23eff_row10_col1 {\n",
       "  background-color: #dfecf7;\n",
       "  color: #000000;\n",
       "}\n",
       "#T_23eff_row10_col2 {\n",
       "  background-color: #dfebf7;\n",
       "  color: #000000;\n",
       "}\n",
       "#T_23eff_row10_col3 {\n",
       "  background-color: #dae8f6;\n",
       "  color: #000000;\n",
       "}\n",
       "#T_23eff_row10_col4, #T_23eff_row11_col2 {\n",
       "  background-color: #e6f0f9;\n",
       "  color: #000000;\n",
       "}\n",
       "#T_23eff_row11_col0 {\n",
       "  background-color: #e3eef9;\n",
       "  color: #000000;\n",
       "}\n",
       "#T_23eff_row11_col1 {\n",
       "  background-color: #e8f1fa;\n",
       "  color: #000000;\n",
       "}\n",
       "#T_23eff_row11_col4 {\n",
       "  background-color: #ecf4fb;\n",
       "  color: #000000;\n",
       "}\n",
       "#T_23eff_row12_col0, #T_23eff_row12_col1, #T_23eff_row12_col2, #T_23eff_row12_col3, #T_23eff_row12_col4 {\n",
       "  background-color: #f7fbff;\n",
       "  color: #000000;\n",
       "}\n",
       "</style>\n",
       "<table id=\"T_23eff\">\n",
       "  <thead>\n",
       "    <tr>\n",
       "      <th class=\"blank level0\" >&nbsp;</th>\n",
       "      <th id=\"T_23eff_level0_col0\" class=\"col_heading level0 col0\" >total_sales</th>\n",
       "      <th id=\"T_23eff_level0_col1\" class=\"col_heading level0 col1\" >na_sales</th>\n",
       "      <th id=\"T_23eff_level0_col2\" class=\"col_heading level0 col2\" >eu_sales</th>\n",
       "      <th id=\"T_23eff_level0_col3\" class=\"col_heading level0 col3\" >jp_sales</th>\n",
       "      <th id=\"T_23eff_level0_col4\" class=\"col_heading level0 col4\" >other_sales</th>\n",
       "    </tr>\n",
       "    <tr>\n",
       "      <th class=\"index_name level0\" >genre</th>\n",
       "      <th class=\"blank col0\" >&nbsp;</th>\n",
       "      <th class=\"blank col1\" >&nbsp;</th>\n",
       "      <th class=\"blank col2\" >&nbsp;</th>\n",
       "      <th class=\"blank col3\" >&nbsp;</th>\n",
       "      <th class=\"blank col4\" >&nbsp;</th>\n",
       "    </tr>\n",
       "  </thead>\n",
       "  <tbody>\n",
       "    <tr>\n",
       "      <th id=\"T_23eff_level0_row0\" class=\"row_heading level0 row0\" >Action</th>\n",
       "      <td id=\"T_23eff_row0_col0\" class=\"data row0 col0\" >1744.17</td>\n",
       "      <td id=\"T_23eff_row0_col1\" class=\"data row0 col1\" >879.01</td>\n",
       "      <td id=\"T_23eff_row0_col2\" class=\"data row0 col2\" >519.13</td>\n",
       "      <td id=\"T_23eff_row0_col3\" class=\"data row0 col3\" >161.43</td>\n",
       "      <td id=\"T_23eff_row0_col4\" class=\"data row0 col4\" >184.60</td>\n",
       "    </tr>\n",
       "    <tr>\n",
       "      <th id=\"T_23eff_level0_row1\" class=\"row_heading level0 row1\" >Sports</th>\n",
       "      <td id=\"T_23eff_row1_col0\" class=\"data row1 col0\" >1331.27</td>\n",
       "      <td id=\"T_23eff_row1_col1\" class=\"data row1 col1\" >684.43</td>\n",
       "      <td id=\"T_23eff_row1_col2\" class=\"data row1 col2\" >376.79</td>\n",
       "      <td id=\"T_23eff_row1_col3\" class=\"data row1 col3\" >135.54</td>\n",
       "      <td id=\"T_23eff_row1_col4\" class=\"data row1 col4\" >134.51</td>\n",
       "    </tr>\n",
       "    <tr>\n",
       "      <th id=\"T_23eff_level0_row2\" class=\"row_heading level0 row2\" >Shooter</th>\n",
       "      <td id=\"T_23eff_row2_col0\" class=\"data row2 col0\" >1052.45</td>\n",
       "      <td id=\"T_23eff_row2_col1\" class=\"data row2 col1\" >592.24</td>\n",
       "      <td id=\"T_23eff_row2_col2\" class=\"data row2 col2\" >317.34</td>\n",
       "      <td id=\"T_23eff_row2_col3\" class=\"data row2 col3\" >38.76</td>\n",
       "      <td id=\"T_23eff_row2_col4\" class=\"data row2 col4\" >104.11</td>\n",
       "    </tr>\n",
       "    <tr>\n",
       "      <th id=\"T_23eff_level0_row3\" class=\"row_heading level0 row3\" >Role-Playing</th>\n",
       "      <td id=\"T_23eff_row3_col0\" class=\"data row3 col0\" >934.56</td>\n",
       "      <td id=\"T_23eff_row3_col1\" class=\"data row3 col1\" >330.81</td>\n",
       "      <td id=\"T_23eff_row3_col2\" class=\"data row3 col2\" >188.71</td>\n",
       "      <td id=\"T_23eff_row3_col3\" class=\"data row3 col3\" >355.41</td>\n",
       "      <td id=\"T_23eff_row3_col4\" class=\"data row3 col4\" >59.63</td>\n",
       "    </tr>\n",
       "    <tr>\n",
       "      <th id=\"T_23eff_level0_row4\" class=\"row_heading level0 row4\" >Platform</th>\n",
       "      <td id=\"T_23eff_row4_col0\" class=\"data row4 col0\" >827.77</td>\n",
       "      <td id=\"T_23eff_row4_col1\" class=\"data row4 col1\" >445.50</td>\n",
       "      <td id=\"T_23eff_row4_col2\" class=\"data row4 col2\" >200.35</td>\n",
       "      <td id=\"T_23eff_row4_col3\" class=\"data row4 col3\" >130.83</td>\n",
       "      <td id=\"T_23eff_row4_col4\" class=\"data row4 col4\" >51.09</td>\n",
       "    </tr>\n",
       "    <tr>\n",
       "      <th id=\"T_23eff_level0_row5\" class=\"row_heading level0 row5\" >Misc</th>\n",
       "      <td id=\"T_23eff_row5_col0\" class=\"data row5 col0\" >802.51</td>\n",
       "      <td id=\"T_23eff_row5_col1\" class=\"data row5 col1\" >407.27</td>\n",
       "      <td id=\"T_23eff_row5_col2\" class=\"data row5 col2\" >212.74</td>\n",
       "      <td id=\"T_23eff_row5_col3\" class=\"data row5 col3\" >108.11</td>\n",
       "      <td id=\"T_23eff_row5_col4\" class=\"data row5 col4\" >74.39</td>\n",
       "    </tr>\n",
       "    <tr>\n",
       "      <th id=\"T_23eff_level0_row6\" class=\"row_heading level0 row6\" >Racing</th>\n",
       "      <td id=\"T_23eff_row6_col0\" class=\"data row6 col0\" >728.67</td>\n",
       "      <td id=\"T_23eff_row6_col1\" class=\"data row6 col1\" >359.35</td>\n",
       "      <td id=\"T_23eff_row6_col2\" class=\"data row6 col2\" >236.51</td>\n",
       "      <td id=\"T_23eff_row6_col3\" class=\"data row6 col3\" >56.71</td>\n",
       "      <td id=\"T_23eff_row6_col4\" class=\"data row6 col4\" >76.10</td>\n",
       "    </tr>\n",
       "    <tr>\n",
       "      <th id=\"T_23eff_level0_row7\" class=\"row_heading level0 row7\" >Fighting</th>\n",
       "      <td id=\"T_23eff_row7_col0\" class=\"data row7 col0\" >447.53</td>\n",
       "      <td id=\"T_23eff_row7_col1\" class=\"data row7 col1\" >223.36</td>\n",
       "      <td id=\"T_23eff_row7_col2\" class=\"data row7 col2\" >100.33</td>\n",
       "      <td id=\"T_23eff_row7_col3\" class=\"data row7 col3\" >87.48</td>\n",
       "      <td id=\"T_23eff_row7_col4\" class=\"data row7 col4\" >36.36</td>\n",
       "    </tr>\n",
       "    <tr>\n",
       "      <th id=\"T_23eff_level0_row8\" class=\"row_heading level0 row8\" >Simulation</th>\n",
       "      <td id=\"T_23eff_row8_col0\" class=\"data row8 col0\" >389.97</td>\n",
       "      <td id=\"T_23eff_row8_col1\" class=\"data row8 col1\" >181.92</td>\n",
       "      <td id=\"T_23eff_row8_col2\" class=\"data row8 col2\" >113.52</td>\n",
       "      <td id=\"T_23eff_row8_col3\" class=\"data row8 col3\" >63.80</td>\n",
       "      <td id=\"T_23eff_row8_col4\" class=\"data row8 col4\" >30.73</td>\n",
       "    </tr>\n",
       "    <tr>\n",
       "      <th id=\"T_23eff_level0_row9\" class=\"row_heading level0 row9\" >Puzzle</th>\n",
       "      <td id=\"T_23eff_row9_col0\" class=\"data row9 col0\" >242.57</td>\n",
       "      <td id=\"T_23eff_row9_col1\" class=\"data row9 col1\" >122.87</td>\n",
       "      <td id=\"T_23eff_row9_col2\" class=\"data row9 col2\" >50.01</td>\n",
       "      <td id=\"T_23eff_row9_col3\" class=\"data row9 col3\" >57.31</td>\n",
       "      <td id=\"T_23eff_row9_col4\" class=\"data row9 col4\" >12.38</td>\n",
       "    </tr>\n",
       "    <tr>\n",
       "      <th id=\"T_23eff_level0_row10\" class=\"row_heading level0 row10\" >Adventure</th>\n",
       "      <td id=\"T_23eff_row10_col0\" class=\"data row10 col0\" >237.59</td>\n",
       "      <td id=\"T_23eff_row10_col1\" class=\"data row10 col1\" >105.26</td>\n",
       "      <td id=\"T_23eff_row10_col2\" class=\"data row10 col2\" >63.54</td>\n",
       "      <td id=\"T_23eff_row10_col3\" class=\"data row10 col3\" >52.30</td>\n",
       "      <td id=\"T_23eff_row10_col4\" class=\"data row10 col4\" >16.49</td>\n",
       "    </tr>\n",
       "    <tr>\n",
       "      <th id=\"T_23eff_level0_row11\" class=\"row_heading level0 row11\" >Strategy</th>\n",
       "      <td id=\"T_23eff_row11_col0\" class=\"data row11 col0\" >174.23</td>\n",
       "      <td id=\"T_23eff_row11_col1\" class=\"data row11 col1\" >68.55</td>\n",
       "      <td id=\"T_23eff_row11_col2\" class=\"data row11 col2\" >45.17</td>\n",
       "      <td id=\"T_23eff_row11_col3\" class=\"data row11 col3\" >49.66</td>\n",
       "      <td id=\"T_23eff_row11_col4\" class=\"data row11 col4\" >10.85</td>\n",
       "    </tr>\n",
       "    <tr>\n",
       "      <th id=\"T_23eff_level0_row12\" class=\"row_heading level0 row12\" >Не указано</th>\n",
       "      <td id=\"T_23eff_row12_col0\" class=\"data row12 col0\" >2.42</td>\n",
       "      <td id=\"T_23eff_row12_col1\" class=\"data row12 col1\" >1.78</td>\n",
       "      <td id=\"T_23eff_row12_col2\" class=\"data row12 col2\" >0.53</td>\n",
       "      <td id=\"T_23eff_row12_col3\" class=\"data row12 col3\" >0.03</td>\n",
       "      <td id=\"T_23eff_row12_col4\" class=\"data row12 col4\" >0.08</td>\n",
       "    </tr>\n",
       "  </tbody>\n",
       "</table>\n"
      ],
      "text/plain": [
       "<pandas.io.formats.style.Styler at 0x29b9ad0ff10>"
      ]
     },
     "metadata": {},
     "output_type": "display_data"
    }
   ],
   "source": [
    "genres_data = games.groupby(by='genre')[['total_sales','na_sales', 'eu_sales','jp_sales','other_sales']].agg('sum')\n",
    "genres_data = genres_data.sort_values(by='total_sales',ascending=False)\n",
    "display(genres_data.style.format('{:.2f}').background_gradient(cmap='Blues', axis=0))"
   ]
  },
  {
   "cell_type": "markdown",
   "metadata": {},
   "source": [
    "В целом можно сказать, что разброс популярности по жанрам в разных регионах не сильно отличается, кроме Японии.\n",
    "Какие особенности можно назвать:\n",
    "- достаточно ярко выделяется отличие Японии, где самым популярным жанром с большим отрывом являются ролевые игры и при этом почти не пользуются спросом шутеры (занимают последнее место из всех жанров). Миролюбивые японцы также могут предпочесть игры жанра Action, но их популярность все равно вдвое меньше, чем жанра \"Role-Playing\".\n",
    "- по Северной Америке видна обратная тенденция - ролевые игры не очень опопулярны (7место), но приэтом очень популярны Action, Sport и Shooter.\n",
    "- по Европе можно сказать, что также популярны Action, Sport и Shooter, но также заметна и любовь европейцев к гонкам. Игры жанра Racing - 4ые по популярности.\n",
    "- по остальному миру - аналогично популярны Action, Sport и Shooter, а также Racing и Misc."
   ]
  },
  {
   "cell_type": "markdown",
   "metadata": {},
   "source": [
    "**4.3 Влияние рейтинга ESRB на продажи.** <a id='ref4.3'></a> "
   ]
  },
  {
   "cell_type": "markdown",
   "metadata": {},
   "source": [
    "Посмотрим на влияние рейтинга ESRB на продажи в каждом регионе.\n",
    "Рейтинги:\n",
    "- E - Подходит для всех возрастных категорий.\n",
    "- T - Подходит для лиц старше 13 лет.\n",
    "- M - Подходит для лиц старше 17 лет.\n",
    "- E10+ - Подходит для лиц старше 10 лет. \n",
    "- AO - Только для взрослых,18+\n",
    "- EC - Для детей младшего возраста\n",
    "- RP - Рейтинг ожидается"
   ]
  },
  {
   "cell_type": "code",
   "execution_count": 35,
   "metadata": {},
   "outputs": [
    {
     "data": {
      "text/html": [
       "<style type=\"text/css\">\n",
       "#T_2ab04_row0_col0, #T_2ab04_row0_col1, #T_2ab04_row0_col2, #T_2ab04_row0_col3, #T_2ab04_row0_col4 {\n",
       "  background-color: #08306b;\n",
       "  color: #f1f1f1;\n",
       "}\n",
       "#T_2ab04_row1_col0 {\n",
       "  background-color: #4695c8;\n",
       "  color: #f1f1f1;\n",
       "}\n",
       "#T_2ab04_row1_col1 {\n",
       "  background-color: #4f9bcb;\n",
       "  color: #f1f1f1;\n",
       "}\n",
       "#T_2ab04_row1_col2 {\n",
       "  background-color: #4896c8;\n",
       "  color: #f1f1f1;\n",
       "}\n",
       "#T_2ab04_row1_col3 {\n",
       "  background-color: #206fb4;\n",
       "  color: #f1f1f1;\n",
       "}\n",
       "#T_2ab04_row1_col4 {\n",
       "  background-color: #3686c0;\n",
       "  color: #f1f1f1;\n",
       "}\n",
       "#T_2ab04_row2_col0 {\n",
       "  background-color: #4997c9;\n",
       "  color: #f1f1f1;\n",
       "}\n",
       "#T_2ab04_row2_col1 {\n",
       "  background-color: #539ecd;\n",
       "  color: #f1f1f1;\n",
       "}\n",
       "#T_2ab04_row2_col2 {\n",
       "  background-color: #3282be;\n",
       "  color: #f1f1f1;\n",
       "}\n",
       "#T_2ab04_row2_col3 {\n",
       "  background-color: #afd1e7;\n",
       "  color: #000000;\n",
       "}\n",
       "#T_2ab04_row2_col4 {\n",
       "  background-color: #1e6db2;\n",
       "  color: #f1f1f1;\n",
       "}\n",
       "#T_2ab04_row3_col0, #T_2ab04_row3_col1 {\n",
       "  background-color: #bfd8ed;\n",
       "  color: #000000;\n",
       "}\n",
       "#T_2ab04_row3_col2 {\n",
       "  background-color: #c1d9ed;\n",
       "  color: #000000;\n",
       "}\n",
       "#T_2ab04_row3_col3 {\n",
       "  background-color: #c7dcef;\n",
       "  color: #000000;\n",
       "}\n",
       "#T_2ab04_row3_col4 {\n",
       "  background-color: #b0d2e7;\n",
       "  color: #000000;\n",
       "}\n",
       "#T_2ab04_row4_col0, #T_2ab04_row4_col1, #T_2ab04_row4_col2, #T_2ab04_row4_col4, #T_2ab04_row5_col0, #T_2ab04_row5_col1, #T_2ab04_row5_col2, #T_2ab04_row5_col3, #T_2ab04_row5_col4, #T_2ab04_row6_col0, #T_2ab04_row6_col1, #T_2ab04_row6_col2, #T_2ab04_row6_col3, #T_2ab04_row6_col4, #T_2ab04_row7_col0, #T_2ab04_row7_col1, #T_2ab04_row7_col2, #T_2ab04_row7_col3, #T_2ab04_row7_col4 {\n",
       "  background-color: #f7fbff;\n",
       "  color: #000000;\n",
       "}\n",
       "#T_2ab04_row4_col3 {\n",
       "  background-color: #f6faff;\n",
       "  color: #000000;\n",
       "}\n",
       "</style>\n",
       "<table id=\"T_2ab04\">\n",
       "  <thead>\n",
       "    <tr>\n",
       "      <th class=\"blank level0\" >&nbsp;</th>\n",
       "      <th id=\"T_2ab04_level0_col0\" class=\"col_heading level0 col0\" >total_sales</th>\n",
       "      <th id=\"T_2ab04_level0_col1\" class=\"col_heading level0 col1\" >na_sales</th>\n",
       "      <th id=\"T_2ab04_level0_col2\" class=\"col_heading level0 col2\" >eu_sales</th>\n",
       "      <th id=\"T_2ab04_level0_col3\" class=\"col_heading level0 col3\" >jp_sales</th>\n",
       "      <th id=\"T_2ab04_level0_col4\" class=\"col_heading level0 col4\" >other_sales</th>\n",
       "    </tr>\n",
       "    <tr>\n",
       "      <th class=\"index_name level0\" >rating</th>\n",
       "      <th class=\"blank col0\" >&nbsp;</th>\n",
       "      <th class=\"blank col1\" >&nbsp;</th>\n",
       "      <th class=\"blank col2\" >&nbsp;</th>\n",
       "      <th class=\"blank col3\" >&nbsp;</th>\n",
       "      <th class=\"blank col4\" >&nbsp;</th>\n",
       "    </tr>\n",
       "  </thead>\n",
       "  <tbody>\n",
       "    <tr>\n",
       "      <th id=\"T_2ab04_level0_row0\" class=\"row_heading level0 row0\" >E</th>\n",
       "      <td id=\"T_2ab04_row0_col0\" class=\"data row0 col0\" >2527.97</td>\n",
       "      <td id=\"T_2ab04_row0_col1\" class=\"data row0 col1\" >1343.39</td>\n",
       "      <td id=\"T_2ab04_row0_col2\" class=\"data row0 col2\" >733.96</td>\n",
       "      <td id=\"T_2ab04_row0_col3\" class=\"data row0 col3\" >211.83</td>\n",
       "      <td id=\"T_2ab04_row0_col4\" class=\"data row0 col4\" >238.79</td>\n",
       "    </tr>\n",
       "    <tr>\n",
       "      <th id=\"T_2ab04_level0_row1\" class=\"row_heading level0 row1\" >T</th>\n",
       "      <td id=\"T_2ab04_row1_col0\" class=\"data row1 col0\" >1549.11</td>\n",
       "      <td id=\"T_2ab04_row1_col1\" class=\"data row1 col1\" >784.54</td>\n",
       "      <td id=\"T_2ab04_row1_col2\" class=\"data row1 col2\" >444.55</td>\n",
       "      <td id=\"T_2ab04_row1_col3\" class=\"data row1 col3\" >160.20</td>\n",
       "      <td id=\"T_2ab04_row1_col4\" class=\"data row1 col4\" >159.82</td>\n",
       "    </tr>\n",
       "    <tr>\n",
       "      <th id=\"T_2ab04_level0_row2\" class=\"row_heading level0 row2\" >M</th>\n",
       "      <td id=\"T_2ab04_row2_col0\" class=\"data row2 col0\" >1521.07</td>\n",
       "      <td id=\"T_2ab04_row2_col1\" class=\"data row2 col1\" >768.59</td>\n",
       "      <td id=\"T_2ab04_row2_col2\" class=\"data row2 col2\" >501.98</td>\n",
       "      <td id=\"T_2ab04_row2_col3\" class=\"data row2 col3\" >68.42</td>\n",
       "      <td id=\"T_2ab04_row2_col4\" class=\"data row2 col4\" >182.08</td>\n",
       "    </tr>\n",
       "    <tr>\n",
       "      <th id=\"T_2ab04_level0_row3\" class=\"row_heading level0 row3\" >E10+</th>\n",
       "      <td id=\"T_2ab04_row3_col0\" class=\"data row3 col0\" >688.18</td>\n",
       "      <td id=\"T_2ab04_row3_col1\" class=\"data row3 col1\" >365.76</td>\n",
       "      <td id=\"T_2ab04_row3_col2\" class=\"data row3 col2\" >195.32</td>\n",
       "      <td id=\"T_2ab04_row3_col3\" class=\"data row3 col3\" >51.44</td>\n",
       "      <td id=\"T_2ab04_row3_col4\" class=\"data row3 col4\" >75.66</td>\n",
       "    </tr>\n",
       "    <tr>\n",
       "      <th id=\"T_2ab04_level0_row4\" class=\"row_heading level0 row4\" >K-A</th>\n",
       "      <td id=\"T_2ab04_row4_col0\" class=\"data row4 col0\" >4.41</td>\n",
       "      <td id=\"T_2ab04_row4_col1\" class=\"data row4 col1\" >2.59</td>\n",
       "      <td id=\"T_2ab04_row4_col2\" class=\"data row4 col2\" >0.29</td>\n",
       "      <td id=\"T_2ab04_row4_col3\" class=\"data row4 col3\" >1.49</td>\n",
       "      <td id=\"T_2ab04_row4_col4\" class=\"data row4 col4\" >0.04</td>\n",
       "    </tr>\n",
       "    <tr>\n",
       "      <th id=\"T_2ab04_level0_row5\" class=\"row_heading level0 row5\" >EC</th>\n",
       "      <td id=\"T_2ab04_row5_col0\" class=\"data row5 col0\" >2.30</td>\n",
       "      <td id=\"T_2ab04_row5_col1\" class=\"data row5 col1\" >2.04</td>\n",
       "      <td id=\"T_2ab04_row5_col2\" class=\"data row5 col2\" >0.11</td>\n",
       "      <td id=\"T_2ab04_row5_col3\" class=\"data row5 col3\" >0.00</td>\n",
       "      <td id=\"T_2ab04_row5_col4\" class=\"data row5 col4\" >0.15</td>\n",
       "    </tr>\n",
       "    <tr>\n",
       "      <th id=\"T_2ab04_level0_row6\" class=\"row_heading level0 row6\" >AO</th>\n",
       "      <td id=\"T_2ab04_row6_col0\" class=\"data row6 col0\" >1.96</td>\n",
       "      <td id=\"T_2ab04_row6_col1\" class=\"data row6 col1\" >1.26</td>\n",
       "      <td id=\"T_2ab04_row6_col2\" class=\"data row6 col2\" >0.61</td>\n",
       "      <td id=\"T_2ab04_row6_col3\" class=\"data row6 col3\" >0.00</td>\n",
       "      <td id=\"T_2ab04_row6_col4\" class=\"data row6 col4\" >0.09</td>\n",
       "    </tr>\n",
       "    <tr>\n",
       "      <th id=\"T_2ab04_level0_row7\" class=\"row_heading level0 row7\" >RP</th>\n",
       "      <td id=\"T_2ab04_row7_col0\" class=\"data row7 col0\" >0.09</td>\n",
       "      <td id=\"T_2ab04_row7_col1\" class=\"data row7 col1\" >0.00</td>\n",
       "      <td id=\"T_2ab04_row7_col2\" class=\"data row7 col2\" >0.08</td>\n",
       "      <td id=\"T_2ab04_row7_col3\" class=\"data row7 col3\" >0.00</td>\n",
       "      <td id=\"T_2ab04_row7_col4\" class=\"data row7 col4\" >0.01</td>\n",
       "    </tr>\n",
       "  </tbody>\n",
       "</table>\n"
      ],
      "text/plain": [
       "<pandas.io.formats.style.Styler at 0x29b9ab6c6d0>"
      ]
     },
     "metadata": {},
     "output_type": "display_data"
    }
   ],
   "source": [
    "rating_data = games.groupby(by='rating')[['total_sales','na_sales', 'eu_sales','jp_sales','other_sales']].agg('sum')\n",
    "rating_data = rating_data.sort_values(by='total_sales',ascending=False)\n",
    "display(rating_data.style.format('{:.2f}').background_gradient(cmap='Blues', axis=0))"
   ]
  },
  {
   "cell_type": "markdown",
   "metadata": {},
   "source": [
    "Логично, что почти во всех странах лидирует рейтинг E (Everyone). Рассмотрим остальные рейтинги.\n",
    "<br>По остальным рейтингам можно сделать следующие выводы:\n",
    " - в Северной Америке количество продаваемых игр для взрослых(M) и для подростков(T) примерно одинаково. Можно сказать, что  обе категории пользователей играют одинаково активно (точнее, обе категории игр одинаково интересны польователям, так как в игры T могут играть и взрослые).\n",
    " - в Европе видим, что игры рейтинга M немного более популярны, значит там большое количество взрослых игроков. Также помним, что регион отличался страстью к играм жанра Racing. Возможно, гоночные симуляторы - одно из популярных развлечений среди взрослых европейцев.\n",
    " - Япония отличается от всех остальных стран тем, что игры класса M гораздо менее популярны, чем T, что говорит о высокой доле подростков среди игроков. \n",
    " - по всем остальным странам видим, что ситуация схожа с европейскими странами: уровень продаж игр класса T и M близок, но игры для взрослого поколения(M) все таки немного более популярны. "
   ]
  },
  {
   "cell_type": "markdown",
   "metadata": {},
   "source": [
    "**Вывод:** на основании проведенного анализа популярности платформ, жанров и рейтингов, можно сформировать портрет пользователя каждого региона:\n",
    "- Северная Америка: подросток или взрослый, играющий в игру жанра Action/Sport/Shooter на платформе X360, либо PS2.\n",
    "- Европа: подросток или взрослый, играющий в игру жанра Action/Sport/Shooter на платформе PS2, либо PS3.\n",
    "- Япония: скорее подросток, играющий в игру Role-Playing на платформе DS или PS."
   ]
  },
  {
   "cell_type": "markdown",
   "metadata": {},
   "source": [
    "## Проверим гипотезы"
   ]
  },
  {
   "cell_type": "markdown",
   "metadata": {},
   "source": [
    "**5.1 Средние пользовательские рейтинги платформ Xbox One и PC одинаковые.** <a id='ref5.1'></a> "
   ]
  },
  {
   "cell_type": "markdown",
   "metadata": {},
   "source": [
    "Сформулирует нулевую и альтернативную гипотезы:\n",
    "<br> Нулевая гипотеза: средние рейтинги скорее всего одинаковые\n",
    "<br> Альтернативная гипотеза: средние рейтинги не одинаковые.\n",
    "<br> В качестве нулевой гипотезы используем гипотезу о равестве, так как необходимый метод st.ttest_ind позволяет проверить именно равенство выборочных средних по двум независимым выборкам и отвергнуть гипотезу о равенстве в случае, когда выборочные средние слишком сильно отличаются."
   ]
  },
  {
   "cell_type": "code",
   "execution_count": 36,
   "metadata": {},
   "outputs": [
    {
     "name": "stdout",
     "output_type": "stream",
     "text": [
      "Средний пользовательский рейтинг X360: 4.88\n",
      "Средний пользовательский рейтинг PS: 0.2\n",
      "p-значение: 2.7378867563341513e-220\n",
      "Отвергаем нулевую гипотезу о равенстве средних\n"
     ]
    }
   ],
   "source": [
    "alpha = 0.05 # уровень статистической значимости\n",
    "# если p-value окажется меньше него, отвергнем гипотезу\n",
    "\n",
    "x360_scores = games.query('platform==\"X360\"')['user_score']\n",
    "ps_scores = games.query('platform==\"PS\"')['user_score']\n",
    "\n",
    "results = st.ttest_ind(x360_scores, ps_scores)\n",
    "\n",
    "print('Средний пользовательский рейтинг X360:',round(x360_scores.mean(),2))\n",
    "print('Средний пользовательский рейтинг PS:',round(ps_scores.mean(),2))\n",
    "print('p-значение:', results.pvalue)\n",
    "\n",
    "if results.pvalue < alpha:\n",
    "    print('Отвергаем нулевую гипотезу о равенстве средних')\n",
    "else:\n",
    "    print('Не получилось отвергнуть нулевую гипотезу') "
   ]
  },
  {
   "cell_type": "markdown",
   "metadata": {},
   "source": [
    "По покатзателям средних и проведенному тесту видим, что средние пользовательские рейтинги не одинаковые, рейтинг X360 составляет 4,88 против рейтинга PS - 0.2."
   ]
  },
  {
   "cell_type": "markdown",
   "metadata": {},
   "source": [
    "**5.2 Средние пользовательские рейтинги жанров Action и Sports разные.** <a id='ref5.2'></a> "
   ]
  },
  {
   "cell_type": "markdown",
   "metadata": {},
   "source": [
    "Сформулирует нулевую и альтернативную гипотезы:\n",
    "<br> Нулевая гипотеза: средние рейтинги скорее всего одинаковые\n",
    "<br> Альтернативная гипотеза: средние рейтинги не одинаковые.\n",
    "<br> В качестве нулевой гипотезы используем гипотезу о равестве, так как необходимый метод st.ttest_ind позволяет проверить именно равенство выборочных средних по двум независимым выборкам и отвергнуть гипотезу о равенстве в случае, когда выборочные средние слишком сильно отличаются."
   ]
  },
  {
   "cell_type": "code",
   "execution_count": 37,
   "metadata": {},
   "outputs": [
    {
     "name": "stdout",
     "output_type": "stream",
     "text": [
      "Средний пользовательский рейтинг жанра Action: 3.37\n",
      "Средний пользовательский рейтинг жанра Sports: 2.74\n",
      "p-значение: 1.2025568367391132e-08\n",
      "Отвергаем нулевую гипотезу о равенстве средних\n"
     ]
    }
   ],
   "source": [
    "alpha = 0.05 # уровень статистической значимости\n",
    "# если p-value окажется меньше него, отвергнем гипотезу\n",
    "\n",
    "action_scores = games.query('genre==\"Action\"')['user_score']\n",
    "sports_scores = games.query('genre==\"Sports\"')['user_score']\n",
    "\n",
    "results = st.ttest_ind(action_scores, sports_scores)\n",
    "\n",
    "print('Средний пользовательский рейтинг жанра Action:',round(action_scores.mean(),2))\n",
    "print('Средний пользовательский рейтинг жанра Sports:',round(sports_scores.mean(),2))\n",
    "print('p-значение:', results.pvalue)\n",
    "\n",
    "if results.pvalue < alpha:\n",
    "    print('Отвергаем нулевую гипотезу о равенстве средних')\n",
    "else:\n",
    "    print('Не получилось отвергнуть нулевую гипотезу') "
   ]
  },
  {
   "cell_type": "markdown",
   "metadata": {},
   "source": [
    "В данном случае можно сказать, что рейтинги действительно разные."
   ]
  },
  {
   "cell_type": "markdown",
   "metadata": {},
   "source": [
    "## Общий вывод"
   ]
  },
  {
   "cell_type": "markdown",
   "metadata": {},
   "source": [
    "**Итоговый вывод по проекту:**\n",
    "У на имелись данные по продажам игр в интернет-магазине \"Стримчик\". Данные содержали:\n",
    "- информацию об игре (название, год выпуска, платформа, возрастной ценз)\n",
    "- информацию о количествах продаж в каждом регионе\n",
    "- информацию о пользовательских и экспертных рейтингах игры\n",
    "\n",
    "<br>**Этап предобработки данных:**\n",
    "<br>На этапе предобработки данных были выявлены и решены следующие проблемы:\n",
    "- поля были переименованы в корректный формат (lowcase)\n",
    "- были изменены типы полей и заполнены пропуски:\n",
    "    - **year_of_release**: поле преобразовано в int, тк. год выпуска не может быть дробным числом. В качестве замены для значениий NaN поставлен год 1970.\n",
    "    - **user_score**: преобразовано в тип float. Значения NaN и tbd заменены их на -1  \n",
    "- а также были заполнены пропуски:\n",
    "    - пропуски по полям **name,genre** объяснить скорее всего можно только техническими причинами. Вероятно, возникли ошибки при выгрузке данных, так как если есть продажи по какой-либо игре, то игра должна иметь название (и скорее всего жанр). Оба поля не заполнены по двум одни и тем же строкам, соответственно, можно сделать вывод, что данные поля загружались из одного источника, либо были как-то взаимосвязаны. Эти пропуски были заполнены значением \"Не указано\", т.к. не хотелось бы потерять информацию о продажах в общем отчете.\n",
    "    - пропуски в поле **critic_score** были заполнены медианой, так как поле количественное. Медиана взята по каждой игре в отдельности, так как это позволяет наиболее точно заполнить пропуски, хотя и не все. Пропуск скорее всего вызваны тем, что по некоторым играм критики не выносили оценку, т.е. играет роль организационный фактор.\n",
    "    - пропуски по полю **rating** были заполнены модой, так как поле категориальное. Также как и в случае с critic_score заполнение производилось по каждой игре в отдельности. Причиной возникновения пропусков можно назвать организационный фактор: по определенным играм рейтинг игры мог не формироваться из-за недостаточности оценок например, либо игра очень старая, либо потому что игра только вышла и еще не успела получить оценку (в таком случае может быть значение tbd).\n",
    "\n",
    "<br>**Исследовательский анализ данных:**\n",
    "<br>На этапе исследовательского анализа было проанализировано:\n",
    "\n",
    "<br>**1. Количество выпускаемых игр в разные года**\n",
    "<br>Количество выпускаемых игр стремительно росло примерно до 2008-2010 года, а затем снизилось примерно до уровня 2000-го года. Возможно, объясняется это тем, что мобильные телефоны достигли достаточного уровня развития и пользователи переключились на мобильные игры (соответственно, игр на платформах в связи с уменьшившимся спросом тоже стало выпускаться меньше).\n",
    "\n",
    "<br>**2. Продажи по различным платформам**\n",
    "- Наиболее полпулярные платформы всех лет: PS2,X360, PS3,Wii,DS,PS. \n",
    "- Наименее популярная платформа - PCFX.\n",
    "- некоторые платформы постепенно заменяли друг друга (например, PS->PS2->PS3). \n",
    "- платформа, выпустившая игру первой - DS, впервые выпустившая игру в 1985году (но, похоже, продаж от нее так и не получившая), однако затем она не выпускала игр вплоть до 2004года. Так что первым сильным лидером можно назвать платформу PS, которая имела хорошие продажи примерно c 1994 до 2004года, а затем была заменена более современной версией PS2\n",
    "- платформы, получавшие максимальные годовые продажи - PS2(2000-2005годы) и Wii(2009год).\n",
    "- за последние 5 лет (2010-2015годы) выделяются два лидера - X360 и PS3, продажи которых находились примерно на одном уровне.\n",
    "- по всем платформам в последние годы в основном наблюдается спад продаж\n",
    "\n",
    "<br>Если смотреть данные за последние 3 года:\n",
    "- В последние 3 года игры выпускают только 3 платформы: PS3, X360 и Wii  и на текущий момент их продажи находятся практически на одном уровне. Однако PS3, X360 (в отличие от Wii) в последние 3 года имели продажи гораздо выше (до 80-110 млн. копий игр) и затем постепенно снизили продажи практически до 1,5-3,5млн.копий, в то время как Wii постепенно сдала позиции уже в 2011-2013годах  году и к 2016году продает не более 200тыс.копий игр.\n",
    "\n",
    "<br>Таким образом, последние три года потенциально прибыльными платформами игр явяются PS3 и X360, причем, несмотря на то, что падение продаж PS3 происходит быстрее, на конец 2016года PS3 продает почти вдвое больше игр, чем X360 - 3,6млн.копий против 1,5млн копий у X360.\n",
    "\n",
    "<br>**3. Продажи по играм**\n",
    "Суммарные продажи составляют в основном от 60тыс до 470тыс. копий. При этом есть выбросы и одна из игр была продана более чем 82,5млн раз - WiiSports.\n",
    "<br>Большинство выпускаемых игр даже близко не могут приблизиться к успеху игр, которые мы видим в top-10. По общей описательной статистике , 75% квартиль по суммарным продажам не превышает полумиллиона проданных копий.\n",
    "<br>За всю историю в целом превысили планку продаж хотя бы в 1млн.копий только 2тыс.игр.\n",
    "<br> Наибольшее число популярных игр за всю историю было у платформ платформ Wii, DS и PS. Однако, как видим, платформа DS перестала выпускать игры в 2014году, а также PSиPS2 обновились до PS3 и шестерка лидеров превратилась в тройку.\n",
    "<br>По данным за последние 3 года, можно проследить стратегию каждой компании из тройки за последние 3 года:\n",
    "- у платформы PS3 больше всего игр-самородков, приносящих свервысокие продажи (максимально высокие выбросы), однако при этом и самый низкий 75% квартиль, что означает, что компания также выпускает много непопулярных игр. То есть, компания работает на количество: чем больше количество разнообразных игр, тем более вероятно, что какие-то из них станут мегапопулярными. При этом неудачные релизы снижают общую статистику по продажам.\n",
    "- у компании Wii противоположный подход: меньше всего выбросов, но самый высокий 75% квартиль, что говорит о том, что каждая выпущенная игра стабильно хорошо продается, но при этом мегапопулярной (как некоторые игры PS3) скорее всего не станет (мы видим только 1 выброс и он втрое ниже, чем максимальный выброс по PS3).\n",
    "- у компании X360 средний подход: есть и стабильно продаваемые игры, и при этом достаточное количество высоких выбросов.\n",
    "\n",
    "<br>**4. Зависимость продаж от рейтинга критиков и пользователей**\n",
    "На примере платформы PS3 Были проанализированы зависимости.\n",
    "- игры с высокой оценкой критиков могут как быть очень популярными, так и непопулярными. Однако, игры с низкой оценкой критиков не бывают сверхпопулярными - до оценки 70 нет даже единичных выбросов. Верхняя граница области разброса довольно четкая. \n",
    "- по оценкам пользователей зависмость менее однозначная: есть непопулярные игры с высокой оценкой и сверхпопулярные игры  со средней или даже низкой оценкой. Это логично, у разных пользователей разные вкусы и предпочтения и разное субъективное восприятие игр, поэтому оценки могут отличаться от оценок экспертов, которые могут оценивать только объективно по заданным критериям. Но так как продажи формируются именно пользователями (а не критиками), то и даже при высокой оценке критиков игра может стать как популярнй, так и наоборот.\n",
    "<br>Почему есть случаи низкой оценки пользователей и высокого уровны продаж? Тут скорее всего играют роль несколько факторов: \n",
    "- мы не знаем в какое время проставлялись оценки. Возможно, игра вышла например в начале 2000х годов, получила высокие оценки критиков и изначально хорошо продавалась, но со временем игра устаревала, а пользователи продолжали ее устанавливать и проставлять оценки, но из-за того, что игра уже не соответствует времени, итоговая оценка снижалась. \n",
    "- либо игра могла быть очень популярна в одном регионе и там формировать основной доход, но при этом вызвала негативные отклики в другом регионе, что вызвало ухудшение общей оценки. Такои случаи можно отдельно проанализировать.\n",
    "- также фактор, который может повлиять: не все пользователи, которые покупают ту или иную игру, могут проставлять оценки по ней. Скорее всего, есть большое количество людей, которые просто играют (и формируют продажи), но не оставляют ни оценок, ни отзывов.\n",
    "<br>Коэффицицент корреляции продаж от оценки критиков по платформе PS3 равен 0,4 (средняя корреляция), в то время как корреляция от оценки пользователей равна 0,27 (слабая). Также прослеживается средняя корреляция оценки пользователей от оценки критиков на уровне 0,4, но это скорее говорит о частых случаях, когда мнения критиков и пользователей об игре совпадают, нежели о реальной зависимости оценки пользователей от критиков или наоборот.\n",
    "<br> Если смотреть в целом по всем платформам, то коэффициенты корреляции становятся еще меньше: 0,23 для оценки экспертов и 0,2 для оценки пользователей. Возможно тут влияет тот факт, что среди наших платформ есть старые и новые поколения одной и той же платформы (PS, PS2, PS3). Также возможно, играет роль, что система оценок могла меняться со временем (мы не ограничивали игры по году выпуска), либо могло меняться общее количество пользовательских оценок (пользователей в 1990году скорее всего было меньше чем в 2014г), а значит и выборка была разного объема.\n",
    "\n",
    "<br>**4. Распределение игр по жанрам**\n",
    "Выделяются наиболее популярные жанры в порядке убывания популярности: Action, Sports, Shooter, Role-Playing, Platform.\n",
    "<br> При этом, количество игр в каждой категории не всегда коррелирует с количеством установок. Например, шутеров больше, чем стратегий примерно в 2 раза, а количество их установок больше в 6 раз. Аналогично: платформенных игр вдвое меньше, чем игр категории \"Misc\"(разное), а установок они приносят вдвое больше, то есть эффективность платформенных игр с точки зрения продаж выше в 4 раза.\n",
    "<br>Однако, конечно, стоит не забывать, что это общая статистика, включающая игры-самородки, где кол-во установок одной только игры может достигать 80млн, поэтому и вся категория может быть в топе только из-за одной или нескольких сверхпопулярных игр.\n",
    "<br>В качестве непопулярных жанров можно выделить стратегии, приключения и пазлы. \n",
    "\n",
    "<br>**Портрет пользователя каждого региона:**\n",
    "<br>На данном этапа был сформирован портрет наиболее вероятного пользователя в каждом регионе:\n",
    "- Северная Америка: подросток или взрослый, играющий в игру жанра Action/Sport/Shooter на платформе X360, либо PS2.\n",
    "- Европа: подросток или взрослый, играющий в игру жанра Action/Sport/Shooter на платформе PS2, либо PS3.\n",
    "- Япония: скорее подросток, играющий в игру Role-Playing на платформе DS или PS.\n",
    "\n",
    "<br>**Этап проверки гипотез:**\n",
    "<br> На данном этапе были проверены две гипотезы. \n",
    "<br>**1. Средние пользовательские рейтинги платформ Xbox One и PC одинаковые**\n",
    "<br> Нулевая гипотеза: средние рейтинги скорее всего одинаковые\n",
    "<br> Альтернативная гипотеза: средние рейтинги не одинаковые.\n",
    "<br>**Вывод:**\n",
    "<br>Средний пользовательский рейтинг X360: 4.88\n",
    "<br>Средний пользовательский рейтинг PS: 0.2\n",
    "<br>p-значение: 2.7378867563341513e-220\n",
    "<br>Отвергаем нулевую гипотезу о равенстве средних. Средние пользовательские рейтинги не одинаковые, рейтинг X360 составляет 4,88 против рейтинга PS - 0.2.\n",
    "<br>**2. Средние пользовательские рейтинги жанров Action и Sports разные**\n",
    "<br> Нулевая гипотеза: средние рейтинги скорее всего одинаковые\n",
    "<br> Альтернативная гипотеза: средние рейтинги не одинаковые.\n",
    "<br>**Вывод:**\n",
    "<br>Средний пользовательский рейтинг жанра Action: 3.37\n",
    "<br>Средний пользовательский рейтинг жанра Sports: 2.74\n",
    "<br>p-значение: 1.2025568367391132e-08\n",
    "<br>Отвергаем нулевую гипотезу о равенстве средних. В данном случае можно сказать, что рейтинги действительно разные.\n",
    "\n",
    "\n",
    "\n",
    "\n"
   ]
  }
 ],
 "metadata": {
  "ExecuteTimeLog": [
   {
    "duration": 52,
    "start_time": "2023-09-22T09:04:08.417Z"
   },
   {
    "duration": 9,
    "start_time": "2023-09-22T09:04:15.389Z"
   },
   {
    "duration": 447,
    "start_time": "2023-09-22T09:04:28.347Z"
   },
   {
    "duration": 110,
    "start_time": "2023-09-22T09:04:29.528Z"
   },
   {
    "duration": 88,
    "start_time": "2023-09-22T09:04:36.588Z"
   },
   {
    "duration": 95,
    "start_time": "2023-09-22T09:12:15.377Z"
   },
   {
    "duration": 90,
    "start_time": "2023-09-22T09:16:37.336Z"
   },
   {
    "duration": 305,
    "start_time": "2023-09-22T09:21:28.373Z"
   },
   {
    "duration": 311,
    "start_time": "2023-09-22T09:21:37.139Z"
   },
   {
    "duration": 52,
    "start_time": "2023-09-22T09:22:02.683Z"
   },
   {
    "duration": 31,
    "start_time": "2023-09-22T09:22:12.374Z"
   },
   {
    "duration": 100,
    "start_time": "2023-09-22T09:23:47.284Z"
   },
   {
    "duration": 16,
    "start_time": "2023-09-22T09:30:10.869Z"
   },
   {
    "duration": 25,
    "start_time": "2023-09-22T09:31:50.743Z"
   },
   {
    "duration": 28,
    "start_time": "2023-09-22T09:32:15.835Z"
   },
   {
    "duration": 40,
    "start_time": "2023-09-22T09:32:30.533Z"
   },
   {
    "duration": 17,
    "start_time": "2023-09-22T09:33:05.888Z"
   },
   {
    "duration": 18,
    "start_time": "2023-09-22T09:34:55.327Z"
   },
   {
    "duration": 28,
    "start_time": "2023-09-22T09:35:17.807Z"
   },
   {
    "duration": 18,
    "start_time": "2023-09-22T09:35:37.697Z"
   },
   {
    "duration": 24,
    "start_time": "2023-09-22T09:35:57.021Z"
   },
   {
    "duration": 15,
    "start_time": "2023-09-22T09:36:24.177Z"
   },
   {
    "duration": 8,
    "start_time": "2023-09-22T09:38:41.574Z"
   },
   {
    "duration": 14,
    "start_time": "2023-09-22T09:38:52.080Z"
   },
   {
    "duration": 15,
    "start_time": "2023-09-22T09:40:08.386Z"
   },
   {
    "duration": 37,
    "start_time": "2023-09-22T09:40:37.104Z"
   },
   {
    "duration": 17,
    "start_time": "2023-09-22T09:41:40.924Z"
   },
   {
    "duration": 27,
    "start_time": "2023-09-22T09:42:09.137Z"
   },
   {
    "duration": 21,
    "start_time": "2023-09-22T09:42:23.907Z"
   },
   {
    "duration": 20,
    "start_time": "2023-09-22T09:42:56.329Z"
   },
   {
    "duration": 262,
    "start_time": "2023-09-22T09:43:10.336Z"
   },
   {
    "duration": 31,
    "start_time": "2023-09-22T09:43:13.546Z"
   },
   {
    "duration": 37,
    "start_time": "2023-09-22T09:43:34.626Z"
   },
   {
    "duration": 34,
    "start_time": "2023-09-22T09:47:09.904Z"
   },
   {
    "duration": 31,
    "start_time": "2023-09-22T09:47:15.815Z"
   },
   {
    "duration": 27,
    "start_time": "2023-09-22T09:47:36.564Z"
   },
   {
    "duration": 12,
    "start_time": "2023-09-22T09:47:44.053Z"
   },
   {
    "duration": 11,
    "start_time": "2023-09-22T09:48:12.596Z"
   },
   {
    "duration": 148,
    "start_time": "2023-09-22T09:50:28.604Z"
   },
   {
    "duration": 15,
    "start_time": "2023-09-22T09:52:04.745Z"
   },
   {
    "duration": 15,
    "start_time": "2023-09-22T09:57:18.490Z"
   },
   {
    "duration": 20,
    "start_time": "2023-09-22T09:59:42.313Z"
   },
   {
    "duration": 30,
    "start_time": "2023-09-22T09:59:54.237Z"
   },
   {
    "duration": 12,
    "start_time": "2023-09-22T10:00:42.905Z"
   },
   {
    "duration": 36,
    "start_time": "2023-09-22T10:03:15.872Z"
   },
   {
    "duration": 15,
    "start_time": "2023-09-22T10:14:37.824Z"
   },
   {
    "duration": 16,
    "start_time": "2023-09-22T10:18:09.240Z"
   },
   {
    "duration": 36,
    "start_time": "2023-09-22T10:18:15.352Z"
   },
   {
    "duration": 15,
    "start_time": "2023-09-22T10:19:10.122Z"
   },
   {
    "duration": 22,
    "start_time": "2023-09-22T10:19:22.309Z"
   },
   {
    "duration": 5,
    "start_time": "2023-09-22T10:20:49.284Z"
   },
   {
    "duration": 7,
    "start_time": "2023-09-22T10:21:02.093Z"
   },
   {
    "duration": 6,
    "start_time": "2023-09-22T10:23:30.378Z"
   },
   {
    "duration": 7,
    "start_time": "2023-09-22T10:27:17.337Z"
   },
   {
    "duration": 7,
    "start_time": "2023-09-22T10:27:23.645Z"
   },
   {
    "duration": 561,
    "start_time": "2023-09-22T10:29:19.792Z"
   },
   {
    "duration": 32,
    "start_time": "2023-09-22T10:29:36.001Z"
   },
   {
    "duration": 11,
    "start_time": "2023-09-22T10:30:00.480Z"
   },
   {
    "duration": 8,
    "start_time": "2023-09-22T10:30:16.621Z"
   },
   {
    "duration": 10,
    "start_time": "2023-09-22T10:30:38.288Z"
   },
   {
    "duration": 10,
    "start_time": "2023-09-22T10:31:03.940Z"
   },
   {
    "duration": 12,
    "start_time": "2023-09-22T10:32:25.558Z"
   },
   {
    "duration": 6,
    "start_time": "2023-09-22T10:32:30.351Z"
   },
   {
    "duration": 10,
    "start_time": "2023-09-22T10:32:40.184Z"
   },
   {
    "duration": 7,
    "start_time": "2023-09-22T10:33:22.931Z"
   },
   {
    "duration": 474,
    "start_time": "2023-09-22T10:33:54.337Z"
   },
   {
    "duration": 97,
    "start_time": "2023-09-22T10:33:54.814Z"
   },
   {
    "duration": 25,
    "start_time": "2023-09-22T10:33:54.914Z"
   },
   {
    "duration": 10,
    "start_time": "2023-09-22T10:33:54.942Z"
   },
   {
    "duration": 13,
    "start_time": "2023-09-22T10:33:54.956Z"
   },
   {
    "duration": 43,
    "start_time": "2023-09-22T10:33:54.972Z"
   },
   {
    "duration": 14,
    "start_time": "2023-09-22T10:34:02.666Z"
   },
   {
    "duration": 22,
    "start_time": "2023-09-22T10:34:33.250Z"
   },
   {
    "duration": 18,
    "start_time": "2023-09-22T10:36:22.547Z"
   },
   {
    "duration": 18,
    "start_time": "2023-09-22T10:36:25.152Z"
   },
   {
    "duration": 32,
    "start_time": "2023-09-22T10:36:30.154Z"
   },
   {
    "duration": 29,
    "start_time": "2023-09-22T10:36:43.236Z"
   },
   {
    "duration": 7,
    "start_time": "2023-09-22T10:37:37.399Z"
   },
   {
    "duration": 6,
    "start_time": "2023-09-22T10:37:47.719Z"
   },
   {
    "duration": 16,
    "start_time": "2023-09-22T14:53:21.844Z"
   },
   {
    "duration": 14,
    "start_time": "2023-09-22T14:53:39.959Z"
   },
   {
    "duration": 14,
    "start_time": "2023-09-22T14:55:14.734Z"
   },
   {
    "duration": 17,
    "start_time": "2023-09-22T14:55:26.399Z"
   },
   {
    "duration": 33,
    "start_time": "2023-09-22T14:55:49.183Z"
   },
   {
    "duration": 12,
    "start_time": "2023-09-22T14:56:08.333Z"
   },
   {
    "duration": 396,
    "start_time": "2023-09-22T14:59:12.414Z"
   },
   {
    "duration": 739,
    "start_time": "2023-09-22T15:19:40.611Z"
   },
   {
    "duration": 315,
    "start_time": "2023-09-22T15:26:38.164Z"
   },
   {
    "duration": 22449,
    "start_time": "2023-09-22T15:34:17.095Z"
   },
   {
    "duration": 6,
    "start_time": "2023-09-22T15:35:27.270Z"
   },
   {
    "duration": 17,
    "start_time": "2023-09-22T15:39:46.357Z"
   },
   {
    "duration": 31,
    "start_time": "2023-09-22T15:40:04.464Z"
   },
   {
    "duration": 25,
    "start_time": "2023-09-22T15:41:08.175Z"
   },
   {
    "duration": 45,
    "start_time": "2023-09-22T15:41:43.802Z"
   },
   {
    "duration": 54,
    "start_time": "2023-09-22T15:42:12.274Z"
   },
   {
    "duration": 57,
    "start_time": "2023-09-22T15:42:57.834Z"
   },
   {
    "duration": 495,
    "start_time": "2023-09-22T15:48:45.616Z"
   },
   {
    "duration": 97,
    "start_time": "2023-09-22T15:48:46.114Z"
   },
   {
    "duration": 22,
    "start_time": "2023-09-22T15:48:46.214Z"
   },
   {
    "duration": 15,
    "start_time": "2023-09-22T15:48:46.239Z"
   },
   {
    "duration": 7,
    "start_time": "2023-09-22T15:48:46.257Z"
   },
   {
    "duration": 15,
    "start_time": "2023-09-22T15:48:46.266Z"
   },
   {
    "duration": 12,
    "start_time": "2023-09-22T15:48:46.309Z"
   },
   {
    "duration": 22,
    "start_time": "2023-09-22T15:48:46.324Z"
   },
   {
    "duration": 13,
    "start_time": "2023-09-22T15:48:46.349Z"
   },
   {
    "duration": 48,
    "start_time": "2023-09-22T15:48:46.364Z"
   },
   {
    "duration": 30,
    "start_time": "2023-09-22T15:48:46.415Z"
   },
   {
    "duration": 8,
    "start_time": "2023-09-22T15:48:46.447Z"
   },
   {
    "duration": 16,
    "start_time": "2023-09-22T15:48:46.457Z"
   },
   {
    "duration": 44,
    "start_time": "2023-09-22T15:48:46.476Z"
   },
   {
    "duration": 18408,
    "start_time": "2023-09-22T15:48:46.522Z"
   },
   {
    "duration": 5,
    "start_time": "2023-09-22T15:49:04.932Z"
   },
   {
    "duration": 9,
    "start_time": "2023-09-22T15:49:14.338Z"
   },
   {
    "duration": 25250,
    "start_time": "2023-09-22T15:49:26.155Z"
   },
   {
    "duration": 460,
    "start_time": "2023-09-22T15:54:29.498Z"
   },
   {
    "duration": 113,
    "start_time": "2023-09-22T15:54:29.960Z"
   },
   {
    "duration": 19,
    "start_time": "2023-09-22T15:54:30.075Z"
   },
   {
    "duration": 33,
    "start_time": "2023-09-22T15:54:30.096Z"
   },
   {
    "duration": 30,
    "start_time": "2023-09-22T15:54:30.133Z"
   },
   {
    "duration": 24,
    "start_time": "2023-09-22T15:54:30.165Z"
   },
   {
    "duration": 34,
    "start_time": "2023-09-22T15:54:30.191Z"
   },
   {
    "duration": 48,
    "start_time": "2023-09-22T15:54:30.227Z"
   },
   {
    "duration": 22,
    "start_time": "2023-09-22T15:54:30.277Z"
   },
   {
    "duration": 38,
    "start_time": "2023-09-22T15:54:30.301Z"
   },
   {
    "duration": 28,
    "start_time": "2023-09-22T15:54:30.341Z"
   },
   {
    "duration": 21,
    "start_time": "2023-09-22T15:54:30.371Z"
   },
   {
    "duration": 29,
    "start_time": "2023-09-22T15:54:30.394Z"
   },
   {
    "duration": 42,
    "start_time": "2023-09-22T15:54:30.426Z"
   },
   {
    "duration": 18471,
    "start_time": "2023-09-22T15:54:30.470Z"
   },
   {
    "duration": 5,
    "start_time": "2023-09-22T15:54:48.943Z"
   },
   {
    "duration": 19,
    "start_time": "2023-09-22T15:54:56.513Z"
   },
   {
    "duration": 22438,
    "start_time": "2023-09-22T15:55:33.717Z"
   },
   {
    "duration": 398,
    "start_time": "2023-09-22T16:01:41.655Z"
   },
   {
    "duration": 94,
    "start_time": "2023-09-22T16:01:42.055Z"
   },
   {
    "duration": 20,
    "start_time": "2023-09-22T16:01:42.152Z"
   },
   {
    "duration": 46,
    "start_time": "2023-09-22T16:01:42.174Z"
   },
   {
    "duration": 27,
    "start_time": "2023-09-22T16:01:42.222Z"
   },
   {
    "duration": 13,
    "start_time": "2023-09-22T16:01:42.251Z"
   },
   {
    "duration": 34,
    "start_time": "2023-09-22T16:01:42.268Z"
   },
   {
    "duration": 53,
    "start_time": "2023-09-22T16:01:42.303Z"
   },
   {
    "duration": 37,
    "start_time": "2023-09-22T16:01:42.358Z"
   },
   {
    "duration": 40,
    "start_time": "2023-09-22T16:01:42.398Z"
   },
   {
    "duration": 31,
    "start_time": "2023-09-22T16:01:42.442Z"
   },
   {
    "duration": 15,
    "start_time": "2023-09-22T16:01:42.476Z"
   },
   {
    "duration": 28,
    "start_time": "2023-09-22T16:01:42.493Z"
   },
   {
    "duration": 48,
    "start_time": "2023-09-22T16:01:42.524Z"
   },
   {
    "duration": 17693,
    "start_time": "2023-09-22T16:01:42.574Z"
   },
   {
    "duration": 5,
    "start_time": "2023-09-22T16:02:00.268Z"
   },
   {
    "duration": 21,
    "start_time": "2023-09-22T16:02:07.642Z"
   },
   {
    "duration": 6,
    "start_time": "2023-09-22T16:02:43.181Z"
   },
   {
    "duration": 98,
    "start_time": "2023-09-22T16:03:02.733Z"
   },
   {
    "duration": 69,
    "start_time": "2023-09-22T16:26:24.838Z"
   },
   {
    "duration": 8,
    "start_time": "2023-09-22T16:30:26.597Z"
   },
   {
    "duration": 37,
    "start_time": "2023-09-22T16:30:48.295Z"
   },
   {
    "duration": 1634,
    "start_time": "2023-09-22T16:30:53.900Z"
   },
   {
    "duration": 6,
    "start_time": "2023-09-22T18:06:36.263Z"
   },
   {
    "duration": 2679,
    "start_time": "2023-09-22T18:08:15.087Z"
   },
   {
    "duration": 19,
    "start_time": "2023-09-22T18:08:42.088Z"
   },
   {
    "duration": 19,
    "start_time": "2023-09-22T18:08:55.270Z"
   },
   {
    "duration": 10,
    "start_time": "2023-09-22T18:09:24.440Z"
   },
   {
    "duration": 27,
    "start_time": "2023-09-22T18:09:36.702Z"
   },
   {
    "duration": 2539,
    "start_time": "2023-09-22T18:11:04.630Z"
   },
   {
    "duration": 13,
    "start_time": "2023-09-22T18:11:15.270Z"
   },
   {
    "duration": 12,
    "start_time": "2023-09-22T18:11:51.271Z"
   },
   {
    "duration": 2787,
    "start_time": "2023-09-22T18:11:59.390Z"
   },
   {
    "duration": 16,
    "start_time": "2023-09-22T18:12:09.260Z"
   },
   {
    "duration": 2231,
    "start_time": "2023-09-22T18:12:25.872Z"
   },
   {
    "duration": 12,
    "start_time": "2023-09-22T18:12:44.186Z"
   },
   {
    "duration": 3030,
    "start_time": "2023-09-22T18:13:00.129Z"
   },
   {
    "duration": 9,
    "start_time": "2023-09-22T18:13:25.182Z"
   },
   {
    "duration": 7,
    "start_time": "2023-09-22T18:13:55.686Z"
   },
   {
    "duration": 31,
    "start_time": "2023-09-22T18:14:05.931Z"
   },
   {
    "duration": 15,
    "start_time": "2023-09-22T18:14:41.958Z"
   },
   {
    "duration": 3786,
    "start_time": "2023-09-22T18:15:00.432Z"
   },
   {
    "duration": 2739,
    "start_time": "2023-09-22T18:16:20.656Z"
   },
   {
    "duration": 2495,
    "start_time": "2023-09-22T18:16:54.879Z"
   },
   {
    "duration": 24,
    "start_time": "2023-09-22T18:17:18.050Z"
   },
   {
    "duration": 2859,
    "start_time": "2023-09-22T18:19:20.637Z"
   },
   {
    "duration": 55,
    "start_time": "2023-09-22T18:20:46.283Z"
   },
   {
    "duration": 86,
    "start_time": "2023-09-22T18:21:36.600Z"
   },
   {
    "duration": 53,
    "start_time": "2023-09-22T18:22:09.443Z"
   },
   {
    "duration": 47,
    "start_time": "2023-09-22T18:26:31.391Z"
   },
   {
    "duration": 25,
    "start_time": "2023-09-22T18:26:54.268Z"
   },
   {
    "duration": 8,
    "start_time": "2023-09-22T18:27:09.430Z"
   },
   {
    "duration": 45,
    "start_time": "2023-09-22T18:27:14.954Z"
   },
   {
    "duration": 3689,
    "start_time": "2023-09-22T18:30:06.944Z"
   },
   {
    "duration": 3066,
    "start_time": "2023-09-22T18:38:17.992Z"
   },
   {
    "duration": 40797,
    "start_time": "2023-09-22T18:41:28.769Z"
   },
   {
    "duration": 51,
    "start_time": "2023-09-22T18:42:36.433Z"
   },
   {
    "duration": 139,
    "start_time": "2023-09-22T18:44:56.239Z"
   },
   {
    "duration": 171,
    "start_time": "2023-09-22T18:45:22.000Z"
   },
   {
    "duration": 2501,
    "start_time": "2023-09-22T18:45:40.606Z"
   },
   {
    "duration": 58,
    "start_time": "2023-09-22T18:47:29.174Z"
   },
   {
    "duration": 47,
    "start_time": "2023-09-22T18:49:04.175Z"
   },
   {
    "duration": 9,
    "start_time": "2023-09-22T18:52:08.667Z"
   },
   {
    "duration": 13,
    "start_time": "2023-09-22T18:52:18.753Z"
   },
   {
    "duration": 18,
    "start_time": "2023-09-22T18:52:33.763Z"
   },
   {
    "duration": 16,
    "start_time": "2023-09-22T18:52:38.938Z"
   },
   {
    "duration": 16,
    "start_time": "2023-09-22T18:52:56.659Z"
   },
   {
    "duration": 12,
    "start_time": "2023-09-22T18:53:08.269Z"
   },
   {
    "duration": 2232,
    "start_time": "2023-09-22T18:53:23.641Z"
   },
   {
    "duration": 14,
    "start_time": "2023-09-22T18:54:47.854Z"
   },
   {
    "duration": 1989,
    "start_time": "2023-09-22T18:56:06.259Z"
   },
   {
    "duration": 19,
    "start_time": "2023-09-22T18:56:27.037Z"
   },
   {
    "duration": 2282,
    "start_time": "2023-09-22T18:56:34.696Z"
   },
   {
    "duration": 1999,
    "start_time": "2023-09-22T18:56:42.067Z"
   },
   {
    "duration": 10,
    "start_time": "2023-09-22T18:57:14.951Z"
   },
   {
    "duration": 23168,
    "start_time": "2023-09-22T18:57:41.109Z"
   },
   {
    "duration": 43,
    "start_time": "2023-09-22T18:58:17.698Z"
   },
   {
    "duration": 7,
    "start_time": "2023-09-22T18:58:42.957Z"
   },
   {
    "duration": 6,
    "start_time": "2023-09-22T19:26:31.567Z"
   },
   {
    "duration": 8,
    "start_time": "2023-09-22T19:27:22.093Z"
   },
   {
    "duration": 118,
    "start_time": "2023-09-22T19:29:30.962Z"
   },
   {
    "duration": 19,
    "start_time": "2023-09-22T19:31:34.990Z"
   },
   {
    "duration": 8,
    "start_time": "2023-09-22T19:32:13.966Z"
   },
   {
    "duration": 7,
    "start_time": "2023-09-22T19:32:27.460Z"
   },
   {
    "duration": 15,
    "start_time": "2023-09-22T19:32:41.394Z"
   },
   {
    "duration": 34,
    "start_time": "2023-09-22T19:35:28.081Z"
   },
   {
    "duration": 33,
    "start_time": "2023-09-22T19:36:28.268Z"
   },
   {
    "duration": 21,
    "start_time": "2023-09-22T19:36:44.650Z"
   },
   {
    "duration": 101,
    "start_time": "2023-09-22T19:38:03.002Z"
   },
   {
    "duration": 90,
    "start_time": "2023-09-22T19:43:20.751Z"
   },
   {
    "duration": 12,
    "start_time": "2023-09-22T19:44:51.842Z"
   },
   {
    "duration": 22,
    "start_time": "2023-09-22T19:44:56.974Z"
   },
   {
    "duration": 10,
    "start_time": "2023-09-22T19:45:08.551Z"
   },
   {
    "duration": 9,
    "start_time": "2023-09-22T19:49:31.961Z"
   },
   {
    "duration": 498,
    "start_time": "2023-09-22T19:50:18.795Z"
   },
   {
    "duration": 157,
    "start_time": "2023-09-22T19:54:27.591Z"
   },
   {
    "duration": 5,
    "start_time": "2023-09-22T20:27:03.264Z"
   },
   {
    "duration": 7,
    "start_time": "2023-09-22T20:27:10.291Z"
   },
   {
    "duration": 153,
    "start_time": "2023-09-22T20:27:13.267Z"
   },
   {
    "duration": 5,
    "start_time": "2023-09-22T20:29:59.087Z"
   },
   {
    "duration": 11,
    "start_time": "2023-09-22T20:30:04.471Z"
   },
   {
    "duration": 136,
    "start_time": "2023-09-22T20:30:07.374Z"
   },
   {
    "duration": 230,
    "start_time": "2023-09-22T20:32:03.282Z"
   },
   {
    "duration": 4,
    "start_time": "2023-09-22T20:32:40.338Z"
   },
   {
    "duration": 140,
    "start_time": "2023-09-22T20:32:45.662Z"
   },
   {
    "duration": 161,
    "start_time": "2023-09-22T20:32:56.524Z"
   },
   {
    "duration": 123,
    "start_time": "2023-09-22T20:45:36.323Z"
   },
   {
    "duration": 868,
    "start_time": "2023-09-23T10:49:21.650Z"
   },
   {
    "duration": 137,
    "start_time": "2023-09-23T10:49:22.521Z"
   },
   {
    "duration": 15,
    "start_time": "2023-09-23T10:49:22.660Z"
   },
   {
    "duration": 27,
    "start_time": "2023-09-23T10:49:22.677Z"
   },
   {
    "duration": 13,
    "start_time": "2023-09-23T10:49:22.706Z"
   },
   {
    "duration": 32,
    "start_time": "2023-09-23T10:49:22.721Z"
   },
   {
    "duration": 12,
    "start_time": "2023-09-23T10:49:22.754Z"
   },
   {
    "duration": 13,
    "start_time": "2023-09-23T10:49:22.768Z"
   },
   {
    "duration": 16,
    "start_time": "2023-09-23T10:49:22.783Z"
   },
   {
    "duration": 33,
    "start_time": "2023-09-23T10:49:22.800Z"
   },
   {
    "duration": 18,
    "start_time": "2023-09-23T10:49:22.835Z"
   },
   {
    "duration": 6,
    "start_time": "2023-09-23T10:49:22.855Z"
   },
   {
    "duration": 10,
    "start_time": "2023-09-23T10:49:22.862Z"
   },
   {
    "duration": 16,
    "start_time": "2023-09-23T10:49:22.874Z"
   },
   {
    "duration": 16414,
    "start_time": "2023-09-23T10:49:22.891Z"
   },
   {
    "duration": 4,
    "start_time": "2023-09-23T10:49:39.307Z"
   },
   {
    "duration": 17413,
    "start_time": "2023-09-23T10:49:39.312Z"
   },
   {
    "duration": 6,
    "start_time": "2023-09-23T10:49:56.727Z"
   },
   {
    "duration": 18,
    "start_time": "2023-09-23T10:50:07.240Z"
   },
   {
    "duration": 8,
    "start_time": "2023-09-23T10:50:14.217Z"
   },
   {
    "duration": 146,
    "start_time": "2023-09-23T10:50:17.591Z"
   },
   {
    "duration": 94,
    "start_time": "2023-09-23T10:51:36.507Z"
   },
   {
    "duration": 1477,
    "start_time": "2023-09-23T16:52:35.479Z"
   },
   {
    "duration": 3,
    "start_time": "2023-09-23T16:52:47.104Z"
   },
   {
    "duration": 121,
    "start_time": "2023-09-23T16:52:47.110Z"
   },
   {
    "duration": 16,
    "start_time": "2023-09-23T16:52:47.232Z"
   },
   {
    "duration": 46,
    "start_time": "2023-09-23T16:52:47.251Z"
   },
   {
    "duration": 39,
    "start_time": "2023-09-23T16:52:47.299Z"
   },
   {
    "duration": 32,
    "start_time": "2023-09-23T16:52:47.340Z"
   },
   {
    "duration": 33,
    "start_time": "2023-09-23T16:52:47.375Z"
   },
   {
    "duration": 40,
    "start_time": "2023-09-23T16:52:47.410Z"
   },
   {
    "duration": 27,
    "start_time": "2023-09-23T16:52:47.453Z"
   },
   {
    "duration": 50,
    "start_time": "2023-09-23T16:52:47.483Z"
   },
   {
    "duration": 22,
    "start_time": "2023-09-23T16:52:47.535Z"
   },
   {
    "duration": 6,
    "start_time": "2023-09-23T16:52:47.559Z"
   },
   {
    "duration": 8,
    "start_time": "2023-09-23T16:52:47.567Z"
   },
   {
    "duration": 45,
    "start_time": "2023-09-23T16:52:47.577Z"
   },
   {
    "duration": 16954,
    "start_time": "2023-09-23T16:52:47.624Z"
   },
   {
    "duration": 7,
    "start_time": "2023-09-23T16:53:04.581Z"
   },
   {
    "duration": 18587,
    "start_time": "2023-09-23T16:53:04.590Z"
   },
   {
    "duration": 7,
    "start_time": "2023-09-23T16:53:23.179Z"
   },
   {
    "duration": 31,
    "start_time": "2023-09-23T16:53:23.188Z"
   },
   {
    "duration": 9,
    "start_time": "2023-09-23T16:53:23.221Z"
   },
   {
    "duration": 166,
    "start_time": "2023-09-23T16:53:23.233Z"
   },
   {
    "duration": 1365,
    "start_time": "2023-09-23T16:53:37.917Z"
   },
   {
    "duration": 14,
    "start_time": "2023-09-23T16:53:55.239Z"
   },
   {
    "duration": 122,
    "start_time": "2023-09-23T17:06:49.274Z"
   },
   {
    "duration": 295623,
    "start_time": "2023-09-23T17:06:59.937Z"
   },
   {
    "duration": 548,
    "start_time": "2023-09-23T17:13:38.077Z"
   },
   {
    "duration": 5,
    "start_time": "2023-09-23T17:14:46.843Z"
   },
   {
    "duration": 5598,
    "start_time": "2023-09-23T17:14:54.482Z"
   },
   {
    "duration": 41,
    "start_time": "2023-09-23T17:18:44.340Z"
   },
   {
    "duration": 34,
    "start_time": "2023-09-23T17:18:55.301Z"
   },
   {
    "duration": 16,
    "start_time": "2023-09-23T17:19:03.462Z"
   },
   {
    "duration": 11,
    "start_time": "2023-09-23T17:19:15.752Z"
   },
   {
    "duration": 18,
    "start_time": "2023-09-23T17:19:34.649Z"
   },
   {
    "duration": 147,
    "start_time": "2023-09-23T17:25:12.884Z"
   },
   {
    "duration": 25,
    "start_time": "2023-09-23T17:25:27.829Z"
   },
   {
    "duration": 23,
    "start_time": "2023-09-23T17:26:20.729Z"
   },
   {
    "duration": 15,
    "start_time": "2023-09-23T17:30:11.959Z"
   },
   {
    "duration": 11,
    "start_time": "2023-09-23T17:31:15.824Z"
   },
   {
    "duration": 14,
    "start_time": "2023-09-23T17:31:33.801Z"
   },
   {
    "duration": 13,
    "start_time": "2023-09-23T17:33:37.883Z"
   },
   {
    "duration": 22,
    "start_time": "2023-09-23T17:34:48.751Z"
   },
   {
    "duration": 262,
    "start_time": "2023-09-23T17:35:07.609Z"
   },
   {
    "duration": 285,
    "start_time": "2023-09-23T17:35:35.092Z"
   },
   {
    "duration": 273,
    "start_time": "2023-09-23T17:36:29.892Z"
   },
   {
    "duration": 290,
    "start_time": "2023-09-23T17:37:31.173Z"
   },
   {
    "duration": 306,
    "start_time": "2023-09-23T17:49:33.833Z"
   },
   {
    "duration": 266,
    "start_time": "2023-09-23T17:56:40.309Z"
   },
   {
    "duration": 242,
    "start_time": "2023-09-23T17:56:55.431Z"
   },
   {
    "duration": 249,
    "start_time": "2023-09-23T17:58:20.260Z"
   },
   {
    "duration": 242,
    "start_time": "2023-09-23T18:01:39.554Z"
   },
   {
    "duration": 251,
    "start_time": "2023-09-23T18:01:46.614Z"
   },
   {
    "duration": 17,
    "start_time": "2023-09-23T18:05:09.055Z"
   },
   {
    "duration": 16,
    "start_time": "2023-09-23T18:06:33.951Z"
   },
   {
    "duration": 15,
    "start_time": "2023-09-23T18:06:42.029Z"
   },
   {
    "duration": 8,
    "start_time": "2023-09-23T18:06:48.850Z"
   },
   {
    "duration": 10,
    "start_time": "2023-09-23T18:06:55.597Z"
   },
   {
    "duration": 12,
    "start_time": "2023-09-23T18:09:08.900Z"
   },
   {
    "duration": 15,
    "start_time": "2023-09-23T18:09:29.983Z"
   },
   {
    "duration": 25,
    "start_time": "2023-09-23T18:09:37.560Z"
   },
   {
    "duration": 265,
    "start_time": "2023-09-23T18:10:11.079Z"
   },
   {
    "duration": 273,
    "start_time": "2023-09-23T18:11:02.075Z"
   },
   {
    "duration": 76,
    "start_time": "2023-09-23T18:32:22.173Z"
   },
   {
    "duration": 12,
    "start_time": "2023-09-23T19:20:17.943Z"
   },
   {
    "duration": 158,
    "start_time": "2023-09-23T19:20:22.320Z"
   },
   {
    "duration": 9,
    "start_time": "2023-09-23T19:26:21.111Z"
   },
   {
    "duration": 10,
    "start_time": "2023-09-23T19:31:12.092Z"
   },
   {
    "duration": 14,
    "start_time": "2023-09-23T19:31:47.152Z"
   },
   {
    "duration": 26,
    "start_time": "2023-09-23T19:32:19.805Z"
   },
   {
    "duration": 22,
    "start_time": "2023-09-23T19:36:50.428Z"
   },
   {
    "duration": 10,
    "start_time": "2023-09-23T19:42:58.924Z"
   },
   {
    "duration": 7,
    "start_time": "2023-09-23T19:43:10.115Z"
   },
   {
    "duration": 121,
    "start_time": "2023-09-23T19:50:01.894Z"
   },
   {
    "duration": 410,
    "start_time": "2023-09-23T20:53:59.591Z"
   },
   {
    "duration": 4300,
    "start_time": "2023-09-23T20:54:45.348Z"
   },
   {
    "duration": 310,
    "start_time": "2023-09-23T20:54:58.710Z"
   },
   {
    "duration": 316,
    "start_time": "2023-09-23T20:55:27.481Z"
   },
   {
    "duration": 113008,
    "start_time": "2023-09-23T21:01:45.136Z"
   },
   {
    "duration": 7,
    "start_time": "2023-09-23T21:03:48.346Z"
   },
   {
    "duration": 1522,
    "start_time": "2023-09-23T21:04:11.973Z"
   },
   {
    "duration": 333,
    "start_time": "2023-09-23T21:06:42.502Z"
   },
   {
    "duration": 323,
    "start_time": "2023-09-23T21:07:01.409Z"
   },
   {
    "duration": 317,
    "start_time": "2023-09-23T21:07:34.861Z"
   },
   {
    "duration": 305,
    "start_time": "2023-09-23T21:08:04.220Z"
   },
   {
    "duration": 1254,
    "start_time": "2023-09-23T21:08:35.696Z"
   },
   {
    "duration": 86,
    "start_time": "2023-09-23T21:08:36.952Z"
   },
   {
    "duration": 16,
    "start_time": "2023-09-23T21:08:37.040Z"
   },
   {
    "duration": 74,
    "start_time": "2023-09-23T21:08:37.058Z"
   },
   {
    "duration": 60,
    "start_time": "2023-09-23T21:08:37.135Z"
   },
   {
    "duration": 68,
    "start_time": "2023-09-23T21:08:37.198Z"
   },
   {
    "duration": 30,
    "start_time": "2023-09-23T21:08:37.268Z"
   },
   {
    "duration": 27,
    "start_time": "2023-09-23T21:08:37.300Z"
   },
   {
    "duration": 11,
    "start_time": "2023-09-23T21:08:37.328Z"
   },
   {
    "duration": 44,
    "start_time": "2023-09-23T21:08:37.341Z"
   },
   {
    "duration": 18,
    "start_time": "2023-09-23T21:08:37.387Z"
   },
   {
    "duration": 40,
    "start_time": "2023-09-23T21:08:37.407Z"
   },
   {
    "duration": 23,
    "start_time": "2023-09-23T21:08:37.448Z"
   },
   {
    "duration": 30,
    "start_time": "2023-09-23T21:08:37.474Z"
   },
   {
    "duration": 16161,
    "start_time": "2023-09-23T21:08:37.506Z"
   },
   {
    "duration": 4,
    "start_time": "2023-09-23T21:08:53.669Z"
   },
   {
    "duration": 17514,
    "start_time": "2023-09-23T21:08:53.675Z"
   },
   {
    "duration": 5,
    "start_time": "2023-09-23T21:09:11.191Z"
   },
   {
    "duration": 53,
    "start_time": "2023-09-23T21:09:11.198Z"
   },
   {
    "duration": 8,
    "start_time": "2023-09-23T21:09:11.253Z"
   },
   {
    "duration": 160,
    "start_time": "2023-09-23T21:09:11.263Z"
   },
   {
    "duration": 62,
    "start_time": "2023-09-23T21:09:11.425Z"
   },
   {
    "duration": 281,
    "start_time": "2023-09-23T21:09:11.490Z"
   },
   {
    "duration": 280,
    "start_time": "2023-09-23T21:09:11.773Z"
   },
   {
    "duration": 10,
    "start_time": "2023-09-23T21:09:12.055Z"
   },
   {
    "duration": 44,
    "start_time": "2023-09-23T21:09:12.067Z"
   },
   {
    "duration": 147,
    "start_time": "2023-09-23T21:09:12.112Z"
   },
   {
    "duration": 7,
    "start_time": "2023-09-23T21:09:12.261Z"
   },
   {
    "duration": 482,
    "start_time": "2023-09-23T21:09:12.269Z"
   },
   {
    "duration": 0,
    "start_time": "2023-09-23T21:09:12.753Z"
   },
   {
    "duration": 292,
    "start_time": "2023-09-23T21:09:29.426Z"
   },
   {
    "duration": 378,
    "start_time": "2023-09-23T21:11:09.531Z"
   },
   {
    "duration": 296,
    "start_time": "2023-09-23T21:12:46.843Z"
   },
   {
    "duration": 7,
    "start_time": "2023-09-23T21:18:12.980Z"
   },
   {
    "duration": 285,
    "start_time": "2023-09-23T21:22:18.813Z"
   },
   {
    "duration": 216,
    "start_time": "2023-09-23T21:22:30.656Z"
   },
   {
    "duration": 201,
    "start_time": "2023-09-23T21:22:51.774Z"
   },
   {
    "duration": 294,
    "start_time": "2023-09-23T21:25:57.224Z"
   },
   {
    "duration": 210,
    "start_time": "2023-09-23T21:26:24.196Z"
   },
   {
    "duration": 213,
    "start_time": "2023-09-23T21:26:54.343Z"
   },
   {
    "duration": 217,
    "start_time": "2023-09-23T21:26:59.507Z"
   },
   {
    "duration": 303,
    "start_time": "2023-09-23T21:27:08.601Z"
   },
   {
    "duration": 188,
    "start_time": "2023-09-23T21:27:26.566Z"
   },
   {
    "duration": 192,
    "start_time": "2023-09-23T21:27:51.112Z"
   },
   {
    "duration": 196,
    "start_time": "2023-09-23T21:28:13.800Z"
   },
   {
    "duration": 180,
    "start_time": "2023-09-23T21:28:20.584Z"
   },
   {
    "duration": 147,
    "start_time": "2023-09-23T22:33:26.393Z"
   },
   {
    "duration": 137,
    "start_time": "2023-09-23T22:33:54.712Z"
   },
   {
    "duration": 267,
    "start_time": "2023-09-23T22:35:05.728Z"
   },
   {
    "duration": 235,
    "start_time": "2023-09-23T22:37:18.714Z"
   },
   {
    "duration": 230,
    "start_time": "2023-09-23T22:38:54.582Z"
   },
   {
    "duration": 326,
    "start_time": "2023-09-23T22:38:59.494Z"
   },
   {
    "duration": 276,
    "start_time": "2023-09-23T22:39:37.067Z"
   },
   {
    "duration": 1333,
    "start_time": "2023-09-23T22:55:07.468Z"
   },
   {
    "duration": 266,
    "start_time": "2023-09-23T22:55:21.964Z"
   },
   {
    "duration": 10,
    "start_time": "2023-09-23T22:55:38.383Z"
   },
   {
    "duration": 276,
    "start_time": "2023-09-23T23:04:21.722Z"
   },
   {
    "duration": 306,
    "start_time": "2023-09-23T23:04:53.419Z"
   },
   {
    "duration": 122,
    "start_time": "2023-09-23T23:56:26.855Z"
   },
   {
    "duration": 17,
    "start_time": "2023-09-23T23:57:47.424Z"
   },
   {
    "duration": 16,
    "start_time": "2023-09-23T23:57:58.634Z"
   },
   {
    "duration": 17,
    "start_time": "2023-09-23T23:58:17.103Z"
   },
   {
    "duration": 15,
    "start_time": "2023-09-23T23:58:24.520Z"
   },
   {
    "duration": 304,
    "start_time": "2023-09-23T23:58:56.709Z"
   },
   {
    "duration": 1225,
    "start_time": "2023-09-23T23:59:05.757Z"
   },
   {
    "duration": 298,
    "start_time": "2023-09-24T00:00:07.768Z"
   },
   {
    "duration": 402,
    "start_time": "2023-09-24T00:00:16.281Z"
   },
   {
    "duration": 349,
    "start_time": "2023-09-24T00:03:40.843Z"
   },
   {
    "duration": 322,
    "start_time": "2023-09-24T00:03:56.906Z"
   },
   {
    "duration": 310,
    "start_time": "2023-09-24T00:04:34.100Z"
   },
   {
    "duration": 328,
    "start_time": "2023-09-24T00:04:49.554Z"
   },
   {
    "duration": 306,
    "start_time": "2023-09-24T00:05:02.004Z"
   },
   {
    "duration": 375,
    "start_time": "2023-09-24T00:05:29.355Z"
   },
   {
    "duration": 263,
    "start_time": "2023-09-24T00:05:39.136Z"
   },
   {
    "duration": 287,
    "start_time": "2023-09-24T00:06:08.404Z"
   },
   {
    "duration": 276,
    "start_time": "2023-09-24T00:10:44.088Z"
   },
   {
    "duration": 263,
    "start_time": "2023-09-24T00:10:53.057Z"
   },
   {
    "duration": 11,
    "start_time": "2023-09-24T00:20:08.047Z"
   },
   {
    "duration": 26,
    "start_time": "2023-09-24T00:21:00.382Z"
   },
   {
    "duration": 14,
    "start_time": "2023-09-24T00:21:08.780Z"
   },
   {
    "duration": 16,
    "start_time": "2023-09-24T00:21:18.597Z"
   },
   {
    "duration": 16,
    "start_time": "2023-09-24T00:22:13.631Z"
   },
   {
    "duration": 13,
    "start_time": "2023-09-24T00:22:40.369Z"
   },
   {
    "duration": 15,
    "start_time": "2023-09-24T00:22:58.742Z"
   },
   {
    "duration": 15,
    "start_time": "2023-09-24T00:24:35.899Z"
   },
   {
    "duration": 23,
    "start_time": "2023-09-24T00:27:13.206Z"
   },
   {
    "duration": 26,
    "start_time": "2023-09-24T00:34:06.413Z"
   },
   {
    "duration": 27,
    "start_time": "2023-09-24T00:34:16.249Z"
   },
   {
    "duration": 19,
    "start_time": "2023-09-24T00:34:25.662Z"
   },
   {
    "duration": 29,
    "start_time": "2023-09-24T00:51:22.968Z"
   },
   {
    "duration": 21,
    "start_time": "2023-09-24T00:53:22.596Z"
   },
   {
    "duration": 31,
    "start_time": "2023-09-24T00:53:45.340Z"
   },
   {
    "duration": 81,
    "start_time": "2023-09-24T01:59:37.414Z"
   },
   {
    "duration": 23,
    "start_time": "2023-09-24T02:00:02.668Z"
   },
   {
    "duration": 78,
    "start_time": "2023-09-24T02:19:07.680Z"
   },
   {
    "duration": 30,
    "start_time": "2023-09-24T02:19:16.626Z"
   },
   {
    "duration": 23,
    "start_time": "2023-09-24T02:21:25.661Z"
   },
   {
    "duration": 25,
    "start_time": "2023-09-24T02:21:35.174Z"
   },
   {
    "duration": 33,
    "start_time": "2023-09-24T02:24:46.887Z"
   },
   {
    "duration": 443,
    "start_time": "2023-09-24T02:25:07.510Z"
   },
   {
    "duration": 21,
    "start_time": "2023-09-24T02:39:01.858Z"
   },
   {
    "duration": 421,
    "start_time": "2023-09-24T02:40:28.916Z"
   },
   {
    "duration": 501,
    "start_time": "2023-09-24T02:40:57.271Z"
   },
   {
    "duration": 411,
    "start_time": "2023-09-24T02:41:40.665Z"
   },
   {
    "duration": 405,
    "start_time": "2023-09-24T02:41:54.518Z"
   },
   {
    "duration": 17,
    "start_time": "2023-09-24T02:43:08.294Z"
   },
   {
    "duration": 18,
    "start_time": "2023-09-24T02:43:50.415Z"
   },
   {
    "duration": 18,
    "start_time": "2023-09-24T02:44:17.694Z"
   },
   {
    "duration": 20,
    "start_time": "2023-09-24T02:44:29.043Z"
   },
   {
    "duration": 20,
    "start_time": "2023-09-24T02:45:09.676Z"
   },
   {
    "duration": 19,
    "start_time": "2023-09-24T02:45:56.698Z"
   },
   {
    "duration": 20,
    "start_time": "2023-09-24T02:47:02.469Z"
   },
   {
    "duration": 18,
    "start_time": "2023-09-24T02:47:35.737Z"
   },
   {
    "duration": 20,
    "start_time": "2023-09-24T02:48:07.220Z"
   },
   {
    "duration": 25,
    "start_time": "2023-09-24T02:49:20.261Z"
   },
   {
    "duration": 23,
    "start_time": "2023-09-24T03:08:04.671Z"
   },
   {
    "duration": 15,
    "start_time": "2023-09-24T03:08:23.598Z"
   },
   {
    "duration": 14,
    "start_time": "2023-09-24T03:08:38.787Z"
   },
   {
    "duration": 395,
    "start_time": "2023-09-24T03:09:29.816Z"
   },
   {
    "duration": 24,
    "start_time": "2023-09-24T03:10:42.892Z"
   },
   {
    "duration": 121,
    "start_time": "2023-09-24T03:10:59.159Z"
   },
   {
    "duration": 13,
    "start_time": "2023-09-24T03:11:38.971Z"
   },
   {
    "duration": 20,
    "start_time": "2023-09-24T03:11:46.492Z"
   },
   {
    "duration": 109,
    "start_time": "2023-09-24T03:13:08.533Z"
   },
   {
    "duration": 102,
    "start_time": "2023-09-24T03:14:39.032Z"
   },
   {
    "duration": 211,
    "start_time": "2023-09-24T03:15:19.294Z"
   },
   {
    "duration": 114,
    "start_time": "2023-09-24T03:15:49.765Z"
   },
   {
    "duration": 102,
    "start_time": "2023-09-24T03:16:08.947Z"
   },
   {
    "duration": 124,
    "start_time": "2023-09-24T03:17:11.197Z"
   },
   {
    "duration": 109,
    "start_time": "2023-09-24T03:17:32.260Z"
   },
   {
    "duration": 112,
    "start_time": "2023-09-24T03:17:51.999Z"
   },
   {
    "duration": 125,
    "start_time": "2023-09-24T03:21:11.629Z"
   },
   {
    "duration": 84,
    "start_time": "2023-09-24T03:21:59.491Z"
   },
   {
    "duration": 138,
    "start_time": "2023-09-24T03:22:04.523Z"
   },
   {
    "duration": 127,
    "start_time": "2023-09-24T03:22:21.782Z"
   },
   {
    "duration": 650,
    "start_time": "2023-09-24T03:25:01.405Z"
   },
   {
    "duration": 428,
    "start_time": "2023-09-24T03:25:28.755Z"
   },
   {
    "duration": 2165,
    "start_time": "2023-09-24T03:36:14.863Z"
   },
   {
    "duration": 2286,
    "start_time": "2023-09-24T03:37:10.618Z"
   },
   {
    "duration": 427,
    "start_time": "2023-09-24T03:38:18.709Z"
   },
   {
    "duration": 536,
    "start_time": "2023-09-24T03:38:39.338Z"
   },
   {
    "duration": 418,
    "start_time": "2023-09-24T03:39:03.967Z"
   },
   {
    "duration": 437,
    "start_time": "2023-09-24T03:39:22.773Z"
   },
   {
    "duration": 1259,
    "start_time": "2023-09-24T03:39:42.560Z"
   },
   {
    "duration": 373,
    "start_time": "2023-09-24T03:39:55.224Z"
   },
   {
    "duration": 645,
    "start_time": "2023-09-24T03:40:28.576Z"
   },
   {
    "duration": 626,
    "start_time": "2023-09-24T03:40:46.895Z"
   },
   {
    "duration": 339,
    "start_time": "2023-09-24T03:41:49.631Z"
   },
   {
    "duration": 343,
    "start_time": "2023-09-24T08:09:31.566Z"
   },
   {
    "duration": 619,
    "start_time": "2023-09-24T08:27:33.879Z"
   },
   {
    "duration": 448,
    "start_time": "2023-09-24T08:27:51.648Z"
   },
   {
    "duration": 743,
    "start_time": "2023-09-24T08:37:08.377Z"
   },
   {
    "duration": 603,
    "start_time": "2023-09-24T08:45:30.404Z"
   },
   {
    "duration": 582,
    "start_time": "2023-09-24T08:46:10.893Z"
   },
   {
    "duration": 504,
    "start_time": "2023-09-24T08:46:36.440Z"
   },
   {
    "duration": 608,
    "start_time": "2023-09-24T08:49:47.783Z"
   },
   {
    "duration": 473,
    "start_time": "2023-09-24T08:50:05.482Z"
   },
   {
    "duration": 754,
    "start_time": "2023-09-24T08:55:55.178Z"
   },
   {
    "duration": 696,
    "start_time": "2023-09-24T08:56:27.354Z"
   },
   {
    "duration": 646,
    "start_time": "2023-09-24T08:57:39.973Z"
   },
   {
    "duration": 520,
    "start_time": "2023-09-24T08:58:01.064Z"
   },
   {
    "duration": 758,
    "start_time": "2023-09-24T09:29:00.073Z"
   },
   {
    "duration": 772,
    "start_time": "2023-09-24T09:29:17.772Z"
   },
   {
    "duration": 589,
    "start_time": "2023-09-24T09:38:16.840Z"
   },
   {
    "duration": 577,
    "start_time": "2023-09-24T09:43:04.356Z"
   },
   {
    "duration": 149,
    "start_time": "2023-09-24T09:45:03.737Z"
   },
   {
    "duration": 79,
    "start_time": "2023-09-24T09:48:16.687Z"
   },
   {
    "duration": 29,
    "start_time": "2023-09-24T09:52:26.964Z"
   },
   {
    "duration": 15,
    "start_time": "2023-09-24T09:55:54.292Z"
   },
   {
    "duration": 16,
    "start_time": "2023-09-24T09:56:14.820Z"
   },
   {
    "duration": 20,
    "start_time": "2023-09-24T09:56:25.070Z"
   },
   {
    "duration": 36,
    "start_time": "2023-09-24T09:56:32.458Z"
   },
   {
    "duration": 25,
    "start_time": "2023-09-24T10:04:13.395Z"
   },
   {
    "duration": 531,
    "start_time": "2023-09-24T10:09:58.700Z"
   },
   {
    "duration": 20,
    "start_time": "2023-09-24T10:10:29.755Z"
   },
   {
    "duration": 21,
    "start_time": "2023-09-24T10:10:41.632Z"
   },
   {
    "duration": 25,
    "start_time": "2023-09-24T10:11:32.982Z"
   },
   {
    "duration": 23,
    "start_time": "2023-09-24T10:12:10.194Z"
   },
   {
    "duration": 1553,
    "start_time": "2023-09-24T11:09:59.620Z"
   },
   {
    "duration": 16,
    "start_time": "2023-09-24T11:10:31.883Z"
   },
   {
    "duration": 17,
    "start_time": "2023-09-24T11:10:37.192Z"
   },
   {
    "duration": 26,
    "start_time": "2023-09-24T11:12:20.048Z"
   },
   {
    "duration": 4,
    "start_time": "2023-09-24T11:12:52.440Z"
   },
   {
    "duration": 14,
    "start_time": "2023-09-24T11:12:57.657Z"
   },
   {
    "duration": 18,
    "start_time": "2023-09-24T11:18:14.523Z"
   },
   {
    "duration": 1353,
    "start_time": "2023-09-24T12:21:24.613Z"
   },
   {
    "duration": 88,
    "start_time": "2023-09-24T12:21:25.968Z"
   },
   {
    "duration": 16,
    "start_time": "2023-09-24T12:21:26.058Z"
   },
   {
    "duration": 8,
    "start_time": "2023-09-24T12:21:26.076Z"
   },
   {
    "duration": 25,
    "start_time": "2023-09-24T12:21:26.086Z"
   },
   {
    "duration": 9,
    "start_time": "2023-09-24T12:21:26.114Z"
   },
   {
    "duration": 11,
    "start_time": "2023-09-24T12:21:26.125Z"
   },
   {
    "duration": 16,
    "start_time": "2023-09-24T12:21:26.138Z"
   },
   {
    "duration": 11,
    "start_time": "2023-09-24T12:21:26.156Z"
   },
   {
    "duration": 48,
    "start_time": "2023-09-24T12:21:26.170Z"
   },
   {
    "duration": 20,
    "start_time": "2023-09-24T12:21:26.220Z"
   },
   {
    "duration": 10,
    "start_time": "2023-09-24T12:21:26.242Z"
   },
   {
    "duration": 9,
    "start_time": "2023-09-24T12:21:26.254Z"
   },
   {
    "duration": 46,
    "start_time": "2023-09-24T12:21:26.265Z"
   },
   {
    "duration": 17279,
    "start_time": "2023-09-24T12:21:26.313Z"
   },
   {
    "duration": 5,
    "start_time": "2023-09-24T12:21:43.593Z"
   },
   {
    "duration": 18633,
    "start_time": "2023-09-24T12:21:43.609Z"
   },
   {
    "duration": 5,
    "start_time": "2023-09-24T12:22:02.244Z"
   },
   {
    "duration": 60,
    "start_time": "2023-09-24T12:22:02.252Z"
   },
   {
    "duration": 18,
    "start_time": "2023-09-24T12:22:02.314Z"
   },
   {
    "duration": 237,
    "start_time": "2023-09-24T12:22:02.334Z"
   },
   {
    "duration": 93,
    "start_time": "2023-09-24T12:22:02.574Z"
   },
   {
    "duration": 294,
    "start_time": "2023-09-24T12:22:02.669Z"
   },
   {
    "duration": 282,
    "start_time": "2023-09-24T12:22:02.965Z"
   },
   {
    "duration": 12,
    "start_time": "2023-09-24T12:22:03.248Z"
   },
   {
    "duration": 49,
    "start_time": "2023-09-24T12:22:03.262Z"
   },
   {
    "duration": 324,
    "start_time": "2023-09-24T12:22:03.313Z"
   },
   {
    "duration": 7,
    "start_time": "2023-09-24T12:22:03.640Z"
   },
   {
    "duration": 201,
    "start_time": "2023-09-24T12:22:03.648Z"
   },
   {
    "duration": 378,
    "start_time": "2023-09-24T12:22:03.851Z"
   },
   {
    "duration": 10,
    "start_time": "2023-09-24T12:22:04.232Z"
   },
   {
    "duration": 55,
    "start_time": "2023-09-24T12:22:04.244Z"
   },
   {
    "duration": 0,
    "start_time": "2023-09-24T12:22:04.301Z"
   },
   {
    "duration": 0,
    "start_time": "2023-09-24T12:22:04.302Z"
   },
   {
    "duration": 0,
    "start_time": "2023-09-24T12:22:04.303Z"
   },
   {
    "duration": 0,
    "start_time": "2023-09-24T12:22:04.304Z"
   },
   {
    "duration": 0,
    "start_time": "2023-09-24T12:22:04.305Z"
   },
   {
    "duration": 0,
    "start_time": "2023-09-24T12:22:04.306Z"
   },
   {
    "duration": 311,
    "start_time": "2023-09-24T12:22:51.569Z"
   },
   {
    "duration": 22,
    "start_time": "2023-09-24T12:22:58.293Z"
   },
   {
    "duration": 564,
    "start_time": "2023-09-24T12:23:03.019Z"
   },
   {
    "duration": 25,
    "start_time": "2023-09-24T12:23:10.532Z"
   },
   {
    "duration": 23,
    "start_time": "2023-09-24T12:23:14.519Z"
   },
   {
    "duration": 113,
    "start_time": "2023-09-24T12:23:18.781Z"
   },
   {
    "duration": 15,
    "start_time": "2023-09-24T12:23:39.614Z"
   },
   {
    "duration": 14,
    "start_time": "2023-09-24T12:23:48.378Z"
   },
   {
    "duration": 1338,
    "start_time": "2023-09-26T07:52:12.917Z"
   },
   {
    "duration": 132,
    "start_time": "2023-09-26T07:52:14.256Z"
   },
   {
    "duration": 27,
    "start_time": "2023-09-26T07:52:36.896Z"
   },
   {
    "duration": 8,
    "start_time": "2023-09-26T07:54:01.752Z"
   },
   {
    "duration": 5,
    "start_time": "2023-09-26T07:54:05.071Z"
   },
   {
    "duration": 10,
    "start_time": "2023-09-26T07:54:07.495Z"
   },
   {
    "duration": 13,
    "start_time": "2023-09-26T07:54:14.075Z"
   },
   {
    "duration": 20,
    "start_time": "2023-09-26T07:54:17.284Z"
   },
   {
    "duration": 11,
    "start_time": "2023-09-26T07:54:20.966Z"
   },
   {
    "duration": 107,
    "start_time": "2023-09-26T07:55:07.741Z"
   },
   {
    "duration": 140,
    "start_time": "2023-09-26T07:55:44.937Z"
   },
   {
    "duration": 9,
    "start_time": "2023-09-26T07:59:13.754Z"
   },
   {
    "duration": 93,
    "start_time": "2023-09-26T07:59:28.272Z"
   },
   {
    "duration": 613,
    "start_time": "2023-09-26T08:00:02.847Z"
   },
   {
    "duration": 3,
    "start_time": "2023-09-26T08:01:20.848Z"
   },
   {
    "duration": 19,
    "start_time": "2023-09-26T08:02:42.725Z"
   },
   {
    "duration": 25,
    "start_time": "2023-09-26T08:02:44.602Z"
   },
   {
    "duration": 6,
    "start_time": "2023-09-26T08:02:48.023Z"
   },
   {
    "duration": 5,
    "start_time": "2023-09-26T08:02:49.562Z"
   },
   {
    "duration": 2,
    "start_time": "2023-09-26T08:06:24.376Z"
   },
   {
    "duration": 2,
    "start_time": "2023-09-26T08:09:08.449Z"
   },
   {
    "duration": 2,
    "start_time": "2023-09-26T08:09:30.905Z"
   },
   {
    "duration": 12,
    "start_time": "2023-09-26T08:16:40.108Z"
   },
   {
    "duration": 20,
    "start_time": "2023-09-26T08:16:46.685Z"
   },
   {
    "duration": 5,
    "start_time": "2023-09-26T08:28:55.738Z"
   },
   {
    "duration": 177,
    "start_time": "2023-09-26T08:29:10.792Z"
   },
   {
    "duration": 166,
    "start_time": "2023-09-26T08:29:17.797Z"
   },
   {
    "duration": 179,
    "start_time": "2023-09-26T08:30:10.567Z"
   },
   {
    "duration": 7,
    "start_time": "2023-09-26T08:30:45.918Z"
   },
   {
    "duration": 9,
    "start_time": "2023-09-26T08:30:50.802Z"
   },
   {
    "duration": 5,
    "start_time": "2023-09-26T08:31:45.364Z"
   },
   {
    "duration": 10,
    "start_time": "2023-09-26T08:31:56.869Z"
   },
   {
    "duration": 7,
    "start_time": "2023-09-26T08:48:38.569Z"
   },
   {
    "duration": 147,
    "start_time": "2023-09-26T08:48:39.976Z"
   },
   {
    "duration": 72,
    "start_time": "2023-09-26T08:49:26.463Z"
   },
   {
    "duration": 267,
    "start_time": "2023-09-26T08:49:59.131Z"
   },
   {
    "duration": 309,
    "start_time": "2023-09-26T08:50:25.305Z"
   },
   {
    "duration": 22,
    "start_time": "2023-09-26T09:08:25.045Z"
   },
   {
    "duration": 19,
    "start_time": "2023-09-26T09:08:31.006Z"
   },
   {
    "duration": 238,
    "start_time": "2023-09-26T09:08:40.349Z"
   },
   {
    "duration": 10,
    "start_time": "2023-09-26T09:11:38.376Z"
   },
   {
    "duration": 22,
    "start_time": "2023-09-26T09:11:41.681Z"
   },
   {
    "duration": 407,
    "start_time": "2023-09-26T09:11:45.242Z"
   },
   {
    "duration": 157,
    "start_time": "2023-09-26T09:23:06.028Z"
   },
   {
    "duration": 169,
    "start_time": "2023-09-26T09:23:26.311Z"
   },
   {
    "duration": 319,
    "start_time": "2023-09-26T09:24:38.354Z"
   },
   {
    "duration": 363,
    "start_time": "2023-09-26T09:24:47.938Z"
   },
   {
    "duration": 379,
    "start_time": "2023-09-26T09:24:56.988Z"
   },
   {
    "duration": 10,
    "start_time": "2023-09-26T09:52:18.567Z"
   },
   {
    "duration": 16,
    "start_time": "2023-09-26T09:53:37.272Z"
   },
   {
    "duration": 15,
    "start_time": "2023-09-26T09:54:17.463Z"
   },
   {
    "duration": 19,
    "start_time": "2023-09-26T10:00:05.622Z"
   },
   {
    "duration": 17,
    "start_time": "2023-09-26T10:00:12.791Z"
   },
   {
    "duration": 18,
    "start_time": "2023-09-26T10:00:43.630Z"
   },
   {
    "duration": 17,
    "start_time": "2023-09-26T10:01:02.886Z"
   },
   {
    "duration": 201,
    "start_time": "2023-09-26T10:02:05.109Z"
   },
   {
    "duration": 19,
    "start_time": "2023-09-26T10:32:23.066Z"
   },
   {
    "duration": 18,
    "start_time": "2023-09-26T10:32:31.720Z"
   },
   {
    "duration": 21,
    "start_time": "2023-09-26T10:32:52.480Z"
   },
   {
    "duration": 323,
    "start_time": "2023-09-26T10:36:10.067Z"
   },
   {
    "duration": 511,
    "start_time": "2023-09-26T10:36:15.860Z"
   },
   {
    "duration": 377,
    "start_time": "2023-09-26T10:39:39.928Z"
   },
   {
    "duration": 38,
    "start_time": "2023-09-26T10:40:04.980Z"
   },
   {
    "duration": 247,
    "start_time": "2023-09-26T10:40:09.803Z"
   },
   {
    "duration": 213,
    "start_time": "2023-09-26T10:50:39.445Z"
   },
   {
    "duration": 21,
    "start_time": "2023-09-26T10:50:51.675Z"
   },
   {
    "duration": 19,
    "start_time": "2023-09-26T10:51:37.240Z"
   },
   {
    "duration": 12,
    "start_time": "2023-09-26T10:52:05.083Z"
   },
   {
    "duration": 20,
    "start_time": "2023-09-26T10:55:16.060Z"
   },
   {
    "duration": 29,
    "start_time": "2023-09-26T10:55:20.593Z"
   },
   {
    "duration": 22,
    "start_time": "2023-09-26T10:56:15.777Z"
   },
   {
    "duration": 30,
    "start_time": "2023-09-26T10:56:32.787Z"
   },
   {
    "duration": 271,
    "start_time": "2023-09-26T11:21:24.498Z"
   },
   {
    "duration": 298,
    "start_time": "2023-09-26T11:21:39.944Z"
   },
   {
    "duration": 306,
    "start_time": "2023-09-26T11:23:06.527Z"
   },
   {
    "duration": 26,
    "start_time": "2023-09-26T11:26:22.214Z"
   },
   {
    "duration": 26,
    "start_time": "2023-09-26T11:27:02.155Z"
   },
   {
    "duration": 22,
    "start_time": "2023-09-26T11:27:38.967Z"
   },
   {
    "duration": 15,
    "start_time": "2023-09-26T11:35:35.735Z"
   },
   {
    "duration": 353,
    "start_time": "2023-09-26T11:35:41.480Z"
   },
   {
    "duration": 382,
    "start_time": "2023-09-26T11:35:54.095Z"
   },
   {
    "duration": 356,
    "start_time": "2023-09-26T11:36:22.118Z"
   },
   {
    "duration": 38,
    "start_time": "2023-09-26T11:51:35.693Z"
   },
   {
    "duration": 32,
    "start_time": "2023-09-26T11:52:20.602Z"
   },
   {
    "duration": 26,
    "start_time": "2023-09-26T11:54:19.276Z"
   },
   {
    "duration": 25,
    "start_time": "2023-09-26T11:54:38.273Z"
   },
   {
    "duration": 25,
    "start_time": "2023-09-26T11:54:48.241Z"
   },
   {
    "duration": 30,
    "start_time": "2023-09-26T11:57:26.259Z"
   },
   {
    "duration": 1452,
    "start_time": "2023-09-26T12:01:18.180Z"
   },
   {
    "duration": 110,
    "start_time": "2023-09-26T12:01:19.634Z"
   },
   {
    "duration": 15,
    "start_time": "2023-09-26T12:01:19.746Z"
   },
   {
    "duration": 13,
    "start_time": "2023-09-26T12:01:19.763Z"
   },
   {
    "duration": 7,
    "start_time": "2023-09-26T12:01:19.780Z"
   },
   {
    "duration": 43,
    "start_time": "2023-09-26T12:01:19.790Z"
   },
   {
    "duration": 13,
    "start_time": "2023-09-26T12:01:19.839Z"
   },
   {
    "duration": 19,
    "start_time": "2023-09-26T12:01:19.855Z"
   },
   {
    "duration": 10,
    "start_time": "2023-09-26T12:01:19.876Z"
   },
   {
    "duration": 46,
    "start_time": "2023-09-26T12:01:19.888Z"
   },
   {
    "duration": 23,
    "start_time": "2023-09-26T12:01:19.937Z"
   },
   {
    "duration": 8,
    "start_time": "2023-09-26T12:01:19.961Z"
   },
   {
    "duration": 13,
    "start_time": "2023-09-26T12:01:19.971Z"
   },
   {
    "duration": 2,
    "start_time": "2023-09-26T12:01:19.987Z"
   },
   {
    "duration": 6,
    "start_time": "2023-09-26T12:01:20.014Z"
   },
   {
    "duration": 16,
    "start_time": "2023-09-26T12:01:20.023Z"
   },
   {
    "duration": 23186,
    "start_time": "2023-09-26T12:01:20.043Z"
   },
   {
    "duration": 11,
    "start_time": "2023-09-26T12:01:43.232Z"
   },
   {
    "duration": 43,
    "start_time": "2023-09-26T12:01:43.245Z"
   },
   {
    "duration": 17,
    "start_time": "2023-09-26T12:01:43.291Z"
   },
   {
    "duration": 23,
    "start_time": "2023-09-26T12:01:43.315Z"
   },
   {
    "duration": 12,
    "start_time": "2023-09-26T12:01:43.340Z"
   },
   {
    "duration": 184,
    "start_time": "2023-09-26T12:01:43.355Z"
   },
   {
    "duration": 71,
    "start_time": "2023-09-26T12:01:43.541Z"
   },
   {
    "duration": 337,
    "start_time": "2023-09-26T12:01:43.614Z"
   },
   {
    "duration": 299,
    "start_time": "2023-09-26T12:01:43.955Z"
   },
   {
    "duration": 10,
    "start_time": "2023-09-26T12:01:44.256Z"
   },
   {
    "duration": 26,
    "start_time": "2023-09-26T12:01:44.268Z"
   },
   {
    "duration": 458,
    "start_time": "2023-09-26T12:01:44.310Z"
   },
   {
    "duration": 45,
    "start_time": "2023-09-26T12:01:44.770Z"
   },
   {
    "duration": 238,
    "start_time": "2023-09-26T12:01:44.823Z"
   },
   {
    "duration": 511,
    "start_time": "2023-09-26T12:01:45.063Z"
   },
   {
    "duration": 10,
    "start_time": "2023-09-26T12:01:45.576Z"
   },
   {
    "duration": 410,
    "start_time": "2023-09-26T12:01:45.588Z"
   },
   {
    "duration": 34,
    "start_time": "2023-09-26T12:01:46.018Z"
   },
   {
    "duration": 838,
    "start_time": "2023-09-26T12:01:46.054Z"
   },
   {
    "duration": 50,
    "start_time": "2023-09-26T12:01:46.894Z"
   },
   {
    "duration": 31,
    "start_time": "2023-09-26T12:01:46.945Z"
   },
   {
    "duration": 44,
    "start_time": "2023-09-26T12:01:46.978Z"
   },
   {
    "duration": 24,
    "start_time": "2023-09-26T12:01:47.024Z"
   }
  ],
  "kernelspec": {
   "display_name": "Python 3 (ipykernel)",
   "language": "python",
   "name": "python3"
  },
  "language_info": {
   "codemirror_mode": {
    "name": "ipython",
    "version": 3
   },
   "file_extension": ".py",
   "mimetype": "text/x-python",
   "name": "python",
   "nbconvert_exporter": "python",
   "pygments_lexer": "ipython3",
   "version": "3.11.5"
  },
  "toc": {
   "base_numbering": 1,
   "nav_menu": {},
   "number_sections": true,
   "sideBar": true,
   "skip_h1_title": true,
   "title_cell": "Table of Contents",
   "title_sidebar": "Contents",
   "toc_cell": false,
   "toc_position": {},
   "toc_section_display": true,
   "toc_window_display": true
  }
 },
 "nbformat": 4,
 "nbformat_minor": 4
}
