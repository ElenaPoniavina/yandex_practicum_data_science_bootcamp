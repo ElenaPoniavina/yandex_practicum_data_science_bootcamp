{
 "cells": [
  {
   "cell_type": "markdown",
   "metadata": {
    "toc": true
   },
   "source": [
    "<h1>Содержание<span class=\"tocSkip\"></span></h1>\n",
    "<div class=\"toc\"><ul class=\"toc-item\"><li><span><a href=\"#Подготовка-данных\" data-toc-modified-id=\"Подготовка-данных-1\"><span class=\"toc-item-num\">1&nbsp;&nbsp;</span>Подготовка данных</a></span><ul class=\"toc-item\"><li><span><a href=\"#Загрузка-данных\" data-toc-modified-id=\"Загрузка-данных-1.1\"><span class=\"toc-item-num\">1.1&nbsp;&nbsp;</span>Загрузка данных</a></span><ul class=\"toc-item\"><li><span><a href=\"#Откроем-файлы\" data-toc-modified-id=\"Откроем-файлы-1.1.1\"><span class=\"toc-item-num\">1.1.1&nbsp;&nbsp;</span>Откроем файлы</a></span></li><li><span><a href=\"#Изучим-признаки\" data-toc-modified-id=\"Изучим-признаки-1.1.2\"><span class=\"toc-item-num\">1.1.2&nbsp;&nbsp;</span>Изучим признаки</a></span></li></ul></li><li><span><a href=\"#Проверим-эффективность-обогащения-(recovery)\" data-toc-modified-id=\"Проверим-эффективность-обогащения-(recovery)-1.2\"><span class=\"toc-item-num\">1.2&nbsp;&nbsp;</span>Проверим эффективность обогащения (recovery)</a></span></li><li><span><a href=\"#Анализ-тестовой-выборки\" data-toc-modified-id=\"Анализ-тестовой-выборки-1.3\"><span class=\"toc-item-num\">1.3&nbsp;&nbsp;</span>Анализ тестовой выборки</a></span><ul class=\"toc-item\"><li><span><a href=\"#Проанализируем-отсутствующие-колонки\" data-toc-modified-id=\"Проанализируем-отсутствующие-колонки-1.3.1\"><span class=\"toc-item-num\">1.3.1&nbsp;&nbsp;</span>Проанализируем отсутствующие колонки</a></span></li><li><span><a href=\"#Изучим-наборы-dtrain,-dtest-и-dfull\" data-toc-modified-id=\"Изучим-наборы-dtrain,-dtest-и-dfull-1.3.2\"><span class=\"toc-item-num\">1.3.2&nbsp;&nbsp;</span>Изучим наборы dtrain, dtest и dfull</a></span></li></ul></li><li><span><a href=\"#Предобработка-данных\" data-toc-modified-id=\"Предобработка-данных-1.4\"><span class=\"toc-item-num\">1.4&nbsp;&nbsp;</span>Предобработка данных</a></span><ul class=\"toc-item\"><li><span><a href=\"#Обработка-пропусков\" data-toc-modified-id=\"Обработка-пропусков-1.4.1\"><span class=\"toc-item-num\">1.4.1&nbsp;&nbsp;</span>Обработка пропусков</a></span></li><li><span><a href=\"#Проверка-на-дубликаты\" data-toc-modified-id=\"Проверка-на-дубликаты-1.4.2\"><span class=\"toc-item-num\">1.4.2&nbsp;&nbsp;</span>Проверка на дубликаты</a></span></li><li><span><a href=\"#Редактирование-типов-столбцов\" data-toc-modified-id=\"Редактирование-типов-столбцов-1.4.3\"><span class=\"toc-item-num\">1.4.3&nbsp;&nbsp;</span>Редактирование типов столбцов</a></span></li></ul></li></ul></li><li><span><a href=\"#Анализ-данных\" data-toc-modified-id=\"Анализ-данных-2\"><span class=\"toc-item-num\">2&nbsp;&nbsp;</span>Анализ данных</a></span><ul class=\"toc-item\"><li><span><a href=\"#Изучение-концентрации-металлов\" data-toc-modified-id=\"Изучение-концентрации-металлов-2.1\"><span class=\"toc-item-num\">2.1&nbsp;&nbsp;</span>Изучение концентрации металлов</a></span></li><li><span><a href=\"#Оценка-размеров-гранул-сырья\" data-toc-modified-id=\"Оценка-размеров-гранул-сырья-2.2\"><span class=\"toc-item-num\">2.2&nbsp;&nbsp;</span>Оценка размеров гранул сырья</a></span></li><li><span><a href=\"#Исследуем-суммарную-концентрацию-металлов-на-разных-стадиях\" data-toc-modified-id=\"Исследуем-суммарную-концентрацию-металлов-на-разных-стадиях-2.3\"><span class=\"toc-item-num\">2.3&nbsp;&nbsp;</span>Исследуем суммарную концентрацию металлов на разных стадиях</a></span></li></ul></li><li><span><a href=\"#Модель\" data-toc-modified-id=\"Модель-3\"><span class=\"toc-item-num\">3&nbsp;&nbsp;</span>Модель</a></span><ul class=\"toc-item\"><li><span><a href=\"#Функция-вычисления-sMAPE\" data-toc-modified-id=\"Функция-вычисления-sMAPE-3.1\"><span class=\"toc-item-num\">3.1&nbsp;&nbsp;</span>Функция вычисления sMAPE</a></span></li><li><span><a href=\"#Подготовим-features-и-target-для-прогнозирования\" data-toc-modified-id=\"Подготовим-features-и-target-для-прогнозирования-3.2\"><span class=\"toc-item-num\">3.2&nbsp;&nbsp;</span>Подготовим features и target для прогнозирования</a></span></li><li><span><a href=\"#Создадим-и-обучим-модель-линейной-регрессии\" data-toc-modified-id=\"Создадим-и-обучим-модель-линейной-регрессии-3.3\"><span class=\"toc-item-num\">3.3&nbsp;&nbsp;</span>Создадим и обучим модель линейной регрессии</a></span></li><li><span><a href=\"#Создадим-и-обучим-модель-дерева-(в-цикле)\" data-toc-modified-id=\"Создадим-и-обучим-модель-дерева-(в-цикле)-3.4\"><span class=\"toc-item-num\">3.4&nbsp;&nbsp;</span>Создадим и обучим модель дерева (в цикле)</a></span></li><li><span><a href=\"#Создадим-и-обучим-модель-дерева-(GridSearchCV)\" data-toc-modified-id=\"Создадим-и-обучим-модель-дерева-(GridSearchCV)-3.5\"><span class=\"toc-item-num\">3.5&nbsp;&nbsp;</span>Создадим и обучим модель дерева (GridSearchCV)</a></span></li><li><span><a href=\"#Проверим-модель-на-тестовой-выборке\" data-toc-modified-id=\"Проверим-модель-на-тестовой-выборке-3.6\"><span class=\"toc-item-num\">3.6&nbsp;&nbsp;</span>Проверим модель на тестовой выборке</a></span></li><li><span><a href=\"#Проверка-модели-на-адекватность\" data-toc-modified-id=\"Проверка-модели-на-адекватность-3.7\"><span class=\"toc-item-num\">3.7&nbsp;&nbsp;</span>Проверка модели на адекватность</a></span></li></ul></li><li><span><a href=\"#Итоговый-вывод\" data-toc-modified-id=\"Итоговый-вывод-4\"><span class=\"toc-item-num\">4&nbsp;&nbsp;</span>Итоговый вывод</a></span></li><li><span><a href=\"#Чек-лист-готовности-проекта\" data-toc-modified-id=\"Чек-лист-готовности-проекта-5\"><span class=\"toc-item-num\">5&nbsp;&nbsp;</span>Чек-лист готовности проекта</a></span></li></ul></div>"
   ]
  },
  {
   "cell_type": "markdown",
   "metadata": {},
   "source": [
    "# Восстановление золота из руды"
   ]
  },
  {
   "cell_type": "markdown",
   "metadata": {},
   "source": [
    "Подготовим прототип модели машинного обучения для «Цифры». Компания разрабатывает решения для эффективной работы промышленных предприятий.\r\n",
    "\r\n",
    "Модель должна предсказать коэффициент восстановления золота из золотосодержащей руды. Используем данные с параметрами добычи и очистки. \r\n",
    "\r\n",
    "Модель поможет оптимизировать производство, чтобы не запускать предприятие с убыточными характеристиками.\r\n",
    "\r\n",
    "Необходимо:\r\n",
    "\r\n",
    "1. Подготовить данные;\r\n",
    "2. Провести исследовательский анализ данных;\r\n",
    "3. Построить и обучить модель.\r\n",
    "\r\n",
    "<br>**Технологический процесс**\r\n",
    "1. Флотация\r\n",
    "Во флотационную установку подаётся смесь золотосодержащей руды. После обогащения получается черновой концентрат и «отвальные хвосты», то есть остатки продукта с низкой концентрацией ценных металлов.\r\n",
    "На стабильность этого процесса влияет непостоянное и неоптимальное физико-химическое состояние флотационной пульпы (смеси твёрдых частиц и жидкости).\r\n",
    "2. Очистка \r\n",
    "Черновой концентрат проходит две очистки. На выходе получается финальный концентрат и новые отвальные хвосты.\r\n",
    "\r\n",
    "<br>**Описание данных**\r\n",
    "- Rougher feed — исходное сырье\r\n",
    "- Rougher additions (или reagent additions) — флотационные реагенты: Xanthate, Sulphate, Depressant\r\n",
    "- Xanthate — ксантогенат (промотер, или активатор флотации);\r\n",
    "- Sulphate — сульфат (на данном производстве сульфид натрия);\r\n",
    "- Depressant — депрессант (силикат натрия).\r\n",
    "- Rougher process (англ. «грубый процесс») — флотация\r\n",
    "- Rougher tails — отвальные хвосты\r\n",
    "- Float banks — флотационная установка\r\n",
    "- Cleaner process — очистка\r\n",
    "- Rougher Au — черновой концентрат золота\r\n",
    "- Final Au — финальный концентрат золота\r\n",
    "\r\n",
    "<br>**Параметры этапов**\r\n",
    "- air amount — объём воздуха\r\n",
    "- fluid levels — уровень жидкости\r\n",
    "- feed size — размер гранул сырья\r\n",
    "- feed rate — скорость подачи\r\n",
    "\r\n",
    "<br>**Наименование признаков**\r\n",
    "<br>Наименование признаков должно такое: этап.тип_параметра.название_параметра\r\n",
    "<br>Пример: rougher.input.feed_ag\r\n",
    "<br>Возможные значения для блока \"этап\":\r\n",
    "- rougher — флотация\r\n",
    "- primary_cleaner — первичная очистка\r\n",
    "- secondary_cleaner — вторичная очистка\r\n",
    "- final — финальные характеристики\r\n",
    "<br>Возможные значения для блока \"тип_параметра\":\r\n",
    "- input — параметры сырья\r\n",
    "- output — параметры продукта\r\n",
    "- state — параметры, характеризующие текущее состояние этапа\r\n",
    "- calculation — расчётные характеристики\r\n",
    "\r\n",
    "<br>**Расчёт эффективности**\r\n",
    "<br>Необходимо смоделировать процесс восстановления золота из золотосодержащей руды.\r\n",
    "<br>Эффективност ь обога*100 ения расстся по формуле\r\n",
    "\r\n",
    "$$\r\n",
    "Recovery = C*(F-T) / F*(C-T) * 100%\r\n",
    "$$\r\n",
    "\r\n",
    "<br>где:\r\n",
    "- C — доля золота в концентрате после флотации/очистки;\r\n",
    "- F — доля золота в сырье/концентрате до флотации/очистки;\r\n",
    "- T — доля золота в отвальных хвостах после флотации/очистки.\r\n",
    "\r\n",
    "<br>Для прогноза коэффициента нужно найти долю золота в концентратах и хвостах. Причём важен не только финальный продукт, но и черновой концентрат.\r\n"
   ]
  },
  {
   "cell_type": "markdown",
   "metadata": {},
   "source": [
    "## Подготовка данных"
   ]
  },
  {
   "cell_type": "markdown",
   "metadata": {},
   "source": [
    "### Загрузка данных"
   ]
  },
  {
   "cell_type": "markdown",
   "metadata": {},
   "source": [
    "#### Откроем файлы"
   ]
  },
  {
   "cell_type": "code",
   "execution_count": 1,
   "metadata": {},
   "outputs": [],
   "source": [
    "import pandas as pd\n",
    "import matplotlib.pyplot as plt\n",
    "import seaborn as sns\n",
    "import numpy as np\n",
    "#Сверка распределений\n",
    "from scipy import stats as st\n",
    "#Масштабирование\n",
    "from sklearn.preprocessing import StandardScaler\n",
    "#Модели\n",
    "from sklearn.linear_model import LinearRegression\n",
    "from sklearn.tree import DecisionTreeRegressor\n",
    "from sklearn.dummy import DummyRegressor\n",
    "#Кросс-валидация и скоринг\n",
    "from sklearn.model_selection import cross_val_score, GridSearchCV, train_test_split\n",
    "from sklearn.metrics import mean_absolute_error, make_scorer\n"
   ]
  },
  {
   "cell_type": "markdown",
   "metadata": {},
   "source": [
    "Определим random_state для всего проекта:"
   ]
  },
  {
   "cell_type": "code",
   "execution_count": 2,
   "metadata": {},
   "outputs": [],
   "source": [
    "p_random_state=12345"
   ]
  },
  {
   "cell_type": "code",
   "execution_count": 3,
   "metadata": {},
   "outputs": [],
   "source": [
    "dtrain = pd.read_csv('.../gold_industry_train.csv')\n",
    "dtest = pd.read_csv('...gold_industry_test.csv')\n",
    "dfull = pd.read_csv('.../gold_industry_full.csv')"
   ]
  },
  {
   "cell_type": "markdown",
   "metadata": {},
   "source": [
    "Рассмотрим количество строк и колонок"
   ]
  },
  {
   "cell_type": "code",
   "execution_count": 4,
   "metadata": {},
   "outputs": [
    {
     "name": "stdout",
     "output_type": "stream",
     "text": [
      "(14579, 87)\n",
      "(4860, 53)\n",
      "(19439, 87)\n"
     ]
    }
   ],
   "source": [
    "print(dtrain.shape)\n",
    "print(dtest.shape)\n",
    "print(dfull.shape)"
   ]
  },
  {
   "cell_type": "markdown",
   "metadata": {},
   "source": [
    "Видим:\n",
    "- разное количество колонок в тренировочном/полном наборе данных и в тестовом\n",
    "- количество строк в полном наборе совпадает с суммой строк в обучающем и тестовом наборе данных.\n",
    "\n",
    "<br>Рассмотрим визуально данные:"
   ]
  },
  {
   "cell_type": "code",
   "execution_count": 5,
   "metadata": {
    "scrolled": true
   },
   "outputs": [
    {
     "data": {
      "text/html": [
       "<div>\n",
       "<style scoped>\n",
       "    .dataframe tbody tr th:only-of-type {\n",
       "        vertical-align: middle;\n",
       "    }\n",
       "\n",
       "    .dataframe tbody tr th {\n",
       "        vertical-align: top;\n",
       "    }\n",
       "\n",
       "    .dataframe thead th {\n",
       "        text-align: right;\n",
       "    }\n",
       "</style>\n",
       "<table border=\"1\" class=\"dataframe\">\n",
       "  <thead>\n",
       "    <tr style=\"text-align: right;\">\n",
       "      <th></th>\n",
       "      <th>date</th>\n",
       "      <th>rougher.input.feed_au</th>\n",
       "      <th>rougher.input.feed_ag</th>\n",
       "      <th>rougher.input.feed_pb</th>\n",
       "      <th>rougher.input.feed_sol</th>\n",
       "      <th>rougher.input.feed_rate</th>\n",
       "      <th>rougher.input.feed_size</th>\n",
       "      <th>rougher.input.floatbank10_sulfate</th>\n",
       "      <th>rougher.input.floatbank10_xanthate</th>\n",
       "      <th>rougher.state.floatbank10_a_air</th>\n",
       "      <th>...</th>\n",
       "      <th>secondary_cleaner.output.tail_sol</th>\n",
       "      <th>final.output.concentrate_au</th>\n",
       "      <th>final.output.concentrate_ag</th>\n",
       "      <th>final.output.concentrate_pb</th>\n",
       "      <th>final.output.concentrate_sol</th>\n",
       "      <th>final.output.recovery</th>\n",
       "      <th>final.output.tail_au</th>\n",
       "      <th>final.output.tail_ag</th>\n",
       "      <th>final.output.tail_pb</th>\n",
       "      <th>final.output.tail_sol</th>\n",
       "    </tr>\n",
       "  </thead>\n",
       "  <tbody>\n",
       "    <tr>\n",
       "      <th>0</th>\n",
       "      <td>2016-01-15 00:00:00</td>\n",
       "      <td>6.486150</td>\n",
       "      <td>6.100378</td>\n",
       "      <td>2.284912</td>\n",
       "      <td>36.808594</td>\n",
       "      <td>523.546326</td>\n",
       "      <td>55.486599</td>\n",
       "      <td>11.986616</td>\n",
       "      <td>6.007990</td>\n",
       "      <td>999.706909</td>\n",
       "      <td>...</td>\n",
       "      <td>8.764648</td>\n",
       "      <td>42.192020</td>\n",
       "      <td>6.055403</td>\n",
       "      <td>9.889648</td>\n",
       "      <td>5.507324</td>\n",
       "      <td>70.541216</td>\n",
       "      <td>2.143149</td>\n",
       "      <td>10.411962</td>\n",
       "      <td>0.895447</td>\n",
       "      <td>16.904297</td>\n",
       "    </tr>\n",
       "    <tr>\n",
       "      <th>1</th>\n",
       "      <td>2016-01-15 01:00:00</td>\n",
       "      <td>6.478583</td>\n",
       "      <td>6.161113</td>\n",
       "      <td>2.266033</td>\n",
       "      <td>35.753385</td>\n",
       "      <td>525.290581</td>\n",
       "      <td>57.278666</td>\n",
       "      <td>11.971193</td>\n",
       "      <td>6.005766</td>\n",
       "      <td>1000.286398</td>\n",
       "      <td>...</td>\n",
       "      <td>9.001494</td>\n",
       "      <td>42.701629</td>\n",
       "      <td>6.029369</td>\n",
       "      <td>9.968944</td>\n",
       "      <td>5.257781</td>\n",
       "      <td>69.266198</td>\n",
       "      <td>2.224930</td>\n",
       "      <td>10.462676</td>\n",
       "      <td>0.927452</td>\n",
       "      <td>16.634514</td>\n",
       "    </tr>\n",
       "  </tbody>\n",
       "</table>\n",
       "<p>2 rows × 87 columns</p>\n",
       "</div>"
      ],
      "text/plain": [
       "                  date  rougher.input.feed_au  rougher.input.feed_ag  \\\n",
       "0  2016-01-15 00:00:00               6.486150               6.100378   \n",
       "1  2016-01-15 01:00:00               6.478583               6.161113   \n",
       "\n",
       "   rougher.input.feed_pb  rougher.input.feed_sol  rougher.input.feed_rate  \\\n",
       "0               2.284912               36.808594               523.546326   \n",
       "1               2.266033               35.753385               525.290581   \n",
       "\n",
       "   rougher.input.feed_size  rougher.input.floatbank10_sulfate  \\\n",
       "0                55.486599                          11.986616   \n",
       "1                57.278666                          11.971193   \n",
       "\n",
       "   rougher.input.floatbank10_xanthate  rougher.state.floatbank10_a_air  ...  \\\n",
       "0                            6.007990                       999.706909  ...   \n",
       "1                            6.005766                      1000.286398  ...   \n",
       "\n",
       "   secondary_cleaner.output.tail_sol  final.output.concentrate_au  \\\n",
       "0                           8.764648                    42.192020   \n",
       "1                           9.001494                    42.701629   \n",
       "\n",
       "   final.output.concentrate_ag  final.output.concentrate_pb  \\\n",
       "0                     6.055403                     9.889648   \n",
       "1                     6.029369                     9.968944   \n",
       "\n",
       "   final.output.concentrate_sol  final.output.recovery  final.output.tail_au  \\\n",
       "0                      5.507324              70.541216              2.143149   \n",
       "1                      5.257781              69.266198              2.224930   \n",
       "\n",
       "   final.output.tail_ag  final.output.tail_pb  final.output.tail_sol  \n",
       "0             10.411962              0.895447              16.904297  \n",
       "1             10.462676              0.927452              16.634514  \n",
       "\n",
       "[2 rows x 87 columns]"
      ]
     },
     "execution_count": 5,
     "metadata": {},
     "output_type": "execute_result"
    }
   ],
   "source": [
    "dtrain.head(2)"
   ]
  },
  {
   "cell_type": "code",
   "execution_count": 6,
   "metadata": {},
   "outputs": [
    {
     "data": {
      "text/html": [
       "<div>\n",
       "<style scoped>\n",
       "    .dataframe tbody tr th:only-of-type {\n",
       "        vertical-align: middle;\n",
       "    }\n",
       "\n",
       "    .dataframe tbody tr th {\n",
       "        vertical-align: top;\n",
       "    }\n",
       "\n",
       "    .dataframe thead th {\n",
       "        text-align: right;\n",
       "    }\n",
       "</style>\n",
       "<table border=\"1\" class=\"dataframe\">\n",
       "  <thead>\n",
       "    <tr style=\"text-align: right;\">\n",
       "      <th></th>\n",
       "      <th>date</th>\n",
       "      <th>rougher.input.feed_au</th>\n",
       "      <th>rougher.input.feed_ag</th>\n",
       "      <th>rougher.input.feed_pb</th>\n",
       "      <th>rougher.input.feed_sol</th>\n",
       "      <th>rougher.input.feed_rate</th>\n",
       "      <th>rougher.input.feed_size</th>\n",
       "      <th>rougher.input.floatbank10_sulfate</th>\n",
       "      <th>rougher.input.floatbank10_xanthate</th>\n",
       "      <th>rougher.state.floatbank10_a_air</th>\n",
       "      <th>...</th>\n",
       "      <th>secondary_cleaner.state.floatbank4_a_air</th>\n",
       "      <th>secondary_cleaner.state.floatbank4_a_level</th>\n",
       "      <th>secondary_cleaner.state.floatbank4_b_air</th>\n",
       "      <th>secondary_cleaner.state.floatbank4_b_level</th>\n",
       "      <th>secondary_cleaner.state.floatbank5_a_air</th>\n",
       "      <th>secondary_cleaner.state.floatbank5_a_level</th>\n",
       "      <th>secondary_cleaner.state.floatbank5_b_air</th>\n",
       "      <th>secondary_cleaner.state.floatbank5_b_level</th>\n",
       "      <th>secondary_cleaner.state.floatbank6_a_air</th>\n",
       "      <th>secondary_cleaner.state.floatbank6_a_level</th>\n",
       "    </tr>\n",
       "  </thead>\n",
       "  <tbody>\n",
       "    <tr>\n",
       "      <th>0</th>\n",
       "      <td>2017-12-09 14:59:59</td>\n",
       "      <td>4.365491</td>\n",
       "      <td>6.158718</td>\n",
       "      <td>3.875727</td>\n",
       "      <td>39.135119</td>\n",
       "      <td>555.820208</td>\n",
       "      <td>94.544358</td>\n",
       "      <td>6.146982</td>\n",
       "      <td>9.308612</td>\n",
       "      <td>1196.238112</td>\n",
       "      <td>...</td>\n",
       "      <td>23.018622</td>\n",
       "      <td>-500.492702</td>\n",
       "      <td>20.020205</td>\n",
       "      <td>-500.220296</td>\n",
       "      <td>17.963512</td>\n",
       "      <td>-499.939490</td>\n",
       "      <td>12.990306</td>\n",
       "      <td>-500.080993</td>\n",
       "      <td>19.990336</td>\n",
       "      <td>-499.191575</td>\n",
       "    </tr>\n",
       "    <tr>\n",
       "      <th>1</th>\n",
       "      <td>2017-12-09 15:59:59</td>\n",
       "      <td>4.362781</td>\n",
       "      <td>6.048130</td>\n",
       "      <td>3.902537</td>\n",
       "      <td>39.713906</td>\n",
       "      <td>544.731687</td>\n",
       "      <td>123.742430</td>\n",
       "      <td>6.210119</td>\n",
       "      <td>9.297709</td>\n",
       "      <td>1201.904177</td>\n",
       "      <td>...</td>\n",
       "      <td>23.024963</td>\n",
       "      <td>-501.153409</td>\n",
       "      <td>20.054122</td>\n",
       "      <td>-500.314711</td>\n",
       "      <td>17.979515</td>\n",
       "      <td>-499.272871</td>\n",
       "      <td>12.992404</td>\n",
       "      <td>-499.976268</td>\n",
       "      <td>20.013986</td>\n",
       "      <td>-500.625471</td>\n",
       "    </tr>\n",
       "  </tbody>\n",
       "</table>\n",
       "<p>2 rows × 53 columns</p>\n",
       "</div>"
      ],
      "text/plain": [
       "                  date  rougher.input.feed_au  rougher.input.feed_ag  \\\n",
       "0  2017-12-09 14:59:59               4.365491               6.158718   \n",
       "1  2017-12-09 15:59:59               4.362781               6.048130   \n",
       "\n",
       "   rougher.input.feed_pb  rougher.input.feed_sol  rougher.input.feed_rate  \\\n",
       "0               3.875727               39.135119               555.820208   \n",
       "1               3.902537               39.713906               544.731687   \n",
       "\n",
       "   rougher.input.feed_size  rougher.input.floatbank10_sulfate  \\\n",
       "0                94.544358                           6.146982   \n",
       "1               123.742430                           6.210119   \n",
       "\n",
       "   rougher.input.floatbank10_xanthate  rougher.state.floatbank10_a_air  ...  \\\n",
       "0                            9.308612                      1196.238112  ...   \n",
       "1                            9.297709                      1201.904177  ...   \n",
       "\n",
       "   secondary_cleaner.state.floatbank4_a_air  \\\n",
       "0                                 23.018622   \n",
       "1                                 23.024963   \n",
       "\n",
       "   secondary_cleaner.state.floatbank4_a_level  \\\n",
       "0                                 -500.492702   \n",
       "1                                 -501.153409   \n",
       "\n",
       "   secondary_cleaner.state.floatbank4_b_air  \\\n",
       "0                                 20.020205   \n",
       "1                                 20.054122   \n",
       "\n",
       "   secondary_cleaner.state.floatbank4_b_level  \\\n",
       "0                                 -500.220296   \n",
       "1                                 -500.314711   \n",
       "\n",
       "   secondary_cleaner.state.floatbank5_a_air  \\\n",
       "0                                 17.963512   \n",
       "1                                 17.979515   \n",
       "\n",
       "   secondary_cleaner.state.floatbank5_a_level  \\\n",
       "0                                 -499.939490   \n",
       "1                                 -499.272871   \n",
       "\n",
       "   secondary_cleaner.state.floatbank5_b_air  \\\n",
       "0                                 12.990306   \n",
       "1                                 12.992404   \n",
       "\n",
       "   secondary_cleaner.state.floatbank5_b_level  \\\n",
       "0                                 -500.080993   \n",
       "1                                 -499.976268   \n",
       "\n",
       "   secondary_cleaner.state.floatbank6_a_air  \\\n",
       "0                                 19.990336   \n",
       "1                                 20.013986   \n",
       "\n",
       "   secondary_cleaner.state.floatbank6_a_level  \n",
       "0                                 -499.191575  \n",
       "1                                 -500.625471  \n",
       "\n",
       "[2 rows x 53 columns]"
      ]
     },
     "execution_count": 6,
     "metadata": {},
     "output_type": "execute_result"
    }
   ],
   "source": [
    "dtest.head(2)"
   ]
  },
  {
   "cell_type": "code",
   "execution_count": 7,
   "metadata": {
    "scrolled": true
   },
   "outputs": [
    {
     "data": {
      "text/html": [
       "<div>\n",
       "<style scoped>\n",
       "    .dataframe tbody tr th:only-of-type {\n",
       "        vertical-align: middle;\n",
       "    }\n",
       "\n",
       "    .dataframe tbody tr th {\n",
       "        vertical-align: top;\n",
       "    }\n",
       "\n",
       "    .dataframe thead th {\n",
       "        text-align: right;\n",
       "    }\n",
       "</style>\n",
       "<table border=\"1\" class=\"dataframe\">\n",
       "  <thead>\n",
       "    <tr style=\"text-align: right;\">\n",
       "      <th></th>\n",
       "      <th>date</th>\n",
       "      <th>rougher.input.feed_au</th>\n",
       "      <th>rougher.input.feed_ag</th>\n",
       "      <th>rougher.input.feed_pb</th>\n",
       "      <th>rougher.input.feed_sol</th>\n",
       "      <th>rougher.input.feed_rate</th>\n",
       "      <th>rougher.input.feed_size</th>\n",
       "      <th>rougher.input.floatbank10_sulfate</th>\n",
       "      <th>rougher.input.floatbank10_xanthate</th>\n",
       "      <th>rougher.state.floatbank10_a_air</th>\n",
       "      <th>...</th>\n",
       "      <th>secondary_cleaner.output.tail_sol</th>\n",
       "      <th>final.output.concentrate_au</th>\n",
       "      <th>final.output.concentrate_ag</th>\n",
       "      <th>final.output.concentrate_pb</th>\n",
       "      <th>final.output.concentrate_sol</th>\n",
       "      <th>final.output.recovery</th>\n",
       "      <th>final.output.tail_au</th>\n",
       "      <th>final.output.tail_ag</th>\n",
       "      <th>final.output.tail_pb</th>\n",
       "      <th>final.output.tail_sol</th>\n",
       "    </tr>\n",
       "  </thead>\n",
       "  <tbody>\n",
       "    <tr>\n",
       "      <th>0</th>\n",
       "      <td>2016-01-15 00:00:00</td>\n",
       "      <td>6.486150</td>\n",
       "      <td>6.100378</td>\n",
       "      <td>2.284912</td>\n",
       "      <td>36.808594</td>\n",
       "      <td>523.546326</td>\n",
       "      <td>55.486599</td>\n",
       "      <td>11.986616</td>\n",
       "      <td>6.007990</td>\n",
       "      <td>999.706909</td>\n",
       "      <td>...</td>\n",
       "      <td>8.764648</td>\n",
       "      <td>42.192020</td>\n",
       "      <td>6.055403</td>\n",
       "      <td>9.889648</td>\n",
       "      <td>5.507324</td>\n",
       "      <td>70.541216</td>\n",
       "      <td>2.143149</td>\n",
       "      <td>10.411962</td>\n",
       "      <td>0.895447</td>\n",
       "      <td>16.904297</td>\n",
       "    </tr>\n",
       "    <tr>\n",
       "      <th>1</th>\n",
       "      <td>2016-01-15 01:00:00</td>\n",
       "      <td>6.478583</td>\n",
       "      <td>6.161113</td>\n",
       "      <td>2.266033</td>\n",
       "      <td>35.753385</td>\n",
       "      <td>525.290581</td>\n",
       "      <td>57.278666</td>\n",
       "      <td>11.971193</td>\n",
       "      <td>6.005766</td>\n",
       "      <td>1000.286398</td>\n",
       "      <td>...</td>\n",
       "      <td>9.001494</td>\n",
       "      <td>42.701629</td>\n",
       "      <td>6.029369</td>\n",
       "      <td>9.968944</td>\n",
       "      <td>5.257781</td>\n",
       "      <td>69.266198</td>\n",
       "      <td>2.224930</td>\n",
       "      <td>10.462676</td>\n",
       "      <td>0.927452</td>\n",
       "      <td>16.634514</td>\n",
       "    </tr>\n",
       "  </tbody>\n",
       "</table>\n",
       "<p>2 rows × 87 columns</p>\n",
       "</div>"
      ],
      "text/plain": [
       "                  date  rougher.input.feed_au  rougher.input.feed_ag  \\\n",
       "0  2016-01-15 00:00:00               6.486150               6.100378   \n",
       "1  2016-01-15 01:00:00               6.478583               6.161113   \n",
       "\n",
       "   rougher.input.feed_pb  rougher.input.feed_sol  rougher.input.feed_rate  \\\n",
       "0               2.284912               36.808594               523.546326   \n",
       "1               2.266033               35.753385               525.290581   \n",
       "\n",
       "   rougher.input.feed_size  rougher.input.floatbank10_sulfate  \\\n",
       "0                55.486599                          11.986616   \n",
       "1                57.278666                          11.971193   \n",
       "\n",
       "   rougher.input.floatbank10_xanthate  rougher.state.floatbank10_a_air  ...  \\\n",
       "0                            6.007990                       999.706909  ...   \n",
       "1                            6.005766                      1000.286398  ...   \n",
       "\n",
       "   secondary_cleaner.output.tail_sol  final.output.concentrate_au  \\\n",
       "0                           8.764648                    42.192020   \n",
       "1                           9.001494                    42.701629   \n",
       "\n",
       "   final.output.concentrate_ag  final.output.concentrate_pb  \\\n",
       "0                     6.055403                     9.889648   \n",
       "1                     6.029369                     9.968944   \n",
       "\n",
       "   final.output.concentrate_sol  final.output.recovery  final.output.tail_au  \\\n",
       "0                      5.507324              70.541216              2.143149   \n",
       "1                      5.257781              69.266198              2.224930   \n",
       "\n",
       "   final.output.tail_ag  final.output.tail_pb  final.output.tail_sol  \n",
       "0             10.411962              0.895447              16.904297  \n",
       "1             10.462676              0.927452              16.634514  \n",
       "\n",
       "[2 rows x 87 columns]"
      ]
     },
     "execution_count": 7,
     "metadata": {},
     "output_type": "execute_result"
    }
   ],
   "source": [
    "dfull.head(2)"
   ]
  },
  {
   "cell_type": "markdown",
   "metadata": {},
   "source": [
    "Данные загружены."
   ]
  },
  {
   "cell_type": "markdown",
   "metadata": {},
   "source": [
    "#### Изучим признаки"
   ]
  },
  {
   "cell_type": "markdown",
   "metadata": {},
   "source": [
    "Рассмотрим, какие признаки есть в данных:"
   ]
  },
  {
   "cell_type": "code",
   "execution_count": 8,
   "metadata": {
    "scrolled": true
   },
   "outputs": [
    {
     "name": "stdout",
     "output_type": "stream",
     "text": [
      "<class 'pandas.core.frame.DataFrame'>\n",
      "RangeIndex: 14579 entries, 0 to 14578\n",
      "Data columns (total 87 columns):\n",
      " #   Column                                              Non-Null Count  Dtype  \n",
      "---  ------                                              --------------  -----  \n",
      " 0   date                                                14579 non-null  object \n",
      " 1   rougher.input.feed_au                               14579 non-null  float64\n",
      " 2   rougher.input.feed_ag                               14579 non-null  float64\n",
      " 3   rougher.input.feed_pb                               14507 non-null  float64\n",
      " 4   rougher.input.feed_sol                              14502 non-null  float64\n",
      " 5   rougher.input.feed_rate                             14572 non-null  float64\n",
      " 6   rougher.input.feed_size                             14478 non-null  float64\n",
      " 7   rougher.input.floatbank10_sulfate                   14548 non-null  float64\n",
      " 8   rougher.input.floatbank10_xanthate                  14572 non-null  float64\n",
      " 9   rougher.state.floatbank10_a_air                     14579 non-null  float64\n",
      " 10  rougher.state.floatbank10_a_level                   14579 non-null  float64\n",
      " 11  rougher.state.floatbank10_b_air                     14579 non-null  float64\n",
      " 12  rougher.state.floatbank10_b_level                   14579 non-null  float64\n",
      " 13  rougher.state.floatbank10_c_air                     14579 non-null  float64\n",
      " 14  rougher.state.floatbank10_c_level                   14579 non-null  float64\n",
      " 15  rougher.state.floatbank10_d_air                     14579 non-null  float64\n",
      " 16  rougher.state.floatbank10_d_level                   14579 non-null  float64\n",
      " 17  rougher.state.floatbank10_e_air                     14150 non-null  float64\n",
      " 18  rougher.state.floatbank10_e_level                   14579 non-null  float64\n",
      " 19  rougher.state.floatbank10_f_air                     14579 non-null  float64\n",
      " 20  rougher.state.floatbank10_f_level                   14579 non-null  float64\n",
      " 21  rougher.input.floatbank11_sulfate                   14543 non-null  float64\n",
      " 22  rougher.input.floatbank11_xanthate                  14172 non-null  float64\n",
      " 23  rougher.calculation.sulfate_to_au_concentrate       14578 non-null  float64\n",
      " 24  rougher.calculation.floatbank10_sulfate_to_au_feed  14578 non-null  float64\n",
      " 25  rougher.calculation.floatbank11_sulfate_to_au_feed  14578 non-null  float64\n",
      " 26  rougher.calculation.au_pb_ratio                     14579 non-null  float64\n",
      " 27  rougher.output.concentrate_au                       14579 non-null  float64\n",
      " 28  rougher.output.concentrate_ag                       14579 non-null  float64\n",
      " 29  rougher.output.concentrate_pb                       14579 non-null  float64\n",
      " 30  rougher.output.concentrate_sol                      14561 non-null  float64\n",
      " 31  rougher.output.recovery                             14579 non-null  float64\n",
      " 32  rougher.output.tail_au                              14579 non-null  float64\n",
      " 33  rougher.output.tail_ag                              14578 non-null  float64\n",
      " 34  rougher.output.tail_pb                              14579 non-null  float64\n",
      " 35  rougher.output.tail_sol                             14579 non-null  float64\n",
      " 36  primary_cleaner.input.sulfate                       14556 non-null  float64\n",
      " 37  primary_cleaner.input.depressant                    14551 non-null  float64\n",
      " 38  primary_cleaner.input.feed_size                     14579 non-null  float64\n",
      " 39  primary_cleaner.input.xanthate                      14518 non-null  float64\n",
      " 40  primary_cleaner.state.floatbank8_a_air              14576 non-null  float64\n",
      " 41  primary_cleaner.state.floatbank8_a_level            14579 non-null  float64\n",
      " 42  primary_cleaner.state.floatbank8_b_air              14576 non-null  float64\n",
      " 43  primary_cleaner.state.floatbank8_b_level            14579 non-null  float64\n",
      " 44  primary_cleaner.state.floatbank8_c_air              14579 non-null  float64\n",
      " 45  primary_cleaner.state.floatbank8_c_level            14579 non-null  float64\n",
      " 46  primary_cleaner.state.floatbank8_d_air              14578 non-null  float64\n",
      " 47  primary_cleaner.state.floatbank8_d_level            14579 non-null  float64\n",
      " 48  primary_cleaner.output.concentrate_au               14579 non-null  float64\n",
      " 49  primary_cleaner.output.concentrate_ag               14579 non-null  float64\n",
      " 50  primary_cleaner.output.concentrate_pb               14491 non-null  float64\n",
      " 51  primary_cleaner.output.concentrate_sol              14314 non-null  float64\n",
      " 52  primary_cleaner.output.tail_au                      14579 non-null  float64\n",
      " 53  primary_cleaner.output.tail_ag                      14575 non-null  float64\n",
      " 54  primary_cleaner.output.tail_pb                      14573 non-null  float64\n",
      " 55  primary_cleaner.output.tail_sol                     14534 non-null  float64\n",
      " 56  secondary_cleaner.state.floatbank2_a_air            14485 non-null  float64\n",
      " 57  secondary_cleaner.state.floatbank2_a_level          14579 non-null  float64\n",
      " 58  secondary_cleaner.state.floatbank2_b_air            14557 non-null  float64\n",
      " 59  secondary_cleaner.state.floatbank2_b_level          14579 non-null  float64\n",
      " 60  secondary_cleaner.state.floatbank3_a_air            14567 non-null  float64\n",
      " 61  secondary_cleaner.state.floatbank3_a_level          14579 non-null  float64\n",
      " 62  secondary_cleaner.state.floatbank3_b_air            14579 non-null  float64\n",
      " 63  secondary_cleaner.state.floatbank3_b_level          14579 non-null  float64\n",
      " 64  secondary_cleaner.state.floatbank4_a_air            14574 non-null  float64\n",
      " 65  secondary_cleaner.state.floatbank4_a_level          14579 non-null  float64\n",
      " 66  secondary_cleaner.state.floatbank4_b_air            14579 non-null  float64\n",
      " 67  secondary_cleaner.state.floatbank4_b_level          14579 non-null  float64\n",
      " 68  secondary_cleaner.state.floatbank5_a_air            14579 non-null  float64\n",
      " 69  secondary_cleaner.state.floatbank5_a_level          14579 non-null  float64\n",
      " 70  secondary_cleaner.state.floatbank5_b_air            14579 non-null  float64\n",
      " 71  secondary_cleaner.state.floatbank5_b_level          14579 non-null  float64\n",
      " 72  secondary_cleaner.state.floatbank6_a_air            14578 non-null  float64\n",
      " 73  secondary_cleaner.state.floatbank6_a_level          14579 non-null  float64\n",
      " 74  secondary_cleaner.output.tail_au                    14579 non-null  float64\n",
      " 75  secondary_cleaner.output.tail_ag                    14578 non-null  float64\n",
      " 76  secondary_cleaner.output.tail_pb                    14575 non-null  float64\n",
      " 77  secondary_cleaner.output.tail_sol                   13659 non-null  float64\n",
      " 78  final.output.concentrate_au                         14579 non-null  float64\n",
      " 79  final.output.concentrate_ag                         14578 non-null  float64\n",
      " 80  final.output.concentrate_pb                         14578 non-null  float64\n",
      " 81  final.output.concentrate_sol                        14387 non-null  float64\n",
      " 82  final.output.recovery                               14579 non-null  float64\n",
      " 83  final.output.tail_au                                14579 non-null  float64\n",
      " 84  final.output.tail_ag                                14578 non-null  float64\n",
      " 85  final.output.tail_pb                                14504 non-null  float64\n",
      " 86  final.output.tail_sol                               14574 non-null  float64\n",
      "dtypes: float64(86), object(1)\n",
      "memory usage: 9.7+ MB\n"
     ]
    }
   ],
   "source": [
    "dtrain.info()"
   ]
  },
  {
   "cell_type": "code",
   "execution_count": 9,
   "metadata": {
    "scrolled": true
   },
   "outputs": [
    {
     "name": "stdout",
     "output_type": "stream",
     "text": [
      "<class 'pandas.core.frame.DataFrame'>\n",
      "RangeIndex: 4860 entries, 0 to 4859\n",
      "Data columns (total 53 columns):\n",
      " #   Column                                      Non-Null Count  Dtype  \n",
      "---  ------                                      --------------  -----  \n",
      " 0   date                                        4860 non-null   object \n",
      " 1   rougher.input.feed_au                       4860 non-null   float64\n",
      " 2   rougher.input.feed_ag                       4860 non-null   float64\n",
      " 3   rougher.input.feed_pb                       4832 non-null   float64\n",
      " 4   rougher.input.feed_sol                      4838 non-null   float64\n",
      " 5   rougher.input.feed_rate                     4856 non-null   float64\n",
      " 6   rougher.input.feed_size                     4816 non-null   float64\n",
      " 7   rougher.input.floatbank10_sulfate           4857 non-null   float64\n",
      " 8   rougher.input.floatbank10_xanthate          4859 non-null   float64\n",
      " 9   rougher.state.floatbank10_a_air             4859 non-null   float64\n",
      " 10  rougher.state.floatbank10_a_level           4859 non-null   float64\n",
      " 11  rougher.state.floatbank10_b_air             4859 non-null   float64\n",
      " 12  rougher.state.floatbank10_b_level           4859 non-null   float64\n",
      " 13  rougher.state.floatbank10_c_air             4859 non-null   float64\n",
      " 14  rougher.state.floatbank10_c_level           4859 non-null   float64\n",
      " 15  rougher.state.floatbank10_d_air             4860 non-null   float64\n",
      " 16  rougher.state.floatbank10_d_level           4860 non-null   float64\n",
      " 17  rougher.state.floatbank10_e_air             4853 non-null   float64\n",
      " 18  rougher.state.floatbank10_e_level           4860 non-null   float64\n",
      " 19  rougher.state.floatbank10_f_air             4860 non-null   float64\n",
      " 20  rougher.state.floatbank10_f_level           4860 non-null   float64\n",
      " 21  rougher.input.floatbank11_sulfate           4852 non-null   float64\n",
      " 22  rougher.input.floatbank11_xanthate          4814 non-null   float64\n",
      " 23  primary_cleaner.input.sulfate               4859 non-null   float64\n",
      " 24  primary_cleaner.input.depressant            4851 non-null   float64\n",
      " 25  primary_cleaner.input.feed_size             4860 non-null   float64\n",
      " 26  primary_cleaner.input.xanthate              4817 non-null   float64\n",
      " 27  primary_cleaner.state.floatbank8_a_air      4859 non-null   float64\n",
      " 28  primary_cleaner.state.floatbank8_a_level    4859 non-null   float64\n",
      " 29  primary_cleaner.state.floatbank8_b_air      4859 non-null   float64\n",
      " 30  primary_cleaner.state.floatbank8_b_level    4859 non-null   float64\n",
      " 31  primary_cleaner.state.floatbank8_c_air      4858 non-null   float64\n",
      " 32  primary_cleaner.state.floatbank8_c_level    4859 non-null   float64\n",
      " 33  primary_cleaner.state.floatbank8_d_air      4858 non-null   float64\n",
      " 34  primary_cleaner.state.floatbank8_d_level    4859 non-null   float64\n",
      " 35  secondary_cleaner.state.floatbank2_a_air    4734 non-null   float64\n",
      " 36  secondary_cleaner.state.floatbank2_a_level  4859 non-null   float64\n",
      " 37  secondary_cleaner.state.floatbank2_b_air    4859 non-null   float64\n",
      " 38  secondary_cleaner.state.floatbank2_b_level  4859 non-null   float64\n",
      " 39  secondary_cleaner.state.floatbank3_a_air    4859 non-null   float64\n",
      " 40  secondary_cleaner.state.floatbank3_a_level  4859 non-null   float64\n",
      " 41  secondary_cleaner.state.floatbank3_b_air    4859 non-null   float64\n",
      " 42  secondary_cleaner.state.floatbank3_b_level  4859 non-null   float64\n",
      " 43  secondary_cleaner.state.floatbank4_a_air    4859 non-null   float64\n",
      " 44  secondary_cleaner.state.floatbank4_a_level  4859 non-null   float64\n",
      " 45  secondary_cleaner.state.floatbank4_b_air    4859 non-null   float64\n",
      " 46  secondary_cleaner.state.floatbank4_b_level  4859 non-null   float64\n",
      " 47  secondary_cleaner.state.floatbank5_a_air    4859 non-null   float64\n",
      " 48  secondary_cleaner.state.floatbank5_a_level  4859 non-null   float64\n",
      " 49  secondary_cleaner.state.floatbank5_b_air    4859 non-null   float64\n",
      " 50  secondary_cleaner.state.floatbank5_b_level  4859 non-null   float64\n",
      " 51  secondary_cleaner.state.floatbank6_a_air    4859 non-null   float64\n",
      " 52  secondary_cleaner.state.floatbank6_a_level  4859 non-null   float64\n",
      "dtypes: float64(52), object(1)\n",
      "memory usage: 2.0+ MB\n"
     ]
    }
   ],
   "source": [
    "dtest.info()"
   ]
  },
  {
   "cell_type": "code",
   "execution_count": 10,
   "metadata": {
    "scrolled": true
   },
   "outputs": [
    {
     "name": "stdout",
     "output_type": "stream",
     "text": [
      "<class 'pandas.core.frame.DataFrame'>\n",
      "RangeIndex: 19439 entries, 0 to 19438\n",
      "Data columns (total 87 columns):\n",
      " #   Column                                              Non-Null Count  Dtype  \n",
      "---  ------                                              --------------  -----  \n",
      " 0   date                                                19439 non-null  object \n",
      " 1   rougher.input.feed_au                               19439 non-null  float64\n",
      " 2   rougher.input.feed_ag                               19439 non-null  float64\n",
      " 3   rougher.input.feed_pb                               19339 non-null  float64\n",
      " 4   rougher.input.feed_sol                              19340 non-null  float64\n",
      " 5   rougher.input.feed_rate                             19428 non-null  float64\n",
      " 6   rougher.input.feed_size                             19294 non-null  float64\n",
      " 7   rougher.input.floatbank10_sulfate                   19405 non-null  float64\n",
      " 8   rougher.input.floatbank10_xanthate                  19431 non-null  float64\n",
      " 9   rougher.state.floatbank10_a_air                     19438 non-null  float64\n",
      " 10  rougher.state.floatbank10_a_level                   19438 non-null  float64\n",
      " 11  rougher.state.floatbank10_b_air                     19438 non-null  float64\n",
      " 12  rougher.state.floatbank10_b_level                   19438 non-null  float64\n",
      " 13  rougher.state.floatbank10_c_air                     19438 non-null  float64\n",
      " 14  rougher.state.floatbank10_c_level                   19438 non-null  float64\n",
      " 15  rougher.state.floatbank10_d_air                     19439 non-null  float64\n",
      " 16  rougher.state.floatbank10_d_level                   19439 non-null  float64\n",
      " 17  rougher.state.floatbank10_e_air                     19003 non-null  float64\n",
      " 18  rougher.state.floatbank10_e_level                   19439 non-null  float64\n",
      " 19  rougher.state.floatbank10_f_air                     19439 non-null  float64\n",
      " 20  rougher.state.floatbank10_f_level                   19439 non-null  float64\n",
      " 21  rougher.input.floatbank11_sulfate                   19395 non-null  float64\n",
      " 22  rougher.input.floatbank11_xanthate                  18986 non-null  float64\n",
      " 23  rougher.calculation.sulfate_to_au_concentrate       19437 non-null  float64\n",
      " 24  rougher.calculation.floatbank10_sulfate_to_au_feed  19437 non-null  float64\n",
      " 25  rougher.calculation.floatbank11_sulfate_to_au_feed  19437 non-null  float64\n",
      " 26  rougher.calculation.au_pb_ratio                     19439 non-null  float64\n",
      " 27  rougher.output.concentrate_au                       19439 non-null  float64\n",
      " 28  rougher.output.concentrate_ag                       19439 non-null  float64\n",
      " 29  rougher.output.concentrate_pb                       19439 non-null  float64\n",
      " 30  rougher.output.concentrate_sol                      19416 non-null  float64\n",
      " 31  rougher.output.recovery                             19439 non-null  float64\n",
      " 32  rougher.output.tail_au                              19439 non-null  float64\n",
      " 33  rougher.output.tail_ag                              19438 non-null  float64\n",
      " 34  rougher.output.tail_pb                              19439 non-null  float64\n",
      " 35  rougher.output.tail_sol                             19439 non-null  float64\n",
      " 36  primary_cleaner.input.sulfate                       19415 non-null  float64\n",
      " 37  primary_cleaner.input.depressant                    19402 non-null  float64\n",
      " 38  primary_cleaner.input.feed_size                     19439 non-null  float64\n",
      " 39  primary_cleaner.input.xanthate                      19335 non-null  float64\n",
      " 40  primary_cleaner.state.floatbank8_a_air              19435 non-null  float64\n",
      " 41  primary_cleaner.state.floatbank8_a_level            19438 non-null  float64\n",
      " 42  primary_cleaner.state.floatbank8_b_air              19435 non-null  float64\n",
      " 43  primary_cleaner.state.floatbank8_b_level            19438 non-null  float64\n",
      " 44  primary_cleaner.state.floatbank8_c_air              19437 non-null  float64\n",
      " 45  primary_cleaner.state.floatbank8_c_level            19438 non-null  float64\n",
      " 46  primary_cleaner.state.floatbank8_d_air              19436 non-null  float64\n",
      " 47  primary_cleaner.state.floatbank8_d_level            19438 non-null  float64\n",
      " 48  primary_cleaner.output.concentrate_au               19439 non-null  float64\n",
      " 49  primary_cleaner.output.concentrate_ag               19439 non-null  float64\n",
      " 50  primary_cleaner.output.concentrate_pb               19323 non-null  float64\n",
      " 51  primary_cleaner.output.concentrate_sol              19069 non-null  float64\n",
      " 52  primary_cleaner.output.tail_au                      19439 non-null  float64\n",
      " 53  primary_cleaner.output.tail_ag                      19435 non-null  float64\n",
      " 54  primary_cleaner.output.tail_pb                      19418 non-null  float64\n",
      " 55  primary_cleaner.output.tail_sol                     19377 non-null  float64\n",
      " 56  secondary_cleaner.state.floatbank2_a_air            19219 non-null  float64\n",
      " 57  secondary_cleaner.state.floatbank2_a_level          19438 non-null  float64\n",
      " 58  secondary_cleaner.state.floatbank2_b_air            19416 non-null  float64\n",
      " 59  secondary_cleaner.state.floatbank2_b_level          19438 non-null  float64\n",
      " 60  secondary_cleaner.state.floatbank3_a_air            19426 non-null  float64\n",
      " 61  secondary_cleaner.state.floatbank3_a_level          19438 non-null  float64\n",
      " 62  secondary_cleaner.state.floatbank3_b_air            19438 non-null  float64\n",
      " 63  secondary_cleaner.state.floatbank3_b_level          19438 non-null  float64\n",
      " 64  secondary_cleaner.state.floatbank4_a_air            19433 non-null  float64\n",
      " 65  secondary_cleaner.state.floatbank4_a_level          19438 non-null  float64\n",
      " 66  secondary_cleaner.state.floatbank4_b_air            19438 non-null  float64\n",
      " 67  secondary_cleaner.state.floatbank4_b_level          19438 non-null  float64\n",
      " 68  secondary_cleaner.state.floatbank5_a_air            19438 non-null  float64\n",
      " 69  secondary_cleaner.state.floatbank5_a_level          19438 non-null  float64\n",
      " 70  secondary_cleaner.state.floatbank5_b_air            19438 non-null  float64\n",
      " 71  secondary_cleaner.state.floatbank5_b_level          19438 non-null  float64\n",
      " 72  secondary_cleaner.state.floatbank6_a_air            19437 non-null  float64\n",
      " 73  secondary_cleaner.state.floatbank6_a_level          19438 non-null  float64\n",
      " 74  secondary_cleaner.output.tail_au                    19439 non-null  float64\n",
      " 75  secondary_cleaner.output.tail_ag                    19437 non-null  float64\n",
      " 76  secondary_cleaner.output.tail_pb                    19427 non-null  float64\n",
      " 77  secondary_cleaner.output.tail_sol                   17691 non-null  float64\n",
      " 78  final.output.concentrate_au                         19439 non-null  float64\n",
      " 79  final.output.concentrate_ag                         19438 non-null  float64\n",
      " 80  final.output.concentrate_pb                         19438 non-null  float64\n",
      " 81  final.output.concentrate_sol                        19228 non-null  float64\n",
      " 82  final.output.recovery                               19439 non-null  float64\n",
      " 83  final.output.tail_au                                19439 non-null  float64\n",
      " 84  final.output.tail_ag                                19438 non-null  float64\n",
      " 85  final.output.tail_pb                                19338 non-null  float64\n",
      " 86  final.output.tail_sol                               19433 non-null  float64\n",
      "dtypes: float64(86), object(1)\n",
      "memory usage: 12.9+ MB\n"
     ]
    }
   ],
   "source": [
    "dfull.info()"
   ]
  },
  {
   "cell_type": "markdown",
   "metadata": {},
   "source": [
    "**Вывод:**\n",
    "- Очень много различных признаков, но их логика в целом понятна и соответствует описанию: [этап].[тип_параметра].[название_параметра]\n",
    "- большинство колонок типа float\n",
    "- колонка date в формате object - необходимо будет конвертировать в datetime\n",
    "- dtrain: обучающий набор данных содержит 14579 строк и 87 колонок\n",
    "- dtest: тестовый набор колонок содержит 4860  строк и 53 колонки\n",
    "- dfull: полный набор данных содержит 19439 срок и 87 колонок\n",
    "- количество строк в полном наборе совпадает с суммой строк в обучающем и тестовом наборе данных. Но количество колонок отличается.\n"
   ]
  },
  {
   "cell_type": "markdown",
   "metadata": {},
   "source": [
    "### Проверим эффективность обогащения (recovery)"
   ]
  },
  {
   "cell_type": "markdown",
   "metadata": {},
   "source": [
    "Проверим, что показатели эффективности обогащения (rougher.output.recovery, final.output.recovery) рассчитаны правильно.\n",
    "<br>Эффективность обогащения рассчитывается по формуле:\n",
    "<br>**Recovery = 100% * C*(F-T) / F*(C-T)**, где\n",
    "- С - доля золота в концентрате ПОСЛЕ флотации/очистки \n",
    "- F - доля золота в сырье/концентрате ДО флотации/очистки \n",
    "- T - доля золота в отвальных ХВОСТАХ после флотации/очистки\n",
    "    \n",
    "<br> Переведем это в термины столбцов из имеющихся данных для процесса флотации:\n",
    "- Recovery = rougher.output.recovery (эффективность обогащения)\n",
    "- C - rougher.output.concentrate_au (доля золота после флотации)\n",
    "- F - rougher.input.feed_au (доля золота до флотации)\n",
    "- T - rougher.output.tail_au (доля золота в отвальных хвостах после флотации)\n"
   ]
  },
  {
   "cell_type": "code",
   "execution_count": 11,
   "metadata": {},
   "outputs": [
    {
     "name": "stdout",
     "output_type": "stream",
     "text": [
      "   rougher.output.recovery  rougher.output.recovery_calc\n",
      "0                87.107763                     87.107763\n",
      "1                86.843261                     86.843261\n",
      "2                86.842308                     86.842308\n",
      "3                87.226430                     87.226430\n",
      "4                86.688794                     86.688794\n"
     ]
    },
    {
     "data": {
      "text/plain": [
       "8973"
      ]
     },
     "execution_count": 11,
     "metadata": {},
     "output_type": "execute_result"
    }
   ],
   "source": [
    "#Проверим показатель Recovery для процесса флотации:\n",
    "dtrain['rougher.output.recovery_calc'] = 100*dtrain['rougher.output.concentrate_au'] *(dtrain['rougher.input.feed_au']-dtrain['rougher.output.tail_au'])/\\\n",
    "(dtrain['rougher.input.feed_au'] * (dtrain['rougher.output.concentrate_au']-dtrain['rougher.output.tail_au']))\n",
    "print(dtrain[['rougher.output.recovery','rougher.output.recovery_calc']].head(5))\n",
    "dtrain[dtrain['rougher.output.recovery']!=dtrain['rougher.output.recovery_calc']]['date'].count()"
   ]
  },
  {
   "cell_type": "markdown",
   "metadata": {},
   "source": [
    "Видим, что  8973 значения отличаются. Посмотрим, что это за строки:"
   ]
  },
  {
   "cell_type": "code",
   "execution_count": 12,
   "metadata": {},
   "outputs": [
    {
     "data": {
      "text/html": [
       "<div>\n",
       "<style scoped>\n",
       "    .dataframe tbody tr th:only-of-type {\n",
       "        vertical-align: middle;\n",
       "    }\n",
       "\n",
       "    .dataframe tbody tr th {\n",
       "        vertical-align: top;\n",
       "    }\n",
       "\n",
       "    .dataframe thead th {\n",
       "        text-align: right;\n",
       "    }\n",
       "</style>\n",
       "<table border=\"1\" class=\"dataframe\">\n",
       "  <thead>\n",
       "    <tr style=\"text-align: right;\">\n",
       "      <th></th>\n",
       "      <th>rougher.output.recovery</th>\n",
       "      <th>rougher.output.recovery_calc</th>\n",
       "    </tr>\n",
       "  </thead>\n",
       "  <tbody>\n",
       "    <tr>\n",
       "      <th>1</th>\n",
       "      <td>86.843261</td>\n",
       "      <td>86.843261</td>\n",
       "    </tr>\n",
       "    <tr>\n",
       "      <th>2</th>\n",
       "      <td>86.842308</td>\n",
       "      <td>86.842308</td>\n",
       "    </tr>\n",
       "    <tr>\n",
       "      <th>6</th>\n",
       "      <td>88.168065</td>\n",
       "      <td>88.168065</td>\n",
       "    </tr>\n",
       "  </tbody>\n",
       "</table>\n",
       "</div>"
      ],
      "text/plain": [
       "   rougher.output.recovery  rougher.output.recovery_calc\n",
       "1                86.843261                     86.843261\n",
       "2                86.842308                     86.842308\n",
       "6                88.168065                     88.168065"
      ]
     },
     "execution_count": 12,
     "metadata": {},
     "output_type": "execute_result"
    }
   ],
   "source": [
    "dtrain.loc[dtrain['rougher.output.recovery']!=dtrain['rougher.output.recovery_calc'],['rougher.output.recovery','rougher.output.recovery_calc']].head(3)"
   ]
  },
  {
   "cell_type": "markdown",
   "metadata": {},
   "source": [
    "Видмим, что значения кажутся одинаковыми. Но, скорее всего, pandas отображет только часть данных. Поэтому для строки с индексом 1 выведем оба значения по отдельности и посмотрим"
   ]
  },
  {
   "cell_type": "code",
   "execution_count": 13,
   "metadata": {},
   "outputs": [
    {
     "name": "stdout",
     "output_type": "stream",
     "text": [
      "86.84326050586624\n",
      "86.84326050586625\n"
     ]
    }
   ],
   "source": [
    "print(dtrain.loc[1,'rougher.output.recovery'])\n",
    "print(dtrain.loc[1,'rougher.output.recovery_calc'])"
   ]
  },
  {
   "cell_type": "markdown",
   "metadata": {},
   "source": [
    "Отличие в последнем знаке. Получается, проблема в точности расчета.\n",
    "<br>Посчитаем разницу между колонками и посмотрим на распределение этой разницы:"
   ]
  },
  {
   "cell_type": "code",
   "execution_count": 14,
   "metadata": {},
   "outputs": [
    {
     "name": "stdout",
     "output_type": "stream",
     "text": [
      "MAE = 1.1583725420138659e-14\n"
     ]
    },
    {
     "data": {
      "text/plain": [
       "<Axes: >"
      ]
     },
     "execution_count": 14,
     "metadata": {},
     "output_type": "execute_result"
    },
    {
     "data": {
      "image/png": "[encoded data removed]",
      "text/plain": [
       "<Figure size 640x480 with 1 Axes>"
      ]
     },
     "metadata": {},
     "output_type": "display_data"
    }
   ],
   "source": [
    "dtrain['diff'] = dtrain['rougher.output.recovery'] - dtrain['rougher.output.recovery_calc']\n",
    "print('MAE =',mean_absolute_error(dtrain['rougher.output.recovery'] , dtrain['rougher.output.recovery_calc']) )\n",
    "dtrain[dtrain['diff']!=0]['diff'].hist()"
   ]
  },
  {
   "cell_type": "markdown",
   "metadata": {},
   "source": [
    "Таким образом, среднее абсолютное отклонение (МАЕ) составляет 1,1* 10^(-14), то есть ошбика происходит в среднем в 14м знаке после запятой (в последнем знаке). Так как рассчитанный нами показатель отличается от исходного на такое малое значение, то оставим эти данные \"как есть\"."
   ]
  },
  {
   "cell_type": "markdown",
   "metadata": {},
   "source": [
    "Удалим колонки diff и rougher.output.recovery_calc."
   ]
  },
  {
   "cell_type": "code",
   "execution_count": 15,
   "metadata": {},
   "outputs": [],
   "source": [
    "dtrain = dtrain.drop(['diff','rougher.output.recovery_calc'],axis=1)"
   ]
  },
  {
   "cell_type": "markdown",
   "metadata": {},
   "source": [
    "### Анализ тестовой выборки"
   ]
  },
  {
   "cell_type": "markdown",
   "metadata": {},
   "source": [
    "#### Проанализируем отсутствующие колонки"
   ]
  },
  {
   "cell_type": "markdown",
   "metadata": {},
   "source": [
    "Проанализируем признаки, которые имеются в обучающей выборке, но недоступны в тестовой."
   ]
  },
  {
   "cell_type": "code",
   "execution_count": 16,
   "metadata": {},
   "outputs": [
    {
     "data": {
      "text/html": [
       "<div>\n",
       "<style scoped>\n",
       "    .dataframe tbody tr th:only-of-type {\n",
       "        vertical-align: middle;\n",
       "    }\n",
       "\n",
       "    .dataframe tbody tr th {\n",
       "        vertical-align: top;\n",
       "    }\n",
       "\n",
       "    .dataframe thead th {\n",
       "        text-align: right;\n",
       "    }\n",
       "</style>\n",
       "<table border=\"1\" class=\"dataframe\">\n",
       "  <thead>\n",
       "    <tr style=\"text-align: right;\">\n",
       "      <th></th>\n",
       "      <th>dtrain_columns</th>\n",
       "      <th>dtest_columns</th>\n",
       "      <th>dfull_columns</th>\n",
       "    </tr>\n",
       "  </thead>\n",
       "  <tbody>\n",
       "    <tr>\n",
       "      <th>rougher.calculation.sulfate_to_au_concentrate</th>\n",
       "      <td>rougher.calculation.sulfate_to_au_concentrate</td>\n",
       "      <td>NaN</td>\n",
       "      <td>rougher.calculation.sulfate_to_au_concentrate</td>\n",
       "    </tr>\n",
       "    <tr>\n",
       "      <th>rougher.calculation.floatbank10_sulfate_to_au_feed</th>\n",
       "      <td>rougher.calculation.floatbank10_sulfate_to_au_...</td>\n",
       "      <td>NaN</td>\n",
       "      <td>rougher.calculation.floatbank10_sulfate_to_au_...</td>\n",
       "    </tr>\n",
       "    <tr>\n",
       "      <th>rougher.calculation.floatbank11_sulfate_to_au_feed</th>\n",
       "      <td>rougher.calculation.floatbank11_sulfate_to_au_...</td>\n",
       "      <td>NaN</td>\n",
       "      <td>rougher.calculation.floatbank11_sulfate_to_au_...</td>\n",
       "    </tr>\n",
       "    <tr>\n",
       "      <th>rougher.calculation.au_pb_ratio</th>\n",
       "      <td>rougher.calculation.au_pb_ratio</td>\n",
       "      <td>NaN</td>\n",
       "      <td>rougher.calculation.au_pb_ratio</td>\n",
       "    </tr>\n",
       "    <tr>\n",
       "      <th>rougher.output.concentrate_au</th>\n",
       "      <td>rougher.output.concentrate_au</td>\n",
       "      <td>NaN</td>\n",
       "      <td>rougher.output.concentrate_au</td>\n",
       "    </tr>\n",
       "    <tr>\n",
       "      <th>rougher.output.concentrate_ag</th>\n",
       "      <td>rougher.output.concentrate_ag</td>\n",
       "      <td>NaN</td>\n",
       "      <td>rougher.output.concentrate_ag</td>\n",
       "    </tr>\n",
       "    <tr>\n",
       "      <th>rougher.output.concentrate_pb</th>\n",
       "      <td>rougher.output.concentrate_pb</td>\n",
       "      <td>NaN</td>\n",
       "      <td>rougher.output.concentrate_pb</td>\n",
       "    </tr>\n",
       "    <tr>\n",
       "      <th>rougher.output.concentrate_sol</th>\n",
       "      <td>rougher.output.concentrate_sol</td>\n",
       "      <td>NaN</td>\n",
       "      <td>rougher.output.concentrate_sol</td>\n",
       "    </tr>\n",
       "    <tr>\n",
       "      <th>rougher.output.recovery</th>\n",
       "      <td>rougher.output.recovery</td>\n",
       "      <td>NaN</td>\n",
       "      <td>rougher.output.recovery</td>\n",
       "    </tr>\n",
       "    <tr>\n",
       "      <th>rougher.output.tail_au</th>\n",
       "      <td>rougher.output.tail_au</td>\n",
       "      <td>NaN</td>\n",
       "      <td>rougher.output.tail_au</td>\n",
       "    </tr>\n",
       "    <tr>\n",
       "      <th>rougher.output.tail_ag</th>\n",
       "      <td>rougher.output.tail_ag</td>\n",
       "      <td>NaN</td>\n",
       "      <td>rougher.output.tail_ag</td>\n",
       "    </tr>\n",
       "    <tr>\n",
       "      <th>rougher.output.tail_pb</th>\n",
       "      <td>rougher.output.tail_pb</td>\n",
       "      <td>NaN</td>\n",
       "      <td>rougher.output.tail_pb</td>\n",
       "    </tr>\n",
       "    <tr>\n",
       "      <th>rougher.output.tail_sol</th>\n",
       "      <td>rougher.output.tail_sol</td>\n",
       "      <td>NaN</td>\n",
       "      <td>rougher.output.tail_sol</td>\n",
       "    </tr>\n",
       "    <tr>\n",
       "      <th>primary_cleaner.output.concentrate_au</th>\n",
       "      <td>primary_cleaner.output.concentrate_au</td>\n",
       "      <td>NaN</td>\n",
       "      <td>primary_cleaner.output.concentrate_au</td>\n",
       "    </tr>\n",
       "    <tr>\n",
       "      <th>primary_cleaner.output.concentrate_ag</th>\n",
       "      <td>primary_cleaner.output.concentrate_ag</td>\n",
       "      <td>NaN</td>\n",
       "      <td>primary_cleaner.output.concentrate_ag</td>\n",
       "    </tr>\n",
       "    <tr>\n",
       "      <th>primary_cleaner.output.concentrate_pb</th>\n",
       "      <td>primary_cleaner.output.concentrate_pb</td>\n",
       "      <td>NaN</td>\n",
       "      <td>primary_cleaner.output.concentrate_pb</td>\n",
       "    </tr>\n",
       "    <tr>\n",
       "      <th>primary_cleaner.output.concentrate_sol</th>\n",
       "      <td>primary_cleaner.output.concentrate_sol</td>\n",
       "      <td>NaN</td>\n",
       "      <td>primary_cleaner.output.concentrate_sol</td>\n",
       "    </tr>\n",
       "    <tr>\n",
       "      <th>primary_cleaner.output.tail_au</th>\n",
       "      <td>primary_cleaner.output.tail_au</td>\n",
       "      <td>NaN</td>\n",
       "      <td>primary_cleaner.output.tail_au</td>\n",
       "    </tr>\n",
       "    <tr>\n",
       "      <th>primary_cleaner.output.tail_ag</th>\n",
       "      <td>primary_cleaner.output.tail_ag</td>\n",
       "      <td>NaN</td>\n",
       "      <td>primary_cleaner.output.tail_ag</td>\n",
       "    </tr>\n",
       "    <tr>\n",
       "      <th>primary_cleaner.output.tail_pb</th>\n",
       "      <td>primary_cleaner.output.tail_pb</td>\n",
       "      <td>NaN</td>\n",
       "      <td>primary_cleaner.output.tail_pb</td>\n",
       "    </tr>\n",
       "    <tr>\n",
       "      <th>primary_cleaner.output.tail_sol</th>\n",
       "      <td>primary_cleaner.output.tail_sol</td>\n",
       "      <td>NaN</td>\n",
       "      <td>primary_cleaner.output.tail_sol</td>\n",
       "    </tr>\n",
       "    <tr>\n",
       "      <th>secondary_cleaner.output.tail_au</th>\n",
       "      <td>secondary_cleaner.output.tail_au</td>\n",
       "      <td>NaN</td>\n",
       "      <td>secondary_cleaner.output.tail_au</td>\n",
       "    </tr>\n",
       "    <tr>\n",
       "      <th>secondary_cleaner.output.tail_ag</th>\n",
       "      <td>secondary_cleaner.output.tail_ag</td>\n",
       "      <td>NaN</td>\n",
       "      <td>secondary_cleaner.output.tail_ag</td>\n",
       "    </tr>\n",
       "    <tr>\n",
       "      <th>secondary_cleaner.output.tail_pb</th>\n",
       "      <td>secondary_cleaner.output.tail_pb</td>\n",
       "      <td>NaN</td>\n",
       "      <td>secondary_cleaner.output.tail_pb</td>\n",
       "    </tr>\n",
       "    <tr>\n",
       "      <th>secondary_cleaner.output.tail_sol</th>\n",
       "      <td>secondary_cleaner.output.tail_sol</td>\n",
       "      <td>NaN</td>\n",
       "      <td>secondary_cleaner.output.tail_sol</td>\n",
       "    </tr>\n",
       "    <tr>\n",
       "      <th>final.output.concentrate_au</th>\n",
       "      <td>final.output.concentrate_au</td>\n",
       "      <td>NaN</td>\n",
       "      <td>final.output.concentrate_au</td>\n",
       "    </tr>\n",
       "    <tr>\n",
       "      <th>final.output.concentrate_ag</th>\n",
       "      <td>final.output.concentrate_ag</td>\n",
       "      <td>NaN</td>\n",
       "      <td>final.output.concentrate_ag</td>\n",
       "    </tr>\n",
       "    <tr>\n",
       "      <th>final.output.concentrate_pb</th>\n",
       "      <td>final.output.concentrate_pb</td>\n",
       "      <td>NaN</td>\n",
       "      <td>final.output.concentrate_pb</td>\n",
       "    </tr>\n",
       "    <tr>\n",
       "      <th>final.output.concentrate_sol</th>\n",
       "      <td>final.output.concentrate_sol</td>\n",
       "      <td>NaN</td>\n",
       "      <td>final.output.concentrate_sol</td>\n",
       "    </tr>\n",
       "    <tr>\n",
       "      <th>final.output.recovery</th>\n",
       "      <td>final.output.recovery</td>\n",
       "      <td>NaN</td>\n",
       "      <td>final.output.recovery</td>\n",
       "    </tr>\n",
       "    <tr>\n",
       "      <th>final.output.tail_au</th>\n",
       "      <td>final.output.tail_au</td>\n",
       "      <td>NaN</td>\n",
       "      <td>final.output.tail_au</td>\n",
       "    </tr>\n",
       "    <tr>\n",
       "      <th>final.output.tail_ag</th>\n",
       "      <td>final.output.tail_ag</td>\n",
       "      <td>NaN</td>\n",
       "      <td>final.output.tail_ag</td>\n",
       "    </tr>\n",
       "    <tr>\n",
       "      <th>final.output.tail_pb</th>\n",
       "      <td>final.output.tail_pb</td>\n",
       "      <td>NaN</td>\n",
       "      <td>final.output.tail_pb</td>\n",
       "    </tr>\n",
       "    <tr>\n",
       "      <th>final.output.tail_sol</th>\n",
       "      <td>final.output.tail_sol</td>\n",
       "      <td>NaN</td>\n",
       "      <td>final.output.tail_sol</td>\n",
       "    </tr>\n",
       "  </tbody>\n",
       "</table>\n",
       "</div>"
      ],
      "text/plain": [
       "                                                                                       dtrain_columns  \\\n",
       "rougher.calculation.sulfate_to_au_concentrate           rougher.calculation.sulfate_to_au_concentrate   \n",
       "rougher.calculation.floatbank10_sulfate_to_au_feed  rougher.calculation.floatbank10_sulfate_to_au_...   \n",
       "rougher.calculation.floatbank11_sulfate_to_au_feed  rougher.calculation.floatbank11_sulfate_to_au_...   \n",
       "rougher.calculation.au_pb_ratio                                       rougher.calculation.au_pb_ratio   \n",
       "rougher.output.concentrate_au                                           rougher.output.concentrate_au   \n",
       "rougher.output.concentrate_ag                                           rougher.output.concentrate_ag   \n",
       "rougher.output.concentrate_pb                                           rougher.output.concentrate_pb   \n",
       "rougher.output.concentrate_sol                                         rougher.output.concentrate_sol   \n",
       "rougher.output.recovery                                                       rougher.output.recovery   \n",
       "rougher.output.tail_au                                                         rougher.output.tail_au   \n",
       "rougher.output.tail_ag                                                         rougher.output.tail_ag   \n",
       "rougher.output.tail_pb                                                         rougher.output.tail_pb   \n",
       "rougher.output.tail_sol                                                       rougher.output.tail_sol   \n",
       "primary_cleaner.output.concentrate_au                           primary_cleaner.output.concentrate_au   \n",
       "primary_cleaner.output.concentrate_ag                           primary_cleaner.output.concentrate_ag   \n",
       "primary_cleaner.output.concentrate_pb                           primary_cleaner.output.concentrate_pb   \n",
       "primary_cleaner.output.concentrate_sol                         primary_cleaner.output.concentrate_sol   \n",
       "primary_cleaner.output.tail_au                                         primary_cleaner.output.tail_au   \n",
       "primary_cleaner.output.tail_ag                                         primary_cleaner.output.tail_ag   \n",
       "primary_cleaner.output.tail_pb                                         primary_cleaner.output.tail_pb   \n",
       "primary_cleaner.output.tail_sol                                       primary_cleaner.output.tail_sol   \n",
       "secondary_cleaner.output.tail_au                                     secondary_cleaner.output.tail_au   \n",
       "secondary_cleaner.output.tail_ag                                     secondary_cleaner.output.tail_ag   \n",
       "secondary_cleaner.output.tail_pb                                     secondary_cleaner.output.tail_pb   \n",
       "secondary_cleaner.output.tail_sol                                   secondary_cleaner.output.tail_sol   \n",
       "final.output.concentrate_au                                               final.output.concentrate_au   \n",
       "final.output.concentrate_ag                                               final.output.concentrate_ag   \n",
       "final.output.concentrate_pb                                               final.output.concentrate_pb   \n",
       "final.output.concentrate_sol                                             final.output.concentrate_sol   \n",
       "final.output.recovery                                                           final.output.recovery   \n",
       "final.output.tail_au                                                             final.output.tail_au   \n",
       "final.output.tail_ag                                                             final.output.tail_ag   \n",
       "final.output.tail_pb                                                             final.output.tail_pb   \n",
       "final.output.tail_sol                                                           final.output.tail_sol   \n",
       "\n",
       "                                                   dtest_columns  \\\n",
       "rougher.calculation.sulfate_to_au_concentrate                NaN   \n",
       "rougher.calculation.floatbank10_sulfate_to_au_feed           NaN   \n",
       "rougher.calculation.floatbank11_sulfate_to_au_feed           NaN   \n",
       "rougher.calculation.au_pb_ratio                              NaN   \n",
       "rougher.output.concentrate_au                                NaN   \n",
       "rougher.output.concentrate_ag                                NaN   \n",
       "rougher.output.concentrate_pb                                NaN   \n",
       "rougher.output.concentrate_sol                               NaN   \n",
       "rougher.output.recovery                                      NaN   \n",
       "rougher.output.tail_au                                       NaN   \n",
       "rougher.output.tail_ag                                       NaN   \n",
       "rougher.output.tail_pb                                       NaN   \n",
       "rougher.output.tail_sol                                      NaN   \n",
       "primary_cleaner.output.concentrate_au                        NaN   \n",
       "primary_cleaner.output.concentrate_ag                        NaN   \n",
       "primary_cleaner.output.concentrate_pb                        NaN   \n",
       "primary_cleaner.output.concentrate_sol                       NaN   \n",
       "primary_cleaner.output.tail_au                               NaN   \n",
       "primary_cleaner.output.tail_ag                               NaN   \n",
       "primary_cleaner.output.tail_pb                               NaN   \n",
       "primary_cleaner.output.tail_sol                              NaN   \n",
       "secondary_cleaner.output.tail_au                             NaN   \n",
       "secondary_cleaner.output.tail_ag                             NaN   \n",
       "secondary_cleaner.output.tail_pb                             NaN   \n",
       "secondary_cleaner.output.tail_sol                            NaN   \n",
       "final.output.concentrate_au                                  NaN   \n",
       "final.output.concentrate_ag                                  NaN   \n",
       "final.output.concentrate_pb                                  NaN   \n",
       "final.output.concentrate_sol                                 NaN   \n",
       "final.output.recovery                                        NaN   \n",
       "final.output.tail_au                                         NaN   \n",
       "final.output.tail_ag                                         NaN   \n",
       "final.output.tail_pb                                         NaN   \n",
       "final.output.tail_sol                                        NaN   \n",
       "\n",
       "                                                                                        dfull_columns  \n",
       "rougher.calculation.sulfate_to_au_concentrate           rougher.calculation.sulfate_to_au_concentrate  \n",
       "rougher.calculation.floatbank10_sulfate_to_au_feed  rougher.calculation.floatbank10_sulfate_to_au_...  \n",
       "rougher.calculation.floatbank11_sulfate_to_au_feed  rougher.calculation.floatbank11_sulfate_to_au_...  \n",
       "rougher.calculation.au_pb_ratio                                       rougher.calculation.au_pb_ratio  \n",
       "rougher.output.concentrate_au                                           rougher.output.concentrate_au  \n",
       "rougher.output.concentrate_ag                                           rougher.output.concentrate_ag  \n",
       "rougher.output.concentrate_pb                                           rougher.output.concentrate_pb  \n",
       "rougher.output.concentrate_sol                                         rougher.output.concentrate_sol  \n",
       "rougher.output.recovery                                                       rougher.output.recovery  \n",
       "rougher.output.tail_au                                                         rougher.output.tail_au  \n",
       "rougher.output.tail_ag                                                         rougher.output.tail_ag  \n",
       "rougher.output.tail_pb                                                         rougher.output.tail_pb  \n",
       "rougher.output.tail_sol                                                       rougher.output.tail_sol  \n",
       "primary_cleaner.output.concentrate_au                           primary_cleaner.output.concentrate_au  \n",
       "primary_cleaner.output.concentrate_ag                           primary_cleaner.output.concentrate_ag  \n",
       "primary_cleaner.output.concentrate_pb                           primary_cleaner.output.concentrate_pb  \n",
       "primary_cleaner.output.concentrate_sol                         primary_cleaner.output.concentrate_sol  \n",
       "primary_cleaner.output.tail_au                                         primary_cleaner.output.tail_au  \n",
       "primary_cleaner.output.tail_ag                                         primary_cleaner.output.tail_ag  \n",
       "primary_cleaner.output.tail_pb                                         primary_cleaner.output.tail_pb  \n",
       "primary_cleaner.output.tail_sol                                       primary_cleaner.output.tail_sol  \n",
       "secondary_cleaner.output.tail_au                                     secondary_cleaner.output.tail_au  \n",
       "secondary_cleaner.output.tail_ag                                     secondary_cleaner.output.tail_ag  \n",
       "secondary_cleaner.output.tail_pb                                     secondary_cleaner.output.tail_pb  \n",
       "secondary_cleaner.output.tail_sol                                   secondary_cleaner.output.tail_sol  \n",
       "final.output.concentrate_au                                               final.output.concentrate_au  \n",
       "final.output.concentrate_ag                                               final.output.concentrate_ag  \n",
       "final.output.concentrate_pb                                               final.output.concentrate_pb  \n",
       "final.output.concentrate_sol                                             final.output.concentrate_sol  \n",
       "final.output.recovery                                                           final.output.recovery  \n",
       "final.output.tail_au                                                             final.output.tail_au  \n",
       "final.output.tail_ag                                                             final.output.tail_ag  \n",
       "final.output.tail_pb                                                             final.output.tail_pb  \n",
       "final.output.tail_sol                                                           final.output.tail_sol  "
      ]
     },
     "execution_count": 16,
     "metadata": {},
     "output_type": "execute_result"
    }
   ],
   "source": [
    "test_absent_columns = pd.DataFrame(dtrain.columns,index=dtrain.columns).merge(pd.DataFrame(dtest.columns,index=dtest.columns),how='left' ,left_index=True, right_index=True)\n",
    "test_absent_columns = test_absent_columns.merge(pd.DataFrame(dfull.columns,index=dfull.columns),how='left' ,left_index=True, right_index=True)\n",
    "test_absent_columns.columns = ['dtrain_columns','dtest_columns','dfull_columns']\n",
    "#absent_columns = test_absent_columns[test_absent_columns['dtest_columns'].isna()].index\n",
    "test_absent_columns[test_absent_columns['dtest_columns'].isna()]\n"
   ]
  },
  {
   "cell_type": "markdown",
   "metadata": {},
   "source": [
    "Видим, что в тестовой выборке не хватает данных о концентрации металов в процессе обработки руды.\n",
    "Это в основном колонки типа Output, а также пара колонок типа Calculations (которые считаются на основе Output).\n",
    "<br>Также в тестовой выборке нет целевых признаков - final.output.recovery и rougher.output.recovery.\n",
    "<br>Этих данных не хватает в тестовой выборке, так как они замеряются и/или рассчитываются значительно позже.\n",
    "<br>Если бы эти колонки присутствовали в тестовом наборе, это бы означало утечку целевого признака. Поэтому при обучении и прогнозировании модели необходимо эти колонки удалить из набора feature_train и feature_test."
   ]
  },
  {
   "cell_type": "markdown",
   "metadata": {},
   "source": [
    "Удалим эти данные из обучающей выборки, но только перед созданием и обучением модели, т.к. данные поля нам еще понадобятся для анализа."
   ]
  },
  {
   "cell_type": "markdown",
   "metadata": {},
   "source": [
    "#### Изучим наборы dtrain, dtest и dfull"
   ]
  },
  {
   "cell_type": "markdown",
   "metadata": {},
   "source": [
    "Мы уже знаем, что в тестовом датасете количество колонок меньше (и знаем набор этих колонок). \n",
    "<br>Возникает еще пара вопросов:\n",
    "- заполнены ли отсутствующие колонки в наборе dfull?\n",
    "- по совпадающим колонкам - действительно ли dtest+dtrain = dfull? Если нет, то в чем различия?"
   ]
  },
  {
   "cell_type": "markdown",
   "metadata": {},
   "source": [
    "Проверим, что по совпадающим колонкам конкатенация обучающего и тестового датасета (dtrain + dfull) действительно даст нам полный датасет (dfull).\n",
    "Для этого:\n",
    "- объединим dtrain и dtest (в единый датасет dtraintest) \n",
    "- полученный датасет объединим с dfull и возьмем только общие колонки\n",
    "- удалим дубликаты используя keep=False (в таком случае останутся только разница между dtraintest и dfull)"
   ]
  },
  {
   "cell_type": "code",
   "execution_count": 17,
   "metadata": {},
   "outputs": [],
   "source": [
    "dcheck = pd.concat([dtrain,dtest])"
   ]
  },
  {
   "cell_type": "code",
   "execution_count": 18,
   "metadata": {},
   "outputs": [
    {
     "data": {
      "text/plain": [
       "(19439, 87)"
      ]
     },
     "execution_count": 18,
     "metadata": {},
     "output_type": "execute_result"
    }
   ],
   "source": [
    "dcheck.shape #проверим объедиение"
   ]
  },
  {
   "cell_type": "code",
   "execution_count": 19,
   "metadata": {
    "scrolled": true
   },
   "outputs": [
    {
     "data": {
      "text/plain": [
       "Index(['date', 'rougher.input.feed_au', 'rougher.input.feed_ag',\n",
       "       'rougher.input.feed_pb', 'rougher.input.feed_sol',\n",
       "       'rougher.input.feed_rate', 'rougher.input.feed_size',\n",
       "       'rougher.input.floatbank10_sulfate',\n",
       "       'rougher.input.floatbank10_xanthate', 'rougher.state.floatbank10_a_air',\n",
       "       'rougher.state.floatbank10_a_level', 'rougher.state.floatbank10_b_air',\n",
       "       'rougher.state.floatbank10_b_level', 'rougher.state.floatbank10_c_air',\n",
       "       'rougher.state.floatbank10_c_level', 'rougher.state.floatbank10_d_air',\n",
       "       'rougher.state.floatbank10_d_level', 'rougher.state.floatbank10_e_air',\n",
       "       'rougher.state.floatbank10_e_level', 'rougher.state.floatbank10_f_air',\n",
       "       'rougher.state.floatbank10_f_level',\n",
       "       'rougher.input.floatbank11_sulfate',\n",
       "       'rougher.input.floatbank11_xanthate', 'primary_cleaner.input.sulfate',\n",
       "       'primary_cleaner.input.depressant', 'primary_cleaner.input.feed_size',\n",
       "       'primary_cleaner.input.xanthate',\n",
       "       'primary_cleaner.state.floatbank8_a_air',\n",
       "       'primary_cleaner.state.floatbank8_a_level',\n",
       "       'primary_cleaner.state.floatbank8_b_air',\n",
       "       'primary_cleaner.state.floatbank8_b_level',\n",
       "       'primary_cleaner.state.floatbank8_c_air',\n",
       "       'primary_cleaner.state.floatbank8_c_level',\n",
       "       'primary_cleaner.state.floatbank8_d_air',\n",
       "       'primary_cleaner.state.floatbank8_d_level',\n",
       "       'secondary_cleaner.state.floatbank2_a_air',\n",
       "       'secondary_cleaner.state.floatbank2_a_level',\n",
       "       'secondary_cleaner.state.floatbank2_b_air',\n",
       "       'secondary_cleaner.state.floatbank2_b_level',\n",
       "       'secondary_cleaner.state.floatbank3_a_air',\n",
       "       'secondary_cleaner.state.floatbank3_a_level',\n",
       "       'secondary_cleaner.state.floatbank3_b_air',\n",
       "       'secondary_cleaner.state.floatbank3_b_level',\n",
       "       'secondary_cleaner.state.floatbank4_a_air',\n",
       "       'secondary_cleaner.state.floatbank4_a_level',\n",
       "       'secondary_cleaner.state.floatbank4_b_air',\n",
       "       'secondary_cleaner.state.floatbank4_b_level',\n",
       "       'secondary_cleaner.state.floatbank5_a_air',\n",
       "       'secondary_cleaner.state.floatbank5_a_level',\n",
       "       'secondary_cleaner.state.floatbank5_b_air',\n",
       "       'secondary_cleaner.state.floatbank5_b_level',\n",
       "       'secondary_cleaner.state.floatbank6_a_air',\n",
       "       'secondary_cleaner.state.floatbank6_a_level'],\n",
       "      dtype='object')"
      ]
     },
     "execution_count": 19,
     "metadata": {},
     "output_type": "execute_result"
    }
   ],
   "source": [
    "common_columns = test_absent_columns[~(test_absent_columns['dtest_columns'].isna())].index #общие колонки\n",
    "common_columns"
   ]
  },
  {
   "cell_type": "code",
   "execution_count": 20,
   "metadata": {},
   "outputs": [
    {
     "data": {
      "text/plain": [
       "(38878, 53)"
      ]
     },
     "execution_count": 20,
     "metadata": {},
     "output_type": "execute_result"
    }
   ],
   "source": [
    "dcheck = pd.concat([dcheck,dfull])[common_columns] #все три набора по общим колонкам\n",
    "dcheck.shape"
   ]
  },
  {
   "cell_type": "code",
   "execution_count": 21,
   "metadata": {},
   "outputs": [
    {
     "data": {
      "text/html": [
       "<div>\n",
       "<style scoped>\n",
       "    .dataframe tbody tr th:only-of-type {\n",
       "        vertical-align: middle;\n",
       "    }\n",
       "\n",
       "    .dataframe tbody tr th {\n",
       "        vertical-align: top;\n",
       "    }\n",
       "\n",
       "    .dataframe thead th {\n",
       "        text-align: right;\n",
       "    }\n",
       "</style>\n",
       "<table border=\"1\" class=\"dataframe\">\n",
       "  <thead>\n",
       "    <tr style=\"text-align: right;\">\n",
       "      <th></th>\n",
       "      <th>date</th>\n",
       "      <th>rougher.input.feed_au</th>\n",
       "      <th>rougher.input.feed_ag</th>\n",
       "      <th>rougher.input.feed_pb</th>\n",
       "      <th>rougher.input.feed_sol</th>\n",
       "      <th>rougher.input.feed_rate</th>\n",
       "      <th>rougher.input.feed_size</th>\n",
       "      <th>rougher.input.floatbank10_sulfate</th>\n",
       "      <th>rougher.input.floatbank10_xanthate</th>\n",
       "      <th>rougher.state.floatbank10_a_air</th>\n",
       "      <th>rougher.state.floatbank10_a_level</th>\n",
       "      <th>rougher.state.floatbank10_b_air</th>\n",
       "      <th>rougher.state.floatbank10_b_level</th>\n",
       "      <th>rougher.state.floatbank10_c_air</th>\n",
       "      <th>rougher.state.floatbank10_c_level</th>\n",
       "      <th>rougher.state.floatbank10_d_air</th>\n",
       "      <th>rougher.state.floatbank10_d_level</th>\n",
       "      <th>rougher.state.floatbank10_e_air</th>\n",
       "      <th>rougher.state.floatbank10_e_level</th>\n",
       "      <th>rougher.state.floatbank10_f_air</th>\n",
       "      <th>rougher.state.floatbank10_f_level</th>\n",
       "      <th>rougher.input.floatbank11_sulfate</th>\n",
       "      <th>rougher.input.floatbank11_xanthate</th>\n",
       "      <th>primary_cleaner.input.sulfate</th>\n",
       "      <th>primary_cleaner.input.depressant</th>\n",
       "      <th>primary_cleaner.input.feed_size</th>\n",
       "      <th>primary_cleaner.input.xanthate</th>\n",
       "      <th>primary_cleaner.state.floatbank8_a_air</th>\n",
       "      <th>primary_cleaner.state.floatbank8_a_level</th>\n",
       "      <th>primary_cleaner.state.floatbank8_b_air</th>\n",
       "      <th>primary_cleaner.state.floatbank8_b_level</th>\n",
       "      <th>primary_cleaner.state.floatbank8_c_air</th>\n",
       "      <th>primary_cleaner.state.floatbank8_c_level</th>\n",
       "      <th>primary_cleaner.state.floatbank8_d_air</th>\n",
       "      <th>primary_cleaner.state.floatbank8_d_level</th>\n",
       "      <th>secondary_cleaner.state.floatbank2_a_air</th>\n",
       "      <th>secondary_cleaner.state.floatbank2_a_level</th>\n",
       "      <th>secondary_cleaner.state.floatbank2_b_air</th>\n",
       "      <th>secondary_cleaner.state.floatbank2_b_level</th>\n",
       "      <th>secondary_cleaner.state.floatbank3_a_air</th>\n",
       "      <th>secondary_cleaner.state.floatbank3_a_level</th>\n",
       "      <th>secondary_cleaner.state.floatbank3_b_air</th>\n",
       "      <th>secondary_cleaner.state.floatbank3_b_level</th>\n",
       "      <th>secondary_cleaner.state.floatbank4_a_air</th>\n",
       "      <th>secondary_cleaner.state.floatbank4_a_level</th>\n",
       "      <th>secondary_cleaner.state.floatbank4_b_air</th>\n",
       "      <th>secondary_cleaner.state.floatbank4_b_level</th>\n",
       "      <th>secondary_cleaner.state.floatbank5_a_air</th>\n",
       "      <th>secondary_cleaner.state.floatbank5_a_level</th>\n",
       "      <th>secondary_cleaner.state.floatbank5_b_air</th>\n",
       "      <th>secondary_cleaner.state.floatbank5_b_level</th>\n",
       "      <th>secondary_cleaner.state.floatbank6_a_air</th>\n",
       "      <th>secondary_cleaner.state.floatbank6_a_level</th>\n",
       "    </tr>\n",
       "  </thead>\n",
       "  <tbody>\n",
       "  </tbody>\n",
       "</table>\n",
       "</div>"
      ],
      "text/plain": [
       "Empty DataFrame\n",
       "Columns: [date, rougher.input.feed_au, rougher.input.feed_ag, rougher.input.feed_pb, rougher.input.feed_sol, rougher.input.feed_rate, rougher.input.feed_size, rougher.input.floatbank10_sulfate, rougher.input.floatbank10_xanthate, rougher.state.floatbank10_a_air, rougher.state.floatbank10_a_level, rougher.state.floatbank10_b_air, rougher.state.floatbank10_b_level, rougher.state.floatbank10_c_air, rougher.state.floatbank10_c_level, rougher.state.floatbank10_d_air, rougher.state.floatbank10_d_level, rougher.state.floatbank10_e_air, rougher.state.floatbank10_e_level, rougher.state.floatbank10_f_air, rougher.state.floatbank10_f_level, rougher.input.floatbank11_sulfate, rougher.input.floatbank11_xanthate, primary_cleaner.input.sulfate, primary_cleaner.input.depressant, primary_cleaner.input.feed_size, primary_cleaner.input.xanthate, primary_cleaner.state.floatbank8_a_air, primary_cleaner.state.floatbank8_a_level, primary_cleaner.state.floatbank8_b_air, primary_cleaner.state.floatbank8_b_level, primary_cleaner.state.floatbank8_c_air, primary_cleaner.state.floatbank8_c_level, primary_cleaner.state.floatbank8_d_air, primary_cleaner.state.floatbank8_d_level, secondary_cleaner.state.floatbank2_a_air, secondary_cleaner.state.floatbank2_a_level, secondary_cleaner.state.floatbank2_b_air, secondary_cleaner.state.floatbank2_b_level, secondary_cleaner.state.floatbank3_a_air, secondary_cleaner.state.floatbank3_a_level, secondary_cleaner.state.floatbank3_b_air, secondary_cleaner.state.floatbank3_b_level, secondary_cleaner.state.floatbank4_a_air, secondary_cleaner.state.floatbank4_a_level, secondary_cleaner.state.floatbank4_b_air, secondary_cleaner.state.floatbank4_b_level, secondary_cleaner.state.floatbank5_a_air, secondary_cleaner.state.floatbank5_a_level, secondary_cleaner.state.floatbank5_b_air, secondary_cleaner.state.floatbank5_b_level, secondary_cleaner.state.floatbank6_a_air, secondary_cleaner.state.floatbank6_a_level]\n",
       "Index: []"
      ]
     },
     "execution_count": 21,
     "metadata": {},
     "output_type": "execute_result"
    }
   ],
   "source": [
    "pd.set_option('display.max_columns', None)\n",
    "dcheck.drop_duplicates(keep=False).sort_values(by='date').head(20)"
   ]
  },
  {
   "cell_type": "markdown",
   "metadata": {},
   "source": [
    "Итоговая таблица осталась пустая (все строки были идентичными парами), значит, действительно все значения по 53 общим колонкам в наборе dfull равны сумме наборов dtrain и dtest."
   ]
  },
  {
   "cell_type": "markdown",
   "metadata": {},
   "source": [
    "По содержимому набора dtest получается следующая картина:\n",
    "- по общим колонкам данные идентичны с dfull\n",
    "- по остальным колонкам -в dtest нет данных, но есть в dfull\n",
    "<br>Сохраним данные по тестовой подвыборке из dfull в отдельную переменную, так как они пригодятся."
   ]
  },
  {
   "cell_type": "code",
   "execution_count": 22,
   "metadata": {},
   "outputs": [
    {
     "name": "stdout",
     "output_type": "stream",
     "text": [
      "(4860, 87)\n"
     ]
    },
    {
     "data": {
      "text/html": [
       "<div>\n",
       "<style scoped>\n",
       "    .dataframe tbody tr th:only-of-type {\n",
       "        vertical-align: middle;\n",
       "    }\n",
       "\n",
       "    .dataframe tbody tr th {\n",
       "        vertical-align: top;\n",
       "    }\n",
       "\n",
       "    .dataframe thead th {\n",
       "        text-align: right;\n",
       "    }\n",
       "</style>\n",
       "<table border=\"1\" class=\"dataframe\">\n",
       "  <thead>\n",
       "    <tr style=\"text-align: right;\">\n",
       "      <th></th>\n",
       "      <th>date</th>\n",
       "      <th>rougher.input.feed_au</th>\n",
       "      <th>rougher.input.feed_ag</th>\n",
       "      <th>rougher.input.feed_pb</th>\n",
       "      <th>rougher.input.feed_sol</th>\n",
       "      <th>rougher.input.feed_rate</th>\n",
       "      <th>rougher.input.feed_size</th>\n",
       "      <th>rougher.input.floatbank10_sulfate</th>\n",
       "      <th>rougher.input.floatbank10_xanthate</th>\n",
       "      <th>rougher.state.floatbank10_a_air</th>\n",
       "      <th>rougher.state.floatbank10_a_level</th>\n",
       "      <th>rougher.state.floatbank10_b_air</th>\n",
       "      <th>rougher.state.floatbank10_b_level</th>\n",
       "      <th>rougher.state.floatbank10_c_air</th>\n",
       "      <th>rougher.state.floatbank10_c_level</th>\n",
       "      <th>rougher.state.floatbank10_d_air</th>\n",
       "      <th>rougher.state.floatbank10_d_level</th>\n",
       "      <th>rougher.state.floatbank10_e_air</th>\n",
       "      <th>rougher.state.floatbank10_e_level</th>\n",
       "      <th>rougher.state.floatbank10_f_air</th>\n",
       "      <th>rougher.state.floatbank10_f_level</th>\n",
       "      <th>rougher.input.floatbank11_sulfate</th>\n",
       "      <th>rougher.input.floatbank11_xanthate</th>\n",
       "      <th>rougher.calculation.sulfate_to_au_concentrate</th>\n",
       "      <th>rougher.calculation.floatbank10_sulfate_to_au_feed</th>\n",
       "      <th>rougher.calculation.floatbank11_sulfate_to_au_feed</th>\n",
       "      <th>rougher.calculation.au_pb_ratio</th>\n",
       "      <th>rougher.output.concentrate_au</th>\n",
       "      <th>rougher.output.concentrate_ag</th>\n",
       "      <th>rougher.output.concentrate_pb</th>\n",
       "      <th>rougher.output.concentrate_sol</th>\n",
       "      <th>rougher.output.recovery</th>\n",
       "      <th>rougher.output.tail_au</th>\n",
       "      <th>rougher.output.tail_ag</th>\n",
       "      <th>rougher.output.tail_pb</th>\n",
       "      <th>rougher.output.tail_sol</th>\n",
       "      <th>primary_cleaner.input.sulfate</th>\n",
       "      <th>primary_cleaner.input.depressant</th>\n",
       "      <th>primary_cleaner.input.feed_size</th>\n",
       "      <th>primary_cleaner.input.xanthate</th>\n",
       "      <th>primary_cleaner.state.floatbank8_a_air</th>\n",
       "      <th>primary_cleaner.state.floatbank8_a_level</th>\n",
       "      <th>primary_cleaner.state.floatbank8_b_air</th>\n",
       "      <th>primary_cleaner.state.floatbank8_b_level</th>\n",
       "      <th>primary_cleaner.state.floatbank8_c_air</th>\n",
       "      <th>primary_cleaner.state.floatbank8_c_level</th>\n",
       "      <th>primary_cleaner.state.floatbank8_d_air</th>\n",
       "      <th>primary_cleaner.state.floatbank8_d_level</th>\n",
       "      <th>primary_cleaner.output.concentrate_au</th>\n",
       "      <th>primary_cleaner.output.concentrate_ag</th>\n",
       "      <th>primary_cleaner.output.concentrate_pb</th>\n",
       "      <th>primary_cleaner.output.concentrate_sol</th>\n",
       "      <th>primary_cleaner.output.tail_au</th>\n",
       "      <th>primary_cleaner.output.tail_ag</th>\n",
       "      <th>primary_cleaner.output.tail_pb</th>\n",
       "      <th>primary_cleaner.output.tail_sol</th>\n",
       "      <th>secondary_cleaner.state.floatbank2_a_air</th>\n",
       "      <th>secondary_cleaner.state.floatbank2_a_level</th>\n",
       "      <th>secondary_cleaner.state.floatbank2_b_air</th>\n",
       "      <th>secondary_cleaner.state.floatbank2_b_level</th>\n",
       "      <th>secondary_cleaner.state.floatbank3_a_air</th>\n",
       "      <th>secondary_cleaner.state.floatbank3_a_level</th>\n",
       "      <th>secondary_cleaner.state.floatbank3_b_air</th>\n",
       "      <th>secondary_cleaner.state.floatbank3_b_level</th>\n",
       "      <th>secondary_cleaner.state.floatbank4_a_air</th>\n",
       "      <th>secondary_cleaner.state.floatbank4_a_level</th>\n",
       "      <th>secondary_cleaner.state.floatbank4_b_air</th>\n",
       "      <th>secondary_cleaner.state.floatbank4_b_level</th>\n",
       "      <th>secondary_cleaner.state.floatbank5_a_air</th>\n",
       "      <th>secondary_cleaner.state.floatbank5_a_level</th>\n",
       "      <th>secondary_cleaner.state.floatbank5_b_air</th>\n",
       "      <th>secondary_cleaner.state.floatbank5_b_level</th>\n",
       "      <th>secondary_cleaner.state.floatbank6_a_air</th>\n",
       "      <th>secondary_cleaner.state.floatbank6_a_level</th>\n",
       "      <th>secondary_cleaner.output.tail_au</th>\n",
       "      <th>secondary_cleaner.output.tail_ag</th>\n",
       "      <th>secondary_cleaner.output.tail_pb</th>\n",
       "      <th>secondary_cleaner.output.tail_sol</th>\n",
       "      <th>final.output.concentrate_au</th>\n",
       "      <th>final.output.concentrate_ag</th>\n",
       "      <th>final.output.concentrate_pb</th>\n",
       "      <th>final.output.concentrate_sol</th>\n",
       "      <th>final.output.recovery</th>\n",
       "      <th>final.output.tail_au</th>\n",
       "      <th>final.output.tail_ag</th>\n",
       "      <th>final.output.tail_pb</th>\n",
       "      <th>final.output.tail_sol</th>\n",
       "    </tr>\n",
       "  </thead>\n",
       "  <tbody>\n",
       "    <tr>\n",
       "      <th>14579</th>\n",
       "      <td>2017-12-09 14:59:59</td>\n",
       "      <td>4.365491</td>\n",
       "      <td>6.158718</td>\n",
       "      <td>3.875727</td>\n",
       "      <td>39.135119</td>\n",
       "      <td>555.820208</td>\n",
       "      <td>94.544358</td>\n",
       "      <td>6.146982</td>\n",
       "      <td>9.308612</td>\n",
       "      <td>1196.238112</td>\n",
       "      <td>-299.862743</td>\n",
       "      <td>1147.248241</td>\n",
       "      <td>-500.363165</td>\n",
       "      <td>1047.279065</td>\n",
       "      <td>-500.354091</td>\n",
       "      <td>948.756608</td>\n",
       "      <td>-498.439416</td>\n",
       "      <td>849.441918</td>\n",
       "      <td>-499.255503</td>\n",
       "      <td>850.112246</td>\n",
       "      <td>-499.407112</td>\n",
       "      <td>6.168939</td>\n",
       "      <td>9.309852</td>\n",
       "      <td>44082.866565</td>\n",
       "      <td>2487.477762</td>\n",
       "      <td>2488.626080</td>\n",
       "      <td>1.126367</td>\n",
       "      <td>17.804134</td>\n",
       "      <td>11.959486</td>\n",
       "      <td>10.702148</td>\n",
       "      <td>29.078235</td>\n",
       "      <td>89.514960</td>\n",
       "      <td>0.586439</td>\n",
       "      <td>3.925473</td>\n",
       "      <td>0.638677</td>\n",
       "      <td>19.946673</td>\n",
       "      <td>95.248427</td>\n",
       "      <td>8.078957</td>\n",
       "      <td>6.500000</td>\n",
       "      <td>1.283045</td>\n",
       "      <td>1648.759906</td>\n",
       "      <td>-399.862053</td>\n",
       "      <td>1650.135395</td>\n",
       "      <td>-399.957321</td>\n",
       "      <td>1648.831890</td>\n",
       "      <td>-400.586116</td>\n",
       "      <td>1649.464582</td>\n",
       "      <td>-400.673303</td>\n",
       "      <td>30.356618</td>\n",
       "      <td>7.537584</td>\n",
       "      <td>11.650285</td>\n",
       "      <td>6.203553</td>\n",
       "      <td>2.708046</td>\n",
       "      <td>22.735927</td>\n",
       "      <td>6.084287</td>\n",
       "      <td>3.026699</td>\n",
       "      <td>34.940919</td>\n",
       "      <td>-500.150510</td>\n",
       "      <td>30.031867</td>\n",
       "      <td>-500.328335</td>\n",
       "      <td>26.033990</td>\n",
       "      <td>-500.147792</td>\n",
       "      <td>22.952306</td>\n",
       "      <td>-500.037678</td>\n",
       "      <td>23.018622</td>\n",
       "      <td>-500.492702</td>\n",
       "      <td>20.020205</td>\n",
       "      <td>-500.220296</td>\n",
       "      <td>17.963512</td>\n",
       "      <td>-499.939490</td>\n",
       "      <td>12.990306</td>\n",
       "      <td>-500.080993</td>\n",
       "      <td>19.990336</td>\n",
       "      <td>-499.191575</td>\n",
       "      <td>0.000000</td>\n",
       "      <td>0.000000</td>\n",
       "      <td>0.000000</td>\n",
       "      <td>0.000000</td>\n",
       "      <td>46.299438</td>\n",
       "      <td>3.598375</td>\n",
       "      <td>11.737832</td>\n",
       "      <td>6.717509</td>\n",
       "      <td>70.281454</td>\n",
       "      <td>1.389434</td>\n",
       "      <td>8.406690</td>\n",
       "      <td>2.517518</td>\n",
       "      <td>10.652193</td>\n",
       "    </tr>\n",
       "    <tr>\n",
       "      <th>14580</th>\n",
       "      <td>2017-12-09 15:59:59</td>\n",
       "      <td>4.362781</td>\n",
       "      <td>6.048130</td>\n",
       "      <td>3.902537</td>\n",
       "      <td>39.713906</td>\n",
       "      <td>544.731687</td>\n",
       "      <td>123.742430</td>\n",
       "      <td>6.210119</td>\n",
       "      <td>9.297709</td>\n",
       "      <td>1201.904177</td>\n",
       "      <td>-299.907308</td>\n",
       "      <td>1154.087804</td>\n",
       "      <td>-500.036580</td>\n",
       "      <td>1054.009756</td>\n",
       "      <td>-500.237335</td>\n",
       "      <td>944.138793</td>\n",
       "      <td>-496.866953</td>\n",
       "      <td>851.589767</td>\n",
       "      <td>-499.040466</td>\n",
       "      <td>851.345606</td>\n",
       "      <td>-499.122561</td>\n",
       "      <td>6.209517</td>\n",
       "      <td>9.297194</td>\n",
       "      <td>44084.735708</td>\n",
       "      <td>2507.572494</td>\n",
       "      <td>2507.723361</td>\n",
       "      <td>1.117935</td>\n",
       "      <td>17.834772</td>\n",
       "      <td>11.658799</td>\n",
       "      <td>10.655377</td>\n",
       "      <td>29.052742</td>\n",
       "      <td>89.858126</td>\n",
       "      <td>0.567130</td>\n",
       "      <td>3.902494</td>\n",
       "      <td>0.625609</td>\n",
       "      <td>19.423740</td>\n",
       "      <td>98.880538</td>\n",
       "      <td>7.984164</td>\n",
       "      <td>6.500000</td>\n",
       "      <td>1.241969</td>\n",
       "      <td>1646.547763</td>\n",
       "      <td>-398.977083</td>\n",
       "      <td>1648.212240</td>\n",
       "      <td>-400.383265</td>\n",
       "      <td>1648.917387</td>\n",
       "      <td>-399.521344</td>\n",
       "      <td>1651.498591</td>\n",
       "      <td>-399.745329</td>\n",
       "      <td>30.770892</td>\n",
       "      <td>7.490444</td>\n",
       "      <td>12.012378</td>\n",
       "      <td>6.942972</td>\n",
       "      <td>2.800648</td>\n",
       "      <td>22.714656</td>\n",
       "      <td>6.253145</td>\n",
       "      <td>3.557121</td>\n",
       "      <td>34.980742</td>\n",
       "      <td>-498.131002</td>\n",
       "      <td>29.968453</td>\n",
       "      <td>-586.013330</td>\n",
       "      <td>25.971737</td>\n",
       "      <td>-499.608392</td>\n",
       "      <td>22.958448</td>\n",
       "      <td>-499.821308</td>\n",
       "      <td>23.024963</td>\n",
       "      <td>-501.153409</td>\n",
       "      <td>20.054122</td>\n",
       "      <td>-500.314711</td>\n",
       "      <td>17.979515</td>\n",
       "      <td>-499.272871</td>\n",
       "      <td>12.992404</td>\n",
       "      <td>-499.976268</td>\n",
       "      <td>20.013986</td>\n",
       "      <td>-500.625471</td>\n",
       "      <td>0.000000</td>\n",
       "      <td>0.000000</td>\n",
       "      <td>0.000000</td>\n",
       "      <td>0.000000</td>\n",
       "      <td>46.408188</td>\n",
       "      <td>3.367241</td>\n",
       "      <td>11.625587</td>\n",
       "      <td>6.799433</td>\n",
       "      <td>65.523246</td>\n",
       "      <td>1.602879</td>\n",
       "      <td>8.777171</td>\n",
       "      <td>2.819214</td>\n",
       "      <td>10.463847</td>\n",
       "    </tr>\n",
       "    <tr>\n",
       "      <th>14581</th>\n",
       "      <td>2017-12-09 16:59:59</td>\n",
       "      <td>5.081681</td>\n",
       "      <td>6.082745</td>\n",
       "      <td>4.564078</td>\n",
       "      <td>37.208683</td>\n",
       "      <td>558.155110</td>\n",
       "      <td>82.610855</td>\n",
       "      <td>7.363824</td>\n",
       "      <td>9.003562</td>\n",
       "      <td>1200.826926</td>\n",
       "      <td>-300.124116</td>\n",
       "      <td>1150.754676</td>\n",
       "      <td>-499.986009</td>\n",
       "      <td>1049.182824</td>\n",
       "      <td>-500.014696</td>\n",
       "      <td>948.085464</td>\n",
       "      <td>-499.997003</td>\n",
       "      <td>850.170086</td>\n",
       "      <td>-500.270334</td>\n",
       "      <td>849.557905</td>\n",
       "      <td>-500.198702</td>\n",
       "      <td>7.358308</td>\n",
       "      <td>9.000624</td>\n",
       "      <td>47344.521623</td>\n",
       "      <td>2486.372996</td>\n",
       "      <td>2484.340934</td>\n",
       "      <td>1.113408</td>\n",
       "      <td>18.584333</td>\n",
       "      <td>11.211407</td>\n",
       "      <td>11.068714</td>\n",
       "      <td>29.796166</td>\n",
       "      <td>91.816623</td>\n",
       "      <td>0.555257</td>\n",
       "      <td>3.958529</td>\n",
       "      <td>0.546749</td>\n",
       "      <td>17.403429</td>\n",
       "      <td>119.497545</td>\n",
       "      <td>8.003752</td>\n",
       "      <td>6.500000</td>\n",
       "      <td>1.259741</td>\n",
       "      <td>1647.368779</td>\n",
       "      <td>-399.788506</td>\n",
       "      <td>1648.395206</td>\n",
       "      <td>-400.166490</td>\n",
       "      <td>1648.953828</td>\n",
       "      <td>-400.468641</td>\n",
       "      <td>1649.821569</td>\n",
       "      <td>-400.071884</td>\n",
       "      <td>32.763603</td>\n",
       "      <td>6.650871</td>\n",
       "      <td>12.428122</td>\n",
       "      <td>7.089553</td>\n",
       "      <td>2.523626</td>\n",
       "      <td>23.095983</td>\n",
       "      <td>6.571676</td>\n",
       "      <td>3.714114</td>\n",
       "      <td>34.952967</td>\n",
       "      <td>-501.204647</td>\n",
       "      <td>29.927025</td>\n",
       "      <td>-500.106628</td>\n",
       "      <td>25.978253</td>\n",
       "      <td>-499.890060</td>\n",
       "      <td>23.004376</td>\n",
       "      <td>-500.014529</td>\n",
       "      <td>22.993827</td>\n",
       "      <td>-501.559663</td>\n",
       "      <td>20.029144</td>\n",
       "      <td>-500.000662</td>\n",
       "      <td>18.012723</td>\n",
       "      <td>-500.024764</td>\n",
       "      <td>13.016445</td>\n",
       "      <td>-500.058432</td>\n",
       "      <td>19.973767</td>\n",
       "      <td>-501.394155</td>\n",
       "      <td>0.000000</td>\n",
       "      <td>0.000000</td>\n",
       "      <td>0.000000</td>\n",
       "      <td>0.000000</td>\n",
       "      <td>46.710119</td>\n",
       "      <td>3.192996</td>\n",
       "      <td>11.612338</td>\n",
       "      <td>6.824441</td>\n",
       "      <td>74.817644</td>\n",
       "      <td>1.393077</td>\n",
       "      <td>8.665858</td>\n",
       "      <td>2.938592</td>\n",
       "      <td>10.241498</td>\n",
       "    </tr>\n",
       "    <tr>\n",
       "      <th>14582</th>\n",
       "      <td>2017-12-09 17:59:59</td>\n",
       "      <td>5.145949</td>\n",
       "      <td>6.084374</td>\n",
       "      <td>4.768124</td>\n",
       "      <td>36.808874</td>\n",
       "      <td>539.713765</td>\n",
       "      <td>77.984784</td>\n",
       "      <td>6.927072</td>\n",
       "      <td>8.955597</td>\n",
       "      <td>1199.292489</td>\n",
       "      <td>-299.778385</td>\n",
       "      <td>1152.512559</td>\n",
       "      <td>-500.338106</td>\n",
       "      <td>1052.601592</td>\n",
       "      <td>-499.695075</td>\n",
       "      <td>955.171539</td>\n",
       "      <td>-500.294989</td>\n",
       "      <td>851.957342</td>\n",
       "      <td>-499.779541</td>\n",
       "      <td>850.765662</td>\n",
       "      <td>-501.030559</td>\n",
       "      <td>6.929364</td>\n",
       "      <td>8.920717</td>\n",
       "      <td>42143.655118</td>\n",
       "      <td>2518.384030</td>\n",
       "      <td>2519.316168</td>\n",
       "      <td>1.079240</td>\n",
       "      <td>18.260411</td>\n",
       "      <td>11.374600</td>\n",
       "      <td>11.490951</td>\n",
       "      <td>29.869018</td>\n",
       "      <td>88.478959</td>\n",
       "      <td>0.789796</td>\n",
       "      <td>4.205933</td>\n",
       "      <td>0.627657</td>\n",
       "      <td>15.233675</td>\n",
       "      <td>108.080163</td>\n",
       "      <td>7.970121</td>\n",
       "      <td>6.660000</td>\n",
       "      <td>0.774909</td>\n",
       "      <td>1652.660845</td>\n",
       "      <td>-399.702218</td>\n",
       "      <td>1651.203128</td>\n",
       "      <td>-400.291472</td>\n",
       "      <td>1651.924848</td>\n",
       "      <td>-398.058033</td>\n",
       "      <td>1650.782696</td>\n",
       "      <td>-399.597977</td>\n",
       "      <td>32.432209</td>\n",
       "      <td>6.723180</td>\n",
       "      <td>13.105695</td>\n",
       "      <td>7.979863</td>\n",
       "      <td>3.462451</td>\n",
       "      <td>22.101497</td>\n",
       "      <td>6.437497</td>\n",
       "      <td>4.543611</td>\n",
       "      <td>35.038256</td>\n",
       "      <td>-500.102649</td>\n",
       "      <td>30.066959</td>\n",
       "      <td>-500.211499</td>\n",
       "      <td>26.013515</td>\n",
       "      <td>-500.054597</td>\n",
       "      <td>22.988928</td>\n",
       "      <td>-499.981410</td>\n",
       "      <td>23.032807</td>\n",
       "      <td>-501.287889</td>\n",
       "      <td>19.977466</td>\n",
       "      <td>-500.159903</td>\n",
       "      <td>17.980463</td>\n",
       "      <td>-500.504602</td>\n",
       "      <td>12.949071</td>\n",
       "      <td>-500.009937</td>\n",
       "      <td>20.010332</td>\n",
       "      <td>-508.337973</td>\n",
       "      <td>5.510263</td>\n",
       "      <td>16.282560</td>\n",
       "      <td>13.101025</td>\n",
       "      <td>0.609960</td>\n",
       "      <td>45.068492</td>\n",
       "      <td>3.500876</td>\n",
       "      <td>12.522030</td>\n",
       "      <td>6.666484</td>\n",
       "      <td>63.082720</td>\n",
       "      <td>2.047201</td>\n",
       "      <td>9.012745</td>\n",
       "      <td>3.513789</td>\n",
       "      <td>10.392631</td>\n",
       "    </tr>\n",
       "    <tr>\n",
       "      <th>14583</th>\n",
       "      <td>2017-12-09 18:59:59</td>\n",
       "      <td>5.735249</td>\n",
       "      <td>6.165220</td>\n",
       "      <td>4.512346</td>\n",
       "      <td>37.810642</td>\n",
       "      <td>558.713584</td>\n",
       "      <td>86.434874</td>\n",
       "      <td>7.823471</td>\n",
       "      <td>7.490356</td>\n",
       "      <td>1198.005449</td>\n",
       "      <td>-300.283401</td>\n",
       "      <td>1099.481500</td>\n",
       "      <td>-499.702465</td>\n",
       "      <td>999.539264</td>\n",
       "      <td>-499.306051</td>\n",
       "      <td>889.445596</td>\n",
       "      <td>-498.118617</td>\n",
       "      <td>800.533525</td>\n",
       "      <td>-499.765068</td>\n",
       "      <td>800.510356</td>\n",
       "      <td>-497.289533</td>\n",
       "      <td>7.824875</td>\n",
       "      <td>7.500678</td>\n",
       "      <td>42057.573133</td>\n",
       "      <td>2509.841607</td>\n",
       "      <td>2510.449296</td>\n",
       "      <td>1.271012</td>\n",
       "      <td>19.053508</td>\n",
       "      <td>11.108734</td>\n",
       "      <td>10.606835</td>\n",
       "      <td>30.642842</td>\n",
       "      <td>89.230316</td>\n",
       "      <td>0.844490</td>\n",
       "      <td>4.245506</td>\n",
       "      <td>0.648366</td>\n",
       "      <td>17.116762</td>\n",
       "      <td>117.750648</td>\n",
       "      <td>6.954311</td>\n",
       "      <td>6.426667</td>\n",
       "      <td>0.731271</td>\n",
       "      <td>1649.411497</td>\n",
       "      <td>-399.853156</td>\n",
       "      <td>1648.917211</td>\n",
       "      <td>-400.321866</td>\n",
       "      <td>1649.117753</td>\n",
       "      <td>-399.645348</td>\n",
       "      <td>1650.398209</td>\n",
       "      <td>-400.654533</td>\n",
       "      <td>30.808018</td>\n",
       "      <td>7.673551</td>\n",
       "      <td>12.693123</td>\n",
       "      <td>8.546950</td>\n",
       "      <td>2.728061</td>\n",
       "      <td>22.726109</td>\n",
       "      <td>6.261537</td>\n",
       "      <td>3.945650</td>\n",
       "      <td>34.894598</td>\n",
       "      <td>-498.444587</td>\n",
       "      <td>30.020745</td>\n",
       "      <td>-533.831343</td>\n",
       "      <td>26.022094</td>\n",
       "      <td>-499.725484</td>\n",
       "      <td>22.992992</td>\n",
       "      <td>-499.891405</td>\n",
       "      <td>23.001911</td>\n",
       "      <td>-499.947838</td>\n",
       "      <td>20.023735</td>\n",
       "      <td>-499.713680</td>\n",
       "      <td>17.990955</td>\n",
       "      <td>-500.334769</td>\n",
       "      <td>13.007523</td>\n",
       "      <td>-499.968459</td>\n",
       "      <td>19.995999</td>\n",
       "      <td>-499.788805</td>\n",
       "      <td>3.565355</td>\n",
       "      <td>17.368636</td>\n",
       "      <td>11.790439</td>\n",
       "      <td>0.851957</td>\n",
       "      <td>45.426882</td>\n",
       "      <td>3.438732</td>\n",
       "      <td>12.035050</td>\n",
       "      <td>7.033351</td>\n",
       "      <td>74.463380</td>\n",
       "      <td>1.616565</td>\n",
       "      <td>9.104377</td>\n",
       "      <td>2.839418</td>\n",
       "      <td>9.975397</td>\n",
       "    </tr>\n",
       "    <tr>\n",
       "      <th>14584</th>\n",
       "      <td>2017-12-09 19:59:59</td>\n",
       "      <td>5.848338</td>\n",
       "      <td>6.234198</td>\n",
       "      <td>4.468803</td>\n",
       "      <td>37.816555</td>\n",
       "      <td>547.515088</td>\n",
       "      <td>85.875864</td>\n",
       "      <td>8.040386</td>\n",
       "      <td>7.500718</td>\n",
       "      <td>1201.408796</td>\n",
       "      <td>-299.647294</td>\n",
       "      <td>1099.371712</td>\n",
       "      <td>-500.851578</td>\n",
       "      <td>1000.828849</td>\n",
       "      <td>-500.771063</td>\n",
       "      <td>908.440150</td>\n",
       "      <td>-499.396372</td>\n",
       "      <td>801.705348</td>\n",
       "      <td>-499.154561</td>\n",
       "      <td>800.806836</td>\n",
       "      <td>-501.758565</td>\n",
       "      <td>8.037074</td>\n",
       "      <td>7.500771</td>\n",
       "      <td>42054.048388</td>\n",
       "      <td>2505.502123</td>\n",
       "      <td>2505.098557</td>\n",
       "      <td>1.308704</td>\n",
       "      <td>19.230177</td>\n",
       "      <td>11.216226</td>\n",
       "      <td>10.442709</td>\n",
       "      <td>30.972099</td>\n",
       "      <td>89.243530</td>\n",
       "      <td>0.863414</td>\n",
       "      <td>4.276967</td>\n",
       "      <td>0.659587</td>\n",
       "      <td>17.159297</td>\n",
       "      <td>120.791379</td>\n",
       "      <td>7.030248</td>\n",
       "      <td>6.410000</td>\n",
       "      <td>0.803745</td>\n",
       "      <td>1650.458695</td>\n",
       "      <td>-399.463102</td>\n",
       "      <td>1649.728864</td>\n",
       "      <td>-400.035217</td>\n",
       "      <td>1650.220554</td>\n",
       "      <td>-399.584186</td>\n",
       "      <td>1651.197408</td>\n",
       "      <td>-400.045547</td>\n",
       "      <td>31.192106</td>\n",
       "      <td>7.583398</td>\n",
       "      <td>12.791478</td>\n",
       "      <td>8.668158</td>\n",
       "      <td>2.706104</td>\n",
       "      <td>22.496446</td>\n",
       "      <td>6.197908</td>\n",
       "      <td>4.160807</td>\n",
       "      <td>35.068975</td>\n",
       "      <td>-500.959366</td>\n",
       "      <td>30.060564</td>\n",
       "      <td>-513.400897</td>\n",
       "      <td>25.984428</td>\n",
       "      <td>-500.428575</td>\n",
       "      <td>22.959393</td>\n",
       "      <td>-499.870606</td>\n",
       "      <td>22.977833</td>\n",
       "      <td>-499.910098</td>\n",
       "      <td>20.000113</td>\n",
       "      <td>-500.584093</td>\n",
       "      <td>18.003899</td>\n",
       "      <td>-500.326371</td>\n",
       "      <td>12.978611</td>\n",
       "      <td>-499.966502</td>\n",
       "      <td>19.988673</td>\n",
       "      <td>-500.742891</td>\n",
       "      <td>3.610105</td>\n",
       "      <td>17.165060</td>\n",
       "      <td>11.967248</td>\n",
       "      <td>0.798891</td>\n",
       "      <td>45.432016</td>\n",
       "      <td>3.404031</td>\n",
       "      <td>11.917034</td>\n",
       "      <td>7.024447</td>\n",
       "      <td>73.391498</td>\n",
       "      <td>1.718511</td>\n",
       "      <td>9.291854</td>\n",
       "      <td>3.000681</td>\n",
       "      <td>9.723773</td>\n",
       "    </tr>\n",
       "  </tbody>\n",
       "</table>\n",
       "</div>"
      ],
      "text/plain": [
       "                      date  rougher.input.feed_au  rougher.input.feed_ag  \\\n",
       "14579  2017-12-09 14:59:59               4.365491               6.158718   \n",
       "14580  2017-12-09 15:59:59               4.362781               6.048130   \n",
       "14581  2017-12-09 16:59:59               5.081681               6.082745   \n",
       "14582  2017-12-09 17:59:59               5.145949               6.084374   \n",
       "14583  2017-12-09 18:59:59               5.735249               6.165220   \n",
       "14584  2017-12-09 19:59:59               5.848338               6.234198   \n",
       "\n",
       "       rougher.input.feed_pb  rougher.input.feed_sol  rougher.input.feed_rate  \\\n",
       "14579               3.875727               39.135119               555.820208   \n",
       "14580               3.902537               39.713906               544.731687   \n",
       "14581               4.564078               37.208683               558.155110   \n",
       "14582               4.768124               36.808874               539.713765   \n",
       "14583               4.512346               37.810642               558.713584   \n",
       "14584               4.468803               37.816555               547.515088   \n",
       "\n",
       "       rougher.input.feed_size  rougher.input.floatbank10_sulfate  \\\n",
       "14579                94.544358                           6.146982   \n",
       "14580               123.742430                           6.210119   \n",
       "14581                82.610855                           7.363824   \n",
       "14582                77.984784                           6.927072   \n",
       "14583                86.434874                           7.823471   \n",
       "14584                85.875864                           8.040386   \n",
       "\n",
       "       rougher.input.floatbank10_xanthate  rougher.state.floatbank10_a_air  \\\n",
       "14579                            9.308612                      1196.238112   \n",
       "14580                            9.297709                      1201.904177   \n",
       "14581                            9.003562                      1200.826926   \n",
       "14582                            8.955597                      1199.292489   \n",
       "14583                            7.490356                      1198.005449   \n",
       "14584                            7.500718                      1201.408796   \n",
       "\n",
       "       rougher.state.floatbank10_a_level  rougher.state.floatbank10_b_air  \\\n",
       "14579                        -299.862743                      1147.248241   \n",
       "14580                        -299.907308                      1154.087804   \n",
       "14581                        -300.124116                      1150.754676   \n",
       "14582                        -299.778385                      1152.512559   \n",
       "14583                        -300.283401                      1099.481500   \n",
       "14584                        -299.647294                      1099.371712   \n",
       "\n",
       "       rougher.state.floatbank10_b_level  rougher.state.floatbank10_c_air  \\\n",
       "14579                        -500.363165                      1047.279065   \n",
       "14580                        -500.036580                      1054.009756   \n",
       "14581                        -499.986009                      1049.182824   \n",
       "14582                        -500.338106                      1052.601592   \n",
       "14583                        -499.702465                       999.539264   \n",
       "14584                        -500.851578                      1000.828849   \n",
       "\n",
       "       rougher.state.floatbank10_c_level  rougher.state.floatbank10_d_air  \\\n",
       "14579                        -500.354091                       948.756608   \n",
       "14580                        -500.237335                       944.138793   \n",
       "14581                        -500.014696                       948.085464   \n",
       "14582                        -499.695075                       955.171539   \n",
       "14583                        -499.306051                       889.445596   \n",
       "14584                        -500.771063                       908.440150   \n",
       "\n",
       "       rougher.state.floatbank10_d_level  rougher.state.floatbank10_e_air  \\\n",
       "14579                        -498.439416                       849.441918   \n",
       "14580                        -496.866953                       851.589767   \n",
       "14581                        -499.997003                       850.170086   \n",
       "14582                        -500.294989                       851.957342   \n",
       "14583                        -498.118617                       800.533525   \n",
       "14584                        -499.396372                       801.705348   \n",
       "\n",
       "       rougher.state.floatbank10_e_level  rougher.state.floatbank10_f_air  \\\n",
       "14579                        -499.255503                       850.112246   \n",
       "14580                        -499.040466                       851.345606   \n",
       "14581                        -500.270334                       849.557905   \n",
       "14582                        -499.779541                       850.765662   \n",
       "14583                        -499.765068                       800.510356   \n",
       "14584                        -499.154561                       800.806836   \n",
       "\n",
       "       rougher.state.floatbank10_f_level  rougher.input.floatbank11_sulfate  \\\n",
       "14579                        -499.407112                           6.168939   \n",
       "14580                        -499.122561                           6.209517   \n",
       "14581                        -500.198702                           7.358308   \n",
       "14582                        -501.030559                           6.929364   \n",
       "14583                        -497.289533                           7.824875   \n",
       "14584                        -501.758565                           8.037074   \n",
       "\n",
       "       rougher.input.floatbank11_xanthate  \\\n",
       "14579                            9.309852   \n",
       "14580                            9.297194   \n",
       "14581                            9.000624   \n",
       "14582                            8.920717   \n",
       "14583                            7.500678   \n",
       "14584                            7.500771   \n",
       "\n",
       "       rougher.calculation.sulfate_to_au_concentrate  \\\n",
       "14579                                   44082.866565   \n",
       "14580                                   44084.735708   \n",
       "14581                                   47344.521623   \n",
       "14582                                   42143.655118   \n",
       "14583                                   42057.573133   \n",
       "14584                                   42054.048388   \n",
       "\n",
       "       rougher.calculation.floatbank10_sulfate_to_au_feed  \\\n",
       "14579                                        2487.477762    \n",
       "14580                                        2507.572494    \n",
       "14581                                        2486.372996    \n",
       "14582                                        2518.384030    \n",
       "14583                                        2509.841607    \n",
       "14584                                        2505.502123    \n",
       "\n",
       "       rougher.calculation.floatbank11_sulfate_to_au_feed  \\\n",
       "14579                                        2488.626080    \n",
       "14580                                        2507.723361    \n",
       "14581                                        2484.340934    \n",
       "14582                                        2519.316168    \n",
       "14583                                        2510.449296    \n",
       "14584                                        2505.098557    \n",
       "\n",
       "       rougher.calculation.au_pb_ratio  rougher.output.concentrate_au  \\\n",
       "14579                         1.126367                      17.804134   \n",
       "14580                         1.117935                      17.834772   \n",
       "14581                         1.113408                      18.584333   \n",
       "14582                         1.079240                      18.260411   \n",
       "14583                         1.271012                      19.053508   \n",
       "14584                         1.308704                      19.230177   \n",
       "\n",
       "       rougher.output.concentrate_ag  rougher.output.concentrate_pb  \\\n",
       "14579                      11.959486                      10.702148   \n",
       "14580                      11.658799                      10.655377   \n",
       "14581                      11.211407                      11.068714   \n",
       "14582                      11.374600                      11.490951   \n",
       "14583                      11.108734                      10.606835   \n",
       "14584                      11.216226                      10.442709   \n",
       "\n",
       "       rougher.output.concentrate_sol  rougher.output.recovery  \\\n",
       "14579                       29.078235                89.514960   \n",
       "14580                       29.052742                89.858126   \n",
       "14581                       29.796166                91.816623   \n",
       "14582                       29.869018                88.478959   \n",
       "14583                       30.642842                89.230316   \n",
       "14584                       30.972099                89.243530   \n",
       "\n",
       "       rougher.output.tail_au  rougher.output.tail_ag  rougher.output.tail_pb  \\\n",
       "14579                0.586439                3.925473                0.638677   \n",
       "14580                0.567130                3.902494                0.625609   \n",
       "14581                0.555257                3.958529                0.546749   \n",
       "14582                0.789796                4.205933                0.627657   \n",
       "14583                0.844490                4.245506                0.648366   \n",
       "14584                0.863414                4.276967                0.659587   \n",
       "\n",
       "       rougher.output.tail_sol  primary_cleaner.input.sulfate  \\\n",
       "14579                19.946673                      95.248427   \n",
       "14580                19.423740                      98.880538   \n",
       "14581                17.403429                     119.497545   \n",
       "14582                15.233675                     108.080163   \n",
       "14583                17.116762                     117.750648   \n",
       "14584                17.159297                     120.791379   \n",
       "\n",
       "       primary_cleaner.input.depressant  primary_cleaner.input.feed_size  \\\n",
       "14579                          8.078957                         6.500000   \n",
       "14580                          7.984164                         6.500000   \n",
       "14581                          8.003752                         6.500000   \n",
       "14582                          7.970121                         6.660000   \n",
       "14583                          6.954311                         6.426667   \n",
       "14584                          7.030248                         6.410000   \n",
       "\n",
       "       primary_cleaner.input.xanthate  primary_cleaner.state.floatbank8_a_air  \\\n",
       "14579                        1.283045                             1648.759906   \n",
       "14580                        1.241969                             1646.547763   \n",
       "14581                        1.259741                             1647.368779   \n",
       "14582                        0.774909                             1652.660845   \n",
       "14583                        0.731271                             1649.411497   \n",
       "14584                        0.803745                             1650.458695   \n",
       "\n",
       "       primary_cleaner.state.floatbank8_a_level  \\\n",
       "14579                               -399.862053   \n",
       "14580                               -398.977083   \n",
       "14581                               -399.788506   \n",
       "14582                               -399.702218   \n",
       "14583                               -399.853156   \n",
       "14584                               -399.463102   \n",
       "\n",
       "       primary_cleaner.state.floatbank8_b_air  \\\n",
       "14579                             1650.135395   \n",
       "14580                             1648.212240   \n",
       "14581                             1648.395206   \n",
       "14582                             1651.203128   \n",
       "14583                             1648.917211   \n",
       "14584                             1649.728864   \n",
       "\n",
       "       primary_cleaner.state.floatbank8_b_level  \\\n",
       "14579                               -399.957321   \n",
       "14580                               -400.383265   \n",
       "14581                               -400.166490   \n",
       "14582                               -400.291472   \n",
       "14583                               -400.321866   \n",
       "14584                               -400.035217   \n",
       "\n",
       "       primary_cleaner.state.floatbank8_c_air  \\\n",
       "14579                             1648.831890   \n",
       "14580                             1648.917387   \n",
       "14581                             1648.953828   \n",
       "14582                             1651.924848   \n",
       "14583                             1649.117753   \n",
       "14584                             1650.220554   \n",
       "\n",
       "       primary_cleaner.state.floatbank8_c_level  \\\n",
       "14579                               -400.586116   \n",
       "14580                               -399.521344   \n",
       "14581                               -400.468641   \n",
       "14582                               -398.058033   \n",
       "14583                               -399.645348   \n",
       "14584                               -399.584186   \n",
       "\n",
       "       primary_cleaner.state.floatbank8_d_air  \\\n",
       "14579                             1649.464582   \n",
       "14580                             1651.498591   \n",
       "14581                             1649.821569   \n",
       "14582                             1650.782696   \n",
       "14583                             1650.398209   \n",
       "14584                             1651.197408   \n",
       "\n",
       "       primary_cleaner.state.floatbank8_d_level  \\\n",
       "14579                               -400.673303   \n",
       "14580                               -399.745329   \n",
       "14581                               -400.071884   \n",
       "14582                               -399.597977   \n",
       "14583                               -400.654533   \n",
       "14584                               -400.045547   \n",
       "\n",
       "       primary_cleaner.output.concentrate_au  \\\n",
       "14579                              30.356618   \n",
       "14580                              30.770892   \n",
       "14581                              32.763603   \n",
       "14582                              32.432209   \n",
       "14583                              30.808018   \n",
       "14584                              31.192106   \n",
       "\n",
       "       primary_cleaner.output.concentrate_ag  \\\n",
       "14579                               7.537584   \n",
       "14580                               7.490444   \n",
       "14581                               6.650871   \n",
       "14582                               6.723180   \n",
       "14583                               7.673551   \n",
       "14584                               7.583398   \n",
       "\n",
       "       primary_cleaner.output.concentrate_pb  \\\n",
       "14579                              11.650285   \n",
       "14580                              12.012378   \n",
       "14581                              12.428122   \n",
       "14582                              13.105695   \n",
       "14583                              12.693123   \n",
       "14584                              12.791478   \n",
       "\n",
       "       primary_cleaner.output.concentrate_sol  primary_cleaner.output.tail_au  \\\n",
       "14579                                6.203553                        2.708046   \n",
       "14580                                6.942972                        2.800648   \n",
       "14581                                7.089553                        2.523626   \n",
       "14582                                7.979863                        3.462451   \n",
       "14583                                8.546950                        2.728061   \n",
       "14584                                8.668158                        2.706104   \n",
       "\n",
       "       primary_cleaner.output.tail_ag  primary_cleaner.output.tail_pb  \\\n",
       "14579                       22.735927                        6.084287   \n",
       "14580                       22.714656                        6.253145   \n",
       "14581                       23.095983                        6.571676   \n",
       "14582                       22.101497                        6.437497   \n",
       "14583                       22.726109                        6.261537   \n",
       "14584                       22.496446                        6.197908   \n",
       "\n",
       "       primary_cleaner.output.tail_sol  \\\n",
       "14579                         3.026699   \n",
       "14580                         3.557121   \n",
       "14581                         3.714114   \n",
       "14582                         4.543611   \n",
       "14583                         3.945650   \n",
       "14584                         4.160807   \n",
       "\n",
       "       secondary_cleaner.state.floatbank2_a_air  \\\n",
       "14579                                 34.940919   \n",
       "14580                                 34.980742   \n",
       "14581                                 34.952967   \n",
       "14582                                 35.038256   \n",
       "14583                                 34.894598   \n",
       "14584                                 35.068975   \n",
       "\n",
       "       secondary_cleaner.state.floatbank2_a_level  \\\n",
       "14579                                 -500.150510   \n",
       "14580                                 -498.131002   \n",
       "14581                                 -501.204647   \n",
       "14582                                 -500.102649   \n",
       "14583                                 -498.444587   \n",
       "14584                                 -500.959366   \n",
       "\n",
       "       secondary_cleaner.state.floatbank2_b_air  \\\n",
       "14579                                 30.031867   \n",
       "14580                                 29.968453   \n",
       "14581                                 29.927025   \n",
       "14582                                 30.066959   \n",
       "14583                                 30.020745   \n",
       "14584                                 30.060564   \n",
       "\n",
       "       secondary_cleaner.state.floatbank2_b_level  \\\n",
       "14579                                 -500.328335   \n",
       "14580                                 -586.013330   \n",
       "14581                                 -500.106628   \n",
       "14582                                 -500.211499   \n",
       "14583                                 -533.831343   \n",
       "14584                                 -513.400897   \n",
       "\n",
       "       secondary_cleaner.state.floatbank3_a_air  \\\n",
       "14579                                 26.033990   \n",
       "14580                                 25.971737   \n",
       "14581                                 25.978253   \n",
       "14582                                 26.013515   \n",
       "14583                                 26.022094   \n",
       "14584                                 25.984428   \n",
       "\n",
       "       secondary_cleaner.state.floatbank3_a_level  \\\n",
       "14579                                 -500.147792   \n",
       "14580                                 -499.608392   \n",
       "14581                                 -499.890060   \n",
       "14582                                 -500.054597   \n",
       "14583                                 -499.725484   \n",
       "14584                                 -500.428575   \n",
       "\n",
       "       secondary_cleaner.state.floatbank3_b_air  \\\n",
       "14579                                 22.952306   \n",
       "14580                                 22.958448   \n",
       "14581                                 23.004376   \n",
       "14582                                 22.988928   \n",
       "14583                                 22.992992   \n",
       "14584                                 22.959393   \n",
       "\n",
       "       secondary_cleaner.state.floatbank3_b_level  \\\n",
       "14579                                 -500.037678   \n",
       "14580                                 -499.821308   \n",
       "14581                                 -500.014529   \n",
       "14582                                 -499.981410   \n",
       "14583                                 -499.891405   \n",
       "14584                                 -499.870606   \n",
       "\n",
       "       secondary_cleaner.state.floatbank4_a_air  \\\n",
       "14579                                 23.018622   \n",
       "14580                                 23.024963   \n",
       "14581                                 22.993827   \n",
       "14582                                 23.032807   \n",
       "14583                                 23.001911   \n",
       "14584                                 22.977833   \n",
       "\n",
       "       secondary_cleaner.state.floatbank4_a_level  \\\n",
       "14579                                 -500.492702   \n",
       "14580                                 -501.153409   \n",
       "14581                                 -501.559663   \n",
       "14582                                 -501.287889   \n",
       "14583                                 -499.947838   \n",
       "14584                                 -499.910098   \n",
       "\n",
       "       secondary_cleaner.state.floatbank4_b_air  \\\n",
       "14579                                 20.020205   \n",
       "14580                                 20.054122   \n",
       "14581                                 20.029144   \n",
       "14582                                 19.977466   \n",
       "14583                                 20.023735   \n",
       "14584                                 20.000113   \n",
       "\n",
       "       secondary_cleaner.state.floatbank4_b_level  \\\n",
       "14579                                 -500.220296   \n",
       "14580                                 -500.314711   \n",
       "14581                                 -500.000662   \n",
       "14582                                 -500.159903   \n",
       "14583                                 -499.713680   \n",
       "14584                                 -500.584093   \n",
       "\n",
       "       secondary_cleaner.state.floatbank5_a_air  \\\n",
       "14579                                 17.963512   \n",
       "14580                                 17.979515   \n",
       "14581                                 18.012723   \n",
       "14582                                 17.980463   \n",
       "14583                                 17.990955   \n",
       "14584                                 18.003899   \n",
       "\n",
       "       secondary_cleaner.state.floatbank5_a_level  \\\n",
       "14579                                 -499.939490   \n",
       "14580                                 -499.272871   \n",
       "14581                                 -500.024764   \n",
       "14582                                 -500.504602   \n",
       "14583                                 -500.334769   \n",
       "14584                                 -500.326371   \n",
       "\n",
       "       secondary_cleaner.state.floatbank5_b_air  \\\n",
       "14579                                 12.990306   \n",
       "14580                                 12.992404   \n",
       "14581                                 13.016445   \n",
       "14582                                 12.949071   \n",
       "14583                                 13.007523   \n",
       "14584                                 12.978611   \n",
       "\n",
       "       secondary_cleaner.state.floatbank5_b_level  \\\n",
       "14579                                 -500.080993   \n",
       "14580                                 -499.976268   \n",
       "14581                                 -500.058432   \n",
       "14582                                 -500.009937   \n",
       "14583                                 -499.968459   \n",
       "14584                                 -499.966502   \n",
       "\n",
       "       secondary_cleaner.state.floatbank6_a_air  \\\n",
       "14579                                 19.990336   \n",
       "14580                                 20.013986   \n",
       "14581                                 19.973767   \n",
       "14582                                 20.010332   \n",
       "14583                                 19.995999   \n",
       "14584                                 19.988673   \n",
       "\n",
       "       secondary_cleaner.state.floatbank6_a_level  \\\n",
       "14579                                 -499.191575   \n",
       "14580                                 -500.625471   \n",
       "14581                                 -501.394155   \n",
       "14582                                 -508.337973   \n",
       "14583                                 -499.788805   \n",
       "14584                                 -500.742891   \n",
       "\n",
       "       secondary_cleaner.output.tail_au  secondary_cleaner.output.tail_ag  \\\n",
       "14579                          0.000000                          0.000000   \n",
       "14580                          0.000000                          0.000000   \n",
       "14581                          0.000000                          0.000000   \n",
       "14582                          5.510263                         16.282560   \n",
       "14583                          3.565355                         17.368636   \n",
       "14584                          3.610105                         17.165060   \n",
       "\n",
       "       secondary_cleaner.output.tail_pb  secondary_cleaner.output.tail_sol  \\\n",
       "14579                          0.000000                           0.000000   \n",
       "14580                          0.000000                           0.000000   \n",
       "14581                          0.000000                           0.000000   \n",
       "14582                         13.101025                           0.609960   \n",
       "14583                         11.790439                           0.851957   \n",
       "14584                         11.967248                           0.798891   \n",
       "\n",
       "       final.output.concentrate_au  final.output.concentrate_ag  \\\n",
       "14579                    46.299438                     3.598375   \n",
       "14580                    46.408188                     3.367241   \n",
       "14581                    46.710119                     3.192996   \n",
       "14582                    45.068492                     3.500876   \n",
       "14583                    45.426882                     3.438732   \n",
       "14584                    45.432016                     3.404031   \n",
       "\n",
       "       final.output.concentrate_pb  final.output.concentrate_sol  \\\n",
       "14579                    11.737832                      6.717509   \n",
       "14580                    11.625587                      6.799433   \n",
       "14581                    11.612338                      6.824441   \n",
       "14582                    12.522030                      6.666484   \n",
       "14583                    12.035050                      7.033351   \n",
       "14584                    11.917034                      7.024447   \n",
       "\n",
       "       final.output.recovery  final.output.tail_au  final.output.tail_ag  \\\n",
       "14579              70.281454              1.389434              8.406690   \n",
       "14580              65.523246              1.602879              8.777171   \n",
       "14581              74.817644              1.393077              8.665858   \n",
       "14582              63.082720              2.047201              9.012745   \n",
       "14583              74.463380              1.616565              9.104377   \n",
       "14584              73.391498              1.718511              9.291854   \n",
       "\n",
       "       final.output.tail_pb  final.output.tail_sol  \n",
       "14579              2.517518              10.652193  \n",
       "14580              2.819214              10.463847  \n",
       "14581              2.938592              10.241498  \n",
       "14582              3.513789              10.392631  \n",
       "14583              2.839418               9.975397  \n",
       "14584              3.000681               9.723773  "
      ]
     },
     "execution_count": 22,
     "metadata": {},
     "output_type": "execute_result"
    }
   ],
   "source": [
    "dcheck2 = pd.concat([dtrain,dfull])\n",
    "dcheck2 = dcheck2.drop_duplicates(keep=False)\n",
    "print(dcheck2.shape)\n",
    "dtest_fromfull = dcheck2.sort_values(by='date')\n",
    "dtest_fromfull.head(6)"
   ]
  },
  {
   "cell_type": "markdown",
   "metadata": {},
   "source": [
    "У нас осталось 4860 строк - это как раз количество объектов в тестовом наборе данных. Сохраним их в dtest_fromfull (они пригодятся при будущем тестировании моделей, так как в исходном наборе dtest у нас нет целевых признаков)."
   ]
  },
  {
   "cell_type": "markdown",
   "metadata": {},
   "source": [
    "**Вывод:**\n",
    "- в тестовом наборе содержалось 53 колонки (в отличие от dtrain,dfull, содержащих по 87 колонок).\n",
    "<br> Среди отсутствующих в основном колонки типа Output, а также пара колонок типа Calculations (которые считаются на основе Output). Также в тестовой выборке нет целевых признаков - final.output.recovery и rougher.output.recovery.\n",
    "Этих данных не хватает в тестовой выборке, так как они замеряются и/или рассчитываются значительно позже.Если бы эти колонки присутствовали в тестовом наборе, это бы означало утечку целевого признака. Поэтому при обучении и прогнозировании модели необходимо эти колонки удалить из набора feature_train.\n",
    "- по общему набору колонок (53шт.) у dtrain,dtest и dfull Отличий в данных нет\n",
    "- по остальным колонкам (34шт) данные между dtrain и dfull также совпадают.\n",
    "- тестовый набор данных с целевыми признаками (output и calculations) сохранен в переменную dtest_fromfull для последующей оценки качества модели на тестовых данных."
   ]
  },
  {
   "cell_type": "markdown",
   "metadata": {},
   "source": [
    "### Предобработка данных"
   ]
  },
  {
   "cell_type": "markdown",
   "metadata": {},
   "source": [
    "#### Обработка пропусков"
   ]
  },
  {
   "cell_type": "markdown",
   "metadata": {},
   "source": [
    "Посчитаем количество пропусков в колонках:"
   ]
  },
  {
   "cell_type": "code",
   "execution_count": 23,
   "metadata": {},
   "outputs": [
    {
     "data": {
      "text/plain": [
       "date                       0\n",
       "rougher.input.feed_au      0\n",
       "rougher.input.feed_ag      0\n",
       "rougher.input.feed_pb     72\n",
       "rougher.input.feed_sol    77\n",
       "                          ..\n",
       "final.output.recovery      0\n",
       "final.output.tail_au       0\n",
       "final.output.tail_ag       1\n",
       "final.output.tail_pb      75\n",
       "final.output.tail_sol      5\n",
       "Length: 87, dtype: int64"
      ]
     },
     "execution_count": 23,
     "metadata": {},
     "output_type": "execute_result"
    }
   ],
   "source": [
    "dtrain.isna().sum()"
   ]
  },
  {
   "cell_type": "markdown",
   "metadata": {},
   "source": [
    "Так как вычисления делаются раз в час и соседние значения часто похожи друг на друга, заполним пропуски методом ffill. Так как метод вставляет значения из предыдущей строки, на всякий случай предварительно отсортируем строки по дате."
   ]
  },
  {
   "cell_type": "code",
   "execution_count": 24,
   "metadata": {
    "scrolled": true
   },
   "outputs": [
    {
     "data": {
      "text/html": [
       "<div>\n",
       "<style scoped>\n",
       "    .dataframe tbody tr th:only-of-type {\n",
       "        vertical-align: middle;\n",
       "    }\n",
       "\n",
       "    .dataframe tbody tr th {\n",
       "        vertical-align: top;\n",
       "    }\n",
       "\n",
       "    .dataframe thead th {\n",
       "        text-align: right;\n",
       "    }\n",
       "</style>\n",
       "<table border=\"1\" class=\"dataframe\">\n",
       "  <thead>\n",
       "    <tr style=\"text-align: right;\">\n",
       "      <th></th>\n",
       "      <th>date</th>\n",
       "      <th>rougher.input.feed_au</th>\n",
       "      <th>rougher.input.feed_ag</th>\n",
       "      <th>rougher.input.feed_pb</th>\n",
       "      <th>rougher.input.feed_sol</th>\n",
       "      <th>rougher.input.feed_rate</th>\n",
       "      <th>rougher.input.feed_size</th>\n",
       "      <th>rougher.input.floatbank10_sulfate</th>\n",
       "      <th>rougher.input.floatbank10_xanthate</th>\n",
       "      <th>rougher.state.floatbank10_a_air</th>\n",
       "      <th>rougher.state.floatbank10_a_level</th>\n",
       "      <th>rougher.state.floatbank10_b_air</th>\n",
       "      <th>rougher.state.floatbank10_b_level</th>\n",
       "      <th>rougher.state.floatbank10_c_air</th>\n",
       "      <th>rougher.state.floatbank10_c_level</th>\n",
       "      <th>rougher.state.floatbank10_d_air</th>\n",
       "      <th>rougher.state.floatbank10_d_level</th>\n",
       "      <th>rougher.state.floatbank10_e_air</th>\n",
       "      <th>rougher.state.floatbank10_e_level</th>\n",
       "      <th>rougher.state.floatbank10_f_air</th>\n",
       "      <th>rougher.state.floatbank10_f_level</th>\n",
       "      <th>rougher.input.floatbank11_sulfate</th>\n",
       "      <th>rougher.input.floatbank11_xanthate</th>\n",
       "      <th>rougher.calculation.sulfate_to_au_concentrate</th>\n",
       "      <th>rougher.calculation.floatbank10_sulfate_to_au_feed</th>\n",
       "      <th>rougher.calculation.floatbank11_sulfate_to_au_feed</th>\n",
       "      <th>rougher.calculation.au_pb_ratio</th>\n",
       "      <th>rougher.output.concentrate_au</th>\n",
       "      <th>rougher.output.concentrate_ag</th>\n",
       "      <th>rougher.output.concentrate_pb</th>\n",
       "      <th>rougher.output.concentrate_sol</th>\n",
       "      <th>rougher.output.recovery</th>\n",
       "      <th>rougher.output.tail_au</th>\n",
       "      <th>rougher.output.tail_ag</th>\n",
       "      <th>rougher.output.tail_pb</th>\n",
       "      <th>rougher.output.tail_sol</th>\n",
       "      <th>primary_cleaner.input.sulfate</th>\n",
       "      <th>primary_cleaner.input.depressant</th>\n",
       "      <th>primary_cleaner.input.feed_size</th>\n",
       "      <th>primary_cleaner.input.xanthate</th>\n",
       "      <th>primary_cleaner.state.floatbank8_a_air</th>\n",
       "      <th>primary_cleaner.state.floatbank8_a_level</th>\n",
       "      <th>primary_cleaner.state.floatbank8_b_air</th>\n",
       "      <th>primary_cleaner.state.floatbank8_b_level</th>\n",
       "      <th>primary_cleaner.state.floatbank8_c_air</th>\n",
       "      <th>primary_cleaner.state.floatbank8_c_level</th>\n",
       "      <th>primary_cleaner.state.floatbank8_d_air</th>\n",
       "      <th>primary_cleaner.state.floatbank8_d_level</th>\n",
       "      <th>primary_cleaner.output.concentrate_au</th>\n",
       "      <th>primary_cleaner.output.concentrate_ag</th>\n",
       "      <th>primary_cleaner.output.concentrate_pb</th>\n",
       "      <th>primary_cleaner.output.concentrate_sol</th>\n",
       "      <th>primary_cleaner.output.tail_au</th>\n",
       "      <th>primary_cleaner.output.tail_ag</th>\n",
       "      <th>primary_cleaner.output.tail_pb</th>\n",
       "      <th>primary_cleaner.output.tail_sol</th>\n",
       "      <th>secondary_cleaner.state.floatbank2_a_air</th>\n",
       "      <th>secondary_cleaner.state.floatbank2_a_level</th>\n",
       "      <th>secondary_cleaner.state.floatbank2_b_air</th>\n",
       "      <th>secondary_cleaner.state.floatbank2_b_level</th>\n",
       "      <th>secondary_cleaner.state.floatbank3_a_air</th>\n",
       "      <th>secondary_cleaner.state.floatbank3_a_level</th>\n",
       "      <th>secondary_cleaner.state.floatbank3_b_air</th>\n",
       "      <th>secondary_cleaner.state.floatbank3_b_level</th>\n",
       "      <th>secondary_cleaner.state.floatbank4_a_air</th>\n",
       "      <th>secondary_cleaner.state.floatbank4_a_level</th>\n",
       "      <th>secondary_cleaner.state.floatbank4_b_air</th>\n",
       "      <th>secondary_cleaner.state.floatbank4_b_level</th>\n",
       "      <th>secondary_cleaner.state.floatbank5_a_air</th>\n",
       "      <th>secondary_cleaner.state.floatbank5_a_level</th>\n",
       "      <th>secondary_cleaner.state.floatbank5_b_air</th>\n",
       "      <th>secondary_cleaner.state.floatbank5_b_level</th>\n",
       "      <th>secondary_cleaner.state.floatbank6_a_air</th>\n",
       "      <th>secondary_cleaner.state.floatbank6_a_level</th>\n",
       "      <th>secondary_cleaner.output.tail_au</th>\n",
       "      <th>secondary_cleaner.output.tail_ag</th>\n",
       "      <th>secondary_cleaner.output.tail_pb</th>\n",
       "      <th>secondary_cleaner.output.tail_sol</th>\n",
       "      <th>final.output.concentrate_au</th>\n",
       "      <th>final.output.concentrate_ag</th>\n",
       "      <th>final.output.concentrate_pb</th>\n",
       "      <th>final.output.concentrate_sol</th>\n",
       "      <th>final.output.recovery</th>\n",
       "      <th>final.output.tail_au</th>\n",
       "      <th>final.output.tail_ag</th>\n",
       "      <th>final.output.tail_pb</th>\n",
       "      <th>final.output.tail_sol</th>\n",
       "    </tr>\n",
       "  </thead>\n",
       "  <tbody>\n",
       "  </tbody>\n",
       "</table>\n",
       "</div>"
      ],
      "text/plain": [
       "Empty DataFrame\n",
       "Columns: [date, rougher.input.feed_au, rougher.input.feed_ag, rougher.input.feed_pb, rougher.input.feed_sol, rougher.input.feed_rate, rougher.input.feed_size, rougher.input.floatbank10_sulfate, rougher.input.floatbank10_xanthate, rougher.state.floatbank10_a_air, rougher.state.floatbank10_a_level, rougher.state.floatbank10_b_air, rougher.state.floatbank10_b_level, rougher.state.floatbank10_c_air, rougher.state.floatbank10_c_level, rougher.state.floatbank10_d_air, rougher.state.floatbank10_d_level, rougher.state.floatbank10_e_air, rougher.state.floatbank10_e_level, rougher.state.floatbank10_f_air, rougher.state.floatbank10_f_level, rougher.input.floatbank11_sulfate, rougher.input.floatbank11_xanthate, rougher.calculation.sulfate_to_au_concentrate, rougher.calculation.floatbank10_sulfate_to_au_feed, rougher.calculation.floatbank11_sulfate_to_au_feed, rougher.calculation.au_pb_ratio, rougher.output.concentrate_au, rougher.output.concentrate_ag, rougher.output.concentrate_pb, rougher.output.concentrate_sol, rougher.output.recovery, rougher.output.tail_au, rougher.output.tail_ag, rougher.output.tail_pb, rougher.output.tail_sol, primary_cleaner.input.sulfate, primary_cleaner.input.depressant, primary_cleaner.input.feed_size, primary_cleaner.input.xanthate, primary_cleaner.state.floatbank8_a_air, primary_cleaner.state.floatbank8_a_level, primary_cleaner.state.floatbank8_b_air, primary_cleaner.state.floatbank8_b_level, primary_cleaner.state.floatbank8_c_air, primary_cleaner.state.floatbank8_c_level, primary_cleaner.state.floatbank8_d_air, primary_cleaner.state.floatbank8_d_level, primary_cleaner.output.concentrate_au, primary_cleaner.output.concentrate_ag, primary_cleaner.output.concentrate_pb, primary_cleaner.output.concentrate_sol, primary_cleaner.output.tail_au, primary_cleaner.output.tail_ag, primary_cleaner.output.tail_pb, primary_cleaner.output.tail_sol, secondary_cleaner.state.floatbank2_a_air, secondary_cleaner.state.floatbank2_a_level, secondary_cleaner.state.floatbank2_b_air, secondary_cleaner.state.floatbank2_b_level, secondary_cleaner.state.floatbank3_a_air, secondary_cleaner.state.floatbank3_a_level, secondary_cleaner.state.floatbank3_b_air, secondary_cleaner.state.floatbank3_b_level, secondary_cleaner.state.floatbank4_a_air, secondary_cleaner.state.floatbank4_a_level, secondary_cleaner.state.floatbank4_b_air, secondary_cleaner.state.floatbank4_b_level, secondary_cleaner.state.floatbank5_a_air, secondary_cleaner.state.floatbank5_a_level, secondary_cleaner.state.floatbank5_b_air, secondary_cleaner.state.floatbank5_b_level, secondary_cleaner.state.floatbank6_a_air, secondary_cleaner.state.floatbank6_a_level, secondary_cleaner.output.tail_au, secondary_cleaner.output.tail_ag, secondary_cleaner.output.tail_pb, secondary_cleaner.output.tail_sol, final.output.concentrate_au, final.output.concentrate_ag, final.output.concentrate_pb, final.output.concentrate_sol, final.output.recovery, final.output.tail_au, final.output.tail_ag, final.output.tail_pb, final.output.tail_sol]\n",
       "Index: []"
      ]
     },
     "execution_count": 24,
     "metadata": {},
     "output_type": "execute_result"
    }
   ],
   "source": [
    "dtrain = dtrain.sort_values(by='date')\n",
    "dtrain = dtrain.ffill(axis=0)\n",
    "dtrain[dtrain.isna().sum(axis=1)!=0] #выведем строки с пропусками"
   ]
  },
  {
   "cell_type": "markdown",
   "metadata": {},
   "source": [
    "Строки с пропусками заполнились."
   ]
  },
  {
   "cell_type": "markdown",
   "metadata": {},
   "source": [
    "Заполним пропуски в тестовом и полном наборе данных."
   ]
  },
  {
   "cell_type": "code",
   "execution_count": 25,
   "metadata": {},
   "outputs": [
    {
     "data": {
      "text/html": [
       "<div>\n",
       "<style scoped>\n",
       "    .dataframe tbody tr th:only-of-type {\n",
       "        vertical-align: middle;\n",
       "    }\n",
       "\n",
       "    .dataframe tbody tr th {\n",
       "        vertical-align: top;\n",
       "    }\n",
       "\n",
       "    .dataframe thead th {\n",
       "        text-align: right;\n",
       "    }\n",
       "</style>\n",
       "<table border=\"1\" class=\"dataframe\">\n",
       "  <thead>\n",
       "    <tr style=\"text-align: right;\">\n",
       "      <th></th>\n",
       "      <th>date</th>\n",
       "      <th>rougher.input.feed_au</th>\n",
       "      <th>rougher.input.feed_ag</th>\n",
       "      <th>rougher.input.feed_pb</th>\n",
       "      <th>rougher.input.feed_sol</th>\n",
       "      <th>rougher.input.feed_rate</th>\n",
       "      <th>rougher.input.feed_size</th>\n",
       "      <th>rougher.input.floatbank10_sulfate</th>\n",
       "      <th>rougher.input.floatbank10_xanthate</th>\n",
       "      <th>rougher.state.floatbank10_a_air</th>\n",
       "      <th>rougher.state.floatbank10_a_level</th>\n",
       "      <th>rougher.state.floatbank10_b_air</th>\n",
       "      <th>rougher.state.floatbank10_b_level</th>\n",
       "      <th>rougher.state.floatbank10_c_air</th>\n",
       "      <th>rougher.state.floatbank10_c_level</th>\n",
       "      <th>rougher.state.floatbank10_d_air</th>\n",
       "      <th>rougher.state.floatbank10_d_level</th>\n",
       "      <th>rougher.state.floatbank10_e_air</th>\n",
       "      <th>rougher.state.floatbank10_e_level</th>\n",
       "      <th>rougher.state.floatbank10_f_air</th>\n",
       "      <th>rougher.state.floatbank10_f_level</th>\n",
       "      <th>rougher.input.floatbank11_sulfate</th>\n",
       "      <th>rougher.input.floatbank11_xanthate</th>\n",
       "      <th>primary_cleaner.input.sulfate</th>\n",
       "      <th>primary_cleaner.input.depressant</th>\n",
       "      <th>primary_cleaner.input.feed_size</th>\n",
       "      <th>primary_cleaner.input.xanthate</th>\n",
       "      <th>primary_cleaner.state.floatbank8_a_air</th>\n",
       "      <th>primary_cleaner.state.floatbank8_a_level</th>\n",
       "      <th>primary_cleaner.state.floatbank8_b_air</th>\n",
       "      <th>primary_cleaner.state.floatbank8_b_level</th>\n",
       "      <th>primary_cleaner.state.floatbank8_c_air</th>\n",
       "      <th>primary_cleaner.state.floatbank8_c_level</th>\n",
       "      <th>primary_cleaner.state.floatbank8_d_air</th>\n",
       "      <th>primary_cleaner.state.floatbank8_d_level</th>\n",
       "      <th>secondary_cleaner.state.floatbank2_a_air</th>\n",
       "      <th>secondary_cleaner.state.floatbank2_a_level</th>\n",
       "      <th>secondary_cleaner.state.floatbank2_b_air</th>\n",
       "      <th>secondary_cleaner.state.floatbank2_b_level</th>\n",
       "      <th>secondary_cleaner.state.floatbank3_a_air</th>\n",
       "      <th>secondary_cleaner.state.floatbank3_a_level</th>\n",
       "      <th>secondary_cleaner.state.floatbank3_b_air</th>\n",
       "      <th>secondary_cleaner.state.floatbank3_b_level</th>\n",
       "      <th>secondary_cleaner.state.floatbank4_a_air</th>\n",
       "      <th>secondary_cleaner.state.floatbank4_a_level</th>\n",
       "      <th>secondary_cleaner.state.floatbank4_b_air</th>\n",
       "      <th>secondary_cleaner.state.floatbank4_b_level</th>\n",
       "      <th>secondary_cleaner.state.floatbank5_a_air</th>\n",
       "      <th>secondary_cleaner.state.floatbank5_a_level</th>\n",
       "      <th>secondary_cleaner.state.floatbank5_b_air</th>\n",
       "      <th>secondary_cleaner.state.floatbank5_b_level</th>\n",
       "      <th>secondary_cleaner.state.floatbank6_a_air</th>\n",
       "      <th>secondary_cleaner.state.floatbank6_a_level</th>\n",
       "    </tr>\n",
       "  </thead>\n",
       "  <tbody>\n",
       "  </tbody>\n",
       "</table>\n",
       "</div>"
      ],
      "text/plain": [
       "Empty DataFrame\n",
       "Columns: [date, rougher.input.feed_au, rougher.input.feed_ag, rougher.input.feed_pb, rougher.input.feed_sol, rougher.input.feed_rate, rougher.input.feed_size, rougher.input.floatbank10_sulfate, rougher.input.floatbank10_xanthate, rougher.state.floatbank10_a_air, rougher.state.floatbank10_a_level, rougher.state.floatbank10_b_air, rougher.state.floatbank10_b_level, rougher.state.floatbank10_c_air, rougher.state.floatbank10_c_level, rougher.state.floatbank10_d_air, rougher.state.floatbank10_d_level, rougher.state.floatbank10_e_air, rougher.state.floatbank10_e_level, rougher.state.floatbank10_f_air, rougher.state.floatbank10_f_level, rougher.input.floatbank11_sulfate, rougher.input.floatbank11_xanthate, primary_cleaner.input.sulfate, primary_cleaner.input.depressant, primary_cleaner.input.feed_size, primary_cleaner.input.xanthate, primary_cleaner.state.floatbank8_a_air, primary_cleaner.state.floatbank8_a_level, primary_cleaner.state.floatbank8_b_air, primary_cleaner.state.floatbank8_b_level, primary_cleaner.state.floatbank8_c_air, primary_cleaner.state.floatbank8_c_level, primary_cleaner.state.floatbank8_d_air, primary_cleaner.state.floatbank8_d_level, secondary_cleaner.state.floatbank2_a_air, secondary_cleaner.state.floatbank2_a_level, secondary_cleaner.state.floatbank2_b_air, secondary_cleaner.state.floatbank2_b_level, secondary_cleaner.state.floatbank3_a_air, secondary_cleaner.state.floatbank3_a_level, secondary_cleaner.state.floatbank3_b_air, secondary_cleaner.state.floatbank3_b_level, secondary_cleaner.state.floatbank4_a_air, secondary_cleaner.state.floatbank4_a_level, secondary_cleaner.state.floatbank4_b_air, secondary_cleaner.state.floatbank4_b_level, secondary_cleaner.state.floatbank5_a_air, secondary_cleaner.state.floatbank5_a_level, secondary_cleaner.state.floatbank5_b_air, secondary_cleaner.state.floatbank5_b_level, secondary_cleaner.state.floatbank6_a_air, secondary_cleaner.state.floatbank6_a_level]\n",
       "Index: []"
      ]
     },
     "execution_count": 25,
     "metadata": {},
     "output_type": "execute_result"
    }
   ],
   "source": [
    "dtest = dtest.sort_values(by='date')\n",
    "dtest = dtest.ffill(axis=0)\n",
    "dtest[dtest.isna().sum(axis=1)!=0]"
   ]
  },
  {
   "cell_type": "code",
   "execution_count": 26,
   "metadata": {
    "scrolled": true
   },
   "outputs": [
    {
     "data": {
      "text/html": [
       "<div>\n",
       "<style scoped>\n",
       "    .dataframe tbody tr th:only-of-type {\n",
       "        vertical-align: middle;\n",
       "    }\n",
       "\n",
       "    .dataframe tbody tr th {\n",
       "        vertical-align: top;\n",
       "    }\n",
       "\n",
       "    .dataframe thead th {\n",
       "        text-align: right;\n",
       "    }\n",
       "</style>\n",
       "<table border=\"1\" class=\"dataframe\">\n",
       "  <thead>\n",
       "    <tr style=\"text-align: right;\">\n",
       "      <th></th>\n",
       "      <th>date</th>\n",
       "      <th>rougher.input.feed_au</th>\n",
       "      <th>rougher.input.feed_ag</th>\n",
       "      <th>rougher.input.feed_pb</th>\n",
       "      <th>rougher.input.feed_sol</th>\n",
       "      <th>rougher.input.feed_rate</th>\n",
       "      <th>rougher.input.feed_size</th>\n",
       "      <th>rougher.input.floatbank10_sulfate</th>\n",
       "      <th>rougher.input.floatbank10_xanthate</th>\n",
       "      <th>rougher.state.floatbank10_a_air</th>\n",
       "      <th>rougher.state.floatbank10_a_level</th>\n",
       "      <th>rougher.state.floatbank10_b_air</th>\n",
       "      <th>rougher.state.floatbank10_b_level</th>\n",
       "      <th>rougher.state.floatbank10_c_air</th>\n",
       "      <th>rougher.state.floatbank10_c_level</th>\n",
       "      <th>rougher.state.floatbank10_d_air</th>\n",
       "      <th>rougher.state.floatbank10_d_level</th>\n",
       "      <th>rougher.state.floatbank10_e_air</th>\n",
       "      <th>rougher.state.floatbank10_e_level</th>\n",
       "      <th>rougher.state.floatbank10_f_air</th>\n",
       "      <th>rougher.state.floatbank10_f_level</th>\n",
       "      <th>rougher.input.floatbank11_sulfate</th>\n",
       "      <th>rougher.input.floatbank11_xanthate</th>\n",
       "      <th>rougher.calculation.sulfate_to_au_concentrate</th>\n",
       "      <th>rougher.calculation.floatbank10_sulfate_to_au_feed</th>\n",
       "      <th>rougher.calculation.floatbank11_sulfate_to_au_feed</th>\n",
       "      <th>rougher.calculation.au_pb_ratio</th>\n",
       "      <th>rougher.output.concentrate_au</th>\n",
       "      <th>rougher.output.concentrate_ag</th>\n",
       "      <th>rougher.output.concentrate_pb</th>\n",
       "      <th>rougher.output.concentrate_sol</th>\n",
       "      <th>rougher.output.recovery</th>\n",
       "      <th>rougher.output.tail_au</th>\n",
       "      <th>rougher.output.tail_ag</th>\n",
       "      <th>rougher.output.tail_pb</th>\n",
       "      <th>rougher.output.tail_sol</th>\n",
       "      <th>primary_cleaner.input.sulfate</th>\n",
       "      <th>primary_cleaner.input.depressant</th>\n",
       "      <th>primary_cleaner.input.feed_size</th>\n",
       "      <th>primary_cleaner.input.xanthate</th>\n",
       "      <th>primary_cleaner.state.floatbank8_a_air</th>\n",
       "      <th>primary_cleaner.state.floatbank8_a_level</th>\n",
       "      <th>primary_cleaner.state.floatbank8_b_air</th>\n",
       "      <th>primary_cleaner.state.floatbank8_b_level</th>\n",
       "      <th>primary_cleaner.state.floatbank8_c_air</th>\n",
       "      <th>primary_cleaner.state.floatbank8_c_level</th>\n",
       "      <th>primary_cleaner.state.floatbank8_d_air</th>\n",
       "      <th>primary_cleaner.state.floatbank8_d_level</th>\n",
       "      <th>primary_cleaner.output.concentrate_au</th>\n",
       "      <th>primary_cleaner.output.concentrate_ag</th>\n",
       "      <th>primary_cleaner.output.concentrate_pb</th>\n",
       "      <th>primary_cleaner.output.concentrate_sol</th>\n",
       "      <th>primary_cleaner.output.tail_au</th>\n",
       "      <th>primary_cleaner.output.tail_ag</th>\n",
       "      <th>primary_cleaner.output.tail_pb</th>\n",
       "      <th>primary_cleaner.output.tail_sol</th>\n",
       "      <th>secondary_cleaner.state.floatbank2_a_air</th>\n",
       "      <th>secondary_cleaner.state.floatbank2_a_level</th>\n",
       "      <th>secondary_cleaner.state.floatbank2_b_air</th>\n",
       "      <th>secondary_cleaner.state.floatbank2_b_level</th>\n",
       "      <th>secondary_cleaner.state.floatbank3_a_air</th>\n",
       "      <th>secondary_cleaner.state.floatbank3_a_level</th>\n",
       "      <th>secondary_cleaner.state.floatbank3_b_air</th>\n",
       "      <th>secondary_cleaner.state.floatbank3_b_level</th>\n",
       "      <th>secondary_cleaner.state.floatbank4_a_air</th>\n",
       "      <th>secondary_cleaner.state.floatbank4_a_level</th>\n",
       "      <th>secondary_cleaner.state.floatbank4_b_air</th>\n",
       "      <th>secondary_cleaner.state.floatbank4_b_level</th>\n",
       "      <th>secondary_cleaner.state.floatbank5_a_air</th>\n",
       "      <th>secondary_cleaner.state.floatbank5_a_level</th>\n",
       "      <th>secondary_cleaner.state.floatbank5_b_air</th>\n",
       "      <th>secondary_cleaner.state.floatbank5_b_level</th>\n",
       "      <th>secondary_cleaner.state.floatbank6_a_air</th>\n",
       "      <th>secondary_cleaner.state.floatbank6_a_level</th>\n",
       "      <th>secondary_cleaner.output.tail_au</th>\n",
       "      <th>secondary_cleaner.output.tail_ag</th>\n",
       "      <th>secondary_cleaner.output.tail_pb</th>\n",
       "      <th>secondary_cleaner.output.tail_sol</th>\n",
       "      <th>final.output.concentrate_au</th>\n",
       "      <th>final.output.concentrate_ag</th>\n",
       "      <th>final.output.concentrate_pb</th>\n",
       "      <th>final.output.concentrate_sol</th>\n",
       "      <th>final.output.recovery</th>\n",
       "      <th>final.output.tail_au</th>\n",
       "      <th>final.output.tail_ag</th>\n",
       "      <th>final.output.tail_pb</th>\n",
       "      <th>final.output.tail_sol</th>\n",
       "    </tr>\n",
       "  </thead>\n",
       "  <tbody>\n",
       "  </tbody>\n",
       "</table>\n",
       "</div>"
      ],
      "text/plain": [
       "Empty DataFrame\n",
       "Columns: [date, rougher.input.feed_au, rougher.input.feed_ag, rougher.input.feed_pb, rougher.input.feed_sol, rougher.input.feed_rate, rougher.input.feed_size, rougher.input.floatbank10_sulfate, rougher.input.floatbank10_xanthate, rougher.state.floatbank10_a_air, rougher.state.floatbank10_a_level, rougher.state.floatbank10_b_air, rougher.state.floatbank10_b_level, rougher.state.floatbank10_c_air, rougher.state.floatbank10_c_level, rougher.state.floatbank10_d_air, rougher.state.floatbank10_d_level, rougher.state.floatbank10_e_air, rougher.state.floatbank10_e_level, rougher.state.floatbank10_f_air, rougher.state.floatbank10_f_level, rougher.input.floatbank11_sulfate, rougher.input.floatbank11_xanthate, rougher.calculation.sulfate_to_au_concentrate, rougher.calculation.floatbank10_sulfate_to_au_feed, rougher.calculation.floatbank11_sulfate_to_au_feed, rougher.calculation.au_pb_ratio, rougher.output.concentrate_au, rougher.output.concentrate_ag, rougher.output.concentrate_pb, rougher.output.concentrate_sol, rougher.output.recovery, rougher.output.tail_au, rougher.output.tail_ag, rougher.output.tail_pb, rougher.output.tail_sol, primary_cleaner.input.sulfate, primary_cleaner.input.depressant, primary_cleaner.input.feed_size, primary_cleaner.input.xanthate, primary_cleaner.state.floatbank8_a_air, primary_cleaner.state.floatbank8_a_level, primary_cleaner.state.floatbank8_b_air, primary_cleaner.state.floatbank8_b_level, primary_cleaner.state.floatbank8_c_air, primary_cleaner.state.floatbank8_c_level, primary_cleaner.state.floatbank8_d_air, primary_cleaner.state.floatbank8_d_level, primary_cleaner.output.concentrate_au, primary_cleaner.output.concentrate_ag, primary_cleaner.output.concentrate_pb, primary_cleaner.output.concentrate_sol, primary_cleaner.output.tail_au, primary_cleaner.output.tail_ag, primary_cleaner.output.tail_pb, primary_cleaner.output.tail_sol, secondary_cleaner.state.floatbank2_a_air, secondary_cleaner.state.floatbank2_a_level, secondary_cleaner.state.floatbank2_b_air, secondary_cleaner.state.floatbank2_b_level, secondary_cleaner.state.floatbank3_a_air, secondary_cleaner.state.floatbank3_a_level, secondary_cleaner.state.floatbank3_b_air, secondary_cleaner.state.floatbank3_b_level, secondary_cleaner.state.floatbank4_a_air, secondary_cleaner.state.floatbank4_a_level, secondary_cleaner.state.floatbank4_b_air, secondary_cleaner.state.floatbank4_b_level, secondary_cleaner.state.floatbank5_a_air, secondary_cleaner.state.floatbank5_a_level, secondary_cleaner.state.floatbank5_b_air, secondary_cleaner.state.floatbank5_b_level, secondary_cleaner.state.floatbank6_a_air, secondary_cleaner.state.floatbank6_a_level, secondary_cleaner.output.tail_au, secondary_cleaner.output.tail_ag, secondary_cleaner.output.tail_pb, secondary_cleaner.output.tail_sol, final.output.concentrate_au, final.output.concentrate_ag, final.output.concentrate_pb, final.output.concentrate_sol, final.output.recovery, final.output.tail_au, final.output.tail_ag, final.output.tail_pb, final.output.tail_sol]\n",
       "Index: []"
      ]
     },
     "execution_count": 26,
     "metadata": {},
     "output_type": "execute_result"
    }
   ],
   "source": [
    "dfull = dfull.sort_values(by='date')\n",
    "dfull = dfull.ffill(axis=0)\n",
    "dfull[dfull.isna().sum(axis=1)!=0]"
   ]
  },
  {
   "cell_type": "markdown",
   "metadata": {},
   "source": [
    "В тестовом и полном наборе также не осталось строк с пустотами."
   ]
  },
  {
   "cell_type": "markdown",
   "metadata": {},
   "source": [
    "Пересохраним перемунную dtest_fromfull,чтобы подхватить изменения."
   ]
  },
  {
   "cell_type": "code",
   "execution_count": 27,
   "metadata": {},
   "outputs": [
    {
     "name": "stdout",
     "output_type": "stream",
     "text": [
      "(4860, 87)\n"
     ]
    },
    {
     "data": {
      "text/html": [
       "<div>\n",
       "<style scoped>\n",
       "    .dataframe tbody tr th:only-of-type {\n",
       "        vertical-align: middle;\n",
       "    }\n",
       "\n",
       "    .dataframe tbody tr th {\n",
       "        vertical-align: top;\n",
       "    }\n",
       "\n",
       "    .dataframe thead th {\n",
       "        text-align: right;\n",
       "    }\n",
       "</style>\n",
       "<table border=\"1\" class=\"dataframe\">\n",
       "  <thead>\n",
       "    <tr style=\"text-align: right;\">\n",
       "      <th></th>\n",
       "      <th>date</th>\n",
       "      <th>rougher.input.feed_au</th>\n",
       "      <th>rougher.input.feed_ag</th>\n",
       "      <th>rougher.input.feed_pb</th>\n",
       "      <th>rougher.input.feed_sol</th>\n",
       "      <th>rougher.input.feed_rate</th>\n",
       "      <th>rougher.input.feed_size</th>\n",
       "      <th>rougher.input.floatbank10_sulfate</th>\n",
       "      <th>rougher.input.floatbank10_xanthate</th>\n",
       "      <th>rougher.state.floatbank10_a_air</th>\n",
       "      <th>rougher.state.floatbank10_a_level</th>\n",
       "      <th>rougher.state.floatbank10_b_air</th>\n",
       "      <th>rougher.state.floatbank10_b_level</th>\n",
       "      <th>rougher.state.floatbank10_c_air</th>\n",
       "      <th>rougher.state.floatbank10_c_level</th>\n",
       "      <th>rougher.state.floatbank10_d_air</th>\n",
       "      <th>rougher.state.floatbank10_d_level</th>\n",
       "      <th>rougher.state.floatbank10_e_air</th>\n",
       "      <th>rougher.state.floatbank10_e_level</th>\n",
       "      <th>rougher.state.floatbank10_f_air</th>\n",
       "      <th>rougher.state.floatbank10_f_level</th>\n",
       "      <th>rougher.input.floatbank11_sulfate</th>\n",
       "      <th>rougher.input.floatbank11_xanthate</th>\n",
       "      <th>rougher.calculation.sulfate_to_au_concentrate</th>\n",
       "      <th>rougher.calculation.floatbank10_sulfate_to_au_feed</th>\n",
       "      <th>rougher.calculation.floatbank11_sulfate_to_au_feed</th>\n",
       "      <th>rougher.calculation.au_pb_ratio</th>\n",
       "      <th>rougher.output.concentrate_au</th>\n",
       "      <th>rougher.output.concentrate_ag</th>\n",
       "      <th>rougher.output.concentrate_pb</th>\n",
       "      <th>rougher.output.concentrate_sol</th>\n",
       "      <th>rougher.output.recovery</th>\n",
       "      <th>rougher.output.tail_au</th>\n",
       "      <th>rougher.output.tail_ag</th>\n",
       "      <th>rougher.output.tail_pb</th>\n",
       "      <th>rougher.output.tail_sol</th>\n",
       "      <th>primary_cleaner.input.sulfate</th>\n",
       "      <th>primary_cleaner.input.depressant</th>\n",
       "      <th>primary_cleaner.input.feed_size</th>\n",
       "      <th>primary_cleaner.input.xanthate</th>\n",
       "      <th>primary_cleaner.state.floatbank8_a_air</th>\n",
       "      <th>primary_cleaner.state.floatbank8_a_level</th>\n",
       "      <th>primary_cleaner.state.floatbank8_b_air</th>\n",
       "      <th>primary_cleaner.state.floatbank8_b_level</th>\n",
       "      <th>primary_cleaner.state.floatbank8_c_air</th>\n",
       "      <th>primary_cleaner.state.floatbank8_c_level</th>\n",
       "      <th>primary_cleaner.state.floatbank8_d_air</th>\n",
       "      <th>primary_cleaner.state.floatbank8_d_level</th>\n",
       "      <th>primary_cleaner.output.concentrate_au</th>\n",
       "      <th>primary_cleaner.output.concentrate_ag</th>\n",
       "      <th>primary_cleaner.output.concentrate_pb</th>\n",
       "      <th>primary_cleaner.output.concentrate_sol</th>\n",
       "      <th>primary_cleaner.output.tail_au</th>\n",
       "      <th>primary_cleaner.output.tail_ag</th>\n",
       "      <th>primary_cleaner.output.tail_pb</th>\n",
       "      <th>primary_cleaner.output.tail_sol</th>\n",
       "      <th>secondary_cleaner.state.floatbank2_a_air</th>\n",
       "      <th>secondary_cleaner.state.floatbank2_a_level</th>\n",
       "      <th>secondary_cleaner.state.floatbank2_b_air</th>\n",
       "      <th>secondary_cleaner.state.floatbank2_b_level</th>\n",
       "      <th>secondary_cleaner.state.floatbank3_a_air</th>\n",
       "      <th>secondary_cleaner.state.floatbank3_a_level</th>\n",
       "      <th>secondary_cleaner.state.floatbank3_b_air</th>\n",
       "      <th>secondary_cleaner.state.floatbank3_b_level</th>\n",
       "      <th>secondary_cleaner.state.floatbank4_a_air</th>\n",
       "      <th>secondary_cleaner.state.floatbank4_a_level</th>\n",
       "      <th>secondary_cleaner.state.floatbank4_b_air</th>\n",
       "      <th>secondary_cleaner.state.floatbank4_b_level</th>\n",
       "      <th>secondary_cleaner.state.floatbank5_a_air</th>\n",
       "      <th>secondary_cleaner.state.floatbank5_a_level</th>\n",
       "      <th>secondary_cleaner.state.floatbank5_b_air</th>\n",
       "      <th>secondary_cleaner.state.floatbank5_b_level</th>\n",
       "      <th>secondary_cleaner.state.floatbank6_a_air</th>\n",
       "      <th>secondary_cleaner.state.floatbank6_a_level</th>\n",
       "      <th>secondary_cleaner.output.tail_au</th>\n",
       "      <th>secondary_cleaner.output.tail_ag</th>\n",
       "      <th>secondary_cleaner.output.tail_pb</th>\n",
       "      <th>secondary_cleaner.output.tail_sol</th>\n",
       "      <th>final.output.concentrate_au</th>\n",
       "      <th>final.output.concentrate_ag</th>\n",
       "      <th>final.output.concentrate_pb</th>\n",
       "      <th>final.output.concentrate_sol</th>\n",
       "      <th>final.output.recovery</th>\n",
       "      <th>final.output.tail_au</th>\n",
       "      <th>final.output.tail_ag</th>\n",
       "      <th>final.output.tail_pb</th>\n",
       "      <th>final.output.tail_sol</th>\n",
       "    </tr>\n",
       "  </thead>\n",
       "  <tbody>\n",
       "    <tr>\n",
       "      <th>14579</th>\n",
       "      <td>2017-12-09 14:59:59</td>\n",
       "      <td>4.365491</td>\n",
       "      <td>6.158718</td>\n",
       "      <td>3.875727</td>\n",
       "      <td>39.135119</td>\n",
       "      <td>555.820208</td>\n",
       "      <td>94.544358</td>\n",
       "      <td>6.146982</td>\n",
       "      <td>9.308612</td>\n",
       "      <td>1196.238112</td>\n",
       "      <td>-299.862743</td>\n",
       "      <td>1147.248241</td>\n",
       "      <td>-500.363165</td>\n",
       "      <td>1047.279065</td>\n",
       "      <td>-500.354091</td>\n",
       "      <td>948.756608</td>\n",
       "      <td>-498.439416</td>\n",
       "      <td>849.441918</td>\n",
       "      <td>-499.255503</td>\n",
       "      <td>850.112246</td>\n",
       "      <td>-499.407112</td>\n",
       "      <td>6.168939</td>\n",
       "      <td>9.309852</td>\n",
       "      <td>44082.866565</td>\n",
       "      <td>2487.477762</td>\n",
       "      <td>2488.626080</td>\n",
       "      <td>1.126367</td>\n",
       "      <td>17.804134</td>\n",
       "      <td>11.959486</td>\n",
       "      <td>10.702148</td>\n",
       "      <td>29.078235</td>\n",
       "      <td>89.514960</td>\n",
       "      <td>0.586439</td>\n",
       "      <td>3.925473</td>\n",
       "      <td>0.638677</td>\n",
       "      <td>19.946673</td>\n",
       "      <td>95.248427</td>\n",
       "      <td>8.078957</td>\n",
       "      <td>6.5</td>\n",
       "      <td>1.283045</td>\n",
       "      <td>1648.759906</td>\n",
       "      <td>-399.862053</td>\n",
       "      <td>1650.135395</td>\n",
       "      <td>-399.957321</td>\n",
       "      <td>1648.831890</td>\n",
       "      <td>-400.586116</td>\n",
       "      <td>1649.464582</td>\n",
       "      <td>-400.673303</td>\n",
       "      <td>30.356618</td>\n",
       "      <td>7.537584</td>\n",
       "      <td>11.650285</td>\n",
       "      <td>6.203553</td>\n",
       "      <td>2.708046</td>\n",
       "      <td>22.735927</td>\n",
       "      <td>6.084287</td>\n",
       "      <td>3.026699</td>\n",
       "      <td>34.940919</td>\n",
       "      <td>-500.150510</td>\n",
       "      <td>30.031867</td>\n",
       "      <td>-500.328335</td>\n",
       "      <td>26.033990</td>\n",
       "      <td>-500.147792</td>\n",
       "      <td>22.952306</td>\n",
       "      <td>-500.037678</td>\n",
       "      <td>23.018622</td>\n",
       "      <td>-500.492702</td>\n",
       "      <td>20.020205</td>\n",
       "      <td>-500.220296</td>\n",
       "      <td>17.963512</td>\n",
       "      <td>-499.939490</td>\n",
       "      <td>12.990306</td>\n",
       "      <td>-500.080993</td>\n",
       "      <td>19.990336</td>\n",
       "      <td>-499.191575</td>\n",
       "      <td>0.0</td>\n",
       "      <td>0.0</td>\n",
       "      <td>0.0</td>\n",
       "      <td>0.0</td>\n",
       "      <td>46.299438</td>\n",
       "      <td>3.598375</td>\n",
       "      <td>11.737832</td>\n",
       "      <td>6.717509</td>\n",
       "      <td>70.281454</td>\n",
       "      <td>1.389434</td>\n",
       "      <td>8.406690</td>\n",
       "      <td>2.517518</td>\n",
       "      <td>10.652193</td>\n",
       "    </tr>\n",
       "    <tr>\n",
       "      <th>14580</th>\n",
       "      <td>2017-12-09 15:59:59</td>\n",
       "      <td>4.362781</td>\n",
       "      <td>6.048130</td>\n",
       "      <td>3.902537</td>\n",
       "      <td>39.713906</td>\n",
       "      <td>544.731687</td>\n",
       "      <td>123.742430</td>\n",
       "      <td>6.210119</td>\n",
       "      <td>9.297709</td>\n",
       "      <td>1201.904177</td>\n",
       "      <td>-299.907308</td>\n",
       "      <td>1154.087804</td>\n",
       "      <td>-500.036580</td>\n",
       "      <td>1054.009756</td>\n",
       "      <td>-500.237335</td>\n",
       "      <td>944.138793</td>\n",
       "      <td>-496.866953</td>\n",
       "      <td>851.589767</td>\n",
       "      <td>-499.040466</td>\n",
       "      <td>851.345606</td>\n",
       "      <td>-499.122561</td>\n",
       "      <td>6.209517</td>\n",
       "      <td>9.297194</td>\n",
       "      <td>44084.735708</td>\n",
       "      <td>2507.572494</td>\n",
       "      <td>2507.723361</td>\n",
       "      <td>1.117935</td>\n",
       "      <td>17.834772</td>\n",
       "      <td>11.658799</td>\n",
       "      <td>10.655377</td>\n",
       "      <td>29.052742</td>\n",
       "      <td>89.858126</td>\n",
       "      <td>0.567130</td>\n",
       "      <td>3.902494</td>\n",
       "      <td>0.625609</td>\n",
       "      <td>19.423740</td>\n",
       "      <td>98.880538</td>\n",
       "      <td>7.984164</td>\n",
       "      <td>6.5</td>\n",
       "      <td>1.241969</td>\n",
       "      <td>1646.547763</td>\n",
       "      <td>-398.977083</td>\n",
       "      <td>1648.212240</td>\n",
       "      <td>-400.383265</td>\n",
       "      <td>1648.917387</td>\n",
       "      <td>-399.521344</td>\n",
       "      <td>1651.498591</td>\n",
       "      <td>-399.745329</td>\n",
       "      <td>30.770892</td>\n",
       "      <td>7.490444</td>\n",
       "      <td>12.012378</td>\n",
       "      <td>6.942972</td>\n",
       "      <td>2.800648</td>\n",
       "      <td>22.714656</td>\n",
       "      <td>6.253145</td>\n",
       "      <td>3.557121</td>\n",
       "      <td>34.980742</td>\n",
       "      <td>-498.131002</td>\n",
       "      <td>29.968453</td>\n",
       "      <td>-586.013330</td>\n",
       "      <td>25.971737</td>\n",
       "      <td>-499.608392</td>\n",
       "      <td>22.958448</td>\n",
       "      <td>-499.821308</td>\n",
       "      <td>23.024963</td>\n",
       "      <td>-501.153409</td>\n",
       "      <td>20.054122</td>\n",
       "      <td>-500.314711</td>\n",
       "      <td>17.979515</td>\n",
       "      <td>-499.272871</td>\n",
       "      <td>12.992404</td>\n",
       "      <td>-499.976268</td>\n",
       "      <td>20.013986</td>\n",
       "      <td>-500.625471</td>\n",
       "      <td>0.0</td>\n",
       "      <td>0.0</td>\n",
       "      <td>0.0</td>\n",
       "      <td>0.0</td>\n",
       "      <td>46.408188</td>\n",
       "      <td>3.367241</td>\n",
       "      <td>11.625587</td>\n",
       "      <td>6.799433</td>\n",
       "      <td>65.523246</td>\n",
       "      <td>1.602879</td>\n",
       "      <td>8.777171</td>\n",
       "      <td>2.819214</td>\n",
       "      <td>10.463847</td>\n",
       "    </tr>\n",
       "  </tbody>\n",
       "</table>\n",
       "</div>"
      ],
      "text/plain": [
       "                      date  rougher.input.feed_au  rougher.input.feed_ag  \\\n",
       "14579  2017-12-09 14:59:59               4.365491               6.158718   \n",
       "14580  2017-12-09 15:59:59               4.362781               6.048130   \n",
       "\n",
       "       rougher.input.feed_pb  rougher.input.feed_sol  rougher.input.feed_rate  \\\n",
       "14579               3.875727               39.135119               555.820208   \n",
       "14580               3.902537               39.713906               544.731687   \n",
       "\n",
       "       rougher.input.feed_size  rougher.input.floatbank10_sulfate  \\\n",
       "14579                94.544358                           6.146982   \n",
       "14580               123.742430                           6.210119   \n",
       "\n",
       "       rougher.input.floatbank10_xanthate  rougher.state.floatbank10_a_air  \\\n",
       "14579                            9.308612                      1196.238112   \n",
       "14580                            9.297709                      1201.904177   \n",
       "\n",
       "       rougher.state.floatbank10_a_level  rougher.state.floatbank10_b_air  \\\n",
       "14579                        -299.862743                      1147.248241   \n",
       "14580                        -299.907308                      1154.087804   \n",
       "\n",
       "       rougher.state.floatbank10_b_level  rougher.state.floatbank10_c_air  \\\n",
       "14579                        -500.363165                      1047.279065   \n",
       "14580                        -500.036580                      1054.009756   \n",
       "\n",
       "       rougher.state.floatbank10_c_level  rougher.state.floatbank10_d_air  \\\n",
       "14579                        -500.354091                       948.756608   \n",
       "14580                        -500.237335                       944.138793   \n",
       "\n",
       "       rougher.state.floatbank10_d_level  rougher.state.floatbank10_e_air  \\\n",
       "14579                        -498.439416                       849.441918   \n",
       "14580                        -496.866953                       851.589767   \n",
       "\n",
       "       rougher.state.floatbank10_e_level  rougher.state.floatbank10_f_air  \\\n",
       "14579                        -499.255503                       850.112246   \n",
       "14580                        -499.040466                       851.345606   \n",
       "\n",
       "       rougher.state.floatbank10_f_level  rougher.input.floatbank11_sulfate  \\\n",
       "14579                        -499.407112                           6.168939   \n",
       "14580                        -499.122561                           6.209517   \n",
       "\n",
       "       rougher.input.floatbank11_xanthate  \\\n",
       "14579                            9.309852   \n",
       "14580                            9.297194   \n",
       "\n",
       "       rougher.calculation.sulfate_to_au_concentrate  \\\n",
       "14579                                   44082.866565   \n",
       "14580                                   44084.735708   \n",
       "\n",
       "       rougher.calculation.floatbank10_sulfate_to_au_feed  \\\n",
       "14579                                        2487.477762    \n",
       "14580                                        2507.572494    \n",
       "\n",
       "       rougher.calculation.floatbank11_sulfate_to_au_feed  \\\n",
       "14579                                        2488.626080    \n",
       "14580                                        2507.723361    \n",
       "\n",
       "       rougher.calculation.au_pb_ratio  rougher.output.concentrate_au  \\\n",
       "14579                         1.126367                      17.804134   \n",
       "14580                         1.117935                      17.834772   \n",
       "\n",
       "       rougher.output.concentrate_ag  rougher.output.concentrate_pb  \\\n",
       "14579                      11.959486                      10.702148   \n",
       "14580                      11.658799                      10.655377   \n",
       "\n",
       "       rougher.output.concentrate_sol  rougher.output.recovery  \\\n",
       "14579                       29.078235                89.514960   \n",
       "14580                       29.052742                89.858126   \n",
       "\n",
       "       rougher.output.tail_au  rougher.output.tail_ag  rougher.output.tail_pb  \\\n",
       "14579                0.586439                3.925473                0.638677   \n",
       "14580                0.567130                3.902494                0.625609   \n",
       "\n",
       "       rougher.output.tail_sol  primary_cleaner.input.sulfate  \\\n",
       "14579                19.946673                      95.248427   \n",
       "14580                19.423740                      98.880538   \n",
       "\n",
       "       primary_cleaner.input.depressant  primary_cleaner.input.feed_size  \\\n",
       "14579                          8.078957                              6.5   \n",
       "14580                          7.984164                              6.5   \n",
       "\n",
       "       primary_cleaner.input.xanthate  primary_cleaner.state.floatbank8_a_air  \\\n",
       "14579                        1.283045                             1648.759906   \n",
       "14580                        1.241969                             1646.547763   \n",
       "\n",
       "       primary_cleaner.state.floatbank8_a_level  \\\n",
       "14579                               -399.862053   \n",
       "14580                               -398.977083   \n",
       "\n",
       "       primary_cleaner.state.floatbank8_b_air  \\\n",
       "14579                             1650.135395   \n",
       "14580                             1648.212240   \n",
       "\n",
       "       primary_cleaner.state.floatbank8_b_level  \\\n",
       "14579                               -399.957321   \n",
       "14580                               -400.383265   \n",
       "\n",
       "       primary_cleaner.state.floatbank8_c_air  \\\n",
       "14579                             1648.831890   \n",
       "14580                             1648.917387   \n",
       "\n",
       "       primary_cleaner.state.floatbank8_c_level  \\\n",
       "14579                               -400.586116   \n",
       "14580                               -399.521344   \n",
       "\n",
       "       primary_cleaner.state.floatbank8_d_air  \\\n",
       "14579                             1649.464582   \n",
       "14580                             1651.498591   \n",
       "\n",
       "       primary_cleaner.state.floatbank8_d_level  \\\n",
       "14579                               -400.673303   \n",
       "14580                               -399.745329   \n",
       "\n",
       "       primary_cleaner.output.concentrate_au  \\\n",
       "14579                              30.356618   \n",
       "14580                              30.770892   \n",
       "\n",
       "       primary_cleaner.output.concentrate_ag  \\\n",
       "14579                               7.537584   \n",
       "14580                               7.490444   \n",
       "\n",
       "       primary_cleaner.output.concentrate_pb  \\\n",
       "14579                              11.650285   \n",
       "14580                              12.012378   \n",
       "\n",
       "       primary_cleaner.output.concentrate_sol  primary_cleaner.output.tail_au  \\\n",
       "14579                                6.203553                        2.708046   \n",
       "14580                                6.942972                        2.800648   \n",
       "\n",
       "       primary_cleaner.output.tail_ag  primary_cleaner.output.tail_pb  \\\n",
       "14579                       22.735927                        6.084287   \n",
       "14580                       22.714656                        6.253145   \n",
       "\n",
       "       primary_cleaner.output.tail_sol  \\\n",
       "14579                         3.026699   \n",
       "14580                         3.557121   \n",
       "\n",
       "       secondary_cleaner.state.floatbank2_a_air  \\\n",
       "14579                                 34.940919   \n",
       "14580                                 34.980742   \n",
       "\n",
       "       secondary_cleaner.state.floatbank2_a_level  \\\n",
       "14579                                 -500.150510   \n",
       "14580                                 -498.131002   \n",
       "\n",
       "       secondary_cleaner.state.floatbank2_b_air  \\\n",
       "14579                                 30.031867   \n",
       "14580                                 29.968453   \n",
       "\n",
       "       secondary_cleaner.state.floatbank2_b_level  \\\n",
       "14579                                 -500.328335   \n",
       "14580                                 -586.013330   \n",
       "\n",
       "       secondary_cleaner.state.floatbank3_a_air  \\\n",
       "14579                                 26.033990   \n",
       "14580                                 25.971737   \n",
       "\n",
       "       secondary_cleaner.state.floatbank3_a_level  \\\n",
       "14579                                 -500.147792   \n",
       "14580                                 -499.608392   \n",
       "\n",
       "       secondary_cleaner.state.floatbank3_b_air  \\\n",
       "14579                                 22.952306   \n",
       "14580                                 22.958448   \n",
       "\n",
       "       secondary_cleaner.state.floatbank3_b_level  \\\n",
       "14579                                 -500.037678   \n",
       "14580                                 -499.821308   \n",
       "\n",
       "       secondary_cleaner.state.floatbank4_a_air  \\\n",
       "14579                                 23.018622   \n",
       "14580                                 23.024963   \n",
       "\n",
       "       secondary_cleaner.state.floatbank4_a_level  \\\n",
       "14579                                 -500.492702   \n",
       "14580                                 -501.153409   \n",
       "\n",
       "       secondary_cleaner.state.floatbank4_b_air  \\\n",
       "14579                                 20.020205   \n",
       "14580                                 20.054122   \n",
       "\n",
       "       secondary_cleaner.state.floatbank4_b_level  \\\n",
       "14579                                 -500.220296   \n",
       "14580                                 -500.314711   \n",
       "\n",
       "       secondary_cleaner.state.floatbank5_a_air  \\\n",
       "14579                                 17.963512   \n",
       "14580                                 17.979515   \n",
       "\n",
       "       secondary_cleaner.state.floatbank5_a_level  \\\n",
       "14579                                 -499.939490   \n",
       "14580                                 -499.272871   \n",
       "\n",
       "       secondary_cleaner.state.floatbank5_b_air  \\\n",
       "14579                                 12.990306   \n",
       "14580                                 12.992404   \n",
       "\n",
       "       secondary_cleaner.state.floatbank5_b_level  \\\n",
       "14579                                 -500.080993   \n",
       "14580                                 -499.976268   \n",
       "\n",
       "       secondary_cleaner.state.floatbank6_a_air  \\\n",
       "14579                                 19.990336   \n",
       "14580                                 20.013986   \n",
       "\n",
       "       secondary_cleaner.state.floatbank6_a_level  \\\n",
       "14579                                 -499.191575   \n",
       "14580                                 -500.625471   \n",
       "\n",
       "       secondary_cleaner.output.tail_au  secondary_cleaner.output.tail_ag  \\\n",
       "14579                               0.0                               0.0   \n",
       "14580                               0.0                               0.0   \n",
       "\n",
       "       secondary_cleaner.output.tail_pb  secondary_cleaner.output.tail_sol  \\\n",
       "14579                               0.0                                0.0   \n",
       "14580                               0.0                                0.0   \n",
       "\n",
       "       final.output.concentrate_au  final.output.concentrate_ag  \\\n",
       "14579                    46.299438                     3.598375   \n",
       "14580                    46.408188                     3.367241   \n",
       "\n",
       "       final.output.concentrate_pb  final.output.concentrate_sol  \\\n",
       "14579                    11.737832                      6.717509   \n",
       "14580                    11.625587                      6.799433   \n",
       "\n",
       "       final.output.recovery  final.output.tail_au  final.output.tail_ag  \\\n",
       "14579              70.281454              1.389434              8.406690   \n",
       "14580              65.523246              1.602879              8.777171   \n",
       "\n",
       "       final.output.tail_pb  final.output.tail_sol  \n",
       "14579              2.517518              10.652193  \n",
       "14580              2.819214              10.463847  "
      ]
     },
     "execution_count": 27,
     "metadata": {},
     "output_type": "execute_result"
    }
   ],
   "source": [
    "dcheck2 = pd.concat([dtrain,dfull])\n",
    "dcheck2 = dcheck2.drop_duplicates(keep=False)\n",
    "print(dcheck2.shape)\n",
    "dtest_fromfull = dcheck2.sort_values(by='date')\n",
    "dtest_fromfull.head(2)"
   ]
  },
  {
   "cell_type": "markdown",
   "metadata": {},
   "source": [
    "#### Проверка на дубликаты"
   ]
  },
  {
   "cell_type": "markdown",
   "metadata": {},
   "source": [
    "Проверим данные на дубликаты."
   ]
  },
  {
   "cell_type": "code",
   "execution_count": 28,
   "metadata": {},
   "outputs": [
    {
     "name": "stdout",
     "output_type": "stream",
     "text": [
      "0\n"
     ]
    }
   ],
   "source": [
    "print(dtrain[dtrain.duplicated()]['date'].count())"
   ]
  },
  {
   "cell_type": "code",
   "execution_count": 29,
   "metadata": {},
   "outputs": [
    {
     "name": "stdout",
     "output_type": "stream",
     "text": [
      "0\n"
     ]
    }
   ],
   "source": [
    "print(dtest[dtest.duplicated()]['date'].count())"
   ]
  },
  {
   "cell_type": "code",
   "execution_count": 30,
   "metadata": {},
   "outputs": [
    {
     "name": "stdout",
     "output_type": "stream",
     "text": [
      "0\n"
     ]
    }
   ],
   "source": [
    "print(dfull[dfull.duplicated()]['date'].count())"
   ]
  },
  {
   "cell_type": "markdown",
   "metadata": {},
   "source": [
    "Дубликатов нет."
   ]
  },
  {
   "cell_type": "markdown",
   "metadata": {},
   "source": [
    "#### Редактирование типов столбцов"
   ]
  },
  {
   "cell_type": "markdown",
   "metadata": {},
   "source": [
    "Поле date необходимо привести к дате во всех наборах."
   ]
  },
  {
   "cell_type": "code",
   "execution_count": 31,
   "metadata": {},
   "outputs": [
    {
     "data": {
      "text/plain": [
       "0       2016-01-15 00:00:00\n",
       "1       2016-01-15 01:00:00\n",
       "2       2016-01-15 02:00:00\n",
       "3       2016-01-15 03:00:00\n",
       "4       2016-01-15 04:00:00\n",
       "                ...        \n",
       "14574   2017-12-09 09:59:59\n",
       "14575   2017-12-09 10:59:59\n",
       "14576   2017-12-09 11:59:59\n",
       "14577   2017-12-09 12:59:59\n",
       "14578   2017-12-09 13:59:59\n",
       "Name: date, Length: 14579, dtype: datetime64[ns]"
      ]
     },
     "execution_count": 31,
     "metadata": {},
     "output_type": "execute_result"
    }
   ],
   "source": [
    "dtrain['date'] = pd.to_datetime(dtrain['date'], format='%Y-%m-%d %H:%M:%S') \n",
    "dtrain['date']"
   ]
  },
  {
   "cell_type": "code",
   "execution_count": 32,
   "metadata": {},
   "outputs": [
    {
     "data": {
      "text/plain": [
       "0      2017-12-09 14:59:59\n",
       "1      2017-12-09 15:59:59\n",
       "2      2017-12-09 16:59:59\n",
       "3      2017-12-09 17:59:59\n",
       "4      2017-12-09 18:59:59\n",
       "               ...        \n",
       "4855   2018-08-18 06:59:59\n",
       "4856   2018-08-18 07:59:59\n",
       "4857   2018-08-18 08:59:59\n",
       "4858   2018-08-18 09:59:59\n",
       "4859   2018-08-18 10:59:59\n",
       "Name: date, Length: 4860, dtype: datetime64[ns]"
      ]
     },
     "execution_count": 32,
     "metadata": {},
     "output_type": "execute_result"
    }
   ],
   "source": [
    "dtest['date'] = pd.to_datetime(dtest['date'], format='%Y-%m-%d %H:%M:%S') \n",
    "dtest['date']"
   ]
  },
  {
   "cell_type": "code",
   "execution_count": 33,
   "metadata": {},
   "outputs": [
    {
     "data": {
      "text/plain": [
       "0       2016-01-15 00:00:00\n",
       "1       2016-01-15 01:00:00\n",
       "2       2016-01-15 02:00:00\n",
       "3       2016-01-15 03:00:00\n",
       "4       2016-01-15 04:00:00\n",
       "                ...        \n",
       "19434   2018-08-18 06:59:59\n",
       "19435   2018-08-18 07:59:59\n",
       "19436   2018-08-18 08:59:59\n",
       "19437   2018-08-18 09:59:59\n",
       "19438   2018-08-18 10:59:59\n",
       "Name: date, Length: 19439, dtype: datetime64[ns]"
      ]
     },
     "execution_count": 33,
     "metadata": {},
     "output_type": "execute_result"
    }
   ],
   "source": [
    "dfull['date'] = pd.to_datetime(dfull['date'], format='%Y-%m-%d %H:%M:%S') \n",
    "dfull['date']"
   ]
  },
  {
   "cell_type": "markdown",
   "metadata": {},
   "source": [
    "**Вывод:** в ходе подготовки данных было проделано:\n",
    "- данные были загружены в три датасета: обучающий, тестовый и общий\n",
    "- была проведена проверка поля rougher.output.recovery - эффективность обогащения после процесса флотации\n",
    "- проделан анализ тестовой выборки на наличие необходимых полей. По итогу поля, отсутствующие в тестовой выборке были удалены из обучающей.\n",
    "- была проведена предобработка данных:\n",
    "    - поле date приведено к соответствующему типу\n",
    "    - проведена проверка на дубликаты строк\n",
    "    - строки с пропусками в данных были заполнены значениями из предыдущей строки, а также пересохранена выборка dtest_fromfull"
   ]
  },
  {
   "cell_type": "markdown",
   "metadata": {},
   "source": [
    "## Анализ данных"
   ]
  },
  {
   "cell_type": "markdown",
   "metadata": {},
   "source": [
    "### Изучение концентрации металлов"
   ]
  },
  {
   "cell_type": "markdown",
   "metadata": {},
   "source": [
    "Рассмотрим, как меняется концентрация металлов (Au,Ag,Pb) на различных этапах: в сырье, в черновом концентрате, в концентрате после первой очистки и в фианльном концентрате. Рассмотрим особенности распределения.\n",
    "\n",
    "<br>Концентрация металлов содержится в следующих полях:\n",
    "- В сырье:\n",
    "    - rougher.input.feed_au\n",
    "    - rougher.input.feed_ag\n",
    "    - rougher.input.feed_pb\n",
    "- Черновой концентрат:\n",
    "    - rougher.output.concentrate_au \t\n",
    "    - rougher.output.concentrate_ag\n",
    "    - rougher.output.concentrate_pb\n",
    "- Концентрат после первой очистки:\n",
    "    - primary_cleaner.output.concentrate_au\n",
    "    - primary_cleaner.output.concentrate_ag\n",
    "    - primary_cleaner.output.concentrate_pb  \n",
    "- Финальный концентрат:\n",
    "    - final.output.concentrate_au\n",
    "    - final.output.concentrate_ag\n",
    "    - final.output.concentrate_pb"
   ]
  },
  {
   "cell_type": "code",
   "execution_count": 34,
   "metadata": {},
   "outputs": [
    {
     "name": "stderr",
     "output_type": "stream",
     "text": [
      "C:\\Users\\PC\\anaconda3\\Lib\\site-packages\\seaborn\\_oldcore.py:1119: FutureWarning: use_inf_as_na option is deprecated and will be removed in a future version. Convert inf values to NaN before operating instead.\n",
      "  with pd.option_context('mode.use_inf_as_na', True):\n",
      "C:\\Users\\PC\\anaconda3\\Lib\\site-packages\\seaborn\\_oldcore.py:1119: FutureWarning: use_inf_as_na option is deprecated and will be removed in a future version. Convert inf values to NaN before operating instead.\n",
      "  with pd.option_context('mode.use_inf_as_na', True):\n",
      "C:\\Users\\PC\\anaconda3\\Lib\\site-packages\\seaborn\\_oldcore.py:1119: FutureWarning: use_inf_as_na option is deprecated and will be removed in a future version. Convert inf values to NaN before operating instead.\n",
      "  with pd.option_context('mode.use_inf_as_na', True):\n"
     ]
    },
    {
     "data": {
      "text/plain": [
       "<seaborn.axisgrid.FacetGrid at 0x171c9759510>"
      ]
     },
     "execution_count": 34,
     "metadata": {},
     "output_type": "execute_result"
    },
    {
     "data": {
      "image/png": "[encoded data removed]",
      "text/plain": [
       "<Figure size 824.625x500 with 1 Axes>"
      ]
     },
     "metadata": {},
     "output_type": "display_data"
    },
    {
     "data": {
      "image/png": "[encoded data removed]",
      "text/plain": [
       "<Figure size 824.75x500 with 1 Axes>"
      ]
     },
     "metadata": {},
     "output_type": "display_data"
    },
    {
     "data": {
      "image/png": "[encoded data removed]",
      "text/plain": [
       "<Figure size 825x500 with 1 Axes>"
      ]
     },
     "metadata": {},
     "output_type": "display_data"
    }
   ],
   "source": [
    "au_data = dtrain[['rougher.input.feed_au','rougher.output.concentrate_au','primary_cleaner.output.concentrate_au', 'final.output.concentrate_au' ]]\n",
    "ag_data = dtrain[['rougher.input.feed_ag','rougher.output.concentrate_ag','primary_cleaner.output.concentrate_ag', 'final.output.concentrate_ag' ]]\n",
    "pb_data = dtrain[['rougher.input.feed_pb','rougher.output.concentrate_pb','primary_cleaner.output.concentrate_pb', 'final.output.concentrate_pb' ]]\n",
    "def compare_dist(input_data):    \n",
    "    input_data = input_data.unstack(level=-1).reset_index(level=0)\n",
    "    input_data.columns = ['stage','value']\n",
    "    metal=input_data.loc[0,'stage'].values[0][-2:].upper()\n",
    "    plt_title='Концентрация '+metal+' на разных стадия обогащения'\n",
    "    plt = sns.displot(data=input_data, x='value',hue='stage', kind=\"hist\",bins=70)    \n",
    "    plt.set(xlabel=\"Stage\", ylabel=\"Value\",title=plt_title)\n",
    "    return plt\n",
    "compare_dist(au_data)\n",
    "compare_dist(ag_data)\n",
    "compare_dist(pb_data)"
   ]
  },
  {
   "cell_type": "markdown",
   "metadata": {},
   "source": [
    "По приведенным графикам видим:\n",
    "- концентрация золота (первый график):\n",
    "    - возрастает с каждой стадией обработки\n",
    "    - наибольший разброс значений наблюдается на стадии первичной очистки, остальные стадии примерно схожи по разбросу\n",
    "- концентрация серебра (второй график):\n",
    "    - увеличивается после флотации\n",
    "    - затем после первичной очистки возаращется в исзодное состояние\n",
    "    - а после вторичной очистки значение становится меньше исходного и размах значений также уменьшается\n",
    "- концентрация свинца (третий график):\n",
    "    - увеличивается после флотации и первичной очистки и практически не меняется после вторичной очистки\n",
    "    - однако, после вторичной очистки размах значений становится чуть меньше\n",
    "- также на всех трех графиках видны аномальные значения, где конецентрация равна 0. Удалим подобные значения из трейна и полного набора (в тесте этих колонок нет)."
   ]
  },
  {
   "cell_type": "code",
   "execution_count": 35,
   "metadata": {},
   "outputs": [
    {
     "name": "stdout",
     "output_type": "stream",
     "text": [
      "До удаления:\n",
      "(14579, 87)\n",
      "(19439, 87)\n",
      "После удаления:\n",
      "(13982, 87)\n",
      "(18842, 87)\n"
     ]
    }
   ],
   "source": [
    "concentrate_columns = ['rougher.input.feed_au','rougher.input.feed_ag','rougher.input.feed_pb','rougher.output.concentrate_au',\\\n",
    "              'rougher.output.concentrate_ag','rougher.output.concentrate_pb','primary_cleaner.output.concentrate_au',\\\n",
    "             'primary_cleaner.output.concentrate_ag','primary_cleaner.output.concentrate_pb','final.output.concentrate_au',\\\n",
    "             'final.output.concentrate_ag','final.output.concentrate_pb']\n",
    "print('До удаления:')\n",
    "print(dtrain.shape)\n",
    "print(dfull.shape)\n",
    "dtrain[concentrate_columns] = dtrain[concentrate_columns].replace(0.00, np.nan)\n",
    "dtrain = dtrain[dtrain[concentrate_columns].isna().sum(axis=1)==0]\n",
    "dfull[concentrate_columns] = dfull[concentrate_columns].replace(0.00, np.nan)\n",
    "dfull = dfull[dfull[concentrate_columns].isna().sum(axis=1)==0]\n",
    "print('После удаления:')\n",
    "print(dtrain.shape)\n",
    "print(dfull.shape)"
   ]
  },
  {
   "cell_type": "markdown",
   "metadata": {},
   "source": [
    "### Оценка размеров гранул сырья"
   ]
  },
  {
   "cell_type": "markdown",
   "metadata": {},
   "source": [
    "Изучим размер гранул исходного сырья (rougher.input.feed_size) на обучающей и тестовой выборке."
   ]
  },
  {
   "cell_type": "code",
   "execution_count": 36,
   "metadata": {},
   "outputs": [
    {
     "name": "stdout",
     "output_type": "stream",
     "text": [
      "count    13982.000000\n",
      "mean        59.171725\n",
      "std         23.076812\n",
      "min          0.049194\n",
      "25%         47.366017\n",
      "50%         54.592573\n",
      "75%         64.525597\n",
      "max        484.967466\n",
      "Name: rougher.input.feed_size, dtype: float64\n"
     ]
    }
   ],
   "source": [
    "sample1=dtrain['rougher.input.feed_size']\n",
    "print(sample1.describe())"
   ]
  },
  {
   "cell_type": "code",
   "execution_count": 37,
   "metadata": {
    "scrolled": true
   },
   "outputs": [
    {
     "name": "stdout",
     "output_type": "stream",
     "text": [
      "count    4860.000000\n",
      "mean       59.136150\n",
      "std        19.512497\n",
      "min         0.046369\n",
      "25%        47.610795\n",
      "50%        55.461058\n",
      "75%        66.538910\n",
      "max       363.989699\n",
      "Name: rougher.input.feed_size, dtype: float64\n"
     ]
    }
   ],
   "source": [
    "sample2=dtest['rougher.input.feed_size']\n",
    "print(sample2.describe())"
   ]
  },
  {
   "cell_type": "code",
   "execution_count": 38,
   "metadata": {
    "scrolled": true
   },
   "outputs": [
    {
     "data": {
      "text/plain": [
       "<Axes: title={'center': 'Распределение гранул исходного сырья на обучающей и тестовой выборках'}, ylabel='Frequency'>"
      ]
     },
     "execution_count": 38,
     "metadata": {},
     "output_type": "execute_result"
    },
    {
     "data": {
      "image/png": "[encoded data removed]",
      "text/plain": [
       "<Figure size 640x480 with 1 Axes>"
      ]
     },
     "metadata": {},
     "output_type": "display_data"
    }
   ],
   "source": [
    "ax = sample1.plot(\n",
    "    kind='hist',\n",
    "    y='rougher.input.feed_size',\n",
    "    histtype='step',\n",
    "    density=True,\n",
    "    range=(0, 500),\n",
    "    bins=100,\n",
    "    linewidth=5,\n",
    "    alpha=0.7,\n",
    "    label='Train',\n",
    "    legend=True\n",
    ")\n",
    "sample2.plot(\n",
    "    kind='hist',\n",
    "    y='rougher.input.feed_size',\n",
    "    histtype='step',\n",
    "    density=True,\n",
    "    range=(0, 500),\n",
    "    bins=100,\n",
    "    linewidth=5,\n",
    "    alpha=0.7,\n",
    "    label='Test',\n",
    "    ax=ax,\n",
    "    grid=True,\n",
    "    legend=True,\n",
    "    title='Распределение гранул исходного сырья на обучающей и тестовой выборках'\n",
    ") \n",
    "#plt.show()"
   ]
  },
  {
   "cell_type": "markdown",
   "metadata": {},
   "source": [
    "Визуально видим, что распределения в целом похожи на друг друга и среднее по описательной статистике очень близки (59.17 и 59.13), но проверим их методом проверки гипотезы о равенстве двух средних.\n",
    "Так как выборки разного размера, укажем параметр equal_var=False."
   ]
  },
  {
   "cell_type": "code",
   "execution_count": 39,
   "metadata": {},
   "outputs": [
    {
     "name": "stdout",
     "output_type": "stream",
     "text": [
      "p-значение: 0.9169661137054463\n",
      "Не получилось отвергнуть нулевую гипотезу\n"
     ]
    }
   ],
   "source": [
    "alpha=0.05\n",
    "results = st.ttest_ind(sample1, sample2,equal_var=False)\n",
    "\n",
    "print('p-значение:', results.pvalue)\n",
    "\n",
    "if results.pvalue < alpha:\n",
    "    print('Отвергаем нулевую гипотезу о равенстве двух средних')\n",
    "else:\n",
    "    print('Не получилось отвергнуть нулевую гипотезу') "
   ]
  },
  {
   "cell_type": "markdown",
   "metadata": {},
   "source": [
    "Гипотеза о равенстве двух средних не отвергается. То есть, с высокой долей вероятности (91,6%) распределения действительно одинаковы."
   ]
  },
  {
   "cell_type": "markdown",
   "metadata": {},
   "source": [
    "### Исследуем суммарную концентрацию металлов на разных стадиях"
   ]
  },
  {
   "cell_type": "code",
   "execution_count": 40,
   "metadata": {},
   "outputs": [
    {
     "data": {
      "text/plain": [
       "<Axes: xlabel='stage'>"
      ]
     },
     "execution_count": 40,
     "metadata": {},
     "output_type": "execute_result"
    },
    {
     "data": {
      "image/png": "[encoded data removed]",
      "text/plain": [
       "<Figure size 640x480 with 1 Axes>"
      ]
     },
     "metadata": {},
     "output_type": "display_data"
    }
   ],
   "source": [
    "concentrates = dtrain[['rougher.input.feed_au','rougher.input.feed_ag','rougher.input.feed_pb','rougher.output.concentrate_au',\\\n",
    "             'rougher.output.concentrate_ag','rougher.output.concentrate_pb','primary_cleaner.output.concentrate_au',\\\n",
    "            'primary_cleaner.output.concentrate_ag','primary_cleaner.output.concentrate_pb','final.output.concentrate_au',\\\n",
    "            'final.output.concentrate_ag','final.output.concentrate_pb']]\n",
    "concentrates.head(3)\n",
    "concentrates = concentrates.unstack(level=0)\n",
    "concentrates = concentrates.reset_index(level=0)\n",
    "concentrates.columns = ['feature','value']\n",
    "def get_metal(string):\n",
    "    return string[-2:]\n",
    "def get_stage(string):\n",
    "    sp=string.split('.')\n",
    "    return sp[0]+'.'+sp[1] \n",
    "concentrates['metal']=concentrates['feature'].apply(get_metal)\n",
    "concentrates['stage']=concentrates['feature'].apply(get_stage)\n",
    "concentrates = concentrates.drop('feature', axis=1)\n",
    "\n",
    "concentrates_median=concentrates.groupby(by=['stage','metal']).median()\n",
    "concentrates_median = concentrates_median.unstack(level=-1)\n",
    "concentrates_median\n",
    "concentrates_median.plot( kind='bar',stacked=True, color=['orange', 'blue', 'green'])\n",
    "#plt.show()"
   ]
  },
  {
   "cell_type": "markdown",
   "metadata": {},
   "source": [
    "Видим, что с каждой стадией обработки общая концентрация металлов также возрастает."
   ]
  },
  {
   "cell_type": "markdown",
   "metadata": {},
   "source": [
    "## Модель"
   ]
  },
  {
   "cell_type": "markdown",
   "metadata": {},
   "source": [
    "### Функция вычисления sMAPE"
   ]
  },
  {
   "cell_type": "markdown",
   "metadata": {},
   "source": [
    "Напишем функцию для вычисления итоговой sMAPE - симметричного среднего абсолютного отклонения."
   ]
  },
  {
   "cell_type": "code",
   "execution_count": 41,
   "metadata": {},
   "outputs": [],
   "source": [
    "def get_smape_prepare_predict_error(row):\n",
    "    return 100*abs(row['target']-row['predictions']) / ((abs(row['target'])+abs(row['predictions']))/2)\n",
    "\n",
    "def get_smape(target,predictions):\n",
    "    return (2 * abs(target - predictions) / (abs(target) + abs(predictions))).mean() * 100\n",
    "    \n",
    "\n",
    "def get_smape_total(smape_rougher,smape_final):   \n",
    "    smape_total = 0.25*smape_rougher + 0.75*smape_final\n",
    "    return smape_total"
   ]
  },
  {
   "cell_type": "markdown",
   "metadata": {},
   "source": [
    "### Подготовим features и target для прогнозирования"
   ]
  },
  {
   "cell_type": "markdown",
   "metadata": {},
   "source": [
    "**Подготовка обучающей и валидационной выборки**"
   ]
  },
  {
   "cell_type": "markdown",
   "metadata": {},
   "source": [
    "Необходимо спрогнозировать:\n",
    "- показатель обогащения чернового концентрата rougher.output.recovery\n",
    "- показатель обогащения финального концентрата final.output.recovery\n",
    "\n",
    "<br>В качестве признаков для прогнозирования чернового концентрата используем только признаки, доступные на этапе флотации (rougher), за исключением тех признаков, которые отсутствуют в тесте. А также удалим из признаков дату, т.к. текущая дата(замера показателей) не может влиять на эффективность процесса обогащения. Используем для подготовки переменную common_columns, которая хранит колонки, общие для трейна и теста. Из общих колонок возьмем только те, которые относятся к стадии флотации:"
   ]
  },
  {
   "cell_type": "code",
   "execution_count": 42,
   "metadata": {
    "scrolled": true
   },
   "outputs": [
    {
     "data": {
      "text/plain": [
       "Index(['date', 'rougher.input.feed_au', 'rougher.input.feed_ag',\n",
       "       'rougher.input.feed_pb', 'rougher.input.feed_sol',\n",
       "       'rougher.input.feed_rate', 'rougher.input.feed_size',\n",
       "       'rougher.input.floatbank10_sulfate',\n",
       "       'rougher.input.floatbank10_xanthate', 'rougher.state.floatbank10_a_air',\n",
       "       'rougher.state.floatbank10_a_level', 'rougher.state.floatbank10_b_air',\n",
       "       'rougher.state.floatbank10_b_level', 'rougher.state.floatbank10_c_air',\n",
       "       'rougher.state.floatbank10_c_level', 'rougher.state.floatbank10_d_air',\n",
       "       'rougher.state.floatbank10_d_level', 'rougher.state.floatbank10_e_air',\n",
       "       'rougher.state.floatbank10_e_level', 'rougher.state.floatbank10_f_air',\n",
       "       'rougher.state.floatbank10_f_level',\n",
       "       'rougher.input.floatbank11_sulfate',\n",
       "       'rougher.input.floatbank11_xanthate', 'primary_cleaner.input.sulfate',\n",
       "       'primary_cleaner.input.depressant', 'primary_cleaner.input.feed_size',\n",
       "       'primary_cleaner.input.xanthate',\n",
       "       'primary_cleaner.state.floatbank8_a_air',\n",
       "       'primary_cleaner.state.floatbank8_a_level',\n",
       "       'primary_cleaner.state.floatbank8_b_air',\n",
       "       'primary_cleaner.state.floatbank8_b_level',\n",
       "       'primary_cleaner.state.floatbank8_c_air',\n",
       "       'primary_cleaner.state.floatbank8_c_level',\n",
       "       'primary_cleaner.state.floatbank8_d_air',\n",
       "       'primary_cleaner.state.floatbank8_d_level',\n",
       "       'secondary_cleaner.state.floatbank2_a_air',\n",
       "       'secondary_cleaner.state.floatbank2_a_level',\n",
       "       'secondary_cleaner.state.floatbank2_b_air',\n",
       "       'secondary_cleaner.state.floatbank2_b_level',\n",
       "       'secondary_cleaner.state.floatbank3_a_air',\n",
       "       'secondary_cleaner.state.floatbank3_a_level',\n",
       "       'secondary_cleaner.state.floatbank3_b_air',\n",
       "       'secondary_cleaner.state.floatbank3_b_level',\n",
       "       'secondary_cleaner.state.floatbank4_a_air',\n",
       "       'secondary_cleaner.state.floatbank4_a_level',\n",
       "       'secondary_cleaner.state.floatbank4_b_air',\n",
       "       'secondary_cleaner.state.floatbank4_b_level',\n",
       "       'secondary_cleaner.state.floatbank5_a_air',\n",
       "       'secondary_cleaner.state.floatbank5_a_level',\n",
       "       'secondary_cleaner.state.floatbank5_b_air',\n",
       "       'secondary_cleaner.state.floatbank5_b_level',\n",
       "       'secondary_cleaner.state.floatbank6_a_air',\n",
       "       'secondary_cleaner.state.floatbank6_a_level'],\n",
       "      dtype='object')"
      ]
     },
     "execution_count": 42,
     "metadata": {},
     "output_type": "execute_result"
    }
   ],
   "source": [
    "common_columns"
   ]
  },
  {
   "cell_type": "code",
   "execution_count": 43,
   "metadata": {},
   "outputs": [
    {
     "data": {
      "text/html": [
       "<div>\n",
       "<style scoped>\n",
       "    .dataframe tbody tr th:only-of-type {\n",
       "        vertical-align: middle;\n",
       "    }\n",
       "\n",
       "    .dataframe tbody tr th {\n",
       "        vertical-align: top;\n",
       "    }\n",
       "\n",
       "    .dataframe thead th {\n",
       "        text-align: right;\n",
       "    }\n",
       "</style>\n",
       "<table border=\"1\" class=\"dataframe\">\n",
       "  <thead>\n",
       "    <tr style=\"text-align: right;\">\n",
       "      <th></th>\n",
       "      <th>rougher.input.feed_au</th>\n",
       "      <th>rougher.input.feed_ag</th>\n",
       "      <th>rougher.input.feed_pb</th>\n",
       "      <th>rougher.input.feed_sol</th>\n",
       "      <th>rougher.input.feed_rate</th>\n",
       "      <th>rougher.input.feed_size</th>\n",
       "      <th>rougher.input.floatbank10_sulfate</th>\n",
       "      <th>rougher.input.floatbank10_xanthate</th>\n",
       "      <th>rougher.state.floatbank10_a_air</th>\n",
       "      <th>rougher.state.floatbank10_a_level</th>\n",
       "      <th>rougher.state.floatbank10_b_air</th>\n",
       "      <th>rougher.state.floatbank10_b_level</th>\n",
       "      <th>rougher.state.floatbank10_c_air</th>\n",
       "      <th>rougher.state.floatbank10_c_level</th>\n",
       "      <th>rougher.state.floatbank10_d_air</th>\n",
       "      <th>rougher.state.floatbank10_d_level</th>\n",
       "      <th>rougher.state.floatbank10_e_air</th>\n",
       "      <th>rougher.state.floatbank10_e_level</th>\n",
       "      <th>rougher.state.floatbank10_f_air</th>\n",
       "      <th>rougher.state.floatbank10_f_level</th>\n",
       "      <th>rougher.input.floatbank11_sulfate</th>\n",
       "      <th>rougher.input.floatbank11_xanthate</th>\n",
       "    </tr>\n",
       "  </thead>\n",
       "  <tbody>\n",
       "    <tr>\n",
       "      <th>0</th>\n",
       "      <td>6.486150</td>\n",
       "      <td>6.100378</td>\n",
       "      <td>2.284912</td>\n",
       "      <td>36.808594</td>\n",
       "      <td>523.546326</td>\n",
       "      <td>55.486599</td>\n",
       "      <td>11.986616</td>\n",
       "      <td>6.007990</td>\n",
       "      <td>999.706909</td>\n",
       "      <td>-404.066986</td>\n",
       "      <td>1603.011353</td>\n",
       "      <td>-434.715027</td>\n",
       "      <td>1602.375000</td>\n",
       "      <td>-442.204468</td>\n",
       "      <td>1598.937256</td>\n",
       "      <td>-451.294128</td>\n",
       "      <td>1404.472046</td>\n",
       "      <td>-455.462982</td>\n",
       "      <td>1416.354980</td>\n",
       "      <td>-451.939636</td>\n",
       "      <td>11.836743</td>\n",
       "      <td>6.005818</td>\n",
       "    </tr>\n",
       "    <tr>\n",
       "      <th>1</th>\n",
       "      <td>6.478583</td>\n",
       "      <td>6.161113</td>\n",
       "      <td>2.266033</td>\n",
       "      <td>35.753385</td>\n",
       "      <td>525.290581</td>\n",
       "      <td>57.278666</td>\n",
       "      <td>11.971193</td>\n",
       "      <td>6.005766</td>\n",
       "      <td>1000.286398</td>\n",
       "      <td>-400.065196</td>\n",
       "      <td>1600.754587</td>\n",
       "      <td>-449.953435</td>\n",
       "      <td>1600.479580</td>\n",
       "      <td>-449.830646</td>\n",
       "      <td>1600.527589</td>\n",
       "      <td>-449.953649</td>\n",
       "      <td>1399.227084</td>\n",
       "      <td>-450.869848</td>\n",
       "      <td>1399.719514</td>\n",
       "      <td>-450.119001</td>\n",
       "      <td>11.996163</td>\n",
       "      <td>6.012594</td>\n",
       "    </tr>\n",
       "    <tr>\n",
       "      <th>2</th>\n",
       "      <td>6.362222</td>\n",
       "      <td>6.116455</td>\n",
       "      <td>2.159622</td>\n",
       "      <td>35.971630</td>\n",
       "      <td>530.026610</td>\n",
       "      <td>57.510649</td>\n",
       "      <td>11.920603</td>\n",
       "      <td>6.197377</td>\n",
       "      <td>999.719565</td>\n",
       "      <td>-400.074028</td>\n",
       "      <td>1599.337330</td>\n",
       "      <td>-450.008530</td>\n",
       "      <td>1599.672797</td>\n",
       "      <td>-449.954491</td>\n",
       "      <td>1599.849325</td>\n",
       "      <td>-449.954185</td>\n",
       "      <td>1399.180945</td>\n",
       "      <td>-449.937588</td>\n",
       "      <td>1400.316682</td>\n",
       "      <td>-450.527147</td>\n",
       "      <td>11.920305</td>\n",
       "      <td>6.204633</td>\n",
       "    </tr>\n",
       "    <tr>\n",
       "      <th>3</th>\n",
       "      <td>6.118189</td>\n",
       "      <td>6.043309</td>\n",
       "      <td>2.037807</td>\n",
       "      <td>36.862241</td>\n",
       "      <td>542.590390</td>\n",
       "      <td>57.792734</td>\n",
       "      <td>11.630094</td>\n",
       "      <td>6.203177</td>\n",
       "      <td>999.814770</td>\n",
       "      <td>-400.200179</td>\n",
       "      <td>1600.059442</td>\n",
       "      <td>-450.619948</td>\n",
       "      <td>1600.012842</td>\n",
       "      <td>-449.910497</td>\n",
       "      <td>1597.725177</td>\n",
       "      <td>-450.130127</td>\n",
       "      <td>1400.943157</td>\n",
       "      <td>-450.030142</td>\n",
       "      <td>1400.234743</td>\n",
       "      <td>-449.790835</td>\n",
       "      <td>11.692450</td>\n",
       "      <td>6.196578</td>\n",
       "    </tr>\n",
       "    <tr>\n",
       "      <th>4</th>\n",
       "      <td>5.663707</td>\n",
       "      <td>6.060915</td>\n",
       "      <td>1.786875</td>\n",
       "      <td>34.347666</td>\n",
       "      <td>540.531893</td>\n",
       "      <td>56.047189</td>\n",
       "      <td>10.957755</td>\n",
       "      <td>6.198826</td>\n",
       "      <td>999.678690</td>\n",
       "      <td>-399.752729</td>\n",
       "      <td>1600.208824</td>\n",
       "      <td>-449.599614</td>\n",
       "      <td>1600.357732</td>\n",
       "      <td>-450.034364</td>\n",
       "      <td>1599.759049</td>\n",
       "      <td>-449.909799</td>\n",
       "      <td>1401.560902</td>\n",
       "      <td>-448.877187</td>\n",
       "      <td>1401.160227</td>\n",
       "      <td>-450.407128</td>\n",
       "      <td>10.960521</td>\n",
       "      <td>6.194897</td>\n",
       "    </tr>\n",
       "    <tr>\n",
       "      <th>5</th>\n",
       "      <td>5.687168</td>\n",
       "      <td>5.801920</td>\n",
       "      <td>1.879351</td>\n",
       "      <td>35.470082</td>\n",
       "      <td>546.173470</td>\n",
       "      <td>57.469578</td>\n",
       "      <td>11.072517</td>\n",
       "      <td>6.200383</td>\n",
       "      <td>999.934134</td>\n",
       "      <td>-400.599524</td>\n",
       "      <td>1601.080554</td>\n",
       "      <td>-450.120760</td>\n",
       "      <td>1603.164805</td>\n",
       "      <td>-450.097732</td>\n",
       "      <td>1603.368371</td>\n",
       "      <td>-446.306150</td>\n",
       "      <td>1403.393100</td>\n",
       "      <td>-447.899904</td>\n",
       "      <td>1402.903175</td>\n",
       "      <td>-448.872321</td>\n",
       "      <td>11.075009</td>\n",
       "      <td>6.202362</td>\n",
       "    </tr>\n",
       "    <tr>\n",
       "      <th>6</th>\n",
       "      <td>6.038436</td>\n",
       "      <td>6.056253</td>\n",
       "      <td>2.105501</td>\n",
       "      <td>34.920570</td>\n",
       "      <td>523.376439</td>\n",
       "      <td>56.674647</td>\n",
       "      <td>11.535899</td>\n",
       "      <td>6.204974</td>\n",
       "      <td>999.832373</td>\n",
       "      <td>-399.353521</td>\n",
       "      <td>1600.753019</td>\n",
       "      <td>-450.050089</td>\n",
       "      <td>1599.019966</td>\n",
       "      <td>-449.848507</td>\n",
       "      <td>1600.298267</td>\n",
       "      <td>-453.102891</td>\n",
       "      <td>1397.853265</td>\n",
       "      <td>-451.306640</td>\n",
       "      <td>1397.973670</td>\n",
       "      <td>-451.355626</td>\n",
       "      <td>11.539227</td>\n",
       "      <td>6.200515</td>\n",
       "    </tr>\n",
       "    <tr>\n",
       "      <th>7</th>\n",
       "      <td>6.433854</td>\n",
       "      <td>5.955053</td>\n",
       "      <td>2.310432</td>\n",
       "      <td>36.091386</td>\n",
       "      <td>549.842749</td>\n",
       "      <td>56.730325</td>\n",
       "      <td>12.557906</td>\n",
       "      <td>6.799275</td>\n",
       "      <td>1000.166602</td>\n",
       "      <td>-400.556601</td>\n",
       "      <td>1598.877246</td>\n",
       "      <td>-450.070980</td>\n",
       "      <td>1598.108717</td>\n",
       "      <td>-449.211334</td>\n",
       "      <td>1592.872844</td>\n",
       "      <td>-449.806802</td>\n",
       "      <td>1396.580752</td>\n",
       "      <td>-453.548352</td>\n",
       "      <td>1397.289884</td>\n",
       "      <td>-450.221696</td>\n",
       "      <td>12.583109</td>\n",
       "      <td>6.798354</td>\n",
       "    </tr>\n",
       "    <tr>\n",
       "      <th>8</th>\n",
       "      <td>6.526612</td>\n",
       "      <td>5.878084</td>\n",
       "      <td>2.391713</td>\n",
       "      <td>35.753879</td>\n",
       "      <td>560.115242</td>\n",
       "      <td>56.649893</td>\n",
       "      <td>13.166128</td>\n",
       "      <td>6.798659</td>\n",
       "      <td>1000.026864</td>\n",
       "      <td>-399.968583</td>\n",
       "      <td>1599.813104</td>\n",
       "      <td>-450.481122</td>\n",
       "      <td>1600.024621</td>\n",
       "      <td>-450.365493</td>\n",
       "      <td>1594.448648</td>\n",
       "      <td>-449.882428</td>\n",
       "      <td>1402.033682</td>\n",
       "      <td>-448.545552</td>\n",
       "      <td>1400.748347</td>\n",
       "      <td>-450.303991</td>\n",
       "      <td>13.184764</td>\n",
       "      <td>6.800021</td>\n",
       "    </tr>\n",
       "    <tr>\n",
       "      <th>9</th>\n",
       "      <td>6.747693</td>\n",
       "      <td>5.974832</td>\n",
       "      <td>2.539114</td>\n",
       "      <td>38.553938</td>\n",
       "      <td>566.616045</td>\n",
       "      <td>60.308763</td>\n",
       "      <td>13.996130</td>\n",
       "      <td>6.800263</td>\n",
       "      <td>1000.332327</td>\n",
       "      <td>-400.149341</td>\n",
       "      <td>1599.255585</td>\n",
       "      <td>-449.938835</td>\n",
       "      <td>1599.889681</td>\n",
       "      <td>-450.184036</td>\n",
       "      <td>1589.251641</td>\n",
       "      <td>-449.993434</td>\n",
       "      <td>1401.349036</td>\n",
       "      <td>-449.424506</td>\n",
       "      <td>1400.221018</td>\n",
       "      <td>-450.257027</td>\n",
       "      <td>14.018513</td>\n",
       "      <td>6.799799</td>\n",
       "    </tr>\n",
       "  </tbody>\n",
       "</table>\n",
       "</div>"
      ],
      "text/plain": [
       "   rougher.input.feed_au  rougher.input.feed_ag  rougher.input.feed_pb  \\\n",
       "0               6.486150               6.100378               2.284912   \n",
       "1               6.478583               6.161113               2.266033   \n",
       "2               6.362222               6.116455               2.159622   \n",
       "3               6.118189               6.043309               2.037807   \n",
       "4               5.663707               6.060915               1.786875   \n",
       "5               5.687168               5.801920               1.879351   \n",
       "6               6.038436               6.056253               2.105501   \n",
       "7               6.433854               5.955053               2.310432   \n",
       "8               6.526612               5.878084               2.391713   \n",
       "9               6.747693               5.974832               2.539114   \n",
       "\n",
       "   rougher.input.feed_sol  rougher.input.feed_rate  rougher.input.feed_size  \\\n",
       "0               36.808594               523.546326                55.486599   \n",
       "1               35.753385               525.290581                57.278666   \n",
       "2               35.971630               530.026610                57.510649   \n",
       "3               36.862241               542.590390                57.792734   \n",
       "4               34.347666               540.531893                56.047189   \n",
       "5               35.470082               546.173470                57.469578   \n",
       "6               34.920570               523.376439                56.674647   \n",
       "7               36.091386               549.842749                56.730325   \n",
       "8               35.753879               560.115242                56.649893   \n",
       "9               38.553938               566.616045                60.308763   \n",
       "\n",
       "   rougher.input.floatbank10_sulfate  rougher.input.floatbank10_xanthate  \\\n",
       "0                          11.986616                            6.007990   \n",
       "1                          11.971193                            6.005766   \n",
       "2                          11.920603                            6.197377   \n",
       "3                          11.630094                            6.203177   \n",
       "4                          10.957755                            6.198826   \n",
       "5                          11.072517                            6.200383   \n",
       "6                          11.535899                            6.204974   \n",
       "7                          12.557906                            6.799275   \n",
       "8                          13.166128                            6.798659   \n",
       "9                          13.996130                            6.800263   \n",
       "\n",
       "   rougher.state.floatbank10_a_air  rougher.state.floatbank10_a_level  \\\n",
       "0                       999.706909                        -404.066986   \n",
       "1                      1000.286398                        -400.065196   \n",
       "2                       999.719565                        -400.074028   \n",
       "3                       999.814770                        -400.200179   \n",
       "4                       999.678690                        -399.752729   \n",
       "5                       999.934134                        -400.599524   \n",
       "6                       999.832373                        -399.353521   \n",
       "7                      1000.166602                        -400.556601   \n",
       "8                      1000.026864                        -399.968583   \n",
       "9                      1000.332327                        -400.149341   \n",
       "\n",
       "   rougher.state.floatbank10_b_air  rougher.state.floatbank10_b_level  \\\n",
       "0                      1603.011353                        -434.715027   \n",
       "1                      1600.754587                        -449.953435   \n",
       "2                      1599.337330                        -450.008530   \n",
       "3                      1600.059442                        -450.619948   \n",
       "4                      1600.208824                        -449.599614   \n",
       "5                      1601.080554                        -450.120760   \n",
       "6                      1600.753019                        -450.050089   \n",
       "7                      1598.877246                        -450.070980   \n",
       "8                      1599.813104                        -450.481122   \n",
       "9                      1599.255585                        -449.938835   \n",
       "\n",
       "   rougher.state.floatbank10_c_air  rougher.state.floatbank10_c_level  \\\n",
       "0                      1602.375000                        -442.204468   \n",
       "1                      1600.479580                        -449.830646   \n",
       "2                      1599.672797                        -449.954491   \n",
       "3                      1600.012842                        -449.910497   \n",
       "4                      1600.357732                        -450.034364   \n",
       "5                      1603.164805                        -450.097732   \n",
       "6                      1599.019966                        -449.848507   \n",
       "7                      1598.108717                        -449.211334   \n",
       "8                      1600.024621                        -450.365493   \n",
       "9                      1599.889681                        -450.184036   \n",
       "\n",
       "   rougher.state.floatbank10_d_air  rougher.state.floatbank10_d_level  \\\n",
       "0                      1598.937256                        -451.294128   \n",
       "1                      1600.527589                        -449.953649   \n",
       "2                      1599.849325                        -449.954185   \n",
       "3                      1597.725177                        -450.130127   \n",
       "4                      1599.759049                        -449.909799   \n",
       "5                      1603.368371                        -446.306150   \n",
       "6                      1600.298267                        -453.102891   \n",
       "7                      1592.872844                        -449.806802   \n",
       "8                      1594.448648                        -449.882428   \n",
       "9                      1589.251641                        -449.993434   \n",
       "\n",
       "   rougher.state.floatbank10_e_air  rougher.state.floatbank10_e_level  \\\n",
       "0                      1404.472046                        -455.462982   \n",
       "1                      1399.227084                        -450.869848   \n",
       "2                      1399.180945                        -449.937588   \n",
       "3                      1400.943157                        -450.030142   \n",
       "4                      1401.560902                        -448.877187   \n",
       "5                      1403.393100                        -447.899904   \n",
       "6                      1397.853265                        -451.306640   \n",
       "7                      1396.580752                        -453.548352   \n",
       "8                      1402.033682                        -448.545552   \n",
       "9                      1401.349036                        -449.424506   \n",
       "\n",
       "   rougher.state.floatbank10_f_air  rougher.state.floatbank10_f_level  \\\n",
       "0                      1416.354980                        -451.939636   \n",
       "1                      1399.719514                        -450.119001   \n",
       "2                      1400.316682                        -450.527147   \n",
       "3                      1400.234743                        -449.790835   \n",
       "4                      1401.160227                        -450.407128   \n",
       "5                      1402.903175                        -448.872321   \n",
       "6                      1397.973670                        -451.355626   \n",
       "7                      1397.289884                        -450.221696   \n",
       "8                      1400.748347                        -450.303991   \n",
       "9                      1400.221018                        -450.257027   \n",
       "\n",
       "   rougher.input.floatbank11_sulfate  rougher.input.floatbank11_xanthate  \n",
       "0                          11.836743                            6.005818  \n",
       "1                          11.996163                            6.012594  \n",
       "2                          11.920305                            6.204633  \n",
       "3                          11.692450                            6.196578  \n",
       "4                          10.960521                            6.194897  \n",
       "5                          11.075009                            6.202362  \n",
       "6                          11.539227                            6.200515  \n",
       "7                          12.583109                            6.798354  \n",
       "8                          13.184764                            6.800021  \n",
       "9                          14.018513                            6.799799  "
      ]
     },
     "execution_count": 43,
     "metadata": {},
     "output_type": "execute_result"
    }
   ],
   "source": [
    "feature_train_rougher = dtrain[['date', 'rougher.input.feed_au', 'rougher.input.feed_ag',\n",
    "       'rougher.input.feed_pb', 'rougher.input.feed_sol',\n",
    "       'rougher.input.feed_rate', 'rougher.input.feed_size',\n",
    "       'rougher.input.floatbank10_sulfate',\n",
    "       'rougher.input.floatbank10_xanthate', 'rougher.state.floatbank10_a_air',\n",
    "       'rougher.state.floatbank10_a_level', 'rougher.state.floatbank10_b_air',\n",
    "       'rougher.state.floatbank10_b_level', 'rougher.state.floatbank10_c_air',\n",
    "       'rougher.state.floatbank10_c_level', 'rougher.state.floatbank10_d_air',\n",
    "       'rougher.state.floatbank10_d_level', 'rougher.state.floatbank10_e_air',\n",
    "       'rougher.state.floatbank10_e_level', 'rougher.state.floatbank10_f_air',\n",
    "       'rougher.state.floatbank10_f_level',\n",
    "       'rougher.input.floatbank11_sulfate',\n",
    "       'rougher.input.floatbank11_xanthate']]\n",
    "feature_train_rougher = feature_train_rougher.drop(['date'],axis=1)\n",
    "feature_train_rougher.head(10)"
   ]
  },
  {
   "cell_type": "code",
   "execution_count": 44,
   "metadata": {},
   "outputs": [
    {
     "data": {
      "text/plain": [
       "0    87.107763\n",
       "1    86.843261\n",
       "2    86.842308\n",
       "3    87.226430\n",
       "4    86.688794\n",
       "5    88.156912\n",
       "6    88.168065\n",
       "7    87.668336\n",
       "8    87.035862\n",
       "9    88.280699\n",
       "Name: rougher.output.recovery, dtype: float64"
      ]
     },
     "execution_count": 44,
     "metadata": {},
     "output_type": "execute_result"
    }
   ],
   "source": [
    "target_train_rougher = dtrain['rougher.output.recovery']\n",
    "target_train_rougher.head(10)"
   ]
  },
  {
   "cell_type": "markdown",
   "metadata": {},
   "source": [
    "Создадим features и target для прогнозирования финального признака. Для features возьмем все колонки, доступные в common_columns, т.к. для финального результата доступны все предыдущие данные."
   ]
  },
  {
   "cell_type": "code",
   "execution_count": 45,
   "metadata": {
    "scrolled": true
   },
   "outputs": [
    {
     "data": {
      "text/html": [
       "<div>\n",
       "<style scoped>\n",
       "    .dataframe tbody tr th:only-of-type {\n",
       "        vertical-align: middle;\n",
       "    }\n",
       "\n",
       "    .dataframe tbody tr th {\n",
       "        vertical-align: top;\n",
       "    }\n",
       "\n",
       "    .dataframe thead th {\n",
       "        text-align: right;\n",
       "    }\n",
       "</style>\n",
       "<table border=\"1\" class=\"dataframe\">\n",
       "  <thead>\n",
       "    <tr style=\"text-align: right;\">\n",
       "      <th></th>\n",
       "      <th>rougher.input.feed_au</th>\n",
       "      <th>rougher.input.feed_ag</th>\n",
       "      <th>rougher.input.feed_pb</th>\n",
       "      <th>rougher.input.feed_sol</th>\n",
       "      <th>rougher.input.feed_rate</th>\n",
       "      <th>rougher.input.feed_size</th>\n",
       "      <th>rougher.input.floatbank10_sulfate</th>\n",
       "      <th>rougher.input.floatbank10_xanthate</th>\n",
       "      <th>rougher.state.floatbank10_a_air</th>\n",
       "      <th>rougher.state.floatbank10_a_level</th>\n",
       "      <th>rougher.state.floatbank10_b_air</th>\n",
       "      <th>rougher.state.floatbank10_b_level</th>\n",
       "      <th>rougher.state.floatbank10_c_air</th>\n",
       "      <th>rougher.state.floatbank10_c_level</th>\n",
       "      <th>rougher.state.floatbank10_d_air</th>\n",
       "      <th>rougher.state.floatbank10_d_level</th>\n",
       "      <th>rougher.state.floatbank10_e_air</th>\n",
       "      <th>rougher.state.floatbank10_e_level</th>\n",
       "      <th>rougher.state.floatbank10_f_air</th>\n",
       "      <th>rougher.state.floatbank10_f_level</th>\n",
       "      <th>rougher.input.floatbank11_sulfate</th>\n",
       "      <th>rougher.input.floatbank11_xanthate</th>\n",
       "      <th>primary_cleaner.input.sulfate</th>\n",
       "      <th>primary_cleaner.input.depressant</th>\n",
       "      <th>primary_cleaner.input.feed_size</th>\n",
       "      <th>primary_cleaner.input.xanthate</th>\n",
       "      <th>primary_cleaner.state.floatbank8_a_air</th>\n",
       "      <th>primary_cleaner.state.floatbank8_a_level</th>\n",
       "      <th>primary_cleaner.state.floatbank8_b_air</th>\n",
       "      <th>primary_cleaner.state.floatbank8_b_level</th>\n",
       "      <th>primary_cleaner.state.floatbank8_c_air</th>\n",
       "      <th>primary_cleaner.state.floatbank8_c_level</th>\n",
       "      <th>primary_cleaner.state.floatbank8_d_air</th>\n",
       "      <th>primary_cleaner.state.floatbank8_d_level</th>\n",
       "      <th>secondary_cleaner.state.floatbank2_a_air</th>\n",
       "      <th>secondary_cleaner.state.floatbank2_a_level</th>\n",
       "      <th>secondary_cleaner.state.floatbank2_b_air</th>\n",
       "      <th>secondary_cleaner.state.floatbank2_b_level</th>\n",
       "      <th>secondary_cleaner.state.floatbank3_a_air</th>\n",
       "      <th>secondary_cleaner.state.floatbank3_a_level</th>\n",
       "      <th>secondary_cleaner.state.floatbank3_b_air</th>\n",
       "      <th>secondary_cleaner.state.floatbank3_b_level</th>\n",
       "      <th>secondary_cleaner.state.floatbank4_a_air</th>\n",
       "      <th>secondary_cleaner.state.floatbank4_a_level</th>\n",
       "      <th>secondary_cleaner.state.floatbank4_b_air</th>\n",
       "      <th>secondary_cleaner.state.floatbank4_b_level</th>\n",
       "      <th>secondary_cleaner.state.floatbank5_a_air</th>\n",
       "      <th>secondary_cleaner.state.floatbank5_a_level</th>\n",
       "      <th>secondary_cleaner.state.floatbank5_b_air</th>\n",
       "      <th>secondary_cleaner.state.floatbank5_b_level</th>\n",
       "      <th>secondary_cleaner.state.floatbank6_a_air</th>\n",
       "      <th>secondary_cleaner.state.floatbank6_a_level</th>\n",
       "    </tr>\n",
       "  </thead>\n",
       "  <tbody>\n",
       "    <tr>\n",
       "      <th>0</th>\n",
       "      <td>6.48615</td>\n",
       "      <td>6.100378</td>\n",
       "      <td>2.284912</td>\n",
       "      <td>36.808594</td>\n",
       "      <td>523.546326</td>\n",
       "      <td>55.486599</td>\n",
       "      <td>11.986616</td>\n",
       "      <td>6.00799</td>\n",
       "      <td>999.706909</td>\n",
       "      <td>-404.066986</td>\n",
       "      <td>1603.011353</td>\n",
       "      <td>-434.715027</td>\n",
       "      <td>1602.375</td>\n",
       "      <td>-442.204468</td>\n",
       "      <td>1598.937256</td>\n",
       "      <td>-451.294128</td>\n",
       "      <td>1404.472046</td>\n",
       "      <td>-455.462982</td>\n",
       "      <td>1416.35498</td>\n",
       "      <td>-451.939636</td>\n",
       "      <td>11.836743</td>\n",
       "      <td>6.005818</td>\n",
       "      <td>127.092003</td>\n",
       "      <td>10.128295</td>\n",
       "      <td>7.25</td>\n",
       "      <td>0.988759</td>\n",
       "      <td>1549.775757</td>\n",
       "      <td>-498.91214</td>\n",
       "      <td>1551.434204</td>\n",
       "      <td>-516.403442</td>\n",
       "      <td>1549.873901</td>\n",
       "      <td>-498.666595</td>\n",
       "      <td>1554.367432</td>\n",
       "      <td>-493.428131</td>\n",
       "      <td>25.853109</td>\n",
       "      <td>-498.526489</td>\n",
       "      <td>23.89366</td>\n",
       "      <td>-501.406281</td>\n",
       "      <td>23.961798</td>\n",
       "      <td>-495.262817</td>\n",
       "      <td>21.940409</td>\n",
       "      <td>-499.340973</td>\n",
       "      <td>14.016835</td>\n",
       "      <td>-502.488007</td>\n",
       "      <td>12.099931</td>\n",
       "      <td>-504.715942</td>\n",
       "      <td>9.925633</td>\n",
       "      <td>-498.310211</td>\n",
       "      <td>8.079666</td>\n",
       "      <td>-500.470978</td>\n",
       "      <td>14.151341</td>\n",
       "      <td>-605.84198</td>\n",
       "    </tr>\n",
       "  </tbody>\n",
       "</table>\n",
       "</div>"
      ],
      "text/plain": [
       "   rougher.input.feed_au  rougher.input.feed_ag  rougher.input.feed_pb  \\\n",
       "0                6.48615               6.100378               2.284912   \n",
       "\n",
       "   rougher.input.feed_sol  rougher.input.feed_rate  rougher.input.feed_size  \\\n",
       "0               36.808594               523.546326                55.486599   \n",
       "\n",
       "   rougher.input.floatbank10_sulfate  rougher.input.floatbank10_xanthate  \\\n",
       "0                          11.986616                             6.00799   \n",
       "\n",
       "   rougher.state.floatbank10_a_air  rougher.state.floatbank10_a_level  \\\n",
       "0                       999.706909                        -404.066986   \n",
       "\n",
       "   rougher.state.floatbank10_b_air  rougher.state.floatbank10_b_level  \\\n",
       "0                      1603.011353                        -434.715027   \n",
       "\n",
       "   rougher.state.floatbank10_c_air  rougher.state.floatbank10_c_level  \\\n",
       "0                         1602.375                        -442.204468   \n",
       "\n",
       "   rougher.state.floatbank10_d_air  rougher.state.floatbank10_d_level  \\\n",
       "0                      1598.937256                        -451.294128   \n",
       "\n",
       "   rougher.state.floatbank10_e_air  rougher.state.floatbank10_e_level  \\\n",
       "0                      1404.472046                        -455.462982   \n",
       "\n",
       "   rougher.state.floatbank10_f_air  rougher.state.floatbank10_f_level  \\\n",
       "0                       1416.35498                        -451.939636   \n",
       "\n",
       "   rougher.input.floatbank11_sulfate  rougher.input.floatbank11_xanthate  \\\n",
       "0                          11.836743                            6.005818   \n",
       "\n",
       "   primary_cleaner.input.sulfate  primary_cleaner.input.depressant  \\\n",
       "0                     127.092003                         10.128295   \n",
       "\n",
       "   primary_cleaner.input.feed_size  primary_cleaner.input.xanthate  \\\n",
       "0                             7.25                        0.988759   \n",
       "\n",
       "   primary_cleaner.state.floatbank8_a_air  \\\n",
       "0                             1549.775757   \n",
       "\n",
       "   primary_cleaner.state.floatbank8_a_level  \\\n",
       "0                                -498.91214   \n",
       "\n",
       "   primary_cleaner.state.floatbank8_b_air  \\\n",
       "0                             1551.434204   \n",
       "\n",
       "   primary_cleaner.state.floatbank8_b_level  \\\n",
       "0                               -516.403442   \n",
       "\n",
       "   primary_cleaner.state.floatbank8_c_air  \\\n",
       "0                             1549.873901   \n",
       "\n",
       "   primary_cleaner.state.floatbank8_c_level  \\\n",
       "0                               -498.666595   \n",
       "\n",
       "   primary_cleaner.state.floatbank8_d_air  \\\n",
       "0                             1554.367432   \n",
       "\n",
       "   primary_cleaner.state.floatbank8_d_level  \\\n",
       "0                               -493.428131   \n",
       "\n",
       "   secondary_cleaner.state.floatbank2_a_air  \\\n",
       "0                                 25.853109   \n",
       "\n",
       "   secondary_cleaner.state.floatbank2_a_level  \\\n",
       "0                                 -498.526489   \n",
       "\n",
       "   secondary_cleaner.state.floatbank2_b_air  \\\n",
       "0                                  23.89366   \n",
       "\n",
       "   secondary_cleaner.state.floatbank2_b_level  \\\n",
       "0                                 -501.406281   \n",
       "\n",
       "   secondary_cleaner.state.floatbank3_a_air  \\\n",
       "0                                 23.961798   \n",
       "\n",
       "   secondary_cleaner.state.floatbank3_a_level  \\\n",
       "0                                 -495.262817   \n",
       "\n",
       "   secondary_cleaner.state.floatbank3_b_air  \\\n",
       "0                                 21.940409   \n",
       "\n",
       "   secondary_cleaner.state.floatbank3_b_level  \\\n",
       "0                                 -499.340973   \n",
       "\n",
       "   secondary_cleaner.state.floatbank4_a_air  \\\n",
       "0                                 14.016835   \n",
       "\n",
       "   secondary_cleaner.state.floatbank4_a_level  \\\n",
       "0                                 -502.488007   \n",
       "\n",
       "   secondary_cleaner.state.floatbank4_b_air  \\\n",
       "0                                 12.099931   \n",
       "\n",
       "   secondary_cleaner.state.floatbank4_b_level  \\\n",
       "0                                 -504.715942   \n",
       "\n",
       "   secondary_cleaner.state.floatbank5_a_air  \\\n",
       "0                                  9.925633   \n",
       "\n",
       "   secondary_cleaner.state.floatbank5_a_level  \\\n",
       "0                                 -498.310211   \n",
       "\n",
       "   secondary_cleaner.state.floatbank5_b_air  \\\n",
       "0                                  8.079666   \n",
       "\n",
       "   secondary_cleaner.state.floatbank5_b_level  \\\n",
       "0                                 -500.470978   \n",
       "\n",
       "   secondary_cleaner.state.floatbank6_a_air  \\\n",
       "0                                 14.151341   \n",
       "\n",
       "   secondary_cleaner.state.floatbank6_a_level  \n",
       "0                                  -605.84198  "
      ]
     },
     "execution_count": 45,
     "metadata": {},
     "output_type": "execute_result"
    }
   ],
   "source": [
    "feature_train_final = dtrain[common_columns]\n",
    "feature_train_final = feature_train_final.drop(['date'],axis=1)\n",
    "feature_train_final.head(1)"
   ]
  },
  {
   "cell_type": "code",
   "execution_count": 46,
   "metadata": {
    "scrolled": true
   },
   "outputs": [
    {
     "data": {
      "text/plain": [
       "0    70.541216\n",
       "1    69.266198\n",
       "2    68.116445\n",
       "Name: final.output.recovery, dtype: float64"
      ]
     },
     "execution_count": 46,
     "metadata": {},
     "output_type": "execute_result"
    }
   ],
   "source": [
    "target_train_final=dtrain['final.output.recovery']\n",
    "target_train_final.head(3)"
   ]
  },
  {
   "cell_type": "markdown",
   "metadata": {},
   "source": [
    "**Подготовка тестовой выборки**"
   ]
  },
  {
   "cell_type": "code",
   "execution_count": 47,
   "metadata": {},
   "outputs": [
    {
     "data": {
      "text/html": [
       "<div>\n",
       "<style scoped>\n",
       "    .dataframe tbody tr th:only-of-type {\n",
       "        vertical-align: middle;\n",
       "    }\n",
       "\n",
       "    .dataframe tbody tr th {\n",
       "        vertical-align: top;\n",
       "    }\n",
       "\n",
       "    .dataframe thead th {\n",
       "        text-align: right;\n",
       "    }\n",
       "</style>\n",
       "<table border=\"1\" class=\"dataframe\">\n",
       "  <thead>\n",
       "    <tr style=\"text-align: right;\">\n",
       "      <th></th>\n",
       "      <th>rougher.input.feed_au</th>\n",
       "      <th>rougher.input.feed_ag</th>\n",
       "      <th>rougher.input.feed_pb</th>\n",
       "      <th>rougher.input.feed_sol</th>\n",
       "      <th>rougher.input.feed_rate</th>\n",
       "      <th>rougher.input.feed_size</th>\n",
       "      <th>rougher.input.floatbank10_sulfate</th>\n",
       "      <th>rougher.input.floatbank10_xanthate</th>\n",
       "      <th>rougher.state.floatbank10_a_air</th>\n",
       "      <th>rougher.state.floatbank10_a_level</th>\n",
       "      <th>rougher.state.floatbank10_b_air</th>\n",
       "      <th>rougher.state.floatbank10_b_level</th>\n",
       "      <th>rougher.state.floatbank10_c_air</th>\n",
       "      <th>rougher.state.floatbank10_c_level</th>\n",
       "      <th>rougher.state.floatbank10_d_air</th>\n",
       "      <th>rougher.state.floatbank10_d_level</th>\n",
       "      <th>rougher.state.floatbank10_e_air</th>\n",
       "      <th>rougher.state.floatbank10_e_level</th>\n",
       "      <th>rougher.state.floatbank10_f_air</th>\n",
       "      <th>rougher.state.floatbank10_f_level</th>\n",
       "      <th>rougher.input.floatbank11_sulfate</th>\n",
       "      <th>rougher.input.floatbank11_xanthate</th>\n",
       "    </tr>\n",
       "  </thead>\n",
       "  <tbody>\n",
       "    <tr>\n",
       "      <th>14579</th>\n",
       "      <td>4.365491</td>\n",
       "      <td>6.158718</td>\n",
       "      <td>3.875727</td>\n",
       "      <td>39.135119</td>\n",
       "      <td>555.820208</td>\n",
       "      <td>94.544358</td>\n",
       "      <td>6.146982</td>\n",
       "      <td>9.308612</td>\n",
       "      <td>1196.238112</td>\n",
       "      <td>-299.862743</td>\n",
       "      <td>1147.248241</td>\n",
       "      <td>-500.363165</td>\n",
       "      <td>1047.279065</td>\n",
       "      <td>-500.354091</td>\n",
       "      <td>948.756608</td>\n",
       "      <td>-498.439416</td>\n",
       "      <td>849.441918</td>\n",
       "      <td>-499.255503</td>\n",
       "      <td>850.112246</td>\n",
       "      <td>-499.407112</td>\n",
       "      <td>6.168939</td>\n",
       "      <td>9.309852</td>\n",
       "    </tr>\n",
       "  </tbody>\n",
       "</table>\n",
       "</div>"
      ],
      "text/plain": [
       "       rougher.input.feed_au  rougher.input.feed_ag  rougher.input.feed_pb  \\\n",
       "14579               4.365491               6.158718               3.875727   \n",
       "\n",
       "       rougher.input.feed_sol  rougher.input.feed_rate  \\\n",
       "14579               39.135119               555.820208   \n",
       "\n",
       "       rougher.input.feed_size  rougher.input.floatbank10_sulfate  \\\n",
       "14579                94.544358                           6.146982   \n",
       "\n",
       "       rougher.input.floatbank10_xanthate  rougher.state.floatbank10_a_air  \\\n",
       "14579                            9.308612                      1196.238112   \n",
       "\n",
       "       rougher.state.floatbank10_a_level  rougher.state.floatbank10_b_air  \\\n",
       "14579                        -299.862743                      1147.248241   \n",
       "\n",
       "       rougher.state.floatbank10_b_level  rougher.state.floatbank10_c_air  \\\n",
       "14579                        -500.363165                      1047.279065   \n",
       "\n",
       "       rougher.state.floatbank10_c_level  rougher.state.floatbank10_d_air  \\\n",
       "14579                        -500.354091                       948.756608   \n",
       "\n",
       "       rougher.state.floatbank10_d_level  rougher.state.floatbank10_e_air  \\\n",
       "14579                        -498.439416                       849.441918   \n",
       "\n",
       "       rougher.state.floatbank10_e_level  rougher.state.floatbank10_f_air  \\\n",
       "14579                        -499.255503                       850.112246   \n",
       "\n",
       "       rougher.state.floatbank10_f_level  rougher.input.floatbank11_sulfate  \\\n",
       "14579                        -499.407112                           6.168939   \n",
       "\n",
       "       rougher.input.floatbank11_xanthate  \n",
       "14579                            9.309852  "
      ]
     },
     "execution_count": 47,
     "metadata": {},
     "output_type": "execute_result"
    }
   ],
   "source": [
    "feature_test_rougher = dtest_fromfull[['date', 'rougher.input.feed_au', 'rougher.input.feed_ag',\n",
    "       'rougher.input.feed_pb', 'rougher.input.feed_sol',\n",
    "       'rougher.input.feed_rate', 'rougher.input.feed_size',\n",
    "       'rougher.input.floatbank10_sulfate',\n",
    "       'rougher.input.floatbank10_xanthate', 'rougher.state.floatbank10_a_air',\n",
    "       'rougher.state.floatbank10_a_level', 'rougher.state.floatbank10_b_air',\n",
    "       'rougher.state.floatbank10_b_level', 'rougher.state.floatbank10_c_air',\n",
    "       'rougher.state.floatbank10_c_level', 'rougher.state.floatbank10_d_air',\n",
    "       'rougher.state.floatbank10_d_level', 'rougher.state.floatbank10_e_air',\n",
    "       'rougher.state.floatbank10_e_level', 'rougher.state.floatbank10_f_air',\n",
    "       'rougher.state.floatbank10_f_level',\n",
    "       'rougher.input.floatbank11_sulfate',\n",
    "       'rougher.input.floatbank11_xanthate']]\n",
    "feature_test_rougher = feature_test_rougher.drop(['date'],axis=1)\n",
    "feature_test_rougher.head(1)"
   ]
  },
  {
   "cell_type": "code",
   "execution_count": 48,
   "metadata": {},
   "outputs": [
    {
     "data": {
      "text/plain": [
       "14579    89.514960\n",
       "14580    89.858126\n",
       "14581    91.816623\n",
       "Name: rougher.output.recovery, dtype: float64"
      ]
     },
     "execution_count": 48,
     "metadata": {},
     "output_type": "execute_result"
    }
   ],
   "source": [
    "target_test_rougher = dtest_fromfull['rougher.output.recovery']\n",
    "target_test_rougher.head(3)"
   ]
  },
  {
   "cell_type": "code",
   "execution_count": 49,
   "metadata": {},
   "outputs": [
    {
     "data": {
      "text/html": [
       "<div>\n",
       "<style scoped>\n",
       "    .dataframe tbody tr th:only-of-type {\n",
       "        vertical-align: middle;\n",
       "    }\n",
       "\n",
       "    .dataframe tbody tr th {\n",
       "        vertical-align: top;\n",
       "    }\n",
       "\n",
       "    .dataframe thead th {\n",
       "        text-align: right;\n",
       "    }\n",
       "</style>\n",
       "<table border=\"1\" class=\"dataframe\">\n",
       "  <thead>\n",
       "    <tr style=\"text-align: right;\">\n",
       "      <th></th>\n",
       "      <th>rougher.input.feed_au</th>\n",
       "      <th>rougher.input.feed_ag</th>\n",
       "      <th>rougher.input.feed_pb</th>\n",
       "      <th>rougher.input.feed_sol</th>\n",
       "      <th>rougher.input.feed_rate</th>\n",
       "      <th>rougher.input.feed_size</th>\n",
       "      <th>rougher.input.floatbank10_sulfate</th>\n",
       "      <th>rougher.input.floatbank10_xanthate</th>\n",
       "      <th>rougher.state.floatbank10_a_air</th>\n",
       "      <th>rougher.state.floatbank10_a_level</th>\n",
       "      <th>rougher.state.floatbank10_b_air</th>\n",
       "      <th>rougher.state.floatbank10_b_level</th>\n",
       "      <th>rougher.state.floatbank10_c_air</th>\n",
       "      <th>rougher.state.floatbank10_c_level</th>\n",
       "      <th>rougher.state.floatbank10_d_air</th>\n",
       "      <th>rougher.state.floatbank10_d_level</th>\n",
       "      <th>rougher.state.floatbank10_e_air</th>\n",
       "      <th>rougher.state.floatbank10_e_level</th>\n",
       "      <th>rougher.state.floatbank10_f_air</th>\n",
       "      <th>rougher.state.floatbank10_f_level</th>\n",
       "      <th>rougher.input.floatbank11_sulfate</th>\n",
       "      <th>rougher.input.floatbank11_xanthate</th>\n",
       "      <th>primary_cleaner.input.sulfate</th>\n",
       "      <th>primary_cleaner.input.depressant</th>\n",
       "      <th>primary_cleaner.input.feed_size</th>\n",
       "      <th>primary_cleaner.input.xanthate</th>\n",
       "      <th>primary_cleaner.state.floatbank8_a_air</th>\n",
       "      <th>primary_cleaner.state.floatbank8_a_level</th>\n",
       "      <th>primary_cleaner.state.floatbank8_b_air</th>\n",
       "      <th>primary_cleaner.state.floatbank8_b_level</th>\n",
       "      <th>primary_cleaner.state.floatbank8_c_air</th>\n",
       "      <th>primary_cleaner.state.floatbank8_c_level</th>\n",
       "      <th>primary_cleaner.state.floatbank8_d_air</th>\n",
       "      <th>primary_cleaner.state.floatbank8_d_level</th>\n",
       "      <th>secondary_cleaner.state.floatbank2_a_air</th>\n",
       "      <th>secondary_cleaner.state.floatbank2_a_level</th>\n",
       "      <th>secondary_cleaner.state.floatbank2_b_air</th>\n",
       "      <th>secondary_cleaner.state.floatbank2_b_level</th>\n",
       "      <th>secondary_cleaner.state.floatbank3_a_air</th>\n",
       "      <th>secondary_cleaner.state.floatbank3_a_level</th>\n",
       "      <th>secondary_cleaner.state.floatbank3_b_air</th>\n",
       "      <th>secondary_cleaner.state.floatbank3_b_level</th>\n",
       "      <th>secondary_cleaner.state.floatbank4_a_air</th>\n",
       "      <th>secondary_cleaner.state.floatbank4_a_level</th>\n",
       "      <th>secondary_cleaner.state.floatbank4_b_air</th>\n",
       "      <th>secondary_cleaner.state.floatbank4_b_level</th>\n",
       "      <th>secondary_cleaner.state.floatbank5_a_air</th>\n",
       "      <th>secondary_cleaner.state.floatbank5_a_level</th>\n",
       "      <th>secondary_cleaner.state.floatbank5_b_air</th>\n",
       "      <th>secondary_cleaner.state.floatbank5_b_level</th>\n",
       "      <th>secondary_cleaner.state.floatbank6_a_air</th>\n",
       "      <th>secondary_cleaner.state.floatbank6_a_level</th>\n",
       "    </tr>\n",
       "  </thead>\n",
       "  <tbody>\n",
       "    <tr>\n",
       "      <th>14579</th>\n",
       "      <td>4.365491</td>\n",
       "      <td>6.158718</td>\n",
       "      <td>3.875727</td>\n",
       "      <td>39.135119</td>\n",
       "      <td>555.820208</td>\n",
       "      <td>94.544358</td>\n",
       "      <td>6.146982</td>\n",
       "      <td>9.308612</td>\n",
       "      <td>1196.238112</td>\n",
       "      <td>-299.862743</td>\n",
       "      <td>1147.248241</td>\n",
       "      <td>-500.363165</td>\n",
       "      <td>1047.279065</td>\n",
       "      <td>-500.354091</td>\n",
       "      <td>948.756608</td>\n",
       "      <td>-498.439416</td>\n",
       "      <td>849.441918</td>\n",
       "      <td>-499.255503</td>\n",
       "      <td>850.112246</td>\n",
       "      <td>-499.407112</td>\n",
       "      <td>6.168939</td>\n",
       "      <td>9.309852</td>\n",
       "      <td>95.248427</td>\n",
       "      <td>8.078957</td>\n",
       "      <td>6.5</td>\n",
       "      <td>1.283045</td>\n",
       "      <td>1648.759906</td>\n",
       "      <td>-399.862053</td>\n",
       "      <td>1650.135395</td>\n",
       "      <td>-399.957321</td>\n",
       "      <td>1648.83189</td>\n",
       "      <td>-400.586116</td>\n",
       "      <td>1649.464582</td>\n",
       "      <td>-400.673303</td>\n",
       "      <td>34.940919</td>\n",
       "      <td>-500.15051</td>\n",
       "      <td>30.031867</td>\n",
       "      <td>-500.328335</td>\n",
       "      <td>26.03399</td>\n",
       "      <td>-500.147792</td>\n",
       "      <td>22.952306</td>\n",
       "      <td>-500.037678</td>\n",
       "      <td>23.018622</td>\n",
       "      <td>-500.492702</td>\n",
       "      <td>20.020205</td>\n",
       "      <td>-500.220296</td>\n",
       "      <td>17.963512</td>\n",
       "      <td>-499.93949</td>\n",
       "      <td>12.990306</td>\n",
       "      <td>-500.080993</td>\n",
       "      <td>19.990336</td>\n",
       "      <td>-499.191575</td>\n",
       "    </tr>\n",
       "  </tbody>\n",
       "</table>\n",
       "</div>"
      ],
      "text/plain": [
       "       rougher.input.feed_au  rougher.input.feed_ag  rougher.input.feed_pb  \\\n",
       "14579               4.365491               6.158718               3.875727   \n",
       "\n",
       "       rougher.input.feed_sol  rougher.input.feed_rate  \\\n",
       "14579               39.135119               555.820208   \n",
       "\n",
       "       rougher.input.feed_size  rougher.input.floatbank10_sulfate  \\\n",
       "14579                94.544358                           6.146982   \n",
       "\n",
       "       rougher.input.floatbank10_xanthate  rougher.state.floatbank10_a_air  \\\n",
       "14579                            9.308612                      1196.238112   \n",
       "\n",
       "       rougher.state.floatbank10_a_level  rougher.state.floatbank10_b_air  \\\n",
       "14579                        -299.862743                      1147.248241   \n",
       "\n",
       "       rougher.state.floatbank10_b_level  rougher.state.floatbank10_c_air  \\\n",
       "14579                        -500.363165                      1047.279065   \n",
       "\n",
       "       rougher.state.floatbank10_c_level  rougher.state.floatbank10_d_air  \\\n",
       "14579                        -500.354091                       948.756608   \n",
       "\n",
       "       rougher.state.floatbank10_d_level  rougher.state.floatbank10_e_air  \\\n",
       "14579                        -498.439416                       849.441918   \n",
       "\n",
       "       rougher.state.floatbank10_e_level  rougher.state.floatbank10_f_air  \\\n",
       "14579                        -499.255503                       850.112246   \n",
       "\n",
       "       rougher.state.floatbank10_f_level  rougher.input.floatbank11_sulfate  \\\n",
       "14579                        -499.407112                           6.168939   \n",
       "\n",
       "       rougher.input.floatbank11_xanthate  primary_cleaner.input.sulfate  \\\n",
       "14579                            9.309852                      95.248427   \n",
       "\n",
       "       primary_cleaner.input.depressant  primary_cleaner.input.feed_size  \\\n",
       "14579                          8.078957                              6.5   \n",
       "\n",
       "       primary_cleaner.input.xanthate  primary_cleaner.state.floatbank8_a_air  \\\n",
       "14579                        1.283045                             1648.759906   \n",
       "\n",
       "       primary_cleaner.state.floatbank8_a_level  \\\n",
       "14579                               -399.862053   \n",
       "\n",
       "       primary_cleaner.state.floatbank8_b_air  \\\n",
       "14579                             1650.135395   \n",
       "\n",
       "       primary_cleaner.state.floatbank8_b_level  \\\n",
       "14579                               -399.957321   \n",
       "\n",
       "       primary_cleaner.state.floatbank8_c_air  \\\n",
       "14579                              1648.83189   \n",
       "\n",
       "       primary_cleaner.state.floatbank8_c_level  \\\n",
       "14579                               -400.586116   \n",
       "\n",
       "       primary_cleaner.state.floatbank8_d_air  \\\n",
       "14579                             1649.464582   \n",
       "\n",
       "       primary_cleaner.state.floatbank8_d_level  \\\n",
       "14579                               -400.673303   \n",
       "\n",
       "       secondary_cleaner.state.floatbank2_a_air  \\\n",
       "14579                                 34.940919   \n",
       "\n",
       "       secondary_cleaner.state.floatbank2_a_level  \\\n",
       "14579                                  -500.15051   \n",
       "\n",
       "       secondary_cleaner.state.floatbank2_b_air  \\\n",
       "14579                                 30.031867   \n",
       "\n",
       "       secondary_cleaner.state.floatbank2_b_level  \\\n",
       "14579                                 -500.328335   \n",
       "\n",
       "       secondary_cleaner.state.floatbank3_a_air  \\\n",
       "14579                                  26.03399   \n",
       "\n",
       "       secondary_cleaner.state.floatbank3_a_level  \\\n",
       "14579                                 -500.147792   \n",
       "\n",
       "       secondary_cleaner.state.floatbank3_b_air  \\\n",
       "14579                                 22.952306   \n",
       "\n",
       "       secondary_cleaner.state.floatbank3_b_level  \\\n",
       "14579                                 -500.037678   \n",
       "\n",
       "       secondary_cleaner.state.floatbank4_a_air  \\\n",
       "14579                                 23.018622   \n",
       "\n",
       "       secondary_cleaner.state.floatbank4_a_level  \\\n",
       "14579                                 -500.492702   \n",
       "\n",
       "       secondary_cleaner.state.floatbank4_b_air  \\\n",
       "14579                                 20.020205   \n",
       "\n",
       "       secondary_cleaner.state.floatbank4_b_level  \\\n",
       "14579                                 -500.220296   \n",
       "\n",
       "       secondary_cleaner.state.floatbank5_a_air  \\\n",
       "14579                                 17.963512   \n",
       "\n",
       "       secondary_cleaner.state.floatbank5_a_level  \\\n",
       "14579                                  -499.93949   \n",
       "\n",
       "       secondary_cleaner.state.floatbank5_b_air  \\\n",
       "14579                                 12.990306   \n",
       "\n",
       "       secondary_cleaner.state.floatbank5_b_level  \\\n",
       "14579                                 -500.080993   \n",
       "\n",
       "       secondary_cleaner.state.floatbank6_a_air  \\\n",
       "14579                                 19.990336   \n",
       "\n",
       "       secondary_cleaner.state.floatbank6_a_level  \n",
       "14579                                 -499.191575  "
      ]
     },
     "execution_count": 49,
     "metadata": {},
     "output_type": "execute_result"
    }
   ],
   "source": [
    "feature_test_final = dtest_fromfull[common_columns]\n",
    "feature_test_final = feature_test_final.drop(['date'],axis=1)\n",
    "feature_test_final.head(1)\n",
    "#len(feature_test_final)"
   ]
  },
  {
   "cell_type": "code",
   "execution_count": 50,
   "metadata": {},
   "outputs": [
    {
     "data": {
      "text/plain": [
       "14579    70.281454\n",
       "14580    65.523246\n",
       "14581    74.817644\n",
       "Name: final.output.recovery, dtype: float64"
      ]
     },
     "execution_count": 50,
     "metadata": {},
     "output_type": "execute_result"
    }
   ],
   "source": [
    "target_test_final = dtest_fromfull['final.output.recovery']\n",
    "target_test_final.head(3)\n",
    "#len(target_test_final)"
   ]
  },
  {
   "cell_type": "markdown",
   "metadata": {},
   "source": [
    "### Создадим и обучим модель линейной регрессии"
   ]
  },
  {
   "cell_type": "markdown",
   "metadata": {},
   "source": [
    "Создадим модель линейной регрессии с различными параметрами, проверим качество кросс-валидацией.\n",
    "В качестве количества фолдеров (частей, на которые разбивается выборка) выберем 10.\n",
    "В качестве признаков для прогнозирования"
   ]
  },
  {
   "cell_type": "code",
   "execution_count": 51,
   "metadata": {
    "scrolled": true
   },
   "outputs": [
    {
     "name": "stdout",
     "output_type": "stream",
     "text": [
      "Наименьшая оценка sMAPE для флотации на линейной регрессии: 6.530851702013412\n"
     ]
    }
   ],
   "source": [
    "model_linear_rougher = LinearRegression()\n",
    "scorer = make_scorer(get_smape, greater_is_better=False)\n",
    "scores = cross_val_score(model_linear_rougher, feature_train_rougher, target_train_rougher,scoring=scorer, cv=5) \n",
    "rougher_smape = abs(scores.mean())\n",
    "print('Наименьшая оценка sMAPE для флотации на линейной регрессии:',rougher_smape)"
   ]
  },
  {
   "cell_type": "markdown",
   "metadata": {},
   "source": [
    "Для финальной эффективности обогащения:"
   ]
  },
  {
   "cell_type": "code",
   "execution_count": 52,
   "metadata": {},
   "outputs": [
    {
     "name": "stdout",
     "output_type": "stream",
     "text": [
      "Наименьшая оценка sMAPE для всего процесса на линейной регрессии: 9.477249908910114\n"
     ]
    }
   ],
   "source": [
    "model_linear_final = LinearRegression()\n",
    "scores = cross_val_score(model_linear_final, feature_train_final, target_train_final, scoring=scorer,cv=5) \n",
    "final_smape = abs(scores.mean())\n",
    "print('Наименьшая оценка sMAPE для всего процесса на линейной регрессии:',final_smape)"
   ]
  },
  {
   "cell_type": "markdown",
   "metadata": {},
   "source": [
    "Итоговая метрика sMAPE:"
   ]
  },
  {
   "cell_type": "code",
   "execution_count": 53,
   "metadata": {},
   "outputs": [
    {
     "name": "stdout",
     "output_type": "stream",
     "text": [
      "Итоговая оценка sMAPE на модели линейной регрессии: 8.490650357185938\n"
     ]
    }
   ],
   "source": [
    "print('Итоговая оценка sMAPE на модели линейной регрессии:',get_smape_total(rougher_smape-1,final_smape))"
   ]
  },
  {
   "cell_type": "markdown",
   "metadata": {},
   "source": [
    "### Создадим и обучим модель дерева (в цикле)"
   ]
  },
  {
   "cell_type": "code",
   "execution_count": 54,
   "metadata": {},
   "outputs": [
    {
     "name": "stdout",
     "output_type": "stream",
     "text": [
      "Наименьшая оценка sMAPE для процесса флотации на модели дерева c глубиной: 2 6.357223148277346\n"
     ]
    }
   ],
   "source": [
    "best_depth_rougher=0\n",
    "best_rougher_smape=-1*max(target_train_rougher) #определим изначально sMape как максимум таргета\n",
    "for depth in range(2,20):\n",
    "    model_tree = DecisionTreeRegressor(max_depth=depth,random_state=p_random_state)\n",
    "    scores = cross_val_score(model_tree, feature_train_rougher, target_train_rougher,scoring=scorer, cv=5) \n",
    "    rougher_smape = scores.mean()\n",
    "    if rougher_smape>best_rougher_smape:\n",
    "        best_rougher_smape=rougher_smape\n",
    "        best_depth_rougher=depth\n",
    "    best_rougher_smape = abs(best_rougher_smape)\n",
    "print('Наименьшая оценка sMAPE для процесса флотации на модели дерева c глубиной:',best_depth_rougher,best_rougher_smape)\n",
    "#print(scores)"
   ]
  },
  {
   "cell_type": "code",
   "execution_count": 55,
   "metadata": {},
   "outputs": [
    {
     "name": "stdout",
     "output_type": "stream",
     "text": [
      "Наименьшая оценка sMAPE для всего процесса на модели дерева c глубиной: 2 9.301810257283842\n"
     ]
    }
   ],
   "source": [
    "best_depth_final=0\n",
    "best_final_smape=-1*max(target_train_final) #определим изначально sMape как максимум таргета\n",
    "for depth in range(2,20):\n",
    "    model_tree = DecisionTreeRegressor(max_depth=depth,random_state=p_random_state)\n",
    "    scores = cross_val_score(model_tree, feature_train_final, target_train_final, scoring=scorer, cv=5) \n",
    "    final_smape = scores.mean()\n",
    "    if final_smape>best_final_smape:\n",
    "        best_final_smape=final_smape\n",
    "        best_depth_final=depth\n",
    "    best_final_smape=abs(best_final_smape)\n",
    "print('Наименьшая оценка sMAPE для всего процесса на модели дерева c глубиной:',best_depth_final,best_final_smape)\n",
    "#print(scores)"
   ]
  },
  {
   "cell_type": "code",
   "execution_count": 56,
   "metadata": {},
   "outputs": [
    {
     "name": "stdout",
     "output_type": "stream",
     "text": [
      "Итоговая оценка sMAPE на модели дерева в цикле: 8.56566348003222\n"
     ]
    }
   ],
   "source": [
    "print('Итоговая оценка sMAPE на модели дерева в цикле:',get_smape_total(best_rougher_smape,best_final_smape))"
   ]
  },
  {
   "cell_type": "markdown",
   "metadata": {},
   "source": [
    "**Видим, что на модели дерева модели получились эффективнее. Далее разберем поиск модели с использованием GridSearchCV.**"
   ]
  },
  {
   "cell_type": "markdown",
   "metadata": {},
   "source": [
    "### Создадим и обучим модель дерева (GridSearchCV)"
   ]
  },
  {
   "cell_type": "code",
   "execution_count": 57,
   "metadata": {},
   "outputs": [
    {
     "data": {
      "text/html": [
       "<style>#sk-container-id-1 {color: black;background-color: white;}#sk-container-id-1 pre{padding: 0;}#sk-container-id-1 div.sk-toggleable {background-color: white;}#sk-container-id-1 label.sk-toggleable__label {cursor: pointer;display: block;width: 100%;margin-bottom: 0;padding: 0.3em;box-sizing: border-box;text-align: center;}#sk-container-id-1 label.sk-toggleable__label-arrow:before {content: \"▸\";float: left;margin-right: 0.25em;color: #696969;}#sk-container-id-1 label.sk-toggleable__label-arrow:hover:before {color: black;}#sk-container-id-1 div.sk-estimator:hover label.sk-toggleable__label-arrow:before {color: black;}#sk-container-id-1 div.sk-toggleable__content {max-height: 0;max-width: 0;overflow: hidden;text-align: left;background-color: #f0f8ff;}#sk-container-id-1 div.sk-toggleable__content pre {margin: 0.2em;color: black;border-radius: 0.25em;background-color: #f0f8ff;}#sk-container-id-1 input.sk-toggleable__control:checked~div.sk-toggleable__content {max-height: 200px;max-width: 100%;overflow: auto;}#sk-container-id-1 input.sk-toggleable__control:checked~label.sk-toggleable__label-arrow:before {content: \"▾\";}#sk-container-id-1 div.sk-estimator input.sk-toggleable__control:checked~label.sk-toggleable__label {background-color: #d4ebff;}#sk-container-id-1 div.sk-label input.sk-toggleable__control:checked~label.sk-toggleable__label {background-color: #d4ebff;}#sk-container-id-1 input.sk-hidden--visually {border: 0;clip: rect(1px 1px 1px 1px);clip: rect(1px, 1px, 1px, 1px);height: 1px;margin: -1px;overflow: hidden;padding: 0;position: absolute;width: 1px;}#sk-container-id-1 div.sk-estimator {font-family: monospace;background-color: #f0f8ff;border: 1px dotted black;border-radius: 0.25em;box-sizing: border-box;margin-bottom: 0.5em;}#sk-container-id-1 div.sk-estimator:hover {background-color: #d4ebff;}#sk-container-id-1 div.sk-parallel-item::after {content: \"\";width: 100%;border-bottom: 1px solid gray;flex-grow: 1;}#sk-container-id-1 div.sk-label:hover label.sk-toggleable__label {background-color: #d4ebff;}#sk-container-id-1 div.sk-serial::before {content: \"\";position: absolute;border-left: 1px solid gray;box-sizing: border-box;top: 0;bottom: 0;left: 50%;z-index: 0;}#sk-container-id-1 div.sk-serial {display: flex;flex-direction: column;align-items: center;background-color: white;padding-right: 0.2em;padding-left: 0.2em;position: relative;}#sk-container-id-1 div.sk-item {position: relative;z-index: 1;}#sk-container-id-1 div.sk-parallel {display: flex;align-items: stretch;justify-content: center;background-color: white;position: relative;}#sk-container-id-1 div.sk-item::before, #sk-container-id-1 div.sk-parallel-item::before {content: \"\";position: absolute;border-left: 1px solid gray;box-sizing: border-box;top: 0;bottom: 0;left: 50%;z-index: -1;}#sk-container-id-1 div.sk-parallel-item {display: flex;flex-direction: column;z-index: 1;position: relative;background-color: white;}#sk-container-id-1 div.sk-parallel-item:first-child::after {align-self: flex-end;width: 50%;}#sk-container-id-1 div.sk-parallel-item:last-child::after {align-self: flex-start;width: 50%;}#sk-container-id-1 div.sk-parallel-item:only-child::after {width: 0;}#sk-container-id-1 div.sk-dashed-wrapped {border: 1px dashed gray;margin: 0 0.4em 0.5em 0.4em;box-sizing: border-box;padding-bottom: 0.4em;background-color: white;}#sk-container-id-1 div.sk-label label {font-family: monospace;font-weight: bold;display: inline-block;line-height: 1.2em;}#sk-container-id-1 div.sk-label-container {text-align: center;}#sk-container-id-1 div.sk-container {/* jupyter's `normalize.less` sets `[hidden] { display: none; }` but bootstrap.min.css set `[hidden] { display: none !important; }` so we also need the `!important` here to be able to override the default hidden behavior on the sphinx rendered scikit-learn.org. See: https://github.com/scikit-learn/scikit-learn/issues/21755 */display: inline-block !important;position: relative;}#sk-container-id-1 div.sk-text-repr-fallback {display: none;}</style><div id=\"sk-container-id-1\" class=\"sk-top-container\"><div class=\"sk-text-repr-fallback\"><pre>GridSearchCV(cv=5, estimator=DecisionTreeRegressor(),\n",
       "             param_grid={&#x27;max_depth&#x27;: range(2, 20), &#x27;random_state&#x27;: [12345],\n",
       "                         &#x27;splitter&#x27;: [&#x27;best&#x27;, &#x27;random&#x27;]},\n",
       "             scoring=make_scorer(get_smape, greater_is_better=False))</pre><b>In a Jupyter environment, please rerun this cell to show the HTML representation or trust the notebook. <br />On GitHub, the HTML representation is unable to render, please try loading this page with nbviewer.org.</b></div><div class=\"sk-container\" hidden><div class=\"sk-item sk-dashed-wrapped\"><div class=\"sk-label-container\"><div class=\"sk-label sk-toggleable\"><input class=\"sk-toggleable__control sk-hidden--visually\" id=\"sk-estimator-id-1\" type=\"checkbox\" ><label for=\"sk-estimator-id-1\" class=\"sk-toggleable__label sk-toggleable__label-arrow\">GridSearchCV</label><div class=\"sk-toggleable__content\"><pre>GridSearchCV(cv=5, estimator=DecisionTreeRegressor(),\n",
       "             param_grid={&#x27;max_depth&#x27;: range(2, 20), &#x27;random_state&#x27;: [12345],\n",
       "                         &#x27;splitter&#x27;: [&#x27;best&#x27;, &#x27;random&#x27;]},\n",
       "             scoring=make_scorer(get_smape, greater_is_better=False))</pre></div></div></div><div class=\"sk-parallel\"><div class=\"sk-parallel-item\"><div class=\"sk-item\"><div class=\"sk-label-container\"><div class=\"sk-label sk-toggleable\"><input class=\"sk-toggleable__control sk-hidden--visually\" id=\"sk-estimator-id-2\" type=\"checkbox\" ><label for=\"sk-estimator-id-2\" class=\"sk-toggleable__label sk-toggleable__label-arrow\">estimator: DecisionTreeRegressor</label><div class=\"sk-toggleable__content\"><pre>DecisionTreeRegressor()</pre></div></div></div><div class=\"sk-serial\"><div class=\"sk-item\"><div class=\"sk-estimator sk-toggleable\"><input class=\"sk-toggleable__control sk-hidden--visually\" id=\"sk-estimator-id-3\" type=\"checkbox\" ><label for=\"sk-estimator-id-3\" class=\"sk-toggleable__label sk-toggleable__label-arrow\">DecisionTreeRegressor</label><div class=\"sk-toggleable__content\"><pre>DecisionTreeRegressor()</pre></div></div></div></div></div></div></div></div></div></div>"
      ],
      "text/plain": [
       "GridSearchCV(cv=5, estimator=DecisionTreeRegressor(),\n",
       "             param_grid={'max_depth': range(2, 20), 'random_state': [12345],\n",
       "                         'splitter': ['best', 'random']},\n",
       "             scoring=make_scorer(get_smape, greater_is_better=False))"
      ]
     },
     "execution_count": 57,
     "metadata": {},
     "output_type": "execute_result"
    }
   ],
   "source": [
    "model_tree_search_rougher = DecisionTreeRegressor()\n",
    "params_grid = {'max_depth': range(2, 20),\n",
    "               'random_state':[p_random_state],\n",
    "               'splitter':['best', 'random'] }\n",
    "dt_rougher = GridSearchCV(model_tree_search_rougher, params_grid, scoring=scorer, cv=5)\n",
    "dt_rougher.fit(feature_train_rougher, target_train_rougher)\n"
   ]
  },
  {
   "cell_type": "markdown",
   "metadata": {},
   "source": [
    "Рассмотрим наиболее успешную модель:"
   ]
  },
  {
   "cell_type": "code",
   "execution_count": 58,
   "metadata": {},
   "outputs": [
    {
     "data": {
      "text/html": [
       "<style>#sk-container-id-2 {color: black;background-color: white;}#sk-container-id-2 pre{padding: 0;}#sk-container-id-2 div.sk-toggleable {background-color: white;}#sk-container-id-2 label.sk-toggleable__label {cursor: pointer;display: block;width: 100%;margin-bottom: 0;padding: 0.3em;box-sizing: border-box;text-align: center;}#sk-container-id-2 label.sk-toggleable__label-arrow:before {content: \"▸\";float: left;margin-right: 0.25em;color: #696969;}#sk-container-id-2 label.sk-toggleable__label-arrow:hover:before {color: black;}#sk-container-id-2 div.sk-estimator:hover label.sk-toggleable__label-arrow:before {color: black;}#sk-container-id-2 div.sk-toggleable__content {max-height: 0;max-width: 0;overflow: hidden;text-align: left;background-color: #f0f8ff;}#sk-container-id-2 div.sk-toggleable__content pre {margin: 0.2em;color: black;border-radius: 0.25em;background-color: #f0f8ff;}#sk-container-id-2 input.sk-toggleable__control:checked~div.sk-toggleable__content {max-height: 200px;max-width: 100%;overflow: auto;}#sk-container-id-2 input.sk-toggleable__control:checked~label.sk-toggleable__label-arrow:before {content: \"▾\";}#sk-container-id-2 div.sk-estimator input.sk-toggleable__control:checked~label.sk-toggleable__label {background-color: #d4ebff;}#sk-container-id-2 div.sk-label input.sk-toggleable__control:checked~label.sk-toggleable__label {background-color: #d4ebff;}#sk-container-id-2 input.sk-hidden--visually {border: 0;clip: rect(1px 1px 1px 1px);clip: rect(1px, 1px, 1px, 1px);height: 1px;margin: -1px;overflow: hidden;padding: 0;position: absolute;width: 1px;}#sk-container-id-2 div.sk-estimator {font-family: monospace;background-color: #f0f8ff;border: 1px dotted black;border-radius: 0.25em;box-sizing: border-box;margin-bottom: 0.5em;}#sk-container-id-2 div.sk-estimator:hover {background-color: #d4ebff;}#sk-container-id-2 div.sk-parallel-item::after {content: \"\";width: 100%;border-bottom: 1px solid gray;flex-grow: 1;}#sk-container-id-2 div.sk-label:hover label.sk-toggleable__label {background-color: #d4ebff;}#sk-container-id-2 div.sk-serial::before {content: \"\";position: absolute;border-left: 1px solid gray;box-sizing: border-box;top: 0;bottom: 0;left: 50%;z-index: 0;}#sk-container-id-2 div.sk-serial {display: flex;flex-direction: column;align-items: center;background-color: white;padding-right: 0.2em;padding-left: 0.2em;position: relative;}#sk-container-id-2 div.sk-item {position: relative;z-index: 1;}#sk-container-id-2 div.sk-parallel {display: flex;align-items: stretch;justify-content: center;background-color: white;position: relative;}#sk-container-id-2 div.sk-item::before, #sk-container-id-2 div.sk-parallel-item::before {content: \"\";position: absolute;border-left: 1px solid gray;box-sizing: border-box;top: 0;bottom: 0;left: 50%;z-index: -1;}#sk-container-id-2 div.sk-parallel-item {display: flex;flex-direction: column;z-index: 1;position: relative;background-color: white;}#sk-container-id-2 div.sk-parallel-item:first-child::after {align-self: flex-end;width: 50%;}#sk-container-id-2 div.sk-parallel-item:last-child::after {align-self: flex-start;width: 50%;}#sk-container-id-2 div.sk-parallel-item:only-child::after {width: 0;}#sk-container-id-2 div.sk-dashed-wrapped {border: 1px dashed gray;margin: 0 0.4em 0.5em 0.4em;box-sizing: border-box;padding-bottom: 0.4em;background-color: white;}#sk-container-id-2 div.sk-label label {font-family: monospace;font-weight: bold;display: inline-block;line-height: 1.2em;}#sk-container-id-2 div.sk-label-container {text-align: center;}#sk-container-id-2 div.sk-container {/* jupyter's `normalize.less` sets `[hidden] { display: none; }` but bootstrap.min.css set `[hidden] { display: none !important; }` so we also need the `!important` here to be able to override the default hidden behavior on the sphinx rendered scikit-learn.org. See: https://github.com/scikit-learn/scikit-learn/issues/21755 */display: inline-block !important;position: relative;}#sk-container-id-2 div.sk-text-repr-fallback {display: none;}</style><div id=\"sk-container-id-2\" class=\"sk-top-container\"><div class=\"sk-text-repr-fallback\"><pre>DecisionTreeRegressor(max_depth=2, random_state=12345)</pre><b>In a Jupyter environment, please rerun this cell to show the HTML representation or trust the notebook. <br />On GitHub, the HTML representation is unable to render, please try loading this page with nbviewer.org.</b></div><div class=\"sk-container\" hidden><div class=\"sk-item\"><div class=\"sk-estimator sk-toggleable\"><input class=\"sk-toggleable__control sk-hidden--visually\" id=\"sk-estimator-id-4\" type=\"checkbox\" checked><label for=\"sk-estimator-id-4\" class=\"sk-toggleable__label sk-toggleable__label-arrow\">DecisionTreeRegressor</label><div class=\"sk-toggleable__content\"><pre>DecisionTreeRegressor(max_depth=2, random_state=12345)</pre></div></div></div></div></div>"
      ],
      "text/plain": [
       "DecisionTreeRegressor(max_depth=2, random_state=12345)"
      ]
     },
     "execution_count": 58,
     "metadata": {},
     "output_type": "execute_result"
    }
   ],
   "source": [
    "dt_rougher.best_estimator_"
   ]
  },
  {
   "cell_type": "code",
   "execution_count": 59,
   "metadata": {},
   "outputs": [
    {
     "data": {
      "text/plain": [
       "{'max_depth': 2, 'random_state': 12345, 'splitter': 'best'}"
      ]
     },
     "execution_count": 59,
     "metadata": {},
     "output_type": "execute_result"
    }
   ],
   "source": [
    "dt_rougher.best_params_"
   ]
  },
  {
   "cell_type": "code",
   "execution_count": 60,
   "metadata": {},
   "outputs": [
    {
     "data": {
      "text/plain": [
       "6.357223148277346"
      ]
     },
     "execution_count": 60,
     "metadata": {},
     "output_type": "execute_result"
    }
   ],
   "source": [
    "best_rougher_smape_search = abs(dt_rougher.best_score_)\n",
    "best_rougher_smape_search"
   ]
  },
  {
   "cell_type": "code",
   "execution_count": 61,
   "metadata": {},
   "outputs": [
    {
     "data": {
      "text/html": [
       "<style>#sk-container-id-3 {color: black;background-color: white;}#sk-container-id-3 pre{padding: 0;}#sk-container-id-3 div.sk-toggleable {background-color: white;}#sk-container-id-3 label.sk-toggleable__label {cursor: pointer;display: block;width: 100%;margin-bottom: 0;padding: 0.3em;box-sizing: border-box;text-align: center;}#sk-container-id-3 label.sk-toggleable__label-arrow:before {content: \"▸\";float: left;margin-right: 0.25em;color: #696969;}#sk-container-id-3 label.sk-toggleable__label-arrow:hover:before {color: black;}#sk-container-id-3 div.sk-estimator:hover label.sk-toggleable__label-arrow:before {color: black;}#sk-container-id-3 div.sk-toggleable__content {max-height: 0;max-width: 0;overflow: hidden;text-align: left;background-color: #f0f8ff;}#sk-container-id-3 div.sk-toggleable__content pre {margin: 0.2em;color: black;border-radius: 0.25em;background-color: #f0f8ff;}#sk-container-id-3 input.sk-toggleable__control:checked~div.sk-toggleable__content {max-height: 200px;max-width: 100%;overflow: auto;}#sk-container-id-3 input.sk-toggleable__control:checked~label.sk-toggleable__label-arrow:before {content: \"▾\";}#sk-container-id-3 div.sk-estimator input.sk-toggleable__control:checked~label.sk-toggleable__label {background-color: #d4ebff;}#sk-container-id-3 div.sk-label input.sk-toggleable__control:checked~label.sk-toggleable__label {background-color: #d4ebff;}#sk-container-id-3 input.sk-hidden--visually {border: 0;clip: rect(1px 1px 1px 1px);clip: rect(1px, 1px, 1px, 1px);height: 1px;margin: -1px;overflow: hidden;padding: 0;position: absolute;width: 1px;}#sk-container-id-3 div.sk-estimator {font-family: monospace;background-color: #f0f8ff;border: 1px dotted black;border-radius: 0.25em;box-sizing: border-box;margin-bottom: 0.5em;}#sk-container-id-3 div.sk-estimator:hover {background-color: #d4ebff;}#sk-container-id-3 div.sk-parallel-item::after {content: \"\";width: 100%;border-bottom: 1px solid gray;flex-grow: 1;}#sk-container-id-3 div.sk-label:hover label.sk-toggleable__label {background-color: #d4ebff;}#sk-container-id-3 div.sk-serial::before {content: \"\";position: absolute;border-left: 1px solid gray;box-sizing: border-box;top: 0;bottom: 0;left: 50%;z-index: 0;}#sk-container-id-3 div.sk-serial {display: flex;flex-direction: column;align-items: center;background-color: white;padding-right: 0.2em;padding-left: 0.2em;position: relative;}#sk-container-id-3 div.sk-item {position: relative;z-index: 1;}#sk-container-id-3 div.sk-parallel {display: flex;align-items: stretch;justify-content: center;background-color: white;position: relative;}#sk-container-id-3 div.sk-item::before, #sk-container-id-3 div.sk-parallel-item::before {content: \"\";position: absolute;border-left: 1px solid gray;box-sizing: border-box;top: 0;bottom: 0;left: 50%;z-index: -1;}#sk-container-id-3 div.sk-parallel-item {display: flex;flex-direction: column;z-index: 1;position: relative;background-color: white;}#sk-container-id-3 div.sk-parallel-item:first-child::after {align-self: flex-end;width: 50%;}#sk-container-id-3 div.sk-parallel-item:last-child::after {align-self: flex-start;width: 50%;}#sk-container-id-3 div.sk-parallel-item:only-child::after {width: 0;}#sk-container-id-3 div.sk-dashed-wrapped {border: 1px dashed gray;margin: 0 0.4em 0.5em 0.4em;box-sizing: border-box;padding-bottom: 0.4em;background-color: white;}#sk-container-id-3 div.sk-label label {font-family: monospace;font-weight: bold;display: inline-block;line-height: 1.2em;}#sk-container-id-3 div.sk-label-container {text-align: center;}#sk-container-id-3 div.sk-container {/* jupyter's `normalize.less` sets `[hidden] { display: none; }` but bootstrap.min.css set `[hidden] { display: none !important; }` so we also need the `!important` here to be able to override the default hidden behavior on the sphinx rendered scikit-learn.org. See: https://github.com/scikit-learn/scikit-learn/issues/21755 */display: inline-block !important;position: relative;}#sk-container-id-3 div.sk-text-repr-fallback {display: none;}</style><div id=\"sk-container-id-3\" class=\"sk-top-container\"><div class=\"sk-text-repr-fallback\"><pre>GridSearchCV(cv=5, estimator=DecisionTreeRegressor(),\n",
       "             param_grid={&#x27;max_depth&#x27;: range(2, 20), &#x27;random_state&#x27;: [12345],\n",
       "                         &#x27;splitter&#x27;: [&#x27;best&#x27;, &#x27;random&#x27;]},\n",
       "             scoring=make_scorer(get_smape, greater_is_better=False))</pre><b>In a Jupyter environment, please rerun this cell to show the HTML representation or trust the notebook. <br />On GitHub, the HTML representation is unable to render, please try loading this page with nbviewer.org.</b></div><div class=\"sk-container\" hidden><div class=\"sk-item sk-dashed-wrapped\"><div class=\"sk-label-container\"><div class=\"sk-label sk-toggleable\"><input class=\"sk-toggleable__control sk-hidden--visually\" id=\"sk-estimator-id-5\" type=\"checkbox\" ><label for=\"sk-estimator-id-5\" class=\"sk-toggleable__label sk-toggleable__label-arrow\">GridSearchCV</label><div class=\"sk-toggleable__content\"><pre>GridSearchCV(cv=5, estimator=DecisionTreeRegressor(),\n",
       "             param_grid={&#x27;max_depth&#x27;: range(2, 20), &#x27;random_state&#x27;: [12345],\n",
       "                         &#x27;splitter&#x27;: [&#x27;best&#x27;, &#x27;random&#x27;]},\n",
       "             scoring=make_scorer(get_smape, greater_is_better=False))</pre></div></div></div><div class=\"sk-parallel\"><div class=\"sk-parallel-item\"><div class=\"sk-item\"><div class=\"sk-label-container\"><div class=\"sk-label sk-toggleable\"><input class=\"sk-toggleable__control sk-hidden--visually\" id=\"sk-estimator-id-6\" type=\"checkbox\" ><label for=\"sk-estimator-id-6\" class=\"sk-toggleable__label sk-toggleable__label-arrow\">estimator: DecisionTreeRegressor</label><div class=\"sk-toggleable__content\"><pre>DecisionTreeRegressor()</pre></div></div></div><div class=\"sk-serial\"><div class=\"sk-item\"><div class=\"sk-estimator sk-toggleable\"><input class=\"sk-toggleable__control sk-hidden--visually\" id=\"sk-estimator-id-7\" type=\"checkbox\" ><label for=\"sk-estimator-id-7\" class=\"sk-toggleable__label sk-toggleable__label-arrow\">DecisionTreeRegressor</label><div class=\"sk-toggleable__content\"><pre>DecisionTreeRegressor()</pre></div></div></div></div></div></div></div></div></div></div>"
      ],
      "text/plain": [
       "GridSearchCV(cv=5, estimator=DecisionTreeRegressor(),\n",
       "             param_grid={'max_depth': range(2, 20), 'random_state': [12345],\n",
       "                         'splitter': ['best', 'random']},\n",
       "             scoring=make_scorer(get_smape, greater_is_better=False))"
      ]
     },
     "execution_count": 61,
     "metadata": {},
     "output_type": "execute_result"
    }
   ],
   "source": [
    "model_tree_search_final = DecisionTreeRegressor()\n",
    "params_grid = {'max_depth': range(2, 20),\n",
    "               'random_state':[p_random_state],\n",
    "               'splitter':['best', 'random'] }\n",
    "dt_final = GridSearchCV(model_tree_search_final, params_grid, scoring=scorer, cv=5)\n",
    "dt_final.fit(feature_train_final, target_train_final)\n"
   ]
  },
  {
   "cell_type": "code",
   "execution_count": 62,
   "metadata": {},
   "outputs": [
    {
     "data": {
      "text/html": [
       "<style>#sk-container-id-4 {color: black;background-color: white;}#sk-container-id-4 pre{padding: 0;}#sk-container-id-4 div.sk-toggleable {background-color: white;}#sk-container-id-4 label.sk-toggleable__label {cursor: pointer;display: block;width: 100%;margin-bottom: 0;padding: 0.3em;box-sizing: border-box;text-align: center;}#sk-container-id-4 label.sk-toggleable__label-arrow:before {content: \"▸\";float: left;margin-right: 0.25em;color: #696969;}#sk-container-id-4 label.sk-toggleable__label-arrow:hover:before {color: black;}#sk-container-id-4 div.sk-estimator:hover label.sk-toggleable__label-arrow:before {color: black;}#sk-container-id-4 div.sk-toggleable__content {max-height: 0;max-width: 0;overflow: hidden;text-align: left;background-color: #f0f8ff;}#sk-container-id-4 div.sk-toggleable__content pre {margin: 0.2em;color: black;border-radius: 0.25em;background-color: #f0f8ff;}#sk-container-id-4 input.sk-toggleable__control:checked~div.sk-toggleable__content {max-height: 200px;max-width: 100%;overflow: auto;}#sk-container-id-4 input.sk-toggleable__control:checked~label.sk-toggleable__label-arrow:before {content: \"▾\";}#sk-container-id-4 div.sk-estimator input.sk-toggleable__control:checked~label.sk-toggleable__label {background-color: #d4ebff;}#sk-container-id-4 div.sk-label input.sk-toggleable__control:checked~label.sk-toggleable__label {background-color: #d4ebff;}#sk-container-id-4 input.sk-hidden--visually {border: 0;clip: rect(1px 1px 1px 1px);clip: rect(1px, 1px, 1px, 1px);height: 1px;margin: -1px;overflow: hidden;padding: 0;position: absolute;width: 1px;}#sk-container-id-4 div.sk-estimator {font-family: monospace;background-color: #f0f8ff;border: 1px dotted black;border-radius: 0.25em;box-sizing: border-box;margin-bottom: 0.5em;}#sk-container-id-4 div.sk-estimator:hover {background-color: #d4ebff;}#sk-container-id-4 div.sk-parallel-item::after {content: \"\";width: 100%;border-bottom: 1px solid gray;flex-grow: 1;}#sk-container-id-4 div.sk-label:hover label.sk-toggleable__label {background-color: #d4ebff;}#sk-container-id-4 div.sk-serial::before {content: \"\";position: absolute;border-left: 1px solid gray;box-sizing: border-box;top: 0;bottom: 0;left: 50%;z-index: 0;}#sk-container-id-4 div.sk-serial {display: flex;flex-direction: column;align-items: center;background-color: white;padding-right: 0.2em;padding-left: 0.2em;position: relative;}#sk-container-id-4 div.sk-item {position: relative;z-index: 1;}#sk-container-id-4 div.sk-parallel {display: flex;align-items: stretch;justify-content: center;background-color: white;position: relative;}#sk-container-id-4 div.sk-item::before, #sk-container-id-4 div.sk-parallel-item::before {content: \"\";position: absolute;border-left: 1px solid gray;box-sizing: border-box;top: 0;bottom: 0;left: 50%;z-index: -1;}#sk-container-id-4 div.sk-parallel-item {display: flex;flex-direction: column;z-index: 1;position: relative;background-color: white;}#sk-container-id-4 div.sk-parallel-item:first-child::after {align-self: flex-end;width: 50%;}#sk-container-id-4 div.sk-parallel-item:last-child::after {align-self: flex-start;width: 50%;}#sk-container-id-4 div.sk-parallel-item:only-child::after {width: 0;}#sk-container-id-4 div.sk-dashed-wrapped {border: 1px dashed gray;margin: 0 0.4em 0.5em 0.4em;box-sizing: border-box;padding-bottom: 0.4em;background-color: white;}#sk-container-id-4 div.sk-label label {font-family: monospace;font-weight: bold;display: inline-block;line-height: 1.2em;}#sk-container-id-4 div.sk-label-container {text-align: center;}#sk-container-id-4 div.sk-container {/* jupyter's `normalize.less` sets `[hidden] { display: none; }` but bootstrap.min.css set `[hidden] { display: none !important; }` so we also need the `!important` here to be able to override the default hidden behavior on the sphinx rendered scikit-learn.org. See: https://github.com/scikit-learn/scikit-learn/issues/21755 */display: inline-block !important;position: relative;}#sk-container-id-4 div.sk-text-repr-fallback {display: none;}</style><div id=\"sk-container-id-4\" class=\"sk-top-container\"><div class=\"sk-text-repr-fallback\"><pre>DecisionTreeRegressor(max_depth=3, random_state=12345)</pre><b>In a Jupyter environment, please rerun this cell to show the HTML representation or trust the notebook. <br />On GitHub, the HTML representation is unable to render, please try loading this page with nbviewer.org.</b></div><div class=\"sk-container\" hidden><div class=\"sk-item\"><div class=\"sk-estimator sk-toggleable\"><input class=\"sk-toggleable__control sk-hidden--visually\" id=\"sk-estimator-id-8\" type=\"checkbox\" checked><label for=\"sk-estimator-id-8\" class=\"sk-toggleable__label sk-toggleable__label-arrow\">DecisionTreeRegressor</label><div class=\"sk-toggleable__content\"><pre>DecisionTreeRegressor(max_depth=3, random_state=12345)</pre></div></div></div></div></div>"
      ],
      "text/plain": [
       "DecisionTreeRegressor(max_depth=3, random_state=12345)"
      ]
     },
     "execution_count": 62,
     "metadata": {},
     "output_type": "execute_result"
    }
   ],
   "source": [
    "dt_final.best_estimator_"
   ]
  },
  {
   "cell_type": "code",
   "execution_count": 63,
   "metadata": {},
   "outputs": [
    {
     "data": {
      "text/plain": [
       "{'max_depth': 3, 'random_state': 12345, 'splitter': 'best'}"
      ]
     },
     "execution_count": 63,
     "metadata": {},
     "output_type": "execute_result"
    }
   ],
   "source": [
    "dt_final.best_params_"
   ]
  },
  {
   "cell_type": "code",
   "execution_count": 64,
   "metadata": {},
   "outputs": [
    {
     "data": {
      "text/plain": [
       "9.211340584742238"
      ]
     },
     "execution_count": 64,
     "metadata": {},
     "output_type": "execute_result"
    }
   ],
   "source": [
    "best_final_smape_search = abs(dt_final.best_score_)\n",
    "best_final_smape_search"
   ]
  },
  {
   "cell_type": "code",
   "execution_count": 65,
   "metadata": {},
   "outputs": [
    {
     "name": "stdout",
     "output_type": "stream",
     "text": [
      "Итоговая оценка sMAPE на модели дерева через GridSearch: 8.497811225626016\n"
     ]
    }
   ],
   "source": [
    "print('Итоговая оценка sMAPE на модели дерева через GridSearch:',get_smape_total(best_rougher_smape_search,best_final_smape_search))"
   ]
  },
  {
   "cell_type": "markdown",
   "metadata": {},
   "source": [
    "Видим, что метрики sMAPE определились следующим образом:\n",
    "- Линейная регрессия:\n",
    "    - флотация: 6.530851702013424 \n",
    "    - вторичная очистка: 9.47724990890997\n",
    "    - итоговая sMAPE: 8.490650357185833\n",
    "- Поиск модели дерева в цикле:\n",
    "    - флотация (глубина 2): 6.357223148277346\n",
    "    - вторичная очистка (глубина 2): 9.301810257283842\n",
    "    - итоговая sMAPE: 8.56566348003222\n",
    "- Поиск модели дерева через GridSearch:\n",
    "    - флотация (глубина 2,'splitter': 'best'): 6.357223148277346\n",
    "    - вотричная очистка (глубина 3,'splitter': 'best'): 9.211340584742238\n",
    "    - итоговая sMAPE: 8.497811225626016\n",
    "    \n",
    "Итого лучшая модель для процесса флотации - дерево с глубиной 2, а для вторичной очистки - дерево с глубиной 3 и параметром 'splitter': 'best'.\n",
    "Проверим модели на тестовой выборке."
   ]
  },
  {
   "cell_type": "markdown",
   "metadata": {},
   "source": [
    "### Проверим модель на тестовой выборке"
   ]
  },
  {
   "cell_type": "markdown",
   "metadata": {},
   "source": [
    "Для процесса флотации:"
   ]
  },
  {
   "cell_type": "code",
   "execution_count": 66,
   "metadata": {
    "scrolled": true
   },
   "outputs": [
    {
     "name": "stdout",
     "output_type": "stream",
     "text": [
      "Оценка sMAPE для флотации для тестовой выборки: 4.991070695163336\n"
     ]
    }
   ],
   "source": [
    "model_tree = DecisionTreeRegressor(max_depth=best_depth_rougher, random_state=p_random_state)\n",
    "model_tree.fit(feature_train_rougher, target_train_rougher)\n",
    "predictions_test = model_tree.predict(feature_test_rougher)     \n",
    "rougher_test_smape = get_smape(target_test_rougher,predictions_test)\n",
    "print('Оценка sMAPE для флотации для тестовой выборки:',rougher_test_smape)"
   ]
  },
  {
   "cell_type": "code",
   "execution_count": 67,
   "metadata": {},
   "outputs": [
    {
     "name": "stdout",
     "output_type": "stream",
     "text": [
      "Оценка sMAPE для вторичной очистки для тестовой выборки: 8.09488599620049\n"
     ]
    }
   ],
   "source": [
    "#params = dt_final.best_params_\n",
    "#model_tree = DecisionTreeRegressor(params) #не работает\n",
    "model_tree_final = dt_final.best_estimator_ #DecisionTreeRegressor(max_depth=best_depth_rougher, random_state=p_random_state)\n",
    "model_tree_final.fit(feature_train_final, target_train_final)\n",
    "predictions_test_final = model_tree_final.predict(feature_test_final)     \n",
    "final_test_smape = get_smape(target_test_final,predictions_test_final)\n",
    "print('Оценка sMAPE для вторичной очистки для тестовой выборки:',final_test_smape)"
   ]
  },
  {
   "cell_type": "code",
   "execution_count": 68,
   "metadata": {},
   "outputs": [
    {
     "name": "stdout",
     "output_type": "stream",
     "text": [
      "Итоговая оценка sMAPE на модели дерева для тестовой выборки: 7.318932170941203\n"
     ]
    }
   ],
   "source": [
    "print('Итоговая оценка sMAPE на модели дерева для тестовой выборки:',get_smape_total(rougher_test_smape,final_test_smape))"
   ]
  },
  {
   "cell_type": "markdown",
   "metadata": {},
   "source": [
    "Итого результаты на тестовой выборке:\n",
    "- sMAPE для процесса флотации: 4.991070695163336 \n",
    "- sMAPE для процесса вторичной очистки: 8.09488599620049\n",
    "- sMAPE итоговая: 7.318932170941203"
   ]
  },
  {
   "cell_type": "markdown",
   "metadata": {},
   "source": [
    "### Проверка модели на адекватность"
   ]
  },
  {
   "cell_type": "markdown",
   "metadata": {},
   "source": [
    "Проверим модели при помощи DummyRegressor"
   ]
  },
  {
   "cell_type": "code",
   "execution_count": 69,
   "metadata": {},
   "outputs": [
    {
     "name": "stdout",
     "output_type": "stream",
     "text": [
      "Оценка sMAPE для процесса флотации на модели dummy: 6.107461859252015\n"
     ]
    }
   ],
   "source": [
    "dummy_regr_rougher = DummyRegressor(strategy=\"mean\")\n",
    "dummy_regr_rougher.fit(feature_train_rougher, target_train_rougher)\n",
    "dummy_predict = dummy_regr_rougher.predict(feature_test_rougher)\n",
    "dummy_test_smape_rougher = get_smape(target_test_rougher,dummy_predict)\n",
    "print('Оценка sMAPE для процесса флотации на модели dummy:',dummy_test_smape_rougher)\n"
   ]
  },
  {
   "cell_type": "code",
   "execution_count": 70,
   "metadata": {},
   "outputs": [
    {
     "name": "stdout",
     "output_type": "stream",
     "text": [
      "Оценка sMAPE для всего процесса на модели dummy: 9.260051328540113\n"
     ]
    }
   ],
   "source": [
    "dummy_regr_final = DummyRegressor(strategy=\"mean\")\n",
    "dummy_regr_final.fit(feature_train_final, target_train_final)\n",
    "dummy_predict_final = dummy_regr_final.predict(feature_test_final)\n",
    "dummy_test_smape_final = get_smape(target_test_final,dummy_predict_final)\n",
    "print('Оценка sMAPE для всего процесса на модели dummy:',dummy_test_smape_final)\n"
   ]
  },
  {
   "cell_type": "code",
   "execution_count": 71,
   "metadata": {},
   "outputs": [
    {
     "name": "stdout",
     "output_type": "stream",
     "text": [
      "Итоговая оценка sMAPE на модели дерева для случайной модели: 8.471903961218088\n"
     ]
    }
   ],
   "source": [
    "print('Итоговая оценка sMAPE на модели дерева для случайной модели:',get_smape_total(dummy_test_smape_rougher,dummy_test_smape_final))"
   ]
  },
  {
   "cell_type": "markdown",
   "metadata": {},
   "source": [
    "Данные на модели Dummy получились хуже, чем на тестовой выборке:\n",
    "- sMAPE для процесса флотации: 6.107461859252015\n",
    "- sMAPE для процесса вторичной очистки: 9.260051328540113\n",
    "- sMAPE итоговая: 8.471903961218088\n",
    "<br>Это значит, что наша модель работает лучше, чем случайная. Ура)"
   ]
  },
  {
   "cell_type": "markdown",
   "metadata": {},
   "source": [
    "## Итоговый вывод"
   ]
  },
  {
   "cell_type": "markdown",
   "metadata": {},
   "source": [
    "В рамках исследования  было необходимо "
   ]
  },
  {
   "cell_type": "markdown",
   "metadata": {},
   "source": [
    "<br>Перед началом исследования стояла цель: поодготовить прототип машинного обучения для предсказания коэффициента восстановления золота из золотосодержащей руды. Для этого необходимо было проанализировать имеющиеся данные по процессу обогащения руды, обучить разные виды моделей и выбрать наилучшую.\n",
    "<br>Были предоставлены данные в трех выборках: тренировочная, тестовая и полная выборка.\n",
    "\n",
    "<br>**В ходе подготовки данных было сделано:**\n",
    "- проверена предоставленная эффективность обогащения (recovery)\n",
    "- проанализированы признаки в трех наборах данных\n",
    "- проанализирована идентичность приведнных данных между наборами\n",
    "- обработаны (удалены) пропуски\n",
    "- проверены дубликаты (их не оказалось)\n",
    "- отредактированытипы данных (поле date приведено к типу datetime)\n",
    "\n",
    "\n",
    "<br>**В ходе исследовательского анализа было сделано:**\n",
    "- изучена концентрация золота,серебра и свинца на каждой стади обогащения:\n",
    "    - концентрация золота с каждым этапом возрастает\n",
    "    - концентрация серебра после флотации немного увеличивается, а затем уменьшается\n",
    "    - концентрация свинца незначительно возрастает\n",
    "- было выявлено, что разброс значений по уровню каждого металла в сырье становится меньше, то есть в исходном сырье может встречатся разный уровень содержания того или иного металла, но в процессе обработки он чаще всего сводится к узкому интервалу значений.\n",
    "- выявлено, что распределения размера гранул в тренировочной и тестовой выборке в целом похожи на друг друга, так что поводов сомневаться в оценке модели нет.\n",
    "- выявлено, что с каждой итерацией общая концентрация металлов также возрастает.\n",
    "\n",
    "<br>**В ходе обучения модели были сделано:**\n",
    "- подготовлена  функция для рассчета метрики качества модели - sMAPE - симметричное среднее абсолютное процентное отклонение\n",
    "- подготовлены и обучены модели линейной регрессии:\n",
    "    - Наименьшая оценка sMAPE для флотации на линейной регрессии: -0.3728224770239428\n",
    "    - Наименьшая оценка sMAPE для финального процесса на линейной регрессии: -0.1202355958861157\n",
    "    - Итоговая оценка sMAPE на модели линейной регрессии: -0.18338231617057246\n",
    "- подготовлены и обучены модели регрессии на решающем дереве:\n",
    "    - Наименьшая оценка sMAPE для флотации на модели дерева c глубиной: 38 -7.494399770661309\n",
    "    - Наименьшая оценка sMAPE для всего процесса на модели дерева c глубиной: 38 -2.426709541675414\n",
    "    - Итоговая оценка sMAPE на модели дерева: -3.6936320989218876\n",
    "- в качестве лучшей модели была выбрана модель решающего дерева с глубиной 38 и протестирована на тестовой выборке:\n",
    "    - Оценка sMAPE для флотации на модели дерева c глубиной 38: -1.9573315658015094\n",
    "    - Оценка sMAPE для всего процесса на модели дерева c глубиной 38: -1.5178675514512716\n",
    "    - Итоговая оценка sMAPE на модели дерева для тестовой выборки: -1.6277335550388312\n",
    "\n",
    "Таким образом, итоговая метрика качества модели на тестовой выборке равна -1.62%\n"
   ]
  }
 ],
 "metadata": {
  "ExecuteTimeLog": [
   {
    "duration": 447,
    "start_time": "2023-10-22T12:42:00.272Z"
   },
   {
    "duration": 140,
    "start_time": "2023-10-22T12:42:15.518Z"
   },
   {
    "duration": 1377,
    "start_time": "2023-10-22T12:42:41.816Z"
   },
   {
    "duration": 417,
    "start_time": "2023-10-22T12:42:53.805Z"
   },
   {
    "duration": 2709,
    "start_time": "2023-10-22T12:44:21.204Z"
   },
   {
    "duration": 986,
    "start_time": "2023-10-22T12:45:20.634Z"
   },
   {
    "duration": 27,
    "start_time": "2023-10-22T12:45:24.802Z"
   },
   {
    "duration": 24,
    "start_time": "2023-10-22T12:45:28.307Z"
   },
   {
    "duration": 24,
    "start_time": "2023-10-22T12:45:31.000Z"
   },
   {
    "duration": 23,
    "start_time": "2023-10-22T14:14:11.429Z"
   },
   {
    "duration": 25,
    "start_time": "2023-10-22T14:14:14.785Z"
   },
   {
    "duration": 21,
    "start_time": "2023-10-22T14:14:18.402Z"
   },
   {
    "duration": 21,
    "start_time": "2023-10-22T14:23:31.356Z"
   },
   {
    "duration": 11,
    "start_time": "2023-10-22T18:40:07.492Z"
   },
   {
    "duration": 13,
    "start_time": "2023-10-22T18:53:48.181Z"
   },
   {
    "duration": 48,
    "start_time": "2023-10-22T18:53:58.980Z"
   },
   {
    "duration": 32,
    "start_time": "2023-10-22T18:54:09.642Z"
   },
   {
    "duration": 35,
    "start_time": "2023-10-22T18:55:24.839Z"
   },
   {
    "duration": 29,
    "start_time": "2023-10-22T18:56:48.290Z"
   },
   {
    "duration": 14,
    "start_time": "2023-10-22T18:57:14.943Z"
   },
   {
    "duration": 10,
    "start_time": "2023-10-22T19:05:23.110Z"
   },
   {
    "duration": 12,
    "start_time": "2023-10-22T19:06:05.184Z"
   },
   {
    "duration": 19,
    "start_time": "2023-10-22T19:06:22.659Z"
   },
   {
    "duration": 15,
    "start_time": "2023-10-22T19:06:44.886Z"
   },
   {
    "duration": 34,
    "start_time": "2023-10-22T19:07:38.207Z"
   },
   {
    "duration": 16,
    "start_time": "2023-10-22T19:07:51.928Z"
   },
   {
    "duration": 1217,
    "start_time": "2023-10-22T19:08:21.888Z"
   },
   {
    "duration": 14,
    "start_time": "2023-10-22T19:08:28.628Z"
   },
   {
    "duration": 16,
    "start_time": "2023-10-22T19:11:44.549Z"
   },
   {
    "duration": 15,
    "start_time": "2023-10-22T19:23:08.661Z"
   },
   {
    "duration": 189,
    "start_time": "2023-10-22T19:23:17.570Z"
   },
   {
    "duration": 120,
    "start_time": "2023-10-22T19:23:21.344Z"
   },
   {
    "duration": 15,
    "start_time": "2023-10-22T19:23:25.417Z"
   },
   {
    "duration": 20,
    "start_time": "2023-10-22T19:23:58.042Z"
   },
   {
    "duration": 17,
    "start_time": "2023-10-22T19:24:08.172Z"
   },
   {
    "duration": 16,
    "start_time": "2023-10-22T19:24:11.069Z"
   },
   {
    "duration": 31,
    "start_time": "2023-10-22T19:24:39.738Z"
   },
   {
    "duration": 6,
    "start_time": "2023-10-22T19:24:54.866Z"
   },
   {
    "duration": 3,
    "start_time": "2023-10-22T19:28:54.332Z"
   },
   {
    "duration": 4,
    "start_time": "2023-10-22T19:28:59.271Z"
   },
   {
    "duration": 5,
    "start_time": "2023-10-22T19:29:22.372Z"
   },
   {
    "duration": 14,
    "start_time": "2023-10-22T19:29:49.691Z"
   },
   {
    "duration": 9,
    "start_time": "2023-10-22T19:33:19.629Z"
   },
   {
    "duration": 8,
    "start_time": "2023-10-22T19:33:40.105Z"
   },
   {
    "duration": 12,
    "start_time": "2023-10-22T19:34:26.644Z"
   },
   {
    "duration": 12,
    "start_time": "2023-10-22T19:34:49.054Z"
   },
   {
    "duration": 12,
    "start_time": "2023-10-22T19:35:38.112Z"
   },
   {
    "duration": 13,
    "start_time": "2023-10-22T19:40:06.368Z"
   },
   {
    "duration": 11,
    "start_time": "2023-10-22T19:40:46.072Z"
   },
   {
    "duration": 14,
    "start_time": "2023-10-22T19:41:01.426Z"
   },
   {
    "duration": 13,
    "start_time": "2023-10-22T19:41:21.672Z"
   },
   {
    "duration": 124,
    "start_time": "2023-10-22T19:41:46.608Z"
   },
   {
    "duration": 14,
    "start_time": "2023-10-22T20:03:50.190Z"
   },
   {
    "duration": 14,
    "start_time": "2023-10-22T20:04:20.154Z"
   },
   {
    "duration": 603,
    "start_time": "2023-10-22T20:12:55.806Z"
   },
   {
    "duration": 15,
    "start_time": "2023-10-22T20:13:45.192Z"
   },
   {
    "duration": 18,
    "start_time": "2023-10-22T20:14:07.261Z"
   },
   {
    "duration": 2262,
    "start_time": "2023-10-22T21:38:33.017Z"
   },
   {
    "duration": 2204,
    "start_time": "2023-10-22T21:38:53.020Z"
   },
   {
    "duration": 6,
    "start_time": "2023-10-22T21:40:06.177Z"
   },
   {
    "duration": 7,
    "start_time": "2023-10-22T21:40:21.031Z"
   },
   {
    "duration": 8,
    "start_time": "2023-10-22T21:40:25.802Z"
   },
   {
    "duration": 4,
    "start_time": "2023-10-22T21:40:35.196Z"
   },
   {
    "duration": 4,
    "start_time": "2023-10-22T21:40:40.948Z"
   },
   {
    "duration": 4,
    "start_time": "2023-10-22T21:40:51.935Z"
   },
   {
    "duration": 1489,
    "start_time": "2023-10-22T21:41:57.982Z"
   },
   {
    "duration": 1974,
    "start_time": "2023-10-22T21:44:24.279Z"
   },
   {
    "duration": 1482,
    "start_time": "2023-10-22T21:44:45.549Z"
   },
   {
    "duration": 11,
    "start_time": "2023-10-22T21:45:02.163Z"
   },
   {
    "duration": 9,
    "start_time": "2023-10-22T21:45:17.813Z"
   },
   {
    "duration": 1929,
    "start_time": "2023-10-22T21:45:43.683Z"
   },
   {
    "duration": 11,
    "start_time": "2023-10-22T21:46:19.901Z"
   },
   {
    "duration": 12,
    "start_time": "2023-10-22T21:46:53.040Z"
   },
   {
    "duration": 1480,
    "start_time": "2023-10-22T21:47:01.858Z"
   },
   {
    "duration": 7442,
    "start_time": "2023-10-22T21:47:23.079Z"
   },
   {
    "duration": 1269,
    "start_time": "2023-10-22T21:47:39.318Z"
   },
   {
    "duration": 154,
    "start_time": "2023-10-22T21:52:01.715Z"
   },
   {
    "duration": 153,
    "start_time": "2023-10-22T21:53:03.086Z"
   },
   {
    "duration": 380,
    "start_time": "2023-10-22T21:53:08.679Z"
   },
   {
    "duration": 489,
    "start_time": "2023-10-22T22:05:11.461Z"
   },
   {
    "duration": 835,
    "start_time": "2023-10-22T22:05:44.713Z"
   },
   {
    "duration": 6,
    "start_time": "2023-10-22T22:05:50.647Z"
   },
   {
    "duration": 7,
    "start_time": "2023-10-22T22:06:08.735Z"
   },
   {
    "duration": 6,
    "start_time": "2023-10-22T22:06:15.741Z"
   },
   {
    "duration": 154,
    "start_time": "2023-10-22T22:07:05.934Z"
   },
   {
    "duration": 156,
    "start_time": "2023-10-22T22:11:39.534Z"
   },
   {
    "duration": 143,
    "start_time": "2023-10-22T22:11:59.520Z"
   },
   {
    "duration": 5,
    "start_time": "2023-10-22T22:15:36.668Z"
   },
   {
    "duration": 51,
    "start_time": "2023-10-22T22:16:02.376Z"
   },
   {
    "duration": 5,
    "start_time": "2023-10-22T22:20:28.151Z"
   },
   {
    "duration": 11,
    "start_time": "2023-10-22T22:20:40.019Z"
   },
   {
    "duration": 11,
    "start_time": "2023-10-22T22:20:53.453Z"
   },
   {
    "duration": 6,
    "start_time": "2023-10-22T22:21:00.398Z"
   },
   {
    "duration": 3,
    "start_time": "2023-10-22T22:21:27.209Z"
   },
   {
    "duration": 4,
    "start_time": "2023-10-22T22:21:42.015Z"
   },
   {
    "duration": 4,
    "start_time": "2023-10-22T22:32:56.839Z"
   },
   {
    "duration": 5,
    "start_time": "2023-10-22T22:33:01.977Z"
   },
   {
    "duration": 3,
    "start_time": "2023-10-22T22:33:14.366Z"
   },
   {
    "duration": 3,
    "start_time": "2023-10-22T22:33:37.656Z"
   },
   {
    "duration": 3,
    "start_time": "2023-10-22T22:33:40.762Z"
   },
   {
    "duration": 4,
    "start_time": "2023-10-22T22:33:45.872Z"
   },
   {
    "duration": 10,
    "start_time": "2023-10-22T22:36:24.619Z"
   },
   {
    "duration": 4,
    "start_time": "2023-10-22T22:36:31.675Z"
   },
   {
    "duration": 4,
    "start_time": "2023-10-22T22:36:36.793Z"
   },
   {
    "duration": 4,
    "start_time": "2023-10-22T22:36:44.357Z"
   },
   {
    "duration": 4,
    "start_time": "2023-10-22T22:36:52.021Z"
   },
   {
    "duration": 4,
    "start_time": "2023-10-22T22:37:06.938Z"
   },
   {
    "duration": 4,
    "start_time": "2023-10-22T22:38:31.188Z"
   },
   {
    "duration": 83,
    "start_time": "2023-10-22T22:39:50.849Z"
   },
   {
    "duration": 8,
    "start_time": "2023-10-22T22:41:17.440Z"
   },
   {
    "duration": 4,
    "start_time": "2023-10-22T22:41:23.884Z"
   },
   {
    "duration": 5,
    "start_time": "2023-10-22T22:48:26.294Z"
   },
   {
    "duration": 14,
    "start_time": "2023-10-22T22:48:30.406Z"
   },
   {
    "duration": 15,
    "start_time": "2023-10-22T22:51:31.225Z"
   },
   {
    "duration": 9,
    "start_time": "2023-10-22T22:51:35.593Z"
   },
   {
    "duration": 19,
    "start_time": "2023-10-22T22:51:48.810Z"
   },
   {
    "duration": 95,
    "start_time": "2023-10-22T22:52:06.369Z"
   },
   {
    "duration": 13,
    "start_time": "2023-10-22T22:52:11.605Z"
   },
   {
    "duration": 5,
    "start_time": "2023-10-22T22:52:47.230Z"
   },
   {
    "duration": 16,
    "start_time": "2023-10-22T22:52:53.681Z"
   },
   {
    "duration": 17,
    "start_time": "2023-10-22T22:53:22.797Z"
   },
   {
    "duration": 11,
    "start_time": "2023-10-22T22:54:11.266Z"
   },
   {
    "duration": 3,
    "start_time": "2023-10-22T22:55:27.711Z"
   },
   {
    "duration": 13,
    "start_time": "2023-10-22T22:55:42.601Z"
   },
   {
    "duration": 2131,
    "start_time": "2023-10-22T22:55:48.355Z"
   },
   {
    "duration": 13,
    "start_time": "2023-10-22T22:55:55.535Z"
   },
   {
    "duration": 22,
    "start_time": "2023-10-22T23:03:07.955Z"
   },
   {
    "duration": 16,
    "start_time": "2023-10-22T23:03:13.369Z"
   },
   {
    "duration": 16,
    "start_time": "2023-10-22T23:03:29.622Z"
   },
   {
    "duration": 14,
    "start_time": "2023-10-22T23:03:35.759Z"
   },
   {
    "duration": 13,
    "start_time": "2023-10-22T23:26:08.309Z"
   },
   {
    "duration": 15,
    "start_time": "2023-10-22T23:26:24.868Z"
   },
   {
    "duration": 14,
    "start_time": "2023-10-22T23:27:00.267Z"
   },
   {
    "duration": 11,
    "start_time": "2023-10-22T23:27:04.980Z"
   },
   {
    "duration": 16,
    "start_time": "2023-10-22T23:27:52.557Z"
   },
   {
    "duration": 194,
    "start_time": "2023-10-23T14:00:14.978Z"
   },
   {
    "duration": 3,
    "start_time": "2023-10-23T14:02:26.891Z"
   },
   {
    "duration": 24,
    "start_time": "2023-10-23T15:44:31.816Z"
   },
   {
    "duration": 10,
    "start_time": "2023-10-23T15:45:30.979Z"
   },
   {
    "duration": 32,
    "start_time": "2023-10-23T15:45:35.288Z"
   },
   {
    "duration": 9,
    "start_time": "2023-10-23T15:48:23.480Z"
   },
   {
    "duration": 43,
    "start_time": "2023-10-23T16:05:09.016Z"
   },
   {
    "duration": 14,
    "start_time": "2023-10-23T16:05:43.121Z"
   },
   {
    "duration": 23,
    "start_time": "2023-10-23T16:05:52.554Z"
   },
   {
    "duration": 27,
    "start_time": "2023-10-23T16:06:05.387Z"
   },
   {
    "duration": 25,
    "start_time": "2023-10-24T11:28:04.132Z"
   },
   {
    "duration": 11,
    "start_time": "2023-10-24T11:32:46.823Z"
   },
   {
    "duration": 8,
    "start_time": "2023-10-24T11:33:00.237Z"
   },
   {
    "duration": 4,
    "start_time": "2023-10-24T11:34:12.434Z"
   },
   {
    "duration": 4,
    "start_time": "2023-10-24T11:34:28.175Z"
   },
   {
    "duration": 9,
    "start_time": "2023-10-24T11:38:46.437Z"
   },
   {
    "duration": 10,
    "start_time": "2023-10-24T11:38:57.765Z"
   },
   {
    "duration": 9,
    "start_time": "2023-10-24T11:39:05.358Z"
   },
   {
    "duration": 21,
    "start_time": "2023-10-24T11:39:36.015Z"
   },
   {
    "duration": 12,
    "start_time": "2023-10-24T11:40:44.202Z"
   },
   {
    "duration": 17,
    "start_time": "2023-10-24T11:40:54.772Z"
   },
   {
    "duration": 101,
    "start_time": "2023-10-24T11:45:47.957Z"
   },
   {
    "duration": 128,
    "start_time": "2023-10-24T11:45:57.537Z"
   },
   {
    "duration": 142,
    "start_time": "2023-10-24T11:47:37.461Z"
   },
   {
    "duration": 22,
    "start_time": "2023-10-24T11:55:46.929Z"
   },
   {
    "duration": 24,
    "start_time": "2023-10-24T11:56:32.807Z"
   },
   {
    "duration": 22,
    "start_time": "2023-10-24T11:56:42.147Z"
   },
   {
    "duration": 17,
    "start_time": "2023-10-24T11:56:49.616Z"
   },
   {
    "duration": 10,
    "start_time": "2023-10-24T11:57:09.915Z"
   },
   {
    "duration": 17,
    "start_time": "2023-10-24T11:57:25.013Z"
   },
   {
    "duration": 8,
    "start_time": "2023-10-24T11:59:04.398Z"
   },
   {
    "duration": 10,
    "start_time": "2023-10-24T11:59:27.770Z"
   },
   {
    "duration": 5,
    "start_time": "2023-10-24T12:00:11.223Z"
   },
   {
    "duration": 5,
    "start_time": "2023-10-24T12:01:00.938Z"
   },
   {
    "duration": 12,
    "start_time": "2023-10-24T12:01:11.746Z"
   },
   {
    "duration": 20,
    "start_time": "2023-10-24T12:01:38.454Z"
   },
   {
    "duration": 27,
    "start_time": "2023-10-24T12:06:37.912Z"
   },
   {
    "duration": 95,
    "start_time": "2023-10-24T12:06:51.754Z"
   },
   {
    "duration": 141,
    "start_time": "2023-10-24T14:57:41.011Z"
   },
   {
    "duration": 19,
    "start_time": "2023-10-24T14:58:36.739Z"
   },
   {
    "duration": 52,
    "start_time": "2023-10-24T15:08:32.063Z"
   },
   {
    "duration": 7,
    "start_time": "2023-10-24T15:08:38.684Z"
   },
   {
    "duration": 20,
    "start_time": "2023-10-24T15:19:06.345Z"
   },
   {
    "duration": 16,
    "start_time": "2023-10-24T15:19:26.813Z"
   },
   {
    "duration": 12,
    "start_time": "2023-10-24T15:19:57.590Z"
   },
   {
    "duration": 17,
    "start_time": "2023-10-24T15:20:03.035Z"
   },
   {
    "duration": 1378,
    "start_time": "2023-10-24T15:29:11.893Z"
   },
   {
    "duration": 1102,
    "start_time": "2023-10-24T15:29:13.274Z"
   },
   {
    "duration": 18,
    "start_time": "2023-10-24T15:29:14.378Z"
   },
   {
    "duration": 52,
    "start_time": "2023-10-24T15:29:14.398Z"
   },
   {
    "duration": 56,
    "start_time": "2023-10-24T15:29:14.452Z"
   },
   {
    "duration": 41,
    "start_time": "2023-10-24T15:29:14.510Z"
   },
   {
    "duration": 51,
    "start_time": "2023-10-24T15:29:14.553Z"
   },
   {
    "duration": 15,
    "start_time": "2023-10-24T15:29:14.606Z"
   },
   {
    "duration": 21,
    "start_time": "2023-10-24T15:29:14.623Z"
   },
   {
    "duration": 19,
    "start_time": "2023-10-24T15:37:09.689Z"
   },
   {
    "duration": 13,
    "start_time": "2023-10-24T15:37:11.577Z"
   },
   {
    "duration": 15,
    "start_time": "2023-10-24T15:37:56.707Z"
   },
   {
    "duration": 5,
    "start_time": "2023-10-24T15:37:58.916Z"
   },
   {
    "duration": 27,
    "start_time": "2023-10-24T15:42:32.872Z"
   },
   {
    "duration": 5,
    "start_time": "2023-10-24T15:42:37.090Z"
   },
   {
    "duration": 29,
    "start_time": "2023-10-24T15:42:50.334Z"
   },
   {
    "duration": 288,
    "start_time": "2023-10-24T15:43:22.342Z"
   },
   {
    "duration": 357,
    "start_time": "2023-10-24T16:00:53.742Z"
   },
   {
    "duration": 309,
    "start_time": "2023-10-24T16:00:59.001Z"
   },
   {
    "duration": 356,
    "start_time": "2023-10-24T16:05:35.090Z"
   },
   {
    "duration": 219,
    "start_time": "2023-10-24T16:06:07.587Z"
   },
   {
    "duration": 327,
    "start_time": "2023-10-24T16:06:18.306Z"
   },
   {
    "duration": 140,
    "start_time": "2023-10-24T16:39:30.325Z"
   },
   {
    "duration": 34,
    "start_time": "2023-10-24T16:50:37.263Z"
   },
   {
    "duration": 149,
    "start_time": "2023-10-24T16:52:08.805Z"
   },
   {
    "duration": 17,
    "start_time": "2023-10-24T16:54:02.597Z"
   },
   {
    "duration": 8,
    "start_time": "2023-10-24T16:54:03.801Z"
   },
   {
    "duration": 32,
    "start_time": "2023-10-24T16:54:05.584Z"
   },
   {
    "duration": 18,
    "start_time": "2023-10-24T17:17:33.636Z"
   },
   {
    "duration": 5,
    "start_time": "2023-10-24T17:18:08.838Z"
   },
   {
    "duration": 22,
    "start_time": "2023-10-24T17:18:14.288Z"
   },
   {
    "duration": 49,
    "start_time": "2023-10-24T17:18:31.427Z"
   },
   {
    "duration": 1379,
    "start_time": "2023-10-24T17:19:39.789Z"
   },
   {
    "duration": 1179,
    "start_time": "2023-10-24T17:19:41.171Z"
   },
   {
    "duration": 11,
    "start_time": "2023-10-24T17:19:42.352Z"
   },
   {
    "duration": 56,
    "start_time": "2023-10-24T17:19:42.374Z"
   },
   {
    "duration": 44,
    "start_time": "2023-10-24T17:19:42.433Z"
   },
   {
    "duration": 50,
    "start_time": "2023-10-24T17:19:42.483Z"
   },
   {
    "duration": 20,
    "start_time": "2023-10-24T17:19:42.535Z"
   },
   {
    "duration": 28,
    "start_time": "2023-10-24T17:19:42.561Z"
   },
   {
    "duration": 68,
    "start_time": "2023-10-24T17:19:42.592Z"
   },
   {
    "duration": 67,
    "start_time": "2023-10-24T17:19:42.666Z"
   },
   {
    "duration": 13,
    "start_time": "2023-10-24T17:19:42.736Z"
   },
   {
    "duration": 46,
    "start_time": "2023-10-24T17:19:42.751Z"
   },
   {
    "duration": 606,
    "start_time": "2023-10-24T17:19:42.807Z"
   },
   {
    "duration": 8,
    "start_time": "2023-10-24T17:19:43.417Z"
   },
   {
    "duration": 12,
    "start_time": "2023-10-24T17:19:43.428Z"
   },
   {
    "duration": 49,
    "start_time": "2023-10-24T17:19:43.442Z"
   },
   {
    "duration": 13,
    "start_time": "2023-10-24T17:19:43.498Z"
   },
   {
    "duration": 33,
    "start_time": "2023-10-24T17:19:43.513Z"
   },
   {
    "duration": 5,
    "start_time": "2023-10-24T17:19:43.548Z"
   },
   {
    "duration": 30,
    "start_time": "2023-10-24T17:19:43.555Z"
   },
   {
    "duration": 69,
    "start_time": "2023-10-24T17:19:53.529Z"
   },
   {
    "duration": 153,
    "start_time": "2023-10-24T17:20:35.853Z"
   },
   {
    "duration": 151,
    "start_time": "2023-10-24T17:22:05.209Z"
   },
   {
    "duration": 175,
    "start_time": "2023-10-24T18:07:11.906Z"
   },
   {
    "duration": 228,
    "start_time": "2023-10-24T18:07:31.987Z"
   },
   {
    "duration": 391,
    "start_time": "2023-10-24T18:13:09.014Z"
   },
   {
    "duration": 316,
    "start_time": "2023-10-24T18:17:24.398Z"
   },
   {
    "duration": 297,
    "start_time": "2023-10-24T18:17:42.481Z"
   },
   {
    "duration": 176,
    "start_time": "2023-10-24T18:21:51.128Z"
   },
   {
    "duration": 180,
    "start_time": "2023-10-24T18:21:58.153Z"
   },
   {
    "duration": 31,
    "start_time": "2023-10-24T18:23:49.177Z"
   },
   {
    "duration": 8,
    "start_time": "2023-10-24T18:24:08.219Z"
   },
   {
    "duration": 27,
    "start_time": "2023-10-24T18:32:27.618Z"
   },
   {
    "duration": 101,
    "start_time": "2023-10-24T18:32:36.016Z"
   },
   {
    "duration": 29,
    "start_time": "2023-10-24T18:32:51.409Z"
   },
   {
    "duration": 1678,
    "start_time": "2023-10-24T18:33:19.031Z"
   },
   {
    "duration": 16,
    "start_time": "2023-10-24T18:33:38.432Z"
   },
   {
    "duration": 6,
    "start_time": "2023-10-24T18:33:54.742Z"
   },
   {
    "duration": 7,
    "start_time": "2023-10-24T18:34:06.021Z"
   },
   {
    "duration": 134,
    "start_time": "2023-10-24T18:34:20.101Z"
   },
   {
    "duration": 162,
    "start_time": "2023-10-24T18:35:16.950Z"
   },
   {
    "duration": 142,
    "start_time": "2023-10-24T18:35:32.999Z"
   },
   {
    "duration": 158,
    "start_time": "2023-10-24T18:35:56.954Z"
   },
   {
    "duration": 164,
    "start_time": "2023-10-24T18:37:42.923Z"
   },
   {
    "duration": 6,
    "start_time": "2023-10-24T18:38:00.838Z"
   },
   {
    "duration": 13,
    "start_time": "2023-10-24T18:38:07.288Z"
   },
   {
    "duration": 343,
    "start_time": "2023-10-24T18:38:29.975Z"
   },
   {
    "duration": 10,
    "start_time": "2023-10-24T18:39:13.706Z"
   },
   {
    "duration": 28,
    "start_time": "2023-10-24T18:39:46.932Z"
   },
   {
    "duration": 284,
    "start_time": "2023-10-24T18:40:10.276Z"
   },
   {
    "duration": 10,
    "start_time": "2023-10-24T18:44:59.518Z"
   },
   {
    "duration": 265,
    "start_time": "2023-10-24T18:45:04.699Z"
   },
   {
    "duration": 93,
    "start_time": "2023-10-24T18:45:14.489Z"
   },
   {
    "duration": 38,
    "start_time": "2023-10-24T18:46:13.612Z"
   },
   {
    "duration": 49,
    "start_time": "2023-10-24T18:47:25.990Z"
   },
   {
    "duration": 54,
    "start_time": "2023-10-24T18:47:58.197Z"
   },
   {
    "duration": 305,
    "start_time": "2023-10-24T18:48:13.554Z"
   },
   {
    "duration": 86,
    "start_time": "2023-10-24T18:48:16.881Z"
   },
   {
    "duration": 110,
    "start_time": "2023-10-24T18:49:40.154Z"
   },
   {
    "duration": 27,
    "start_time": "2023-10-24T18:53:30.683Z"
   },
   {
    "duration": 120,
    "start_time": "2023-10-24T19:17:22.725Z"
   },
   {
    "duration": 219,
    "start_time": "2023-10-24T19:17:28.619Z"
   },
   {
    "duration": 290,
    "start_time": "2023-10-24T19:28:54.497Z"
   },
   {
    "duration": 12,
    "start_time": "2023-10-24T19:29:01.407Z"
   },
   {
    "duration": 17,
    "start_time": "2023-10-24T19:29:07.409Z"
   },
   {
    "duration": 5,
    "start_time": "2023-10-24T19:29:33.748Z"
   },
   {
    "duration": 12,
    "start_time": "2023-10-24T19:29:35.821Z"
   },
   {
    "duration": 9,
    "start_time": "2023-10-24T19:29:40.608Z"
   },
   {
    "duration": 13,
    "start_time": "2023-10-24T19:29:45.288Z"
   },
   {
    "duration": 26,
    "start_time": "2023-10-24T19:29:47.775Z"
   },
   {
    "duration": 21,
    "start_time": "2023-10-24T19:29:50.008Z"
   },
   {
    "duration": 298,
    "start_time": "2023-10-24T19:29:55.338Z"
   },
   {
    "duration": 173,
    "start_time": "2023-10-24T19:30:32.006Z"
   },
   {
    "duration": 28,
    "start_time": "2023-10-24T19:30:32.431Z"
   },
   {
    "duration": 122,
    "start_time": "2023-10-24T19:30:33.115Z"
   },
   {
    "duration": 11,
    "start_time": "2023-10-24T19:30:35.638Z"
   },
   {
    "duration": 31,
    "start_time": "2023-10-24T19:30:37.476Z"
   },
   {
    "duration": 28,
    "start_time": "2023-10-24T19:30:39.783Z"
   },
   {
    "duration": 3,
    "start_time": "2023-10-24T20:14:26.152Z"
   },
   {
    "duration": 154,
    "start_time": "2023-10-24T20:35:12.900Z"
   },
   {
    "duration": 20,
    "start_time": "2023-10-24T20:49:13.223Z"
   },
   {
    "duration": 2004,
    "start_time": "2023-10-24T20:49:25.962Z"
   },
   {
    "duration": 13,
    "start_time": "2023-10-24T20:49:41.713Z"
   },
   {
    "duration": 18,
    "start_time": "2023-10-24T20:50:05.099Z"
   },
   {
    "duration": 29,
    "start_time": "2023-10-24T20:50:19.880Z"
   },
   {
    "duration": 2175,
    "start_time": "2023-10-24T20:50:40.953Z"
   },
   {
    "duration": 5,
    "start_time": "2023-10-24T20:51:38.007Z"
   },
   {
    "duration": 15,
    "start_time": "2023-10-24T20:51:45.100Z"
   },
   {
    "duration": 5,
    "start_time": "2023-10-24T20:52:03.337Z"
   },
   {
    "duration": 31,
    "start_time": "2023-10-24T20:52:10.145Z"
   },
   {
    "duration": 11,
    "start_time": "2023-10-24T20:53:43.237Z"
   },
   {
    "duration": 61,
    "start_time": "2023-10-24T20:58:38.065Z"
   },
   {
    "duration": 29,
    "start_time": "2023-10-24T21:23:45.485Z"
   },
   {
    "duration": 27,
    "start_time": "2023-10-24T21:23:59.171Z"
   },
   {
    "duration": 18,
    "start_time": "2023-10-24T21:24:06.824Z"
   },
   {
    "duration": 27,
    "start_time": "2023-10-24T21:24:13.248Z"
   },
   {
    "duration": 18,
    "start_time": "2023-10-24T21:24:18.929Z"
   },
   {
    "duration": 24,
    "start_time": "2023-10-24T21:24:35.192Z"
   },
   {
    "duration": 13,
    "start_time": "2023-10-24T21:25:29.501Z"
   },
   {
    "duration": 4180,
    "start_time": "2023-10-24T21:26:23.997Z"
   },
   {
    "duration": 11,
    "start_time": "2023-10-24T21:29:50.823Z"
   },
   {
    "duration": 4,
    "start_time": "2023-10-24T21:43:37.812Z"
   },
   {
    "duration": 17,
    "start_time": "2023-10-24T21:44:00.680Z"
   },
   {
    "duration": 9,
    "start_time": "2023-10-24T21:46:10.059Z"
   },
   {
    "duration": 174,
    "start_time": "2023-10-24T21:47:13.507Z"
   },
   {
    "duration": 119,
    "start_time": "2023-10-24T21:47:19.776Z"
   },
   {
    "duration": 18,
    "start_time": "2023-10-24T21:47:28.693Z"
   },
   {
    "duration": 5,
    "start_time": "2023-10-24T21:48:21.508Z"
   },
   {
    "duration": 27,
    "start_time": "2023-10-24T21:56:36.084Z"
   },
   {
    "duration": 27,
    "start_time": "2023-10-24T21:57:06.990Z"
   },
   {
    "duration": 5,
    "start_time": "2023-10-24T21:57:22.029Z"
   },
   {
    "duration": 15,
    "start_time": "2023-10-24T21:57:34.318Z"
   },
   {
    "duration": 5,
    "start_time": "2023-10-24T21:57:41.425Z"
   },
   {
    "duration": 6,
    "start_time": "2023-10-24T21:57:57.237Z"
   },
   {
    "duration": 5,
    "start_time": "2023-10-24T21:58:46.739Z"
   },
   {
    "duration": 11,
    "start_time": "2023-10-24T21:58:51.185Z"
   },
   {
    "duration": 546,
    "start_time": "2023-10-24T21:59:49.060Z"
   },
   {
    "duration": 87,
    "start_time": "2023-10-24T22:00:15.433Z"
   },
   {
    "duration": 98,
    "start_time": "2023-10-24T22:00:59.699Z"
   },
   {
    "duration": 41,
    "start_time": "2023-10-24T22:01:42.869Z"
   },
   {
    "duration": 12,
    "start_time": "2023-10-24T22:01:46.710Z"
   },
   {
    "duration": 229,
    "start_time": "2023-10-24T22:02:28.885Z"
   },
   {
    "duration": 544,
    "start_time": "2023-10-24T22:06:45.287Z"
   },
   {
    "duration": 408,
    "start_time": "2023-10-24T22:07:21.302Z"
   },
   {
    "duration": 914,
    "start_time": "2023-10-24T22:07:41.608Z"
   },
   {
    "duration": 59,
    "start_time": "2023-10-24T22:13:21.685Z"
   },
   {
    "duration": 1681,
    "start_time": "2023-10-24T22:13:39.393Z"
   },
   {
    "duration": 78,
    "start_time": "2023-10-24T22:13:45.591Z"
   },
   {
    "duration": 1720,
    "start_time": "2023-10-24T22:14:06.730Z"
   },
   {
    "duration": 5769,
    "start_time": "2023-10-24T22:14:08.452Z"
   },
   {
    "duration": 5,
    "start_time": "2023-10-24T22:14:14.223Z"
   },
   {
    "duration": 46,
    "start_time": "2023-10-24T22:14:14.230Z"
   },
   {
    "duration": 32,
    "start_time": "2023-10-24T22:14:14.284Z"
   },
   {
    "duration": 22,
    "start_time": "2023-10-24T22:14:14.318Z"
   },
   {
    "duration": 45,
    "start_time": "2023-10-24T22:14:14.342Z"
   },
   {
    "duration": 16,
    "start_time": "2023-10-24T22:14:14.394Z"
   },
   {
    "duration": 48,
    "start_time": "2023-10-24T22:14:14.412Z"
   },
   {
    "duration": 44,
    "start_time": "2023-10-24T22:14:14.474Z"
   },
   {
    "duration": 12,
    "start_time": "2023-10-24T22:14:14.520Z"
   },
   {
    "duration": 4,
    "start_time": "2023-10-24T22:14:14.534Z"
   },
   {
    "duration": 267,
    "start_time": "2023-10-24T22:14:14.539Z"
   },
   {
    "duration": 10,
    "start_time": "2023-10-24T22:14:14.808Z"
   },
   {
    "duration": 21,
    "start_time": "2023-10-24T22:14:14.820Z"
   },
   {
    "duration": 57,
    "start_time": "2023-10-24T22:14:14.844Z"
   },
   {
    "duration": 21,
    "start_time": "2023-10-24T22:14:14.903Z"
   },
   {
    "duration": 33,
    "start_time": "2023-10-24T22:14:14.926Z"
   },
   {
    "duration": 16,
    "start_time": "2023-10-24T22:14:14.961Z"
   },
   {
    "duration": 105,
    "start_time": "2023-10-24T22:14:14.987Z"
   },
   {
    "duration": 85,
    "start_time": "2023-10-24T22:14:15.097Z"
   },
   {
    "duration": 139,
    "start_time": "2023-10-24T22:14:15.187Z"
   },
   {
    "duration": 278,
    "start_time": "2023-10-24T22:14:15.328Z"
   },
   {
    "duration": 10,
    "start_time": "2023-10-24T22:14:15.608Z"
   },
   {
    "duration": 82,
    "start_time": "2023-10-24T22:14:15.620Z"
   },
   {
    "duration": 12,
    "start_time": "2023-10-24T22:14:15.704Z"
   },
   {
    "duration": 31,
    "start_time": "2023-10-24T22:14:15.718Z"
   },
   {
    "duration": 43,
    "start_time": "2023-10-24T22:14:15.752Z"
   },
   {
    "duration": 38,
    "start_time": "2023-10-24T22:14:15.798Z"
   },
   {
    "duration": 63,
    "start_time": "2023-10-24T22:14:15.838Z"
   },
   {
    "duration": 26,
    "start_time": "2023-10-24T22:14:15.903Z"
   },
   {
    "duration": 260,
    "start_time": "2023-10-24T22:14:15.930Z"
   },
   {
    "duration": 130,
    "start_time": "2023-10-24T22:14:16.196Z"
   },
   {
    "duration": 24,
    "start_time": "2023-10-24T22:14:16.327Z"
   },
   {
    "duration": 114,
    "start_time": "2023-10-24T22:14:16.356Z"
   },
   {
    "duration": 14,
    "start_time": "2023-10-24T22:14:16.478Z"
   },
   {
    "duration": 12,
    "start_time": "2023-10-24T22:14:16.497Z"
   },
   {
    "duration": 29,
    "start_time": "2023-10-24T22:14:16.511Z"
   },
   {
    "duration": 57,
    "start_time": "2023-10-24T22:14:16.542Z"
   },
   {
    "duration": 137,
    "start_time": "2023-10-24T22:14:16.601Z"
   },
   {
    "duration": 615,
    "start_time": "2023-10-24T22:15:00.036Z"
   },
   {
    "duration": 21,
    "start_time": "2023-10-24T22:15:36.497Z"
   },
   {
    "duration": 7,
    "start_time": "2023-10-24T22:15:41.900Z"
   },
   {
    "duration": 9,
    "start_time": "2023-10-24T22:15:47.898Z"
   },
   {
    "duration": 342,
    "start_time": "2023-10-24T22:16:00.534Z"
   },
   {
    "duration": 254,
    "start_time": "2023-10-24T22:16:08.699Z"
   },
   {
    "duration": 13,
    "start_time": "2023-10-24T22:16:12.824Z"
   },
   {
    "duration": 8,
    "start_time": "2023-10-24T22:16:38.426Z"
   },
   {
    "duration": 11,
    "start_time": "2023-10-24T22:16:43.698Z"
   },
   {
    "duration": 20,
    "start_time": "2023-10-24T22:17:19.408Z"
   },
   {
    "duration": 12,
    "start_time": "2023-10-24T22:17:30.636Z"
   },
   {
    "duration": 12,
    "start_time": "2023-10-24T22:17:33.102Z"
   },
   {
    "duration": 149,
    "start_time": "2023-10-24T22:17:49.200Z"
   },
   {
    "duration": 14,
    "start_time": "2023-10-24T22:17:55.918Z"
   },
   {
    "duration": 23,
    "start_time": "2023-10-24T22:18:03.093Z"
   },
   {
    "duration": 20,
    "start_time": "2023-10-24T22:18:27.995Z"
   },
   {
    "duration": 15,
    "start_time": "2023-10-24T22:20:34.705Z"
   },
   {
    "duration": 14,
    "start_time": "2023-10-24T22:20:56.009Z"
   },
   {
    "duration": 11,
    "start_time": "2023-10-24T22:23:26.635Z"
   },
   {
    "duration": 1681,
    "start_time": "2023-10-24T22:23:38.814Z"
   },
   {
    "duration": 15,
    "start_time": "2023-10-24T22:24:32.638Z"
   },
   {
    "duration": 32,
    "start_time": "2023-10-24T22:26:28.040Z"
   },
   {
    "duration": 17,
    "start_time": "2023-10-24T22:26:53.888Z"
   },
   {
    "duration": 15,
    "start_time": "2023-10-24T22:26:59.395Z"
   },
   {
    "duration": 15,
    "start_time": "2023-10-24T22:27:08.016Z"
   },
   {
    "duration": 164,
    "start_time": "2023-10-24T22:27:20.296Z"
   },
   {
    "duration": 1531,
    "start_time": "2023-10-24T22:27:22.793Z"
   },
   {
    "duration": 1558,
    "start_time": "2023-10-24T22:27:33.731Z"
   },
   {
    "duration": 1599,
    "start_time": "2023-10-24T22:27:47.747Z"
   },
   {
    "duration": 1508,
    "start_time": "2023-10-24T22:28:06.228Z"
   },
   {
    "duration": 1515,
    "start_time": "2023-10-24T22:30:01.024Z"
   },
   {
    "duration": 1629,
    "start_time": "2023-10-24T22:30:15.138Z"
   },
   {
    "duration": 1604,
    "start_time": "2023-10-24T22:30:53.531Z"
   },
   {
    "duration": 1612,
    "start_time": "2023-10-24T22:31:10.332Z"
   },
   {
    "duration": 1748,
    "start_time": "2023-10-24T22:31:17.917Z"
   },
   {
    "duration": 1776,
    "start_time": "2023-10-24T22:35:48.797Z"
   },
   {
    "duration": 1591,
    "start_time": "2023-10-24T22:38:20.527Z"
   },
   {
    "duration": 180,
    "start_time": "2023-10-24T22:42:23.021Z"
   },
   {
    "duration": 267,
    "start_time": "2023-10-24T22:43:20.998Z"
   },
   {
    "duration": 17,
    "start_time": "2023-10-24T22:43:36.207Z"
   },
   {
    "duration": 1894,
    "start_time": "2023-10-24T22:43:38.079Z"
   },
   {
    "duration": 1198,
    "start_time": "2023-10-24T22:44:13.146Z"
   },
   {
    "duration": 1537,
    "start_time": "2023-10-24T22:44:37.698Z"
   },
   {
    "duration": 1262,
    "start_time": "2023-10-24T22:46:01.551Z"
   },
   {
    "duration": 1490,
    "start_time": "2023-10-24T22:46:06.401Z"
   },
   {
    "duration": 1274,
    "start_time": "2023-10-24T22:46:31.941Z"
   },
   {
    "duration": 2,
    "start_time": "2023-10-24T23:43:47.136Z"
   },
   {
    "duration": 299,
    "start_time": "2023-10-24T23:47:49.780Z"
   },
   {
    "duration": 164,
    "start_time": "2023-10-24T23:47:57.175Z"
   },
   {
    "duration": 183,
    "start_time": "2023-10-24T23:48:14.204Z"
   },
   {
    "duration": 192,
    "start_time": "2023-10-24T23:48:24.748Z"
   },
   {
    "duration": 197,
    "start_time": "2023-10-24T23:48:41.210Z"
   },
   {
    "duration": 186,
    "start_time": "2023-10-24T23:49:08.658Z"
   },
   {
    "duration": 187,
    "start_time": "2023-10-24T23:49:15.797Z"
   },
   {
    "duration": 49,
    "start_time": "2023-10-25T09:20:59.170Z"
   },
   {
    "duration": 1522,
    "start_time": "2023-10-25T09:21:05.478Z"
   },
   {
    "duration": 3118,
    "start_time": "2023-10-25T09:21:07.002Z"
   },
   {
    "duration": 3,
    "start_time": "2023-10-25T09:21:10.122Z"
   },
   {
    "duration": 152,
    "start_time": "2023-10-25T09:21:10.126Z"
   },
   {
    "duration": 78,
    "start_time": "2023-10-25T09:21:10.280Z"
   },
   {
    "duration": 34,
    "start_time": "2023-10-25T09:21:10.360Z"
   },
   {
    "duration": 29,
    "start_time": "2023-10-25T09:21:10.395Z"
   },
   {
    "duration": 12,
    "start_time": "2023-10-25T09:21:10.425Z"
   },
   {
    "duration": 34,
    "start_time": "2023-10-25T09:21:10.439Z"
   },
   {
    "duration": 25,
    "start_time": "2023-10-25T09:21:10.475Z"
   },
   {
    "duration": 10,
    "start_time": "2023-10-25T09:21:10.502Z"
   },
   {
    "duration": 6,
    "start_time": "2023-10-25T09:21:10.514Z"
   },
   {
    "duration": 185,
    "start_time": "2023-10-25T09:21:10.522Z"
   },
   {
    "duration": 8,
    "start_time": "2023-10-25T09:21:10.710Z"
   },
   {
    "duration": 17,
    "start_time": "2023-10-25T09:21:10.720Z"
   },
   {
    "duration": 27,
    "start_time": "2023-10-25T09:21:10.738Z"
   },
   {
    "duration": 22,
    "start_time": "2023-10-25T09:21:10.766Z"
   },
   {
    "duration": 41,
    "start_time": "2023-10-25T09:21:10.789Z"
   },
   {
    "duration": 40,
    "start_time": "2023-10-25T09:21:10.832Z"
   },
   {
    "duration": 12,
    "start_time": "2023-10-25T09:21:10.874Z"
   },
   {
    "duration": 75,
    "start_time": "2023-10-25T09:21:10.887Z"
   },
   {
    "duration": 116,
    "start_time": "2023-10-25T09:21:10.964Z"
   },
   {
    "duration": 225,
    "start_time": "2023-10-25T09:21:11.082Z"
   },
   {
    "duration": 11,
    "start_time": "2023-10-25T09:21:11.308Z"
   },
   {
    "duration": 31,
    "start_time": "2023-10-25T09:21:11.320Z"
   },
   {
    "duration": 4,
    "start_time": "2023-10-25T09:21:11.353Z"
   },
   {
    "duration": 16,
    "start_time": "2023-10-25T09:21:11.359Z"
   },
   {
    "duration": 25,
    "start_time": "2023-10-25T09:21:11.376Z"
   },
   {
    "duration": 7,
    "start_time": "2023-10-25T09:21:11.403Z"
   },
   {
    "duration": 21,
    "start_time": "2023-10-25T09:21:11.411Z"
   },
   {
    "duration": 16,
    "start_time": "2023-10-25T09:21:11.434Z"
   },
   {
    "duration": 201,
    "start_time": "2023-10-25T09:21:11.451Z"
   },
   {
    "duration": 126,
    "start_time": "2023-10-25T09:21:11.654Z"
   },
   {
    "duration": 24,
    "start_time": "2023-10-25T09:21:11.782Z"
   },
   {
    "duration": 97,
    "start_time": "2023-10-25T09:21:11.807Z"
   },
   {
    "duration": 10,
    "start_time": "2023-10-25T09:21:11.906Z"
   },
   {
    "duration": 10,
    "start_time": "2023-10-25T09:21:11.918Z"
   },
   {
    "duration": 46,
    "start_time": "2023-10-25T09:21:11.929Z"
   },
   {
    "duration": 15,
    "start_time": "2023-10-25T09:21:11.977Z"
   },
   {
    "duration": 1071,
    "start_time": "2023-10-25T09:21:11.994Z"
   },
   {
    "duration": 1383,
    "start_time": "2023-10-25T09:21:13.068Z"
   },
   {
    "duration": 1446,
    "start_time": "2023-10-25T09:21:31.422Z"
   },
   {
    "duration": 864,
    "start_time": "2023-10-25T09:21:32.870Z"
   },
   {
    "duration": 9,
    "start_time": "2023-10-25T09:21:33.736Z"
   },
   {
    "duration": 29,
    "start_time": "2023-10-25T09:21:33.746Z"
   },
   {
    "duration": 24,
    "start_time": "2023-10-25T09:21:33.777Z"
   },
   {
    "duration": 26,
    "start_time": "2023-10-25T09:21:33.802Z"
   },
   {
    "duration": 29,
    "start_time": "2023-10-25T09:21:33.830Z"
   },
   {
    "duration": 13,
    "start_time": "2023-10-25T09:21:33.861Z"
   },
   {
    "duration": 35,
    "start_time": "2023-10-25T09:21:33.875Z"
   },
   {
    "duration": 48,
    "start_time": "2023-10-25T09:21:33.916Z"
   },
   {
    "duration": 15,
    "start_time": "2023-10-25T09:21:33.966Z"
   },
   {
    "duration": 6,
    "start_time": "2023-10-25T09:21:33.982Z"
   },
   {
    "duration": 193,
    "start_time": "2023-10-25T09:21:33.990Z"
   },
   {
    "duration": 8,
    "start_time": "2023-10-25T09:21:34.185Z"
   },
   {
    "duration": 5,
    "start_time": "2023-10-25T09:21:34.195Z"
   },
   {
    "duration": 41,
    "start_time": "2023-10-25T09:21:34.201Z"
   },
   {
    "duration": 30,
    "start_time": "2023-10-25T09:21:34.243Z"
   },
   {
    "duration": 71,
    "start_time": "2023-10-25T09:21:34.275Z"
   },
   {
    "duration": 27,
    "start_time": "2023-10-25T09:21:34.348Z"
   },
   {
    "duration": 10,
    "start_time": "2023-10-25T09:21:34.377Z"
   },
   {
    "duration": 40,
    "start_time": "2023-10-25T09:21:34.388Z"
   },
   {
    "duration": 108,
    "start_time": "2023-10-25T09:21:34.430Z"
   },
   {
    "duration": 222,
    "start_time": "2023-10-25T09:21:34.540Z"
   },
   {
    "duration": 9,
    "start_time": "2023-10-25T09:21:34.764Z"
   },
   {
    "duration": 20,
    "start_time": "2023-10-25T09:21:34.775Z"
   },
   {
    "duration": 11,
    "start_time": "2023-10-25T09:21:34.797Z"
   },
   {
    "duration": 22,
    "start_time": "2023-10-25T09:21:34.809Z"
   },
   {
    "duration": 15,
    "start_time": "2023-10-25T09:21:34.834Z"
   },
   {
    "duration": 6,
    "start_time": "2023-10-25T09:21:34.850Z"
   },
   {
    "duration": 20,
    "start_time": "2023-10-25T09:21:34.858Z"
   },
   {
    "duration": 23,
    "start_time": "2023-10-25T09:21:34.879Z"
   },
   {
    "duration": 213,
    "start_time": "2023-10-25T09:21:34.904Z"
   },
   {
    "duration": 126,
    "start_time": "2023-10-25T09:21:35.118Z"
   },
   {
    "duration": 22,
    "start_time": "2023-10-25T09:21:35.246Z"
   },
   {
    "duration": 92,
    "start_time": "2023-10-25T09:21:35.270Z"
   },
   {
    "duration": 9,
    "start_time": "2023-10-25T09:21:35.364Z"
   },
   {
    "duration": 21,
    "start_time": "2023-10-25T09:21:35.375Z"
   },
   {
    "duration": 23,
    "start_time": "2023-10-25T09:21:35.397Z"
   },
   {
    "duration": 19,
    "start_time": "2023-10-25T09:21:35.422Z"
   },
   {
    "duration": 1229,
    "start_time": "2023-10-25T09:21:35.442Z"
   },
   {
    "duration": 1394,
    "start_time": "2023-10-25T09:21:36.673Z"
   },
   {
    "duration": 229,
    "start_time": "2023-10-25T09:21:51.937Z"
   },
   {
    "duration": 148,
    "start_time": "2023-10-25T09:22:03.894Z"
   },
   {
    "duration": 247,
    "start_time": "2023-10-25T09:27:02.267Z"
   },
   {
    "duration": 1272,
    "start_time": "2023-10-25T09:45:51.557Z"
   },
   {
    "duration": 0,
    "start_time": "2023-10-25T09:58:45.413Z"
   },
   {
    "duration": 1576,
    "start_time": "2023-10-25T09:59:57.632Z"
   },
   {
    "duration": 3158,
    "start_time": "2023-10-25T09:59:59.210Z"
   },
   {
    "duration": 4,
    "start_time": "2023-10-25T10:00:02.370Z"
   },
   {
    "duration": 108,
    "start_time": "2023-10-25T10:00:02.375Z"
   },
   {
    "duration": 44,
    "start_time": "2023-10-25T10:00:02.486Z"
   },
   {
    "duration": 80,
    "start_time": "2023-10-25T10:00:02.532Z"
   },
   {
    "duration": 59,
    "start_time": "2023-10-25T10:00:02.613Z"
   },
   {
    "duration": 50,
    "start_time": "2023-10-25T10:00:02.673Z"
   },
   {
    "duration": 54,
    "start_time": "2023-10-25T10:00:02.724Z"
   },
   {
    "duration": 103,
    "start_time": "2023-10-25T10:00:02.780Z"
   },
   {
    "duration": 333,
    "start_time": "2023-10-25T10:00:02.884Z"
   },
   {
    "duration": 234,
    "start_time": "2023-10-25T10:00:03.219Z"
   },
   {
    "duration": 268,
    "start_time": "2023-10-25T10:00:03.455Z"
   },
   {
    "duration": 8,
    "start_time": "2023-10-25T10:00:03.727Z"
   },
   {
    "duration": 68,
    "start_time": "2023-10-25T10:00:03.744Z"
   },
   {
    "duration": 117,
    "start_time": "2023-10-25T10:00:03.814Z"
   },
   {
    "duration": 33,
    "start_time": "2023-10-25T10:00:03.933Z"
   },
   {
    "duration": 36,
    "start_time": "2023-10-25T10:00:03.968Z"
   },
   {
    "duration": 17,
    "start_time": "2023-10-25T10:00:04.005Z"
   },
   {
    "duration": 49,
    "start_time": "2023-10-25T10:00:04.024Z"
   },
   {
    "duration": 62,
    "start_time": "2023-10-25T10:00:04.075Z"
   },
   {
    "duration": 115,
    "start_time": "2023-10-25T10:00:04.138Z"
   },
   {
    "duration": 227,
    "start_time": "2023-10-25T10:00:04.255Z"
   },
   {
    "duration": 9,
    "start_time": "2023-10-25T10:00:04.483Z"
   },
   {
    "duration": 40,
    "start_time": "2023-10-25T10:00:04.493Z"
   },
   {
    "duration": 16,
    "start_time": "2023-10-25T10:00:04.535Z"
   },
   {
    "duration": 29,
    "start_time": "2023-10-25T10:00:04.552Z"
   },
   {
    "duration": 17,
    "start_time": "2023-10-25T10:00:04.582Z"
   },
   {
    "duration": 6,
    "start_time": "2023-10-25T10:00:04.601Z"
   },
   {
    "duration": 48,
    "start_time": "2023-10-25T10:00:04.609Z"
   },
   {
    "duration": 30,
    "start_time": "2023-10-25T10:00:04.659Z"
   },
   {
    "duration": 202,
    "start_time": "2023-10-25T10:00:04.691Z"
   },
   {
    "duration": 134,
    "start_time": "2023-10-25T10:00:04.896Z"
   },
   {
    "duration": 27,
    "start_time": "2023-10-25T10:00:05.032Z"
   },
   {
    "duration": 104,
    "start_time": "2023-10-25T10:00:05.061Z"
   },
   {
    "duration": 13,
    "start_time": "2023-10-25T10:00:05.167Z"
   },
   {
    "duration": 10,
    "start_time": "2023-10-25T10:00:05.182Z"
   },
   {
    "duration": 33,
    "start_time": "2023-10-25T10:00:05.194Z"
   },
   {
    "duration": 24,
    "start_time": "2023-10-25T10:00:05.229Z"
   },
   {
    "duration": 1121,
    "start_time": "2023-10-25T10:00:05.255Z"
   },
   {
    "duration": 1421,
    "start_time": "2023-10-25T10:00:06.381Z"
   },
   {
    "duration": 267,
    "start_time": "2023-10-25T10:00:07.803Z"
   },
   {
    "duration": 274,
    "start_time": "2023-10-25T10:00:08.072Z"
   },
   {
    "duration": 53,
    "start_time": "2023-10-26T13:59:58.820Z"
   },
   {
    "duration": 1655,
    "start_time": "2023-10-26T14:00:22.220Z"
   },
   {
    "duration": 2039,
    "start_time": "2023-10-26T14:00:23.877Z"
   },
   {
    "duration": 3,
    "start_time": "2023-10-26T14:00:25.917Z"
   },
   {
    "duration": 31,
    "start_time": "2023-10-26T14:00:25.922Z"
   },
   {
    "duration": 16,
    "start_time": "2023-10-26T14:00:25.955Z"
   },
   {
    "duration": 15,
    "start_time": "2023-10-26T14:00:25.972Z"
   },
   {
    "duration": 19,
    "start_time": "2023-10-26T14:00:25.989Z"
   },
   {
    "duration": 11,
    "start_time": "2023-10-26T14:00:26.010Z"
   },
   {
    "duration": 38,
    "start_time": "2023-10-26T14:00:26.022Z"
   },
   {
    "duration": 21,
    "start_time": "2023-10-26T14:00:26.062Z"
   },
   {
    "duration": 9,
    "start_time": "2023-10-26T14:00:26.085Z"
   },
   {
    "duration": 11,
    "start_time": "2023-10-26T14:00:26.095Z"
   },
   {
    "duration": 186,
    "start_time": "2023-10-26T14:00:26.107Z"
   },
   {
    "duration": 7,
    "start_time": "2023-10-26T14:00:26.296Z"
   },
   {
    "duration": 6,
    "start_time": "2023-10-26T14:00:26.305Z"
   },
   {
    "duration": 33,
    "start_time": "2023-10-26T14:00:26.313Z"
   },
   {
    "duration": 4,
    "start_time": "2023-10-26T14:00:26.348Z"
   },
   {
    "duration": 43,
    "start_time": "2023-10-26T14:00:26.353Z"
   },
   {
    "duration": 3,
    "start_time": "2023-10-26T14:00:26.398Z"
   },
   {
    "duration": 6,
    "start_time": "2023-10-26T14:00:26.403Z"
   },
   {
    "duration": 33,
    "start_time": "2023-10-26T14:00:26.410Z"
   },
   {
    "duration": 113,
    "start_time": "2023-10-26T14:00:26.445Z"
   },
   {
    "duration": 212,
    "start_time": "2023-10-26T14:00:26.559Z"
   },
   {
    "duration": 8,
    "start_time": "2023-10-26T14:00:26.773Z"
   },
   {
    "duration": 12,
    "start_time": "2023-10-26T14:00:26.782Z"
   },
   {
    "duration": 3,
    "start_time": "2023-10-26T14:00:26.796Z"
   },
   {
    "duration": 7,
    "start_time": "2023-10-26T14:00:26.800Z"
   },
   {
    "duration": 5,
    "start_time": "2023-10-26T14:00:26.808Z"
   },
   {
    "duration": 6,
    "start_time": "2023-10-26T14:00:26.840Z"
   },
   {
    "duration": 13,
    "start_time": "2023-10-26T14:00:26.848Z"
   },
   {
    "duration": 14,
    "start_time": "2023-10-26T14:00:26.863Z"
   },
   {
    "duration": 208,
    "start_time": "2023-10-26T14:00:26.879Z"
   },
   {
    "duration": 126,
    "start_time": "2023-10-26T14:00:27.088Z"
   },
   {
    "duration": 25,
    "start_time": "2023-10-26T14:00:27.215Z"
   },
   {
    "duration": 84,
    "start_time": "2023-10-26T14:00:27.242Z"
   },
   {
    "duration": 14,
    "start_time": "2023-10-26T14:00:27.339Z"
   },
   {
    "duration": 8,
    "start_time": "2023-10-26T14:00:27.355Z"
   },
   {
    "duration": 18,
    "start_time": "2023-10-26T14:00:27.366Z"
   },
   {
    "duration": 17,
    "start_time": "2023-10-26T14:00:27.385Z"
   },
   {
    "duration": 1001,
    "start_time": "2023-10-26T14:00:27.403Z"
   },
   {
    "duration": 1371,
    "start_time": "2023-10-26T14:00:28.407Z"
   },
   {
    "duration": 219,
    "start_time": "2023-10-26T14:00:29.780Z"
   },
   {
    "duration": 239,
    "start_time": "2023-10-26T14:00:30.000Z"
   },
   {
    "duration": 1308,
    "start_time": "2023-10-26T14:25:39.202Z"
   },
   {
    "duration": 713,
    "start_time": "2023-10-26T14:25:40.512Z"
   },
   {
    "duration": 4,
    "start_time": "2023-10-26T14:25:41.226Z"
   },
   {
    "duration": 29,
    "start_time": "2023-10-26T14:25:41.239Z"
   },
   {
    "duration": 15,
    "start_time": "2023-10-26T14:25:41.271Z"
   },
   {
    "duration": 19,
    "start_time": "2023-10-26T14:25:41.288Z"
   },
   {
    "duration": 33,
    "start_time": "2023-10-26T14:25:41.309Z"
   },
   {
    "duration": 17,
    "start_time": "2023-10-26T14:25:41.343Z"
   },
   {
    "duration": 22,
    "start_time": "2023-10-26T14:25:41.361Z"
   },
   {
    "duration": 23,
    "start_time": "2023-10-26T14:25:41.386Z"
   },
   {
    "duration": 41,
    "start_time": "2023-10-26T14:25:41.410Z"
   },
   {
    "duration": 3,
    "start_time": "2023-10-26T14:25:41.453Z"
   },
   {
    "duration": 179,
    "start_time": "2023-10-26T14:25:41.458Z"
   },
   {
    "duration": 8,
    "start_time": "2023-10-26T14:25:41.639Z"
   },
   {
    "duration": 12,
    "start_time": "2023-10-26T14:25:41.648Z"
   },
   {
    "duration": 22,
    "start_time": "2023-10-26T14:25:41.661Z"
   },
   {
    "duration": 18,
    "start_time": "2023-10-26T14:25:41.684Z"
   },
   {
    "duration": 20,
    "start_time": "2023-10-26T14:25:41.703Z"
   },
   {
    "duration": 4,
    "start_time": "2023-10-26T14:25:41.724Z"
   },
   {
    "duration": 25,
    "start_time": "2023-10-26T14:25:41.729Z"
   },
   {
    "duration": 40,
    "start_time": "2023-10-26T14:25:41.756Z"
   },
   {
    "duration": 96,
    "start_time": "2023-10-26T14:25:41.797Z"
   },
   {
    "duration": 194,
    "start_time": "2023-10-26T14:25:41.894Z"
   },
   {
    "duration": 8,
    "start_time": "2023-10-26T14:25:42.089Z"
   },
   {
    "duration": 22,
    "start_time": "2023-10-26T14:25:42.099Z"
   },
   {
    "duration": 4,
    "start_time": "2023-10-26T14:25:42.123Z"
   },
   {
    "duration": 10,
    "start_time": "2023-10-26T14:25:42.144Z"
   },
   {
    "duration": 16,
    "start_time": "2023-10-26T14:25:42.155Z"
   },
   {
    "duration": 4,
    "start_time": "2023-10-26T14:25:42.173Z"
   },
   {
    "duration": 14,
    "start_time": "2023-10-26T14:25:42.179Z"
   },
   {
    "duration": 15,
    "start_time": "2023-10-26T14:25:42.194Z"
   },
   {
    "duration": 205,
    "start_time": "2023-10-26T14:25:42.211Z"
   },
   {
    "duration": 155,
    "start_time": "2023-10-26T14:25:42.418Z"
   },
   {
    "duration": 28,
    "start_time": "2023-10-26T14:25:42.575Z"
   },
   {
    "duration": 104,
    "start_time": "2023-10-26T14:25:42.604Z"
   },
   {
    "duration": 9,
    "start_time": "2023-10-26T14:25:42.709Z"
   },
   {
    "duration": 11,
    "start_time": "2023-10-26T14:25:42.719Z"
   },
   {
    "duration": 10,
    "start_time": "2023-10-26T14:25:42.739Z"
   },
   {
    "duration": 17,
    "start_time": "2023-10-26T14:25:42.750Z"
   },
   {
    "duration": 998,
    "start_time": "2023-10-26T14:25:42.769Z"
   },
   {
    "duration": 1377,
    "start_time": "2023-10-26T14:25:43.772Z"
   },
   {
    "duration": 280,
    "start_time": "2023-10-26T14:25:45.151Z"
   },
   {
    "duration": 265,
    "start_time": "2023-10-26T14:25:45.432Z"
   },
   {
    "duration": 105,
    "start_time": "2023-10-26T14:25:55.626Z"
   },
   {
    "duration": 31,
    "start_time": "2023-10-26T14:26:20.289Z"
   },
   {
    "duration": 34,
    "start_time": "2023-10-26T14:26:39.889Z"
   },
   {
    "duration": 1200,
    "start_time": "2023-10-26T14:29:11.084Z"
   },
   {
    "duration": 33,
    "start_time": "2023-10-26T14:29:30.738Z"
   },
   {
    "duration": 189,
    "start_time": "2023-10-26T14:31:19.955Z"
   },
   {
    "duration": 34,
    "start_time": "2023-10-26T14:32:24.100Z"
   },
   {
    "duration": 33,
    "start_time": "2023-10-26T14:32:35.265Z"
   },
   {
    "duration": 155,
    "start_time": "2023-10-26T14:32:52.647Z"
   },
   {
    "duration": 44,
    "start_time": "2023-10-26T14:34:01.820Z"
   },
   {
    "duration": 201,
    "start_time": "2023-10-26T14:34:42.612Z"
   },
   {
    "duration": 275,
    "start_time": "2023-10-26T14:35:09.213Z"
   },
   {
    "duration": 159,
    "start_time": "2023-10-26T14:35:37.759Z"
   },
   {
    "duration": 167,
    "start_time": "2023-10-26T14:36:23.888Z"
   },
   {
    "duration": 167,
    "start_time": "2023-10-26T14:36:29.205Z"
   },
   {
    "duration": 192,
    "start_time": "2023-10-26T14:36:34.616Z"
   },
   {
    "duration": 39,
    "start_time": "2023-10-26T14:44:03.141Z"
   },
   {
    "duration": 40,
    "start_time": "2023-10-26T14:45:11.026Z"
   },
   {
    "duration": 34,
    "start_time": "2023-10-26T14:45:18.102Z"
   },
   {
    "duration": 45,
    "start_time": "2023-10-26T14:45:52.350Z"
   },
   {
    "duration": 34,
    "start_time": "2023-10-26T14:46:41.796Z"
   },
   {
    "duration": 36,
    "start_time": "2023-10-26T14:47:01.710Z"
   },
   {
    "duration": 45,
    "start_time": "2023-10-26T14:47:49.800Z"
   },
   {
    "duration": 34,
    "start_time": "2023-10-26T14:48:03.207Z"
   },
   {
    "duration": 33,
    "start_time": "2023-10-26T14:48:14.293Z"
   },
   {
    "duration": 33,
    "start_time": "2023-10-26T14:48:34.034Z"
   },
   {
    "duration": 34,
    "start_time": "2023-10-26T14:48:49.210Z"
   },
   {
    "duration": 164,
    "start_time": "2023-10-26T14:49:15.963Z"
   },
   {
    "duration": 172,
    "start_time": "2023-10-26T14:49:40.953Z"
   },
   {
    "duration": 168,
    "start_time": "2023-10-26T14:49:48.955Z"
   },
   {
    "duration": 36,
    "start_time": "2023-10-26T16:11:41.884Z"
   },
   {
    "duration": 168,
    "start_time": "2023-10-26T16:32:50.886Z"
   },
   {
    "duration": 165,
    "start_time": "2023-10-26T16:37:14.028Z"
   },
   {
    "duration": 52,
    "start_time": "2023-10-26T23:40:13.758Z"
   },
   {
    "duration": 1781,
    "start_time": "2023-10-26T23:40:24.470Z"
   },
   {
    "duration": 2170,
    "start_time": "2023-10-26T23:40:26.253Z"
   },
   {
    "duration": 4,
    "start_time": "2023-10-26T23:40:28.426Z"
   },
   {
    "duration": 27,
    "start_time": "2023-10-26T23:40:28.431Z"
   },
   {
    "duration": 23,
    "start_time": "2023-10-26T23:40:28.460Z"
   },
   {
    "duration": 30,
    "start_time": "2023-10-26T23:40:28.484Z"
   },
   {
    "duration": 52,
    "start_time": "2023-10-26T23:40:28.515Z"
   },
   {
    "duration": 11,
    "start_time": "2023-10-26T23:40:28.569Z"
   },
   {
    "duration": 20,
    "start_time": "2023-10-26T23:40:28.582Z"
   },
   {
    "duration": 27,
    "start_time": "2023-10-26T23:40:28.603Z"
   },
   {
    "duration": 11,
    "start_time": "2023-10-26T23:40:28.632Z"
   },
   {
    "duration": 7,
    "start_time": "2023-10-26T23:40:28.645Z"
   },
   {
    "duration": 180,
    "start_time": "2023-10-26T23:40:28.653Z"
   },
   {
    "duration": 8,
    "start_time": "2023-10-26T23:40:28.836Z"
   },
   {
    "duration": 6,
    "start_time": "2023-10-26T23:40:28.846Z"
   },
   {
    "duration": 35,
    "start_time": "2023-10-26T23:40:28.854Z"
   },
   {
    "duration": 4,
    "start_time": "2023-10-26T23:40:28.891Z"
   },
   {
    "duration": 39,
    "start_time": "2023-10-26T23:40:28.897Z"
   },
   {
    "duration": 3,
    "start_time": "2023-10-26T23:40:28.938Z"
   },
   {
    "duration": 13,
    "start_time": "2023-10-26T23:40:28.943Z"
   },
   {
    "duration": 73,
    "start_time": "2023-10-26T23:40:28.958Z"
   },
   {
    "duration": 113,
    "start_time": "2023-10-26T23:40:29.033Z"
   },
   {
    "duration": 216,
    "start_time": "2023-10-26T23:40:29.147Z"
   },
   {
    "duration": 8,
    "start_time": "2023-10-26T23:40:29.364Z"
   },
   {
    "duration": 14,
    "start_time": "2023-10-26T23:40:29.374Z"
   },
   {
    "duration": 16,
    "start_time": "2023-10-26T23:40:29.407Z"
   },
   {
    "duration": 8,
    "start_time": "2023-10-26T23:40:29.431Z"
   },
   {
    "duration": 7,
    "start_time": "2023-10-26T23:40:29.441Z"
   },
   {
    "duration": 4,
    "start_time": "2023-10-26T23:40:29.450Z"
   },
   {
    "duration": 12,
    "start_time": "2023-10-26T23:40:29.455Z"
   },
   {
    "duration": 39,
    "start_time": "2023-10-26T23:40:29.469Z"
   },
   {
    "duration": 213,
    "start_time": "2023-10-26T23:40:29.510Z"
   },
   {
    "duration": 121,
    "start_time": "2023-10-26T23:40:29.724Z"
   },
   {
    "duration": 22,
    "start_time": "2023-10-26T23:40:29.847Z"
   },
   {
    "duration": 100,
    "start_time": "2023-10-26T23:40:29.871Z"
   },
   {
    "duration": 10,
    "start_time": "2023-10-26T23:40:29.973Z"
   },
   {
    "duration": 11,
    "start_time": "2023-10-26T23:40:29.985Z"
   },
   {
    "duration": 44,
    "start_time": "2023-10-26T23:40:30.007Z"
   },
   {
    "duration": 60,
    "start_time": "2023-10-26T23:40:30.054Z"
   },
   {
    "duration": 1097,
    "start_time": "2023-10-26T23:40:30.116Z"
   },
   {
    "duration": 1362,
    "start_time": "2023-10-26T23:40:31.216Z"
   },
   {
    "duration": 247,
    "start_time": "2023-10-26T23:40:32.579Z"
   },
   {
    "duration": 245,
    "start_time": "2023-10-26T23:40:32.827Z"
   },
   {
    "duration": 220,
    "start_time": "2023-10-26T23:40:33.074Z"
   },
   {
    "duration": 197,
    "start_time": "2023-10-26T23:41:39.284Z"
   },
   {
    "duration": 12,
    "start_time": "2023-10-27T00:41:22.651Z"
   },
   {
    "duration": 5,
    "start_time": "2023-10-27T00:42:23.262Z"
   },
   {
    "duration": 29,
    "start_time": "2023-10-27T00:44:34.137Z"
   },
   {
    "duration": 27,
    "start_time": "2023-10-27T00:44:57.223Z"
   },
   {
    "duration": 4,
    "start_time": "2023-10-27T00:45:09.734Z"
   },
   {
    "duration": 6,
    "start_time": "2023-10-27T00:51:50.686Z"
   },
   {
    "duration": 100,
    "start_time": "2023-10-27T02:01:06.338Z"
   },
   {
    "duration": 5,
    "start_time": "2023-10-27T02:02:08.462Z"
   },
   {
    "duration": 21,
    "start_time": "2023-10-27T02:02:45.720Z"
   },
   {
    "duration": 6,
    "start_time": "2023-10-27T02:14:43.094Z"
   },
   {
    "duration": 6,
    "start_time": "2023-10-27T03:47:06.844Z"
   },
   {
    "duration": 12,
    "start_time": "2023-10-27T04:58:54.319Z"
   },
   {
    "duration": 76,
    "start_time": "2023-10-27T05:22:03.542Z"
   },
   {
    "duration": 47,
    "start_time": "2023-10-27T05:24:26.069Z"
   },
   {
    "duration": 136,
    "start_time": "2023-10-27T05:24:31.810Z"
   },
   {
    "duration": 4,
    "start_time": "2023-10-27T05:26:35.975Z"
   },
   {
    "duration": 11,
    "start_time": "2023-10-27T05:26:40.775Z"
   },
   {
    "duration": 4,
    "start_time": "2023-10-27T05:26:48.411Z"
   },
   {
    "duration": 32,
    "start_time": "2023-10-27T05:26:53.437Z"
   },
   {
    "duration": 10,
    "start_time": "2023-10-27T05:32:31.067Z"
   },
   {
    "duration": 4,
    "start_time": "2023-10-27T05:34:23.691Z"
   },
   {
    "duration": 9,
    "start_time": "2023-10-27T05:34:26.568Z"
   },
   {
    "duration": 110,
    "start_time": "2023-10-27T05:34:46.967Z"
   },
   {
    "duration": 32,
    "start_time": "2023-10-27T05:35:22.198Z"
   },
   {
    "duration": 34,
    "start_time": "2023-10-27T05:36:42.900Z"
   },
   {
    "duration": 6,
    "start_time": "2023-10-27T05:37:27.388Z"
   },
   {
    "duration": 33,
    "start_time": "2023-10-27T05:37:44.327Z"
   },
   {
    "duration": 21,
    "start_time": "2023-10-27T05:37:51.531Z"
   },
   {
    "duration": 5,
    "start_time": "2023-10-27T05:40:23.520Z"
   },
   {
    "duration": 21,
    "start_time": "2023-10-27T05:40:32.637Z"
   },
   {
    "duration": 26,
    "start_time": "2023-10-27T05:42:09.808Z"
   },
   {
    "duration": 18,
    "start_time": "2023-10-27T05:42:17.868Z"
   },
   {
    "duration": 22,
    "start_time": "2023-10-27T05:47:56.617Z"
   },
   {
    "duration": 11,
    "start_time": "2023-10-27T05:48:21.171Z"
   },
   {
    "duration": 10,
    "start_time": "2023-10-27T05:49:00.417Z"
   },
   {
    "duration": 5,
    "start_time": "2023-10-27T05:49:07.720Z"
   },
   {
    "duration": 9,
    "start_time": "2023-10-27T05:50:04.642Z"
   },
   {
    "duration": 4,
    "start_time": "2023-10-27T05:50:40.325Z"
   },
   {
    "duration": 21,
    "start_time": "2023-10-27T05:50:43.107Z"
   },
   {
    "duration": 5,
    "start_time": "2023-10-27T05:50:45.913Z"
   },
   {
    "duration": 9,
    "start_time": "2023-10-27T05:50:47.659Z"
   },
   {
    "duration": 8,
    "start_time": "2023-10-27T05:51:00.635Z"
   },
   {
    "duration": 1399,
    "start_time": "2023-10-27T05:51:27.177Z"
   },
   {
    "duration": 847,
    "start_time": "2023-10-27T05:51:28.578Z"
   },
   {
    "duration": 3,
    "start_time": "2023-10-27T05:51:29.427Z"
   },
   {
    "duration": 48,
    "start_time": "2023-10-27T05:51:29.432Z"
   },
   {
    "duration": 37,
    "start_time": "2023-10-27T05:51:29.482Z"
   },
   {
    "duration": 25,
    "start_time": "2023-10-27T05:51:29.521Z"
   },
   {
    "duration": 37,
    "start_time": "2023-10-27T05:51:29.548Z"
   },
   {
    "duration": 14,
    "start_time": "2023-10-27T05:51:29.587Z"
   },
   {
    "duration": 17,
    "start_time": "2023-10-27T05:51:29.602Z"
   },
   {
    "duration": 24,
    "start_time": "2023-10-27T05:51:29.621Z"
   },
   {
    "duration": 9,
    "start_time": "2023-10-27T05:51:29.647Z"
   },
   {
    "duration": 8,
    "start_time": "2023-10-27T05:51:29.657Z"
   },
   {
    "duration": 176,
    "start_time": "2023-10-27T05:51:29.666Z"
   },
   {
    "duration": 8,
    "start_time": "2023-10-27T05:51:29.844Z"
   },
   {
    "duration": 13,
    "start_time": "2023-10-27T05:51:29.853Z"
   },
   {
    "duration": 16,
    "start_time": "2023-10-27T05:51:29.867Z"
   },
   {
    "duration": 15,
    "start_time": "2023-10-27T05:51:29.884Z"
   },
   {
    "duration": 22,
    "start_time": "2023-10-27T05:51:29.901Z"
   },
   {
    "duration": 4,
    "start_time": "2023-10-27T05:51:29.925Z"
   },
   {
    "duration": 6,
    "start_time": "2023-10-27T05:51:29.930Z"
   },
   {
    "duration": 41,
    "start_time": "2023-10-27T05:51:29.938Z"
   },
   {
    "duration": 139,
    "start_time": "2023-10-27T05:51:29.980Z"
   },
   {
    "duration": 215,
    "start_time": "2023-10-27T05:51:30.121Z"
   },
   {
    "duration": 8,
    "start_time": "2023-10-27T05:51:30.337Z"
   },
   {
    "duration": 36,
    "start_time": "2023-10-27T05:51:30.347Z"
   },
   {
    "duration": 26,
    "start_time": "2023-10-27T05:51:30.385Z"
   },
   {
    "duration": 34,
    "start_time": "2023-10-27T05:51:30.412Z"
   },
   {
    "duration": 27,
    "start_time": "2023-10-27T05:51:30.448Z"
   },
   {
    "duration": 25,
    "start_time": "2023-10-27T05:51:30.477Z"
   },
   {
    "duration": 45,
    "start_time": "2023-10-27T05:51:30.504Z"
   },
   {
    "duration": 47,
    "start_time": "2023-10-27T05:51:30.551Z"
   },
   {
    "duration": 219,
    "start_time": "2023-10-27T05:51:30.600Z"
   },
   {
    "duration": 120,
    "start_time": "2023-10-27T05:51:30.821Z"
   },
   {
    "duration": 23,
    "start_time": "2023-10-27T05:51:30.943Z"
   },
   {
    "duration": 106,
    "start_time": "2023-10-27T05:51:30.968Z"
   },
   {
    "duration": 10,
    "start_time": "2023-10-27T05:51:31.076Z"
   },
   {
    "duration": 56,
    "start_time": "2023-10-27T05:51:31.087Z"
   },
   {
    "duration": 61,
    "start_time": "2023-10-27T05:51:31.144Z"
   },
   {
    "duration": 61,
    "start_time": "2023-10-27T05:51:31.206Z"
   },
   {
    "duration": 1115,
    "start_time": "2023-10-27T05:51:31.268Z"
   },
   {
    "duration": 1356,
    "start_time": "2023-10-27T05:51:32.387Z"
   },
   {
    "duration": 220,
    "start_time": "2023-10-27T05:51:33.745Z"
   },
   {
    "duration": 244,
    "start_time": "2023-10-27T05:51:33.967Z"
   },
   {
    "duration": 195,
    "start_time": "2023-10-27T05:51:34.212Z"
   },
   {
    "duration": 5,
    "start_time": "2023-10-27T05:51:34.409Z"
   },
   {
    "duration": 15,
    "start_time": "2023-10-27T05:51:34.416Z"
   },
   {
    "duration": 34,
    "start_time": "2023-10-27T05:51:34.432Z"
   },
   {
    "duration": 21,
    "start_time": "2023-10-27T05:51:39.375Z"
   },
   {
    "duration": 5,
    "start_time": "2023-10-27T05:51:41.331Z"
   },
   {
    "duration": 109,
    "start_time": "2023-10-27T05:51:43.503Z"
   },
   {
    "duration": 5,
    "start_time": "2023-10-27T05:52:00.465Z"
   },
   {
    "duration": 49,
    "start_time": "2023-10-27T05:52:50.523Z"
   },
   {
    "duration": 35,
    "start_time": "2023-10-27T05:52:58.346Z"
   },
   {
    "duration": 5,
    "start_time": "2023-10-27T05:53:18.540Z"
   },
   {
    "duration": 114,
    "start_time": "2023-10-27T05:53:38.842Z"
   },
   {
    "duration": 10,
    "start_time": "2023-10-27T05:55:20.236Z"
   },
   {
    "duration": 16,
    "start_time": "2023-10-27T05:55:57.621Z"
   },
   {
    "duration": 17,
    "start_time": "2023-10-27T05:58:26.224Z"
   },
   {
    "duration": 20,
    "start_time": "2023-10-27T06:02:31.907Z"
   },
   {
    "duration": 1502,
    "start_time": "2023-10-27T06:03:10.533Z"
   },
   {
    "duration": 24,
    "start_time": "2023-10-27T06:04:55.426Z"
   },
   {
    "duration": 6,
    "start_time": "2023-10-27T06:05:06.713Z"
   },
   {
    "duration": 16,
    "start_time": "2023-10-27T06:06:00.334Z"
   },
   {
    "duration": 9,
    "start_time": "2023-10-27T06:07:00.379Z"
   },
   {
    "duration": 10,
    "start_time": "2023-10-27T06:07:22.877Z"
   },
   {
    "duration": 8,
    "start_time": "2023-10-27T06:07:24.938Z"
   },
   {
    "duration": 86,
    "start_time": "2023-10-27T06:09:36.072Z"
   },
   {
    "duration": 14,
    "start_time": "2023-10-27T06:09:46.015Z"
   },
   {
    "duration": 9,
    "start_time": "2023-10-27T06:09:50.058Z"
   },
   {
    "duration": 7,
    "start_time": "2023-10-27T06:10:16.949Z"
   },
   {
    "duration": 9,
    "start_time": "2023-10-27T06:10:34.713Z"
   },
   {
    "duration": 8,
    "start_time": "2023-10-27T06:12:09.078Z"
   },
   {
    "duration": 4,
    "start_time": "2023-10-27T06:12:10.326Z"
   },
   {
    "duration": 8,
    "start_time": "2023-10-27T06:12:11.014Z"
   },
   {
    "duration": 14,
    "start_time": "2023-10-27T06:13:02.695Z"
   },
   {
    "duration": 9,
    "start_time": "2023-10-27T06:13:17.620Z"
   },
   {
    "duration": 161,
    "start_time": "2023-10-27T06:14:07.968Z"
   },
   {
    "duration": 1493,
    "start_time": "2023-10-27T06:14:43.283Z"
   },
   {
    "duration": 888,
    "start_time": "2023-10-27T06:14:44.778Z"
   },
   {
    "duration": 4,
    "start_time": "2023-10-27T06:14:45.667Z"
   },
   {
    "duration": 50,
    "start_time": "2023-10-27T06:14:45.672Z"
   },
   {
    "duration": 53,
    "start_time": "2023-10-27T06:14:45.725Z"
   },
   {
    "duration": 48,
    "start_time": "2023-10-27T06:14:45.779Z"
   },
   {
    "duration": 84,
    "start_time": "2023-10-27T06:14:45.828Z"
   },
   {
    "duration": 43,
    "start_time": "2023-10-27T06:14:45.914Z"
   },
   {
    "duration": 47,
    "start_time": "2023-10-27T06:14:45.959Z"
   },
   {
    "duration": 56,
    "start_time": "2023-10-27T06:14:46.008Z"
   },
   {
    "duration": 35,
    "start_time": "2023-10-27T06:14:46.066Z"
   },
   {
    "duration": 31,
    "start_time": "2023-10-27T06:14:46.103Z"
   },
   {
    "duration": 232,
    "start_time": "2023-10-27T06:14:46.136Z"
   },
   {
    "duration": 10,
    "start_time": "2023-10-27T06:14:46.372Z"
   },
   {
    "duration": 17,
    "start_time": "2023-10-27T06:14:46.384Z"
   },
   {
    "duration": 53,
    "start_time": "2023-10-27T06:14:46.404Z"
   },
   {
    "duration": 7,
    "start_time": "2023-10-27T06:14:46.459Z"
   },
   {
    "duration": 18,
    "start_time": "2023-10-27T06:14:46.468Z"
   },
   {
    "duration": 11,
    "start_time": "2023-10-27T06:14:46.488Z"
   },
   {
    "duration": 7,
    "start_time": "2023-10-27T06:14:46.501Z"
   },
   {
    "duration": 55,
    "start_time": "2023-10-27T06:14:46.509Z"
   },
   {
    "duration": 108,
    "start_time": "2023-10-27T06:14:46.565Z"
   },
   {
    "duration": 224,
    "start_time": "2023-10-27T06:14:46.675Z"
   },
   {
    "duration": 9,
    "start_time": "2023-10-27T06:14:46.906Z"
   },
   {
    "duration": 18,
    "start_time": "2023-10-27T06:14:46.917Z"
   },
   {
    "duration": 8,
    "start_time": "2023-10-27T06:14:46.937Z"
   },
   {
    "duration": 13,
    "start_time": "2023-10-27T06:14:46.946Z"
   },
   {
    "duration": 12,
    "start_time": "2023-10-27T06:14:46.961Z"
   },
   {
    "duration": 27,
    "start_time": "2023-10-27T06:14:46.975Z"
   },
   {
    "duration": 16,
    "start_time": "2023-10-27T06:14:47.006Z"
   },
   {
    "duration": 8,
    "start_time": "2023-10-27T06:14:47.024Z"
   },
   {
    "duration": 194,
    "start_time": "2023-10-27T06:14:47.034Z"
   },
   {
    "duration": 96,
    "start_time": "2023-10-27T06:14:47.231Z"
   },
   {
    "duration": 19,
    "start_time": "2023-10-27T06:14:47.329Z"
   },
   {
    "duration": 137,
    "start_time": "2023-10-27T06:14:47.350Z"
   },
   {
    "duration": 20,
    "start_time": "2023-10-27T06:14:47.488Z"
   },
   {
    "duration": 8,
    "start_time": "2023-10-27T06:14:47.510Z"
   },
   {
    "duration": 14,
    "start_time": "2023-10-27T06:14:47.519Z"
   },
   {
    "duration": 16,
    "start_time": "2023-10-27T06:14:47.534Z"
   },
   {
    "duration": 1112,
    "start_time": "2023-10-27T06:14:47.552Z"
   },
   {
    "duration": 1294,
    "start_time": "2023-10-27T06:14:48.668Z"
   },
   {
    "duration": 260,
    "start_time": "2023-10-27T06:14:49.963Z"
   },
   {
    "duration": 251,
    "start_time": "2023-10-27T06:14:50.224Z"
   },
   {
    "duration": 194,
    "start_time": "2023-10-27T06:14:50.477Z"
   },
   {
    "duration": 5,
    "start_time": "2023-10-27T06:14:50.672Z"
   },
   {
    "duration": 13,
    "start_time": "2023-10-27T06:14:50.678Z"
   },
   {
    "duration": 39,
    "start_time": "2023-10-27T06:14:50.693Z"
   },
   {
    "duration": 5,
    "start_time": "2023-10-27T06:14:50.734Z"
   },
   {
    "duration": 55,
    "start_time": "2023-10-27T06:14:50.741Z"
   },
   {
    "duration": 12,
    "start_time": "2023-10-27T06:14:50.798Z"
   },
   {
    "duration": 152,
    "start_time": "2023-10-27T06:14:50.812Z"
   },
   {
    "duration": 41,
    "start_time": "2023-10-27T06:14:50.965Z"
   },
   {
    "duration": 60,
    "start_time": "2023-10-27T06:14:51.007Z"
   },
   {
    "duration": 1751,
    "start_time": "2023-10-27T06:14:54.383Z"
   },
   {
    "duration": 4,
    "start_time": "2023-10-27T06:18:26.433Z"
   },
   {
    "duration": 1810,
    "start_time": "2023-10-27T06:18:31.428Z"
   },
   {
    "duration": 4,
    "start_time": "2023-10-27T06:22:44.168Z"
   },
   {
    "duration": 1850,
    "start_time": "2023-10-27T06:22:50.873Z"
   },
   {
    "duration": 5,
    "start_time": "2023-10-27T06:24:19.571Z"
   },
   {
    "duration": 4,
    "start_time": "2023-10-27T06:25:43.290Z"
   },
   {
    "duration": 2002,
    "start_time": "2023-10-27T06:25:54.060Z"
   },
   {
    "duration": 18,
    "start_time": "2023-10-27T06:26:29.684Z"
   },
   {
    "duration": 102,
    "start_time": "2023-10-27T06:26:42.008Z"
   },
   {
    "duration": 17,
    "start_time": "2023-10-27T06:26:52.515Z"
   },
   {
    "duration": 69,
    "start_time": "2023-10-27T06:27:10.339Z"
   },
   {
    "duration": 2794,
    "start_time": "2023-10-27T06:27:40.638Z"
   },
   {
    "duration": 177,
    "start_time": "2023-10-27T06:28:06.231Z"
   },
   {
    "duration": 1612,
    "start_time": "2023-10-27T06:28:24.299Z"
   },
   {
    "duration": 1985,
    "start_time": "2023-10-27T06:28:48.800Z"
   },
   {
    "duration": 53,
    "start_time": "2023-10-27T06:29:08.958Z"
   },
   {
    "duration": 49,
    "start_time": "2023-10-27T06:29:19.262Z"
   },
   {
    "duration": 4,
    "start_time": "2023-10-27T06:30:52.124Z"
   },
   {
    "duration": 299,
    "start_time": "2023-10-27T06:31:03.408Z"
   },
   {
    "duration": 4,
    "start_time": "2023-10-27T06:31:22.077Z"
   },
   {
    "duration": 167,
    "start_time": "2023-10-27T06:31:29.043Z"
   },
   {
    "duration": 4,
    "start_time": "2023-10-27T06:32:07.827Z"
   },
   {
    "duration": 192,
    "start_time": "2023-10-27T06:32:14.726Z"
   },
   {
    "duration": 4,
    "start_time": "2023-10-27T06:32:27.650Z"
   },
   {
    "duration": 1646,
    "start_time": "2023-10-27T06:32:34.356Z"
   },
   {
    "duration": 78,
    "start_time": "2023-10-27T06:33:23.831Z"
   },
   {
    "duration": 5,
    "start_time": "2023-10-27T06:33:37.327Z"
   },
   {
    "duration": 1952,
    "start_time": "2023-10-27T06:33:44.934Z"
   },
   {
    "duration": 6,
    "start_time": "2023-10-27T06:34:02.547Z"
   },
   {
    "duration": 1880,
    "start_time": "2023-10-27T06:34:06.934Z"
   },
   {
    "duration": 5,
    "start_time": "2023-10-27T06:35:06.461Z"
   },
   {
    "duration": 1724,
    "start_time": "2023-10-27T06:35:10.488Z"
   },
   {
    "duration": 5,
    "start_time": "2023-10-27T06:35:55.681Z"
   },
   {
    "duration": 1651,
    "start_time": "2023-10-27T06:36:20.092Z"
   },
   {
    "duration": 1527,
    "start_time": "2023-10-27T06:36:36.003Z"
   },
   {
    "duration": 5,
    "start_time": "2023-10-27T06:37:12.836Z"
   },
   {
    "duration": 141,
    "start_time": "2023-10-27T06:37:56.574Z"
   },
   {
    "duration": 5,
    "start_time": "2023-10-27T06:38:25.613Z"
   },
   {
    "duration": 1553,
    "start_time": "2023-10-27T06:38:48.292Z"
   },
   {
    "duration": 6,
    "start_time": "2023-10-27T06:38:54.671Z"
   },
   {
    "duration": 4,
    "start_time": "2023-10-27T06:39:58.185Z"
   },
   {
    "duration": 209,
    "start_time": "2023-10-27T06:40:06.107Z"
   },
   {
    "duration": 3,
    "start_time": "2023-10-27T06:40:30.573Z"
   },
   {
    "duration": 270,
    "start_time": "2023-10-27T06:40:36.676Z"
   },
   {
    "duration": 4,
    "start_time": "2023-10-27T06:42:00.208Z"
   },
   {
    "duration": 6,
    "start_time": "2023-10-27T06:42:21.003Z"
   },
   {
    "duration": 307,
    "start_time": "2023-10-27T06:42:28.919Z"
   },
   {
    "duration": 952,
    "start_time": "2023-10-27T06:43:14.857Z"
   },
   {
    "duration": 449,
    "start_time": "2023-10-27T06:50:07.961Z"
   },
   {
    "duration": 12,
    "start_time": "2023-10-27T06:52:17.381Z"
   },
   {
    "duration": 6,
    "start_time": "2023-10-27T06:52:44.541Z"
   },
   {
    "duration": 10,
    "start_time": "2023-10-27T06:53:03.635Z"
   },
   {
    "duration": 1521,
    "start_time": "2023-10-27T06:53:51.750Z"
   },
   {
    "duration": 74311,
    "start_time": "2023-10-27T06:59:48.141Z"
   },
   {
    "duration": 1554,
    "start_time": "2023-10-27T07:27:45.065Z"
   },
   {
    "duration": 174162,
    "start_time": "2023-10-27T07:27:49.785Z"
   },
   {
    "duration": 2934,
    "start_time": "2023-10-27T07:47:07.874Z"
   },
   {
    "duration": 126,
    "start_time": "2023-10-27T07:47:38.222Z"
   },
   {
    "duration": 5,
    "start_time": "2023-10-27T08:11:20.487Z"
   },
   {
    "duration": 5,
    "start_time": "2023-10-27T08:16:31.426Z"
   },
   {
    "duration": 1582,
    "start_time": "2023-10-27T08:16:36.138Z"
   },
   {
    "duration": 5011,
    "start_time": "2023-10-27T08:16:41.409Z"
   },
   {
    "duration": 1595,
    "start_time": "2023-10-27T08:17:30.712Z"
   },
   {
    "duration": 3912,
    "start_time": "2023-10-27T08:17:45.304Z"
   },
   {
    "duration": 1843,
    "start_time": "2023-10-27T08:34:24.373Z"
   },
   {
    "duration": 5380,
    "start_time": "2023-10-27T08:34:30.537Z"
   },
   {
    "duration": 4,
    "start_time": "2023-10-27T08:34:59.628Z"
   },
   {
    "duration": 3,
    "start_time": "2023-10-27T08:35:28.976Z"
   },
   {
    "duration": 311603,
    "start_time": "2023-10-27T08:36:58.329Z"
   },
   {
    "duration": 0,
    "start_time": "2023-10-27T08:42:09.934Z"
   },
   {
    "duration": 0,
    "start_time": "2023-10-27T08:42:09.935Z"
   },
   {
    "duration": 3,
    "start_time": "2023-10-27T08:43:23.671Z"
   },
   {
    "duration": 926,
    "start_time": "2023-10-27T08:43:23.676Z"
   },
   {
    "duration": 3,
    "start_time": "2023-10-27T08:43:24.604Z"
   },
   {
    "duration": 84,
    "start_time": "2023-10-27T08:43:24.609Z"
   },
   {
    "duration": 64,
    "start_time": "2023-10-27T08:43:24.695Z"
   },
   {
    "duration": 99,
    "start_time": "2023-10-27T08:43:24.761Z"
   },
   {
    "duration": 97,
    "start_time": "2023-10-27T08:43:24.861Z"
   },
   {
    "duration": 46,
    "start_time": "2023-10-27T08:43:24.959Z"
   },
   {
    "duration": 52,
    "start_time": "2023-10-27T08:43:25.006Z"
   },
   {
    "duration": 41,
    "start_time": "2023-10-27T08:43:25.060Z"
   },
   {
    "duration": 33,
    "start_time": "2023-10-27T08:43:25.103Z"
   },
   {
    "duration": 52,
    "start_time": "2023-10-27T08:43:25.138Z"
   },
   {
    "duration": 180,
    "start_time": "2023-10-27T08:43:25.192Z"
   },
   {
    "duration": 6,
    "start_time": "2023-10-27T08:43:25.377Z"
   },
   {
    "duration": 8,
    "start_time": "2023-10-27T08:43:25.385Z"
   },
   {
    "duration": 33,
    "start_time": "2023-10-27T08:43:25.395Z"
   },
   {
    "duration": 13,
    "start_time": "2023-10-27T08:43:25.429Z"
   },
   {
    "duration": 18,
    "start_time": "2023-10-27T08:43:25.444Z"
   },
   {
    "duration": 14,
    "start_time": "2023-10-27T08:43:25.464Z"
   },
   {
    "duration": 9,
    "start_time": "2023-10-27T08:43:25.480Z"
   },
   {
    "duration": 65,
    "start_time": "2023-10-27T08:43:25.491Z"
   },
   {
    "duration": 103,
    "start_time": "2023-10-27T08:43:25.558Z"
   },
   {
    "duration": 198,
    "start_time": "2023-10-27T08:43:25.662Z"
   },
   {
    "duration": 9,
    "start_time": "2023-10-27T08:43:25.861Z"
   },
   {
    "duration": 58,
    "start_time": "2023-10-27T08:43:25.872Z"
   },
   {
    "duration": 23,
    "start_time": "2023-10-27T08:43:25.932Z"
   },
   {
    "duration": 4,
    "start_time": "2023-10-27T08:43:25.957Z"
   },
   {
    "duration": 24,
    "start_time": "2023-10-27T08:43:25.963Z"
   },
   {
    "duration": 12,
    "start_time": "2023-10-27T08:43:25.989Z"
   },
   {
    "duration": 24,
    "start_time": "2023-10-27T08:43:26.002Z"
   },
   {
    "duration": 12,
    "start_time": "2023-10-27T08:43:26.027Z"
   },
   {
    "duration": 228,
    "start_time": "2023-10-27T08:43:26.041Z"
   },
   {
    "duration": 90,
    "start_time": "2023-10-27T08:43:26.272Z"
   },
   {
    "duration": 24,
    "start_time": "2023-10-27T08:43:26.364Z"
   },
   {
    "duration": 177,
    "start_time": "2023-10-27T08:43:26.390Z"
   },
   {
    "duration": 10,
    "start_time": "2023-10-27T08:43:26.568Z"
   },
   {
    "duration": 20,
    "start_time": "2023-10-27T08:43:26.580Z"
   },
   {
    "duration": 22,
    "start_time": "2023-10-27T08:43:26.606Z"
   },
   {
    "duration": 41,
    "start_time": "2023-10-27T08:43:26.630Z"
   },
   {
    "duration": 1068,
    "start_time": "2023-10-27T08:43:26.673Z"
   },
   {
    "duration": 1426,
    "start_time": "2023-10-27T08:43:27.745Z"
   },
   {
    "duration": 265,
    "start_time": "2023-10-27T08:43:29.173Z"
   },
   {
    "duration": 380,
    "start_time": "2023-10-27T08:43:29.440Z"
   },
   {
    "duration": 206,
    "start_time": "2023-10-27T08:43:29.821Z"
   },
   {
    "duration": 4,
    "start_time": "2023-10-27T08:43:30.028Z"
   },
   {
    "duration": 115,
    "start_time": "2023-10-27T08:43:30.034Z"
   },
   {
    "duration": 126,
    "start_time": "2023-10-27T08:43:30.151Z"
   },
   {
    "duration": 80,
    "start_time": "2023-10-27T08:43:30.278Z"
   },
   {
    "duration": 74,
    "start_time": "2023-10-27T08:43:30.360Z"
   },
   {
    "duration": 5,
    "start_time": "2023-10-27T08:43:30.436Z"
   },
   {
    "duration": 85,
    "start_time": "2023-10-27T08:43:30.443Z"
   },
   {
    "duration": 60,
    "start_time": "2023-10-27T08:43:30.529Z"
   },
   {
    "duration": 1935,
    "start_time": "2023-10-27T08:43:30.591Z"
   },
   {
    "duration": 5699,
    "start_time": "2023-10-27T08:43:32.528Z"
   },
   {
    "duration": 84,
    "start_time": "2023-10-27T08:43:38.229Z"
   },
   {
    "duration": 178429,
    "start_time": "2023-10-27T08:43:38.315Z"
   },
   {
    "duration": 452522,
    "start_time": "2023-10-27T08:48:15.518Z"
   },
   {
    "duration": 12,
    "start_time": "2023-10-27T09:03:53.286Z"
   },
   {
    "duration": 176640,
    "start_time": "2023-10-27T09:05:08.061Z"
   },
   {
    "duration": 17,
    "start_time": "2023-10-27T09:12:10.171Z"
   },
   {
    "duration": 1798,
    "start_time": "2023-10-27T09:12:21.331Z"
   },
   {
    "duration": 179687,
    "start_time": "2023-10-27T09:12:56.335Z"
   },
   {
    "duration": 12,
    "start_time": "2023-10-27T09:17:27.682Z"
   },
   {
    "duration": 9536,
    "start_time": "2023-10-27T09:17:34.887Z"
   },
   {
    "duration": 449314,
    "start_time": "2023-10-27T09:20:36.911Z"
   },
   {
    "duration": 4,
    "start_time": "2023-10-27T09:30:31.970Z"
   },
   {
    "duration": 150856,
    "start_time": "2023-10-27T09:38:08.842Z"
   },
   {
    "duration": 379301,
    "start_time": "2023-10-27T10:09:49.385Z"
   },
   {
    "duration": 3,
    "start_time": "2023-10-27T10:18:52.944Z"
   },
   {
    "duration": 786,
    "start_time": "2023-10-27T10:21:09.249Z"
   },
   {
    "duration": 805,
    "start_time": "2023-10-27T10:21:57.956Z"
   },
   {
    "duration": 18,
    "start_time": "2023-10-27T10:23:02.320Z"
   },
   {
    "duration": 38,
    "start_time": "2023-10-27T10:26:27.770Z"
   },
   {
    "duration": 7,
    "start_time": "2023-10-27T10:27:23.115Z"
   },
   {
    "duration": 22,
    "start_time": "2023-10-27T10:27:34.879Z"
   },
   {
    "duration": 4,
    "start_time": "2023-10-27T10:28:36.562Z"
   },
   {
    "duration": 9,
    "start_time": "2023-10-27T10:28:49.478Z"
   },
   {
    "duration": 11,
    "start_time": "2023-10-27T10:29:00.639Z"
   },
   {
    "duration": 7,
    "start_time": "2023-10-27T10:29:45.303Z"
   },
   {
    "duration": 6,
    "start_time": "2023-10-27T10:29:48.061Z"
   },
   {
    "duration": 2225,
    "start_time": "2023-10-27T10:29:57.806Z"
   },
   {
    "duration": 4,
    "start_time": "2023-10-27T10:31:28.697Z"
   },
   {
    "duration": 37,
    "start_time": "2023-10-27T10:51:55.299Z"
   },
   {
    "duration": 5,
    "start_time": "2023-10-27T10:51:56.836Z"
   },
   {
    "duration": 4,
    "start_time": "2023-10-27T10:55:45.758Z"
   },
   {
    "duration": 248,
    "start_time": "2023-10-27T10:57:21.886Z"
   },
   {
    "duration": 230,
    "start_time": "2023-10-27T10:58:03.709Z"
   },
   {
    "duration": 14,
    "start_time": "2023-10-27T10:58:40.517Z"
   },
   {
    "duration": 5,
    "start_time": "2023-10-27T10:58:56.791Z"
   },
   {
    "duration": 6,
    "start_time": "2023-10-27T11:09:35.431Z"
   },
   {
    "duration": 15,
    "start_time": "2023-10-27T11:23:07.843Z"
   },
   {
    "duration": 9,
    "start_time": "2023-10-27T11:23:20.755Z"
   },
   {
    "duration": 9,
    "start_time": "2023-10-27T11:23:50.062Z"
   },
   {
    "duration": 106,
    "start_time": "2023-10-27T11:23:57.709Z"
   },
   {
    "duration": 120,
    "start_time": "2023-10-27T11:25:08.045Z"
   },
   {
    "duration": 11,
    "start_time": "2023-10-27T12:17:47.045Z"
   },
   {
    "duration": 4,
    "start_time": "2023-10-27T12:31:35.974Z"
   },
   {
    "duration": 6,
    "start_time": "2023-10-27T12:31:37.221Z"
   },
   {
    "duration": 1417,
    "start_time": "2023-10-27T12:32:38.595Z"
   },
   {
    "duration": 848,
    "start_time": "2023-10-27T12:32:40.014Z"
   },
   {
    "duration": 4,
    "start_time": "2023-10-27T12:32:40.863Z"
   },
   {
    "duration": 32,
    "start_time": "2023-10-27T12:32:40.868Z"
   },
   {
    "duration": 18,
    "start_time": "2023-10-27T12:32:40.902Z"
   },
   {
    "duration": 18,
    "start_time": "2023-10-27T12:32:40.922Z"
   },
   {
    "duration": 18,
    "start_time": "2023-10-27T12:32:40.941Z"
   },
   {
    "duration": 13,
    "start_time": "2023-10-27T12:32:40.961Z"
   },
   {
    "duration": 42,
    "start_time": "2023-10-27T12:32:40.976Z"
   },
   {
    "duration": 2,
    "start_time": "2023-10-27T12:32:41.020Z"
   },
   {
    "duration": 14,
    "start_time": "2023-10-27T12:32:41.024Z"
   },
   {
    "duration": 5,
    "start_time": "2023-10-27T12:33:49.115Z"
   },
   {
    "duration": 6,
    "start_time": "2023-10-27T12:33:56.092Z"
   },
   {
    "duration": 1482,
    "start_time": "2023-10-27T12:40:36.215Z"
   },
   {
    "duration": 822,
    "start_time": "2023-10-27T12:40:37.699Z"
   },
   {
    "duration": 4,
    "start_time": "2023-10-27T12:40:38.522Z"
   },
   {
    "duration": 37,
    "start_time": "2023-10-27T12:40:38.528Z"
   },
   {
    "duration": 25,
    "start_time": "2023-10-27T12:40:38.567Z"
   },
   {
    "duration": 23,
    "start_time": "2023-10-27T12:40:38.594Z"
   },
   {
    "duration": 21,
    "start_time": "2023-10-27T12:40:38.618Z"
   },
   {
    "duration": 12,
    "start_time": "2023-10-27T12:40:38.641Z"
   },
   {
    "duration": 15,
    "start_time": "2023-10-27T12:40:38.655Z"
   },
   {
    "duration": 46,
    "start_time": "2023-10-27T12:40:38.673Z"
   },
   {
    "duration": 11,
    "start_time": "2023-10-27T12:40:38.720Z"
   },
   {
    "duration": 15,
    "start_time": "2023-10-27T12:40:38.732Z"
   },
   {
    "duration": 169,
    "start_time": "2023-10-27T12:40:38.749Z"
   },
   {
    "duration": 7,
    "start_time": "2023-10-27T12:40:38.920Z"
   },
   {
    "duration": 9,
    "start_time": "2023-10-27T12:40:38.929Z"
   },
   {
    "duration": 25,
    "start_time": "2023-10-27T12:40:38.940Z"
   },
   {
    "duration": 36,
    "start_time": "2023-10-27T12:40:38.967Z"
   },
   {
    "duration": 20,
    "start_time": "2023-10-27T12:40:39.005Z"
   },
   {
    "duration": 5,
    "start_time": "2023-10-27T12:40:39.026Z"
   },
   {
    "duration": 22,
    "start_time": "2023-10-27T12:40:39.033Z"
   },
   {
    "duration": 54,
    "start_time": "2023-10-27T12:40:39.057Z"
   },
   {
    "duration": 108,
    "start_time": "2023-10-27T12:40:39.113Z"
   },
   {
    "duration": 215,
    "start_time": "2023-10-27T12:40:39.223Z"
   },
   {
    "duration": 9,
    "start_time": "2023-10-27T12:40:39.439Z"
   },
   {
    "duration": 35,
    "start_time": "2023-10-27T12:40:39.449Z"
   },
   {
    "duration": 23,
    "start_time": "2023-10-27T12:40:39.485Z"
   },
   {
    "duration": 12,
    "start_time": "2023-10-27T12:40:39.510Z"
   },
   {
    "duration": 19,
    "start_time": "2023-10-27T12:40:39.525Z"
   },
   {
    "duration": 15,
    "start_time": "2023-10-27T12:40:39.545Z"
   },
   {
    "duration": 28,
    "start_time": "2023-10-27T12:40:39.561Z"
   },
   {
    "duration": 9,
    "start_time": "2023-10-27T12:40:39.591Z"
   },
   {
    "duration": 210,
    "start_time": "2023-10-27T12:40:39.601Z"
   },
   {
    "duration": 2,
    "start_time": "2023-10-27T12:40:39.813Z"
   },
   {
    "duration": 32,
    "start_time": "2023-10-27T12:40:39.816Z"
   },
   {
    "duration": 68,
    "start_time": "2023-10-27T12:40:39.849Z"
   },
   {
    "duration": 41,
    "start_time": "2023-10-27T12:40:39.918Z"
   },
   {
    "duration": 9,
    "start_time": "2023-10-27T12:50:30.488Z"
   },
   {
    "duration": 170,
    "start_time": "2023-10-27T13:09:16.728Z"
   },
   {
    "duration": 1485,
    "start_time": "2023-10-27T13:09:34.336Z"
   },
   {
    "duration": 924,
    "start_time": "2023-10-27T13:09:35.824Z"
   },
   {
    "duration": 4,
    "start_time": "2023-10-27T13:09:36.749Z"
   },
   {
    "duration": 30,
    "start_time": "2023-10-27T13:09:36.754Z"
   },
   {
    "duration": 26,
    "start_time": "2023-10-27T13:09:36.786Z"
   },
   {
    "duration": 26,
    "start_time": "2023-10-27T13:09:36.814Z"
   },
   {
    "duration": 26,
    "start_time": "2023-10-27T13:09:36.842Z"
   },
   {
    "duration": 15,
    "start_time": "2023-10-27T13:09:36.870Z"
   },
   {
    "duration": 39,
    "start_time": "2023-10-27T13:09:36.886Z"
   },
   {
    "duration": 27,
    "start_time": "2023-10-27T13:09:36.927Z"
   },
   {
    "duration": 10,
    "start_time": "2023-10-27T13:09:36.955Z"
   },
   {
    "duration": 26,
    "start_time": "2023-10-27T13:09:36.966Z"
   },
   {
    "duration": 182,
    "start_time": "2023-10-27T13:09:37.009Z"
   },
   {
    "duration": 18,
    "start_time": "2023-10-27T13:09:37.195Z"
   },
   {
    "duration": 8,
    "start_time": "2023-10-27T13:09:37.215Z"
   },
   {
    "duration": 27,
    "start_time": "2023-10-27T13:09:37.225Z"
   },
   {
    "duration": 21,
    "start_time": "2023-10-27T13:09:37.254Z"
   },
   {
    "duration": 15,
    "start_time": "2023-10-27T13:09:37.277Z"
   },
   {
    "duration": 10,
    "start_time": "2023-10-27T13:09:37.294Z"
   },
   {
    "duration": 18,
    "start_time": "2023-10-27T13:09:37.306Z"
   },
   {
    "duration": 41,
    "start_time": "2023-10-27T13:09:37.326Z"
   },
   {
    "duration": 130,
    "start_time": "2023-10-27T13:09:37.369Z"
   },
   {
    "duration": 231,
    "start_time": "2023-10-27T13:09:37.501Z"
   },
   {
    "duration": 8,
    "start_time": "2023-10-27T13:09:37.734Z"
   },
   {
    "duration": 14,
    "start_time": "2023-10-27T13:09:37.743Z"
   },
   {
    "duration": 8,
    "start_time": "2023-10-27T13:09:37.759Z"
   },
   {
    "duration": 4,
    "start_time": "2023-10-27T13:09:37.769Z"
   },
   {
    "duration": 44,
    "start_time": "2023-10-27T13:09:37.774Z"
   },
   {
    "duration": 8,
    "start_time": "2023-10-27T13:09:37.820Z"
   },
   {
    "duration": 12,
    "start_time": "2023-10-27T13:09:37.830Z"
   },
   {
    "duration": 38,
    "start_time": "2023-10-27T13:09:37.843Z"
   },
   {
    "duration": 13,
    "start_time": "2023-10-27T13:09:37.882Z"
   },
   {
    "duration": 187,
    "start_time": "2023-10-27T13:09:37.897Z"
   },
   {
    "duration": 79,
    "start_time": "2023-10-27T13:09:38.086Z"
   },
   {
    "duration": 20,
    "start_time": "2023-10-27T13:09:38.167Z"
   },
   {
    "duration": 151,
    "start_time": "2023-10-27T13:09:38.189Z"
   },
   {
    "duration": 8,
    "start_time": "2023-10-27T13:09:38.342Z"
   },
   {
    "duration": 10,
    "start_time": "2023-10-27T13:09:38.352Z"
   },
   {
    "duration": 11,
    "start_time": "2023-10-27T13:09:38.364Z"
   },
   {
    "duration": 27,
    "start_time": "2023-10-27T13:09:38.377Z"
   },
   {
    "duration": 1178,
    "start_time": "2023-10-27T13:09:38.409Z"
   },
   {
    "duration": 1370,
    "start_time": "2023-10-27T13:09:39.589Z"
   },
   {
    "duration": 239,
    "start_time": "2023-10-27T13:09:40.961Z"
   },
   {
    "duration": 221,
    "start_time": "2023-10-27T13:09:41.208Z"
   },
   {
    "duration": 0,
    "start_time": "2023-10-27T13:09:41.431Z"
   },
   {
    "duration": 0,
    "start_time": "2023-10-27T13:09:41.433Z"
   },
   {
    "duration": 0,
    "start_time": "2023-10-27T13:09:41.435Z"
   },
   {
    "duration": 0,
    "start_time": "2023-10-27T13:09:41.436Z"
   },
   {
    "duration": 0,
    "start_time": "2023-10-27T13:09:41.438Z"
   },
   {
    "duration": 0,
    "start_time": "2023-10-27T13:09:41.439Z"
   },
   {
    "duration": 0,
    "start_time": "2023-10-27T13:09:41.441Z"
   },
   {
    "duration": 0,
    "start_time": "2023-10-27T13:09:41.442Z"
   },
   {
    "duration": 0,
    "start_time": "2023-10-27T13:09:41.444Z"
   },
   {
    "duration": 0,
    "start_time": "2023-10-27T13:09:41.445Z"
   },
   {
    "duration": 0,
    "start_time": "2023-10-27T13:09:41.447Z"
   },
   {
    "duration": 0,
    "start_time": "2023-10-27T13:09:41.448Z"
   },
   {
    "duration": 0,
    "start_time": "2023-10-27T13:09:41.450Z"
   },
   {
    "duration": 0,
    "start_time": "2023-10-27T13:09:41.451Z"
   },
   {
    "duration": 0,
    "start_time": "2023-10-27T13:09:41.452Z"
   },
   {
    "duration": 0,
    "start_time": "2023-10-27T13:09:41.454Z"
   },
   {
    "duration": 0,
    "start_time": "2023-10-27T13:09:41.455Z"
   },
   {
    "duration": 0,
    "start_time": "2023-10-27T13:09:41.456Z"
   },
   {
    "duration": 0,
    "start_time": "2023-10-27T13:09:41.458Z"
   },
   {
    "duration": 0,
    "start_time": "2023-10-27T13:09:41.509Z"
   },
   {
    "duration": 0,
    "start_time": "2023-10-27T13:09:41.510Z"
   },
   {
    "duration": 0,
    "start_time": "2023-10-27T13:09:41.511Z"
   },
   {
    "duration": 0,
    "start_time": "2023-10-27T13:09:41.512Z"
   },
   {
    "duration": 4,
    "start_time": "2023-10-27T13:09:53.681Z"
   },
   {
    "duration": 956,
    "start_time": "2023-10-27T13:09:53.686Z"
   },
   {
    "duration": 4,
    "start_time": "2023-10-27T13:09:54.643Z"
   },
   {
    "duration": 77,
    "start_time": "2023-10-27T13:09:54.648Z"
   },
   {
    "duration": 38,
    "start_time": "2023-10-27T13:09:54.727Z"
   },
   {
    "duration": 136,
    "start_time": "2023-10-27T13:09:54.766Z"
   },
   {
    "duration": 67,
    "start_time": "2023-10-27T13:09:54.904Z"
   },
   {
    "duration": 64,
    "start_time": "2023-10-27T13:09:54.972Z"
   },
   {
    "duration": 43,
    "start_time": "2023-10-27T13:09:55.039Z"
   },
   {
    "duration": 45,
    "start_time": "2023-10-27T13:09:55.084Z"
   },
   {
    "duration": 39,
    "start_time": "2023-10-27T13:09:55.131Z"
   },
   {
    "duration": 20,
    "start_time": "2023-10-27T13:09:55.172Z"
   },
   {
    "duration": 231,
    "start_time": "2023-10-27T13:09:55.193Z"
   },
   {
    "duration": 6,
    "start_time": "2023-10-27T13:09:55.426Z"
   },
   {
    "duration": 6,
    "start_time": "2023-10-27T13:09:55.433Z"
   },
   {
    "duration": 25,
    "start_time": "2023-10-27T13:09:55.440Z"
   },
   {
    "duration": 24,
    "start_time": "2023-10-27T13:09:55.467Z"
   },
   {
    "duration": 43,
    "start_time": "2023-10-27T13:09:55.492Z"
   },
   {
    "duration": 34,
    "start_time": "2023-10-27T13:09:55.536Z"
   },
   {
    "duration": 15,
    "start_time": "2023-10-27T13:09:55.572Z"
   },
   {
    "duration": 62,
    "start_time": "2023-10-27T13:09:55.589Z"
   },
   {
    "duration": 111,
    "start_time": "2023-10-27T13:09:55.654Z"
   },
   {
    "duration": 274,
    "start_time": "2023-10-27T13:09:55.767Z"
   },
   {
    "duration": 11,
    "start_time": "2023-10-27T13:09:56.046Z"
   },
   {
    "duration": 27,
    "start_time": "2023-10-27T13:09:56.059Z"
   },
   {
    "duration": 32,
    "start_time": "2023-10-27T13:09:56.088Z"
   },
   {
    "duration": 4,
    "start_time": "2023-10-27T13:09:56.126Z"
   },
   {
    "duration": 10,
    "start_time": "2023-10-27T13:09:56.132Z"
   },
   {
    "duration": 10,
    "start_time": "2023-10-27T13:09:56.143Z"
   },
   {
    "duration": 10,
    "start_time": "2023-10-27T13:09:56.154Z"
   },
   {
    "duration": 23,
    "start_time": "2023-10-27T13:09:56.166Z"
   },
   {
    "duration": 31,
    "start_time": "2023-10-27T13:09:56.192Z"
   },
   {
    "duration": 171,
    "start_time": "2023-10-27T13:09:56.225Z"
   },
   {
    "duration": 78,
    "start_time": "2023-10-27T13:09:56.398Z"
   },
   {
    "duration": 20,
    "start_time": "2023-10-27T13:09:56.478Z"
   },
   {
    "duration": 146,
    "start_time": "2023-10-27T13:09:56.500Z"
   },
   {
    "duration": 11,
    "start_time": "2023-10-27T13:09:56.647Z"
   },
   {
    "duration": 31,
    "start_time": "2023-10-27T13:09:56.659Z"
   },
   {
    "duration": 46,
    "start_time": "2023-10-27T13:09:56.691Z"
   },
   {
    "duration": 24,
    "start_time": "2023-10-27T13:09:56.738Z"
   },
   {
    "duration": 1157,
    "start_time": "2023-10-27T13:09:56.763Z"
   },
   {
    "duration": 1432,
    "start_time": "2023-10-27T13:09:57.923Z"
   },
   {
    "duration": 263,
    "start_time": "2023-10-27T13:09:59.357Z"
   },
   {
    "duration": 107,
    "start_time": "2023-10-27T13:09:59.622Z"
   },
   {
    "duration": 0,
    "start_time": "2023-10-27T13:09:59.731Z"
   },
   {
    "duration": 0,
    "start_time": "2023-10-27T13:09:59.732Z"
   },
   {
    "duration": 0,
    "start_time": "2023-10-27T13:09:59.733Z"
   },
   {
    "duration": 0,
    "start_time": "2023-10-27T13:09:59.734Z"
   },
   {
    "duration": 0,
    "start_time": "2023-10-27T13:09:59.735Z"
   },
   {
    "duration": 0,
    "start_time": "2023-10-27T13:09:59.736Z"
   },
   {
    "duration": 0,
    "start_time": "2023-10-27T13:09:59.738Z"
   },
   {
    "duration": 0,
    "start_time": "2023-10-27T13:09:59.739Z"
   },
   {
    "duration": 0,
    "start_time": "2023-10-27T13:09:59.740Z"
   },
   {
    "duration": 0,
    "start_time": "2023-10-27T13:09:59.741Z"
   },
   {
    "duration": 0,
    "start_time": "2023-10-27T13:09:59.742Z"
   },
   {
    "duration": 0,
    "start_time": "2023-10-27T13:09:59.743Z"
   },
   {
    "duration": 0,
    "start_time": "2023-10-27T13:09:59.743Z"
   },
   {
    "duration": 0,
    "start_time": "2023-10-27T13:09:59.744Z"
   },
   {
    "duration": 0,
    "start_time": "2023-10-27T13:09:59.745Z"
   },
   {
    "duration": 0,
    "start_time": "2023-10-27T13:09:59.746Z"
   },
   {
    "duration": 0,
    "start_time": "2023-10-27T13:09:59.747Z"
   },
   {
    "duration": 0,
    "start_time": "2023-10-27T13:09:59.748Z"
   },
   {
    "duration": 0,
    "start_time": "2023-10-27T13:09:59.749Z"
   },
   {
    "duration": 0,
    "start_time": "2023-10-27T13:09:59.749Z"
   },
   {
    "duration": 0,
    "start_time": "2023-10-27T13:09:59.751Z"
   },
   {
    "duration": 0,
    "start_time": "2023-10-27T13:09:59.752Z"
   },
   {
    "duration": 0,
    "start_time": "2023-10-27T13:09:59.752Z"
   },
   {
    "duration": 125,
    "start_time": "2023-10-27T13:12:16.458Z"
   },
   {
    "duration": 384,
    "start_time": "2023-10-27T13:13:23.640Z"
   },
   {
    "duration": 126,
    "start_time": "2023-10-27T13:13:29.095Z"
   },
   {
    "duration": 5,
    "start_time": "2023-10-27T13:13:39.862Z"
   },
   {
    "duration": 194,
    "start_time": "2023-10-27T13:13:44.130Z"
   },
   {
    "duration": 4,
    "start_time": "2023-10-27T13:14:42.558Z"
   },
   {
    "duration": 4,
    "start_time": "2023-10-27T13:14:45.288Z"
   },
   {
    "duration": 23,
    "start_time": "2023-10-27T13:14:46.327Z"
   },
   {
    "duration": 5,
    "start_time": "2023-10-27T13:14:46.945Z"
   },
   {
    "duration": 35,
    "start_time": "2023-10-27T13:14:47.753Z"
   },
   {
    "duration": 14,
    "start_time": "2023-10-27T13:14:48.304Z"
   },
   {
    "duration": 20,
    "start_time": "2023-10-27T13:14:49.774Z"
   },
   {
    "duration": 5,
    "start_time": "2023-10-27T13:14:50.878Z"
   },
   {
    "duration": 34,
    "start_time": "2023-10-27T13:14:51.435Z"
   },
   {
    "duration": 13,
    "start_time": "2023-10-27T13:14:52.406Z"
   },
   {
    "duration": 2010,
    "start_time": "2023-10-27T13:14:58.502Z"
   },
   {
    "duration": 2975,
    "start_time": "2023-10-27T13:15:03.043Z"
   },
   {
    "duration": 5,
    "start_time": "2023-10-27T13:15:10.813Z"
   },
   {
    "duration": 587,
    "start_time": "2023-10-27T13:15:15.661Z"
   },
   {
    "duration": 150405,
    "start_time": "2023-10-27T13:15:52.933Z"
   },
   {
    "duration": 363280,
    "start_time": "2023-10-27T13:22:10.899Z"
   },
   {
    "duration": 4,
    "start_time": "2023-10-27T13:30:05.174Z"
   },
   {
    "duration": 810,
    "start_time": "2023-10-27T13:30:07.657Z"
   },
   {
    "duration": 2265,
    "start_time": "2023-10-27T13:30:10.296Z"
   },
   {
    "duration": 4,
    "start_time": "2023-10-27T13:30:24.680Z"
   },
   {
    "duration": 2238,
    "start_time": "2023-10-28T11:16:16.607Z"
   },
   {
    "duration": 2151,
    "start_time": "2023-10-28T11:17:31.754Z"
   },
   {
    "duration": 5,
    "start_time": "2023-10-28T11:17:36.281Z"
   },
   {
    "duration": 36,
    "start_time": "2023-10-28T11:17:36.937Z"
   },
   {
    "duration": 21,
    "start_time": "2023-10-28T11:17:37.519Z"
   },
   {
    "duration": 25,
    "start_time": "2023-10-28T11:17:38.403Z"
   },
   {
    "duration": 28,
    "start_time": "2023-10-28T11:17:43.545Z"
   },
   {
    "duration": 20,
    "start_time": "2023-10-28T11:17:43.575Z"
   },
   {
    "duration": 40,
    "start_time": "2023-10-28T11:17:43.597Z"
   },
   {
    "duration": 34,
    "start_time": "2023-10-28T11:17:46.177Z"
   },
   {
    "duration": 12,
    "start_time": "2023-10-28T11:17:52.207Z"
   },
   {
    "duration": 4,
    "start_time": "2023-10-28T11:17:53.086Z"
   },
   {
    "duration": 164,
    "start_time": "2023-10-28T11:17:59.185Z"
   },
   {
    "duration": 4,
    "start_time": "2023-10-28T11:19:05.547Z"
   },
   {
    "duration": 11,
    "start_time": "2023-10-28T11:19:15.475Z"
   },
   {
    "duration": 3,
    "start_time": "2023-10-28T11:19:33.913Z"
   },
   {
    "duration": 23,
    "start_time": "2023-10-28T11:19:35.070Z"
   },
   {
    "duration": 15,
    "start_time": "2023-10-28T11:20:33.879Z"
   },
   {
    "duration": 5,
    "start_time": "2023-10-28T11:20:38.879Z"
   },
   {
    "duration": 8,
    "start_time": "2023-10-28T11:20:45.246Z"
   },
   {
    "duration": 43,
    "start_time": "2023-10-28T11:20:45.924Z"
   },
   {
    "duration": 102,
    "start_time": "2023-10-28T11:20:59.122Z"
   },
   {
    "duration": 223,
    "start_time": "2023-10-28T11:21:00.864Z"
   },
   {
    "duration": 10,
    "start_time": "2023-10-28T11:21:05.585Z"
   },
   {
    "duration": 13,
    "start_time": "2023-10-28T11:21:22.751Z"
   },
   {
    "duration": 4,
    "start_time": "2023-10-28T11:22:05.831Z"
   },
   {
    "duration": 11,
    "start_time": "2023-10-28T11:23:58.012Z"
   },
   {
    "duration": 5,
    "start_time": "2023-10-28T11:23:59.479Z"
   },
   {
    "duration": 8,
    "start_time": "2023-10-28T11:23:59.651Z"
   },
   {
    "duration": 8,
    "start_time": "2023-10-28T11:24:00.118Z"
   },
   {
    "duration": 7,
    "start_time": "2023-10-28T11:24:00.675Z"
   },
   {
    "duration": 16,
    "start_time": "2023-10-28T11:24:01.181Z"
   },
   {
    "duration": 9,
    "start_time": "2023-10-28T11:24:01.694Z"
   },
   {
    "duration": 184,
    "start_time": "2023-10-28T11:24:03.134Z"
   },
   {
    "duration": 66,
    "start_time": "2023-10-28T11:24:04.391Z"
   },
   {
    "duration": 21,
    "start_time": "2023-10-28T11:24:04.557Z"
   },
   {
    "duration": 126,
    "start_time": "2023-10-28T11:24:04.758Z"
   },
   {
    "duration": 11,
    "start_time": "2023-10-28T11:24:31.986Z"
   },
   {
    "duration": 8,
    "start_time": "2023-10-28T11:24:32.439Z"
   },
   {
    "duration": 10,
    "start_time": "2023-10-28T11:24:32.910Z"
   },
   {
    "duration": 122,
    "start_time": "2023-10-28T11:25:01.320Z"
   },
   {
    "duration": 14,
    "start_time": "2023-10-28T11:25:03.939Z"
   },
   {
    "duration": 1108,
    "start_time": "2023-10-28T11:25:04.463Z"
   },
   {
    "duration": 1339,
    "start_time": "2023-10-28T11:27:31.456Z"
   },
   {
    "duration": 245,
    "start_time": "2023-10-28T11:27:32.797Z"
   },
   {
    "duration": 303,
    "start_time": "2023-10-28T11:27:33.529Z"
   },
   {
    "duration": 5,
    "start_time": "2023-10-28T11:35:02.596Z"
   },
   {
    "duration": 6,
    "start_time": "2023-10-28T11:35:06.016Z"
   },
   {
    "duration": 31,
    "start_time": "2023-10-28T11:35:06.708Z"
   },
   {
    "duration": 7,
    "start_time": "2023-10-28T11:35:10.846Z"
   },
   {
    "duration": 36,
    "start_time": "2023-10-28T11:35:11.682Z"
   },
   {
    "duration": 6,
    "start_time": "2023-10-28T11:35:12.276Z"
   },
   {
    "duration": 23,
    "start_time": "2023-10-28T11:35:18.436Z"
   },
   {
    "duration": 7,
    "start_time": "2023-10-28T11:35:54.946Z"
   },
   {
    "duration": 35,
    "start_time": "2023-10-28T11:36:02.807Z"
   },
   {
    "duration": 47,
    "start_time": "2023-10-28T11:36:27.577Z"
   },
   {
    "duration": 14,
    "start_time": "2023-10-28T11:37:04.709Z"
   },
   {
    "duration": 10,
    "start_time": "2023-10-28T11:37:13.372Z"
   },
   {
    "duration": 10,
    "start_time": "2023-10-28T11:37:20.409Z"
   },
   {
    "duration": 12,
    "start_time": "2023-10-28T11:37:30.060Z"
   },
   {
    "duration": 12,
    "start_time": "2023-10-28T11:37:38.147Z"
   },
   {
    "duration": 5,
    "start_time": "2023-10-28T11:38:03.330Z"
   },
   {
    "duration": 4,
    "start_time": "2023-10-28T11:40:48.700Z"
   },
   {
    "duration": 2040,
    "start_time": "2023-10-28T11:40:52.771Z"
   },
   {
    "duration": 24,
    "start_time": "2023-10-28T11:41:08.362Z"
   },
   {
    "duration": 6,
    "start_time": "2023-10-28T11:41:11.886Z"
   },
   {
    "duration": 2767,
    "start_time": "2023-10-28T11:41:43.562Z"
   },
   {
    "duration": 8,
    "start_time": "2023-10-28T11:42:54.382Z"
   },
   {
    "duration": 4,
    "start_time": "2023-10-28T20:49:11.711Z"
   },
   {
    "duration": 2,
    "start_time": "2023-10-28T20:49:48.405Z"
   },
   {
    "duration": 2,
    "start_time": "2023-10-28T20:49:59.385Z"
   },
   {
    "duration": 2,
    "start_time": "2023-10-28T20:50:11.269Z"
   },
   {
    "duration": 2,
    "start_time": "2023-10-28T20:50:14.278Z"
   },
   {
    "duration": 2,
    "start_time": "2023-10-28T20:50:22.397Z"
   },
   {
    "duration": 2,
    "start_time": "2023-10-28T20:50:25.521Z"
   },
   {
    "duration": 42,
    "start_time": "2023-10-28T20:53:24.246Z"
   },
   {
    "duration": 1585,
    "start_time": "2023-10-28T20:53:39.239Z"
   },
   {
    "duration": 1973,
    "start_time": "2023-10-28T20:53:40.825Z"
   },
   {
    "duration": 3,
    "start_time": "2023-10-28T20:53:42.799Z"
   },
   {
    "duration": 20,
    "start_time": "2023-10-28T20:53:42.804Z"
   },
   {
    "duration": 14,
    "start_time": "2023-10-28T20:53:42.825Z"
   },
   {
    "duration": 13,
    "start_time": "2023-10-28T20:53:42.841Z"
   },
   {
    "duration": 15,
    "start_time": "2023-10-28T20:53:42.856Z"
   },
   {
    "duration": 11,
    "start_time": "2023-10-28T20:53:42.872Z"
   },
   {
    "duration": 14,
    "start_time": "2023-10-28T20:53:42.885Z"
   },
   {
    "duration": 110,
    "start_time": "2023-10-28T20:53:42.901Z"
   },
   {
    "duration": 11,
    "start_time": "2023-10-28T20:53:43.014Z"
   },
   {
    "duration": 15,
    "start_time": "2023-10-28T20:53:43.026Z"
   },
   {
    "duration": 163,
    "start_time": "2023-10-28T20:53:43.042Z"
   },
   {
    "duration": 3,
    "start_time": "2023-10-28T20:53:43.206Z"
   },
   {
    "duration": 13,
    "start_time": "2023-10-28T20:53:43.210Z"
   },
   {
    "duration": 5,
    "start_time": "2023-10-28T20:53:43.224Z"
   },
   {
    "duration": 21,
    "start_time": "2023-10-28T20:53:43.230Z"
   },
   {
    "duration": 13,
    "start_time": "2023-10-28T20:53:43.253Z"
   },
   {
    "duration": 4,
    "start_time": "2023-10-28T20:53:43.267Z"
   },
   {
    "duration": 13,
    "start_time": "2023-10-28T20:53:43.272Z"
   },
   {
    "duration": 184,
    "start_time": "2023-10-28T20:53:43.287Z"
   },
   {
    "duration": 94,
    "start_time": "2023-10-28T20:53:43.473Z"
   },
   {
    "duration": 179,
    "start_time": "2023-10-28T20:53:43.568Z"
   },
   {
    "duration": 7,
    "start_time": "2023-10-28T20:53:43.749Z"
   },
   {
    "duration": 2,
    "start_time": "2023-10-28T20:53:43.757Z"
   },
   {
    "duration": 16,
    "start_time": "2023-10-28T20:53:50.372Z"
   },
   {
    "duration": 94,
    "start_time": "2023-10-28T20:54:36.515Z"
   },
   {
    "duration": 28,
    "start_time": "2023-10-28T20:54:45.109Z"
   },
   {
    "duration": 15,
    "start_time": "2023-10-28T20:56:15.760Z"
   },
   {
    "duration": 30,
    "start_time": "2023-10-28T20:56:17.571Z"
   },
   {
    "duration": 180,
    "start_time": "2023-10-28T20:56:56.888Z"
   },
   {
    "duration": 116,
    "start_time": "2023-10-28T20:57:12.131Z"
   },
   {
    "duration": 21,
    "start_time": "2023-10-28T20:57:13.016Z"
   },
   {
    "duration": 92,
    "start_time": "2023-10-28T20:57:13.549Z"
   },
   {
    "duration": 8,
    "start_time": "2023-10-28T20:57:34.760Z"
   },
   {
    "duration": 7,
    "start_time": "2023-10-28T20:57:40.649Z"
   },
   {
    "duration": 9,
    "start_time": "2023-10-28T20:57:42.852Z"
   },
   {
    "duration": 66,
    "start_time": "2023-10-28T20:58:37.352Z"
   },
   {
    "duration": 12,
    "start_time": "2023-10-28T20:58:41.190Z"
   },
   {
    "duration": 1935,
    "start_time": "2023-10-28T20:58:43.005Z"
   },
   {
    "duration": 184,
    "start_time": "2023-10-28T21:05:17.813Z"
   },
   {
    "duration": 191,
    "start_time": "2023-10-28T21:05:20.175Z"
   },
   {
    "duration": 5,
    "start_time": "2023-10-28T21:05:24.183Z"
   },
   {
    "duration": 1341,
    "start_time": "2023-10-28T21:32:54.117Z"
   },
   {
    "duration": 4620,
    "start_time": "2023-10-28T21:33:04.679Z"
   },
   {
    "duration": 36,
    "start_time": "2023-10-28T21:35:01.375Z"
   },
   {
    "duration": 27,
    "start_time": "2023-10-28T21:39:17.225Z"
   },
   {
    "duration": 16,
    "start_time": "2023-10-28T21:39:18.841Z"
   },
   {
    "duration": 31,
    "start_time": "2023-10-28T21:39:34.174Z"
   },
   {
    "duration": 152,
    "start_time": "2023-10-28T21:40:15.975Z"
   },
   {
    "duration": 43,
    "start_time": "2023-10-28T22:10:20.096Z"
   },
   {
    "duration": 4,
    "start_time": "2023-10-28T22:10:25.074Z"
   },
   {
    "duration": 724,
    "start_time": "2023-10-28T22:10:25.084Z"
   },
   {
    "duration": 3,
    "start_time": "2023-10-28T22:10:25.810Z"
   },
   {
    "duration": 62,
    "start_time": "2023-10-28T22:10:25.815Z"
   },
   {
    "duration": 25,
    "start_time": "2023-10-28T22:10:25.880Z"
   },
   {
    "duration": 54,
    "start_time": "2023-10-28T22:10:25.907Z"
   },
   {
    "duration": 15,
    "start_time": "2023-10-28T22:10:25.963Z"
   },
   {
    "duration": 11,
    "start_time": "2023-10-28T22:10:25.980Z"
   },
   {
    "duration": 21,
    "start_time": "2023-10-28T22:10:25.992Z"
   },
   {
    "duration": 39,
    "start_time": "2023-10-28T22:10:26.015Z"
   },
   {
    "duration": 11,
    "start_time": "2023-10-28T22:10:26.056Z"
   },
   {
    "duration": 3,
    "start_time": "2023-10-28T22:10:26.069Z"
   },
   {
    "duration": 151,
    "start_time": "2023-10-28T22:10:26.074Z"
   },
   {
    "duration": 3,
    "start_time": "2023-10-28T22:10:26.227Z"
   },
   {
    "duration": 6,
    "start_time": "2023-10-28T22:10:26.239Z"
   },
   {
    "duration": 9,
    "start_time": "2023-10-28T22:10:26.246Z"
   },
   {
    "duration": 22,
    "start_time": "2023-10-28T22:10:26.256Z"
   },
   {
    "duration": 9,
    "start_time": "2023-10-28T22:10:26.280Z"
   },
   {
    "duration": 4,
    "start_time": "2023-10-28T22:10:26.291Z"
   },
   {
    "duration": 8,
    "start_time": "2023-10-28T22:10:26.296Z"
   },
   {
    "duration": 50,
    "start_time": "2023-10-28T22:10:26.305Z"
   },
   {
    "duration": 96,
    "start_time": "2023-10-28T22:10:26.356Z"
   },
   {
    "duration": 158,
    "start_time": "2023-10-28T22:10:26.453Z"
   },
   {
    "duration": 8,
    "start_time": "2023-10-28T22:10:26.612Z"
   },
   {
    "duration": 2,
    "start_time": "2023-10-28T22:10:26.621Z"
   },
   {
    "duration": 45,
    "start_time": "2023-10-28T22:10:26.624Z"
   },
   {
    "duration": 17,
    "start_time": "2023-10-28T22:10:26.670Z"
   },
   {
    "duration": 34,
    "start_time": "2023-10-28T22:10:26.688Z"
   },
   {
    "duration": 2,
    "start_time": "2023-10-28T22:10:26.740Z"
   },
   {
    "duration": 17,
    "start_time": "2023-10-28T22:10:26.743Z"
   },
   {
    "duration": 4,
    "start_time": "2023-10-28T22:10:26.761Z"
   },
   {
    "duration": 4,
    "start_time": "2023-10-28T22:10:26.766Z"
   },
   {
    "duration": 4,
    "start_time": "2023-10-28T22:10:26.771Z"
   },
   {
    "duration": 5,
    "start_time": "2023-10-28T22:10:26.776Z"
   },
   {
    "duration": 142,
    "start_time": "2023-10-28T22:10:26.783Z"
   },
   {
    "duration": 122,
    "start_time": "2023-10-28T22:10:26.926Z"
   },
   {
    "duration": 33,
    "start_time": "2023-10-28T22:10:27.050Z"
   },
   {
    "duration": 101,
    "start_time": "2023-10-28T22:10:27.085Z"
   },
   {
    "duration": 8,
    "start_time": "2023-10-28T22:10:27.188Z"
   },
   {
    "duration": 6,
    "start_time": "2023-10-28T22:10:27.197Z"
   },
   {
    "duration": 9,
    "start_time": "2023-10-28T22:10:27.204Z"
   },
   {
    "duration": 30,
    "start_time": "2023-10-28T22:10:27.214Z"
   },
   {
    "duration": 2,
    "start_time": "2023-10-28T22:10:46.728Z"
   },
   {
    "duration": 1362,
    "start_time": "2023-10-28T22:11:35.022Z"
   },
   {
    "duration": 1123,
    "start_time": "2023-10-28T22:33:21.152Z"
   },
   {
    "duration": 10,
    "start_time": "2023-10-28T22:33:41.780Z"
   },
   {
    "duration": 18,
    "start_time": "2023-10-28T22:44:53.197Z"
   },
   {
    "duration": 473,
    "start_time": "2023-10-28T22:45:32.537Z"
   },
   {
    "duration": 13,
    "start_time": "2023-10-28T22:48:17.858Z"
   },
   {
    "duration": 19,
    "start_time": "2023-10-28T22:49:29.901Z"
   },
   {
    "duration": 15,
    "start_time": "2023-10-28T22:50:20.532Z"
   },
   {
    "duration": 1346,
    "start_time": "2023-10-28T22:50:50.367Z"
   },
   {
    "duration": 1333,
    "start_time": "2023-10-28T22:51:48.386Z"
   },
   {
    "duration": 1610,
    "start_time": "2023-10-28T22:51:57.694Z"
   },
   {
    "duration": 12,
    "start_time": "2023-10-28T22:55:49.865Z"
   },
   {
    "duration": 1418,
    "start_time": "2023-10-28T22:56:25.898Z"
   },
   {
    "duration": 3056,
    "start_time": "2023-10-28T22:57:21.417Z"
   },
   {
    "duration": 2105,
    "start_time": "2023-10-28T22:58:27.826Z"
   },
   {
    "duration": 2464,
    "start_time": "2023-10-28T22:59:04.210Z"
   },
   {
    "duration": 3718,
    "start_time": "2023-10-28T23:00:14.466Z"
   },
   {
    "duration": 2836,
    "start_time": "2023-10-28T23:10:28.375Z"
   },
   {
    "duration": 3428,
    "start_time": "2023-10-28T23:10:43.124Z"
   },
   {
    "duration": 3202,
    "start_time": "2023-10-28T23:23:09.300Z"
   },
   {
    "duration": 2729,
    "start_time": "2023-10-28T23:24:30.045Z"
   },
   {
    "duration": 79,
    "start_time": "2023-10-28T23:25:56.391Z"
   },
   {
    "duration": 157,
    "start_time": "2023-10-28T23:26:03.013Z"
   },
   {
    "duration": 2352,
    "start_time": "2023-10-28T23:26:09.073Z"
   },
   {
    "duration": 1167,
    "start_time": "2023-10-28T23:26:43.673Z"
   },
   {
    "duration": 1763,
    "start_time": "2023-10-28T23:27:02.491Z"
   },
   {
    "duration": 1467,
    "start_time": "2023-10-28T23:27:24.517Z"
   },
   {
    "duration": 1279,
    "start_time": "2023-10-28T23:27:41.571Z"
   },
   {
    "duration": 1281,
    "start_time": "2023-10-28T23:27:58.844Z"
   },
   {
    "duration": 1138,
    "start_time": "2023-10-28T23:28:18.525Z"
   },
   {
    "duration": 1155,
    "start_time": "2023-10-28T23:28:24.054Z"
   },
   {
    "duration": 1254,
    "start_time": "2023-10-28T23:29:00.853Z"
   },
   {
    "duration": 8,
    "start_time": "2023-10-28T23:29:26.913Z"
   },
   {
    "duration": 9,
    "start_time": "2023-10-28T23:29:35.635Z"
   },
   {
    "duration": 10,
    "start_time": "2023-10-28T23:29:44.725Z"
   },
   {
    "duration": 1441,
    "start_time": "2023-10-28T23:29:58.408Z"
   },
   {
    "duration": 3191,
    "start_time": "2023-10-28T23:30:16.154Z"
   },
   {
    "duration": 13,
    "start_time": "2023-10-28T23:30:51.471Z"
   },
   {
    "duration": 11,
    "start_time": "2023-10-28T23:31:07.291Z"
   },
   {
    "duration": 11,
    "start_time": "2023-10-28T23:31:28.023Z"
   },
   {
    "duration": 1238,
    "start_time": "2023-10-28T23:31:41.271Z"
   },
   {
    "duration": 14,
    "start_time": "2023-10-28T23:31:55.319Z"
   },
   {
    "duration": 10,
    "start_time": "2023-10-28T23:32:18.216Z"
   },
   {
    "duration": 15,
    "start_time": "2023-10-28T23:32:35.738Z"
   },
   {
    "duration": 20,
    "start_time": "2023-10-28T23:33:02.851Z"
   },
   {
    "duration": 1050,
    "start_time": "2023-10-28T23:33:30.454Z"
   },
   {
    "duration": 1011,
    "start_time": "2023-10-28T23:33:59.683Z"
   },
   {
    "duration": 21,
    "start_time": "2023-10-28T23:35:08.408Z"
   },
   {
    "duration": 1169,
    "start_time": "2023-10-28T23:35:26.954Z"
   },
   {
    "duration": 1042,
    "start_time": "2023-10-28T23:35:50.254Z"
   },
   {
    "duration": 3160,
    "start_time": "2023-10-28T23:35:57.143Z"
   },
   {
    "duration": 3180,
    "start_time": "2023-10-28T23:37:56.777Z"
   },
   {
    "duration": 19,
    "start_time": "2023-10-28T23:38:11.375Z"
   },
   {
    "duration": 6,
    "start_time": "2023-10-28T23:38:21.951Z"
   },
   {
    "duration": 25,
    "start_time": "2023-10-28T23:38:26.255Z"
   },
   {
    "duration": 29,
    "start_time": "2023-10-28T23:38:47.730Z"
   },
   {
    "duration": 20,
    "start_time": "2023-10-28T23:39:37.306Z"
   },
   {
    "duration": 1376,
    "start_time": "2023-10-28T23:40:15.208Z"
   },
   {
    "duration": 743,
    "start_time": "2023-10-28T23:40:16.586Z"
   },
   {
    "duration": 4,
    "start_time": "2023-10-28T23:40:17.330Z"
   },
   {
    "duration": 30,
    "start_time": "2023-10-28T23:40:17.340Z"
   },
   {
    "duration": 15,
    "start_time": "2023-10-28T23:40:17.372Z"
   },
   {
    "duration": 28,
    "start_time": "2023-10-28T23:40:17.389Z"
   },
   {
    "duration": 39,
    "start_time": "2023-10-28T23:40:17.419Z"
   },
   {
    "duration": 12,
    "start_time": "2023-10-28T23:40:17.460Z"
   },
   {
    "duration": 15,
    "start_time": "2023-10-28T23:40:17.474Z"
   },
   {
    "duration": 21,
    "start_time": "2023-10-28T23:40:17.491Z"
   },
   {
    "duration": 34,
    "start_time": "2023-10-28T23:40:17.513Z"
   },
   {
    "duration": 8,
    "start_time": "2023-10-28T23:40:17.549Z"
   },
   {
    "duration": 163,
    "start_time": "2023-10-28T23:40:17.558Z"
   },
   {
    "duration": 4,
    "start_time": "2023-10-28T23:40:17.722Z"
   },
   {
    "duration": 17,
    "start_time": "2023-10-28T23:40:17.727Z"
   },
   {
    "duration": 2,
    "start_time": "2023-10-28T23:40:17.750Z"
   },
   {
    "duration": 27,
    "start_time": "2023-10-28T23:40:17.754Z"
   },
   {
    "duration": 12,
    "start_time": "2023-10-28T23:40:17.782Z"
   },
   {
    "duration": 3,
    "start_time": "2023-10-28T23:40:17.795Z"
   },
   {
    "duration": 6,
    "start_time": "2023-10-28T23:40:17.800Z"
   },
   {
    "duration": 48,
    "start_time": "2023-10-28T23:40:17.808Z"
   },
   {
    "duration": 114,
    "start_time": "2023-10-28T23:40:17.859Z"
   },
   {
    "duration": 204,
    "start_time": "2023-10-28T23:40:17.975Z"
   },
   {
    "duration": 7,
    "start_time": "2023-10-28T23:40:18.180Z"
   },
   {
    "duration": 2,
    "start_time": "2023-10-28T23:40:18.189Z"
   },
   {
    "duration": 62,
    "start_time": "2023-10-28T23:40:18.192Z"
   },
   {
    "duration": 21,
    "start_time": "2023-10-28T23:40:18.256Z"
   },
   {
    "duration": 39,
    "start_time": "2023-10-28T23:40:18.280Z"
   },
   {
    "duration": 2,
    "start_time": "2023-10-28T23:40:18.321Z"
   },
   {
    "duration": 3,
    "start_time": "2023-10-28T23:40:18.340Z"
   },
   {
    "duration": 5,
    "start_time": "2023-10-28T23:40:18.344Z"
   },
   {
    "duration": 4,
    "start_time": "2023-10-28T23:40:18.351Z"
   },
   {
    "duration": 5,
    "start_time": "2023-10-28T23:40:18.357Z"
   },
   {
    "duration": 12,
    "start_time": "2023-10-28T23:40:18.364Z"
   },
   {
    "duration": 205,
    "start_time": "2023-10-28T23:40:18.378Z"
   },
   {
    "duration": 123,
    "start_time": "2023-10-28T23:40:18.585Z"
   },
   {
    "duration": 19,
    "start_time": "2023-10-28T23:40:18.709Z"
   },
   {
    "duration": 96,
    "start_time": "2023-10-28T23:40:18.730Z"
   },
   {
    "duration": 13,
    "start_time": "2023-10-28T23:40:18.828Z"
   },
   {
    "duration": 8,
    "start_time": "2023-10-28T23:40:18.843Z"
   },
   {
    "duration": 12,
    "start_time": "2023-10-28T23:40:18.853Z"
   },
   {
    "duration": 14,
    "start_time": "2023-10-28T23:40:18.867Z"
   },
   {
    "duration": 4,
    "start_time": "2023-10-28T23:40:18.882Z"
   },
   {
    "duration": 11,
    "start_time": "2023-10-28T23:40:18.887Z"
   },
   {
    "duration": 162,
    "start_time": "2023-10-28T23:40:18.899Z"
   },
   {
    "duration": 20,
    "start_time": "2023-10-28T23:41:05.270Z"
   },
   {
    "duration": 30,
    "start_time": "2023-10-28T23:41:30.121Z"
   },
   {
    "duration": 29,
    "start_time": "2023-10-28T23:41:36.937Z"
   },
   {
    "duration": 19,
    "start_time": "2023-10-28T23:43:59.786Z"
   },
   {
    "duration": 3071,
    "start_time": "2023-10-28T23:44:11.242Z"
   },
   {
    "duration": 3284,
    "start_time": "2023-10-28T23:44:40.436Z"
   },
   {
    "duration": 1541,
    "start_time": "2023-10-28T23:47:37.439Z"
   },
   {
    "duration": 3,
    "start_time": "2023-10-28T23:47:56.985Z"
   },
   {
    "duration": 3,
    "start_time": "2023-10-28T23:54:11.061Z"
   },
   {
    "duration": 23,
    "start_time": "2023-10-29T00:18:08.142Z"
   },
   {
    "duration": 13,
    "start_time": "2023-10-29T00:25:02.966Z"
   },
   {
    "duration": 9,
    "start_time": "2023-10-29T00:25:11.254Z"
   },
   {
    "duration": 13,
    "start_time": "2023-10-29T00:25:46.690Z"
   },
   {
    "duration": 15,
    "start_time": "2023-10-29T00:26:41.537Z"
   },
   {
    "duration": 15,
    "start_time": "2023-10-29T00:27:17.312Z"
   },
   {
    "duration": 4,
    "start_time": "2023-10-29T00:27:33.545Z"
   },
   {
    "duration": 667,
    "start_time": "2023-10-29T00:27:33.554Z"
   },
   {
    "duration": 4,
    "start_time": "2023-10-29T00:27:34.222Z"
   },
   {
    "duration": 160,
    "start_time": "2023-10-29T00:27:34.227Z"
   },
   {
    "duration": 25,
    "start_time": "2023-10-29T00:27:34.389Z"
   },
   {
    "duration": 52,
    "start_time": "2023-10-29T00:27:34.416Z"
   },
   {
    "duration": 14,
    "start_time": "2023-10-29T00:27:34.470Z"
   },
   {
    "duration": 10,
    "start_time": "2023-10-29T00:27:34.485Z"
   },
   {
    "duration": 17,
    "start_time": "2023-10-29T00:27:34.496Z"
   },
   {
    "duration": 32,
    "start_time": "2023-10-29T00:27:34.515Z"
   },
   {
    "duration": 8,
    "start_time": "2023-10-29T00:27:34.550Z"
   },
   {
    "duration": 10,
    "start_time": "2023-10-29T00:27:34.560Z"
   },
   {
    "duration": 131,
    "start_time": "2023-10-29T00:27:34.571Z"
   },
   {
    "duration": 3,
    "start_time": "2023-10-29T00:27:34.703Z"
   },
   {
    "duration": 6,
    "start_time": "2023-10-29T00:27:34.708Z"
   },
   {
    "duration": 4,
    "start_time": "2023-10-29T00:27:34.716Z"
   },
   {
    "duration": 26,
    "start_time": "2023-10-29T00:27:34.721Z"
   },
   {
    "duration": 8,
    "start_time": "2023-10-29T00:27:34.749Z"
   },
   {
    "duration": 4,
    "start_time": "2023-10-29T00:27:34.758Z"
   },
   {
    "duration": 17,
    "start_time": "2023-10-29T00:27:34.763Z"
   },
   {
    "duration": 42,
    "start_time": "2023-10-29T00:27:34.781Z"
   },
   {
    "duration": 84,
    "start_time": "2023-10-29T00:27:34.824Z"
   },
   {
    "duration": 162,
    "start_time": "2023-10-29T00:27:34.909Z"
   },
   {
    "duration": 8,
    "start_time": "2023-10-29T00:27:35.072Z"
   },
   {
    "duration": 2,
    "start_time": "2023-10-29T00:27:35.081Z"
   },
   {
    "duration": 35,
    "start_time": "2023-10-29T00:27:35.084Z"
   },
   {
    "duration": 18,
    "start_time": "2023-10-29T00:27:35.140Z"
   },
   {
    "duration": 35,
    "start_time": "2023-10-29T00:27:35.159Z"
   },
   {
    "duration": 2,
    "start_time": "2023-10-29T00:27:35.196Z"
   },
   {
    "duration": 5,
    "start_time": "2023-10-29T00:27:35.200Z"
   },
   {
    "duration": 5,
    "start_time": "2023-10-29T00:27:35.206Z"
   },
   {
    "duration": 2,
    "start_time": "2023-10-29T00:27:35.240Z"
   },
   {
    "duration": 7,
    "start_time": "2023-10-29T00:27:35.243Z"
   },
   {
    "duration": 8,
    "start_time": "2023-10-29T00:27:35.251Z"
   },
   {
    "duration": 152,
    "start_time": "2023-10-29T00:27:35.261Z"
   },
   {
    "duration": 125,
    "start_time": "2023-10-29T00:27:35.414Z"
   },
   {
    "duration": 19,
    "start_time": "2023-10-29T00:27:35.541Z"
   },
   {
    "duration": 99,
    "start_time": "2023-10-29T00:27:35.562Z"
   },
   {
    "duration": 8,
    "start_time": "2023-10-29T00:27:35.663Z"
   },
   {
    "duration": 9,
    "start_time": "2023-10-29T00:27:35.672Z"
   },
   {
    "duration": 17,
    "start_time": "2023-10-29T00:27:35.682Z"
   },
   {
    "duration": 3,
    "start_time": "2023-10-29T00:27:35.701Z"
   },
   {
    "duration": 19,
    "start_time": "2023-10-29T00:27:35.705Z"
   },
   {
    "duration": 3009,
    "start_time": "2023-10-29T00:27:35.725Z"
   },
   {
    "duration": 13,
    "start_time": "2023-10-29T00:27:38.739Z"
   },
   {
    "duration": 11,
    "start_time": "2023-10-29T00:38:46.726Z"
   },
   {
    "duration": 3,
    "start_time": "2023-10-29T00:39:21.440Z"
   },
   {
    "duration": 14,
    "start_time": "2023-10-29T00:39:32.029Z"
   },
   {
    "duration": 13,
    "start_time": "2023-10-29T00:40:19.063Z"
   },
   {
    "duration": 4,
    "start_time": "2023-10-29T00:41:26.261Z"
   },
   {
    "duration": 615,
    "start_time": "2023-10-29T00:41:26.270Z"
   },
   {
    "duration": 4,
    "start_time": "2023-10-29T00:41:26.886Z"
   },
   {
    "duration": 49,
    "start_time": "2023-10-29T00:41:26.891Z"
   },
   {
    "duration": 26,
    "start_time": "2023-10-29T00:41:26.942Z"
   },
   {
    "duration": 39,
    "start_time": "2023-10-29T00:41:26.970Z"
   },
   {
    "duration": 38,
    "start_time": "2023-10-29T00:41:27.011Z"
   },
   {
    "duration": 10,
    "start_time": "2023-10-29T00:41:27.051Z"
   },
   {
    "duration": 15,
    "start_time": "2023-10-29T00:41:27.063Z"
   },
   {
    "duration": 15,
    "start_time": "2023-10-29T00:41:27.079Z"
   },
   {
    "duration": 8,
    "start_time": "2023-10-29T00:41:27.097Z"
   },
   {
    "duration": 36,
    "start_time": "2023-10-29T00:41:27.106Z"
   },
   {
    "duration": 136,
    "start_time": "2023-10-29T00:41:27.143Z"
   },
   {
    "duration": 3,
    "start_time": "2023-10-29T00:41:27.280Z"
   },
   {
    "duration": 10,
    "start_time": "2023-10-29T00:41:27.285Z"
   },
   {
    "duration": 4,
    "start_time": "2023-10-29T00:41:27.297Z"
   },
   {
    "duration": 17,
    "start_time": "2023-10-29T00:41:27.302Z"
   },
   {
    "duration": 21,
    "start_time": "2023-10-29T00:41:27.321Z"
   },
   {
    "duration": 4,
    "start_time": "2023-10-29T00:41:27.343Z"
   },
   {
    "duration": 6,
    "start_time": "2023-10-29T00:41:27.348Z"
   },
   {
    "duration": 23,
    "start_time": "2023-10-29T00:41:27.355Z"
   },
   {
    "duration": 113,
    "start_time": "2023-10-29T00:41:27.380Z"
   },
   {
    "duration": 169,
    "start_time": "2023-10-29T00:41:27.495Z"
   },
   {
    "duration": 10,
    "start_time": "2023-10-29T00:41:27.666Z"
   },
   {
    "duration": 2,
    "start_time": "2023-10-29T00:41:27.678Z"
   },
   {
    "duration": 35,
    "start_time": "2023-10-29T00:41:27.682Z"
   },
   {
    "duration": 20,
    "start_time": "2023-10-29T00:41:27.740Z"
   },
   {
    "duration": 36,
    "start_time": "2023-10-29T00:41:27.761Z"
   },
   {
    "duration": 2,
    "start_time": "2023-10-29T00:41:27.801Z"
   },
   {
    "duration": 9,
    "start_time": "2023-10-29T00:41:27.805Z"
   },
   {
    "duration": 24,
    "start_time": "2023-10-29T00:41:27.815Z"
   },
   {
    "duration": 2,
    "start_time": "2023-10-29T00:41:27.841Z"
   },
   {
    "duration": 11,
    "start_time": "2023-10-29T00:41:27.844Z"
   },
   {
    "duration": 3,
    "start_time": "2023-10-29T00:41:27.856Z"
   },
   {
    "duration": 155,
    "start_time": "2023-10-29T00:41:27.860Z"
   },
   {
    "duration": 127,
    "start_time": "2023-10-29T00:41:28.017Z"
   },
   {
    "duration": 20,
    "start_time": "2023-10-29T00:41:28.145Z"
   },
   {
    "duration": 99,
    "start_time": "2023-10-29T00:41:28.166Z"
   },
   {
    "duration": 9,
    "start_time": "2023-10-29T00:41:28.266Z"
   },
   {
    "duration": 6,
    "start_time": "2023-10-29T00:41:28.276Z"
   },
   {
    "duration": 9,
    "start_time": "2023-10-29T00:41:28.284Z"
   },
   {
    "duration": 2,
    "start_time": "2023-10-29T00:41:28.920Z"
   },
   {
    "duration": 6,
    "start_time": "2023-10-29T00:41:28.924Z"
   },
   {
    "duration": 3071,
    "start_time": "2023-10-29T00:41:28.931Z"
   },
   {
    "duration": 19,
    "start_time": "2023-10-29T00:41:32.737Z"
   },
   {
    "duration": 20,
    "start_time": "2023-10-29T00:42:06.395Z"
   },
   {
    "duration": 5,
    "start_time": "2023-10-29T00:45:30.219Z"
   },
   {
    "duration": 5,
    "start_time": "2023-10-29T00:45:31.861Z"
   },
   {
    "duration": 10,
    "start_time": "2023-10-29T00:50:10.935Z"
   },
   {
    "duration": 10,
    "start_time": "2023-10-29T00:50:43.103Z"
   },
   {
    "duration": 9,
    "start_time": "2023-10-29T00:51:03.477Z"
   },
   {
    "duration": 12,
    "start_time": "2023-10-29T00:51:18.338Z"
   },
   {
    "duration": 12,
    "start_time": "2023-10-29T00:51:57.319Z"
   },
   {
    "duration": 7,
    "start_time": "2023-10-29T00:52:05.753Z"
   },
   {
    "duration": 14,
    "start_time": "2023-10-29T00:52:13.046Z"
   },
   {
    "duration": 9,
    "start_time": "2023-10-29T00:52:50.055Z"
   },
   {
    "duration": 9,
    "start_time": "2023-10-29T00:52:52.833Z"
   },
   {
    "duration": 363,
    "start_time": "2023-10-29T00:53:32.525Z"
   },
   {
    "duration": 570,
    "start_time": "2023-10-29T00:53:43.112Z"
   },
   {
    "duration": 371,
    "start_time": "2023-10-29T00:56:30.683Z"
   },
   {
    "duration": 222,
    "start_time": "2023-10-29T00:57:36.957Z"
   },
   {
    "duration": 1536,
    "start_time": "2023-10-29T00:57:44.252Z"
   },
   {
    "duration": 7,
    "start_time": "2023-10-29T01:36:04.114Z"
   },
   {
    "duration": 6,
    "start_time": "2023-10-29T01:36:05.999Z"
   },
   {
    "duration": 119,
    "start_time": "2023-10-29T01:38:59.991Z"
   },
   {
    "duration": 84,
    "start_time": "2023-10-29T01:39:56.427Z"
   },
   {
    "duration": 145,
    "start_time": "2023-10-29T01:40:05.511Z"
   },
   {
    "duration": 149,
    "start_time": "2023-10-29T01:40:16.321Z"
   },
   {
    "duration": 143,
    "start_time": "2023-10-29T01:41:42.823Z"
   },
   {
    "duration": 140,
    "start_time": "2023-10-29T01:41:52.064Z"
   },
   {
    "duration": 137,
    "start_time": "2023-10-29T01:42:43.674Z"
   },
   {
    "duration": 144,
    "start_time": "2023-10-29T01:45:01.598Z"
   },
   {
    "duration": 4,
    "start_time": "2023-10-29T01:45:52.380Z"
   },
   {
    "duration": 54,
    "start_time": "2023-10-29T20:54:10.868Z"
   },
   {
    "duration": 1528,
    "start_time": "2023-10-29T20:54:17.274Z"
   },
   {
    "duration": 2184,
    "start_time": "2023-10-29T20:54:18.804Z"
   },
   {
    "duration": 3,
    "start_time": "2023-10-29T20:54:20.990Z"
   },
   {
    "duration": 35,
    "start_time": "2023-10-29T20:54:20.995Z"
   },
   {
    "duration": 20,
    "start_time": "2023-10-29T20:54:21.033Z"
   },
   {
    "duration": 32,
    "start_time": "2023-10-29T20:54:21.054Z"
   },
   {
    "duration": 25,
    "start_time": "2023-10-29T20:54:21.088Z"
   },
   {
    "duration": 28,
    "start_time": "2023-10-29T20:54:21.115Z"
   },
   {
    "duration": 19,
    "start_time": "2023-10-29T20:54:21.145Z"
   },
   {
    "duration": 29,
    "start_time": "2023-10-29T20:54:21.167Z"
   },
   {
    "duration": 10,
    "start_time": "2023-10-29T20:54:21.198Z"
   },
   {
    "duration": 35,
    "start_time": "2023-10-29T20:54:21.209Z"
   },
   {
    "duration": 170,
    "start_time": "2023-10-29T20:54:21.246Z"
   },
   {
    "duration": 3,
    "start_time": "2023-10-29T20:54:21.420Z"
   },
   {
    "duration": 23,
    "start_time": "2023-10-29T20:54:21.425Z"
   },
   {
    "duration": 10,
    "start_time": "2023-10-29T20:54:21.450Z"
   },
   {
    "duration": 19,
    "start_time": "2023-10-29T20:54:21.461Z"
   },
   {
    "duration": 15,
    "start_time": "2023-10-29T20:54:21.482Z"
   },
   {
    "duration": 4,
    "start_time": "2023-10-29T20:54:21.499Z"
   },
   {
    "duration": 6,
    "start_time": "2023-10-29T20:54:21.505Z"
   },
   {
    "duration": 66,
    "start_time": "2023-10-29T20:54:21.513Z"
   },
   {
    "duration": 107,
    "start_time": "2023-10-29T20:54:21.581Z"
   },
   {
    "duration": 211,
    "start_time": "2023-10-29T20:54:21.689Z"
   },
   {
    "duration": 9,
    "start_time": "2023-10-29T20:54:21.901Z"
   },
   {
    "duration": 2,
    "start_time": "2023-10-29T20:54:21.911Z"
   },
   {
    "duration": 52,
    "start_time": "2023-10-29T20:54:21.914Z"
   },
   {
    "duration": 20,
    "start_time": "2023-10-29T20:54:21.967Z"
   },
   {
    "duration": 60,
    "start_time": "2023-10-29T20:54:21.989Z"
   },
   {
    "duration": 3,
    "start_time": "2023-10-29T20:54:22.050Z"
   },
   {
    "duration": 6,
    "start_time": "2023-10-29T20:54:22.054Z"
   },
   {
    "duration": 12,
    "start_time": "2023-10-29T20:54:22.062Z"
   },
   {
    "duration": 7,
    "start_time": "2023-10-29T20:54:22.075Z"
   },
   {
    "duration": 23,
    "start_time": "2023-10-29T20:54:22.083Z"
   },
   {
    "duration": 5,
    "start_time": "2023-10-29T20:54:22.108Z"
   },
   {
    "duration": 186,
    "start_time": "2023-10-29T20:54:22.114Z"
   },
   {
    "duration": 127,
    "start_time": "2023-10-29T20:54:22.302Z"
   },
   {
    "duration": 27,
    "start_time": "2023-10-29T20:54:22.430Z"
   },
   {
    "duration": 100,
    "start_time": "2023-10-29T20:54:22.459Z"
   },
   {
    "duration": 11,
    "start_time": "2023-10-29T20:54:22.561Z"
   },
   {
    "duration": 9,
    "start_time": "2023-10-29T20:54:22.573Z"
   },
   {
    "duration": 12,
    "start_time": "2023-10-29T20:54:22.585Z"
   },
   {
    "duration": 3,
    "start_time": "2023-10-29T20:54:22.598Z"
   },
   {
    "duration": 7,
    "start_time": "2023-10-29T20:54:22.602Z"
   },
   {
    "duration": 3587,
    "start_time": "2023-10-29T20:54:22.610Z"
   },
   {
    "duration": 24,
    "start_time": "2023-10-29T20:54:26.198Z"
   },
   {
    "duration": 2,
    "start_time": "2023-10-29T20:54:26.224Z"
   },
   {
    "duration": 29,
    "start_time": "2023-10-29T20:54:26.227Z"
   },
   {
    "duration": 16,
    "start_time": "2023-10-29T20:54:26.257Z"
   },
   {
    "duration": 177,
    "start_time": "2023-10-29T20:54:30.594Z"
   },
   {
    "duration": 74,
    "start_time": "2023-10-29T20:56:15.851Z"
   },
   {
    "duration": 8,
    "start_time": "2023-10-29T20:57:34.354Z"
   },
   {
    "duration": 15,
    "start_time": "2023-10-29T21:03:46.665Z"
   },
   {
    "duration": 14,
    "start_time": "2023-10-29T21:03:49.226Z"
   },
   {
    "duration": 446,
    "start_time": "2023-10-29T21:05:00.459Z"
   },
   {
    "duration": 363,
    "start_time": "2023-10-29T21:07:58.743Z"
   },
   {
    "duration": 4,
    "start_time": "2023-10-29T21:20:15.508Z"
   },
   {
    "duration": 22,
    "start_time": "2023-10-29T21:20:19.007Z"
   },
   {
    "duration": 5,
    "start_time": "2023-10-29T21:20:22.260Z"
   },
   {
    "duration": 66,
    "start_time": "2023-10-30T21:39:32.444Z"
   },
   {
    "duration": 7,
    "start_time": "2023-10-30T21:51:01.727Z"
   },
   {
    "duration": 1623,
    "start_time": "2023-10-30T21:51:18.552Z"
   },
   {
    "duration": 2249,
    "start_time": "2023-10-30T21:51:20.177Z"
   },
   {
    "duration": 4,
    "start_time": "2023-10-30T21:51:22.428Z"
   },
   {
    "duration": 46,
    "start_time": "2023-10-30T21:51:22.433Z"
   },
   {
    "duration": 26,
    "start_time": "2023-10-30T21:51:22.480Z"
   },
   {
    "duration": 25,
    "start_time": "2023-10-30T21:51:22.508Z"
   },
   {
    "duration": 45,
    "start_time": "2023-10-30T21:51:22.535Z"
   },
   {
    "duration": 151,
    "start_time": "2023-10-30T21:51:22.581Z"
   },
   {
    "duration": 17,
    "start_time": "2023-10-30T21:51:22.733Z"
   },
   {
    "duration": 28,
    "start_time": "2023-10-30T21:51:22.752Z"
   },
   {
    "duration": 22,
    "start_time": "2023-10-30T21:51:22.782Z"
   },
   {
    "duration": 14,
    "start_time": "2023-10-30T21:51:22.806Z"
   },
   {
    "duration": 190,
    "start_time": "2023-10-30T21:51:22.822Z"
   },
   {
    "duration": 4,
    "start_time": "2023-10-30T21:51:23.013Z"
   },
   {
    "duration": 18,
    "start_time": "2023-10-30T21:51:23.019Z"
   },
   {
    "duration": 9,
    "start_time": "2023-10-30T21:51:23.039Z"
   },
   {
    "duration": 16,
    "start_time": "2023-10-30T21:51:23.049Z"
   },
   {
    "duration": 24,
    "start_time": "2023-10-30T21:51:23.066Z"
   },
   {
    "duration": 5,
    "start_time": "2023-10-30T21:51:23.092Z"
   },
   {
    "duration": 8,
    "start_time": "2023-10-30T21:51:23.101Z"
   },
   {
    "duration": 44,
    "start_time": "2023-10-30T21:51:23.110Z"
   },
   {
    "duration": 114,
    "start_time": "2023-10-30T21:51:23.156Z"
   },
   {
    "duration": 219,
    "start_time": "2023-10-30T21:51:23.272Z"
   },
   {
    "duration": 12,
    "start_time": "2023-10-30T21:51:23.493Z"
   },
   {
    "duration": 4,
    "start_time": "2023-10-30T21:51:23.507Z"
   },
   {
    "duration": 44,
    "start_time": "2023-10-30T21:51:23.513Z"
   },
   {
    "duration": 42,
    "start_time": "2023-10-30T21:51:23.558Z"
   },
   {
    "duration": 52,
    "start_time": "2023-10-30T21:51:23.605Z"
   },
   {
    "duration": 3,
    "start_time": "2023-10-30T21:51:23.658Z"
   },
   {
    "duration": 19,
    "start_time": "2023-10-30T21:51:23.663Z"
   },
   {
    "duration": 24,
    "start_time": "2023-10-30T21:51:23.684Z"
   },
   {
    "duration": 20,
    "start_time": "2023-10-30T21:51:23.710Z"
   },
   {
    "duration": 23,
    "start_time": "2023-10-30T21:51:23.732Z"
   },
   {
    "duration": 30,
    "start_time": "2023-10-30T21:51:23.757Z"
   },
   {
    "duration": 204,
    "start_time": "2023-10-30T21:51:23.788Z"
   },
   {
    "duration": 121,
    "start_time": "2023-10-30T21:51:24.001Z"
   },
   {
    "duration": 21,
    "start_time": "2023-10-30T21:51:24.124Z"
   },
   {
    "duration": 105,
    "start_time": "2023-10-30T21:51:24.147Z"
   },
   {
    "duration": 10,
    "start_time": "2023-10-30T21:51:24.254Z"
   },
   {
    "duration": 37,
    "start_time": "2023-10-30T21:51:24.265Z"
   },
   {
    "duration": 19,
    "start_time": "2023-10-30T21:51:24.304Z"
   },
   {
    "duration": 9,
    "start_time": "2023-10-30T21:51:24.324Z"
   },
   {
    "duration": 13,
    "start_time": "2023-10-30T21:51:24.334Z"
   },
   {
    "duration": 3568,
    "start_time": "2023-10-30T21:51:24.349Z"
   },
   {
    "duration": 27,
    "start_time": "2023-10-30T21:51:27.919Z"
   },
   {
    "duration": 3,
    "start_time": "2023-10-30T21:51:27.948Z"
   },
   {
    "duration": 13,
    "start_time": "2023-10-30T21:51:27.952Z"
   },
   {
    "duration": 7,
    "start_time": "2023-10-30T21:51:27.967Z"
   },
   {
    "duration": 193,
    "start_time": "2023-10-30T21:51:28.002Z"
   },
   {
    "duration": 7,
    "start_time": "2023-10-30T21:51:28.197Z"
   },
   {
    "duration": 497,
    "start_time": "2023-10-30T21:51:28.206Z"
   },
   {
    "duration": 5,
    "start_time": "2023-10-30T21:51:28.705Z"
   },
   {
    "duration": 89,
    "start_time": "2023-10-30T21:51:28.712Z"
   },
   {
    "duration": 0,
    "start_time": "2023-10-30T21:51:28.803Z"
   },
   {
    "duration": 9,
    "start_time": "2023-10-30T21:51:35.470Z"
   },
   {
    "duration": 22,
    "start_time": "2023-10-30T21:51:59.015Z"
   },
   {
    "duration": 5,
    "start_time": "2023-10-30T21:52:02.246Z"
   },
   {
    "duration": 20,
    "start_time": "2023-10-30T21:52:07.861Z"
   },
   {
    "duration": 5,
    "start_time": "2023-10-30T21:52:10.396Z"
   },
   {
    "duration": 49,
    "start_time": "2023-10-30T21:52:16.957Z"
   },
   {
    "duration": 11,
    "start_time": "2023-10-30T21:52:19.335Z"
   },
   {
    "duration": 10,
    "start_time": "2023-10-30T21:52:27.115Z"
   },
   {
    "duration": 14,
    "start_time": "2023-10-30T21:54:06.910Z"
   },
   {
    "duration": 6,
    "start_time": "2023-10-30T21:54:26.308Z"
   },
   {
    "duration": 10,
    "start_time": "2023-10-30T21:54:33.760Z"
   },
   {
    "duration": 6,
    "start_time": "2023-10-30T21:55:07.528Z"
   },
   {
    "duration": 10,
    "start_time": "2023-10-30T21:55:10.264Z"
   },
   {
    "duration": 9,
    "start_time": "2023-10-30T22:17:14.290Z"
   },
   {
    "duration": 3,
    "start_time": "2023-10-30T22:17:19.294Z"
   },
   {
    "duration": 83,
    "start_time": "2023-10-30T22:17:21.604Z"
   },
   {
    "duration": 77,
    "start_time": "2023-10-30T22:17:49.887Z"
   },
   {
    "duration": 79,
    "start_time": "2023-10-30T22:17:54.714Z"
   },
   {
    "duration": 5,
    "start_time": "2023-10-30T22:20:29.251Z"
   },
   {
    "duration": 4,
    "start_time": "2023-10-30T22:20:53.303Z"
   },
   {
    "duration": 22,
    "start_time": "2023-10-30T22:20:54.296Z"
   },
   {
    "duration": 6,
    "start_time": "2023-10-30T22:20:55.733Z"
   },
   {
    "duration": 36,
    "start_time": "2023-10-30T22:20:57.417Z"
   },
   {
    "duration": 6,
    "start_time": "2023-10-30T22:21:00.541Z"
   },
   {
    "duration": 20,
    "start_time": "2023-10-30T22:21:04.008Z"
   },
   {
    "duration": 6,
    "start_time": "2023-10-30T22:21:06.542Z"
   },
   {
    "duration": 36,
    "start_time": "2023-10-30T22:21:08.988Z"
   },
   {
    "duration": 5,
    "start_time": "2023-10-30T22:21:11.101Z"
   },
   {
    "duration": 4,
    "start_time": "2023-10-30T22:22:22.757Z"
   },
   {
    "duration": 10,
    "start_time": "2023-10-31T01:44:01.684Z"
   },
   {
    "duration": 45,
    "start_time": "2023-10-31T01:44:36.671Z"
   },
   {
    "duration": 1669,
    "start_time": "2023-10-31T01:44:42.791Z"
   },
   {
    "duration": 2638,
    "start_time": "2023-10-31T01:44:44.466Z"
   },
   {
    "duration": 4,
    "start_time": "2023-10-31T01:44:47.105Z"
   },
   {
    "duration": 24,
    "start_time": "2023-10-31T01:44:47.111Z"
   },
   {
    "duration": 27,
    "start_time": "2023-10-31T01:44:47.136Z"
   },
   {
    "duration": 19,
    "start_time": "2023-10-31T01:44:47.165Z"
   },
   {
    "duration": 20,
    "start_time": "2023-10-31T01:44:47.186Z"
   },
   {
    "duration": 40,
    "start_time": "2023-10-31T01:44:47.207Z"
   },
   {
    "duration": 24,
    "start_time": "2023-10-31T01:44:47.248Z"
   },
   {
    "duration": 27,
    "start_time": "2023-10-31T01:44:47.275Z"
   },
   {
    "duration": 12,
    "start_time": "2023-10-31T01:44:47.304Z"
   },
   {
    "duration": 11,
    "start_time": "2023-10-31T01:44:47.346Z"
   },
   {
    "duration": 198,
    "start_time": "2023-10-31T01:44:47.362Z"
   },
   {
    "duration": 4,
    "start_time": "2023-10-31T01:44:47.562Z"
   },
   {
    "duration": 16,
    "start_time": "2023-10-31T01:44:47.568Z"
   },
   {
    "duration": 5,
    "start_time": "2023-10-31T01:44:47.586Z"
   },
   {
    "duration": 18,
    "start_time": "2023-10-31T01:44:47.592Z"
   },
   {
    "duration": 40,
    "start_time": "2023-10-31T01:44:47.612Z"
   },
   {
    "duration": 5,
    "start_time": "2023-10-31T01:44:47.659Z"
   },
   {
    "duration": 10,
    "start_time": "2023-10-31T01:44:47.666Z"
   },
   {
    "duration": 43,
    "start_time": "2023-10-31T01:44:47.678Z"
   },
   {
    "duration": 122,
    "start_time": "2023-10-31T01:44:47.723Z"
   },
   {
    "duration": 229,
    "start_time": "2023-10-31T01:44:47.856Z"
   },
   {
    "duration": 9,
    "start_time": "2023-10-31T01:44:48.087Z"
   },
   {
    "duration": 6,
    "start_time": "2023-10-31T01:44:48.098Z"
   },
   {
    "duration": 65,
    "start_time": "2023-10-31T01:44:48.106Z"
   },
   {
    "duration": 21,
    "start_time": "2023-10-31T01:44:48.172Z"
   },
   {
    "duration": 63,
    "start_time": "2023-10-31T01:44:48.196Z"
   },
   {
    "duration": 2,
    "start_time": "2023-10-31T01:44:48.261Z"
   },
   {
    "duration": 5,
    "start_time": "2023-10-31T01:44:48.265Z"
   },
   {
    "duration": 6,
    "start_time": "2023-10-31T01:44:48.271Z"
   },
   {
    "duration": 6,
    "start_time": "2023-10-31T01:44:48.279Z"
   },
   {
    "duration": 4,
    "start_time": "2023-10-31T01:44:48.286Z"
   },
   {
    "duration": 7,
    "start_time": "2023-10-31T01:44:48.292Z"
   },
   {
    "duration": 208,
    "start_time": "2023-10-31T01:44:48.300Z"
   },
   {
    "duration": 133,
    "start_time": "2023-10-31T01:44:48.510Z"
   },
   {
    "duration": 28,
    "start_time": "2023-10-31T01:44:48.646Z"
   },
   {
    "duration": 104,
    "start_time": "2023-10-31T01:44:48.675Z"
   },
   {
    "duration": 10,
    "start_time": "2023-10-31T01:44:48.781Z"
   },
   {
    "duration": 8,
    "start_time": "2023-10-31T01:44:48.793Z"
   },
   {
    "duration": 23,
    "start_time": "2023-10-31T01:44:48.803Z"
   },
   {
    "duration": 29,
    "start_time": "2023-10-31T01:44:48.828Z"
   },
   {
    "duration": 3,
    "start_time": "2023-10-31T01:44:48.860Z"
   },
   {
    "duration": 3659,
    "start_time": "2023-10-31T01:44:48.864Z"
   },
   {
    "duration": 35,
    "start_time": "2023-10-31T01:44:52.525Z"
   },
   {
    "duration": 10,
    "start_time": "2023-10-31T01:44:52.562Z"
   },
   {
    "duration": 39,
    "start_time": "2023-10-31T01:44:52.573Z"
   },
   {
    "duration": 25,
    "start_time": "2023-10-31T01:44:52.614Z"
   },
   {
    "duration": 327,
    "start_time": "2023-10-31T01:44:52.641Z"
   },
   {
    "duration": 5,
    "start_time": "2023-10-31T01:44:52.970Z"
   },
   {
    "duration": 385,
    "start_time": "2023-10-31T01:44:52.977Z"
   },
   {
    "duration": 5,
    "start_time": "2023-10-31T01:44:53.364Z"
   },
   {
    "duration": 98,
    "start_time": "2023-10-31T01:44:53.371Z"
   },
   {
    "duration": 0,
    "start_time": "2023-10-31T01:44:53.471Z"
   },
   {
    "duration": 5,
    "start_time": "2023-10-31T01:45:04.169Z"
   },
   {
    "duration": 31,
    "start_time": "2023-10-31T01:45:10.534Z"
   },
   {
    "duration": 5,
    "start_time": "2023-10-31T01:45:12.292Z"
   },
   {
    "duration": 38,
    "start_time": "2023-10-31T01:45:15.698Z"
   },
   {
    "duration": 6,
    "start_time": "2023-10-31T01:45:25.003Z"
   },
   {
    "duration": 21,
    "start_time": "2023-10-31T01:45:27.506Z"
   },
   {
    "duration": 40,
    "start_time": "2023-10-31T01:45:30.667Z"
   },
   {
    "duration": 6,
    "start_time": "2023-10-31T01:45:33.335Z"
   },
   {
    "duration": 1843,
    "start_time": "2023-10-31T01:45:46.017Z"
   },
   {
    "duration": 4,
    "start_time": "2023-10-31T01:54:08.260Z"
   },
   {
    "duration": 3,
    "start_time": "2023-10-31T01:54:37.226Z"
   },
   {
    "duration": 3,
    "start_time": "2023-10-31T01:55:07.309Z"
   },
   {
    "duration": 3,
    "start_time": "2023-10-31T01:55:45.036Z"
   },
   {
    "duration": 10,
    "start_time": "2023-10-31T02:14:05.592Z"
   },
   {
    "duration": 26,
    "start_time": "2023-10-31T02:14:25.346Z"
   },
   {
    "duration": 5,
    "start_time": "2023-10-31T02:14:28.825Z"
   },
   {
    "duration": 48,
    "start_time": "2023-10-31T02:14:30.634Z"
   },
   {
    "duration": 6,
    "start_time": "2023-10-31T02:14:32.716Z"
   },
   {
    "duration": 21,
    "start_time": "2023-10-31T02:14:36.157Z"
   },
   {
    "duration": 6,
    "start_time": "2023-10-31T02:14:37.558Z"
   },
   {
    "duration": 44,
    "start_time": "2023-10-31T02:14:39.713Z"
   },
   {
    "duration": 5,
    "start_time": "2023-10-31T02:14:43.113Z"
   },
   {
    "duration": 2093,
    "start_time": "2023-10-31T02:14:45.759Z"
   },
   {
    "duration": 4623,
    "start_time": "2023-10-31T02:14:53.941Z"
   },
   {
    "duration": 3,
    "start_time": "2023-10-31T02:15:42.612Z"
   },
   {
    "duration": 1904,
    "start_time": "2023-10-31T02:17:02.261Z"
   },
   {
    "duration": 4621,
    "start_time": "2023-10-31T02:17:27.623Z"
   },
   {
    "duration": 4,
    "start_time": "2023-10-31T02:17:54.706Z"
   },
   {
    "duration": 160829,
    "start_time": "2023-10-31T02:26:46.330Z"
   },
   {
    "duration": 162302,
    "start_time": "2023-10-31T02:30:12.880Z"
   },
   {
    "duration": 162036,
    "start_time": "2023-10-31T02:34:38.078Z"
   },
   {
    "duration": 163726,
    "start_time": "2023-10-31T02:37:30.278Z"
   },
   {
    "duration": 161298,
    "start_time": "2023-10-31T02:42:14.183Z"
   },
   {
    "duration": 162264,
    "start_time": "2023-10-31T02:48:12.960Z"
   },
   {
    "duration": 159806,
    "start_time": "2023-10-31T02:53:19.078Z"
   },
   {
    "duration": 1514,
    "start_time": "2023-10-31T02:57:22.508Z"
   },
   {
    "duration": 3,
    "start_time": "2023-10-31T02:57:24.024Z"
   },
   {
    "duration": 989,
    "start_time": "2023-10-31T02:57:24.029Z"
   },
   {
    "duration": 4,
    "start_time": "2023-10-31T02:57:25.020Z"
   },
   {
    "duration": 60,
    "start_time": "2023-10-31T02:57:25.026Z"
   },
   {
    "duration": 22,
    "start_time": "2023-10-31T02:57:25.088Z"
   },
   {
    "duration": 37,
    "start_time": "2023-10-31T02:57:25.111Z"
   },
   {
    "duration": 33,
    "start_time": "2023-10-31T02:57:25.150Z"
   },
   {
    "duration": 13,
    "start_time": "2023-10-31T02:57:25.185Z"
   },
   {
    "duration": 27,
    "start_time": "2023-10-31T02:57:25.201Z"
   },
   {
    "duration": 32,
    "start_time": "2023-10-31T02:57:25.229Z"
   },
   {
    "duration": 11,
    "start_time": "2023-10-31T02:57:25.263Z"
   },
   {
    "duration": 4,
    "start_time": "2023-10-31T02:57:25.275Z"
   },
   {
    "duration": 203,
    "start_time": "2023-10-31T02:57:25.281Z"
   },
   {
    "duration": 4,
    "start_time": "2023-10-31T02:57:25.486Z"
   },
   {
    "duration": 31,
    "start_time": "2023-10-31T02:57:25.491Z"
   },
   {
    "duration": 10,
    "start_time": "2023-10-31T02:57:25.524Z"
   },
   {
    "duration": 39,
    "start_time": "2023-10-31T02:57:25.535Z"
   },
   {
    "duration": 14,
    "start_time": "2023-10-31T02:57:25.576Z"
   },
   {
    "duration": 5,
    "start_time": "2023-10-31T02:57:25.591Z"
   },
   {
    "duration": 26,
    "start_time": "2023-10-31T02:57:25.597Z"
   },
   {
    "duration": 55,
    "start_time": "2023-10-31T02:57:25.624Z"
   },
   {
    "duration": 118,
    "start_time": "2023-10-31T02:57:25.681Z"
   },
   {
    "duration": 228,
    "start_time": "2023-10-31T02:57:25.801Z"
   },
   {
    "duration": 21,
    "start_time": "2023-10-31T02:57:26.032Z"
   },
   {
    "duration": 3,
    "start_time": "2023-10-31T02:57:26.060Z"
   },
   {
    "duration": 55,
    "start_time": "2023-10-31T02:57:26.065Z"
   },
   {
    "duration": 35,
    "start_time": "2023-10-31T02:57:26.123Z"
   },
   {
    "duration": 50,
    "start_time": "2023-10-31T02:57:26.159Z"
   },
   {
    "duration": 3,
    "start_time": "2023-10-31T02:57:26.210Z"
   },
   {
    "duration": 20,
    "start_time": "2023-10-31T02:57:26.215Z"
   },
   {
    "duration": 20,
    "start_time": "2023-10-31T02:57:26.237Z"
   },
   {
    "duration": 15,
    "start_time": "2023-10-31T02:57:26.259Z"
   },
   {
    "duration": 26,
    "start_time": "2023-10-31T02:57:26.276Z"
   },
   {
    "duration": 24,
    "start_time": "2023-10-31T02:57:26.304Z"
   },
   {
    "duration": 228,
    "start_time": "2023-10-31T02:57:26.330Z"
   },
   {
    "duration": 122,
    "start_time": "2023-10-31T02:57:26.559Z"
   },
   {
    "duration": 28,
    "start_time": "2023-10-31T02:57:26.682Z"
   },
   {
    "duration": 114,
    "start_time": "2023-10-31T02:57:26.712Z"
   },
   {
    "duration": 27,
    "start_time": "2023-10-31T02:57:26.829Z"
   },
   {
    "duration": 10,
    "start_time": "2023-10-31T02:57:26.859Z"
   },
   {
    "duration": 18,
    "start_time": "2023-10-31T02:57:26.870Z"
   },
   {
    "duration": 20,
    "start_time": "2023-10-31T02:57:26.890Z"
   },
   {
    "duration": 31,
    "start_time": "2023-10-31T02:57:26.911Z"
   },
   {
    "duration": 3665,
    "start_time": "2023-10-31T02:57:26.944Z"
   },
   {
    "duration": 38,
    "start_time": "2023-10-31T02:57:30.611Z"
   },
   {
    "duration": 14,
    "start_time": "2023-10-31T02:57:30.659Z"
   },
   {
    "duration": 36,
    "start_time": "2023-10-31T02:57:30.675Z"
   },
   {
    "duration": 53,
    "start_time": "2023-10-31T02:57:30.713Z"
   },
   {
    "duration": 217,
    "start_time": "2023-10-31T02:57:30.769Z"
   },
   {
    "duration": 6,
    "start_time": "2023-10-31T02:57:30.988Z"
   },
   {
    "duration": 511,
    "start_time": "2023-10-31T02:57:30.996Z"
   },
   {
    "duration": 5,
    "start_time": "2023-10-31T02:57:31.509Z"
   },
   {
    "duration": 160,
    "start_time": "2023-10-31T02:57:31.516Z"
   },
   {
    "duration": 0,
    "start_time": "2023-10-31T02:57:31.678Z"
   },
   {
    "duration": 0,
    "start_time": "2023-10-31T02:57:31.679Z"
   },
   {
    "duration": 0,
    "start_time": "2023-10-31T02:57:31.680Z"
   },
   {
    "duration": 0,
    "start_time": "2023-10-31T02:57:31.682Z"
   },
   {
    "duration": 0,
    "start_time": "2023-10-31T02:57:31.683Z"
   },
   {
    "duration": 0,
    "start_time": "2023-10-31T02:57:31.684Z"
   },
   {
    "duration": 0,
    "start_time": "2023-10-31T02:57:31.686Z"
   },
   {
    "duration": 0,
    "start_time": "2023-10-31T02:57:31.687Z"
   },
   {
    "duration": 0,
    "start_time": "2023-10-31T02:57:31.688Z"
   },
   {
    "duration": 0,
    "start_time": "2023-10-31T02:57:31.690Z"
   },
   {
    "duration": 0,
    "start_time": "2023-10-31T02:57:31.691Z"
   },
   {
    "duration": 0,
    "start_time": "2023-10-31T02:57:31.692Z"
   },
   {
    "duration": 0,
    "start_time": "2023-10-31T02:57:31.693Z"
   },
   {
    "duration": 5,
    "start_time": "2023-10-31T02:57:49.388Z"
   },
   {
    "duration": 21,
    "start_time": "2023-10-31T02:57:51.172Z"
   },
   {
    "duration": 5,
    "start_time": "2023-10-31T02:57:52.285Z"
   },
   {
    "duration": 54,
    "start_time": "2023-10-31T02:57:54.649Z"
   },
   {
    "duration": 5,
    "start_time": "2023-10-31T02:57:56.360Z"
   },
   {
    "duration": 27,
    "start_time": "2023-10-31T02:58:01.328Z"
   },
   {
    "duration": 5,
    "start_time": "2023-10-31T02:58:02.714Z"
   },
   {
    "duration": 36,
    "start_time": "2023-10-31T02:58:05.097Z"
   },
   {
    "duration": 5,
    "start_time": "2023-10-31T02:58:07.379Z"
   },
   {
    "duration": 2263,
    "start_time": "2023-10-31T02:58:15.801Z"
   },
   {
    "duration": 4474,
    "start_time": "2023-10-31T02:58:21.678Z"
   },
   {
    "duration": 3,
    "start_time": "2023-10-31T02:58:28.984Z"
   },
   {
    "duration": 162375,
    "start_time": "2023-10-31T02:58:37.266Z"
   },
   {
    "duration": 88974,
    "start_time": "2023-10-31T03:15:14.975Z"
   },
   {
    "duration": 160460,
    "start_time": "2023-10-31T03:16:49.318Z"
   },
   {
    "duration": 76252,
    "start_time": "2023-10-31T03:26:39.222Z"
   },
   {
    "duration": 0,
    "start_time": "2023-10-31T03:27:55.475Z"
   },
   {
    "duration": 421748,
    "start_time": "2023-10-31T03:28:19.769Z"
   },
   {
    "duration": 163103,
    "start_time": "2023-10-31T03:37:45.379Z"
   },
   {
    "duration": 1139,
    "start_time": "2023-10-31T03:43:16.016Z"
   },
   {
    "duration": 3065,
    "start_time": "2023-10-31T03:43:22.933Z"
   },
   {
    "duration": 3,
    "start_time": "2023-10-31T03:43:49.291Z"
   },
   {
    "duration": 3900,
    "start_time": "2023-10-31T03:47:29.486Z"
   },
   {
    "duration": 5,
    "start_time": "2023-10-31T03:47:56.661Z"
   },
   {
    "duration": 4,
    "start_time": "2023-10-31T03:48:36.680Z"
   },
   {
    "duration": 1170,
    "start_time": "2023-10-31T04:08:03.474Z"
   },
   {
    "duration": 11,
    "start_time": "2023-10-31T04:12:12.822Z"
   },
   {
    "duration": 7,
    "start_time": "2023-10-31T04:12:35.572Z"
   },
   {
    "duration": 36,
    "start_time": "2023-10-31T04:12:40.419Z"
   },
   {
    "duration": 34,
    "start_time": "2023-10-31T04:12:56.790Z"
   },
   {
    "duration": 26,
    "start_time": "2023-10-31T04:14:18.864Z"
   },
   {
    "duration": 23,
    "start_time": "2023-10-31T04:15:33.152Z"
   },
   {
    "duration": 24,
    "start_time": "2023-10-31T04:15:49.901Z"
   },
   {
    "duration": 153161,
    "start_time": "2023-10-31T04:20:25.162Z"
   },
   {
    "duration": 3,
    "start_time": "2023-10-31T04:23:21.338Z"
   },
   {
    "duration": 3,
    "start_time": "2023-10-31T04:24:02.150Z"
   },
   {
    "duration": 3,
    "start_time": "2023-10-31T04:24:24.172Z"
   },
   {
    "duration": 1451,
    "start_time": "2023-10-31T04:33:13.199Z"
   },
   {
    "duration": 3,
    "start_time": "2023-10-31T04:33:14.652Z"
   },
   {
    "duration": 913,
    "start_time": "2023-10-31T04:33:14.656Z"
   },
   {
    "duration": 4,
    "start_time": "2023-10-31T04:33:15.571Z"
   },
   {
    "duration": 23,
    "start_time": "2023-10-31T04:33:15.578Z"
   },
   {
    "duration": 20,
    "start_time": "2023-10-31T04:33:15.602Z"
   },
   {
    "duration": 40,
    "start_time": "2023-10-31T04:33:15.623Z"
   },
   {
    "duration": 27,
    "start_time": "2023-10-31T04:33:15.664Z"
   },
   {
    "duration": 15,
    "start_time": "2023-10-31T04:33:15.692Z"
   },
   {
    "duration": 40,
    "start_time": "2023-10-31T04:33:15.708Z"
   },
   {
    "duration": 27,
    "start_time": "2023-10-31T04:33:15.749Z"
   },
   {
    "duration": 12,
    "start_time": "2023-10-31T04:33:15.777Z"
   },
   {
    "duration": 4,
    "start_time": "2023-10-31T04:33:15.790Z"
   },
   {
    "duration": 201,
    "start_time": "2023-10-31T04:33:15.797Z"
   },
   {
    "duration": 5,
    "start_time": "2023-10-31T04:33:16.000Z"
   },
   {
    "duration": 19,
    "start_time": "2023-10-31T04:33:16.006Z"
   },
   {
    "duration": 7,
    "start_time": "2023-10-31T04:33:16.027Z"
   },
   {
    "duration": 21,
    "start_time": "2023-10-31T04:33:16.043Z"
   },
   {
    "duration": 17,
    "start_time": "2023-10-31T04:33:16.066Z"
   },
   {
    "duration": 6,
    "start_time": "2023-10-31T04:33:16.085Z"
   },
   {
    "duration": 10,
    "start_time": "2023-10-31T04:33:16.092Z"
   },
   {
    "duration": 55,
    "start_time": "2023-10-31T04:33:16.104Z"
   },
   {
    "duration": 114,
    "start_time": "2023-10-31T04:33:16.161Z"
   },
   {
    "duration": 227,
    "start_time": "2023-10-31T04:33:16.277Z"
   },
   {
    "duration": 10,
    "start_time": "2023-10-31T04:33:16.505Z"
   },
   {
    "duration": 3,
    "start_time": "2023-10-31T04:33:16.516Z"
   },
   {
    "duration": 43,
    "start_time": "2023-10-31T04:33:16.543Z"
   },
   {
    "duration": 21,
    "start_time": "2023-10-31T04:33:16.588Z"
   },
   {
    "duration": 71,
    "start_time": "2023-10-31T04:33:16.611Z"
   },
   {
    "duration": 3,
    "start_time": "2023-10-31T04:33:16.684Z"
   },
   {
    "duration": 11,
    "start_time": "2023-10-31T04:33:16.688Z"
   },
   {
    "duration": 6,
    "start_time": "2023-10-31T04:33:16.701Z"
   },
   {
    "duration": 5,
    "start_time": "2023-10-31T04:33:16.708Z"
   },
   {
    "duration": 6,
    "start_time": "2023-10-31T04:33:16.715Z"
   },
   {
    "duration": 22,
    "start_time": "2023-10-31T04:33:16.722Z"
   },
   {
    "duration": 204,
    "start_time": "2023-10-31T04:33:16.745Z"
   },
   {
    "duration": 132,
    "start_time": "2023-10-31T04:33:16.951Z"
   },
   {
    "duration": 23,
    "start_time": "2023-10-31T04:33:17.084Z"
   },
   {
    "duration": 102,
    "start_time": "2023-10-31T04:33:17.109Z"
   },
   {
    "duration": 11,
    "start_time": "2023-10-31T04:33:17.212Z"
   },
   {
    "duration": 23,
    "start_time": "2023-10-31T04:33:17.227Z"
   },
   {
    "duration": 28,
    "start_time": "2023-10-31T04:33:17.251Z"
   },
   {
    "duration": 8,
    "start_time": "2023-10-31T04:33:17.280Z"
   },
   {
    "duration": 13,
    "start_time": "2023-10-31T04:33:17.289Z"
   },
   {
    "duration": 3533,
    "start_time": "2023-10-31T04:33:17.304Z"
   },
   {
    "duration": 26,
    "start_time": "2023-10-31T04:33:20.844Z"
   },
   {
    "duration": 8,
    "start_time": "2023-10-31T04:33:20.871Z"
   },
   {
    "duration": 10,
    "start_time": "2023-10-31T04:33:20.881Z"
   },
   {
    "duration": 12,
    "start_time": "2023-10-31T04:33:20.892Z"
   },
   {
    "duration": 204,
    "start_time": "2023-10-31T04:33:20.905Z"
   },
   {
    "duration": 6,
    "start_time": "2023-10-31T04:33:21.110Z"
   },
   {
    "duration": 454,
    "start_time": "2023-10-31T04:33:21.117Z"
   },
   {
    "duration": 5,
    "start_time": "2023-10-31T04:33:21.572Z"
   },
   {
    "duration": 125,
    "start_time": "2023-10-31T04:33:21.579Z"
   },
   {
    "duration": 0,
    "start_time": "2023-10-31T04:33:21.706Z"
   },
   {
    "duration": 0,
    "start_time": "2023-10-31T04:33:21.707Z"
   },
   {
    "duration": 0,
    "start_time": "2023-10-31T04:33:21.709Z"
   },
   {
    "duration": 0,
    "start_time": "2023-10-31T04:33:21.710Z"
   },
   {
    "duration": 0,
    "start_time": "2023-10-31T04:33:21.711Z"
   },
   {
    "duration": 0,
    "start_time": "2023-10-31T04:33:21.713Z"
   },
   {
    "duration": 0,
    "start_time": "2023-10-31T04:33:21.714Z"
   },
   {
    "duration": 0,
    "start_time": "2023-10-31T04:33:21.715Z"
   },
   {
    "duration": 0,
    "start_time": "2023-10-31T04:33:21.716Z"
   },
   {
    "duration": 0,
    "start_time": "2023-10-31T04:33:21.717Z"
   },
   {
    "duration": 0,
    "start_time": "2023-10-31T04:33:21.718Z"
   },
   {
    "duration": 0,
    "start_time": "2023-10-31T04:33:21.719Z"
   },
   {
    "duration": 0,
    "start_time": "2023-10-31T04:33:21.720Z"
   },
   {
    "duration": 0,
    "start_time": "2023-10-31T04:33:21.743Z"
   },
   {
    "duration": 0,
    "start_time": "2023-10-31T04:33:21.745Z"
   },
   {
    "duration": 0,
    "start_time": "2023-10-31T04:33:21.746Z"
   },
   {
    "duration": 0,
    "start_time": "2023-10-31T04:33:21.747Z"
   },
   {
    "duration": 0,
    "start_time": "2023-10-31T04:33:21.748Z"
   },
   {
    "duration": 0,
    "start_time": "2023-10-31T04:33:21.750Z"
   },
   {
    "duration": 0,
    "start_time": "2023-10-31T04:33:21.752Z"
   },
   {
    "duration": 0,
    "start_time": "2023-10-31T04:33:21.753Z"
   },
   {
    "duration": 0,
    "start_time": "2023-10-31T04:33:21.755Z"
   },
   {
    "duration": 0,
    "start_time": "2023-10-31T04:33:21.757Z"
   },
   {
    "duration": 0,
    "start_time": "2023-10-31T04:33:21.758Z"
   },
   {
    "duration": 0,
    "start_time": "2023-10-31T04:33:21.759Z"
   },
   {
    "duration": 5,
    "start_time": "2023-10-31T04:33:52.178Z"
   },
   {
    "duration": 5,
    "start_time": "2023-10-31T04:33:56.942Z"
   },
   {
    "duration": 21,
    "start_time": "2023-10-31T04:33:57.530Z"
   },
   {
    "duration": 5,
    "start_time": "2023-10-31T04:33:58.430Z"
   },
   {
    "duration": 38,
    "start_time": "2023-10-31T04:33:59.362Z"
   },
   {
    "duration": 5,
    "start_time": "2023-10-31T04:33:59.849Z"
   },
   {
    "duration": 22,
    "start_time": "2023-10-31T04:34:02.458Z"
   },
   {
    "duration": 6,
    "start_time": "2023-10-31T04:34:03.538Z"
   },
   {
    "duration": 36,
    "start_time": "2023-10-31T04:34:03.962Z"
   },
   {
    "duration": 7,
    "start_time": "2023-10-31T04:34:04.762Z"
   },
   {
    "duration": 1667,
    "start_time": "2023-10-31T04:34:07.178Z"
   },
   {
    "duration": 2771,
    "start_time": "2023-10-31T04:34:16.278Z"
   },
   {
    "duration": 4,
    "start_time": "2023-10-31T04:34:20.813Z"
   },
   {
    "duration": 3,
    "start_time": "2023-10-31T04:34:27.117Z"
   },
   {
    "duration": 153942,
    "start_time": "2023-10-31T04:34:28.438Z"
   },
   {
    "duration": 391408,
    "start_time": "2023-10-31T04:37:23.529Z"
   },
   {
    "duration": 3,
    "start_time": "2023-10-31T04:44:02.589Z"
   },
   {
    "duration": 1107,
    "start_time": "2023-10-31T04:44:06.531Z"
   },
   {
    "duration": 2957,
    "start_time": "2023-10-31T04:44:11.058Z"
   },
   {
    "duration": 24,
    "start_time": "2023-10-31T04:44:19.453Z"
   },
   {
    "duration": 26,
    "start_time": "2023-10-31T04:44:20.425Z"
   },
   {
    "duration": 87,
    "start_time": "2023-10-31T17:20:19.667Z"
   },
   {
    "duration": 1640,
    "start_time": "2023-10-31T17:26:17.253Z"
   },
   {
    "duration": 3,
    "start_time": "2023-10-31T17:26:18.895Z"
   },
   {
    "duration": 2166,
    "start_time": "2023-10-31T17:26:18.900Z"
   },
   {
    "duration": 4,
    "start_time": "2023-10-31T17:26:21.068Z"
   },
   {
    "duration": 32,
    "start_time": "2023-10-31T17:26:21.074Z"
   },
   {
    "duration": 19,
    "start_time": "2023-10-31T17:26:21.107Z"
   },
   {
    "duration": 38,
    "start_time": "2023-10-31T17:26:21.128Z"
   },
   {
    "duration": 29,
    "start_time": "2023-10-31T17:26:21.168Z"
   },
   {
    "duration": 13,
    "start_time": "2023-10-31T17:26:21.199Z"
   },
   {
    "duration": 34,
    "start_time": "2023-10-31T17:26:21.213Z"
   },
   {
    "duration": 24,
    "start_time": "2023-10-31T17:26:21.248Z"
   },
   {
    "duration": 11,
    "start_time": "2023-10-31T17:26:21.273Z"
   },
   {
    "duration": 5,
    "start_time": "2023-10-31T17:26:21.285Z"
   },
   {
    "duration": 191,
    "start_time": "2023-10-31T17:26:21.292Z"
   },
   {
    "duration": 4,
    "start_time": "2023-10-31T17:26:21.484Z"
   },
   {
    "duration": 10,
    "start_time": "2023-10-31T17:26:21.489Z"
   },
   {
    "duration": 6,
    "start_time": "2023-10-31T17:26:21.501Z"
   },
   {
    "duration": 22,
    "start_time": "2023-10-31T17:26:21.509Z"
   },
   {
    "duration": 35,
    "start_time": "2023-10-31T17:26:21.532Z"
   },
   {
    "duration": 4,
    "start_time": "2023-10-31T17:26:21.568Z"
   },
   {
    "duration": 8,
    "start_time": "2023-10-31T17:26:21.574Z"
   },
   {
    "duration": 55,
    "start_time": "2023-10-31T17:26:21.583Z"
   },
   {
    "duration": 120,
    "start_time": "2023-10-31T17:26:21.640Z"
   },
   {
    "duration": 224,
    "start_time": "2023-10-31T17:26:21.761Z"
   },
   {
    "duration": 9,
    "start_time": "2023-10-31T17:26:21.986Z"
   },
   {
    "duration": 3,
    "start_time": "2023-10-31T17:26:21.996Z"
   },
   {
    "duration": 59,
    "start_time": "2023-10-31T17:26:22.001Z"
   },
   {
    "duration": 21,
    "start_time": "2023-10-31T17:26:22.062Z"
   },
   {
    "duration": 62,
    "start_time": "2023-10-31T17:26:22.085Z"
   },
   {
    "duration": 2,
    "start_time": "2023-10-31T17:26:22.149Z"
   },
   {
    "duration": 5,
    "start_time": "2023-10-31T17:26:22.152Z"
   },
   {
    "duration": 5,
    "start_time": "2023-10-31T17:26:22.158Z"
   },
   {
    "duration": 19,
    "start_time": "2023-10-31T17:26:22.164Z"
   },
   {
    "duration": 6,
    "start_time": "2023-10-31T17:26:22.184Z"
   },
   {
    "duration": 5,
    "start_time": "2023-10-31T17:26:22.192Z"
   },
   {
    "duration": 183,
    "start_time": "2023-10-31T17:26:22.199Z"
   },
   {
    "duration": 128,
    "start_time": "2023-10-31T17:26:22.383Z"
   },
   {
    "duration": 24,
    "start_time": "2023-10-31T17:26:22.512Z"
   },
   {
    "duration": 95,
    "start_time": "2023-10-31T17:26:22.538Z"
   },
   {
    "duration": 9,
    "start_time": "2023-10-31T17:26:22.635Z"
   },
   {
    "duration": 6,
    "start_time": "2023-10-31T17:26:22.648Z"
   },
   {
    "duration": 12,
    "start_time": "2023-10-31T17:26:22.655Z"
   },
   {
    "duration": 6,
    "start_time": "2023-10-31T17:26:22.668Z"
   },
   {
    "duration": 8,
    "start_time": "2023-10-31T17:26:22.676Z"
   },
   {
    "duration": 3805,
    "start_time": "2023-10-31T17:26:22.686Z"
   },
   {
    "duration": 36,
    "start_time": "2023-10-31T17:26:26.493Z"
   },
   {
    "duration": 3,
    "start_time": "2023-10-31T17:26:26.530Z"
   },
   {
    "duration": 19,
    "start_time": "2023-10-31T17:26:26.534Z"
   },
   {
    "duration": 12,
    "start_time": "2023-10-31T17:26:26.554Z"
   },
   {
    "duration": 188,
    "start_time": "2023-10-31T17:26:26.567Z"
   },
   {
    "duration": 6,
    "start_time": "2023-10-31T17:26:26.756Z"
   },
   {
    "duration": 452,
    "start_time": "2023-10-31T17:26:26.763Z"
   },
   {
    "duration": 8,
    "start_time": "2023-10-31T17:26:27.217Z"
   },
   {
    "duration": 6,
    "start_time": "2023-10-31T17:26:27.227Z"
   },
   {
    "duration": 24,
    "start_time": "2023-10-31T17:26:27.235Z"
   },
   {
    "duration": 11,
    "start_time": "2023-10-31T17:26:27.260Z"
   },
   {
    "duration": 54,
    "start_time": "2023-10-31T17:26:27.273Z"
   },
   {
    "duration": 6,
    "start_time": "2023-10-31T17:26:27.329Z"
   },
   {
    "duration": 26,
    "start_time": "2023-10-31T17:26:27.337Z"
   },
   {
    "duration": 15,
    "start_time": "2023-10-31T17:26:27.364Z"
   },
   {
    "duration": 49,
    "start_time": "2023-10-31T17:26:27.381Z"
   },
   {
    "duration": 7,
    "start_time": "2023-10-31T17:26:27.432Z"
   },
   {
    "duration": 1995,
    "start_time": "2023-10-31T17:26:27.441Z"
   },
   {
    "duration": 2989,
    "start_time": "2023-10-31T17:26:29.438Z"
   },
   {
    "duration": 4,
    "start_time": "2023-10-31T17:26:32.430Z"
   },
   {
    "duration": 53,
    "start_time": "2023-10-31T17:26:32.523Z"
   },
   {
    "duration": 29,
    "start_time": "2023-10-31T17:26:32.578Z"
   },
   {
    "duration": 73918,
    "start_time": "2023-10-31T17:26:32.609Z"
   },
   {
    "duration": 0,
    "start_time": "2023-10-31T17:27:46.529Z"
   },
   {
    "duration": 0,
    "start_time": "2023-10-31T17:27:46.531Z"
   },
   {
    "duration": 0,
    "start_time": "2023-10-31T17:27:46.533Z"
   },
   {
    "duration": 0,
    "start_time": "2023-10-31T17:27:46.533Z"
   },
   {
    "duration": 0,
    "start_time": "2023-10-31T17:27:46.534Z"
   },
   {
    "duration": 0,
    "start_time": "2023-10-31T17:27:46.535Z"
   },
   {
    "duration": 0,
    "start_time": "2023-10-31T17:27:46.536Z"
   },
   {
    "duration": 0,
    "start_time": "2023-10-31T17:27:46.537Z"
   },
   {
    "duration": 58171,
    "start_time": "2023-10-31T17:28:09.233Z"
   },
   {
    "duration": 84,
    "start_time": "2023-10-31T17:29:59.973Z"
   },
   {
    "duration": 106,
    "start_time": "2023-10-31T17:30:23.840Z"
   },
   {
    "duration": 2050,
    "start_time": "2023-10-31T17:30:28.320Z"
   },
   {
    "duration": 2196,
    "start_time": "2023-10-31T17:30:33.017Z"
   },
   {
    "duration": 0,
    "start_time": "2023-10-31T17:30:35.224Z"
   },
   {
    "duration": 1691,
    "start_time": "2023-10-31T17:30:38.997Z"
   },
   {
    "duration": 3,
    "start_time": "2023-10-31T17:30:40.691Z"
   },
   {
    "duration": 900,
    "start_time": "2023-10-31T17:30:40.696Z"
   },
   {
    "duration": 3,
    "start_time": "2023-10-31T17:30:41.599Z"
   },
   {
    "duration": 32,
    "start_time": "2023-10-31T17:30:41.604Z"
   },
   {
    "duration": 18,
    "start_time": "2023-10-31T17:30:41.637Z"
   },
   {
    "duration": 19,
    "start_time": "2023-10-31T17:30:41.657Z"
   },
   {
    "duration": 22,
    "start_time": "2023-10-31T17:30:41.678Z"
   },
   {
    "duration": 34,
    "start_time": "2023-10-31T17:30:41.702Z"
   },
   {
    "duration": 17,
    "start_time": "2023-10-31T17:30:41.740Z"
   },
   {
    "duration": 27,
    "start_time": "2023-10-31T17:30:41.759Z"
   },
   {
    "duration": 41,
    "start_time": "2023-10-31T17:30:41.789Z"
   },
   {
    "duration": 12,
    "start_time": "2023-10-31T17:30:41.831Z"
   },
   {
    "duration": 161,
    "start_time": "2023-10-31T17:30:41.844Z"
   },
   {
    "duration": 4,
    "start_time": "2023-10-31T17:30:42.006Z"
   },
   {
    "duration": 24,
    "start_time": "2023-10-31T17:30:42.012Z"
   },
   {
    "duration": 9,
    "start_time": "2023-10-31T17:30:42.037Z"
   },
   {
    "duration": 15,
    "start_time": "2023-10-31T17:30:42.047Z"
   },
   {
    "duration": 19,
    "start_time": "2023-10-31T17:30:42.064Z"
   },
   {
    "duration": 3,
    "start_time": "2023-10-31T17:30:42.085Z"
   },
   {
    "duration": 16,
    "start_time": "2023-10-31T17:30:42.089Z"
   },
   {
    "duration": 38,
    "start_time": "2023-10-31T17:30:42.106Z"
   },
   {
    "duration": 115,
    "start_time": "2023-10-31T17:30:42.146Z"
   },
   {
    "duration": 213,
    "start_time": "2023-10-31T17:30:42.262Z"
   },
   {
    "duration": 8,
    "start_time": "2023-10-31T17:30:42.476Z"
   },
   {
    "duration": 2,
    "start_time": "2023-10-31T17:30:42.486Z"
   },
   {
    "duration": 57,
    "start_time": "2023-10-31T17:30:42.489Z"
   },
   {
    "duration": 19,
    "start_time": "2023-10-31T17:30:42.549Z"
   },
   {
    "duration": 64,
    "start_time": "2023-10-31T17:30:42.570Z"
   },
   {
    "duration": 3,
    "start_time": "2023-10-31T17:30:42.635Z"
   },
   {
    "duration": 10,
    "start_time": "2023-10-31T17:30:42.639Z"
   },
   {
    "duration": 5,
    "start_time": "2023-10-31T17:30:42.650Z"
   },
   {
    "duration": 4,
    "start_time": "2023-10-31T17:30:42.656Z"
   },
   {
    "duration": 4,
    "start_time": "2023-10-31T17:30:42.661Z"
   },
   {
    "duration": 4,
    "start_time": "2023-10-31T17:30:42.667Z"
   },
   {
    "duration": 196,
    "start_time": "2023-10-31T17:30:42.672Z"
   },
   {
    "duration": 129,
    "start_time": "2023-10-31T17:30:42.870Z"
   },
   {
    "duration": 29,
    "start_time": "2023-10-31T17:30:43.001Z"
   },
   {
    "duration": 98,
    "start_time": "2023-10-31T17:30:43.032Z"
   },
   {
    "duration": 9,
    "start_time": "2023-10-31T17:30:43.132Z"
   },
   {
    "duration": 21,
    "start_time": "2023-10-31T17:30:43.143Z"
   },
   {
    "duration": 27,
    "start_time": "2023-10-31T17:30:43.166Z"
   },
   {
    "duration": 8,
    "start_time": "2023-10-31T17:30:43.195Z"
   },
   {
    "duration": 11,
    "start_time": "2023-10-31T17:30:43.204Z"
   },
   {
    "duration": 3513,
    "start_time": "2023-10-31T17:30:43.216Z"
   },
   {
    "duration": 25,
    "start_time": "2023-10-31T17:30:46.731Z"
   },
   {
    "duration": 3,
    "start_time": "2023-10-31T17:30:46.758Z"
   },
   {
    "duration": 14,
    "start_time": "2023-10-31T17:30:46.763Z"
   },
   {
    "duration": 7,
    "start_time": "2023-10-31T17:30:46.779Z"
   },
   {
    "duration": 204,
    "start_time": "2023-10-31T17:30:46.788Z"
   },
   {
    "duration": 5,
    "start_time": "2023-10-31T17:30:46.994Z"
   },
   {
    "duration": 446,
    "start_time": "2023-10-31T17:30:47.001Z"
   },
   {
    "duration": 6,
    "start_time": "2023-10-31T17:30:47.448Z"
   },
   {
    "duration": 18,
    "start_time": "2023-10-31T17:30:47.457Z"
   },
   {
    "duration": 38,
    "start_time": "2023-10-31T17:30:47.477Z"
   },
   {
    "duration": 35,
    "start_time": "2023-10-31T17:30:47.517Z"
   },
   {
    "duration": 38,
    "start_time": "2023-10-31T17:30:47.554Z"
   },
   {
    "duration": 11,
    "start_time": "2023-10-31T17:30:47.593Z"
   },
   {
    "duration": 30,
    "start_time": "2023-10-31T17:30:47.606Z"
   },
   {
    "duration": 55,
    "start_time": "2023-10-31T17:30:47.638Z"
   },
   {
    "duration": 52,
    "start_time": "2023-10-31T17:30:47.694Z"
   },
   {
    "duration": 22,
    "start_time": "2023-10-31T17:30:47.748Z"
   },
   {
    "duration": 2053,
    "start_time": "2023-10-31T17:30:47.772Z"
   },
   {
    "duration": 2899,
    "start_time": "2023-10-31T17:30:49.827Z"
   },
   {
    "duration": 4,
    "start_time": "2023-10-31T17:30:52.727Z"
   },
   {
    "duration": 4,
    "start_time": "2023-10-31T17:30:52.733Z"
   },
   {
    "duration": 18,
    "start_time": "2023-10-31T17:30:52.738Z"
   },
   {
    "duration": 57780,
    "start_time": "2023-10-31T17:30:52.758Z"
   },
   {
    "duration": 58044,
    "start_time": "2023-10-31T17:31:50.540Z"
   },
   {
    "duration": 7764,
    "start_time": "2023-10-31T17:32:48.586Z"
   },
   {
    "duration": 0,
    "start_time": "2023-10-31T17:32:56.352Z"
   },
   {
    "duration": 0,
    "start_time": "2023-10-31T17:32:56.354Z"
   },
   {
    "duration": 0,
    "start_time": "2023-10-31T17:32:56.355Z"
   },
   {
    "duration": 0,
    "start_time": "2023-10-31T17:32:56.356Z"
   },
   {
    "duration": 0,
    "start_time": "2023-10-31T17:32:56.357Z"
   },
   {
    "duration": 0,
    "start_time": "2023-10-31T17:32:56.358Z"
   },
   {
    "duration": 0,
    "start_time": "2023-10-31T17:32:56.359Z"
   },
   {
    "duration": 1579,
    "start_time": "2023-11-01T22:22:35.944Z"
   },
   {
    "duration": 3,
    "start_time": "2023-11-01T22:22:37.525Z"
   },
   {
    "duration": 3188,
    "start_time": "2023-11-01T22:22:37.529Z"
   },
   {
    "duration": 3,
    "start_time": "2023-11-01T22:22:40.719Z"
   },
   {
    "duration": 45,
    "start_time": "2023-11-01T22:22:40.724Z"
   },
   {
    "duration": 18,
    "start_time": "2023-11-01T22:22:40.770Z"
   },
   {
    "duration": 20,
    "start_time": "2023-11-01T22:22:40.790Z"
   },
   {
    "duration": 33,
    "start_time": "2023-11-01T22:22:40.812Z"
   },
   {
    "duration": 13,
    "start_time": "2023-11-01T22:22:40.847Z"
   },
   {
    "duration": 18,
    "start_time": "2023-11-01T22:22:40.862Z"
   },
   {
    "duration": 24,
    "start_time": "2023-11-01T22:22:40.881Z"
   },
   {
    "duration": 43,
    "start_time": "2023-11-01T22:22:40.907Z"
   },
   {
    "duration": 3,
    "start_time": "2023-11-01T22:22:40.952Z"
   },
   {
    "duration": 177,
    "start_time": "2023-11-01T22:22:40.958Z"
   },
   {
    "duration": 8,
    "start_time": "2023-11-01T22:22:41.137Z"
   },
   {
    "duration": 8,
    "start_time": "2023-11-01T22:22:41.146Z"
   },
   {
    "duration": 5,
    "start_time": "2023-11-01T22:22:41.156Z"
   },
   {
    "duration": 19,
    "start_time": "2023-11-01T22:22:41.163Z"
   },
   {
    "duration": 15,
    "start_time": "2023-11-01T22:22:41.185Z"
   },
   {
    "duration": 4,
    "start_time": "2023-11-01T22:22:41.202Z"
   },
   {
    "duration": 10,
    "start_time": "2023-11-01T22:22:41.208Z"
   },
   {
    "duration": 65,
    "start_time": "2023-11-01T22:22:41.219Z"
   },
   {
    "duration": 139,
    "start_time": "2023-11-01T22:22:41.286Z"
   },
   {
    "duration": 220,
    "start_time": "2023-11-01T22:22:41.427Z"
   },
   {
    "duration": 12,
    "start_time": "2023-11-01T22:22:41.649Z"
   },
   {
    "duration": 22,
    "start_time": "2023-11-01T22:22:41.663Z"
   },
   {
    "duration": 54,
    "start_time": "2023-11-01T22:22:41.686Z"
   },
   {
    "duration": 18,
    "start_time": "2023-11-01T22:22:41.742Z"
   },
   {
    "duration": 69,
    "start_time": "2023-11-01T22:22:41.762Z"
   },
   {
    "duration": 2,
    "start_time": "2023-11-01T22:22:41.833Z"
   },
   {
    "duration": 19,
    "start_time": "2023-11-01T22:22:41.836Z"
   },
   {
    "duration": 30,
    "start_time": "2023-11-01T22:22:41.856Z"
   },
   {
    "duration": 12,
    "start_time": "2023-11-01T22:22:41.887Z"
   },
   {
    "duration": 31,
    "start_time": "2023-11-01T22:22:41.901Z"
   },
   {
    "duration": 27,
    "start_time": "2023-11-01T22:22:41.934Z"
   },
   {
    "duration": 196,
    "start_time": "2023-11-01T22:22:41.963Z"
   },
   {
    "duration": 129,
    "start_time": "2023-11-01T22:22:42.161Z"
   },
   {
    "duration": 21,
    "start_time": "2023-11-01T22:22:42.291Z"
   },
   {
    "duration": 109,
    "start_time": "2023-11-01T22:22:42.313Z"
   },
   {
    "duration": 10,
    "start_time": "2023-11-01T22:22:42.424Z"
   },
   {
    "duration": 10,
    "start_time": "2023-11-01T22:22:42.448Z"
   },
   {
    "duration": 23,
    "start_time": "2023-11-01T22:22:42.460Z"
   },
   {
    "duration": 3,
    "start_time": "2023-11-01T22:22:42.486Z"
   },
   {
    "duration": 8,
    "start_time": "2023-11-01T22:22:42.491Z"
   },
   {
    "duration": 3613,
    "start_time": "2023-11-01T22:22:42.501Z"
   },
   {
    "duration": 36,
    "start_time": "2023-11-01T22:22:46.115Z"
   },
   {
    "duration": 2,
    "start_time": "2023-11-01T22:22:46.153Z"
   },
   {
    "duration": 64,
    "start_time": "2023-11-01T22:22:46.156Z"
   },
   {
    "duration": 19,
    "start_time": "2023-11-01T22:22:46.221Z"
   },
   {
    "duration": 202,
    "start_time": "2023-11-01T22:22:46.242Z"
   },
   {
    "duration": 5,
    "start_time": "2023-11-01T22:22:46.445Z"
   },
   {
    "duration": 417,
    "start_time": "2023-11-01T22:22:46.451Z"
   },
   {
    "duration": 4,
    "start_time": "2023-11-01T22:22:46.870Z"
   },
   {
    "duration": 20,
    "start_time": "2023-11-01T22:22:46.875Z"
   },
   {
    "duration": 31,
    "start_time": "2023-11-01T22:22:46.897Z"
   },
   {
    "duration": 31,
    "start_time": "2023-11-01T22:22:46.930Z"
   },
   {
    "duration": 74,
    "start_time": "2023-11-01T22:22:46.963Z"
   },
   {
    "duration": 12,
    "start_time": "2023-11-01T22:22:47.038Z"
   },
   {
    "duration": 49,
    "start_time": "2023-11-01T22:22:47.051Z"
   },
   {
    "duration": 40,
    "start_time": "2023-11-01T22:22:47.102Z"
   },
   {
    "duration": 55,
    "start_time": "2023-11-01T22:22:47.144Z"
   },
   {
    "duration": 20,
    "start_time": "2023-11-01T22:22:47.202Z"
   },
   {
    "duration": 1924,
    "start_time": "2023-11-01T22:22:47.224Z"
   },
   {
    "duration": 3202,
    "start_time": "2023-11-01T22:22:49.150Z"
   },
   {
    "duration": 93,
    "start_time": "2023-11-01T22:22:52.354Z"
   },
   {
    "duration": 147948,
    "start_time": "2023-11-01T22:26:53.274Z"
   },
   {
    "duration": 110,
    "start_time": "2023-11-01T22:38:07.088Z"
   },
   {
    "duration": 4,
    "start_time": "2023-11-01T22:41:05.368Z"
   },
   {
    "duration": 12,
    "start_time": "2023-11-01T22:41:47.443Z"
   },
   {
    "duration": 11,
    "start_time": "2023-11-01T22:42:34.304Z"
   },
   {
    "duration": 12,
    "start_time": "2023-11-01T22:47:02.541Z"
   },
   {
    "duration": 11,
    "start_time": "2023-11-01T22:48:45.830Z"
   },
   {
    "duration": 33,
    "start_time": "2023-11-01T22:51:01.583Z"
   },
   {
    "duration": 67979,
    "start_time": "2023-11-01T22:53:08.700Z"
   },
   {
    "duration": 10,
    "start_time": "2023-11-01T22:54:45.773Z"
   },
   {
    "duration": 4,
    "start_time": "2023-11-01T22:58:02.098Z"
   },
   {
    "duration": 4,
    "start_time": "2023-11-01T22:58:37.021Z"
   },
   {
    "duration": 4,
    "start_time": "2023-11-01T22:58:58.344Z"
   },
   {
    "duration": 4,
    "start_time": "2023-11-01T23:01:21.745Z"
   },
   {
    "duration": 4,
    "start_time": "2023-11-01T23:03:50.997Z"
   },
   {
    "duration": 66005,
    "start_time": "2023-11-01T23:04:01.069Z"
   },
   {
    "duration": 4,
    "start_time": "2023-11-01T23:05:58.460Z"
   },
   {
    "duration": 5,
    "start_time": "2023-11-01T23:06:01.829Z"
   },
   {
    "duration": 3,
    "start_time": "2023-11-01T23:06:03.121Z"
   },
   {
    "duration": 23,
    "start_time": "2023-11-01T23:06:23.138Z"
   },
   {
    "duration": 26,
    "start_time": "2023-11-01T23:06:25.129Z"
   },
   {
    "duration": 1586,
    "start_time": "2023-11-03T09:27:38.326Z"
   },
   {
    "duration": 2,
    "start_time": "2023-11-03T09:27:39.915Z"
   },
   {
    "duration": 2234,
    "start_time": "2023-11-03T09:27:39.919Z"
   },
   {
    "duration": 4,
    "start_time": "2023-11-03T09:27:42.154Z"
   },
   {
    "duration": 30,
    "start_time": "2023-11-03T09:27:42.160Z"
   },
   {
    "duration": 20,
    "start_time": "2023-11-03T09:27:42.191Z"
   },
   {
    "duration": 34,
    "start_time": "2023-11-03T09:27:42.212Z"
   },
   {
    "duration": 26,
    "start_time": "2023-11-03T09:27:42.253Z"
   },
   {
    "duration": 12,
    "start_time": "2023-11-03T09:27:42.280Z"
   },
   {
    "duration": 24,
    "start_time": "2023-11-03T09:27:42.294Z"
   },
   {
    "duration": 34,
    "start_time": "2023-11-03T09:27:42.319Z"
   },
   {
    "duration": 11,
    "start_time": "2023-11-03T09:27:42.354Z"
   },
   {
    "duration": 17,
    "start_time": "2023-11-03T09:27:42.366Z"
   },
   {
    "duration": 180,
    "start_time": "2023-11-03T09:27:42.387Z"
   },
   {
    "duration": 4,
    "start_time": "2023-11-03T09:27:42.569Z"
   },
   {
    "duration": 26,
    "start_time": "2023-11-03T09:27:42.575Z"
   },
   {
    "duration": 17,
    "start_time": "2023-11-03T09:27:42.603Z"
   },
   {
    "duration": 47,
    "start_time": "2023-11-03T09:27:42.622Z"
   },
   {
    "duration": 29,
    "start_time": "2023-11-03T09:27:42.671Z"
   },
   {
    "duration": 6,
    "start_time": "2023-11-03T09:27:42.703Z"
   },
   {
    "duration": 30,
    "start_time": "2023-11-03T09:27:42.710Z"
   },
   {
    "duration": 54,
    "start_time": "2023-11-03T09:27:42.742Z"
   },
   {
    "duration": 102,
    "start_time": "2023-11-03T09:27:42.798Z"
   },
   {
    "duration": 190,
    "start_time": "2023-11-03T09:27:42.902Z"
   },
   {
    "duration": 8,
    "start_time": "2023-11-03T09:27:43.094Z"
   },
   {
    "duration": 3,
    "start_time": "2023-11-03T09:27:43.104Z"
   },
   {
    "duration": 56,
    "start_time": "2023-11-03T09:27:43.108Z"
   },
   {
    "duration": 20,
    "start_time": "2023-11-03T09:27:43.166Z"
   },
   {
    "duration": 70,
    "start_time": "2023-11-03T09:27:43.188Z"
   },
   {
    "duration": 2,
    "start_time": "2023-11-03T09:27:43.260Z"
   },
   {
    "duration": 19,
    "start_time": "2023-11-03T09:27:43.264Z"
   },
   {
    "duration": 5,
    "start_time": "2023-11-03T09:27:43.285Z"
   },
   {
    "duration": 9,
    "start_time": "2023-11-03T09:27:43.291Z"
   },
   {
    "duration": 8,
    "start_time": "2023-11-03T09:27:43.301Z"
   },
   {
    "duration": 7,
    "start_time": "2023-11-03T09:27:43.310Z"
   },
   {
    "duration": 181,
    "start_time": "2023-11-03T09:27:43.318Z"
   },
   {
    "duration": 136,
    "start_time": "2023-11-03T09:27:43.501Z"
   },
   {
    "duration": 25,
    "start_time": "2023-11-03T09:27:43.639Z"
   },
   {
    "duration": 111,
    "start_time": "2023-11-03T09:27:43.665Z"
   },
   {
    "duration": 10,
    "start_time": "2023-11-03T09:27:43.777Z"
   },
   {
    "duration": 7,
    "start_time": "2023-11-03T09:27:43.790Z"
   },
   {
    "duration": 15,
    "start_time": "2023-11-03T09:27:43.798Z"
   },
   {
    "duration": 16,
    "start_time": "2023-11-03T09:27:43.814Z"
   },
   {
    "duration": 13,
    "start_time": "2023-11-03T09:27:43.831Z"
   },
   {
    "duration": 3244,
    "start_time": "2023-11-03T09:27:43.853Z"
   },
   {
    "duration": 22,
    "start_time": "2023-11-03T09:27:47.098Z"
   },
   {
    "duration": 7,
    "start_time": "2023-11-03T09:27:47.121Z"
   },
   {
    "duration": 46,
    "start_time": "2023-11-03T09:27:47.129Z"
   },
   {
    "duration": 17,
    "start_time": "2023-11-03T09:27:47.176Z"
   },
   {
    "duration": 204,
    "start_time": "2023-11-03T09:27:47.194Z"
   },
   {
    "duration": 5,
    "start_time": "2023-11-03T09:27:47.400Z"
   },
   {
    "duration": 453,
    "start_time": "2023-11-03T09:27:47.407Z"
   },
   {
    "duration": 3,
    "start_time": "2023-11-03T09:27:47.862Z"
   },
   {
    "duration": 13,
    "start_time": "2023-11-03T09:27:47.866Z"
   },
   {
    "duration": 30,
    "start_time": "2023-11-03T09:27:47.880Z"
   },
   {
    "duration": 43,
    "start_time": "2023-11-03T09:27:47.911Z"
   },
   {
    "duration": 43,
    "start_time": "2023-11-03T09:27:47.955Z"
   },
   {
    "duration": 26,
    "start_time": "2023-11-03T09:27:48.000Z"
   },
   {
    "duration": 34,
    "start_time": "2023-11-03T09:27:48.027Z"
   },
   {
    "duration": 44,
    "start_time": "2023-11-03T09:27:48.062Z"
   },
   {
    "duration": 47,
    "start_time": "2023-11-03T09:27:48.108Z"
   },
   {
    "duration": 8,
    "start_time": "2023-11-03T09:27:48.157Z"
   },
   {
    "duration": 2097,
    "start_time": "2023-11-03T09:27:48.167Z"
   },
   {
    "duration": 4694,
    "start_time": "2023-11-03T09:27:50.351Z"
   },
   {
    "duration": 6,
    "start_time": "2023-11-03T09:27:55.047Z"
   },
   {
    "duration": 91,
    "start_time": "2023-11-03T09:27:55.056Z"
   },
   {
    "duration": 12,
    "start_time": "2023-11-03T09:27:55.149Z"
   },
   {
    "duration": 371729,
    "start_time": "2023-11-03T09:30:44.065Z"
   },
   {
    "duration": 4,
    "start_time": "2023-11-03T09:37:05.657Z"
   },
   {
    "duration": 5,
    "start_time": "2023-11-03T09:37:10.635Z"
   },
   {
    "duration": 5,
    "start_time": "2023-11-03T09:37:12.469Z"
   },
   {
    "duration": 3,
    "start_time": "2023-11-03T09:49:54.925Z"
   },
   {
    "duration": 1761,
    "start_time": "2023-11-03T09:50:05.002Z"
   },
   {
    "duration": 6058,
    "start_time": "2023-11-03T09:50:11.490Z"
   },
   {
    "duration": 3,
    "start_time": "2023-11-03T09:56:41.031Z"
   },
   {
    "duration": 16681,
    "start_time": "2023-11-03T10:06:39.776Z"
   },
   {
    "duration": 0,
    "start_time": "2023-11-03T10:06:56.459Z"
   },
   {
    "duration": 2792359,
    "start_time": "2023-11-03T10:06:58.924Z"
   },
   {
    "duration": 85,
    "start_time": "2023-11-03T10:56:04.776Z"
   },
   {
    "duration": 9,
    "start_time": "2023-11-03T10:56:13.486Z"
   },
   {
    "duration": 26,
    "start_time": "2023-11-03T10:56:23.822Z"
   },
   {
    "duration": 20,
    "start_time": "2023-11-03T10:56:56.672Z"
   },
   {
    "duration": 20,
    "start_time": "2023-11-03T10:57:06.014Z"
   },
   {
    "duration": 26,
    "start_time": "2023-11-03T10:58:01.818Z"
   },
   {
    "duration": 19,
    "start_time": "2023-11-03T10:58:54.705Z"
   },
   {
    "duration": 13,
    "start_time": "2023-11-03T10:59:26.449Z"
   },
   {
    "duration": 15,
    "start_time": "2023-11-03T10:59:40.861Z"
   },
   {
    "duration": 32,
    "start_time": "2023-11-03T11:00:02.576Z"
   },
   {
    "duration": 6,
    "start_time": "2023-11-03T11:03:06.754Z"
   },
   {
    "duration": 88354,
    "start_time": "2023-11-03T11:03:24.726Z"
   },
   {
    "duration": 5,
    "start_time": "2023-11-03T11:09:32.159Z"
   },
   {
    "duration": 7,
    "start_time": "2023-11-03T11:09:34.439Z"
   },
   {
    "duration": 4,
    "start_time": "2023-11-03T11:09:38.953Z"
   },
   {
    "duration": 91920,
    "start_time": "2023-11-03T11:10:01.579Z"
   },
   {
    "duration": 5,
    "start_time": "2023-11-03T11:11:37.058Z"
   },
   {
    "duration": 4,
    "start_time": "2023-11-03T11:11:38.156Z"
   },
   {
    "duration": 4,
    "start_time": "2023-11-03T11:11:39.192Z"
   },
   {
    "duration": 19,
    "start_time": "2023-11-03T11:36:23.828Z"
   },
   {
    "duration": 4,
    "start_time": "2023-11-03T11:37:35.676Z"
   },
   {
    "duration": 110,
    "start_time": "2023-11-03T11:38:08.927Z"
   },
   {
    "duration": 4,
    "start_time": "2023-11-03T11:38:15.365Z"
   },
   {
    "duration": 5,
    "start_time": "2023-11-03T11:39:04.198Z"
   },
   {
    "duration": 388,
    "start_time": "2023-11-03T11:39:52.210Z"
   },
   {
    "duration": 4,
    "start_time": "2023-11-03T11:39:53.990Z"
   },
   {
    "duration": 4,
    "start_time": "2023-11-03T11:39:55.082Z"
   },
   {
    "duration": 353,
    "start_time": "2023-11-03T11:40:01.753Z"
   },
   {
    "duration": 3,
    "start_time": "2023-11-03T11:40:03.069Z"
   },
   {
    "duration": 9,
    "start_time": "2023-11-03T11:40:03.836Z"
   },
   {
    "duration": 62,
    "start_time": "2023-11-03T11:40:09.563Z"
   },
   {
    "duration": 3,
    "start_time": "2023-11-03T11:40:10.100Z"
   },
   {
    "duration": 5,
    "start_time": "2023-11-03T11:40:10.654Z"
   },
   {
    "duration": 198,
    "start_time": "2023-11-03T11:40:16.956Z"
   },
   {
    "duration": 4,
    "start_time": "2023-11-03T11:40:18.070Z"
   },
   {
    "duration": 18,
    "start_time": "2023-11-03T11:40:18.536Z"
   },
   {
    "duration": 241,
    "start_time": "2023-11-03T11:40:24.196Z"
   },
   {
    "duration": 4,
    "start_time": "2023-11-03T11:40:24.720Z"
   },
   {
    "duration": 6,
    "start_time": "2023-11-03T11:40:25.852Z"
   },
   {
    "duration": 22,
    "start_time": "2023-11-03T11:40:56.153Z"
   },
   {
    "duration": 26,
    "start_time": "2023-11-03T11:40:57.148Z"
   },
   {
    "duration": 58651,
    "start_time": "2023-11-03T11:42:46.788Z"
   },
   {
    "duration": 5,
    "start_time": "2023-11-03T11:43:49.568Z"
   },
   {
    "duration": 4,
    "start_time": "2023-11-03T11:43:51.273Z"
   },
   {
    "duration": 4,
    "start_time": "2023-11-03T11:43:53.561Z"
   },
   {
    "duration": 4,
    "start_time": "2023-11-03T11:43:56.665Z"
   },
   {
    "duration": 134623,
    "start_time": "2023-11-03T11:45:12.669Z"
   },
   {
    "duration": 5,
    "start_time": "2023-11-03T11:48:22.992Z"
   },
   {
    "duration": 4,
    "start_time": "2023-11-03T11:48:24.418Z"
   },
   {
    "duration": 3,
    "start_time": "2023-11-03T11:48:25.687Z"
   },
   {
    "duration": 9,
    "start_time": "2023-11-03T12:09:05.370Z"
   },
   {
    "duration": 12,
    "start_time": "2023-11-03T12:10:50.317Z"
   },
   {
    "duration": 10,
    "start_time": "2023-11-03T12:12:14.973Z"
   },
   {
    "duration": 38,
    "start_time": "2023-11-03T12:12:28.531Z"
   },
   {
    "duration": 62,
    "start_time": "2023-11-03T13:40:13.099Z"
   },
   {
    "duration": 3,
    "start_time": "2023-11-03T13:40:14.097Z"
   },
   {
    "duration": 5,
    "start_time": "2023-11-03T13:40:15.079Z"
   },
   {
    "duration": 3,
    "start_time": "2023-11-03T13:41:05.172Z"
   },
   {
    "duration": 4,
    "start_time": "2023-11-03T13:41:23.170Z"
   },
   {
    "duration": 61,
    "start_time": "2023-11-03T13:41:43.259Z"
   },
   {
    "duration": 20,
    "start_time": "2023-11-03T13:43:49.914Z"
   },
   {
    "duration": 4,
    "start_time": "2023-11-03T13:44:13.220Z"
   },
   {
    "duration": 60,
    "start_time": "2023-11-03T13:50:01.973Z"
   },
   {
    "duration": 64,
    "start_time": "2023-11-03T13:50:17.060Z"
   },
   {
    "duration": 5,
    "start_time": "2023-11-03T13:51:33.363Z"
   },
   {
    "duration": 41,
    "start_time": "2023-11-03T13:51:55.417Z"
   },
   {
    "duration": 32,
    "start_time": "2023-11-03T13:53:23.110Z"
   },
   {
    "duration": 81,
    "start_time": "2023-11-03T13:53:56.310Z"
   },
   {
    "duration": 74,
    "start_time": "2023-11-03T13:54:29.494Z"
   },
   {
    "duration": 19,
    "start_time": "2023-11-03T13:54:32.196Z"
   },
   {
    "duration": 9,
    "start_time": "2023-11-03T13:54:36.349Z"
   },
   {
    "duration": 315,
    "start_time": "2023-11-03T13:54:42.959Z"
   },
   {
    "duration": 72,
    "start_time": "2023-11-03T13:55:21.198Z"
   },
   {
    "duration": 62,
    "start_time": "2023-11-03T13:55:26.859Z"
   },
   {
    "duration": 9,
    "start_time": "2023-11-03T13:55:58.586Z"
   },
   {
    "duration": 5,
    "start_time": "2023-11-03T13:56:18.529Z"
   },
   {
    "duration": 73,
    "start_time": "2023-11-03T13:57:09.586Z"
   },
   {
    "duration": 28,
    "start_time": "2023-11-03T13:58:22.034Z"
   },
   {
    "duration": 16,
    "start_time": "2023-11-03T13:58:36.785Z"
   },
   {
    "duration": 10,
    "start_time": "2023-11-03T13:59:07.038Z"
   },
   {
    "duration": 5,
    "start_time": "2023-11-03T13:59:22.169Z"
   },
   {
    "duration": 241,
    "start_time": "2023-11-03T13:59:52.637Z"
   },
   {
    "duration": 4,
    "start_time": "2023-11-03T14:00:00.854Z"
   },
   {
    "duration": 23,
    "start_time": "2023-11-03T14:00:13.285Z"
   },
   {
    "duration": 232,
    "start_time": "2023-11-03T14:01:16.049Z"
   },
   {
    "duration": 258,
    "start_time": "2023-11-03T14:01:32.166Z"
   },
   {
    "duration": 7,
    "start_time": "2023-11-03T14:01:38.154Z"
   },
   {
    "duration": 65,
    "start_time": "2023-11-03T14:01:56.935Z"
   },
   {
    "duration": 60,
    "start_time": "2023-11-03T14:02:28.553Z"
   },
   {
    "duration": 82,
    "start_time": "2023-11-03T14:03:19.485Z"
   },
   {
    "duration": 93,
    "start_time": "2023-11-03T14:03:26.271Z"
   },
   {
    "duration": 69,
    "start_time": "2023-11-03T14:05:35.991Z"
   },
   {
    "duration": 63,
    "start_time": "2023-11-03T14:06:29.749Z"
   },
   {
    "duration": 26,
    "start_time": "2023-11-03T14:06:31.122Z"
   },
   {
    "duration": 6,
    "start_time": "2023-11-03T14:06:32.250Z"
   },
   {
    "duration": 17,
    "start_time": "2023-11-03T14:06:34.175Z"
   },
   {
    "duration": 5,
    "start_time": "2023-11-03T14:06:35.093Z"
   },
   {
    "duration": 330,
    "start_time": "2023-11-03T14:06:50.123Z"
   },
   {
    "duration": 85,
    "start_time": "2023-11-03T14:07:02.588Z"
   },
   {
    "duration": 1895,
    "start_time": "2023-11-03T14:12:58.221Z"
   },
   {
    "duration": 17,
    "start_time": "2023-11-03T14:19:13.780Z"
   },
   {
    "duration": 522752,
    "start_time": "2023-11-03T14:31:01.844Z"
   },
   {
    "duration": 111089,
    "start_time": "2023-11-03T14:39:48.066Z"
   },
   {
    "duration": 3,
    "start_time": "2023-11-03T14:48:52.623Z"
   },
   {
    "duration": 48891,
    "start_time": "2023-11-03T14:50:48.529Z"
   },
   {
    "duration": 8,
    "start_time": "2023-11-03T14:52:16.754Z"
   },
   {
    "duration": 8404,
    "start_time": "2023-11-03T14:54:15.217Z"
   },
   {
    "duration": 5040,
    "start_time": "2023-11-03T14:54:42.113Z"
   },
   {
    "duration": 20494,
    "start_time": "2023-11-03T14:54:53.773Z"
   },
   {
    "duration": 3,
    "start_time": "2023-11-03T14:55:53.968Z"
   },
   {
    "duration": 1438,
    "start_time": "2023-11-03T14:57:41.916Z"
   },
   {
    "duration": 2,
    "start_time": "2023-11-03T14:57:43.356Z"
   },
   {
    "duration": 689,
    "start_time": "2023-11-03T14:57:43.360Z"
   },
   {
    "duration": 4,
    "start_time": "2023-11-03T14:57:44.050Z"
   },
   {
    "duration": 26,
    "start_time": "2023-11-03T14:57:44.056Z"
   },
   {
    "duration": 16,
    "start_time": "2023-11-03T14:57:44.083Z"
   },
   {
    "duration": 19,
    "start_time": "2023-11-03T14:57:44.100Z"
   },
   {
    "duration": 36,
    "start_time": "2023-11-03T14:57:44.120Z"
   },
   {
    "duration": 21,
    "start_time": "2023-11-03T14:57:44.157Z"
   },
   {
    "duration": 27,
    "start_time": "2023-11-03T14:57:44.179Z"
   },
   {
    "duration": 23,
    "start_time": "2023-11-03T14:57:44.207Z"
   },
   {
    "duration": 15,
    "start_time": "2023-11-03T14:57:44.231Z"
   },
   {
    "duration": 3,
    "start_time": "2023-11-03T14:57:44.248Z"
   },
   {
    "duration": 156,
    "start_time": "2023-11-03T14:57:44.255Z"
   },
   {
    "duration": 4,
    "start_time": "2023-11-03T14:57:44.412Z"
   },
   {
    "duration": 20,
    "start_time": "2023-11-03T14:57:44.417Z"
   },
   {
    "duration": 15,
    "start_time": "2023-11-03T14:57:44.438Z"
   },
   {
    "duration": 15,
    "start_time": "2023-11-03T14:57:44.454Z"
   },
   {
    "duration": 14,
    "start_time": "2023-11-03T14:57:44.470Z"
   },
   {
    "duration": 4,
    "start_time": "2023-11-03T14:57:44.485Z"
   },
   {
    "duration": 21,
    "start_time": "2023-11-03T14:57:44.490Z"
   },
   {
    "duration": 65,
    "start_time": "2023-11-03T14:57:44.512Z"
   },
   {
    "duration": 99,
    "start_time": "2023-11-03T14:57:44.579Z"
   },
   {
    "duration": 192,
    "start_time": "2023-11-03T14:57:44.679Z"
   },
   {
    "duration": 7,
    "start_time": "2023-11-03T14:57:44.873Z"
   },
   {
    "duration": 2,
    "start_time": "2023-11-03T14:57:44.882Z"
   },
   {
    "duration": 54,
    "start_time": "2023-11-03T14:57:44.885Z"
   },
   {
    "duration": 18,
    "start_time": "2023-11-03T14:57:44.941Z"
   },
   {
    "duration": 50,
    "start_time": "2023-11-03T14:57:44.961Z"
   },
   {
    "duration": 15,
    "start_time": "2023-11-03T14:57:45.012Z"
   },
   {
    "duration": 56,
    "start_time": "2023-11-03T14:57:45.029Z"
   },
   {
    "duration": 27,
    "start_time": "2023-11-03T14:57:45.087Z"
   },
   {
    "duration": 27,
    "start_time": "2023-11-03T14:57:45.115Z"
   },
   {
    "duration": 9,
    "start_time": "2023-11-03T14:57:45.144Z"
   },
   {
    "duration": 13,
    "start_time": "2023-11-03T14:57:45.154Z"
   },
   {
    "duration": 176,
    "start_time": "2023-11-03T14:57:45.168Z"
   },
   {
    "duration": 129,
    "start_time": "2023-11-03T14:57:45.345Z"
   },
   {
    "duration": 20,
    "start_time": "2023-11-03T14:57:45.475Z"
   },
   {
    "duration": 98,
    "start_time": "2023-11-03T14:57:45.497Z"
   },
   {
    "duration": 10,
    "start_time": "2023-11-03T14:57:45.597Z"
   },
   {
    "duration": 6,
    "start_time": "2023-11-03T14:57:45.612Z"
   },
   {
    "duration": 24,
    "start_time": "2023-11-03T14:57:45.620Z"
   },
   {
    "duration": 2,
    "start_time": "2023-11-03T14:57:45.646Z"
   },
   {
    "duration": 23,
    "start_time": "2023-11-03T14:57:45.649Z"
   },
   {
    "duration": 3037,
    "start_time": "2023-11-03T14:57:45.673Z"
   },
   {
    "duration": 29,
    "start_time": "2023-11-03T14:57:48.712Z"
   },
   {
    "duration": 2,
    "start_time": "2023-11-03T14:57:48.743Z"
   },
   {
    "duration": 14,
    "start_time": "2023-11-03T14:57:48.746Z"
   },
   {
    "duration": 5,
    "start_time": "2023-11-03T14:57:48.762Z"
   },
   {
    "duration": 164,
    "start_time": "2023-11-03T14:57:48.768Z"
   },
   {
    "duration": 9,
    "start_time": "2023-11-03T14:57:48.933Z"
   },
   {
    "duration": 376,
    "start_time": "2023-11-03T14:57:48.943Z"
   },
   {
    "duration": 3,
    "start_time": "2023-11-03T14:57:49.321Z"
   },
   {
    "duration": 13,
    "start_time": "2023-11-03T14:57:49.326Z"
   },
   {
    "duration": 25,
    "start_time": "2023-11-03T14:57:49.341Z"
   },
   {
    "duration": 7,
    "start_time": "2023-11-03T14:57:49.368Z"
   },
   {
    "duration": 32,
    "start_time": "2023-11-03T14:57:49.376Z"
   },
   {
    "duration": 4,
    "start_time": "2023-11-03T14:57:49.410Z"
   },
   {
    "duration": 32,
    "start_time": "2023-11-03T14:57:49.416Z"
   },
   {
    "duration": 8,
    "start_time": "2023-11-03T14:57:49.450Z"
   },
   {
    "duration": 27,
    "start_time": "2023-11-03T14:57:49.460Z"
   },
   {
    "duration": 4,
    "start_time": "2023-11-03T14:57:49.489Z"
   },
   {
    "duration": 1046,
    "start_time": "2023-11-03T14:57:49.494Z"
   },
   {
    "duration": 2900,
    "start_time": "2023-11-03T14:57:50.541Z"
   },
   {
    "duration": 3,
    "start_time": "2023-11-03T14:57:53.443Z"
   },
   {
    "duration": 20397,
    "start_time": "2023-11-03T14:57:53.447Z"
   },
   {
    "duration": 48801,
    "start_time": "2023-11-03T14:58:13.845Z"
   },
   {
    "duration": 2,
    "start_time": "2023-11-03T14:59:49.044Z"
   },
   {
    "duration": 20415,
    "start_time": "2023-11-03T15:02:51.157Z"
   },
   {
    "duration": 77,
    "start_time": "2023-11-03T15:03:53.905Z"
   },
   {
    "duration": 106,
    "start_time": "2023-11-03T15:03:59.119Z"
   },
   {
    "duration": 78292,
    "start_time": "2023-11-03T15:04:11.438Z"
   },
   {
    "duration": 4896,
    "start_time": "2023-11-03T15:05:32.754Z"
   },
   {
    "duration": 59162,
    "start_time": "2023-11-03T15:05:41.570Z"
   },
   {
    "duration": 5,
    "start_time": "2023-11-03T15:06:47.262Z"
   },
   {
    "duration": 4,
    "start_time": "2023-11-03T15:06:48.732Z"
   },
   {
    "duration": 3,
    "start_time": "2023-11-03T15:06:51.034Z"
   },
   {
    "duration": 19,
    "start_time": "2023-11-03T15:28:33.114Z"
   },
   {
    "duration": 224,
    "start_time": "2023-11-03T15:28:44.915Z"
   },
   {
    "duration": 21,
    "start_time": "2023-11-03T15:28:53.805Z"
   },
   {
    "duration": 20,
    "start_time": "2023-11-03T15:29:09.801Z"
   },
   {
    "duration": 59033,
    "start_time": "2023-11-03T15:29:21.042Z"
   },
   {
    "duration": 57423,
    "start_time": "2023-11-03T15:59:07.595Z"
   },
   {
    "duration": 4,
    "start_time": "2023-11-03T16:02:25.929Z"
   },
   {
    "duration": 4,
    "start_time": "2023-11-03T16:02:27.341Z"
   },
   {
    "duration": 4,
    "start_time": "2023-11-03T16:02:28.921Z"
   },
   {
    "duration": 67,
    "start_time": "2023-11-03T16:02:53.419Z"
   },
   {
    "duration": 22333,
    "start_time": "2023-11-03T16:03:00.217Z"
   },
   {
    "duration": 71,
    "start_time": "2023-11-03T16:03:40.776Z"
   },
   {
    "duration": 22391,
    "start_time": "2023-11-03T16:03:50.356Z"
   },
   {
    "duration": 3,
    "start_time": "2023-11-03T16:06:20.261Z"
   },
   {
    "duration": 3,
    "start_time": "2023-11-03T16:06:22.212Z"
   },
   {
    "duration": 3,
    "start_time": "2023-11-03T16:06:23.972Z"
   },
   {
    "duration": 7,
    "start_time": "2023-11-03T16:07:55.817Z"
   },
   {
    "duration": 0,
    "start_time": "2023-11-03T16:08:14.384Z"
   },
   {
    "duration": 53052,
    "start_time": "2023-11-03T16:08:16.036Z"
   },
   {
    "duration": 4,
    "start_time": "2023-11-03T16:09:44.754Z"
   },
   {
    "duration": 53412,
    "start_time": "2023-11-03T16:13:44.805Z"
   },
   {
    "duration": 4,
    "start_time": "2023-11-03T16:16:01.277Z"
   },
   {
    "duration": 4,
    "start_time": "2023-11-03T16:16:03.410Z"
   },
   {
    "duration": 3,
    "start_time": "2023-11-03T16:16:05.765Z"
   },
   {
    "duration": 3,
    "start_time": "2023-11-03T16:17:49.580Z"
   },
   {
    "duration": 4,
    "start_time": "2023-11-03T16:18:16.463Z"
   },
   {
    "duration": 3,
    "start_time": "2023-11-03T16:18:29.566Z"
   },
   {
    "duration": 3,
    "start_time": "2023-11-03T16:19:05.036Z"
   },
   {
    "duration": 1686,
    "start_time": "2023-11-03T16:19:16.168Z"
   },
   {
    "duration": 2452,
    "start_time": "2023-11-03T16:19:25.188Z"
   },
   {
    "duration": 3,
    "start_time": "2023-11-03T16:20:41.745Z"
   },
   {
    "duration": 253,
    "start_time": "2023-11-03T16:21:57.376Z"
   },
   {
    "duration": 756,
    "start_time": "2023-11-03T16:22:00.985Z"
   },
   {
    "duration": 4,
    "start_time": "2023-11-03T16:22:10.294Z"
   },
   {
    "duration": 20,
    "start_time": "2023-11-03T16:22:19.451Z"
   },
   {
    "duration": 20,
    "start_time": "2023-11-03T16:22:20.735Z"
   },
   {
    "duration": 11,
    "start_time": "2023-11-03T16:24:52.569Z"
   },
   {
    "duration": 21,
    "start_time": "2023-11-03T16:24:58.730Z"
   },
   {
    "duration": 3,
    "start_time": "2023-11-03T16:25:01.826Z"
   },
   {
    "duration": 1553,
    "start_time": "2023-11-03T18:34:47.835Z"
   },
   {
    "duration": 2,
    "start_time": "2023-11-03T18:34:49.391Z"
   },
   {
    "duration": 2256,
    "start_time": "2023-11-03T18:34:49.395Z"
   },
   {
    "duration": 4,
    "start_time": "2023-11-03T18:34:51.652Z"
   },
   {
    "duration": 57,
    "start_time": "2023-11-03T18:34:51.658Z"
   },
   {
    "duration": 48,
    "start_time": "2023-11-03T18:34:51.716Z"
   },
   {
    "duration": 50,
    "start_time": "2023-11-03T18:34:51.765Z"
   },
   {
    "duration": 78,
    "start_time": "2023-11-03T18:34:51.816Z"
   },
   {
    "duration": 73,
    "start_time": "2023-11-03T18:34:51.895Z"
   },
   {
    "duration": 45,
    "start_time": "2023-11-03T18:34:51.969Z"
   },
   {
    "duration": 45,
    "start_time": "2023-11-03T18:34:52.016Z"
   },
   {
    "duration": 13,
    "start_time": "2023-11-03T18:34:52.063Z"
   },
   {
    "duration": 24,
    "start_time": "2023-11-03T18:34:52.078Z"
   },
   {
    "duration": 165,
    "start_time": "2023-11-03T18:34:52.105Z"
   },
   {
    "duration": 3,
    "start_time": "2023-11-03T18:34:52.271Z"
   },
   {
    "duration": 27,
    "start_time": "2023-11-03T18:34:52.276Z"
   },
   {
    "duration": 10,
    "start_time": "2023-11-03T18:34:52.305Z"
   },
   {
    "duration": 40,
    "start_time": "2023-11-03T18:34:52.316Z"
   },
   {
    "duration": 39,
    "start_time": "2023-11-03T18:34:52.357Z"
   },
   {
    "duration": 5,
    "start_time": "2023-11-03T18:34:52.397Z"
   },
   {
    "duration": 21,
    "start_time": "2023-11-03T18:34:52.403Z"
   },
   {
    "duration": 55,
    "start_time": "2023-11-03T18:34:52.426Z"
   },
   {
    "duration": 105,
    "start_time": "2023-11-03T18:34:52.483Z"
   },
   {
    "duration": 208,
    "start_time": "2023-11-03T18:34:52.589Z"
   },
   {
    "duration": 15,
    "start_time": "2023-11-03T18:34:52.798Z"
   },
   {
    "duration": 27,
    "start_time": "2023-11-03T18:34:52.814Z"
   },
   {
    "duration": 67,
    "start_time": "2023-11-03T18:34:52.843Z"
   },
   {
    "duration": 29,
    "start_time": "2023-11-03T18:34:52.911Z"
   },
   {
    "duration": 48,
    "start_time": "2023-11-03T18:34:52.942Z"
   },
   {
    "duration": 15,
    "start_time": "2023-11-03T18:34:52.991Z"
   },
   {
    "duration": 29,
    "start_time": "2023-11-03T18:34:53.008Z"
   },
   {
    "duration": 19,
    "start_time": "2023-11-03T18:34:53.038Z"
   },
   {
    "duration": 35,
    "start_time": "2023-11-03T18:34:53.059Z"
   },
   {
    "duration": 58,
    "start_time": "2023-11-03T18:34:53.095Z"
   },
   {
    "duration": 32,
    "start_time": "2023-11-03T18:34:53.154Z"
   },
   {
    "duration": 207,
    "start_time": "2023-11-03T18:34:53.188Z"
   },
   {
    "duration": 121,
    "start_time": "2023-11-03T18:34:53.396Z"
   },
   {
    "duration": 20,
    "start_time": "2023-11-03T18:34:53.518Z"
   },
   {
    "duration": 102,
    "start_time": "2023-11-03T18:34:53.539Z"
   },
   {
    "duration": 10,
    "start_time": "2023-11-03T18:34:53.642Z"
   },
   {
    "duration": 48,
    "start_time": "2023-11-03T18:34:53.656Z"
   },
   {
    "duration": 43,
    "start_time": "2023-11-03T18:34:53.706Z"
   },
   {
    "duration": 39,
    "start_time": "2023-11-03T18:34:53.750Z"
   },
   {
    "duration": 82,
    "start_time": "2023-11-03T18:34:53.790Z"
   },
   {
    "duration": 3482,
    "start_time": "2023-11-03T18:34:53.873Z"
   },
   {
    "duration": 22,
    "start_time": "2023-11-03T18:34:57.357Z"
   },
   {
    "duration": 3,
    "start_time": "2023-11-03T18:34:57.381Z"
   },
   {
    "duration": 37,
    "start_time": "2023-11-03T18:34:57.385Z"
   },
   {
    "duration": 13,
    "start_time": "2023-11-03T18:34:57.424Z"
   },
   {
    "duration": 176,
    "start_time": "2023-11-03T18:34:57.439Z"
   },
   {
    "duration": 7,
    "start_time": "2023-11-03T18:34:57.616Z"
   },
   {
    "duration": 418,
    "start_time": "2023-11-03T18:34:57.625Z"
   },
   {
    "duration": 3,
    "start_time": "2023-11-03T18:34:58.045Z"
   },
   {
    "duration": 14,
    "start_time": "2023-11-03T18:34:58.050Z"
   },
   {
    "duration": 28,
    "start_time": "2023-11-03T18:34:58.065Z"
   },
   {
    "duration": 16,
    "start_time": "2023-11-03T18:34:58.094Z"
   },
   {
    "duration": 37,
    "start_time": "2023-11-03T18:34:58.111Z"
   },
   {
    "duration": 5,
    "start_time": "2023-11-03T18:34:58.150Z"
   },
   {
    "duration": 20,
    "start_time": "2023-11-03T18:34:58.157Z"
   },
   {
    "duration": 22,
    "start_time": "2023-11-03T18:34:58.178Z"
   },
   {
    "duration": 41,
    "start_time": "2023-11-03T18:34:58.201Z"
   },
   {
    "duration": 5,
    "start_time": "2023-11-03T18:34:58.243Z"
   },
   {
    "duration": 1764,
    "start_time": "2023-11-03T18:34:58.250Z"
   },
   {
    "duration": 2921,
    "start_time": "2023-11-03T18:35:00.018Z"
   },
   {
    "duration": 0,
    "start_time": "2023-11-03T18:35:02.940Z"
   },
   {
    "duration": 0,
    "start_time": "2023-11-03T18:35:02.942Z"
   },
   {
    "duration": 0,
    "start_time": "2023-11-03T18:35:02.943Z"
   },
   {
    "duration": 0,
    "start_time": "2023-11-03T18:35:02.944Z"
   },
   {
    "duration": 0,
    "start_time": "2023-11-03T18:35:02.944Z"
   },
   {
    "duration": 0,
    "start_time": "2023-11-03T18:35:02.945Z"
   },
   {
    "duration": 0,
    "start_time": "2023-11-03T18:35:02.946Z"
   },
   {
    "duration": 0,
    "start_time": "2023-11-03T18:35:02.947Z"
   },
   {
    "duration": 0,
    "start_time": "2023-11-03T18:35:02.948Z"
   },
   {
    "duration": 0,
    "start_time": "2023-11-03T18:35:02.949Z"
   },
   {
    "duration": 0,
    "start_time": "2023-11-03T18:35:02.950Z"
   },
   {
    "duration": 0,
    "start_time": "2023-11-03T18:35:02.951Z"
   },
   {
    "duration": 0,
    "start_time": "2023-11-03T18:35:02.952Z"
   },
   {
    "duration": 0,
    "start_time": "2023-11-03T18:35:02.953Z"
   },
   {
    "duration": 0,
    "start_time": "2023-11-03T18:35:02.954Z"
   },
   {
    "duration": 0,
    "start_time": "2023-11-03T18:35:02.955Z"
   },
   {
    "duration": 0,
    "start_time": "2023-11-03T18:35:02.956Z"
   },
   {
    "duration": 0,
    "start_time": "2023-11-03T18:35:02.957Z"
   },
   {
    "duration": 0,
    "start_time": "2023-11-03T18:35:02.958Z"
   },
   {
    "duration": 0,
    "start_time": "2023-11-03T18:35:02.959Z"
   },
   {
    "duration": 0,
    "start_time": "2023-11-03T18:35:02.960Z"
   },
   {
    "duration": 2666,
    "start_time": "2023-11-03T18:35:30.642Z"
   },
   {
    "duration": 6,
    "start_time": "2023-11-03T18:35:35.165Z"
   },
   {
    "duration": 18013,
    "start_time": "2023-11-03T18:35:37.540Z"
   },
   {
    "duration": 41966,
    "start_time": "2023-11-03T18:35:56.867Z"
   },
   {
    "duration": 3,
    "start_time": "2023-11-03T18:36:43.884Z"
   },
   {
    "duration": 19602,
    "start_time": "2023-11-03T18:36:49.902Z"
   },
   {
    "duration": 5,
    "start_time": "2023-11-03T18:37:17.138Z"
   },
   {
    "duration": 4,
    "start_time": "2023-11-03T18:37:18.145Z"
   },
   {
    "duration": 4,
    "start_time": "2023-11-03T18:37:19.564Z"
   },
   {
    "duration": 45616,
    "start_time": "2023-11-03T18:37:22.193Z"
   },
   {
    "duration": 4,
    "start_time": "2023-11-03T18:38:18.561Z"
   },
   {
    "duration": 4,
    "start_time": "2023-11-03T18:38:19.361Z"
   },
   {
    "duration": 4,
    "start_time": "2023-11-03T18:38:20.231Z"
   },
   {
    "duration": 4,
    "start_time": "2023-11-03T18:38:22.712Z"
   },
   {
    "duration": 216,
    "start_time": "2023-11-03T18:38:28.593Z"
   },
   {
    "duration": 651,
    "start_time": "2023-11-03T18:38:36.450Z"
   },
   {
    "duration": 4,
    "start_time": "2023-11-03T18:38:53.841Z"
   },
   {
    "duration": 22,
    "start_time": "2023-11-03T18:39:03.080Z"
   },
   {
    "duration": 24,
    "start_time": "2023-11-03T18:39:04.046Z"
   },
   {
    "duration": 1132,
    "start_time": "2023-11-03T22:31:09.186Z"
   },
   {
    "duration": 2,
    "start_time": "2023-11-03T22:31:10.320Z"
   },
   {
    "duration": 2023,
    "start_time": "2023-11-03T22:31:10.323Z"
   },
   {
    "duration": 4,
    "start_time": "2023-11-03T22:31:12.347Z"
   },
   {
    "duration": 20,
    "start_time": "2023-11-03T22:31:12.352Z"
   },
   {
    "duration": 16,
    "start_time": "2023-11-03T22:31:12.373Z"
   },
   {
    "duration": 16,
    "start_time": "2023-11-03T22:31:12.390Z"
   },
   {
    "duration": 34,
    "start_time": "2023-11-03T22:31:12.407Z"
   },
   {
    "duration": 15,
    "start_time": "2023-11-03T22:31:12.442Z"
   },
   {
    "duration": 19,
    "start_time": "2023-11-03T22:31:12.459Z"
   },
   {
    "duration": 23,
    "start_time": "2023-11-03T22:31:12.480Z"
   },
   {
    "duration": 39,
    "start_time": "2023-11-03T22:31:12.505Z"
   },
   {
    "duration": 3,
    "start_time": "2023-11-03T22:31:12.546Z"
   },
   {
    "duration": 182,
    "start_time": "2023-11-03T22:31:12.552Z"
   },
   {
    "duration": 3,
    "start_time": "2023-11-03T22:31:12.739Z"
   },
   {
    "duration": 13,
    "start_time": "2023-11-03T22:31:12.743Z"
   },
   {
    "duration": 3,
    "start_time": "2023-11-03T22:31:12.758Z"
   },
   {
    "duration": 15,
    "start_time": "2023-11-03T22:31:12.762Z"
   },
   {
    "duration": 12,
    "start_time": "2023-11-03T22:31:12.778Z"
   },
   {
    "duration": 9,
    "start_time": "2023-11-03T22:31:12.792Z"
   },
   {
    "duration": 13,
    "start_time": "2023-11-03T22:31:12.802Z"
   },
   {
    "duration": 40,
    "start_time": "2023-11-03T22:31:12.816Z"
   },
   {
    "duration": 96,
    "start_time": "2023-11-03T22:31:12.857Z"
   },
   {
    "duration": 177,
    "start_time": "2023-11-03T22:31:12.954Z"
   },
   {
    "duration": 8,
    "start_time": "2023-11-03T22:31:13.139Z"
   },
   {
    "duration": 20,
    "start_time": "2023-11-03T22:31:13.149Z"
   },
   {
    "duration": 47,
    "start_time": "2023-11-03T22:31:13.170Z"
   },
   {
    "duration": 19,
    "start_time": "2023-11-03T22:31:13.218Z"
   },
   {
    "duration": 40,
    "start_time": "2023-11-03T22:31:13.239Z"
   },
   {
    "duration": 2,
    "start_time": "2023-11-03T22:31:13.280Z"
   },
   {
    "duration": 17,
    "start_time": "2023-11-03T22:31:13.283Z"
   },
   {
    "duration": 11,
    "start_time": "2023-11-03T22:31:13.301Z"
   },
   {
    "duration": 5,
    "start_time": "2023-11-03T22:31:13.313Z"
   },
   {
    "duration": 3,
    "start_time": "2023-11-03T22:31:13.319Z"
   },
   {
    "duration": 22,
    "start_time": "2023-11-03T22:31:13.324Z"
   },
   {
    "duration": 170,
    "start_time": "2023-11-03T22:31:13.347Z"
   },
   {
    "duration": 127,
    "start_time": "2023-11-03T22:31:13.518Z"
   },
   {
    "duration": 21,
    "start_time": "2023-11-03T22:31:13.646Z"
   },
   {
    "duration": 98,
    "start_time": "2023-11-03T22:31:13.669Z"
   },
   {
    "duration": 9,
    "start_time": "2023-11-03T22:31:13.768Z"
   },
   {
    "duration": 7,
    "start_time": "2023-11-03T22:31:13.781Z"
   },
   {
    "duration": 9,
    "start_time": "2023-11-03T22:31:13.789Z"
   },
   {
    "duration": 3,
    "start_time": "2023-11-03T22:31:13.799Z"
   },
   {
    "duration": 4,
    "start_time": "2023-11-03T22:31:13.803Z"
   },
   {
    "duration": 3023,
    "start_time": "2023-11-03T22:31:13.808Z"
   },
   {
    "duration": 22,
    "start_time": "2023-11-03T22:31:16.839Z"
   },
   {
    "duration": 2,
    "start_time": "2023-11-03T22:31:16.863Z"
   },
   {
    "duration": 13,
    "start_time": "2023-11-03T22:31:16.866Z"
   },
   {
    "duration": 7,
    "start_time": "2023-11-03T22:31:16.880Z"
   },
   {
    "duration": 180,
    "start_time": "2023-11-03T22:31:16.889Z"
   },
   {
    "duration": 4,
    "start_time": "2023-11-03T22:31:17.071Z"
   },
   {
    "duration": 306,
    "start_time": "2023-11-03T22:31:17.077Z"
   },
   {
    "duration": 3,
    "start_time": "2023-11-03T22:31:17.385Z"
   },
   {
    "duration": 5,
    "start_time": "2023-11-03T22:31:17.390Z"
   },
   {
    "duration": 23,
    "start_time": "2023-11-03T22:31:17.396Z"
   },
   {
    "duration": 20,
    "start_time": "2023-11-03T22:31:17.420Z"
   },
   {
    "duration": 32,
    "start_time": "2023-11-03T22:31:17.441Z"
   },
   {
    "duration": 4,
    "start_time": "2023-11-03T22:31:17.474Z"
   },
   {
    "duration": 19,
    "start_time": "2023-11-03T22:31:17.479Z"
   },
   {
    "duration": 9,
    "start_time": "2023-11-03T22:31:17.499Z"
   },
   {
    "duration": 112,
    "start_time": "2023-11-03T22:31:17.509Z"
   },
   {
    "duration": 4,
    "start_time": "2023-11-03T22:31:17.623Z"
   },
   {
    "duration": 1417,
    "start_time": "2023-11-03T22:31:17.628Z"
   },
   {
    "duration": 2805,
    "start_time": "2023-11-03T22:31:19.047Z"
   },
   {
    "duration": 3,
    "start_time": "2023-11-03T22:31:21.940Z"
   },
   {
    "duration": 27977,
    "start_time": "2023-11-03T22:31:21.945Z"
   },
   {
    "duration": 68151,
    "start_time": "2023-11-03T22:31:49.924Z"
   },
   {
    "duration": 3,
    "start_time": "2023-11-03T22:32:58.077Z"
   },
   {
    "duration": 14,
    "start_time": "2023-11-03T22:32:58.081Z"
   },
   {
    "duration": 5,
    "start_time": "2023-11-03T22:32:58.096Z"
   },
   {
    "duration": 30085,
    "start_time": "2023-11-03T22:32:58.102Z"
   },
   {
    "duration": 4,
    "start_time": "2023-11-03T22:33:28.188Z"
   },
   {
    "duration": 4,
    "start_time": "2023-11-03T22:33:28.194Z"
   },
   {
    "duration": 6,
    "start_time": "2023-11-03T22:33:28.200Z"
   },
   {
    "duration": 71638,
    "start_time": "2023-11-03T22:33:28.207Z"
   },
   {
    "duration": 4,
    "start_time": "2023-11-03T22:34:39.846Z"
   },
   {
    "duration": 4,
    "start_time": "2023-11-03T22:34:39.852Z"
   },
   {
    "duration": 8,
    "start_time": "2023-11-03T22:34:39.857Z"
   },
   {
    "duration": 18,
    "start_time": "2023-11-03T22:34:39.866Z"
   },
   {
    "duration": 325,
    "start_time": "2023-11-03T22:34:39.885Z"
   },
   {
    "duration": 972,
    "start_time": "2023-11-03T22:34:40.211Z"
   },
   {
    "duration": 3,
    "start_time": "2023-11-03T22:34:41.184Z"
   },
   {
    "duration": 22,
    "start_time": "2023-11-03T22:34:41.188Z"
   },
   {
    "duration": 42,
    "start_time": "2023-11-03T22:34:41.211Z"
   },
   {
    "duration": 3,
    "start_time": "2023-11-03T22:34:41.255Z"
   },
   {
    "duration": 1703,
    "start_time": "2023-11-04T07:11:13.276Z"
   },
   {
    "duration": 3,
    "start_time": "2023-11-04T07:11:14.981Z"
   },
   {
    "duration": 2278,
    "start_time": "2023-11-04T07:11:14.985Z"
   },
   {
    "duration": 4,
    "start_time": "2023-11-04T07:11:17.266Z"
   },
   {
    "duration": 32,
    "start_time": "2023-11-04T07:11:17.271Z"
   },
   {
    "duration": 21,
    "start_time": "2023-11-04T07:11:17.305Z"
   },
   {
    "duration": 29,
    "start_time": "2023-11-04T07:11:17.327Z"
   },
   {
    "duration": 19,
    "start_time": "2023-11-04T07:11:17.358Z"
   },
   {
    "duration": 15,
    "start_time": "2023-11-04T07:11:17.379Z"
   },
   {
    "duration": 19,
    "start_time": "2023-11-04T07:11:17.397Z"
   },
   {
    "duration": 55,
    "start_time": "2023-11-04T07:11:17.418Z"
   },
   {
    "duration": 13,
    "start_time": "2023-11-04T07:11:17.475Z"
   },
   {
    "duration": 4,
    "start_time": "2023-11-04T07:11:17.490Z"
   },
   {
    "duration": 220,
    "start_time": "2023-11-04T07:11:17.496Z"
   },
   {
    "duration": 5,
    "start_time": "2023-11-04T07:11:17.718Z"
   },
   {
    "duration": 23,
    "start_time": "2023-11-04T07:11:17.724Z"
   },
   {
    "duration": 5,
    "start_time": "2023-11-04T07:11:17.749Z"
   },
   {
    "duration": 37,
    "start_time": "2023-11-04T07:11:17.755Z"
   },
   {
    "duration": 21,
    "start_time": "2023-11-04T07:11:17.794Z"
   },
   {
    "duration": 34,
    "start_time": "2023-11-04T07:11:17.817Z"
   },
   {
    "duration": 39,
    "start_time": "2023-11-04T07:11:17.853Z"
   },
   {
    "duration": 79,
    "start_time": "2023-11-04T07:11:17.894Z"
   },
   {
    "duration": 121,
    "start_time": "2023-11-04T07:11:17.975Z"
   },
   {
    "duration": 237,
    "start_time": "2023-11-04T07:11:18.098Z"
   },
   {
    "duration": 15,
    "start_time": "2023-11-04T07:11:18.337Z"
   },
   {
    "duration": 18,
    "start_time": "2023-11-04T07:11:18.354Z"
   },
   {
    "duration": 73,
    "start_time": "2023-11-04T07:11:18.374Z"
   },
   {
    "duration": 22,
    "start_time": "2023-11-04T07:11:18.451Z"
   },
   {
    "duration": 74,
    "start_time": "2023-11-04T07:11:18.475Z"
   },
   {
    "duration": 8,
    "start_time": "2023-11-04T07:11:18.551Z"
   },
   {
    "duration": 24,
    "start_time": "2023-11-04T07:11:18.560Z"
   },
   {
    "duration": 26,
    "start_time": "2023-11-04T07:11:18.586Z"
   },
   {
    "duration": 29,
    "start_time": "2023-11-04T07:11:18.614Z"
   },
   {
    "duration": 50,
    "start_time": "2023-11-04T07:11:18.645Z"
   },
   {
    "duration": 36,
    "start_time": "2023-11-04T07:11:18.697Z"
   },
   {
    "duration": 227,
    "start_time": "2023-11-04T07:11:18.735Z"
   },
   {
    "duration": 143,
    "start_time": "2023-11-04T07:11:18.964Z"
   },
   {
    "duration": 22,
    "start_time": "2023-11-04T07:11:19.109Z"
   },
   {
    "duration": 100,
    "start_time": "2023-11-04T07:11:19.147Z"
   },
   {
    "duration": 11,
    "start_time": "2023-11-04T07:11:19.248Z"
   },
   {
    "duration": 38,
    "start_time": "2023-11-04T07:11:19.261Z"
   },
   {
    "duration": 51,
    "start_time": "2023-11-04T07:11:19.301Z"
   },
   {
    "duration": 44,
    "start_time": "2023-11-04T07:11:19.354Z"
   },
   {
    "duration": 34,
    "start_time": "2023-11-04T07:11:19.400Z"
   },
   {
    "duration": 3704,
    "start_time": "2023-11-04T07:11:19.436Z"
   },
   {
    "duration": 26,
    "start_time": "2023-11-04T07:11:23.142Z"
   },
   {
    "duration": 19,
    "start_time": "2023-11-04T07:11:23.170Z"
   },
   {
    "duration": 68,
    "start_time": "2023-11-04T07:11:23.191Z"
   },
   {
    "duration": 16,
    "start_time": "2023-11-04T07:11:23.261Z"
   },
   {
    "duration": 240,
    "start_time": "2023-11-04T07:11:23.278Z"
   },
   {
    "duration": 6,
    "start_time": "2023-11-04T07:11:23.520Z"
   },
   {
    "duration": 463,
    "start_time": "2023-11-04T07:11:23.528Z"
   },
   {
    "duration": 4,
    "start_time": "2023-11-04T07:11:23.993Z"
   },
   {
    "duration": 14,
    "start_time": "2023-11-04T07:11:23.998Z"
   },
   {
    "duration": 40,
    "start_time": "2023-11-04T07:11:24.014Z"
   },
   {
    "duration": 35,
    "start_time": "2023-11-04T07:11:24.055Z"
   },
   {
    "duration": 48,
    "start_time": "2023-11-04T07:11:24.092Z"
   },
   {
    "duration": 18,
    "start_time": "2023-11-04T07:11:24.142Z"
   },
   {
    "duration": 48,
    "start_time": "2023-11-04T07:11:24.161Z"
   },
   {
    "duration": 29,
    "start_time": "2023-11-04T07:11:24.210Z"
   },
   {
    "duration": 41,
    "start_time": "2023-11-04T07:11:24.240Z"
   },
   {
    "duration": 7,
    "start_time": "2023-11-04T07:11:24.283Z"
   },
   {
    "duration": 663,
    "start_time": "2023-11-04T07:11:24.293Z"
   },
   {
    "duration": 1604,
    "start_time": "2023-11-04T07:11:25.048Z"
   },
   {
    "duration": 906,
    "start_time": "2023-11-04T07:17:30.750Z"
   },
   {
    "duration": 1178,
    "start_time": "2023-11-04T07:17:38.079Z"
   },
   {
    "duration": 3,
    "start_time": "2023-11-04T07:17:43.589Z"
   },
   {
    "duration": 736,
    "start_time": "2023-11-04T07:18:05.810Z"
   },
   {
    "duration": 1804,
    "start_time": "2023-11-04T07:18:08.950Z"
   },
   {
    "duration": 3,
    "start_time": "2023-11-04T07:18:12.801Z"
   },
   {
    "duration": 19958,
    "start_time": "2023-11-04T07:18:38.853Z"
   },
   {
    "duration": 48743,
    "start_time": "2023-11-04T07:19:02.461Z"
   },
   {
    "duration": 4,
    "start_time": "2023-11-04T07:20:51.152Z"
   },
   {
    "duration": 22440,
    "start_time": "2023-11-04T07:21:31.513Z"
   },
   {
    "duration": 4,
    "start_time": "2023-11-04T07:21:57.142Z"
   },
   {
    "duration": 4,
    "start_time": "2023-11-04T07:21:57.800Z"
   },
   {
    "duration": 5,
    "start_time": "2023-11-04T07:21:58.692Z"
   },
   {
    "duration": 52392,
    "start_time": "2023-11-04T07:22:04.211Z"
   },
   {
    "duration": 5,
    "start_time": "2023-11-04T07:23:25.422Z"
   },
   {
    "duration": 4,
    "start_time": "2023-11-04T07:23:26.354Z"
   },
   {
    "duration": 4,
    "start_time": "2023-11-04T07:23:27.192Z"
   },
   {
    "duration": 3,
    "start_time": "2023-11-04T07:23:31.094Z"
   },
   {
    "duration": 20019,
    "start_time": "2023-11-04T07:25:02.869Z"
   },
   {
    "duration": 646,
    "start_time": "2023-11-04T07:26:22.410Z"
   },
   {
    "duration": 1234,
    "start_time": "2023-11-04T07:26:25.113Z"
   },
   {
    "duration": 3,
    "start_time": "2023-11-04T07:26:29.244Z"
   },
   {
    "duration": 20141,
    "start_time": "2023-11-04T07:26:32.257Z"
   },
   {
    "duration": 48135,
    "start_time": "2023-11-04T07:26:54.710Z"
   },
   {
    "duration": 4,
    "start_time": "2023-11-04T07:27:56.190Z"
   },
   {
    "duration": 4,
    "start_time": "2023-11-04T07:28:10.743Z"
   },
   {
    "duration": 4,
    "start_time": "2023-11-04T07:28:14.164Z"
   },
   {
    "duration": 4,
    "start_time": "2023-11-04T07:28:15.967Z"
   },
   {
    "duration": 20323,
    "start_time": "2023-11-04T07:34:56.117Z"
   },
   {
    "duration": 48543,
    "start_time": "2023-11-04T07:35:18.953Z"
   },
   {
    "duration": 4,
    "start_time": "2023-11-04T07:36:12.175Z"
   },
   {
    "duration": 1287,
    "start_time": "2023-11-04T07:58:56.477Z"
   },
   {
    "duration": 1309,
    "start_time": "2023-11-04T07:59:46.666Z"
   },
   {
    "duration": 504,
    "start_time": "2023-11-04T08:00:47.084Z"
   },
   {
    "duration": 20658,
    "start_time": "2023-11-04T08:11:00.085Z"
   },
   {
    "duration": 48587,
    "start_time": "2023-11-04T08:11:27.762Z"
   },
   {
    "duration": 126,
    "start_time": "2023-11-04T08:15:36.210Z"
   },
   {
    "duration": 123,
    "start_time": "2023-11-04T08:15:47.951Z"
   },
   {
    "duration": 26,
    "start_time": "2023-11-04T08:16:43.706Z"
   },
   {
    "duration": 125,
    "start_time": "2023-11-04T08:20:46.071Z"
   },
   {
    "duration": 28,
    "start_time": "2023-11-04T08:23:17.090Z"
   },
   {
    "duration": 342,
    "start_time": "2023-11-04T08:25:20.410Z"
   },
   {
    "duration": 4,
    "start_time": "2023-11-04T08:25:40.731Z"
   },
   {
    "duration": 344,
    "start_time": "2023-11-04T08:27:24.413Z"
   },
   {
    "duration": 4,
    "start_time": "2023-11-04T08:27:32.743Z"
   },
   {
    "duration": 19,
    "start_time": "2023-11-04T08:29:14.591Z"
   },
   {
    "duration": 21,
    "start_time": "2023-11-04T08:29:30.882Z"
   },
   {
    "duration": 21,
    "start_time": "2023-11-04T08:29:47.373Z"
   },
   {
    "duration": 4,
    "start_time": "2023-11-04T08:29:55.043Z"
   },
   {
    "duration": 1498,
    "start_time": "2023-11-04T08:34:50.572Z"
   },
   {
    "duration": 2,
    "start_time": "2023-11-04T08:34:52.073Z"
   },
   {
    "duration": 922,
    "start_time": "2023-11-04T08:34:52.077Z"
   },
   {
    "duration": 3,
    "start_time": "2023-11-04T08:34:53.001Z"
   },
   {
    "duration": 38,
    "start_time": "2023-11-04T08:34:53.006Z"
   },
   {
    "duration": 43,
    "start_time": "2023-11-04T08:34:53.046Z"
   },
   {
    "duration": 40,
    "start_time": "2023-11-04T08:34:53.091Z"
   },
   {
    "duration": 47,
    "start_time": "2023-11-04T08:34:53.133Z"
   },
   {
    "duration": 15,
    "start_time": "2023-11-04T08:34:53.181Z"
   },
   {
    "duration": 40,
    "start_time": "2023-11-04T08:34:53.198Z"
   },
   {
    "duration": 28,
    "start_time": "2023-11-04T08:34:53.240Z"
   },
   {
    "duration": 12,
    "start_time": "2023-11-04T08:34:53.269Z"
   },
   {
    "duration": 20,
    "start_time": "2023-11-04T08:34:53.282Z"
   },
   {
    "duration": 201,
    "start_time": "2023-11-04T08:34:53.304Z"
   },
   {
    "duration": 4,
    "start_time": "2023-11-04T08:34:53.507Z"
   },
   {
    "duration": 12,
    "start_time": "2023-11-04T08:34:53.513Z"
   },
   {
    "duration": 12,
    "start_time": "2023-11-04T08:34:53.527Z"
   },
   {
    "duration": 34,
    "start_time": "2023-11-04T08:34:53.540Z"
   },
   {
    "duration": 54,
    "start_time": "2023-11-04T08:34:53.575Z"
   },
   {
    "duration": 13,
    "start_time": "2023-11-04T08:34:53.631Z"
   },
   {
    "duration": 14,
    "start_time": "2023-11-04T08:34:53.645Z"
   },
   {
    "duration": 81,
    "start_time": "2023-11-04T08:34:53.661Z"
   },
   {
    "duration": 118,
    "start_time": "2023-11-04T08:34:53.744Z"
   },
   {
    "duration": 235,
    "start_time": "2023-11-04T08:34:53.864Z"
   },
   {
    "duration": 10,
    "start_time": "2023-11-04T08:34:54.102Z"
   },
   {
    "duration": 8,
    "start_time": "2023-11-04T08:34:54.114Z"
   },
   {
    "duration": 65,
    "start_time": "2023-11-04T08:34:54.124Z"
   },
   {
    "duration": 23,
    "start_time": "2023-11-04T08:34:54.195Z"
   },
   {
    "duration": 72,
    "start_time": "2023-11-04T08:34:54.219Z"
   },
   {
    "duration": 3,
    "start_time": "2023-11-04T08:34:54.293Z"
   },
   {
    "duration": 5,
    "start_time": "2023-11-04T08:34:54.298Z"
   },
   {
    "duration": 13,
    "start_time": "2023-11-04T08:34:54.305Z"
   },
   {
    "duration": 13,
    "start_time": "2023-11-04T08:34:54.320Z"
   },
   {
    "duration": 12,
    "start_time": "2023-11-04T08:34:54.334Z"
   },
   {
    "duration": 10,
    "start_time": "2023-11-04T08:34:54.348Z"
   },
   {
    "duration": 200,
    "start_time": "2023-11-04T08:34:54.360Z"
   },
   {
    "duration": 144,
    "start_time": "2023-11-04T08:34:54.563Z"
   },
   {
    "duration": 24,
    "start_time": "2023-11-04T08:34:54.709Z"
   },
   {
    "duration": 110,
    "start_time": "2023-11-04T08:34:54.746Z"
   },
   {
    "duration": 10,
    "start_time": "2023-11-04T08:34:54.858Z"
   },
   {
    "duration": 21,
    "start_time": "2023-11-04T08:34:54.869Z"
   },
   {
    "duration": 18,
    "start_time": "2023-11-04T08:34:54.892Z"
   },
   {
    "duration": 10,
    "start_time": "2023-11-04T08:34:54.911Z"
   },
   {
    "duration": 4,
    "start_time": "2023-11-04T08:34:54.923Z"
   },
   {
    "duration": 3729,
    "start_time": "2023-11-04T08:34:54.929Z"
   },
   {
    "duration": 26,
    "start_time": "2023-11-04T08:34:58.660Z"
   },
   {
    "duration": 3,
    "start_time": "2023-11-04T08:34:58.688Z"
   },
   {
    "duration": 26,
    "start_time": "2023-11-04T08:34:58.692Z"
   },
   {
    "duration": 13,
    "start_time": "2023-11-04T08:34:58.720Z"
   },
   {
    "duration": 203,
    "start_time": "2023-11-04T08:34:58.735Z"
   },
   {
    "duration": 12,
    "start_time": "2023-11-04T08:34:58.940Z"
   },
   {
    "duration": 467,
    "start_time": "2023-11-04T08:34:58.953Z"
   },
   {
    "duration": 4,
    "start_time": "2023-11-04T08:34:59.422Z"
   },
   {
    "duration": 20,
    "start_time": "2023-11-04T08:34:59.428Z"
   },
   {
    "duration": 28,
    "start_time": "2023-11-04T08:34:59.450Z"
   },
   {
    "duration": 19,
    "start_time": "2023-11-04T08:34:59.479Z"
   },
   {
    "duration": 46,
    "start_time": "2023-11-04T08:34:59.500Z"
   },
   {
    "duration": 5,
    "start_time": "2023-11-04T08:34:59.548Z"
   },
   {
    "duration": 21,
    "start_time": "2023-11-04T08:34:59.554Z"
   },
   {
    "duration": 7,
    "start_time": "2023-11-04T08:34:59.577Z"
   },
   {
    "duration": 61,
    "start_time": "2023-11-04T08:34:59.586Z"
   },
   {
    "duration": 5,
    "start_time": "2023-11-04T08:34:59.649Z"
   },
   {
    "duration": 891,
    "start_time": "2023-11-04T08:34:59.656Z"
   },
   {
    "duration": 1299,
    "start_time": "2023-11-04T08:35:00.549Z"
   },
   {
    "duration": 5,
    "start_time": "2023-11-04T08:35:01.850Z"
   },
   {
    "duration": 20200,
    "start_time": "2023-11-04T08:35:01.947Z"
   },
   {
    "duration": 48235,
    "start_time": "2023-11-04T08:35:22.148Z"
   },
   {
    "duration": 3,
    "start_time": "2023-11-04T08:36:10.386Z"
   },
   {
    "duration": 13,
    "start_time": "2023-11-04T08:36:10.392Z"
   },
   {
    "duration": 11,
    "start_time": "2023-11-04T08:36:10.407Z"
   },
   {
    "duration": 22523,
    "start_time": "2023-11-04T08:36:10.420Z"
   },
   {
    "duration": 4,
    "start_time": "2023-11-04T08:36:32.944Z"
   },
   {
    "duration": 20,
    "start_time": "2023-11-04T08:36:32.950Z"
   },
   {
    "duration": 12,
    "start_time": "2023-11-04T08:36:32.972Z"
   },
   {
    "duration": 52989,
    "start_time": "2023-11-04T08:36:32.985Z"
   },
   {
    "duration": 4,
    "start_time": "2023-11-04T08:37:25.975Z"
   },
   {
    "duration": 12,
    "start_time": "2023-11-04T08:37:25.981Z"
   },
   {
    "duration": 7,
    "start_time": "2023-11-04T08:37:25.994Z"
   },
   {
    "duration": 5,
    "start_time": "2023-11-04T08:37:26.002Z"
   },
   {
    "duration": 139,
    "start_time": "2023-11-04T08:37:26.008Z"
   },
   {
    "duration": 346,
    "start_time": "2023-11-04T08:37:26.148Z"
   },
   {
    "duration": 4,
    "start_time": "2023-11-04T08:37:26.499Z"
   },
   {
    "duration": 19,
    "start_time": "2023-11-04T08:37:26.505Z"
   },
   {
    "duration": 39,
    "start_time": "2023-11-04T08:37:26.526Z"
   },
   {
    "duration": 4,
    "start_time": "2023-11-04T08:37:26.567Z"
   },
   {
    "duration": 48,
    "start_time": "2023-11-04T15:26:24.019Z"
   },
   {
    "duration": 1721,
    "start_time": "2023-11-04T15:26:35.729Z"
   },
   {
    "duration": 3,
    "start_time": "2023-11-04T15:26:37.452Z"
   },
   {
    "duration": 2289,
    "start_time": "2023-11-04T15:26:37.456Z"
   },
   {
    "duration": 5,
    "start_time": "2023-11-04T15:26:39.747Z"
   },
   {
    "duration": 49,
    "start_time": "2023-11-04T15:26:39.755Z"
   },
   {
    "duration": 21,
    "start_time": "2023-11-04T15:26:39.806Z"
   },
   {
    "duration": 26,
    "start_time": "2023-11-04T15:26:39.829Z"
   },
   {
    "duration": 24,
    "start_time": "2023-11-04T15:26:39.857Z"
   },
   {
    "duration": 26,
    "start_time": "2023-11-04T15:26:39.883Z"
   },
   {
    "duration": 19,
    "start_time": "2023-11-04T15:26:39.911Z"
   },
   {
    "duration": 37,
    "start_time": "2023-11-04T15:26:39.932Z"
   },
   {
    "duration": 11,
    "start_time": "2023-11-04T15:26:39.971Z"
   },
   {
    "duration": 30,
    "start_time": "2023-11-04T15:26:39.985Z"
   },
   {
    "duration": 203,
    "start_time": "2023-11-04T15:26:40.020Z"
   },
   {
    "duration": 4,
    "start_time": "2023-11-04T15:26:40.225Z"
   },
   {
    "duration": 19,
    "start_time": "2023-11-04T15:26:40.231Z"
   },
   {
    "duration": 13,
    "start_time": "2023-11-04T15:26:40.252Z"
   },
   {
    "duration": 29,
    "start_time": "2023-11-04T15:26:40.267Z"
   },
   {
    "duration": 23,
    "start_time": "2023-11-04T15:26:40.298Z"
   },
   {
    "duration": 4,
    "start_time": "2023-11-04T15:26:40.323Z"
   },
   {
    "duration": 17,
    "start_time": "2023-11-04T15:26:40.330Z"
   },
   {
    "duration": 42,
    "start_time": "2023-11-04T15:26:40.350Z"
   },
   {
    "duration": 119,
    "start_time": "2023-11-04T15:26:40.394Z"
   },
   {
    "duration": 214,
    "start_time": "2023-11-04T15:26:40.515Z"
   },
   {
    "duration": 18,
    "start_time": "2023-11-04T15:26:40.731Z"
   },
   {
    "duration": 2,
    "start_time": "2023-11-04T15:26:40.750Z"
   },
   {
    "duration": 41,
    "start_time": "2023-11-04T15:26:40.754Z"
   },
   {
    "duration": 22,
    "start_time": "2023-11-04T15:26:40.796Z"
   },
   {
    "duration": 52,
    "start_time": "2023-11-04T15:26:40.843Z"
   },
   {
    "duration": 3,
    "start_time": "2023-11-04T15:26:40.897Z"
   },
   {
    "duration": 12,
    "start_time": "2023-11-04T15:26:40.902Z"
   },
   {
    "duration": 5,
    "start_time": "2023-11-04T15:26:40.915Z"
   },
   {
    "duration": 27,
    "start_time": "2023-11-04T15:26:40.921Z"
   },
   {
    "duration": 15,
    "start_time": "2023-11-04T15:26:40.950Z"
   },
   {
    "duration": 5,
    "start_time": "2023-11-04T15:26:40.966Z"
   },
   {
    "duration": 197,
    "start_time": "2023-11-04T15:26:40.973Z"
   },
   {
    "duration": 124,
    "start_time": "2023-11-04T15:26:41.171Z"
   },
   {
    "duration": 22,
    "start_time": "2023-11-04T15:26:41.297Z"
   },
   {
    "duration": 102,
    "start_time": "2023-11-04T15:26:41.320Z"
   },
   {
    "duration": 10,
    "start_time": "2023-11-04T15:26:41.423Z"
   },
   {
    "duration": 8,
    "start_time": "2023-11-04T15:26:41.443Z"
   },
   {
    "duration": 11,
    "start_time": "2023-11-04T15:26:41.453Z"
   },
   {
    "duration": 20,
    "start_time": "2023-11-04T15:26:41.465Z"
   },
   {
    "duration": 11,
    "start_time": "2023-11-04T15:26:41.486Z"
   },
   {
    "duration": 3860,
    "start_time": "2023-11-04T15:26:41.499Z"
   },
   {
    "duration": 27,
    "start_time": "2023-11-04T15:26:45.361Z"
   },
   {
    "duration": 3,
    "start_time": "2023-11-04T15:26:45.390Z"
   },
   {
    "duration": 8,
    "start_time": "2023-11-04T15:26:45.445Z"
   },
   {
    "duration": 7,
    "start_time": "2023-11-04T15:26:45.455Z"
   },
   {
    "duration": 219,
    "start_time": "2023-11-04T15:26:45.464Z"
   },
   {
    "duration": 6,
    "start_time": "2023-11-04T15:26:45.684Z"
   },
   {
    "duration": 452,
    "start_time": "2023-11-04T15:26:45.691Z"
   },
   {
    "duration": 4,
    "start_time": "2023-11-04T15:26:46.145Z"
   },
   {
    "duration": 8,
    "start_time": "2023-11-04T15:26:46.151Z"
   },
   {
    "duration": 29,
    "start_time": "2023-11-04T15:26:46.161Z"
   },
   {
    "duration": 14,
    "start_time": "2023-11-04T15:26:46.192Z"
   },
   {
    "duration": 64,
    "start_time": "2023-11-04T15:26:46.208Z"
   },
   {
    "duration": 9,
    "start_time": "2023-11-04T15:26:46.274Z"
   },
   {
    "duration": 32,
    "start_time": "2023-11-04T15:26:46.285Z"
   },
   {
    "duration": 26,
    "start_time": "2023-11-04T15:26:46.319Z"
   },
   {
    "duration": 44,
    "start_time": "2023-11-04T15:26:46.347Z"
   },
   {
    "duration": 20,
    "start_time": "2023-11-04T15:26:46.394Z"
   },
   {
    "duration": 939,
    "start_time": "2023-11-04T15:26:46.416Z"
   },
   {
    "duration": 1892,
    "start_time": "2023-11-04T15:26:47.358Z"
   },
   {
    "duration": 90,
    "start_time": "2023-11-04T15:26:49.255Z"
   },
   {
    "duration": 18540,
    "start_time": "2023-11-04T15:26:49.348Z"
   },
   {
    "duration": 45229,
    "start_time": "2023-11-04T15:27:07.890Z"
   },
   {
    "duration": 5,
    "start_time": "2023-11-04T15:27:53.121Z"
   },
   {
    "duration": 6,
    "start_time": "2023-11-04T15:27:53.128Z"
   },
   {
    "duration": 16,
    "start_time": "2023-11-04T15:27:53.136Z"
   },
   {
    "duration": 20139,
    "start_time": "2023-11-04T15:27:53.154Z"
   },
   {
    "duration": 3,
    "start_time": "2023-11-04T15:28:13.295Z"
   },
   {
    "duration": 16,
    "start_time": "2023-11-04T15:28:13.300Z"
   },
   {
    "duration": 25,
    "start_time": "2023-11-04T15:28:13.318Z"
   },
   {
    "duration": 47800,
    "start_time": "2023-11-04T15:28:13.344Z"
   },
   {
    "duration": 5,
    "start_time": "2023-11-04T15:29:01.146Z"
   },
   {
    "duration": 53,
    "start_time": "2023-11-04T15:29:01.153Z"
   },
   {
    "duration": 70,
    "start_time": "2023-11-04T15:29:01.207Z"
   },
   {
    "duration": 58,
    "start_time": "2023-11-04T15:29:01.279Z"
   },
   {
    "duration": 74,
    "start_time": "2023-11-04T15:29:17.179Z"
   },
   {
    "duration": 110,
    "start_time": "2023-11-04T15:32:45.362Z"
   },
   {
    "duration": 10,
    "start_time": "2023-11-04T15:33:00.759Z"
   },
   {
    "duration": 220,
    "start_time": "2023-11-04T15:36:45.809Z"
   },
   {
    "duration": 4,
    "start_time": "2023-11-04T15:37:04.083Z"
   },
   {
    "duration": 7,
    "start_time": "2023-11-04T15:42:28.043Z"
   },
   {
    "duration": 7,
    "start_time": "2023-11-04T15:43:32.354Z"
   },
   {
    "duration": 4,
    "start_time": "2023-11-04T15:43:41.951Z"
   },
   {
    "duration": 1474,
    "start_time": "2023-11-04T15:46:52.874Z"
   },
   {
    "duration": 3,
    "start_time": "2023-11-04T15:46:54.349Z"
   },
   {
    "duration": 903,
    "start_time": "2023-11-04T15:46:54.354Z"
   },
   {
    "duration": 3,
    "start_time": "2023-11-04T15:46:55.258Z"
   },
   {
    "duration": 48,
    "start_time": "2023-11-04T15:46:55.263Z"
   },
   {
    "duration": 27,
    "start_time": "2023-11-04T15:46:55.312Z"
   },
   {
    "duration": 18,
    "start_time": "2023-11-04T15:46:55.341Z"
   },
   {
    "duration": 20,
    "start_time": "2023-11-04T15:46:55.360Z"
   },
   {
    "duration": 13,
    "start_time": "2023-11-04T15:46:55.381Z"
   },
   {
    "duration": 28,
    "start_time": "2023-11-04T15:46:55.395Z"
   },
   {
    "duration": 37,
    "start_time": "2023-11-04T15:46:55.424Z"
   },
   {
    "duration": 11,
    "start_time": "2023-11-04T15:46:55.463Z"
   },
   {
    "duration": 24,
    "start_time": "2023-11-04T15:46:55.475Z"
   },
   {
    "duration": 175,
    "start_time": "2023-11-04T15:46:55.502Z"
   },
   {
    "duration": 4,
    "start_time": "2023-11-04T15:46:55.678Z"
   },
   {
    "duration": 23,
    "start_time": "2023-11-04T15:46:55.684Z"
   },
   {
    "duration": 33,
    "start_time": "2023-11-04T15:46:55.708Z"
   },
   {
    "duration": 22,
    "start_time": "2023-11-04T15:46:55.743Z"
   },
   {
    "duration": 26,
    "start_time": "2023-11-04T15:46:55.767Z"
   },
   {
    "duration": 6,
    "start_time": "2023-11-04T15:46:55.794Z"
   },
   {
    "duration": 22,
    "start_time": "2023-11-04T15:46:55.801Z"
   },
   {
    "duration": 67,
    "start_time": "2023-11-04T15:46:55.825Z"
   },
   {
    "duration": 107,
    "start_time": "2023-11-04T15:46:55.894Z"
   },
   {
    "duration": 233,
    "start_time": "2023-11-04T15:46:56.003Z"
   },
   {
    "duration": 13,
    "start_time": "2023-11-04T15:46:56.238Z"
   },
   {
    "duration": 10,
    "start_time": "2023-11-04T15:46:56.252Z"
   },
   {
    "duration": 56,
    "start_time": "2023-11-04T15:46:56.264Z"
   },
   {
    "duration": 40,
    "start_time": "2023-11-04T15:46:56.322Z"
   },
   {
    "duration": 58,
    "start_time": "2023-11-04T15:46:56.364Z"
   },
   {
    "duration": 3,
    "start_time": "2023-11-04T15:46:56.423Z"
   },
   {
    "duration": 3,
    "start_time": "2023-11-04T15:46:56.444Z"
   },
   {
    "duration": 16,
    "start_time": "2023-11-04T15:46:56.448Z"
   },
   {
    "duration": 13,
    "start_time": "2023-11-04T15:46:56.466Z"
   },
   {
    "duration": 15,
    "start_time": "2023-11-04T15:46:56.480Z"
   },
   {
    "duration": 10,
    "start_time": "2023-11-04T15:46:56.497Z"
   },
   {
    "duration": 195,
    "start_time": "2023-11-04T15:46:56.508Z"
   },
   {
    "duration": 121,
    "start_time": "2023-11-04T15:46:56.704Z"
   },
   {
    "duration": 30,
    "start_time": "2023-11-04T15:46:56.826Z"
   },
   {
    "duration": 96,
    "start_time": "2023-11-04T15:46:56.858Z"
   },
   {
    "duration": 11,
    "start_time": "2023-11-04T15:46:56.956Z"
   },
   {
    "duration": 21,
    "start_time": "2023-11-04T15:46:56.971Z"
   },
   {
    "duration": 13,
    "start_time": "2023-11-04T15:46:56.994Z"
   },
   {
    "duration": 16,
    "start_time": "2023-11-04T15:46:57.008Z"
   },
   {
    "duration": 35,
    "start_time": "2023-11-04T15:46:57.025Z"
   },
   {
    "duration": 3421,
    "start_time": "2023-11-04T15:46:57.062Z"
   },
   {
    "duration": 24,
    "start_time": "2023-11-04T15:47:00.485Z"
   },
   {
    "duration": 11,
    "start_time": "2023-11-04T15:47:00.511Z"
   },
   {
    "duration": 50,
    "start_time": "2023-11-04T15:47:00.523Z"
   },
   {
    "duration": 61,
    "start_time": "2023-11-04T15:47:00.574Z"
   },
   {
    "duration": 219,
    "start_time": "2023-11-04T15:47:00.636Z"
   },
   {
    "duration": 5,
    "start_time": "2023-11-04T15:47:00.857Z"
   },
   {
    "duration": 558,
    "start_time": "2023-11-04T15:47:00.864Z"
   },
   {
    "duration": 5,
    "start_time": "2023-11-04T15:47:01.423Z"
   },
   {
    "duration": 75,
    "start_time": "2023-11-04T15:47:01.429Z"
   },
   {
    "duration": 101,
    "start_time": "2023-11-04T15:47:01.506Z"
   },
   {
    "duration": 208,
    "start_time": "2023-11-04T15:47:01.608Z"
   },
   {
    "duration": 83,
    "start_time": "2023-11-04T15:47:01.818Z"
   },
   {
    "duration": 61,
    "start_time": "2023-11-04T15:47:01.903Z"
   },
   {
    "duration": 68,
    "start_time": "2023-11-04T15:47:01.966Z"
   },
   {
    "duration": 65,
    "start_time": "2023-11-04T15:47:02.035Z"
   },
   {
    "duration": 84,
    "start_time": "2023-11-04T15:47:02.101Z"
   },
   {
    "duration": 41,
    "start_time": "2023-11-04T15:47:02.187Z"
   },
   {
    "duration": 623,
    "start_time": "2023-11-04T15:47:02.230Z"
   },
   {
    "duration": 1299,
    "start_time": "2023-11-04T15:47:02.945Z"
   },
   {
    "duration": 4,
    "start_time": "2023-11-04T15:47:04.246Z"
   },
   {
    "duration": 18371,
    "start_time": "2023-11-04T15:47:04.252Z"
   },
   {
    "duration": 43633,
    "start_time": "2023-11-04T15:47:22.625Z"
   },
   {
    "duration": 4,
    "start_time": "2023-11-04T15:48:06.259Z"
   },
   {
    "duration": 19,
    "start_time": "2023-11-04T15:48:06.265Z"
   },
   {
    "duration": 23,
    "start_time": "2023-11-04T15:48:06.285Z"
   },
   {
    "duration": 20138,
    "start_time": "2023-11-04T15:48:06.309Z"
   },
   {
    "duration": 3,
    "start_time": "2023-11-04T15:48:26.449Z"
   },
   {
    "duration": 7,
    "start_time": "2023-11-04T15:48:26.453Z"
   },
   {
    "duration": 5,
    "start_time": "2023-11-04T15:48:26.462Z"
   },
   {
    "duration": 46858,
    "start_time": "2023-11-04T15:48:26.469Z"
   },
   {
    "duration": 4,
    "start_time": "2023-11-04T15:49:13.330Z"
   },
   {
    "duration": 3,
    "start_time": "2023-11-04T15:49:13.344Z"
   },
   {
    "duration": 4,
    "start_time": "2023-11-04T15:49:13.348Z"
   },
   {
    "duration": 4,
    "start_time": "2023-11-04T15:49:13.354Z"
   },
   {
    "duration": 85,
    "start_time": "2023-11-04T15:49:13.359Z"
   },
   {
    "duration": 230,
    "start_time": "2023-11-04T15:49:13.445Z"
   },
   {
    "duration": 4,
    "start_time": "2023-11-04T15:49:13.676Z"
   },
   {
    "duration": 16,
    "start_time": "2023-11-04T15:49:13.681Z"
   },
   {
    "duration": 8,
    "start_time": "2023-11-04T15:49:13.699Z"
   },
   {
    "duration": 4,
    "start_time": "2023-11-04T15:49:13.709Z"
   }
  ],
  "kernelspec": {
   "display_name": "Python 3 (ipykernel)",
   "language": "python",
   "name": "python3"
  },
  "language_info": {
   "codemirror_mode": {
    "name": "ipython",
    "version": 3
   },
   "file_extension": ".py",
   "mimetype": "text/x-python",
   "name": "python",
   "nbconvert_exporter": "python",
   "pygments_lexer": "ipython3",
   "version": "3.11.5"
  },
  "toc": {
   "base_numbering": 1,
   "nav_menu": {},
   "number_sections": true,
   "sideBar": true,
   "skip_h1_title": true,
   "title_cell": "Содержание",
   "title_sidebar": "Contents",
   "toc_cell": true,
   "toc_position": {
    "height": "calc(100% - 180px)",
    "left": "10px",
    "top": "150px",
    "width": "293.422px"
   },
   "toc_section_display": true,
   "toc_window_display": true
  }
 },
 "nbformat": 4,
 "nbformat_minor": 4
}
